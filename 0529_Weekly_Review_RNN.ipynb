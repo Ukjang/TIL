{
  "nbformat": 4,
  "nbformat_minor": 0,
  "metadata": {
    "colab": {
      "name": "0529 Weekly Review RNN.ipynb",
      "provenance": [],
      "collapsed_sections": []
    },
    "kernelspec": {
      "name": "python3",
      "display_name": "Python 3"
    },
    "language_info": {
      "name": "python"
    },
    "accelerator": "GPU"
  },
  "cells": [
    {
      "cell_type": "markdown",
      "source": [
        "Simple RNN (many-to-one 문제)\n",
        " - 사인파형 시계열을 입력으로 받아 다음 스텝의 출력을 예측\n",
        " - 3개의 순서열을 입력한 후 출력값이 target과 일치하게 만든다"
      ],
      "metadata": {
        "id": "Vcq4ZX6m2M-J"
      }
    },
    {
      "cell_type": "markdown",
      "source": [
        "- 스킵"
      ],
      "metadata": {
        "id": "RKFQsO3k4Onb"
      }
    },
    {
      "cell_type": "code",
      "source": [
        "import numpy as np\n",
        "import matplotlib.pyplot as plt\n",
        "import tensorflow as tf\n",
        "seed= 2022\n",
        "tf.random.set_seed(seed)\n",
        "np.random.seed(seed)"
      ],
      "metadata": {
        "id": "uqsyFWce4QBf"
      },
      "execution_count": 2,
      "outputs": []
    },
    {
      "cell_type": "code",
      "source": [
        "text = '''경마장에 있는 말이 뛰고 있다.\n",
        "그의 말이 법이다.\n",
        "가는 말이 고와야 오는 말이 곱다.'''"
      ],
      "metadata": {
        "id": "33t_f8to4Tw9"
      },
      "execution_count": 3,
      "outputs": []
    },
    {
      "cell_type": "markdown",
      "source": [
        "- 텍스트 전처리"
      ],
      "metadata": {
        "id": "5kzMrl7j7S9j"
      }
    },
    {
      "cell_type": "code",
      "source": [
        "from tensorflow.keras.preprocessing.text import Tokenizer\n",
        "from tensorflow.keras.preprocessing.sequence import pad_sequences\n",
        "from tensorflow.keras.utils import to_categorical"
      ],
      "metadata": {
        "id": "eQxxAWVo6dqk"
      },
      "execution_count": 6,
      "outputs": []
    },
    {
      "cell_type": "code",
      "source": [
        "# 단어 집합 생성\n",
        "t = Tokenizer()\n",
        "t.fit_on_texts([text])"
      ],
      "metadata": {
        "id": "Y6Ago0mZ7iw2"
      },
      "execution_count": 8,
      "outputs": []
    },
    {
      "cell_type": "code",
      "source": [
        "# 특징\n",
        "# 1. 가나다 순서가 아니라 많이 나온 순서\n",
        "# 2. 1에서 부터 시작함\n",
        "t.word_index"
      ],
      "metadata": {
        "colab": {
          "base_uri": "https://localhost:8080/"
        },
        "id": "m60tvg0E7rH9",
        "outputId": "b864c85f-5e07-45a2-8c5c-307c602d6c9f"
      },
      "execution_count": 11,
      "outputs": [
        {
          "output_type": "execute_result",
          "data": {
            "text/plain": [
              "{'가는': 8,\n",
              " '경마장에': 2,\n",
              " '고와야': 9,\n",
              " '곱다': 11,\n",
              " '그의': 6,\n",
              " '뛰고': 4,\n",
              " '말이': 1,\n",
              " '법이다': 7,\n",
              " '오는': 10,\n",
              " '있는': 3,\n",
              " '있다': 5}"
            ]
          },
          "metadata": {},
          "execution_count": 11
        }
      ]
    },
    {
      "cell_type": "code",
      "source": [
        "# 단어 집합 크기 -keras Tokenizer의 시작 인덱스가 1이기 때문에 1을 더해줘야 함\n",
        "vocab_size = len(t.word_index) + 1\n",
        "vocab_size"
      ],
      "metadata": {
        "colab": {
          "base_uri": "https://localhost:8080/"
        },
        "id": "TgXM-68S7vyJ",
        "outputId": "003cdc29-35e7-47d3-c447-542b910ae221"
      },
      "execution_count": 12,
      "outputs": [
        {
          "output_type": "execute_result",
          "data": {
            "text/plain": [
              "12"
            ]
          },
          "metadata": {},
          "execution_count": 12
        }
      ]
    },
    {
      "cell_type": "code",
      "source": [
        "t.texts_to_sequences(['그의 말이 법이다'])"
      ],
      "metadata": {
        "colab": {
          "base_uri": "https://localhost:8080/"
        },
        "id": "Nu84MWPD8Ks3",
        "outputId": "8939f54a-d0dd-4c4c-a3e0-760e8f6fedf9"
      },
      "execution_count": 13,
      "outputs": [
        {
          "output_type": "execute_result",
          "data": {
            "text/plain": [
              "[[6, 1, 7]]"
            ]
          },
          "metadata": {},
          "execution_count": 13
        }
      ]
    },
    {
      "cell_type": "code",
      "source": [
        "# corpus를 encoding 한 결과\n",
        "for line in text.split('\\n'):\n",
        "    encoded = t.texts_to_sequences([line])[0]\n",
        "    print(encoded)"
      ],
      "metadata": {
        "colab": {
          "base_uri": "https://localhost:8080/"
        },
        "id": "xS5F0xmM8OEY",
        "outputId": "1c874fe2-ec6e-42a8-d5d8-e3460f526d46"
      },
      "execution_count": 14,
      "outputs": [
        {
          "output_type": "stream",
          "name": "stdout",
          "text": [
            "[2, 3, 1, 4, 5]\n",
            "[6, 1, 7]\n",
            "[8, 1, 9, 10, 1, 11]\n"
          ]
        }
      ]
    },
    {
      "cell_type": "code",
      "source": [
        "t.texts_to_sequences([text])"
      ],
      "metadata": {
        "colab": {
          "base_uri": "https://localhost:8080/"
        },
        "id": "vE8WSI6u8Z3b",
        "outputId": "cc0f6b96-4f44-425d-c25e-857d0a80eda3"
      },
      "execution_count": 15,
      "outputs": [
        {
          "output_type": "execute_result",
          "data": {
            "text/plain": [
              "[[2, 3, 1, 4, 5, 6, 1, 7, 8, 1, 9, 10, 1, 11]]"
            ]
          },
          "metadata": {},
          "execution_count": 15
        }
      ]
    },
    {
      "cell_type": "code",
      "source": [
        "sequences = []\n",
        "for line in text.split('\\n'):\n",
        "    encoded = t.texts_to_sequences([line])[0]\n",
        "    for i in range(1, len(encoded)):\n",
        "        sequences.append(encoded[:i+1])\n",
        "sequences"
      ],
      "metadata": {
        "colab": {
          "base_uri": "https://localhost:8080/"
        },
        "id": "JarValgM8eBt",
        "outputId": "c8b6bcf5-c35f-44b7-afe5-c120be0422f5"
      },
      "execution_count": 20,
      "outputs": [
        {
          "output_type": "execute_result",
          "data": {
            "text/plain": [
              "[[2, 3],\n",
              " [2, 3, 1],\n",
              " [2, 3, 1, 4],\n",
              " [2, 3, 1, 4, 5],\n",
              " [6, 1],\n",
              " [6, 1, 7],\n",
              " [8, 1],\n",
              " [8, 1, 9],\n",
              " [8, 1, 9, 10],\n",
              " [8, 1, 9, 10, 1],\n",
              " [8, 1, 9, 10, 1, 11]]"
            ]
          },
          "metadata": {},
          "execution_count": 20
        }
      ]
    },
    {
      "cell_type": "code",
      "source": [
        "max_len = max(len(seq) for seq in sequences)\n",
        "max_len"
      ],
      "metadata": {
        "colab": {
          "base_uri": "https://localhost:8080/"
        },
        "id": "3XTvHoSA8vyP",
        "outputId": "cfd09b53-ce52-4d51-946e-bf3457ccb88f"
      },
      "execution_count": 21,
      "outputs": [
        {
          "output_type": "execute_result",
          "data": {
            "text/plain": [
              "6"
            ]
          },
          "metadata": {},
          "execution_count": 21
        }
      ]
    },
    {
      "cell_type": "markdown",
      "source": [
        "- Padding\n",
        " - 전체 샘플 길이를 max_len에 맞추도록 0을 추가\n",
        " - 압쪽을 채우는 pre 옵션이 디폴트"
      ],
      "metadata": {
        "id": "NMDyCgTI9OnF"
      }
    },
    {
      "cell_type": "code",
      "source": [
        "sequences = pad_sequences(sequences, maxlen=max_len, padding='pre')\n",
        "sequences[:5]"
      ],
      "metadata": {
        "colab": {
          "base_uri": "https://localhost:8080/"
        },
        "id": "Vc3mIEZU9VCA",
        "outputId": "71018f52-b3a0-43d1-8fd1-f19b480e87f2"
      },
      "execution_count": 22,
      "outputs": [
        {
          "output_type": "execute_result",
          "data": {
            "text/plain": [
              "array([[0, 0, 0, 0, 2, 3],\n",
              "       [0, 0, 0, 2, 3, 1],\n",
              "       [0, 0, 2, 3, 1, 4],\n",
              "       [0, 2, 3, 1, 4, 5],\n",
              "       [0, 0, 0, 0, 6, 1]], dtype=int32)"
            ]
          },
          "metadata": {},
          "execution_count": 22
        }
      ]
    },
    {
      "cell_type": "code",
      "source": [
        "X = sequences[:, :-1]\n",
        "y = sequences[:, -1]\n",
        "X.shape, y.shape"
      ],
      "metadata": {
        "colab": {
          "base_uri": "https://localhost:8080/"
        },
        "id": "HiEs96by9anD",
        "outputId": "ce0daebf-8faa-41f1-af1a-79f08bdbe0af"
      },
      "execution_count": 23,
      "outputs": [
        {
          "output_type": "execute_result",
          "data": {
            "text/plain": [
              "((11, 5), (11,))"
            ]
          },
          "metadata": {},
          "execution_count": 23
        }
      ]
    },
    {
      "cell_type": "code",
      "source": [
        "Y = to_categorical(y)\n",
        "Y.shape"
      ],
      "metadata": {
        "colab": {
          "base_uri": "https://localhost:8080/"
        },
        "id": "SfuwMKTn9ikJ",
        "outputId": "e8371e5c-11aa-40ac-a6bc-a84deabcc629"
      },
      "execution_count": 25,
      "outputs": [
        {
          "output_type": "execute_result",
          "data": {
            "text/plain": [
              "(11, 12)"
            ]
          },
          "metadata": {},
          "execution_count": 25
        }
      ]
    },
    {
      "cell_type": "markdown",
      "source": [
        "- 모델 \n",
        " - Embedding\n",
        " - SimpleRNN\n",
        " - Dese"
      ],
      "metadata": {
        "id": "gugz7mbD9mBt"
      }
    },
    {
      "cell_type": "code",
      "source": [
        "from tensorflow.keras.models import Sequential\n",
        "from tensorflow.keras.layers import Embedding, SimpleRNN, Dense"
      ],
      "metadata": {
        "id": "n0Q1dD1H9qrG"
      },
      "execution_count": 26,
      "outputs": []
    },
    {
      "cell_type": "code",
      "source": [
        "# Embedding=4, SimpleRNN=32\n",
        "# Embedding vector의 갯수가 RNN layer에서 feature개수\n",
        "model1 = Sequential([\n",
        "    Embedding(vocab_size, 4, input_length = max_len-1),\n",
        "    SimpleRNN(32),\n",
        "    Dense(vocab_size, activation='softmax')\n",
        "])\n",
        "model1.summary()"
      ],
      "metadata": {
        "colab": {
          "base_uri": "https://localhost:8080/"
        },
        "id": "tzIjCFMv9xaO",
        "outputId": "72d40088-d2ff-43f3-d903-09b1ca748594"
      },
      "execution_count": 28,
      "outputs": [
        {
          "output_type": "stream",
          "name": "stdout",
          "text": [
            "Model: \"sequential\"\n",
            "_________________________________________________________________\n",
            " Layer (type)                Output Shape              Param #   \n",
            "=================================================================\n",
            " embedding (Embedding)       (None, 5, 4)              48        \n",
            "                                                                 \n",
            " simple_rnn (SimpleRNN)      (None, 32)                1184      \n",
            "                                                                 \n",
            " dense (Dense)               (None, 12)                396       \n",
            "                                                                 \n",
            "=================================================================\n",
            "Total params: 1,628\n",
            "Trainable params: 1,628\n",
            "Non-trainable params: 0\n",
            "_________________________________________________________________\n"
          ]
        }
      ]
    },
    {
      "cell_type": "code",
      "source": [
        "model1.compile('adam', 'categorical_crossentropy', ['accuracy'])"
      ],
      "metadata": {
        "id": "ejhXqHkz95Km"
      },
      "execution_count": 33,
      "outputs": []
    },
    {
      "cell_type": "code",
      "source": [
        "hist = model1.fit(X, Y, epochs=200, verbose=0)"
      ],
      "metadata": {
        "id": "kvi_cbmk-OaZ"
      },
      "execution_count": 34,
      "outputs": []
    },
    {
      "cell_type": "code",
      "source": [
        "hist.history['accuracy'][-1]"
      ],
      "metadata": {
        "colab": {
          "base_uri": "https://localhost:8080/"
        },
        "id": "lecLQEgG_xWA",
        "outputId": "8a334dd8-8a8f-4979-918d-7a52fae9ed66"
      },
      "execution_count": 35,
      "outputs": [
        {
          "output_type": "execute_result",
          "data": {
            "text/plain": [
              "1.0"
            ]
          },
          "metadata": {},
          "execution_count": 35
        }
      ]
    },
    {
      "cell_type": "markdown",
      "source": [
        "- 모델검증"
      ],
      "metadata": {
        "id": "UUFF1yZQ_6Mp"
      }
    },
    {
      "cell_type": "code",
      "source": [
        "from google.colab import files"
      ],
      "metadata": {
        "id": "xkjwTexj_9Dp"
      },
      "execution_count": 36,
      "outputs": []
    },
    {
      "cell_type": "code",
      "source": [
        "up = files.upload()"
      ],
      "metadata": {
        "colab": {
          "resources": {
            "http://localhost:8080/nbextensions/google.colab/files.js": {
              "data": "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",
              "ok": true,
              "headers": [
                [
                  "content-type",
                  "application/javascript"
                ]
              ],
              "status": 200,
              "status_text": ""
            }
          },
          "base_uri": "https://localhost:8080/",
          "height": 73
        },
        "id": "-JIwRK4p_-sz",
        "outputId": "203fd4b9-5b86-499f-e244-41c8b6682cab"
      },
      "execution_count": 37,
      "outputs": [
        {
          "output_type": "display_data",
          "data": {
            "text/plain": [
              "<IPython.core.display.HTML object>"
            ],
            "text/html": [
              "\n",
              "     <input type=\"file\" id=\"files-15c02612-f0e4-4c07-ad01-ca3655719d18\" name=\"files[]\" multiple disabled\n",
              "        style=\"border:none\" />\n",
              "     <output id=\"result-15c02612-f0e4-4c07-ad01-ca3655719d18\">\n",
              "      Upload widget is only available when the cell has been executed in the\n",
              "      current browser session. Please rerun this cell to enable.\n",
              "      </output>\n",
              "      <script src=\"/nbextensions/google.colab/files.js\"></script> "
            ]
          },
          "metadata": {}
        },
        {
          "output_type": "stream",
          "name": "stdout",
          "text": [
            "Saving my_util.py to my_util.py\n"
          ]
        }
      ]
    },
    {
      "cell_type": "code",
      "source": [
        "from my_util import sentence_generation\n",
        "sentence_generation(model1, t, max_len, '경마장에', 3)"
      ],
      "metadata": {
        "colab": {
          "base_uri": "https://localhost:8080/",
          "height": 35
        },
        "id": "3LNURsPeAAae",
        "outputId": "d4724d21-ea97-47ed-8084-033d8ae846bc"
      },
      "execution_count": 40,
      "outputs": [
        {
          "output_type": "execute_result",
          "data": {
            "text/plain": [
              "'경마장에 있는 말이 뛰고'"
            ],
            "application/vnd.google.colaboratory.intrinsic+json": {
              "type": "string"
            }
          },
          "metadata": {},
          "execution_count": 40
        }
      ]
    },
    {
      "cell_type": "code",
      "source": [
        "sentence_generation(model1, t, max_len, '가는', 5)"
      ],
      "metadata": {
        "colab": {
          "base_uri": "https://localhost:8080/",
          "height": 35
        },
        "id": "IQI_Vm4cALA-",
        "outputId": "021218de-1f9f-4a88-f89f-9abf5ea69766"
      },
      "execution_count": 44,
      "outputs": [
        {
          "output_type": "execute_result",
          "data": {
            "text/plain": [
              "'가는 말이 고와야 오는 말이 곱다'"
            ],
            "application/vnd.google.colaboratory.intrinsic+json": {
              "type": "string"
            }
          },
          "metadata": {},
          "execution_count": 44
        }
      ]
    },
    {
      "cell_type": "markdown",
      "source": [
        "### 모델변화\n",
        " - Embedding vector 갯수 : [2, 4, 6]\n",
        " - RNN 유닛 갯수: [24, 32, 48]"
      ],
      "metadata": {
        "id": "1muzhZxcAWVN"
      }
    },
    {
      "cell_type": "code",
      "source": [
        "for n_embed in [2, 4, 6]:\n",
        "    for n_unit in [24, 32, 48]:\n",
        "        model = Sequential([\n",
        "            Embedding(vocab_size, n_embed, input_length = max_len - 1),\n",
        "            SimpleRNN(n_unit),\n",
        "            Dense(vocab_size, activation='softmax')\n",
        "        ])\n",
        "        model.compile('adam', 'categorical_crossentropy', ['accuracy'])\n",
        "        hist = model.fit(X, Y, epochs=200, verbose=0)\n",
        "        print('=============================================')\n",
        "        print(f'Embedding vector: {n_embed}, RNN unit: {n_unit}')\n",
        "        print(f\"정확도: {hist.history['accuracy'][-1]:.4f}\")\n",
        "        print(sentence_generation(model, t, max_len, '경마장에', 4))\n",
        "        print(sentence_generation(model, t, max_len, '그의', 2))\n",
        "        print(sentence_generation(model, t, max_len, '가는', 5))\n",
        "        print()"
      ],
      "metadata": {
        "colab": {
          "base_uri": "https://localhost:8080/"
        },
        "id": "dSxZJP_sAbRQ",
        "outputId": "156526d4-c1ca-4b39-c685-60c6f513f453"
      },
      "execution_count": 47,
      "outputs": [
        {
          "output_type": "stream",
          "name": "stdout",
          "text": [
            "=============================================\n",
            "Embedding vector: 2, RNN unit: 24\n",
            "정확도: 0.8182\n",
            "경마장에 말이 말이 오는 말이\n",
            "그의 말이 법이다\n",
            "가는 말이 법이다 오는 말이 곱다\n",
            "\n",
            "=============================================\n",
            "Embedding vector: 2, RNN unit: 32\n",
            "정확도: 0.8182\n",
            "경마장에 말이 법이다 오는 말이\n",
            "그의 말이 고와야\n",
            "가는 말이 고와야 오는 말이 곱다\n",
            "\n",
            "=============================================\n",
            "Embedding vector: 2, RNN unit: 48\n",
            "정확도: 0.9091\n",
            "경마장에 말이 고와야 오는 말이\n",
            "그의 말이 법이다\n",
            "가는 말이 고와야 오는 말이 곱다\n",
            "\n",
            "=============================================\n",
            "Embedding vector: 4, RNN unit: 24\n",
            "정확도: 0.8182\n",
            "경마장에 말이 말이 오는 말이\n",
            "그의 말이 법이다\n",
            "가는 말이 법이다 오는 말이 곱다\n",
            "\n",
            "=============================================\n",
            "Embedding vector: 4, RNN unit: 32\n",
            "정확도: 1.0000\n",
            "경마장에 있는 말이 뛰고 있다\n",
            "그의 말이 법이다\n",
            "가는 말이 고와야 오는 말이 곱다\n",
            "\n",
            "=============================================\n",
            "Embedding vector: 4, RNN unit: 48\n",
            "정확도: 0.9091\n",
            "경마장에 말이 고와야 오는 말이\n",
            "그의 말이 법이다\n",
            "가는 말이 고와야 오는 말이 곱다\n",
            "\n",
            "=============================================\n",
            "Embedding vector: 6, RNN unit: 24\n",
            "정확도: 1.0000\n",
            "경마장에 있는 말이 뛰고 있다\n",
            "그의 말이 법이다\n",
            "가는 말이 고와야 오는 말이 곱다\n",
            "\n",
            "=============================================\n",
            "Embedding vector: 6, RNN unit: 32\n",
            "정확도: 1.0000\n",
            "경마장에 있는 말이 뛰고 있다\n",
            "그의 말이 법이다\n",
            "가는 말이 고와야 오는 말이 곱다\n",
            "\n",
            "=============================================\n",
            "Embedding vector: 6, RNN unit: 48\n",
            "정확도: 1.0000\n",
            "경마장에 있는 말이 뛰고 있다\n",
            "그의 말이 법이다\n",
            "가는 말이 고와야 오는 말이 곱다\n",
            "\n"
          ]
        }
      ]
    },
    {
      "cell_type": "markdown",
      "source": [
        "### LSTM을 이용한 텍스트 생성\n",
        " - 데이터 다운로드 : 캐글 New York Times Comments"
      ],
      "metadata": {
        "id": "29A5uaJaA9VI"
      }
    },
    {
      "cell_type": "code",
      "source": [
        "import pandas as pd\n",
        "from google.colab import files\n",
        "up = files.upload()"
      ],
      "metadata": {
        "colab": {
          "resources": {
            "http://localhost:8080/nbextensions/google.colab/files.js": {
              "data": "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",
              "ok": true,
              "headers": [
                [
                  "content-type",
                  "application/javascript"
                ]
              ],
              "status": 200,
              "status_text": ""
            }
          },
          "base_uri": "https://localhost:8080/",
          "height": 73
        },
        "id": "Z8xLnnmRCFnq",
        "outputId": "7883e834-4507-4e57-c9a8-87c0c7836f01"
      },
      "execution_count": 1,
      "outputs": [
        {
          "output_type": "display_data",
          "data": {
            "text/plain": [
              "<IPython.core.display.HTML object>"
            ],
            "text/html": [
              "\n",
              "     <input type=\"file\" id=\"files-2811e982-10c5-4c09-a73e-fa78a1afa815\" name=\"files[]\" multiple disabled\n",
              "        style=\"border:none\" />\n",
              "     <output id=\"result-2811e982-10c5-4c09-a73e-fa78a1afa815\">\n",
              "      Upload widget is only available when the cell has been executed in the\n",
              "      current browser session. Please rerun this cell to enable.\n",
              "      </output>\n",
              "      <script src=\"/nbextensions/google.colab/files.js\"></script> "
            ]
          },
          "metadata": {}
        },
        {
          "output_type": "stream",
          "name": "stdout",
          "text": [
            "Saving ArticlesApril2018.csv to ArticlesApril2018.csv\n"
          ]
        }
      ]
    },
    {
      "cell_type": "code",
      "source": [
        "df = pd.read_csv('ArticlesApril2018.csv', encoding='latin1')\n",
        "df.head(3)"
      ],
      "metadata": {
        "colab": {
          "base_uri": "https://localhost:8080/",
          "height": 450
        },
        "id": "AuFRfAneCQUi",
        "outputId": "8e44d175-77d9-4350-920f-ec901efb8c1a"
      },
      "execution_count": 2,
      "outputs": [
        {
          "output_type": "execute_result",
          "data": {
            "text/plain": [
              "                  articleID  articleWordCount            byline documentType  \\\n",
              "0  5adf6684068401528a2aa69b               781    By JOHN BRANCH      article   \n",
              "1  5adf653f068401528a2aa697               656  By LISA FRIEDMAN      article   \n",
              "2  5adf4626068401528a2aa628              2427     By PETE WELLS      article   \n",
              "\n",
              "                                            headline  \\\n",
              "0  Former N.F.L. Cheerleadersâ Settlement Offer...   \n",
              "1  E.P.A. to Unveil a New Rule. Its Effect: Less ...   \n",
              "2                            The New Noma, Explained   \n",
              "\n",
              "                                            keywords  multimedia  newDesk  \\\n",
              "0  ['Workplace Hazards and Violations', 'Football...          68   Sports   \n",
              "1  ['Environmental Protection Agency', 'Pruitt, S...          68  Climate   \n",
              "2  ['Restaurants', 'Noma (Copenhagen, Restaurant)...          66   Dining   \n",
              "\n",
              "   printPage              pubDate   sectionName  \\\n",
              "0          0  2018-04-24 17:16:49  Pro Football   \n",
              "1          0  2018-04-24 17:11:21       Unknown   \n",
              "2          0  2018-04-24 14:58:44       Unknown   \n",
              "\n",
              "                                             snippet              source  \\\n",
              "0  âI understand that they could meet with us, ...  The New York Times   \n",
              "1  The agency plans to publish a new regulation T...  The New York Times   \n",
              "2  Whatâs it like to eat at the second incarnat...  The New York Times   \n",
              "\n",
              "  typeOfMaterial                                             webURL  \n",
              "0           News  https://www.nytimes.com/2018/04/24/sports/foot...  \n",
              "1           News  https://www.nytimes.com/2018/04/24/climate/epa...  \n",
              "2           News  https://www.nytimes.com/2018/04/24/dining/noma...  "
            ],
            "text/html": [
              "\n",
              "  <div id=\"df-c3bdd96a-65ed-48db-89b0-f741c73875c3\">\n",
              "    <div class=\"colab-df-container\">\n",
              "      <div>\n",
              "<style scoped>\n",
              "    .dataframe tbody tr th:only-of-type {\n",
              "        vertical-align: middle;\n",
              "    }\n",
              "\n",
              "    .dataframe tbody tr th {\n",
              "        vertical-align: top;\n",
              "    }\n",
              "\n",
              "    .dataframe thead th {\n",
              "        text-align: right;\n",
              "    }\n",
              "</style>\n",
              "<table border=\"1\" class=\"dataframe\">\n",
              "  <thead>\n",
              "    <tr style=\"text-align: right;\">\n",
              "      <th></th>\n",
              "      <th>articleID</th>\n",
              "      <th>articleWordCount</th>\n",
              "      <th>byline</th>\n",
              "      <th>documentType</th>\n",
              "      <th>headline</th>\n",
              "      <th>keywords</th>\n",
              "      <th>multimedia</th>\n",
              "      <th>newDesk</th>\n",
              "      <th>printPage</th>\n",
              "      <th>pubDate</th>\n",
              "      <th>sectionName</th>\n",
              "      <th>snippet</th>\n",
              "      <th>source</th>\n",
              "      <th>typeOfMaterial</th>\n",
              "      <th>webURL</th>\n",
              "    </tr>\n",
              "  </thead>\n",
              "  <tbody>\n",
              "    <tr>\n",
              "      <th>0</th>\n",
              "      <td>5adf6684068401528a2aa69b</td>\n",
              "      <td>781</td>\n",
              "      <td>By JOHN BRANCH</td>\n",
              "      <td>article</td>\n",
              "      <td>Former N.F.L. Cheerleadersâ Settlement Offer...</td>\n",
              "      <td>['Workplace Hazards and Violations', 'Football...</td>\n",
              "      <td>68</td>\n",
              "      <td>Sports</td>\n",
              "      <td>0</td>\n",
              "      <td>2018-04-24 17:16:49</td>\n",
              "      <td>Pro Football</td>\n",
              "      <td>âI understand that they could meet with us, ...</td>\n",
              "      <td>The New York Times</td>\n",
              "      <td>News</td>\n",
              "      <td>https://www.nytimes.com/2018/04/24/sports/foot...</td>\n",
              "    </tr>\n",
              "    <tr>\n",
              "      <th>1</th>\n",
              "      <td>5adf653f068401528a2aa697</td>\n",
              "      <td>656</td>\n",
              "      <td>By LISA FRIEDMAN</td>\n",
              "      <td>article</td>\n",
              "      <td>E.P.A. to Unveil a New Rule. Its Effect: Less ...</td>\n",
              "      <td>['Environmental Protection Agency', 'Pruitt, S...</td>\n",
              "      <td>68</td>\n",
              "      <td>Climate</td>\n",
              "      <td>0</td>\n",
              "      <td>2018-04-24 17:11:21</td>\n",
              "      <td>Unknown</td>\n",
              "      <td>The agency plans to publish a new regulation T...</td>\n",
              "      <td>The New York Times</td>\n",
              "      <td>News</td>\n",
              "      <td>https://www.nytimes.com/2018/04/24/climate/epa...</td>\n",
              "    </tr>\n",
              "    <tr>\n",
              "      <th>2</th>\n",
              "      <td>5adf4626068401528a2aa628</td>\n",
              "      <td>2427</td>\n",
              "      <td>By PETE WELLS</td>\n",
              "      <td>article</td>\n",
              "      <td>The New Noma, Explained</td>\n",
              "      <td>['Restaurants', 'Noma (Copenhagen, Restaurant)...</td>\n",
              "      <td>66</td>\n",
              "      <td>Dining</td>\n",
              "      <td>0</td>\n",
              "      <td>2018-04-24 14:58:44</td>\n",
              "      <td>Unknown</td>\n",
              "      <td>Whatâs it like to eat at the second incarnat...</td>\n",
              "      <td>The New York Times</td>\n",
              "      <td>News</td>\n",
              "      <td>https://www.nytimes.com/2018/04/24/dining/noma...</td>\n",
              "    </tr>\n",
              "  </tbody>\n",
              "</table>\n",
              "</div>\n",
              "      <button class=\"colab-df-convert\" onclick=\"convertToInteractive('df-c3bdd96a-65ed-48db-89b0-f741c73875c3')\"\n",
              "              title=\"Convert this dataframe to an interactive table.\"\n",
              "              style=\"display:none;\">\n",
              "        \n",
              "  <svg xmlns=\"http://www.w3.org/2000/svg\" height=\"24px\"viewBox=\"0 0 24 24\"\n",
              "       width=\"24px\">\n",
              "    <path d=\"M0 0h24v24H0V0z\" fill=\"none\"/>\n",
              "    <path d=\"M18.56 5.44l.94 2.06.94-2.06 2.06-.94-2.06-.94-.94-2.06-.94 2.06-2.06.94zm-11 1L8.5 8.5l.94-2.06 2.06-.94-2.06-.94L8.5 2.5l-.94 2.06-2.06.94zm10 10l.94 2.06.94-2.06 2.06-.94-2.06-.94-.94-2.06-.94 2.06-2.06.94z\"/><path d=\"M17.41 7.96l-1.37-1.37c-.4-.4-.92-.59-1.43-.59-.52 0-1.04.2-1.43.59L10.3 9.45l-7.72 7.72c-.78.78-.78 2.05 0 2.83L4 21.41c.39.39.9.59 1.41.59.51 0 1.02-.2 1.41-.59l7.78-7.78 2.81-2.81c.8-.78.8-2.07 0-2.86zM5.41 20L4 18.59l7.72-7.72 1.47 1.35L5.41 20z\"/>\n",
              "  </svg>\n",
              "      </button>\n",
              "      \n",
              "  <style>\n",
              "    .colab-df-container {\n",
              "      display:flex;\n",
              "      flex-wrap:wrap;\n",
              "      gap: 12px;\n",
              "    }\n",
              "\n",
              "    .colab-df-convert {\n",
              "      background-color: #E8F0FE;\n",
              "      border: none;\n",
              "      border-radius: 50%;\n",
              "      cursor: pointer;\n",
              "      display: none;\n",
              "      fill: #1967D2;\n",
              "      height: 32px;\n",
              "      padding: 0 0 0 0;\n",
              "      width: 32px;\n",
              "    }\n",
              "\n",
              "    .colab-df-convert:hover {\n",
              "      background-color: #E2EBFA;\n",
              "      box-shadow: 0px 1px 2px rgba(60, 64, 67, 0.3), 0px 1px 3px 1px rgba(60, 64, 67, 0.15);\n",
              "      fill: #174EA6;\n",
              "    }\n",
              "\n",
              "    [theme=dark] .colab-df-convert {\n",
              "      background-color: #3B4455;\n",
              "      fill: #D2E3FC;\n",
              "    }\n",
              "\n",
              "    [theme=dark] .colab-df-convert:hover {\n",
              "      background-color: #434B5C;\n",
              "      box-shadow: 0px 1px 3px 1px rgba(0, 0, 0, 0.15);\n",
              "      filter: drop-shadow(0px 1px 2px rgba(0, 0, 0, 0.3));\n",
              "      fill: #FFFFFF;\n",
              "    }\n",
              "  </style>\n",
              "\n",
              "      <script>\n",
              "        const buttonEl =\n",
              "          document.querySelector('#df-c3bdd96a-65ed-48db-89b0-f741c73875c3 button.colab-df-convert');\n",
              "        buttonEl.style.display =\n",
              "          google.colab.kernel.accessAllowed ? 'block' : 'none';\n",
              "\n",
              "        async function convertToInteractive(key) {\n",
              "          const element = document.querySelector('#df-c3bdd96a-65ed-48db-89b0-f741c73875c3');\n",
              "          const dataTable =\n",
              "            await google.colab.kernel.invokeFunction('convertToInteractive',\n",
              "                                                     [key], {});\n",
              "          if (!dataTable) return;\n",
              "\n",
              "          const docLinkHtml = 'Like what you see? Visit the ' +\n",
              "            '<a target=\"_blank\" href=https://colab.research.google.com/notebooks/data_table.ipynb>data table notebook</a>'\n",
              "            + ' to learn more about interactive tables.';\n",
              "          element.innerHTML = '';\n",
              "          dataTable['output_type'] = 'display_data';\n",
              "          await google.colab.output.renderOutput(dataTable, element);\n",
              "          const docLink = document.createElement('div');\n",
              "          docLink.innerHTML = docLinkHtml;\n",
              "          element.appendChild(docLink);\n",
              "        }\n",
              "      </script>\n",
              "    </div>\n",
              "  </div>\n",
              "  "
            ]
          },
          "metadata": {},
          "execution_count": 2
        }
      ]
    },
    {
      "cell_type": "markdown",
      "source": [
        "- 데이터 전처리 : headline columns 만 사용"
      ],
      "metadata": {
        "id": "BvRP3-j-CYf5"
      }
    },
    {
      "cell_type": "code",
      "source": [
        " df.headline.isna().sum()"
      ],
      "metadata": {
        "colab": {
          "base_uri": "https://localhost:8080/"
        },
        "id": "O8QhFBVoeEIe",
        "outputId": "62dc5c36-9bb1-4c52-fe15-06fbce78e2e7"
      },
      "execution_count": 3,
      "outputs": [
        {
          "output_type": "execute_result",
          "data": {
            "text/plain": [
              "0"
            ]
          },
          "metadata": {},
          "execution_count": 3
        }
      ]
    },
    {
      "cell_type": "code",
      "source": [
        "headlines = df.headline.values.tolist()"
      ],
      "metadata": {
        "id": "7Ryy1xiTeIKF"
      },
      "execution_count": 4,
      "outputs": []
    },
    {
      "cell_type": "code",
      "source": [
        "headlines[:5]"
      ],
      "metadata": {
        "colab": {
          "base_uri": "https://localhost:8080/"
        },
        "id": "PlUWqjh0eJ3l",
        "outputId": "d802a963-fd6d-4c0e-bfca-c3335ff26e23"
      },
      "execution_count": 5,
      "outputs": [
        {
          "output_type": "execute_result",
          "data": {
            "text/plain": [
              "['Former N.F.L. Cheerleadersâ\\x80\\x99 Settlement Offer: $1 and a Meeting With Goodell',\n",
              " 'E.P.A. to Unveil a New Rule. Its Effect: Less Science in Policymaking.',\n",
              " 'The New Noma, Explained',\n",
              " 'Unknown',\n",
              " 'Unknown']"
            ]
          },
          "metadata": {},
          "execution_count": 5
        }
      ]
    },
    {
      "cell_type": "code",
      "source": [
        "len(headlines)"
      ],
      "metadata": {
        "colab": {
          "base_uri": "https://localhost:8080/"
        },
        "id": "hUlsewECeNz4",
        "outputId": "55e03b55-82fc-483e-a655-4a5233f38b86"
      },
      "execution_count": 6,
      "outputs": [
        {
          "output_type": "execute_result",
          "data": {
            "text/plain": [
              "1324"
            ]
          },
          "metadata": {},
          "execution_count": 6
        }
      ]
    },
    {
      "cell_type": "code",
      "source": [
        "headlines = [line for line in df.headline.values if line != 'Unknown']\n",
        "len(headlines)"
      ],
      "metadata": {
        "colab": {
          "base_uri": "https://localhost:8080/"
        },
        "id": "GhwQKv5yeQy7",
        "outputId": "65986539-9344-4e41-dc45-81916e5baec2"
      },
      "execution_count": 7,
      "outputs": [
        {
          "output_type": "execute_result",
          "data": {
            "text/plain": [
              "1214"
            ]
          },
          "metadata": {},
          "execution_count": 7
        }
      ]
    },
    {
      "cell_type": "code",
      "source": [
        "# encoding, 구둣점 제거, 소문자 변환\n",
        "import re\n",
        "def preprocessing(s):\n",
        "    s = s.encode('utf8').decode('ascii', 'ignore')\n",
        "    s = re.sub('[^A-Za-z0-9 ]', '', s)\n",
        "    return s.lower()"
      ],
      "metadata": {
        "id": "SLbY3aFteaUG"
      },
      "execution_count": 8,
      "outputs": []
    },
    {
      "cell_type": "code",
      "source": [
        "headlines = [preprocessing(line) for line in headlines]\n",
        "headlines[:5] "
      ],
      "metadata": {
        "colab": {
          "base_uri": "https://localhost:8080/"
        },
        "id": "a52sK-3MeyzI",
        "outputId": "2fb16038-c105-42da-bc06-14bdf3870667"
      },
      "execution_count": 9,
      "outputs": [
        {
          "output_type": "execute_result",
          "data": {
            "text/plain": [
              "['former nfl cheerleaders settlement offer 1 and a meeting with goodell',\n",
              " 'epa to unveil a new rule its effect less science in policymaking',\n",
              " 'the new noma explained',\n",
              " 'how a bag of texas dirt  became a times tradition',\n",
              " 'is school a place for selfexpression']"
            ]
          },
          "metadata": {},
          "execution_count": 9
        }
      ]
    },
    {
      "cell_type": "code",
      "source": [
        "from tensorflow.keras.preprocessing.text import Tokenizer\n",
        "from tensorflow.keras.preprocessing.sequence import pad_sequences\n",
        "from tensorflow.keras.utils import to_categorical"
      ],
      "metadata": {
        "id": "zeiLpD8be3eX"
      },
      "execution_count": 10,
      "outputs": []
    },
    {
      "cell_type": "code",
      "source": [
        "t = Tokenizer()\n",
        "t.fit_on_texts(headlines)"
      ],
      "metadata": {
        "id": "IMlwMnNffa3E"
      },
      "execution_count": 11,
      "outputs": []
    },
    {
      "cell_type": "code",
      "source": [
        "vocab_size = len(t.word_index) + 1\n",
        "vocab_size"
      ],
      "metadata": {
        "colab": {
          "base_uri": "https://localhost:8080/"
        },
        "id": "CYdpfG0IfeaY",
        "outputId": "7d9a4b77-3b29-46e9-e8c3-d9126a78d699"
      },
      "execution_count": 12,
      "outputs": [
        {
          "output_type": "execute_result",
          "data": {
            "text/plain": [
              "3494"
            ]
          },
          "metadata": {},
          "execution_count": 12
        }
      ]
    },
    {
      "cell_type": "code",
      "source": [
        "sequences = []\n",
        "for line in headlines :\n",
        "    encoded = t.texts_to_sequences([line])[0]\n",
        "    for i in range(1, len(encoded)):\n",
        "        sequences.append(encoded[: i+1])\n",
        "sequences[:10]"
      ],
      "metadata": {
        "colab": {
          "base_uri": "https://localhost:8080/"
        },
        "id": "rRXYKvB-fi0A",
        "outputId": "e5133b13-3c7f-4e2a-aea4-0cd6ecfb6b5b"
      },
      "execution_count": 13,
      "outputs": [
        {
          "output_type": "execute_result",
          "data": {
            "text/plain": [
              "[[99, 269],\n",
              " [99, 269, 371],\n",
              " [99, 269, 371, 1115],\n",
              " [99, 269, 371, 1115, 582],\n",
              " [99, 269, 371, 1115, 582, 52],\n",
              " [99, 269, 371, 1115, 582, 52, 7],\n",
              " [99, 269, 371, 1115, 582, 52, 7, 2],\n",
              " [99, 269, 371, 1115, 582, 52, 7, 2, 372],\n",
              " [99, 269, 371, 1115, 582, 52, 7, 2, 372, 10],\n",
              " [99, 269, 371, 1115, 582, 52, 7, 2, 372, 10, 1116]]"
            ]
          },
          "metadata": {},
          "execution_count": 13
        }
      ]
    },
    {
      "cell_type": "code",
      "source": [
        "max_len = max(len(seq) for seq in sequences)\n",
        "max_len"
      ],
      "metadata": {
        "colab": {
          "base_uri": "https://localhost:8080/"
        },
        "id": "TDfAmHNif2Bn",
        "outputId": "45620c48-15d1-440f-b0a1-ef8526c9bb5e"
      },
      "execution_count": 14,
      "outputs": [
        {
          "output_type": "execute_result",
          "data": {
            "text/plain": [
              "24"
            ]
          },
          "metadata": {},
          "execution_count": 14
        }
      ]
    },
    {
      "cell_type": "code",
      "source": [
        "sequences = pad_sequences(sequences, maxlen=max_len, padding='pre')\n",
        "sequences[:10]"
      ],
      "metadata": {
        "colab": {
          "base_uri": "https://localhost:8080/"
        },
        "id": "m-2j6oDkgD1i",
        "outputId": "d6fb3227-e4bf-415f-af26-29aa0b0156ca"
      },
      "execution_count": 15,
      "outputs": [
        {
          "output_type": "execute_result",
          "data": {
            "text/plain": [
              "array([[   0,    0,    0,    0,    0,    0,    0,    0,    0,    0,    0,\n",
              "           0,    0,    0,    0,    0,    0,    0,    0,    0,    0,    0,\n",
              "          99,  269],\n",
              "       [   0,    0,    0,    0,    0,    0,    0,    0,    0,    0,    0,\n",
              "           0,    0,    0,    0,    0,    0,    0,    0,    0,    0,   99,\n",
              "         269,  371],\n",
              "       [   0,    0,    0,    0,    0,    0,    0,    0,    0,    0,    0,\n",
              "           0,    0,    0,    0,    0,    0,    0,    0,    0,   99,  269,\n",
              "         371, 1115],\n",
              "       [   0,    0,    0,    0,    0,    0,    0,    0,    0,    0,    0,\n",
              "           0,    0,    0,    0,    0,    0,    0,    0,   99,  269,  371,\n",
              "        1115,  582],\n",
              "       [   0,    0,    0,    0,    0,    0,    0,    0,    0,    0,    0,\n",
              "           0,    0,    0,    0,    0,    0,    0,   99,  269,  371, 1115,\n",
              "         582,   52],\n",
              "       [   0,    0,    0,    0,    0,    0,    0,    0,    0,    0,    0,\n",
              "           0,    0,    0,    0,    0,    0,   99,  269,  371, 1115,  582,\n",
              "          52,    7],\n",
              "       [   0,    0,    0,    0,    0,    0,    0,    0,    0,    0,    0,\n",
              "           0,    0,    0,    0,    0,   99,  269,  371, 1115,  582,   52,\n",
              "           7,    2],\n",
              "       [   0,    0,    0,    0,    0,    0,    0,    0,    0,    0,    0,\n",
              "           0,    0,    0,    0,   99,  269,  371, 1115,  582,   52,    7,\n",
              "           2,  372],\n",
              "       [   0,    0,    0,    0,    0,    0,    0,    0,    0,    0,    0,\n",
              "           0,    0,    0,   99,  269,  371, 1115,  582,   52,    7,    2,\n",
              "         372,   10],\n",
              "       [   0,    0,    0,    0,    0,    0,    0,    0,    0,    0,    0,\n",
              "           0,    0,   99,  269,  371, 1115,  582,   52,    7,    2,  372,\n",
              "          10, 1116]], dtype=int32)"
            ]
          },
          "metadata": {},
          "execution_count": 15
        }
      ]
    },
    {
      "cell_type": "code",
      "source": [
        "X = sequences[:, :-1]\n",
        "Y = sequences[:, -1]\n",
        "Y = to_categorical(Y)\n",
        "X.shape, Y.shape"
      ],
      "metadata": {
        "colab": {
          "base_uri": "https://localhost:8080/"
        },
        "id": "2OEKUmHPgOwR",
        "outputId": "106837d3-d900-4446-f54f-c73968112fc7"
      },
      "execution_count": 16,
      "outputs": [
        {
          "output_type": "execute_result",
          "data": {
            "text/plain": [
              "((7803, 23), (7803, 3494))"
            ]
          },
          "metadata": {},
          "execution_count": 16
        }
      ]
    },
    {
      "cell_type": "markdown",
      "source": [
        "- 모델 정의/설정/학습\n",
        " - Embedding vector 갯수 : 10\n",
        " - LSTM unit 갯수 : 128"
      ],
      "metadata": {
        "id": "cGgtEBeSgVWJ"
      }
    },
    {
      "cell_type": "code",
      "source": [
        "from tensorflow.keras.models import Sequential, load_model\n",
        "from tensorflow.keras.layers import Dense, Dropout, LSTM, Embedding"
      ],
      "metadata": {
        "id": "oPHogSQVgdEG"
      },
      "execution_count": 17,
      "outputs": []
    },
    {
      "cell_type": "code",
      "source": [
        "import numpy as np\n",
        "import tensorflow as tf\n",
        "seed = 2022\n",
        "np.random.seed(seed)\n",
        "tf.random.set_seed(seed)"
      ],
      "metadata": {
        "id": "IUoUpQWGhorI"
      },
      "execution_count": 18,
      "outputs": []
    },
    {
      "cell_type": "code",
      "source": [
        "model1 = Sequential([\n",
        "    Embedding(vocab_size, 10, input_length = max_len - 1),\n",
        "    LSTM(128),\n",
        "    Dense(vocab_size, activation='softmax')\n",
        "    \n",
        "])\n",
        "model1.summary()"
      ],
      "metadata": {
        "colab": {
          "base_uri": "https://localhost:8080/"
        },
        "id": "3dsbR55UgqmM",
        "outputId": "d07fcc3c-7b31-4b82-c7ca-a8d372e5fea4"
      },
      "execution_count": 23,
      "outputs": [
        {
          "output_type": "stream",
          "name": "stdout",
          "text": [
            "Model: \"sequential_1\"\n",
            "_________________________________________________________________\n",
            " Layer (type)                Output Shape              Param #   \n",
            "=================================================================\n",
            " embedding_1 (Embedding)     (None, 23, 10)            34940     \n",
            "                                                                 \n",
            " lstm_1 (LSTM)               (None, 128)               71168     \n",
            "                                                                 \n",
            " dense_1 (Dense)             (None, 3494)              450726    \n",
            "                                                                 \n",
            "=================================================================\n",
            "Total params: 556,834\n",
            "Trainable params: 556,834\n",
            "Non-trainable params: 0\n",
            "_________________________________________________________________\n"
          ]
        }
      ]
    },
    {
      "cell_type": "code",
      "source": [
        "model1.compile('adam', 'categorical_crossentropy', ['accuracy'])"
      ],
      "metadata": {
        "id": "E1iPACkwg5HI"
      },
      "execution_count": 24,
      "outputs": []
    },
    {
      "cell_type": "code",
      "source": [
        "hist1 = model1.fit(X, Y, epochs=200, verbose=1)"
      ],
      "metadata": {
        "colab": {
          "base_uri": "https://localhost:8080/"
        },
        "id": "Xiwk89f0hBKv",
        "outputId": "be6496b2-cdbc-4c9c-9a7c-cd2c1672b7da"
      },
      "execution_count": 25,
      "outputs": [
        {
          "output_type": "stream",
          "name": "stdout",
          "text": [
            "Epoch 1/200\n",
            "244/244 [==============================] - 3s 6ms/step - loss: 7.6258 - accuracy: 0.0296\n",
            "Epoch 2/200\n",
            "244/244 [==============================] - 1s 6ms/step - loss: 7.1109 - accuracy: 0.0278\n",
            "Epoch 3/200\n",
            "244/244 [==============================] - 1s 6ms/step - loss: 6.9727 - accuracy: 0.0352\n",
            "Epoch 4/200\n",
            "244/244 [==============================] - 1s 6ms/step - loss: 6.8415 - accuracy: 0.0417\n",
            "Epoch 5/200\n",
            "244/244 [==============================] - 1s 6ms/step - loss: 6.6838 - accuracy: 0.0442\n",
            "Epoch 6/200\n",
            "244/244 [==============================] - 1s 6ms/step - loss: 6.4977 - accuracy: 0.0483\n",
            "Epoch 7/200\n",
            "244/244 [==============================] - 1s 6ms/step - loss: 6.2905 - accuracy: 0.0529\n",
            "Epoch 8/200\n",
            "244/244 [==============================] - 1s 6ms/step - loss: 6.0752 - accuracy: 0.0583\n",
            "Epoch 9/200\n",
            "244/244 [==============================] - 1s 6ms/step - loss: 5.8641 - accuracy: 0.0620\n",
            "Epoch 10/200\n",
            "244/244 [==============================] - 1s 6ms/step - loss: 5.6684 - accuracy: 0.0682\n",
            "Epoch 11/200\n",
            "244/244 [==============================] - 1s 6ms/step - loss: 5.4820 - accuracy: 0.0751\n",
            "Epoch 12/200\n",
            "244/244 [==============================] - 1s 6ms/step - loss: 5.3070 - accuracy: 0.0778\n",
            "Epoch 13/200\n",
            "244/244 [==============================] - 1s 6ms/step - loss: 5.1496 - accuracy: 0.0841\n",
            "Epoch 14/200\n",
            "244/244 [==============================] - 1s 6ms/step - loss: 4.9966 - accuracy: 0.0937\n",
            "Epoch 15/200\n",
            "244/244 [==============================] - 1s 6ms/step - loss: 4.8503 - accuracy: 0.1015\n",
            "Epoch 16/200\n",
            "244/244 [==============================] - 1s 6ms/step - loss: 4.7120 - accuracy: 0.1170\n",
            "Epoch 17/200\n",
            "244/244 [==============================] - 2s 6ms/step - loss: 4.5801 - accuracy: 0.1319\n",
            "Epoch 18/200\n",
            "244/244 [==============================] - 1s 6ms/step - loss: 4.4548 - accuracy: 0.1464\n",
            "Epoch 19/200\n",
            "244/244 [==============================] - 1s 6ms/step - loss: 4.3307 - accuracy: 0.1626\n",
            "Epoch 20/200\n",
            "244/244 [==============================] - 2s 6ms/step - loss: 4.2100 - accuracy: 0.1744\n",
            "Epoch 21/200\n",
            "244/244 [==============================] - 1s 6ms/step - loss: 4.0968 - accuracy: 0.1945\n",
            "Epoch 22/200\n",
            "244/244 [==============================] - 2s 6ms/step - loss: 3.9860 - accuracy: 0.2153\n",
            "Epoch 23/200\n",
            "244/244 [==============================] - 2s 7ms/step - loss: 3.8782 - accuracy: 0.2336\n",
            "Epoch 24/200\n",
            "244/244 [==============================] - 1s 6ms/step - loss: 3.7745 - accuracy: 0.2471\n",
            "Epoch 25/200\n",
            "244/244 [==============================] - 2s 6ms/step - loss: 3.6736 - accuracy: 0.2653\n",
            "Epoch 26/200\n",
            "244/244 [==============================] - 2s 6ms/step - loss: 3.5753 - accuracy: 0.2804\n",
            "Epoch 27/200\n",
            "244/244 [==============================] - 2s 6ms/step - loss: 3.4834 - accuracy: 0.2935\n",
            "Epoch 28/200\n",
            "244/244 [==============================] - 2s 6ms/step - loss: 3.3907 - accuracy: 0.3146\n",
            "Epoch 29/200\n",
            "244/244 [==============================] - 2s 6ms/step - loss: 3.3043 - accuracy: 0.3317\n",
            "Epoch 30/200\n",
            "244/244 [==============================] - 2s 6ms/step - loss: 3.2185 - accuracy: 0.3445\n",
            "Epoch 31/200\n",
            "244/244 [==============================] - 1s 6ms/step - loss: 3.1435 - accuracy: 0.3637\n",
            "Epoch 32/200\n",
            "244/244 [==============================] - 2s 6ms/step - loss: 3.0609 - accuracy: 0.3749\n",
            "Epoch 33/200\n",
            "244/244 [==============================] - 2s 6ms/step - loss: 2.9879 - accuracy: 0.3868\n",
            "Epoch 34/200\n",
            "244/244 [==============================] - 2s 6ms/step - loss: 2.9143 - accuracy: 0.4001\n",
            "Epoch 35/200\n",
            "244/244 [==============================] - 2s 7ms/step - loss: 2.8429 - accuracy: 0.4184\n",
            "Epoch 36/200\n",
            "244/244 [==============================] - 2s 7ms/step - loss: 2.7782 - accuracy: 0.4257\n",
            "Epoch 37/200\n",
            "244/244 [==============================] - 2s 6ms/step - loss: 2.7091 - accuracy: 0.4379\n",
            "Epoch 38/200\n",
            "244/244 [==============================] - 2s 6ms/step - loss: 2.6462 - accuracy: 0.4526\n",
            "Epoch 39/200\n",
            "244/244 [==============================] - 2s 6ms/step - loss: 2.5863 - accuracy: 0.4608\n",
            "Epoch 40/200\n",
            "244/244 [==============================] - 2s 6ms/step - loss: 2.5259 - accuracy: 0.4711\n",
            "Epoch 41/200\n",
            "244/244 [==============================] - 2s 7ms/step - loss: 2.4678 - accuracy: 0.4849\n",
            "Epoch 42/200\n",
            "244/244 [==============================] - 2s 8ms/step - loss: 2.4117 - accuracy: 0.4981\n",
            "Epoch 43/200\n",
            "244/244 [==============================] - 1s 6ms/step - loss: 2.3580 - accuracy: 0.5089\n",
            "Epoch 44/200\n",
            "244/244 [==============================] - 1s 6ms/step - loss: 2.3043 - accuracy: 0.5206\n",
            "Epoch 45/200\n",
            "244/244 [==============================] - 1s 6ms/step - loss: 2.2550 - accuracy: 0.5266\n",
            "Epoch 46/200\n",
            "244/244 [==============================] - 1s 6ms/step - loss: 2.2039 - accuracy: 0.5453\n",
            "Epoch 47/200\n",
            "244/244 [==============================] - 1s 6ms/step - loss: 2.1527 - accuracy: 0.5525\n",
            "Epoch 48/200\n",
            "244/244 [==============================] - 2s 6ms/step - loss: 2.1063 - accuracy: 0.5617\n",
            "Epoch 49/200\n",
            "244/244 [==============================] - 2s 6ms/step - loss: 2.0619 - accuracy: 0.5770\n",
            "Epoch 50/200\n",
            "244/244 [==============================] - 1s 6ms/step - loss: 2.0130 - accuracy: 0.5839\n",
            "Epoch 51/200\n",
            "244/244 [==============================] - 1s 6ms/step - loss: 1.9682 - accuracy: 0.5917\n",
            "Epoch 52/200\n",
            "244/244 [==============================] - 1s 6ms/step - loss: 1.9261 - accuracy: 0.5991\n",
            "Epoch 53/200\n",
            "244/244 [==============================] - 1s 6ms/step - loss: 1.8804 - accuracy: 0.6148\n",
            "Epoch 54/200\n",
            "244/244 [==============================] - 1s 6ms/step - loss: 1.8388 - accuracy: 0.6218\n",
            "Epoch 55/200\n",
            "244/244 [==============================] - 1s 6ms/step - loss: 1.7961 - accuracy: 0.6350\n",
            "Epoch 56/200\n",
            "244/244 [==============================] - 1s 6ms/step - loss: 1.7571 - accuracy: 0.6404\n",
            "Epoch 57/200\n",
            "244/244 [==============================] - 1s 6ms/step - loss: 1.7169 - accuracy: 0.6489\n",
            "Epoch 58/200\n",
            "244/244 [==============================] - 1s 6ms/step - loss: 1.6754 - accuracy: 0.6624\n",
            "Epoch 59/200\n",
            "244/244 [==============================] - 1s 6ms/step - loss: 1.6375 - accuracy: 0.6665\n",
            "Epoch 60/200\n",
            "244/244 [==============================] - 1s 6ms/step - loss: 1.6005 - accuracy: 0.6753\n",
            "Epoch 61/200\n",
            "244/244 [==============================] - 1s 6ms/step - loss: 1.5618 - accuracy: 0.6833\n",
            "Epoch 62/200\n",
            "244/244 [==============================] - 1s 6ms/step - loss: 1.5260 - accuracy: 0.6935\n",
            "Epoch 63/200\n",
            "244/244 [==============================] - 1s 6ms/step - loss: 1.4913 - accuracy: 0.6981\n",
            "Epoch 64/200\n",
            "244/244 [==============================] - 1s 6ms/step - loss: 1.4557 - accuracy: 0.7096\n",
            "Epoch 65/200\n",
            "244/244 [==============================] - 2s 6ms/step - loss: 1.4193 - accuracy: 0.7191\n",
            "Epoch 66/200\n",
            "244/244 [==============================] - 2s 6ms/step - loss: 1.3876 - accuracy: 0.7247\n",
            "Epoch 67/200\n",
            "244/244 [==============================] - 1s 6ms/step - loss: 1.3540 - accuracy: 0.7306\n",
            "Epoch 68/200\n",
            "244/244 [==============================] - 2s 6ms/step - loss: 1.3206 - accuracy: 0.7380\n",
            "Epoch 69/200\n",
            "244/244 [==============================] - 1s 6ms/step - loss: 1.2887 - accuracy: 0.7443\n",
            "Epoch 70/200\n",
            "244/244 [==============================] - 1s 6ms/step - loss: 1.2592 - accuracy: 0.7486\n",
            "Epoch 71/200\n",
            "244/244 [==============================] - 1s 6ms/step - loss: 1.2268 - accuracy: 0.7586\n",
            "Epoch 72/200\n",
            "244/244 [==============================] - 1s 6ms/step - loss: 1.1987 - accuracy: 0.7655\n",
            "Epoch 73/200\n",
            "244/244 [==============================] - 1s 6ms/step - loss: 1.1677 - accuracy: 0.7666\n",
            "Epoch 74/200\n",
            "244/244 [==============================] - 1s 6ms/step - loss: 1.1406 - accuracy: 0.7771\n",
            "Epoch 75/200\n",
            "244/244 [==============================] - 2s 6ms/step - loss: 1.1118 - accuracy: 0.7800\n",
            "Epoch 76/200\n",
            "244/244 [==============================] - 2s 6ms/step - loss: 1.0857 - accuracy: 0.7855\n",
            "Epoch 77/200\n",
            "244/244 [==============================] - 2s 7ms/step - loss: 1.0591 - accuracy: 0.7908\n",
            "Epoch 78/200\n",
            "244/244 [==============================] - 2s 6ms/step - loss: 1.0333 - accuracy: 0.7934\n",
            "Epoch 79/200\n",
            "244/244 [==============================] - 2s 7ms/step - loss: 1.0088 - accuracy: 0.8006\n",
            "Epoch 80/200\n",
            "244/244 [==============================] - 2s 7ms/step - loss: 0.9823 - accuracy: 0.8073\n",
            "Epoch 81/200\n",
            "244/244 [==============================] - 1s 6ms/step - loss: 0.9589 - accuracy: 0.8140\n",
            "Epoch 82/200\n",
            "244/244 [==============================] - 2s 6ms/step - loss: 0.9356 - accuracy: 0.8169\n",
            "Epoch 83/200\n",
            "244/244 [==============================] - 1s 6ms/step - loss: 0.9117 - accuracy: 0.8196\n",
            "Epoch 84/200\n",
            "244/244 [==============================] - 1s 6ms/step - loss: 0.8904 - accuracy: 0.8269\n",
            "Epoch 85/200\n",
            "244/244 [==============================] - 1s 6ms/step - loss: 0.8680 - accuracy: 0.8269\n",
            "Epoch 86/200\n",
            "244/244 [==============================] - 2s 6ms/step - loss: 0.8476 - accuracy: 0.8319\n",
            "Epoch 87/200\n",
            "244/244 [==============================] - 1s 6ms/step - loss: 0.8296 - accuracy: 0.8375\n",
            "Epoch 88/200\n",
            "244/244 [==============================] - 1s 6ms/step - loss: 0.8068 - accuracy: 0.8413\n",
            "Epoch 89/200\n",
            "244/244 [==============================] - 1s 6ms/step - loss: 0.7887 - accuracy: 0.8428\n",
            "Epoch 90/200\n",
            "244/244 [==============================] - 1s 6ms/step - loss: 0.7701 - accuracy: 0.8497\n",
            "Epoch 91/200\n",
            "244/244 [==============================] - 1s 6ms/step - loss: 0.7528 - accuracy: 0.8542\n",
            "Epoch 92/200\n",
            "244/244 [==============================] - 1s 6ms/step - loss: 0.7355 - accuracy: 0.8560\n",
            "Epoch 93/200\n",
            "244/244 [==============================] - 1s 6ms/step - loss: 0.7180 - accuracy: 0.8598\n",
            "Epoch 94/200\n",
            "244/244 [==============================] - 2s 6ms/step - loss: 0.7000 - accuracy: 0.8645\n",
            "Epoch 95/200\n",
            "244/244 [==============================] - 2s 6ms/step - loss: 0.6834 - accuracy: 0.8671\n",
            "Epoch 96/200\n",
            "244/244 [==============================] - 2s 6ms/step - loss: 0.6713 - accuracy: 0.8668\n",
            "Epoch 97/200\n",
            "244/244 [==============================] - 2s 6ms/step - loss: 0.6542 - accuracy: 0.8718\n",
            "Epoch 98/200\n",
            "244/244 [==============================] - 1s 6ms/step - loss: 0.6405 - accuracy: 0.8752\n",
            "Epoch 99/200\n",
            "244/244 [==============================] - 1s 6ms/step - loss: 0.6246 - accuracy: 0.8766\n",
            "Epoch 100/200\n",
            "244/244 [==============================] - 1s 6ms/step - loss: 0.6107 - accuracy: 0.8783\n",
            "Epoch 101/200\n",
            "244/244 [==============================] - 2s 6ms/step - loss: 0.5984 - accuracy: 0.8812\n",
            "Epoch 102/200\n",
            "244/244 [==============================] - 2s 6ms/step - loss: 0.5876 - accuracy: 0.8854\n",
            "Epoch 103/200\n",
            "244/244 [==============================] - 1s 6ms/step - loss: 0.5725 - accuracy: 0.8861\n",
            "Epoch 104/200\n",
            "244/244 [==============================] - 1s 6ms/step - loss: 0.5615 - accuracy: 0.8845\n",
            "Epoch 105/200\n",
            "244/244 [==============================] - 1s 6ms/step - loss: 0.5481 - accuracy: 0.8881\n",
            "Epoch 106/200\n",
            "244/244 [==============================] - 1s 6ms/step - loss: 0.5367 - accuracy: 0.8907\n",
            "Epoch 107/200\n",
            "244/244 [==============================] - 2s 6ms/step - loss: 0.5262 - accuracy: 0.8939\n",
            "Epoch 108/200\n",
            "244/244 [==============================] - 1s 6ms/step - loss: 0.5156 - accuracy: 0.8953\n",
            "Epoch 109/200\n",
            "244/244 [==============================] - 1s 6ms/step - loss: 0.5046 - accuracy: 0.8952\n",
            "Epoch 110/200\n",
            "244/244 [==============================] - 1s 6ms/step - loss: 0.4946 - accuracy: 0.8999\n",
            "Epoch 111/200\n",
            "244/244 [==============================] - 1s 6ms/step - loss: 0.4874 - accuracy: 0.8975\n",
            "Epoch 112/200\n",
            "244/244 [==============================] - 1s 6ms/step - loss: 0.4769 - accuracy: 0.8980\n",
            "Epoch 113/200\n",
            "244/244 [==============================] - 1s 6ms/step - loss: 0.4661 - accuracy: 0.9002\n",
            "Epoch 114/200\n",
            "244/244 [==============================] - 2s 6ms/step - loss: 0.4577 - accuracy: 0.9031\n",
            "Epoch 115/200\n",
            "244/244 [==============================] - 1s 6ms/step - loss: 0.4506 - accuracy: 0.9032\n",
            "Epoch 116/200\n",
            "244/244 [==============================] - 2s 6ms/step - loss: 0.4416 - accuracy: 0.9038\n",
            "Epoch 117/200\n",
            "244/244 [==============================] - 2s 6ms/step - loss: 0.4358 - accuracy: 0.9045\n",
            "Epoch 118/200\n",
            "244/244 [==============================] - 2s 6ms/step - loss: 0.4280 - accuracy: 0.9054\n",
            "Epoch 119/200\n",
            "244/244 [==============================] - 1s 6ms/step - loss: 0.4192 - accuracy: 0.9073\n",
            "Epoch 120/200\n",
            "244/244 [==============================] - 1s 6ms/step - loss: 0.4266 - accuracy: 0.9067\n",
            "Epoch 121/200\n",
            "244/244 [==============================] - 1s 6ms/step - loss: 0.4124 - accuracy: 0.9079\n",
            "Epoch 122/200\n",
            "244/244 [==============================] - 2s 6ms/step - loss: 0.4010 - accuracy: 0.9093\n",
            "Epoch 123/200\n",
            "244/244 [==============================] - 2s 6ms/step - loss: 0.3932 - accuracy: 0.9118\n",
            "Epoch 124/200\n",
            "244/244 [==============================] - 2s 6ms/step - loss: 0.3874 - accuracy: 0.9093\n",
            "Epoch 125/200\n",
            "244/244 [==============================] - 2s 6ms/step - loss: 0.3815 - accuracy: 0.9109\n",
            "Epoch 126/200\n",
            "244/244 [==============================] - 2s 6ms/step - loss: 0.3762 - accuracy: 0.9127\n",
            "Epoch 127/200\n",
            "244/244 [==============================] - 2s 6ms/step - loss: 0.3709 - accuracy: 0.9109\n",
            "Epoch 128/200\n",
            "244/244 [==============================] - 2s 6ms/step - loss: 0.3704 - accuracy: 0.9126\n",
            "Epoch 129/200\n",
            "244/244 [==============================] - 2s 6ms/step - loss: 0.3628 - accuracy: 0.9134\n",
            "Epoch 130/200\n",
            "244/244 [==============================] - 2s 6ms/step - loss: 0.3612 - accuracy: 0.9107\n",
            "Epoch 131/200\n",
            "244/244 [==============================] - 2s 6ms/step - loss: 0.3550 - accuracy: 0.9148\n",
            "Epoch 132/200\n",
            "244/244 [==============================] - 2s 6ms/step - loss: 0.3491 - accuracy: 0.9143\n",
            "Epoch 133/200\n",
            "244/244 [==============================] - 2s 6ms/step - loss: 0.3470 - accuracy: 0.9135\n",
            "Epoch 134/200\n",
            "244/244 [==============================] - 2s 6ms/step - loss: 0.3431 - accuracy: 0.9135\n",
            "Epoch 135/200\n",
            "244/244 [==============================] - 2s 6ms/step - loss: 0.3389 - accuracy: 0.9143\n",
            "Epoch 136/200\n",
            "244/244 [==============================] - 2s 6ms/step - loss: 0.3376 - accuracy: 0.9150\n",
            "Epoch 137/200\n",
            "244/244 [==============================] - 2s 6ms/step - loss: 0.3366 - accuracy: 0.9130\n",
            "Epoch 138/200\n",
            "244/244 [==============================] - 2s 6ms/step - loss: 0.3302 - accuracy: 0.9145\n",
            "Epoch 139/200\n",
            "244/244 [==============================] - 2s 6ms/step - loss: 0.3300 - accuracy: 0.9131\n",
            "Epoch 140/200\n",
            "244/244 [==============================] - 2s 6ms/step - loss: 0.3294 - accuracy: 0.9149\n",
            "Epoch 141/200\n",
            "244/244 [==============================] - 2s 6ms/step - loss: 0.3226 - accuracy: 0.9150\n",
            "Epoch 142/200\n",
            "244/244 [==============================] - 2s 6ms/step - loss: 0.3174 - accuracy: 0.9154\n",
            "Epoch 143/200\n",
            "244/244 [==============================] - 2s 6ms/step - loss: 0.3160 - accuracy: 0.9162\n",
            "Epoch 144/200\n",
            "244/244 [==============================] - 2s 6ms/step - loss: 0.3134 - accuracy: 0.9157\n",
            "Epoch 145/200\n",
            "244/244 [==============================] - 2s 6ms/step - loss: 0.3093 - accuracy: 0.9159\n",
            "Epoch 146/200\n",
            "244/244 [==============================] - 2s 6ms/step - loss: 0.3084 - accuracy: 0.9153\n",
            "Epoch 147/200\n",
            "244/244 [==============================] - 2s 6ms/step - loss: 0.3068 - accuracy: 0.9158\n",
            "Epoch 148/200\n",
            "244/244 [==============================] - 2s 6ms/step - loss: 0.3057 - accuracy: 0.9154\n",
            "Epoch 149/200\n",
            "244/244 [==============================] - 2s 6ms/step - loss: 0.3025 - accuracy: 0.9145\n",
            "Epoch 150/200\n",
            "244/244 [==============================] - 2s 6ms/step - loss: 0.3025 - accuracy: 0.9161\n",
            "Epoch 151/200\n",
            "244/244 [==============================] - 2s 6ms/step - loss: 0.3006 - accuracy: 0.9155\n",
            "Epoch 152/200\n",
            "244/244 [==============================] - 1s 6ms/step - loss: 0.2974 - accuracy: 0.9148\n",
            "Epoch 153/200\n",
            "244/244 [==============================] - 2s 6ms/step - loss: 0.2964 - accuracy: 0.9163\n",
            "Epoch 154/200\n",
            "244/244 [==============================] - 2s 6ms/step - loss: 0.2928 - accuracy: 0.9173\n",
            "Epoch 155/200\n",
            "244/244 [==============================] - 2s 6ms/step - loss: 0.2957 - accuracy: 0.9157\n",
            "Epoch 156/200\n",
            "244/244 [==============================] - 2s 6ms/step - loss: 0.3194 - accuracy: 0.9125\n",
            "Epoch 157/200\n",
            "244/244 [==============================] - 2s 6ms/step - loss: 0.3064 - accuracy: 0.9139\n",
            "Epoch 158/200\n",
            "244/244 [==============================] - 1s 6ms/step - loss: 0.2892 - accuracy: 0.9166\n",
            "Epoch 159/200\n",
            "244/244 [==============================] - 2s 6ms/step - loss: 0.2860 - accuracy: 0.9181\n",
            "Epoch 160/200\n",
            "244/244 [==============================] - 2s 6ms/step - loss: 0.2854 - accuracy: 0.9179\n",
            "Epoch 161/200\n",
            "244/244 [==============================] - 1s 6ms/step - loss: 0.2839 - accuracy: 0.9171\n",
            "Epoch 162/200\n",
            "244/244 [==============================] - 2s 6ms/step - loss: 0.2829 - accuracy: 0.9161\n",
            "Epoch 163/200\n",
            "244/244 [==============================] - 2s 6ms/step - loss: 0.2815 - accuracy: 0.9157\n",
            "Epoch 164/200\n",
            "244/244 [==============================] - 2s 6ms/step - loss: 0.2825 - accuracy: 0.9157\n",
            "Epoch 165/200\n",
            "244/244 [==============================] - 2s 6ms/step - loss: 0.2808 - accuracy: 0.9173\n",
            "Epoch 166/200\n",
            "244/244 [==============================] - 2s 6ms/step - loss: 0.2802 - accuracy: 0.9176\n",
            "Epoch 167/200\n",
            "244/244 [==============================] - 2s 6ms/step - loss: 0.2793 - accuracy: 0.9155\n",
            "Epoch 168/200\n",
            "244/244 [==============================] - 2s 7ms/step - loss: 0.2776 - accuracy: 0.9166\n",
            "Epoch 169/200\n",
            "244/244 [==============================] - 2s 6ms/step - loss: 0.2782 - accuracy: 0.9153\n",
            "Epoch 170/200\n",
            "244/244 [==============================] - 2s 6ms/step - loss: 0.2776 - accuracy: 0.9168\n",
            "Epoch 171/200\n",
            "244/244 [==============================] - 2s 6ms/step - loss: 0.2764 - accuracy: 0.9150\n",
            "Epoch 172/200\n",
            "244/244 [==============================] - 2s 6ms/step - loss: 0.2753 - accuracy: 0.9175\n",
            "Epoch 173/200\n",
            "244/244 [==============================] - 2s 6ms/step - loss: 0.2756 - accuracy: 0.9168\n",
            "Epoch 174/200\n",
            "244/244 [==============================] - 2s 6ms/step - loss: 0.2732 - accuracy: 0.9153\n",
            "Epoch 175/200\n",
            "244/244 [==============================] - 2s 6ms/step - loss: 0.2812 - accuracy: 0.9154\n",
            "Epoch 176/200\n",
            "244/244 [==============================] - 2s 6ms/step - loss: 0.2761 - accuracy: 0.9171\n",
            "Epoch 177/200\n",
            "244/244 [==============================] - 2s 6ms/step - loss: 0.2727 - accuracy: 0.9166\n",
            "Epoch 178/200\n",
            "244/244 [==============================] - 2s 6ms/step - loss: 0.2704 - accuracy: 0.9177\n",
            "Epoch 179/200\n",
            "244/244 [==============================] - 2s 6ms/step - loss: 0.2709 - accuracy: 0.9155\n",
            "Epoch 180/200\n",
            "244/244 [==============================] - 2s 6ms/step - loss: 0.2712 - accuracy: 0.9159\n",
            "Epoch 181/200\n",
            "244/244 [==============================] - 1s 6ms/step - loss: 0.2706 - accuracy: 0.9157\n",
            "Epoch 182/200\n",
            "244/244 [==============================] - 2s 6ms/step - loss: 0.2682 - accuracy: 0.9155\n",
            "Epoch 183/200\n",
            "244/244 [==============================] - 2s 6ms/step - loss: 0.2661 - accuracy: 0.9152\n",
            "Epoch 184/200\n",
            "244/244 [==============================] - 2s 6ms/step - loss: 0.2679 - accuracy: 0.9154\n",
            "Epoch 185/200\n",
            "244/244 [==============================] - 2s 6ms/step - loss: 0.2677 - accuracy: 0.9175\n",
            "Epoch 186/200\n",
            "244/244 [==============================] - 1s 6ms/step - loss: 0.2669 - accuracy: 0.9172\n",
            "Epoch 187/200\n",
            "244/244 [==============================] - 2s 6ms/step - loss: 0.2664 - accuracy: 0.9166\n",
            "Epoch 188/200\n",
            "244/244 [==============================] - 1s 6ms/step - loss: 0.2665 - accuracy: 0.9152\n",
            "Epoch 189/200\n",
            "244/244 [==============================] - 2s 6ms/step - loss: 0.2645 - accuracy: 0.9184\n",
            "Epoch 190/200\n",
            "244/244 [==============================] - 2s 6ms/step - loss: 0.2654 - accuracy: 0.9143\n",
            "Epoch 191/200\n",
            "244/244 [==============================] - 2s 6ms/step - loss: 0.3070 - accuracy: 0.9061\n",
            "Epoch 192/200\n",
            "244/244 [==============================] - 1s 6ms/step - loss: 0.2899 - accuracy: 0.9116\n",
            "Epoch 193/200\n",
            "244/244 [==============================] - 2s 6ms/step - loss: 0.2666 - accuracy: 0.9170\n",
            "Epoch 194/200\n",
            "244/244 [==============================] - 2s 6ms/step - loss: 0.2637 - accuracy: 0.9159\n",
            "Epoch 195/200\n",
            "244/244 [==============================] - 2s 6ms/step - loss: 0.2626 - accuracy: 0.9159\n",
            "Epoch 196/200\n",
            "244/244 [==============================] - 2s 8ms/step - loss: 0.2619 - accuracy: 0.9167\n",
            "Epoch 197/200\n",
            "244/244 [==============================] - 2s 6ms/step - loss: 0.2613 - accuracy: 0.9155\n",
            "Epoch 198/200\n",
            "244/244 [==============================] - 2s 6ms/step - loss: 0.2621 - accuracy: 0.9180\n",
            "Epoch 199/200\n",
            "244/244 [==============================] - 2s 6ms/step - loss: 0.2608 - accuracy: 0.9170\n",
            "Epoch 200/200\n",
            "244/244 [==============================] - 2s 6ms/step - loss: 0.2624 - accuracy: 0.9158\n"
          ]
        }
      ]
    },
    {
      "cell_type": "code",
      "source": [
        "hist1.history['accuracy'][-1]"
      ],
      "metadata": {
        "colab": {
          "base_uri": "https://localhost:8080/"
        },
        "id": "sSe5UPW8hHKX",
        "outputId": "4749bca1-9558-4140-f9b2-e8008301f8eb"
      },
      "execution_count": 27,
      "outputs": [
        {
          "output_type": "execute_result",
          "data": {
            "text/plain": [
              "0.9158016443252563"
            ]
          },
          "metadata": {},
          "execution_count": 27
        }
      ]
    },
    {
      "cell_type": "markdown",
      "source": [
        "- 모델검증 "
      ],
      "metadata": {
        "id": "3eyMrhnSh_Nv"
      }
    },
    {
      "cell_type": "code",
      "source": [
        "up = files.upload()"
      ],
      "metadata": {
        "colab": {
          "resources": {
            "http://localhost:8080/nbextensions/google.colab/files.js": {
              "data": "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",
              "ok": true,
              "headers": [
                [
                  "content-type",
                  "application/javascript"
                ]
              ],
              "status": 200,
              "status_text": ""
            }
          },
          "base_uri": "https://localhost:8080/",
          "height": 73
        },
        "id": "nlNmfaQOiBZ4",
        "outputId": "3238cd53-80cc-4a43-d159-86d39a09b95c"
      },
      "execution_count": 28,
      "outputs": [
        {
          "output_type": "display_data",
          "data": {
            "text/plain": [
              "<IPython.core.display.HTML object>"
            ],
            "text/html": [
              "\n",
              "     <input type=\"file\" id=\"files-38272a6b-3c2e-4126-83dc-dd1ac248035d\" name=\"files[]\" multiple disabled\n",
              "        style=\"border:none\" />\n",
              "     <output id=\"result-38272a6b-3c2e-4126-83dc-dd1ac248035d\">\n",
              "      Upload widget is only available when the cell has been executed in the\n",
              "      current browser session. Please rerun this cell to enable.\n",
              "      </output>\n",
              "      <script src=\"/nbextensions/google.colab/files.js\"></script> "
            ]
          },
          "metadata": {}
        },
        {
          "output_type": "stream",
          "name": "stdout",
          "text": [
            "Saving my_util.py to my_util.py\n"
          ]
        }
      ]
    },
    {
      "cell_type": "code",
      "source": [
        "from my_util import sentence_generation"
      ],
      "metadata": {
        "id": "qAKv6TXziDb4"
      },
      "execution_count": 29,
      "outputs": []
    },
    {
      "cell_type": "code",
      "source": [
        "print(sentence_generation(model1, t, max_len, 'former', 8))\n",
        "print(sentence_generation(model1, t, max_len, 'epa', 8))\n",
        "print(sentence_generation(model1, t, max_len, 'how', 8))"
      ],
      "metadata": {
        "colab": {
          "base_uri": "https://localhost:8080/"
        },
        "id": "Y9XuLpBaiEf_",
        "outputId": "02438652-765d-45de-bf64-fb80d2fdc669"
      },
      "execution_count": 32,
      "outputs": [
        {
          "output_type": "stream",
          "name": "stdout",
          "text": [
            "former cheney aide is pardoned by trump in cia\n",
            "epa to unveil a new rule its effect less\n",
            "how to make facebook more accountable to live in\n"
          ]
        }
      ]
    },
    {
      "cell_type": "code",
      "source": [
        "y_acc = hist1.history['accuracy']\n",
        "y_loss = hist1.history['loss']\n",
        "xs = np.arange(1, len(y_acc)+1)"
      ],
      "metadata": {
        "id": "yrIbyZlDiFu9"
      },
      "execution_count": 33,
      "outputs": []
    },
    {
      "cell_type": "code",
      "source": [
        ""
      ],
      "metadata": {
        "id": "g2klULoX_RgN"
      },
      "execution_count": null,
      "outputs": []
    },
    {
      "cell_type": "code",
      "source": [
        "\n",
        "import matplotlib.pyplot as plt\n",
        "plt.figure(figsize=(12,8))\n",
        "plt.plot(xs, y_acc, label='accuracy')\n",
        "plt.plot(xs, y_loss, label='loss')\n",
        "plt.legend(), plt.grid()\n",
        "plt.ylim(0,1.2), plt.xlabel('Epoch')\n",
        "plt.show()"
      ],
      "metadata": {
        "colab": {
          "base_uri": "https://localhost:8080/",
          "height": 501
        },
        "id": "pu0k79beiHof",
        "outputId": "e071c959-e071-483d-e394-751949644b92"
      },
      "execution_count": 34,
      "outputs": [
        {
          "output_type": "display_data",
          "data": {
            "text/plain": [
              "<Figure size 864x576 with 1 Axes>"
            ],
            "image/png": "[encoded data removed]"
          },
          "metadata": {
            "needs_background": "light"
          }
        }
      ]
    },
    {
      "cell_type": "markdown",
      "source": [
        "### SimpleRNN으로 했을 때\n"
      ],
      "metadata": {
        "id": "8ANeq3Z7iIde"
      }
    },
    {
      "cell_type": "code",
      "source": [
        "from tensorflow.keras.layers import SimpleRNN"
      ],
      "metadata": {
        "id": "rOGZXQDNkAxc"
      },
      "execution_count": 17,
      "outputs": []
    },
    {
      "cell_type": "code",
      "source": [
        "model2 = Sequential([\n",
        "    Embedding(vocab_size, 10, input_length = max_len -1),\n",
        "    SimpleRNN(128),\n",
        "    Dense(vocab_size, activation='softmax')\n",
        "])\n",
        "model2.summary()"
      ],
      "metadata": {
        "colab": {
          "base_uri": "https://localhost:8080/",
          "height": 236
        },
        "id": "ZtgHShfkj3n1",
        "outputId": "491b7fe6-11eb-4cf8-a541-626c0d167d44"
      },
      "execution_count": 18,
      "outputs": [
        {
          "output_type": "error",
          "ename": "NameError",
          "evalue": "ignored",
          "traceback": [
            "\u001b[0;31m---------------------------------------------------------------------------\u001b[0m",
            "\u001b[0;31mNameError\u001b[0m                                 Traceback (most recent call last)",
            "\u001b[0;32m<ipython-input-18-9269f6aa15a7>\u001b[0m in \u001b[0;36m<module>\u001b[0;34m()\u001b[0m\n\u001b[0;32m----> 1\u001b[0;31m model2 = Sequential([\n\u001b[0m\u001b[1;32m      2\u001b[0m     \u001b[0mEmbedding\u001b[0m\u001b[0;34m(\u001b[0m\u001b[0mvocab_size\u001b[0m\u001b[0;34m,\u001b[0m \u001b[0;36m10\u001b[0m\u001b[0;34m,\u001b[0m \u001b[0minput_length\u001b[0m \u001b[0;34m=\u001b[0m \u001b[0mmax_len\u001b[0m \u001b[0;34m-\u001b[0m\u001b[0;36m1\u001b[0m\u001b[0;34m)\u001b[0m\u001b[0;34m,\u001b[0m\u001b[0;34m\u001b[0m\u001b[0;34m\u001b[0m\u001b[0m\n\u001b[1;32m      3\u001b[0m     \u001b[0mSimpleRNN\u001b[0m\u001b[0;34m(\u001b[0m\u001b[0;36m128\u001b[0m\u001b[0;34m)\u001b[0m\u001b[0;34m,\u001b[0m\u001b[0;34m\u001b[0m\u001b[0;34m\u001b[0m\u001b[0m\n\u001b[1;32m      4\u001b[0m     \u001b[0mDense\u001b[0m\u001b[0;34m(\u001b[0m\u001b[0mvocab_size\u001b[0m\u001b[0;34m,\u001b[0m \u001b[0mactivation\u001b[0m\u001b[0;34m=\u001b[0m\u001b[0;34m'softmax'\u001b[0m\u001b[0;34m)\u001b[0m\u001b[0;34m\u001b[0m\u001b[0;34m\u001b[0m\u001b[0m\n\u001b[1;32m      5\u001b[0m ])\n",
            "\u001b[0;31mNameError\u001b[0m: name 'Sequential' is not defined"
          ]
        }
      ]
    },
    {
      "cell_type": "code",
      "source": [
        "model2.compile('adam', 'categorical_crossentropy', ['accuracy'])"
      ],
      "metadata": {
        "colab": {
          "base_uri": "https://localhost:8080/",
          "height": 166
        },
        "id": "gdJr3ACikLG7",
        "outputId": "f0ae98d6-7c30-4a11-a59e-d4a91a32ed54"
      },
      "execution_count": 19,
      "outputs": [
        {
          "output_type": "error",
          "ename": "NameError",
          "evalue": "ignored",
          "traceback": [
            "\u001b[0;31m---------------------------------------------------------------------------\u001b[0m",
            "\u001b[0;31mNameError\u001b[0m                                 Traceback (most recent call last)",
            "\u001b[0;32m<ipython-input-19-bc6ef2a5d411>\u001b[0m in \u001b[0;36m<module>\u001b[0;34m()\u001b[0m\n\u001b[0;32m----> 1\u001b[0;31m \u001b[0mmodel2\u001b[0m\u001b[0;34m.\u001b[0m\u001b[0mcompile\u001b[0m\u001b[0;34m(\u001b[0m\u001b[0;34m'adam'\u001b[0m\u001b[0;34m,\u001b[0m \u001b[0;34m'categorical_crossentropy'\u001b[0m\u001b[0;34m,\u001b[0m \u001b[0;34m[\u001b[0m\u001b[0;34m'accuracy'\u001b[0m\u001b[0;34m]\u001b[0m\u001b[0;34m)\u001b[0m\u001b[0;34m\u001b[0m\u001b[0;34m\u001b[0m\u001b[0m\n\u001b[0m",
            "\u001b[0;31mNameError\u001b[0m: name 'model2' is not defined"
          ]
        }
      ]
    },
    {
      "cell_type": "code",
      "source": [
        "hist2 = model2.fit(X, Y, epochs=200, verbose=0)"
      ],
      "metadata": {
        "colab": {
          "base_uri": "https://localhost:8080/",
          "height": 166
        },
        "id": "8fPT12MFkRRJ",
        "outputId": "dd4ba13a-0875-4461-8e6a-e6ae3a1535e6"
      },
      "execution_count": 20,
      "outputs": [
        {
          "output_type": "error",
          "ename": "NameError",
          "evalue": "ignored",
          "traceback": [
            "\u001b[0;31m---------------------------------------------------------------------------\u001b[0m",
            "\u001b[0;31mNameError\u001b[0m                                 Traceback (most recent call last)",
            "\u001b[0;32m<ipython-input-20-bb259911b8b5>\u001b[0m in \u001b[0;36m<module>\u001b[0;34m()\u001b[0m\n\u001b[0;32m----> 1\u001b[0;31m \u001b[0mhist2\u001b[0m \u001b[0;34m=\u001b[0m \u001b[0mmodel2\u001b[0m\u001b[0;34m.\u001b[0m\u001b[0mfit\u001b[0m\u001b[0;34m(\u001b[0m\u001b[0mX\u001b[0m\u001b[0;34m,\u001b[0m \u001b[0mY\u001b[0m\u001b[0;34m,\u001b[0m \u001b[0mepochs\u001b[0m\u001b[0;34m=\u001b[0m\u001b[0;36m200\u001b[0m\u001b[0;34m,\u001b[0m \u001b[0mverbose\u001b[0m\u001b[0;34m=\u001b[0m\u001b[0;36m0\u001b[0m\u001b[0;34m)\u001b[0m\u001b[0;34m\u001b[0m\u001b[0;34m\u001b[0m\u001b[0m\n\u001b[0m",
            "\u001b[0;31mNameError\u001b[0m: name 'model2' is not defined"
          ]
        }
      ]
    },
    {
      "cell_type": "code",
      "source": [
        "hist2.history['accuracy'][-1]"
      ],
      "metadata": {
        "colab": {
          "base_uri": "https://localhost:8080/"
        },
        "id": "K0Vaao9WkbAj",
        "outputId": "6d155d70-207e-472f-a472-7f0b04877f25"
      },
      "execution_count": 43,
      "outputs": [
        {
          "output_type": "execute_result",
          "data": {
            "text/plain": [
              "0.9145200848579407"
            ]
          },
          "metadata": {},
          "execution_count": 43
        }
      ]
    },
    {
      "cell_type": "markdown",
      "source": [
        "### GRU\n",
        " - Embedding vector 갯수 : 10\n",
        " - GRU unit 갯수 : 128"
      ],
      "metadata": {
        "id": "ZzBPWUyBvsn6"
      }
    },
    {
      "cell_type": "code",
      "source": [
        "\n",
        "import numpy as np\n",
        "import tensorflow as tf\n",
        "seed = 2022\n",
        "np.random.seed(seed)\n",
        "tf.random.set_seed(seed)"
      ],
      "metadata": {
        "id": "eoLd82b8vsvd"
      },
      "execution_count": 21,
      "outputs": []
    },
    {
      "cell_type": "code",
      "source": [
        "from tensorflow.keras.models import Sequential, load_model\n",
        "from tensorflow.keras.layers import Dense, GRU, Embedding"
      ],
      "metadata": {
        "id": "BNHUeKQ3vs39"
      },
      "execution_count": 22,
      "outputs": []
    },
    {
      "cell_type": "code",
      "source": [
        "model1 = Sequential([\n",
        "    Embedding(vocab_size, 10, input_length=max_len -1),\n",
        "    GRU(128),\n",
        "    Dense(vocab_size, activation='softmax')\n",
        "])\n",
        "model1.summary()"
      ],
      "metadata": {
        "colab": {
          "base_uri": "https://localhost:8080/"
        },
        "id": "Q1K6ElbZvs6w",
        "outputId": "b1c2c259-a662-42cd-bba4-76da4c939d50"
      },
      "execution_count": 23,
      "outputs": [
        {
          "output_type": "stream",
          "name": "stdout",
          "text": [
            "Model: \"sequential\"\n",
            "_________________________________________________________________\n",
            " Layer (type)                Output Shape              Param #   \n",
            "=================================================================\n",
            " embedding (Embedding)       (None, 23, 10)            34940     \n",
            "                                                                 \n",
            " gru (GRU)                   (None, 128)               53760     \n",
            "                                                                 \n",
            " dense (Dense)               (None, 3494)              450726    \n",
            "                                                                 \n",
            "=================================================================\n",
            "Total params: 539,426\n",
            "Trainable params: 539,426\n",
            "Non-trainable params: 0\n",
            "_________________________________________________________________\n"
          ]
        }
      ]
    },
    {
      "cell_type": "code",
      "source": [
        "model1.compile('adam', 'categorical_crossentropy', ['accuracy'])"
      ],
      "metadata": {
        "id": "7NBur7x9-psx"
      },
      "execution_count": 24,
      "outputs": []
    },
    {
      "cell_type": "code",
      "source": [
        "hist1 = model1.fit(X, Y, epochs=200, verbose=1)"
      ],
      "metadata": {
        "colab": {
          "base_uri": "https://localhost:8080/"
        },
        "id": "Mwsuy2jL-u_v",
        "outputId": "d67afb9e-6da6-4032-80ed-77675d15951e"
      },
      "execution_count": 26,
      "outputs": [
        {
          "output_type": "stream",
          "name": "stdout",
          "text": [
            "Epoch 1/200\n",
            "244/244 [==============================] - 2s 10ms/step - loss: 7.6793 - accuracy: 0.0302\n",
            "Epoch 2/200\n",
            "244/244 [==============================] - 2s 7ms/step - loss: 7.1224 - accuracy: 0.0308\n",
            "Epoch 3/200\n",
            "244/244 [==============================] - 2s 6ms/step - loss: 6.9090 - accuracy: 0.0442\n",
            "Epoch 4/200\n",
            "244/244 [==============================] - 2s 7ms/step - loss: 6.6893 - accuracy: 0.0481\n",
            "Epoch 5/200\n",
            "244/244 [==============================] - 2s 6ms/step - loss: 6.4516 - accuracy: 0.0536\n",
            "Epoch 6/200\n",
            "244/244 [==============================] - 2s 8ms/step - loss: 6.1916 - accuracy: 0.0583\n",
            "Epoch 7/200\n",
            "244/244 [==============================] - 1s 6ms/step - loss: 5.9183 - accuracy: 0.0619\n",
            "Epoch 8/200\n",
            "244/244 [==============================] - 1s 6ms/step - loss: 5.6428 - accuracy: 0.0686\n",
            "Epoch 9/200\n",
            "244/244 [==============================] - 1s 6ms/step - loss: 5.3802 - accuracy: 0.0741\n",
            "Epoch 10/200\n",
            "244/244 [==============================] - 1s 6ms/step - loss: 5.1275 - accuracy: 0.0837\n",
            "Epoch 11/200\n",
            "244/244 [==============================] - 1s 6ms/step - loss: 4.8876 - accuracy: 0.0968\n",
            "Epoch 12/200\n",
            "244/244 [==============================] - 1s 6ms/step - loss: 4.6588 - accuracy: 0.1211\n",
            "Epoch 13/200\n",
            "244/244 [==============================] - 1s 6ms/step - loss: 4.4438 - accuracy: 0.1425\n",
            "Epoch 14/200\n",
            "244/244 [==============================] - 1s 6ms/step - loss: 4.2394 - accuracy: 0.1710\n",
            "Epoch 15/200\n",
            "244/244 [==============================] - 1s 6ms/step - loss: 4.0423 - accuracy: 0.2004\n",
            "Epoch 16/200\n",
            "244/244 [==============================] - 1s 6ms/step - loss: 3.8568 - accuracy: 0.2364\n",
            "Epoch 17/200\n",
            "244/244 [==============================] - 1s 6ms/step - loss: 3.6831 - accuracy: 0.2632\n",
            "Epoch 18/200\n",
            "244/244 [==============================] - 2s 7ms/step - loss: 3.5182 - accuracy: 0.2978\n",
            "Epoch 19/200\n",
            "244/244 [==============================] - 2s 6ms/step - loss: 3.3625 - accuracy: 0.3258\n",
            "Epoch 20/200\n",
            "244/244 [==============================] - 2s 6ms/step - loss: 3.2148 - accuracy: 0.3482\n",
            "Epoch 21/200\n",
            "244/244 [==============================] - 2s 8ms/step - loss: 3.0744 - accuracy: 0.3687\n",
            "Epoch 22/200\n",
            "244/244 [==============================] - 1s 6ms/step - loss: 2.9453 - accuracy: 0.4045\n",
            "Epoch 23/200\n",
            "244/244 [==============================] - 1s 6ms/step - loss: 2.8208 - accuracy: 0.4210\n",
            "Epoch 24/200\n",
            "244/244 [==============================] - 1s 6ms/step - loss: 2.7055 - accuracy: 0.4461\n",
            "Epoch 25/200\n",
            "244/244 [==============================] - 1s 6ms/step - loss: 2.5967 - accuracy: 0.4652\n",
            "Epoch 26/200\n",
            "244/244 [==============================] - 2s 9ms/step - loss: 2.4907 - accuracy: 0.4910\n",
            "Epoch 27/200\n",
            "244/244 [==============================] - 1s 6ms/step - loss: 2.3921 - accuracy: 0.5103\n",
            "Epoch 28/200\n",
            "244/244 [==============================] - 1s 6ms/step - loss: 2.3055 - accuracy: 0.5258\n",
            "Epoch 29/200\n",
            "244/244 [==============================] - 1s 6ms/step - loss: 2.2140 - accuracy: 0.5470\n",
            "Epoch 30/200\n",
            "244/244 [==============================] - 1s 6ms/step - loss: 2.1305 - accuracy: 0.5620\n",
            "Epoch 31/200\n",
            "244/244 [==============================] - 1s 6ms/step - loss: 2.0485 - accuracy: 0.5790\n",
            "Epoch 32/200\n",
            "244/244 [==============================] - 1s 6ms/step - loss: 1.9729 - accuracy: 0.5993\n",
            "Epoch 33/200\n",
            "244/244 [==============================] - 1s 6ms/step - loss: 1.9032 - accuracy: 0.6109\n",
            "Epoch 34/200\n",
            "244/244 [==============================] - 1s 6ms/step - loss: 1.8321 - accuracy: 0.6263\n",
            "Epoch 35/200\n",
            "244/244 [==============================] - 1s 6ms/step - loss: 1.7671 - accuracy: 0.6455\n",
            "Epoch 36/200\n",
            "244/244 [==============================] - 1s 5ms/step - loss: 1.6983 - accuracy: 0.6560\n",
            "Epoch 37/200\n",
            "244/244 [==============================] - 1s 6ms/step - loss: 1.6344 - accuracy: 0.6704\n",
            "Epoch 38/200\n",
            "244/244 [==============================] - 2s 7ms/step - loss: 1.5750 - accuracy: 0.6847\n",
            "Epoch 39/200\n",
            "244/244 [==============================] - 2s 8ms/step - loss: 1.5197 - accuracy: 0.6976\n",
            "Epoch 40/200\n",
            "244/244 [==============================] - 1s 6ms/step - loss: 1.4647 - accuracy: 0.7068\n",
            "Epoch 41/200\n",
            "244/244 [==============================] - 1s 6ms/step - loss: 1.4121 - accuracy: 0.7169\n",
            "Epoch 42/200\n",
            "244/244 [==============================] - 1s 6ms/step - loss: 1.3569 - accuracy: 0.7305\n",
            "Epoch 43/200\n",
            "244/244 [==============================] - 1s 6ms/step - loss: 1.3095 - accuracy: 0.7397\n",
            "Epoch 44/200\n",
            "244/244 [==============================] - 2s 7ms/step - loss: 1.2592 - accuracy: 0.7463\n",
            "Epoch 45/200\n",
            "244/244 [==============================] - 2s 8ms/step - loss: 1.2116 - accuracy: 0.7580\n",
            "Epoch 46/200\n",
            "244/244 [==============================] - 2s 7ms/step - loss: 1.1678 - accuracy: 0.7643\n",
            "Epoch 47/200\n",
            "244/244 [==============================] - 2s 7ms/step - loss: 1.1253 - accuracy: 0.7768\n",
            "Epoch 48/200\n",
            "244/244 [==============================] - 2s 7ms/step - loss: 1.0815 - accuracy: 0.7855\n",
            "Epoch 49/200\n",
            "244/244 [==============================] - 3s 10ms/step - loss: 1.0390 - accuracy: 0.7935\n",
            "Epoch 50/200\n",
            "244/244 [==============================] - 2s 7ms/step - loss: 0.9997 - accuracy: 0.7994\n",
            "Epoch 51/200\n",
            "244/244 [==============================] - 1s 6ms/step - loss: 0.9652 - accuracy: 0.8043\n",
            "Epoch 52/200\n",
            "244/244 [==============================] - 1s 6ms/step - loss: 0.9292 - accuracy: 0.8139\n",
            "Epoch 53/200\n",
            "244/244 [==============================] - 1s 5ms/step - loss: 0.8961 - accuracy: 0.8183\n",
            "Epoch 54/200\n",
            "244/244 [==============================] - 1s 5ms/step - loss: 0.8631 - accuracy: 0.8265\n",
            "Epoch 55/200\n",
            "244/244 [==============================] - 1s 5ms/step - loss: 0.8353 - accuracy: 0.8324\n",
            "Epoch 56/200\n",
            "244/244 [==============================] - 1s 6ms/step - loss: 0.7975 - accuracy: 0.8367\n",
            "Epoch 57/200\n",
            "244/244 [==============================] - 1s 6ms/step - loss: 0.7709 - accuracy: 0.8456\n",
            "Epoch 58/200\n",
            "244/244 [==============================] - 1s 6ms/step - loss: 0.7431 - accuracy: 0.8451\n",
            "Epoch 59/200\n",
            "244/244 [==============================] - 1s 6ms/step - loss: 0.7175 - accuracy: 0.8524\n",
            "Epoch 60/200\n",
            "244/244 [==============================] - 1s 6ms/step - loss: 0.6916 - accuracy: 0.8574\n",
            "Epoch 61/200\n",
            "244/244 [==============================] - 1s 6ms/step - loss: 0.6686 - accuracy: 0.8606\n",
            "Epoch 62/200\n",
            "244/244 [==============================] - 1s 6ms/step - loss: 0.6434 - accuracy: 0.8677\n",
            "Epoch 63/200\n",
            "244/244 [==============================] - 1s 6ms/step - loss: 0.6242 - accuracy: 0.8688\n",
            "Epoch 64/200\n",
            "244/244 [==============================] - 1s 6ms/step - loss: 0.6032 - accuracy: 0.8763\n",
            "Epoch 65/200\n",
            "244/244 [==============================] - 1s 6ms/step - loss: 0.5842 - accuracy: 0.8788\n",
            "Epoch 66/200\n",
            "244/244 [==============================] - 1s 6ms/step - loss: 0.5699 - accuracy: 0.8813\n",
            "Epoch 67/200\n",
            "244/244 [==============================] - 1s 6ms/step - loss: 0.5506 - accuracy: 0.8881\n",
            "Epoch 68/200\n",
            "244/244 [==============================] - 1s 6ms/step - loss: 0.5355 - accuracy: 0.8884\n",
            "Epoch 69/200\n",
            "244/244 [==============================] - 1s 6ms/step - loss: 0.5136 - accuracy: 0.8920\n",
            "Epoch 70/200\n",
            "244/244 [==============================] - 1s 6ms/step - loss: 0.4974 - accuracy: 0.8977\n",
            "Epoch 71/200\n",
            "244/244 [==============================] - 1s 6ms/step - loss: 0.4887 - accuracy: 0.8971\n",
            "Epoch 72/200\n",
            "244/244 [==============================] - 1s 6ms/step - loss: 0.4766 - accuracy: 0.8995\n",
            "Epoch 73/200\n",
            "244/244 [==============================] - 1s 6ms/step - loss: 0.4704 - accuracy: 0.9003\n",
            "Epoch 74/200\n",
            "244/244 [==============================] - 1s 5ms/step - loss: 0.4591 - accuracy: 0.9018\n",
            "Epoch 75/200\n",
            "244/244 [==============================] - 1s 6ms/step - loss: 0.4400 - accuracy: 0.9049\n",
            "Epoch 76/200\n",
            "244/244 [==============================] - 1s 5ms/step - loss: 0.4289 - accuracy: 0.9068\n",
            "Epoch 77/200\n",
            "244/244 [==============================] - 1s 5ms/step - loss: 0.4204 - accuracy: 0.9050\n",
            "Epoch 78/200\n",
            "244/244 [==============================] - 1s 6ms/step - loss: 0.4143 - accuracy: 0.9084\n",
            "Epoch 79/200\n",
            "244/244 [==============================] - 1s 6ms/step - loss: 0.4113 - accuracy: 0.9076\n",
            "Epoch 80/200\n",
            "244/244 [==============================] - 1s 6ms/step - loss: 0.3931 - accuracy: 0.9121\n",
            "Epoch 81/200\n",
            "244/244 [==============================] - 1s 6ms/step - loss: 0.3843 - accuracy: 0.9121\n",
            "Epoch 82/200\n",
            "244/244 [==============================] - 1s 6ms/step - loss: 0.3779 - accuracy: 0.9122\n",
            "Epoch 83/200\n",
            "244/244 [==============================] - 1s 6ms/step - loss: 0.3746 - accuracy: 0.9120\n",
            "Epoch 84/200\n",
            "244/244 [==============================] - 1s 6ms/step - loss: 0.3748 - accuracy: 0.9123\n",
            "Epoch 85/200\n",
            "244/244 [==============================] - 1s 6ms/step - loss: 0.4236 - accuracy: 0.9044\n",
            "Epoch 86/200\n",
            "244/244 [==============================] - 1s 6ms/step - loss: 0.3901 - accuracy: 0.9095\n",
            "Epoch 87/200\n",
            "244/244 [==============================] - 1s 6ms/step - loss: 0.3619 - accuracy: 0.9118\n",
            "Epoch 88/200\n",
            "244/244 [==============================] - 1s 6ms/step - loss: 0.3450 - accuracy: 0.9140\n",
            "Epoch 89/200\n",
            "244/244 [==============================] - 1s 6ms/step - loss: 0.3382 - accuracy: 0.9145\n",
            "Epoch 90/200\n",
            "244/244 [==============================] - 1s 6ms/step - loss: 0.3354 - accuracy: 0.9144\n",
            "Epoch 91/200\n",
            "244/244 [==============================] - 1s 6ms/step - loss: 0.3329 - accuracy: 0.9148\n",
            "Epoch 92/200\n",
            "244/244 [==============================] - 1s 6ms/step - loss: 0.3298 - accuracy: 0.9153\n",
            "Epoch 93/200\n",
            "244/244 [==============================] - 1s 5ms/step - loss: 0.3310 - accuracy: 0.9132\n",
            "Epoch 94/200\n",
            "244/244 [==============================] - 1s 6ms/step - loss: 0.3300 - accuracy: 0.9150\n",
            "Epoch 95/200\n",
            "244/244 [==============================] - 1s 6ms/step - loss: 0.3282 - accuracy: 0.9132\n",
            "Epoch 96/200\n",
            "244/244 [==============================] - 1s 6ms/step - loss: 0.3274 - accuracy: 0.9139\n",
            "Epoch 97/200\n",
            "244/244 [==============================] - 1s 6ms/step - loss: 0.3240 - accuracy: 0.9155\n",
            "Epoch 98/200\n",
            "244/244 [==============================] - 1s 6ms/step - loss: 0.3246 - accuracy: 0.9139\n",
            "Epoch 99/200\n",
            "244/244 [==============================] - 1s 6ms/step - loss: 0.3231 - accuracy: 0.9145\n",
            "Epoch 100/200\n",
            "244/244 [==============================] - 2s 7ms/step - loss: 0.3750 - accuracy: 0.9064\n",
            "Epoch 101/200\n",
            "244/244 [==============================] - 1s 6ms/step - loss: 0.4906 - accuracy: 0.8794\n",
            "Epoch 102/200\n",
            "244/244 [==============================] - 1s 6ms/step - loss: 0.3440 - accuracy: 0.9114\n",
            "Epoch 103/200\n",
            "244/244 [==============================] - 1s 6ms/step - loss: 0.3114 - accuracy: 0.9149\n",
            "Epoch 104/200\n",
            "244/244 [==============================] - 1s 6ms/step - loss: 0.3049 - accuracy: 0.9158\n",
            "Epoch 105/200\n",
            "244/244 [==============================] - 1s 6ms/step - loss: 0.3030 - accuracy: 0.9150\n",
            "Epoch 106/200\n",
            "244/244 [==============================] - 1s 6ms/step - loss: 0.3018 - accuracy: 0.9150\n",
            "Epoch 107/200\n",
            "244/244 [==============================] - 1s 6ms/step - loss: 0.2993 - accuracy: 0.9155\n",
            "Epoch 108/200\n",
            "244/244 [==============================] - 1s 6ms/step - loss: 0.2995 - accuracy: 0.9168\n",
            "Epoch 109/200\n",
            "244/244 [==============================] - 1s 6ms/step - loss: 0.2993 - accuracy: 0.9132\n",
            "Epoch 110/200\n",
            "244/244 [==============================] - 2s 7ms/step - loss: 0.2976 - accuracy: 0.9154\n",
            "Epoch 111/200\n",
            "244/244 [==============================] - 1s 6ms/step - loss: 0.2975 - accuracy: 0.9149\n",
            "Epoch 112/200\n",
            "244/244 [==============================] - 1s 6ms/step - loss: 0.3000 - accuracy: 0.9154\n",
            "Epoch 113/200\n",
            "244/244 [==============================] - 1s 6ms/step - loss: 0.2964 - accuracy: 0.9146\n",
            "Epoch 114/200\n",
            "244/244 [==============================] - 1s 6ms/step - loss: 0.2956 - accuracy: 0.9154\n",
            "Epoch 115/200\n",
            "244/244 [==============================] - 1s 6ms/step - loss: 0.2969 - accuracy: 0.9141\n",
            "Epoch 116/200\n",
            "244/244 [==============================] - 1s 6ms/step - loss: 0.2975 - accuracy: 0.9145\n",
            "Epoch 117/200\n",
            "244/244 [==============================] - 1s 6ms/step - loss: 0.2971 - accuracy: 0.9139\n",
            "Epoch 118/200\n",
            "244/244 [==============================] - 1s 6ms/step - loss: 0.2978 - accuracy: 0.9164\n",
            "Epoch 119/200\n",
            "244/244 [==============================] - 1s 6ms/step - loss: 0.3326 - accuracy: 0.9100\n",
            "Epoch 120/200\n",
            "244/244 [==============================] - 2s 7ms/step - loss: 0.3629 - accuracy: 0.9047\n",
            "Epoch 121/200\n",
            "244/244 [==============================] - 1s 6ms/step - loss: 0.3443 - accuracy: 0.9057\n",
            "Epoch 122/200\n",
            "244/244 [==============================] - 1s 6ms/step - loss: 0.3036 - accuracy: 0.9131\n",
            "Epoch 123/200\n",
            "244/244 [==============================] - 1s 6ms/step - loss: 0.2912 - accuracy: 0.9167\n",
            "Epoch 124/200\n",
            "244/244 [==============================] - 1s 6ms/step - loss: 0.2884 - accuracy: 0.9155\n",
            "Epoch 125/200\n",
            "244/244 [==============================] - 1s 6ms/step - loss: 0.2879 - accuracy: 0.9164\n",
            "Epoch 126/200\n",
            "244/244 [==============================] - 1s 6ms/step - loss: 0.2877 - accuracy: 0.9162\n",
            "Epoch 127/200\n",
            "244/244 [==============================] - 1s 6ms/step - loss: 0.2891 - accuracy: 0.9150\n",
            "Epoch 128/200\n",
            "244/244 [==============================] - 1s 6ms/step - loss: 0.2886 - accuracy: 0.9154\n",
            "Epoch 129/200\n",
            "244/244 [==============================] - 1s 6ms/step - loss: 0.2878 - accuracy: 0.9152\n",
            "Epoch 130/200\n",
            "244/244 [==============================] - 1s 6ms/step - loss: 0.2889 - accuracy: 0.9138\n",
            "Epoch 131/200\n",
            "244/244 [==============================] - 1s 6ms/step - loss: 0.2904 - accuracy: 0.9148\n",
            "Epoch 132/200\n",
            "244/244 [==============================] - 1s 6ms/step - loss: 0.2881 - accuracy: 0.9150\n",
            "Epoch 133/200\n",
            "244/244 [==============================] - 1s 6ms/step - loss: 0.2914 - accuracy: 0.9150\n",
            "Epoch 134/200\n",
            "244/244 [==============================] - 1s 6ms/step - loss: 0.2878 - accuracy: 0.9145\n",
            "Epoch 135/200\n",
            "244/244 [==============================] - 1s 6ms/step - loss: 0.2868 - accuracy: 0.9148\n",
            "Epoch 136/200\n",
            "244/244 [==============================] - 1s 6ms/step - loss: 0.2919 - accuracy: 0.9153\n",
            "Epoch 137/200\n",
            "244/244 [==============================] - 1s 6ms/step - loss: 0.2898 - accuracy: 0.9134\n",
            "Epoch 138/200\n",
            "244/244 [==============================] - 1s 6ms/step - loss: 0.2871 - accuracy: 0.9161\n",
            "Epoch 139/200\n",
            "244/244 [==============================] - 1s 6ms/step - loss: 0.3178 - accuracy: 0.9070\n",
            "Epoch 140/200\n",
            "244/244 [==============================] - 1s 6ms/step - loss: 0.3890 - accuracy: 0.8929\n",
            "Epoch 141/200\n",
            "244/244 [==============================] - 1s 6ms/step - loss: 0.3307 - accuracy: 0.9061\n",
            "Epoch 142/200\n",
            "244/244 [==============================] - 1s 6ms/step - loss: 0.2959 - accuracy: 0.9150\n",
            "Epoch 143/200\n",
            "244/244 [==============================] - 1s 6ms/step - loss: 0.2871 - accuracy: 0.9149\n",
            "Epoch 144/200\n",
            "244/244 [==============================] - 1s 6ms/step - loss: 0.2844 - accuracy: 0.9168\n",
            "Epoch 145/200\n",
            "244/244 [==============================] - 1s 6ms/step - loss: 0.2831 - accuracy: 0.9157\n",
            "Epoch 146/200\n",
            "244/244 [==============================] - 1s 6ms/step - loss: 0.2837 - accuracy: 0.9141\n",
            "Epoch 147/200\n",
            "244/244 [==============================] - 1s 6ms/step - loss: 0.2830 - accuracy: 0.9162\n",
            "Epoch 148/200\n",
            "244/244 [==============================] - 1s 6ms/step - loss: 0.2821 - accuracy: 0.9152\n",
            "Epoch 149/200\n",
            "244/244 [==============================] - 1s 6ms/step - loss: 0.2818 - accuracy: 0.9150\n",
            "Epoch 150/200\n",
            "244/244 [==============================] - 1s 6ms/step - loss: 0.2831 - accuracy: 0.9145\n",
            "Epoch 151/200\n",
            "244/244 [==============================] - 1s 6ms/step - loss: 0.2832 - accuracy: 0.9135\n",
            "Epoch 152/200\n",
            "244/244 [==============================] - 1s 6ms/step - loss: 0.2838 - accuracy: 0.9143\n",
            "Epoch 153/200\n",
            "244/244 [==============================] - 1s 6ms/step - loss: 0.2821 - accuracy: 0.9145\n",
            "Epoch 154/200\n",
            "244/244 [==============================] - 1s 6ms/step - loss: 0.2824 - accuracy: 0.9159\n",
            "Epoch 155/200\n",
            "244/244 [==============================] - 1s 6ms/step - loss: 0.2824 - accuracy: 0.9150\n",
            "Epoch 156/200\n",
            "244/244 [==============================] - 1s 6ms/step - loss: 0.2828 - accuracy: 0.9153\n",
            "Epoch 157/200\n",
            "244/244 [==============================] - 1s 6ms/step - loss: 0.2836 - accuracy: 0.9150\n",
            "Epoch 158/200\n",
            "244/244 [==============================] - 1s 6ms/step - loss: 0.2874 - accuracy: 0.9140\n",
            "Epoch 159/200\n",
            "244/244 [==============================] - 2s 7ms/step - loss: 0.2848 - accuracy: 0.9164\n",
            "Epoch 160/200\n",
            "244/244 [==============================] - 1s 6ms/step - loss: 0.3310 - accuracy: 0.9073\n",
            "Epoch 161/200\n",
            "244/244 [==============================] - 1s 6ms/step - loss: 0.4013 - accuracy: 0.8888\n",
            "Epoch 162/200\n",
            "244/244 [==============================] - 1s 6ms/step - loss: 0.3224 - accuracy: 0.9064\n",
            "Epoch 163/200\n",
            "244/244 [==============================] - 1s 6ms/step - loss: 0.2912 - accuracy: 0.9140\n",
            "Epoch 164/200\n",
            "244/244 [==============================] - 1s 6ms/step - loss: 0.2834 - accuracy: 0.9148\n",
            "Epoch 165/200\n",
            "244/244 [==============================] - 1s 6ms/step - loss: 0.2821 - accuracy: 0.9141\n",
            "Epoch 166/200\n",
            "244/244 [==============================] - 1s 6ms/step - loss: 0.2807 - accuracy: 0.9167\n",
            "Epoch 167/200\n",
            "244/244 [==============================] - 1s 6ms/step - loss: 0.2811 - accuracy: 0.9150\n",
            "Epoch 168/200\n",
            "244/244 [==============================] - 1s 6ms/step - loss: 0.2800 - accuracy: 0.9141\n",
            "Epoch 169/200\n",
            "244/244 [==============================] - 1s 6ms/step - loss: 0.2803 - accuracy: 0.9140\n",
            "Epoch 170/200\n",
            "244/244 [==============================] - 1s 6ms/step - loss: 0.2808 - accuracy: 0.9150\n",
            "Epoch 171/200\n",
            "244/244 [==============================] - 1s 6ms/step - loss: 0.2800 - accuracy: 0.9140\n",
            "Epoch 172/200\n",
            "244/244 [==============================] - 1s 5ms/step - loss: 0.2797 - accuracy: 0.9164\n",
            "Epoch 173/200\n",
            "244/244 [==============================] - 1s 6ms/step - loss: 0.2798 - accuracy: 0.9158\n",
            "Epoch 174/200\n",
            "244/244 [==============================] - 1s 6ms/step - loss: 0.2794 - accuracy: 0.9146\n",
            "Epoch 175/200\n",
            "244/244 [==============================] - 1s 6ms/step - loss: 0.2801 - accuracy: 0.9144\n",
            "Epoch 176/200\n",
            "244/244 [==============================] - 1s 6ms/step - loss: 0.2796 - accuracy: 0.9150\n",
            "Epoch 177/200\n",
            "244/244 [==============================] - 1s 6ms/step - loss: 0.2803 - accuracy: 0.9153\n",
            "Epoch 178/200\n",
            "244/244 [==============================] - 1s 6ms/step - loss: 0.2805 - accuracy: 0.9162\n",
            "Epoch 179/200\n",
            "244/244 [==============================] - 1s 6ms/step - loss: 0.2808 - accuracy: 0.9140\n",
            "Epoch 180/200\n",
            "244/244 [==============================] - 2s 6ms/step - loss: 0.2812 - accuracy: 0.9152\n",
            "Epoch 181/200\n",
            "244/244 [==============================] - 1s 6ms/step - loss: 0.2795 - accuracy: 0.9152\n",
            "Epoch 182/200\n",
            "244/244 [==============================] - 1s 6ms/step - loss: 0.2821 - accuracy: 0.9145\n",
            "Epoch 183/200\n",
            "244/244 [==============================] - 1s 6ms/step - loss: 0.3166 - accuracy: 0.9057\n",
            "Epoch 184/200\n",
            "244/244 [==============================] - 1s 6ms/step - loss: 0.3848 - accuracy: 0.8916\n",
            "Epoch 185/200\n",
            "244/244 [==============================] - 1s 6ms/step - loss: 0.3231 - accuracy: 0.9081\n",
            "Epoch 186/200\n",
            "244/244 [==============================] - 1s 6ms/step - loss: 0.2911 - accuracy: 0.9136\n",
            "Epoch 187/200\n",
            "244/244 [==============================] - 1s 6ms/step - loss: 0.2834 - accuracy: 0.9157\n",
            "Epoch 188/200\n",
            "244/244 [==============================] - 1s 6ms/step - loss: 0.2797 - accuracy: 0.9148\n",
            "Epoch 189/200\n",
            "244/244 [==============================] - 1s 6ms/step - loss: 0.2773 - accuracy: 0.9164\n",
            "Epoch 190/200\n",
            "244/244 [==============================] - 1s 6ms/step - loss: 0.2770 - accuracy: 0.9145\n",
            "Epoch 191/200\n",
            "244/244 [==============================] - 1s 6ms/step - loss: 0.2780 - accuracy: 0.9145\n",
            "Epoch 192/200\n",
            "244/244 [==============================] - 1s 6ms/step - loss: 0.2778 - accuracy: 0.9148\n",
            "Epoch 193/200\n",
            "244/244 [==============================] - 1s 6ms/step - loss: 0.2780 - accuracy: 0.9157\n",
            "Epoch 194/200\n",
            "244/244 [==============================] - 1s 6ms/step - loss: 0.2776 - accuracy: 0.9143\n",
            "Epoch 195/200\n",
            "244/244 [==============================] - 2s 7ms/step - loss: 0.2775 - accuracy: 0.9153\n",
            "Epoch 196/200\n",
            "244/244 [==============================] - 1s 6ms/step - loss: 0.2780 - accuracy: 0.9157\n",
            "Epoch 197/200\n",
            "244/244 [==============================] - 1s 6ms/step - loss: 0.2776 - accuracy: 0.9149\n",
            "Epoch 198/200\n",
            "244/244 [==============================] - 1s 6ms/step - loss: 0.2788 - accuracy: 0.9158\n",
            "Epoch 199/200\n",
            "244/244 [==============================] - 1s 6ms/step - loss: 0.2780 - accuracy: 0.9161\n",
            "Epoch 200/200\n",
            "244/244 [==============================] - 1s 6ms/step - loss: 0.2783 - accuracy: 0.9153\n"
          ]
        }
      ]
    },
    {
      "cell_type": "code",
      "source": [
        "hist1.history['accuracy'][-1]"
      ],
      "metadata": {
        "colab": {
          "base_uri": "https://localhost:8080/"
        },
        "id": "Rsxw3eFV_H_4",
        "outputId": "a42b8247-d1b1-438c-ff78-ec91c2a1bd01"
      },
      "execution_count": 27,
      "outputs": [
        {
          "output_type": "execute_result",
          "data": {
            "text/plain": [
              "0.9152889847755432"
            ]
          },
          "metadata": {},
          "execution_count": 27
        }
      ]
    },
    {
      "cell_type": "code",
      "source": [
        "up = files.upload()"
      ],
      "metadata": {
        "colab": {
          "resources": {
            "http://localhost:8080/nbextensions/google.colab/files.js": {
              "data": "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",
              "ok": true,
              "headers": [
                [
                  "content-type",
                  "application/javascript"
                ]
              ],
              "status": 200,
              "status_text": ""
            }
          },
          "base_uri": "https://localhost:8080/",
          "height": 73
        },
        "id": "OiXbEVXg_blS",
        "outputId": "63b47965-d62d-43e4-f854-90ce51eab04b"
      },
      "execution_count": 28,
      "outputs": [
        {
          "output_type": "display_data",
          "data": {
            "text/plain": [
              "<IPython.core.display.HTML object>"
            ],
            "text/html": [
              "\n",
              "     <input type=\"file\" id=\"files-9f4a7ea5-345e-456a-a8bc-0e115d24dba5\" name=\"files[]\" multiple disabled\n",
              "        style=\"border:none\" />\n",
              "     <output id=\"result-9f4a7ea5-345e-456a-a8bc-0e115d24dba5\">\n",
              "      Upload widget is only available when the cell has been executed in the\n",
              "      current browser session. Please rerun this cell to enable.\n",
              "      </output>\n",
              "      <script src=\"/nbextensions/google.colab/files.js\"></script> "
            ]
          },
          "metadata": {}
        },
        {
          "output_type": "stream",
          "name": "stdout",
          "text": [
            "Saving my_util.py to my_util.py\n"
          ]
        }
      ]
    },
    {
      "cell_type": "code",
      "source": [
        "from my_util import sentence_generation"
      ],
      "metadata": {
        "id": "3puwABBA_NOh"
      },
      "execution_count": 29,
      "outputs": []
    },
    {
      "cell_type": "code",
      "source": [
        "print(sentence_generation(model1, t, max_len, 'former', 8))\n",
        "print(sentence_generation(model1, t, max_len, 'epa', 8))\n",
        "print(sentence_generation(model1, t, max_len, 'how', 8))"
      ],
      "metadata": {
        "colab": {
          "base_uri": "https://localhost:8080/"
        },
        "id": "0oKhwve-_Y6o",
        "outputId": "ba1b62bd-6787-4151-93c4-332ca08e7803"
      },
      "execution_count": 30,
      "outputs": [
        {
          "output_type": "stream",
          "name": "stdout",
          "text": [
            "former judge to review files seized in searches battle\n",
            "epa to unveil a new rule its effect less\n",
            "how to make facebook more accountable risks as it\n"
          ]
        }
      ]
    },
    {
      "cell_type": "code",
      "source": [
        ""
      ],
      "metadata": {
        "id": "7cEHOa09_ZCd"
      },
      "execution_count": 30,
      "outputs": []
    },
    {
      "cell_type": "code",
      "source": [
        "y_acc = hist1.history['accuracy']\n",
        "y_loss = hist1.history['loss']\n",
        "xs = np.arange(1, len(y_acc)+1)"
      ],
      "metadata": {
        "id": "ouVhaxHF_SfJ"
      },
      "execution_count": 31,
      "outputs": []
    },
    {
      "cell_type": "code",
      "source": [
        "import matplotlib.pyplot as plt\n",
        "plt.figure(figsize=(12,8))\n",
        "plt.plot(xs, y_acc, label='accuracy')\n",
        "plt.plot(xs, y_loss, label='loss')\n",
        "plt.legend(), plt.grid()\n",
        "plt.ylim(0,1.2), plt.xlabel('Epoch')\n",
        "plt.show()"
      ],
      "metadata": {
        "colab": {
          "base_uri": "https://localhost:8080/",
          "height": 501
        },
        "id": "03noW8vG_UVG",
        "outputId": "c0b48b56-4fa9-44a3-e840-4a08c5175ef4"
      },
      "execution_count": 32,
      "outputs": [
        {
          "output_type": "display_data",
          "data": {
            "text/plain": [
              "<Figure size 864x576 with 1 Axes>"
            ],
            "image/png": "[encoded data removed]"
          },
          "metadata": {
            "needs_background": "light"
          }
        }
      ]
    },
    {
      "cell_type": "markdown",
      "source": [
        "### SimpleRNN을 이용한 SMS Spam 분류\n",
        " - 캐글 데이터: https://www.kaggle.com/uciml/sms-spam-collection-dataset"
      ],
      "metadata": {
        "id": "DMBN5NEEF32v"
      }
    },
    {
      "cell_type": "code",
      "source": [
        "import pandas as pd\n",
        "url = 'https://raw.githubusercontent.com/ukairia777/tensorflow-nlp-tutorial/main/10.%20RNN%20Text%20Classification/dataset/spam.csv'"
      ],
      "metadata": {
        "id": "ElfnRmIjGJro"
      },
      "execution_count": 63,
      "outputs": []
    },
    {
      "cell_type": "code",
      "source": [
        "df = pd.read_csv(url, encoding='latin1')\n",
        "df.head(3) "
      ],
      "metadata": {
        "colab": {
          "base_uri": "https://localhost:8080/",
          "height": 143
        },
        "id": "nz0Nu2OMGQKo",
        "outputId": "8d3337f2-d5d7-47c1-bab1-ab5bab63f1af"
      },
      "execution_count": 64,
      "outputs": [
        {
          "output_type": "execute_result",
          "data": {
            "text/plain": [
              "     v1                                                 v2 Unnamed: 2  \\\n",
              "0   ham  Go until jurong point, crazy.. Available only ...        NaN   \n",
              "1   ham                      Ok lar... Joking wif u oni...        NaN   \n",
              "2  spam  Free entry in 2 a wkly comp to win FA Cup fina...        NaN   \n",
              "\n",
              "  Unnamed: 3 Unnamed: 4  \n",
              "0        NaN        NaN  \n",
              "1        NaN        NaN  \n",
              "2        NaN        NaN  "
            ],
            "text/html": [
              "\n",
              "  <div id=\"df-81b1ff8f-c7f2-4143-add3-9b6f3c3dd5a5\">\n",
              "    <div class=\"colab-df-container\">\n",
              "      <div>\n",
              "<style scoped>\n",
              "    .dataframe tbody tr th:only-of-type {\n",
              "        vertical-align: middle;\n",
              "    }\n",
              "\n",
              "    .dataframe tbody tr th {\n",
              "        vertical-align: top;\n",
              "    }\n",
              "\n",
              "    .dataframe thead th {\n",
              "        text-align: right;\n",
              "    }\n",
              "</style>\n",
              "<table border=\"1\" class=\"dataframe\">\n",
              "  <thead>\n",
              "    <tr style=\"text-align: right;\">\n",
              "      <th></th>\n",
              "      <th>v1</th>\n",
              "      <th>v2</th>\n",
              "      <th>Unnamed: 2</th>\n",
              "      <th>Unnamed: 3</th>\n",
              "      <th>Unnamed: 4</th>\n",
              "    </tr>\n",
              "  </thead>\n",
              "  <tbody>\n",
              "    <tr>\n",
              "      <th>0</th>\n",
              "      <td>ham</td>\n",
              "      <td>Go until jurong point, crazy.. Available only ...</td>\n",
              "      <td>NaN</td>\n",
              "      <td>NaN</td>\n",
              "      <td>NaN</td>\n",
              "    </tr>\n",
              "    <tr>\n",
              "      <th>1</th>\n",
              "      <td>ham</td>\n",
              "      <td>Ok lar... Joking wif u oni...</td>\n",
              "      <td>NaN</td>\n",
              "      <td>NaN</td>\n",
              "      <td>NaN</td>\n",
              "    </tr>\n",
              "    <tr>\n",
              "      <th>2</th>\n",
              "      <td>spam</td>\n",
              "      <td>Free entry in 2 a wkly comp to win FA Cup fina...</td>\n",
              "      <td>NaN</td>\n",
              "      <td>NaN</td>\n",
              "      <td>NaN</td>\n",
              "    </tr>\n",
              "  </tbody>\n",
              "</table>\n",
              "</div>\n",
              "      <button class=\"colab-df-convert\" onclick=\"convertToInteractive('df-81b1ff8f-c7f2-4143-add3-9b6f3c3dd5a5')\"\n",
              "              title=\"Convert this dataframe to an interactive table.\"\n",
              "              style=\"display:none;\">\n",
              "        \n",
              "  <svg xmlns=\"http://www.w3.org/2000/svg\" height=\"24px\"viewBox=\"0 0 24 24\"\n",
              "       width=\"24px\">\n",
              "    <path d=\"M0 0h24v24H0V0z\" fill=\"none\"/>\n",
              "    <path d=\"M18.56 5.44l.94 2.06.94-2.06 2.06-.94-2.06-.94-.94-2.06-.94 2.06-2.06.94zm-11 1L8.5 8.5l.94-2.06 2.06-.94-2.06-.94L8.5 2.5l-.94 2.06-2.06.94zm10 10l.94 2.06.94-2.06 2.06-.94-2.06-.94-.94-2.06-.94 2.06-2.06.94z\"/><path d=\"M17.41 7.96l-1.37-1.37c-.4-.4-.92-.59-1.43-.59-.52 0-1.04.2-1.43.59L10.3 9.45l-7.72 7.72c-.78.78-.78 2.05 0 2.83L4 21.41c.39.39.9.59 1.41.59.51 0 1.02-.2 1.41-.59l7.78-7.78 2.81-2.81c.8-.78.8-2.07 0-2.86zM5.41 20L4 18.59l7.72-7.72 1.47 1.35L5.41 20z\"/>\n",
              "  </svg>\n",
              "      </button>\n",
              "      \n",
              "  <style>\n",
              "    .colab-df-container {\n",
              "      display:flex;\n",
              "      flex-wrap:wrap;\n",
              "      gap: 12px;\n",
              "    }\n",
              "\n",
              "    .colab-df-convert {\n",
              "      background-color: #E8F0FE;\n",
              "      border: none;\n",
              "      border-radius: 50%;\n",
              "      cursor: pointer;\n",
              "      display: none;\n",
              "      fill: #1967D2;\n",
              "      height: 32px;\n",
              "      padding: 0 0 0 0;\n",
              "      width: 32px;\n",
              "    }\n",
              "\n",
              "    .colab-df-convert:hover {\n",
              "      background-color: #E2EBFA;\n",
              "      box-shadow: 0px 1px 2px rgba(60, 64, 67, 0.3), 0px 1px 3px 1px rgba(60, 64, 67, 0.15);\n",
              "      fill: #174EA6;\n",
              "    }\n",
              "\n",
              "    [theme=dark] .colab-df-convert {\n",
              "      background-color: #3B4455;\n",
              "      fill: #D2E3FC;\n",
              "    }\n",
              "\n",
              "    [theme=dark] .colab-df-convert:hover {\n",
              "      background-color: #434B5C;\n",
              "      box-shadow: 0px 1px 3px 1px rgba(0, 0, 0, 0.15);\n",
              "      filter: drop-shadow(0px 1px 2px rgba(0, 0, 0, 0.3));\n",
              "      fill: #FFFFFF;\n",
              "    }\n",
              "  </style>\n",
              "\n",
              "      <script>\n",
              "        const buttonEl =\n",
              "          document.querySelector('#df-81b1ff8f-c7f2-4143-add3-9b6f3c3dd5a5 button.colab-df-convert');\n",
              "        buttonEl.style.display =\n",
              "          google.colab.kernel.accessAllowed ? 'block' : 'none';\n",
              "\n",
              "        async function convertToInteractive(key) {\n",
              "          const element = document.querySelector('#df-81b1ff8f-c7f2-4143-add3-9b6f3c3dd5a5');\n",
              "          const dataTable =\n",
              "            await google.colab.kernel.invokeFunction('convertToInteractive',\n",
              "                                                     [key], {});\n",
              "          if (!dataTable) return;\n",
              "\n",
              "          const docLinkHtml = 'Like what you see? Visit the ' +\n",
              "            '<a target=\"_blank\" href=https://colab.research.google.com/notebooks/data_table.ipynb>data table notebook</a>'\n",
              "            + ' to learn more about interactive tables.';\n",
              "          element.innerHTML = '';\n",
              "          dataTable['output_type'] = 'display_data';\n",
              "          await google.colab.output.renderOutput(dataTable, element);\n",
              "          const docLink = document.createElement('div');\n",
              "          docLink.innerHTML = docLinkHtml;\n",
              "          element.appendChild(docLink);\n",
              "        }\n",
              "      </script>\n",
              "    </div>\n",
              "  </div>\n",
              "  "
            ]
          },
          "metadata": {},
          "execution_count": 64
        }
      ]
    },
    {
      "cell_type": "code",
      "source": [
        "# Selection\n",
        "df = df[['v1', 'v2']]\n",
        "df.head()"
      ],
      "metadata": {
        "colab": {
          "base_uri": "https://localhost:8080/",
          "height": 206
        },
        "id": "K-W1uDvAGf-X",
        "outputId": "b1f55258-23d4-4c37-c123-162ed316bd2f"
      },
      "execution_count": 65,
      "outputs": [
        {
          "output_type": "execute_result",
          "data": {
            "text/plain": [
              "     v1                                                 v2\n",
              "0   ham  Go until jurong point, crazy.. Available only ...\n",
              "1   ham                      Ok lar... Joking wif u oni...\n",
              "2  spam  Free entry in 2 a wkly comp to win FA Cup fina...\n",
              "3   ham  U dun say so early hor... U c already then say...\n",
              "4   ham  Nah I don't think he goes to usf, he lives aro..."
            ],
            "text/html": [
              "\n",
              "  <div id=\"df-34a4f78e-2fd2-40a5-8148-7b730a611773\">\n",
              "    <div class=\"colab-df-container\">\n",
              "      <div>\n",
              "<style scoped>\n",
              "    .dataframe tbody tr th:only-of-type {\n",
              "        vertical-align: middle;\n",
              "    }\n",
              "\n",
              "    .dataframe tbody tr th {\n",
              "        vertical-align: top;\n",
              "    }\n",
              "\n",
              "    .dataframe thead th {\n",
              "        text-align: right;\n",
              "    }\n",
              "</style>\n",
              "<table border=\"1\" class=\"dataframe\">\n",
              "  <thead>\n",
              "    <tr style=\"text-align: right;\">\n",
              "      <th></th>\n",
              "      <th>v1</th>\n",
              "      <th>v2</th>\n",
              "    </tr>\n",
              "  </thead>\n",
              "  <tbody>\n",
              "    <tr>\n",
              "      <th>0</th>\n",
              "      <td>ham</td>\n",
              "      <td>Go until jurong point, crazy.. Available only ...</td>\n",
              "    </tr>\n",
              "    <tr>\n",
              "      <th>1</th>\n",
              "      <td>ham</td>\n",
              "      <td>Ok lar... Joking wif u oni...</td>\n",
              "    </tr>\n",
              "    <tr>\n",
              "      <th>2</th>\n",
              "      <td>spam</td>\n",
              "      <td>Free entry in 2 a wkly comp to win FA Cup fina...</td>\n",
              "    </tr>\n",
              "    <tr>\n",
              "      <th>3</th>\n",
              "      <td>ham</td>\n",
              "      <td>U dun say so early hor... U c already then say...</td>\n",
              "    </tr>\n",
              "    <tr>\n",
              "      <th>4</th>\n",
              "      <td>ham</td>\n",
              "      <td>Nah I don't think he goes to usf, he lives aro...</td>\n",
              "    </tr>\n",
              "  </tbody>\n",
              "</table>\n",
              "</div>\n",
              "      <button class=\"colab-df-convert\" onclick=\"convertToInteractive('df-34a4f78e-2fd2-40a5-8148-7b730a611773')\"\n",
              "              title=\"Convert this dataframe to an interactive table.\"\n",
              "              style=\"display:none;\">\n",
              "        \n",
              "  <svg xmlns=\"http://www.w3.org/2000/svg\" height=\"24px\"viewBox=\"0 0 24 24\"\n",
              "       width=\"24px\">\n",
              "    <path d=\"M0 0h24v24H0V0z\" fill=\"none\"/>\n",
              "    <path d=\"M18.56 5.44l.94 2.06.94-2.06 2.06-.94-2.06-.94-.94-2.06-.94 2.06-2.06.94zm-11 1L8.5 8.5l.94-2.06 2.06-.94-2.06-.94L8.5 2.5l-.94 2.06-2.06.94zm10 10l.94 2.06.94-2.06 2.06-.94-2.06-.94-.94-2.06-.94 2.06-2.06.94z\"/><path d=\"M17.41 7.96l-1.37-1.37c-.4-.4-.92-.59-1.43-.59-.52 0-1.04.2-1.43.59L10.3 9.45l-7.72 7.72c-.78.78-.78 2.05 0 2.83L4 21.41c.39.39.9.59 1.41.59.51 0 1.02-.2 1.41-.59l7.78-7.78 2.81-2.81c.8-.78.8-2.07 0-2.86zM5.41 20L4 18.59l7.72-7.72 1.47 1.35L5.41 20z\"/>\n",
              "  </svg>\n",
              "      </button>\n",
              "      \n",
              "  <style>\n",
              "    .colab-df-container {\n",
              "      display:flex;\n",
              "      flex-wrap:wrap;\n",
              "      gap: 12px;\n",
              "    }\n",
              "\n",
              "    .colab-df-convert {\n",
              "      background-color: #E8F0FE;\n",
              "      border: none;\n",
              "      border-radius: 50%;\n",
              "      cursor: pointer;\n",
              "      display: none;\n",
              "      fill: #1967D2;\n",
              "      height: 32px;\n",
              "      padding: 0 0 0 0;\n",
              "      width: 32px;\n",
              "    }\n",
              "\n",
              "    .colab-df-convert:hover {\n",
              "      background-color: #E2EBFA;\n",
              "      box-shadow: 0px 1px 2px rgba(60, 64, 67, 0.3), 0px 1px 3px 1px rgba(60, 64, 67, 0.15);\n",
              "      fill: #174EA6;\n",
              "    }\n",
              "\n",
              "    [theme=dark] .colab-df-convert {\n",
              "      background-color: #3B4455;\n",
              "      fill: #D2E3FC;\n",
              "    }\n",
              "\n",
              "    [theme=dark] .colab-df-convert:hover {\n",
              "      background-color: #434B5C;\n",
              "      box-shadow: 0px 1px 3px 1px rgba(0, 0, 0, 0.15);\n",
              "      filter: drop-shadow(0px 1px 2px rgba(0, 0, 0, 0.3));\n",
              "      fill: #FFFFFF;\n",
              "    }\n",
              "  </style>\n",
              "\n",
              "      <script>\n",
              "        const buttonEl =\n",
              "          document.querySelector('#df-34a4f78e-2fd2-40a5-8148-7b730a611773 button.colab-df-convert');\n",
              "        buttonEl.style.display =\n",
              "          google.colab.kernel.accessAllowed ? 'block' : 'none';\n",
              "\n",
              "        async function convertToInteractive(key) {\n",
              "          const element = document.querySelector('#df-34a4f78e-2fd2-40a5-8148-7b730a611773');\n",
              "          const dataTable =\n",
              "            await google.colab.kernel.invokeFunction('convertToInteractive',\n",
              "                                                     [key], {});\n",
              "          if (!dataTable) return;\n",
              "\n",
              "          const docLinkHtml = 'Like what you see? Visit the ' +\n",
              "            '<a target=\"_blank\" href=https://colab.research.google.com/notebooks/data_table.ipynb>data table notebook</a>'\n",
              "            + ' to learn more about interactive tables.';\n",
              "          element.innerHTML = '';\n",
              "          dataTable['output_type'] = 'display_data';\n",
              "          await google.colab.output.renderOutput(dataTable, element);\n",
              "          const docLink = document.createElement('div');\n",
              "          docLink.innerHTML = docLinkHtml;\n",
              "          element.appendChild(docLink);\n",
              "        }\n",
              "      </script>\n",
              "    </div>\n",
              "  </div>\n",
              "  "
            ]
          },
          "metadata": {},
          "execution_count": 65
        }
      ]
    },
    {
      "cell_type": "code",
      "source": [
        "# Null data check\n",
        "df.isna().sum().sum()"
      ],
      "metadata": {
        "colab": {
          "base_uri": "https://localhost:8080/"
        },
        "id": "K2wlt5iSGlFg",
        "outputId": "1088cc38-a503-4bb8-c397-0af07d8d8168"
      },
      "execution_count": 66,
      "outputs": [
        {
          "output_type": "execute_result",
          "data": {
            "text/plain": [
              "0"
            ]
          },
          "metadata": {},
          "execution_count": 66
        }
      ]
    },
    {
      "cell_type": "code",
      "source": [
        "df.v1.shape, df.v2.shape"
      ],
      "metadata": {
        "colab": {
          "base_uri": "https://localhost:8080/"
        },
        "id": "OkAryWUUGp7m",
        "outputId": "9b9f010f-bd92-4214-ae58-3b98c6ba0bd4"
      },
      "execution_count": 67,
      "outputs": [
        {
          "output_type": "execute_result",
          "data": {
            "text/plain": [
              "((5572,), (5572,))"
            ]
          },
          "metadata": {},
          "execution_count": 67
        }
      ]
    },
    {
      "cell_type": "code",
      "source": [
        "df.drop_duplicates(subset=['v2'], inplace=True)\n",
        "df.shape"
      ],
      "metadata": {
        "colab": {
          "base_uri": "https://localhost:8080/"
        },
        "id": "LS8rxvSNGtX2",
        "outputId": "0d3b9bf7-9a1d-4687-810e-dcced3f8ca0c"
      },
      "execution_count": 68,
      "outputs": [
        {
          "output_type": "execute_result",
          "data": {
            "text/plain": [
              "(5169, 2)"
            ]
          },
          "metadata": {},
          "execution_count": 68
        }
      ]
    },
    {
      "cell_type": "code",
      "source": [
        "# ['ham', 'spam'] -> [0, 1]\n",
        "df.v1 = df.v1.replace(['ham', 'spam'], [0,1])\n",
        "df.head()"
      ],
      "metadata": {
        "colab": {
          "base_uri": "https://localhost:8080/",
          "height": 206
        },
        "id": "jFhtnsZWGxpG",
        "outputId": "b29285cd-4936-48ca-ce1d-f3a688dd8083"
      },
      "execution_count": 69,
      "outputs": [
        {
          "output_type": "execute_result",
          "data": {
            "text/plain": [
              "   v1                                                 v2\n",
              "0   0  Go until jurong point, crazy.. Available only ...\n",
              "1   0                      Ok lar... Joking wif u oni...\n",
              "2   1  Free entry in 2 a wkly comp to win FA Cup fina...\n",
              "3   0  U dun say so early hor... U c already then say...\n",
              "4   0  Nah I don't think he goes to usf, he lives aro..."
            ],
            "text/html": [
              "\n",
              "  <div id=\"df-40d3edf2-8959-49f5-817e-d518989489f0\">\n",
              "    <div class=\"colab-df-container\">\n",
              "      <div>\n",
              "<style scoped>\n",
              "    .dataframe tbody tr th:only-of-type {\n",
              "        vertical-align: middle;\n",
              "    }\n",
              "\n",
              "    .dataframe tbody tr th {\n",
              "        vertical-align: top;\n",
              "    }\n",
              "\n",
              "    .dataframe thead th {\n",
              "        text-align: right;\n",
              "    }\n",
              "</style>\n",
              "<table border=\"1\" class=\"dataframe\">\n",
              "  <thead>\n",
              "    <tr style=\"text-align: right;\">\n",
              "      <th></th>\n",
              "      <th>v1</th>\n",
              "      <th>v2</th>\n",
              "    </tr>\n",
              "  </thead>\n",
              "  <tbody>\n",
              "    <tr>\n",
              "      <th>0</th>\n",
              "      <td>0</td>\n",
              "      <td>Go until jurong point, crazy.. Available only ...</td>\n",
              "    </tr>\n",
              "    <tr>\n",
              "      <th>1</th>\n",
              "      <td>0</td>\n",
              "      <td>Ok lar... Joking wif u oni...</td>\n",
              "    </tr>\n",
              "    <tr>\n",
              "      <th>2</th>\n",
              "      <td>1</td>\n",
              "      <td>Free entry in 2 a wkly comp to win FA Cup fina...</td>\n",
              "    </tr>\n",
              "    <tr>\n",
              "      <th>3</th>\n",
              "      <td>0</td>\n",
              "      <td>U dun say so early hor... U c already then say...</td>\n",
              "    </tr>\n",
              "    <tr>\n",
              "      <th>4</th>\n",
              "      <td>0</td>\n",
              "      <td>Nah I don't think he goes to usf, he lives aro...</td>\n",
              "    </tr>\n",
              "  </tbody>\n",
              "</table>\n",
              "</div>\n",
              "      <button class=\"colab-df-convert\" onclick=\"convertToInteractive('df-40d3edf2-8959-49f5-817e-d518989489f0')\"\n",
              "              title=\"Convert this dataframe to an interactive table.\"\n",
              "              style=\"display:none;\">\n",
              "        \n",
              "  <svg xmlns=\"http://www.w3.org/2000/svg\" height=\"24px\"viewBox=\"0 0 24 24\"\n",
              "       width=\"24px\">\n",
              "    <path d=\"M0 0h24v24H0V0z\" fill=\"none\"/>\n",
              "    <path d=\"M18.56 5.44l.94 2.06.94-2.06 2.06-.94-2.06-.94-.94-2.06-.94 2.06-2.06.94zm-11 1L8.5 8.5l.94-2.06 2.06-.94-2.06-.94L8.5 2.5l-.94 2.06-2.06.94zm10 10l.94 2.06.94-2.06 2.06-.94-2.06-.94-.94-2.06-.94 2.06-2.06.94z\"/><path d=\"M17.41 7.96l-1.37-1.37c-.4-.4-.92-.59-1.43-.59-.52 0-1.04.2-1.43.59L10.3 9.45l-7.72 7.72c-.78.78-.78 2.05 0 2.83L4 21.41c.39.39.9.59 1.41.59.51 0 1.02-.2 1.41-.59l7.78-7.78 2.81-2.81c.8-.78.8-2.07 0-2.86zM5.41 20L4 18.59l7.72-7.72 1.47 1.35L5.41 20z\"/>\n",
              "  </svg>\n",
              "      </button>\n",
              "      \n",
              "  <style>\n",
              "    .colab-df-container {\n",
              "      display:flex;\n",
              "      flex-wrap:wrap;\n",
              "      gap: 12px;\n",
              "    }\n",
              "\n",
              "    .colab-df-convert {\n",
              "      background-color: #E8F0FE;\n",
              "      border: none;\n",
              "      border-radius: 50%;\n",
              "      cursor: pointer;\n",
              "      display: none;\n",
              "      fill: #1967D2;\n",
              "      height: 32px;\n",
              "      padding: 0 0 0 0;\n",
              "      width: 32px;\n",
              "    }\n",
              "\n",
              "    .colab-df-convert:hover {\n",
              "      background-color: #E2EBFA;\n",
              "      box-shadow: 0px 1px 2px rgba(60, 64, 67, 0.3), 0px 1px 3px 1px rgba(60, 64, 67, 0.15);\n",
              "      fill: #174EA6;\n",
              "    }\n",
              "\n",
              "    [theme=dark] .colab-df-convert {\n",
              "      background-color: #3B4455;\n",
              "      fill: #D2E3FC;\n",
              "    }\n",
              "\n",
              "    [theme=dark] .colab-df-convert:hover {\n",
              "      background-color: #434B5C;\n",
              "      box-shadow: 0px 1px 3px 1px rgba(0, 0, 0, 0.15);\n",
              "      filter: drop-shadow(0px 1px 2px rgba(0, 0, 0, 0.3));\n",
              "      fill: #FFFFFF;\n",
              "    }\n",
              "  </style>\n",
              "\n",
              "      <script>\n",
              "        const buttonEl =\n",
              "          document.querySelector('#df-40d3edf2-8959-49f5-817e-d518989489f0 button.colab-df-convert');\n",
              "        buttonEl.style.display =\n",
              "          google.colab.kernel.accessAllowed ? 'block' : 'none';\n",
              "\n",
              "        async function convertToInteractive(key) {\n",
              "          const element = document.querySelector('#df-40d3edf2-8959-49f5-817e-d518989489f0');\n",
              "          const dataTable =\n",
              "            await google.colab.kernel.invokeFunction('convertToInteractive',\n",
              "                                                     [key], {});\n",
              "          if (!dataTable) return;\n",
              "\n",
              "          const docLinkHtml = 'Like what you see? Visit the ' +\n",
              "            '<a target=\"_blank\" href=https://colab.research.google.com/notebooks/data_table.ipynb>data table notebook</a>'\n",
              "            + ' to learn more about interactive tables.';\n",
              "          element.innerHTML = '';\n",
              "          dataTable['output_type'] = 'display_data';\n",
              "          await google.colab.output.renderOutput(dataTable, element);\n",
              "          const docLink = document.createElement('div');\n",
              "          docLink.innerHTML = docLinkHtml;\n",
              "          element.appendChild(docLink);\n",
              "        }\n",
              "      </script>\n",
              "    </div>\n",
              "  </div>\n",
              "  "
            ]
          },
          "metadata": {},
          "execution_count": 69
        }
      ]
    },
    {
      "cell_type": "code",
      "source": [
        "# ham/spam 분포\n",
        "df.v1.value_counts()"
      ],
      "metadata": {
        "colab": {
          "base_uri": "https://localhost:8080/"
        },
        "id": "4rpypUHcG8fn",
        "outputId": "78a228db-5d28-4e9b-8d22-c13adc9fad49"
      },
      "execution_count": 70,
      "outputs": [
        {
          "output_type": "execute_result",
          "data": {
            "text/plain": [
              "0    4516\n",
              "1     653\n",
              "Name: v1, dtype: int64"
            ]
          },
          "metadata": {},
          "execution_count": 70
        }
      ]
    },
    {
      "cell_type": "markdown",
      "source": [
        "- 전처리"
      ],
      "metadata": {
        "id": "KHc_G3UBHLpm"
      }
    },
    {
      "cell_type": "code",
      "source": [
        "x, y = df.v2.values, df.v1.values\n",
        "x.shape, y.shape"
      ],
      "metadata": {
        "colab": {
          "base_uri": "https://localhost:8080/"
        },
        "id": "ezYX4FonHCUS",
        "outputId": "fc382f1b-c047-4a7b-ae12-f9b5b4d97759"
      },
      "execution_count": 71,
      "outputs": [
        {
          "output_type": "execute_result",
          "data": {
            "text/plain": [
              "((5169,), (5169,))"
            ]
          },
          "metadata": {},
          "execution_count": 71
        }
      ]
    },
    {
      "cell_type": "code",
      "source": [
        "import re\n",
        "def preprocessing(s):\n",
        "    s = s.encode('utf8').decode('ascii', 'ignore')\n",
        "    s = re.sub('[^a-zA-Z0-9 ]', '', s)\n",
        "    return s.lower()"
      ],
      "metadata": {
        "id": "faWhEW7JHjQU"
      },
      "execution_count": 82,
      "outputs": []
    },
    {
      "cell_type": "code",
      "source": [
        "X_data = [ preprocessing(sent) for sent in x]"
      ],
      "metadata": {
        "id": "kPWNxO35Hy__"
      },
      "execution_count": 83,
      "outputs": []
    },
    {
      "cell_type": "markdown",
      "source": [
        ""
      ],
      "metadata": {
        "id": "qOz889yoIjqG"
      }
    },
    {
      "cell_type": "code",
      "source": [
        "from tensorflow.keras.preprocessing.text import Tokenizer\n",
        "from tensorflow.keras.preprocessing.sequence import pad_sequences"
      ],
      "metadata": {
        "id": "X5FY1vn9HG2W"
      },
      "execution_count": 86,
      "outputs": []
    },
    {
      "cell_type": "code",
      "source": [
        "t = Tokenizer()\n",
        "t.fit_on_texts(X_data)"
      ],
      "metadata": {
        "id": "aJX5nt7PH5Tb"
      },
      "execution_count": 87,
      "outputs": []
    },
    {
      "cell_type": "code",
      "source": [
        "vocab_size = len(t.index_word) + 1\n",
        "vocab_size"
      ],
      "metadata": {
        "colab": {
          "base_uri": "https://localhost:8080/"
        },
        "id": "lMoET34_ID0n",
        "outputId": "2491ce15-97f8-41bd-f868-6cdf18edbd32"
      },
      "execution_count": 88,
      "outputs": [
        {
          "output_type": "execute_result",
          "data": {
            "text/plain": [
              "9479"
            ]
          },
          "metadata": {},
          "execution_count": 88
        }
      ]
    },
    {
      "cell_type": "code",
      "source": [
        "sequences = t.texts_to_sequences(X_data)\n",
        "print(sequences[2])"
      ],
      "metadata": {
        "colab": {
          "base_uri": "https://localhost:8080/"
        },
        "id": "gCxmuLOiIKtK",
        "outputId": "31f40fd1-7eb4-444a-83b4-3771042b0218"
      },
      "execution_count": 89,
      "outputs": [
        {
          "output_type": "stream",
          "name": "stdout",
          "text": [
            "[54, 508, 8, 22, 4, 959, 960, 2, 217, 2566, 1291, 664, 2567, 2568, 268, 2569, 71, 2566, 2, 2570, 2, 336, 508, 3839, 84, 3840, 424, 3841]\n"
          ]
        }
      ]
    },
    {
      "cell_type": "code",
      "source": [
        "max_len = max(len(seq) for seq in sequences)\n",
        "max_len"
      ],
      "metadata": {
        "colab": {
          "base_uri": "https://localhost:8080/"
        },
        "id": "Dl5az0FLIRNr",
        "outputId": "a417164a-d97f-4621-b443-c2bc951812a7"
      },
      "execution_count": 90,
      "outputs": [
        {
          "output_type": "execute_result",
          "data": {
            "text/plain": [
              "171"
            ]
          },
          "metadata": {},
          "execution_count": 90
        }
      ]
    },
    {
      "cell_type": "code",
      "source": [
        "data = pad_sequences(sequences, maxlen=max_len, padding='pre')"
      ],
      "metadata": {
        "id": "aFvdaxCgIW-B"
      },
      "execution_count": 93,
      "outputs": []
    },
    {
      "cell_type": "markdown",
      "source": [
        "- train/test 분리"
      ],
      "metadata": {
        "id": "TfScOyMfIdKT"
      }
    },
    {
      "cell_type": "code",
      "source": [
        "from sklearn.model_selection import train_test_split\n",
        "X_train, X_test, y_train, y_test = train_test_split(\n",
        "    data, y, stratify=y, test_size=0.2,\n",
        "    random_state=2022\n",
        ")"
      ],
      "metadata": {
        "id": "r54NaKwpItF1"
      },
      "execution_count": 95,
      "outputs": []
    },
    {
      "cell_type": "code",
      "source": [
        "X_train.shape , X_test.shape , y_train.shape , y_test.shape "
      ],
      "metadata": {
        "colab": {
          "base_uri": "https://localhost:8080/"
        },
        "id": "kF9aBtGbI4v7",
        "outputId": "ae946ed6-0009-4d9d-ce62-ca7c0a765f49"
      },
      "execution_count": 96,
      "outputs": [
        {
          "output_type": "execute_result",
          "data": {
            "text/plain": [
              "((4135, 171), (1034, 171), (4135,), (1034,))"
            ]
          },
          "metadata": {},
          "execution_count": 96
        }
      ]
    },
    {
      "cell_type": "markdown",
      "source": [
        "### 모델 정의/설정/학습"
      ],
      "metadata": {
        "id": "Cmy6dCuTI8yr"
      }
    },
    {
      "cell_type": "code",
      "source": [
        "from tensorflow.keras.models import Sequential, load_model\n",
        "from tensorflow.keras.layers import Dense, SimpleRNN, Embedding\n",
        "from tensorflow.keras.callbacks import EarlyStopping, ModelCheckpoint"
      ],
      "metadata": {
        "id": "ez43hDKHJCAz"
      },
      "execution_count": 98,
      "outputs": []
    },
    {
      "cell_type": "code",
      "source": [
        "model1 = Sequential([\n",
        "    Embedding(vocab_size, 32, input_length=max_len),\n",
        "    SimpleRNN(32),\n",
        "    Dense(1, activation='sigmoid')\n",
        "])\n",
        "\n",
        "model1.summary()"
      ],
      "metadata": {
        "colab": {
          "base_uri": "https://localhost:8080/"
        },
        "id": "lapiDp17JONg",
        "outputId": "af95bea5-7af5-4daf-9d1a-9fb78b636256"
      },
      "execution_count": 99,
      "outputs": [
        {
          "output_type": "stream",
          "name": "stdout",
          "text": [
            "Model: \"sequential_3\"\n",
            "_________________________________________________________________\n",
            " Layer (type)                Output Shape              Param #   \n",
            "=================================================================\n",
            " embedding_4 (Embedding)     (None, 171, 32)           303328    \n",
            "                                                                 \n",
            " simple_rnn (SimpleRNN)      (None, 32)                2080      \n",
            "                                                                 \n",
            " dense_3 (Dense)             (None, 1)                 33        \n",
            "                                                                 \n",
            "=================================================================\n",
            "Total params: 305,441\n",
            "Trainable params: 305,441\n",
            "Non-trainable params: 0\n",
            "_________________________________________________________________\n"
          ]
        }
      ]
    },
    {
      "cell_type": "code",
      "source": [
        "model_path = 'best-spam-RNN.h5' \n",
        "mc = ModelCheckpoint(model_path, verbose=1, save_best_only=True)\n",
        "es = EarlyStopping(patience=10)"
      ],
      "metadata": {
        "id": "Y6UzDoATJbhq"
      },
      "execution_count": 100,
      "outputs": []
    },
    {
      "cell_type": "code",
      "source": [
        "model1.compile('adam', 'binary_crossentropy', ['accuracy'])"
      ],
      "metadata": {
        "id": "kF4vlZsdJu5p"
      },
      "execution_count": 104,
      "outputs": []
    },
    {
      "cell_type": "code",
      "source": [
        "hist1 = model1.fit(X_train, y_train, validation_split=0.2,\n",
        "           epochs=100, batch_size=64, verbose=1,\n",
        "           callbacks=[mc, es])"
      ],
      "metadata": {
        "colab": {
          "base_uri": "https://localhost:8080/"
        },
        "id": "BIJHxfuLJ0hQ",
        "outputId": "4a6e4ff6-cbf8-40f4-d378-1605f4e50279"
      },
      "execution_count": 106,
      "outputs": [
        {
          "output_type": "stream",
          "name": "stdout",
          "text": [
            "Epoch 1/100\n",
            "52/52 [==============================] - ETA: 0s - loss: 0.3504 - accuracy: 0.8779\n",
            "Epoch 1: val_loss improved from inf to 0.20598, saving model to best-spam-RNN.h5\n",
            "52/52 [==============================] - 6s 105ms/step - loss: 0.3504 - accuracy: 0.8779 - val_loss: 0.2060 - val_accuracy: 0.9480\n",
            "Epoch 2/100\n",
            "52/52 [==============================] - ETA: 0s - loss: 0.1140 - accuracy: 0.9722\n",
            "Epoch 2: val_loss improved from 0.20598 to 0.10040, saving model to best-spam-RNN.h5\n",
            "52/52 [==============================] - 5s 95ms/step - loss: 0.1140 - accuracy: 0.9722 - val_loss: 0.1004 - val_accuracy: 0.9746\n",
            "Epoch 3/100\n",
            "52/52 [==============================] - ETA: 0s - loss: 0.0477 - accuracy: 0.9912\n",
            "Epoch 3: val_loss improved from 0.10040 to 0.09193, saving model to best-spam-RNN.h5\n",
            "52/52 [==============================] - 5s 90ms/step - loss: 0.0477 - accuracy: 0.9912 - val_loss: 0.0919 - val_accuracy: 0.9758\n",
            "Epoch 4/100\n",
            "51/52 [============================>.] - ETA: 0s - loss: 0.0232 - accuracy: 0.9960\n",
            "Epoch 4: val_loss improved from 0.09193 to 0.08874, saving model to best-spam-RNN.h5\n",
            "52/52 [==============================] - 4s 75ms/step - loss: 0.0230 - accuracy: 0.9961 - val_loss: 0.0887 - val_accuracy: 0.9746\n",
            "Epoch 5/100\n",
            "52/52 [==============================] - ETA: 0s - loss: 0.0142 - accuracy: 0.9976\n",
            "Epoch 5: val_loss did not improve from 0.08874\n",
            "52/52 [==============================] - 4s 68ms/step - loss: 0.0142 - accuracy: 0.9976 - val_loss: 0.0888 - val_accuracy: 0.9734\n",
            "Epoch 6/100\n",
            "52/52 [==============================] - ETA: 0s - loss: 0.0090 - accuracy: 0.9988\n",
            "Epoch 6: val_loss improved from 0.08874 to 0.07997, saving model to best-spam-RNN.h5\n",
            "52/52 [==============================] - 4s 77ms/step - loss: 0.0090 - accuracy: 0.9988 - val_loss: 0.0800 - val_accuracy: 0.9770\n",
            "Epoch 7/100\n",
            "52/52 [==============================] - ETA: 0s - loss: 0.0066 - accuracy: 0.9991\n",
            "Epoch 7: val_loss did not improve from 0.07997\n",
            "52/52 [==============================] - 5s 98ms/step - loss: 0.0066 - accuracy: 0.9991 - val_loss: 0.1325 - val_accuracy: 0.9674\n",
            "Epoch 8/100\n",
            "52/52 [==============================] - ETA: 0s - loss: 0.0079 - accuracy: 0.9988\n",
            "Epoch 8: val_loss did not improve from 0.07997\n",
            "52/52 [==============================] - 5s 98ms/step - loss: 0.0079 - accuracy: 0.9988 - val_loss: 0.0917 - val_accuracy: 0.9758\n",
            "Epoch 9/100\n",
            "52/52 [==============================] - ETA: 0s - loss: 0.0043 - accuracy: 0.9994\n",
            "Epoch 9: val_loss did not improve from 0.07997\n",
            "52/52 [==============================] - 5s 94ms/step - loss: 0.0043 - accuracy: 0.9994 - val_loss: 0.0892 - val_accuracy: 0.9794\n",
            "Epoch 10/100\n",
            "52/52 [==============================] - ETA: 0s - loss: 0.0031 - accuracy: 0.9997\n",
            "Epoch 10: val_loss did not improve from 0.07997\n",
            "52/52 [==============================] - 5s 89ms/step - loss: 0.0031 - accuracy: 0.9997 - val_loss: 0.0949 - val_accuracy: 0.9758\n",
            "Epoch 11/100\n",
            "51/52 [============================>.] - ETA: 0s - loss: 0.0036 - accuracy: 0.9994\n",
            "Epoch 11: val_loss did not improve from 0.07997\n",
            "52/52 [==============================] - 5s 88ms/step - loss: 0.0035 - accuracy: 0.9994 - val_loss: 0.0925 - val_accuracy: 0.9746\n",
            "Epoch 12/100\n",
            "52/52 [==============================] - ETA: 0s - loss: 0.0023 - accuracy: 0.9997\n",
            "Epoch 12: val_loss did not improve from 0.07997\n",
            "52/52 [==============================] - 3s 50ms/step - loss: 0.0023 - accuracy: 0.9997 - val_loss: 0.0902 - val_accuracy: 0.9794\n",
            "Epoch 13/100\n",
            "51/52 [============================>.] - ETA: 0s - loss: 0.0016 - accuracy: 0.9997\n",
            "Epoch 13: val_loss did not improve from 0.07997\n",
            "52/52 [==============================] - 3s 49ms/step - loss: 0.0016 - accuracy: 0.9997 - val_loss: 0.0951 - val_accuracy: 0.9758\n",
            "Epoch 14/100\n",
            "51/52 [============================>.] - ETA: 0s - loss: 0.0013 - accuracy: 1.0000\n",
            "Epoch 14: val_loss did not improve from 0.07997\n",
            "52/52 [==============================] - 3s 50ms/step - loss: 0.0013 - accuracy: 1.0000 - val_loss: 0.0909 - val_accuracy: 0.9794\n",
            "Epoch 15/100\n",
            "52/52 [==============================] - ETA: 0s - loss: 0.0011 - accuracy: 1.0000\n",
            "Epoch 15: val_loss did not improve from 0.07997\n",
            "52/52 [==============================] - 3s 61ms/step - loss: 0.0011 - accuracy: 1.0000 - val_loss: 0.1023 - val_accuracy: 0.9746\n",
            "Epoch 16/100\n",
            "51/52 [============================>.] - ETA: 0s - loss: 0.0010 - accuracy: 1.0000\n",
            "Epoch 16: val_loss did not improve from 0.07997\n",
            "52/52 [==============================] - 3s 50ms/step - loss: 0.0010 - accuracy: 1.0000 - val_loss: 0.0956 - val_accuracy: 0.9807\n"
          ]
        }
      ]
    },
    {
      "cell_type": "code",
      "source": [
        "best_model = load_model(model_path)\n",
        "best_model.evaluate(X_test, y_test)"
      ],
      "metadata": {
        "colab": {
          "base_uri": "https://localhost:8080/"
        },
        "id": "UV7XIaYvJ_kS",
        "outputId": "7efefa23-f67b-4880-89e4-3b9c948cdca8"
      },
      "execution_count": 107,
      "outputs": [
        {
          "output_type": "stream",
          "name": "stdout",
          "text": [
            "33/33 [==============================] - 1s 11ms/step - loss: 0.0827 - accuracy: 0.9768\n"
          ]
        },
        {
          "output_type": "execute_result",
          "data": {
            "text/plain": [
              "[0.08272530883550644, 0.9767891764640808]"
            ]
          },
          "metadata": {},
          "execution_count": 107
        }
      ]
    },
    {
      "cell_type": "code",
      "source": [
        "y_acc = hist1.history['accuracy']\n",
        "y_vloss = hist1.history['val_loss']\n",
        "xs = np.arange(1, len(y_acc)+1)"
      ],
      "metadata": {
        "id": "zjtUlqiRKOjZ"
      },
      "execution_count": 109,
      "outputs": []
    },
    {
      "cell_type": "code",
      "source": [
        "import matplotlib.pyplot as plt\n",
        "\n",
        "plt.figure(figsize=(12,8))\n",
        "plt.plot(xs, y_acc, label='train accuracy')\n",
        "plt.plot(xs, y_vloss, label='validation loss')\n",
        "plt.legend(), plt.grid()\n",
        "plt.xlabel('Epoch')\n",
        "plt.show()"
      ],
      "metadata": {
        "colab": {
          "base_uri": "https://localhost:8080/",
          "height": 497
        },
        "id": "ZH42XI_YKQO1",
        "outputId": "b248b02a-dfef-459a-fed6-d93d903ba595"
      },
      "execution_count": 110,
      "outputs": [
        {
          "output_type": "display_data",
          "data": {
            "text/plain": [
              "<Figure size 864x576 with 1 Axes>"
            ],
            "image/png": "[encoded data removed]"
          },
          "metadata": {
            "needs_background": "light"
          }
        }
      ]
    },
    {
      "cell_type": "markdown",
      "source": [
        "### 로이터 뉴스 분류하기 - LSTM"
      ],
      "metadata": {
        "id": "b9S6hzFkcqxI"
      }
    },
    {
      "cell_type": "code",
      "source": [
        "import  numpy as np \n",
        "import seaborn as sns\n",
        "import matplotlib.pyplot as plt\n",
        "from tensorflow.keras.datasets import reuters"
      ],
      "metadata": {
        "id": "qkbJiuEycsoe"
      },
      "execution_count": 2,
      "outputs": []
    },
    {
      "cell_type": "code",
      "source": [
        "(X_train, y_train), (X_test, y_test) = reuters.load_data()"
      ],
      "metadata": {
        "colab": {
          "base_uri": "https://localhost:8080/"
        },
        "id": "ZMDw5Be7c6bo",
        "outputId": "7b861f12-eb1b-4db1-8cc1-5876ccef548f"
      },
      "execution_count": 112,
      "outputs": [
        {
          "output_type": "stream",
          "name": "stdout",
          "text": [
            "Downloading data from https://storage.googleapis.com/tensorflow/tf-keras-datasets/reuters.npz\n",
            "2113536/2110848 [==============================] - 0s 0us/step\n",
            "2121728/2110848 [==============================] - 0s 0us/step\n"
          ]
        }
      ]
    },
    {
      "cell_type": "code",
      "source": [
        "len(X_train), len(X_test)"
      ],
      "metadata": {
        "colab": {
          "base_uri": "https://localhost:8080/"
        },
        "id": "KPsjXPrac-Hx",
        "outputId": "5504d375-3539-4da4-9057-17a3eaafe367"
      },
      "execution_count": 113,
      "outputs": [
        {
          "output_type": "execute_result",
          "data": {
            "text/plain": [
              "(8982, 2246)"
            ]
          },
          "metadata": {},
          "execution_count": 113
        }
      ]
    },
    {
      "cell_type": "code",
      "source": [
        "vocab_size = max(y_train) + 1\n",
        "vocab_size"
      ],
      "metadata": {
        "colab": {
          "base_uri": "https://localhost:8080/"
        },
        "id": "-uT1DBRTdJCa",
        "outputId": "2a189930-f6e8-419c-ea7a-d489e61bf60d"
      },
      "execution_count": 114,
      "outputs": [
        {
          "output_type": "execute_result",
          "data": {
            "text/plain": [
              "46"
            ]
          },
          "metadata": {},
          "execution_count": 114
        }
      ]
    },
    {
      "cell_type": "code",
      "source": [
        "print(X_train[0])"
      ],
      "metadata": {
        "colab": {
          "base_uri": "https://localhost:8080/"
        },
        "id": "ARzVGUO2dASf",
        "outputId": "62907a57-cdd0-4e66-ebec-b380f1f3785d"
      },
      "execution_count": 115,
      "outputs": [
        {
          "output_type": "stream",
          "name": "stdout",
          "text": [
            "[1, 27595, 28842, 8, 43, 10, 447, 5, 25, 207, 270, 5, 3095, 111, 16, 369, 186, 90, 67, 7, 89, 5, 19, 102, 6, 19, 124, 15, 90, 67, 84, 22, 482, 26, 7, 48, 4, 49, 8, 864, 39, 209, 154, 6, 151, 6, 83, 11, 15, 22, 155, 11, 15, 7, 48, 9, 4579, 1005, 504, 6, 258, 6, 272, 11, 15, 22, 134, 44, 11, 15, 16, 8, 197, 1245, 90, 67, 52, 29, 209, 30, 32, 132, 6, 109, 15, 17, 12]\n"
          ]
        }
      ]
    },
    {
      "cell_type": "code",
      "source": [
        "type(reuters.get_word_index())"
      ],
      "metadata": {
        "colab": {
          "base_uri": "https://localhost:8080/"
        },
        "id": "2cml3Jw5dPmr",
        "outputId": "dde863d4-870e-438e-986e-f760b0425250"
      },
      "execution_count": 116,
      "outputs": [
        {
          "output_type": "stream",
          "name": "stdout",
          "text": [
            "Downloading data from https://storage.googleapis.com/tensorflow/tf-keras-datasets/reuters_word_index.json\n",
            "557056/550378 [==============================] - 0s 0us/step\n",
            "565248/550378 [==============================] - 0s 0us/step\n"
          ]
        },
        {
          "output_type": "execute_result",
          "data": {
            "text/plain": [
              "dict"
            ]
          },
          "metadata": {},
          "execution_count": 116
        }
      ]
    },
    {
      "cell_type": "code",
      "source": [
        "reuters.get_word_index()"
      ],
      "metadata": {
        "colab": {
          "base_uri": "https://localhost:8080/"
        },
        "id": "_0HkQbIVdVHH",
        "outputId": "cd710bab-e279-46a3-cd6c-5062fa899975"
      },
      "execution_count": 121,
      "outputs": [
        {
          "output_type": "execute_result",
          "data": {
            "text/plain": [
              "{'mdbl': 10996,\n",
              " 'fawc': 16260,\n",
              " 'degussa': 12089,\n",
              " 'woods': 8803,\n",
              " 'hanging': 13796,\n",
              " 'localized': 20672,\n",
              " 'sation': 20673,\n",
              " 'chanthaburi': 20675,\n",
              " 'refunding': 10997,\n",
              " 'hermann': 8804,\n",
              " 'passsengers': 20676,\n",
              " 'stipulate': 20677,\n",
              " 'heublein': 8352,\n",
              " 'screaming': 20713,\n",
              " 'tcby': 16261,\n",
              " 'four': 185,\n",
              " 'grains': 1642,\n",
              " 'broiler': 20680,\n",
              " 'wooden': 12090,\n",
              " 'wednesday': 1220,\n",
              " 'highveld': 13797,\n",
              " 'duffour': 7593,\n",
              " '0053': 20681,\n",
              " 'elections': 3914,\n",
              " '270': 2563,\n",
              " '271': 3551,\n",
              " '272': 5113,\n",
              " '273': 3552,\n",
              " '274': 3400,\n",
              " 'rudman': 7975,\n",
              " '276': 3401,\n",
              " '277': 3478,\n",
              " '278': 3632,\n",
              " '279': 4309,\n",
              " 'dormancy': 9381,\n",
              " 'errors': 7247,\n",
              " 'deferred': 3086,\n",
              " 'sptnd': 20683,\n",
              " 'cooking': 8805,\n",
              " 'stratabit': 20684,\n",
              " 'designing': 16262,\n",
              " 'metalurgicos': 20685,\n",
              " 'databank': 13798,\n",
              " '300er': 20686,\n",
              " 'shocks': 20687,\n",
              " 'nawg': 7972,\n",
              " 'tnta': 20688,\n",
              " 'perforations': 20689,\n",
              " 'affiliates': 2891,\n",
              " '27p': 20690,\n",
              " 'ching': 16263,\n",
              " 'china': 595,\n",
              " 'wagyu': 16264,\n",
              " 'affiliated': 3189,\n",
              " 'chino': 16265,\n",
              " 'chinh': 16266,\n",
              " 'slickline': 20692,\n",
              " 'doldrums': 13799,\n",
              " 'kids': 12092,\n",
              " 'climbed': 3028,\n",
              " 'controversy': 6693,\n",
              " 'kidd': 20693,\n",
              " 'spotty': 12093,\n",
              " 'rebel': 12639,\n",
              " 'millimetres': 9382,\n",
              " 'golden': 4007,\n",
              " 'projection': 5689,\n",
              " 'stern': 12094,\n",
              " \"hudson's\": 7903,\n",
              " 'dna': 10066,\n",
              " 'dnc': 20695,\n",
              " 'hodler': 20696,\n",
              " 'lme': 2394,\n",
              " 'insolvancy': 20697,\n",
              " 'music': 13800,\n",
              " 'therefore': 1984,\n",
              " 'dns': 10998,\n",
              " 'distortions': 6959,\n",
              " 'thassos': 13801,\n",
              " 'populations': 20698,\n",
              " 'meteorologist': 8806,\n",
              " 'loss': 43,\n",
              " 'exco': 9383,\n",
              " 'adventist': 20813,\n",
              " 'murchison': 16267,\n",
              " 'locked': 10999,\n",
              " 'kampala': 13802,\n",
              " 'arndt': 20699,\n",
              " 'nakasone': 1267,\n",
              " 'steinweg': 20700,\n",
              " \"india's\": 3633,\n",
              " 'wang': 3029,\n",
              " 'wane': 10067,\n",
              " 'unjust': 13803,\n",
              " 'titanium': 13804,\n",
              " 'want': 850,\n",
              " 'pinto': 20701,\n",
              " \"institutes'\": 16268,\n",
              " 'absolute': 7973,\n",
              " 'travel': 4677,\n",
              " 'cutback': 6422,\n",
              " 'nazmi': 16269,\n",
              " 'modest': 1858,\n",
              " 'shopwell': 16270,\n",
              " 'sedi': 20702,\n",
              " 'adoped': 20703,\n",
              " 'tulis': 16271,\n",
              " '18th': 20704,\n",
              " \"wmc's\": 20705,\n",
              " 'menlo': 20706,\n",
              " 'reiners': 11000,\n",
              " 'farmlands': 12095,\n",
              " 'nonsensical': 20707,\n",
              " 'elisra': 20708,\n",
              " 'welcomed': 2461,\n",
              " 'peup': 20709,\n",
              " \"holiday's\": 16272,\n",
              " 'activating': 20711,\n",
              " 'avondale': 16273,\n",
              " 'interational': 16274,\n",
              " 'welcomes': 20712,\n",
              " 'fip': 16275,\n",
              " 'tailings': 11001,\n",
              " 'fit': 4205,\n",
              " 'lifeline': 16276,\n",
              " 'bringing': 1916,\n",
              " 'fix': 4819,\n",
              " '624': 6164,\n",
              " 'naturalite': 12096,\n",
              " 'wales': 6165,\n",
              " 'fin': 8807,\n",
              " 'fio': 11129,\n",
              " 'ceremenony': 20714,\n",
              " 'sovr': 20715,\n",
              " \"yeo's\": 20716,\n",
              " 'effects': 1788,\n",
              " 'sixteen': 13805,\n",
              " 'undeveloped': 8808,\n",
              " 'glutted': 13806,\n",
              " 'barton': 20717,\n",
              " 'froday': 20718,\n",
              " 'arrow': 10089,\n",
              " 'stabilises': 11002,\n",
              " 'allan': 6960,\n",
              " '374p': 20719,\n",
              " '393': 3891,\n",
              " '392': 4008,\n",
              " '391': 4206,\n",
              " '390': 3079,\n",
              " '397': 4550,\n",
              " '396': 6166,\n",
              " '395': 6423,\n",
              " '394': 4207,\n",
              " '399': 6961,\n",
              " '398': 4208,\n",
              " 'stabilised': 7595,\n",
              " 'smelters': 5114,\n",
              " 'oprah': 20720,\n",
              " 'orginially': 20721,\n",
              " \"tvx's\": 20722,\n",
              " 'ponomarev': 16278,\n",
              " 'enviroment': 20723,\n",
              " \"reeves'\": 20724,\n",
              " 'mason': 8363,\n",
              " 'encourage': 1670,\n",
              " 'adapt': 7596,\n",
              " 'abbott': 12776,\n",
              " 'stamping': 13808,\n",
              " 'colquiri': 20726,\n",
              " 'ambrit': 11003,\n",
              " 'strata': 8353,\n",
              " 'corrects': 4821,\n",
              " 'sandra': 11922,\n",
              " 'estimate': 859,\n",
              " 'universally': 20727,\n",
              " 'chlorine': 20728,\n",
              " 'competes': 16279,\n",
              " 'leiner': 10068,\n",
              " 'ministries': 8809,\n",
              " 'disturbed': 8810,\n",
              " 'competed': 13809,\n",
              " 'juergen': 8811,\n",
              " 'kfw': 13810,\n",
              " 'turben': 11004,\n",
              " 'reintroduced': 9384,\n",
              " 'maladies': 20729,\n",
              " 'chevron': 4101,\n",
              " 'lazere': 16280,\n",
              " 'antilles': 8812,\n",
              " 'dti': 11907,\n",
              " 'specially': 9070,\n",
              " 'bilzerian': 4678,\n",
              " 'bakelite': 13811,\n",
              " 'renovated': 20730,\n",
              " 'service': 568,\n",
              " 'payless': 16281,\n",
              " 'spiegler': 20731,\n",
              " 'needed': 831,\n",
              " 'wigglesworth': 16282,\n",
              " 'master': 6962,\n",
              " 'antonson': 13812,\n",
              " 'genesis': 20732,\n",
              " 'vismara': 13813,\n",
              " 'organically': 20734,\n",
              " \"accords'\": 20735,\n",
              " 'task': 5940,\n",
              " 'positively': 7974,\n",
              " 'feasibility': 3479,\n",
              " 'ahmed': 6963,\n",
              " \"suralco's\": 13814,\n",
              " 'awacs': 20736,\n",
              " 'idly': 16283,\n",
              " 'regulator': 20737,\n",
              " 'pseudorabies': 12097,\n",
              " 'staubli': 16284,\n",
              " 'nzi': 8813,\n",
              " 'feeling': 5115,\n",
              " '275': 3127,\n",
              " '6819': 20738,\n",
              " 'gorman': 16285,\n",
              " 'sustaining': 8354,\n",
              " 'spectrum': 9385,\n",
              " 'consenting': 20739,\n",
              " 'recapitalized': 12098,\n",
              " 'sailed': 11562,\n",
              " 'dozen': 7597,\n",
              " 'affairs': 1985,\n",
              " 'courier': 2253,\n",
              " 'kremlin': 8355,\n",
              " 'shipments': 895,\n",
              " \"aquino's\": 16286,\n",
              " 'committing': 10070,\n",
              " 'sugarcane': 5293,\n",
              " 'diminishing': 9386,\n",
              " 'vexing': 16287,\n",
              " 'simplify': 11005,\n",
              " 'mouth': 6167,\n",
              " 'steinhardt': 7248,\n",
              " 'conceded': 8814,\n",
              " 'bradford': 9387,\n",
              " 'singer': 7976,\n",
              " '5602': 20740,\n",
              " \"1987's\": 13816,\n",
              " 'tech': 4950,\n",
              " 'teck': 6424,\n",
              " 'majv': 20741,\n",
              " 'saying': 666,\n",
              " 'dickey': 16477,\n",
              " 'sweetner': 20742,\n",
              " 'teresa': 21149,\n",
              " 'ulcer': 20743,\n",
              " 'cheaply': 13817,\n",
              " 'thai': 2361,\n",
              " 'orleans': 6964,\n",
              " 'excavator': 16290,\n",
              " 'rico': 6168,\n",
              " 'lube': 12099,\n",
              " 'rick': 13818,\n",
              " 'rich': 4679,\n",
              " 'kerna': 13819,\n",
              " 'rice': 950,\n",
              " 'rica': 4209,\n",
              " 'plate': 5503,\n",
              " 'platt': 16291,\n",
              " 'altogether': 8356,\n",
              " 'jaguar': 8815,\n",
              " 'dynair': 20744,\n",
              " 'patch': 8816,\n",
              " 'ldp': 2892,\n",
              " 'boarded': 13820,\n",
              " 'precluding': 16292,\n",
              " 'clarified': 11006,\n",
              " 'sensitivity': 16293,\n",
              " 'alternative': 1511,\n",
              " 'clarifies': 11007,\n",
              " 'lots': 5116,\n",
              " 'irs': 7598,\n",
              " 'irv': 20745,\n",
              " 'iri': 13821,\n",
              " 'ira': 13822,\n",
              " 'timber': 5690,\n",
              " 'ire': 20746,\n",
              " 'discipline': 5219,\n",
              " 'extend': 1937,\n",
              " 'nature': 3634,\n",
              " \"amb's\": 16295,\n",
              " 'dunhill': 16296,\n",
              " 'extent': 2142,\n",
              " 'restrcitions': 20747,\n",
              " 'heating': 2396,\n",
              " \"mannesmann's\": 11008,\n",
              " 'outsanding': 20748,\n",
              " 'multimillions': 20749,\n",
              " 'sarcinelli': 13824,\n",
              " 'southeastern': 6694,\n",
              " 'eradicate': 10071,\n",
              " 'libyan': 9388,\n",
              " 'foreclosing': 20750,\n",
              " 'maclaine': 12101,\n",
              " 'fra': 20751,\n",
              " 'union': 353,\n",
              " 'frn': 11009,\n",
              " 'much': 386,\n",
              " 'fry': 12102,\n",
              " 'mothball': 20752,\n",
              " 'chlorazepate': 10072,\n",
              " 'dxns': 12103,\n",
              " 'toyko': 19981,\n",
              " 'spit': 20753,\n",
              " '007050': 16297,\n",
              " 'freehold': 16298,\n",
              " 'davy': 13825,\n",
              " 'dave': 11010,\n",
              " 'spie': 12177,\n",
              " 'aguayo': 10117,\n",
              " 'wildcat': 12104,\n",
              " 'fecs': 10069,\n",
              " 'kennan': 20754,\n",
              " 'intal': 16299,\n",
              " 'contingencies': 9389,\n",
              " 'professionally': 16551,\n",
              " 'microbiological': 16300,\n",
              " 'misconstrued': 20756,\n",
              " 'k': 409,\n",
              " 'securitiesd': 20757,\n",
              " 'deferring': 16301,\n",
              " 'kohl': 5941,\n",
              " 'conditioned': 3030,\n",
              " 'fnhb': 20758,\n",
              " \"october's\": 16302,\n",
              " 'memorial': 13954,\n",
              " 'democracies': 6965,\n",
              " 'conformed': 27520,\n",
              " 'split': 464,\n",
              " \"bond's\": 12105,\n",
              " 'thinly': 11112,\n",
              " 'dunkirk': 16515,\n",
              " 'cavanaugh': 16303,\n",
              " \"securities'\": 13827,\n",
              " 'marches': 21345,\n",
              " 'issam': 16304,\n",
              " 'workforce': 2020,\n",
              " 'meinert': 12106,\n",
              " 'boiler': 13828,\n",
              " \"bp's\": 5294,\n",
              " 'torpedoed': 16305,\n",
              " 'indidate': 20762,\n",
              " 'downwardly': 13829,\n",
              " 'viviez': 20763,\n",
              " 'vladiminovich': 20764,\n",
              " 'academic': 16306,\n",
              " 'architecural': 20765,\n",
              " 'corporate': 1117,\n",
              " 'appropriately': 16307,\n",
              " 'teicc': 20766,\n",
              " \"hanover's\": 20767,\n",
              " 'aristech': 8817,\n",
              " 'portrayed': 20768,\n",
              " 'raffineries': 21383,\n",
              " 'hai': 20770,\n",
              " 'hal': 7599,\n",
              " 'ham': 13830,\n",
              " 'han': 10073,\n",
              " 'e15b': 20771,\n",
              " 'had': 61,\n",
              " 'hay': 20772,\n",
              " 'botchwey': 13831,\n",
              " 'haq': 10074,\n",
              " 'has': 37,\n",
              " 'hat': 13832,\n",
              " 'hav': 20773,\n",
              " 'fortin': 20774,\n",
              " 'municipal': 8818,\n",
              " 'osman': 20775,\n",
              " 'fsical': 20776,\n",
              " 'elders': 3480,\n",
              " 'survival': 12107,\n",
              " 'unequivocally': 16308,\n",
              " 'objective': 2519,\n",
              " 'indicative': 6695,\n",
              " 'shadow': 10075,\n",
              " 'riskiness': 21411,\n",
              " 'positiive': 20778,\n",
              " \"american's\": 10076,\n",
              " 'alick': 16309,\n",
              " 'harima': 16310,\n",
              " 'alice': 12108,\n",
              " 'altschul': 20779,\n",
              " 'festivities': 16311,\n",
              " 'medecines': 20780,\n",
              " 'beneficial': 2942,\n",
              " 'yoweri': 12109,\n",
              " 'crowd': 13833,\n",
              " 'crowe': 9390,\n",
              " 'crown': 3553,\n",
              " 'topping': 13679,\n",
              " 'captive': 8819,\n",
              " 'billboard': 12110,\n",
              " 'fiduciary': 6169,\n",
              " 'bottom': 3402,\n",
              " 'plucked': 20782,\n",
              " 'locksmithing': 20783,\n",
              " 'ecopetrol': 9391,\n",
              " 'pipestone': 24018,\n",
              " \"growers'\": 5505,\n",
              " 'borrows': 20785,\n",
              " 'eduard': 16312,\n",
              " 'venpres': 13834,\n",
              " 'bamboo': 16313,\n",
              " 'foolish': 13835,\n",
              " 'uruguyan': 20786,\n",
              " 'officeholders': 20787,\n",
              " 'economiques': 20788,\n",
              " 'aden': 16314,\n",
              " 'maxwell': 4822,\n",
              " 'marshall': 4680,\n",
              " 'honeymoon': 16315,\n",
              " 'administer': 16316,\n",
              " 'shoots': 20790,\n",
              " 'rubbertech': 16317,\n",
              " 'johsen': 16318,\n",
              " 'reciprocity': 10077,\n",
              " 'fabric': 13836,\n",
              " 'suffice': 20791,\n",
              " 'spokemsan': 20792,\n",
              " \"sonora's\": 20793,\n",
              " '5865': 16319,\n",
              " \"systems'\": 16320,\n",
              " 'perfumes': 20794,\n",
              " 'halycon': 20795,\n",
              " 'nonvoting': 20796,\n",
              " 'safeguard': 7250,\n",
              " 'sawdust': 21538,\n",
              " \"else's\": 20797,\n",
              " 'arrays': 13837,\n",
              " 'aza': 20798,\n",
              " 'smasher': 20799,\n",
              " 'complications': 12111,\n",
              " 'pesos': 1813,\n",
              " 'relabelling': 20800,\n",
              " 'passenger': 3722,\n",
              " \"avon's\": 12112,\n",
              " 'megahertz': 20801,\n",
              " 'mirror': 10683,\n",
              " 'minas': 8357,\n",
              " 'bourdain': 16322,\n",
              " 'crownx': 20802,\n",
              " 'eventual': 6425,\n",
              " 'crowns': 1207,\n",
              " 'role': 1369,\n",
              " 'obliges': 20803,\n",
              " 'rolf': 16323,\n",
              " 'vegetative': 13838,\n",
              " 'rolm': 20804,\n",
              " 'roll': 4419,\n",
              " 'intend': 2463,\n",
              " 'palms': 16324,\n",
              " 'denys': 19255,\n",
              " 'transported': 13839,\n",
              " 'moresby': 20805,\n",
              " 'devon': 16325,\n",
              " 'intent': 1351,\n",
              " \"camco's\": 20806,\n",
              " 'variable': 5942,\n",
              " 'transporter': 20807,\n",
              " 'danske': 16326,\n",
              " 'friedhelm': 13840,\n",
              " 'hawker': 8358,\n",
              " \"sand's\": 17774,\n",
              " 'preseving': 20808,\n",
              " '80386': 12113,\n",
              " 'bnls': 16328,\n",
              " 'ordination': 19984,\n",
              " 'overturned': 11011,\n",
              " 'erred': 16329,\n",
              " 'cincinnati': 6696,\n",
              " 'corps': 16710,\n",
              " 'whoever': 20809,\n",
              " 'osp': 16330,\n",
              " 'osr': 13841,\n",
              " 'ost': 12114,\n",
              " 'chair': 16331,\n",
              " '690': 5647,\n",
              " 'grapples': 20810,\n",
              " 'megawatts': 13842,\n",
              " 'photocopiers': 20811,\n",
              " 'sconninx': 20812,\n",
              " 'circumstances': 2274,\n",
              " 'oversight': 13843,\n",
              " \"paradyne's\": 20814,\n",
              " '691': 6363,\n",
              " 'paychecks': 20815,\n",
              " \"stadelmann's\": 13844,\n",
              " 'choice': 3241,\n",
              " 'vastagh': 11012,\n",
              " 'embark': 8820,\n",
              " 'gloomy': 9392,\n",
              " 'stays': 9393,\n",
              " 'exact': 4009,\n",
              " 'minute': 5117,\n",
              " 'kittiwake': 11892,\n",
              " 'picul': 20816,\n",
              " 'skewed': 20817,\n",
              " 'cooke': 11013,\n",
              " 'defaults': 10078,\n",
              " 'reimpose': 11014,\n",
              " 'hindered': 9394,\n",
              " 'lengthened': 20818,\n",
              " 'chopping': 16333,\n",
              " 'mckiernan': 13845,\n",
              " 'collaspe': 20819,\n",
              " 'corazon': 7251,\n",
              " 'antwerp': 7600,\n",
              " 'abdullah': 13846,\n",
              " 'goldston': 13847,\n",
              " '300': 442,\n",
              " 'cassa': 20821,\n",
              " 'casse': 20822,\n",
              " '695': 4081,\n",
              " 'ground': 2979,\n",
              " 'boost': 839,\n",
              " 'azusa': 16334,\n",
              " 'drafted': 9395,\n",
              " '303': 4823,\n",
              " 'climbs': 13848,\n",
              " 'honour': 7601,\n",
              " 'vanderbilt': 20823,\n",
              " '305': 3968,\n",
              " 'address': 3031,\n",
              " 'dwindling': 8821,\n",
              " 'benson': 7252,\n",
              " 'enroll': 12115,\n",
              " 'revenues': 501,\n",
              " 'impacted': 12116,\n",
              " 'queue': 20826,\n",
              " 'accomplished': 10079,\n",
              " 'throughput': 7602,\n",
              " 'influx': 9396,\n",
              " 'stockbuilding': 10080,\n",
              " 'aproximates': 20827,\n",
              " 'petroleo': 13849,\n",
              " 'sistemas': 16335,\n",
              " 'feretti': 14053,\n",
              " 'opposes': 5943,\n",
              " 'working': 882,\n",
              " 'perished': 20829,\n",
              " 'oldham': 13850,\n",
              " '27000': 20830,\n",
              " 'optimize': 19245,\n",
              " 'vigour': 20832,\n",
              " 'opposed': 1580,\n",
              " 'liberalizing': 16336,\n",
              " 'wvz': 20833,\n",
              " 'dampness': 20834,\n",
              " 'approving': 13851,\n",
              " 'sierra': 13496,\n",
              " 'entrepot': 20835,\n",
              " 'currency': 224,\n",
              " 'originally': 1499,\n",
              " 'tindemans': 20837,\n",
              " 'valorem': 16337,\n",
              " 'following': 477,\n",
              " 'fossen': 20838,\n",
              " 'locke': 11016,\n",
              " 'employess': 20839,\n",
              " 'rotberg': 12117,\n",
              " 'parachute': 16338,\n",
              " 'locks': 11017,\n",
              " 'incremental': 12255,\n",
              " 'woolowrth': 16339,\n",
              " 'listens': 20841,\n",
              " 'litre': 7253,\n",
              " 'edouard': 3554,\n",
              " 'ounce': 1377,\n",
              " 'nicanor': 20843,\n",
              " 'sucocitrico': 20844,\n",
              " 'minicomputers': 16340,\n",
              " \"silva's\": 16341,\n",
              " 'restitutions': 11018,\n",
              " 'custer': 16342,\n",
              " '3rd': 2590,\n",
              " 'fueled': 10081,\n",
              " 'trydahl': 20845,\n",
              " 'aice': 11019,\n",
              " 'harmon': 12118,\n",
              " 'conscious': 10082,\n",
              " 'herbicidesand': 20846,\n",
              " 'subdivisions': 20847,\n",
              " \"veslefrikk's\": 20848,\n",
              " 'swollen': 11020,\n",
              " 'pulled': 7978,\n",
              " 'tilney': 20849,\n",
              " 'years': 203,\n",
              " 'structuring': 20850,\n",
              " 'episodes': 20851,\n",
              " 'sportscene': 16343,\n",
              " \"northair's\": 16344,\n",
              " 'jig': 20852,\n",
              " 'jin': 20853,\n",
              " 'jim': 3403,\n",
              " 'troubles': 8359,\n",
              " 'workforces': 13852,\n",
              " 'suspension': 2362,\n",
              " 'troubled': 3892,\n",
              " 'fondiaria': 16345,\n",
              " 'modestly': 6697,\n",
              " 'recipients': 12119,\n",
              " 'civilian': 7979,\n",
              " 'indigenous': 13853,\n",
              " 'overpowering': 20854,\n",
              " 'drilling': 1051,\n",
              " 'sorted': 16346,\n",
              " 'lichtenstein': 16347,\n",
              " 'bedevil': 20855,\n",
              " 'dispite': 20856,\n",
              " 'battleships': 16843,\n",
              " 'instability': 4824,\n",
              " 'quarter': 95,\n",
              " 'salado': 20857,\n",
              " 'honduras': 5692,\n",
              " \"chevron's\": 13855,\n",
              " \"lazere's\": 12273,\n",
              " 'receipt': 2660,\n",
              " 'sponsor': 8360,\n",
              " 'entering': 4825,\n",
              " \"kcbt's\": 16349,\n",
              " 'nowicki': 19987,\n",
              " 'salads': 13856,\n",
              " 'augar': 16351,\n",
              " '797': 7980,\n",
              " '796': 7254,\n",
              " '795': 8361,\n",
              " '794': 5295,\n",
              " '793': 5118,\n",
              " '792': 6170,\n",
              " '791': 5296,\n",
              " '790': 4826,\n",
              " \"nikko's\": 20858,\n",
              " 'unsaleable': 20859,\n",
              " '799': 5720,\n",
              " '798': 5693,\n",
              " 'seriously': 2143,\n",
              " 'trauma': 16352,\n",
              " 'tvbh': 20860,\n",
              " 'macedon': 20861,\n",
              " 'disintegrated': 21906,\n",
              " 'adddition': 21909,\n",
              " 'incentives': 2244,\n",
              " 'complicated': 5944,\n",
              " 'reevaluating': 20864,\n",
              " 'thatching': 21921,\n",
              " 'brasil': 7981,\n",
              " '79p': 20865,\n",
              " 'wrong': 4951,\n",
              " 'initiate': 8822,\n",
              " 'aboard': 16353,\n",
              " 'saving': 7255,\n",
              " 'spoken': 8823,\n",
              " 'parkinson': 16364,\n",
              " 'one': 65,\n",
              " 'ont': 20867,\n",
              " 'concert': 7256,\n",
              " \"boston's\": 16354,\n",
              " 'stifled': 13859,\n",
              " 'types': 4622,\n",
              " 'lingering': 20868,\n",
              " 'surges': 16356,\n",
              " 'hurdman': 20869,\n",
              " 'herds': 16357,\n",
              " 'absorbs': 14114,\n",
              " 'surged': 4681,\n",
              " 'dalkon': 14211,\n",
              " 'crossroads': 13860,\n",
              " 'shakeup': 20870,\n",
              " 'disasterous': 20871,\n",
              " 'illness': 11021,\n",
              " 'turned': 3242,\n",
              " 'locations': 3801,\n",
              " 'tyranite': 12120,\n",
              " 'minesweepers': 13861,\n",
              " 'turner': 7257,\n",
              " 'borough': 20872,\n",
              " 'underlines': 12358,\n",
              " \"bancorporation's\": 20873,\n",
              " 'fashionable': 20874,\n",
              " \"ae's\": 20875,\n",
              " 'dilutions': 16358,\n",
              " 'goodman': 9472,\n",
              " 'unlawfully': 10510,\n",
              " 'mayer': 16359,\n",
              " 'printer': 16360,\n",
              " 'offload': 20877,\n",
              " 'opposite': 13862,\n",
              " 'buffer': 738,\n",
              " 'printed': 9398,\n",
              " 'pequiven': 16361,\n",
              " 'panoche': 13863,\n",
              " 'knowingly': 20878,\n",
              " 'ecusta': 16362,\n",
              " 'thsl': 20879,\n",
              " 'phil': 8825,\n",
              " 'jitters': 13864,\n",
              " 'touche': 16363,\n",
              " 'jittery': 20881,\n",
              " 'friction': 3291,\n",
              " 'fecal': 16365,\n",
              " 'resurgance': 22068,\n",
              " 'heeding': 20882,\n",
              " 'soviets': 2363,\n",
              " 'imagined': 16366,\n",
              " 'transact': 16367,\n",
              " 'califoirnia': 20883,\n",
              " \"chrysler's\": 9399,\n",
              " 'respecitvely': 16368,\n",
              " 'presse': 16369,\n",
              " 'euromarket': 10084,\n",
              " 'guarded': 12121,\n",
              " 'satisfacotry': 16371,\n",
              " 'authroization': 20884,\n",
              " 'simplistic': 20885,\n",
              " 'monde': 20886,\n",
              " 'awaiting': 4102,\n",
              " 'recombinant': 13865,\n",
              " 'refinancement': 20887,\n",
              " 'comserv': 20888,\n",
              " 'kitakyushu': 20889,\n",
              " 'pima': 16372,\n",
              " 'basle': 11022,\n",
              " '6250': 20891,\n",
              " 'choudhury': 16373,\n",
              " 'vision': 8826,\n",
              " 'interruptible': 20892,\n",
              " 'weatherford': 13866,\n",
              " '832': 7982,\n",
              " '833': 5694,\n",
              " '830': 4420,\n",
              " '831': 5119,\n",
              " '836': 5297,\n",
              " '837': 4553,\n",
              " '834': 6172,\n",
              " '835': 4952,\n",
              " 'alarming': 22144,\n",
              " '838': 5695,\n",
              " '839': 6173,\n",
              " '524p': 20893,\n",
              " 'sponsorship': 20894,\n",
              " 'vendex': 12122,\n",
              " \"amsouth's\": 20895,\n",
              " 'kilometer': 20896,\n",
              " 'enjoys': 10086,\n",
              " 'illiberal': 20897,\n",
              " 'punta': 6174,\n",
              " 'punte': 20898,\n",
              " 'girozentrale': 10087,\n",
              " 'missstatements': 20899,\n",
              " 'marietta': 10088,\n",
              " 'awards': 6175,\n",
              " 'concentrated': 3635,\n",
              " '83p': 20900,\n",
              " 'developpement': 13867,\n",
              " 'rhodes': 13868,\n",
              " 'matheson': 5696,\n",
              " '1720': 20901,\n",
              " 'paring': 20902,\n",
              " 's': 35,\n",
              " 'concentrates': 4953,\n",
              " \"can's\": 16374,\n",
              " 'polysaturated': 22183,\n",
              " 'parini': 20903,\n",
              " 'baden': 13869,\n",
              " 'bader': 20904,\n",
              " 'buoyancy': 12123,\n",
              " 'erdem': 20905,\n",
              " 'properites': 16375,\n",
              " 'comparitive': 20906,\n",
              " 'practises': 12124,\n",
              " 'collides': 20907,\n",
              " 'west': 189,\n",
              " 'wess': 20908,\n",
              " 'collided': 13870,\n",
              " 'practised': 20909,\n",
              " \"amalgamated's\": 20910,\n",
              " 'motives': 20911,\n",
              " 'wants': 1378,\n",
              " 'formed': 1273,\n",
              " 'readings': 20912,\n",
              " 'geothermal': 12125,\n",
              " 'tightened': 7315,\n",
              " \"d'or\": 11023,\n",
              " 'former': 1109,\n",
              " 'venezulean': 20913,\n",
              " 'curd': 19935,\n",
              " 'squeezes': 12126,\n",
              " 'newspaper': 1019,\n",
              " 'situation': 817,\n",
              " 'ivey': 13871,\n",
              " 'engaged': 3636,\n",
              " 'dubious': 13872,\n",
              " 'cayacq': 17061,\n",
              " 'cobol': 20916,\n",
              " 'limping': 20917,\n",
              " 'technology': 883,\n",
              " 'koerner': 20919,\n",
              " 'debilitating': 16376,\n",
              " 'verified': 7983,\n",
              " 'otto': 4010,\n",
              " '7770': 20920,\n",
              " 'emulsions': 16377,\n",
              " \"onic's\": 16378,\n",
              " 'slate': 9075,\n",
              " 'wires': 20921,\n",
              " 'edged': 5506,\n",
              " 'assigns': 20922,\n",
              " 'singapore': 1341,\n",
              " 'deflate': 20923,\n",
              " \"strategy's\": 20924,\n",
              " 'walesa': 16379,\n",
              " 'advertisement': 4554,\n",
              " 'luyten': 20925,\n",
              " 'shrortly': 20926,\n",
              " 'corpoartion': 20927,\n",
              " 'preferance': 22290,\n",
              " 'tracking': 16380,\n",
              " 'sunnyvale': 13874,\n",
              " 'colorants': 20928,\n",
              " 'persistently': 16381,\n",
              " \"officers'\": 16382,\n",
              " \"his's\": 20929,\n",
              " 'being': 367,\n",
              " 'divestitures': 7259,\n",
              " 'steamer': 20930,\n",
              " 'rover': 20931,\n",
              " 'grounded': 8362,\n",
              " \"businessmen's\": 16383,\n",
              " 'cyanidation': 16384,\n",
              " 'overthrow': 20932,\n",
              " 'partnerhip': 20933,\n",
              " 'sumt': 16385,\n",
              " 'sums': 8827,\n",
              " 'oelmuehle': 16386,\n",
              " 'unveil': 16387,\n",
              " 'gestures': 13875,\n",
              " 'penta': 20934,\n",
              " 'traffic': 2544,\n",
              " 'preference': 2428,\n",
              " 'sumi': 20935,\n",
              " 'world': 166,\n",
              " 'postal': 9400,\n",
              " 'bced': 16388,\n",
              " 'dornbush': 12128,\n",
              " 'confine': 14215,\n",
              " '2555': 20936,\n",
              " \"zambia's\": 5945,\n",
              " 'superiority': 20937,\n",
              " 'militate': 20938,\n",
              " 'satisfactory': 2395,\n",
              " 'superintendent': 20939,\n",
              " 'tvx': 5946,\n",
              " 'tvt': 16389,\n",
              " 'magma': 6698,\n",
              " 'diving': 20940,\n",
              " 'tvb': 15548,\n",
              " 'seaman': 13876,\n",
              " 'matsunaga': 11025,\n",
              " '919': 4827,\n",
              " '918': 5298,\n",
              " 'refundable': 17070,\n",
              " '914': 5947,\n",
              " '917': 7260,\n",
              " '916': 6699,\n",
              " '911': 5507,\n",
              " '910': 4828,\n",
              " 'restoring': 10213,\n",
              " '912': 4555,\n",
              " 'squabble': 20942,\n",
              " 'retains': 7261,\n",
              " \"partner's\": 20943,\n",
              " 'leadership': 5300,\n",
              " 'graaf': 11026,\n",
              " 'spacelab': 20944,\n",
              " 'thailand': 1800,\n",
              " 'graan': 9402,\n",
              " 'exasperating': 20945,\n",
              " 'hartmarx': 12129,\n",
              " 'frights': 16390,\n",
              " 'niall': 20946,\n",
              " 'johnston': 11027,\n",
              " '91p': 16391,\n",
              " 'sensitively': 16392,\n",
              " 'porsche': 6016,\n",
              " 'prepares': 15494,\n",
              " 'lively': 12130,\n",
              " 'stoppages': 10686,\n",
              " \"associated's\": 16394,\n",
              " 'pivot': 12131,\n",
              " 'series': 1037,\n",
              " 'sese': 24050,\n",
              " 'bubble': 7604,\n",
              " 'trusses': 16395,\n",
              " 'interestate': 20949,\n",
              " 'continents': 20950,\n",
              " 'societal': 20951,\n",
              " 'with': 28,\n",
              " 'pull': 6176,\n",
              " 'rush': 6700,\n",
              " 'monopoly': 6222,\n",
              " 'operationally': 20953,\n",
              " 'dirty': 20954,\n",
              " 'abuses': 10090,\n",
              " 'prudhoe': 7262,\n",
              " 'pulp': 5949,\n",
              " 'rust': 16396,\n",
              " 'hellman': 20955,\n",
              " 'amdec': 20956,\n",
              " 'australasian': 16397,\n",
              " 'watches': 13878,\n",
              " 'hypertension': 20957,\n",
              " \"hemdale's\": 20958,\n",
              " 'formulation': 16398,\n",
              " 'watched': 7605,\n",
              " 'jargon': 20959,\n",
              " 'cream': 13879,\n",
              " 'ideally': 9404,\n",
              " 'ryavec': 11028,\n",
              " 'microoganisms': 20960,\n",
              " 'indemnify': 13880,\n",
              " 'wincenty': 20961,\n",
              " 'waving': 20962,\n",
              " \"multifood's\": 20963,\n",
              " 'midges': 20964,\n",
              " 'natalie': 11029,\n",
              " 'crosbie': 13881,\n",
              " 'posible': 20965,\n",
              " 'omnibus': 13882,\n",
              " 'assetsof': 20966,\n",
              " 'tricks': 13883,\n",
              " 'rs': 16399,\n",
              " 'kilogram': 20967,\n",
              " 'pruning': 25363,\n",
              " 'dyer': 13884,\n",
              " 'dyes': 20968,\n",
              " 'legislatures': 20969,\n",
              " 'scm': 16400,\n",
              " 'sci': 9405,\n",
              " 'riedel': 20970,\n",
              " 'ceramic': 16401,\n",
              " 'unitholders': 6701,\n",
              " 'scb': 13885,\n",
              " 'dn11': 20971,\n",
              " 'conditionality': 20972,\n",
              " \"stock's\": 13807,\n",
              " 'masland': 20973,\n",
              " 'causes': 7606,\n",
              " 'riots': 10091,\n",
              " 'norf': 20974,\n",
              " 'nord': 9406,\n",
              " 'midwest': 3893,\n",
              " 'tamils': 13886,\n",
              " 'ofthe': 16402,\n",
              " \"colombia's\": 3421,\n",
              " '24th': 11030,\n",
              " 'sant': 20975,\n",
              " 'moines': 10092,\n",
              " 'electrotechnical': 22577,\n",
              " 'proceeded': 24534,\n",
              " 'sanz': 20976,\n",
              " 'insufficiently': 13887,\n",
              " 'sang': 20977,\n",
              " 'sand': 5950,\n",
              " 'bracho': 16404,\n",
              " 'small': 805,\n",
              " 'workloads': 20978,\n",
              " 'sank': 6702,\n",
              " 'kemper': 20979,\n",
              " 'abbreviated': 16405,\n",
              " 'quicker': 13888,\n",
              " '199': 3802,\n",
              " '198': 3243,\n",
              " '195': 2661,\n",
              " '194': 3080,\n",
              " '197': 4310,\n",
              " '196': 3894,\n",
              " '191': 2850,\n",
              " '190': 2199,\n",
              " '193': 3481,\n",
              " '192': 3350,\n",
              " 'past': 582,\n",
              " 'fractionation': 20980,\n",
              " 'displays': 20981,\n",
              " 'pass': 3081,\n",
              " 'investment': 202,\n",
              " 'quals': 27062,\n",
              " 'quicken': 16406,\n",
              " \"centronic's\": 20983,\n",
              " 'menswear': 20984,\n",
              " 'clock': 16407,\n",
              " 'teape': 20985,\n",
              " 'teapa': 20986,\n",
              " 'prevailed': 10093,\n",
              " 'hebei': 9407,\n",
              " ...}"
            ]
          },
          "metadata": {},
          "execution_count": 121
        }
      ]
    },
    {
      "cell_type": "code",
      "source": [
        "index_word = {}\n",
        "for key, value in reuters.get_word_index().items():\n",
        "    index_word[value] = key\n",
        "len(index_word)"
      ],
      "metadata": {
        "colab": {
          "base_uri": "https://localhost:8080/"
        },
        "id": "RfNbIPbBdcU0",
        "outputId": "8cd588d3-3796-44c7-e881-a1761aef3933"
      },
      "execution_count": 122,
      "outputs": [
        {
          "output_type": "execute_result",
          "data": {
            "text/plain": [
              "30979"
            ]
          },
          "metadata": {},
          "execution_count": 122
        }
      ]
    },
    {
      "cell_type": "code",
      "source": [
        "len(reuters.get_word_index()), len(index_word)"
      ],
      "metadata": {
        "colab": {
          "base_uri": "https://localhost:8080/"
        },
        "id": "1Fc8bO6WdugH",
        "outputId": "117967a8-6b9f-4d3a-908a-d11b39b33749"
      },
      "execution_count": 124,
      "outputs": [
        {
          "output_type": "execute_result",
          "data": {
            "text/plain": [
              "(30979, 30979)"
            ]
          },
          "metadata": {},
          "execution_count": 124
        }
      ]
    },
    {
      "cell_type": "code",
      "source": [
        "# 첫번째 기사 복원\n",
        "' '.join(index_word[index] for index in X_train[0])"
      ],
      "metadata": {
        "colab": {
          "base_uri": "https://localhost:8080/",
          "height": 70
        },
        "id": "e55qrZYHdzTs",
        "outputId": "2cc9708e-51b4-415a-e58b-b41d246e5281"
      },
      "execution_count": 125,
      "outputs": [
        {
          "output_type": "execute_result",
          "data": {
            "text/plain": [
              "'the wattie nondiscriminatory mln loss for plc said at only ended said commonwealth could 1 traders now april 0 a after said from 1985 and from foreign 000 april 0 prices its account year a but in this mln home an states earlier and rise and revs vs 000 its 16 vs 000 a but 3 psbr oils several and shareholders and dividend vs 000 its all 4 vs 000 1 mln agreed largely april 0 are 2 states will billion total and against 000 pct dlrs'"
            ],
            "application/vnd.google.colaboratory.intrinsic+json": {
              "type": "string"
            }
          },
          "metadata": {},
          "execution_count": 125
        }
      ]
    },
    {
      "cell_type": "code",
      "source": [
        "# 뉴스 기사의 최대/평균 길이\n",
        "max(len(s) for s in X_train), sum(map(len, X_train)) / len(X_train)"
      ],
      "metadata": {
        "colab": {
          "base_uri": "https://localhost:8080/"
        },
        "id": "WiJmpgfEeXZh",
        "outputId": "24365de2-9dc5-4524-8275-2b7c8eb1b7ce"
      },
      "execution_count": 129,
      "outputs": [
        {
          "output_type": "execute_result",
          "data": {
            "text/plain": [
              "(2376, 145.5398574927633)"
            ]
          },
          "metadata": {},
          "execution_count": 129
        }
      ]
    },
    {
      "cell_type": "code",
      "source": [
        "plt.hist([len(s) for s in X_train], bins=50)\n",
        "plt.xlabel('length of samples')\n",
        "plt.ylabel('number of samples')\n",
        "plt.show()"
      ],
      "metadata": {
        "colab": {
          "base_uri": "https://localhost:8080/",
          "height": 279
        },
        "id": "7-vLy8t_efFo",
        "outputId": "edc0866a-cb95-4fa1-d5fe-c577cd73b861"
      },
      "execution_count": 130,
      "outputs": [
        {
          "output_type": "display_data",
          "data": {
            "text/plain": [
              "<Figure size 432x288 with 1 Axes>"
            ],
            "image/png": "[encoded data removed]"
          },
          "metadata": {
            "needs_background": "light"
          }
        }
      ]
    },
    {
      "cell_type": "code",
      "source": [
        "\n",
        "# 뉴스 그룹의 분포\n",
        "import warnings\n",
        "warnings.filterwarnings('ignore')\n",
        "plt.figure(figsize=(12,5))\n",
        "sns.countplot(y_train);"
      ],
      "metadata": {
        "colab": {
          "base_uri": "https://localhost:8080/",
          "height": 320
        },
        "id": "xUeY1eB2eguE",
        "outputId": "93f55f6f-5970-4477-f803-38e838dea9fe"
      },
      "execution_count": 131,
      "outputs": [
        {
          "output_type": "display_data",
          "data": {
            "text/plain": [
              "<Figure size 864x360 with 1 Axes>"
            ],
            "image/png": "[encoded data removed]"
          },
          "metadata": {
            "needs_background": "light"
          }
        }
      ]
    },
    {
      "cell_type": "markdown",
      "source": [
        "### LSTM으로 로이터 뉴스 분류\n",
        " - 문장길이 : 100단어 까지 (최대: 2,376)\n",
        " - 단어: 빈도수 기준 1,000 단어 (총단어수:30,979)"
      ],
      "metadata": {
        "id": "J08yecNbeihK"
      }
    },
    {
      "cell_type": "code",
      "source": [
        "max_words = 1000\n",
        "max_len = 100"
      ],
      "metadata": {
        "id": "J9WQ-sLVetRT"
      },
      "execution_count": 1,
      "outputs": []
    },
    {
      "cell_type": "code",
      "source": [
        "(X_train, y_train), (X_test, y_test) = reuters.load_data(\n",
        "    num_words=max_words, test_split=0.2\n",
        ")"
      ],
      "metadata": {
        "colab": {
          "base_uri": "https://localhost:8080/"
        },
        "id": "8mE4WjHSevui",
        "outputId": "533959ea-6213-4eec-ac31-d22e1e76db65"
      },
      "execution_count": 3,
      "outputs": [
        {
          "output_type": "stream",
          "name": "stdout",
          "text": [
            "Downloading data from https://storage.googleapis.com/tensorflow/tf-keras-datasets/reuters.npz\n",
            "2113536/2110848 [==============================] - 0s 0us/step\n",
            "2121728/2110848 [==============================] - 0s 0us/step\n"
          ]
        }
      ]
    },
    {
      "cell_type": "code",
      "source": [
        "import tensorflow as tf\n",
        "seed = 2022\n",
        "np.random.seed(seed)\n",
        "tf.random.set_seed(seed)"
      ],
      "metadata": {
        "id": "iwv2aa_cey-h"
      },
      "execution_count": 4,
      "outputs": []
    },
    {
      "cell_type": "code",
      "source": [
        "from tensorflow.keras.models import Sequential, load_model\n",
        "from tensorflow.keras.layers import Embedding, LSTM, Dense\n",
        "from tensorflow.keras.callbacks import ModelCheckpoint, EarlyStopping\n",
        "from tensorflow.keras.preprocessing.sequence import pad_sequences\n",
        "from tensorflow.keras.utils import to_categorical"
      ],
      "metadata": {
        "id": "WWvIHLJse04J"
      },
      "execution_count": 5,
      "outputs": []
    },
    {
      "cell_type": "code",
      "source": [
        "X_train = pad_sequences(X_train, maxlen = max_len)\n",
        "X_test = pad_sequences(X_test, maxlen = max_len)\n",
        "Y_train = to_categorical(y_train)\n",
        "Y_test = to_categorical(y_test)\n",
        "X_train.shape, X_test.shape, Y_train.shape, Y_test.shape"
      ],
      "metadata": {
        "colab": {
          "base_uri": "https://localhost:8080/"
        },
        "id": "wTdOsbNge15J",
        "outputId": "b5f93e42-09b6-4cc8-b7ea-fb2f9d4c6df5"
      },
      "execution_count": 6,
      "outputs": [
        {
          "output_type": "execute_result",
          "data": {
            "text/plain": [
              "((8982, 100), (2246, 100), (8982, 46), (2246, 46))"
            ]
          },
          "metadata": {},
          "execution_count": 6
        }
      ]
    },
    {
      "cell_type": "code",
      "source": [
        "model1 = Sequential([\n",
        "    Embedding(max_words, 64, input_length=max_len),\n",
        "    LSTM(100),\n",
        "    Dense(46, activation='softmax')\n",
        "])\n",
        "\n",
        "model1.summary()"
      ],
      "metadata": {
        "colab": {
          "base_uri": "https://localhost:8080/"
        },
        "id": "8SitXBCTfJBT",
        "outputId": "abe87dcc-91e2-4491-b99f-779db20943ba"
      },
      "execution_count": 7,
      "outputs": [
        {
          "output_type": "stream",
          "name": "stdout",
          "text": [
            "Model: \"sequential\"\n",
            "_________________________________________________________________\n",
            " Layer (type)                Output Shape              Param #   \n",
            "=================================================================\n",
            " embedding (Embedding)       (None, 100, 64)           64000     \n",
            "                                                                 \n",
            " lstm (LSTM)                 (None, 100)               66000     \n",
            "                                                                 \n",
            " dense (Dense)               (None, 46)                4646      \n",
            "                                                                 \n",
            "=================================================================\n",
            "Total params: 134,646\n",
            "Trainable params: 134,646\n",
            "Non-trainable params: 0\n",
            "_________________________________________________________________\n"
          ]
        }
      ]
    },
    {
      "cell_type": "code",
      "source": [
        "model_path = 'best-reuters-lstm.h5'\n",
        "mc = ModelCheckpoint(model_path, verbose=1, save_best_only=True)\n",
        "es = EarlyStopping(patience=10)"
      ],
      "metadata": {
        "id": "4jteKW2fgCKo"
      },
      "execution_count": 8,
      "outputs": []
    },
    {
      "cell_type": "code",
      "source": [
        "model1.compile('adam', 'categorical_crossentropy', ['accuracy'])"
      ],
      "metadata": {
        "id": "1-M-E9VEfgyd"
      },
      "execution_count": 9,
      "outputs": []
    },
    {
      "cell_type": "code",
      "source": [
        "hist1 = model1.fit(X_train, Y_train, validation_split=0.2,\n",
        "                   epochs=100, batch_size=128, callbacks=[mc,es])"
      ],
      "metadata": {
        "colab": {
          "base_uri": "https://localhost:8080/"
        },
        "id": "dwRvruiRf8sL",
        "outputId": "0b2a8b1d-3530-4110-d4f1-83b2f98618ad"
      },
      "execution_count": 10,
      "outputs": [
        {
          "output_type": "stream",
          "name": "stdout",
          "text": [
            "Epoch 1/100\n",
            "54/57 [===========================>..] - ETA: 0s - loss: 2.7293 - accuracy: 0.3299\n",
            "Epoch 1: val_loss improved from inf to 2.40400, saving model to best-reuters-lstm.h5\n",
            "57/57 [==============================] - 9s 26ms/step - loss: 2.7159 - accuracy: 0.3317 - val_loss: 2.4040 - val_accuracy: 0.3450\n",
            "Epoch 2/100\n",
            "57/57 [==============================] - ETA: 0s - loss: 2.4047 - accuracy: 0.3534\n",
            "Epoch 2: val_loss improved from 2.40400 to 2.38775, saving model to best-reuters-lstm.h5\n",
            "57/57 [==============================] - 1s 18ms/step - loss: 2.4047 - accuracy: 0.3534 - val_loss: 2.3877 - val_accuracy: 0.3450\n",
            "Epoch 3/100\n",
            "57/57 [==============================] - ETA: 0s - loss: 2.2811 - accuracy: 0.4244\n",
            "Epoch 3: val_loss improved from 2.38775 to 2.05271, saving model to best-reuters-lstm.h5\n",
            "57/57 [==============================] - 1s 13ms/step - loss: 2.2811 - accuracy: 0.4244 - val_loss: 2.0527 - val_accuracy: 0.4758\n",
            "Epoch 4/100\n",
            "56/57 [============================>.] - ETA: 0s - loss: 1.9937 - accuracy: 0.4879\n",
            "Epoch 4: val_loss improved from 2.05271 to 1.89059, saving model to best-reuters-lstm.h5\n",
            "57/57 [==============================] - 1s 13ms/step - loss: 1.9933 - accuracy: 0.4881 - val_loss: 1.8906 - val_accuracy: 0.4947\n",
            "Epoch 5/100\n",
            "55/57 [===========================>..] - ETA: 0s - loss: 1.8288 - accuracy: 0.5214\n",
            "Epoch 5: val_loss improved from 1.89059 to 1.80574, saving model to best-reuters-lstm.h5\n",
            "57/57 [==============================] - 1s 19ms/step - loss: 1.8300 - accuracy: 0.5209 - val_loss: 1.8057 - val_accuracy: 0.5181\n",
            "Epoch 6/100\n",
            "53/57 [==========================>...] - ETA: 0s - loss: 1.7399 - accuracy: 0.5361\n",
            "Epoch 6: val_loss improved from 1.80574 to 1.70936, saving model to best-reuters-lstm.h5\n",
            "57/57 [==============================] - 1s 14ms/step - loss: 1.7435 - accuracy: 0.5354 - val_loss: 1.7094 - val_accuracy: 0.5498\n",
            "Epoch 7/100\n",
            "56/57 [============================>.] - ETA: 0s - loss: 1.6922 - accuracy: 0.5537\n",
            "Epoch 7: val_loss improved from 1.70936 to 1.68387, saving model to best-reuters-lstm.h5\n",
            "57/57 [==============================] - 1s 23ms/step - loss: 1.6912 - accuracy: 0.5538 - val_loss: 1.6839 - val_accuracy: 0.5615\n",
            "Epoch 8/100\n",
            "56/57 [============================>.] - ETA: 0s - loss: 1.6303 - accuracy: 0.5731\n",
            "Epoch 8: val_loss improved from 1.68387 to 1.68176, saving model to best-reuters-lstm.h5\n",
            "57/57 [==============================] - 1s 22ms/step - loss: 1.6297 - accuracy: 0.5734 - val_loss: 1.6818 - val_accuracy: 0.5760\n",
            "Epoch 9/100\n",
            "55/57 [===========================>..] - ETA: 0s - loss: 1.5912 - accuracy: 0.5928\n",
            "Epoch 9: val_loss improved from 1.68176 to 1.61328, saving model to best-reuters-lstm.h5\n",
            "57/57 [==============================] - 1s 20ms/step - loss: 1.5912 - accuracy: 0.5928 - val_loss: 1.6133 - val_accuracy: 0.5838\n",
            "Epoch 10/100\n",
            "56/57 [============================>.] - ETA: 0s - loss: 1.5206 - accuracy: 0.6145\n",
            "Epoch 10: val_loss improved from 1.61328 to 1.54897, saving model to best-reuters-lstm.h5\n",
            "57/57 [==============================] - 1s 20ms/step - loss: 1.5197 - accuracy: 0.6148 - val_loss: 1.5490 - val_accuracy: 0.6093\n",
            "Epoch 11/100\n",
            "56/57 [============================>.] - ETA: 0s - loss: 1.4204 - accuracy: 0.6396\n",
            "Epoch 11: val_loss improved from 1.54897 to 1.46644, saving model to best-reuters-lstm.h5\n",
            "57/57 [==============================] - 1s 23ms/step - loss: 1.4216 - accuracy: 0.6394 - val_loss: 1.4664 - val_accuracy: 0.6238\n",
            "Epoch 12/100\n",
            "57/57 [==============================] - ETA: 0s - loss: 1.3578 - accuracy: 0.6519\n",
            "Epoch 12: val_loss did not improve from 1.46644\n",
            "57/57 [==============================] - 1s 21ms/step - loss: 1.3578 - accuracy: 0.6519 - val_loss: 1.5118 - val_accuracy: 0.6338\n",
            "Epoch 13/100\n",
            "56/57 [============================>.] - ETA: 0s - loss: 1.2996 - accuracy: 0.6702\n",
            "Epoch 13: val_loss improved from 1.46644 to 1.42297, saving model to best-reuters-lstm.h5\n",
            "57/57 [==============================] - 1s 21ms/step - loss: 1.2985 - accuracy: 0.6706 - val_loss: 1.4230 - val_accuracy: 0.6544\n",
            "Epoch 14/100\n",
            "54/57 [===========================>..] - ETA: 0s - loss: 1.2497 - accuracy: 0.6804\n",
            "Epoch 14: val_loss improved from 1.42297 to 1.38737, saving model to best-reuters-lstm.h5\n",
            "57/57 [==============================] - 1s 24ms/step - loss: 1.2454 - accuracy: 0.6825 - val_loss: 1.3874 - val_accuracy: 0.6683\n",
            "Epoch 15/100\n",
            "55/57 [===========================>..] - ETA: 0s - loss: 1.2136 - accuracy: 0.6906\n",
            "Epoch 15: val_loss improved from 1.38737 to 1.33845, saving model to best-reuters-lstm.h5\n",
            "57/57 [==============================] - 1s 23ms/step - loss: 1.2193 - accuracy: 0.6891 - val_loss: 1.3385 - val_accuracy: 0.6678\n",
            "Epoch 16/100\n",
            "55/57 [===========================>..] - ETA: 0s - loss: 1.1532 - accuracy: 0.7031\n",
            "Epoch 16: val_loss did not improve from 1.33845\n",
            "57/57 [==============================] - 1s 20ms/step - loss: 1.1527 - accuracy: 0.7037 - val_loss: 1.3527 - val_accuracy: 0.6717\n",
            "Epoch 17/100\n",
            "57/57 [==============================] - ETA: 0s - loss: 1.1120 - accuracy: 0.7145\n",
            "Epoch 17: val_loss improved from 1.33845 to 1.29438, saving model to best-reuters-lstm.h5\n",
            "57/57 [==============================] - 1s 22ms/step - loss: 1.1120 - accuracy: 0.7145 - val_loss: 1.2944 - val_accuracy: 0.6861\n",
            "Epoch 18/100\n",
            "56/57 [============================>.] - ETA: 0s - loss: 1.0638 - accuracy: 0.7280\n",
            "Epoch 18: val_loss did not improve from 1.29438\n",
            "57/57 [==============================] - 1s 23ms/step - loss: 1.0635 - accuracy: 0.7279 - val_loss: 1.3105 - val_accuracy: 0.6912\n",
            "Epoch 19/100\n",
            "57/57 [==============================] - ETA: 0s - loss: 1.0270 - accuracy: 0.7383\n",
            "Epoch 19: val_loss improved from 1.29438 to 1.28274, saving model to best-reuters-lstm.h5\n",
            "57/57 [==============================] - 1s 23ms/step - loss: 1.0270 - accuracy: 0.7383 - val_loss: 1.2827 - val_accuracy: 0.6900\n",
            "Epoch 20/100\n",
            "56/57 [============================>.] - ETA: 0s - loss: 0.9865 - accuracy: 0.7475\n",
            "Epoch 20: val_loss improved from 1.28274 to 1.26759, saving model to best-reuters-lstm.h5\n",
            "57/57 [==============================] - 1s 18ms/step - loss: 0.9861 - accuracy: 0.7475 - val_loss: 1.2676 - val_accuracy: 0.7023\n",
            "Epoch 21/100\n",
            "55/57 [===========================>..] - ETA: 0s - loss: 0.9670 - accuracy: 0.7499\n",
            "Epoch 21: val_loss did not improve from 1.26759\n",
            "57/57 [==============================] - 1s 19ms/step - loss: 0.9602 - accuracy: 0.7514 - val_loss: 1.2855 - val_accuracy: 0.6906\n",
            "Epoch 22/100\n",
            "55/57 [===========================>..] - ETA: 0s - loss: 0.9214 - accuracy: 0.7645\n",
            "Epoch 22: val_loss improved from 1.26759 to 1.23779, saving model to best-reuters-lstm.h5\n",
            "57/57 [==============================] - 1s 21ms/step - loss: 0.9245 - accuracy: 0.7645 - val_loss: 1.2378 - val_accuracy: 0.7062\n",
            "Epoch 23/100\n",
            "56/57 [============================>.] - ETA: 0s - loss: 0.9086 - accuracy: 0.7701\n",
            "Epoch 23: val_loss did not improve from 1.23779\n",
            "57/57 [==============================] - 1s 22ms/step - loss: 0.9098 - accuracy: 0.7701 - val_loss: 1.2661 - val_accuracy: 0.7006\n",
            "Epoch 24/100\n",
            "55/57 [===========================>..] - ETA: 0s - loss: 0.8730 - accuracy: 0.7783\n",
            "Epoch 24: val_loss improved from 1.23779 to 1.22732, saving model to best-reuters-lstm.h5\n",
            "57/57 [==============================] - 1s 22ms/step - loss: 0.8729 - accuracy: 0.7775 - val_loss: 1.2273 - val_accuracy: 0.7078\n",
            "Epoch 25/100\n",
            "53/57 [==========================>...] - ETA: 0s - loss: 0.8401 - accuracy: 0.7852\n",
            "Epoch 25: val_loss did not improve from 1.22732\n",
            "57/57 [==============================] - 1s 20ms/step - loss: 0.8344 - accuracy: 0.7875 - val_loss: 1.2594 - val_accuracy: 0.7078\n",
            "Epoch 26/100\n",
            "56/57 [============================>.] - ETA: 0s - loss: 0.8165 - accuracy: 0.7896\n",
            "Epoch 26: val_loss did not improve from 1.22732\n",
            "57/57 [==============================] - 1s 20ms/step - loss: 0.8157 - accuracy: 0.7897 - val_loss: 1.2504 - val_accuracy: 0.7078\n",
            "Epoch 27/100\n",
            "55/57 [===========================>..] - ETA: 0s - loss: 0.7985 - accuracy: 0.7945\n",
            "Epoch 27: val_loss did not improve from 1.22732\n",
            "57/57 [==============================] - 1s 22ms/step - loss: 0.7943 - accuracy: 0.7951 - val_loss: 1.2612 - val_accuracy: 0.7090\n",
            "Epoch 28/100\n",
            "54/57 [===========================>..] - ETA: 0s - loss: 0.7592 - accuracy: 0.8051\n",
            "Epoch 28: val_loss did not improve from 1.22732\n",
            "57/57 [==============================] - 1s 19ms/step - loss: 0.7560 - accuracy: 0.8058 - val_loss: 1.2719 - val_accuracy: 0.7151\n",
            "Epoch 29/100\n",
            "55/57 [===========================>..] - ETA: 0s - loss: 0.7304 - accuracy: 0.8118\n",
            "Epoch 29: val_loss did not improve from 1.22732\n",
            "57/57 [==============================] - 1s 20ms/step - loss: 0.7305 - accuracy: 0.8118 - val_loss: 1.3009 - val_accuracy: 0.7084\n",
            "Epoch 30/100\n",
            "55/57 [===========================>..] - ETA: 0s - loss: 0.7256 - accuracy: 0.8131\n",
            "Epoch 30: val_loss did not improve from 1.22732\n",
            "57/57 [==============================] - 1s 19ms/step - loss: 0.7238 - accuracy: 0.8135 - val_loss: 1.3085 - val_accuracy: 0.7162\n",
            "Epoch 31/100\n",
            "57/57 [==============================] - ETA: 0s - loss: 0.7291 - accuracy: 0.8111\n",
            "Epoch 31: val_loss did not improve from 1.22732\n",
            "57/57 [==============================] - 1s 19ms/step - loss: 0.7291 - accuracy: 0.8111 - val_loss: 1.2898 - val_accuracy: 0.7062\n",
            "Epoch 32/100\n",
            "54/57 [===========================>..] - ETA: 0s - loss: 0.6822 - accuracy: 0.8235\n",
            "Epoch 32: val_loss did not improve from 1.22732\n",
            "57/57 [==============================] - 1s 17ms/step - loss: 0.6874 - accuracy: 0.8225 - val_loss: 1.2917 - val_accuracy: 0.7101\n",
            "Epoch 33/100\n",
            "56/57 [============================>.] - ETA: 0s - loss: 0.6621 - accuracy: 0.8306\n",
            "Epoch 33: val_loss did not improve from 1.22732\n",
            "57/57 [==============================] - 1s 18ms/step - loss: 0.6619 - accuracy: 0.8306 - val_loss: 1.3024 - val_accuracy: 0.7106\n",
            "Epoch 34/100\n",
            "57/57 [==============================] - ETA: 0s - loss: 0.6340 - accuracy: 0.8381\n",
            "Epoch 34: val_loss did not improve from 1.22732\n",
            "57/57 [==============================] - 1s 18ms/step - loss: 0.6340 - accuracy: 0.8381 - val_loss: 1.3272 - val_accuracy: 0.7073\n"
          ]
        }
      ]
    },
    {
      "cell_type": "code",
      "source": [
        "best_model1 = load_model(model_path)\n",
        "best_model1.evaluate(X_test, Y_test)"
      ],
      "metadata": {
        "colab": {
          "base_uri": "https://localhost:8080/"
        },
        "id": "3FfNTJZ6gRzd",
        "outputId": "3d1dba40-2ab7-4aca-932b-e36930c5cc4c"
      },
      "execution_count": 14,
      "outputs": [
        {
          "output_type": "stream",
          "name": "stdout",
          "text": [
            "71/71 [==============================] - 1s 7ms/step - loss: 1.2785 - accuracy: 0.6839\n"
          ]
        },
        {
          "output_type": "execute_result",
          "data": {
            "text/plain": [
              "[1.278498888015747, 0.683882474899292]"
            ]
          },
          "metadata": {},
          "execution_count": 14
        }
      ]
    },
    {
      "cell_type": "code",
      "source": [
        "y_acc = hist1.history['accuracy']\n",
        "y_vloss = hist1.history['val_loss']\n",
        "xs = np.arange(1, len(y_acc)+1)"
      ],
      "metadata": {
        "id": "XnJaoGF8glMi"
      },
      "execution_count": 15,
      "outputs": []
    },
    {
      "cell_type": "code",
      "source": [
        "plt.figure(figsize=(12,8))\n",
        "plt.plot(xs, y_acc, label='train accuracy')\n",
        "plt.plot(xs, y_vloss, label='validation loss')\n",
        "plt.legend(), plt.grid()\n",
        "plt.xlabel('Epoch')\n",
        "plt.show()"
      ],
      "metadata": {
        "colab": {
          "base_uri": "https://localhost:8080/",
          "height": 499
        },
        "id": "iSSSmFYcgoIL",
        "outputId": "75cf983d-b35d-44c6-f7d5-86a989c59c08"
      },
      "execution_count": 16,
      "outputs": [
        {
          "output_type": "display_data",
          "data": {
            "text/plain": [
              "<Figure size 864x576 with 1 Axes>"
            ],
            "image/png": "[encoded data removed]"
          },
          "metadata": {
            "needs_background": "light"
          }
        }
      ]
    },
    {
      "cell_type": "code",
      "source": [
        ""
      ],
      "metadata": {
        "id": "_Zk0m0FTgo7q"
      },
      "execution_count": null,
      "outputs": []
    },
    {
      "cell_type": "markdown",
      "source": [
        "####LSTM으로 감성분석\n",
        "- 단어 빈도수: 10,000 (총 88,584)\n",
        "- 리뷰 단어수: 500 (최대 2,494)\n",
        "- 최대 데이터 갯수 ==> 여러분들의 몫\n",
        "- train: 25000, valid: 10000, test: 15000\n",
        "- 수업 시간\n",
        "- train: 20000, test: 5000 (valid: 20%)"
      ],
      "metadata": {
        "id": "JCeJvVZWhjG9"
      }
    },
    {
      "cell_type": "code",
      "source": [
        "import numpy as np\n",
        "import tensorflow as tf\n",
        "seed = 2022\n",
        "np.random.seed(seed)\n",
        "tf.random.set_seed(seed)"
      ],
      "metadata": {
        "id": "07brehtQp-Sw"
      },
      "execution_count": 1,
      "outputs": []
    },
    {
      "cell_type": "code",
      "source": [
        "from tensorflow.keras.models import Sequential, load_model\n",
        "from tensorflow.keras.layers import Embedding, LSTM, Dense\n",
        "from tensorflow.keras.callbacks import ModelCheckpoint, EarlyStopping\n",
        "from tensorflow.keras.preprocessing.sequence import pad_sequences\n",
        "from sklearn.model_selection import train_test_split"
      ],
      "metadata": {
        "id": "NRv3x9DeqDMZ"
      },
      "execution_count": 2,
      "outputs": []
    },
    {
      "cell_type": "code",
      "source": [
        "from tensorflow.keras.datasets import imdb\n",
        "(X_train, y_train), (X_test, y_test) = imdb.load_data()\n",
        "X_train.shape, y_train.shape, X_test.shape, y_test.shape"
      ],
      "metadata": {
        "colab": {
          "base_uri": "https://localhost:8080/"
        },
        "id": "KqEtWw67qEH9",
        "outputId": "346bec79-e4a7-4375-925d-e17285e267fc"
      },
      "execution_count": 3,
      "outputs": [
        {
          "output_type": "stream",
          "name": "stdout",
          "text": [
            "Downloading data from https://storage.googleapis.com/tensorflow/tf-keras-datasets/imdb.npz\n",
            "17465344/17464789 [==============================] - 0s 0us/step\n",
            "17473536/17464789 [==============================] - 0s 0us/step\n"
          ]
        },
        {
          "output_type": "execute_result",
          "data": {
            "text/plain": [
              "((25000,), (25000,), (25000,), (25000,))"
            ]
          },
          "metadata": {},
          "execution_count": 3
        }
      ]
    },
    {
      "cell_type": "code",
      "source": [
        "from sklearn.model_selection import train_test_split\n",
        "X_valid, X_test, y_valid, y_test = train_test_split(\n",
        "    X_test, y_test, stratify=y_test, test_size=0.6,\n",
        "    random_state=seed\n",
        ")\n",
        "X_valid.shape, X_test.shape, y_valid.shape, y_test.shape"
      ],
      "metadata": {
        "colab": {
          "base_uri": "https://localhost:8080/"
        },
        "id": "ZTG6s-60qVd5",
        "outputId": "2394b497-3a33-42de-f786-494aee85d67d"
      },
      "execution_count": 4,
      "outputs": [
        {
          "output_type": "execute_result",
          "data": {
            "text/plain": [
              "((10000,), (15000,), (10000,), (15000,))"
            ]
          },
          "metadata": {},
          "execution_count": 4
        }
      ]
    },
    {
      "cell_type": "code",
      "source": [
        "max(len(s) for s in X_train), sum(map(len, X_train)) / len(X_train)"
      ],
      "metadata": {
        "colab": {
          "base_uri": "https://localhost:8080/"
        },
        "id": "vrkJsyoEq_ER",
        "outputId": "3da084c3-18d1-4748-c50c-418afc552522"
      },
      "execution_count": 5,
      "outputs": [
        {
          "output_type": "execute_result",
          "data": {
            "text/plain": [
              "(2494, 238.71364)"
            ]
          },
          "metadata": {},
          "execution_count": 5
        }
      ]
    },
    {
      "cell_type": "code",
      "source": [
        "vocab_size = len(imdb.get_word_index()) + 1\n",
        "vocab_size"
      ],
      "metadata": {
        "colab": {
          "base_uri": "https://localhost:8080/"
        },
        "id": "R3-tHr9mrmfn",
        "outputId": "1287aca2-b576-4c5a-9557-529ee6ec0ac9"
      },
      "execution_count": 6,
      "outputs": [
        {
          "output_type": "stream",
          "name": "stdout",
          "text": [
            "Downloading data from https://storage.googleapis.com/tensorflow/tf-keras-datasets/imdb_word_index.json\n",
            "1646592/1641221 [==============================] - 0s 0us/step\n",
            "1654784/1641221 [==============================] - 0s 0us/step\n"
          ]
        },
        {
          "output_type": "execute_result",
          "data": {
            "text/plain": [
              "88585"
            ]
          },
          "metadata": {},
          "execution_count": 6
        }
      ]
    },
    {
      "cell_type": "code",
      "source": [
        "max_len = max(len(s) for s in X_train)"
      ],
      "metadata": {
        "id": "4xkBXxsxshQC"
      },
      "execution_count": 7,
      "outputs": []
    },
    {
      "cell_type": "code",
      "source": [
        "X_train = pad_sequences(X_train, maxlen = max_len)\n",
        "X_test = pad_sequences(X_test, maxlen = max_len)\n",
        "X_valid = pad_sequences(X_valid, maxlen = max_len)\n",
        "X_train.shape, X_test.shape, X_valid.shape"
      ],
      "metadata": {
        "colab": {
          "base_uri": "https://localhost:8080/"
        },
        "id": "H0aeN3zpty5J",
        "outputId": "98a2ea3b-0962-42af-dd4c-aa5cde604217"
      },
      "execution_count": 8,
      "outputs": [
        {
          "output_type": "execute_result",
          "data": {
            "text/plain": [
              "((25000, 2494), (15000, 2494), (10000, 2494))"
            ]
          },
          "metadata": {},
          "execution_count": 8
        }
      ]
    },
    {
      "cell_type": "code",
      "source": [
        "from tensorflow.keras.models import Sequential, load_model\n",
        "from tensorflow.keras.layers import Dense, LSTM, Embedding, Dropout, MaxPooling1D, GlobalMaxPooling1D, Conv1D\n",
        "from tensorflow.keras.callbacks import EarlyStopping, ModelCheckpoint"
      ],
      "metadata": {
        "id": "1WzRdUn8r63b"
      },
      "execution_count": 12,
      "outputs": []
    },
    {
      "cell_type": "code",
      "source": [
        "model1 = Sequential([\n",
        "    Embedding(vocab_size, 100, input_length = max_len),\n",
        "    LSTM(128),\n",
        "    Dense(1, activation='sigmoid')\n",
        "])\n",
        "\n",
        "model1.summary()"
      ],
      "metadata": {
        "colab": {
          "base_uri": "https://localhost:8080/"
        },
        "id": "Pt64wxKpsTWk",
        "outputId": "60e807aa-42f7-43dd-aace-dbeeb2feafe8"
      },
      "execution_count": 10,
      "outputs": [
        {
          "output_type": "stream",
          "name": "stdout",
          "text": [
            "Model: \"sequential\"\n",
            "_________________________________________________________________\n",
            " Layer (type)                Output Shape              Param #   \n",
            "=================================================================\n",
            " embedding (Embedding)       (None, 2494, 100)         8858500   \n",
            "                                                                 \n",
            " lstm (LSTM)                 (None, 128)               117248    \n",
            "                                                                 \n",
            " dense (Dense)               (None, 1)                 129       \n",
            "                                                                 \n",
            "=================================================================\n",
            "Total params: 8,975,877\n",
            "Trainable params: 8,975,877\n",
            "Non-trainable params: 0\n",
            "_________________________________________________________________\n"
          ]
        }
      ]
    },
    {
      "cell_type": "code",
      "source": [
        "model1.compile('adam', 'binary_crossentropy', ['accuracy'])"
      ],
      "metadata": {
        "id": "hoQFPfAwtAx4"
      },
      "execution_count": 11,
      "outputs": []
    },
    {
      "cell_type": "code",
      "source": [
        "model_path = 'best-idbm-LSTM.h5'\n",
        "mc = ModelCheckpoint(model_path, verbose=1, save_best_only = True)\n",
        "es = EarlyStopping(patience=10)"
      ],
      "metadata": {
        "id": "2KxQeo8VtUaz"
      },
      "execution_count": 12,
      "outputs": []
    },
    {
      "cell_type": "code",
      "source": [
        "hist1 = model1.fit(X_train, y_train, validation_data = (X_valid, y_valid),\n",
        "                  epochs= 50, batch_size= 128,\n",
        "                  callbacks=[mc, es], verbose=1)"
      ],
      "metadata": {
        "colab": {
          "base_uri": "https://localhost:8080/"
        },
        "id": "vgHjpgSwtKkW",
        "outputId": "9c8a6983-c3c2-463b-d7f3-ea6b8e68f841"
      },
      "execution_count": 15,
      "outputs": [
        {
          "output_type": "stream",
          "name": "stdout",
          "text": [
            "Epoch 1/50\n",
            "196/196 [==============================] - ETA: 0s - loss: 0.2819 - accuracy: 0.8852\n",
            "Epoch 1: val_loss improved from inf to 0.35609, saving model to best-idbm-LSTM.h5\n",
            "196/196 [==============================] - 37s 187ms/step - loss: 0.2819 - accuracy: 0.8852 - val_loss: 0.3561 - val_accuracy: 0.8484\n",
            "Epoch 2/50\n",
            "196/196 [==============================] - ETA: 0s - loss: 0.1451 - accuracy: 0.9498\n",
            "Epoch 2: val_loss did not improve from 0.35609\n",
            "196/196 [==============================] - 36s 185ms/step - loss: 0.1451 - accuracy: 0.9498 - val_loss: 0.3569 - val_accuracy: 0.8480\n",
            "Epoch 3/50\n",
            "196/196 [==============================] - ETA: 0s - loss: 0.0930 - accuracy: 0.9678\n",
            "Epoch 3: val_loss did not improve from 0.35609\n",
            "196/196 [==============================] - 35s 179ms/step - loss: 0.0930 - accuracy: 0.9678 - val_loss: 0.4432 - val_accuracy: 0.8613\n",
            "Epoch 4/50\n",
            "196/196 [==============================] - ETA: 0s - loss: 0.0454 - accuracy: 0.9869\n",
            "Epoch 4: val_loss did not improve from 0.35609\n",
            "196/196 [==============================] - 36s 183ms/step - loss: 0.0454 - accuracy: 0.9869 - val_loss: 0.4570 - val_accuracy: 0.8485\n",
            "Epoch 5/50\n",
            "196/196 [==============================] - ETA: 0s - loss: 0.0338 - accuracy: 0.9904\n",
            "Epoch 5: val_loss did not improve from 0.35609\n",
            "196/196 [==============================] - 35s 181ms/step - loss: 0.0338 - accuracy: 0.9904 - val_loss: 0.5034 - val_accuracy: 0.8521\n",
            "Epoch 6/50\n",
            "196/196 [==============================] - ETA: 0s - loss: 0.0259 - accuracy: 0.9919\n",
            "Epoch 6: val_loss did not improve from 0.35609\n",
            "196/196 [==============================] - 36s 184ms/step - loss: 0.0259 - accuracy: 0.9919 - val_loss: 0.5422 - val_accuracy: 0.8409\n",
            "Epoch 7/50\n",
            "196/196 [==============================] - ETA: 0s - loss: 0.0518 - accuracy: 0.9818\n",
            "Epoch 7: val_loss did not improve from 0.35609\n",
            "196/196 [==============================] - 36s 185ms/step - loss: 0.0518 - accuracy: 0.9818 - val_loss: 0.6069 - val_accuracy: 0.8406\n",
            "Epoch 8/50\n",
            "196/196 [==============================] - ETA: 0s - loss: 0.0487 - accuracy: 0.9834\n",
            "Epoch 8: val_loss did not improve from 0.35609\n",
            "196/196 [==============================] - 36s 186ms/step - loss: 0.0487 - accuracy: 0.9834 - val_loss: 0.5212 - val_accuracy: 0.8436\n",
            "Epoch 9/50\n",
            "196/196 [==============================] - ETA: 0s - loss: 0.0388 - accuracy: 0.9874\n",
            "Epoch 9: val_loss did not improve from 0.35609\n",
            "196/196 [==============================] - 36s 185ms/step - loss: 0.0388 - accuracy: 0.9874 - val_loss: 0.5683 - val_accuracy: 0.8328\n",
            "Epoch 10/50\n",
            "196/196 [==============================] - ETA: 0s - loss: 0.0130 - accuracy: 0.9960\n",
            "Epoch 10: val_loss did not improve from 0.35609\n",
            "196/196 [==============================] - 36s 185ms/step - loss: 0.0130 - accuracy: 0.9960 - val_loss: 0.6679 - val_accuracy: 0.8424\n",
            "Epoch 11/50\n",
            "196/196 [==============================] - ETA: 0s - loss: 0.0057 - accuracy: 0.9986\n",
            "Epoch 11: val_loss did not improve from 0.35609\n",
            "196/196 [==============================] - 36s 184ms/step - loss: 0.0057 - accuracy: 0.9986 - val_loss: 0.7978 - val_accuracy: 0.8460\n"
          ]
        }
      ]
    },
    {
      "cell_type": "code",
      "source": [
        "best_model = load_model(model_path)\n",
        "best_model.evaluate(X_test, y_test)"
      ],
      "metadata": {
        "colab": {
          "base_uri": "https://localhost:8080/"
        },
        "id": "xzp8pO29uJdU",
        "outputId": "71936bec-abcc-4507-89f3-974b567d8150"
      },
      "execution_count": 16,
      "outputs": [
        {
          "output_type": "stream",
          "name": "stdout",
          "text": [
            "469/469 [==============================] - 20s 42ms/step - loss: 0.3598 - accuracy: 0.8458\n"
          ]
        },
        {
          "output_type": "execute_result",
          "data": {
            "text/plain": [
              "[0.3598017990589142, 0.84579998254776]"
            ]
          },
          "metadata": {},
          "execution_count": 16
        }
      ]
    },
    {
      "cell_type": "markdown",
      "source": [
        "- Case 1) Conv1D x 2"
      ],
      "metadata": {
        "id": "KQnmywuGzXs2"
      }
    },
    {
      "cell_type": "code",
      "source": [
        "model2 = Sequential([ \n",
        "    Embedding(vocab_size, 100, input_length=max_len),\n",
        "    Dropout(0.5),\n",
        "    Conv1D(64, 7, activation='relu'),\n",
        "    MaxPooling1D(7),\n",
        "    Conv1D(64, 5, activation='relu'),\n",
        "    MaxPooling1D(5),\n",
        "    GlobalMaxPooling1D(),\n",
        "    Dense(1, activation='sigmoid')\n",
        "])\n",
        "model2.summary()"
      ],
      "metadata": {
        "colab": {
          "base_uri": "https://localhost:8080/"
        },
        "id": "E3um8IHruiFK",
        "outputId": "cfa2b79a-edd5-4326-ff0d-d0d17db9aa21"
      },
      "execution_count": 13,
      "outputs": [
        {
          "output_type": "stream",
          "name": "stdout",
          "text": [
            "Model: \"sequential\"\n",
            "_________________________________________________________________\n",
            " Layer (type)                Output Shape              Param #   \n",
            "=================================================================\n",
            " embedding_1 (Embedding)     (None, 2494, 100)         8858500   \n",
            "                                                                 \n",
            " dropout_1 (Dropout)         (None, 2494, 100)         0         \n",
            "                                                                 \n",
            " conv1d (Conv1D)             (None, 2488, 64)          44864     \n",
            "                                                                 \n",
            " max_pooling1d (MaxPooling1D  (None, 355, 64)          0         \n",
            " )                                                               \n",
            "                                                                 \n",
            " conv1d_1 (Conv1D)           (None, 351, 64)           20544     \n",
            "                                                                 \n",
            " max_pooling1d_1 (MaxPooling  (None, 70, 64)           0         \n",
            " 1D)                                                             \n",
            "                                                                 \n",
            " global_max_pooling1d (Globa  (None, 64)               0         \n",
            " lMaxPooling1D)                                                  \n",
            "                                                                 \n",
            " dense (Dense)               (None, 1)                 65        \n",
            "                                                                 \n",
            "=================================================================\n",
            "Total params: 8,923,973\n",
            "Trainable params: 8,923,973\n",
            "Non-trainable params: 0\n",
            "_________________________________________________________________\n"
          ]
        }
      ]
    },
    {
      "cell_type": "code",
      "source": [
        "model2.compile('adam', 'binary_crossentropy', ['accuracy'])\n",
        "model2_path = 'best-imdb-conv1d-conv1d.h5'\n",
        "mc1 = ModelCheckpoint(model2_path, verbose=1, save_best_only=True)\n",
        "es1 = EarlyStopping(patience=5)"
      ],
      "metadata": {
        "id": "YlHfOvPQzH7B"
      },
      "execution_count": 14,
      "outputs": []
    },
    {
      "cell_type": "code",
      "source": [
        "hist2 = model2.fit(\n",
        "    X_train, y_train, validation_data=(X_valid, y_valid),\n",
        "    epochs=30, batch_size=64, callbacks=[mc1,es1]\n",
        ")"
      ],
      "metadata": {
        "colab": {
          "base_uri": "https://localhost:8080/"
        },
        "id": "w9Fga_tVzJko",
        "outputId": "81787ab5-de91-4f40-e86d-ba39515dacf8"
      },
      "execution_count": 16,
      "outputs": [
        {
          "output_type": "stream",
          "name": "stdout",
          "text": [
            "Epoch 1/30\n",
            "391/391 [==============================] - ETA: 0s - loss: 0.4820 - accuracy: 0.7331\n",
            "Epoch 1: val_loss improved from inf to 0.31870, saving model to best-imdb-conv1d-conv1d.h5\n",
            "391/391 [==============================] - 33s 40ms/step - loss: 0.4820 - accuracy: 0.7331 - val_loss: 0.3187 - val_accuracy: 0.8651\n",
            "Epoch 2/30\n",
            "391/391 [==============================] - ETA: 0s - loss: 0.2233 - accuracy: 0.9136\n",
            "Epoch 2: val_loss did not improve from 0.31870\n",
            "391/391 [==============================] - 15s 40ms/step - loss: 0.2233 - accuracy: 0.9136 - val_loss: 0.3313 - val_accuracy: 0.8590\n",
            "Epoch 3/30\n",
            "391/391 [==============================] - ETA: 0s - loss: 0.1224 - accuracy: 0.9556\n",
            "Epoch 3: val_loss did not improve from 0.31870\n",
            "391/391 [==============================] - 15s 37ms/step - loss: 0.1224 - accuracy: 0.9556 - val_loss: 0.3787 - val_accuracy: 0.8502\n",
            "Epoch 4/30\n",
            "391/391 [==============================] - ETA: 0s - loss: 0.0584 - accuracy: 0.9814\n",
            "Epoch 4: val_loss did not improve from 0.31870\n",
            "391/391 [==============================] - 15s 38ms/step - loss: 0.0584 - accuracy: 0.9814 - val_loss: 0.4745 - val_accuracy: 0.8471\n",
            "Epoch 5/30\n",
            "391/391 [==============================] - ETA: 0s - loss: 0.0310 - accuracy: 0.9898\n",
            "Epoch 5: val_loss did not improve from 0.31870\n",
            "391/391 [==============================] - 15s 38ms/step - loss: 0.0310 - accuracy: 0.9898 - val_loss: 0.5817 - val_accuracy: 0.8464\n",
            "Epoch 6/30\n",
            "391/391 [==============================] - ETA: 0s - loss: 0.0163 - accuracy: 0.9947\n",
            "Epoch 6: val_loss did not improve from 0.31870\n",
            "391/391 [==============================] - 15s 38ms/step - loss: 0.0163 - accuracy: 0.9947 - val_loss: 0.6663 - val_accuracy: 0.8411\n"
          ]
        }
      ]
    },
    {
      "cell_type": "code",
      "source": [
        "best_model2 = load_model(model2_path)\n",
        "best_model2.evaluate(X_test, y_test)"
      ],
      "metadata": {
        "colab": {
          "base_uri": "https://localhost:8080/"
        },
        "id": "3gaybvsIzL90",
        "outputId": "7c1a882a-ec27-44a8-9725-53940301d255"
      },
      "execution_count": 17,
      "outputs": [
        {
          "output_type": "stream",
          "name": "stdout",
          "text": [
            "469/469 [==============================] - 3s 6ms/step - loss: 0.3247 - accuracy: 0.8586\n"
          ]
        },
        {
          "output_type": "execute_result",
          "data": {
            "text/plain": [
              "[0.32465168833732605, 0.8586000204086304]"
            ]
          },
          "metadata": {},
          "execution_count": 17
        }
      ]
    },
    {
      "cell_type": "markdown",
      "source": [
        "- Case 2) Conv1D + LSTM"
      ],
      "metadata": {
        "id": "j4J5c-i5zUBy"
      }
    },
    {
      "cell_type": "code",
      "source": [
        "model3 = Sequential([ \n",
        "    Embedding(vocab_size, 100, input_length=max_len),\n",
        "    Dropout(0.5),\n",
        "    Conv1D(64, 5, activation='relu'),\n",
        "    MaxPooling1D(5),\n",
        "    LSTM(100),\n",
        "    Dense(1, activation='sigmoid')\n",
        "])\n",
        "model3.summary()"
      ],
      "metadata": {
        "colab": {
          "base_uri": "https://localhost:8080/"
        },
        "id": "Dhl5h9fVzVrs",
        "outputId": "582174e5-e46b-4924-98a4-0dce209dddd4"
      },
      "execution_count": 19,
      "outputs": [
        {
          "output_type": "stream",
          "name": "stdout",
          "text": [
            "Model: \"sequential_1\"\n",
            "_________________________________________________________________\n",
            " Layer (type)                Output Shape              Param #   \n",
            "=================================================================\n",
            " embedding_2 (Embedding)     (None, 2494, 100)         8858500   \n",
            "                                                                 \n",
            " dropout_2 (Dropout)         (None, 2494, 100)         0         \n",
            "                                                                 \n",
            " conv1d_2 (Conv1D)           (None, 2490, 64)          32064     \n",
            "                                                                 \n",
            " max_pooling1d_2 (MaxPooling  (None, 498, 64)          0         \n",
            " 1D)                                                             \n",
            "                                                                 \n",
            " lstm (LSTM)                 (None, 100)               66000     \n",
            "                                                                 \n",
            " dense_1 (Dense)             (None, 1)                 101       \n",
            "                                                                 \n",
            "=================================================================\n",
            "Total params: 8,956,665\n",
            "Trainable params: 8,956,665\n",
            "Non-trainable params: 0\n",
            "_________________________________________________________________\n"
          ]
        }
      ]
    },
    {
      "cell_type": "code",
      "source": [
        "model3.compile('adam', 'binary_crossentropy', ['accuracy'])\n",
        "model3_path = 'best-imdb-conv1d-lstm.h5'\n",
        "mc3 = ModelCheckpoint(model3_path, verbose=1, save_best_only=True)\n",
        "es3 = EarlyStopping(patience=5)"
      ],
      "metadata": {
        "id": "YsZgnDdFzbbM"
      },
      "execution_count": 20,
      "outputs": []
    },
    {
      "cell_type": "code",
      "source": [
        "hist3 = model3.fit(\n",
        "    X_train, y_train, validation_data=(X_valid, y_valid),\n",
        "    epochs=30, batch_size=64, callbacks=[mc3,es3]\n",
        ")"
      ],
      "metadata": {
        "colab": {
          "base_uri": "https://localhost:8080/"
        },
        "id": "9ATxj4Q-zfJ0",
        "outputId": "477eee7e-a22e-46c5-edf6-e1b391df008c"
      },
      "execution_count": 23,
      "outputs": [
        {
          "output_type": "stream",
          "name": "stdout",
          "text": [
            "Epoch 1/30\n",
            "391/391 [==============================] - ETA: 0s - loss: 0.3859 - accuracy: 0.8123\n",
            "Epoch 1: val_loss improved from inf to 0.28532, saving model to best-imdb-conv1d-lstm.h5\n",
            "391/391 [==============================] - 27s 60ms/step - loss: 0.3859 - accuracy: 0.8123 - val_loss: 0.2853 - val_accuracy: 0.8847\n",
            "Epoch 2/30\n",
            "390/391 [============================>.] - ETA: 0s - loss: 0.1595 - accuracy: 0.9419\n",
            "Epoch 2: val_loss did not improve from 0.28532\n",
            "391/391 [==============================] - 23s 59ms/step - loss: 0.1594 - accuracy: 0.9420 - val_loss: 0.3147 - val_accuracy: 0.8716\n",
            "Epoch 3/30\n",
            "390/391 [============================>.] - ETA: 0s - loss: 0.0802 - accuracy: 0.9734\n",
            "Epoch 3: val_loss did not improve from 0.28532\n",
            "391/391 [==============================] - 23s 58ms/step - loss: 0.0801 - accuracy: 0.9734 - val_loss: 0.3749 - val_accuracy: 0.8727\n",
            "Epoch 4/30\n",
            "390/391 [============================>.] - ETA: 0s - loss: 0.0384 - accuracy: 0.9880\n",
            "Epoch 4: val_loss did not improve from 0.28532\n",
            "391/391 [==============================] - 23s 59ms/step - loss: 0.0384 - accuracy: 0.9880 - val_loss: 0.4364 - val_accuracy: 0.8620\n",
            "Epoch 5/30\n",
            "390/391 [============================>.] - ETA: 0s - loss: 0.0231 - accuracy: 0.9926\n",
            "Epoch 5: val_loss did not improve from 0.28532\n",
            "391/391 [==============================] - 23s 58ms/step - loss: 0.0236 - accuracy: 0.9925 - val_loss: 0.5753 - val_accuracy: 0.8539\n",
            "Epoch 6/30\n",
            "390/391 [============================>.] - ETA: 0s - loss: 0.0179 - accuracy: 0.9941\n",
            "Epoch 6: val_loss did not improve from 0.28532\n",
            "391/391 [==============================] - 23s 58ms/step - loss: 0.0180 - accuracy: 0.9941 - val_loss: 0.5530 - val_accuracy: 0.8589\n"
          ]
        }
      ]
    },
    {
      "cell_type": "code",
      "source": [
        "best_model3 = load_model(model3_path)\n",
        "best_model3.evaluate(X_test, y_test)"
      ],
      "metadata": {
        "colab": {
          "base_uri": "https://localhost:8080/"
        },
        "id": "Q0-uDRWwzxq1",
        "outputId": "cc77f75e-9979-4288-b09b-29f571fc3804"
      },
      "execution_count": 24,
      "outputs": [
        {
          "output_type": "stream",
          "name": "stdout",
          "text": [
            "469/469 [==============================] - 6s 12ms/step - loss: 0.2832 - accuracy: 0.8853\n"
          ]
        },
        {
          "output_type": "execute_result",
          "data": {
            "text/plain": [
              "[0.2831706702709198, 0.8853333592414856]"
            ]
          },
          "metadata": {},
          "execution_count": 24
        }
      ]
    },
    {
      "cell_type": "markdown",
      "source": [
        "- Case 3) Conv1D + Dense"
      ],
      "metadata": {
        "id": "bHLYirs-zlIP"
      }
    },
    {
      "cell_type": "code",
      "source": [
        "model4 = Sequential([ \n",
        "    Embedding(vocab_size, 100, input_length=max_len),\n",
        "    Dropout(0.5),\n",
        "    Conv1D(64, 5, activation='relu'),\n",
        "    MaxPooling1D(5),\n",
        "    GlobalMaxPooling1D(),\n",
        "    Dense(100, activation='relu'),\n",
        "    Dense(1, activation='sigmoid')\n",
        "])\n",
        "model4.summary()"
      ],
      "metadata": {
        "colab": {
          "base_uri": "https://localhost:8080/"
        },
        "id": "qraX7mB_zm9H",
        "outputId": "1643a938-1a5c-4eec-8044-0d315dfe3c80"
      },
      "execution_count": 25,
      "outputs": [
        {
          "output_type": "stream",
          "name": "stdout",
          "text": [
            "Model: \"sequential_2\"\n",
            "_________________________________________________________________\n",
            " Layer (type)                Output Shape              Param #   \n",
            "=================================================================\n",
            " embedding_3 (Embedding)     (None, 2494, 100)         8858500   \n",
            "                                                                 \n",
            " dropout_3 (Dropout)         (None, 2494, 100)         0         \n",
            "                                                                 \n",
            " conv1d_3 (Conv1D)           (None, 2490, 64)          32064     \n",
            "                                                                 \n",
            " max_pooling1d_3 (MaxPooling  (None, 498, 64)          0         \n",
            " 1D)                                                             \n",
            "                                                                 \n",
            " global_max_pooling1d_1 (Glo  (None, 64)               0         \n",
            " balMaxPooling1D)                                                \n",
            "                                                                 \n",
            " dense_2 (Dense)             (None, 100)               6500      \n",
            "                                                                 \n",
            " dense_3 (Dense)             (None, 1)                 101       \n",
            "                                                                 \n",
            "=================================================================\n",
            "Total params: 8,897,165\n",
            "Trainable params: 8,897,165\n",
            "Non-trainable params: 0\n",
            "_________________________________________________________________\n"
          ]
        }
      ]
    },
    {
      "cell_type": "code",
      "source": [
        "model4.compile('adam', 'binary_crossentropy', ['accuracy'])\n",
        "model4_path = 'best-imdb-conv1d-dense.h5'\n",
        "mc3 = ModelCheckpoint(model4_path, verbose=1, save_best_only=True)\n",
        "es3 = EarlyStopping(patience=5)"
      ],
      "metadata": {
        "id": "2iFaMcSszoQs"
      },
      "execution_count": 26,
      "outputs": []
    },
    {
      "cell_type": "code",
      "source": [
        "hist4 = model4.fit(\n",
        "    X_train, y_train, validation_data=(X_valid, y_valid),\n",
        "    epochs=30, batch_size=64, callbacks=[mc3,es3]\n",
        ")"
      ],
      "metadata": {
        "colab": {
          "base_uri": "https://localhost:8080/"
        },
        "id": "vuos19NYzqFr",
        "outputId": "41998899-4d96-46b0-c5ee-10a9654aa026"
      },
      "execution_count": 27,
      "outputs": [
        {
          "output_type": "stream",
          "name": "stdout",
          "text": [
            "Epoch 1/30\n",
            "391/391 [==============================] - ETA: 0s - loss: 0.4866 - accuracy: 0.7476\n",
            "Epoch 1: val_loss improved from inf to 0.30266, saving model to best-imdb-conv1d-dense.h5\n",
            "391/391 [==============================] - 14s 34ms/step - loss: 0.4866 - accuracy: 0.7476 - val_loss: 0.3027 - val_accuracy: 0.8740\n",
            "Epoch 2/30\n",
            "391/391 [==============================] - ETA: 0s - loss: 0.2425 - accuracy: 0.9041\n",
            "Epoch 2: val_loss improved from 0.30266 to 0.25916, saving model to best-imdb-conv1d-dense.h5\n",
            "391/391 [==============================] - 14s 35ms/step - loss: 0.2425 - accuracy: 0.9041 - val_loss: 0.2592 - val_accuracy: 0.8945\n",
            "Epoch 3/30\n",
            "391/391 [==============================] - ETA: 0s - loss: 0.1464 - accuracy: 0.9444\n",
            "Epoch 3: val_loss did not improve from 0.25916\n",
            "391/391 [==============================] - 13s 34ms/step - loss: 0.1464 - accuracy: 0.9444 - val_loss: 0.2652 - val_accuracy: 0.8969\n",
            "Epoch 4/30\n",
            "391/391 [==============================] - ETA: 0s - loss: 0.0813 - accuracy: 0.9729\n",
            "Epoch 4: val_loss did not improve from 0.25916\n",
            "391/391 [==============================] - 13s 34ms/step - loss: 0.0813 - accuracy: 0.9729 - val_loss: 0.2963 - val_accuracy: 0.8933\n",
            "Epoch 5/30\n",
            "391/391 [==============================] - ETA: 0s - loss: 0.0487 - accuracy: 0.9840\n",
            "Epoch 5: val_loss did not improve from 0.25916\n",
            "391/391 [==============================] - 13s 34ms/step - loss: 0.0487 - accuracy: 0.9840 - val_loss: 0.3505 - val_accuracy: 0.8881\n",
            "Epoch 6/30\n",
            "391/391 [==============================] - ETA: 0s - loss: 0.0279 - accuracy: 0.9913\n",
            "Epoch 6: val_loss did not improve from 0.25916\n",
            "391/391 [==============================] - 13s 34ms/step - loss: 0.0279 - accuracy: 0.9913 - val_loss: 0.3631 - val_accuracy: 0.8944\n",
            "Epoch 7/30\n",
            "391/391 [==============================] - ETA: 0s - loss: 0.0201 - accuracy: 0.9932\n",
            "Epoch 7: val_loss did not improve from 0.25916\n",
            "391/391 [==============================] - 13s 34ms/step - loss: 0.0201 - accuracy: 0.9932 - val_loss: 0.4360 - val_accuracy: 0.8872\n"
          ]
        }
      ]
    },
    {
      "cell_type": "code",
      "source": [
        "best_model4 = load_model(model4_path)\n",
        "best_model4.evaluate(X_test, y_test)"
      ],
      "metadata": {
        "colab": {
          "base_uri": "https://localhost:8080/"
        },
        "id": "3M-9WUL6zty4",
        "outputId": "3d7d2623-1964-4e29-dbf8-275d1e4489e5"
      },
      "execution_count": 28,
      "outputs": [
        {
          "output_type": "stream",
          "name": "stdout",
          "text": [
            "469/469 [==============================] - 3s 5ms/step - loss: 0.2695 - accuracy: 0.8885\n"
          ]
        },
        {
          "output_type": "execute_result",
          "data": {
            "text/plain": [
              "[0.26949426531791687, 0.888533353805542]"
            ]
          },
          "metadata": {},
          "execution_count": 28
        }
      ]
    },
    {
      "cell_type": "code",
      "source": [
        ""
      ],
      "metadata": {
        "id": "ArAlcZOy0Y4H"
      },
      "execution_count": null,
      "outputs": []
    }
  ]
}