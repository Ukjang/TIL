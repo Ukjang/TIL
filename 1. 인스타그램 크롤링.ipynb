{
 "cells": [
  {
   "cell_type": "markdown",
   "id": "0f6c4451",
   "metadata": {},
   "source": [
    "## 인스타그램 해시태그 크롤링\n",
    " - 셀레니움을 이용한 크롤링\n",
    " - 결과에 대한 단어 분석"
   ]
  },
  {
   "cell_type": "code",
   "execution_count": 103,
   "id": "579c69b4",
   "metadata": {},
   "outputs": [],
   "source": [
    "from selenium.webdriver import Chrome\n",
    "from selenium.webdriver.common.by import By\n",
    "import time\n",
    "import requests\n",
    "from bs4 import BeautifulSoup as bs\n",
    "import pandas as pd\n",
    "from tqdm import tqdm"
   ]
  },
  {
   "cell_type": "markdown",
   "id": "0b130978",
   "metadata": {},
   "source": [
    "1. 인스타 그램 로그인"
   ]
  },
  {
   "cell_type": "code",
   "execution_count": 53,
   "id": "50b7fdea",
   "metadata": {},
   "outputs": [
    {
     "name": "stderr",
     "output_type": "stream",
     "text": [
      "C:\\Users\\Admin\\AppData\\Local\\Temp\\ipykernel_26928\\1762278102.py:1: DeprecationWarning: executable_path has been deprecated, please pass in a Service object\n",
      "  driver = Chrome('c:/pydata/chromedriver.exe')\n"
     ]
    }
   ],
   "source": [
    "driver = Chrome('c:/pydata/chromedriver.exe')\n",
    "url = 'https://www.instagram.com/'\n",
    "driver.get(url)\n"
   ]
  },
  {
   "cell_type": "code",
   "execution_count": 54,
   "id": "32f03ad3",
   "metadata": {},
   "outputs": [],
   "source": [
    "# 인스타 로그인\n",
    "\n",
    "user_id = 'bedro4339@gmail.com'\n",
    "user_pw = 'gstring518'\n",
    "\n",
    "input_id = driver.find_element(By.CSS_SELECTOR, '#loginForm > div > div:nth-child(1) > div > label > input')\n",
    "input_id.clear()\n",
    "input_id.send_keys(user_id)\n",
    "\n",
    "input_pw = driver.find_element(By.CSS_SELECTOR, '#loginForm > div > div:nth-child(2) > div > label > input')\n",
    "input_pw.clear()\n",
    "input_pw.send_keys(user_pw)\n",
    "\n",
    "input_pw.submit()\n",
    "time.sleep(3)\n",
    "\n",
    "driver.find_element(By.XPATH, '//*[@id=\"react-root\"]/section/main/div/div/div/div/button').click()\n",
    "time.sleep(3)\n",
    "driver.find_element(By.XPATH, '/html/body/div[5]/div/div/div/div[3]/button[2]').click()"
   ]
  },
  {
   "cell_type": "code",
   "execution_count": 36,
   "id": "39eba1e0",
   "metadata": {},
   "outputs": [],
   "source": [
    "driver.find_element(By.XPATH, '//*[@id=\"loginForm\"]/div/div[1]/div/label/input').clear()\n",
    "driver.find_element(By.XPATH, '//*[@id=\"loginForm\"]/div/div[1]/div/label/input').click()\n",
    "\n",
    "\n",
    "driver.find_element(By.XPATH, '//*[@id=\"loginForm\"]/div/div[1]/div/label/input').send_keys(user_id)\n",
    "\n",
    "\n",
    "\n",
    "driver.find_element(By.XPATH, '//*[@id=\"loginForm\"]/div/div[2]/div/label/input').clear()\n",
    "driver.find_element(By.XPATH, '//*[@id=\"loginForm\"]/div/div[2]/div/label/input').click()\n",
    "\n",
    "driver.find_element(By.XPATH, '//*[@id=\"loginForm\"]/div/div[2]/div/label/input').send_keys(user_pw)\n",
    "\n",
    "driver.find_element(By.XPATH, '//*[@id=\"loginForm\"]/div/div[2]/div/label/input').submit()\n",
    "\n",
    "\n",
    "# driver.find_element(By.XPATH, '//*[@id=\"loginForm\"]/div/div[3]/button/div').click()"
   ]
  },
  {
   "cell_type": "markdown",
   "id": "79fec8af",
   "metadata": {},
   "source": [
    "## 2. 인스타그램에서 검색 url로 접속하기"
   ]
  },
  {
   "cell_type": "code",
   "execution_count": 47,
   "id": "08b71aca",
   "metadata": {},
   "outputs": [],
   "source": [
    "from urllib.parse import quote"
   ]
  },
  {
   "cell_type": "code",
   "execution_count": 107,
   "id": "0fb0cb07",
   "metadata": {},
   "outputs": [
    {
     "name": "stdout",
     "output_type": "stream",
     "text": [
      "검색어제주도맛집\n"
     ]
    }
   ],
   "source": [
    "# 인스타 검색 url 확인 및 사용자 키워드 적용\n",
    "keyword = input('검색어')\n",
    "url = 'https://www.instagram.com/explore/tags/' + quote(keyword)\n",
    "driver.get(url)\n",
    "time.sleep(3)\n",
    "\n",
    "\n",
    "# 첫번째 게시물 클릭\n",
    "text_lst = []\n",
    "driver.find_element(By.XPATH, '//*[@id=\"react-root\"]/section/main/article/div[1]/div/div/div[1]/div[1]/a/div[1]/div[2]').click()\n",
    "time.sleep(3)\n",
    "\n"
   ]
  },
  {
   "cell_type": "code",
   "execution_count": 111,
   "id": "7db14d21",
   "metadata": {},
   "outputs": [
    {
     "name": "stderr",
     "output_type": "stream",
     "text": [
      "  3%|██▊                                                                                | 1/29 [00:03<01:43,  3.71s/it]"
     ]
    },
    {
     "name": "stdout",
     "output_type": "stream",
     "text": [
      "197\n"
     ]
    },
    {
     "name": "stderr",
     "output_type": "stream",
     "text": [
      "\r",
      "  7%|█████▋                                                                             | 2/29 [00:07<01:39,  3.70s/it]"
     ]
    },
    {
     "name": "stdout",
     "output_type": "stream",
     "text": [
      "1,259\n"
     ]
    },
    {
     "name": "stderr",
     "output_type": "stream",
     "text": [
      " 41%|█████████████████████████████████▉                                                | 12/29 [00:43<00:59,  3.51s/it]"
     ]
    },
    {
     "name": "stdout",
     "output_type": "stream",
     "text": [
      "4\n"
     ]
    },
    {
     "name": "stderr",
     "output_type": "stream",
     "text": [
      "\r",
      " 45%|████████████████████████████████████▊                                             | 13/29 [00:47<00:56,  3.54s/it]"
     ]
    },
    {
     "name": "stdout",
     "output_type": "stream",
     "text": [
      "조회 2회\n"
     ]
    },
    {
     "name": "stderr",
     "output_type": "stream",
     "text": [
      "\r",
      " 48%|███████████████████████████████████████▌                                          | 14/29 [00:50<00:53,  3.56s/it]"
     ]
    },
    {
     "name": "stdout",
     "output_type": "stream",
     "text": [
      "2\n"
     ]
    },
    {
     "name": "stderr",
     "output_type": "stream",
     "text": [
      " 55%|█████████████████████████████████████████████▏                                    | 16/29 [00:58<00:47,  3.62s/it]"
     ]
    },
    {
     "name": "stdout",
     "output_type": "stream",
     "text": [
      "4\n"
     ]
    },
    {
     "name": "stderr",
     "output_type": "stream",
     "text": [
      "\r",
      " 59%|████████████████████████████████████████████████                                  | 17/29 [01:01<00:42,  3.58s/it]"
     ]
    },
    {
     "name": "stdout",
     "output_type": "stream",
     "text": [
      "12\n"
     ]
    },
    {
     "name": "stderr",
     "output_type": "stream",
     "text": [
      "\r",
      " 62%|██████████████████████████████████████████████████▉                               | 18/29 [01:05<00:39,  3.56s/it]"
     ]
    },
    {
     "name": "stdout",
     "output_type": "stream",
     "text": [
      "18\n"
     ]
    },
    {
     "name": "stderr",
     "output_type": "stream",
     "text": [
      "\r",
      " 66%|█████████████████████████████████████████████████████▋                            | 19/29 [01:08<00:35,  3.58s/it]"
     ]
    },
    {
     "name": "stdout",
     "output_type": "stream",
     "text": [
      "조회 1회\n"
     ]
    },
    {
     "name": "stderr",
     "output_type": "stream",
     "text": [
      "\r",
      " 69%|████████████████████████████████████████████████████████▌                         | 20/29 [01:12<00:32,  3.58s/it]"
     ]
    },
    {
     "name": "stdout",
     "output_type": "stream",
     "text": [
      "5\n"
     ]
    },
    {
     "name": "stderr",
     "output_type": "stream",
     "text": [
      "\r",
      " 72%|███████████████████████████████████████████████████████████▍                      | 21/29 [01:15<00:28,  3.55s/it]"
     ]
    },
    {
     "name": "stdout",
     "output_type": "stream",
     "text": [
      "7\n"
     ]
    },
    {
     "name": "stderr",
     "output_type": "stream",
     "text": [
      " 83%|███████████████████████████████████████████████████████████████████▊              | 24/29 [01:26<00:17,  3.56s/it]"
     ]
    },
    {
     "name": "stdout",
     "output_type": "stream",
     "text": [
      "조회 3회\n"
     ]
    },
    {
     "name": "stderr",
     "output_type": "stream",
     "text": [
      " 90%|█████████████████████████████████████████████████████████████████████████▌        | 26/29 [01:33<00:10,  3.54s/it]"
     ]
    },
    {
     "name": "stdout",
     "output_type": "stream",
     "text": [
      "조회 1회\n"
     ]
    },
    {
     "name": "stderr",
     "output_type": "stream",
     "text": [
      "\r",
      " 93%|████████████████████████████████████████████████████████████████████████████▎     | 27/29 [01:36<00:07,  3.52s/it]"
     ]
    },
    {
     "name": "stdout",
     "output_type": "stream",
     "text": [
      "10\n"
     ]
    },
    {
     "name": "stderr",
     "output_type": "stream",
     "text": [
      "\r",
      " 97%|███████████████████████████████████████████████████████████████████████████████▏  | 28/29 [01:40<00:03,  3.51s/it]"
     ]
    },
    {
     "name": "stdout",
     "output_type": "stream",
     "text": [
      "2\n"
     ]
    },
    {
     "name": "stderr",
     "output_type": "stream",
     "text": [
      "100%|██████████████████████████████████████████████████████████████████████████████████| 29/29 [01:44<00:00,  3.60s/it]"
     ]
    },
    {
     "name": "stdout",
     "output_type": "stream",
     "text": [
      "31\n"
     ]
    },
    {
     "name": "stderr",
     "output_type": "stream",
     "text": [
      "\n"
     ]
    },
    {
     "data": {
      "text/html": [
       "<div>\n",
       "<style scoped>\n",
       "    .dataframe tbody tr th:only-of-type {\n",
       "        vertical-align: middle;\n",
       "    }\n",
       "\n",
       "    .dataframe tbody tr th {\n",
       "        vertical-align: top;\n",
       "    }\n",
       "\n",
       "    .dataframe thead th {\n",
       "        text-align: right;\n",
       "    }\n",
       "</style>\n",
       "<table border=\"1\" class=\"dataframe\">\n",
       "  <thead>\n",
       "    <tr style=\"text-align: right;\">\n",
       "      <th></th>\n",
       "      <th>0</th>\n",
       "      <th>1</th>\n",
       "    </tr>\n",
       "  </thead>\n",
       "  <tbody>\n",
       "    <tr>\n",
       "      <th>0</th>\n",
       "      <td>travel_seasia제주도 동쪽 갈치 1등.jpg하루에 갈치만 150마리 판다고...</td>\n",
       "      <td>197</td>\n",
       "    </tr>\n",
       "    <tr>\n",
       "      <th>1</th>\n",
       "      <td>yeonjae.bob2제주황해식당 tvn 더짠내투어 가성비 갈치조림으로 소개된@hw...</td>\n",
       "      <td>1,259</td>\n",
       "    </tr>\n",
       "    <tr>\n",
       "      <th>2</th>\n",
       "      <td>travel_seasia제주도 동쪽 갈치 1등.jpg하루에 갈치만 150마리 판다고...</td>\n",
       "      <td></td>\n",
       "    </tr>\n",
       "    <tr>\n",
       "      <th>3</th>\n",
       "      <td>kk_love0149&lt;광고&gt;제주분식 https://jejubunsig.modoo.a...</td>\n",
       "      <td></td>\n",
       "    </tr>\n",
       "    <tr>\n",
       "      <th>4</th>\n",
       "      <td>kk_love0146&lt;광고&gt;제주분식 https://jejubunsig.modoo.a...</td>\n",
       "      <td></td>\n",
       "    </tr>\n",
       "    <tr>\n",
       "      <th>5</th>\n",
       "      <td>zipbap_danso11시 오픈이지만 오픈전부터 찾아 주셔서 예약해주심에 다시한번...</td>\n",
       "      <td></td>\n",
       "    </tr>\n",
       "    <tr>\n",
       "      <th>6</th>\n",
       "      <td>skywoong-윤슬을 좋아 한다 하셔서!#오늘일출스냅중에#선남선녀#윤슬#자동차소음...</td>\n",
       "      <td></td>\n",
       "    </tr>\n",
       "    <tr>\n",
       "      <th>7</th>\n",
       "      <td>leeck2467함덕해수욕장에서 차타고 1-2분거리 한번에 다섯가지를 먹을 수 있는...</td>\n",
       "      <td></td>\n",
       "    </tr>\n",
       "    <tr>\n",
       "      <th>8</th>\n",
       "      <td>tagseobtae코로나가 걱정돼서 포장을 할까 하다가이렇게 신선한걸 포장을 하면 ...</td>\n",
       "      <td></td>\n",
       "    </tr>\n",
       "    <tr>\n",
       "      <th>9</th>\n",
       "      <td>babjo84오랜만에 집밥 공장을 돌려보았습니다..이 안주들은 술도술이지만 밥을 부...</td>\n",
       "      <td></td>\n",
       "    </tr>\n",
       "    <tr>\n",
       "      <th>10</th>\n",
       "      <td>jeju.road129aweol.애월 로드129성게크림파스타흑돼지 멘치카츠흑돼지 치...</td>\n",
       "      <td></td>\n",
       "    </tr>\n",
       "    <tr>\n",
       "      <th>11</th>\n",
       "      <td>nowsee91.애월 로드129성게크림파스타흑돼지 멘치카츠흑돼지 치즈돈까스흑돼지 고...</td>\n",
       "      <td>4</td>\n",
       "    </tr>\n",
       "    <tr>\n",
       "      <th>12</th>\n",
       "      <td>_ozhome.범일분식 순대국밥 막창순대 존맛🤤버거요 관자버거 🍔제주 반딧불한담 애...</td>\n",
       "      <td>조회 2회</td>\n",
       "    </tr>\n",
       "    <tr>\n",
       "      <th>13</th>\n",
       "      <td>snsgram_kk22(협찬)제주산 갈치를 구이&amp;조림으로 한상‼일단 가성비 넘치는 ...</td>\n",
       "      <td>2</td>\n",
       "    </tr>\n",
       "    <tr>\n",
       "      <th>14</th>\n",
       "      <td>dtshoppingmall4.✔️문의는 프로필 하단에 링...</td>\n",
       "      <td></td>\n",
       "    </tr>\n",
       "    <tr>\n",
       "      <th>15</th>\n",
       "      <td>leeck2467함덕해수욕장에서 차타고 1-2분거리 한번에 다섯가지를 먹을 수 있는...</td>\n",
       "      <td>4</td>\n",
       "    </tr>\n",
       "    <tr>\n",
       "      <th>16</th>\n",
       "      <td>2013_1030.2022.03.28~03.31봄 맞으러 온 제주도.여유. 힐링. ...</td>\n",
       "      <td>12</td>\n",
       "    </tr>\n",
       "    <tr>\n",
       "      <th>17</th>\n",
       "      <td>so____y00n빠앙🤎10분</td>\n",
       "      <td>18</td>\n",
       "    </tr>\n",
       "    <tr>\n",
       "      <th>18</th>\n",
       "      <td>luminous_sey봄이야🌼12분</td>\n",
       "      <td>조회 1회</td>\n",
       "    </tr>\n",
       "    <tr>\n",
       "      <th>19</th>\n",
       "      <td>snsgram_kk02(협찬)제주산 갈치를 구이&amp;조림으로 한상‼일단 가성비 넘치는 ...</td>\n",
       "      <td>5</td>\n",
       "    </tr>\n",
       "    <tr>\n",
       "      <th>20</th>\n",
       "      <td>sunitable_jeju#수니테이블 #오픈 3.29 화요일 💕 수니테이블 오픈합니...</td>\n",
       "      <td>7</td>\n",
       "    </tr>\n",
       "    <tr>\n",
       "      <th>21</th>\n",
       "      <td>tiger_taco아침에 하나 말아먹고(?)ㅎㅎ든든하게 시작해봅니다!!날씨가 너무 ...</td>\n",
       "      <td></td>\n",
       "    </tr>\n",
       "    <tr>\n",
       "      <th>22</th>\n",
       "      <td>leeck2467함덕해수욕장에서 차타고 1-2분거리 한번에 다섯가지를 먹을 수 있는...</td>\n",
       "      <td></td>\n",
       "    </tr>\n",
       "    <tr>\n",
       "      <th>23</th>\n",
       "      <td>dtshoppingmall4.✔️문의는 프로필 하단에 링...</td>\n",
       "      <td>조회 3회</td>\n",
       "    </tr>\n",
       "    <tr>\n",
       "      <th>24</th>\n",
       "      <td>foodlove_gram001광고가성비 좋은 #애월맛집 랍스터 요리 전문점랍스터빈!...</td>\n",
       "      <td></td>\n",
       "    </tr>\n",
       "    <tr>\n",
       "      <th>25</th>\n",
       "      <td>dtshoppingmall4.✔️문의는 프로필 하단에 링...</td>\n",
       "      <td>조회 1회</td>\n",
       "    </tr>\n",
       "    <tr>\n",
       "      <th>26</th>\n",
       "      <td>joo9575꽃놀이후 흑돼지 꿉스꿉스😋👍💕#제주도맛집 #연동탑부평#흑돼지모듬구이 #...</td>\n",
       "      <td>10</td>\n",
       "    </tr>\n",
       "    <tr>\n",
       "      <th>27</th>\n",
       "      <td>rovvxso#데일리 #일상 #소통 #스시 #행복 #제주도여행 #스타트 #제주도카페...</td>\n",
       "      <td>2</td>\n",
       "    </tr>\n",
       "    <tr>\n",
       "      <th>28</th>\n",
       "      <td>seongsanganeungil_no1#성산가는길#숯불돼지불백#제주도맛집#서귀포맛집...</td>\n",
       "      <td>31</td>\n",
       "    </tr>\n",
       "  </tbody>\n",
       "</table>\n",
       "</div>"
      ],
      "text/plain": [
       "                                                    0      1\n",
       "0   travel_seasia제주도 동쪽 갈치 1등.jpg하루에 갈치만 150마리 판다고...    197\n",
       "1   yeonjae.bob2제주황해식당 tvn 더짠내투어 가성비 갈치조림으로 소개된@hw...  1,259\n",
       "2   travel_seasia제주도 동쪽 갈치 1등.jpg하루에 갈치만 150마리 판다고...       \n",
       "3   kk_love0149<광고>제주분식 https://jejubunsig.modoo.a...       \n",
       "4   kk_love0146<광고>제주분식 https://jejubunsig.modoo.a...       \n",
       "5   zipbap_danso11시 오픈이지만 오픈전부터 찾아 주셔서 예약해주심에 다시한번...       \n",
       "6   skywoong-윤슬을 좋아 한다 하셔서!#오늘일출스냅중에#선남선녀#윤슬#자동차소음...       \n",
       "7   leeck2467함덕해수욕장에서 차타고 1-2분거리 한번에 다섯가지를 먹을 수 있는...       \n",
       "8   tagseobtae코로나가 걱정돼서 포장을 할까 하다가이렇게 신선한걸 포장을 하면 ...       \n",
       "9   babjo84오랜만에 집밥 공장을 돌려보았습니다..이 안주들은 술도술이지만 밥을 부...       \n",
       "10  jeju.road129aweol.애월 로드129성게크림파스타흑돼지 멘치카츠흑돼지 치...       \n",
       "11  nowsee91.애월 로드129성게크림파스타흑돼지 멘치카츠흑돼지 치즈돈까스흑돼지 고...      4\n",
       "12  _ozhome.범일분식 순대국밥 막창순대 존맛🤤버거요 관자버거 🍔제주 반딧불한담 애...  조회 2회\n",
       "13  snsgram_kk22(협찬)제주산 갈치를 구이&조림으로 한상‼일단 가성비 넘치는 ...      2\n",
       "14  dtshoppingmall4.✔️문의는 프로필 하단에 링...       \n",
       "15  leeck2467함덕해수욕장에서 차타고 1-2분거리 한번에 다섯가지를 먹을 수 있는...      4\n",
       "16  2013_1030.2022.03.28~03.31봄 맞으러 온 제주도.여유. 힐링. ...     12\n",
       "17                                   so____y00n빠앙🤎10분     18\n",
       "18                                luminous_sey봄이야🌼12분  조회 1회\n",
       "19  snsgram_kk02(협찬)제주산 갈치를 구이&조림으로 한상‼일단 가성비 넘치는 ...      5\n",
       "20  sunitable_jeju#수니테이블 #오픈 3.29 화요일 💕 수니테이블 오픈합니...      7\n",
       "21  tiger_taco아침에 하나 말아먹고(?)ㅎㅎ든든하게 시작해봅니다!!날씨가 너무 ...       \n",
       "22  leeck2467함덕해수욕장에서 차타고 1-2분거리 한번에 다섯가지를 먹을 수 있는...       \n",
       "23  dtshoppingmall4.✔️문의는 프로필 하단에 링...  조회 3회\n",
       "24  foodlove_gram001광고가성비 좋은 #애월맛집 랍스터 요리 전문점랍스터빈!...       \n",
       "25  dtshoppingmall4.✔️문의는 프로필 하단에 링...  조회 1회\n",
       "26  joo9575꽃놀이후 흑돼지 꿉스꿉스😋👍💕#제주도맛집 #연동탑부평#흑돼지모듬구이 #...     10\n",
       "27  rovvxso#데일리 #일상 #소통 #스시 #행복 #제주도여행 #스타트 #제주도카페...      2\n",
       "28  seongsanganeungil_no1#성산가는길#숯불돼지불백#제주도맛집#서귀포맛집...     31"
      ]
     },
     "execution_count": 111,
     "metadata": {},
     "output_type": "execute_result"
    }
   ],
   "source": [
    "#첫번째 게시물 정보 가져오기\n",
    "cnt_lst = []\n",
    "for i in tqdm(range (1, 30)) :\n",
    "    html = driver.page_source\n",
    "    soup = bs(html, 'html.parser')\n",
    "    # print(soup)\n",
    "\n",
    "    # 셀렉트 사용\n",
    "#     content = soup.find_all('div', class_='C4VMK').find('span')\n",
    "#     content\n",
    "\n",
    "    # content = soup.select('div.C4VMK > div.MOdxS> span')[1]\n",
    "    content = soup.find('div', class_='C4VMK').get_text()\n",
    "    content\n",
    "\n",
    "    # # text = soup.find('span',class_='_7UhW9   xLCgt      MMzan   KV-D4           se6yk       T0kll ').get_text()\n",
    "    # # like = soup.find('div', class_='_7UhW9   xLCgt        qyrsm KV-D4              fDxYl    T0kll ')['span'].get_text()\n",
    "    # text_lst.append([text, like])\n",
    "    # text_lst\n",
    "\n",
    "    if i == 1:\n",
    "        time.sleep(1)\n",
    "        driver.find_element(By.XPATH,'/html/body/div[6]/div[2]/div/div/button').click()\n",
    "    else :\n",
    "        time.sleep(1)\n",
    "        driver.find_element(By.XPATH,'/html/body/div[6]/div[2]/div/div[2]/button').click()\n",
    "\n",
    "    time.sleep(2)\n",
    "    html = driver.page_source\n",
    "    soup = bs(html, 'html.parser')\n",
    "\n",
    "    try:\n",
    "        body = soup.find('section', class_='EDfFK ygqzn')\n",
    "        like = body.find('span').get_text()\n",
    "        print(like)\n",
    "    except:\n",
    "        like=''\n",
    "        pass\n",
    "    cnt_lst.append([content, like])\n",
    "df = pd.DataFrame(cnt_lst)\n",
    "df"
   ]
  },
  {
   "cell_type": "code",
   "execution_count": 142,
   "id": "d2405a33",
   "metadata": {},
   "outputs": [],
   "source": [
    "def get_content(driver):\n",
    "    html = driver.page_source\n",
    "    soup = bs(html, 'html.parser')\n",
    "    content = soup.find('div', class_='C4VMK').find_all('span')[1].get_text()\n",
    "#     print(content.split('#')[0])   # 내용만 출력하기\n",
    "    # 협찬 / 광고가 아닌 데이터만 출력하기\n",
    "    content_txt = content.split('#')[0]\n",
    "    if content_txt[:4] == '<협찬>' or content_txt[:4] == '<광고>' :\n",
    "        pass\n",
    "    else : \n",
    "        print(content.split('#')[0])   \n",
    "#     try:\n",
    "#         body = soup.find('section', class_='EDfFK ygqzn')\n",
    "#         like = body.find('span').get_text()\n",
    "# #         print(like)\n",
    "#     except:\n",
    "#         like=''\n",
    "#         pass\n",
    "#     txt_lst.append([content, like])"
   ]
  },
  {
   "cell_type": "code",
   "execution_count": 116,
   "id": "cf379331",
   "metadata": {},
   "outputs": [],
   "source": [
    "def get_first(driver):\n",
    "    driver.find_element(By.XPATH, '//*[@id=\"react-root\"]/section/main/article/div[1]/div/div/div[1]/div[1]/a/div[1]/div[2]').click()\n",
    "    time.sleep(3)"
   ]
  },
  {
   "cell_type": "code",
   "execution_count": 121,
   "id": "e67c7157",
   "metadata": {},
   "outputs": [],
   "source": [
    "def get_next(driver, cnt = 0):\n",
    "    if cnt == 0:\n",
    "        time.sleep(1)\n",
    "        driver.find_element(By.XPATH,'/html/body/div[6]/div[2]/div/div/button').click()\n",
    "    else :\n",
    "        time.sleep(1)\n",
    "        driver.find_element(By.XPATH,'/html/body/div[6]/div[2]/div/div[2]/button').click()\n",
    "    time.sleep(3)"
   ]
  },
  {
   "cell_type": "code",
   "execution_count": 143,
   "id": "f9b6f89e",
   "metadata": {},
   "outputs": [
    {
     "name": "stdout",
     "output_type": "stream",
     "text": [
      "제주도맛집\n"
     ]
    },
    {
     "name": "stderr",
     "output_type": "stream",
     "text": [
      " 20%|████████████████▊                                                                   | 1/5 [00:04<00:17,  4.38s/it]"
     ]
    },
    {
     "name": "stdout",
     "output_type": "stream",
     "text": [
      ".🐙제주 소금바치순이네🐙불향가득한 매콤한 돌문어볶음!!소면에 양념+밥+돌문어 같이 먹으면 대박임👍도민들도 추천하는 맛집이야!@@@같이 갈 사람 태그@@@주소 : 제주시 구좌읍 해맞이해안로 2196..\n"
     ]
    },
    {
     "name": "stderr",
     "output_type": "stream",
     "text": [
      " 80%|███████████████████████████████████████████████████████████████████▏                | 4/5 [00:17<00:04,  4.55s/it]"
     ]
    },
    {
     "name": "stdout",
     "output_type": "stream",
     "text": [
      "제주황해식당 tvn 더짠내투어 가성비 갈치조림으로 소개된@hwanghae.jeju매일 목요일 정기휴무입니다방문에 참고부탁드려요 오픈 직후. 그리고 저녁시간엔대기 없이 식사 가능하십니다.참고해주시고 방문해주세요. 🥰    \n"
     ]
    },
    {
     "name": "stderr",
     "output_type": "stream",
     "text": [
      "100%|████████████████████████████████████████████████████████████████████████████████████| 5/5 [00:22<00:00,  4.47s/it]\n"
     ]
    },
    {
     "data": {
      "text/html": [
       "<div>\n",
       "<style scoped>\n",
       "    .dataframe tbody tr th:only-of-type {\n",
       "        vertical-align: middle;\n",
       "    }\n",
       "\n",
       "    .dataframe tbody tr th {\n",
       "        vertical-align: top;\n",
       "    }\n",
       "\n",
       "    .dataframe thead th {\n",
       "        text-align: right;\n",
       "    }\n",
       "</style>\n",
       "<table border=\"1\" class=\"dataframe\">\n",
       "  <thead>\n",
       "    <tr style=\"text-align: right;\">\n",
       "      <th></th>\n",
       "    </tr>\n",
       "  </thead>\n",
       "  <tbody>\n",
       "  </tbody>\n",
       "</table>\n",
       "</div>"
      ],
      "text/plain": [
       "Empty DataFrame\n",
       "Columns: []\n",
       "Index: []"
      ]
     },
     "execution_count": 143,
     "metadata": {},
     "output_type": "execute_result"
    }
   ],
   "source": [
    "keyword = input()\n",
    "\n",
    "url = 'https://www.instagram.com/explore/tags/' + quote(keyword)\n",
    "driver.get(url)\n",
    "time.sleep(5)\n",
    "\n",
    "get_first(driver)\n",
    "\n",
    "\n",
    "txt_lst = []\n",
    "for i in tqdm(range(5)) :\n",
    "    get_content(driver)\n",
    "    get_next(driver, i)\n",
    "    \n",
    "    \n",
    "# df1 = pd.DataFrame(txt_lst)\n",
    "# df1"
   ]
  }
 ],
 "metadata": {
  "kernelspec": {
   "display_name": "Python 3 (ipykernel)",
   "language": "python",
   "name": "python3"
  },
  "language_info": {
   "codemirror_mode": {
    "name": "ipython",
    "version": 3
   },
   "file_extension": ".py",
   "mimetype": "text/x-python",
   "name": "python",
   "nbconvert_exporter": "python",
   "pygments_lexer": "ipython3",
   "version": "3.9.7"
  }
 },
 "nbformat": 4,
 "nbformat_minor": 5
}
