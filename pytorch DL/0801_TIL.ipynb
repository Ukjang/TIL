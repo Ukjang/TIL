{
 "cells": [
  {
   "cell_type": "code",
   "execution_count": 1,
   "metadata": {},
   "outputs": [],
   "source": [
    "import torch"
   ]
  },
  {
   "cell_type": "code",
   "execution_count": 11,
   "metadata": {},
   "outputs": [
    {
     "name": "stdout",
     "output_type": "stream",
     "text": [
      "NVIDIA GeForce GTX 1650\n"
     ]
    }
   ],
   "source": [
    "if torch.cuda.is_available():\n",
    "    DEVICE = torch.device('cuda')\n",
    "else :\n",
    "    DEVICE = torch.device('cpu')\n",
    "print(torch.cuda.get_device_name())"
   ]
  },
  {
   "cell_type": "code",
   "execution_count": 4,
   "metadata": {},
   "outputs": [
    {
     "data": {
      "text/plain": [
       "True"
      ]
     },
     "execution_count": 4,
     "metadata": {},
     "output_type": "execute_result"
    }
   ],
   "source": [
    "torch.cuda.is_available()"
   ]
  },
  {
   "cell_type": "code",
   "execution_count": 19,
   "metadata": {},
   "outputs": [],
   "source": [
    "BATCH_SIZE = 64\n",
    "INPUT_SIZE = 1000\n",
    "HIDDEN_SIZE = 100\n",
    "OUTPUT_SIZE = 10"
   ]
  },
  {
   "cell_type": "code",
   "execution_count": 21,
   "metadata": {},
   "outputs": [],
   "source": [
    "x = torch.randn(BATCH_SIZE,\n",
    "                INPUT_SIZE,\n",
    "                device = DEVICE,\n",
    "                dtype = torch.float,\n",
    "                requires_grad= False)\n",
    "y = torch.randn(BATCH_SIZE, \n",
    "                OUTPUT_SIZE,\n",
    "                device = DEVICE,\n",
    "                dtype = torch.float,\n",
    "                requires_grad=False)\n",
    "w1 = torch.randn(INPUT_SIZE,\n",
    "                HIDDEN_SIZE,\n",
    "                device = DEVICE,\n",
    "                dtype = torch.float,\n",
    "                requires_grad=True)\n",
    "w2 = torch.randn(HIDDEN_SIZE,\n",
    "                OUTPUT_SIZE,\n",
    "                device= DEVICE,\n",
    "                dtype=torch.float,\n",
    "                requires_grad=True)\n",
    "                "
   ]
  },
  {
   "cell_type": "code",
   "execution_count": 23,
   "metadata": {},
   "outputs": [
    {
     "name": "stdout",
     "output_type": "stream",
     "text": [
      "Iteration :  100 \t Loss:  943.777099609375\n",
      "Iteration :  200 \t Loss:  10.14661979675293\n",
      "Iteration :  300 \t Loss:  0.1619824767112732\n",
      "Iteration :  400 \t Loss:  0.0032231390941888094\n",
      "Iteration :  500 \t Loss:  0.00021682474471163005\n"
     ]
    }
   ],
   "source": [
    "learning_rate = 1e-6\n",
    "for t in range(1, 501):\n",
    "  y_pred = x.mm(w1).clamp(min = 0).mm(w2)\n",
    "\n",
    "  loss = (y_pred -y).pow(2).sum()\n",
    "  if t % 100 == 0:\n",
    "    print('Iteration : ', t, '\\t', 'Loss: ', loss.item())\n",
    "  loss.backward()\n",
    "\n",
    "  with torch.no_grad():\n",
    "    w1 -= learning_rate * w1.grad\n",
    "    w2 -= learning_rate * w2.grad\n",
    "    \n",
    "    w1.grad.zero_()\n",
    "    w2.grad.zero_()"
   ]
  },
  {
   "cell_type": "code",
   "execution_count": null,
   "metadata": {},
   "outputs": [],
   "source": []
  }
 ],
 "metadata": {
  "kernelspec": {
   "display_name": "Python 3.10.4 ('pytorch')",
   "language": "python",
   "name": "python3"
  },
  "language_info": {
   "codemirror_mode": {
    "name": "ipython",
    "version": 3
   },
   "file_extension": ".py",
   "mimetype": "text/x-python",
   "name": "python",
   "nbconvert_exporter": "python",
   "pygments_lexer": "ipython3",
   "version": "3.10.4"
  },
  "orig_nbformat": 4,
  "vscode": {
   "interpreter": {
    "hash": "334544a737ead5017040ac753f52220319955d2381f512ab105ce194db781c37"
   }
  }
 },
 "nbformat": 4,
 "nbformat_minor": 2
}
