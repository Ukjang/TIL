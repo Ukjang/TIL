{
 "cells": [
  {
   "cell_type": "code",
   "execution_count": 2,
   "metadata": {},
   "outputs": [],
   "source": [
    "import torch\n",
    "import numpy as np\n",
    "from matplotlib import pyplot as plt \n",
    "import torch.nn as nn \n",
    "import torch.nn.functional as F \n",
    "from torchvision import transforms, datasets"
   ]
  },
  {
   "cell_type": "code",
   "execution_count": 3,
   "metadata": {},
   "outputs": [
    {
     "name": "stdout",
     "output_type": "stream",
     "text": [
      "NVIDIA GeForce GTX 1650\n"
     ]
    }
   ],
   "source": [
    "if torch.cuda.is_available():\n",
    "  DEVICE = torch.device('cuda')\n",
    "else :\n",
    "  DEVICE = torch.device('cpu')\n",
    "print(torch.cuda.get_device_name())"
   ]
  },
  {
   "cell_type": "code",
   "execution_count": 4,
   "metadata": {},
   "outputs": [
    {
     "name": "stdout",
     "output_type": "stream",
     "text": [
      "using Pytorch version: 1.12.0 Device:  cuda\n"
     ]
    }
   ],
   "source": [
    "print('using Pytorch version:', torch.__version__, 'Device: ', DEVICE)"
   ]
  },
  {
   "cell_type": "code",
   "execution_count": 5,
   "metadata": {},
   "outputs": [],
   "source": [
    "BATCH_SIZE = 32\n",
    "EPOCHS = 10"
   ]
  },
  {
   "cell_type": "code",
   "execution_count": 7,
   "metadata": {},
   "outputs": [],
   "source": [
    "from random import shuffle\n",
    "\n",
    "\n",
    "train_dataset = datasets.MNIST(root='../data/MNIST',\n",
    "                               train = True,\n",
    "                               download=True,\n",
    "                               transform = transforms.ToTensor())\n",
    "test_dataset = datasets.MNIST(root= '../data/MNIST',\n",
    "                              train=False,\n",
    "                              download=True,\n",
    "                              transform=transforms.ToTensor())\n",
    "train_loader = torch.utils.data.DataLoader(dataset = train_dataset,\n",
    "                                           batch_size=BATCH_SIZE,\n",
    "                                           shuffle=True)\n",
    "test_loader= torch.utils.data.DataLoader(dataset = test_dataset,\n",
    "                                         batch_size=BATCH_SIZE,\n",
    "                                         shuffle=False)\n",
    "\n"
   ]
  },
  {
   "cell_type": "code",
   "execution_count": 9,
   "metadata": {},
   "outputs": [
    {
     "name": "stdout",
     "output_type": "stream",
     "text": [
      "X_train:  torch.Size([32, 1, 28, 28]) y_train:  torch.FloatTensor\n",
      "X_train:  torch.Size([32]) y_train:  torch.LongTensor\n"
     ]
    }
   ],
   "source": [
    "for (X_train, y_train) in train_loader:\n",
    "  print('X_train: ', X_train.size(), 'y_train: ', X_train.type())\n",
    "  print('X_train: ', y_train.size(), 'y_train: ', y_train.type())\n",
    "  break"
   ]
  },
  {
   "cell_type": "code",
   "execution_count": 10,
   "metadata": {},
   "outputs": [
    {
     "data": {
      "image/png": "[encoded data removed]",
      "text/plain": [
       "<Figure size 720x72 with 10 Axes>"
      ]
     },
     "metadata": {
      "needs_background": "light"
     },
     "output_type": "display_data"
    }
   ],
   "source": [
    "pltsize = 1\n",
    "plt.figure(figsize=(10 * pltsize, pltsize))\n",
    "for i in range(10):\n",
    "  plt.subplot(1, 10, i + 1)\n",
    "  plt.axis('off')\n",
    "  plt.imshow(X_train[i, :, :, :].numpy().reshape(28, 28), cmap='gray_r')\n",
    "  plt.title('Class: ' + str(y_train[i].item()))"
   ]
  },
  {
   "cell_type": "code",
   "execution_count": 12,
   "metadata": {},
   "outputs": [
    {
     "data": {
      "text/plain": [
       "9"
      ]
     },
     "execution_count": 12,
     "metadata": {},
     "output_type": "execute_result"
    }
   ],
   "source": [
    "len(y_train.unique())"
   ]
  },
  {
   "cell_type": "code",
   "execution_count": 13,
   "metadata": {},
   "outputs": [],
   "source": [
    "from turtle import forward\n",
    "\n",
    "\n",
    "class Net(nn.Module):\n",
    "  def __init__(self):\n",
    "    super(Net,self).__init__()\n",
    "    self.fc1 = nn.Linear(28*28, 512)\n",
    "    self.fc2 = nn.Linear(512, 256)\n",
    "    self.fc3 = nn.Linear(256, 10)\n",
    "  \n",
    "  def forward(self, x):\n",
    "    x = x.view(-1, 28*28)\n",
    "    x = self.fc1(x)\n",
    "    x = F.relu(x)\n",
    "    x = self.fc2(x)\n",
    "    x = F.relu(x)\n",
    "    x = self.fc3(x)\n",
    "    x = F.log_softmax(x, dim=-1)\n",
    "    return x\n"
   ]
  },
  {
   "cell_type": "code",
   "execution_count": 15,
   "metadata": {},
   "outputs": [
    {
     "name": "stdout",
     "output_type": "stream",
     "text": [
      "Net(\n",
      "  (fc1): Linear(in_features=784, out_features=512, bias=True)\n",
      "  (fc2): Linear(in_features=512, out_features=256, bias=True)\n",
      "  (fc3): Linear(in_features=256, out_features=10, bias=True)\n",
      ")\n"
     ]
    }
   ],
   "source": [
    "model = Net().to(DEVICE)\n",
    "optimizer = torch.optim.SGD(model.parameters(), lr = 0.01, momentum=0.5)\n",
    "criterion = nn.CrossEntropyLoss()\n",
    "print(model)"
   ]
  },
  {
   "cell_type": "code",
   "execution_count": 17,
   "metadata": {},
   "outputs": [],
   "source": [
    "def train(model, train_loader, optimizer, log_interval):\n",
    "  model.train()\n",
    "  for batch_idx, (image, label) in enumerate(train_loader):\n",
    "    image = image.to(DEVICE)\n",
    "    label = label.to(DEVICE)\n",
    "    optimizer.zero_grad()\n",
    "    output = model(image)\n",
    "    loss = criterion(output, label)\n",
    "    loss.backward()\n",
    "    optimizer.step()\n",
    "\n",
    "\n",
    "    if batch_idx % log_interval == 0 :\n",
    "      print('Train Epoch: {}, [{}/ {} ({:.0f}%)]\\tTrain Loss : {:.6f}'.format(\n",
    "        Epoch, batch_idx * len(image),\n",
    "        len(train_loader.dataset), 100. * batch_idx / len(train_loader),\n",
    "        loss.item()\n",
    "      ))"
   ]
  },
  {
   "cell_type": "code",
   "execution_count": 19,
   "metadata": {},
   "outputs": [],
   "source": [
    "def evaluate(model, test_loader):\n",
    "  model.eval()\n",
    "  test_loss = 0 \n",
    "  correct = 0\n",
    "\n",
    "  with torch.no_grad():\n",
    "    for image, label in test_loader:\n",
    "      image = image.to(DEVICE)\n",
    "      label = label.to(DEVICE)\n",
    "      output = model(image)\n",
    "      test_loss += criterion(output, label).item()\n",
    "      prediction = output.max(1, keepdim = True)[1]\n",
    "      correct += prediction.eq(label.view_as(prediction)).sum().item()\n",
    "\n",
    "  test_loss /= len(test_loader.dataset)\n",
    "  test_accuracy = 100. * correct / len(test_loader.dataset)\n",
    "  return test_loss, test_accuracy"
   ]
  },
  {
   "cell_type": "code",
   "execution_count": 20,
   "metadata": {},
   "outputs": [
    {
     "name": "stdout",
     "output_type": "stream",
     "text": [
      "Train Epoch: 1, [0/ 60000 (0%)]\tTrain Loss : 2.309564\n",
      "Train Epoch: 1, [3200/ 60000 (5%)]\tTrain Loss : 2.185048\n",
      "Train Epoch: 1, [6400/ 60000 (11%)]\tTrain Loss : 1.905461\n",
      "Train Epoch: 1, [9600/ 60000 (16%)]\tTrain Loss : 1.262449\n",
      "Train Epoch: 1, [12800/ 60000 (21%)]\tTrain Loss : 0.970486\n",
      "Train Epoch: 1, [16000/ 60000 (27%)]\tTrain Loss : 0.587846\n",
      "Train Epoch: 1, [19200/ 60000 (32%)]\tTrain Loss : 1.078678\n",
      "Train Epoch: 1, [22400/ 60000 (37%)]\tTrain Loss : 0.480584\n",
      "Train Epoch: 1, [25600/ 60000 (43%)]\tTrain Loss : 0.383073\n",
      "Train Epoch: 1, [28800/ 60000 (48%)]\tTrain Loss : 0.797137\n",
      "Train Epoch: 1, [32000/ 60000 (53%)]\tTrain Loss : 0.317189\n",
      "Train Epoch: 1, [35200/ 60000 (59%)]\tTrain Loss : 0.584864\n",
      "Train Epoch: 1, [38400/ 60000 (64%)]\tTrain Loss : 0.350050\n",
      "Train Epoch: 1, [41600/ 60000 (69%)]\tTrain Loss : 0.205345\n",
      "Train Epoch: 1, [44800/ 60000 (75%)]\tTrain Loss : 0.400575\n",
      "Train Epoch: 1, [48000/ 60000 (80%)]\tTrain Loss : 0.412624\n",
      "Train Epoch: 1, [51200/ 60000 (85%)]\tTrain Loss : 0.260210\n",
      "Train Epoch: 1, [54400/ 60000 (91%)]\tTrain Loss : 0.084859\n",
      "Train Epoch: 1, [57600/ 60000 (96%)]\tTrain Loss : 0.345589\n",
      "\n",
      "[EPOCH: 1, \tTest Loss : 0.0100, \tTest Accuracy: 90.65 %\n",
      "\n",
      "Train Epoch: 2, [0/ 60000 (0%)]\tTrain Loss : 0.463677\n",
      "Train Epoch: 2, [3200/ 60000 (5%)]\tTrain Loss : 0.216374\n",
      "Train Epoch: 2, [6400/ 60000 (11%)]\tTrain Loss : 0.391517\n",
      "Train Epoch: 2, [9600/ 60000 (16%)]\tTrain Loss : 0.440661\n",
      "Train Epoch: 2, [12800/ 60000 (21%)]\tTrain Loss : 0.322105\n",
      "Train Epoch: 2, [16000/ 60000 (27%)]\tTrain Loss : 0.224735\n",
      "Train Epoch: 2, [19200/ 60000 (32%)]\tTrain Loss : 0.307133\n",
      "Train Epoch: 2, [22400/ 60000 (37%)]\tTrain Loss : 0.130997\n",
      "Train Epoch: 2, [25600/ 60000 (43%)]\tTrain Loss : 0.178297\n",
      "Train Epoch: 2, [28800/ 60000 (48%)]\tTrain Loss : 0.274791\n",
      "Train Epoch: 2, [32000/ 60000 (53%)]\tTrain Loss : 0.317705\n",
      "Train Epoch: 2, [35200/ 60000 (59%)]\tTrain Loss : 0.188711\n",
      "Train Epoch: 2, [38400/ 60000 (64%)]\tTrain Loss : 0.213857\n",
      "Train Epoch: 2, [41600/ 60000 (69%)]\tTrain Loss : 0.190936\n",
      "Train Epoch: 2, [44800/ 60000 (75%)]\tTrain Loss : 0.575682\n",
      "Train Epoch: 2, [48000/ 60000 (80%)]\tTrain Loss : 0.129011\n",
      "Train Epoch: 2, [51200/ 60000 (85%)]\tTrain Loss : 0.361439\n",
      "Train Epoch: 2, [54400/ 60000 (91%)]\tTrain Loss : 0.088573\n",
      "Train Epoch: 2, [57600/ 60000 (96%)]\tTrain Loss : 0.233172\n",
      "\n",
      "[EPOCH: 2, \tTest Loss : 0.0073, \tTest Accuracy: 93.22 %\n",
      "\n",
      "Train Epoch: 3, [0/ 60000 (0%)]\tTrain Loss : 0.269918\n",
      "Train Epoch: 3, [3200/ 60000 (5%)]\tTrain Loss : 0.218883\n",
      "Train Epoch: 3, [6400/ 60000 (11%)]\tTrain Loss : 0.104643\n",
      "Train Epoch: 3, [9600/ 60000 (16%)]\tTrain Loss : 0.434761\n",
      "Train Epoch: 3, [12800/ 60000 (21%)]\tTrain Loss : 0.201862\n",
      "Train Epoch: 3, [16000/ 60000 (27%)]\tTrain Loss : 0.300332\n",
      "Train Epoch: 3, [19200/ 60000 (32%)]\tTrain Loss : 0.411990\n",
      "Train Epoch: 3, [22400/ 60000 (37%)]\tTrain Loss : 0.190302\n",
      "Train Epoch: 3, [25600/ 60000 (43%)]\tTrain Loss : 0.058285\n",
      "Train Epoch: 3, [28800/ 60000 (48%)]\tTrain Loss : 0.042031\n",
      "Train Epoch: 3, [32000/ 60000 (53%)]\tTrain Loss : 0.316827\n",
      "Train Epoch: 3, [35200/ 60000 (59%)]\tTrain Loss : 0.299168\n",
      "Train Epoch: 3, [38400/ 60000 (64%)]\tTrain Loss : 0.369044\n",
      "Train Epoch: 3, [41600/ 60000 (69%)]\tTrain Loss : 0.231105\n",
      "Train Epoch: 3, [44800/ 60000 (75%)]\tTrain Loss : 0.182976\n",
      "Train Epoch: 3, [48000/ 60000 (80%)]\tTrain Loss : 0.194137\n",
      "Train Epoch: 3, [51200/ 60000 (85%)]\tTrain Loss : 0.193548\n",
      "Train Epoch: 3, [54400/ 60000 (91%)]\tTrain Loss : 0.323770\n",
      "Train Epoch: 3, [57600/ 60000 (96%)]\tTrain Loss : 0.411349\n",
      "\n",
      "[EPOCH: 3, \tTest Loss : 0.0059, \tTest Accuracy: 94.39 %\n",
      "\n",
      "Train Epoch: 4, [0/ 60000 (0%)]\tTrain Loss : 0.177825\n",
      "Train Epoch: 4, [3200/ 60000 (5%)]\tTrain Loss : 0.582954\n",
      "Train Epoch: 4, [6400/ 60000 (11%)]\tTrain Loss : 0.177102\n",
      "Train Epoch: 4, [9600/ 60000 (16%)]\tTrain Loss : 0.342912\n",
      "Train Epoch: 4, [12800/ 60000 (21%)]\tTrain Loss : 0.339988\n",
      "Train Epoch: 4, [16000/ 60000 (27%)]\tTrain Loss : 0.125031\n",
      "Train Epoch: 4, [19200/ 60000 (32%)]\tTrain Loss : 0.265946\n",
      "Train Epoch: 4, [22400/ 60000 (37%)]\tTrain Loss : 0.102631\n",
      "Train Epoch: 4, [25600/ 60000 (43%)]\tTrain Loss : 0.123925\n",
      "Train Epoch: 4, [28800/ 60000 (48%)]\tTrain Loss : 0.150617\n",
      "Train Epoch: 4, [32000/ 60000 (53%)]\tTrain Loss : 0.132145\n",
      "Train Epoch: 4, [35200/ 60000 (59%)]\tTrain Loss : 0.173184\n",
      "Train Epoch: 4, [38400/ 60000 (64%)]\tTrain Loss : 0.091946\n",
      "Train Epoch: 4, [41600/ 60000 (69%)]\tTrain Loss : 0.379808\n",
      "Train Epoch: 4, [44800/ 60000 (75%)]\tTrain Loss : 0.383165\n",
      "Train Epoch: 4, [48000/ 60000 (80%)]\tTrain Loss : 0.025961\n",
      "Train Epoch: 4, [51200/ 60000 (85%)]\tTrain Loss : 0.045643\n",
      "Train Epoch: 4, [54400/ 60000 (91%)]\tTrain Loss : 0.066350\n",
      "Train Epoch: 4, [57600/ 60000 (96%)]\tTrain Loss : 0.030231\n",
      "\n",
      "[EPOCH: 4, \tTest Loss : 0.0048, \tTest Accuracy: 95.39 %\n",
      "\n",
      "Train Epoch: 5, [0/ 60000 (0%)]\tTrain Loss : 0.099170\n",
      "Train Epoch: 5, [3200/ 60000 (5%)]\tTrain Loss : 0.244538\n",
      "Train Epoch: 5, [6400/ 60000 (11%)]\tTrain Loss : 0.043329\n",
      "Train Epoch: 5, [9600/ 60000 (16%)]\tTrain Loss : 0.221600\n",
      "Train Epoch: 5, [12800/ 60000 (21%)]\tTrain Loss : 0.032872\n",
      "Train Epoch: 5, [16000/ 60000 (27%)]\tTrain Loss : 0.085259\n",
      "Train Epoch: 5, [19200/ 60000 (32%)]\tTrain Loss : 0.091631\n",
      "Train Epoch: 5, [22400/ 60000 (37%)]\tTrain Loss : 0.059975\n",
      "Train Epoch: 5, [25600/ 60000 (43%)]\tTrain Loss : 0.127327\n",
      "Train Epoch: 5, [28800/ 60000 (48%)]\tTrain Loss : 0.109546\n",
      "Train Epoch: 5, [32000/ 60000 (53%)]\tTrain Loss : 0.026601\n",
      "Train Epoch: 5, [35200/ 60000 (59%)]\tTrain Loss : 0.046599\n",
      "Train Epoch: 5, [38400/ 60000 (64%)]\tTrain Loss : 0.089212\n",
      "Train Epoch: 5, [41600/ 60000 (69%)]\tTrain Loss : 0.123552\n",
      "Train Epoch: 5, [44800/ 60000 (75%)]\tTrain Loss : 0.156323\n",
      "Train Epoch: 5, [48000/ 60000 (80%)]\tTrain Loss : 0.075685\n",
      "Train Epoch: 5, [51200/ 60000 (85%)]\tTrain Loss : 0.041601\n",
      "Train Epoch: 5, [54400/ 60000 (91%)]\tTrain Loss : 0.279608\n",
      "Train Epoch: 5, [57600/ 60000 (96%)]\tTrain Loss : 0.117014\n",
      "\n",
      "[EPOCH: 5, \tTest Loss : 0.0042, \tTest Accuracy: 96.13 %\n",
      "\n",
      "Train Epoch: 6, [0/ 60000 (0%)]\tTrain Loss : 0.089807\n",
      "Train Epoch: 6, [3200/ 60000 (5%)]\tTrain Loss : 0.100214\n",
      "Train Epoch: 6, [6400/ 60000 (11%)]\tTrain Loss : 0.096310\n",
      "Train Epoch: 6, [9600/ 60000 (16%)]\tTrain Loss : 0.051487\n",
      "Train Epoch: 6, [12800/ 60000 (21%)]\tTrain Loss : 0.076780\n",
      "Train Epoch: 6, [16000/ 60000 (27%)]\tTrain Loss : 0.094529\n",
      "Train Epoch: 6, [19200/ 60000 (32%)]\tTrain Loss : 0.386093\n",
      "Train Epoch: 6, [22400/ 60000 (37%)]\tTrain Loss : 0.103828\n",
      "Train Epoch: 6, [25600/ 60000 (43%)]\tTrain Loss : 0.166715\n",
      "Train Epoch: 6, [28800/ 60000 (48%)]\tTrain Loss : 0.523604\n",
      "Train Epoch: 6, [32000/ 60000 (53%)]\tTrain Loss : 0.219826\n",
      "Train Epoch: 6, [35200/ 60000 (59%)]\tTrain Loss : 0.082099\n",
      "Train Epoch: 6, [38400/ 60000 (64%)]\tTrain Loss : 0.297739\n",
      "Train Epoch: 6, [41600/ 60000 (69%)]\tTrain Loss : 0.100468\n",
      "Train Epoch: 6, [44800/ 60000 (75%)]\tTrain Loss : 0.028845\n",
      "Train Epoch: 6, [48000/ 60000 (80%)]\tTrain Loss : 0.075995\n",
      "Train Epoch: 6, [51200/ 60000 (85%)]\tTrain Loss : 0.023167\n",
      "Train Epoch: 6, [54400/ 60000 (91%)]\tTrain Loss : 0.068316\n",
      "Train Epoch: 6, [57600/ 60000 (96%)]\tTrain Loss : 0.126652\n",
      "\n",
      "[EPOCH: 6, \tTest Loss : 0.0036, \tTest Accuracy: 96.47 %\n",
      "\n",
      "Train Epoch: 7, [0/ 60000 (0%)]\tTrain Loss : 0.054738\n",
      "Train Epoch: 7, [3200/ 60000 (5%)]\tTrain Loss : 0.056554\n",
      "Train Epoch: 7, [6400/ 60000 (11%)]\tTrain Loss : 0.154260\n",
      "Train Epoch: 7, [9600/ 60000 (16%)]\tTrain Loss : 0.019922\n",
      "Train Epoch: 7, [12800/ 60000 (21%)]\tTrain Loss : 0.074240\n",
      "Train Epoch: 7, [16000/ 60000 (27%)]\tTrain Loss : 0.026097\n",
      "Train Epoch: 7, [19200/ 60000 (32%)]\tTrain Loss : 0.030097\n",
      "Train Epoch: 7, [22400/ 60000 (37%)]\tTrain Loss : 0.089136\n",
      "Train Epoch: 7, [25600/ 60000 (43%)]\tTrain Loss : 0.055552\n",
      "Train Epoch: 7, [28800/ 60000 (48%)]\tTrain Loss : 0.103190\n",
      "Train Epoch: 7, [32000/ 60000 (53%)]\tTrain Loss : 0.079136\n",
      "Train Epoch: 7, [35200/ 60000 (59%)]\tTrain Loss : 0.128189\n",
      "Train Epoch: 7, [38400/ 60000 (64%)]\tTrain Loss : 0.221110\n",
      "Train Epoch: 7, [41600/ 60000 (69%)]\tTrain Loss : 0.016101\n",
      "Train Epoch: 7, [44800/ 60000 (75%)]\tTrain Loss : 0.069383\n",
      "Train Epoch: 7, [48000/ 60000 (80%)]\tTrain Loss : 0.065249\n",
      "Train Epoch: 7, [51200/ 60000 (85%)]\tTrain Loss : 0.073749\n",
      "Train Epoch: 7, [54400/ 60000 (91%)]\tTrain Loss : 0.027539\n",
      "Train Epoch: 7, [57600/ 60000 (96%)]\tTrain Loss : 0.020476\n",
      "\n",
      "[EPOCH: 7, \tTest Loss : 0.0033, \tTest Accuracy: 96.76 %\n",
      "\n",
      "Train Epoch: 8, [0/ 60000 (0%)]\tTrain Loss : 0.128610\n",
      "Train Epoch: 8, [3200/ 60000 (5%)]\tTrain Loss : 0.022605\n",
      "Train Epoch: 8, [6400/ 60000 (11%)]\tTrain Loss : 0.024818\n",
      "Train Epoch: 8, [9600/ 60000 (16%)]\tTrain Loss : 0.346965\n",
      "Train Epoch: 8, [12800/ 60000 (21%)]\tTrain Loss : 0.014643\n",
      "Train Epoch: 8, [16000/ 60000 (27%)]\tTrain Loss : 0.089608\n",
      "Train Epoch: 8, [19200/ 60000 (32%)]\tTrain Loss : 0.065568\n",
      "Train Epoch: 8, [22400/ 60000 (37%)]\tTrain Loss : 0.357083\n",
      "Train Epoch: 8, [25600/ 60000 (43%)]\tTrain Loss : 0.247111\n",
      "Train Epoch: 8, [28800/ 60000 (48%)]\tTrain Loss : 0.129388\n",
      "Train Epoch: 8, [32000/ 60000 (53%)]\tTrain Loss : 0.045679\n",
      "Train Epoch: 8, [35200/ 60000 (59%)]\tTrain Loss : 0.093015\n",
      "Train Epoch: 8, [38400/ 60000 (64%)]\tTrain Loss : 0.014668\n",
      "Train Epoch: 8, [41600/ 60000 (69%)]\tTrain Loss : 0.044704\n",
      "Train Epoch: 8, [44800/ 60000 (75%)]\tTrain Loss : 0.079431\n",
      "Train Epoch: 8, [48000/ 60000 (80%)]\tTrain Loss : 0.045218\n",
      "Train Epoch: 8, [51200/ 60000 (85%)]\tTrain Loss : 0.012681\n",
      "Train Epoch: 8, [54400/ 60000 (91%)]\tTrain Loss : 0.015336\n",
      "Train Epoch: 8, [57600/ 60000 (96%)]\tTrain Loss : 0.041291\n",
      "\n",
      "[EPOCH: 8, \tTest Loss : 0.0029, \tTest Accuracy: 97.10 %\n",
      "\n",
      "Train Epoch: 9, [0/ 60000 (0%)]\tTrain Loss : 0.009843\n",
      "Train Epoch: 9, [3200/ 60000 (5%)]\tTrain Loss : 0.016033\n",
      "Train Epoch: 9, [6400/ 60000 (11%)]\tTrain Loss : 0.060288\n",
      "Train Epoch: 9, [9600/ 60000 (16%)]\tTrain Loss : 0.041277\n",
      "Train Epoch: 9, [12800/ 60000 (21%)]\tTrain Loss : 0.101021\n",
      "Train Epoch: 9, [16000/ 60000 (27%)]\tTrain Loss : 0.311344\n",
      "Train Epoch: 9, [19200/ 60000 (32%)]\tTrain Loss : 0.044425\n",
      "Train Epoch: 9, [22400/ 60000 (37%)]\tTrain Loss : 0.015947\n",
      "Train Epoch: 9, [25600/ 60000 (43%)]\tTrain Loss : 0.022762\n",
      "Train Epoch: 9, [28800/ 60000 (48%)]\tTrain Loss : 0.116707\n",
      "Train Epoch: 9, [32000/ 60000 (53%)]\tTrain Loss : 0.016237\n",
      "Train Epoch: 9, [35200/ 60000 (59%)]\tTrain Loss : 0.025507\n",
      "Train Epoch: 9, [38400/ 60000 (64%)]\tTrain Loss : 0.054710\n",
      "Train Epoch: 9, [41600/ 60000 (69%)]\tTrain Loss : 0.011291\n",
      "Train Epoch: 9, [44800/ 60000 (75%)]\tTrain Loss : 0.039806\n",
      "Train Epoch: 9, [48000/ 60000 (80%)]\tTrain Loss : 0.085121\n",
      "Train Epoch: 9, [51200/ 60000 (85%)]\tTrain Loss : 0.027282\n",
      "Train Epoch: 9, [54400/ 60000 (91%)]\tTrain Loss : 0.010035\n",
      "Train Epoch: 9, [57600/ 60000 (96%)]\tTrain Loss : 0.038764\n",
      "\n",
      "[EPOCH: 9, \tTest Loss : 0.0027, \tTest Accuracy: 97.36 %\n",
      "\n",
      "Train Epoch: 10, [0/ 60000 (0%)]\tTrain Loss : 0.151703\n",
      "Train Epoch: 10, [3200/ 60000 (5%)]\tTrain Loss : 0.247935\n",
      "Train Epoch: 10, [6400/ 60000 (11%)]\tTrain Loss : 0.096841\n",
      "Train Epoch: 10, [9600/ 60000 (16%)]\tTrain Loss : 0.058069\n",
      "Train Epoch: 10, [12800/ 60000 (21%)]\tTrain Loss : 0.083078\n",
      "Train Epoch: 10, [16000/ 60000 (27%)]\tTrain Loss : 0.126597\n",
      "Train Epoch: 10, [19200/ 60000 (32%)]\tTrain Loss : 0.095051\n",
      "Train Epoch: 10, [22400/ 60000 (37%)]\tTrain Loss : 0.030726\n",
      "Train Epoch: 10, [25600/ 60000 (43%)]\tTrain Loss : 0.007998\n",
      "Train Epoch: 10, [28800/ 60000 (48%)]\tTrain Loss : 0.063217\n",
      "Train Epoch: 10, [32000/ 60000 (53%)]\tTrain Loss : 0.171388\n",
      "Train Epoch: 10, [35200/ 60000 (59%)]\tTrain Loss : 0.022061\n",
      "Train Epoch: 10, [38400/ 60000 (64%)]\tTrain Loss : 0.042837\n",
      "Train Epoch: 10, [41600/ 60000 (69%)]\tTrain Loss : 0.168456\n",
      "Train Epoch: 10, [44800/ 60000 (75%)]\tTrain Loss : 0.069238\n",
      "Train Epoch: 10, [48000/ 60000 (80%)]\tTrain Loss : 0.025531\n",
      "Train Epoch: 10, [51200/ 60000 (85%)]\tTrain Loss : 0.085820\n",
      "Train Epoch: 10, [54400/ 60000 (91%)]\tTrain Loss : 0.014237\n",
      "Train Epoch: 10, [57600/ 60000 (96%)]\tTrain Loss : 0.146560\n",
      "\n",
      "[EPOCH: 10, \tTest Loss : 0.0026, \tTest Accuracy: 97.40 %\n",
      "\n"
     ]
    }
   ],
   "source": [
    "for Epoch in range(1, EPOCHS + 1 ):\n",
    "  train(model, train_loader, optimizer, log_interval=100)\n",
    "  test_loss, test_accuracy = evaluate(model, test_loader)\n",
    "  print('\\n[EPOCH: {}, \\tTest Loss : {:.4f}, \\tTest Accuracy: {:.2f} %\\n'.format(Epoch, test_loss, test_accuracy))"
   ]
  },
  {
   "cell_type": "code",
   "execution_count": null,
   "metadata": {},
   "outputs": [],
   "source": []
  }
 ],
 "metadata": {
  "kernelspec": {
   "display_name": "Python 3.10.5 ('pytorch')",
   "language": "python",
   "name": "python3"
  },
  "language_info": {
   "codemirror_mode": {
    "name": "ipython",
    "version": 3
   },
   "file_extension": ".py",
   "mimetype": "text/x-python",
   "name": "python",
   "nbconvert_exporter": "python",
   "pygments_lexer": "ipython3",
   "version": "3.10.5"
  },
  "orig_nbformat": 4,
  "vscode": {
   "interpreter": {
    "hash": "334544a737ead5017040ac753f52220319955d2381f512ab105ce194db781c37"
   }
  }
 },
 "nbformat": 4,
 "nbformat_minor": 2
}
