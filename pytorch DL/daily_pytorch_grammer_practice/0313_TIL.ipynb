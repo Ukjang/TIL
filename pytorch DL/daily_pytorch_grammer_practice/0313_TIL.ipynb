{
 "cells": [
  {
   "cell_type": "code",
   "execution_count": 1,
   "metadata": {},
   "outputs": [],
   "source": [
    "import torch \n",
    "import pandas as pd \n",
    "import matplotlib.pyplot as plt \n",
    "import torch.nn as nn \n",
    "import torch.nn.functional as F \n",
    "from torchvision import datasets, transforms \n",
    "import numpy as np "
   ]
  },
  {
   "cell_type": "code",
   "execution_count": 2,
   "metadata": {},
   "outputs": [
    {
     "name": "stdout",
     "output_type": "stream",
     "text": [
      "cuda \ttorch_version : 1.12.0\n"
     ]
    }
   ],
   "source": [
    "if torch.cuda.is_available() :\n",
    "    DEVICE = torch.device('cuda')\n",
    "else :\n",
    "    DEVICE = torch.device('cpu')\n",
    "print(DEVICE, '\\ttorch_version :', torch.__version__)"
   ]
  },
  {
   "cell_type": "code",
   "execution_count": 3,
   "metadata": {},
   "outputs": [],
   "source": [
    "BATCH_SIZE = 128 \n",
    "EPOCHS = 100"
   ]
  },
  {
   "cell_type": "code",
   "execution_count": 4,
   "metadata": {},
   "outputs": [],
   "source": [
    "# 훈련, 학습 데이터 불러와서 텐서로 바꿔주기\n",
    "train_dataset = datasets.MNIST(root='../../data/MNIST',\n",
    "                               train=True,\n",
    "                               download=True ,\n",
    "                               transform=transforms.ToTensor())\n",
    "# 불러온 데이터 배치사이즈 기준으로 로더로 변환\n",
    "train_loader = torch.utils.data.DataLoader(train_dataset,\n",
    "                                           shuffle=True,\n",
    "                                           batch_size = BATCH_SIZE)\n",
    "\n",
    "test_dataset = datasets.MNIST(root='../../data/MNIST',\n",
    "                               train=False,\n",
    "                               download=True ,\n",
    "                               transform=transforms.ToTensor())\n",
    "test_loader = torch.utils.data.DataLoader(train_dataset,\n",
    "                                           shuffle=False,\n",
    "                                           batch_size = BATCH_SIZE)"
   ]
  },
  {
   "cell_type": "code",
   "execution_count": 5,
   "metadata": {},
   "outputs": [
    {
     "name": "stdout",
     "output_type": "stream",
     "text": [
      "torch.Size([128, 1, 28, 28]) torch.Size([128])\n",
      "torch.FloatTensor torch.LongTensor\n"
     ]
    }
   ],
   "source": [
    "# 정수 계산 LongTensor  실수 FloatTensor\n",
    "for (X_train, y_train) in train_loader :\n",
    "    print(X_train.size(), y_train.size())\n",
    "    print(X_train.type(), y_train.type())\n",
    "    break"
   ]
  },
  {
   "cell_type": "code",
   "execution_count": 6,
   "metadata": {},
   "outputs": [
    {
     "data": {
      "image/png": "[encoded data removed]",
      "text/plain": [
       "<Figure size 720x72 with 10 Axes>"
      ]
     },
     "metadata": {
      "needs_background": "light"
     },
     "output_type": "display_data"
    }
   ],
   "source": [
    "pltsize = 1 \n",
    "plt.figure(figsize = (pltsize*10, pltsize))\n",
    "\n",
    "for i in range(10) :\n",
    "    plt.subplot(1, 10, i+1)\n",
    "    plt.axis('off')\n",
    "    plt.imshow(X_train[i, :, :, :].numpy().reshape(28,28), cmap='gray_r')\n",
    "    plt.title('Class :' + str(y_train[i].item()))\n",
    "plt.show()"
   ]
  },
  {
   "cell_type": "code",
   "execution_count": 34,
   "metadata": {},
   "outputs": [],
   "source": [
    "class Net(nn.Module) :\n",
    "    def __init__(self) :\n",
    "        super(Net, self).__init__()\n",
    "        self.fc1 = nn.Linear(28*28, 128)\n",
    "        self.fc2 = nn.Linear(128, 28*28)\n",
    "        self.fc3 = nn.Linear(28*28, 10)\n",
    "        self.dropout_prob = 0.25\n",
    "        # 배치 노멀라이제이션\n",
    "        self.batch_norm1 = nn.BatchNorm1d(128)\n",
    "        self.batch_norm2 = nn.BatchNorm1d(28*28)\n",
    "# forward() 함수는 model 객체를 데이터와 함께 호출하면 자동으로 실행이됩니다. \n",
    "    def forward(self, x) :\n",
    "        x = x.reshape(-1, 28*28)\n",
    "        x = self.fc1(x)\n",
    "        # torch.fuctional vs torch.nn.fuctional의 차이는 후자는 선언 필요 없이 바로 사용 가능\n",
    "        x = self.batch_norm1(x)\n",
    "        x = F.relu(x)\n",
    "        # dropout이 훈련 과정에서만 적용대도록 설정. model.train / model.eval 과정에서 자동 적용 \n",
    "        x = F.dropout(x, training= self.training, p = self.dropout_prob)\n",
    "        # output, (state_h, state_c) 형태로 자동으로 return 됨\n",
    "        x = self.fc2(x)\n",
    "        x = self.batch_norm2(x)\n",
    "        x = F.relu(x)\n",
    "        x = F.dropout(x, training= self.training, p = self.dropout_prob)\n",
    "        x = self.fc3(x)\n",
    "        x = F.log_softmax(x, dim = 1)\n",
    "        return x"
   ]
  },
  {
   "cell_type": "code",
   "execution_count": 35,
   "metadata": {},
   "outputs": [],
   "source": [
    "del model"
   ]
  },
  {
   "cell_type": "code",
   "execution_count": 36,
   "metadata": {},
   "outputs": [],
   "source": [
    "# 이니셜라이저\n",
    "import torch.nn.init as init \n",
    "def weight_init(m) :\n",
    "    # nn.Linear파라미터 값에 대해서만 지정\n",
    "    if isinstance(m, nn.Linear) :\n",
    "        # he_initialization 활용\n",
    "        init.kaiming_uniform_(m.weight.data)"
   ]
  },
  {
   "cell_type": "code",
   "execution_count": 37,
   "metadata": {},
   "outputs": [
    {
     "name": "stdout",
     "output_type": "stream",
     "text": [
      "Net(\n",
      "  (fc1): Linear(in_features=784, out_features=128, bias=True)\n",
      "  (fc2): Linear(in_features=128, out_features=784, bias=True)\n",
      "  (fc3): Linear(in_features=784, out_features=10, bias=True)\n",
      "  (batch_norm1): BatchNorm1d(128, eps=1e-05, momentum=0.1, affine=True, track_running_stats=True)\n",
      "  (batch_norm2): BatchNorm1d(784, eps=1e-05, momentum=0.1, affine=True, track_running_stats=True)\n",
      ")\n"
     ]
    }
   ],
   "source": [
    "model = Net().to(DEVICE)\n",
    "# 이니셜라이저 적용\n",
    "model.apply(weight_init)\n",
    "optimizer = torch.optim.Adam(model.parameters(), lr = 0.01)\n",
    "criterion = nn.CrossEntropyLoss()\n",
    "print(model)"
   ]
  },
  {
   "cell_type": "code",
   "execution_count": 38,
   "metadata": {},
   "outputs": [],
   "source": [
    "def train(model, train_loader, optimizer, log_intervals = 100) :\n",
    "    model.train()\n",
    "    for batch_idx, (image, label) in enumerate(train_loader) :\n",
    "        image = image.to(DEVICE)\n",
    "        label = label.to(DEVICE)\n",
    "        output = model(image)\n",
    "        optimizer.zero_grad()\n",
    "        loss = criterion(output, label)\n",
    "        loss.backward()\n",
    "        optimizer.step()\n",
    "\n",
    "        if batch_idx % log_intervals == 0 :\n",
    "            print(('Train_Epoch : {}, [{} / {}]({:.0f}%)\\tTrain_Loss : {:.6f}'.format(\n",
    "                Epoch, batch_idx * len(image), len(train_loader.dataset),\n",
    "                batch_idx * 100 / len(train_loader), loss.item()\n",
    "            )))"
   ]
  },
  {
   "cell_type": "code",
   "execution_count": 39,
   "metadata": {},
   "outputs": [],
   "source": [
    "def evaluate(model, test_loader)  :\n",
    "    model.eval()\n",
    "    correct = 0\n",
    "    test_loss = 0\n",
    "    with torch.no_grad() :\n",
    "        for image, label in test_loader :\n",
    "            image = image.to(DEVICE) \n",
    "            label = label.to(DEVICE)\n",
    "            output = model(image)\n",
    "            test_loss = criterion(output, label)\n",
    "            prediction = output.max(1, keepdim = True)[1]\n",
    "            correct += prediction.eq(label.view_as(prediction)).sum().item()\n",
    "        test_loss = test_loss / len(test_loader) \n",
    "        test_accuracy = correct * 100 / len(test_loader.dataset)\n",
    "    return test_loss, test_accuracy"
   ]
  },
  {
   "cell_type": "code",
   "execution_count": 40,
   "metadata": {},
   "outputs": [
    {
     "name": "stdout",
     "output_type": "stream",
     "text": [
      "Train_Epoch : 1, [0 / 60000](0%)\tTrain_Loss : 3.014848\n",
      "Train_Epoch : 1, [12800 / 60000](21%)\tTrain_Loss : 0.186414\n",
      "Train_Epoch : 1, [25600 / 60000](43%)\tTrain_Loss : 0.230797\n",
      "Train_Epoch : 1, [38400 / 60000](64%)\tTrain_Loss : 0.220009\n",
      "Train_Epoch : 1, [51200 / 60000](85%)\tTrain_Loss : 0.188659\n",
      "\n",
      "EPOCH : 1, Test_Loss : 0.0005 \t Test_accuracy : 96.63%\n",
      "\n",
      "Train_Epoch : 2, [0 / 60000](0%)\tTrain_Loss : 0.185625\n",
      "Train_Epoch : 2, [12800 / 60000](21%)\tTrain_Loss : 0.090396\n",
      "Train_Epoch : 2, [25600 / 60000](43%)\tTrain_Loss : 0.072101\n",
      "Train_Epoch : 2, [38400 / 60000](64%)\tTrain_Loss : 0.141356\n",
      "Train_Epoch : 2, [51200 / 60000](85%)\tTrain_Loss : 0.181308\n",
      "\n",
      "EPOCH : 2, Test_Loss : 0.0003 \t Test_accuracy : 97.91%\n",
      "\n",
      "Train_Epoch : 3, [0 / 60000](0%)\tTrain_Loss : 0.153614\n",
      "Train_Epoch : 3, [12800 / 60000](21%)\tTrain_Loss : 0.075816\n",
      "Train_Epoch : 3, [25600 / 60000](43%)\tTrain_Loss : 0.317779\n",
      "Train_Epoch : 3, [38400 / 60000](64%)\tTrain_Loss : 0.131290\n",
      "Train_Epoch : 3, [51200 / 60000](85%)\tTrain_Loss : 0.106637\n",
      "\n",
      "EPOCH : 3, Test_Loss : 0.0004 \t Test_accuracy : 98.19%\n",
      "\n",
      "Train_Epoch : 4, [0 / 60000](0%)\tTrain_Loss : 0.047357\n",
      "Train_Epoch : 4, [12800 / 60000](21%)\tTrain_Loss : 0.155924\n",
      "Train_Epoch : 4, [25600 / 60000](43%)\tTrain_Loss : 0.063438\n",
      "Train_Epoch : 4, [38400 / 60000](64%)\tTrain_Loss : 0.147546\n",
      "Train_Epoch : 4, [51200 / 60000](85%)\tTrain_Loss : 0.111602\n",
      "\n",
      "EPOCH : 4, Test_Loss : 0.0003 \t Test_accuracy : 98.22%\n",
      "\n",
      "Train_Epoch : 5, [0 / 60000](0%)\tTrain_Loss : 0.094309\n",
      "Train_Epoch : 5, [12800 / 60000](21%)\tTrain_Loss : 0.095814\n",
      "Train_Epoch : 5, [25600 / 60000](43%)\tTrain_Loss : 0.140640\n",
      "Train_Epoch : 5, [38400 / 60000](64%)\tTrain_Loss : 0.259715\n",
      "Train_Epoch : 5, [51200 / 60000](85%)\tTrain_Loss : 0.198616\n",
      "\n",
      "EPOCH : 5, Test_Loss : 0.0002 \t Test_accuracy : 98.87%\n",
      "\n",
      "Train_Epoch : 6, [0 / 60000](0%)\tTrain_Loss : 0.119234\n",
      "Train_Epoch : 6, [12800 / 60000](21%)\tTrain_Loss : 0.052649\n",
      "Train_Epoch : 6, [25600 / 60000](43%)\tTrain_Loss : 0.109012\n",
      "Train_Epoch : 6, [38400 / 60000](64%)\tTrain_Loss : 0.079338\n",
      "Train_Epoch : 6, [51200 / 60000](85%)\tTrain_Loss : 0.228380\n",
      "\n",
      "EPOCH : 6, Test_Loss : 0.0002 \t Test_accuracy : 98.87%\n",
      "\n",
      "Train_Epoch : 7, [0 / 60000](0%)\tTrain_Loss : 0.048713\n",
      "Train_Epoch : 7, [12800 / 60000](21%)\tTrain_Loss : 0.031134\n",
      "Train_Epoch : 7, [25600 / 60000](43%)\tTrain_Loss : 0.047270\n",
      "Train_Epoch : 7, [38400 / 60000](64%)\tTrain_Loss : 0.056294\n",
      "Train_Epoch : 7, [51200 / 60000](85%)\tTrain_Loss : 0.033154\n",
      "\n",
      "EPOCH : 7, Test_Loss : 0.0003 \t Test_accuracy : 99.02%\n",
      "\n",
      "Train_Epoch : 8, [0 / 60000](0%)\tTrain_Loss : 0.071851\n",
      "Train_Epoch : 8, [12800 / 60000](21%)\tTrain_Loss : 0.078916\n",
      "Train_Epoch : 8, [25600 / 60000](43%)\tTrain_Loss : 0.114304\n",
      "Train_Epoch : 8, [38400 / 60000](64%)\tTrain_Loss : 0.164276\n",
      "Train_Epoch : 8, [51200 / 60000](85%)\tTrain_Loss : 0.133520\n",
      "\n",
      "EPOCH : 8, Test_Loss : 0.0002 \t Test_accuracy : 98.92%\n",
      "\n",
      "Train_Epoch : 9, [0 / 60000](0%)\tTrain_Loss : 0.033672\n",
      "Train_Epoch : 9, [12800 / 60000](21%)\tTrain_Loss : 0.067150\n",
      "Train_Epoch : 9, [25600 / 60000](43%)\tTrain_Loss : 0.097205\n",
      "Train_Epoch : 9, [38400 / 60000](64%)\tTrain_Loss : 0.095804\n",
      "Train_Epoch : 9, [51200 / 60000](85%)\tTrain_Loss : 0.062139\n",
      "\n",
      "EPOCH : 9, Test_Loss : 0.0002 \t Test_accuracy : 99.16%\n",
      "\n",
      "Train_Epoch : 10, [0 / 60000](0%)\tTrain_Loss : 0.128186\n",
      "Train_Epoch : 10, [12800 / 60000](21%)\tTrain_Loss : 0.025744\n",
      "Train_Epoch : 10, [25600 / 60000](43%)\tTrain_Loss : 0.037895\n",
      "Train_Epoch : 10, [38400 / 60000](64%)\tTrain_Loss : 0.088973\n",
      "Train_Epoch : 10, [51200 / 60000](85%)\tTrain_Loss : 0.090933\n",
      "\n",
      "EPOCH : 10, Test_Loss : 0.0002 \t Test_accuracy : 99.22%\n",
      "\n",
      "Train_Epoch : 11, [0 / 60000](0%)\tTrain_Loss : 0.145842\n",
      "Train_Epoch : 11, [12800 / 60000](21%)\tTrain_Loss : 0.052447\n",
      "Train_Epoch : 11, [25600 / 60000](43%)\tTrain_Loss : 0.102050\n",
      "Train_Epoch : 11, [38400 / 60000](64%)\tTrain_Loss : 0.080420\n",
      "Train_Epoch : 11, [51200 / 60000](85%)\tTrain_Loss : 0.276624\n",
      "\n",
      "EPOCH : 11, Test_Loss : 0.0002 \t Test_accuracy : 99.20%\n",
      "\n",
      "Train_Epoch : 12, [0 / 60000](0%)\tTrain_Loss : 0.039809\n",
      "Train_Epoch : 12, [12800 / 60000](21%)\tTrain_Loss : 0.035450\n",
      "Train_Epoch : 12, [25600 / 60000](43%)\tTrain_Loss : 0.204825\n",
      "Train_Epoch : 12, [38400 / 60000](64%)\tTrain_Loss : 0.064618\n",
      "Train_Epoch : 12, [51200 / 60000](85%)\tTrain_Loss : 0.026755\n",
      "\n",
      "EPOCH : 12, Test_Loss : 0.0002 \t Test_accuracy : 99.31%\n",
      "\n",
      "Train_Epoch : 13, [0 / 60000](0%)\tTrain_Loss : 0.105396\n",
      "Train_Epoch : 13, [12800 / 60000](21%)\tTrain_Loss : 0.200742\n",
      "Train_Epoch : 13, [25600 / 60000](43%)\tTrain_Loss : 0.041871\n",
      "Train_Epoch : 13, [38400 / 60000](64%)\tTrain_Loss : 0.104819\n",
      "Train_Epoch : 13, [51200 / 60000](85%)\tTrain_Loss : 0.066608\n",
      "\n",
      "EPOCH : 13, Test_Loss : 0.0002 \t Test_accuracy : 99.28%\n",
      "\n",
      "Train_Epoch : 14, [0 / 60000](0%)\tTrain_Loss : 0.068816\n",
      "Train_Epoch : 14, [12800 / 60000](21%)\tTrain_Loss : 0.014797\n",
      "Train_Epoch : 14, [25600 / 60000](43%)\tTrain_Loss : 0.069458\n",
      "Train_Epoch : 14, [38400 / 60000](64%)\tTrain_Loss : 0.063861\n",
      "Train_Epoch : 14, [51200 / 60000](85%)\tTrain_Loss : 0.078608\n",
      "\n",
      "EPOCH : 14, Test_Loss : 0.0001 \t Test_accuracy : 99.36%\n",
      "\n",
      "Train_Epoch : 15, [0 / 60000](0%)\tTrain_Loss : 0.135638\n",
      "Train_Epoch : 15, [12800 / 60000](21%)\tTrain_Loss : 0.029176\n",
      "Train_Epoch : 15, [25600 / 60000](43%)\tTrain_Loss : 0.081570\n",
      "Train_Epoch : 15, [38400 / 60000](64%)\tTrain_Loss : 0.024897\n",
      "Train_Epoch : 15, [51200 / 60000](85%)\tTrain_Loss : 0.063300\n",
      "\n",
      "EPOCH : 15, Test_Loss : 0.0001 \t Test_accuracy : 99.42%\n",
      "\n",
      "Train_Epoch : 16, [0 / 60000](0%)\tTrain_Loss : 0.147565\n",
      "Train_Epoch : 16, [12800 / 60000](21%)\tTrain_Loss : 0.027556\n",
      "Train_Epoch : 16, [25600 / 60000](43%)\tTrain_Loss : 0.064577\n",
      "Train_Epoch : 16, [38400 / 60000](64%)\tTrain_Loss : 0.155158\n",
      "Train_Epoch : 16, [51200 / 60000](85%)\tTrain_Loss : 0.071972\n",
      "\n",
      "EPOCH : 16, Test_Loss : 0.0001 \t Test_accuracy : 99.36%\n",
      "\n",
      "Train_Epoch : 17, [0 / 60000](0%)\tTrain_Loss : 0.021730\n",
      "Train_Epoch : 17, [12800 / 60000](21%)\tTrain_Loss : 0.200807\n",
      "Train_Epoch : 17, [25600 / 60000](43%)\tTrain_Loss : 0.073341\n",
      "Train_Epoch : 17, [38400 / 60000](64%)\tTrain_Loss : 0.056606\n",
      "Train_Epoch : 17, [51200 / 60000](85%)\tTrain_Loss : 0.093075\n",
      "\n",
      "EPOCH : 17, Test_Loss : 0.0001 \t Test_accuracy : 99.46%\n",
      "\n",
      "Train_Epoch : 18, [0 / 60000](0%)\tTrain_Loss : 0.066845\n",
      "Train_Epoch : 18, [12800 / 60000](21%)\tTrain_Loss : 0.030656\n",
      "Train_Epoch : 18, [25600 / 60000](43%)\tTrain_Loss : 0.141545\n",
      "Train_Epoch : 18, [38400 / 60000](64%)\tTrain_Loss : 0.069553\n",
      "Train_Epoch : 18, [51200 / 60000](85%)\tTrain_Loss : 0.077710\n",
      "\n",
      "EPOCH : 18, Test_Loss : 0.0001 \t Test_accuracy : 99.48%\n",
      "\n",
      "Train_Epoch : 19, [0 / 60000](0%)\tTrain_Loss : 0.029171\n",
      "Train_Epoch : 19, [12800 / 60000](21%)\tTrain_Loss : 0.108594\n",
      "Train_Epoch : 19, [25600 / 60000](43%)\tTrain_Loss : 0.041266\n",
      "Train_Epoch : 19, [38400 / 60000](64%)\tTrain_Loss : 0.034885\n",
      "Train_Epoch : 19, [51200 / 60000](85%)\tTrain_Loss : 0.030837\n",
      "\n",
      "EPOCH : 19, Test_Loss : 0.0001 \t Test_accuracy : 99.59%\n",
      "\n",
      "Train_Epoch : 20, [0 / 60000](0%)\tTrain_Loss : 0.011274\n",
      "Train_Epoch : 20, [12800 / 60000](21%)\tTrain_Loss : 0.038772\n",
      "Train_Epoch : 20, [25600 / 60000](43%)\tTrain_Loss : 0.051923\n",
      "Train_Epoch : 20, [38400 / 60000](64%)\tTrain_Loss : 0.062563\n",
      "Train_Epoch : 20, [51200 / 60000](85%)\tTrain_Loss : 0.042115\n",
      "\n",
      "EPOCH : 20, Test_Loss : 0.0002 \t Test_accuracy : 99.55%\n",
      "\n",
      "Train_Epoch : 21, [0 / 60000](0%)\tTrain_Loss : 0.074427\n",
      "Train_Epoch : 21, [12800 / 60000](21%)\tTrain_Loss : 0.008761\n",
      "Train_Epoch : 21, [25600 / 60000](43%)\tTrain_Loss : 0.045612\n",
      "Train_Epoch : 21, [38400 / 60000](64%)\tTrain_Loss : 0.009415\n",
      "Train_Epoch : 21, [51200 / 60000](85%)\tTrain_Loss : 0.081911\n",
      "\n",
      "EPOCH : 21, Test_Loss : 0.0001 \t Test_accuracy : 99.59%\n",
      "\n",
      "Train_Epoch : 22, [0 / 60000](0%)\tTrain_Loss : 0.012517\n",
      "Train_Epoch : 22, [12800 / 60000](21%)\tTrain_Loss : 0.044284\n",
      "Train_Epoch : 22, [25600 / 60000](43%)\tTrain_Loss : 0.016732\n",
      "Train_Epoch : 22, [38400 / 60000](64%)\tTrain_Loss : 0.024966\n",
      "Train_Epoch : 22, [51200 / 60000](85%)\tTrain_Loss : 0.014046\n",
      "\n",
      "EPOCH : 22, Test_Loss : 0.0001 \t Test_accuracy : 99.69%\n",
      "\n",
      "Train_Epoch : 23, [0 / 60000](0%)\tTrain_Loss : 0.063454\n",
      "Train_Epoch : 23, [12800 / 60000](21%)\tTrain_Loss : 0.025263\n",
      "Train_Epoch : 23, [25600 / 60000](43%)\tTrain_Loss : 0.090248\n",
      "Train_Epoch : 23, [38400 / 60000](64%)\tTrain_Loss : 0.036443\n",
      "Train_Epoch : 23, [51200 / 60000](85%)\tTrain_Loss : 0.007417\n",
      "\n",
      "EPOCH : 23, Test_Loss : 0.0001 \t Test_accuracy : 99.62%\n",
      "\n",
      "Train_Epoch : 24, [0 / 60000](0%)\tTrain_Loss : 0.082349\n",
      "Train_Epoch : 24, [12800 / 60000](21%)\tTrain_Loss : 0.029623\n",
      "Train_Epoch : 24, [25600 / 60000](43%)\tTrain_Loss : 0.153883\n",
      "Train_Epoch : 24, [38400 / 60000](64%)\tTrain_Loss : 0.117433\n",
      "Train_Epoch : 24, [51200 / 60000](85%)\tTrain_Loss : 0.025603\n"
     ]
    },
    {
     "ename": "KeyboardInterrupt",
     "evalue": "",
     "output_type": "error",
     "traceback": [
      "\u001b[1;31m---------------------------------------------------------------------------\u001b[0m",
      "\u001b[1;31mKeyboardInterrupt\u001b[0m                         Traceback (most recent call last)",
      "\u001b[1;32mc:\\Users\\Admin\\TIL\\pytorch DL\\daily_pytorch_grammer_practice\\0313_TIL.ipynb 셀 13\u001b[0m in \u001b[0;36m<cell line: 3>\u001b[1;34m()\u001b[0m\n\u001b[0;32m      <a href='vscode-notebook-cell:/c%3A/Users/Admin/TIL/pytorch%20DL/daily_pytorch_grammer_practice/0313_TIL.ipynb#X14sZmlsZQ%3D%3D?line=2'>3</a>\u001b[0m \u001b[39mfor\u001b[39;00m Epoch \u001b[39min\u001b[39;00m \u001b[39mrange\u001b[39m(\u001b[39m1\u001b[39m, EPOCHS \u001b[39m+\u001b[39m \u001b[39m1\u001b[39m) :\n\u001b[0;32m      <a href='vscode-notebook-cell:/c%3A/Users/Admin/TIL/pytorch%20DL/daily_pytorch_grammer_practice/0313_TIL.ipynb#X14sZmlsZQ%3D%3D?line=3'>4</a>\u001b[0m     train(model, train_loader, optimizer)\n\u001b[1;32m----> <a href='vscode-notebook-cell:/c%3A/Users/Admin/TIL/pytorch%20DL/daily_pytorch_grammer_practice/0313_TIL.ipynb#X14sZmlsZQ%3D%3D?line=4'>5</a>\u001b[0m     test_loss, test_accuracy \u001b[39m=\u001b[39m evaluate(model, test_loader)\n\u001b[0;32m      <a href='vscode-notebook-cell:/c%3A/Users/Admin/TIL/pytorch%20DL/daily_pytorch_grammer_practice/0313_TIL.ipynb#X14sZmlsZQ%3D%3D?line=5'>6</a>\u001b[0m     \u001b[39mprint\u001b[39m(\u001b[39m'\u001b[39m\u001b[39m\\n\u001b[39;00m\u001b[39mEPOCH : \u001b[39m\u001b[39m{}\u001b[39;00m\u001b[39m, Test_Loss : \u001b[39m\u001b[39m{:.4f}\u001b[39;00m\u001b[39m \u001b[39m\u001b[39m\\t\u001b[39;00m\u001b[39m Test_accuracy : \u001b[39m\u001b[39m{:.2f}\u001b[39;00m\u001b[39m%\u001b[39m\u001b[39m\\n\u001b[39;00m\u001b[39m'\u001b[39m\u001b[39m.\u001b[39mformat(\n\u001b[0;32m      <a href='vscode-notebook-cell:/c%3A/Users/Admin/TIL/pytorch%20DL/daily_pytorch_grammer_practice/0313_TIL.ipynb#X14sZmlsZQ%3D%3D?line=6'>7</a>\u001b[0m         Epoch, test_loss, test_accuracy\n\u001b[0;32m      <a href='vscode-notebook-cell:/c%3A/Users/Admin/TIL/pytorch%20DL/daily_pytorch_grammer_practice/0313_TIL.ipynb#X14sZmlsZQ%3D%3D?line=7'>8</a>\u001b[0m     ))\n\u001b[0;32m     <a href='vscode-notebook-cell:/c%3A/Users/Admin/TIL/pytorch%20DL/daily_pytorch_grammer_practice/0313_TIL.ipynb#X14sZmlsZQ%3D%3D?line=9'>10</a>\u001b[0m     \u001b[39mif\u001b[39;00m test_accuracy \u001b[39m>\u001b[39m best_accuracy :\n",
      "\u001b[1;32mc:\\Users\\Admin\\TIL\\pytorch DL\\daily_pytorch_grammer_practice\\0313_TIL.ipynb 셀 13\u001b[0m in \u001b[0;36mevaluate\u001b[1;34m(model, test_loader)\u001b[0m\n\u001b[0;32m      <a href='vscode-notebook-cell:/c%3A/Users/Admin/TIL/pytorch%20DL/daily_pytorch_grammer_practice/0313_TIL.ipynb#X14sZmlsZQ%3D%3D?line=3'>4</a>\u001b[0m test_loss \u001b[39m=\u001b[39m \u001b[39m0\u001b[39m\n\u001b[0;32m      <a href='vscode-notebook-cell:/c%3A/Users/Admin/TIL/pytorch%20DL/daily_pytorch_grammer_practice/0313_TIL.ipynb#X14sZmlsZQ%3D%3D?line=4'>5</a>\u001b[0m \u001b[39mwith\u001b[39;00m torch\u001b[39m.\u001b[39mno_grad() :\n\u001b[1;32m----> <a href='vscode-notebook-cell:/c%3A/Users/Admin/TIL/pytorch%20DL/daily_pytorch_grammer_practice/0313_TIL.ipynb#X14sZmlsZQ%3D%3D?line=5'>6</a>\u001b[0m     \u001b[39mfor\u001b[39;00m image, label \u001b[39min\u001b[39;00m test_loader :\n\u001b[0;32m      <a href='vscode-notebook-cell:/c%3A/Users/Admin/TIL/pytorch%20DL/daily_pytorch_grammer_practice/0313_TIL.ipynb#X14sZmlsZQ%3D%3D?line=6'>7</a>\u001b[0m         image \u001b[39m=\u001b[39m image\u001b[39m.\u001b[39mto(DEVICE) \n\u001b[0;32m      <a href='vscode-notebook-cell:/c%3A/Users/Admin/TIL/pytorch%20DL/daily_pytorch_grammer_practice/0313_TIL.ipynb#X14sZmlsZQ%3D%3D?line=7'>8</a>\u001b[0m         label \u001b[39m=\u001b[39m label\u001b[39m.\u001b[39mto(DEVICE)\n",
      "File \u001b[1;32mc:\\Users\\Admin\\anaconda3\\envs\\pytorch\\lib\\site-packages\\torch\\utils\\data\\dataloader.py:652\u001b[0m, in \u001b[0;36m_BaseDataLoaderIter.__next__\u001b[1;34m(self)\u001b[0m\n\u001b[0;32m    649\u001b[0m \u001b[39mif\u001b[39;00m \u001b[39mself\u001b[39m\u001b[39m.\u001b[39m_sampler_iter \u001b[39mis\u001b[39;00m \u001b[39mNone\u001b[39;00m:\n\u001b[0;32m    650\u001b[0m     \u001b[39m# TODO(https://github.com/pytorch/pytorch/issues/76750)\u001b[39;00m\n\u001b[0;32m    651\u001b[0m     \u001b[39mself\u001b[39m\u001b[39m.\u001b[39m_reset()  \u001b[39m# type: ignore[call-arg]\u001b[39;00m\n\u001b[1;32m--> 652\u001b[0m data \u001b[39m=\u001b[39m \u001b[39mself\u001b[39;49m\u001b[39m.\u001b[39;49m_next_data()\n\u001b[0;32m    653\u001b[0m \u001b[39mself\u001b[39m\u001b[39m.\u001b[39m_num_yielded \u001b[39m+\u001b[39m\u001b[39m=\u001b[39m \u001b[39m1\u001b[39m\n\u001b[0;32m    654\u001b[0m \u001b[39mif\u001b[39;00m \u001b[39mself\u001b[39m\u001b[39m.\u001b[39m_dataset_kind \u001b[39m==\u001b[39m _DatasetKind\u001b[39m.\u001b[39mIterable \u001b[39mand\u001b[39;00m \\\n\u001b[0;32m    655\u001b[0m         \u001b[39mself\u001b[39m\u001b[39m.\u001b[39m_IterableDataset_len_called \u001b[39mis\u001b[39;00m \u001b[39mnot\u001b[39;00m \u001b[39mNone\u001b[39;00m \u001b[39mand\u001b[39;00m \\\n\u001b[0;32m    656\u001b[0m         \u001b[39mself\u001b[39m\u001b[39m.\u001b[39m_num_yielded \u001b[39m>\u001b[39m \u001b[39mself\u001b[39m\u001b[39m.\u001b[39m_IterableDataset_len_called:\n",
      "File \u001b[1;32mc:\\Users\\Admin\\anaconda3\\envs\\pytorch\\lib\\site-packages\\torch\\utils\\data\\dataloader.py:692\u001b[0m, in \u001b[0;36m_SingleProcessDataLoaderIter._next_data\u001b[1;34m(self)\u001b[0m\n\u001b[0;32m    690\u001b[0m \u001b[39mdef\u001b[39;00m \u001b[39m_next_data\u001b[39m(\u001b[39mself\u001b[39m):\n\u001b[0;32m    691\u001b[0m     index \u001b[39m=\u001b[39m \u001b[39mself\u001b[39m\u001b[39m.\u001b[39m_next_index()  \u001b[39m# may raise StopIteration\u001b[39;00m\n\u001b[1;32m--> 692\u001b[0m     data \u001b[39m=\u001b[39m \u001b[39mself\u001b[39;49m\u001b[39m.\u001b[39;49m_dataset_fetcher\u001b[39m.\u001b[39;49mfetch(index)  \u001b[39m# may raise StopIteration\u001b[39;00m\n\u001b[0;32m    693\u001b[0m     \u001b[39mif\u001b[39;00m \u001b[39mself\u001b[39m\u001b[39m.\u001b[39m_pin_memory:\n\u001b[0;32m    694\u001b[0m         data \u001b[39m=\u001b[39m _utils\u001b[39m.\u001b[39mpin_memory\u001b[39m.\u001b[39mpin_memory(data, \u001b[39mself\u001b[39m\u001b[39m.\u001b[39m_pin_memory_device)\n",
      "File \u001b[1;32mc:\\Users\\Admin\\anaconda3\\envs\\pytorch\\lib\\site-packages\\torch\\utils\\data\\_utils\\fetch.py:49\u001b[0m, in \u001b[0;36m_MapDatasetFetcher.fetch\u001b[1;34m(self, possibly_batched_index)\u001b[0m\n\u001b[0;32m     47\u001b[0m \u001b[39mdef\u001b[39;00m \u001b[39mfetch\u001b[39m(\u001b[39mself\u001b[39m, possibly_batched_index):\n\u001b[0;32m     48\u001b[0m     \u001b[39mif\u001b[39;00m \u001b[39mself\u001b[39m\u001b[39m.\u001b[39mauto_collation:\n\u001b[1;32m---> 49\u001b[0m         data \u001b[39m=\u001b[39m [\u001b[39mself\u001b[39m\u001b[39m.\u001b[39mdataset[idx] \u001b[39mfor\u001b[39;00m idx \u001b[39min\u001b[39;00m possibly_batched_index]\n\u001b[0;32m     50\u001b[0m     \u001b[39melse\u001b[39;00m:\n\u001b[0;32m     51\u001b[0m         data \u001b[39m=\u001b[39m \u001b[39mself\u001b[39m\u001b[39m.\u001b[39mdataset[possibly_batched_index]\n",
      "File \u001b[1;32mc:\\Users\\Admin\\anaconda3\\envs\\pytorch\\lib\\site-packages\\torch\\utils\\data\\_utils\\fetch.py:49\u001b[0m, in \u001b[0;36m<listcomp>\u001b[1;34m(.0)\u001b[0m\n\u001b[0;32m     47\u001b[0m \u001b[39mdef\u001b[39;00m \u001b[39mfetch\u001b[39m(\u001b[39mself\u001b[39m, possibly_batched_index):\n\u001b[0;32m     48\u001b[0m     \u001b[39mif\u001b[39;00m \u001b[39mself\u001b[39m\u001b[39m.\u001b[39mauto_collation:\n\u001b[1;32m---> 49\u001b[0m         data \u001b[39m=\u001b[39m [\u001b[39mself\u001b[39;49m\u001b[39m.\u001b[39;49mdataset[idx] \u001b[39mfor\u001b[39;00m idx \u001b[39min\u001b[39;00m possibly_batched_index]\n\u001b[0;32m     50\u001b[0m     \u001b[39melse\u001b[39;00m:\n\u001b[0;32m     51\u001b[0m         data \u001b[39m=\u001b[39m \u001b[39mself\u001b[39m\u001b[39m.\u001b[39mdataset[possibly_batched_index]\n",
      "File \u001b[1;32mc:\\Users\\Admin\\anaconda3\\envs\\pytorch\\lib\\site-packages\\torchvision\\datasets\\mnist.py:145\u001b[0m, in \u001b[0;36mMNIST.__getitem__\u001b[1;34m(self, index)\u001b[0m\n\u001b[0;32m    142\u001b[0m img \u001b[39m=\u001b[39m Image\u001b[39m.\u001b[39mfromarray(img\u001b[39m.\u001b[39mnumpy(), mode\u001b[39m=\u001b[39m\u001b[39m\"\u001b[39m\u001b[39mL\u001b[39m\u001b[39m\"\u001b[39m)\n\u001b[0;32m    144\u001b[0m \u001b[39mif\u001b[39;00m \u001b[39mself\u001b[39m\u001b[39m.\u001b[39mtransform \u001b[39mis\u001b[39;00m \u001b[39mnot\u001b[39;00m \u001b[39mNone\u001b[39;00m:\n\u001b[1;32m--> 145\u001b[0m     img \u001b[39m=\u001b[39m \u001b[39mself\u001b[39;49m\u001b[39m.\u001b[39;49mtransform(img)\n\u001b[0;32m    147\u001b[0m \u001b[39mif\u001b[39;00m \u001b[39mself\u001b[39m\u001b[39m.\u001b[39mtarget_transform \u001b[39mis\u001b[39;00m \u001b[39mnot\u001b[39;00m \u001b[39mNone\u001b[39;00m:\n\u001b[0;32m    148\u001b[0m     target \u001b[39m=\u001b[39m \u001b[39mself\u001b[39m\u001b[39m.\u001b[39mtarget_transform(target)\n",
      "File \u001b[1;32mc:\\Users\\Admin\\anaconda3\\envs\\pytorch\\lib\\site-packages\\torchvision\\transforms\\transforms.py:134\u001b[0m, in \u001b[0;36mToTensor.__call__\u001b[1;34m(self, pic)\u001b[0m\n\u001b[0;32m    126\u001b[0m \u001b[39mdef\u001b[39;00m \u001b[39m__call__\u001b[39m(\u001b[39mself\u001b[39m, pic):\n\u001b[0;32m    127\u001b[0m     \u001b[39m\"\"\"\u001b[39;00m\n\u001b[0;32m    128\u001b[0m \u001b[39m    Args:\u001b[39;00m\n\u001b[0;32m    129\u001b[0m \u001b[39m        pic (PIL Image or numpy.ndarray): Image to be converted to tensor.\u001b[39;00m\n\u001b[1;32m   (...)\u001b[0m\n\u001b[0;32m    132\u001b[0m \u001b[39m        Tensor: Converted image.\u001b[39;00m\n\u001b[0;32m    133\u001b[0m \u001b[39m    \"\"\"\u001b[39;00m\n\u001b[1;32m--> 134\u001b[0m     \u001b[39mreturn\u001b[39;00m F\u001b[39m.\u001b[39;49mto_tensor(pic)\n",
      "File \u001b[1;32mc:\\Users\\Admin\\anaconda3\\envs\\pytorch\\lib\\site-packages\\torchvision\\transforms\\functional.py:168\u001b[0m, in \u001b[0;36mto_tensor\u001b[1;34m(pic)\u001b[0m\n\u001b[0;32m    166\u001b[0m \u001b[39mif\u001b[39;00m pic\u001b[39m.\u001b[39mmode \u001b[39m==\u001b[39m \u001b[39m\"\u001b[39m\u001b[39m1\u001b[39m\u001b[39m\"\u001b[39m:\n\u001b[0;32m    167\u001b[0m     img \u001b[39m=\u001b[39m \u001b[39m255\u001b[39m \u001b[39m*\u001b[39m img\n\u001b[1;32m--> 168\u001b[0m img \u001b[39m=\u001b[39m img\u001b[39m.\u001b[39;49mview(pic\u001b[39m.\u001b[39;49msize[\u001b[39m1\u001b[39;49m], pic\u001b[39m.\u001b[39;49msize[\u001b[39m0\u001b[39;49m], \u001b[39mlen\u001b[39;49m(pic\u001b[39m.\u001b[39;49mgetbands()))\n\u001b[0;32m    169\u001b[0m \u001b[39m# put it from HWC to CHW format\u001b[39;00m\n\u001b[0;32m    170\u001b[0m img \u001b[39m=\u001b[39m img\u001b[39m.\u001b[39mpermute((\u001b[39m2\u001b[39m, \u001b[39m0\u001b[39m, \u001b[39m1\u001b[39m))\u001b[39m.\u001b[39mcontiguous()\n",
      "\u001b[1;31mKeyboardInterrupt\u001b[0m: "
     ]
    }
   ],
   "source": [
    "best_accuracy = 0\n",
    "es = 0\n",
    "for Epoch in range(1, EPOCHS + 1) :\n",
    "    train(model, train_loader, optimizer)\n",
    "    test_loss, test_accuracy = evaluate(model, test_loader)\n",
    "    print('\\nEPOCH : {}, Test_Loss : {:.4f} \\t Test_accuracy : {:.2f}%\\n'.format(\n",
    "        Epoch, test_loss, test_accuracy\n",
    "    ))\n",
    "\n",
    "    if test_accuracy > best_accuracy :\n",
    "        best_accuracy = test_accuracy\n",
    "        best_model = model\n",
    "    else :\n",
    "        es += 1\n",
    "\n",
    "    if es >= 10 :\n",
    "        break"
   ]
  },
  {
   "cell_type": "code",
   "execution_count": 41,
   "metadata": {},
   "outputs": [
    {
     "data": {
      "text/plain": [
       "99.69"
      ]
     },
     "execution_count": 41,
     "metadata": {},
     "output_type": "execute_result"
    }
   ],
   "source": [
    "best_accuracy"
   ]
  },
  {
   "cell_type": "code",
   "execution_count": null,
   "metadata": {},
   "outputs": [],
   "source": []
  }
 ],
 "metadata": {
  "kernelspec": {
   "display_name": "pytorch",
   "language": "python",
   "name": "python3"
  },
  "language_info": {
   "codemirror_mode": {
    "name": "ipython",
    "version": 3
   },
   "file_extension": ".py",
   "mimetype": "text/x-python",
   "name": "python",
   "nbconvert_exporter": "python",
   "pygments_lexer": "ipython3",
   "version": "3.10.5"
  },
  "orig_nbformat": 4
 },
 "nbformat": 4,
 "nbformat_minor": 2
}
