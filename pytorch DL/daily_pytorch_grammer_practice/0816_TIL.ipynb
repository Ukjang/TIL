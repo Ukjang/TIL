{
 "cells": [
  {
   "cell_type": "code",
   "execution_count": 13,
   "metadata": {},
   "outputs": [],
   "source": [
    "import torch\n",
    "import numpy as np\n",
    "from matplotlib import pyplot as plt\n",
    "import torch.nn as nn\n",
    "import torch.nn.functional as F \n",
    "from torchvision import transforms, datasets"
   ]
  },
  {
   "cell_type": "code",
   "execution_count": 14,
   "metadata": {},
   "outputs": [
    {
     "name": "stdout",
     "output_type": "stream",
     "text": [
      "NVIDIA GeForce GTX 1650\n"
     ]
    }
   ],
   "source": [
    "if torch.cuda.is_available():\n",
    "  DEVICE = torch.device('cuda')\n",
    "else :\n",
    "  DEVICE = torch.device('cpu')\n",
    "print(torch.cuda.get_device_name())"
   ]
  },
  {
   "cell_type": "code",
   "execution_count": 15,
   "metadata": {},
   "outputs": [
    {
     "name": "stdout",
     "output_type": "stream",
     "text": [
      "Using Pytorch version: 1.12.0  Device:  cuda\n"
     ]
    }
   ],
   "source": [
    "print('Using Pytorch version:', torch.__version__, ' Device: ', DEVICE)"
   ]
  },
  {
   "cell_type": "code",
   "execution_count": 16,
   "metadata": {},
   "outputs": [],
   "source": [
    "BATCH_SIZE = 32\n",
    "EPOCHS = 10"
   ]
  },
  {
   "cell_type": "code",
   "execution_count": 17,
   "metadata": {},
   "outputs": [],
   "source": [
    "train_dataset = datasets.MNIST(root='../data/MNIST',\n",
    "                                train = True,\n",
    "                                download=True,\n",
    "                                transform = transforms.ToTensor())\n",
    "test_dataset = datasets.MNIST(root='../data/MNIST',\n",
    "                                train = False,\n",
    "                                download=True,\n",
    "                                transform = transforms.ToTensor())\n",
    "train_loader = torch.utils.data.DataLoader(dataset = train_dataset,\n",
    "                                            batch_size = BATCH_SIZE,\n",
    "                                            shuffle=True)\n",
    "test_loader = torch.utils.data.DataLoader(dataset = test_dataset,\n",
    "                                            batch_size = BATCH_SIZE,\n",
    "                                            shuffle= False)\n",
    "                          "
   ]
  },
  {
   "cell_type": "code",
   "execution_count": 18,
   "metadata": {},
   "outputs": [
    {
     "name": "stdout",
     "output_type": "stream",
     "text": [
      "X_train torch.Size([32, 1, 28, 28]) type torch.FloatTensor\n",
      "y_train torch.Size([32]) type torch.LongTensor\n"
     ]
    }
   ],
   "source": [
    "for (X_train, y_train) in train_loader :\n",
    "  print('X_train', X_train.size(), 'type', X_train.type())\n",
    "  print('y_train', y_train.size(), 'type', y_train.type())\n",
    "  break\n"
   ]
  },
  {
   "cell_type": "code",
   "execution_count": 23,
   "metadata": {},
   "outputs": [
    {
     "data": {
      "image/png": "[encoded data removed]",
      "text/plain": [
       "<Figure size 720x72 with 10 Axes>"
      ]
     },
     "metadata": {
      "needs_background": "light"
     },
     "output_type": "display_data"
    }
   ],
   "source": [
    "pltsize = 1\n",
    "plt.figure(figsize=(10*pltsize, pltsize))\n",
    "for i in range(10):\n",
    "  plt.subplot(1, 10, i+1)\n",
    "  plt.axis('off')\n",
    "  plt.imshow(X_train[i, :, :, :].numpy().reshape(28,28), cmap = 'gray_r')\n",
    "  plt.title('Class : ' + str(y_train[i].item()))"
   ]
  },
  {
   "cell_type": "code",
   "execution_count": 24,
   "metadata": {},
   "outputs": [
    {
     "data": {
      "text/plain": [
       "9"
      ]
     },
     "execution_count": 24,
     "metadata": {},
     "output_type": "execute_result"
    }
   ],
   "source": [
    "len(y_train.unique())"
   ]
  },
  {
   "cell_type": "code",
   "execution_count": 25,
   "metadata": {},
   "outputs": [],
   "source": [
    "class Net(nn.Module):\n",
    "  def __init__(self):\n",
    "    super(Net, self).__init__()\n",
    "    self.fc1 = nn.Linear(28*28, 512)\n",
    "    self.fc2 = nn.Linear(512, 256)\n",
    "    self.fc3 = nn.Linear(256, 10)\n",
    "\n",
    "\n",
    "  def forward(self, x):\n",
    "    x = x.view(-1, 28*28)\n",
    "    x = self.fc1(x)\n",
    "    x = F.relu(x)\n",
    "    x = self.fc2(x)\n",
    "    x = F.relu(x)\n",
    "    x = self.fc3(x)\n",
    "    x = F.log_softmax(x, dim=-1)\n",
    "    return x\n"
   ]
  },
  {
   "cell_type": "code",
   "execution_count": 27,
   "metadata": {},
   "outputs": [
    {
     "name": "stdout",
     "output_type": "stream",
     "text": [
      "Net(\n",
      "  (fc1): Linear(in_features=784, out_features=512, bias=True)\n",
      "  (fc2): Linear(in_features=512, out_features=256, bias=True)\n",
      "  (fc3): Linear(in_features=256, out_features=10, bias=True)\n",
      ")\n"
     ]
    }
   ],
   "source": [
    "model = Net().to(DEVICE)\n",
    "optimizer = torch.optim.SGD(model.parameters(), lr = 0.01, momentum=0.5)\n",
    "criterion = nn.CrossEntropyLoss()\n",
    "print(model)"
   ]
  },
  {
   "cell_type": "code",
   "execution_count": 33,
   "metadata": {},
   "outputs": [],
   "source": [
    "def train(model, train_loader, optimizer, log_interval):\n",
    "  model.train()\n",
    "  for batch_idx, (image, label) in enumerate(train_loader):\n",
    "    image = image.to(DEVICE)\n",
    "    label = label.to(DEVICE)\n",
    "    optimizer.zero_grad()\n",
    "    output = model(image)\n",
    "    loss = criterion(output, label)\n",
    "    loss.backward()\n",
    "    optimizer.step()\n",
    "\n",
    "\n",
    "    if batch_idx % log_interval == 0 :\n",
    "      print('Train Epoch:, {}, [{} / {} ({:.0f}%)]\\tTrain Loss : {:.6f}'.format(\n",
    "        Epoch, batch_idx * len(image),\n",
    "        len(train_loader.dataset), 100. * batch_idx / len(train_loader),\n",
    "        loss.item()\n",
    "      ))"
   ]
  },
  {
   "cell_type": "code",
   "execution_count": 29,
   "metadata": {},
   "outputs": [],
   "source": [
    "def evaluate(model, test_loader):\n",
    "  model.eval()\n",
    "  test_loss = 0\n",
    "  correct = 0\n",
    "\n",
    "  with torch.no_grad():\n",
    "    for image, label in test_loader:\n",
    "      image = image.to(DEVICE)\n",
    "      label = label.to(DEVICE)\n",
    "      output = model(image)\n",
    "      test_loss += criterion(output, label).item()\n",
    "      prediction = output.max(1, keepdim = True)[1]\n",
    "      correct += prediction.eq(label.view_as(prediction)).sum().item()\n",
    "\n",
    "  test_loss /= len(test_loader.dataset)\n",
    "  test_accuracy = 100. * correct / len (test_loader.dataset)\n",
    "  return test_loss, test_accuracy"
   ]
  },
  {
   "cell_type": "code",
   "execution_count": 34,
   "metadata": {},
   "outputs": [
    {
     "name": "stdout",
     "output_type": "stream",
     "text": [
      "Train Epoch:, 1, [0 / 60000 (0%)]\tTrain Loss : 2.309923\n",
      "Train Epoch:, 1, [6400 / 60000 (11%)]\tTrain Loss : 1.917031\n",
      "Train Epoch:, 1, [12800 / 60000 (21%)]\tTrain Loss : 0.809437\n",
      "Train Epoch:, 1, [19200 / 60000 (32%)]\tTrain Loss : 0.443854\n",
      "Train Epoch:, 1, [25600 / 60000 (43%)]\tTrain Loss : 0.650296\n",
      "Train Epoch:, 1, [32000 / 60000 (53%)]\tTrain Loss : 0.327001\n",
      "Train Epoch:, 1, [38400 / 60000 (64%)]\tTrain Loss : 0.293532\n",
      "Train Epoch:, 1, [44800 / 60000 (75%)]\tTrain Loss : 0.491509\n",
      "Train Epoch:, 1, [51200 / 60000 (85%)]\tTrain Loss : 0.349485\n",
      "Train Epoch:, 1, [57600 / 60000 (96%)]\tTrain Loss : 0.297130\n",
      "\n",
      "[EPOCH: 1, \tTest Loss: 0.0097, \tTest Accuracy: 91.17 %\n",
      "\n",
      "Train Epoch:, 2, [0 / 60000 (0%)]\tTrain Loss : 0.240310\n",
      "Train Epoch:, 2, [6400 / 60000 (11%)]\tTrain Loss : 0.271439\n",
      "Train Epoch:, 2, [12800 / 60000 (21%)]\tTrain Loss : 0.344508\n",
      "Train Epoch:, 2, [19200 / 60000 (32%)]\tTrain Loss : 0.443133\n",
      "Train Epoch:, 2, [25600 / 60000 (43%)]\tTrain Loss : 0.230045\n",
      "Train Epoch:, 2, [32000 / 60000 (53%)]\tTrain Loss : 0.566799\n",
      "Train Epoch:, 2, [38400 / 60000 (64%)]\tTrain Loss : 0.292699\n",
      "Train Epoch:, 2, [44800 / 60000 (75%)]\tTrain Loss : 0.162909\n",
      "Train Epoch:, 2, [51200 / 60000 (85%)]\tTrain Loss : 0.261644\n",
      "Train Epoch:, 2, [57600 / 60000 (96%)]\tTrain Loss : 0.305487\n",
      "\n",
      "[EPOCH: 2, \tTest Loss: 0.0073, \tTest Accuracy: 92.96 %\n",
      "\n",
      "Train Epoch:, 3, [0 / 60000 (0%)]\tTrain Loss : 0.160969\n",
      "Train Epoch:, 3, [6400 / 60000 (11%)]\tTrain Loss : 0.115484\n",
      "Train Epoch:, 3, [12800 / 60000 (21%)]\tTrain Loss : 0.239549\n",
      "Train Epoch:, 3, [19200 / 60000 (32%)]\tTrain Loss : 0.055921\n",
      "Train Epoch:, 3, [25600 / 60000 (43%)]\tTrain Loss : 0.077894\n",
      "Train Epoch:, 3, [32000 / 60000 (53%)]\tTrain Loss : 0.077782\n",
      "Train Epoch:, 3, [38400 / 60000 (64%)]\tTrain Loss : 0.162872\n",
      "Train Epoch:, 3, [44800 / 60000 (75%)]\tTrain Loss : 0.099874\n",
      "Train Epoch:, 3, [51200 / 60000 (85%)]\tTrain Loss : 0.069054\n",
      "Train Epoch:, 3, [57600 / 60000 (96%)]\tTrain Loss : 0.142906\n",
      "\n",
      "[EPOCH: 3, \tTest Loss: 0.0059, \tTest Accuracy: 94.43 %\n",
      "\n",
      "Train Epoch:, 4, [0 / 60000 (0%)]\tTrain Loss : 0.087139\n",
      "Train Epoch:, 4, [6400 / 60000 (11%)]\tTrain Loss : 0.128935\n",
      "Train Epoch:, 4, [12800 / 60000 (21%)]\tTrain Loss : 0.046531\n",
      "Train Epoch:, 4, [19200 / 60000 (32%)]\tTrain Loss : 0.137341\n",
      "Train Epoch:, 4, [25600 / 60000 (43%)]\tTrain Loss : 0.075590\n",
      "Train Epoch:, 4, [32000 / 60000 (53%)]\tTrain Loss : 0.029443\n",
      "Train Epoch:, 4, [38400 / 60000 (64%)]\tTrain Loss : 0.269799\n",
      "Train Epoch:, 4, [44800 / 60000 (75%)]\tTrain Loss : 0.069690\n",
      "Train Epoch:, 4, [51200 / 60000 (85%)]\tTrain Loss : 0.411780\n",
      "Train Epoch:, 4, [57600 / 60000 (96%)]\tTrain Loss : 0.137401\n",
      "\n",
      "[EPOCH: 4, \tTest Loss: 0.0047, \tTest Accuracy: 95.48 %\n",
      "\n",
      "Train Epoch:, 5, [0 / 60000 (0%)]\tTrain Loss : 0.073976\n",
      "Train Epoch:, 5, [6400 / 60000 (11%)]\tTrain Loss : 0.052533\n",
      "Train Epoch:, 5, [12800 / 60000 (21%)]\tTrain Loss : 0.046205\n",
      "Train Epoch:, 5, [19200 / 60000 (32%)]\tTrain Loss : 0.135511\n",
      "Train Epoch:, 5, [25600 / 60000 (43%)]\tTrain Loss : 0.049689\n",
      "Train Epoch:, 5, [32000 / 60000 (53%)]\tTrain Loss : 0.026028\n",
      "Train Epoch:, 5, [38400 / 60000 (64%)]\tTrain Loss : 0.087395\n",
      "Train Epoch:, 5, [44800 / 60000 (75%)]\tTrain Loss : 0.245305\n",
      "Train Epoch:, 5, [51200 / 60000 (85%)]\tTrain Loss : 0.258535\n",
      "Train Epoch:, 5, [57600 / 60000 (96%)]\tTrain Loss : 0.262348\n",
      "\n",
      "[EPOCH: 5, \tTest Loss: 0.0041, \tTest Accuracy: 96.19 %\n",
      "\n",
      "Train Epoch:, 6, [0 / 60000 (0%)]\tTrain Loss : 0.040390\n",
      "Train Epoch:, 6, [6400 / 60000 (11%)]\tTrain Loss : 0.111432\n",
      "Train Epoch:, 6, [12800 / 60000 (21%)]\tTrain Loss : 0.296360\n",
      "Train Epoch:, 6, [19200 / 60000 (32%)]\tTrain Loss : 0.053415\n",
      "Train Epoch:, 6, [25600 / 60000 (43%)]\tTrain Loss : 0.085679\n",
      "Train Epoch:, 6, [32000 / 60000 (53%)]\tTrain Loss : 0.122161\n",
      "Train Epoch:, 6, [38400 / 60000 (64%)]\tTrain Loss : 0.117424\n",
      "Train Epoch:, 6, [44800 / 60000 (75%)]\tTrain Loss : 0.026606\n",
      "Train Epoch:, 6, [51200 / 60000 (85%)]\tTrain Loss : 0.043824\n",
      "Train Epoch:, 6, [57600 / 60000 (96%)]\tTrain Loss : 0.162119\n",
      "\n",
      "[EPOCH: 6, \tTest Loss: 0.0037, \tTest Accuracy: 96.40 %\n",
      "\n",
      "Train Epoch:, 7, [0 / 60000 (0%)]\tTrain Loss : 0.025087\n",
      "Train Epoch:, 7, [6400 / 60000 (11%)]\tTrain Loss : 0.025195\n",
      "Train Epoch:, 7, [12800 / 60000 (21%)]\tTrain Loss : 0.320406\n",
      "Train Epoch:, 7, [19200 / 60000 (32%)]\tTrain Loss : 0.144173\n",
      "Train Epoch:, 7, [25600 / 60000 (43%)]\tTrain Loss : 0.065080\n",
      "Train Epoch:, 7, [32000 / 60000 (53%)]\tTrain Loss : 0.166779\n",
      "Train Epoch:, 7, [38400 / 60000 (64%)]\tTrain Loss : 0.017696\n",
      "Train Epoch:, 7, [44800 / 60000 (75%)]\tTrain Loss : 0.100087\n",
      "Train Epoch:, 7, [51200 / 60000 (85%)]\tTrain Loss : 0.289222\n",
      "Train Epoch:, 7, [57600 / 60000 (96%)]\tTrain Loss : 0.027700\n",
      "\n",
      "[EPOCH: 7, \tTest Loss: 0.0035, \tTest Accuracy: 96.65 %\n",
      "\n",
      "Train Epoch:, 8, [0 / 60000 (0%)]\tTrain Loss : 0.037157\n",
      "Train Epoch:, 8, [6400 / 60000 (11%)]\tTrain Loss : 0.078629\n",
      "Train Epoch:, 8, [12800 / 60000 (21%)]\tTrain Loss : 0.061118\n",
      "Train Epoch:, 8, [19200 / 60000 (32%)]\tTrain Loss : 0.018322\n",
      "Train Epoch:, 8, [25600 / 60000 (43%)]\tTrain Loss : 0.112613\n",
      "Train Epoch:, 8, [32000 / 60000 (53%)]\tTrain Loss : 0.020184\n",
      "Train Epoch:, 8, [38400 / 60000 (64%)]\tTrain Loss : 0.138206\n",
      "Train Epoch:, 8, [44800 / 60000 (75%)]\tTrain Loss : 0.049932\n",
      "Train Epoch:, 8, [51200 / 60000 (85%)]\tTrain Loss : 0.070503\n",
      "Train Epoch:, 8, [57600 / 60000 (96%)]\tTrain Loss : 0.068648\n",
      "\n",
      "[EPOCH: 8, \tTest Loss: 0.0030, \tTest Accuracy: 96.96 %\n",
      "\n",
      "Train Epoch:, 9, [0 / 60000 (0%)]\tTrain Loss : 0.013179\n",
      "Train Epoch:, 9, [6400 / 60000 (11%)]\tTrain Loss : 0.126680\n",
      "Train Epoch:, 9, [12800 / 60000 (21%)]\tTrain Loss : 0.033831\n",
      "Train Epoch:, 9, [19200 / 60000 (32%)]\tTrain Loss : 0.062703\n",
      "Train Epoch:, 9, [25600 / 60000 (43%)]\tTrain Loss : 0.067361\n",
      "Train Epoch:, 9, [32000 / 60000 (53%)]\tTrain Loss : 0.416350\n",
      "Train Epoch:, 9, [38400 / 60000 (64%)]\tTrain Loss : 0.012148\n",
      "Train Epoch:, 9, [44800 / 60000 (75%)]\tTrain Loss : 0.082869\n",
      "Train Epoch:, 9, [51200 / 60000 (85%)]\tTrain Loss : 0.073185\n",
      "Train Epoch:, 9, [57600 / 60000 (96%)]\tTrain Loss : 0.029924\n",
      "\n",
      "[EPOCH: 9, \tTest Loss: 0.0027, \tTest Accuracy: 97.22 %\n",
      "\n",
      "Train Epoch:, 10, [0 / 60000 (0%)]\tTrain Loss : 0.093264\n",
      "Train Epoch:, 10, [6400 / 60000 (11%)]\tTrain Loss : 0.017074\n",
      "Train Epoch:, 10, [12800 / 60000 (21%)]\tTrain Loss : 0.039578\n",
      "Train Epoch:, 10, [19200 / 60000 (32%)]\tTrain Loss : 0.048432\n",
      "Train Epoch:, 10, [25600 / 60000 (43%)]\tTrain Loss : 0.226215\n",
      "Train Epoch:, 10, [32000 / 60000 (53%)]\tTrain Loss : 0.013552\n",
      "Train Epoch:, 10, [38400 / 60000 (64%)]\tTrain Loss : 0.105362\n",
      "Train Epoch:, 10, [44800 / 60000 (75%)]\tTrain Loss : 0.058013\n",
      "Train Epoch:, 10, [51200 / 60000 (85%)]\tTrain Loss : 0.036896\n",
      "Train Epoch:, 10, [57600 / 60000 (96%)]\tTrain Loss : 0.052418\n",
      "\n",
      "[EPOCH: 10, \tTest Loss: 0.0026, \tTest Accuracy: 97.40 %\n",
      "\n"
     ]
    }
   ],
   "source": [
    "for Epoch in range(1, EPOCHS + 1 ):\n",
    "  train(model, train_loader, optimizer, log_interval=200)\n",
    "  test_loss, test_accuracy = evaluate(model, test_loader)\n",
    "  print('\\n[EPOCH: {}, \\tTest Loss: {:.4f}, \\tTest Accuracy: {:.2f} %\\n'.\n",
    "  format(Epoch, test_loss, test_accuracy))  "
   ]
  },
  {
   "cell_type": "code",
   "execution_count": null,
   "metadata": {},
   "outputs": [],
   "source": []
  }
 ],
 "metadata": {
  "kernelspec": {
   "display_name": "Python 3.10.5 ('pytorch')",
   "language": "python",
   "name": "python3"
  },
  "language_info": {
   "codemirror_mode": {
    "name": "ipython",
    "version": 3
   },
   "file_extension": ".py",
   "mimetype": "text/x-python",
   "name": "python",
   "nbconvert_exporter": "python",
   "pygments_lexer": "ipython3",
   "version": "3.10.5"
  },
  "orig_nbformat": 4,
  "vscode": {
   "interpreter": {
    "hash": "334544a737ead5017040ac753f52220319955d2381f512ab105ce194db781c37"
   }
  }
 },
 "nbformat": 4,
 "nbformat_minor": 2
}
