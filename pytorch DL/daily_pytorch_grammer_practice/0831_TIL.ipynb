{
 "cells": [
  {
   "cell_type": "code",
   "execution_count": 13,
   "metadata": {},
   "outputs": [],
   "source": [
    "import torch \n",
    "import numpy \n",
    "import matplotlib.pyplot as plt \n",
    "from torchvision import datasets, transforms\n",
    "import torch.nn as nn \n",
    "import torch.nn.functional as F \n"
   ]
  },
  {
   "cell_type": "code",
   "execution_count": 2,
   "metadata": {},
   "outputs": [
    {
     "name": "stdout",
     "output_type": "stream",
     "text": [
      "NVIDIA GeForce GTX 1650\n"
     ]
    }
   ],
   "source": [
    "if torch.cuda.is_available():\n",
    "    DEVICE = torch.device('cuda')\n",
    "else :\n",
    "    DEVICE = torch.device('cpu')\n",
    "print(torch.cuda.get_device_name())"
   ]
  },
  {
   "cell_type": "code",
   "execution_count": 3,
   "metadata": {},
   "outputs": [
    {
     "name": "stdout",
     "output_type": "stream",
     "text": [
      "pytorch_version 1.12.0 DEVICE cuda\n"
     ]
    }
   ],
   "source": [
    "print('pytorch_version', torch.__version__, 'DEVICE', DEVICE)"
   ]
  },
  {
   "cell_type": "code",
   "execution_count": 4,
   "metadata": {},
   "outputs": [],
   "source": [
    "BATCH_SIZE = 32\n",
    "EPOCHS = 10"
   ]
  },
  {
   "cell_type": "code",
   "execution_count": 6,
   "metadata": {},
   "outputs": [],
   "source": [
    "from random import shuffle\n",
    "\n",
    "\n",
    "train_dataset = datasets.MNIST(root='../../data/MNIST/',\n",
    "                               train=True,\n",
    "                               download=True,\n",
    "                               transform=transforms.ToTensor())\n",
    "\n",
    "test_dataset = datasets.MNIST(root='../../data/MNIST/',\n",
    "                              train=False,\n",
    "                              download=True,\n",
    "                              transform=transforms.ToTensor())\n",
    "\n",
    "train_loader = torch.utils.data.DataLoader(train_dataset,\n",
    "                                           shuffle=True,\n",
    "                                           batch_size=BATCH_SIZE)\n",
    "\n",
    "test_loader = torch.utils.data.DataLoader(test_dataset,\n",
    "                                          shuffle=False,\n",
    "                                          batch_size=BATCH_SIZE)\n",
    "                                          \n"
   ]
  },
  {
   "cell_type": "code",
   "execution_count": 7,
   "metadata": {},
   "outputs": [
    {
     "name": "stdout",
     "output_type": "stream",
     "text": [
      "X_train:  torch.Size([32, 1, 28, 28]) y_train:  torch.Size([32])\n",
      "X_train:  torch.FloatTensor y_train:  torch.LongTensor\n"
     ]
    }
   ],
   "source": [
    "for (X_train, y_train) in train_loader:\n",
    "    print('X_train: ', X_train.size(), 'y_train: ', y_train.size())\n",
    "    print('X_train: ', X_train.type(), 'y_train: ', y_train.type())\n",
    "    break"
   ]
  },
  {
   "cell_type": "code",
   "execution_count": 12,
   "metadata": {},
   "outputs": [
    {
     "data": {
      "image/png": "[encoded data removed]",
      "text/plain": [
       "<Figure size 720x72 with 10 Axes>"
      ]
     },
     "metadata": {
      "needs_background": "light"
     },
     "output_type": "display_data"
    }
   ],
   "source": [
    "pltsize= 1\n",
    "plt.figure(figsize=(10*pltsize, pltsize))\n",
    "\n",
    "for i in range(10):\n",
    "    plt.subplot(1, 10, i + 1)\n",
    "    plt.axis('off')\n",
    "    plt.imshow(X_train[i, :, :, :].numpy().reshape(28, 28), cmap='gray_r')\n",
    "    plt.title('Class: ' + str(y_train[i].item()))"
   ]
  },
  {
   "cell_type": "code",
   "execution_count": 77,
   "metadata": {},
   "outputs": [],
   "source": [
    "class Net(nn.Module):\n",
    "    def __init__(self):\n",
    "        super(Net, self).__init__()\n",
    "        self.fc1 = nn.Linear(28*28, 512)\n",
    "        self.fc2 = nn.Linear(512, 256)\n",
    "        self.fc3 = nn.Linear(256, 10)\n",
    "    \n",
    "    def forward(self, x):\n",
    "        x = x.view(-1, 28 * 28)\n",
    "        x = self.fc1(x)\n",
    "        x = F.relu(x)\n",
    "        x = self.fc2(x)\n",
    "        x = F.relu(x)\n",
    "        x = self.fc3(x)\n",
    "        x = F.log_softmax(x)\n",
    "        return x"
   ]
  },
  {
   "cell_type": "code",
   "execution_count": 120,
   "metadata": {},
   "outputs": [
    {
     "name": "stdout",
     "output_type": "stream",
     "text": [
      "Net(\n",
      "  (fc1): Linear(in_features=784, out_features=512, bias=True)\n",
      "  (fc2): Linear(in_features=512, out_features=256, bias=True)\n",
      "  (fc3): Linear(in_features=256, out_features=10, bias=True)\n",
      ")\n"
     ]
    }
   ],
   "source": [
    "model = Net().to(DEVICE)\n",
    "optimizer = torch.optim.SGD(model.parameters(), lr = 1e-2, momentum=0.5)\n",
    "criterion = nn.CrossEntropyLoss()\n",
    "print(model)"
   ]
  },
  {
   "cell_type": "code",
   "execution_count": 121,
   "metadata": {},
   "outputs": [],
   "source": [
    "def train(model, train_loader, optimizer, log_interval=100):\n",
    "    model.train()\n",
    "    for batch_idx, (image, label) in enumerate(train_loader):\n",
    "        image = image.to(DEVICE)\n",
    "        label = label.to(DEVICE)\n",
    "        optimizer.zero_grad()\n",
    "        output = model(image)\n",
    "        loss = criterion(output, label)\n",
    "        loss.backward()\n",
    "        optimizer.step()\n",
    "\n",
    "\n",
    "        # if batch_idx % log_interval == 0:\n",
    "        #     print(f'Train_EPOCH: {Epoch}, [{batch_idx*len(image)} / {len(train_loader.dataset)} ({(100. * batch_idx / len(train_loader)):.0f}%)]\\tTrain_Loss : {(loss.item()):.6f}')"
   ]
  },
  {
   "cell_type": "code",
   "execution_count": 122,
   "metadata": {},
   "outputs": [],
   "source": [
    "def evaluate(model, test_loader):\n",
    "    model.eval()\n",
    "    test_loss = 0\n",
    "    correct = 0\n",
    "    with torch.no_grad():\n",
    "        for image, label in test_loader:\n",
    "            image = image.to(DEVICE)\n",
    "            label = label.to(DEVICE)\n",
    "            output = model(image)\n",
    "            test_loss += criterion(output, label).item()\n",
    "            prediction = output.max(1, keepdim = True)[1]\n",
    "            correct += prediction.eq(label.view_as(prediction)).sum().item()\n",
    "        \n",
    "    test_loss /= len(test_loader)\n",
    "    test_accuracy = 100. * correct / len(test_loader.dataset)\n",
    "    return test_loss, test_accuracy\n"
   ]
  },
  {
   "cell_type": "code",
   "execution_count": 126,
   "metadata": {},
   "outputs": [
    {
     "name": "stderr",
     "output_type": "stream",
     "text": [
      "C:\\Users\\Admin\\AppData\\Local\\Temp\\ipykernel_26516\\2480806586.py:15: UserWarning: Implicit dimension choice for log_softmax has been deprecated. Change the call to include dim=X as an argument.\n",
      "  x = F.log_softmax(x)\n"
     ]
    },
    {
     "name": "stdout",
     "output_type": "stream",
     "text": [
      "\n",
      "[EPOCH: 1, \tTest_LOSS: 0.3055, \tTest_Accuracy: 91.27 %\n",
      "\n",
      "\n",
      "[EPOCH: 2, \tTest_LOSS: 0.2241, \tTest_Accuracy: 93.50 %\n",
      "\n",
      "\n",
      "[EPOCH: 3, \tTest_LOSS: 0.1861, \tTest_Accuracy: 94.58 %\n",
      "\n",
      "\n",
      "[EPOCH: 4, \tTest_LOSS: 0.1580, \tTest_Accuracy: 95.31 %\n",
      "\n",
      "\n",
      "[EPOCH: 5, \tTest_LOSS: 0.1309, \tTest_Accuracy: 96.16 %\n",
      "\n",
      "\n",
      "[EPOCH: 6, \tTest_LOSS: 0.1155, \tTest_Accuracy: 96.51 %\n",
      "\n",
      "\n",
      "[EPOCH: 7, \tTest_LOSS: 0.1077, \tTest_Accuracy: 96.57 %\n",
      "\n",
      "\n",
      "[EPOCH: 8, \tTest_LOSS: 0.0949, \tTest_Accuracy: 97.06 %\n",
      "\n",
      "\n",
      "[EPOCH: 9, \tTest_LOSS: 0.0879, \tTest_Accuracy: 97.32 %\n",
      "\n",
      "\n",
      "[EPOCH: 10, \tTest_LOSS: 0.0809, \tTest_Accuracy: 97.46 %\n",
      "\n",
      "\n",
      "[EPOCH: 11, \tTest_LOSS: 0.0764, \tTest_Accuracy: 97.57 %\n",
      "\n",
      "\n",
      "[EPOCH: 12, \tTest_LOSS: 0.0765, \tTest_Accuracy: 97.68 %\n",
      "\n",
      "\n",
      "[EPOCH: 13, \tTest_LOSS: 0.0698, \tTest_Accuracy: 97.73 %\n",
      "\n",
      "\n",
      "[EPOCH: 14, \tTest_LOSS: 0.0693, \tTest_Accuracy: 97.85 %\n",
      "\n",
      "\n",
      "[EPOCH: 15, \tTest_LOSS: 0.0670, \tTest_Accuracy: 97.82 %\n",
      "\n",
      "\n",
      "[EPOCH: 16, \tTest_LOSS: 0.0666, \tTest_Accuracy: 97.93 %\n",
      "\n",
      "\n",
      "[EPOCH: 17, \tTest_LOSS: 0.0697, \tTest_Accuracy: 97.69 %\n",
      "\n",
      "\n",
      "[EPOCH: 18, \tTest_LOSS: 0.0620, \tTest_Accuracy: 97.98 %\n",
      "\n",
      "\n",
      "[EPOCH: 19, \tTest_LOSS: 0.0633, \tTest_Accuracy: 98.01 %\n",
      "\n",
      "\n",
      "[EPOCH: 20, \tTest_LOSS: 0.0625, \tTest_Accuracy: 97.98 %\n",
      "\n",
      "\n",
      "[EPOCH: 21, \tTest_LOSS: 0.0607, \tTest_Accuracy: 98.07 %\n",
      "\n",
      "\n",
      "[EPOCH: 22, \tTest_LOSS: 0.0610, \tTest_Accuracy: 98.05 %\n",
      "\n",
      "\n",
      "[EPOCH: 23, \tTest_LOSS: 0.0609, \tTest_Accuracy: 98.03 %\n",
      "\n",
      "\n",
      "[EPOCH: 24, \tTest_LOSS: 0.0615, \tTest_Accuracy: 97.95 %\n",
      "\n",
      "\n",
      "[EPOCH: 25, \tTest_LOSS: 0.0622, \tTest_Accuracy: 98.01 %\n",
      "\n",
      "\n",
      "[EPOCH: 26, \tTest_LOSS: 0.0625, \tTest_Accuracy: 98.09 %\n",
      "\n",
      "\n",
      "[EPOCH: 27, \tTest_LOSS: 0.0617, \tTest_Accuracy: 98.16 %\n",
      "\n",
      "\n",
      "[EPOCH: 28, \tTest_LOSS: 0.0627, \tTest_Accuracy: 98.07 %\n",
      "\n",
      "\n",
      "[EPOCH: 29, \tTest_LOSS: 0.0620, \tTest_Accuracy: 98.07 %\n",
      "\n",
      "\n",
      "[EPOCH: 30, \tTest_LOSS: 0.0620, \tTest_Accuracy: 98.20 %\n",
      "\n",
      "최고성능:  98.20\n"
     ]
    }
   ],
   "source": [
    "EPOCHS = 30\n",
    "best_accuracy = 0\n",
    "for Epoch in range(1, EPOCHS + 1):\n",
    "    train(model, train_loader, optimizer, 100)\n",
    "    test_loss, test_accuracy = evaluate(model, test_loader)\n",
    "    print(f'\\n[EPOCH: {Epoch}, \\tTest_LOSS: {(test_loss):.4f}, \\tTest_Accuracy: {(test_accuracy):.2f} %\\n')\n",
    "\n",
    "    if test_accuracy > best_accuracy:\n",
    "        best_accuracy  = test_accuracy\n",
    "        best_model = model\n",
    "\n",
    "print('최고성능: ', f'{(best_accuracy):.2f}')"
   ]
  },
  {
   "cell_type": "code",
   "execution_count": 128,
   "metadata": {},
   "outputs": [
    {
     "data": {
      "text/plain": [
       "OrderedDict([('fc1.weight',\n",
       "              tensor([[ 0.0090, -0.0199, -0.0341,  ...,  0.0279, -0.0219,  0.0080],\n",
       "                      [ 0.0112, -0.0132,  0.0138,  ..., -0.0200, -0.0149, -0.0194],\n",
       "                      [-0.0200,  0.0142,  0.0053,  ...,  0.0140,  0.0019,  0.0294],\n",
       "                      ...,\n",
       "                      [ 0.0276,  0.0231, -0.0105,  ..., -0.0200,  0.0175,  0.0052],\n",
       "                      [ 0.0226, -0.0116,  0.0239,  ...,  0.0140, -0.0340,  0.0145],\n",
       "                      [-0.0044, -0.0178, -0.0173,  ..., -0.0209, -0.0246,  0.0335]],\n",
       "                     device='cuda:0')),\n",
       "             ('fc1.bias',\n",
       "              tensor([-1.9652e-02, -3.4465e-02,  3.6073e-02, -5.7925e-02,  1.8408e-02,\n",
       "                       5.5491e-02, -2.6466e-02, -2.7307e-02, -2.7411e-02,  1.5681e-02,\n",
       "                       7.5617e-02,  4.1002e-03,  1.6976e-02,  7.7890e-02,  3.7559e-02,\n",
       "                      -5.3283e-03,  4.8634e-02,  7.4346e-03, -1.5548e-02,  2.4479e-02,\n",
       "                       1.0976e-01,  9.8562e-03,  2.7648e-03, -1.7044e-02,  1.9280e-02,\n",
       "                       2.1249e-02, -1.1368e-02,  2.3947e-02, -1.9810e-02, -2.7877e-02,\n",
       "                       6.7050e-02, -1.1915e-02,  1.0256e-01,  2.1249e-02,  4.5091e-02,\n",
       "                       6.7850e-03, -3.6595e-02, -2.3030e-02,  6.3674e-02,  5.5484e-02,\n",
       "                       1.0741e-03, -2.2490e-02,  2.9218e-02, -7.7404e-02,  1.3601e-03,\n",
       "                       7.3943e-02, -2.5512e-02, -2.0002e-02, -9.3479e-04, -1.3964e-02,\n",
       "                      -2.7675e-03,  1.2385e-02, -5.9353e-02, -3.5395e-02,  1.4626e-02,\n",
       "                       1.0870e-02,  3.5644e-02,  4.8490e-03, -1.2137e-02,  3.0170e-02,\n",
       "                      -7.9285e-03,  5.8016e-02,  2.2957e-02,  5.4033e-02,  1.5729e-02,\n",
       "                       9.1653e-03,  4.5823e-02,  3.2392e-02,  5.3390e-02,  9.4594e-03,\n",
       "                       3.7532e-02, -2.8172e-02, -8.8481e-03, -1.3715e-02, -9.4853e-03,\n",
       "                       4.7889e-02,  4.4306e-02, -2.2300e-02,  4.2106e-02, -5.3412e-02,\n",
       "                       5.6813e-03,  1.9024e-02, -2.9467e-03,  5.7545e-02,  5.4803e-02,\n",
       "                       3.2871e-02,  5.9590e-03,  3.1994e-02,  5.3561e-02,  3.6799e-03,\n",
       "                      -1.2065e-01,  2.3422e-02, -5.5328e-02, -4.0083e-02, -2.9075e-03,\n",
       "                       7.9436e-02,  1.2638e-02,  1.0083e-02,  2.9216e-02,  4.2506e-02,\n",
       "                      -1.0903e-02,  3.3982e-02, -1.5026e-02,  3.8265e-02, -6.6055e-03,\n",
       "                      -3.7651e-02,  7.5571e-02, -3.2199e-02,  3.7406e-02, -2.5473e-02,\n",
       "                       5.9236e-03, -4.3978e-02,  3.4828e-02, -1.4481e-02,  2.5448e-03,\n",
       "                      -1.1079e-01,  6.1954e-02, -1.8464e-02,  2.4883e-02, -9.0047e-02,\n",
       "                       3.0343e-02,  3.9315e-02, -4.0935e-03, -1.2219e-02, -8.4464e-03,\n",
       "                       1.5201e-02, -2.5618e-02,  9.7516e-02,  3.8780e-02,  5.1806e-02,\n",
       "                       2.7763e-03,  1.6483e-02,  4.5710e-03, -3.4911e-04, -5.9433e-03,\n",
       "                       3.3182e-02,  1.0796e-02,  2.6090e-02,  1.7927e-02, -1.9920e-02,\n",
       "                      -2.8438e-02, -3.6427e-02, -4.2557e-03,  8.1995e-03,  1.0757e-02,\n",
       "                       7.8153e-02, -2.7244e-02,  7.7437e-02, -9.6699e-05,  4.5118e-03,\n",
       "                       1.8053e-02,  4.9878e-02, -3.5913e-03, -2.3962e-02,  6.7590e-02,\n",
       "                       3.0066e-02, -1.4730e-02,  2.7488e-02,  1.3411e-03,  8.2622e-04,\n",
       "                       4.2502e-02, -2.2336e-02, -4.7412e-02,  3.6905e-02, -5.2520e-03,\n",
       "                       4.5328e-02, -7.0211e-02,  8.2277e-02,  2.8666e-02,  1.7968e-02,\n",
       "                       5.1144e-02,  3.0297e-02,  6.2366e-02, -5.5581e-02,  4.2471e-02,\n",
       "                      -3.0914e-02,  1.5383e-02, -2.6003e-02,  2.1387e-02,  6.0642e-02,\n",
       "                      -5.0119e-02, -1.9684e-02, -4.3643e-02,  1.8332e-02,  1.3049e-02,\n",
       "                      -9.2445e-03,  2.2216e-02, -3.9837e-02,  3.8512e-02,  3.9417e-02,\n",
       "                       1.2746e-02, -5.8839e-02,  4.8888e-02,  1.7575e-02, -7.2305e-02,\n",
       "                       1.8158e-02, -8.1743e-02, -2.2472e-03, -3.3504e-02, -9.7700e-02,\n",
       "                       1.2194e-02,  1.0867e-01, -8.9821e-03,  4.2331e-02,  4.0745e-02,\n",
       "                       6.7738e-02,  4.7720e-02, -9.8942e-03,  2.7663e-02,  3.6749e-02,\n",
       "                       4.0487e-02,  6.1430e-02,  2.2368e-02, -7.5413e-02,  2.2286e-02,\n",
       "                       5.3087e-02, -4.5824e-02, -9.4427e-03, -1.8322e-02,  1.0899e-01,\n",
       "                       4.0745e-02,  5.4436e-02, -3.5004e-02,  3.3550e-02, -8.4998e-03,\n",
       "                       6.1126e-03,  6.6928e-02,  3.1181e-02, -6.5664e-02,  3.1473e-03,\n",
       "                      -1.7841e-02,  4.9010e-02, -4.3022e-02, -1.1456e-02,  4.0092e-02,\n",
       "                      -1.8018e-02,  1.3161e-02,  1.3401e-02, -1.1358e-03,  8.5772e-03,\n",
       "                       2.3060e-02, -2.6737e-02,  5.7535e-02,  1.0966e-02,  2.5712e-02,\n",
       "                       6.4365e-02,  3.8329e-02,  5.7285e-02,  2.5130e-02,  8.4447e-02,\n",
       "                       1.4176e-02,  4.4362e-02,  2.3908e-03, -5.2513e-02,  5.6543e-02,\n",
       "                      -5.9348e-02,  1.0079e-01,  2.8723e-02, -1.4868e-02,  5.9467e-02,\n",
       "                      -2.7405e-02,  8.0216e-02,  5.0566e-03,  3.5446e-02, -2.7051e-03,\n",
       "                       3.8397e-03,  2.5187e-02, -1.8810e-02, -1.7335e-02,  3.2306e-04,\n",
       "                      -2.1599e-02,  1.8664e-02,  8.5690e-04,  3.1920e-02,  9.2832e-03,\n",
       "                       2.2702e-02,  5.6120e-02,  2.0996e-02,  3.9141e-02, -8.2236e-02,\n",
       "                      -1.0355e-02, -1.0968e-02,  3.4473e-03, -2.3877e-02, -4.1257e-03,\n",
       "                       2.6494e-02,  2.2333e-02,  5.5326e-02, -2.1963e-02,  1.4192e-02,\n",
       "                      -3.9301e-02,  2.9143e-02,  2.9773e-02,  8.9332e-03, -3.1728e-02,\n",
       "                       1.3286e-02, -3.6093e-02,  2.0267e-02,  8.5052e-03,  6.3433e-03,\n",
       "                       5.8004e-03,  5.8767e-02,  5.3516e-02, -1.1379e-02,  1.7116e-02,\n",
       "                      -8.5934e-03,  6.6014e-02,  6.3309e-02, -1.3187e-02, -5.9673e-02,\n",
       "                       5.8397e-03,  4.5468e-02, -6.8796e-02, -2.7313e-02,  1.4045e-02,\n",
       "                       1.3724e-02,  8.7470e-02, -1.3329e-02, -4.8326e-02,  5.1643e-02,\n",
       "                      -7.2589e-02,  4.5259e-02, -3.3951e-02, -1.6906e-02,  5.0422e-02,\n",
       "                       4.4070e-03,  2.3989e-02,  8.9311e-03,  1.2001e-02,  8.4379e-02,\n",
       "                       2.1984e-02,  4.9176e-02,  1.0425e-02, -4.5182e-02, -2.9840e-02,\n",
       "                       1.2446e-03, -1.0335e-02,  8.3957e-04,  7.8348e-03,  5.8646e-03,\n",
       "                       4.5762e-02,  1.1267e-01, -6.8522e-03,  3.4031e-02,  8.7842e-03,\n",
       "                      -3.2731e-02,  9.6269e-03,  2.3790e-02,  1.4022e-02, -6.1229e-02,\n",
       "                       6.2543e-03, -1.4541e-02,  1.6100e-02,  5.0446e-02,  1.9600e-02,\n",
       "                      -5.5330e-02, -2.9113e-02, -6.6572e-02,  3.1913e-02,  6.8767e-02,\n",
       "                      -1.5766e-03,  4.4181e-03,  1.0027e-03,  9.3427e-02,  2.3461e-02,\n",
       "                      -4.1939e-02, -2.2458e-02,  2.4004e-02,  2.6541e-02, -1.4455e-02,\n",
       "                       2.5822e-02, -5.8899e-03, -9.2237e-03,  3.4887e-03,  2.4141e-02,\n",
       "                       2.5390e-02,  6.5449e-02,  2.8373e-02, -7.2923e-04,  5.2533e-02,\n",
       "                       5.6753e-02,  4.2484e-02,  4.2872e-03,  1.4313e-02, -5.2583e-02,\n",
       "                       3.3754e-02,  6.6231e-02,  8.3196e-03,  5.2724e-02, -3.0085e-02,\n",
       "                      -4.2467e-02, -3.0765e-02,  5.5238e-02,  5.9228e-02,  6.0666e-02,\n",
       "                       1.7279e-02, -1.1896e-02, -2.6694e-02,  9.2292e-03, -2.8499e-02,\n",
       "                      -5.1450e-02,  1.6840e-02,  2.8124e-02, -4.9998e-03, -4.2174e-02,\n",
       "                      -5.3510e-02, -2.1054e-02, -6.1547e-03, -3.7661e-02,  5.5220e-02,\n",
       "                       2.0820e-02,  4.3938e-02, -1.7837e-02, -3.9900e-02, -2.1764e-02,\n",
       "                       9.9332e-03,  9.2698e-03, -3.5884e-02,  2.2379e-02,  4.2898e-02,\n",
       "                       5.2753e-02, -1.0766e-01, -3.4928e-02,  5.2967e-02, -2.2885e-02,\n",
       "                       3.6422e-02,  5.4793e-02, -3.7996e-03, -2.1315e-02, -5.6252e-02,\n",
       "                       2.8603e-02, -5.9526e-03,  8.4224e-02,  2.6599e-02,  6.8941e-03,\n",
       "                      -2.0703e-02,  1.5251e-02,  2.0169e-03, -1.8745e-02, -6.3758e-02,\n",
       "                      -3.3740e-02, -6.7585e-02, -3.0335e-02,  2.1638e-02, -7.0370e-02,\n",
       "                       4.7460e-02,  3.7604e-02,  3.0724e-02, -1.3493e-02, -4.9517e-02,\n",
       "                      -2.3804e-02, -1.5293e-02, -3.9539e-02,  6.3048e-02,  5.2933e-02,\n",
       "                      -2.4823e-02,  2.2473e-02,  5.4105e-02, -3.7835e-06, -6.4026e-03,\n",
       "                       5.3286e-03,  1.7510e-02, -1.1609e-02, -2.5234e-03,  3.7659e-02,\n",
       "                      -1.8788e-02, -2.4616e-02,  2.7653e-02,  2.7420e-02,  8.6805e-03,\n",
       "                      -2.5051e-02,  6.1136e-02, -6.0492e-03,  5.0589e-02,  5.1966e-02,\n",
       "                      -1.8362e-02, -2.1424e-02,  1.6510e-02, -1.3289e-02,  5.8732e-02,\n",
       "                      -5.6074e-03, -3.2172e-02,  5.3782e-02, -2.4903e-02, -1.1455e-02,\n",
       "                      -2.0006e-02, -2.0525e-02,  1.8595e-02,  3.1223e-02,  3.2654e-03,\n",
       "                      -1.8443e-03, -5.5345e-03,  8.4800e-02,  2.3046e-02,  3.5930e-02,\n",
       "                      -1.1812e-02, -6.3984e-04,  3.6738e-02,  3.9165e-03,  4.3215e-02,\n",
       "                      -1.4845e-02,  3.1746e-02,  1.8196e-02,  7.3240e-02,  3.1170e-02,\n",
       "                      -8.2912e-03,  7.1767e-02,  2.3385e-02,  1.1266e-02, -4.2656e-02,\n",
       "                       8.1526e-02,  3.9171e-02], device='cuda:0')),\n",
       "             ('fc2.weight',\n",
       "              tensor([[-0.0104,  0.0135, -0.0364,  ...,  0.0166, -0.0328,  0.0398],\n",
       "                      [-0.0114, -0.0256,  0.0254,  ..., -0.0038,  0.0104, -0.0328],\n",
       "                      [-0.0440, -0.0463, -0.0005,  ...,  0.0451,  0.0152,  0.0062],\n",
       "                      ...,\n",
       "                      [ 0.0237,  0.0218,  0.0251,  ...,  0.0119,  0.0199, -0.0355],\n",
       "                      [ 0.0399, -0.0128, -0.0447,  ...,  0.0343, -0.0264,  0.0414],\n",
       "                      [-0.0318, -0.0404,  0.0378,  ..., -0.0172,  0.0692,  0.0434]],\n",
       "                     device='cuda:0')),\n",
       "             ('fc2.bias',\n",
       "              tensor([-1.4530e-02, -2.8947e-03, -1.8583e-02,  1.4942e-02, -9.9011e-03,\n",
       "                      -2.1768e-02,  5.0949e-02, -1.7597e-02,  5.0326e-02, -2.7544e-02,\n",
       "                       1.4420e-02,  5.7586e-02,  8.3186e-03,  2.2949e-02,  2.8622e-02,\n",
       "                       9.1568e-02,  4.9259e-02,  7.8197e-02,  8.6735e-03,  6.7564e-02,\n",
       "                       7.6299e-03, -3.0325e-02, -3.3162e-02,  4.7517e-02,  6.4638e-02,\n",
       "                       3.4641e-02, -2.8823e-03, -1.3072e-02,  2.0853e-02,  2.2153e-02,\n",
       "                       5.4770e-02,  2.4964e-02,  6.4093e-02,  5.6465e-03,  4.1327e-02,\n",
       "                       4.0483e-02,  2.1141e-02, -3.8410e-03,  1.0707e-02, -1.2684e-02,\n",
       "                       7.1249e-02,  4.9514e-04,  2.0857e-02, -1.8650e-02,  5.5977e-02,\n",
       "                      -9.8527e-03, -1.6694e-02, -4.4911e-02, -8.9648e-03, -5.6132e-02,\n",
       "                       6.3607e-02, -9.0222e-03,  5.4280e-02,  3.7368e-02, -6.8555e-03,\n",
       "                       2.1132e-02, -1.7729e-03,  7.5560e-02,  8.5637e-02, -2.4568e-02,\n",
       "                       2.3012e-02, -4.4125e-02,  5.0986e-02,  7.7899e-03, -3.1160e-02,\n",
       "                       8.9473e-02,  2.1283e-02, -3.3739e-02,  5.7099e-02, -9.2054e-03,\n",
       "                      -2.4080e-03,  5.6665e-02,  1.1470e-01,  3.7217e-02,  2.0472e-02,\n",
       "                       2.7459e-02,  5.5921e-03,  2.2016e-02, -4.3042e-02,  4.1199e-02,\n",
       "                       5.5066e-02,  4.0211e-02,  5.4618e-02,  8.9722e-03,  3.9653e-02,\n",
       "                       5.0136e-02,  1.7540e-02,  2.0427e-02,  4.9224e-02,  3.4213e-02,\n",
       "                       5.0126e-02,  2.3497e-02,  5.4987e-02,  4.4800e-02, -1.1194e-02,\n",
       "                       1.6176e-02,  4.1593e-02, -2.4440e-02,  6.2841e-02,  6.8154e-02,\n",
       "                      -4.9266e-03,  5.1004e-02,  4.6799e-02,  4.3955e-02,  7.7151e-02,\n",
       "                       3.1174e-02,  9.6705e-03, -2.0903e-02,  7.5115e-02,  6.9535e-02,\n",
       "                       6.2658e-02,  6.5548e-02, -4.1120e-02,  3.8133e-02,  6.8229e-02,\n",
       "                      -1.2631e-02,  2.8850e-02,  4.3556e-02,  1.9818e-02, -6.3552e-02,\n",
       "                       2.6065e-02, -4.6509e-03, -8.1433e-03,  2.0709e-03, -3.2560e-02,\n",
       "                      -1.1037e-03,  6.1495e-02,  4.0598e-02,  5.6188e-02,  8.2343e-02,\n",
       "                       2.0116e-02,  4.7719e-02, -1.4979e-02,  1.1150e-02,  2.2373e-02,\n",
       "                      -4.1137e-02,  2.7516e-02,  3.7824e-02,  3.2836e-02, -2.9681e-02,\n",
       "                       3.9112e-02, -5.2259e-02,  1.6151e-02,  5.6844e-03, -2.7346e-02,\n",
       "                      -2.1997e-02,  2.5155e-02,  1.0128e-02,  3.3006e-02,  4.8325e-03,\n",
       "                      -9.5718e-03, -2.7652e-02,  8.5238e-02, -5.2347e-04,  9.8932e-02,\n",
       "                       2.2353e-02,  1.0888e-01, -2.7917e-02, -1.3300e-03, -1.9088e-03,\n",
       "                      -2.6942e-02, -5.1258e-02,  3.9879e-02, -2.5580e-02, -2.5441e-02,\n",
       "                      -1.9823e-02,  5.0352e-02,  8.6524e-03,  6.1595e-03, -3.8364e-02,\n",
       "                       5.6932e-02,  3.6084e-03, -8.9487e-03,  5.2463e-02, -3.4014e-02,\n",
       "                       1.2117e-03, -8.9420e-03,  1.3165e-02,  1.0265e-01,  2.4070e-02,\n",
       "                       5.0151e-02,  5.8911e-02,  1.8693e-02,  6.0939e-02,  5.8440e-03,\n",
       "                       4.8454e-02,  9.5304e-02,  7.0161e-02, -3.1297e-03,  2.8276e-02,\n",
       "                       7.1471e-02,  2.9917e-05, -2.6586e-02,  2.9038e-02, -3.4272e-03,\n",
       "                       3.5676e-02,  1.2119e-01, -1.0563e-02, -1.9876e-02, -1.0279e-02,\n",
       "                       5.0127e-02,  3.6519e-03,  6.0272e-02, -1.9790e-03, -2.2513e-02,\n",
       "                       4.8900e-02, -2.0860e-02,  6.4461e-02, -1.0110e-02,  1.4959e-02,\n",
       "                       6.6489e-02,  5.6369e-02, -3.1055e-02, -3.6926e-02, -2.4446e-02,\n",
       "                       9.4963e-03,  4.0297e-02,  1.9777e-02, -2.8995e-02,  8.3007e-02,\n",
       "                       6.9206e-02,  6.1219e-02, -7.3833e-03,  3.0798e-02,  3.6846e-02,\n",
       "                       7.1390e-02,  1.2464e-02,  5.5170e-02, -9.2192e-04,  5.2073e-02,\n",
       "                       9.1244e-02,  3.8365e-02, -3.9568e-02,  2.4858e-02,  1.9823e-02,\n",
       "                       9.8526e-02,  3.2590e-02,  1.7672e-02,  6.6667e-02,  2.0932e-02,\n",
       "                      -2.7859e-02,  4.1326e-02,  1.6569e-02,  2.7923e-02,  1.0821e-02,\n",
       "                       7.1985e-02, -3.0510e-02,  3.5735e-02,  5.8728e-02,  4.2042e-02,\n",
       "                       8.1167e-03,  9.0462e-02,  6.6889e-02, -4.3872e-02, -4.4651e-02,\n",
       "                       3.5350e-02], device='cuda:0')),\n",
       "             ('fc3.weight',\n",
       "              tensor([[ 0.0220, -0.0856,  0.1529,  ...,  0.0706, -0.0224, -0.1600],\n",
       "                      [ 0.0402,  0.0365,  0.0241,  ...,  0.0889, -0.0288,  0.2327],\n",
       "                      [ 0.0060, -0.0735,  0.0018,  ...,  0.0566, -0.0309, -0.1189],\n",
       "                      ...,\n",
       "                      [-0.0127,  0.0630, -0.1793,  ...,  0.0073, -0.0093,  0.3213],\n",
       "                      [ 0.0512,  0.0651, -0.0190,  ..., -0.1399, -0.0170,  0.1160],\n",
       "                      [-0.0171, -0.0289,  0.0397,  ..., -0.2184,  0.0571,  0.1795]],\n",
       "                     device='cuda:0')),\n",
       "             ('fc3.bias',\n",
       "              tensor([-0.1164,  0.1984,  0.0288, -0.0833,  0.0448,  0.0916,  0.0061,  0.0349,\n",
       "                      -0.1011, -0.0258], device='cuda:0'))])"
      ]
     },
     "execution_count": 128,
     "metadata": {},
     "output_type": "execute_result"
    }
   ],
   "source": [
    "best_model.state_dict()"
   ]
  },
  {
   "cell_type": "code",
   "execution_count": 119,
   "metadata": {},
   "outputs": [],
   "source": [
    "del model"
   ]
  },
  {
   "cell_type": "code",
   "execution_count": null,
   "metadata": {},
   "outputs": [],
   "source": []
  },
  {
   "cell_type": "code",
   "execution_count": null,
   "metadata": {},
   "outputs": [],
   "source": []
  }
 ],
 "metadata": {
  "kernelspec": {
   "display_name": "Python 3.10.5 ('pytorch')",
   "language": "python",
   "name": "python3"
  },
  "language_info": {
   "codemirror_mode": {
    "name": "ipython",
    "version": 3
   },
   "file_extension": ".py",
   "mimetype": "text/x-python",
   "name": "python",
   "nbconvert_exporter": "python",
   "pygments_lexer": "ipython3",
   "version": "3.10.5"
  },
  "orig_nbformat": 4,
  "vscode": {
   "interpreter": {
    "hash": "334544a737ead5017040ac753f52220319955d2381f512ab105ce194db781c37"
   }
  }
 },
 "nbformat": 4,
 "nbformat_minor": 2
}
