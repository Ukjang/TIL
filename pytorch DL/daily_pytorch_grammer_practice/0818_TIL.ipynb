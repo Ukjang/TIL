{
 "cells": [
  {
   "cell_type": "code",
   "execution_count": 1,
   "metadata": {},
   "outputs": [],
   "source": [
    "import torch\n",
    "import numpy as np\n",
    "from matplotlib import pyplot as plt\n",
    "import torch.nn as nn \n",
    "import torch.nn.functional as F \n",
    "from torchvision import datasets, transforms"
   ]
  },
  {
   "cell_type": "code",
   "execution_count": 3,
   "metadata": {},
   "outputs": [
    {
     "name": "stdout",
     "output_type": "stream",
     "text": [
      "NVIDIA GeForce GTX 1650\n"
     ]
    }
   ],
   "source": [
    "if torch.cuda.is_available():\n",
    "  DEVICE = torch.device('cuda')\n",
    "else :\n",
    "  DEVICE = torch.device('cpu')\n",
    "print(torch.cuda.get_device_name())\n"
   ]
  },
  {
   "cell_type": "code",
   "execution_count": 4,
   "metadata": {},
   "outputs": [
    {
     "name": "stdout",
     "output_type": "stream",
     "text": [
      "1.12.0 cuda\n"
     ]
    }
   ],
   "source": [
    "print(torch.__version__, DEVICE)"
   ]
  },
  {
   "cell_type": "code",
   "execution_count": 5,
   "metadata": {},
   "outputs": [],
   "source": [
    "BATCH_SIZE = 32\n",
    "EPOCHS = 10"
   ]
  },
  {
   "cell_type": "code",
   "execution_count": 8,
   "metadata": {},
   "outputs": [],
   "source": [
    "from random import shuffle\n",
    "\n",
    "\n",
    "train_dataset = datasets.MNIST(root='../data/MNIST/',\n",
    "                               train=True,\n",
    "                               download=True,\n",
    "                               transform=transforms.ToTensor())\n",
    "test_dataset = datasets.MNIST(root='../data/MNIST/',\n",
    "                               train=False,\n",
    "                               download=True,\n",
    "                               transform=transforms.ToTensor())  \n",
    "train_loader = torch.utils.data.DataLoader(dataset=train_dataset,\n",
    "                                           batch_size=BATCH_SIZE,\n",
    "                                           shuffle=True,\n",
    "                                           )\n",
    "test_loader = torch.utils.data.DataLoader(dataset=test_dataset,\n",
    "                                          batch_size=BATCH_SIZE,\n",
    "                                          shuffle=False)\n"
   ]
  },
  {
   "cell_type": "code",
   "execution_count": 15,
   "metadata": {},
   "outputs": [
    {
     "name": "stdout",
     "output_type": "stream",
     "text": [
      "X_train torch.Size([32, 1, 28, 28]) \t y_train torch.Size([32])\n",
      "X_train torch.FloatTensor \t y_train torch.LongTensor\n"
     ]
    }
   ],
   "source": [
    "for (X_train, y_train) in train_loader:\n",
    "  print('X_train', X_train.size(),'\\t', 'y_train', y_train.size())\n",
    "  print('X_train', X_train.type(),'\\t', 'y_train', y_train.type())\n",
    "  break"
   ]
  },
  {
   "cell_type": "code",
   "execution_count": 19,
   "metadata": {},
   "outputs": [
    {
     "data": {
      "image/png": "[encoded data removed]",
      "text/plain": [
       "<Figure size 720x72 with 10 Axes>"
      ]
     },
     "metadata": {
      "needs_background": "light"
     },
     "output_type": "display_data"
    }
   ],
   "source": [
    "pltsize=1\n",
    "plt.figure(figsize=(10*pltsize, pltsize))\n",
    "for i in range(10):\n",
    "  plt.subplot(1, 10, i + 1)\n",
    "  plt.axis('off')\n",
    "  plt.imshow(X_train[i, :, :, :].numpy().reshape(28,28), cmap='gray_r')\n",
    "  plt.title(f'Class : {y_train[i]}')\n"
   ]
  },
  {
   "cell_type": "code",
   "execution_count": 20,
   "metadata": {},
   "outputs": [
    {
     "data": {
      "text/plain": [
       "10"
      ]
     },
     "execution_count": 20,
     "metadata": {},
     "output_type": "execute_result"
    }
   ],
   "source": [
    "len(y_train.unique())"
   ]
  },
  {
   "cell_type": "code",
   "execution_count": 21,
   "metadata": {},
   "outputs": [],
   "source": [
    "class Net(nn.Module):\n",
    "  def __init__(self):\n",
    "    super(Net, self).__init__()\n",
    "    self.fc1 = nn.Linear(28*28, 512)\n",
    "    self.fc2 = nn.Linear(512, 256)\n",
    "    self.fc3 = nn.Linear(256, 10)\n",
    "\n",
    "  def forward(self, x):\n",
    "    x = x.view(-1, 28*28)\n",
    "    x = self.fc1(x)\n",
    "    x = F.relu(x)\n",
    "    x = self.fc2(x)\n",
    "    x = F.relu(x)\n",
    "    x = self.fc3(x)\n",
    "    x = F.log_softmax(x)\n",
    "    return x"
   ]
  },
  {
   "cell_type": "code",
   "execution_count": 36,
   "metadata": {},
   "outputs": [
    {
     "name": "stdout",
     "output_type": "stream",
     "text": [
      "Net(\n",
      "  (fc1): Linear(in_features=784, out_features=512, bias=True)\n",
      "  (fc2): Linear(in_features=512, out_features=256, bias=True)\n",
      "  (fc3): Linear(in_features=256, out_features=10, bias=True)\n",
      ")\n"
     ]
    }
   ],
   "source": [
    "model = Net().to(DEVICE)\n",
    "optimizer = torch.optim.SGD(model.parameters(), lr=0.01, momentum=0.5)\n",
    "criterion = torch.nn.CrossEntropyLoss()\n",
    "print(model)"
   ]
  },
  {
   "cell_type": "code",
   "execution_count": 37,
   "metadata": {},
   "outputs": [],
   "source": [
    "def train(model, train_loader, optimizer, log_interval):\n",
    "  model.train()\n",
    "  for batch_idx, (image, label) in enumerate(train_loader):\n",
    "    image = image.to(DEVICE)\n",
    "    label = label.to(DEVICE)\n",
    "    output = model(image)\n",
    "    optimizer.zero_grad()\n",
    "    loss = criterion(output, label)\n",
    "    loss.backward()\n",
    "    optimizer.step()\n",
    "\n",
    "\n",
    "    if batch_idx % log_interval == 0 :\n",
    "      print(f'Train Epoch: {Epoch} [{batch_idx * len(image)} / {len(train_loader.dataset)} ({(100 * batch_idx / len(train_loader)):.0f}%)]\\tTrain Loss : {(loss.item()):.6f}')"
   ]
  },
  {
   "cell_type": "code",
   "execution_count": 38,
   "metadata": {},
   "outputs": [],
   "source": [
    "def evaluate(model, test_loader):\n",
    "  model.eval()\n",
    "  test_loss = 0\n",
    "  correct = 0\n",
    "  with torch.no_grad():\n",
    "    for image, label in test_loader:\n",
    "      image = image.to(DEVICE)\n",
    "      label = label.to(DEVICE)\n",
    "      output= model(image)\n",
    "      test_loss += criterion(output, label).item()\n",
    "      prediction= output.max(1, keepdim = True)[1]\n",
    "      correct += prediction.eq(label.view_as(prediction)).sum().item()\n",
    "\n",
    "  test_loss /= len(test_loader)\n",
    "  test_accuracy = 100. * correct / len(test_loader.dataset)\n",
    "  return test_loss, test_accuracy"
   ]
  },
  {
   "cell_type": "code",
   "execution_count": 39,
   "metadata": {},
   "outputs": [
    {
     "name": "stderr",
     "output_type": "stream",
     "text": [
      "C:\\Users\\Admin\\AppData\\Local\\Temp\\ipykernel_1612\\2221159829.py:15: UserWarning: Implicit dimension choice for log_softmax has been deprecated. Change the call to include dim=X as an argument.\n",
      "  x = F.log_softmax(x)\n"
     ]
    },
    {
     "name": "stdout",
     "output_type": "stream",
     "text": [
      "Train Epoch: 1 [0 / 60000 (0%)]\tTrain Loss : 2.311049\n",
      "Train Epoch: 1 [3200 / 60000 (5%)]\tTrain Loss : 2.196152\n",
      "Train Epoch: 1 [6400 / 60000 (11%)]\tTrain Loss : 1.904656\n",
      "Train Epoch: 1 [9600 / 60000 (16%)]\tTrain Loss : 1.119170\n",
      "Train Epoch: 1 [12800 / 60000 (21%)]\tTrain Loss : 0.799297\n",
      "Train Epoch: 1 [16000 / 60000 (27%)]\tTrain Loss : 0.706106\n",
      "Train Epoch: 1 [19200 / 60000 (32%)]\tTrain Loss : 0.512342\n",
      "Train Epoch: 1 [22400 / 60000 (37%)]\tTrain Loss : 0.409914\n",
      "Train Epoch: 1 [25600 / 60000 (43%)]\tTrain Loss : 0.467900\n",
      "Train Epoch: 1 [28800 / 60000 (48%)]\tTrain Loss : 0.350379\n",
      "Train Epoch: 1 [32000 / 60000 (53%)]\tTrain Loss : 0.720766\n",
      "Train Epoch: 1 [35200 / 60000 (59%)]\tTrain Loss : 0.378847\n",
      "Train Epoch: 1 [38400 / 60000 (64%)]\tTrain Loss : 0.699214\n",
      "Train Epoch: 1 [41600 / 60000 (69%)]\tTrain Loss : 0.265269\n",
      "Train Epoch: 1 [44800 / 60000 (75%)]\tTrain Loss : 0.266976\n",
      "Train Epoch: 1 [48000 / 60000 (80%)]\tTrain Loss : 0.260370\n",
      "Train Epoch: 1 [51200 / 60000 (85%)]\tTrain Loss : 0.358389\n",
      "Train Epoch: 1 [54400 / 60000 (91%)]\tTrain Loss : 0.278353\n",
      "Train Epoch: 1 [57600 / 60000 (96%)]\tTrain Loss : 0.562742\n",
      "\n",
      "[EPOCH: 1, \tTest Loss: 0.3133, \tTest Accuracy: 90.87%\n",
      "Train Epoch: 2 [0 / 60000 (0%)]\tTrain Loss : 0.530075\n",
      "Train Epoch: 2 [3200 / 60000 (5%)]\tTrain Loss : 0.389524\n",
      "Train Epoch: 2 [6400 / 60000 (11%)]\tTrain Loss : 0.319947\n",
      "Train Epoch: 2 [9600 / 60000 (16%)]\tTrain Loss : 0.201856\n",
      "Train Epoch: 2 [12800 / 60000 (21%)]\tTrain Loss : 0.401637\n",
      "Train Epoch: 2 [16000 / 60000 (27%)]\tTrain Loss : 0.550685\n",
      "Train Epoch: 2 [19200 / 60000 (32%)]\tTrain Loss : 0.141065\n",
      "Train Epoch: 2 [22400 / 60000 (37%)]\tTrain Loss : 0.604477\n",
      "Train Epoch: 2 [25600 / 60000 (43%)]\tTrain Loss : 0.767762\n",
      "Train Epoch: 2 [28800 / 60000 (48%)]\tTrain Loss : 0.107558\n",
      "Train Epoch: 2 [32000 / 60000 (53%)]\tTrain Loss : 0.138886\n",
      "Train Epoch: 2 [35200 / 60000 (59%)]\tTrain Loss : 0.182957\n",
      "Train Epoch: 2 [38400 / 60000 (64%)]\tTrain Loss : 0.207392\n",
      "Train Epoch: 2 [41600 / 60000 (69%)]\tTrain Loss : 0.210207\n",
      "Train Epoch: 2 [44800 / 60000 (75%)]\tTrain Loss : 0.243782\n",
      "Train Epoch: 2 [48000 / 60000 (80%)]\tTrain Loss : 0.094106\n",
      "Train Epoch: 2 [51200 / 60000 (85%)]\tTrain Loss : 0.190348\n",
      "Train Epoch: 2 [54400 / 60000 (91%)]\tTrain Loss : 0.236148\n",
      "Train Epoch: 2 [57600 / 60000 (96%)]\tTrain Loss : 0.127382\n",
      "\n",
      "[EPOCH: 2, \tTest Loss: 0.2428, \tTest Accuracy: 93.03%\n",
      "Train Epoch: 3 [0 / 60000 (0%)]\tTrain Loss : 0.301063\n",
      "Train Epoch: 3 [3200 / 60000 (5%)]\tTrain Loss : 0.415229\n",
      "Train Epoch: 3 [6400 / 60000 (11%)]\tTrain Loss : 0.284013\n",
      "Train Epoch: 3 [9600 / 60000 (16%)]\tTrain Loss : 0.203042\n",
      "Train Epoch: 3 [12800 / 60000 (21%)]\tTrain Loss : 0.204818\n",
      "Train Epoch: 3 [16000 / 60000 (27%)]\tTrain Loss : 0.268180\n",
      "Train Epoch: 3 [19200 / 60000 (32%)]\tTrain Loss : 0.177925\n",
      "Train Epoch: 3 [22400 / 60000 (37%)]\tTrain Loss : 0.331907\n",
      "Train Epoch: 3 [25600 / 60000 (43%)]\tTrain Loss : 0.211495\n",
      "Train Epoch: 3 [28800 / 60000 (48%)]\tTrain Loss : 0.151381\n",
      "Train Epoch: 3 [32000 / 60000 (53%)]\tTrain Loss : 0.090194\n",
      "Train Epoch: 3 [35200 / 60000 (59%)]\tTrain Loss : 0.379726\n",
      "Train Epoch: 3 [38400 / 60000 (64%)]\tTrain Loss : 0.423478\n",
      "Train Epoch: 3 [41600 / 60000 (69%)]\tTrain Loss : 0.531231\n",
      "Train Epoch: 3 [44800 / 60000 (75%)]\tTrain Loss : 0.056375\n",
      "Train Epoch: 3 [48000 / 60000 (80%)]\tTrain Loss : 0.297561\n",
      "Train Epoch: 3 [51200 / 60000 (85%)]\tTrain Loss : 0.089568\n",
      "Train Epoch: 3 [54400 / 60000 (91%)]\tTrain Loss : 0.211007\n",
      "Train Epoch: 3 [57600 / 60000 (96%)]\tTrain Loss : 0.201113\n",
      "\n",
      "[EPOCH: 3, \tTest Loss: 0.1845, \tTest Accuracy: 94.72%\n",
      "Train Epoch: 4 [0 / 60000 (0%)]\tTrain Loss : 0.234101\n",
      "Train Epoch: 4 [3200 / 60000 (5%)]\tTrain Loss : 0.080275\n",
      "Train Epoch: 4 [6400 / 60000 (11%)]\tTrain Loss : 0.144133\n",
      "Train Epoch: 4 [9600 / 60000 (16%)]\tTrain Loss : 0.102497\n",
      "Train Epoch: 4 [12800 / 60000 (21%)]\tTrain Loss : 0.029297\n",
      "Train Epoch: 4 [16000 / 60000 (27%)]\tTrain Loss : 0.107631\n",
      "Train Epoch: 4 [19200 / 60000 (32%)]\tTrain Loss : 0.093249\n",
      "Train Epoch: 4 [22400 / 60000 (37%)]\tTrain Loss : 0.134590\n",
      "Train Epoch: 4 [25600 / 60000 (43%)]\tTrain Loss : 0.060437\n",
      "Train Epoch: 4 [28800 / 60000 (48%)]\tTrain Loss : 0.123711\n",
      "Train Epoch: 4 [32000 / 60000 (53%)]\tTrain Loss : 0.070402\n",
      "Train Epoch: 4 [35200 / 60000 (59%)]\tTrain Loss : 0.082907\n",
      "Train Epoch: 4 [38400 / 60000 (64%)]\tTrain Loss : 0.250476\n",
      "Train Epoch: 4 [41600 / 60000 (69%)]\tTrain Loss : 0.223947\n",
      "Train Epoch: 4 [44800 / 60000 (75%)]\tTrain Loss : 0.188080\n",
      "Train Epoch: 4 [48000 / 60000 (80%)]\tTrain Loss : 0.197535\n",
      "Train Epoch: 4 [51200 / 60000 (85%)]\tTrain Loss : 0.129802\n",
      "Train Epoch: 4 [54400 / 60000 (91%)]\tTrain Loss : 0.173953\n",
      "Train Epoch: 4 [57600 / 60000 (96%)]\tTrain Loss : 0.263061\n",
      "\n",
      "[EPOCH: 4, \tTest Loss: 0.1528, \tTest Accuracy: 95.41%\n",
      "Train Epoch: 5 [0 / 60000 (0%)]\tTrain Loss : 0.046432\n",
      "Train Epoch: 5 [3200 / 60000 (5%)]\tTrain Loss : 0.123677\n",
      "Train Epoch: 5 [6400 / 60000 (11%)]\tTrain Loss : 0.075168\n",
      "Train Epoch: 5 [9600 / 60000 (16%)]\tTrain Loss : 0.109145\n",
      "Train Epoch: 5 [12800 / 60000 (21%)]\tTrain Loss : 0.106158\n",
      "Train Epoch: 5 [16000 / 60000 (27%)]\tTrain Loss : 0.119259\n",
      "Train Epoch: 5 [19200 / 60000 (32%)]\tTrain Loss : 0.257025\n",
      "Train Epoch: 5 [22400 / 60000 (37%)]\tTrain Loss : 0.167423\n",
      "Train Epoch: 5 [25600 / 60000 (43%)]\tTrain Loss : 0.239566\n",
      "Train Epoch: 5 [28800 / 60000 (48%)]\tTrain Loss : 0.087923\n",
      "Train Epoch: 5 [32000 / 60000 (53%)]\tTrain Loss : 0.056146\n",
      "Train Epoch: 5 [35200 / 60000 (59%)]\tTrain Loss : 0.311478\n",
      "Train Epoch: 5 [38400 / 60000 (64%)]\tTrain Loss : 0.265571\n",
      "Train Epoch: 5 [41600 / 60000 (69%)]\tTrain Loss : 0.118380\n",
      "Train Epoch: 5 [44800 / 60000 (75%)]\tTrain Loss : 0.115947\n",
      "Train Epoch: 5 [48000 / 60000 (80%)]\tTrain Loss : 0.170008\n",
      "Train Epoch: 5 [51200 / 60000 (85%)]\tTrain Loss : 0.068320\n",
      "Train Epoch: 5 [54400 / 60000 (91%)]\tTrain Loss : 0.107872\n",
      "Train Epoch: 5 [57600 / 60000 (96%)]\tTrain Loss : 0.198328\n",
      "\n",
      "[EPOCH: 5, \tTest Loss: 0.1285, \tTest Accuracy: 96.20%\n",
      "Train Epoch: 6 [0 / 60000 (0%)]\tTrain Loss : 0.061160\n",
      "Train Epoch: 6 [3200 / 60000 (5%)]\tTrain Loss : 0.118919\n",
      "Train Epoch: 6 [6400 / 60000 (11%)]\tTrain Loss : 0.423798\n",
      "Train Epoch: 6 [9600 / 60000 (16%)]\tTrain Loss : 0.041223\n",
      "Train Epoch: 6 [12800 / 60000 (21%)]\tTrain Loss : 0.016971\n",
      "Train Epoch: 6 [16000 / 60000 (27%)]\tTrain Loss : 0.349252\n",
      "Train Epoch: 6 [19200 / 60000 (32%)]\tTrain Loss : 0.129053\n",
      "Train Epoch: 6 [22400 / 60000 (37%)]\tTrain Loss : 0.110496\n",
      "Train Epoch: 6 [25600 / 60000 (43%)]\tTrain Loss : 0.120425\n",
      "Train Epoch: 6 [28800 / 60000 (48%)]\tTrain Loss : 0.069707\n",
      "Train Epoch: 6 [32000 / 60000 (53%)]\tTrain Loss : 0.164618\n",
      "Train Epoch: 6 [35200 / 60000 (59%)]\tTrain Loss : 0.056458\n",
      "Train Epoch: 6 [38400 / 60000 (64%)]\tTrain Loss : 0.129552\n",
      "Train Epoch: 6 [41600 / 60000 (69%)]\tTrain Loss : 0.208506\n",
      "Train Epoch: 6 [44800 / 60000 (75%)]\tTrain Loss : 0.142764\n",
      "Train Epoch: 6 [48000 / 60000 (80%)]\tTrain Loss : 0.080556\n",
      "Train Epoch: 6 [51200 / 60000 (85%)]\tTrain Loss : 0.152325\n",
      "Train Epoch: 6 [54400 / 60000 (91%)]\tTrain Loss : 0.074876\n",
      "Train Epoch: 6 [57600 / 60000 (96%)]\tTrain Loss : 0.157509\n",
      "\n",
      "[EPOCH: 6, \tTest Loss: 0.1116, \tTest Accuracy: 96.56%\n",
      "Train Epoch: 7 [0 / 60000 (0%)]\tTrain Loss : 0.098606\n",
      "Train Epoch: 7 [3200 / 60000 (5%)]\tTrain Loss : 0.074681\n",
      "Train Epoch: 7 [6400 / 60000 (11%)]\tTrain Loss : 0.019541\n",
      "Train Epoch: 7 [9600 / 60000 (16%)]\tTrain Loss : 0.216777\n",
      "Train Epoch: 7 [12800 / 60000 (21%)]\tTrain Loss : 0.140934\n",
      "Train Epoch: 7 [16000 / 60000 (27%)]\tTrain Loss : 0.021632\n",
      "Train Epoch: 7 [19200 / 60000 (32%)]\tTrain Loss : 0.025405\n",
      "Train Epoch: 7 [22400 / 60000 (37%)]\tTrain Loss : 0.025835\n",
      "Train Epoch: 7 [25600 / 60000 (43%)]\tTrain Loss : 0.460768\n",
      "Train Epoch: 7 [28800 / 60000 (48%)]\tTrain Loss : 0.136585\n",
      "Train Epoch: 7 [32000 / 60000 (53%)]\tTrain Loss : 0.231566\n",
      "Train Epoch: 7 [35200 / 60000 (59%)]\tTrain Loss : 0.100234\n",
      "Train Epoch: 7 [38400 / 60000 (64%)]\tTrain Loss : 0.145163\n",
      "Train Epoch: 7 [41600 / 60000 (69%)]\tTrain Loss : 0.056453\n",
      "Train Epoch: 7 [44800 / 60000 (75%)]\tTrain Loss : 0.023681\n",
      "Train Epoch: 7 [48000 / 60000 (80%)]\tTrain Loss : 0.010380\n",
      "Train Epoch: 7 [51200 / 60000 (85%)]\tTrain Loss : 0.028505\n",
      "Train Epoch: 7 [54400 / 60000 (91%)]\tTrain Loss : 0.053755\n",
      "Train Epoch: 7 [57600 / 60000 (96%)]\tTrain Loss : 0.017487\n",
      "\n",
      "[EPOCH: 7, \tTest Loss: 0.1017, \tTest Accuracy: 96.87%\n",
      "Train Epoch: 8 [0 / 60000 (0%)]\tTrain Loss : 0.096417\n",
      "Train Epoch: 8 [3200 / 60000 (5%)]\tTrain Loss : 0.088337\n",
      "Train Epoch: 8 [6400 / 60000 (11%)]\tTrain Loss : 0.065799\n",
      "Train Epoch: 8 [9600 / 60000 (16%)]\tTrain Loss : 0.025314\n",
      "Train Epoch: 8 [12800 / 60000 (21%)]\tTrain Loss : 0.172342\n",
      "Train Epoch: 8 [16000 / 60000 (27%)]\tTrain Loss : 0.049567\n",
      "Train Epoch: 8 [19200 / 60000 (32%)]\tTrain Loss : 0.015135\n",
      "Train Epoch: 8 [22400 / 60000 (37%)]\tTrain Loss : 0.062930\n",
      "Train Epoch: 8 [25600 / 60000 (43%)]\tTrain Loss : 0.028151\n",
      "Train Epoch: 8 [28800 / 60000 (48%)]\tTrain Loss : 0.071526\n",
      "Train Epoch: 8 [32000 / 60000 (53%)]\tTrain Loss : 0.116233\n",
      "Train Epoch: 8 [35200 / 60000 (59%)]\tTrain Loss : 0.063382\n",
      "Train Epoch: 8 [38400 / 60000 (64%)]\tTrain Loss : 0.062141\n",
      "Train Epoch: 8 [41600 / 60000 (69%)]\tTrain Loss : 0.167353\n",
      "Train Epoch: 8 [44800 / 60000 (75%)]\tTrain Loss : 0.049768\n",
      "Train Epoch: 8 [48000 / 60000 (80%)]\tTrain Loss : 0.166024\n",
      "Train Epoch: 8 [51200 / 60000 (85%)]\tTrain Loss : 0.008466\n",
      "Train Epoch: 8 [54400 / 60000 (91%)]\tTrain Loss : 0.193458\n",
      "Train Epoch: 8 [57600 / 60000 (96%)]\tTrain Loss : 0.166817\n",
      "\n",
      "[EPOCH: 8, \tTest Loss: 0.0922, \tTest Accuracy: 97.23%\n",
      "Train Epoch: 9 [0 / 60000 (0%)]\tTrain Loss : 0.058249\n",
      "Train Epoch: 9 [3200 / 60000 (5%)]\tTrain Loss : 0.203807\n",
      "Train Epoch: 9 [6400 / 60000 (11%)]\tTrain Loss : 0.096198\n",
      "Train Epoch: 9 [9600 / 60000 (16%)]\tTrain Loss : 0.134248\n",
      "Train Epoch: 9 [12800 / 60000 (21%)]\tTrain Loss : 0.045568\n",
      "Train Epoch: 9 [16000 / 60000 (27%)]\tTrain Loss : 0.021880\n",
      "Train Epoch: 9 [19200 / 60000 (32%)]\tTrain Loss : 0.014783\n",
      "Train Epoch: 9 [22400 / 60000 (37%)]\tTrain Loss : 0.090869\n",
      "Train Epoch: 9 [25600 / 60000 (43%)]\tTrain Loss : 0.081238\n",
      "Train Epoch: 9 [28800 / 60000 (48%)]\tTrain Loss : 0.057688\n",
      "Train Epoch: 9 [32000 / 60000 (53%)]\tTrain Loss : 0.092806\n",
      "Train Epoch: 9 [35200 / 60000 (59%)]\tTrain Loss : 0.222541\n",
      "Train Epoch: 9 [38400 / 60000 (64%)]\tTrain Loss : 0.029312\n",
      "Train Epoch: 9 [41600 / 60000 (69%)]\tTrain Loss : 0.048029\n",
      "Train Epoch: 9 [44800 / 60000 (75%)]\tTrain Loss : 0.107228\n",
      "Train Epoch: 9 [48000 / 60000 (80%)]\tTrain Loss : 0.030090\n",
      "Train Epoch: 9 [51200 / 60000 (85%)]\tTrain Loss : 0.012643\n",
      "Train Epoch: 9 [54400 / 60000 (91%)]\tTrain Loss : 0.030821\n",
      "Train Epoch: 9 [57600 / 60000 (96%)]\tTrain Loss : 0.073494\n",
      "\n",
      "[EPOCH: 9, \tTest Loss: 0.0848, \tTest Accuracy: 97.44%\n",
      "Train Epoch: 10 [0 / 60000 (0%)]\tTrain Loss : 0.046411\n",
      "Train Epoch: 10 [3200 / 60000 (5%)]\tTrain Loss : 0.130986\n",
      "Train Epoch: 10 [6400 / 60000 (11%)]\tTrain Loss : 0.109810\n",
      "Train Epoch: 10 [9600 / 60000 (16%)]\tTrain Loss : 0.081339\n",
      "Train Epoch: 10 [12800 / 60000 (21%)]\tTrain Loss : 0.013929\n",
      "Train Epoch: 10 [16000 / 60000 (27%)]\tTrain Loss : 0.156915\n",
      "Train Epoch: 10 [19200 / 60000 (32%)]\tTrain Loss : 0.231354\n",
      "Train Epoch: 10 [22400 / 60000 (37%)]\tTrain Loss : 0.110082\n",
      "Train Epoch: 10 [25600 / 60000 (43%)]\tTrain Loss : 0.170483\n",
      "Train Epoch: 10 [28800 / 60000 (48%)]\tTrain Loss : 0.093977\n",
      "Train Epoch: 10 [32000 / 60000 (53%)]\tTrain Loss : 0.013670\n",
      "Train Epoch: 10 [35200 / 60000 (59%)]\tTrain Loss : 0.025357\n",
      "Train Epoch: 10 [38400 / 60000 (64%)]\tTrain Loss : 0.159923\n",
      "Train Epoch: 10 [41600 / 60000 (69%)]\tTrain Loss : 0.079642\n",
      "Train Epoch: 10 [44800 / 60000 (75%)]\tTrain Loss : 0.008731\n",
      "Train Epoch: 10 [48000 / 60000 (80%)]\tTrain Loss : 0.064748\n",
      "Train Epoch: 10 [51200 / 60000 (85%)]\tTrain Loss : 0.236276\n",
      "Train Epoch: 10 [54400 / 60000 (91%)]\tTrain Loss : 0.110584\n",
      "Train Epoch: 10 [57600 / 60000 (96%)]\tTrain Loss : 0.038168\n",
      "\n",
      "[EPOCH: 10, \tTest Loss: 0.0854, \tTest Accuracy: 97.26%\n"
     ]
    }
   ],
   "source": [
    "for Epoch in range(1, EPOCHS + 1):\n",
    "  train(model, train_loader, optimizer, log_interval=100)\n",
    "  test_loss, test_accuracy = evaluate(model, test_loader)\n",
    "  print(f'\\n[EPOCH: {Epoch}, \\tTest Loss: {(test_loss):.4f}, \\tTest Accuracy: {(test_accuracy):.2f}%')"
   ]
  },
  {
   "cell_type": "code",
   "execution_count": 11,
   "metadata": {},
   "outputs": [
    {
     "data": {
      "text/plain": [
       "2338450703568"
      ]
     },
     "execution_count": 11,
     "metadata": {},
     "output_type": "execute_result"
    }
   ],
   "source": [
    "id(BATCH_SIZE)"
   ]
  },
  {
   "cell_type": "code",
   "execution_count": 28,
   "metadata": {},
   "outputs": [
    {
     "data": {
      "text/plain": [
       "(313, 10000)"
      ]
     },
     "execution_count": 28,
     "metadata": {},
     "output_type": "execute_result"
    }
   ],
   "source": [
    "len(test_loader), len(test_loader.dataset)"
   ]
  }
 ],
 "metadata": {
  "kernelspec": {
   "display_name": "Python 3.10.5 ('pytorch')",
   "language": "python",
   "name": "python3"
  },
  "language_info": {
   "codemirror_mode": {
    "name": "ipython",
    "version": 3
   },
   "file_extension": ".py",
   "mimetype": "text/x-python",
   "name": "python",
   "nbconvert_exporter": "python",
   "pygments_lexer": "ipython3",
   "version": "3.10.5"
  },
  "orig_nbformat": 4,
  "vscode": {
   "interpreter": {
    "hash": "334544a737ead5017040ac753f52220319955d2381f512ab105ce194db781c37"
   }
  }
 },
 "nbformat": 4,
 "nbformat_minor": 2
}
