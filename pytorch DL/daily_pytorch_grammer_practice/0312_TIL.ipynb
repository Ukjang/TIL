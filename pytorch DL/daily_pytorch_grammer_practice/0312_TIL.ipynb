{
 "cells": [
  {
   "cell_type": "code",
   "execution_count": 1,
   "metadata": {},
   "outputs": [],
   "source": [
    "import torch \n",
    "import pandas as pd \n",
    "import numpy as np\n",
    "import torch.nn as nn\n",
    "import torch.nn.functional as F \n",
    "from torchvision import datasets, transforms \n",
    "import matplotlib.pyplot as plt "
   ]
  },
  {
   "cell_type": "code",
   "execution_count": 2,
   "metadata": {},
   "outputs": [
    {
     "name": "stdout",
     "output_type": "stream",
     "text": [
      "cuda \t torch :  1.12.0\n"
     ]
    }
   ],
   "source": [
    "if torch.cuda.is_available() :\n",
    "    DEVICE = torch.device('cuda')\n",
    "else :\n",
    "    DEVICE = torch.device('cpu')\n",
    "\n",
    "print(DEVICE, '\\t', 'torch : ', torch.__version__)"
   ]
  },
  {
   "cell_type": "code",
   "execution_count": 3,
   "metadata": {},
   "outputs": [],
   "source": [
    "BATCH_SIZE = 128\n",
    "EPOCHS = 100"
   ]
  },
  {
   "cell_type": "code",
   "execution_count": 4,
   "metadata": {},
   "outputs": [],
   "source": [
    "train_dataset = datasets.MNIST(root='../../data/MNIST',\n",
    "                                download=True,\n",
    "                                train = True,\n",
    "                                transform = transforms.ToTensor())\n",
    "test_dataset = datasets.MNIST(root='../../data/MNIST',\n",
    "                                download=True,\n",
    "                                train = False,\n",
    "                                transform = transforms.ToTensor())\n",
    "train_loader = torch.utils.data.DataLoader(train_dataset,\n",
    "                                           shuffle=True,\n",
    "                                           batch_size = BATCH_SIZE)\n",
    "test_loader = torch.utils.data.DataLoader(test_dataset,\n",
    "                                           shuffle=False,\n",
    "                                           batch_size = BATCH_SIZE)"
   ]
  },
  {
   "cell_type": "code",
   "execution_count": 5,
   "metadata": {},
   "outputs": [
    {
     "name": "stdout",
     "output_type": "stream",
     "text": [
      "torch.Size([128, 1, 28, 28]) torch.Size([128])\n",
      "torch.FloatTensor torch.LongTensor\n"
     ]
    }
   ],
   "source": [
    "for (X_train, y_train) in train_loader : \n",
    "    print(X_train.size(), y_train.size())\n",
    "    print(X_train.type(), y_train.type())\n",
    "    break"
   ]
  },
  {
   "cell_type": "code",
   "execution_count": 6,
   "metadata": {},
   "outputs": [
    {
     "data": {
      "image/png": "[encoded data removed]",
      "text/plain": [
       "<Figure size 720x72 with 10 Axes>"
      ]
     },
     "metadata": {
      "needs_background": "light"
     },
     "output_type": "display_data"
    }
   ],
   "source": [
    "pltsize = 1\n",
    "plt.figure(figsize = (pltsize * 10, pltsize))\n",
    "\n",
    "for i in range(10) :\n",
    "    plt.subplot(1, 10, i + 1)\n",
    "    plt.axis('off')\n",
    "    plt.imshow(X_train[i, :, :, :].numpy().reshape(28, 28), cmap = 'gray_r')\n",
    "    plt.title('Class :' + str(y_train[i].item()))\n",
    "plt.show()"
   ]
  },
  {
   "cell_type": "code",
   "execution_count": 24,
   "metadata": {},
   "outputs": [],
   "source": [
    "class Net(nn.Module) :\n",
    "    def __init__(self) :\n",
    "        super(Net, self).__init__()\n",
    "        self.fc1 = nn.Linear(28 * 28, 128)\n",
    "        self.fc2 = nn.GRU(input_size = 128, hidden_size = 256, dropout = 0.25)\n",
    "        self.fc3 = nn.Linear(256, 10)\n",
    "\n",
    "    def forward(self, x) :\n",
    "        x = x.reshape(-1, 28 * 28)\n",
    "        x = self.fc1(x)\n",
    "        x = F.relu(x)\n",
    "        x, _ = self.fc2(x)\n",
    "        x = F.relu(x)\n",
    "        x = self.fc3(x)\n",
    "        x = F.log_softmax(x, dim=1)\n",
    "        return x"
   ]
  },
  {
   "cell_type": "code",
   "execution_count": 25,
   "metadata": {},
   "outputs": [],
   "source": [
    "del model"
   ]
  },
  {
   "cell_type": "code",
   "execution_count": 26,
   "metadata": {},
   "outputs": [
    {
     "name": "stdout",
     "output_type": "stream",
     "text": [
      "Net(\n",
      "  (fc1): Linear(in_features=784, out_features=128, bias=True)\n",
      "  (fc2): GRU(128, 256, dropout=0.25)\n",
      "  (fc3): Linear(in_features=256, out_features=10, bias=True)\n",
      ")\n"
     ]
    }
   ],
   "source": [
    "model = Net().to(DEVICE)\n",
    "optimizer = torch.optim.Adam(model.parameters(), lr=0.01)\n",
    "criterion = nn.CrossEntropyLoss()\n",
    "print(model)"
   ]
  },
  {
   "cell_type": "code",
   "execution_count": 27,
   "metadata": {},
   "outputs": [],
   "source": [
    "def train(model, train_loader, optimizer, log_intervals = 100) :\n",
    "    model.train()\n",
    "    for batch_idx, (image, label) in enumerate(train_loader) :\n",
    "        image = image.to(DEVICE) \n",
    "        label = label.to(DEVICE)\n",
    "        output = model(image)\n",
    "        optimizer.zero_grad()\n",
    "        loss = criterion(output, label)\n",
    "        loss.backward()\n",
    "        optimizer.step()\n",
    "\n",
    "        if batch_idx % log_intervals == 0 :\n",
    "            print('Train_Epoch : {}, [{} / {}]({:.0f}%)\\tTrain_Loss : {:.6f}'.format(\n",
    "                Epoch, batch_idx * len(image), len(train_loader.dataset),\n",
    "                batch_idx * 100 / len(train_loader), loss.item()\n",
    "            ))"
   ]
  },
  {
   "cell_type": "code",
   "execution_count": 28,
   "metadata": {},
   "outputs": [],
   "source": [
    "def evaluate(model, test_loader) :\n",
    "    model.eval()\n",
    "    correct = 0\n",
    "    test_loss = 0\n",
    "    with torch.no_grad() :\n",
    "        for image, label in test_loader :\n",
    "            image = image.to(DEVICE)\n",
    "            label = label.to(DEVICE)\n",
    "            output = model(image)\n",
    "            test_loss = criterion(output, label)\n",
    "            # max의 결과값으로 값, 인덱스가 나오므로 첫번쨰 값 사용\n",
    "            # max안의 1은 어떤 방향의 값을 찾을지 설정\n",
    "            prediction = output.max(1, keepdim = True)[1]\n",
    "            # pred.eq(data)는 pred배열과 data가 일치하느냐를 검사\n",
    "            # view_as 이용해서 shape 맞춰준듯\n",
    "            correct += prediction.eq(label.view_as(prediction)).sum().item()\n",
    "        test_loss = test_loss / len(test_loader) \n",
    "        test_accuracy = correct * 100 / len(test_loader.dataset)\n",
    "        return test_loss, test_accuracy"
   ]
  },
  {
   "cell_type": "code",
   "execution_count": 29,
   "metadata": {},
   "outputs": [
    {
     "name": "stdout",
     "output_type": "stream",
     "text": [
      "Train_Epoch : 1, [0 / 60000](0%)\tTrain_Loss : 2.300160\n",
      "Train_Epoch : 1, [12800 / 60000](21%)\tTrain_Loss : 0.257016\n",
      "Train_Epoch : 1, [25600 / 60000](43%)\tTrain_Loss : 0.139574\n",
      "Train_Epoch : 1, [38400 / 60000](64%)\tTrain_Loss : 0.187186\n",
      "Train_Epoch : 1, [51200 / 60000](85%)\tTrain_Loss : 0.206257\n",
      "\n",
      "EPOCH : 1, Test_loss : 0.0023 \t Test_accuracy : 95.25%\n",
      "\n",
      "Train_Epoch : 2, [0 / 60000](0%)\tTrain_Loss : 0.204459\n",
      "Train_Epoch : 2, [12800 / 60000](21%)\tTrain_Loss : 0.192504\n",
      "Train_Epoch : 2, [25600 / 60000](43%)\tTrain_Loss : 0.132610\n",
      "Train_Epoch : 2, [38400 / 60000](64%)\tTrain_Loss : 0.187996\n",
      "Train_Epoch : 2, [51200 / 60000](85%)\tTrain_Loss : 0.116145\n",
      "\n",
      "EPOCH : 2, Test_loss : 0.0002 \t Test_accuracy : 95.72%\n",
      "\n",
      "Train_Epoch : 3, [0 / 60000](0%)\tTrain_Loss : 0.075934\n",
      "Train_Epoch : 3, [12800 / 60000](21%)\tTrain_Loss : 0.038309\n",
      "Train_Epoch : 3, [25600 / 60000](43%)\tTrain_Loss : 0.154245\n"
     ]
    },
    {
     "ename": "KeyboardInterrupt",
     "evalue": "",
     "output_type": "error",
     "traceback": [
      "\u001b[1;31m---------------------------------------------------------------------------\u001b[0m",
      "\u001b[1;31mKeyboardInterrupt\u001b[0m                         Traceback (most recent call last)",
      "\u001b[1;32mc:\\Users\\Admin\\TIL\\pytorch DL\\daily_pytorch_grammer_practice\\0312_TIL.ipynb 셀 12\u001b[0m in \u001b[0;36m<cell line: 3>\u001b[1;34m()\u001b[0m\n\u001b[0;32m      <a href='vscode-notebook-cell:/c%3A/Users/Admin/TIL/pytorch%20DL/daily_pytorch_grammer_practice/0312_TIL.ipynb#X13sZmlsZQ%3D%3D?line=1'>2</a>\u001b[0m es \u001b[39m=\u001b[39m \u001b[39m0\u001b[39m\n\u001b[0;32m      <a href='vscode-notebook-cell:/c%3A/Users/Admin/TIL/pytorch%20DL/daily_pytorch_grammer_practice/0312_TIL.ipynb#X13sZmlsZQ%3D%3D?line=2'>3</a>\u001b[0m \u001b[39mfor\u001b[39;00m Epoch \u001b[39min\u001b[39;00m \u001b[39mrange\u001b[39m(\u001b[39m1\u001b[39m, EPOCHS \u001b[39m+\u001b[39m \u001b[39m1\u001b[39m) :\n\u001b[1;32m----> <a href='vscode-notebook-cell:/c%3A/Users/Admin/TIL/pytorch%20DL/daily_pytorch_grammer_practice/0312_TIL.ipynb#X13sZmlsZQ%3D%3D?line=3'>4</a>\u001b[0m     train(model, train_loader, optimizer)\n\u001b[0;32m      <a href='vscode-notebook-cell:/c%3A/Users/Admin/TIL/pytorch%20DL/daily_pytorch_grammer_practice/0312_TIL.ipynb#X13sZmlsZQ%3D%3D?line=4'>5</a>\u001b[0m     test_loss, test_accuracy \u001b[39m=\u001b[39m evaluate(model, test_loader)\n\u001b[0;32m      <a href='vscode-notebook-cell:/c%3A/Users/Admin/TIL/pytorch%20DL/daily_pytorch_grammer_practice/0312_TIL.ipynb#X13sZmlsZQ%3D%3D?line=5'>6</a>\u001b[0m     \u001b[39mprint\u001b[39m(\u001b[39m'\u001b[39m\u001b[39m\\n\u001b[39;00m\u001b[39mEPOCH : \u001b[39m\u001b[39m{}\u001b[39;00m\u001b[39m, Test_loss : \u001b[39m\u001b[39m{:.4f}\u001b[39;00m\u001b[39m \u001b[39m\u001b[39m\\t\u001b[39;00m\u001b[39m Test_accuracy : \u001b[39m\u001b[39m{:.2f}\u001b[39;00m\u001b[39m%\u001b[39m\u001b[39m\\n\u001b[39;00m\u001b[39m'\u001b[39m\u001b[39m.\u001b[39mformat(\n\u001b[0;32m      <a href='vscode-notebook-cell:/c%3A/Users/Admin/TIL/pytorch%20DL/daily_pytorch_grammer_practice/0312_TIL.ipynb#X13sZmlsZQ%3D%3D?line=6'>7</a>\u001b[0m         Epoch, test_loss, test_accuracy\n\u001b[0;32m      <a href='vscode-notebook-cell:/c%3A/Users/Admin/TIL/pytorch%20DL/daily_pytorch_grammer_practice/0312_TIL.ipynb#X13sZmlsZQ%3D%3D?line=7'>8</a>\u001b[0m     ))\n",
      "\u001b[1;32mc:\\Users\\Admin\\TIL\\pytorch DL\\daily_pytorch_grammer_practice\\0312_TIL.ipynb 셀 12\u001b[0m in \u001b[0;36mtrain\u001b[1;34m(model, train_loader, optimizer, log_intervals)\u001b[0m\n\u001b[0;32m      <a href='vscode-notebook-cell:/c%3A/Users/Admin/TIL/pytorch%20DL/daily_pytorch_grammer_practice/0312_TIL.ipynb#X13sZmlsZQ%3D%3D?line=6'>7</a>\u001b[0m optimizer\u001b[39m.\u001b[39mzero_grad()\n\u001b[0;32m      <a href='vscode-notebook-cell:/c%3A/Users/Admin/TIL/pytorch%20DL/daily_pytorch_grammer_practice/0312_TIL.ipynb#X13sZmlsZQ%3D%3D?line=7'>8</a>\u001b[0m loss \u001b[39m=\u001b[39m criterion(output, label)\n\u001b[1;32m----> <a href='vscode-notebook-cell:/c%3A/Users/Admin/TIL/pytorch%20DL/daily_pytorch_grammer_practice/0312_TIL.ipynb#X13sZmlsZQ%3D%3D?line=8'>9</a>\u001b[0m loss\u001b[39m.\u001b[39;49mbackward()\n\u001b[0;32m     <a href='vscode-notebook-cell:/c%3A/Users/Admin/TIL/pytorch%20DL/daily_pytorch_grammer_practice/0312_TIL.ipynb#X13sZmlsZQ%3D%3D?line=9'>10</a>\u001b[0m optimizer\u001b[39m.\u001b[39mstep()\n\u001b[0;32m     <a href='vscode-notebook-cell:/c%3A/Users/Admin/TIL/pytorch%20DL/daily_pytorch_grammer_practice/0312_TIL.ipynb#X13sZmlsZQ%3D%3D?line=11'>12</a>\u001b[0m \u001b[39mif\u001b[39;00m batch_idx \u001b[39m%\u001b[39m log_intervals \u001b[39m==\u001b[39m \u001b[39m0\u001b[39m :\n",
      "File \u001b[1;32mc:\\Users\\Admin\\anaconda3\\envs\\pytorch\\lib\\site-packages\\torch\\_tensor.py:396\u001b[0m, in \u001b[0;36mTensor.backward\u001b[1;34m(self, gradient, retain_graph, create_graph, inputs)\u001b[0m\n\u001b[0;32m    387\u001b[0m \u001b[39mif\u001b[39;00m has_torch_function_unary(\u001b[39mself\u001b[39m):\n\u001b[0;32m    388\u001b[0m     \u001b[39mreturn\u001b[39;00m handle_torch_function(\n\u001b[0;32m    389\u001b[0m         Tensor\u001b[39m.\u001b[39mbackward,\n\u001b[0;32m    390\u001b[0m         (\u001b[39mself\u001b[39m,),\n\u001b[1;32m   (...)\u001b[0m\n\u001b[0;32m    394\u001b[0m         create_graph\u001b[39m=\u001b[39mcreate_graph,\n\u001b[0;32m    395\u001b[0m         inputs\u001b[39m=\u001b[39minputs)\n\u001b[1;32m--> 396\u001b[0m torch\u001b[39m.\u001b[39;49mautograd\u001b[39m.\u001b[39;49mbackward(\u001b[39mself\u001b[39;49m, gradient, retain_graph, create_graph, inputs\u001b[39m=\u001b[39;49minputs)\n",
      "File \u001b[1;32mc:\\Users\\Admin\\anaconda3\\envs\\pytorch\\lib\\site-packages\\torch\\autograd\\__init__.py:173\u001b[0m, in \u001b[0;36mbackward\u001b[1;34m(tensors, grad_tensors, retain_graph, create_graph, grad_variables, inputs)\u001b[0m\n\u001b[0;32m    168\u001b[0m     retain_graph \u001b[39m=\u001b[39m create_graph\n\u001b[0;32m    170\u001b[0m \u001b[39m# The reason we repeat same the comment below is that\u001b[39;00m\n\u001b[0;32m    171\u001b[0m \u001b[39m# some Python versions print out the first line of a multi-line function\u001b[39;00m\n\u001b[0;32m    172\u001b[0m \u001b[39m# calls in the traceback and some print out the last line\u001b[39;00m\n\u001b[1;32m--> 173\u001b[0m Variable\u001b[39m.\u001b[39;49m_execution_engine\u001b[39m.\u001b[39;49mrun_backward(  \u001b[39m# Calls into the C++ engine to run the backward pass\u001b[39;49;00m\n\u001b[0;32m    174\u001b[0m     tensors, grad_tensors_, retain_graph, create_graph, inputs,\n\u001b[0;32m    175\u001b[0m     allow_unreachable\u001b[39m=\u001b[39;49m\u001b[39mTrue\u001b[39;49;00m, accumulate_grad\u001b[39m=\u001b[39;49m\u001b[39mTrue\u001b[39;49;00m)\n",
      "\u001b[1;31mKeyboardInterrupt\u001b[0m: "
     ]
    }
   ],
   "source": [
    "best_accuracy = 0\n",
    "es = 0\n",
    "for Epoch in range(1, EPOCHS + 1) :\n",
    "    train(model, train_loader, optimizer)\n",
    "    test_loss, test_accuracy = evaluate(model, test_loader)\n",
    "    print('\\nEPOCH : {}, Test_loss : {:.4f} \\t Test_accuracy : {:.2f}%\\n'.format(\n",
    "        Epoch, test_loss, test_accuracy\n",
    "    ))\n",
    "\n",
    "    if test_accuracy > best_accuracy :\n",
    "        best_accuracy = test_accuracy\n",
    "        best_model = model\n",
    "        es = 0\n",
    "\n",
    "    else :\n",
    "        es += 1\n",
    "\n",
    "    if es >= 30 :\n",
    "        break"
   ]
  },
  {
   "cell_type": "code",
   "execution_count": null,
   "metadata": {},
   "outputs": [],
   "source": []
  }
 ],
 "metadata": {
  "kernelspec": {
   "display_name": "pytorch",
   "language": "python",
   "name": "python3"
  },
  "language_info": {
   "codemirror_mode": {
    "name": "ipython",
    "version": 3
   },
   "file_extension": ".py",
   "mimetype": "text/x-python",
   "name": "python",
   "nbconvert_exporter": "python",
   "pygments_lexer": "ipython3",
   "version": "3.10.5"
  },
  "orig_nbformat": 4
 },
 "nbformat": 4,
 "nbformat_minor": 2
}
