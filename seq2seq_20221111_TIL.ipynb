{
  "nbformat": 4,
  "nbformat_minor": 0,
  "metadata": {
    "colab": {
      "provenance": [],
      "collapsed_sections": []
    },
    "kernelspec": {
      "name": "python3",
      "display_name": "Python 3"
    },
    "language_info": {
      "name": "python"
    },
    "accelerator": "GPU",
    "gpuClass": "standard"
  },
  "cells": [
    {
      "cell_type": "code",
      "execution_count": null,
      "metadata": {
        "id": "B7lH5HuSzFrm"
      },
      "outputs": [],
      "source": [
        "import os\n",
        "import shutil\n",
        "import urllib3\n",
        "import zipfile\n",
        "import pandas as pd\n",
        "import numpy as np"
      ]
    },
    {
      "cell_type": "code",
      "source": [
        "http = urllib3.PoolManager()\n",
        "url = 'http://www.manythings.org/anki/fra-eng.zip'\n",
        "filename = 'fra-eng.zip'\n",
        "path = os.getcwd()\n",
        "zipfilename = os.path.join(path, filename)\n",
        "\n",
        "with http.request('Get', url, preload_content=False) as r, open(zipfilename, 'wb') as out_file:\n",
        "    shutil.copyfileobj(r, out_file)\n",
        "\n",
        "with zipfile.ZipFile(zipfilename, 'r') as zip_ref:\n",
        "    zip_ref.extractall(path)"
      ],
      "metadata": {
        "id": "mZbg518w2MOP"
      },
      "execution_count": null,
      "outputs": []
    },
    {
      "cell_type": "code",
      "source": [
        "lines = pd.read_csv('fra.txt', names = ['src', 'tar', 'lic'], sep='\\t')\n",
        "del lines['lic']\n",
        "len(lines)"
      ],
      "metadata": {
        "colab": {
          "base_uri": "https://localhost:8080/"
        },
        "id": "AagrQRaD2OH_",
        "outputId": "7d1009fa-e533-464d-a018-851716541c0d"
      },
      "execution_count": null,
      "outputs": [
        {
          "output_type": "execute_result",
          "data": {
            "text/plain": [
              "197463"
            ]
          },
          "metadata": {},
          "execution_count": 3
        }
      ]
    },
    {
      "cell_type": "code",
      "source": [
        "lines = lines.loc[:, 'src' : 'tar']\n",
        "lines = lines[0:30000]\n",
        "lines.tar  = lines.tar.apply(lambda x: '\\t' + x + '\\n')\n",
        "\n",
        "lines[:10]"
      ],
      "metadata": {
        "id": "9o-oGBKY2TVF",
        "colab": {
          "base_uri": "https://localhost:8080/",
          "height": 363
        },
        "outputId": "4302c80c-b38f-4e64-8dda-d670a3e63939"
      },
      "execution_count": null,
      "outputs": [
        {
          "output_type": "execute_result",
          "data": {
            "text/plain": [
              "    src                                 tar\n",
              "0   Go.                            \\tVa !\\n\n",
              "1   Go.                         \\tMarche.\\n\n",
              "2   Go.                      \\tEn route !\\n\n",
              "3   Go.                         \\tBouge !\\n\n",
              "4   Hi.                         \\tSalut !\\n\n",
              "5   Hi.                          \\tSalut.\\n\n",
              "6  Run!                         \\tCours !\\n\n",
              "7  Run!                        \\tCourez !\\n\n",
              "8  Run!  \\tPrenez vos jambes à vos cous !\\n\n",
              "9  Run!                          \\tFile !\\n"
            ],
            "text/html": [
              "\n",
              "  <div id=\"df-f07ceca7-1629-486c-b805-aa71c1387b5c\">\n",
              "    <div class=\"colab-df-container\">\n",
              "      <div>\n",
              "<style scoped>\n",
              "    .dataframe tbody tr th:only-of-type {\n",
              "        vertical-align: middle;\n",
              "    }\n",
              "\n",
              "    .dataframe tbody tr th {\n",
              "        vertical-align: top;\n",
              "    }\n",
              "\n",
              "    .dataframe thead th {\n",
              "        text-align: right;\n",
              "    }\n",
              "</style>\n",
              "<table border=\"1\" class=\"dataframe\">\n",
              "  <thead>\n",
              "    <tr style=\"text-align: right;\">\n",
              "      <th></th>\n",
              "      <th>src</th>\n",
              "      <th>tar</th>\n",
              "    </tr>\n",
              "  </thead>\n",
              "  <tbody>\n",
              "    <tr>\n",
              "      <th>0</th>\n",
              "      <td>Go.</td>\n",
              "      <td>\\tVa !\\n</td>\n",
              "    </tr>\n",
              "    <tr>\n",
              "      <th>1</th>\n",
              "      <td>Go.</td>\n",
              "      <td>\\tMarche.\\n</td>\n",
              "    </tr>\n",
              "    <tr>\n",
              "      <th>2</th>\n",
              "      <td>Go.</td>\n",
              "      <td>\\tEn route !\\n</td>\n",
              "    </tr>\n",
              "    <tr>\n",
              "      <th>3</th>\n",
              "      <td>Go.</td>\n",
              "      <td>\\tBouge !\\n</td>\n",
              "    </tr>\n",
              "    <tr>\n",
              "      <th>4</th>\n",
              "      <td>Hi.</td>\n",
              "      <td>\\tSalut !\\n</td>\n",
              "    </tr>\n",
              "    <tr>\n",
              "      <th>5</th>\n",
              "      <td>Hi.</td>\n",
              "      <td>\\tSalut.\\n</td>\n",
              "    </tr>\n",
              "    <tr>\n",
              "      <th>6</th>\n",
              "      <td>Run!</td>\n",
              "      <td>\\tCours !\\n</td>\n",
              "    </tr>\n",
              "    <tr>\n",
              "      <th>7</th>\n",
              "      <td>Run!</td>\n",
              "      <td>\\tCourez !\\n</td>\n",
              "    </tr>\n",
              "    <tr>\n",
              "      <th>8</th>\n",
              "      <td>Run!</td>\n",
              "      <td>\\tPrenez vos jambes à vos cous !\\n</td>\n",
              "    </tr>\n",
              "    <tr>\n",
              "      <th>9</th>\n",
              "      <td>Run!</td>\n",
              "      <td>\\tFile !\\n</td>\n",
              "    </tr>\n",
              "  </tbody>\n",
              "</table>\n",
              "</div>\n",
              "      <button class=\"colab-df-convert\" onclick=\"convertToInteractive('df-f07ceca7-1629-486c-b805-aa71c1387b5c')\"\n",
              "              title=\"Convert this dataframe to an interactive table.\"\n",
              "              style=\"display:none;\">\n",
              "        \n",
              "  <svg xmlns=\"http://www.w3.org/2000/svg\" height=\"24px\"viewBox=\"0 0 24 24\"\n",
              "       width=\"24px\">\n",
              "    <path d=\"M0 0h24v24H0V0z\" fill=\"none\"/>\n",
              "    <path d=\"M18.56 5.44l.94 2.06.94-2.06 2.06-.94-2.06-.94-.94-2.06-.94 2.06-2.06.94zm-11 1L8.5 8.5l.94-2.06 2.06-.94-2.06-.94L8.5 2.5l-.94 2.06-2.06.94zm10 10l.94 2.06.94-2.06 2.06-.94-2.06-.94-.94-2.06-.94 2.06-2.06.94z\"/><path d=\"M17.41 7.96l-1.37-1.37c-.4-.4-.92-.59-1.43-.59-.52 0-1.04.2-1.43.59L10.3 9.45l-7.72 7.72c-.78.78-.78 2.05 0 2.83L4 21.41c.39.39.9.59 1.41.59.51 0 1.02-.2 1.41-.59l7.78-7.78 2.81-2.81c.8-.78.8-2.07 0-2.86zM5.41 20L4 18.59l7.72-7.72 1.47 1.35L5.41 20z\"/>\n",
              "  </svg>\n",
              "      </button>\n",
              "      \n",
              "  <style>\n",
              "    .colab-df-container {\n",
              "      display:flex;\n",
              "      flex-wrap:wrap;\n",
              "      gap: 12px;\n",
              "    }\n",
              "\n",
              "    .colab-df-convert {\n",
              "      background-color: #E8F0FE;\n",
              "      border: none;\n",
              "      border-radius: 50%;\n",
              "      cursor: pointer;\n",
              "      display: none;\n",
              "      fill: #1967D2;\n",
              "      height: 32px;\n",
              "      padding: 0 0 0 0;\n",
              "      width: 32px;\n",
              "    }\n",
              "\n",
              "    .colab-df-convert:hover {\n",
              "      background-color: #E2EBFA;\n",
              "      box-shadow: 0px 1px 2px rgba(60, 64, 67, 0.3), 0px 1px 3px 1px rgba(60, 64, 67, 0.15);\n",
              "      fill: #174EA6;\n",
              "    }\n",
              "\n",
              "    [theme=dark] .colab-df-convert {\n",
              "      background-color: #3B4455;\n",
              "      fill: #D2E3FC;\n",
              "    }\n",
              "\n",
              "    [theme=dark] .colab-df-convert:hover {\n",
              "      background-color: #434B5C;\n",
              "      box-shadow: 0px 1px 3px 1px rgba(0, 0, 0, 0.15);\n",
              "      filter: drop-shadow(0px 1px 2px rgba(0, 0, 0, 0.3));\n",
              "      fill: #FFFFFF;\n",
              "    }\n",
              "  </style>\n",
              "\n",
              "      <script>\n",
              "        const buttonEl =\n",
              "          document.querySelector('#df-f07ceca7-1629-486c-b805-aa71c1387b5c button.colab-df-convert');\n",
              "        buttonEl.style.display =\n",
              "          google.colab.kernel.accessAllowed ? 'block' : 'none';\n",
              "\n",
              "        async function convertToInteractive(key) {\n",
              "          const element = document.querySelector('#df-f07ceca7-1629-486c-b805-aa71c1387b5c');\n",
              "          const dataTable =\n",
              "            await google.colab.kernel.invokeFunction('convertToInteractive',\n",
              "                                                     [key], {});\n",
              "          if (!dataTable) return;\n",
              "\n",
              "          const docLinkHtml = 'Like what you see? Visit the ' +\n",
              "            '<a target=\"_blank\" href=https://colab.research.google.com/notebooks/data_table.ipynb>data table notebook</a>'\n",
              "            + ' to learn more about interactive tables.';\n",
              "          element.innerHTML = '';\n",
              "          dataTable['output_type'] = 'display_data';\n",
              "          await google.colab.output.renderOutput(dataTable, element);\n",
              "          const docLink = document.createElement('div');\n",
              "          docLink.innerHTML = docLinkHtml;\n",
              "          element.appendChild(docLink);\n",
              "        }\n",
              "      </script>\n",
              "    </div>\n",
              "  </div>\n",
              "  "
            ]
          },
          "metadata": {},
          "execution_count": 4
        }
      ]
    },
    {
      "cell_type": "code",
      "source": [
        "src_vocab = set()\n",
        "for line in lines.src:\n",
        "    for char in line:\n",
        "        src_vocab.add(char)\n",
        "tar_vocab = set()\n",
        "for line in lines.tar:\n",
        "    for char in line:\n",
        "        tar_vocab.add(char)"
      ],
      "metadata": {
        "id": "vAe4iPWuLnQq"
      },
      "execution_count": null,
      "outputs": []
    },
    {
      "cell_type": "code",
      "source": [
        "src_vocab"
      ],
      "metadata": {
        "colab": {
          "base_uri": "https://localhost:8080/"
        },
        "id": "swDJW3NCL3ZF",
        "outputId": "8db4c53c-a494-41e2-8eb6-e8e5ae91d17e"
      },
      "execution_count": null,
      "outputs": [
        {
          "output_type": "execute_result",
          "data": {
            "text/plain": [
              "{' ',\n",
              " '!',\n",
              " '\"',\n",
              " '$',\n",
              " '%',\n",
              " '&',\n",
              " \"'\",\n",
              " ',',\n",
              " '-',\n",
              " '.',\n",
              " '/',\n",
              " '0',\n",
              " '1',\n",
              " '2',\n",
              " '3',\n",
              " '4',\n",
              " '5',\n",
              " '6',\n",
              " '7',\n",
              " '8',\n",
              " '9',\n",
              " ':',\n",
              " '?',\n",
              " 'A',\n",
              " 'B',\n",
              " 'C',\n",
              " 'D',\n",
              " 'E',\n",
              " 'F',\n",
              " 'G',\n",
              " 'H',\n",
              " 'I',\n",
              " 'J',\n",
              " 'K',\n",
              " 'L',\n",
              " 'M',\n",
              " 'N',\n",
              " 'O',\n",
              " 'P',\n",
              " 'Q',\n",
              " 'R',\n",
              " 'S',\n",
              " 'T',\n",
              " 'U',\n",
              " 'V',\n",
              " 'W',\n",
              " 'X',\n",
              " 'Y',\n",
              " 'Z',\n",
              " 'a',\n",
              " 'b',\n",
              " 'c',\n",
              " 'd',\n",
              " 'e',\n",
              " 'f',\n",
              " 'g',\n",
              " 'h',\n",
              " 'i',\n",
              " 'j',\n",
              " 'k',\n",
              " 'l',\n",
              " 'm',\n",
              " 'n',\n",
              " 'o',\n",
              " 'p',\n",
              " 'q',\n",
              " 'r',\n",
              " 's',\n",
              " 't',\n",
              " 'u',\n",
              " 'v',\n",
              " 'w',\n",
              " 'x',\n",
              " 'y',\n",
              " 'z',\n",
              " 'é'}"
            ]
          },
          "metadata": {},
          "execution_count": 6
        }
      ]
    },
    {
      "cell_type": "code",
      "source": [
        "tar_vocab"
      ],
      "metadata": {
        "colab": {
          "base_uri": "https://localhost:8080/"
        },
        "id": "TRyCHCAIL721",
        "outputId": "30a78d9d-2b04-4414-bcf5-fa5e0bd8efb2"
      },
      "execution_count": null,
      "outputs": [
        {
          "output_type": "execute_result",
          "data": {
            "text/plain": [
              "{'\\t',\n",
              " '\\n',\n",
              " ' ',\n",
              " '!',\n",
              " '\"',\n",
              " '$',\n",
              " '%',\n",
              " '&',\n",
              " \"'\",\n",
              " '(',\n",
              " ')',\n",
              " ',',\n",
              " '-',\n",
              " '.',\n",
              " '0',\n",
              " '1',\n",
              " '2',\n",
              " '3',\n",
              " '4',\n",
              " '5',\n",
              " '6',\n",
              " '7',\n",
              " '8',\n",
              " '9',\n",
              " ':',\n",
              " '?',\n",
              " 'A',\n",
              " 'B',\n",
              " 'C',\n",
              " 'D',\n",
              " 'E',\n",
              " 'F',\n",
              " 'G',\n",
              " 'H',\n",
              " 'I',\n",
              " 'J',\n",
              " 'K',\n",
              " 'L',\n",
              " 'M',\n",
              " 'N',\n",
              " 'O',\n",
              " 'P',\n",
              " 'Q',\n",
              " 'R',\n",
              " 'S',\n",
              " 'T',\n",
              " 'U',\n",
              " 'V',\n",
              " 'W',\n",
              " 'X',\n",
              " 'Y',\n",
              " 'a',\n",
              " 'b',\n",
              " 'c',\n",
              " 'd',\n",
              " 'e',\n",
              " 'f',\n",
              " 'g',\n",
              " 'h',\n",
              " 'i',\n",
              " 'j',\n",
              " 'k',\n",
              " 'l',\n",
              " 'm',\n",
              " 'n',\n",
              " 'o',\n",
              " 'p',\n",
              " 'q',\n",
              " 'r',\n",
              " 's',\n",
              " 't',\n",
              " 'u',\n",
              " 'v',\n",
              " 'w',\n",
              " 'x',\n",
              " 'y',\n",
              " 'z',\n",
              " '\\xa0',\n",
              " '«',\n",
              " '»',\n",
              " 'À',\n",
              " 'Ç',\n",
              " 'É',\n",
              " 'Ê',\n",
              " 'Ô',\n",
              " 'à',\n",
              " 'â',\n",
              " 'ç',\n",
              " 'è',\n",
              " 'é',\n",
              " 'ê',\n",
              " 'ë',\n",
              " 'î',\n",
              " 'ï',\n",
              " 'ô',\n",
              " 'ù',\n",
              " 'û',\n",
              " 'œ',\n",
              " '\\u2009',\n",
              " '‘',\n",
              " '’',\n",
              " '\\u202f'}"
            ]
          },
          "metadata": {},
          "execution_count": 7
        }
      ]
    },
    {
      "cell_type": "code",
      "source": [
        "src_vocab = sorted(list(src_vocab))\n",
        "tar_vocab = sorted(list(tar_vocab))\n",
        "\n",
        "src_vocab_size = len(src_vocab) + 1\n",
        "tar_vocab_size = len(tar_vocab) + 1\n",
        "\n",
        "src_to_idx = dict([(word,i + 1) for i, word in enumerate(src_vocab)])\n",
        "tar_to_idx = dict([(word,i + 1) for i, word in enumerate(tar_vocab)])\n",
        "\n",
        "print(src_to_idx)\n",
        "print(tar_to_idx)"
      ],
      "metadata": {
        "colab": {
          "base_uri": "https://localhost:8080/"
        },
        "id": "p55-KFCVL9Mc",
        "outputId": "909de0a7-a346-43b4-91ff-bcbe717d08fe"
      },
      "execution_count": null,
      "outputs": [
        {
          "output_type": "stream",
          "name": "stdout",
          "text": [
            "{' ': 1, '!': 2, '\"': 3, '$': 4, '%': 5, '&': 6, \"'\": 7, ',': 8, '-': 9, '.': 10, '/': 11, '0': 12, '1': 13, '2': 14, '3': 15, '4': 16, '5': 17, '6': 18, '7': 19, '8': 20, '9': 21, ':': 22, '?': 23, 'A': 24, 'B': 25, 'C': 26, 'D': 27, 'E': 28, 'F': 29, 'G': 30, 'H': 31, 'I': 32, 'J': 33, 'K': 34, 'L': 35, 'M': 36, 'N': 37, 'O': 38, 'P': 39, 'Q': 40, 'R': 41, 'S': 42, 'T': 43, 'U': 44, 'V': 45, 'W': 46, 'X': 47, 'Y': 48, 'Z': 49, 'a': 50, 'b': 51, 'c': 52, 'd': 53, 'e': 54, 'f': 55, 'g': 56, 'h': 57, 'i': 58, 'j': 59, 'k': 60, 'l': 61, 'm': 62, 'n': 63, 'o': 64, 'p': 65, 'q': 66, 'r': 67, 's': 68, 't': 69, 'u': 70, 'v': 71, 'w': 72, 'x': 73, 'y': 74, 'z': 75, 'é': 76}\n",
            "{'\\t': 1, '\\n': 2, ' ': 3, '!': 4, '\"': 5, '$': 6, '%': 7, '&': 8, \"'\": 9, '(': 10, ')': 11, ',': 12, '-': 13, '.': 14, '0': 15, '1': 16, '2': 17, '3': 18, '4': 19, '5': 20, '6': 21, '7': 22, '8': 23, '9': 24, ':': 25, '?': 26, 'A': 27, 'B': 28, 'C': 29, 'D': 30, 'E': 31, 'F': 32, 'G': 33, 'H': 34, 'I': 35, 'J': 36, 'K': 37, 'L': 38, 'M': 39, 'N': 40, 'O': 41, 'P': 42, 'Q': 43, 'R': 44, 'S': 45, 'T': 46, 'U': 47, 'V': 48, 'W': 49, 'X': 50, 'Y': 51, 'a': 52, 'b': 53, 'c': 54, 'd': 55, 'e': 56, 'f': 57, 'g': 58, 'h': 59, 'i': 60, 'j': 61, 'k': 62, 'l': 63, 'm': 64, 'n': 65, 'o': 66, 'p': 67, 'q': 68, 'r': 69, 's': 70, 't': 71, 'u': 72, 'v': 73, 'w': 74, 'x': 75, 'y': 76, 'z': 77, '\\xa0': 78, '«': 79, '»': 80, 'À': 81, 'Ç': 82, 'É': 83, 'Ê': 84, 'Ô': 85, 'à': 86, 'â': 87, 'ç': 88, 'è': 89, 'é': 90, 'ê': 91, 'ë': 92, 'î': 93, 'ï': 94, 'ô': 95, 'ù': 96, 'û': 97, 'œ': 98, '\\u2009': 99, '‘': 100, '’': 101, '\\u202f': 102}\n"
          ]
        }
      ]
    },
    {
      "cell_type": "code",
      "source": [
        "encoder_input = []\n",
        "for line in lines.src:\n",
        "    encoder_input.append([src_to_idx[w] for w in line])\n",
        "encoder_input[:5]"
      ],
      "metadata": {
        "colab": {
          "base_uri": "https://localhost:8080/"
        },
        "id": "t4mNiPj4MjiE",
        "outputId": "7b9d5c47-cac2-4199-ec35-2188d526cc88"
      },
      "execution_count": null,
      "outputs": [
        {
          "output_type": "execute_result",
          "data": {
            "text/plain": [
              "[[30, 64, 10], [30, 64, 10], [30, 64, 10], [30, 64, 10], [31, 58, 10]]"
            ]
          },
          "metadata": {},
          "execution_count": 9
        }
      ]
    },
    {
      "cell_type": "code",
      "source": [
        "lines[:5]"
      ],
      "metadata": {
        "colab": {
          "base_uri": "https://localhost:8080/",
          "height": 206
        },
        "id": "TmlkabYwM2cC",
        "outputId": "3f3a4101-85b4-48bc-d3d6-c1bff3380e65"
      },
      "execution_count": null,
      "outputs": [
        {
          "output_type": "execute_result",
          "data": {
            "text/plain": [
              "   src             tar\n",
              "0  Go.        \\tVa !\\n\n",
              "1  Go.     \\tMarche.\\n\n",
              "2  Go.  \\tEn route !\\n\n",
              "3  Go.     \\tBouge !\\n\n",
              "4  Hi.     \\tSalut !\\n"
            ],
            "text/html": [
              "\n",
              "  <div id=\"df-a4ec78b3-8142-49d5-b969-d84431ff456a\">\n",
              "    <div class=\"colab-df-container\">\n",
              "      <div>\n",
              "<style scoped>\n",
              "    .dataframe tbody tr th:only-of-type {\n",
              "        vertical-align: middle;\n",
              "    }\n",
              "\n",
              "    .dataframe tbody tr th {\n",
              "        vertical-align: top;\n",
              "    }\n",
              "\n",
              "    .dataframe thead th {\n",
              "        text-align: right;\n",
              "    }\n",
              "</style>\n",
              "<table border=\"1\" class=\"dataframe\">\n",
              "  <thead>\n",
              "    <tr style=\"text-align: right;\">\n",
              "      <th></th>\n",
              "      <th>src</th>\n",
              "      <th>tar</th>\n",
              "    </tr>\n",
              "  </thead>\n",
              "  <tbody>\n",
              "    <tr>\n",
              "      <th>0</th>\n",
              "      <td>Go.</td>\n",
              "      <td>\\tVa !\\n</td>\n",
              "    </tr>\n",
              "    <tr>\n",
              "      <th>1</th>\n",
              "      <td>Go.</td>\n",
              "      <td>\\tMarche.\\n</td>\n",
              "    </tr>\n",
              "    <tr>\n",
              "      <th>2</th>\n",
              "      <td>Go.</td>\n",
              "      <td>\\tEn route !\\n</td>\n",
              "    </tr>\n",
              "    <tr>\n",
              "      <th>3</th>\n",
              "      <td>Go.</td>\n",
              "      <td>\\tBouge !\\n</td>\n",
              "    </tr>\n",
              "    <tr>\n",
              "      <th>4</th>\n",
              "      <td>Hi.</td>\n",
              "      <td>\\tSalut !\\n</td>\n",
              "    </tr>\n",
              "  </tbody>\n",
              "</table>\n",
              "</div>\n",
              "      <button class=\"colab-df-convert\" onclick=\"convertToInteractive('df-a4ec78b3-8142-49d5-b969-d84431ff456a')\"\n",
              "              title=\"Convert this dataframe to an interactive table.\"\n",
              "              style=\"display:none;\">\n",
              "        \n",
              "  <svg xmlns=\"http://www.w3.org/2000/svg\" height=\"24px\"viewBox=\"0 0 24 24\"\n",
              "       width=\"24px\">\n",
              "    <path d=\"M0 0h24v24H0V0z\" fill=\"none\"/>\n",
              "    <path d=\"M18.56 5.44l.94 2.06.94-2.06 2.06-.94-2.06-.94-.94-2.06-.94 2.06-2.06.94zm-11 1L8.5 8.5l.94-2.06 2.06-.94-2.06-.94L8.5 2.5l-.94 2.06-2.06.94zm10 10l.94 2.06.94-2.06 2.06-.94-2.06-.94-.94-2.06-.94 2.06-2.06.94z\"/><path d=\"M17.41 7.96l-1.37-1.37c-.4-.4-.92-.59-1.43-.59-.52 0-1.04.2-1.43.59L10.3 9.45l-7.72 7.72c-.78.78-.78 2.05 0 2.83L4 21.41c.39.39.9.59 1.41.59.51 0 1.02-.2 1.41-.59l7.78-7.78 2.81-2.81c.8-.78.8-2.07 0-2.86zM5.41 20L4 18.59l7.72-7.72 1.47 1.35L5.41 20z\"/>\n",
              "  </svg>\n",
              "      </button>\n",
              "      \n",
              "  <style>\n",
              "    .colab-df-container {\n",
              "      display:flex;\n",
              "      flex-wrap:wrap;\n",
              "      gap: 12px;\n",
              "    }\n",
              "\n",
              "    .colab-df-convert {\n",
              "      background-color: #E8F0FE;\n",
              "      border: none;\n",
              "      border-radius: 50%;\n",
              "      cursor: pointer;\n",
              "      display: none;\n",
              "      fill: #1967D2;\n",
              "      height: 32px;\n",
              "      padding: 0 0 0 0;\n",
              "      width: 32px;\n",
              "    }\n",
              "\n",
              "    .colab-df-convert:hover {\n",
              "      background-color: #E2EBFA;\n",
              "      box-shadow: 0px 1px 2px rgba(60, 64, 67, 0.3), 0px 1px 3px 1px rgba(60, 64, 67, 0.15);\n",
              "      fill: #174EA6;\n",
              "    }\n",
              "\n",
              "    [theme=dark] .colab-df-convert {\n",
              "      background-color: #3B4455;\n",
              "      fill: #D2E3FC;\n",
              "    }\n",
              "\n",
              "    [theme=dark] .colab-df-convert:hover {\n",
              "      background-color: #434B5C;\n",
              "      box-shadow: 0px 1px 3px 1px rgba(0, 0, 0, 0.15);\n",
              "      filter: drop-shadow(0px 1px 2px rgba(0, 0, 0, 0.3));\n",
              "      fill: #FFFFFF;\n",
              "    }\n",
              "  </style>\n",
              "\n",
              "      <script>\n",
              "        const buttonEl =\n",
              "          document.querySelector('#df-a4ec78b3-8142-49d5-b969-d84431ff456a button.colab-df-convert');\n",
              "        buttonEl.style.display =\n",
              "          google.colab.kernel.accessAllowed ? 'block' : 'none';\n",
              "\n",
              "        async function convertToInteractive(key) {\n",
              "          const element = document.querySelector('#df-a4ec78b3-8142-49d5-b969-d84431ff456a');\n",
              "          const dataTable =\n",
              "            await google.colab.kernel.invokeFunction('convertToInteractive',\n",
              "                                                     [key], {});\n",
              "          if (!dataTable) return;\n",
              "\n",
              "          const docLinkHtml = 'Like what you see? Visit the ' +\n",
              "            '<a target=\"_blank\" href=https://colab.research.google.com/notebooks/data_table.ipynb>data table notebook</a>'\n",
              "            + ' to learn more about interactive tables.';\n",
              "          element.innerHTML = '';\n",
              "          dataTable['output_type'] = 'display_data';\n",
              "          await google.colab.output.renderOutput(dataTable, element);\n",
              "          const docLink = document.createElement('div');\n",
              "          docLink.innerHTML = docLinkHtml;\n",
              "          element.appendChild(docLink);\n",
              "        }\n",
              "      </script>\n",
              "    </div>\n",
              "  </div>\n",
              "  "
            ]
          },
          "metadata": {},
          "execution_count": 10
        }
      ]
    },
    {
      "cell_type": "code",
      "source": [
        "decoder_input = []\n",
        "for line in lines.tar:\n",
        "    decoder_input.append([tar_to_idx[w] for w in line])\n",
        "print(decoder_input[:5])"
      ],
      "metadata": {
        "colab": {
          "base_uri": "https://localhost:8080/"
        },
        "id": "mQzQVEVOM6zJ",
        "outputId": "ef758903-f5bc-4bc6-c715-33735d7b320a"
      },
      "execution_count": null,
      "outputs": [
        {
          "output_type": "stream",
          "name": "stdout",
          "text": [
            "[[1, 48, 52, 3, 4, 2], [1, 39, 52, 69, 54, 59, 56, 14, 2], [1, 31, 65, 3, 69, 66, 72, 71, 56, 3, 4, 2], [1, 28, 66, 72, 58, 56, 3, 4, 2], [1, 45, 52, 63, 72, 71, 3, 4, 2]]\n"
          ]
        }
      ]
    },
    {
      "cell_type": "code",
      "source": [
        "decoder_target = []\n",
        "for line in lines.tar:\n",
        "    decoder_target.append([tar_to_idx[w] for w in line if w != '\\t'])\n",
        "print(decoder_target[:5])"
      ],
      "metadata": {
        "colab": {
          "base_uri": "https://localhost:8080/"
        },
        "id": "vSUuHjjWNEX_",
        "outputId": "4cc97cc5-e151-4f68-e3fb-7461235aa8d2"
      },
      "execution_count": null,
      "outputs": [
        {
          "output_type": "stream",
          "name": "stdout",
          "text": [
            "[[48, 52, 3, 4, 2], [39, 52, 69, 54, 59, 56, 14, 2], [31, 65, 3, 69, 66, 72, 71, 56, 3, 4, 2], [28, 66, 72, 58, 56, 3, 4, 2], [45, 52, 63, 72, 71, 3, 4, 2]]\n"
          ]
        }
      ]
    },
    {
      "cell_type": "code",
      "source": [
        "from tensorflow.keras.preprocessing.sequence import pad_sequences\n",
        "\n",
        "max_src_len = max(len(line) for line in lines.src)\n",
        "max_tar_len = max(len(line) for line in lines.tar)\n",
        "\n",
        "encoder_input = pad_sequences(encoder_input, maxlen = max_src_len, padding='post')\n",
        "decoder_input = pad_sequences(decoder_input, maxlen = max_tar_len, padding='post')\n",
        "decoder_target = pad_sequences(decoder_target, maxlen = max_tar_len, padding='post')"
      ],
      "metadata": {
        "id": "Io5mn1PgNVTT"
      },
      "execution_count": null,
      "outputs": []
    },
    {
      "cell_type": "code",
      "source": [
        "from tensorflow.keras.utils import to_categorical\n",
        "\n",
        "encoder_input = to_categorical(encoder_input)\n",
        "decoder_input = to_categorical(decoder_input)\n",
        "decoder_target = to_categorical(decoder_target)"
      ],
      "metadata": {
        "id": "gNP7-ZSmOI97"
      },
      "execution_count": null,
      "outputs": []
    },
    {
      "cell_type": "code",
      "source": [
        "from keras.layers import Input, LSTM\n",
        "\n",
        "encoder_inputs = Input(shape=(None, src_vocab_size))\n",
        "encoder_lstm = LSTM(256, return_state=True)\n",
        "\n",
        "encoder_outputs, state_h, state_c = encoder_lstm(encoder_inputs)\n",
        "encoder_states = [state_h, state_c]"
      ],
      "metadata": {
        "id": "nvRoOjw4OZBS"
      },
      "execution_count": null,
      "outputs": []
    },
    {
      "cell_type": "code",
      "source": [
        "from keras.layers import Dense\n",
        "\n",
        "decoder_inputs = Input(shape=(None, tar_vocab_size))\n",
        "decoder_lstm = LSTM(256, return_sequences = True, return_state=True)\n",
        "decoder_outputs, _, _ = decoder_lstm(decoder_inputs, initial_state = encoder_states)\n",
        "decoder_softmax_layer = Dense(tar_vocab_size, activation='softmax')\n",
        "decoder_outputs = decoder_softmax_layer(decoder_outputs)"
      ],
      "metadata": {
        "id": "3p1Kh7OWOsXs"
      },
      "execution_count": null,
      "outputs": []
    },
    {
      "cell_type": "code",
      "source": [
        "from keras.models import Model\n",
        "model = Model([encoder_inputs, decoder_inputs], decoder_outputs)\n",
        "model.compile('rmsprop', 'categorical_crossentropy', ['accuracy'])"
      ],
      "metadata": {
        "id": "Fml-vITRQL5s"
      },
      "execution_count": null,
      "outputs": []
    },
    {
      "cell_type": "code",
      "source": [
        "model.fit(x=[encoder_input, decoder_input], y= decoder_target,\n",
        "          batch_size=128,\n",
        "          epochs=25,\n",
        "          validation_split=0.2\n",
        "        )"
      ],
      "metadata": {
        "colab": {
          "base_uri": "https://localhost:8080/"
        },
        "id": "jc-hkywmQYzr",
        "outputId": "80766d80-ca89-422d-921e-0a3aede01723"
      },
      "execution_count": null,
      "outputs": [
        {
          "output_type": "stream",
          "name": "stdout",
          "text": [
            "Epoch 1/25\n",
            "188/188 [==============================] - 14s 24ms/step - loss: 1.2030 - accuracy: 0.7008 - val_loss: 1.0647 - val_accuracy: 0.7109\n",
            "Epoch 2/25\n",
            "188/188 [==============================] - 3s 18ms/step - loss: 0.7749 - accuracy: 0.7820 - val_loss: 0.8291 - val_accuracy: 0.7578\n",
            "Epoch 3/25\n",
            "188/188 [==============================] - 3s 18ms/step - loss: 0.6313 - accuracy: 0.8139 - val_loss: 0.7409 - val_accuracy: 0.7812\n",
            "Epoch 4/25\n",
            "188/188 [==============================] - 3s 18ms/step - loss: 0.5608 - accuracy: 0.8343 - val_loss: 0.6673 - val_accuracy: 0.8026\n",
            "Epoch 5/25\n",
            "188/188 [==============================] - 3s 18ms/step - loss: 0.5136 - accuracy: 0.8468 - val_loss: 0.6171 - val_accuracy: 0.8156\n",
            "Epoch 6/25\n",
            "188/188 [==============================] - 3s 18ms/step - loss: 0.4775 - accuracy: 0.8570 - val_loss: 0.5867 - val_accuracy: 0.8244\n",
            "Epoch 7/25\n",
            "188/188 [==============================] - 3s 18ms/step - loss: 0.4491 - accuracy: 0.8651 - val_loss: 0.5572 - val_accuracy: 0.8342\n",
            "Epoch 8/25\n",
            "188/188 [==============================] - 3s 18ms/step - loss: 0.4246 - accuracy: 0.8723 - val_loss: 0.5415 - val_accuracy: 0.8380\n",
            "Epoch 9/25\n",
            "188/188 [==============================] - 3s 18ms/step - loss: 0.4040 - accuracy: 0.8782 - val_loss: 0.5213 - val_accuracy: 0.8445\n",
            "Epoch 10/25\n",
            "188/188 [==============================] - 4s 19ms/step - loss: 0.3854 - accuracy: 0.8838 - val_loss: 0.5096 - val_accuracy: 0.8485\n",
            "Epoch 11/25\n",
            "188/188 [==============================] - 3s 18ms/step - loss: 0.3693 - accuracy: 0.8884 - val_loss: 0.4911 - val_accuracy: 0.8539\n",
            "Epoch 12/25\n",
            "188/188 [==============================] - 3s 18ms/step - loss: 0.3547 - accuracy: 0.8929 - val_loss: 0.4815 - val_accuracy: 0.8562\n",
            "Epoch 13/25\n",
            "188/188 [==============================] - 3s 18ms/step - loss: 0.3417 - accuracy: 0.8968 - val_loss: 0.4720 - val_accuracy: 0.8598\n",
            "Epoch 14/25\n",
            "188/188 [==============================] - 3s 18ms/step - loss: 0.3299 - accuracy: 0.9001 - val_loss: 0.4637 - val_accuracy: 0.8621\n",
            "Epoch 15/25\n",
            "188/188 [==============================] - 3s 18ms/step - loss: 0.3192 - accuracy: 0.9033 - val_loss: 0.4582 - val_accuracy: 0.8635\n",
            "Epoch 16/25\n",
            "188/188 [==============================] - 3s 18ms/step - loss: 0.3094 - accuracy: 0.9063 - val_loss: 0.4496 - val_accuracy: 0.8665\n",
            "Epoch 17/25\n",
            "188/188 [==============================] - 4s 19ms/step - loss: 0.2998 - accuracy: 0.9091 - val_loss: 0.4473 - val_accuracy: 0.8669\n",
            "Epoch 18/25\n",
            "188/188 [==============================] - 4s 21ms/step - loss: 0.2913 - accuracy: 0.9115 - val_loss: 0.4453 - val_accuracy: 0.8682\n",
            "Epoch 19/25\n",
            "188/188 [==============================] - 3s 18ms/step - loss: 0.2834 - accuracy: 0.9138 - val_loss: 0.4449 - val_accuracy: 0.8683\n",
            "Epoch 20/25\n",
            "188/188 [==============================] - 3s 18ms/step - loss: 0.2759 - accuracy: 0.9159 - val_loss: 0.4386 - val_accuracy: 0.8709\n",
            "Epoch 21/25\n",
            "188/188 [==============================] - 4s 20ms/step - loss: 0.2688 - accuracy: 0.9179 - val_loss: 0.4379 - val_accuracy: 0.8714\n",
            "Epoch 22/25\n",
            "188/188 [==============================] - 4s 19ms/step - loss: 0.2621 - accuracy: 0.9200 - val_loss: 0.4369 - val_accuracy: 0.8719\n",
            "Epoch 23/25\n",
            "188/188 [==============================] - 3s 18ms/step - loss: 0.2555 - accuracy: 0.9220 - val_loss: 0.4392 - val_accuracy: 0.8716\n",
            "Epoch 24/25\n",
            "188/188 [==============================] - 3s 19ms/step - loss: 0.2495 - accuracy: 0.9236 - val_loss: 0.4371 - val_accuracy: 0.8726\n",
            "Epoch 25/25\n",
            "188/188 [==============================] - 3s 18ms/step - loss: 0.2439 - accuracy: 0.9253 - val_loss: 0.4379 - val_accuracy: 0.8728\n"
          ]
        },
        {
          "output_type": "execute_result",
          "data": {
            "text/plain": [
              "<keras.callbacks.History at 0x7f06524dc7d0>"
            ]
          },
          "metadata": {},
          "execution_count": 18
        }
      ]
    },
    {
      "cell_type": "code",
      "source": [
        "encoder_model = Model(inputs=encoder_inputs, outputs=encoder_states)"
      ],
      "metadata": {
        "id": "FOmq_1EdReRW"
      },
      "execution_count": null,
      "outputs": []
    },
    {
      "cell_type": "code",
      "source": [
        "decoder_states_input_h = Input(shape=(256))\n",
        "decoder_states_input_c = Input(shape=(256))\n",
        "\n",
        "decoder_states_inputs = [decoder_states_input_h, decoder_states_input_c]\n",
        "decoder_outputs, state_h, state_c = decoder_lstm(decoder_inputs, initial_state=decoder_states_inputs)\n",
        "\n",
        "decoder_states = [state_h, state_c]\n",
        "\n",
        "decoder_outputs = decoder_softmax_layer(decoder_outputs)\n",
        "decoder_model = Model(inputs=[decoder_inputs] + decoder_states_inputs,\n",
        "                      outputs = [decoder_outputs] + decoder_states)"
      ],
      "metadata": {
        "id": "2hrLn07RSKLr"
      },
      "execution_count": null,
      "outputs": []
    },
    {
      "cell_type": "code",
      "source": [
        "idx_to_src = dict((i, char) for char, i in src_to_idx.items())\n",
        "idx_to_tar = dict((i, char) for char, i in tar_to_idx.items())"
      ],
      "metadata": {
        "id": "D4UTL9FLTUaP"
      },
      "execution_count": null,
      "outputs": []
    },
    {
      "cell_type": "code",
      "source": [
        "def predict_decode(input_seq):\n",
        "    states_value = encoder_model.predict(input_seq)\n",
        "\n",
        "    target_seq = np.zeros((1, 1, tar_vocab_size))\n",
        "    target_seq[0, 0, tar_to_idx['\\t']] = 1+\n",
        "    \n",
        "    stop = False\n",
        "    decoded_sentence = \"\"\n",
        "    while not stop :\n",
        "        output_tokens, h, c = decoder_model.predict([target_seq] + states_value)\n",
        "\n",
        "        sampled_token_index = np.argmax(output_tokens[0, -1 , :])\n",
        "        sampled_char = idx_to_tar[sampled_token_index]\n",
        "\n",
        "        decoded_sentence += sampled_char\n",
        "        \n",
        "        if sampled_char == '\\n' or len(decoded_sentence) > max_tar_len :\n",
        "            stop = True\n",
        "        \n",
        "        target_seq = np.zeros((1, 1, tar_vocab_size))\n",
        "        target_seq[0, 0, sampled_token_index] = 1.\n",
        "\n",
        "        states_value = [h, c]\n",
        "\n",
        "    return decoded_sentence\n",
        "\n"
      ],
      "metadata": {
        "id": "pfv4dYNlTVWS"
      },
      "execution_count": null,
      "outputs": []
    },
    {
      "cell_type": "code",
      "source": [
        "for seq_index in [100, 200, 300, 400]:\n",
        "    input_seq = encoder_input[seq_index : seq_index + 1]\n",
        "    decoded_sentence = predict_decode(input_seq)\n",
        "\n",
        "    print('입력:', lines.src[seq_index])\n",
        "    print('정답:', lines.tar[seq_index][1:len(lines.tar[seq_index])-1])\n",
        "    print('번역:', decoded_sentence[:len(decoded_sentence)-1], '\\n')"
      ],
      "metadata": {
        "colab": {
          "base_uri": "https://localhost:8080/"
        },
        "id": "HsXBizjWVwBT",
        "outputId": "6afad4d7-ed9a-462d-cddb-8116973fa545"
      },
      "execution_count": null,
      "outputs": [
        {
          "output_type": "stream",
          "name": "stdout",
          "text": [
            "1/1 [==============================] - 0s 18ms/step\n",
            "1/1 [==============================] - 0s 16ms/step\n",
            "1/1 [==============================] - 0s 18ms/step\n",
            "1/1 [==============================] - 0s 17ms/step\n",
            "1/1 [==============================] - 0s 18ms/step\n",
            "1/1 [==============================] - 0s 17ms/step\n",
            "1/1 [==============================] - 0s 17ms/step\n",
            "1/1 [==============================] - 0s 18ms/step\n",
            "1/1 [==============================] - 0s 16ms/step\n",
            "1/1 [==============================] - 0s 15ms/step\n",
            "1/1 [==============================] - 0s 15ms/step\n",
            "1/1 [==============================] - 0s 16ms/step\n",
            "입력: Got it?\n",
            "정답: T'as capté ?\n",
            "번역: Commencez. \n",
            "\n",
            "1/1 [==============================] - 0s 19ms/step\n",
            "1/1 [==============================] - 0s 21ms/step\n",
            "1/1 [==============================] - 0s 17ms/step\n",
            "1/1 [==============================] - 0s 18ms/step\n",
            "1/1 [==============================] - 0s 20ms/step\n",
            "1/1 [==============================] - 0s 16ms/step\n",
            "1/1 [==============================] - 0s 18ms/step\n",
            "1/1 [==============================] - 0s 16ms/step\n",
            "1/1 [==============================] - 0s 17ms/step\n",
            "1/1 [==============================] - 0s 19ms/step\n",
            "1/1 [==============================] - 0s 16ms/step\n",
            "1/1 [==============================] - 0s 29ms/step\n",
            "1/1 [==============================] - 0s 18ms/step\n",
            "1/1 [==============================] - 0s 15ms/step\n",
            "1/1 [==============================] - 0s 20ms/step\n",
            "1/1 [==============================] - 0s 21ms/step\n",
            "1/1 [==============================] - 0s 21ms/step\n",
            "1/1 [==============================] - 0s 19ms/step\n",
            "1/1 [==============================] - 0s 20ms/step\n",
            "1/1 [==============================] - 0s 19ms/step\n",
            "1/1 [==============================] - 0s 19ms/step\n",
            "1/1 [==============================] - 0s 17ms/step\n",
            "1/1 [==============================] - 0s 19ms/step\n",
            "1/1 [==============================] - 0s 17ms/step\n",
            "1/1 [==============================] - 0s 18ms/step\n",
            "1/1 [==============================] - 0s 20ms/step\n",
            "입력: Bury it.\n",
            "정답: Enterre-le.\n",
            "번역: Les filles sont dessers. \n",
            "\n",
            "1/1 [==============================] - 0s 17ms/step\n",
            "1/1 [==============================] - 0s 20ms/step\n",
            "1/1 [==============================] - 0s 17ms/step\n",
            "1/1 [==============================] - 0s 19ms/step\n",
            "1/1 [==============================] - 0s 20ms/step\n",
            "1/1 [==============================] - 0s 19ms/step\n",
            "1/1 [==============================] - 0s 19ms/step\n",
            "1/1 [==============================] - 0s 20ms/step\n",
            "1/1 [==============================] - 0s 20ms/step\n",
            "1/1 [==============================] - 0s 19ms/step\n",
            "1/1 [==============================] - 0s 18ms/step\n",
            "1/1 [==============================] - 0s 17ms/step\n",
            "1/1 [==============================] - 0s 17ms/step\n",
            "입력: Hang on.\n",
            "정답: Tiens bon !\n",
            "번역: Tiens bon ! \n",
            "\n",
            "1/1 [==============================] - 0s 18ms/step\n",
            "1/1 [==============================] - 0s 17ms/step\n",
            "1/1 [==============================] - 0s 19ms/step\n",
            "1/1 [==============================] - 0s 20ms/step\n",
            "1/1 [==============================] - 0s 17ms/step\n",
            "1/1 [==============================] - 0s 20ms/step\n",
            "1/1 [==============================] - 0s 19ms/step\n",
            "1/1 [==============================] - 0s 18ms/step\n",
            "1/1 [==============================] - 0s 16ms/step\n",
            "1/1 [==============================] - 0s 16ms/step\n",
            "1/1 [==============================] - 0s 18ms/step\n",
            "1/1 [==============================] - 0s 18ms/step\n",
            "1/1 [==============================] - 0s 21ms/step\n",
            "1/1 [==============================] - 0s 20ms/step\n",
            "1/1 [==============================] - 0s 16ms/step\n",
            "1/1 [==============================] - 0s 19ms/step\n",
            "1/1 [==============================] - 0s 20ms/step\n",
            "1/1 [==============================] - 0s 17ms/step\n",
            "1/1 [==============================] - 0s 18ms/step\n",
            "입력: Shut up!\n",
            "정답: Ferme-la !\n",
            "번역: Faites attention. \n",
            "\n"
          ]
        }
      ]
    },
    {
      "cell_type": "code",
      "source": [
        "encoder_input.shape"
      ],
      "metadata": {
        "colab": {
          "base_uri": "https://localhost:8080/"
        },
        "id": "PSRtUjyiWIwZ",
        "outputId": "22472d2f-71c6-4ffe-b8c3-46994825a335"
      },
      "execution_count": null,
      "outputs": [
        {
          "output_type": "execute_result",
          "data": {
            "text/plain": [
              "(30000, 19, 77)"
            ]
          },
          "metadata": {},
          "execution_count": 39
        }
      ]
    },
    {
      "cell_type": "markdown",
      "source": [
        "# Attention"
      ],
      "metadata": {
        "id": "tnr3S19cauN1"
      }
    },
    {
      "cell_type": "code",
      "source": [
        "encoder_inputs = Input(shape=(None, src_vocab_size))\n",
        "encoder_lstm = LSTM(256, return_state=True)\n",
        "\n",
        "encoder_outputs, state_h, state_c = encoder_lstm(encoder_inputs)\n",
        "encoder_states = [state_h, state_c]"
      ],
      "metadata": {
        "id": "e0ws60SSauP-"
      },
      "execution_count": null,
      "outputs": []
    },
    {
      "cell_type": "code",
      "source": [
        "import tensorflow as tf \n",
        "from keras.layers import Attention\n",
        "\n",
        "decoder_inputs = Input(shape=(None, tar_vocab_size))\n",
        "decoder_lstm = LSTM(256, return_sequences = True, return_state=True)\n",
        "decoder_outputs, _, _ = decoder_lstm(decoder_inputs, initial_state=encoder_states)\n",
        "\n",
        "S_ = tf.concat([state_h[:, tf.newaxis, :], decoder_outputs[:, :-1, :]], axis=1)\n",
        "\n",
        "attention = Attention()\n",
        "\n",
        "context_vector = attention([S_, encoder_outputs])\n",
        "concat = tf.concat([decoder_outputs, context_vector], axis=-1)\n",
        "decoder_softmax_layer = Dense(tar_vocab_size, activation='softmax')\n",
        "decoder_outputs = decoder_softmax_layer(concat)"
      ],
      "metadata": {
        "id": "q4wsQNHHauSP"
      },
      "execution_count": null,
      "outputs": []
    },
    {
      "cell_type": "code",
      "source": [
        "model = Model([encoder_inputs, decoder_inputs], decoder_outputs)\n",
        "model.compile(optimizer='rmsprop', loss='categorical_crossentropy', metrics = ['accuracy'])"
      ],
      "metadata": {
        "id": "Q_dh9rgwkcw4"
      },
      "execution_count": null,
      "outputs": []
    },
    {
      "cell_type": "code",
      "source": [
        "model.fit(x = [encoder_input, decoder_input], y=decoder_target,\n",
        "          batch_size = 128,\n",
        "          epochs=25,\n",
        "          validation_split=0.2)"
      ],
      "metadata": {
        "colab": {
          "base_uri": "https://localhost:8080/"
        },
        "id": "Z3Nx41yslenG",
        "outputId": "06aaad54-3541-4ae8-f02c-fbb919db0d81"
      },
      "execution_count": null,
      "outputs": [
        {
          "output_type": "stream",
          "name": "stdout",
          "text": [
            "Epoch 1/25\n",
            "188/188 [==============================] - 8s 27ms/step - loss: 1.1914 - accuracy: 0.6953 - val_loss: 1.1247 - val_accuracy: 0.7017\n",
            "Epoch 2/25\n",
            "188/188 [==============================] - 4s 21ms/step - loss: 0.8137 - accuracy: 0.7714 - val_loss: 0.8423 - val_accuracy: 0.7574\n",
            "Epoch 3/25\n",
            "188/188 [==============================] - 4s 21ms/step - loss: 0.6437 - accuracy: 0.8112 - val_loss: 0.7604 - val_accuracy: 0.7783\n",
            "Epoch 4/25\n",
            "188/188 [==============================] - 4s 21ms/step - loss: 0.5695 - accuracy: 0.8313 - val_loss: 0.6919 - val_accuracy: 0.7962\n",
            "Epoch 5/25\n",
            "188/188 [==============================] - 4s 21ms/step - loss: 0.5161 - accuracy: 0.8459 - val_loss: 0.6494 - val_accuracy: 0.8089\n",
            "Epoch 6/25\n",
            "188/188 [==============================] - 4s 22ms/step - loss: 0.4768 - accuracy: 0.8570 - val_loss: 0.6153 - val_accuracy: 0.8180\n",
            "Epoch 7/25\n",
            "188/188 [==============================] - 4s 22ms/step - loss: 0.4463 - accuracy: 0.8655 - val_loss: 0.5877 - val_accuracy: 0.8252\n",
            "Epoch 8/25\n",
            "188/188 [==============================] - 4s 22ms/step - loss: 0.4213 - accuracy: 0.8729 - val_loss: 0.5699 - val_accuracy: 0.8299\n",
            "Epoch 9/25\n",
            "188/188 [==============================] - 4s 23ms/step - loss: 0.4002 - accuracy: 0.8792 - val_loss: 0.5497 - val_accuracy: 0.8357\n",
            "Epoch 10/25\n",
            "188/188 [==============================] - 4s 21ms/step - loss: 0.3818 - accuracy: 0.8847 - val_loss: 0.5397 - val_accuracy: 0.8399\n",
            "Epoch 11/25\n",
            "188/188 [==============================] - 4s 21ms/step - loss: 0.3652 - accuracy: 0.8896 - val_loss: 0.5307 - val_accuracy: 0.8431\n",
            "Epoch 12/25\n",
            "188/188 [==============================] - 4s 21ms/step - loss: 0.3509 - accuracy: 0.8938 - val_loss: 0.5243 - val_accuracy: 0.8453\n",
            "Epoch 13/25\n",
            "188/188 [==============================] - 4s 21ms/step - loss: 0.3382 - accuracy: 0.8977 - val_loss: 0.5072 - val_accuracy: 0.8504\n",
            "Epoch 14/25\n",
            "188/188 [==============================] - 4s 21ms/step - loss: 0.3262 - accuracy: 0.9011 - val_loss: 0.5062 - val_accuracy: 0.8515\n",
            "Epoch 15/25\n",
            "188/188 [==============================] - 6s 30ms/step - loss: 0.3158 - accuracy: 0.9042 - val_loss: 0.4956 - val_accuracy: 0.8547\n",
            "Epoch 16/25\n",
            "188/188 [==============================] - 4s 23ms/step - loss: 0.3061 - accuracy: 0.9070 - val_loss: 0.4884 - val_accuracy: 0.8575\n",
            "Epoch 17/25\n",
            "188/188 [==============================] - 4s 22ms/step - loss: 0.2967 - accuracy: 0.9096 - val_loss: 0.4880 - val_accuracy: 0.8576\n",
            "Epoch 18/25\n",
            "188/188 [==============================] - 4s 21ms/step - loss: 0.2884 - accuracy: 0.9121 - val_loss: 0.4840 - val_accuracy: 0.8592\n",
            "Epoch 19/25\n",
            "188/188 [==============================] - 4s 21ms/step - loss: 0.2805 - accuracy: 0.9144 - val_loss: 0.4884 - val_accuracy: 0.8595\n",
            "Epoch 20/25\n",
            "188/188 [==============================] - 5s 26ms/step - loss: 0.2730 - accuracy: 0.9167 - val_loss: 0.4805 - val_accuracy: 0.8618\n",
            "Epoch 21/25\n",
            "188/188 [==============================] - 4s 22ms/step - loss: 0.2658 - accuracy: 0.9187 - val_loss: 0.4784 - val_accuracy: 0.8625\n",
            "Epoch 22/25\n",
            "188/188 [==============================] - 5s 28ms/step - loss: 0.2593 - accuracy: 0.9207 - val_loss: 0.4794 - val_accuracy: 0.8632\n",
            "Epoch 23/25\n",
            "188/188 [==============================] - 4s 22ms/step - loss: 0.2529 - accuracy: 0.9226 - val_loss: 0.4776 - val_accuracy: 0.8639\n",
            "Epoch 24/25\n",
            "188/188 [==============================] - 4s 21ms/step - loss: 0.2468 - accuracy: 0.9245 - val_loss: 0.4767 - val_accuracy: 0.8646\n",
            "Epoch 25/25\n",
            "188/188 [==============================] - 4s 21ms/step - loss: 0.2411 - accuracy: 0.9259 - val_loss: 0.4824 - val_accuracy: 0.8645\n"
          ]
        },
        {
          "output_type": "execute_result",
          "data": {
            "text/plain": [
              "<keras.callbacks.History at 0x7f057e610810>"
            ]
          },
          "metadata": {},
          "execution_count": 65
        }
      ]
    },
    {
      "cell_type": "code",
      "source": [
        "encoder_model = Model(inputs=encoder_inputs,\n",
        "                      outputs=[encoder_outputs, encoder_states])"
      ],
      "metadata": {
        "id": "8-fJ9UdeloP4"
      },
      "execution_count": null,
      "outputs": []
    },
    {
      "cell_type": "code",
      "source": [
        "decoder_state_input_h = Input(shape=(256))\n",
        "decoder_state_input_c = Input(shape=(256))\n",
        "\n",
        "estate_h  = Input(shape=(256))\n",
        "encoder_outputs = Input(shape=(256))\n",
        "\n",
        "decoder_states_inputs = [decoder_state_input_h, decoder_state_input_c]\n",
        "decoder_outputs, state_h, state_c = decoder_lstm(decoder_inputs, initial_state = decoder_states_inputs)\n",
        "\n",
        "decoder_states = [state_h, state_c]\n",
        "\n",
        "S_ = tf.concat([ estate_h[:, tf.newaxis, :], decoder_outputs[:, :-1, :]], axis=1)\n",
        "context_vector = attention([S_, encoder_outputs])\n",
        "decoder_concat  = tf.concat([decoder_outputs, context_vector], axis=-1)\n",
        "\n",
        "decoder_outputs = decoder_softmax_layer(decoder_concat)\n",
        "\n",
        "decoder_model = Model(inputs=[decoder_inputs, estate_h, encoder_outputs] + decoder_states_inputs,\n",
        "                      outputs=[decoder_outputs] + decoder_states)"
      ],
      "metadata": {
        "id": "6XIIxusjl9RS"
      },
      "execution_count": null,
      "outputs": []
    },
    {
      "cell_type": "code",
      "source": [
        "idx_to_src = dict((i, char) for char, i in src_to_idx.items())\n",
        "idx_to_tar = dict((i, char) for char, i in tar_to_idx.items())"
      ],
      "metadata": {
        "id": "NkpIuy6VoK0X"
      },
      "execution_count": null,
      "outputs": []
    },
    {
      "cell_type": "code",
      "source": [
        "def predict_decode(input_seq):\n",
        "    outputs_input, states_value = encoder_model.predict(input_seq)\n",
        "    target_seq = np.zeros((1, 1, tar_vocab_size))\n",
        "    target_seq[0, 0, tar_to_idx['\\t']] = 1\n",
        "\n",
        "    stop = False\n",
        "    decoded_sentence = \"\"\n",
        "\n",
        "    while not stop:\n",
        "        output_tokens, h, c  = decoder_model.predict([target_seq, states_value[0], outputs_input] + states_value)\n",
        "\n",
        "        sampled_token_index = np.argmax(output_tokens[0, -1, :])\n",
        "        sampled_char = idx_to_tar[sampled_token_index]\n",
        "\n",
        "        decoded_sentence += sampled_char\n",
        "\n",
        "        if sampled_char == '\\n' or len(decoded_sentence) > max_tar_len :\n",
        "            stop = True\n",
        "        target_seq = np.zeros((1, 1, tar_vocab_size))\n",
        "        target_seq[0, 0, sampled_token_index] = 1. \n",
        "\n",
        "        states_value = [h, c]\n",
        "\n",
        "    return decoded_sentence\n"
      ],
      "metadata": {
        "id": "foHh_BNDoQ44"
      },
      "execution_count": null,
      "outputs": []
    },
    {
      "cell_type": "code",
      "source": [
        "import numpy as np\n",
        "for seq_index in [100, 200, 300, 400]:\n",
        "    input_seq = encoder_input[seq_index : seq_index + 1]\n",
        "    decoded_sentence = predict_decode(input_seq)\n",
        "\n",
        "    print('입력:', lines.src[seq_index])\n",
        "    print('정답:', lines.tar[seq_index][1:len(lines.tar[seq_index])-1])\n",
        "    print('번역:', decoded_sentence[:len(decoded_sentence)-1], '\\n')"
      ],
      "metadata": {
        "id": "oPCXOk9erR_g",
        "outputId": "5d546ede-3fd5-4746-d7be-2e25700412dd",
        "colab": {
          "base_uri": "https://localhost:8080/"
        }
      },
      "execution_count": null,
      "outputs": [
        {
          "output_type": "stream",
          "name": "stdout",
          "text": [
            "1/1 [==============================] - 0s 460ms/step\n",
            "1/1 [==============================] - 1s 826ms/step\n",
            "1/1 [==============================] - 0s 19ms/step\n",
            "1/1 [==============================] - 0s 17ms/step\n",
            "1/1 [==============================] - 0s 16ms/step\n",
            "1/1 [==============================] - 0s 16ms/step\n",
            "1/1 [==============================] - 0s 20ms/step\n",
            "1/1 [==============================] - 0s 20ms/step\n",
            "1/1 [==============================] - 0s 17ms/step\n",
            "1/1 [==============================] - 0s 18ms/step\n",
            "1/1 [==============================] - 0s 18ms/step\n",
            "1/1 [==============================] - 0s 18ms/step\n",
            "1/1 [==============================] - 0s 17ms/step\n",
            "입력: Got it?\n",
            "정답: T'as capté ?\n",
            "번역: Commencez ! \n",
            "\n",
            "1/1 [==============================] - 0s 14ms/step\n",
            "1/1 [==============================] - 0s 18ms/step\n",
            "1/1 [==============================] - 0s 17ms/step\n",
            "1/1 [==============================] - 0s 18ms/step\n",
            "1/1 [==============================] - 0s 22ms/step\n",
            "1/1 [==============================] - 0s 24ms/step\n",
            "1/1 [==============================] - 0s 19ms/step\n",
            "1/1 [==============================] - 0s 19ms/step\n",
            "1/1 [==============================] - 0s 19ms/step\n",
            "1/1 [==============================] - 0s 18ms/step\n",
            "1/1 [==============================] - 0s 17ms/step\n",
            "1/1 [==============================] - 0s 18ms/step\n",
            "입력: Bury it.\n",
            "정답: Enterre-le.\n",
            "번역: Mange-toi. \n",
            "\n",
            "1/1 [==============================] - 0s 14ms/step\n",
            "1/1 [==============================] - 0s 18ms/step\n",
            "1/1 [==============================] - 0s 17ms/step\n",
            "1/1 [==============================] - 0s 17ms/step\n",
            "1/1 [==============================] - 0s 19ms/step\n",
            "1/1 [==============================] - 0s 18ms/step\n",
            "1/1 [==============================] - 0s 19ms/step\n",
            "1/1 [==============================] - 0s 19ms/step\n",
            "1/1 [==============================] - 0s 18ms/step\n",
            "1/1 [==============================] - 0s 17ms/step\n",
            "1/1 [==============================] - 0s 17ms/step\n",
            "1/1 [==============================] - 0s 16ms/step\n",
            "1/1 [==============================] - 0s 18ms/step\n",
            "1/1 [==============================] - 0s 19ms/step\n",
            "입력: Hang on.\n",
            "정답: Tiens bon !\n",
            "번역: Attends Tom. \n",
            "\n",
            "1/1 [==============================] - 0s 15ms/step\n",
            "1/1 [==============================] - 0s 19ms/step\n",
            "1/1 [==============================] - 0s 17ms/step\n",
            "1/1 [==============================] - 0s 16ms/step\n",
            "1/1 [==============================] - 0s 17ms/step\n",
            "1/1 [==============================] - 0s 17ms/step\n",
            "1/1 [==============================] - 0s 19ms/step\n",
            "1/1 [==============================] - 0s 18ms/step\n",
            "1/1 [==============================] - 0s 18ms/step\n",
            "1/1 [==============================] - 0s 19ms/step\n",
            "1/1 [==============================] - 0s 18ms/step\n",
            "1/1 [==============================] - 0s 18ms/step\n",
            "1/1 [==============================] - 0s 29ms/step\n",
            "1/1 [==============================] - 0s 29ms/step\n",
            "입력: Shut up!\n",
            "정답: Ferme-la !\n",
            "번역: Touchez-le ! \n",
            "\n"
          ]
        }
      ]
    },
    {
      "cell_type": "code",
      "source": [],
      "metadata": {
        "id": "0ld-0J9RrS-n"
      },
      "execution_count": null,
      "outputs": []
    }
  ]
}