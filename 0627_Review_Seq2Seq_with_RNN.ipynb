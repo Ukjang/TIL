{
  "nbformat": 4,
  "nbformat_minor": 0,
  "metadata": {
    "colab": {
      "name": "0627_Review_Seq2Seq with RNN.ipynb",
      "provenance": []
    },
    "kernelspec": {
      "name": "python3",
      "display_name": "Python 3"
    },
    "language_info": {
      "name": "python"
    },
    "accelerator": "GPU",
    "gpuClass": "standard"
  },
  "cells": [
    {
      "cell_type": "code",
      "execution_count": 1,
      "metadata": {
        "id": "esMceES6r7lU"
      },
      "outputs": [],
      "source": [
        "import os\n",
        "import shutil\n",
        "import urllib3\n",
        "import zipfile\n",
        "import pandas as pd"
      ]
    },
    {
      "cell_type": "code",
      "source": [
        "http = urllib3.PoolManager()\n",
        "url = 'http://www.manythings.org/anki/fra-eng.zip'\n",
        "filename = 'fra-eng.zip'\n",
        "path = os.getcwd()\n",
        "zipfilename= os.path.join(path, filename)\n",
        "\n",
        "with http.request('Get', url, preload_content=False) as r, open(zipfilename, 'wb') as out_file:\n",
        "    shutil.copyfileobj(r, out_file)\n",
        "\n",
        "with zipfile.ZipFile(zipfilename, 'r') as zip_ref:\n",
        "    zip_ref.extractall(path)"
      ],
      "metadata": {
        "id": "9NpLlSousIqA"
      },
      "execution_count": 2,
      "outputs": []
    },
    {
      "cell_type": "code",
      "source": [
        "lines = pd.read_csv('fra.txt', names = ['src', 'tar', 'lic'], sep='\\t')\n",
        "del lines['lic']\n",
        "len(lines)"
      ],
      "metadata": {
        "colab": {
          "base_uri": "https://localhost:8080/"
        },
        "id": "vBrOaPG-sQEG",
        "outputId": "951862bf-8eff-4ad9-aa74-24c2f1a6cdc3"
      },
      "execution_count": 3,
      "outputs": [
        {
          "output_type": "execute_result",
          "data": {
            "text/plain": [
              "194513"
            ]
          },
          "metadata": {},
          "execution_count": 3
        }
      ]
    },
    {
      "cell_type": "code",
      "source": [
        "lines"
      ],
      "metadata": {
        "colab": {
          "base_uri": "https://localhost:8080/",
          "height": 424
        },
        "id": "CrDOvkv1uL55",
        "outputId": "49eda100-552f-4d81-adf7-bad7b07cfdfb"
      },
      "execution_count": 4,
      "outputs": [
        {
          "output_type": "execute_result",
          "data": {
            "text/plain": [
              "                                                      src  \\\n",
              "0                                                     Go.   \n",
              "1                                                     Go.   \n",
              "2                                                     Go.   \n",
              "3                                                     Hi.   \n",
              "4                                                     Hi.   \n",
              "...                                                   ...   \n",
              "194508  A carbon footprint is the amount of carbon dio...   \n",
              "194509  Death is something that we're often discourage...   \n",
              "194510  Since there are usually multiple websites on a...   \n",
              "194511  If someone who doesn't know your background sa...   \n",
              "194512  It may be impossible to get a completely error...   \n",
              "\n",
              "                                                      tar  \n",
              "0                                                    Va !  \n",
              "1                                                 Marche.  \n",
              "2                                                 Bouge !  \n",
              "3                                                 Salut !  \n",
              "4                                                  Salut.  \n",
              "...                                                   ...  \n",
              "194508  Une empreinte carbone est la somme de pollutio...  \n",
              "194509  La mort est une chose qu'on nous décourage sou...  \n",
              "194510  Puisqu'il y a de multiples sites web sur chaqu...  \n",
              "194511  Si quelqu'un qui ne connaît pas vos antécédent...  \n",
              "194512  Il est peut-être impossible d'obtenir un Corpu...  \n",
              "\n",
              "[194513 rows x 2 columns]"
            ],
            "text/html": [
              "\n",
              "  <div id=\"df-5e874e8d-2d9e-44d4-a70b-ac5ec824fc8f\">\n",
              "    <div class=\"colab-df-container\">\n",
              "      <div>\n",
              "<style scoped>\n",
              "    .dataframe tbody tr th:only-of-type {\n",
              "        vertical-align: middle;\n",
              "    }\n",
              "\n",
              "    .dataframe tbody tr th {\n",
              "        vertical-align: top;\n",
              "    }\n",
              "\n",
              "    .dataframe thead th {\n",
              "        text-align: right;\n",
              "    }\n",
              "</style>\n",
              "<table border=\"1\" class=\"dataframe\">\n",
              "  <thead>\n",
              "    <tr style=\"text-align: right;\">\n",
              "      <th></th>\n",
              "      <th>src</th>\n",
              "      <th>tar</th>\n",
              "    </tr>\n",
              "  </thead>\n",
              "  <tbody>\n",
              "    <tr>\n",
              "      <th>0</th>\n",
              "      <td>Go.</td>\n",
              "      <td>Va !</td>\n",
              "    </tr>\n",
              "    <tr>\n",
              "      <th>1</th>\n",
              "      <td>Go.</td>\n",
              "      <td>Marche.</td>\n",
              "    </tr>\n",
              "    <tr>\n",
              "      <th>2</th>\n",
              "      <td>Go.</td>\n",
              "      <td>Bouge !</td>\n",
              "    </tr>\n",
              "    <tr>\n",
              "      <th>3</th>\n",
              "      <td>Hi.</td>\n",
              "      <td>Salut !</td>\n",
              "    </tr>\n",
              "    <tr>\n",
              "      <th>4</th>\n",
              "      <td>Hi.</td>\n",
              "      <td>Salut.</td>\n",
              "    </tr>\n",
              "    <tr>\n",
              "      <th>...</th>\n",
              "      <td>...</td>\n",
              "      <td>...</td>\n",
              "    </tr>\n",
              "    <tr>\n",
              "      <th>194508</th>\n",
              "      <td>A carbon footprint is the amount of carbon dio...</td>\n",
              "      <td>Une empreinte carbone est la somme de pollutio...</td>\n",
              "    </tr>\n",
              "    <tr>\n",
              "      <th>194509</th>\n",
              "      <td>Death is something that we're often discourage...</td>\n",
              "      <td>La mort est une chose qu'on nous décourage sou...</td>\n",
              "    </tr>\n",
              "    <tr>\n",
              "      <th>194510</th>\n",
              "      <td>Since there are usually multiple websites on a...</td>\n",
              "      <td>Puisqu'il y a de multiples sites web sur chaqu...</td>\n",
              "    </tr>\n",
              "    <tr>\n",
              "      <th>194511</th>\n",
              "      <td>If someone who doesn't know your background sa...</td>\n",
              "      <td>Si quelqu'un qui ne connaît pas vos antécédent...</td>\n",
              "    </tr>\n",
              "    <tr>\n",
              "      <th>194512</th>\n",
              "      <td>It may be impossible to get a completely error...</td>\n",
              "      <td>Il est peut-être impossible d'obtenir un Corpu...</td>\n",
              "    </tr>\n",
              "  </tbody>\n",
              "</table>\n",
              "<p>194513 rows × 2 columns</p>\n",
              "</div>\n",
              "      <button class=\"colab-df-convert\" onclick=\"convertToInteractive('df-5e874e8d-2d9e-44d4-a70b-ac5ec824fc8f')\"\n",
              "              title=\"Convert this dataframe to an interactive table.\"\n",
              "              style=\"display:none;\">\n",
              "        \n",
              "  <svg xmlns=\"http://www.w3.org/2000/svg\" height=\"24px\"viewBox=\"0 0 24 24\"\n",
              "       width=\"24px\">\n",
              "    <path d=\"M0 0h24v24H0V0z\" fill=\"none\"/>\n",
              "    <path d=\"M18.56 5.44l.94 2.06.94-2.06 2.06-.94-2.06-.94-.94-2.06-.94 2.06-2.06.94zm-11 1L8.5 8.5l.94-2.06 2.06-.94-2.06-.94L8.5 2.5l-.94 2.06-2.06.94zm10 10l.94 2.06.94-2.06 2.06-.94-2.06-.94-.94-2.06-.94 2.06-2.06.94z\"/><path d=\"M17.41 7.96l-1.37-1.37c-.4-.4-.92-.59-1.43-.59-.52 0-1.04.2-1.43.59L10.3 9.45l-7.72 7.72c-.78.78-.78 2.05 0 2.83L4 21.41c.39.39.9.59 1.41.59.51 0 1.02-.2 1.41-.59l7.78-7.78 2.81-2.81c.8-.78.8-2.07 0-2.86zM5.41 20L4 18.59l7.72-7.72 1.47 1.35L5.41 20z\"/>\n",
              "  </svg>\n",
              "      </button>\n",
              "      \n",
              "  <style>\n",
              "    .colab-df-container {\n",
              "      display:flex;\n",
              "      flex-wrap:wrap;\n",
              "      gap: 12px;\n",
              "    }\n",
              "\n",
              "    .colab-df-convert {\n",
              "      background-color: #E8F0FE;\n",
              "      border: none;\n",
              "      border-radius: 50%;\n",
              "      cursor: pointer;\n",
              "      display: none;\n",
              "      fill: #1967D2;\n",
              "      height: 32px;\n",
              "      padding: 0 0 0 0;\n",
              "      width: 32px;\n",
              "    }\n",
              "\n",
              "    .colab-df-convert:hover {\n",
              "      background-color: #E2EBFA;\n",
              "      box-shadow: 0px 1px 2px rgba(60, 64, 67, 0.3), 0px 1px 3px 1px rgba(60, 64, 67, 0.15);\n",
              "      fill: #174EA6;\n",
              "    }\n",
              "\n",
              "    [theme=dark] .colab-df-convert {\n",
              "      background-color: #3B4455;\n",
              "      fill: #D2E3FC;\n",
              "    }\n",
              "\n",
              "    [theme=dark] .colab-df-convert:hover {\n",
              "      background-color: #434B5C;\n",
              "      box-shadow: 0px 1px 3px 1px rgba(0, 0, 0, 0.15);\n",
              "      filter: drop-shadow(0px 1px 2px rgba(0, 0, 0, 0.3));\n",
              "      fill: #FFFFFF;\n",
              "    }\n",
              "  </style>\n",
              "\n",
              "      <script>\n",
              "        const buttonEl =\n",
              "          document.querySelector('#df-5e874e8d-2d9e-44d4-a70b-ac5ec824fc8f button.colab-df-convert');\n",
              "        buttonEl.style.display =\n",
              "          google.colab.kernel.accessAllowed ? 'block' : 'none';\n",
              "\n",
              "        async function convertToInteractive(key) {\n",
              "          const element = document.querySelector('#df-5e874e8d-2d9e-44d4-a70b-ac5ec824fc8f');\n",
              "          const dataTable =\n",
              "            await google.colab.kernel.invokeFunction('convertToInteractive',\n",
              "                                                     [key], {});\n",
              "          if (!dataTable) return;\n",
              "\n",
              "          const docLinkHtml = 'Like what you see? Visit the ' +\n",
              "            '<a target=\"_blank\" href=https://colab.research.google.com/notebooks/data_table.ipynb>data table notebook</a>'\n",
              "            + ' to learn more about interactive tables.';\n",
              "          element.innerHTML = '';\n",
              "          dataTable['output_type'] = 'display_data';\n",
              "          await google.colab.output.renderOutput(dataTable, element);\n",
              "          const docLink = document.createElement('div');\n",
              "          docLink.innerHTML = docLinkHtml;\n",
              "          element.appendChild(docLink);\n",
              "        }\n",
              "      </script>\n",
              "    </div>\n",
              "  </div>\n",
              "  "
            ]
          },
          "metadata": {},
          "execution_count": 4
        }
      ]
    },
    {
      "cell_type": "code",
      "source": [
        "sos = '\\t'\n",
        "eos = '\\n'\n",
        "lines = lines.loc[:, 'src' : 'tar']\n",
        "lines = lines[0:30000]\n",
        "lines.tar = lines.tar.apply(lambda x: sos + x + eos)\n",
        "\n",
        "lines[:10]"
      ],
      "metadata": {
        "colab": {
          "base_uri": "https://localhost:8080/",
          "height": 363
        },
        "id": "Bt107G_PuQrJ",
        "outputId": "c2d7a33a-d4bd-4f46-dc84-ebbd2044b9af"
      },
      "execution_count": 5,
      "outputs": [
        {
          "output_type": "execute_result",
          "data": {
            "text/plain": [
              "    src                                 tar\n",
              "0   Go.                            \\tVa !\\n\n",
              "1   Go.                         \\tMarche.\\n\n",
              "2   Go.                         \\tBouge !\\n\n",
              "3   Hi.                         \\tSalut !\\n\n",
              "4   Hi.                          \\tSalut.\\n\n",
              "5  Run!                         \\tCours !\\n\n",
              "6  Run!                        \\tCourez !\\n\n",
              "7  Run!  \\tPrenez vos jambes à vos cous !\\n\n",
              "8  Run!                          \\tFile !\\n\n",
              "9  Run!                         \\tFilez !\\n"
            ],
            "text/html": [
              "\n",
              "  <div id=\"df-4d1b73f8-2f99-4fee-846a-6085086507d5\">\n",
              "    <div class=\"colab-df-container\">\n",
              "      <div>\n",
              "<style scoped>\n",
              "    .dataframe tbody tr th:only-of-type {\n",
              "        vertical-align: middle;\n",
              "    }\n",
              "\n",
              "    .dataframe tbody tr th {\n",
              "        vertical-align: top;\n",
              "    }\n",
              "\n",
              "    .dataframe thead th {\n",
              "        text-align: right;\n",
              "    }\n",
              "</style>\n",
              "<table border=\"1\" class=\"dataframe\">\n",
              "  <thead>\n",
              "    <tr style=\"text-align: right;\">\n",
              "      <th></th>\n",
              "      <th>src</th>\n",
              "      <th>tar</th>\n",
              "    </tr>\n",
              "  </thead>\n",
              "  <tbody>\n",
              "    <tr>\n",
              "      <th>0</th>\n",
              "      <td>Go.</td>\n",
              "      <td>\\tVa !\\n</td>\n",
              "    </tr>\n",
              "    <tr>\n",
              "      <th>1</th>\n",
              "      <td>Go.</td>\n",
              "      <td>\\tMarche.\\n</td>\n",
              "    </tr>\n",
              "    <tr>\n",
              "      <th>2</th>\n",
              "      <td>Go.</td>\n",
              "      <td>\\tBouge !\\n</td>\n",
              "    </tr>\n",
              "    <tr>\n",
              "      <th>3</th>\n",
              "      <td>Hi.</td>\n",
              "      <td>\\tSalut !\\n</td>\n",
              "    </tr>\n",
              "    <tr>\n",
              "      <th>4</th>\n",
              "      <td>Hi.</td>\n",
              "      <td>\\tSalut.\\n</td>\n",
              "    </tr>\n",
              "    <tr>\n",
              "      <th>5</th>\n",
              "      <td>Run!</td>\n",
              "      <td>\\tCours !\\n</td>\n",
              "    </tr>\n",
              "    <tr>\n",
              "      <th>6</th>\n",
              "      <td>Run!</td>\n",
              "      <td>\\tCourez !\\n</td>\n",
              "    </tr>\n",
              "    <tr>\n",
              "      <th>7</th>\n",
              "      <td>Run!</td>\n",
              "      <td>\\tPrenez vos jambes à vos cous !\\n</td>\n",
              "    </tr>\n",
              "    <tr>\n",
              "      <th>8</th>\n",
              "      <td>Run!</td>\n",
              "      <td>\\tFile !\\n</td>\n",
              "    </tr>\n",
              "    <tr>\n",
              "      <th>9</th>\n",
              "      <td>Run!</td>\n",
              "      <td>\\tFilez !\\n</td>\n",
              "    </tr>\n",
              "  </tbody>\n",
              "</table>\n",
              "</div>\n",
              "      <button class=\"colab-df-convert\" onclick=\"convertToInteractive('df-4d1b73f8-2f99-4fee-846a-6085086507d5')\"\n",
              "              title=\"Convert this dataframe to an interactive table.\"\n",
              "              style=\"display:none;\">\n",
              "        \n",
              "  <svg xmlns=\"http://www.w3.org/2000/svg\" height=\"24px\"viewBox=\"0 0 24 24\"\n",
              "       width=\"24px\">\n",
              "    <path d=\"M0 0h24v24H0V0z\" fill=\"none\"/>\n",
              "    <path d=\"M18.56 5.44l.94 2.06.94-2.06 2.06-.94-2.06-.94-.94-2.06-.94 2.06-2.06.94zm-11 1L8.5 8.5l.94-2.06 2.06-.94-2.06-.94L8.5 2.5l-.94 2.06-2.06.94zm10 10l.94 2.06.94-2.06 2.06-.94-2.06-.94-.94-2.06-.94 2.06-2.06.94z\"/><path d=\"M17.41 7.96l-1.37-1.37c-.4-.4-.92-.59-1.43-.59-.52 0-1.04.2-1.43.59L10.3 9.45l-7.72 7.72c-.78.78-.78 2.05 0 2.83L4 21.41c.39.39.9.59 1.41.59.51 0 1.02-.2 1.41-.59l7.78-7.78 2.81-2.81c.8-.78.8-2.07 0-2.86zM5.41 20L4 18.59l7.72-7.72 1.47 1.35L5.41 20z\"/>\n",
              "  </svg>\n",
              "      </button>\n",
              "      \n",
              "  <style>\n",
              "    .colab-df-container {\n",
              "      display:flex;\n",
              "      flex-wrap:wrap;\n",
              "      gap: 12px;\n",
              "    }\n",
              "\n",
              "    .colab-df-convert {\n",
              "      background-color: #E8F0FE;\n",
              "      border: none;\n",
              "      border-radius: 50%;\n",
              "      cursor: pointer;\n",
              "      display: none;\n",
              "      fill: #1967D2;\n",
              "      height: 32px;\n",
              "      padding: 0 0 0 0;\n",
              "      width: 32px;\n",
              "    }\n",
              "\n",
              "    .colab-df-convert:hover {\n",
              "      background-color: #E2EBFA;\n",
              "      box-shadow: 0px 1px 2px rgba(60, 64, 67, 0.3), 0px 1px 3px 1px rgba(60, 64, 67, 0.15);\n",
              "      fill: #174EA6;\n",
              "    }\n",
              "\n",
              "    [theme=dark] .colab-df-convert {\n",
              "      background-color: #3B4455;\n",
              "      fill: #D2E3FC;\n",
              "    }\n",
              "\n",
              "    [theme=dark] .colab-df-convert:hover {\n",
              "      background-color: #434B5C;\n",
              "      box-shadow: 0px 1px 3px 1px rgba(0, 0, 0, 0.15);\n",
              "      filter: drop-shadow(0px 1px 2px rgba(0, 0, 0, 0.3));\n",
              "      fill: #FFFFFF;\n",
              "    }\n",
              "  </style>\n",
              "\n",
              "      <script>\n",
              "        const buttonEl =\n",
              "          document.querySelector('#df-4d1b73f8-2f99-4fee-846a-6085086507d5 button.colab-df-convert');\n",
              "        buttonEl.style.display =\n",
              "          google.colab.kernel.accessAllowed ? 'block' : 'none';\n",
              "\n",
              "        async function convertToInteractive(key) {\n",
              "          const element = document.querySelector('#df-4d1b73f8-2f99-4fee-846a-6085086507d5');\n",
              "          const dataTable =\n",
              "            await google.colab.kernel.invokeFunction('convertToInteractive',\n",
              "                                                     [key], {});\n",
              "          if (!dataTable) return;\n",
              "\n",
              "          const docLinkHtml = 'Like what you see? Visit the ' +\n",
              "            '<a target=\"_blank\" href=https://colab.research.google.com/notebooks/data_table.ipynb>data table notebook</a>'\n",
              "            + ' to learn more about interactive tables.';\n",
              "          element.innerHTML = '';\n",
              "          dataTable['output_type'] = 'display_data';\n",
              "          await google.colab.output.renderOutput(dataTable, element);\n",
              "          const docLink = document.createElement('div');\n",
              "          docLink.innerHTML = docLinkHtml;\n",
              "          element.appendChild(docLink);\n",
              "        }\n",
              "      </script>\n",
              "    </div>\n",
              "  </div>\n",
              "  "
            ]
          },
          "metadata": {},
          "execution_count": 5
        }
      ]
    },
    {
      "cell_type": "code",
      "source": [
        "src_vocab = set()\n",
        "\n",
        "for line in lines.src:\n",
        "    for char in line:\n",
        "        src_vocab.add(char)\n",
        "\n",
        "tar_vocab = set()\n",
        "\n",
        "for line in lines.tar:\n",
        "    for char in line:\n",
        "        tar_vocab.add(char)"
      ],
      "metadata": {
        "id": "CrSXOr6iuf1i"
      },
      "execution_count": 6,
      "outputs": []
    },
    {
      "cell_type": "code",
      "source": [
        "print(src_vocab)"
      ],
      "metadata": {
        "colab": {
          "base_uri": "https://localhost:8080/"
        },
        "id": "eeHWgYtxvCJc",
        "outputId": "1cd28f3e-ee8e-41b1-f0f0-295929435ab6"
      },
      "execution_count": 7,
      "outputs": [
        {
          "output_type": "stream",
          "name": "stdout",
          "text": [
            "{'o', '.', 'e', '3', '?', 'D', 'B', 'N', 'j', 'a', 'g', 'G', '7', 'l', 'v', 'H', 'n', 'w', 'x', '9', 'p', 'P', 'R', 'é', '/', 'Q', 'u', ' ', 'y', '0', 'O', ':', 'Z', 'm', 'b', 'Y', '!', 'r', 'c', 'h', '-', '\"', '6', \"'\", '4', ',', '&', 'L', 'K', 's', '1', '$', 'M', 'd', 'A', 'E', 'W', 'U', 't', '8', 'k', 'T', 'z', 'i', 'S', 'F', 'f', '2', 'X', 'I', '5', 'J', '%', 'C', 'V', 'q'}\n"
          ]
        }
      ]
    },
    {
      "cell_type": "code",
      "source": [
        "src_vocab = sorted(list(src_vocab))\n",
        "tar_vocab = sorted(list(tar_vocab))\n",
        "\n",
        "src_vocab_size = len(src_vocab) + 1\n",
        "tar_vocab_size = len(tar_vocab) + 1\n",
        "\n",
        "src_to_idx = dict([(word, i+1) for i, word in enumerate(src_vocab)])\n",
        "tar_to_idx = dict([(word, i+1) for i, word in enumerate(tar_vocab)])\n",
        "\n",
        "print(src_to_idx)\n",
        "print(tar_to_idx)"
      ],
      "metadata": {
        "colab": {
          "base_uri": "https://localhost:8080/"
        },
        "id": "cT7GvBUbvDXa",
        "outputId": "a2df3442-df88-4f7f-b133-c933491b97d8"
      },
      "execution_count": 8,
      "outputs": [
        {
          "output_type": "stream",
          "name": "stdout",
          "text": [
            "{' ': 1, '!': 2, '\"': 3, '$': 4, '%': 5, '&': 6, \"'\": 7, ',': 8, '-': 9, '.': 10, '/': 11, '0': 12, '1': 13, '2': 14, '3': 15, '4': 16, '5': 17, '6': 18, '7': 19, '8': 20, '9': 21, ':': 22, '?': 23, 'A': 24, 'B': 25, 'C': 26, 'D': 27, 'E': 28, 'F': 29, 'G': 30, 'H': 31, 'I': 32, 'J': 33, 'K': 34, 'L': 35, 'M': 36, 'N': 37, 'O': 38, 'P': 39, 'Q': 40, 'R': 41, 'S': 42, 'T': 43, 'U': 44, 'V': 45, 'W': 46, 'X': 47, 'Y': 48, 'Z': 49, 'a': 50, 'b': 51, 'c': 52, 'd': 53, 'e': 54, 'f': 55, 'g': 56, 'h': 57, 'i': 58, 'j': 59, 'k': 60, 'l': 61, 'm': 62, 'n': 63, 'o': 64, 'p': 65, 'q': 66, 'r': 67, 's': 68, 't': 69, 'u': 70, 'v': 71, 'w': 72, 'x': 73, 'y': 74, 'z': 75, 'é': 76}\n",
            "{'\\t': 1, '\\n': 2, ' ': 3, '!': 4, '\"': 5, '$': 6, '%': 7, '&': 8, \"'\": 9, '(': 10, ')': 11, ',': 12, '-': 13, '.': 14, '0': 15, '1': 16, '2': 17, '3': 18, '4': 19, '5': 20, '6': 21, '7': 22, '8': 23, '9': 24, ':': 25, '?': 26, 'A': 27, 'B': 28, 'C': 29, 'D': 30, 'E': 31, 'F': 32, 'G': 33, 'H': 34, 'I': 35, 'J': 36, 'K': 37, 'L': 38, 'M': 39, 'N': 40, 'O': 41, 'P': 42, 'Q': 43, 'R': 44, 'S': 45, 'T': 46, 'U': 47, 'V': 48, 'W': 49, 'X': 50, 'Y': 51, 'a': 52, 'b': 53, 'c': 54, 'd': 55, 'e': 56, 'f': 57, 'g': 58, 'h': 59, 'i': 60, 'j': 61, 'k': 62, 'l': 63, 'm': 64, 'n': 65, 'o': 66, 'p': 67, 'q': 68, 'r': 69, 's': 70, 't': 71, 'u': 72, 'v': 73, 'w': 74, 'x': 75, 'y': 76, 'z': 77, '\\xa0': 78, '«': 79, '»': 80, 'À': 81, 'Ç': 82, 'É': 83, 'Ê': 84, 'Ô': 85, 'à': 86, 'â': 87, 'ç': 88, 'è': 89, 'é': 90, 'ê': 91, 'ë': 92, 'î': 93, 'ï': 94, 'ô': 95, 'ù': 96, 'û': 97, 'œ': 98, '\\u2009': 99, '‘': 100, '’': 101, '\\u202f': 102}\n"
          ]
        }
      ]
    },
    {
      "cell_type": "code",
      "source": [
        "encoder_input = []\n",
        "for line in lines.src:\n",
        "    encoder_input.append([src_to_idx[w] for w in line])\n",
        "\n",
        "print(encoder_input[:5])"
      ],
      "metadata": {
        "colab": {
          "base_uri": "https://localhost:8080/"
        },
        "id": "ghvJU3OyvonX",
        "outputId": "9628d56e-abfc-4d7e-b8fe-5b070240f63e"
      },
      "execution_count": 9,
      "outputs": [
        {
          "output_type": "stream",
          "name": "stdout",
          "text": [
            "[[30, 64, 10], [30, 64, 10], [30, 64, 10], [31, 58, 10], [31, 58, 10]]\n"
          ]
        }
      ]
    },
    {
      "cell_type": "code",
      "source": [
        "print(encoder_input[:5])\n",
        "print(lines.src[:5])"
      ],
      "metadata": {
        "colab": {
          "base_uri": "https://localhost:8080/"
        },
        "id": "CX3m61LlwBad",
        "outputId": "2ca65726-148b-4d46-b017-61d802b93a37"
      },
      "execution_count": 10,
      "outputs": [
        {
          "output_type": "stream",
          "name": "stdout",
          "text": [
            "[[30, 64, 10], [30, 64, 10], [30, 64, 10], [31, 58, 10], [31, 58, 10]]\n",
            "0    Go.\n",
            "1    Go.\n",
            "2    Go.\n",
            "3    Hi.\n",
            "4    Hi.\n",
            "Name: src, dtype: object\n"
          ]
        }
      ]
    },
    {
      "cell_type": "code",
      "source": [
        "decoder_input = []\n",
        "for line in lines.tar:\n",
        "    decoder_input.append([tar_to_idx[w] for w in line])\n",
        "print(decoder_input[:5])"
      ],
      "metadata": {
        "colab": {
          "base_uri": "https://localhost:8080/"
        },
        "id": "bXztxWf2wNQQ",
        "outputId": "cfb79679-faa0-4fce-e3f4-11a1002a8241"
      },
      "execution_count": 11,
      "outputs": [
        {
          "output_type": "stream",
          "name": "stdout",
          "text": [
            "[[1, 48, 52, 3, 4, 2], [1, 39, 52, 69, 54, 59, 56, 14, 2], [1, 28, 66, 72, 58, 56, 3, 4, 2], [1, 45, 52, 63, 72, 71, 3, 4, 2], [1, 45, 52, 63, 72, 71, 14, 2]]\n"
          ]
        }
      ]
    },
    {
      "cell_type": "code",
      "source": [
        "decoder_target = []\n",
        "for line in lines.tar:\n",
        "    decoder_target.append([tar_to_idx[w] for w in line if w != sos ])\n",
        "print(decoder_target[:5])"
      ],
      "metadata": {
        "colab": {
          "base_uri": "https://localhost:8080/"
        },
        "id": "Y3yHxyelxACN",
        "outputId": "f31ea0eb-1588-4dac-a6e2-17a8fd0cab89"
      },
      "execution_count": 12,
      "outputs": [
        {
          "output_type": "stream",
          "name": "stdout",
          "text": [
            "[[48, 52, 3, 4, 2], [39, 52, 69, 54, 59, 56, 14, 2], [28, 66, 72, 58, 56, 3, 4, 2], [45, 52, 63, 72, 71, 3, 4, 2], [45, 52, 63, 72, 71, 14, 2]]\n"
          ]
        }
      ]
    },
    {
      "cell_type": "code",
      "source": [
        "print(decoder_input[:5])\n",
        "print(lines.tar[:5])"
      ],
      "metadata": {
        "colab": {
          "base_uri": "https://localhost:8080/"
        },
        "id": "mj3M1biNwY7y",
        "outputId": "8a28e196-ffef-424d-911f-c126552e3150"
      },
      "execution_count": 13,
      "outputs": [
        {
          "output_type": "stream",
          "name": "stdout",
          "text": [
            "[[1, 48, 52, 3, 4, 2], [1, 39, 52, 69, 54, 59, 56, 14, 2], [1, 28, 66, 72, 58, 56, 3, 4, 2], [1, 45, 52, 63, 72, 71, 3, 4, 2], [1, 45, 52, 63, 72, 71, 14, 2]]\n",
            "0       \\tVa !\\n\n",
            "1    \\tMarche.\\n\n",
            "2    \\tBouge !\\n\n",
            "3    \\tSalut !\\n\n",
            "4     \\tSalut.\\n\n",
            "Name: tar, dtype: object\n"
          ]
        }
      ]
    },
    {
      "cell_type": "code",
      "source": [
        "from tensorflow.keras.preprocessing.sequence import pad_sequences\n",
        "\n",
        "max_src_len = max(len(line) for line in lines.src)\n",
        "max_tar_len = max(len(line) for line in lines.tar)\n",
        "\n",
        "encoder_input = pad_sequences(encoder_input, maxlen = max_src_len, padding='post')\n",
        "decoder_input = pad_sequences(decoder_input, maxlen = max_tar_len, padding='post')\n",
        "decoder_target = pad_sequences(decoder_target, maxlen = max_tar_len, padding='post')"
      ],
      "metadata": {
        "id": "XiZxkAAmwpA4"
      },
      "execution_count": 14,
      "outputs": []
    },
    {
      "cell_type": "code",
      "source": [
        "from tensorflow.keras.utils import to_categorical\n",
        "\n",
        "encoder_input = to_categorical(encoder_input)\n",
        "decoder_input = to_categorical(decoder_input)\n",
        "decoder_target = to_categorical(decoder_target)"
      ],
      "metadata": {
        "id": "_fnDd1edxQQV"
      },
      "execution_count": 15,
      "outputs": []
    },
    {
      "cell_type": "code",
      "source": [
        "from keras.layers import Input, LSTM\n",
        "\n",
        "encoder_inputs = Input(shape=(None, src_vocab_size))\n",
        "encoder_lstm = LSTM(256, return_state=True)\n",
        "\n",
        "encoder_outputs, state_h, state_c = encoder_lstm(encoder_inputs)\n",
        "encoder_states = [state_h, state_c]"
      ],
      "metadata": {
        "id": "4bAA2H2Sxdwo"
      },
      "execution_count": 16,
      "outputs": []
    },
    {
      "cell_type": "code",
      "source": [
        "from keras.layers import Dense\n",
        "decoder_inputs = Input(shape=(None, tar_vocab_size))\n",
        "decoder_lstm = LSTM(256, return_sequences=True, return_state=True)\n",
        "decoder_outputs, _, _ = decoder_lstm(decoder_inputs, initial_state=encoder_states)\n",
        "decoder_softmax_layer = Dense(tar_vocab_size, activation='softmax')\n",
        "decoder_outputs = decoder_softmax_layer(decoder_outputs)"
      ],
      "metadata": {
        "id": "Q7tywR72x0vP"
      },
      "execution_count": 17,
      "outputs": []
    },
    {
      "cell_type": "code",
      "source": [
        "from keras.models import Model\n",
        "model = Model([encoder_inputs, decoder_inputs], decoder_outputs)\n",
        "model.compile('rmsprop', 'categorical_crossentropy', ['accuracy'])"
      ],
      "metadata": {
        "id": "7gctLJ9lykKf"
      },
      "execution_count": 18,
      "outputs": []
    },
    {
      "cell_type": "code",
      "source": [
        "model.fit(x=[encoder_input, decoder_input], y=decoder_target,\n",
        "          batch_size=128,\n",
        "          epochs=25,\n",
        "          validation_split=0.2)"
      ],
      "metadata": {
        "colab": {
          "base_uri": "https://localhost:8080/"
        },
        "id": "nQgQLTHPzIKP",
        "outputId": "571ce91a-0a9d-425c-9199-8f7a3db680d0"
      },
      "execution_count": 19,
      "outputs": [
        {
          "output_type": "stream",
          "name": "stdout",
          "text": [
            "Epoch 1/25\n",
            "188/188 [==============================] - 16s 34ms/step - loss: 1.2084 - accuracy: 0.7011 - val_loss: 1.0735 - val_accuracy: 0.7154\n",
            "Epoch 2/25\n",
            "188/188 [==============================] - 4s 19ms/step - loss: 0.7794 - accuracy: 0.7811 - val_loss: 0.8350 - val_accuracy: 0.7595\n",
            "Epoch 3/25\n",
            "188/188 [==============================] - 4s 19ms/step - loss: 0.6388 - accuracy: 0.8121 - val_loss: 0.7349 - val_accuracy: 0.7859\n",
            "Epoch 4/25\n",
            "188/188 [==============================] - 4s 20ms/step - loss: 0.5694 - accuracy: 0.8320 - val_loss: 0.6750 - val_accuracy: 0.7998\n",
            "Epoch 5/25\n",
            "188/188 [==============================] - 4s 20ms/step - loss: 0.5220 - accuracy: 0.8444 - val_loss: 0.6316 - val_accuracy: 0.8111\n",
            "Epoch 6/25\n",
            "188/188 [==============================] - 4s 20ms/step - loss: 0.4858 - accuracy: 0.8542 - val_loss: 0.5972 - val_accuracy: 0.8217\n",
            "Epoch 7/25\n",
            "188/188 [==============================] - 4s 19ms/step - loss: 0.4564 - accuracy: 0.8627 - val_loss: 0.5713 - val_accuracy: 0.8287\n",
            "Epoch 8/25\n",
            "188/188 [==============================] - 4s 20ms/step - loss: 0.4313 - accuracy: 0.8702 - val_loss: 0.5542 - val_accuracy: 0.8338\n",
            "Epoch 9/25\n",
            "188/188 [==============================] - 4s 20ms/step - loss: 0.4097 - accuracy: 0.8766 - val_loss: 0.5291 - val_accuracy: 0.8410\n",
            "Epoch 10/25\n",
            "188/188 [==============================] - 4s 20ms/step - loss: 0.3905 - accuracy: 0.8823 - val_loss: 0.5115 - val_accuracy: 0.8462\n",
            "Epoch 11/25\n",
            "188/188 [==============================] - 4s 20ms/step - loss: 0.3739 - accuracy: 0.8868 - val_loss: 0.5032 - val_accuracy: 0.8487\n",
            "Epoch 12/25\n",
            "188/188 [==============================] - 4s 22ms/step - loss: 0.3588 - accuracy: 0.8915 - val_loss: 0.4882 - val_accuracy: 0.8542\n",
            "Epoch 13/25\n",
            "188/188 [==============================] - 4s 20ms/step - loss: 0.3453 - accuracy: 0.8953 - val_loss: 0.4816 - val_accuracy: 0.8565\n",
            "Epoch 14/25\n",
            "188/188 [==============================] - 4s 20ms/step - loss: 0.3331 - accuracy: 0.8989 - val_loss: 0.4682 - val_accuracy: 0.8600\n",
            "Epoch 15/25\n",
            "188/188 [==============================] - 4s 20ms/step - loss: 0.3220 - accuracy: 0.9022 - val_loss: 0.4613 - val_accuracy: 0.8633\n",
            "Epoch 16/25\n",
            "188/188 [==============================] - 4s 20ms/step - loss: 0.3116 - accuracy: 0.9054 - val_loss: 0.4566 - val_accuracy: 0.8638\n",
            "Epoch 17/25\n",
            "188/188 [==============================] - 4s 20ms/step - loss: 0.3022 - accuracy: 0.9082 - val_loss: 0.4543 - val_accuracy: 0.8649\n",
            "Epoch 18/25\n",
            "188/188 [==============================] - 4s 19ms/step - loss: 0.2933 - accuracy: 0.9105 - val_loss: 0.4486 - val_accuracy: 0.8671\n",
            "Epoch 19/25\n",
            "188/188 [==============================] - 4s 19ms/step - loss: 0.2850 - accuracy: 0.9132 - val_loss: 0.4466 - val_accuracy: 0.8682\n",
            "Epoch 20/25\n",
            "188/188 [==============================] - 4s 19ms/step - loss: 0.2772 - accuracy: 0.9155 - val_loss: 0.4430 - val_accuracy: 0.8685\n",
            "Epoch 21/25\n",
            "188/188 [==============================] - 4s 19ms/step - loss: 0.2699 - accuracy: 0.9176 - val_loss: 0.4409 - val_accuracy: 0.8703\n",
            "Epoch 22/25\n",
            "188/188 [==============================] - 4s 20ms/step - loss: 0.2631 - accuracy: 0.9196 - val_loss: 0.4412 - val_accuracy: 0.8711\n",
            "Epoch 23/25\n",
            "188/188 [==============================] - 4s 20ms/step - loss: 0.2567 - accuracy: 0.9215 - val_loss: 0.4390 - val_accuracy: 0.8722\n",
            "Epoch 24/25\n",
            "188/188 [==============================] - 4s 19ms/step - loss: 0.2503 - accuracy: 0.9235 - val_loss: 0.4379 - val_accuracy: 0.8725\n",
            "Epoch 25/25\n",
            "188/188 [==============================] - 4s 19ms/step - loss: 0.2443 - accuracy: 0.9253 - val_loss: 0.4386 - val_accuracy: 0.8732\n"
          ]
        },
        {
          "output_type": "execute_result",
          "data": {
            "text/plain": [
              "<keras.callbacks.History at 0x7f8d7e997dd0>"
            ]
          },
          "metadata": {},
          "execution_count": 19
        }
      ]
    },
    {
      "cell_type": "code",
      "source": [
        "encoder_model = Model(inputs=encoder_inputs, outputs=encoder_states)"
      ],
      "metadata": {
        "id": "eWdKPd-qzWMY"
      },
      "execution_count": 20,
      "outputs": []
    },
    {
      "cell_type": "code",
      "source": [
        "decoder_state_input_h = Input(shape=(256))\n",
        "decoder_state_input_c = Input(shape=(256))\n",
        "\n",
        "decoder_states_inputs = [decoder_state_input_h, decoder_state_input_c]\n",
        "decoder_outputs, state_h, state_c = decoder_lstm(decoder_inputs, initial_state=decoder_states_inputs)\n",
        "\n",
        "decoder_states = [state_h, state_c]\n",
        "\n",
        "decoder_outputs = decoder_softmax_layer(decoder_outputs)\n",
        "decoder_model = Model(inputs=[decoder_inputs] + decoder_states_inputs,\n",
        "                      outputs=[decoder_outputs] + decoder_states)"
      ],
      "metadata": {
        "id": "kn3nVKWC3jFo"
      },
      "execution_count": 21,
      "outputs": []
    },
    {
      "cell_type": "code",
      "source": [
        "idx_to_src = dict((i, char) for char, i in src_to_idx.items())\n",
        "idx_to_tar = dict((i, char) for char, i in tar_to_idx.items())"
      ],
      "metadata": {
        "id": "tkUM82JV4Qbc"
      },
      "execution_count": 22,
      "outputs": []
    },
    {
      "cell_type": "code",
      "source": [
        "import numpy as np\n",
        "def predict_decode(input_seq):\n",
        "    states_value = encoder_model.predict(input_seq)\n",
        "\n",
        "    # 교사 강요를 위한 빈값 + 시작 토큰\n",
        "    target_seq = np.zeros((1, 1, tar_vocab_size))\n",
        "    target_seq[0, 0, tar_to_idx[sos]] = 1\n",
        "\n",
        "    stop = False\n",
        "    decoded_sentence = \"\"\n",
        "    while not stop:\n",
        "        output_tokens, h, c = decoder_model.predict([target_seq] + states_value)\n",
        "\n",
        "        sampled_token_index = np.argmax(output_tokens[0, -1, :])\n",
        "        sampled_char = idx_to_tar[sampled_token_index]\n",
        "        \n",
        "        decoded_sentence += sampled_char\n",
        "        \n",
        "        if sampled_char == eos or len(decoded_sentence) > max_tar_len:\n",
        "            stop = True\n",
        "\n",
        "        target_seq = np.zeros((1, 1, tar_vocab_size))\n",
        "        target_seq[0, 0, sampled_token_index] = 1. \n",
        "        # 교사강요\n",
        "\n",
        "        states_value = [h, c]\n",
        "\n",
        "    return decoded_sentence"
      ],
      "metadata": {
        "id": "TCh3swIm4Wnn"
      },
      "execution_count": 23,
      "outputs": []
    },
    {
      "cell_type": "code",
      "source": [
        "for seq_index in [100, 200, 300, 400]:\n",
        "    input_seq = encoder_input[seq_index : seq_index + 1]\n",
        "    decoded_sentence = predict_decode(input_seq)\n",
        "\n",
        "    print('입력 :', lines.src[seq_index])\n",
        "    print('정답 :', lines.tar[seq_index][1:len(lines.tar[seq_index]) -1])\n",
        "    print('번역 :', decoded_sentence[1: len(decoded_sentence) -1], '\\n')"
      ],
      "metadata": {
        "colab": {
          "base_uri": "https://localhost:8080/"
        },
        "id": "Py_oK8Yq6ebn",
        "outputId": "12774ed6-0ef0-48f4-c159-75d92f599a0f"
      },
      "execution_count": 24,
      "outputs": [
        {
          "output_type": "stream",
          "name": "stdout",
          "text": [
            "입력 : Hop in.\n",
            "정답 : Montez.\n",
            "번역 : ours. \n",
            "\n",
            "입력 : Call us.\n",
            "정답 : Appelle-nous !\n",
            "번역 : ppelle-moi ! \n",
            "\n",
            "입력 : Help me!\n",
            "정답 : Aide-moi !\n",
            "번역 : idez-nous ! \n",
            "\n",
            "입력 : Sign up.\n",
            "정답 : Inscrivez-vous.\n",
            "번역 : idez-vous. \n",
            "\n"
          ]
        }
      ]
    },
    {
      "cell_type": "markdown",
      "source": [
        "# attention"
      ],
      "metadata": {
        "id": "2mgvASHiT6Lo"
      }
    },
    {
      "cell_type": "code",
      "source": [
        "encoder_inputs = Input(shape=(None, src_vocab_size))\n",
        "encoder_lstm = LSTM(256, return_state=True)\n",
        "\n",
        "encoder_outputs, state_h, state_c = encoder_lstm(encoder_inputs)\n",
        "encoder_states = [state_h, state_c]"
      ],
      "metadata": {
        "id": "DS27Y1lf69Xo"
      },
      "execution_count": 37,
      "outputs": []
    },
    {
      "cell_type": "code",
      "source": [
        "import tensorflow as tf\n",
        "from keras.layers import Attention\n",
        "\n",
        "decoder_inputs = Input(shape=(None, tar_vocab_size))\n",
        "decoder_lstm = LSTM(256, return_sequences=True, return_state=True)\n",
        "decoder_outputs, _, _ = decoder_lstm(decoder_inputs, initial_state=encoder_states)\n",
        "\n",
        "# tf.newaixs 는 축 추가해줌\n",
        "# S_ 는 은닉상태와 디코더의 최종 출력을 연결해줌\n",
        "# -1은 마지막 끝맺음 기호 넣은거 때문인듯?\n",
        "S_ = tf.concat([state_h[:, tf.newaxis, :], decoder_outputs[:, :-1, :]], axis=1)\n",
        "\n",
        "attention = Attention()\n",
        "context_vector = attention([S_, encoder_outputs])\n",
        "concat = tf.concat([decoder_outputs, context_vector], axis=-1)\n",
        "decoder_softmax_layer = Dense(tar_vocab_size, activation='softmax')\n",
        "decoder_outputs = decoder_softmax_layer(concat)"
      ],
      "metadata": {
        "id": "W9k2enTz_vcX"
      },
      "execution_count": 38,
      "outputs": []
    },
    {
      "cell_type": "code",
      "source": [
        "model = Model([encoder_inputs, decoder_inputs], decoder_outputs)\n",
        "model.compile(optimizer='rmsprop', loss='categorical_crossentropy')"
      ],
      "metadata": {
        "id": "nsyQ6LfxBkoP"
      },
      "execution_count": 39,
      "outputs": []
    },
    {
      "cell_type": "code",
      "source": [
        "model.fit(x = [encoder_input, decoder_input], y=decoder_target,\n",
        "         batch_size = 128,\n",
        "         epochs=25,\n",
        "         validation_split=0.2)"
      ],
      "metadata": {
        "colab": {
          "base_uri": "https://localhost:8080/"
        },
        "id": "Qrr0UTHaCRqm",
        "outputId": "a1415ecd-e6dc-4e82-c40e-a433d8e87be8"
      },
      "execution_count": 40,
      "outputs": [
        {
          "output_type": "stream",
          "name": "stdout",
          "text": [
            "Epoch 1/25\n",
            "188/188 [==============================] - 13s 36ms/step - loss: 1.1895 - val_loss: 1.0957\n",
            "Epoch 2/25\n",
            "188/188 [==============================] - 4s 22ms/step - loss: 0.7682 - val_loss: 0.8046\n",
            "Epoch 3/25\n",
            "188/188 [==============================] - 4s 22ms/step - loss: 0.6197 - val_loss: 0.7354\n",
            "Epoch 4/25\n",
            "188/188 [==============================] - 4s 23ms/step - loss: 0.5503 - val_loss: 0.6666\n",
            "Epoch 5/25\n",
            "188/188 [==============================] - 4s 23ms/step - loss: 0.5045 - val_loss: 0.6297\n",
            "Epoch 6/25\n",
            "188/188 [==============================] - 4s 22ms/step - loss: 0.4672 - val_loss: 0.6081\n",
            "Epoch 7/25\n",
            "188/188 [==============================] - 4s 22ms/step - loss: 0.4386 - val_loss: 0.5860\n",
            "Epoch 8/25\n",
            "188/188 [==============================] - 4s 22ms/step - loss: 0.4155 - val_loss: 0.5636\n",
            "Epoch 9/25\n",
            "188/188 [==============================] - 4s 22ms/step - loss: 0.3951 - val_loss: 0.5464\n",
            "Epoch 10/25\n",
            "188/188 [==============================] - 4s 22ms/step - loss: 0.3772 - val_loss: 0.5367\n",
            "Epoch 11/25\n",
            "188/188 [==============================] - 4s 22ms/step - loss: 0.3614 - val_loss: 0.5232\n",
            "Epoch 12/25\n",
            "188/188 [==============================] - 4s 22ms/step - loss: 0.3470 - val_loss: 0.5140\n",
            "Epoch 13/25\n",
            "188/188 [==============================] - 4s 22ms/step - loss: 0.3344 - val_loss: 0.5064\n",
            "Epoch 14/25\n",
            "188/188 [==============================] - 4s 21ms/step - loss: 0.3231 - val_loss: 0.4994\n",
            "Epoch 15/25\n",
            "188/188 [==============================] - 4s 21ms/step - loss: 0.3126 - val_loss: 0.4962\n",
            "Epoch 16/25\n",
            "188/188 [==============================] - 4s 21ms/step - loss: 0.3026 - val_loss: 0.4919\n",
            "Epoch 17/25\n",
            "188/188 [==============================] - 4s 21ms/step - loss: 0.2936 - val_loss: 0.4905\n",
            "Epoch 18/25\n",
            "188/188 [==============================] - 4s 21ms/step - loss: 0.2850 - val_loss: 0.4934\n",
            "Epoch 19/25\n",
            "188/188 [==============================] - 4s 22ms/step - loss: 0.2773 - val_loss: 0.4839\n",
            "Epoch 20/25\n",
            "188/188 [==============================] - 4s 21ms/step - loss: 0.2697 - val_loss: 0.4802\n",
            "Epoch 21/25\n",
            "188/188 [==============================] - 4s 22ms/step - loss: 0.2627 - val_loss: 0.4789\n",
            "Epoch 22/25\n",
            "188/188 [==============================] - 4s 22ms/step - loss: 0.2563 - val_loss: 0.4767\n",
            "Epoch 23/25\n",
            "188/188 [==============================] - 4s 22ms/step - loss: 0.2498 - val_loss: 0.4786\n",
            "Epoch 24/25\n",
            "188/188 [==============================] - 4s 23ms/step - loss: 0.2437 - val_loss: 0.4761\n",
            "Epoch 25/25\n",
            "188/188 [==============================] - 4s 23ms/step - loss: 0.2381 - val_loss: 0.4803\n"
          ]
        },
        {
          "output_type": "execute_result",
          "data": {
            "text/plain": [
              "<keras.callbacks.History at 0x7f8c82415150>"
            ]
          },
          "metadata": {},
          "execution_count": 40
        }
      ]
    },
    {
      "cell_type": "code",
      "source": [
        "encoder_model = Model(inputs=encoder_inputs,\n",
        "                      outputs=[encoder_outputs, encoder_states])"
      ],
      "metadata": {
        "id": "A-Zi40H2CbLb"
      },
      "execution_count": 41,
      "outputs": []
    },
    {
      "cell_type": "code",
      "source": [
        "decoder_state_input_h = Input(shape=(256))\n",
        "decoder_state_input_c = Input(shape=(256))\n",
        "\n",
        "estate_h = Input(shape=(256))\n",
        "encoder_outputs = Input(shape=(256))\n",
        "\n",
        "decoder_states_inputs = [decoder_state_input_h, decoder_state_input_c]\n",
        "decoder_outputs, state_h, state_c = decoder_lstm(decoder_inputs, initial_state=decoder_states_inputs)\n",
        "\n",
        "decoder_states = [state_h, state_c]\n",
        "\n",
        "# attention context_vector\n",
        "S_ = tf.concat([estate_h[:, tf.newaxis, :], decoder_outputs[:, :-1, :]], axis=1)\n",
        "# EOS 고려인듯?\n",
        "context_vector = attention([S_, encoder_outputs])\n",
        "decoder_concat = tf.concat([decoder_outputs, context_vector], axis=-1)\n",
        "\n",
        "decoder_outputs = decoder_softmax_layer(decoder_concat)\n",
        "\n",
        "decoder_model = Model(inputs=[decoder_inputs, estate_h, encoder_outputs] + decoder_states_inputs,\n",
        "                      outputs=[decoder_outputs] + decoder_states)"
      ],
      "metadata": {
        "id": "C3glfVaZCvfL"
      },
      "execution_count": 42,
      "outputs": []
    },
    {
      "cell_type": "code",
      "source": [
        "def predict_decode(input_seq):\n",
        "    outputs_input, states_value = encoder_model.predict(input_seq)\n",
        "\n",
        "    target_seq = np.zeros((1, 1, tar_vocab_size))\n",
        "    target_seq[0, 0, tar_to_idx[sos]] = 1\n",
        "\n",
        "    stop=False\n",
        "    decoded_sentence = \"\"\n",
        "    \n",
        "    while not stop:\n",
        "        # estate는 state_h만 쓰므로 states_value[0]과 동일\n",
        "        # 처음에는 decoder_states값이 없으므로 encoder_states 넣어주고 추후 변경\n",
        "        output_tokens, h, c = decoder_model.predict([target_seq, states_value[0], outputs_input] + states_value)\n",
        "\n",
        "        sampled_token_index = np.argmax(output_tokens[0, -1, :])\n",
        "        sampled_char = idx_to_tar[sampled_token_index]\n",
        "\n",
        "        decoded_sentence += sampled_char\n",
        "\n",
        "        if sampled_char == eos or len(decoded_sentence) > max_tar_len:\n",
        "            stop = True\n",
        "\n",
        "        target_seq = np.zeros((1, 1, tar_vocab_size))\n",
        "        target_seq[0, 0, sampled_token_index] = 1.\n",
        "\n",
        "        states_value = h, c\n",
        "\n",
        "    return decoded_sentence"
      ],
      "metadata": {
        "id": "73kLKG07HYKs"
      },
      "execution_count": 50,
      "outputs": []
    },
    {
      "cell_type": "code",
      "source": [
        "import numpy as np\n",
        "for seq_index in [100, 200, 300, 400]:\n",
        "    input_seq = encoder_input[seq_index : seq_index + 1]\n",
        "    decoded_sentence = predict_decode(input_seq)\n",
        "\n",
        "    print('입력:', lines.src[seq_index])\n",
        "    print('정답:', lines.tar[seq_index][1:len(lines.tar[seq_index])-1])\n",
        "    print('번역:', decoded_sentence[:len(decoded_sentence)-1], '\\n')"
      ],
      "metadata": {
        "colab": {
          "base_uri": "https://localhost:8080/",
          "height": 780
        },
        "id": "XvBr74EYK1pp",
        "outputId": "3e5b49f1-0b7f-45dc-beb1-c67493a7598a"
      },
      "execution_count": 51,
      "outputs": [
        {
          "output_type": "error",
          "ename": "AssertionError",
          "evalue": "ignored",
          "traceback": [
            "\u001b[0;31m---------------------------------------------------------------------------\u001b[0m",
            "\u001b[0;31mAssertionError\u001b[0m                            Traceback (most recent call last)",
            "\u001b[0;32m<ipython-input-51-7dbc49a89c33>\u001b[0m in \u001b[0;36m<module>\u001b[0;34m()\u001b[0m\n\u001b[1;32m      2\u001b[0m \u001b[0;32mfor\u001b[0m \u001b[0mseq_index\u001b[0m \u001b[0;32min\u001b[0m \u001b[0;34m[\u001b[0m\u001b[0;36m100\u001b[0m\u001b[0;34m,\u001b[0m \u001b[0;36m200\u001b[0m\u001b[0;34m,\u001b[0m \u001b[0;36m300\u001b[0m\u001b[0;34m,\u001b[0m \u001b[0;36m400\u001b[0m\u001b[0;34m]\u001b[0m\u001b[0;34m:\u001b[0m\u001b[0;34m\u001b[0m\u001b[0;34m\u001b[0m\u001b[0m\n\u001b[1;32m      3\u001b[0m     \u001b[0minput_seq\u001b[0m \u001b[0;34m=\u001b[0m \u001b[0mencoder_input\u001b[0m\u001b[0;34m[\u001b[0m\u001b[0mseq_index\u001b[0m \u001b[0;34m:\u001b[0m \u001b[0mseq_index\u001b[0m \u001b[0;34m+\u001b[0m \u001b[0;36m1\u001b[0m\u001b[0;34m]\u001b[0m\u001b[0;34m\u001b[0m\u001b[0;34m\u001b[0m\u001b[0m\n\u001b[0;32m----> 4\u001b[0;31m     \u001b[0mdecoded_sentence\u001b[0m \u001b[0;34m=\u001b[0m \u001b[0mpredict_decode\u001b[0m\u001b[0;34m(\u001b[0m\u001b[0minput_seq\u001b[0m\u001b[0;34m)\u001b[0m\u001b[0;34m\u001b[0m\u001b[0;34m\u001b[0m\u001b[0m\n\u001b[0m\u001b[1;32m      5\u001b[0m \u001b[0;34m\u001b[0m\u001b[0m\n\u001b[1;32m      6\u001b[0m     \u001b[0mprint\u001b[0m\u001b[0;34m(\u001b[0m\u001b[0;34m'입력:'\u001b[0m\u001b[0;34m,\u001b[0m \u001b[0mlines\u001b[0m\u001b[0;34m.\u001b[0m\u001b[0msrc\u001b[0m\u001b[0;34m[\u001b[0m\u001b[0mseq_index\u001b[0m\u001b[0;34m]\u001b[0m\u001b[0;34m)\u001b[0m\u001b[0;34m\u001b[0m\u001b[0;34m\u001b[0m\u001b[0m\n",
            "\u001b[0;32m<ipython-input-50-69dbc3a611cb>\u001b[0m in \u001b[0;36mpredict_decode\u001b[0;34m(input_seq)\u001b[0m\n\u001b[1;32m      1\u001b[0m \u001b[0;32mdef\u001b[0m \u001b[0mpredict_decode\u001b[0m\u001b[0;34m(\u001b[0m\u001b[0minput_seq\u001b[0m\u001b[0;34m)\u001b[0m\u001b[0;34m:\u001b[0m\u001b[0;34m\u001b[0m\u001b[0;34m\u001b[0m\u001b[0m\n\u001b[0;32m----> 2\u001b[0;31m     \u001b[0moutputs_input\u001b[0m\u001b[0;34m,\u001b[0m \u001b[0mstates_value\u001b[0m \u001b[0;34m=\u001b[0m \u001b[0mencoder_model\u001b[0m\u001b[0;34m.\u001b[0m\u001b[0mpredict\u001b[0m\u001b[0;34m(\u001b[0m\u001b[0minput_seq\u001b[0m\u001b[0;34m)\u001b[0m\u001b[0;34m\u001b[0m\u001b[0;34m\u001b[0m\u001b[0m\n\u001b[0m\u001b[1;32m      3\u001b[0m \u001b[0;34m\u001b[0m\u001b[0m\n\u001b[1;32m      4\u001b[0m     \u001b[0mtarget_seq\u001b[0m \u001b[0;34m=\u001b[0m \u001b[0mnp\u001b[0m\u001b[0;34m.\u001b[0m\u001b[0mzeros\u001b[0m\u001b[0;34m(\u001b[0m\u001b[0;34m(\u001b[0m\u001b[0;36m1\u001b[0m\u001b[0;34m,\u001b[0m \u001b[0;36m1\u001b[0m\u001b[0;34m,\u001b[0m \u001b[0mtar_vocab_size\u001b[0m\u001b[0;34m)\u001b[0m\u001b[0;34m)\u001b[0m\u001b[0;34m\u001b[0m\u001b[0;34m\u001b[0m\u001b[0m\n\u001b[1;32m      5\u001b[0m     \u001b[0mtarget_seq\u001b[0m\u001b[0;34m[\u001b[0m\u001b[0;36m0\u001b[0m\u001b[0;34m,\u001b[0m \u001b[0;36m0\u001b[0m\u001b[0;34m,\u001b[0m \u001b[0mtar_to_idx\u001b[0m\u001b[0;34m[\u001b[0m\u001b[0msos\u001b[0m\u001b[0;34m]\u001b[0m\u001b[0;34m]\u001b[0m \u001b[0;34m=\u001b[0m \u001b[0;36m1\u001b[0m\u001b[0;34m\u001b[0m\u001b[0;34m\u001b[0m\u001b[0m\n",
            "\u001b[0;32m/usr/local/lib/python3.7/dist-packages/keras/utils/traceback_utils.py\u001b[0m in \u001b[0;36merror_handler\u001b[0;34m(*args, **kwargs)\u001b[0m\n\u001b[1;32m     65\u001b[0m     \u001b[0;32mexcept\u001b[0m \u001b[0mException\u001b[0m \u001b[0;32mas\u001b[0m \u001b[0me\u001b[0m\u001b[0;34m:\u001b[0m  \u001b[0;31m# pylint: disable=broad-except\u001b[0m\u001b[0;34m\u001b[0m\u001b[0;34m\u001b[0m\u001b[0m\n\u001b[1;32m     66\u001b[0m       \u001b[0mfiltered_tb\u001b[0m \u001b[0;34m=\u001b[0m \u001b[0m_process_traceback_frames\u001b[0m\u001b[0;34m(\u001b[0m\u001b[0me\u001b[0m\u001b[0;34m.\u001b[0m\u001b[0m__traceback__\u001b[0m\u001b[0;34m)\u001b[0m\u001b[0;34m\u001b[0m\u001b[0;34m\u001b[0m\u001b[0m\n\u001b[0;32m---> 67\u001b[0;31m       \u001b[0;32mraise\u001b[0m \u001b[0me\u001b[0m\u001b[0;34m.\u001b[0m\u001b[0mwith_traceback\u001b[0m\u001b[0;34m(\u001b[0m\u001b[0mfiltered_tb\u001b[0m\u001b[0;34m)\u001b[0m \u001b[0;32mfrom\u001b[0m \u001b[0;32mNone\u001b[0m\u001b[0;34m\u001b[0m\u001b[0;34m\u001b[0m\u001b[0m\n\u001b[0m\u001b[1;32m     68\u001b[0m     \u001b[0;32mfinally\u001b[0m\u001b[0;34m:\u001b[0m\u001b[0;34m\u001b[0m\u001b[0;34m\u001b[0m\u001b[0m\n\u001b[1;32m     69\u001b[0m       \u001b[0;32mdel\u001b[0m \u001b[0mfiltered_tb\u001b[0m\u001b[0;34m\u001b[0m\u001b[0;34m\u001b[0m\u001b[0m\n",
            "\u001b[0;32m/usr/local/lib/python3.7/dist-packages/tensorflow/python/framework/func_graph.py\u001b[0m in \u001b[0;36mautograph_handler\u001b[0;34m(*args, **kwargs)\u001b[0m\n\u001b[1;32m   1145\u001b[0m           \u001b[0;32mexcept\u001b[0m \u001b[0mException\u001b[0m \u001b[0;32mas\u001b[0m \u001b[0me\u001b[0m\u001b[0;34m:\u001b[0m  \u001b[0;31m# pylint:disable=broad-except\u001b[0m\u001b[0;34m\u001b[0m\u001b[0;34m\u001b[0m\u001b[0m\n\u001b[1;32m   1146\u001b[0m             \u001b[0;32mif\u001b[0m \u001b[0mhasattr\u001b[0m\u001b[0;34m(\u001b[0m\u001b[0me\u001b[0m\u001b[0;34m,\u001b[0m \u001b[0;34m\"ag_error_metadata\"\u001b[0m\u001b[0;34m)\u001b[0m\u001b[0;34m:\u001b[0m\u001b[0;34m\u001b[0m\u001b[0;34m\u001b[0m\u001b[0m\n\u001b[0;32m-> 1147\u001b[0;31m               \u001b[0;32mraise\u001b[0m \u001b[0me\u001b[0m\u001b[0;34m.\u001b[0m\u001b[0mag_error_metadata\u001b[0m\u001b[0;34m.\u001b[0m\u001b[0mto_exception\u001b[0m\u001b[0;34m(\u001b[0m\u001b[0me\u001b[0m\u001b[0;34m)\u001b[0m\u001b[0;34m\u001b[0m\u001b[0;34m\u001b[0m\u001b[0m\n\u001b[0m\u001b[1;32m   1148\u001b[0m             \u001b[0;32melse\u001b[0m\u001b[0;34m:\u001b[0m\u001b[0;34m\u001b[0m\u001b[0;34m\u001b[0m\u001b[0m\n\u001b[1;32m   1149\u001b[0m               \u001b[0;32mraise\u001b[0m\u001b[0;34m\u001b[0m\u001b[0;34m\u001b[0m\u001b[0m\n",
            "\u001b[0;31mAssertionError\u001b[0m: in user code:\n\n    File \"/usr/local/lib/python3.7/dist-packages/keras/engine/training.py\", line 1801, in predict_function  *\n        return step_function(self, iterator)\n    File \"/usr/local/lib/python3.7/dist-packages/keras/engine/training.py\", line 1790, in step_function  **\n        outputs = model.distribute_strategy.run(run_step, args=(data,))\n    File \"/usr/local/lib/python3.7/dist-packages/keras/engine/training.py\", line 1783, in run_step  **\n        outputs = model.predict_step(data)\n    File \"/usr/local/lib/python3.7/dist-packages/keras/engine/training.py\", line 1751, in predict_step\n        return self(x, training=False)\n    File \"/usr/local/lib/python3.7/dist-packages/keras/utils/traceback_utils.py\", line 67, in error_handler\n        raise e.with_traceback(filtered_tb) from None\n    File \"/usr/local/lib/python3.7/dist-packages/keras/engine/functional.py\", line 598, in _run_internal_graph\n        assert x_id in tensor_dict, 'Could not compute output ' + str(x)\n\n    AssertionError: Exception encountered when calling layer \"model_9\" (type Functional).\n    \n    Could not compute output KerasTensor(type_spec=TensorSpec(shape=(None, 256), dtype=tf.float32, name='input_16'), name='input_16', description=\"created by layer 'input_16'\")\n    \n    Call arguments received:\n      • inputs=tf.Tensor(shape=(None, 19, 77), dtype=float32)\n      • training=False\n      • mask=None\n"
          ]
        }
      ]
    },
    {
      "cell_type": "code",
      "source": [
        ""
      ],
      "metadata": {
        "id": "Y6BpDkUPObuy"
      },
      "execution_count": 48,
      "outputs": []
    },
    {
      "cell_type": "code",
      "source": [
        ""
      ],
      "metadata": {
        "id": "Ep4RPVbQRtvU"
      },
      "execution_count": null,
      "outputs": []
    }
  ]
}