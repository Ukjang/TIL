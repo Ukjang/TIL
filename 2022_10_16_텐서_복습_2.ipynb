{
  "nbformat": 4,
  "nbformat_minor": 0,
  "metadata": {
    "colab": {
      "provenance": []
    },
    "kernelspec": {
      "name": "python3",
      "display_name": "Python 3"
    },
    "language_info": {
      "name": "python"
    },
    "accelerator": "GPU"
  },
  "cells": [
    {
      "cell_type": "code",
      "execution_count": 1,
      "metadata": {
        "id": "9ACD82RcAyn1"
      },
      "outputs": [],
      "source": [
        "import numpy as np\n",
        "import pandas as pd\n",
        "import matplotlib.pyplot as plt\n",
        "import tensorflow as tf\n",
        "seed=  2002\n",
        "np.random.seed(seed)\n",
        "tf.random.set_seed(seed)"
      ]
    },
    {
      "cell_type": "code",
      "source": [
        "from tensorflow.keras.datasets import mnist\n",
        "(X_train, y_train), (X_test, y_test) = mnist.load_data()\n",
        "X_train.shape"
      ],
      "metadata": {
        "colab": {
          "base_uri": "https://localhost:8080/"
        },
        "id": "F9oLqiFJCfjK",
        "outputId": "e6553a2b-3667-454c-ca1f-65a0cfa99405"
      },
      "execution_count": 2,
      "outputs": [
        {
          "output_type": "stream",
          "name": "stdout",
          "text": [
            "Downloading data from https://storage.googleapis.com/tensorflow/tf-keras-datasets/mnist.npz\n",
            "11490434/11490434 [==============================] - 0s 0us/step\n"
          ]
        },
        {
          "output_type": "execute_result",
          "data": {
            "text/plain": [
              "(60000, 28, 28)"
            ]
          },
          "metadata": {},
          "execution_count": 2
        }
      ]
    },
    {
      "cell_type": "code",
      "source": [
        "X_train = X_train.reshape(-1, 28, 28, 1) / 255.\n",
        "X_test  = X_test.reshape(-1, 28, 28, 1) / 255.\n",
        "X_train.shape, X_test.shape"
      ],
      "metadata": {
        "colab": {
          "base_uri": "https://localhost:8080/"
        },
        "id": "Wv2d70OMCpkM",
        "outputId": "372ed7da-d87f-4dd2-f892-8a8970eec014"
      },
      "execution_count": 3,
      "outputs": [
        {
          "output_type": "execute_result",
          "data": {
            "text/plain": [
              "((60000, 28, 28, 1), (10000, 28, 28, 1))"
            ]
          },
          "metadata": {},
          "execution_count": 3
        }
      ]
    },
    {
      "cell_type": "code",
      "source": [
        "from tensorflow.keras.utils import to_categorical\n",
        "Y_train = to_categorical(y_train)\n",
        "Y_test = to_categorical(y_test)\n",
        "Y_train.shape, Y_test.shape"
      ],
      "metadata": {
        "colab": {
          "base_uri": "https://localhost:8080/"
        },
        "id": "RPVs5TsNC3Ed",
        "outputId": "9a496c67-9a6d-4948-d82a-7ecf5673e303"
      },
      "execution_count": 4,
      "outputs": [
        {
          "output_type": "execute_result",
          "data": {
            "text/plain": [
              "((60000, 10), (10000, 10))"
            ]
          },
          "metadata": {},
          "execution_count": 4
        }
      ]
    },
    {
      "cell_type": "code",
      "source": [
        "from tensorflow.keras.models import Sequential, load_model\n",
        "from tensorflow.keras.layers import Dropout, Conv2D, Dense, Flatten, MaxPooling2D\n",
        "from tensorflow.keras.callbacks import EarlyStopping, ModelCheckpoint"
      ],
      "metadata": {
        "id": "Iwqw_7sUDF9v"
      },
      "execution_count": 5,
      "outputs": []
    },
    {
      "cell_type": "code",
      "source": [
        "del model"
      ],
      "metadata": {
        "id": "Us4WeIaREsZv"
      },
      "execution_count": 12,
      "outputs": []
    },
    {
      "cell_type": "code",
      "source": [
        "model = Sequential([\n",
        "    Conv2D(32, kernel_size=(3, 3), input_shape = (28, 28, 1), activation='relu'),\n",
        "    Conv2D(64, (3, 3), activation='relu'),\n",
        "    MaxPooling2D(),\n",
        "    Flatten(),\n",
        "    Dense(512, activation='relu'),\n",
        "    Dense(10, activation='softmax')\n",
        "])\n",
        "\n",
        "model.summary()"
      ],
      "metadata": {
        "colab": {
          "base_uri": "https://localhost:8080/"
        },
        "id": "XiNiA-aXDYNu",
        "outputId": "5f230c68-d7dd-458b-89f8-dc941c4ab1bd"
      },
      "execution_count": 13,
      "outputs": [
        {
          "output_type": "stream",
          "name": "stdout",
          "text": [
            "Model: \"sequential_1\"\n",
            "_________________________________________________________________\n",
            " Layer (type)                Output Shape              Param #   \n",
            "=================================================================\n",
            " conv2d_2 (Conv2D)           (None, 26, 26, 32)        320       \n",
            "                                                                 \n",
            " conv2d_3 (Conv2D)           (None, 24, 24, 64)        18496     \n",
            "                                                                 \n",
            " max_pooling2d_1 (MaxPooling  (None, 12, 12, 64)       0         \n",
            " 2D)                                                             \n",
            "                                                                 \n",
            " flatten_1 (Flatten)         (None, 9216)              0         \n",
            "                                                                 \n",
            " dense_2 (Dense)             (None, 512)               4719104   \n",
            "                                                                 \n",
            " dense_3 (Dense)             (None, 10)                5130      \n",
            "                                                                 \n",
            "=================================================================\n",
            "Total params: 4,743,050\n",
            "Trainable params: 4,743,050\n",
            "Non-trainable params: 0\n",
            "_________________________________________________________________\n"
          ]
        }
      ]
    },
    {
      "cell_type": "code",
      "source": [
        "model.compile('adam', 'categorical_crossentropy', ['accuracy'])"
      ],
      "metadata": {
        "id": "dNDrq6hQDqYm"
      },
      "execution_count": 14,
      "outputs": []
    },
    {
      "cell_type": "code",
      "source": [
        "model_path='best_mnist_cnn_v2.h5'\n",
        "mc = ModelCheckpoint(model_path, monitor='val_loss',save_best_only=True, verbose=1)\n",
        "es = EarlyStopping(patience=5)"
      ],
      "metadata": {
        "id": "K3Z3HWRgD3aN"
      },
      "execution_count": 15,
      "outputs": []
    },
    {
      "cell_type": "code",
      "source": [
        "hist1 = model.fit(X_train, Y_train, validation_split=0.2,\n",
        "                  epochs=1000, batch_size=200, verbose=0,\n",
        "                  callbacks = [mc,es])"
      ],
      "metadata": {
        "colab": {
          "base_uri": "https://localhost:8080/"
        },
        "id": "-2InaNWTEGZf",
        "outputId": "79a352c4-b4d2-46a1-cad5-4f0600ca6ef8"
      },
      "execution_count": 16,
      "outputs": [
        {
          "output_type": "stream",
          "name": "stdout",
          "text": [
            "\n",
            "Epoch 1: val_loss improved from inf to 0.06767, saving model to best_mnist_cnn_v2.h5\n",
            "\n",
            "Epoch 2: val_loss improved from 0.06767 to 0.04827, saving model to best_mnist_cnn_v2.h5\n",
            "\n",
            "Epoch 3: val_loss improved from 0.04827 to 0.04328, saving model to best_mnist_cnn_v2.h5\n",
            "\n",
            "Epoch 4: val_loss did not improve from 0.04328\n",
            "\n",
            "Epoch 5: val_loss did not improve from 0.04328\n",
            "\n",
            "Epoch 6: val_loss did not improve from 0.04328\n",
            "\n",
            "Epoch 7: val_loss did not improve from 0.04328\n",
            "\n",
            "Epoch 8: val_loss did not improve from 0.04328\n"
          ]
        }
      ]
    },
    {
      "cell_type": "code",
      "source": [
        "model.evaluate(X_test, Y_test)"
      ],
      "metadata": {
        "colab": {
          "base_uri": "https://localhost:8080/"
        },
        "id": "L-3_1hLiEWUH",
        "outputId": "4476e6fc-bdcc-4154-a652-bd331c39e919"
      },
      "execution_count": 17,
      "outputs": [
        {
          "output_type": "stream",
          "name": "stdout",
          "text": [
            "313/313 [==============================] - 2s 5ms/step - loss: 0.0434 - accuracy: 0.9883\n"
          ]
        },
        {
          "output_type": "execute_result",
          "data": {
            "text/plain": [
              "[0.04342314228415489, 0.9883000254631042]"
            ]
          },
          "metadata": {},
          "execution_count": 17
        }
      ]
    },
    {
      "cell_type": "code",
      "source": [
        "y_acc1 = hist1.history['accuracy']\n",
        "y_vloss1 = hist1.history['val_loss']\n",
        "xs1 = np.arange(1, len(y_acc1) + 1)\n",
        "plt.figure(figsize=(20, 8))\n",
        "plt.plot(xs1, y_acc1, label='train.accuracy')\n",
        "plt.plot(xs1, y_vloss1, label='validation loss')\n",
        "plt.legend(), plt.grid()\n",
        "plt.ylim([0,1.2])\n",
        "plt.xlabel('Epoch')\n",
        "plt.show()"
      ],
      "metadata": {
        "colab": {
          "base_uri": "https://localhost:8080/",
          "height": 332
        },
        "id": "c4n5lpBXEY1l",
        "outputId": "dd661c31-0a26-455f-907b-3d8d20bfba41"
      },
      "execution_count": 18,
      "outputs": [
        {
          "output_type": "display_data",
          "data": {
            "text/plain": [
              "<Figure size 1440x576 with 1 Axes>"
            ],
            "image/png": "[encoded data removed]"
          },
          "metadata": {
            "needs_background": "light"
          }
        }
      ]
    },
    {
      "cell_type": "code",
      "source": [
        "model_path = 'best_mnist_cnn_v3.h5'\n",
        "mc = ModelCheckpoint(model_path, save_best_only=True, verbose=1)\n",
        "es = EarlyStopping(patience=10)"
      ],
      "metadata": {
        "id": "cfYV_eqmGVIw"
      },
      "execution_count": 30,
      "outputs": []
    },
    {
      "cell_type": "code",
      "source": [
        "del model2"
      ],
      "metadata": {
        "id": "wBwou1T7Gfma"
      },
      "execution_count": 31,
      "outputs": []
    },
    {
      "cell_type": "code",
      "source": [
        "model2 = Sequential([\n",
        "    Conv2D(32, kernel_size=(3,3), input_shape = (28, 28, 1), activation='relu'),\n",
        "    Conv2D(64, (3,3), activation='relu'),\n",
        "    MaxPooling2D(),\n",
        "    Dropout(0.25),\n",
        "    Flatten(),\n",
        "    Dense(512, activation='relu'),\n",
        "    Dropout(0.5),\n",
        "    Dense(10, activation='softmax')\n",
        "])\n",
        "\n",
        "model2.summary()"
      ],
      "metadata": {
        "colab": {
          "base_uri": "https://localhost:8080/"
        },
        "id": "wqroQMC3EarG",
        "outputId": "a9965643-9609-42c4-b2e0-029cf1904c9d"
      },
      "execution_count": 32,
      "outputs": [
        {
          "output_type": "stream",
          "name": "stdout",
          "text": [
            "Model: \"sequential_3\"\n",
            "_________________________________________________________________\n",
            " Layer (type)                Output Shape              Param #   \n",
            "=================================================================\n",
            " conv2d_6 (Conv2D)           (None, 26, 26, 32)        320       \n",
            "                                                                 \n",
            " conv2d_7 (Conv2D)           (None, 24, 24, 64)        18496     \n",
            "                                                                 \n",
            " max_pooling2d_3 (MaxPooling  (None, 12, 12, 64)       0         \n",
            " 2D)                                                             \n",
            "                                                                 \n",
            " dropout_2 (Dropout)         (None, 12, 12, 64)        0         \n",
            "                                                                 \n",
            " flatten_3 (Flatten)         (None, 9216)              0         \n",
            "                                                                 \n",
            " dense_6 (Dense)             (None, 512)               4719104   \n",
            "                                                                 \n",
            " dropout_3 (Dropout)         (None, 512)               0         \n",
            "                                                                 \n",
            " dense_7 (Dense)             (None, 10)                5130      \n",
            "                                                                 \n",
            "=================================================================\n",
            "Total params: 4,743,050\n",
            "Trainable params: 4,743,050\n",
            "Non-trainable params: 0\n",
            "_________________________________________________________________\n"
          ]
        }
      ]
    },
    {
      "cell_type": "code",
      "source": [
        "model2.compile('adam', 'categorical_crossentropy', ['accuracy'])"
      ],
      "metadata": {
        "id": "Iq8ggsbhFPBX"
      },
      "execution_count": 33,
      "outputs": []
    },
    {
      "cell_type": "code",
      "source": [
        "hist2 = model2.fit(X_train, Y_train, validation_split=0.2,\n",
        "                  epochs=1000, batch_size=200, verbose=1,\n",
        "                  callbacks=[mc, es])"
      ],
      "metadata": {
        "colab": {
          "base_uri": "https://localhost:8080/"
        },
        "id": "UNwDTaSvFW30",
        "outputId": "a8a9e31f-534e-4ed9-a42b-fdc2cc9407b6"
      },
      "execution_count": 35,
      "outputs": [
        {
          "output_type": "stream",
          "name": "stdout",
          "text": [
            "Epoch 1/1000\n",
            "240/240 [==============================] - ETA: 0s - loss: 0.2148 - accuracy: 0.9330\n",
            "Epoch 1: val_loss did not improve from 0.05655\n",
            "240/240 [==============================] - 4s 15ms/step - loss: 0.2148 - accuracy: 0.9330 - val_loss: 0.0575 - val_accuracy: 0.9838\n",
            "Epoch 2/1000\n",
            "240/240 [==============================] - ETA: 0s - loss: 0.0637 - accuracy: 0.9803\n",
            "Epoch 2: val_loss improved from 0.05655 to 0.04623, saving model to best_mnist_cnn_v3.h5\n",
            "240/240 [==============================] - 4s 16ms/step - loss: 0.0637 - accuracy: 0.9803 - val_loss: 0.0462 - val_accuracy: 0.9868\n",
            "Epoch 3/1000\n",
            "237/240 [============================>.] - ETA: 0s - loss: 0.0418 - accuracy: 0.9871\n",
            "Epoch 3: val_loss improved from 0.04623 to 0.03952, saving model to best_mnist_cnn_v3.h5\n",
            "240/240 [==============================] - 4s 15ms/step - loss: 0.0421 - accuracy: 0.9870 - val_loss: 0.0395 - val_accuracy: 0.9892\n",
            "Epoch 4/1000\n",
            "238/240 [============================>.] - ETA: 0s - loss: 0.0348 - accuracy: 0.9891\n",
            "Epoch 4: val_loss improved from 0.03952 to 0.03703, saving model to best_mnist_cnn_v3.h5\n",
            "240/240 [==============================] - 4s 15ms/step - loss: 0.0348 - accuracy: 0.9890 - val_loss: 0.0370 - val_accuracy: 0.9889\n",
            "Epoch 5/1000\n",
            "237/240 [============================>.] - ETA: 0s - loss: 0.0255 - accuracy: 0.9916\n",
            "Epoch 5: val_loss improved from 0.03703 to 0.03340, saving model to best_mnist_cnn_v3.h5\n",
            "240/240 [==============================] - 4s 15ms/step - loss: 0.0255 - accuracy: 0.9916 - val_loss: 0.0334 - val_accuracy: 0.9902\n",
            "Epoch 6/1000\n",
            "237/240 [============================>.] - ETA: 0s - loss: 0.0214 - accuracy: 0.9924\n",
            "Epoch 6: val_loss did not improve from 0.03340\n",
            "240/240 [==============================] - 3s 14ms/step - loss: 0.0215 - accuracy: 0.9924 - val_loss: 0.0341 - val_accuracy: 0.9909\n",
            "Epoch 7/1000\n",
            "237/240 [============================>.] - ETA: 0s - loss: 0.0192 - accuracy: 0.9937\n",
            "Epoch 7: val_loss did not improve from 0.03340\n",
            "240/240 [==============================] - 3s 14ms/step - loss: 0.0192 - accuracy: 0.9937 - val_loss: 0.0343 - val_accuracy: 0.9906\n",
            "Epoch 8/1000\n",
            "237/240 [============================>.] - ETA: 0s - loss: 0.0167 - accuracy: 0.9943\n",
            "Epoch 8: val_loss improved from 0.03340 to 0.03194, saving model to best_mnist_cnn_v3.h5\n",
            "240/240 [==============================] - 5s 19ms/step - loss: 0.0168 - accuracy: 0.9942 - val_loss: 0.0319 - val_accuracy: 0.9905\n",
            "Epoch 9/1000\n",
            "237/240 [============================>.] - ETA: 0s - loss: 0.0141 - accuracy: 0.9953\n",
            "Epoch 9: val_loss improved from 0.03194 to 0.03087, saving model to best_mnist_cnn_v3.h5\n",
            "240/240 [==============================] - 4s 16ms/step - loss: 0.0141 - accuracy: 0.9953 - val_loss: 0.0309 - val_accuracy: 0.9923\n",
            "Epoch 10/1000\n",
            "240/240 [==============================] - ETA: 0s - loss: 0.0125 - accuracy: 0.9957\n",
            "Epoch 10: val_loss did not improve from 0.03087\n",
            "240/240 [==============================] - 3s 14ms/step - loss: 0.0125 - accuracy: 0.9957 - val_loss: 0.0365 - val_accuracy: 0.9918\n",
            "Epoch 11/1000\n",
            "237/240 [============================>.] - ETA: 0s - loss: 0.0121 - accuracy: 0.9956\n",
            "Epoch 11: val_loss did not improve from 0.03087\n",
            "240/240 [==============================] - 3s 15ms/step - loss: 0.0120 - accuracy: 0.9956 - val_loss: 0.0346 - val_accuracy: 0.9913\n",
            "Epoch 12/1000\n",
            "237/240 [============================>.] - ETA: 0s - loss: 0.0106 - accuracy: 0.9964\n",
            "Epoch 12: val_loss did not improve from 0.03087\n",
            "240/240 [==============================] - 3s 14ms/step - loss: 0.0106 - accuracy: 0.9964 - val_loss: 0.0394 - val_accuracy: 0.9892\n",
            "Epoch 13/1000\n",
            "237/240 [============================>.] - ETA: 0s - loss: 0.0101 - accuracy: 0.9965\n",
            "Epoch 13: val_loss did not improve from 0.03087\n",
            "240/240 [==============================] - 4s 15ms/step - loss: 0.0100 - accuracy: 0.9965 - val_loss: 0.0365 - val_accuracy: 0.9904\n",
            "Epoch 14/1000\n",
            "240/240 [==============================] - ETA: 0s - loss: 0.0115 - accuracy: 0.9959\n",
            "Epoch 14: val_loss did not improve from 0.03087\n",
            "240/240 [==============================] - 4s 15ms/step - loss: 0.0115 - accuracy: 0.9959 - val_loss: 0.0322 - val_accuracy: 0.9922\n",
            "Epoch 15/1000\n",
            "238/240 [============================>.] - ETA: 0s - loss: 0.0093 - accuracy: 0.9968\n",
            "Epoch 15: val_loss did not improve from 0.03087\n",
            "240/240 [==============================] - 3s 15ms/step - loss: 0.0092 - accuracy: 0.9968 - val_loss: 0.0358 - val_accuracy: 0.9911\n",
            "Epoch 16/1000\n",
            "237/240 [============================>.] - ETA: 0s - loss: 0.0080 - accuracy: 0.9970\n",
            "Epoch 16: val_loss did not improve from 0.03087\n",
            "240/240 [==============================] - 3s 15ms/step - loss: 0.0080 - accuracy: 0.9970 - val_loss: 0.0363 - val_accuracy: 0.9918\n",
            "Epoch 17/1000\n",
            "237/240 [============================>.] - ETA: 0s - loss: 0.0061 - accuracy: 0.9980\n",
            "Epoch 17: val_loss did not improve from 0.03087\n",
            "240/240 [==============================] - 4s 17ms/step - loss: 0.0061 - accuracy: 0.9980 - val_loss: 0.0391 - val_accuracy: 0.9915\n",
            "Epoch 18/1000\n",
            "237/240 [============================>.] - ETA: 0s - loss: 0.0063 - accuracy: 0.9978\n",
            "Epoch 18: val_loss did not improve from 0.03087\n",
            "240/240 [==============================] - 3s 14ms/step - loss: 0.0064 - accuracy: 0.9978 - val_loss: 0.0407 - val_accuracy: 0.9909\n",
            "Epoch 19/1000\n",
            "237/240 [============================>.] - ETA: 0s - loss: 0.0080 - accuracy: 0.9975\n",
            "Epoch 19: val_loss did not improve from 0.03087\n",
            "240/240 [==============================] - 3s 15ms/step - loss: 0.0079 - accuracy: 0.9975 - val_loss: 0.0390 - val_accuracy: 0.9913\n"
          ]
        }
      ]
    },
    {
      "cell_type": "code",
      "source": [
        "model2.evaluate(X_test, Y_test)"
      ],
      "metadata": {
        "colab": {
          "base_uri": "https://localhost:8080/"
        },
        "id": "0jkWagS6Fhp2",
        "outputId": "b2a414b1-a7f1-44ac-a38c-89e4ce033584"
      },
      "execution_count": 36,
      "outputs": [
        {
          "output_type": "stream",
          "name": "stdout",
          "text": [
            "313/313 [==============================] - 1s 4ms/step - loss: 0.0340 - accuracy: 0.9917\n"
          ]
        },
        {
          "output_type": "execute_result",
          "data": {
            "text/plain": [
              "[0.033956609666347504, 0.9916999936103821]"
            ]
          },
          "metadata": {},
          "execution_count": 36
        }
      ]
    },
    {
      "cell_type": "code",
      "source": [
        "y_acc2 = hist2.history['accuracy']\n",
        "y_vloss2 = hist2.history['val_loss']\n",
        "xs1 = np.arange(1, len(y_acc2) + 1)\n",
        "plt.figure(figsize=(20, 8))\n",
        "plt.plot(xs1, y_acc2, label='train.accuracy')\n",
        "plt.plot(xs1, y_vloss2, label='validation loss')\n",
        "plt.legend(), plt.grid()\n",
        "plt.ylim([0,1.2])\n",
        "plt.xlabel('Epoch')\n",
        "plt.show()"
      ],
      "metadata": {
        "colab": {
          "base_uri": "https://localhost:8080/",
          "height": 332
        },
        "id": "pk_VjA4cFmkM",
        "outputId": "337e09a9-c9f0-4230-add3-856e51a25064"
      },
      "execution_count": 37,
      "outputs": [
        {
          "output_type": "display_data",
          "data": {
            "text/plain": [
              "<Figure size 1440x576 with 1 Axes>"
            ],
            "image/png": "[encoded data removed]"
          },
          "metadata": {
            "needs_background": "light"
          }
        }
      ]
    },
    {
      "cell_type": "markdown",
      "source": [
        "# Fashion MNIST 손글씨 - CNN v1\n",
        "\n",
        "\n",
        "\n",
        "- 2 x conv2D layers\n",
        "- 1 FCN layer\n",
        "- 1 Dropput\n",
        "- MaxPooling2D\n",
        "- l output layer"
      ],
      "metadata": {
        "id": "hPueH6BOGno-"
      }
    },
    {
      "cell_type": "code",
      "source": [
        "from tensorflow.keras.datasets import fashion_mnist\n",
        "(X_train, y_train), (X_test, y_test) = fashion_mnist.load_data()\n",
        "X_train.shape"
      ],
      "metadata": {
        "colab": {
          "base_uri": "https://localhost:8080/"
        },
        "id": "Ebp_tPkEIgzW",
        "outputId": "945eeb60-9245-4aac-a810-0f3d0d04f25e"
      },
      "execution_count": 84,
      "outputs": [
        {
          "output_type": "execute_result",
          "data": {
            "text/plain": [
              "(60000, 28, 28)"
            ]
          },
          "metadata": {},
          "execution_count": 84
        }
      ]
    },
    {
      "cell_type": "code",
      "source": [
        "plt.imshow(X_train[0], cmap='Greys')"
      ],
      "metadata": {
        "colab": {
          "base_uri": "https://localhost:8080/",
          "height": 282
        },
        "id": "8fZy2wPuIrD9",
        "outputId": "49e9a4ce-8ee3-44d2-dcaf-5c8a982dd008"
      },
      "execution_count": 85,
      "outputs": [
        {
          "output_type": "execute_result",
          "data": {
            "text/plain": [
              "<matplotlib.image.AxesImage at 0x7f98ae0e4450>"
            ]
          },
          "metadata": {},
          "execution_count": 85
        },
        {
          "output_type": "display_data",
          "data": {
            "text/plain": [
              "<Figure size 432x288 with 1 Axes>"
            ],
            "image/png": "[encoded data removed]"
          },
          "metadata": {
            "needs_background": "light"
          }
        }
      ]
    },
    {
      "cell_type": "code",
      "source": [
        "class_names = ['T-shirt/top', 'Trouser', 'Pullover', 'Dress', 'Coat',\n",
        "               'Sandal', 'Shirt', 'Sneaker', 'Bag', 'Ankle boot']"
      ],
      "metadata": {
        "id": "wJX2tmkfIxGs"
      },
      "execution_count": 86,
      "outputs": []
    },
    {
      "cell_type": "code",
      "source": [
        "plt.figure(figsize=(13,5))\n",
        "for i in range(1, 11):\n",
        "    plt.subplot(2, 5, i)\n",
        "    plt.imshow(X_train[i], cmap='Greys')\n",
        "    plt.title(class_names[y_train[i]])\n",
        "    plt.xticks([]), plt.yticks([])\n",
        "plt.show()"
      ],
      "metadata": {
        "colab": {
          "base_uri": "https://localhost:8080/",
          "height": 322
        },
        "id": "Jc1DM9fbI4Hc",
        "outputId": "2901e616-3359-45b2-b7ad-eec68b6b50d9"
      },
      "execution_count": 87,
      "outputs": [
        {
          "output_type": "display_data",
          "data": {
            "text/plain": [
              "<Figure size 936x360 with 10 Axes>"
            ],
            "image/png": "[encoded data removed]"
          },
          "metadata": {}
        }
      ]
    },
    {
      "cell_type": "code",
      "source": [
        "X_train = X_train.reshape(-1, 28, 28, 1) / 255.\n",
        "X_test = X_test.reshape(-1, 28, 28, 1) / 255.\n",
        "X_train.shape, X_test.shape"
      ],
      "metadata": {
        "colab": {
          "base_uri": "https://localhost:8080/"
        },
        "id": "A2X6a2U-JGV0",
        "outputId": "94bdf609-aa8e-4351-eaff-911d2596526f"
      },
      "execution_count": 88,
      "outputs": [
        {
          "output_type": "execute_result",
          "data": {
            "text/plain": [
              "((60000, 28, 28, 1), (10000, 28, 28, 1))"
            ]
          },
          "metadata": {},
          "execution_count": 88
        }
      ]
    },
    {
      "cell_type": "code",
      "source": [
        "from tensorflow.keras.utils import to_categorical\n",
        "Y_train = to_categorical(y_train)\n",
        "Y_test = to_categorical(y_test)\n",
        "Y_train.shape, Y_test.shape"
      ],
      "metadata": {
        "colab": {
          "base_uri": "https://localhost:8080/"
        },
        "id": "mrkvsJ-uJR1G",
        "outputId": "6e611ebb-a77c-4f50-dddf-cfe29e660877"
      },
      "execution_count": 89,
      "outputs": [
        {
          "output_type": "execute_result",
          "data": {
            "text/plain": [
              "((60000, 10), (10000, 10))"
            ]
          },
          "metadata": {},
          "execution_count": 89
        }
      ]
    },
    {
      "cell_type": "code",
      "source": [
        "del model"
      ],
      "metadata": {
        "id": "9u9oN7pGKoK_"
      },
      "execution_count": 90,
      "outputs": []
    },
    {
      "cell_type": "code",
      "source": [
        "model = Sequential([\n",
        "    Conv2D(32, kernel_size=(3,3), input_shape=(28, 28, 1), activation='relu'),\n",
        "    Conv2D(64, (3, 3), activation='relu'),\n",
        "    MaxPooling2D(),\n",
        "    Dropout(0.25),\n",
        "    Flatten(),\n",
        "    Dense(512, activation='relu'),\n",
        "    Dropout(0.5),\n",
        "    Dense(10, activation='softmax')\n",
        "])\n",
        "\n",
        "model.summary()"
      ],
      "metadata": {
        "colab": {
          "base_uri": "https://localhost:8080/"
        },
        "id": "1t7aS5gzJdUF",
        "outputId": "4c6fd7e4-ee36-4958-f93a-7bd861cff1ed"
      },
      "execution_count": 91,
      "outputs": [
        {
          "output_type": "stream",
          "name": "stdout",
          "text": [
            "Model: \"sequential_9\"\n",
            "_________________________________________________________________\n",
            " Layer (type)                Output Shape              Param #   \n",
            "=================================================================\n",
            " conv2d_19 (Conv2D)          (None, 26, 26, 32)        320       \n",
            "                                                                 \n",
            " conv2d_20 (Conv2D)          (None, 24, 24, 64)        18496     \n",
            "                                                                 \n",
            " max_pooling2d_9 (MaxPooling  (None, 12, 12, 64)       0         \n",
            " 2D)                                                             \n",
            "                                                                 \n",
            " dropout_14 (Dropout)        (None, 12, 12, 64)        0         \n",
            "                                                                 \n",
            " flatten_9 (Flatten)         (None, 9216)              0         \n",
            "                                                                 \n",
            " dense_18 (Dense)            (None, 512)               4719104   \n",
            "                                                                 \n",
            " dropout_15 (Dropout)        (None, 512)               0         \n",
            "                                                                 \n",
            " dense_19 (Dense)            (None, 10)                5130      \n",
            "                                                                 \n",
            "=================================================================\n",
            "Total params: 4,743,050\n",
            "Trainable params: 4,743,050\n",
            "Non-trainable params: 0\n",
            "_________________________________________________________________\n"
          ]
        }
      ]
    },
    {
      "cell_type": "code",
      "source": [
        "model_path = 'best_fashion_mnist_cnn_v1.h5'\n",
        "mc = ModelCheckpoint(model_path, save_best_only=True, verbose=1)\n",
        "es = EarlyStopping(patience=10)"
      ],
      "metadata": {
        "id": "Fn8X6c5nJ9n1"
      },
      "execution_count": 92,
      "outputs": []
    },
    {
      "cell_type": "code",
      "source": [
        "model.compile('adam', 'categorical_crossentropy', ['accuracy'])"
      ],
      "metadata": {
        "id": "gqcr4380KGil"
      },
      "execution_count": 93,
      "outputs": []
    },
    {
      "cell_type": "code",
      "source": [
        "hist1 = model.fit(X_train, Y_train, validation_split=0.2,\n",
        "                  epochs=1000, batch_size=200, verbose=1,\n",
        "                  callbacks=[mc, es])"
      ],
      "metadata": {
        "colab": {
          "base_uri": "https://localhost:8080/"
        },
        "id": "Okj35tFOKMG8",
        "outputId": "8aef6d7c-c922-420f-a6a7-f62c3d0766a7"
      },
      "execution_count": 94,
      "outputs": [
        {
          "output_type": "stream",
          "name": "stdout",
          "text": [
            "Epoch 1/1000\n",
            "239/240 [============================>.] - ETA: 0s - loss: 0.4973 - accuracy: 0.8205\n",
            "Epoch 1: val_loss improved from inf to 0.33993, saving model to best_fashion_mnist_cnn_v1.h5\n",
            "240/240 [==============================] - 4s 16ms/step - loss: 0.4968 - accuracy: 0.8206 - val_loss: 0.3399 - val_accuracy: 0.8760\n",
            "Epoch 2/1000\n",
            "239/240 [============================>.] - ETA: 0s - loss: 0.3078 - accuracy: 0.8882\n",
            "Epoch 2: val_loss improved from 0.33993 to 0.26695, saving model to best_fashion_mnist_cnn_v1.h5\n",
            "240/240 [==============================] - 4s 15ms/step - loss: 0.3078 - accuracy: 0.8882 - val_loss: 0.2670 - val_accuracy: 0.9016\n",
            "Epoch 3/1000\n",
            "237/240 [============================>.] - ETA: 0s - loss: 0.2544 - accuracy: 0.9084\n",
            "Epoch 3: val_loss improved from 0.26695 to 0.23986, saving model to best_fashion_mnist_cnn_v1.h5\n",
            "240/240 [==============================] - 4s 15ms/step - loss: 0.2541 - accuracy: 0.9086 - val_loss: 0.2399 - val_accuracy: 0.9107\n",
            "Epoch 4/1000\n",
            "238/240 [============================>.] - ETA: 0s - loss: 0.2209 - accuracy: 0.9197\n",
            "Epoch 4: val_loss improved from 0.23986 to 0.21699, saving model to best_fashion_mnist_cnn_v1.h5\n",
            "240/240 [==============================] - 4s 15ms/step - loss: 0.2211 - accuracy: 0.9196 - val_loss: 0.2170 - val_accuracy: 0.9217\n",
            "Epoch 5/1000\n",
            "238/240 [============================>.] - ETA: 0s - loss: 0.1957 - accuracy: 0.9275\n",
            "Epoch 5: val_loss did not improve from 0.21699\n",
            "240/240 [==============================] - 3s 14ms/step - loss: 0.1962 - accuracy: 0.9275 - val_loss: 0.2322 - val_accuracy: 0.9167\n",
            "Epoch 6/1000\n",
            "238/240 [============================>.] - ETA: 0s - loss: 0.1710 - accuracy: 0.9362\n",
            "Epoch 6: val_loss improved from 0.21699 to 0.20811, saving model to best_fashion_mnist_cnn_v1.h5\n",
            "240/240 [==============================] - 4s 15ms/step - loss: 0.1708 - accuracy: 0.9364 - val_loss: 0.2081 - val_accuracy: 0.9244\n",
            "Epoch 7/1000\n",
            "237/240 [============================>.] - ETA: 0s - loss: 0.1549 - accuracy: 0.9418\n",
            "Epoch 7: val_loss improved from 0.20811 to 0.20530, saving model to best_fashion_mnist_cnn_v1.h5\n",
            "240/240 [==============================] - 4s 15ms/step - loss: 0.1553 - accuracy: 0.9417 - val_loss: 0.2053 - val_accuracy: 0.9286\n",
            "Epoch 8/1000\n",
            "237/240 [============================>.] - ETA: 0s - loss: 0.1385 - accuracy: 0.9484\n",
            "Epoch 8: val_loss improved from 0.20530 to 0.20273, saving model to best_fashion_mnist_cnn_v1.h5\n",
            "240/240 [==============================] - 4s 15ms/step - loss: 0.1387 - accuracy: 0.9481 - val_loss: 0.2027 - val_accuracy: 0.9290\n",
            "Epoch 9/1000\n",
            "237/240 [============================>.] - ETA: 0s - loss: 0.1228 - accuracy: 0.9547\n",
            "Epoch 9: val_loss did not improve from 0.20273\n",
            "240/240 [==============================] - 3s 14ms/step - loss: 0.1229 - accuracy: 0.9547 - val_loss: 0.2115 - val_accuracy: 0.9291\n",
            "Epoch 10/1000\n",
            "237/240 [============================>.] - ETA: 0s - loss: 0.1076 - accuracy: 0.9600\n",
            "Epoch 10: val_loss did not improve from 0.20273\n",
            "240/240 [==============================] - 3s 14ms/step - loss: 0.1074 - accuracy: 0.9602 - val_loss: 0.2151 - val_accuracy: 0.9266\n",
            "Epoch 11/1000\n",
            "237/240 [============================>.] - ETA: 0s - loss: 0.0983 - accuracy: 0.9635\n",
            "Epoch 11: val_loss did not improve from 0.20273\n",
            "240/240 [==============================] - 3s 14ms/step - loss: 0.0987 - accuracy: 0.9634 - val_loss: 0.2143 - val_accuracy: 0.9311\n",
            "Epoch 12/1000\n",
            "238/240 [============================>.] - ETA: 0s - loss: 0.0858 - accuracy: 0.9683\n",
            "Epoch 12: val_loss did not improve from 0.20273\n",
            "240/240 [==============================] - 3s 14ms/step - loss: 0.0856 - accuracy: 0.9684 - val_loss: 0.2211 - val_accuracy: 0.9323\n",
            "Epoch 13/1000\n",
            "238/240 [============================>.] - ETA: 0s - loss: 0.0763 - accuracy: 0.9726\n",
            "Epoch 13: val_loss did not improve from 0.20273\n",
            "240/240 [==============================] - 3s 14ms/step - loss: 0.0763 - accuracy: 0.9725 - val_loss: 0.2208 - val_accuracy: 0.9323\n",
            "Epoch 14/1000\n",
            "238/240 [============================>.] - ETA: 0s - loss: 0.0698 - accuracy: 0.9741\n",
            "Epoch 14: val_loss did not improve from 0.20273\n",
            "240/240 [==============================] - 3s 14ms/step - loss: 0.0698 - accuracy: 0.9740 - val_loss: 0.2274 - val_accuracy: 0.9333\n",
            "Epoch 15/1000\n",
            "238/240 [============================>.] - ETA: 0s - loss: 0.0631 - accuracy: 0.9768\n",
            "Epoch 15: val_loss did not improve from 0.20273\n",
            "240/240 [==============================] - 3s 14ms/step - loss: 0.0632 - accuracy: 0.9768 - val_loss: 0.2531 - val_accuracy: 0.9276\n",
            "Epoch 16/1000\n",
            "240/240 [==============================] - ETA: 0s - loss: 0.0560 - accuracy: 0.9795\n",
            "Epoch 16: val_loss did not improve from 0.20273\n",
            "240/240 [==============================] - 3s 14ms/step - loss: 0.0560 - accuracy: 0.9795 - val_loss: 0.2465 - val_accuracy: 0.9320\n",
            "Epoch 17/1000\n",
            "237/240 [============================>.] - ETA: 0s - loss: 0.0522 - accuracy: 0.9810\n",
            "Epoch 17: val_loss did not improve from 0.20273\n",
            "240/240 [==============================] - 3s 14ms/step - loss: 0.0525 - accuracy: 0.9808 - val_loss: 0.2492 - val_accuracy: 0.9323\n",
            "Epoch 18/1000\n",
            "238/240 [============================>.] - ETA: 0s - loss: 0.0493 - accuracy: 0.9817\n",
            "Epoch 18: val_loss did not improve from 0.20273\n",
            "240/240 [==============================] - 3s 14ms/step - loss: 0.0494 - accuracy: 0.9816 - val_loss: 0.2600 - val_accuracy: 0.9295\n"
          ]
        }
      ]
    },
    {
      "cell_type": "code",
      "source": [
        "model.evaluate(X_test, Y_test)"
      ],
      "metadata": {
        "colab": {
          "base_uri": "https://localhost:8080/"
        },
        "id": "aFfBDjaLKUaG",
        "outputId": "7f76c6da-621e-44f6-c488-8e3e8f987f58"
      },
      "execution_count": 95,
      "outputs": [
        {
          "output_type": "stream",
          "name": "stdout",
          "text": [
            "313/313 [==============================] - 1s 3ms/step - loss: 0.2737 - accuracy: 0.9289\n"
          ]
        },
        {
          "output_type": "execute_result",
          "data": {
            "text/plain": [
              "[0.273735910654068, 0.9289000034332275]"
            ]
          },
          "metadata": {},
          "execution_count": 95
        }
      ]
    },
    {
      "cell_type": "code",
      "source": [
        "best_model = load_model(model_path)\n",
        "best_model.evaluate(X_test, Y_test)"
      ],
      "metadata": {
        "colab": {
          "base_uri": "https://localhost:8080/"
        },
        "id": "PV1Rbz24Ka89",
        "outputId": "b00ceef9-4c49-40db-a6b0-02a31abc4e95"
      },
      "execution_count": 96,
      "outputs": [
        {
          "output_type": "stream",
          "name": "stdout",
          "text": [
            "313/313 [==============================] - 1s 3ms/step - loss: 0.2172 - accuracy: 0.9230\n"
          ]
        },
        {
          "output_type": "execute_result",
          "data": {
            "text/plain": [
              "[0.2172379195690155, 0.9229999780654907]"
            ]
          },
          "metadata": {},
          "execution_count": 96
        }
      ]
    },
    {
      "cell_type": "code",
      "source": [
        "y_acc1 = hist1.history['accuracy']\n",
        "y_vloss1 = hist1.history['val_loss']\n",
        "xs1 = np.arange(1, len(y_acc1) + 1)\n",
        "plt.figure(figsize=(20, 8))\n",
        "plt.plot(xs1, y_acc1, label='train.accuracy')\n",
        "plt.plot(xs1, y_vloss1, label='validation loss')\n",
        "plt.legend(), plt.grid()\n",
        "plt.ylim([0,1.2])\n",
        "plt.xlabel('Epoch')\n",
        "plt.show()"
      ],
      "metadata": {
        "colab": {
          "base_uri": "https://localhost:8080/",
          "height": 332
        },
        "id": "8rrBNh_FKdp1",
        "outputId": "2c09119d-1fce-446d-8071-0fab965d8df0"
      },
      "execution_count": 97,
      "outputs": [
        {
          "output_type": "display_data",
          "data": {
            "text/plain": [
              "<Figure size 1440x576 with 1 Axes>"
            ],
            "image/png": "[encoded data removed]"
          },
          "metadata": {
            "needs_background": "light"
          }
        }
      ]
    },
    {
      "cell_type": "code",
      "source": [],
      "metadata": {
        "id": "VyRW4wG3Kfmd"
      },
      "execution_count": null,
      "outputs": []
    }
  ]
}