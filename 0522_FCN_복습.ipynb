{
  "nbformat": 4,
  "nbformat_minor": 0,
  "metadata": {
    "colab": {
      "name": "0522 FCN 복습.ipynb",
      "provenance": []
    },
    "kernelspec": {
      "name": "python3",
      "display_name": "Python 3"
    },
    "language_info": {
      "name": "python"
    }
  },
  "cells": [
    {
      "cell_type": "code",
      "execution_count": 1,
      "metadata": {
        "id": "vRhN2wEaNdSB"
      },
      "outputs": [],
      "source": [
        "import numpy as np\n",
        "import pandas as pd\n",
        "import matplotlib.pyplot as plt"
      ]
    },
    {
      "cell_type": "code",
      "source": [
        "from sklearn.datasets import load_breast_cancer\n",
        "cancer = load_breast_cancer()\n"
      ],
      "metadata": {
        "id": "P5FASF9XNpj-"
      },
      "execution_count": 2,
      "outputs": []
    },
    {
      "cell_type": "code",
      "source": [
        "df = pd.DataFrame(cancer.data, columns = cancer.feature_names)\n",
        "df['target'] = cancer.target\n",
        "df.head()"
      ],
      "metadata": {
        "colab": {
          "base_uri": "https://localhost:8080/",
          "height": 334
        },
        "id": "45Bq_v_iNvV2",
        "outputId": "b990f69d-6023-409e-f8de-5293a8205f96"
      },
      "execution_count": 3,
      "outputs": [
        {
          "output_type": "execute_result",
          "data": {
            "text/plain": [
              "   mean radius  mean texture  mean perimeter  mean area  mean smoothness  \\\n",
              "0        17.99         10.38          122.80     1001.0          0.11840   \n",
              "1        20.57         17.77          132.90     1326.0          0.08474   \n",
              "2        19.69         21.25          130.00     1203.0          0.10960   \n",
              "3        11.42         20.38           77.58      386.1          0.14250   \n",
              "4        20.29         14.34          135.10     1297.0          0.10030   \n",
              "\n",
              "   mean compactness  mean concavity  mean concave points  mean symmetry  \\\n",
              "0           0.27760          0.3001              0.14710         0.2419   \n",
              "1           0.07864          0.0869              0.07017         0.1812   \n",
              "2           0.15990          0.1974              0.12790         0.2069   \n",
              "3           0.28390          0.2414              0.10520         0.2597   \n",
              "4           0.13280          0.1980              0.10430         0.1809   \n",
              "\n",
              "   mean fractal dimension  ...  worst texture  worst perimeter  worst area  \\\n",
              "0                 0.07871  ...          17.33           184.60      2019.0   \n",
              "1                 0.05667  ...          23.41           158.80      1956.0   \n",
              "2                 0.05999  ...          25.53           152.50      1709.0   \n",
              "3                 0.09744  ...          26.50            98.87       567.7   \n",
              "4                 0.05883  ...          16.67           152.20      1575.0   \n",
              "\n",
              "   worst smoothness  worst compactness  worst concavity  worst concave points  \\\n",
              "0            0.1622             0.6656           0.7119                0.2654   \n",
              "1            0.1238             0.1866           0.2416                0.1860   \n",
              "2            0.1444             0.4245           0.4504                0.2430   \n",
              "3            0.2098             0.8663           0.6869                0.2575   \n",
              "4            0.1374             0.2050           0.4000                0.1625   \n",
              "\n",
              "   worst symmetry  worst fractal dimension  target  \n",
              "0          0.4601                  0.11890       0  \n",
              "1          0.2750                  0.08902       0  \n",
              "2          0.3613                  0.08758       0  \n",
              "3          0.6638                  0.17300       0  \n",
              "4          0.2364                  0.07678       0  \n",
              "\n",
              "[5 rows x 31 columns]"
            ],
            "text/html": [
              "\n",
              "  <div id=\"df-a473b9ac-9656-448e-9ea3-17db54831fdc\">\n",
              "    <div class=\"colab-df-container\">\n",
              "      <div>\n",
              "<style scoped>\n",
              "    .dataframe tbody tr th:only-of-type {\n",
              "        vertical-align: middle;\n",
              "    }\n",
              "\n",
              "    .dataframe tbody tr th {\n",
              "        vertical-align: top;\n",
              "    }\n",
              "\n",
              "    .dataframe thead th {\n",
              "        text-align: right;\n",
              "    }\n",
              "</style>\n",
              "<table border=\"1\" class=\"dataframe\">\n",
              "  <thead>\n",
              "    <tr style=\"text-align: right;\">\n",
              "      <th></th>\n",
              "      <th>mean radius</th>\n",
              "      <th>mean texture</th>\n",
              "      <th>mean perimeter</th>\n",
              "      <th>mean area</th>\n",
              "      <th>mean smoothness</th>\n",
              "      <th>mean compactness</th>\n",
              "      <th>mean concavity</th>\n",
              "      <th>mean concave points</th>\n",
              "      <th>mean symmetry</th>\n",
              "      <th>mean fractal dimension</th>\n",
              "      <th>...</th>\n",
              "      <th>worst texture</th>\n",
              "      <th>worst perimeter</th>\n",
              "      <th>worst area</th>\n",
              "      <th>worst smoothness</th>\n",
              "      <th>worst compactness</th>\n",
              "      <th>worst concavity</th>\n",
              "      <th>worst concave points</th>\n",
              "      <th>worst symmetry</th>\n",
              "      <th>worst fractal dimension</th>\n",
              "      <th>target</th>\n",
              "    </tr>\n",
              "  </thead>\n",
              "  <tbody>\n",
              "    <tr>\n",
              "      <th>0</th>\n",
              "      <td>17.99</td>\n",
              "      <td>10.38</td>\n",
              "      <td>122.80</td>\n",
              "      <td>1001.0</td>\n",
              "      <td>0.11840</td>\n",
              "      <td>0.27760</td>\n",
              "      <td>0.3001</td>\n",
              "      <td>0.14710</td>\n",
              "      <td>0.2419</td>\n",
              "      <td>0.07871</td>\n",
              "      <td>...</td>\n",
              "      <td>17.33</td>\n",
              "      <td>184.60</td>\n",
              "      <td>2019.0</td>\n",
              "      <td>0.1622</td>\n",
              "      <td>0.6656</td>\n",
              "      <td>0.7119</td>\n",
              "      <td>0.2654</td>\n",
              "      <td>0.4601</td>\n",
              "      <td>0.11890</td>\n",
              "      <td>0</td>\n",
              "    </tr>\n",
              "    <tr>\n",
              "      <th>1</th>\n",
              "      <td>20.57</td>\n",
              "      <td>17.77</td>\n",
              "      <td>132.90</td>\n",
              "      <td>1326.0</td>\n",
              "      <td>0.08474</td>\n",
              "      <td>0.07864</td>\n",
              "      <td>0.0869</td>\n",
              "      <td>0.07017</td>\n",
              "      <td>0.1812</td>\n",
              "      <td>0.05667</td>\n",
              "      <td>...</td>\n",
              "      <td>23.41</td>\n",
              "      <td>158.80</td>\n",
              "      <td>1956.0</td>\n",
              "      <td>0.1238</td>\n",
              "      <td>0.1866</td>\n",
              "      <td>0.2416</td>\n",
              "      <td>0.1860</td>\n",
              "      <td>0.2750</td>\n",
              "      <td>0.08902</td>\n",
              "      <td>0</td>\n",
              "    </tr>\n",
              "    <tr>\n",
              "      <th>2</th>\n",
              "      <td>19.69</td>\n",
              "      <td>21.25</td>\n",
              "      <td>130.00</td>\n",
              "      <td>1203.0</td>\n",
              "      <td>0.10960</td>\n",
              "      <td>0.15990</td>\n",
              "      <td>0.1974</td>\n",
              "      <td>0.12790</td>\n",
              "      <td>0.2069</td>\n",
              "      <td>0.05999</td>\n",
              "      <td>...</td>\n",
              "      <td>25.53</td>\n",
              "      <td>152.50</td>\n",
              "      <td>1709.0</td>\n",
              "      <td>0.1444</td>\n",
              "      <td>0.4245</td>\n",
              "      <td>0.4504</td>\n",
              "      <td>0.2430</td>\n",
              "      <td>0.3613</td>\n",
              "      <td>0.08758</td>\n",
              "      <td>0</td>\n",
              "    </tr>\n",
              "    <tr>\n",
              "      <th>3</th>\n",
              "      <td>11.42</td>\n",
              "      <td>20.38</td>\n",
              "      <td>77.58</td>\n",
              "      <td>386.1</td>\n",
              "      <td>0.14250</td>\n",
              "      <td>0.28390</td>\n",
              "      <td>0.2414</td>\n",
              "      <td>0.10520</td>\n",
              "      <td>0.2597</td>\n",
              "      <td>0.09744</td>\n",
              "      <td>...</td>\n",
              "      <td>26.50</td>\n",
              "      <td>98.87</td>\n",
              "      <td>567.7</td>\n",
              "      <td>0.2098</td>\n",
              "      <td>0.8663</td>\n",
              "      <td>0.6869</td>\n",
              "      <td>0.2575</td>\n",
              "      <td>0.6638</td>\n",
              "      <td>0.17300</td>\n",
              "      <td>0</td>\n",
              "    </tr>\n",
              "    <tr>\n",
              "      <th>4</th>\n",
              "      <td>20.29</td>\n",
              "      <td>14.34</td>\n",
              "      <td>135.10</td>\n",
              "      <td>1297.0</td>\n",
              "      <td>0.10030</td>\n",
              "      <td>0.13280</td>\n",
              "      <td>0.1980</td>\n",
              "      <td>0.10430</td>\n",
              "      <td>0.1809</td>\n",
              "      <td>0.05883</td>\n",
              "      <td>...</td>\n",
              "      <td>16.67</td>\n",
              "      <td>152.20</td>\n",
              "      <td>1575.0</td>\n",
              "      <td>0.1374</td>\n",
              "      <td>0.2050</td>\n",
              "      <td>0.4000</td>\n",
              "      <td>0.1625</td>\n",
              "      <td>0.2364</td>\n",
              "      <td>0.07678</td>\n",
              "      <td>0</td>\n",
              "    </tr>\n",
              "  </tbody>\n",
              "</table>\n",
              "<p>5 rows × 31 columns</p>\n",
              "</div>\n",
              "      <button class=\"colab-df-convert\" onclick=\"convertToInteractive('df-a473b9ac-9656-448e-9ea3-17db54831fdc')\"\n",
              "              title=\"Convert this dataframe to an interactive table.\"\n",
              "              style=\"display:none;\">\n",
              "        \n",
              "  <svg xmlns=\"http://www.w3.org/2000/svg\" height=\"24px\"viewBox=\"0 0 24 24\"\n",
              "       width=\"24px\">\n",
              "    <path d=\"M0 0h24v24H0V0z\" fill=\"none\"/>\n",
              "    <path d=\"M18.56 5.44l.94 2.06.94-2.06 2.06-.94-2.06-.94-.94-2.06-.94 2.06-2.06.94zm-11 1L8.5 8.5l.94-2.06 2.06-.94-2.06-.94L8.5 2.5l-.94 2.06-2.06.94zm10 10l.94 2.06.94-2.06 2.06-.94-2.06-.94-.94-2.06-.94 2.06-2.06.94z\"/><path d=\"M17.41 7.96l-1.37-1.37c-.4-.4-.92-.59-1.43-.59-.52 0-1.04.2-1.43.59L10.3 9.45l-7.72 7.72c-.78.78-.78 2.05 0 2.83L4 21.41c.39.39.9.59 1.41.59.51 0 1.02-.2 1.41-.59l7.78-7.78 2.81-2.81c.8-.78.8-2.07 0-2.86zM5.41 20L4 18.59l7.72-7.72 1.47 1.35L5.41 20z\"/>\n",
              "  </svg>\n",
              "      </button>\n",
              "      \n",
              "  <style>\n",
              "    .colab-df-container {\n",
              "      display:flex;\n",
              "      flex-wrap:wrap;\n",
              "      gap: 12px;\n",
              "    }\n",
              "\n",
              "    .colab-df-convert {\n",
              "      background-color: #E8F0FE;\n",
              "      border: none;\n",
              "      border-radius: 50%;\n",
              "      cursor: pointer;\n",
              "      display: none;\n",
              "      fill: #1967D2;\n",
              "      height: 32px;\n",
              "      padding: 0 0 0 0;\n",
              "      width: 32px;\n",
              "    }\n",
              "\n",
              "    .colab-df-convert:hover {\n",
              "      background-color: #E2EBFA;\n",
              "      box-shadow: 0px 1px 2px rgba(60, 64, 67, 0.3), 0px 1px 3px 1px rgba(60, 64, 67, 0.15);\n",
              "      fill: #174EA6;\n",
              "    }\n",
              "\n",
              "    [theme=dark] .colab-df-convert {\n",
              "      background-color: #3B4455;\n",
              "      fill: #D2E3FC;\n",
              "    }\n",
              "\n",
              "    [theme=dark] .colab-df-convert:hover {\n",
              "      background-color: #434B5C;\n",
              "      box-shadow: 0px 1px 3px 1px rgba(0, 0, 0, 0.15);\n",
              "      filter: drop-shadow(0px 1px 2px rgba(0, 0, 0, 0.3));\n",
              "      fill: #FFFFFF;\n",
              "    }\n",
              "  </style>\n",
              "\n",
              "      <script>\n",
              "        const buttonEl =\n",
              "          document.querySelector('#df-a473b9ac-9656-448e-9ea3-17db54831fdc button.colab-df-convert');\n",
              "        buttonEl.style.display =\n",
              "          google.colab.kernel.accessAllowed ? 'block' : 'none';\n",
              "\n",
              "        async function convertToInteractive(key) {\n",
              "          const element = document.querySelector('#df-a473b9ac-9656-448e-9ea3-17db54831fdc');\n",
              "          const dataTable =\n",
              "            await google.colab.kernel.invokeFunction('convertToInteractive',\n",
              "                                                     [key], {});\n",
              "          if (!dataTable) return;\n",
              "\n",
              "          const docLinkHtml = 'Like what you see? Visit the ' +\n",
              "            '<a target=\"_blank\" href=https://colab.research.google.com/notebooks/data_table.ipynb>data table notebook</a>'\n",
              "            + ' to learn more about interactive tables.';\n",
              "          element.innerHTML = '';\n",
              "          dataTable['output_type'] = 'display_data';\n",
              "          await google.colab.output.renderOutput(dataTable, element);\n",
              "          const docLink = document.createElement('div');\n",
              "          docLink.innerHTML = docLinkHtml;\n",
              "          element.appendChild(docLink);\n",
              "        }\n",
              "      </script>\n",
              "    </div>\n",
              "  </div>\n",
              "  "
            ]
          },
          "metadata": {},
          "execution_count": 3
        }
      ]
    },
    {
      "cell_type": "code",
      "source": [
        "df.shape"
      ],
      "metadata": {
        "colab": {
          "base_uri": "https://localhost:8080/"
        },
        "id": "fpACQwyMN2el",
        "outputId": "da869adc-3400-415b-f4a9-fe0c6b04bb9a"
      },
      "execution_count": 4,
      "outputs": [
        {
          "output_type": "execute_result",
          "data": {
            "text/plain": [
              "(569, 31)"
            ]
          },
          "metadata": {},
          "execution_count": 4
        }
      ]
    },
    {
      "cell_type": "code",
      "source": [
        "from sklearn.model_selection import train_test_split\n",
        "X_train, X_test, y_train, y_test = train_test_split(\n",
        "    cancer.data, cancer.target, stratify = cancer.target,\n",
        "    test_size = 0.2, random_state = 2022\n",
        ")"
      ],
      "metadata": {
        "id": "p4Pqsn3UN6u9"
      },
      "execution_count": 5,
      "outputs": []
    },
    {
      "cell_type": "markdown",
      "source": [
        " - 모델정의"
      ],
      "metadata": {
        "id": "JwhJwdoWOIDn"
      }
    },
    {
      "cell_type": "code",
      "source": [
        "from tensorflow.keras.models import Sequential\n",
        "from tensorflow.keras.layers import Dense"
      ],
      "metadata": {
        "id": "AsyWalLhOKE_"
      },
      "execution_count": 6,
      "outputs": []
    },
    {
      "cell_type": "code",
      "source": [
        "model = Sequential([\n",
        "    Dense(100, input_shape=(30,), activation='relu'),\n",
        "    Dense(24, activation='relu'),\n",
        "    Dense(1, activation='sigmoid')\n",
        "])\n",
        "model.summary()"
      ],
      "metadata": {
        "colab": {
          "base_uri": "https://localhost:8080/"
        },
        "id": "JWcWMaONOXhh",
        "outputId": "6870bda7-a81b-4073-d4c2-dbe9231c402e"
      },
      "execution_count": 7,
      "outputs": [
        {
          "output_type": "stream",
          "name": "stdout",
          "text": [
            "Model: \"sequential\"\n",
            "_________________________________________________________________\n",
            " Layer (type)                Output Shape              Param #   \n",
            "=================================================================\n",
            " dense (Dense)               (None, 100)               3100      \n",
            "                                                                 \n",
            " dense_1 (Dense)             (None, 24)                2424      \n",
            "                                                                 \n",
            " dense_2 (Dense)             (None, 1)                 25        \n",
            "                                                                 \n",
            "=================================================================\n",
            "Total params: 5,549\n",
            "Trainable params: 5,549\n",
            "Non-trainable params: 0\n",
            "_________________________________________________________________\n"
          ]
        }
      ]
    },
    {
      "cell_type": "markdown",
      "source": [
        " - 모델설정"
      ],
      "metadata": {
        "id": "sgDWnZzYOs97"
      }
    },
    {
      "cell_type": "code",
      "source": [
        "model.compile('adam', 'binary_crossentropy', ['accuracy'])"
      ],
      "metadata": {
        "id": "VHvfxuNpO3Ci"
      },
      "execution_count": 8,
      "outputs": []
    },
    {
      "cell_type": "code",
      "source": [
        "history = model.fit(X_train, y_train, validation_split =0.2,\n",
        "                     epochs=100, batch_size=1000)"
      ],
      "metadata": {
        "colab": {
          "base_uri": "https://localhost:8080/"
        },
        "id": "45wQ_sV8O_ak",
        "outputId": "5cc72ff4-5ea6-4d44-8f6a-bddcab5a63a4"
      },
      "execution_count": 9,
      "outputs": [
        {
          "output_type": "stream",
          "name": "stdout",
          "text": [
            "Epoch 1/100\n",
            "1/1 [==============================] - 2s 2s/step - loss: 58.5264 - accuracy: 0.6209 - val_loss: 38.2361 - val_accuracy: 0.6484\n",
            "Epoch 2/100\n",
            "1/1 [==============================] - 0s 86ms/step - loss: 43.4465 - accuracy: 0.6209 - val_loss: 26.5862 - val_accuracy: 0.6484\n",
            "Epoch 3/100\n",
            "1/1 [==============================] - 0s 69ms/step - loss: 30.2707 - accuracy: 0.6209 - val_loss: 15.4497 - val_accuracy: 0.6484\n",
            "Epoch 4/100\n",
            "1/1 [==============================] - 0s 95ms/step - loss: 17.7185 - accuracy: 0.6209 - val_loss: 5.2962 - val_accuracy: 0.6374\n",
            "Epoch 5/100\n",
            "1/1 [==============================] - 0s 73ms/step - loss: 6.1761 - accuracy: 0.6319 - val_loss: 4.8745 - val_accuracy: 0.3297\n",
            "Epoch 6/100\n",
            "1/1 [==============================] - 0s 132ms/step - loss: 4.8090 - accuracy: 0.3571 - val_loss: 9.0435 - val_accuracy: 0.3516\n",
            "Epoch 7/100\n",
            "1/1 [==============================] - 0s 90ms/step - loss: 8.5001 - accuracy: 0.3791 - val_loss: 11.5263 - val_accuracy: 0.3516\n",
            "Epoch 8/100\n",
            "1/1 [==============================] - 0s 116ms/step - loss: 10.8312 - accuracy: 0.3791 - val_loss: 12.5752 - val_accuracy: 0.3516\n",
            "Epoch 9/100\n",
            "1/1 [==============================] - 0s 149ms/step - loss: 11.8146 - accuracy: 0.3791 - val_loss: 12.4897 - val_accuracy: 0.3516\n",
            "Epoch 10/100\n",
            "1/1 [==============================] - 0s 97ms/step - loss: 11.7327 - accuracy: 0.3791 - val_loss: 11.4838 - val_accuracy: 0.3516\n",
            "Epoch 11/100\n",
            "1/1 [==============================] - 0s 86ms/step - loss: 10.7878 - accuracy: 0.3791 - val_loss: 9.7202 - val_accuracy: 0.3516\n",
            "Epoch 12/100\n",
            "1/1 [==============================] - 0s 92ms/step - loss: 9.1317 - accuracy: 0.3791 - val_loss: 7.3254 - val_accuracy: 0.3516\n",
            "Epoch 13/100\n",
            "1/1 [==============================] - 0s 140ms/step - loss: 6.8868 - accuracy: 0.3791 - val_loss: 4.4119 - val_accuracy: 0.3516\n",
            "Epoch 14/100\n",
            "1/1 [==============================] - 0s 134ms/step - loss: 4.1843 - accuracy: 0.4093 - val_loss: 1.4038 - val_accuracy: 0.5275\n",
            "Epoch 15/100\n",
            "1/1 [==============================] - 0s 88ms/step - loss: 1.3925 - accuracy: 0.5495 - val_loss: 0.6071 - val_accuracy: 0.8132\n",
            "Epoch 16/100\n",
            "1/1 [==============================] - 0s 110ms/step - loss: 0.5941 - accuracy: 0.8049 - val_loss: 3.0510 - val_accuracy: 0.6593\n",
            "Epoch 17/100\n",
            "1/1 [==============================] - 0s 126ms/step - loss: 3.2219 - accuracy: 0.6236 - val_loss: 4.4764 - val_accuracy: 0.6484\n",
            "Epoch 18/100\n",
            "1/1 [==============================] - 0s 143ms/step - loss: 4.8396 - accuracy: 0.6209 - val_loss: 4.4588 - val_accuracy: 0.6484\n",
            "Epoch 19/100\n",
            "1/1 [==============================] - 0s 139ms/step - loss: 4.7978 - accuracy: 0.6236 - val_loss: 3.2822 - val_accuracy: 0.6593\n",
            "Epoch 20/100\n",
            "1/1 [==============================] - 0s 88ms/step - loss: 3.4402 - accuracy: 0.6374 - val_loss: 1.3919 - val_accuracy: 0.7253\n",
            "Epoch 21/100\n",
            "1/1 [==============================] - 0s 95ms/step - loss: 1.4304 - accuracy: 0.7005 - val_loss: 0.3422 - val_accuracy: 0.8571\n",
            "Epoch 22/100\n",
            "1/1 [==============================] - 0s 127ms/step - loss: 0.3573 - accuracy: 0.8791 - val_loss: 0.6751 - val_accuracy: 0.7802\n",
            "Epoch 23/100\n",
            "1/1 [==============================] - 0s 147ms/step - loss: 0.6649 - accuracy: 0.7500 - val_loss: 1.5743 - val_accuracy: 0.5714\n",
            "Epoch 24/100\n",
            "1/1 [==============================] - 0s 132ms/step - loss: 1.5547 - accuracy: 0.5577 - val_loss: 2.2360 - val_accuracy: 0.4396\n",
            "Epoch 25/100\n",
            "1/1 [==============================] - 0s 94ms/step - loss: 2.1865 - accuracy: 0.5165 - val_loss: 2.3686 - val_accuracy: 0.4396\n",
            "Epoch 26/100\n",
            "1/1 [==============================] - 0s 124ms/step - loss: 2.3079 - accuracy: 0.5110 - val_loss: 1.9818 - val_accuracy: 0.5055\n",
            "Epoch 27/100\n",
            "1/1 [==============================] - 0s 104ms/step - loss: 1.9393 - accuracy: 0.5440 - val_loss: 1.2671 - val_accuracy: 0.6593\n",
            "Epoch 28/100\n",
            "1/1 [==============================] - 0s 103ms/step - loss: 1.2404 - accuracy: 0.6181 - val_loss: 0.5726 - val_accuracy: 0.8022\n",
            "Epoch 29/100\n",
            "1/1 [==============================] - 0s 117ms/step - loss: 0.5490 - accuracy: 0.7995 - val_loss: 0.2825 - val_accuracy: 0.9011\n",
            "Epoch 30/100\n",
            "1/1 [==============================] - 0s 125ms/step - loss: 0.2715 - accuracy: 0.9038 - val_loss: 0.3900 - val_accuracy: 0.8901\n",
            "Epoch 31/100\n",
            "1/1 [==============================] - 0s 102ms/step - loss: 0.4446 - accuracy: 0.8874 - val_loss: 0.6911 - val_accuracy: 0.7912\n",
            "Epoch 32/100\n",
            "1/1 [==============================] - 0s 85ms/step - loss: 0.7976 - accuracy: 0.8297 - val_loss: 0.9439 - val_accuracy: 0.7802\n",
            "Epoch 33/100\n",
            "1/1 [==============================] - 0s 61ms/step - loss: 1.0529 - accuracy: 0.8049 - val_loss: 0.9464 - val_accuracy: 0.7802\n",
            "Epoch 34/100\n",
            "1/1 [==============================] - 0s 97ms/step - loss: 1.0637 - accuracy: 0.8077 - val_loss: 0.7258 - val_accuracy: 0.8132\n",
            "Epoch 35/100\n",
            "1/1 [==============================] - 0s 74ms/step - loss: 0.8517 - accuracy: 0.8297 - val_loss: 0.4724 - val_accuracy: 0.8901\n",
            "Epoch 36/100\n",
            "1/1 [==============================] - 0s 71ms/step - loss: 0.5537 - accuracy: 0.8791 - val_loss: 0.3244 - val_accuracy: 0.9011\n",
            "Epoch 37/100\n",
            "1/1 [==============================] - 0s 98ms/step - loss: 0.3293 - accuracy: 0.9093 - val_loss: 0.2887 - val_accuracy: 0.9121\n",
            "Epoch 38/100\n",
            "1/1 [==============================] - 0s 86ms/step - loss: 0.2604 - accuracy: 0.9066 - val_loss: 0.3830 - val_accuracy: 0.9121\n",
            "Epoch 39/100\n",
            "1/1 [==============================] - 0s 123ms/step - loss: 0.3711 - accuracy: 0.8516 - val_loss: 0.5502 - val_accuracy: 0.8022\n",
            "Epoch 40/100\n",
            "1/1 [==============================] - 0s 116ms/step - loss: 0.5451 - accuracy: 0.8214 - val_loss: 0.6413 - val_accuracy: 0.7912\n",
            "Epoch 41/100\n",
            "1/1 [==============================] - 0s 173ms/step - loss: 0.6352 - accuracy: 0.8022 - val_loss: 0.5891 - val_accuracy: 0.8022\n",
            "Epoch 42/100\n",
            "1/1 [==============================] - 0s 96ms/step - loss: 0.5854 - accuracy: 0.8187 - val_loss: 0.4488 - val_accuracy: 0.8901\n",
            "Epoch 43/100\n",
            "1/1 [==============================] - 0s 135ms/step - loss: 0.4451 - accuracy: 0.8407 - val_loss: 0.3319 - val_accuracy: 0.9121\n",
            "Epoch 44/100\n",
            "1/1 [==============================] - 0s 73ms/step - loss: 0.3129 - accuracy: 0.8874 - val_loss: 0.2945 - val_accuracy: 0.9121\n",
            "Epoch 45/100\n",
            "1/1 [==============================] - 0s 58ms/step - loss: 0.2620 - accuracy: 0.9093 - val_loss: 0.3129 - val_accuracy: 0.9231\n",
            "Epoch 46/100\n",
            "1/1 [==============================] - 0s 74ms/step - loss: 0.2938 - accuracy: 0.9121 - val_loss: 0.3517 - val_accuracy: 0.9011\n",
            "Epoch 47/100\n",
            "1/1 [==============================] - 0s 80ms/step - loss: 0.3634 - accuracy: 0.9121 - val_loss: 0.3830 - val_accuracy: 0.8901\n",
            "Epoch 48/100\n",
            "1/1 [==============================] - 0s 42ms/step - loss: 0.4156 - accuracy: 0.8984 - val_loss: 0.3887 - val_accuracy: 0.8901\n",
            "Epoch 49/100\n",
            "1/1 [==============================] - 0s 68ms/step - loss: 0.4245 - accuracy: 0.8984 - val_loss: 0.3676 - val_accuracy: 0.9011\n",
            "Epoch 50/100\n",
            "1/1 [==============================] - 0s 84ms/step - loss: 0.3894 - accuracy: 0.9066 - val_loss: 0.3337 - val_accuracy: 0.9121\n",
            "Epoch 51/100\n",
            "1/1 [==============================] - 0s 115ms/step - loss: 0.3303 - accuracy: 0.9093 - val_loss: 0.3040 - val_accuracy: 0.9231\n",
            "Epoch 52/100\n",
            "1/1 [==============================] - 0s 114ms/step - loss: 0.2801 - accuracy: 0.9121 - val_loss: 0.2912 - val_accuracy: 0.9121\n",
            "Epoch 53/100\n",
            "1/1 [==============================] - 0s 158ms/step - loss: 0.2630 - accuracy: 0.9066 - val_loss: 0.3004 - val_accuracy: 0.9121\n",
            "Epoch 54/100\n",
            "1/1 [==============================] - 0s 85ms/step - loss: 0.2797 - accuracy: 0.9093 - val_loss: 0.3230 - val_accuracy: 0.9121\n",
            "Epoch 55/100\n",
            "1/1 [==============================] - 0s 77ms/step - loss: 0.3117 - accuracy: 0.8791 - val_loss: 0.3398 - val_accuracy: 0.9121\n",
            "Epoch 56/100\n",
            "1/1 [==============================] - 0s 117ms/step - loss: 0.3328 - accuracy: 0.8764 - val_loss: 0.3362 - val_accuracy: 0.9121\n",
            "Epoch 57/100\n",
            "1/1 [==============================] - 0s 96ms/step - loss: 0.3274 - accuracy: 0.8819 - val_loss: 0.3162 - val_accuracy: 0.9121\n",
            "Epoch 58/100\n",
            "1/1 [==============================] - 0s 95ms/step - loss: 0.3009 - accuracy: 0.8901 - val_loss: 0.2956 - val_accuracy: 0.9121\n",
            "Epoch 59/100\n",
            "1/1 [==============================] - 0s 96ms/step - loss: 0.2716 - accuracy: 0.9011 - val_loss: 0.2862 - val_accuracy: 0.9121\n",
            "Epoch 60/100\n",
            "1/1 [==============================] - 0s 76ms/step - loss: 0.2564 - accuracy: 0.9093 - val_loss: 0.2889 - val_accuracy: 0.9231\n",
            "Epoch 61/100\n",
            "1/1 [==============================] - 0s 90ms/step - loss: 0.2589 - accuracy: 0.9121 - val_loss: 0.2977 - val_accuracy: 0.9231\n",
            "Epoch 62/100\n",
            "1/1 [==============================] - 0s 71ms/step - loss: 0.2713 - accuracy: 0.9176 - val_loss: 0.3052 - val_accuracy: 0.9231\n",
            "Epoch 63/100\n",
            "1/1 [==============================] - 0s 79ms/step - loss: 0.2821 - accuracy: 0.9148 - val_loss: 0.3065 - val_accuracy: 0.9231\n",
            "Epoch 64/100\n",
            "1/1 [==============================] - 0s 90ms/step - loss: 0.2837 - accuracy: 0.9148 - val_loss: 0.3009 - val_accuracy: 0.9231\n",
            "Epoch 65/100\n",
            "1/1 [==============================] - 0s 154ms/step - loss: 0.2751 - accuracy: 0.9203 - val_loss: 0.2922 - val_accuracy: 0.9231\n",
            "Epoch 66/100\n",
            "1/1 [==============================] - 0s 87ms/step - loss: 0.2611 - accuracy: 0.9176 - val_loss: 0.2851 - val_accuracy: 0.9121\n",
            "Epoch 67/100\n",
            "1/1 [==============================] - 0s 75ms/step - loss: 0.2490 - accuracy: 0.9066 - val_loss: 0.2840 - val_accuracy: 0.9121\n",
            "Epoch 68/100\n",
            "1/1 [==============================] - 0s 85ms/step - loss: 0.2447 - accuracy: 0.9121 - val_loss: 0.2892 - val_accuracy: 0.9121\n",
            "Epoch 69/100\n",
            "1/1 [==============================] - 0s 77ms/step - loss: 0.2484 - accuracy: 0.9121 - val_loss: 0.2969 - val_accuracy: 0.9011\n",
            "Epoch 70/100\n",
            "1/1 [==============================] - 0s 159ms/step - loss: 0.2551 - accuracy: 0.9066 - val_loss: 0.3012 - val_accuracy: 0.9121\n",
            "Epoch 71/100\n",
            "1/1 [==============================] - 0s 124ms/step - loss: 0.2580 - accuracy: 0.9038 - val_loss: 0.2993 - val_accuracy: 0.9011\n",
            "Epoch 72/100\n",
            "1/1 [==============================] - 0s 99ms/step - loss: 0.2542 - accuracy: 0.9066 - val_loss: 0.2930 - val_accuracy: 0.9011\n",
            "Epoch 73/100\n",
            "1/1 [==============================] - 0s 81ms/step - loss: 0.2464 - accuracy: 0.9121 - val_loss: 0.2869 - val_accuracy: 0.9121\n",
            "Epoch 74/100\n",
            "1/1 [==============================] - 0s 94ms/step - loss: 0.2399 - accuracy: 0.9148 - val_loss: 0.2839 - val_accuracy: 0.9121\n",
            "Epoch 75/100\n",
            "1/1 [==============================] - 0s 92ms/step - loss: 0.2381 - accuracy: 0.9093 - val_loss: 0.2841 - val_accuracy: 0.9121\n",
            "Epoch 76/100\n",
            "1/1 [==============================] - 0s 148ms/step - loss: 0.2401 - accuracy: 0.9121 - val_loss: 0.2854 - val_accuracy: 0.9121\n",
            "Epoch 77/100\n",
            "1/1 [==============================] - 0s 107ms/step - loss: 0.2430 - accuracy: 0.9148 - val_loss: 0.2861 - val_accuracy: 0.9121\n",
            "Epoch 78/100\n",
            "1/1 [==============================] - 0s 103ms/step - loss: 0.2439 - accuracy: 0.9148 - val_loss: 0.2852 - val_accuracy: 0.9121\n",
            "Epoch 79/100\n",
            "1/1 [==============================] - 0s 129ms/step - loss: 0.2420 - accuracy: 0.9148 - val_loss: 0.2837 - val_accuracy: 0.9121\n",
            "Epoch 80/100\n",
            "1/1 [==============================] - 0s 80ms/step - loss: 0.2382 - accuracy: 0.9148 - val_loss: 0.2831 - val_accuracy: 0.9121\n",
            "Epoch 81/100\n",
            "1/1 [==============================] - 0s 93ms/step - loss: 0.2347 - accuracy: 0.9121 - val_loss: 0.2845 - val_accuracy: 0.9121\n",
            "Epoch 82/100\n",
            "1/1 [==============================] - 0s 65ms/step - loss: 0.2333 - accuracy: 0.9093 - val_loss: 0.2874 - val_accuracy: 0.9121\n",
            "Epoch 83/100\n",
            "1/1 [==============================] - 0s 79ms/step - loss: 0.2340 - accuracy: 0.9148 - val_loss: 0.2901 - val_accuracy: 0.9011\n",
            "Epoch 84/100\n",
            "1/1 [==============================] - 0s 153ms/step - loss: 0.2353 - accuracy: 0.9176 - val_loss: 0.2908 - val_accuracy: 0.9121\n",
            "Epoch 85/100\n",
            "1/1 [==============================] - 0s 183ms/step - loss: 0.2353 - accuracy: 0.9176 - val_loss: 0.2890 - val_accuracy: 0.9121\n",
            "Epoch 86/100\n",
            "1/1 [==============================] - 0s 91ms/step - loss: 0.2336 - accuracy: 0.9176 - val_loss: 0.2858 - val_accuracy: 0.9121\n",
            "Epoch 87/100\n",
            "1/1 [==============================] - 0s 100ms/step - loss: 0.2311 - accuracy: 0.9148 - val_loss: 0.2827 - val_accuracy: 0.9121\n",
            "Epoch 88/100\n",
            "1/1 [==============================] - 0s 48ms/step - loss: 0.2293 - accuracy: 0.9121 - val_loss: 0.2807 - val_accuracy: 0.9121\n",
            "Epoch 89/100\n",
            "1/1 [==============================] - 0s 91ms/step - loss: 0.2287 - accuracy: 0.9093 - val_loss: 0.2796 - val_accuracy: 0.9121\n",
            "Epoch 90/100\n",
            "1/1 [==============================] - 0s 102ms/step - loss: 0.2290 - accuracy: 0.9148 - val_loss: 0.2789 - val_accuracy: 0.9121\n",
            "Epoch 91/100\n",
            "1/1 [==============================] - 0s 79ms/step - loss: 0.2290 - accuracy: 0.9148 - val_loss: 0.2782 - val_accuracy: 0.9121\n",
            "Epoch 92/100\n",
            "1/1 [==============================] - 0s 120ms/step - loss: 0.2283 - accuracy: 0.9148 - val_loss: 0.2775 - val_accuracy: 0.9121\n",
            "Epoch 93/100\n",
            "1/1 [==============================] - 0s 102ms/step - loss: 0.2268 - accuracy: 0.9148 - val_loss: 0.2770 - val_accuracy: 0.9121\n",
            "Epoch 94/100\n",
            "1/1 [==============================] - 0s 51ms/step - loss: 0.2252 - accuracy: 0.9093 - val_loss: 0.2771 - val_accuracy: 0.9121\n",
            "Epoch 95/100\n",
            "1/1 [==============================] - 0s 129ms/step - loss: 0.2241 - accuracy: 0.9121 - val_loss: 0.2776 - val_accuracy: 0.9121\n",
            "Epoch 96/100\n",
            "1/1 [==============================] - 0s 83ms/step - loss: 0.2236 - accuracy: 0.9176 - val_loss: 0.2780 - val_accuracy: 0.9121\n",
            "Epoch 97/100\n",
            "1/1 [==============================] - 0s 101ms/step - loss: 0.2234 - accuracy: 0.9176 - val_loss: 0.2776 - val_accuracy: 0.9121\n",
            "Epoch 98/100\n",
            "1/1 [==============================] - 0s 117ms/step - loss: 0.2229 - accuracy: 0.9148 - val_loss: 0.2763 - val_accuracy: 0.9121\n",
            "Epoch 99/100\n",
            "1/1 [==============================] - 0s 101ms/step - loss: 0.2219 - accuracy: 0.9176 - val_loss: 0.2743 - val_accuracy: 0.9121\n",
            "Epoch 100/100\n",
            "1/1 [==============================] - 0s 168ms/step - loss: 0.2207 - accuracy: 0.9176 - val_loss: 0.2722 - val_accuracy: 0.9121\n"
          ]
        }
      ]
    },
    {
      "cell_type": "code",
      "source": [
        "model.evaluate(X_test, y_test)"
      ],
      "metadata": {
        "colab": {
          "base_uri": "https://localhost:8080/"
        },
        "id": "VPO5Kz5ePDw-",
        "outputId": "7b71ce6f-b6b1-4a0e-d287-3227783378cf"
      },
      "execution_count": 10,
      "outputs": [
        {
          "output_type": "stream",
          "name": "stdout",
          "text": [
            "4/4 [==============================] - 0s 5ms/step - loss: 0.2736 - accuracy: 0.9123\n"
          ]
        },
        {
          "output_type": "execute_result",
          "data": {
            "text/plain": [
              "[0.27362555265426636, 0.9122806787490845]"
            ]
          },
          "metadata": {},
          "execution_count": 10
        }
      ]
    },
    {
      "cell_type": "code",
      "source": [
        "y_acc = history.history['accuracy']\n",
        "y_vloss = history.history['val_loss']\n",
        "xs = np.arange(1, len(y_acc) +1 )\n",
        "plt.figure(figsize=(12,8))\n",
        "plt.plot(xs, y_acc, label = 'train_accuracy')\n",
        "plt.plot(xs, y_vloss, label = 'validation_loss')\n",
        "plt.legend(), plt.grid()\n",
        "plt.ylim([0, 1.2])\n",
        "plt.xlabel('Epoch')\n",
        "plt.title('No feature transform')\n",
        "plt.show()"
      ],
      "metadata": {
        "id": "08Zod8oaPYhQ"
      },
      "execution_count": 11,
      "outputs": []
    },
    {
      "cell_type": "code",
      "source": [
        "from sklearn.preprocessing import StandardScaler\n",
        "cancer_std = StandardScaler().fit_transform(cancer.data)\n",
        "\n",
        "X_train2, X_test2, y_train2, y_test2 = train_test_split(\n",
        "    cancer_std, cancer.target, stratify=cancer.target,\n",
        "    test_size=0.2, random_state=2022\n",
        ")"
      ],
      "metadata": {
        "id": "lMfbRzfpQFv3"
      },
      "execution_count": 13,
      "outputs": []
    },
    {
      "cell_type": "code",
      "source": [
        "model2 = Sequential([\n",
        "    Dense(100, input_dim=30, activation='relu'),\n",
        "    Dense(24, activation='relu'),\n",
        "    Dense(1, activation='sigmoid')\n",
        "])"
      ],
      "metadata": {
        "id": "OzLmq4ZVP2XC"
      },
      "execution_count": 14,
      "outputs": []
    },
    {
      "cell_type": "code",
      "source": [
        "model2.compile('adam', 'binary_crossentropy', ['accuracy'])"
      ],
      "metadata": {
        "id": "w-6oIsMoQk5B"
      },
      "execution_count": 15,
      "outputs": []
    },
    {
      "cell_type": "code",
      "source": [
        "hist2= model2.fit(X_train2, y_train2, validation_split=0.2,\n",
        "           epochs=100, batch_size=100)"
      ],
      "metadata": {
        "colab": {
          "base_uri": "https://localhost:8080/"
        },
        "id": "4x3FanAuQpif",
        "outputId": "d9e0e8c4-ae76-44c3-d6d4-70038555997b"
      },
      "execution_count": 18,
      "outputs": [
        {
          "output_type": "stream",
          "name": "stdout",
          "text": [
            "Epoch 1/100\n",
            "4/4 [==============================] - 0s 21ms/step - loss: 0.0440 - accuracy: 0.9863 - val_loss: 0.0930 - val_accuracy: 0.9670\n",
            "Epoch 2/100\n",
            "4/4 [==============================] - 0s 10ms/step - loss: 0.0419 - accuracy: 0.9863 - val_loss: 0.0914 - val_accuracy: 0.9670\n",
            "Epoch 3/100\n",
            "4/4 [==============================] - 0s 10ms/step - loss: 0.0401 - accuracy: 0.9890 - val_loss: 0.0900 - val_accuracy: 0.9670\n",
            "Epoch 4/100\n",
            "4/4 [==============================] - 0s 24ms/step - loss: 0.0385 - accuracy: 0.9890 - val_loss: 0.0887 - val_accuracy: 0.9670\n",
            "Epoch 5/100\n",
            "4/4 [==============================] - 0s 16ms/step - loss: 0.0366 - accuracy: 0.9918 - val_loss: 0.0877 - val_accuracy: 0.9670\n",
            "Epoch 6/100\n",
            "4/4 [==============================] - 0s 19ms/step - loss: 0.0350 - accuracy: 0.9918 - val_loss: 0.0878 - val_accuracy: 0.9670\n",
            "Epoch 7/100\n",
            "4/4 [==============================] - 0s 16ms/step - loss: 0.0333 - accuracy: 0.9918 - val_loss: 0.0878 - val_accuracy: 0.9670\n",
            "Epoch 8/100\n",
            "4/4 [==============================] - 0s 15ms/step - loss: 0.0320 - accuracy: 0.9918 - val_loss: 0.0867 - val_accuracy: 0.9670\n",
            "Epoch 9/100\n",
            "4/4 [==============================] - 0s 20ms/step - loss: 0.0306 - accuracy: 0.9918 - val_loss: 0.0862 - val_accuracy: 0.9670\n",
            "Epoch 10/100\n",
            "4/4 [==============================] - 0s 38ms/step - loss: 0.0295 - accuracy: 0.9918 - val_loss: 0.0843 - val_accuracy: 0.9670\n",
            "Epoch 11/100\n",
            "4/4 [==============================] - 0s 18ms/step - loss: 0.0280 - accuracy: 0.9918 - val_loss: 0.0839 - val_accuracy: 0.9780\n",
            "Epoch 12/100\n",
            "4/4 [==============================] - 0s 18ms/step - loss: 0.0268 - accuracy: 0.9918 - val_loss: 0.0831 - val_accuracy: 0.9780\n",
            "Epoch 13/100\n",
            "4/4 [==============================] - 0s 16ms/step - loss: 0.0257 - accuracy: 0.9918 - val_loss: 0.0826 - val_accuracy: 0.9780\n",
            "Epoch 14/100\n",
            "4/4 [==============================] - 0s 29ms/step - loss: 0.0247 - accuracy: 0.9918 - val_loss: 0.0825 - val_accuracy: 0.9780\n",
            "Epoch 15/100\n",
            "4/4 [==============================] - 0s 17ms/step - loss: 0.0236 - accuracy: 0.9918 - val_loss: 0.0824 - val_accuracy: 0.9780\n",
            "Epoch 16/100\n",
            "4/4 [==============================] - 0s 18ms/step - loss: 0.0225 - accuracy: 0.9918 - val_loss: 0.0825 - val_accuracy: 0.9780\n",
            "Epoch 17/100\n",
            "4/4 [==============================] - 0s 18ms/step - loss: 0.0215 - accuracy: 0.9918 - val_loss: 0.0829 - val_accuracy: 0.9780\n",
            "Epoch 18/100\n",
            "4/4 [==============================] - 0s 16ms/step - loss: 0.0208 - accuracy: 0.9918 - val_loss: 0.0830 - val_accuracy: 0.9780\n",
            "Epoch 19/100\n",
            "4/4 [==============================] - 0s 20ms/step - loss: 0.0198 - accuracy: 0.9918 - val_loss: 0.0832 - val_accuracy: 0.9670\n",
            "Epoch 20/100\n",
            "4/4 [==============================] - 0s 31ms/step - loss: 0.0191 - accuracy: 0.9918 - val_loss: 0.0831 - val_accuracy: 0.9670\n",
            "Epoch 21/100\n",
            "4/4 [==============================] - 0s 16ms/step - loss: 0.0181 - accuracy: 0.9918 - val_loss: 0.0829 - val_accuracy: 0.9670\n",
            "Epoch 22/100\n",
            "4/4 [==============================] - 0s 16ms/step - loss: 0.0174 - accuracy: 0.9973 - val_loss: 0.0828 - val_accuracy: 0.9670\n",
            "Epoch 23/100\n",
            "4/4 [==============================] - 0s 23ms/step - loss: 0.0166 - accuracy: 0.9973 - val_loss: 0.0824 - val_accuracy: 0.9780\n",
            "Epoch 24/100\n",
            "4/4 [==============================] - 0s 18ms/step - loss: 0.0160 - accuracy: 0.9973 - val_loss: 0.0834 - val_accuracy: 0.9670\n",
            "Epoch 25/100\n",
            "4/4 [==============================] - 0s 16ms/step - loss: 0.0152 - accuracy: 0.9973 - val_loss: 0.0832 - val_accuracy: 0.9670\n",
            "Epoch 26/100\n",
            "4/4 [==============================] - 0s 16ms/step - loss: 0.0147 - accuracy: 0.9973 - val_loss: 0.0842 - val_accuracy: 0.9670\n",
            "Epoch 27/100\n",
            "4/4 [==============================] - 0s 15ms/step - loss: 0.0139 - accuracy: 0.9973 - val_loss: 0.0842 - val_accuracy: 0.9670\n",
            "Epoch 28/100\n",
            "4/4 [==============================] - 0s 18ms/step - loss: 0.0133 - accuracy: 1.0000 - val_loss: 0.0839 - val_accuracy: 0.9670\n",
            "Epoch 29/100\n",
            "4/4 [==============================] - 0s 21ms/step - loss: 0.0127 - accuracy: 1.0000 - val_loss: 0.0844 - val_accuracy: 0.9670\n",
            "Epoch 30/100\n",
            "4/4 [==============================] - 0s 17ms/step - loss: 0.0122 - accuracy: 1.0000 - val_loss: 0.0848 - val_accuracy: 0.9670\n",
            "Epoch 31/100\n",
            "4/4 [==============================] - 0s 17ms/step - loss: 0.0116 - accuracy: 1.0000 - val_loss: 0.0852 - val_accuracy: 0.9670\n",
            "Epoch 32/100\n",
            "4/4 [==============================] - 0s 15ms/step - loss: 0.0113 - accuracy: 1.0000 - val_loss: 0.0860 - val_accuracy: 0.9670\n",
            "Epoch 33/100\n",
            "4/4 [==============================] - 0s 14ms/step - loss: 0.0108 - accuracy: 1.0000 - val_loss: 0.0860 - val_accuracy: 0.9670\n",
            "Epoch 34/100\n",
            "4/4 [==============================] - 0s 20ms/step - loss: 0.0104 - accuracy: 1.0000 - val_loss: 0.0859 - val_accuracy: 0.9670\n",
            "Epoch 35/100\n",
            "4/4 [==============================] - 0s 32ms/step - loss: 0.0100 - accuracy: 1.0000 - val_loss: 0.0860 - val_accuracy: 0.9670\n",
            "Epoch 36/100\n",
            "4/4 [==============================] - 0s 17ms/step - loss: 0.0096 - accuracy: 1.0000 - val_loss: 0.0859 - val_accuracy: 0.9670\n",
            "Epoch 37/100\n",
            "4/4 [==============================] - 0s 24ms/step - loss: 0.0092 - accuracy: 1.0000 - val_loss: 0.0859 - val_accuracy: 0.9670\n",
            "Epoch 38/100\n",
            "4/4 [==============================] - 0s 18ms/step - loss: 0.0088 - accuracy: 1.0000 - val_loss: 0.0858 - val_accuracy: 0.9670\n",
            "Epoch 39/100\n",
            "4/4 [==============================] - 0s 17ms/step - loss: 0.0083 - accuracy: 1.0000 - val_loss: 0.0858 - val_accuracy: 0.9670\n",
            "Epoch 40/100\n",
            "4/4 [==============================] - 0s 16ms/step - loss: 0.0081 - accuracy: 1.0000 - val_loss: 0.0861 - val_accuracy: 0.9670\n",
            "Epoch 41/100\n",
            "4/4 [==============================] - 0s 33ms/step - loss: 0.0077 - accuracy: 1.0000 - val_loss: 0.0863 - val_accuracy: 0.9670\n",
            "Epoch 42/100\n",
            "4/4 [==============================] - 0s 16ms/step - loss: 0.0074 - accuracy: 1.0000 - val_loss: 0.0863 - val_accuracy: 0.9670\n",
            "Epoch 43/100\n",
            "4/4 [==============================] - 0s 15ms/step - loss: 0.0071 - accuracy: 1.0000 - val_loss: 0.0863 - val_accuracy: 0.9670\n",
            "Epoch 44/100\n",
            "4/4 [==============================] - 0s 15ms/step - loss: 0.0068 - accuracy: 1.0000 - val_loss: 0.0864 - val_accuracy: 0.9670\n",
            "Epoch 45/100\n",
            "4/4 [==============================] - 0s 15ms/step - loss: 0.0066 - accuracy: 1.0000 - val_loss: 0.0865 - val_accuracy: 0.9670\n",
            "Epoch 46/100\n",
            "4/4 [==============================] - 0s 15ms/step - loss: 0.0063 - accuracy: 1.0000 - val_loss: 0.0867 - val_accuracy: 0.9670\n",
            "Epoch 47/100\n",
            "4/4 [==============================] - 0s 30ms/step - loss: 0.0061 - accuracy: 1.0000 - val_loss: 0.0872 - val_accuracy: 0.9670\n",
            "Epoch 48/100\n",
            "4/4 [==============================] - 0s 20ms/step - loss: 0.0058 - accuracy: 1.0000 - val_loss: 0.0873 - val_accuracy: 0.9670\n",
            "Epoch 49/100\n",
            "4/4 [==============================] - 0s 20ms/step - loss: 0.0056 - accuracy: 1.0000 - val_loss: 0.0873 - val_accuracy: 0.9670\n",
            "Epoch 50/100\n",
            "4/4 [==============================] - 0s 24ms/step - loss: 0.0054 - accuracy: 1.0000 - val_loss: 0.0880 - val_accuracy: 0.9670\n",
            "Epoch 51/100\n",
            "4/4 [==============================] - 0s 20ms/step - loss: 0.0053 - accuracy: 1.0000 - val_loss: 0.0884 - val_accuracy: 0.9670\n",
            "Epoch 52/100\n",
            "4/4 [==============================] - 0s 17ms/step - loss: 0.0051 - accuracy: 1.0000 - val_loss: 0.0889 - val_accuracy: 0.9670\n",
            "Epoch 53/100\n",
            "4/4 [==============================] - 0s 21ms/step - loss: 0.0049 - accuracy: 1.0000 - val_loss: 0.0893 - val_accuracy: 0.9670\n",
            "Epoch 54/100\n",
            "4/4 [==============================] - 0s 11ms/step - loss: 0.0047 - accuracy: 1.0000 - val_loss: 0.0898 - val_accuracy: 0.9670\n",
            "Epoch 55/100\n",
            "4/4 [==============================] - 0s 10ms/step - loss: 0.0046 - accuracy: 1.0000 - val_loss: 0.0899 - val_accuracy: 0.9670\n",
            "Epoch 56/100\n",
            "4/4 [==============================] - 0s 11ms/step - loss: 0.0044 - accuracy: 1.0000 - val_loss: 0.0900 - val_accuracy: 0.9670\n",
            "Epoch 57/100\n",
            "4/4 [==============================] - 0s 10ms/step - loss: 0.0043 - accuracy: 1.0000 - val_loss: 0.0895 - val_accuracy: 0.9670\n",
            "Epoch 58/100\n",
            "4/4 [==============================] - 0s 11ms/step - loss: 0.0042 - accuracy: 1.0000 - val_loss: 0.0898 - val_accuracy: 0.9670\n",
            "Epoch 59/100\n",
            "4/4 [==============================] - 0s 11ms/step - loss: 0.0040 - accuracy: 1.0000 - val_loss: 0.0900 - val_accuracy: 0.9670\n",
            "Epoch 60/100\n",
            "4/4 [==============================] - 0s 10ms/step - loss: 0.0039 - accuracy: 1.0000 - val_loss: 0.0904 - val_accuracy: 0.9670\n",
            "Epoch 61/100\n",
            "4/4 [==============================] - 0s 10ms/step - loss: 0.0038 - accuracy: 1.0000 - val_loss: 0.0906 - val_accuracy: 0.9670\n",
            "Epoch 62/100\n",
            "4/4 [==============================] - 0s 11ms/step - loss: 0.0037 - accuracy: 1.0000 - val_loss: 0.0908 - val_accuracy: 0.9670\n",
            "Epoch 63/100\n",
            "4/4 [==============================] - 0s 11ms/step - loss: 0.0036 - accuracy: 1.0000 - val_loss: 0.0912 - val_accuracy: 0.9670\n",
            "Epoch 64/100\n",
            "4/4 [==============================] - 0s 11ms/step - loss: 0.0035 - accuracy: 1.0000 - val_loss: 0.0915 - val_accuracy: 0.9670\n",
            "Epoch 65/100\n",
            "4/4 [==============================] - 0s 10ms/step - loss: 0.0034 - accuracy: 1.0000 - val_loss: 0.0919 - val_accuracy: 0.9670\n",
            "Epoch 66/100\n",
            "4/4 [==============================] - 0s 11ms/step - loss: 0.0033 - accuracy: 1.0000 - val_loss: 0.0921 - val_accuracy: 0.9670\n",
            "Epoch 67/100\n",
            "4/4 [==============================] - 0s 10ms/step - loss: 0.0032 - accuracy: 1.0000 - val_loss: 0.0923 - val_accuracy: 0.9670\n",
            "Epoch 68/100\n",
            "4/4 [==============================] - 0s 14ms/step - loss: 0.0031 - accuracy: 1.0000 - val_loss: 0.0929 - val_accuracy: 0.9670\n",
            "Epoch 69/100\n",
            "4/4 [==============================] - 0s 12ms/step - loss: 0.0030 - accuracy: 1.0000 - val_loss: 0.0932 - val_accuracy: 0.9670\n",
            "Epoch 70/100\n",
            "4/4 [==============================] - 0s 10ms/step - loss: 0.0030 - accuracy: 1.0000 - val_loss: 0.0934 - val_accuracy: 0.9670\n",
            "Epoch 71/100\n",
            "4/4 [==============================] - 0s 10ms/step - loss: 0.0029 - accuracy: 1.0000 - val_loss: 0.0941 - val_accuracy: 0.9670\n",
            "Epoch 72/100\n",
            "4/4 [==============================] - 0s 11ms/step - loss: 0.0028 - accuracy: 1.0000 - val_loss: 0.0946 - val_accuracy: 0.9670\n",
            "Epoch 73/100\n",
            "4/4 [==============================] - 0s 11ms/step - loss: 0.0027 - accuracy: 1.0000 - val_loss: 0.0948 - val_accuracy: 0.9670\n",
            "Epoch 74/100\n",
            "4/4 [==============================] - 0s 11ms/step - loss: 0.0026 - accuracy: 1.0000 - val_loss: 0.0948 - val_accuracy: 0.9670\n",
            "Epoch 75/100\n",
            "4/4 [==============================] - 0s 11ms/step - loss: 0.0026 - accuracy: 1.0000 - val_loss: 0.0951 - val_accuracy: 0.9670\n",
            "Epoch 76/100\n",
            "4/4 [==============================] - 0s 10ms/step - loss: 0.0025 - accuracy: 1.0000 - val_loss: 0.0954 - val_accuracy: 0.9670\n",
            "Epoch 77/100\n",
            "4/4 [==============================] - 0s 12ms/step - loss: 0.0025 - accuracy: 1.0000 - val_loss: 0.0960 - val_accuracy: 0.9670\n",
            "Epoch 78/100\n",
            "4/4 [==============================] - 0s 10ms/step - loss: 0.0024 - accuracy: 1.0000 - val_loss: 0.0965 - val_accuracy: 0.9670\n",
            "Epoch 79/100\n",
            "4/4 [==============================] - 0s 11ms/step - loss: 0.0023 - accuracy: 1.0000 - val_loss: 0.0966 - val_accuracy: 0.9670\n",
            "Epoch 80/100\n",
            "4/4 [==============================] - 0s 11ms/step - loss: 0.0023 - accuracy: 1.0000 - val_loss: 0.0969 - val_accuracy: 0.9670\n",
            "Epoch 81/100\n",
            "4/4 [==============================] - 0s 11ms/step - loss: 0.0022 - accuracy: 1.0000 - val_loss: 0.0971 - val_accuracy: 0.9670\n",
            "Epoch 82/100\n",
            "4/4 [==============================] - 0s 11ms/step - loss: 0.0022 - accuracy: 1.0000 - val_loss: 0.0976 - val_accuracy: 0.9670\n",
            "Epoch 83/100\n",
            "4/4 [==============================] - 0s 11ms/step - loss: 0.0021 - accuracy: 1.0000 - val_loss: 0.0979 - val_accuracy: 0.9670\n",
            "Epoch 84/100\n",
            "4/4 [==============================] - 0s 11ms/step - loss: 0.0021 - accuracy: 1.0000 - val_loss: 0.0982 - val_accuracy: 0.9670\n",
            "Epoch 85/100\n",
            "4/4 [==============================] - 0s 11ms/step - loss: 0.0020 - accuracy: 1.0000 - val_loss: 0.0982 - val_accuracy: 0.9670\n",
            "Epoch 86/100\n",
            "4/4 [==============================] - 0s 10ms/step - loss: 0.0020 - accuracy: 1.0000 - val_loss: 0.0983 - val_accuracy: 0.9670\n",
            "Epoch 87/100\n",
            "4/4 [==============================] - 0s 11ms/step - loss: 0.0019 - accuracy: 1.0000 - val_loss: 0.0985 - val_accuracy: 0.9670\n",
            "Epoch 88/100\n",
            "4/4 [==============================] - 0s 11ms/step - loss: 0.0019 - accuracy: 1.0000 - val_loss: 0.0987 - val_accuracy: 0.9670\n",
            "Epoch 89/100\n",
            "4/4 [==============================] - 0s 13ms/step - loss: 0.0019 - accuracy: 1.0000 - val_loss: 0.0995 - val_accuracy: 0.9670\n",
            "Epoch 90/100\n",
            "4/4 [==============================] - 0s 12ms/step - loss: 0.0018 - accuracy: 1.0000 - val_loss: 0.0997 - val_accuracy: 0.9670\n",
            "Epoch 91/100\n",
            "4/4 [==============================] - 0s 11ms/step - loss: 0.0018 - accuracy: 1.0000 - val_loss: 0.0997 - val_accuracy: 0.9670\n",
            "Epoch 92/100\n",
            "4/4 [==============================] - 0s 11ms/step - loss: 0.0017 - accuracy: 1.0000 - val_loss: 0.0999 - val_accuracy: 0.9670\n",
            "Epoch 93/100\n",
            "4/4 [==============================] - 0s 11ms/step - loss: 0.0017 - accuracy: 1.0000 - val_loss: 0.1001 - val_accuracy: 0.9670\n",
            "Epoch 94/100\n",
            "4/4 [==============================] - 0s 13ms/step - loss: 0.0017 - accuracy: 1.0000 - val_loss: 0.1004 - val_accuracy: 0.9670\n",
            "Epoch 95/100\n",
            "4/4 [==============================] - 0s 10ms/step - loss: 0.0016 - accuracy: 1.0000 - val_loss: 0.1008 - val_accuracy: 0.9670\n",
            "Epoch 96/100\n",
            "4/4 [==============================] - 0s 11ms/step - loss: 0.0016 - accuracy: 1.0000 - val_loss: 0.1011 - val_accuracy: 0.9670\n",
            "Epoch 97/100\n",
            "4/4 [==============================] - 0s 11ms/step - loss: 0.0016 - accuracy: 1.0000 - val_loss: 0.1011 - val_accuracy: 0.9670\n",
            "Epoch 98/100\n",
            "4/4 [==============================] - 0s 10ms/step - loss: 0.0015 - accuracy: 1.0000 - val_loss: 0.1013 - val_accuracy: 0.9670\n",
            "Epoch 99/100\n",
            "4/4 [==============================] - 0s 12ms/step - loss: 0.0015 - accuracy: 1.0000 - val_loss: 0.1016 - val_accuracy: 0.9670\n",
            "Epoch 100/100\n",
            "4/4 [==============================] - 0s 10ms/step - loss: 0.0015 - accuracy: 1.0000 - val_loss: 0.1019 - val_accuracy: 0.9670\n"
          ]
        }
      ]
    },
    {
      "cell_type": "code",
      "source": [
        "model2.evaluate(X_test2, y_test2)"
      ],
      "metadata": {
        "colab": {
          "base_uri": "https://localhost:8080/"
        },
        "id": "uPiWC7zvREiS",
        "outputId": "adce1764-9d35-40e6-d284-2f7928626f05"
      },
      "execution_count": 19,
      "outputs": [
        {
          "output_type": "stream",
          "name": "stdout",
          "text": [
            "4/4 [==============================] - 0s 4ms/step - loss: 0.0635 - accuracy: 0.9825\n"
          ]
        },
        {
          "output_type": "execute_result",
          "data": {
            "text/plain": [
              "[0.06349445879459381, 0.9824561476707458]"
            ]
          },
          "metadata": {},
          "execution_count": 19
        }
      ]
    },
    {
      "cell_type": "code",
      "source": [
        "\n",
        "y_acc2 = hist2.history['accuracy']\n",
        "y_vloss2 = hist2.history['val_loss']\n",
        "xs = np.arange(1, len(y_acc2) +1 )\n",
        "plt.figure(figsize=(12,8))\n",
        "plt.plot(xs, y_acc2, label = 'train_accuracy')\n",
        "plt.plot(xs, y_vloss2, label = 'validation_loss')\n",
        "plt.legend(), plt.grid()\n",
        "plt.ylim([0, 1.2])\n",
        "plt.xlabel('Epoch')\n",
        "plt.title('No feature transform')\n",
        "plt.show()"
      ],
      "metadata": {
        "colab": {
          "base_uri": "https://localhost:8080/",
          "height": 513
        },
        "id": "esVfU9eDQxQp",
        "outputId": "ce694fad-82dc-45de-ceab-e5c63d88f759"
      },
      "execution_count": 33,
      "outputs": [
        {
          "output_type": "display_data",
          "data": {
            "text/plain": [
              "<Figure size 864x576 with 1 Axes>"
            ],
            "image/png": "[encoded data removed]"
          },
          "metadata": {
            "needs_background": "light"
          }
        }
      ]
    },
    {
      "cell_type": "markdown",
      "source": [
        "- 옵티마이저"
      ],
      "metadata": {
        "id": "PjNtjYXtRV71"
      }
    },
    {
      "cell_type": "code",
      "source": [
        "from tensorflow.keras.optimizers import Adam\n",
        "\n",
        "adam = Adam(learning_rate=0.001, beta_1=0.9, beta_2=0.999,\n",
        "            epsilon=None, decay=0.0, amsgrad=False)\n"
      ],
      "metadata": {
        "id": "CERaeVD4Re9c"
      },
      "execution_count": 25,
      "outputs": []
    },
    {
      "cell_type": "code",
      "source": [
        "model.compile(adam, 'binary_crossentropy', ['accuracy'])"
      ],
      "metadata": {
        "id": "olV_KryFRyBj"
      },
      "execution_count": 26,
      "outputs": []
    },
    {
      "cell_type": "code",
      "source": [
        "hist5 = model.fit(X_train2, y_train2, validation_split=0.2,\n",
        "                  epochs=100, batch_size=100, verbose=0)"
      ],
      "metadata": {
        "id": "AUHsP63zSX-A"
      },
      "execution_count": 34,
      "outputs": []
    },
    {
      "cell_type": "code",
      "source": [
        "model.evaluate(X_test2, y_test2)"
      ],
      "metadata": {
        "colab": {
          "base_uri": "https://localhost:8080/"
        },
        "id": "2IYgE2H5Suly",
        "outputId": "3f421cce-51c4-4d9e-c17c-9332af645384"
      },
      "execution_count": 35,
      "outputs": [
        {
          "output_type": "stream",
          "name": "stdout",
          "text": [
            "4/4 [==============================] - 0s 3ms/step - loss: 0.1497 - accuracy: 0.9561\n"
          ]
        },
        {
          "output_type": "execute_result",
          "data": {
            "text/plain": [
              "[0.14968490600585938, 0.9561403393745422]"
            ]
          },
          "metadata": {},
          "execution_count": 35
        }
      ]
    },
    {
      "cell_type": "code",
      "source": [
        "y_acc5 = hist5.history['accuracy']\n",
        "y_vloss5 = hist5.history['val_loss']\n",
        "xs = np.arange(1, len(y_acc5) +1 )\n",
        "plt.figure(figsize=(12,8))\n",
        "plt.plot(xs, y_acc5, label = 'train_accuracy')\n",
        "plt.plot(xs, y_vloss5, label = 'validation_loss')\n",
        "plt.legend(), plt.grid()\n",
        "plt.ylim([0, 1.2])\n",
        "plt.xlabel('Epoch')\n",
        "plt.title('No feature transform')\n",
        "plt.show()"
      ],
      "metadata": {
        "colab": {
          "base_uri": "https://localhost:8080/",
          "height": 513
        },
        "id": "vrwv01JfSfq3",
        "outputId": "e88935ac-2e9b-4a8e-9916-d1a3987a0420"
      },
      "execution_count": 36,
      "outputs": [
        {
          "output_type": "display_data",
          "data": {
            "text/plain": [
              "<Figure size 864x576 with 1 Axes>"
            ],
            "image/png": "[encoded data removed]"
          },
          "metadata": {
            "needs_background": "light"
          }
        }
      ]
    },
    {
      "cell_type": "code",
      "source": [
        "model3 = Sequential([\n",
        "    Dense(100, input_dim=30, activation='relu'),\n",
        "    Dense(24, activation='relu'),\n",
        "    Dense(1, activation='sigmoid'),\n",
        "])"
      ],
      "metadata": {
        "id": "NEPTiMyuSrrf"
      },
      "execution_count": 37,
      "outputs": []
    },
    {
      "cell_type": "code",
      "source": [
        "from tensorflow.keras.optimizers import RMSprop\n",
        "rmsp = RMSprop(learning_rate=0.01, rho=0.9, epsilon=None, decay=0.0)"
      ],
      "metadata": {
        "id": "3Ivx69-ZTfei"
      },
      "execution_count": 38,
      "outputs": []
    },
    {
      "cell_type": "code",
      "source": [
        "model3.compile(rmsp, 'binary_crossentropy', ['accuracy'])"
      ],
      "metadata": {
        "id": "h0_skDHzTcHS"
      },
      "execution_count": 39,
      "outputs": []
    },
    {
      "cell_type": "code",
      "source": [
        "hist6 = model3.fit(X_train2, y_train2, validation_split=0.2,\n",
        "                   epochs=100, batch_size=100, verbose=2)"
      ],
      "metadata": {
        "colab": {
          "base_uri": "https://localhost:8080/"
        },
        "id": "_ir8CO7RTxAU",
        "outputId": "eda7654c-88a0-4e45-ff23-c142a28a7539"
      },
      "execution_count": 40,
      "outputs": [
        {
          "output_type": "stream",
          "name": "stdout",
          "text": [
            "Epoch 1/100\n",
            "4/4 - 1s - loss: 0.3126 - accuracy: 0.7885 - val_loss: 0.1204 - val_accuracy: 0.9560 - 1s/epoch - 342ms/step\n",
            "Epoch 2/100\n",
            "4/4 - 0s - loss: 0.0717 - accuracy: 0.9725 - val_loss: 0.1359 - val_accuracy: 0.9341 - 49ms/epoch - 12ms/step\n",
            "Epoch 3/100\n",
            "4/4 - 0s - loss: 0.0645 - accuracy: 0.9808 - val_loss: 0.1039 - val_accuracy: 0.9670 - 44ms/epoch - 11ms/step\n",
            "Epoch 4/100\n",
            "4/4 - 0s - loss: 0.0439 - accuracy: 0.9835 - val_loss: 0.1280 - val_accuracy: 0.9560 - 49ms/epoch - 12ms/step\n",
            "Epoch 5/100\n",
            "4/4 - 0s - loss: 0.0317 - accuracy: 0.9918 - val_loss: 0.1373 - val_accuracy: 0.9451 - 53ms/epoch - 13ms/step\n",
            "Epoch 6/100\n",
            "4/4 - 0s - loss: 0.0266 - accuracy: 0.9918 - val_loss: 0.1158 - val_accuracy: 0.9670 - 50ms/epoch - 13ms/step\n",
            "Epoch 7/100\n",
            "4/4 - 0s - loss: 0.0522 - accuracy: 0.9780 - val_loss: 0.1370 - val_accuracy: 0.9560 - 58ms/epoch - 15ms/step\n",
            "Epoch 8/100\n",
            "4/4 - 0s - loss: 0.0296 - accuracy: 0.9918 - val_loss: 0.2009 - val_accuracy: 0.9231 - 52ms/epoch - 13ms/step\n",
            "Epoch 9/100\n",
            "4/4 - 0s - loss: 0.0383 - accuracy: 0.9808 - val_loss: 0.1664 - val_accuracy: 0.9560 - 47ms/epoch - 12ms/step\n",
            "Epoch 10/100\n",
            "4/4 - 0s - loss: 0.0189 - accuracy: 0.9945 - val_loss: 0.1497 - val_accuracy: 0.9670 - 46ms/epoch - 12ms/step\n",
            "Epoch 11/100\n",
            "4/4 - 0s - loss: 0.0088 - accuracy: 0.9973 - val_loss: 0.1447 - val_accuracy: 0.9670 - 48ms/epoch - 12ms/step\n",
            "Epoch 12/100\n",
            "4/4 - 0s - loss: 0.0067 - accuracy: 1.0000 - val_loss: 0.1302 - val_accuracy: 0.9670 - 54ms/epoch - 13ms/step\n",
            "Epoch 13/100\n",
            "4/4 - 0s - loss: 0.0047 - accuracy: 1.0000 - val_loss: 0.1309 - val_accuracy: 0.9670 - 62ms/epoch - 15ms/step\n",
            "Epoch 14/100\n",
            "4/4 - 0s - loss: 0.0044 - accuracy: 1.0000 - val_loss: 0.1260 - val_accuracy: 0.9670 - 55ms/epoch - 14ms/step\n",
            "Epoch 15/100\n",
            "4/4 - 0s - loss: 0.0026 - accuracy: 1.0000 - val_loss: 0.1133 - val_accuracy: 0.9670 - 47ms/epoch - 12ms/step\n",
            "Epoch 16/100\n",
            "4/4 - 0s - loss: 0.0017 - accuracy: 1.0000 - val_loss: 0.1178 - val_accuracy: 0.9670 - 46ms/epoch - 12ms/step\n",
            "Epoch 17/100\n",
            "4/4 - 0s - loss: 0.0015 - accuracy: 1.0000 - val_loss: 0.1230 - val_accuracy: 0.9560 - 49ms/epoch - 12ms/step\n",
            "Epoch 18/100\n",
            "4/4 - 0s - loss: 0.0013 - accuracy: 1.0000 - val_loss: 0.1277 - val_accuracy: 0.9670 - 51ms/epoch - 13ms/step\n",
            "Epoch 19/100\n",
            "4/4 - 0s - loss: 9.0553e-04 - accuracy: 1.0000 - val_loss: 0.1161 - val_accuracy: 0.9670 - 49ms/epoch - 12ms/step\n",
            "Epoch 20/100\n",
            "4/4 - 0s - loss: 5.5418e-04 - accuracy: 1.0000 - val_loss: 0.1202 - val_accuracy: 0.9670 - 45ms/epoch - 11ms/step\n",
            "Epoch 21/100\n",
            "4/4 - 0s - loss: 3.5133e-04 - accuracy: 1.0000 - val_loss: 0.1087 - val_accuracy: 0.9780 - 45ms/epoch - 11ms/step\n",
            "Epoch 22/100\n",
            "4/4 - 0s - loss: 3.0080e-04 - accuracy: 1.0000 - val_loss: 0.1191 - val_accuracy: 0.9780 - 55ms/epoch - 14ms/step\n",
            "Epoch 23/100\n",
            "4/4 - 0s - loss: 0.0012 - accuracy: 1.0000 - val_loss: 0.2492 - val_accuracy: 0.9780 - 50ms/epoch - 12ms/step\n",
            "Epoch 24/100\n",
            "4/4 - 0s - loss: 0.0956 - accuracy: 0.9725 - val_loss: 0.1670 - val_accuracy: 0.9670 - 49ms/epoch - 12ms/step\n",
            "Epoch 25/100\n",
            "4/4 - 0s - loss: 0.0064 - accuracy: 0.9945 - val_loss: 0.1009 - val_accuracy: 0.9890 - 47ms/epoch - 12ms/step\n",
            "Epoch 26/100\n",
            "4/4 - 0s - loss: 3.3089e-04 - accuracy: 1.0000 - val_loss: 0.1024 - val_accuracy: 0.9890 - 45ms/epoch - 11ms/step\n",
            "Epoch 27/100\n",
            "4/4 - 0s - loss: 2.8454e-04 - accuracy: 1.0000 - val_loss: 0.1038 - val_accuracy: 0.9890 - 49ms/epoch - 12ms/step\n",
            "Epoch 28/100\n",
            "4/4 - 0s - loss: 2.5948e-04 - accuracy: 1.0000 - val_loss: 0.1058 - val_accuracy: 0.9890 - 52ms/epoch - 13ms/step\n",
            "Epoch 29/100\n",
            "4/4 - 0s - loss: 2.3445e-04 - accuracy: 1.0000 - val_loss: 0.1064 - val_accuracy: 0.9890 - 49ms/epoch - 12ms/step\n",
            "Epoch 30/100\n",
            "4/4 - 0s - loss: 2.0698e-04 - accuracy: 1.0000 - val_loss: 0.1106 - val_accuracy: 0.9890 - 54ms/epoch - 14ms/step\n",
            "Epoch 31/100\n",
            "4/4 - 0s - loss: 1.8605e-04 - accuracy: 1.0000 - val_loss: 0.1135 - val_accuracy: 0.9890 - 57ms/epoch - 14ms/step\n",
            "Epoch 32/100\n",
            "4/4 - 0s - loss: 1.7109e-04 - accuracy: 1.0000 - val_loss: 0.1165 - val_accuracy: 0.9780 - 55ms/epoch - 14ms/step\n",
            "Epoch 33/100\n",
            "4/4 - 0s - loss: 1.4456e-04 - accuracy: 1.0000 - val_loss: 0.1176 - val_accuracy: 0.9890 - 46ms/epoch - 11ms/step\n",
            "Epoch 34/100\n",
            "4/4 - 0s - loss: 1.2293e-04 - accuracy: 1.0000 - val_loss: 0.1215 - val_accuracy: 0.9780 - 48ms/epoch - 12ms/step\n",
            "Epoch 35/100\n",
            "4/4 - 0s - loss: 1.0292e-04 - accuracy: 1.0000 - val_loss: 0.1262 - val_accuracy: 0.9780 - 52ms/epoch - 13ms/step\n",
            "Epoch 36/100\n",
            "4/4 - 0s - loss: 8.8474e-05 - accuracy: 1.0000 - val_loss: 0.1270 - val_accuracy: 0.9780 - 45ms/epoch - 11ms/step\n",
            "Epoch 37/100\n",
            "4/4 - 0s - loss: 7.2175e-05 - accuracy: 1.0000 - val_loss: 0.1314 - val_accuracy: 0.9780 - 44ms/epoch - 11ms/step\n",
            "Epoch 38/100\n",
            "4/4 - 0s - loss: 6.2617e-05 - accuracy: 1.0000 - val_loss: 0.1365 - val_accuracy: 0.9780 - 46ms/epoch - 12ms/step\n",
            "Epoch 39/100\n",
            "4/4 - 0s - loss: 5.3528e-05 - accuracy: 1.0000 - val_loss: 0.1327 - val_accuracy: 0.9780 - 50ms/epoch - 12ms/step\n",
            "Epoch 40/100\n",
            "4/4 - 0s - loss: 4.1512e-05 - accuracy: 1.0000 - val_loss: 0.1410 - val_accuracy: 0.9780 - 50ms/epoch - 12ms/step\n",
            "Epoch 41/100\n",
            "4/4 - 0s - loss: 3.7386e-05 - accuracy: 1.0000 - val_loss: 0.1430 - val_accuracy: 0.9780 - 47ms/epoch - 12ms/step\n",
            "Epoch 42/100\n",
            "4/4 - 0s - loss: 3.0293e-05 - accuracy: 1.0000 - val_loss: 0.1548 - val_accuracy: 0.9780 - 45ms/epoch - 11ms/step\n",
            "Epoch 43/100\n",
            "4/4 - 0s - loss: 2.2753e-05 - accuracy: 1.0000 - val_loss: 0.1490 - val_accuracy: 0.9780 - 43ms/epoch - 11ms/step\n",
            "Epoch 44/100\n",
            "4/4 - 0s - loss: 1.8193e-05 - accuracy: 1.0000 - val_loss: 0.1499 - val_accuracy: 0.9780 - 45ms/epoch - 11ms/step\n",
            "Epoch 45/100\n",
            "4/4 - 0s - loss: 1.4436e-05 - accuracy: 1.0000 - val_loss: 0.1553 - val_accuracy: 0.9780 - 49ms/epoch - 12ms/step\n",
            "Epoch 46/100\n",
            "4/4 - 0s - loss: 1.1543e-05 - accuracy: 1.0000 - val_loss: 0.1587 - val_accuracy: 0.9780 - 54ms/epoch - 13ms/step\n",
            "Epoch 47/100\n",
            "4/4 - 0s - loss: 9.3536e-06 - accuracy: 1.0000 - val_loss: 0.1642 - val_accuracy: 0.9780 - 45ms/epoch - 11ms/step\n",
            "Epoch 48/100\n",
            "4/4 - 0s - loss: 7.8960e-06 - accuracy: 1.0000 - val_loss: 0.1586 - val_accuracy: 0.9780 - 53ms/epoch - 13ms/step\n",
            "Epoch 49/100\n",
            "4/4 - 0s - loss: 6.1288e-06 - accuracy: 1.0000 - val_loss: 0.1714 - val_accuracy: 0.9780 - 47ms/epoch - 12ms/step\n",
            "Epoch 50/100\n",
            "4/4 - 0s - loss: 5.1210e-06 - accuracy: 1.0000 - val_loss: 0.1570 - val_accuracy: 0.9780 - 54ms/epoch - 14ms/step\n",
            "Epoch 51/100\n",
            "4/4 - 0s - loss: 4.5036e-06 - accuracy: 1.0000 - val_loss: 0.1729 - val_accuracy: 0.9780 - 52ms/epoch - 13ms/step\n",
            "Epoch 52/100\n",
            "4/4 - 0s - loss: 3.0746e-06 - accuracy: 1.0000 - val_loss: 0.1813 - val_accuracy: 0.9780 - 45ms/epoch - 11ms/step\n",
            "Epoch 53/100\n",
            "4/4 - 0s - loss: 2.3508e-06 - accuracy: 1.0000 - val_loss: 0.1895 - val_accuracy: 0.9780 - 41ms/epoch - 10ms/step\n",
            "Epoch 54/100\n",
            "4/4 - 0s - loss: 1.9260e-06 - accuracy: 1.0000 - val_loss: 0.1843 - val_accuracy: 0.9780 - 41ms/epoch - 10ms/step\n",
            "Epoch 55/100\n",
            "4/4 - 0s - loss: 1.4845e-06 - accuracy: 1.0000 - val_loss: 0.1966 - val_accuracy: 0.9780 - 43ms/epoch - 11ms/step\n",
            "Epoch 56/100\n",
            "4/4 - 0s - loss: 1.2428e-06 - accuracy: 1.0000 - val_loss: 0.1790 - val_accuracy: 0.9780 - 40ms/epoch - 10ms/step\n",
            "Epoch 57/100\n",
            "4/4 - 0s - loss: 1.0716e-06 - accuracy: 1.0000 - val_loss: 0.1973 - val_accuracy: 0.9780 - 49ms/epoch - 12ms/step\n",
            "Epoch 58/100\n",
            "4/4 - 0s - loss: 8.0441e-07 - accuracy: 1.0000 - val_loss: 0.1959 - val_accuracy: 0.9780 - 42ms/epoch - 11ms/step\n",
            "Epoch 59/100\n",
            "4/4 - 0s - loss: 6.2937e-07 - accuracy: 1.0000 - val_loss: 0.2023 - val_accuracy: 0.9780 - 43ms/epoch - 11ms/step\n",
            "Epoch 60/100\n",
            "4/4 - 0s - loss: 5.3511e-07 - accuracy: 1.0000 - val_loss: 0.1907 - val_accuracy: 0.9780 - 50ms/epoch - 12ms/step\n",
            "Epoch 61/100\n",
            "4/4 - 0s - loss: 5.2925e-07 - accuracy: 1.0000 - val_loss: 0.2076 - val_accuracy: 0.9780 - 61ms/epoch - 15ms/step\n",
            "Epoch 62/100\n",
            "4/4 - 0s - loss: 3.3563e-07 - accuracy: 1.0000 - val_loss: 0.2097 - val_accuracy: 0.9780 - 50ms/epoch - 13ms/step\n",
            "Epoch 63/100\n",
            "4/4 - 0s - loss: 3.3091e-07 - accuracy: 1.0000 - val_loss: 0.2053 - val_accuracy: 0.9780 - 52ms/epoch - 13ms/step\n",
            "Epoch 64/100\n",
            "4/4 - 0s - loss: 2.3444e-07 - accuracy: 1.0000 - val_loss: 0.2153 - val_accuracy: 0.9780 - 61ms/epoch - 15ms/step\n",
            "Epoch 65/100\n",
            "4/4 - 0s - loss: 1.8032e-07 - accuracy: 1.0000 - val_loss: 0.2192 - val_accuracy: 0.9780 - 51ms/epoch - 13ms/step\n",
            "Epoch 66/100\n",
            "4/4 - 0s - loss: 1.6937e-07 - accuracy: 1.0000 - val_loss: 0.2054 - val_accuracy: 0.9780 - 50ms/epoch - 12ms/step\n",
            "Epoch 67/100\n",
            "4/4 - 0s - loss: 1.4669e-07 - accuracy: 1.0000 - val_loss: 0.2202 - val_accuracy: 0.9780 - 44ms/epoch - 11ms/step\n",
            "Epoch 68/100\n",
            "4/4 - 0s - loss: 1.0845e-07 - accuracy: 1.0000 - val_loss: 0.2282 - val_accuracy: 0.9780 - 43ms/epoch - 11ms/step\n",
            "Epoch 69/100\n",
            "4/4 - 0s - loss: 9.7325e-08 - accuracy: 1.0000 - val_loss: 0.2188 - val_accuracy: 0.9780 - 55ms/epoch - 14ms/step\n",
            "Epoch 70/100\n",
            "4/4 - 0s - loss: 1.9492e-07 - accuracy: 1.0000 - val_loss: 0.1838 - val_accuracy: 0.9780 - 42ms/epoch - 11ms/step\n",
            "Epoch 71/100\n",
            "4/4 - 0s - loss: 0.0861 - accuracy: 0.9890 - val_loss: 2.0014 - val_accuracy: 0.9341 - 52ms/epoch - 13ms/step\n",
            "Epoch 72/100\n",
            "4/4 - 0s - loss: 0.0456 - accuracy: 0.9863 - val_loss: 0.3787 - val_accuracy: 0.9560 - 47ms/epoch - 12ms/step\n",
            "Epoch 73/100\n",
            "4/4 - 0s - loss: 0.0029 - accuracy: 0.9973 - val_loss: 0.3344 - val_accuracy: 0.9780 - 44ms/epoch - 11ms/step\n",
            "Epoch 74/100\n",
            "4/4 - 0s - loss: 6.2032e-06 - accuracy: 1.0000 - val_loss: 0.3340 - val_accuracy: 0.9780 - 45ms/epoch - 11ms/step\n",
            "Epoch 75/100\n",
            "4/4 - 0s - loss: 6.0949e-06 - accuracy: 1.0000 - val_loss: 0.3338 - val_accuracy: 0.9780 - 45ms/epoch - 11ms/step\n",
            "Epoch 76/100\n",
            "4/4 - 0s - loss: 5.9964e-06 - accuracy: 1.0000 - val_loss: 0.3335 - val_accuracy: 0.9780 - 53ms/epoch - 13ms/step\n",
            "Epoch 77/100\n",
            "4/4 - 0s - loss: 5.9046e-06 - accuracy: 1.0000 - val_loss: 0.3330 - val_accuracy: 0.9780 - 47ms/epoch - 12ms/step\n",
            "Epoch 78/100\n",
            "4/4 - 0s - loss: 5.7772e-06 - accuracy: 1.0000 - val_loss: 0.3327 - val_accuracy: 0.9780 - 54ms/epoch - 14ms/step\n",
            "Epoch 79/100\n",
            "4/4 - 0s - loss: 5.6665e-06 - accuracy: 1.0000 - val_loss: 0.3320 - val_accuracy: 0.9780 - 49ms/epoch - 12ms/step\n",
            "Epoch 80/100\n",
            "4/4 - 0s - loss: 5.5314e-06 - accuracy: 1.0000 - val_loss: 0.3315 - val_accuracy: 0.9780 - 44ms/epoch - 11ms/step\n",
            "Epoch 81/100\n",
            "4/4 - 0s - loss: 5.3643e-06 - accuracy: 1.0000 - val_loss: 0.3310 - val_accuracy: 0.9780 - 44ms/epoch - 11ms/step\n",
            "Epoch 82/100\n",
            "4/4 - 0s - loss: 5.1773e-06 - accuracy: 1.0000 - val_loss: 0.3305 - val_accuracy: 0.9780 - 46ms/epoch - 11ms/step\n",
            "Epoch 83/100\n",
            "4/4 - 0s - loss: 5.0107e-06 - accuracy: 1.0000 - val_loss: 0.3300 - val_accuracy: 0.9780 - 48ms/epoch - 12ms/step\n",
            "Epoch 84/100\n",
            "4/4 - 0s - loss: 4.8039e-06 - accuracy: 1.0000 - val_loss: 0.3297 - val_accuracy: 0.9780 - 42ms/epoch - 10ms/step\n",
            "Epoch 85/100\n",
            "4/4 - 0s - loss: 4.5766e-06 - accuracy: 1.0000 - val_loss: 0.3290 - val_accuracy: 0.9780 - 50ms/epoch - 12ms/step\n",
            "Epoch 86/100\n",
            "4/4 - 0s - loss: 4.2338e-06 - accuracy: 1.0000 - val_loss: 0.3277 - val_accuracy: 0.9780 - 55ms/epoch - 14ms/step\n",
            "Epoch 87/100\n",
            "4/4 - 0s - loss: 4.0715e-06 - accuracy: 1.0000 - val_loss: 0.3271 - val_accuracy: 0.9780 - 46ms/epoch - 11ms/step\n",
            "Epoch 88/100\n",
            "4/4 - 0s - loss: 3.8530e-06 - accuracy: 1.0000 - val_loss: 0.3251 - val_accuracy: 0.9780 - 60ms/epoch - 15ms/step\n",
            "Epoch 89/100\n",
            "4/4 - 0s - loss: 3.4821e-06 - accuracy: 1.0000 - val_loss: 0.3239 - val_accuracy: 0.9780 - 45ms/epoch - 11ms/step\n",
            "Epoch 90/100\n",
            "4/4 - 0s - loss: 3.2557e-06 - accuracy: 1.0000 - val_loss: 0.3239 - val_accuracy: 0.9780 - 50ms/epoch - 13ms/step\n",
            "Epoch 91/100\n",
            "4/4 - 0s - loss: 2.9546e-06 - accuracy: 1.0000 - val_loss: 0.3233 - val_accuracy: 0.9780 - 46ms/epoch - 11ms/step\n",
            "Epoch 92/100\n",
            "4/4 - 0s - loss: 2.7005e-06 - accuracy: 1.0000 - val_loss: 0.3231 - val_accuracy: 0.9780 - 44ms/epoch - 11ms/step\n",
            "Epoch 93/100\n",
            "4/4 - 0s - loss: 2.5043e-06 - accuracy: 1.0000 - val_loss: 0.3216 - val_accuracy: 0.9780 - 44ms/epoch - 11ms/step\n",
            "Epoch 94/100\n",
            "4/4 - 0s - loss: 2.1240e-06 - accuracy: 1.0000 - val_loss: 0.3211 - val_accuracy: 0.9780 - 45ms/epoch - 11ms/step\n",
            "Epoch 95/100\n",
            "4/4 - 0s - loss: 1.9715e-06 - accuracy: 1.0000 - val_loss: 0.3195 - val_accuracy: 0.9780 - 52ms/epoch - 13ms/step\n",
            "Epoch 96/100\n",
            "4/4 - 0s - loss: 1.7419e-06 - accuracy: 1.0000 - val_loss: 0.3197 - val_accuracy: 0.9780 - 53ms/epoch - 13ms/step\n",
            "Epoch 97/100\n",
            "4/4 - 0s - loss: 1.5602e-06 - accuracy: 1.0000 - val_loss: 0.3172 - val_accuracy: 0.9780 - 48ms/epoch - 12ms/step\n",
            "Epoch 98/100\n",
            "4/4 - 0s - loss: 1.4141e-06 - accuracy: 1.0000 - val_loss: 0.3160 - val_accuracy: 0.9780 - 50ms/epoch - 13ms/step\n",
            "Epoch 99/100\n",
            "4/4 - 0s - loss: 1.2012e-06 - accuracy: 1.0000 - val_loss: 0.3134 - val_accuracy: 0.9780 - 45ms/epoch - 11ms/step\n",
            "Epoch 100/100\n",
            "4/4 - 0s - loss: 1.0894e-06 - accuracy: 1.0000 - val_loss: 0.3124 - val_accuracy: 0.9780 - 48ms/epoch - 12ms/step\n"
          ]
        }
      ]
    },
    {
      "cell_type": "code",
      "source": [
        "model3.evaluate(X_test2, y_test2)"
      ],
      "metadata": {
        "colab": {
          "base_uri": "https://localhost:8080/"
        },
        "id": "uHBvKYcTT6cd",
        "outputId": "61fe5813-2b64-4ac0-ece7-f3870193c346"
      },
      "execution_count": 41,
      "outputs": [
        {
          "output_type": "stream",
          "name": "stdout",
          "text": [
            "4/4 [==============================] - 0s 3ms/step - loss: 0.2200 - accuracy: 0.9737\n"
          ]
        },
        {
          "output_type": "execute_result",
          "data": {
            "text/plain": [
              "[0.2200298011302948, 0.9736841917037964]"
            ]
          },
          "metadata": {},
          "execution_count": 41
        }
      ]
    },
    {
      "cell_type": "code",
      "source": [
        "y_acc6 = hist6.history['accuracy']\n",
        "y_vloss6 = hist6.history['val_loss']\n",
        "xs = np.arange(1, len(y_acc6) +1 )\n",
        "plt.figure(figsize=(12,8))\n",
        "plt.plot(xs, y_acc6, label = 'train_accuracy')\n",
        "plt.plot(xs, y_vloss6, label = 'validation_loss')\n",
        "plt.legend(), plt.grid()\n",
        "plt.ylim([0, 1.2])\n",
        "plt.xlabel('Epoch')\n",
        "plt.title('No feature transform')\n",
        "plt.show()"
      ],
      "metadata": {
        "colab": {
          "base_uri": "https://localhost:8080/",
          "height": 513
        },
        "id": "4Ky8bdHIT_KM",
        "outputId": "991f17c1-778d-4f17-9d2e-0dcb29cafc21"
      },
      "execution_count": 42,
      "outputs": [
        {
          "output_type": "display_data",
          "data": {
            "text/plain": [
              "<Figure size 864x576 with 1 Axes>"
            ],
            "image/png": "[encoded data removed]"
          },
          "metadata": {
            "needs_background": "light"
          }
        }
      ]
    },
    {
      "cell_type": "code",
      "source": [
        "plt.figure(figsize=(20, 8))\n",
        "\n",
        "plt.subplot(121)\n",
        "plt.plot(xs, y_acc5, label = 'train_accuracy')\n",
        "plt.plot(xs, y_vloss5, label = 'validation_loss')\n",
        "plt.legend(), plt.grid()\n",
        "plt.ylim([0, 1.2])\n",
        "plt.xlabel('Epoch')\n",
        "plt.title('Adam optimizer')\n",
        "\n",
        "plt.subplot(122)\n",
        "\n",
        "plt.plot(xs, y_acc6, label = 'train_accuracy')\n",
        "plt.plot(xs, y_vloss6, label = 'validation_loss')\n",
        "plt.legend(), plt.grid()\n",
        "plt.ylim([0, 1.2])\n",
        "plt.xlabel('Epoch')\n",
        "plt.title('No feature transform')\n",
        "\n",
        "\n",
        "plt.show()"
      ],
      "metadata": {
        "colab": {
          "base_uri": "https://localhost:8080/",
          "height": 377
        },
        "id": "am1OiNoXUEgf",
        "outputId": "044235e8-a558-415c-b977-4fed9cc1d346"
      },
      "execution_count": 44,
      "outputs": [
        {
          "output_type": "display_data",
          "data": {
            "text/plain": [
              "<Figure size 1440x576 with 2 Axes>"
            ],
            "image/png": "[encoded data removed]"
          },
          "metadata": {
            "needs_background": "light"
          }
        }
      ]
    },
    {
      "cell_type": "code",
      "source": [
        ""
      ],
      "metadata": {
        "id": "guAu0DHjUXC0"
      },
      "execution_count": null,
      "outputs": []
    }
  ]
}