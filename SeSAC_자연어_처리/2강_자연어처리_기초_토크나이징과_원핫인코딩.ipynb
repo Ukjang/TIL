{
  "nbformat": 4,
  "nbformat_minor": 0,
  "metadata": {
    "colab": {
      "provenance": [],
      "collapsed_sections": []
    },
    "kernelspec": {
      "name": "python3",
      "display_name": "Python 3"
    },
    "language_info": {
      "name": "python"
    }
  },
  "cells": [
    {
      "cell_type": "markdown",
      "metadata": {
        "id": "N7jInWznWlkA"
      },
      "source": [
        "# 자연어 처리 기초 - 토크나이징과 원핫인코딩"
      ]
    },
    {
      "cell_type": "markdown",
      "metadata": {
        "id": "XBQm9OOJWo8k"
      },
      "source": [
        "## Reference : https://machinelearningmastery.com/how-to-one-hot-encode-sequence-data-in-python/"
      ]
    },
    {
      "cell_type": "code",
      "metadata": {
        "colab": {
          "base_uri": "https://localhost:8080/"
        },
        "id": "S-UYDQ0IRCI8",
        "outputId": "81ddaffd-2a4c-4b2c-e75d-8d47c35ac7b9"
      },
      "source": [
        "!pip install nltk"
      ],
      "execution_count": 1,
      "outputs": [
        {
          "output_type": "stream",
          "name": "stdout",
          "text": [
            "Looking in indexes: https://pypi.org/simple, https://us-python.pkg.dev/colab-wheels/public/simple/\n",
            "Requirement already satisfied: nltk in /usr/local/lib/python3.7/dist-packages (3.7)\n",
            "Requirement already satisfied: regex>=2021.8.3 in /usr/local/lib/python3.7/dist-packages (from nltk) (2022.6.2)\n",
            "Requirement already satisfied: tqdm in /usr/local/lib/python3.7/dist-packages (from nltk) (4.64.1)\n",
            "Requirement already satisfied: joblib in /usr/local/lib/python3.7/dist-packages (from nltk) (1.2.0)\n",
            "Requirement already satisfied: click in /usr/local/lib/python3.7/dist-packages (from nltk) (7.1.2)\n"
          ]
        }
      ]
    },
    {
      "cell_type": "code",
      "metadata": {
        "id": "Syorb6KkU6bz"
      },
      "source": [
        "import nltk"
      ],
      "execution_count": 2,
      "outputs": []
    },
    {
      "cell_type": "code",
      "metadata": {
        "colab": {
          "base_uri": "https://localhost:8080/"
        },
        "id": "nblNXOt8U4_c",
        "outputId": "ca6d9f7f-051b-46fe-c751-f06780ca26b0"
      },
      "source": [
        "nltk.download(\"all\", quiet=True)"
      ],
      "execution_count": 3,
      "outputs": [
        {
          "output_type": "execute_result",
          "data": {
            "text/plain": [
              "True"
            ]
          },
          "metadata": {},
          "execution_count": 3
        }
      ]
    },
    {
      "cell_type": "markdown",
      "metadata": {
        "id": "dxtM19IFVRPj"
      },
      "source": [
        "# 단어 단위 Tokenizing"
      ]
    },
    {
      "cell_type": "code",
      "metadata": {
        "colab": {
          "base_uri": "https://localhost:8080/"
        },
        "id": "7EiwCgX1UHBb",
        "outputId": "3f9cf4b0-5613-40a5-bcca-0c111c0ca7f9"
      },
      "source": [
        "from nltk.tokenize import word_tokenize\n",
        "text = \"Friends, Romans, Countrymen, lend me your ears;.\"\n",
        "print(word_tokenize(text))"
      ],
      "execution_count": 4,
      "outputs": [
        {
          "output_type": "stream",
          "name": "stdout",
          "text": [
            "['Friends', ',', 'Romans', ',', 'Countrymen', ',', 'lend', 'me', 'your', 'ears', ';', '.']\n"
          ]
        }
      ]
    },
    {
      "cell_type": "markdown",
      "metadata": {
        "id": "gY-ExxmyWw_3"
      },
      "source": [
        "# 문장 단위 Tokenizing"
      ]
    },
    {
      "cell_type": "code",
      "metadata": {
        "colab": {
          "base_uri": "https://localhost:8080/"
        },
        "id": "-uqiTYkYWSpJ",
        "outputId": "2e8ed32f-d4fd-4f7c-b311-c14859f216a2"
      },
      "source": [
        "from nltk.tokenize import sent_tokenize\n",
        "text = \"Natural language processing (NLP) is a subfield of \\\n",
        "linguistics, computer science, and artificial intelligence \\\n",
        "concerned with the interactions between computers and human language, \\\n",
        "in particular how to program computers to process and analyze large \\\n",
        "amounts of natural language data. The goal is a computer capable of \\\n",
        "understanding the contents of documents, including the contextual \\\n",
        "nuances of the language within them. The technology can then accurately \\\n",
        "extract information and insights contained in the documents as well as categorize and organize the documents themselves.\"\n",
        "\n",
        "print(sent_tokenize(text))"
      ],
      "execution_count": 5,
      "outputs": [
        {
          "output_type": "stream",
          "name": "stdout",
          "text": [
            "['Natural language processing (NLP) is a subfield of linguistics, computer science, and artificial intelligence concerned with the interactions between computers and human language, in particular how to program computers to process and analyze large amounts of natural language data.', 'The goal is a computer capable of understanding the contents of documents, including the contextual nuances of the language within them.', 'The technology can then accurately extract information and insights contained in the documents as well as categorize and organize the documents themselves.']\n"
          ]
        }
      ]
    },
    {
      "cell_type": "markdown",
      "metadata": {
        "id": "aZwcJTWjVU7n"
      },
      "source": [
        "# One-hot Encoding 적용하기"
      ]
    },
    {
      "cell_type": "markdown",
      "metadata": {
        "id": "KmzKdoFOUOKL"
      },
      "source": [
        "# 관련 라이브러리 import"
      ]
    },
    {
      "cell_type": "code",
      "metadata": {
        "id": "nasYxzDIVUfu"
      },
      "source": [
        "from numpy import array\n",
        "from numpy import argmax\n",
        "from sklearn.preprocessing import LabelEncoder\n",
        "from sklearn.preprocessing import OneHotEncoder"
      ],
      "execution_count": 6,
      "outputs": []
    },
    {
      "cell_type": "code",
      "metadata": {
        "id": "8LgC_67PUU94",
        "colab": {
          "base_uri": "https://localhost:8080/"
        },
        "outputId": "6a60ff86-3ce6-44e3-e382-8b5ad78d346a"
      },
      "source": [
        "# 원핫 인코딩을 적용할 예제 데이터를 설정합니다\n",
        "data = ['cold', 'cold', 'warm', 'cold', 'hot', 'hot', 'warm', 'cold', 'warm', 'hot']\n",
        "print(set(data))\n",
        "values = array(data)\n",
        "print(values)"
      ],
      "execution_count": 7,
      "outputs": [
        {
          "output_type": "stream",
          "name": "stdout",
          "text": [
            "{'warm', 'hot', 'cold'}\n",
            "['cold' 'cold' 'warm' 'cold' 'hot' 'hot' 'warm' 'cold' 'warm' 'hot']\n"
          ]
        }
      ]
    },
    {
      "cell_type": "code",
      "metadata": {
        "colab": {
          "base_uri": "https://localhost:8080/"
        },
        "id": "-wTqWXV8URYx",
        "outputId": "f4ea34e3-28c6-4398-f444-afc4a6f18aeb"
      },
      "source": [
        "# Integer Encoding을 진행합니다.\n",
        "label_encoder = LabelEncoder()\n",
        "integer_encoded = label_encoder.fit_transform(values)\n",
        "print(integer_encoded)"
      ],
      "execution_count": 8,
      "outputs": [
        {
          "output_type": "stream",
          "name": "stdout",
          "text": [
            "[0 0 2 0 1 1 2 0 2 1]\n"
          ]
        }
      ]
    },
    {
      "cell_type": "code",
      "metadata": {
        "colab": {
          "base_uri": "https://localhost:8080/"
        },
        "id": "2rzaLO5QUTIk",
        "outputId": "7cdf5f79-836b-4369-83a4-19e6bd0ee452"
      },
      "source": [
        "# One-hot Encoding을 진행합니다.\n",
        "onehot_encoder = OneHotEncoder(sparse=False)\n",
        "integer_encoded = integer_encoded.reshape(len(integer_encoded), 1)\n",
        "print(integer_encoded.reshape(len(integer_encoded), 1))\n",
        "onehot_encoded = onehot_encoder.fit_transform(integer_encoded)\n",
        "print(onehot_encoded)"
      ],
      "execution_count": 9,
      "outputs": [
        {
          "output_type": "stream",
          "name": "stdout",
          "text": [
            "[[0]\n",
            " [0]\n",
            " [2]\n",
            " [0]\n",
            " [1]\n",
            " [1]\n",
            " [2]\n",
            " [0]\n",
            " [2]\n",
            " [1]]\n",
            "[[1. 0. 0.]\n",
            " [1. 0. 0.]\n",
            " [0. 0. 1.]\n",
            " [1. 0. 0.]\n",
            " [0. 1. 0.]\n",
            " [0. 1. 0.]\n",
            " [0. 0. 1.]\n",
            " [1. 0. 0.]\n",
            " [0. 0. 1.]\n",
            " [0. 1. 0.]]\n"
          ]
        }
      ]
    },
    {
      "cell_type": "code",
      "metadata": {
        "colab": {
          "base_uri": "https://localhost:8080/"
        },
        "id": "H4QVALPwUfm_",
        "outputId": "dcb1edf4-c0a2-4262-dd15-9936d7ccfc67"
      },
      "source": [
        "# One-hot Encoding을 적용한 예제를 다시 string 형태로 변경합니다.\n",
        "inverted = label_encoder.inverse_transform([argmax(onehot_encoded[0, :])])\n",
        "print(inverted)"
      ],
      "execution_count": 10,
      "outputs": [
        {
          "output_type": "stream",
          "name": "stdout",
          "text": [
            "['cold']\n"
          ]
        }
      ]
    },
    {
      "cell_type": "code",
      "metadata": {
        "id": "5sSck1wwUnmi"
      },
      "source": [],
      "execution_count": null,
      "outputs": []
    }
  ]
}