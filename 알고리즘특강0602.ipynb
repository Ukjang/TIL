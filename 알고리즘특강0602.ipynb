{
  "nbformat": 4,
  "nbformat_minor": 0,
  "metadata": {
    "colab": {
      "name": "알고리즘특강0602.ipynb",
      "provenance": []
    },
    "kernelspec": {
      "name": "python3",
      "display_name": "Python 3"
    },
    "language_info": {
      "name": "python"
    }
  },
  "cells": [
    {
      "cell_type": "code",
      "execution_count": 59,
      "metadata": {
        "id": "3dlLQD963g24"
      },
      "outputs": [],
      "source": [
        "katok = []\n"
      ]
    },
    {
      "cell_type": "code",
      "source": [
        "## 친구 추가 함수\n",
        "def add_data(friend) :\n",
        "    katok.append(None)\n",
        "    kLen = len(katok)\n",
        "    katok[kLen-1] = friend"
      ],
      "metadata": {
        "id": "LP_77IRsJ-v4"
      },
      "execution_count": 60,
      "outputs": []
    },
    {
      "cell_type": "code",
      "source": [
        "add_data('다현')\n",
        "add_data('정현')\n",
        "add_data('쯔위')\n",
        "add_data('사나')\n",
        "add_data('지효')\n",
        "add_data('모모')"
      ],
      "metadata": {
        "id": "pcr_jMpUKBKr"
      },
      "execution_count": 61,
      "outputs": []
    },
    {
      "cell_type": "code",
      "source": [
        "print(katok)"
      ],
      "metadata": {
        "colab": {
          "base_uri": "https://localhost:8080/"
        },
        "id": "YZ8Db5XHKcNg",
        "outputId": "6dabc592-d42b-4c03-b11b-452a7811801d"
      },
      "execution_count": 62,
      "outputs": [
        {
          "output_type": "stream",
          "name": "stdout",
          "text": [
            "['다현', '정현', '쯔위', '사나', '지효', '모모']\n"
          ]
        }
      ]
    },
    {
      "cell_type": "code",
      "source": [
        "def insert_data(position, friend):\n",
        "    katok.append(None)\n",
        "    kLen = len(katok)\n",
        "\n",
        "    for i in range(kLen-1, position, -1) :\n",
        "        katok[i] = katok[i-1]\n",
        "        katok[i-1] = None\n",
        "    \n",
        "    katok[position] = friend"
      ],
      "metadata": {
        "id": "bEy_DV4mKnfL"
      },
      "execution_count": 42,
      "outputs": []
    },
    {
      "cell_type": "code",
      "source": [
        "insert_data(3, '미나')\n",
        "print(katok)"
      ],
      "metadata": {
        "colab": {
          "base_uri": "https://localhost:8080/"
        },
        "id": "lkvPamSiKrj8",
        "outputId": "4f17af01-ebf4-4306-f69c-75363a05bb5b"
      },
      "execution_count": 43,
      "outputs": [
        {
          "output_type": "stream",
          "name": "stdout",
          "text": [
            "['다현', '정현', '쯔위', '미나', '사나', '지효', '모모']\n"
          ]
        }
      ]
    },
    {
      "cell_type": "code",
      "source": [
        "def delete_data(position) :\n",
        "    kLen = len(katok)\n",
        "    katok[position] = None\n",
        "\n",
        "    for i in range(position+1, kLen, 1):\n",
        "        katok[i-1] = katok[i]\n",
        "        katok[i] = None\n",
        "    "
      ],
      "metadata": {
        "id": "Y_z3r-21MhvF"
      },
      "execution_count": 44,
      "outputs": []
    },
    {
      "cell_type": "code",
      "source": [
        "delete_data(4)\n",
        "print(katok)"
      ],
      "metadata": {
        "colab": {
          "base_uri": "https://localhost:8080/"
        },
        "id": "aoFNObcbN-Ke",
        "outputId": "e6272ca7-8d8a-409b-aec1-956ab35b561e"
      },
      "execution_count": 45,
      "outputs": [
        {
          "output_type": "stream",
          "name": "stdout",
          "text": [
            "['다현', '정현', '쯔위', '미나', '지효', '모모', None]\n"
          ]
        }
      ]
    },
    {
      "cell_type": "code",
      "source": [
        "# 함수 선언부\n",
        "def add_data(friend) :\n",
        "    katok.append(None)\n",
        "    kLen = len(katok)\n",
        "    katok[kLen-1] = friend\n",
        "\n",
        "def insert_data(position, friend):\n",
        "    katok.append(None)\n",
        "    kLen = len(katok)\n",
        "\n",
        "    for i in range(kLen-1, position, -1) :\n",
        "        katok[i] = katok[i-1]\n",
        "        katok[i-1] = None\n",
        "    \n",
        "    katok[position] = friend\n",
        "\n",
        "def delete_data(position) :\n",
        "    kLen = len(katok)\n",
        "    katok[position] = None\n",
        "\n",
        "    for i in range(position+1, kLen, 1):\n",
        "        katok[i-1] = katok[i]\n",
        "        katok[i] = None\n",
        "\n",
        "# 전역 변수부\n",
        "katok = []\n",
        "select = -1\n",
        "\n",
        "# 메인 코드부\n",
        "if __name__ == '__main__':\n",
        "\n",
        "    while (select != 4) :\n",
        "        select = int(input('선택하세요(1: 추가, 2: 삽입, 3:삭제, 4:종료-->'))\n",
        "\n",
        "        if select == 1:\n",
        "           data = input('추가할데이터-->')\n",
        "           add_data(data)\n",
        "\n",
        "        elif select == 2:\n",
        "           pos = int(input('삽입할위치-->') )\n",
        "           data = input('삽입할데이터-->')\n",
        "           insert_data(pos, data) \n",
        "\n",
        "        elif select == 3:\n",
        "           pos = int(input('삭제할 위치-->')) \n",
        "           delete_data(pos) \n",
        "\n",
        "        elif select == 4 :\n",
        "           print(katok)\n",
        "           exit\n",
        "        else :\n",
        "            print('1~4중 하나를 입력하세요')\n",
        "            continue"
      ],
      "metadata": {
        "colab": {
          "base_uri": "https://localhost:8080/"
        },
        "id": "naJOcqDuRHMK",
        "outputId": "4e36db03-6178-4f77-bbfe-fa06cc5d9371"
      },
      "execution_count": 47,
      "outputs": [
        {
          "output_type": "stream",
          "name": "stdout",
          "text": [
            "선택하세요(1: 추가, 2: 삽입, 3:삭제, 4:종료-->4\n",
            "[]\n"
          ]
        }
      ]
    },
    {
      "cell_type": "code",
      "source": [
        "### 함수\n",
        "class Node() :\n",
        "    def __init__(self):\n",
        "        self.data = None\n",
        "        self.link = None\n",
        "\n",
        "### 메인\n",
        "node1 = Node()\n",
        "node1.data = '다현'\n",
        "\n",
        "node2 = Node()\n",
        "node2.data = '정연'\n",
        "node1.link = node2\n",
        "\n",
        "\n",
        "node3 = Node()\n",
        "node3.data = ' 쯔위'\n",
        "node2.link = node3\n",
        "\n",
        "node4 = Node()\n",
        "node4.data = ' 사나'\n",
        "node3.link = node4\n",
        "\n",
        "node5 = Node()\n",
        "node5.data = '지효'\n",
        "node4.link = node5\n",
        "\n",
        "node2.link = node4\n",
        "del node3\n",
        "\n",
        "# newNode = Node()\n",
        "# newNode.data = '재남'\n",
        "# newNode.link = node2.link\n",
        "# node2.link = newNode\n",
        "\n",
        "current = node1\n",
        "print(current.data, end='  ')\n",
        "while (current.link != None) :\n",
        "    current = current.link\n",
        "    print(current.data, end='    ')\n",
        "\n",
        "print(\"~~~끝!\")"
      ],
      "metadata": {
        "colab": {
          "base_uri": "https://localhost:8080/"
        },
        "id": "h9dcoSHtS6Fq",
        "outputId": "6e85ea1e-a75e-43f0-86d5-a14545c3bdeb"
      },
      "execution_count": 56,
      "outputs": [
        {
          "output_type": "stream",
          "name": "stdout",
          "text": [
            "다현  정연     사나    지효    ~~~끝!\n"
          ]
        }
      ]
    },
    {
      "cell_type": "code",
      "source": [
        "## 함수\n",
        "class Node() :\n",
        "    def __init__(self):\n",
        "        self.data = None\n",
        "        self.link = None\n",
        "\n",
        "def printNodes(start):\n",
        "    current = start\n",
        "    print(current.data, end='  ')\n",
        "    while (current.link != None) :\n",
        "        current = current.link\n",
        "        print(current.data, end='  ')\n",
        "    print()\n",
        "\n",
        "def insertNode(findData, insertData):\n",
        "    global memory, head, pre, current\n",
        "    # 첫 노드 앞에 삽입 ...   # 예 : 다현, 화사\n",
        "    if findData == head.data:\n",
        "        node = Node()\n",
        "        node.data = insertData\n",
        "        node.link = head\n",
        "        head = node\n",
        "        memory.append(node)\n",
        "        return\n",
        "\n",
        "    # 중간 노드 삽입 ... 예 : 사나, 솔라\n",
        "    current = head\n",
        "    while current.link != None :\n",
        "        pre = current\n",
        "        current = current.link\n",
        "        if current.data == findData :\n",
        "            node = Node()\n",
        "            node.data = insertData\n",
        "            node.link = current\n",
        "            pre.link = node\n",
        "            memory.append(node)\n",
        "            return\n",
        "\n",
        "    # 마지막 노드 삽입 (=findData 없음)....예 : 재남, 문별\n",
        "    node = Node()\n",
        "    node.data = insertData\n",
        "    current.link = node\n",
        "    memory.append(node)\n",
        "    return\n",
        "\n",
        "def deleteNode(deleteData):\n",
        "    global memory, head, pre, current\n",
        "    # 첫 노드를 삭제할때 .. 예 : 다현\n",
        "    if deleteData == head.data :\n",
        "        current = head\n",
        "        head = head.link\n",
        "        del(current)\n",
        "        return\n",
        "    # 두번째 이후 노드를 삭제할 때... 예 : 쯔위 \n",
        "    current = head\n",
        "    while current.link != None :\n",
        "        pre = current\n",
        "        current = current.link\n",
        "        if current.data == deleteData :\n",
        "            pre.link = current.link\n",
        "            del(current)\n",
        "            return\n",
        "\n",
        "def findNode(findData):\n",
        "    global memory, head, pre, current\n",
        "    current = head\n",
        "    if findData == current.data :\n",
        "        return current\n",
        "    while current.link != None :\n",
        "        current = current.link\n",
        "        if findData == current.data :\n",
        "            return current\n",
        "    return Node()\n",
        "\n",
        "## 전역\n",
        "memory = []\n",
        "head, pre, current = None, None, None\n",
        "dataArray = ['다현', '정연', '쯔위', '사나', '지효']\n",
        "\n",
        "\n",
        "\n",
        "## 메인\n",
        "\n",
        "node = Node() # 첫노드\n",
        "node.data = dataArray[0]\n",
        "head = node\n",
        "memory.append(node)\n",
        "\n",
        "for data in dataArray[1:] :\n",
        "    pre = node\n",
        "    node = Node()\n",
        "    node.data = data\n",
        "    pre.link = node\n",
        "    memory.append(node)\n",
        "\n",
        "\n",
        "\n",
        "# insertNode('다현', '화사')\n",
        "# insertNode('다현', '화사')\n",
        "# insertNode('사나', '솔라')\n",
        "# insertNode('재남', '문별')\n",
        "# deleteNode('다현')\n",
        "\n",
        "# deleteNode('쯔위')\n",
        "findNode('재남').data\n",
        "\n",
        "# printNodes(head)"
      ],
      "metadata": {
        "id": "k2LIg7uStF6m"
      },
      "execution_count": 88,
      "outputs": []
    },
    {
      "cell_type": "code",
      "source": [
        "## 함수\n",
        "\n",
        "\n",
        "## 전역\n",
        "# stack = [ None, None, None, None, None]\n",
        "SIZE = 5\n",
        "stack = [ None for _ in range(SIZE)]\n",
        "top = -1\n",
        "\n",
        "## 메인\n",
        "#  Push()\n",
        "top += 1\n",
        "stack[top] = '커피'\n",
        "top += 1\n",
        "stack[top] = '녹차'\n",
        "top += 1\n",
        "stack[top] = '꿀물'\n",
        "print('바닥', stack)\n",
        "\n",
        "# Pop()\n",
        "for _ in range(3):\n",
        "    data = stack[top]\n",
        "    stack[top] = None\n",
        "    top -= 1\n",
        "    print('팝 -->', data)\n",
        "    print('바닥:', stack)"
      ],
      "metadata": {
        "colab": {
          "base_uri": "https://localhost:8080/"
        },
        "id": "rfIxCjHhB_H8",
        "outputId": "3fffc4da-2035-44ee-8254-42837113866e"
      },
      "execution_count": 93,
      "outputs": [
        {
          "output_type": "stream",
          "name": "stdout",
          "text": [
            "바닥 ['커피', '녹차', '꿀물', None, None]\n",
            "팝 --> 꿀물\n",
            "바닥: ['커피', '녹차', None, None, None]\n",
            "팝 --> 녹차\n",
            "바닥: ['커피', None, None, None, None]\n",
            "팝 --> 커피\n",
            "바닥: [None, None, None, None, None]\n"
          ]
        }
      ]
    },
    {
      "cell_type": "code",
      "source": [
        "## 함수\n",
        "def isStackFull() :\n",
        "    global SIZE, stack, top\n",
        "    if (top >= SIZE-1) :\n",
        "        return True\n",
        "    else :\n",
        "        return False\n",
        "\n",
        "def push(data) :\n",
        "    global SIZE, stack, top\n",
        "    if (isStackFull() == True):\n",
        "        print('스택이 꽉!')\n",
        "        return\n",
        "    top += 1\n",
        "    stack[top] = data\n",
        "\n",
        "def isStackEmpty() :\n",
        "    global SIZE, stack, top\n",
        "    if (top <= -1) :\n",
        "        return True\n",
        "    else :\n",
        "        return False\n",
        "\n",
        "def pop() :\n",
        "    global SIZE, stack, top\n",
        "    if ( isStackEmpty()) :\n",
        "        print('스택 텅~')\n",
        "        return None\n",
        "    data = stack[top]\n",
        "    stack[top] = None\n",
        "    top -= 1\n",
        "    return data\n",
        "\n",
        "def peek() :\n",
        "    global SIZE, stack, top\n",
        "    if ( isStackEmpty()) :\n",
        "        print('스택 텅~')\n",
        "        return None\n",
        "    return stack[top]\n",
        "\n",
        "## 전역\n",
        "SIZE = 5\n",
        "stack = [ None for _ in range(SIZE)]\n",
        "top = -1\n",
        "\n",
        "## 메인\n",
        "push('커피')\n",
        "push('녹차')\n",
        "push('꿀물')\n",
        "push('콜라')\n",
        "push('환타')\n",
        "\n",
        "print(stack)\n",
        "\n",
        "push('사이다')\n",
        "print(stack)\n",
        "\n",
        "retData = pop()\n",
        "print('추출-->', retData)\n",
        "retData = pop()\n",
        "print('추출-->', retData)\n",
        "retData = pop()\n",
        "print('추출-->', retData)\n",
        "\n",
        "print('다음나올데이터-->', peek())\n"
      ],
      "metadata": {
        "colab": {
          "base_uri": "https://localhost:8080/"
        },
        "id": "T2mPbJgdXKhz",
        "outputId": "3cf99143-e02b-43e4-de66-0a2072df47f5"
      },
      "execution_count": 99,
      "outputs": [
        {
          "output_type": "stream",
          "name": "stdout",
          "text": [
            "['커피', '녹차', '꿀물', '콜라', '환타']\n",
            "스택이 꽉!\n",
            "['커피', '녹차', '꿀물', '콜라', '환타']\n",
            "추출--> 환타\n",
            "추출--> 콜라\n",
            "추출--> 꿀물\n",
            "다음나올데이터--> 녹차\n"
          ]
        }
      ]
    },
    {
      "cell_type": "code",
      "source": [
        "# 메인 코드부\n",
        "if __name__ == '__main__':\n",
        "    select = input('삽입(I)/추출(E)/확인(V)/종료(X) 중 하나를 선택 ==>')\n",
        "\n",
        "    while (select != 'X' and select != 'x'):\n",
        "        if select == 'I' or select == 'i' :\n",
        "            data = input('입력할 데이터 ==>')\n",
        "            push(data)\n",
        "            print('스택상태: ', stack)\n",
        "        elif select == 'E' or select == 'e':\n",
        "            data = pop()\n",
        "            print('추출된 데이터 ==>', data)\n",
        "            print('스택상태: ', stack)\n",
        "        elif select == 'V' or select == 'v':\n",
        "            data = peek()\n",
        "            print('확인된 데이터 ==>', data)\n",
        "            print('스택상태: ', stack)\n",
        "        else :\n",
        "            print('입력이 잘못됨')\n",
        "        \n",
        "        select = input('삽입(I)/추출(E)/확인(V)/종료(X) 중 하나를 선택 ==>')\n",
        "    print('프로그램 종료')"
      ],
      "metadata": {
        "colab": {
          "base_uri": "https://localhost:8080/"
        },
        "id": "EPQJoqGleyMu",
        "outputId": "20c1c8d1-cb7c-43fd-b0e4-f355e1be680d"
      },
      "execution_count": 100,
      "outputs": [
        {
          "output_type": "stream",
          "name": "stdout",
          "text": [
            "삽입(I)/추출(E)/확인(V)/종료(X) 중 하나를 선택 ==>i\n",
            "입력할 데이터 ==>'커피'\n",
            "스택상태:  ['커피', '녹차', \"'커피'\", None, None]\n",
            "삽입(I)/추출(E)/확인(V)/종료(X) 중 하나를 선택 ==>i\n",
            "입력할 데이터 ==>꿀물\n",
            "스택상태:  ['커피', '녹차', \"'커피'\", '꿀물', None]\n",
            "삽입(I)/추출(E)/확인(V)/종료(X) 중 하나를 선택 ==>i\n",
            "입력할 데이터 ==>녹차\n",
            "스택상태:  ['커피', '녹차', \"'커피'\", '꿀물', '녹차']\n",
            "삽입(I)/추출(E)/확인(V)/종료(X) 중 하나를 선택 ==>i\n",
            "입력할 데이터 ==>유자차\n",
            "스택이 꽉!\n",
            "스택상태:  ['커피', '녹차', \"'커피'\", '꿀물', '녹차']\n",
            "삽입(I)/추출(E)/확인(V)/종료(X) 중 하나를 선택 ==>e\n",
            "추출된 데이터 ==> 녹차\n",
            "스택상태:  ['커피', '녹차', \"'커피'\", '꿀물', None]\n",
            "삽입(I)/추출(E)/확인(V)/종료(X) 중 하나를 선택 ==>e\n",
            "추출된 데이터 ==> 꿀물\n",
            "스택상태:  ['커피', '녹차', \"'커피'\", None, None]\n",
            "삽입(I)/추출(E)/확인(V)/종료(X) 중 하나를 선택 ==>v\n",
            "확인된 데이터 ==> '커피'\n",
            "스택상태:  ['커피', '녹차', \"'커피'\", None, None]\n",
            "삽입(I)/추출(E)/확인(V)/종료(X) 중 하나를 선택 ==>v\n",
            "확인된 데이터 ==> '커피'\n",
            "스택상태:  ['커피', '녹차', \"'커피'\", None, None]\n",
            "삽입(I)/추출(E)/확인(V)/종료(X) 중 하나를 선택 ==>e\n",
            "추출된 데이터 ==> '커피'\n",
            "스택상태:  ['커피', '녹차', None, None, None]\n",
            "삽입(I)/추출(E)/확인(V)/종료(X) 중 하나를 선택 ==>x\n",
            "프로그램 종료\n"
          ]
        }
      ]
    },
    {
      "cell_type": "code",
      "source": [
        "## 함수\n",
        "\n",
        "\n",
        "## 전역\n",
        "SIZE = 5\n",
        "queue = [None for _ in range(SIZE)]\n",
        "front = rear = -1\n",
        "\n",
        "\n",
        "## 메인\n",
        "\n",
        "# enQueue()\n",
        "rear += 1\n",
        "queue[rear] = '화사'\n",
        "\n",
        "\n",
        "rear += 1\n",
        "queue[rear] = '솔라'\n",
        "\n",
        "rear += 1\n",
        "queue[rear] = '문별'\n",
        "\n",
        "print('출구 <--', queue, '<--입구')\n",
        "\n",
        "# deQueue()\n",
        "front += 1\n",
        "data = queue[front]\n",
        "queue[front] = None\n",
        "print('식사 손님:', data)\n",
        "\n",
        "front += 1\n",
        "data = queue[front]\n",
        "queue[front] = None\n",
        "print('식사 손님:', data)\n",
        "\n",
        "front += 1\n",
        "data = queue[front]\n",
        "queue[front] = None\n",
        "print('식사 손님:', data)\n",
        "\n",
        "print('출구 <--', queue, '<--입구')"
      ],
      "metadata": {
        "colab": {
          "base_uri": "https://localhost:8080/"
        },
        "id": "UjnWTjYbh2CD",
        "outputId": "55207294-43c9-4ffa-e0b3-ea5943a93e53"
      },
      "execution_count": 107,
      "outputs": [
        {
          "output_type": "stream",
          "name": "stdout",
          "text": [
            "출구 <-- ['화사', '솔라', '문별', None, None] <--입구\n",
            "식사 손님: 화사\n",
            "식사 손님: 솔라\n",
            "출구 <-- [None, None, '문별', None, None] <--입구\n",
            "식사 손님: 문별\n",
            "출구 <-- [None, None, None, None, None] <--입구\n"
          ]
        }
      ]
    },
    {
      "cell_type": "code",
      "source": [
        ""
      ],
      "metadata": {
        "id": "XVckfXgekJch"
      },
      "execution_count": null,
      "outputs": []
    }
  ]
}