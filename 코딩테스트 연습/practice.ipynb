{
 "cells": [
  {
   "cell_type": "code",
   "execution_count": 1,
   "metadata": {},
   "outputs": [],
   "source": [
    "list1 = [4, 3, 2, 1]\n"
   ]
  },
  {
   "cell_type": "code",
   "execution_count": 17,
   "metadata": {},
   "outputs": [
    {
     "data": {
      "text/plain": [
       "True"
      ]
     },
     "execution_count": 17,
     "metadata": {},
     "output_type": "execute_result"
    }
   ],
   "source": [
    "s = 'abcd'\n",
    "'b' in (list(s))"
   ]
  },
  {
   "cell_type": "code",
   "execution_count": 6,
   "metadata": {},
   "outputs": [
    {
     "data": {
      "text/plain": [
       "[]"
      ]
     },
     "execution_count": 6,
     "metadata": {},
     "output_type": "execute_result"
    }
   ],
   "source": [
    "list1.remove(min(list1))\n",
    "list1"
   ]
  },
  {
   "cell_type": "code",
   "execution_count": 8,
   "metadata": {},
   "outputs": [
    {
     "data": {
      "text/plain": [
       "True"
      ]
     },
     "execution_count": 8,
     "metadata": {},
     "output_type": "execute_result"
    }
   ],
   "source": [
    "import numpy as np\n",
    "list1 == []"
   ]
  },
  {
   "cell_type": "code",
   "execution_count": 22,
   "metadata": {},
   "outputs": [
    {
     "name": "stdout",
     "output_type": "stream",
     "text": [
      "4\n",
      "2\n",
      "1\n",
      "01001\n",
      "10\n",
      "5\n",
      "2\n",
      "1\n",
      "10100\n",
      "14\n",
      "7\n",
      "3\n",
      "1\n",
      "11100\n",
      "9\n",
      "4\n",
      "2\n",
      "1\n",
      "10010\n",
      "5\n",
      "2\n",
      "1\n",
      "01011\n"
     ]
    },
    {
     "data": {
      "text/plain": [
       "['#####', '# # #', '### #', '#  ##', '#####']"
      ]
     },
     "execution_count": 22,
     "metadata": {},
     "output_type": "execute_result"
    }
   ],
   "source": [
    "n = 5\n",
    "arr1 = [9, 20, 28, 18, 11]\n",
    "arr2 = \t[30, 1, 21, 17, 28]\n",
    "answer = []\n",
    "for nm in range(n):\n",
    "    temp_arr1 = ''\n",
    "    temp1 = arr1[nm]\n",
    "    while True :\n",
    "        if temp1 // 2 == 0:\n",
    "            temp_arr1 = str(temp1) + temp_arr1\n",
    "            break\n",
    "        else :\n",
    "            temp_arr1 = str(temp1 % 2) + temp_arr1\n",
    "            temp1 = temp1 // 2\n",
    "        print(temp1)\n",
    "    temp_arr1 = '0'*(5-len(temp_arr1)) + temp_arr1\n",
    "    print(temp_arr1)\n",
    "\n",
    "    temp2 = arr2[nm]\n",
    "    temp_arr2 = ''\n",
    "    while True :\n",
    "        if temp2 // 2 == 0:\n",
    "            temp_arr2 = str(temp2) + temp_arr2\n",
    "            break\n",
    "        else :\n",
    "            temp_arr2 = str(temp2 % 2) + temp_arr2\n",
    "            temp2 = temp2 // 2\n",
    "    temp_arr2 = '0'*(5-len(temp_arr2)) + temp_arr2\n",
    "    \n",
    "    temp_result = ''\n",
    "    for i in range(n):\n",
    "        result_nm = str(int(temp_arr1[i]) + int(temp_arr2[i]))\n",
    "        if int(result_nm) == 0:\n",
    "            temp_result += ' '\n",
    "        else :\n",
    "            temp_result += '#'\n",
    "    answer.append(temp_result)\n",
    "answer"
   ]
  },
  {
   "cell_type": "code",
   "execution_count": 27,
   "metadata": {},
   "outputs": [
    {
     "name": "stdout",
     "output_type": "stream",
     "text": [
      "2\n",
      "[2, 4]\n",
      "[3]\n",
      "4\n",
      "[4]\n",
      "[]\n"
     ]
    },
    {
     "data": {
      "text/plain": [
       "4"
      ]
     },
     "execution_count": 27,
     "metadata": {},
     "output_type": "execute_result"
    }
   ],
   "source": [
    "lost = [2, 4]\n",
    "reserve = [3]\n",
    "\n",
    "answer = 0\n",
    "result_lo = lost.copy()\n",
    "result_re = reserve.copy()\n",
    "# lost 기준 -1, 0, +1 확인. -1 우선으로 빌려야함\n",
    "for lo in lost :\n",
    "    print(lo)\n",
    "    print(result_lo)\n",
    "    print(result_re)\n",
    "    if result_re != []:\n",
    "        if (lo-1) in reserve:\n",
    "            result_lo.remove(lo)\n",
    "            result_re.remove(lo-1)\n",
    "        elif lo in reserve:\n",
    "            result_lo.remove(lo)\n",
    "            result_re.remove(lo)\n",
    "        elif (lo + 1) in reserve :\n",
    "            result_lo.remove(lo)\n",
    "            result_re.remove(lo+1)\n",
    "# lost 남은 인원만큼 총원에서 빼주기\n",
    "answer = n - len(result_lo)\n",
    "answer"
   ]
  }
 ],
 "metadata": {
  "kernelspec": {
   "display_name": "Python 3.8.10 64-bit (microsoft store)",
   "language": "python",
   "name": "python3"
  },
  "language_info": {
   "codemirror_mode": {
    "name": "ipython",
    "version": 3
   },
   "file_extension": ".py",
   "mimetype": "text/x-python",
   "name": "python",
   "nbconvert_exporter": "python",
   "pygments_lexer": "ipython3",
   "version": "3.8.10"
  },
  "orig_nbformat": 4,
  "vscode": {
   "interpreter": {
    "hash": "e3ada8b426290dd76767ba6368ea690ca67a7a436b12c3cf567e5cb72f89ca03"
   }
  }
 },
 "nbformat": 4,
 "nbformat_minor": 2
}
