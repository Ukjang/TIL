{
 "cells": [
  {
   "cell_type": "code",
   "execution_count": 1,
   "metadata": {},
   "outputs": [],
   "source": [
    "list1 = [4, 3, 2, 1]\n"
   ]
  },
  {
   "cell_type": "code",
   "execution_count": 17,
   "metadata": {},
   "outputs": [
    {
     "data": {
      "text/plain": [
       "True"
      ]
     },
     "execution_count": 17,
     "metadata": {},
     "output_type": "execute_result"
    }
   ],
   "source": [
    "s = 'abcd'\n",
    "'b' in (list(s))"
   ]
  },
  {
   "cell_type": "code",
   "execution_count": 6,
   "metadata": {},
   "outputs": [
    {
     "data": {
      "text/plain": [
       "[]"
      ]
     },
     "execution_count": 6,
     "metadata": {},
     "output_type": "execute_result"
    }
   ],
   "source": [
    "list1.remove(min(list1))\n",
    "list1"
   ]
  },
  {
   "cell_type": "code",
   "execution_count": 8,
   "metadata": {},
   "outputs": [
    {
     "data": {
      "text/plain": [
       "True"
      ]
     },
     "execution_count": 8,
     "metadata": {},
     "output_type": "execute_result"
    }
   ],
   "source": [
    "import numpy as np\n",
    "list1 == []"
   ]
  },
  {
   "cell_type": "code",
   "execution_count": 22,
   "metadata": {},
   "outputs": [
    {
     "name": "stdout",
     "output_type": "stream",
     "text": [
      "4\n",
      "2\n",
      "1\n",
      "01001\n",
      "10\n",
      "5\n",
      "2\n",
      "1\n",
      "10100\n",
      "14\n",
      "7\n",
      "3\n",
      "1\n",
      "11100\n",
      "9\n",
      "4\n",
      "2\n",
      "1\n",
      "10010\n",
      "5\n",
      "2\n",
      "1\n",
      "01011\n"
     ]
    },
    {
     "data": {
      "text/plain": [
       "['#####', '# # #', '### #', '#  ##', '#####']"
      ]
     },
     "execution_count": 22,
     "metadata": {},
     "output_type": "execute_result"
    }
   ],
   "source": [
    "n = 5\n",
    "arr1 = [9, 20, 28, 18, 11]\n",
    "arr2 = \t[30, 1, 21, 17, 28]\n",
    "answer = []\n",
    "for nm in range(n):\n",
    "    temp_arr1 = ''\n",
    "    temp1 = arr1[nm]\n",
    "    while True :\n",
    "        if temp1 // 2 == 0:\n",
    "            temp_arr1 = str(temp1) + temp_arr1\n",
    "            break\n",
    "        else :\n",
    "            temp_arr1 = str(temp1 % 2) + temp_arr1\n",
    "            temp1 = temp1 // 2\n",
    "        print(temp1)\n",
    "    temp_arr1 = '0'*(5-len(temp_arr1)) + temp_arr1\n",
    "    print(temp_arr1)\n",
    "\n",
    "    temp2 = arr2[nm]\n",
    "    temp_arr2 = ''\n",
    "    while True :\n",
    "        if temp2 // 2 == 0:\n",
    "            temp_arr2 = str(temp2) + temp_arr2\n",
    "            break\n",
    "        else :\n",
    "            temp_arr2 = str(temp2 % 2) + temp_arr2\n",
    "            temp2 = temp2 // 2\n",
    "    temp_arr2 = '0'*(5-len(temp_arr2)) + temp_arr2\n",
    "    \n",
    "    temp_result = ''\n",
    "    for i in range(n):\n",
    "        result_nm = str(int(temp_arr1[i]) + int(temp_arr2[i]))\n",
    "        if int(result_nm) == 0:\n",
    "            temp_result += ' '\n",
    "        else :\n",
    "            temp_result += '#'\n",
    "    answer.append(temp_result)\n",
    "answer"
   ]
  },
  {
   "cell_type": "code",
   "execution_count": 27,
   "metadata": {},
   "outputs": [
    {
     "name": "stdout",
     "output_type": "stream",
     "text": [
      "2\n",
      "[2, 4]\n",
      "[3]\n",
      "4\n",
      "[4]\n",
      "[]\n"
     ]
    },
    {
     "data": {
      "text/plain": [
       "4"
      ]
     },
     "execution_count": 27,
     "metadata": {},
     "output_type": "execute_result"
    }
   ],
   "source": [
    "lost = [2, 4]\n",
    "reserve = [3]\n",
    "\n",
    "answer = 0\n",
    "result_lo = lost.copy()\n",
    "result_re = reserve.copy()\n",
    "# lost 기준 -1, 0, +1 확인. -1 우선으로 빌려야함\n",
    "for lo in lost :\n",
    "    print(lo)\n",
    "    print(result_lo)\n",
    "    print(result_re)\n",
    "    if result_re != []:\n",
    "        if (lo-1) in reserve:\n",
    "            result_lo.remove(lo)\n",
    "            result_re.remove(lo-1)\n",
    "        elif lo in reserve:\n",
    "            result_lo.remove(lo)\n",
    "            result_re.remove(lo)\n",
    "        elif (lo + 1) in reserve :\n",
    "            result_lo.remove(lo)\n",
    "            result_re.remove(lo+1)\n",
    "# lost 남은 인원만큼 총원에서 빼주기\n",
    "answer = n - len(result_lo)\n",
    "answer"
   ]
  },
  {
   "cell_type": "code",
   "execution_count": 34,
   "metadata": {},
   "outputs": [
    {
     "name": "stdout",
     "output_type": "stream",
     "text": [
      "('1', 1)\n",
      "1\n"
     ]
    }
   ],
   "source": [
    "import operator\n",
    "print(max(dict1.items(), key = operator.itemgetter(1)))\n",
    "temp = max(dict1.items(), key = operator.itemgetter(1))[0]\n",
    "print(temp)\n",
    "del dict1[temp]"
   ]
  },
  {
   "cell_type": "code",
   "execution_count": 55,
   "metadata": {},
   "outputs": [],
   "source": [
    "dict1 = {\n",
    "    '1' : 1,\n",
    "    '2' : 2,\n",
    "    '3' : 100,\n",
    "    '4' : 100\n",
    "}\n",
    "N = 5\n",
    "stages = [2, 1, 2, 6, 2, 4, 3, 3]"
   ]
  },
  {
   "cell_type": "code",
   "execution_count": 56,
   "metadata": {},
   "outputs": [
    {
     "data": {
      "text/plain": [
       "[3, 4, 2, 1, 5]"
      ]
     },
     "execution_count": 56,
     "metadata": {},
     "output_type": "execute_result"
    }
   ],
   "source": [
    "answer = []\n",
    "stage_result_dict= {}\n",
    "for nm in range(1, N + 1):\n",
    "    # 스테이지 실패율 계산. 자기 수보다 큰 개수 개산 및 count.\n",
    "    cnt_pass = 0\n",
    "    cnt_fail = 0\n",
    "    for stage in stages :\n",
    "        if stage >= nm :\n",
    "            cnt_pass += 1\n",
    "        if stage == nm :\n",
    "            cnt_fail += 1\n",
    "    if cnt_pass == 0:\n",
    "        stage_result_dict[nm] = 0\n",
    "    else:\n",
    "        stage_result_dict[nm] = cnt_fail / cnt_pass\n",
    "    \n",
    "# 최대값 dict value 에서 가져와서 입력. 자동 오름차순 됨\n",
    "import operator\n",
    "for _ in range(N):\n",
    "    temp = max(stage_result_dict.items(), key = operator.itemgetter(1))[0]\n",
    "    answer.append(temp)\n",
    "    del stage_result_dict[temp]\n",
    "answer"
   ]
  },
  {
   "cell_type": "code",
   "execution_count": 54,
   "metadata": {},
   "outputs": [
    {
     "name": "stdout",
     "output_type": "stream",
     "text": [
      "{1: 0.125}\n",
      "{1: 0.125, 2: 0.42857142857142855}\n",
      "{1: 0.125, 2: 0.42857142857142855, 3: 0.5}\n",
      "{1: 0.125, 2: 0.42857142857142855, 3: 0.5, 4: 0.5}\n",
      "{1: 0.125, 2: 0.42857142857142855, 3: 0.5, 4: 0.5, 5: 0.0}\n",
      "{1: 0.125, 2: 0.42857142857142855, 3: 0.5, 4: 0.5, 5: 0.0}\n",
      "[3] dict_keys([1, 2, 3, 4, 5]) 3\n",
      "{1: 0.125, 2: 0.42857142857142855, 4: 0.5, 5: 0.0}\n",
      "[3, 4] dict_keys([1, 2, 4, 5]) 4\n",
      "{1: 0.125, 2: 0.42857142857142855, 5: 0.0}\n",
      "[3, 4, 2] dict_keys([1, 2, 5]) 2\n",
      "{1: 0.125, 5: 0.0}\n",
      "[3, 4, 2, 1] dict_keys([1, 5]) 1\n",
      "{5: 0.0}\n",
      "[3, 4, 2, 1, 5] dict_keys([5]) 5\n"
     ]
    },
    {
     "data": {
      "text/plain": [
       "[3, 4, 2, 1, 5]"
      ]
     },
     "execution_count": 54,
     "metadata": {},
     "output_type": "execute_result"
    }
   ],
   "source": [
    "answer = []\n",
    "stage_result_dict= {}\n",
    "for nm in range(1, N + 1):\n",
    "    # 스테이지 실패율 계산. 자기 수보다 큰 개수 개산 및 count.\n",
    "    cnt_pass = 0\n",
    "    cnt_fail = 0\n",
    "    for stage in stages :\n",
    "        if stage >= nm :\n",
    "            cnt_pass += 1\n",
    "        if stage == nm :\n",
    "            cnt_fail += 1\n",
    "        # print(nm, stage, cnt_pass)\n",
    "    stage_result_dict[nm] = cnt_fail / cnt_pass\n",
    "    # 최대값 dict value 에서 가져와서 입력. 자동 오름차순 됨\n",
    "    print(stage_result_dict)\n",
    "\n",
    "import operator\n",
    "for _ in range(N):\n",
    "    print(stage_result_dict)\n",
    "    temp = max(stage_result_dict.items(), key = operator.itemgetter(1))[0]\n",
    "    answer.append(temp)\n",
    "    print(answer, stage_result_dict.keys(), temp)\n",
    "    del stage_result_dict[temp]\n",
    "answer"
   ]
  },
  {
   "cell_type": "code",
   "execution_count": 62,
   "metadata": {},
   "outputs": [
    {
     "data": {
      "text/plain": [
       "3"
      ]
     },
     "execution_count": 62,
     "metadata": {},
     "output_type": "execute_result"
    }
   ],
   "source": [
    "ch_1 = 0\n",
    "i = 1\n",
    "temp = f'ch_{i}'\n",
    "globals()[f'ch_{i}'] += 3\n",
    "ch_1"
   ]
  },
  {
   "cell_type": "code",
   "execution_count": 5,
   "metadata": {},
   "outputs": [
    {
     "data": {
      "text/plain": [
       "'D'"
      ]
     },
     "execution_count": 5,
     "metadata": {},
     "output_type": "execute_result"
    }
   ],
   "source": [
    "str1 = 'abcd'\n",
    "str1[-1].upper()"
   ]
  },
  {
   "cell_type": "code",
   "execution_count": 1,
   "metadata": {},
   "outputs": [],
   "source": [
    "genres = [\"classic\", \"pop\", \"classic\", \"classic\", \"pop\"]\n",
    "plays = [500, 600, 150, 800, 2500]"
   ]
  },
  {
   "cell_type": "code",
   "execution_count": 2,
   "metadata": {},
   "outputs": [
    {
     "name": "stdout",
     "output_type": "stream",
     "text": [
      "{'500': '0', '600': '1', '150': '2', '800': '3', '2500': '4'}\n",
      "[('classic', 500), ('pop', 600), ('classic', 150), ('classic', 800), ('pop', 2500)]\n",
      "[('pop', 2500), ('classic', 800), ('pop', 600), ('classic', 500), ('classic', 150)]\n",
      "[('pop', 2500), ('pop', 600), ('classic', 800), ('classic', 500), ('classic', 150)]\n",
      "defaultdict(<class 'list'>, {'pop': [2500, 600], 'classic': [800, 500, 150]})\n",
      "3\n"
     ]
    },
    {
     "data": {
      "text/plain": [
       "[4, 1, 3, 0]"
      ]
     },
     "execution_count": 2,
     "metadata": {},
     "output_type": "execute_result"
    }
   ],
   "source": [
    "from collections import defaultdict as default \n",
    "\n",
    " \n",
    "p_index = {str(plays[i]): str(i) for i in range(len(plays))}\n",
    "print(p_index)\n",
    "tuple = [(genres[i], plays[i]) for i in range(len(genres))]       #키값에 중복값이 있으면 딕셔너리 만들어지지 않음\n",
    "print(tuple)\n",
    "\n",
    "sorted_tuple1 = sorted(tuple, key=lambda x: -x[1])\n",
    "print(sorted_tuple1)\n",
    "sorted_tuple2 = sorted(sorted_tuple1, key=lambda x: x[0], reverse = True)\n",
    "print(sorted_tuple2)\n",
    "\n",
    "dic = default(list)   \n",
    "for genre, play in sorted_tuple2:\n",
    "    dic[genre].append(play)\n",
    "print(dic)\n",
    "print(len(dic['classic']))\n",
    "\n",
    "result = []\n",
    "temp = ''\n",
    "for genre, play in sorted_tuple2:\n",
    "    if len(dic[genre]) > 2:\n",
    "        temp += p_index[str(play)]    #str로 키값을 받아야 인덱싱 할 수 있음\n",
    "        temp1 = list(temp)[:2]      #다시 리스트로 \n",
    "    else:\n",
    "        result.append(p_index[str(play)]) \n",
    "result.extend(temp1)\n",
    "answer = list(map(int, result))\n",
    "answer"
   ]
  },
  {
   "cell_type": "code",
   "execution_count": 7,
   "metadata": {},
   "outputs": [
    {
     "name": "stdout",
     "output_type": "stream",
     "text": [
      "18\n",
      "기회가 4번 남았습니다. 1-20 사이의 숫자를 맞혀 보세요: 17\n",
      "Up\n",
      "기회가 3번 남았습니다. 1-20 사이의 숫자를 맞혀 보세요: 19\n",
      "Down\n",
      "기회가 2번 남았습니다. 1-20 사이의 숫자를 맞혀 보세요: 18\n",
      "축하합니다. 3번 만에 숫자를 맞히셨습니다.\n"
     ]
    }
   ],
   "source": [
    "import random\n",
    "\n",
    "n =  0\n",
    "y = random.randint(1, 20)\n",
    "print(y)\n",
    "game_result = True\n",
    "def game(x, y, n):\n",
    "    n += 1\n",
    "    if x == y:\n",
    "        print(f\"축하합니다. {n}번 만에 숫자를 맞히셨습니다.\")\n",
    "        return False,  n\n",
    "    else:\n",
    "        if x < y:\n",
    "            print('Up')\n",
    "        elif x > y:\n",
    "            print('Down')\n",
    "        return True, n\n",
    "    \n",
    "while game_result:\n",
    "    x = int(input(f'기회가 {4-n}번 남았습니다. 1-20 사이의 숫자를 맞혀 보세요: '))\n",
    "    game_result, n = game(x)\n",
    "    if n == 4:\n",
    "        print(f\"아쉽습니다. 정답은 {y}입니다.\")\n",
    "        break"
   ]
  },
  {
   "cell_type": "code",
   "execution_count": 43,
   "metadata": {},
   "outputs": [
    {
     "name": "stdout",
     "output_type": "stream",
     "text": [
      "1196 1313 1617 1973\n"
     ]
    }
   ],
   "source": [
    "for i in ['유한아', '신재웅', '오효준', '신정운'] :\n",
    "    globals()[f'{i}_name'] = random.randint(1, 2000)\n",
    "print(유한아_name, 오효준_name, 신재웅_name, 신정운_name)"
   ]
  },
  {
   "cell_type": "code",
   "execution_count": 4,
   "metadata": {},
   "outputs": [
    {
     "name": "stdout",
     "output_type": "stream",
     "text": [
      "19\n",
      "기회가 3번 남았습니다. 1-20 사이의 숫자를 맞혀 보세요: 18\n",
      "Up\n",
      "기회가 2번 남았습니다. 1-20 사이의 숫자를 맞혀 보세요: 19\n",
      "축하합니다. 2번 만에 숫자를 맞히셨습니다.\n"
     ]
    }
   ],
   "source": [
    "import random\n",
    "\n",
    "n = 0\n",
    "y = random.randint(1, 20)\n",
    "print(y)\n",
    "while True :\n",
    "    n += 1\n",
    "    #입력 값 받기\n",
    "    x = int(input(f'기회가 {4-n}번 남았습니다. 1-20 사이의 숫자를 맞혀 보세요: '))\n",
    "    # 종료규칙\n",
    "    if x == y :\n",
    "        print(f\"축하합니다. {n}번 만에 숫자를 맞히셨습니다.\")\n",
    "        break\n",
    "    elif n == 4:\n",
    "        print(f\"아쉽습니다. 정답은 {y}입니다.\")\n",
    "        break\n",
    "    else :\n",
    "        if x < y:\n",
    "            print('Up')\n",
    "        elif x > y:\n",
    "            print('Down')\n",
    "    "
   ]
  },
  {
   "cell_type": "code",
   "execution_count": 77,
   "metadata": {},
   "outputs": [
    {
     "name": "stdout",
     "output_type": "stream",
     "text": [
      "[4, 3, 2, 1, 5, 6, 7]\n",
      "4\n",
      "[1, 2, 3, 4, 6, 6, 5]\n",
      "3\n"
     ]
    }
   ],
   "source": [
    "def swap_elements(my_list, index1, index2):\n",
    "    result = []\n",
    "    for i in range(len(my_list)):\n",
    "        if i not in [index1, index2]: result.append(my_list[i])\n",
    "        elif i == index1: result.append(my_list[index2])\n",
    "        elif i == index2: result.append(my_list[index1])\n",
    "        my_list = result\n",
    " \n",
    "def partition(my_list, start, end, list_name):\n",
    "    temp = my_list[end]\n",
    "    temp1 = [i for i in my_list if i < temp]\n",
    "    temp2 = [i for i in my_list if i > temp]\n",
    "    globals()[f'{list_name}'] = temp1 + [temp] + temp2\n",
    "    return globals()[f'{list_name}'].index(temp)\n",
    "\n",
    "list1 = [4, 3, 6, 2, 7, 1, 5]\n",
    "pivot_index1 = partition(list1, 0, len(list1) - 1, 'list1')\n",
    "print(list1)\n",
    "print(pivot_index1)\n",
    "\n",
    "list2 = [6, 1, 2, 6, 3, 5, 4]\n",
    "pivot_index2 = partition(list2, 0, len(list2) - 1, 'list2')\n",
    "print(list2)\n",
    "print(pivot_index2)"
   ]
  },
  {
   "cell_type": "code",
   "execution_count": 80,
   "metadata": {},
   "outputs": [
    {
     "name": "stdout",
     "output_type": "stream",
     "text": [
      "스트링 처리 : [4, 3, 6, 2, 7, 1, 5]\n",
      "[4, 3, 2, 1, 5, 6, 7]\n",
      "4\n",
      "스트링 처리 : [6, 1, 2, 6, 3, 5, 4]\n",
      "[1, 2, 3, 4, 6, 6, 5]\n",
      "3\n"
     ]
    }
   ],
   "source": [
    "def swap_elements(my_list, index1, index2):\n",
    "    result = []\n",
    "    for i in range(len(my_list)):\n",
    "        if i not in [index1, index2]: result.append(my_list[i])\n",
    "        elif i == index1: result.append(my_list[index2])\n",
    "        elif i == index2: result.append(my_list[index1])\n",
    "        my_list = result\n",
    " \n",
    "def partition(my_list, start, end, list_name):\n",
    "    temp = my_list[end]\n",
    "    temp1 = [i for i in my_list if i < temp]\n",
    "    temp2 = [i for i in my_list if i > temp]\n",
    "    print('스트링 처리 :', f'{my_list}')\n",
    "    globals()[f'{list_name}'] = temp1 + [temp] + temp2\n",
    "    \n",
    "    return globals()[f'{list_name}'].index(temp)\n",
    "\n",
    "list1 = [4, 3, 6, 2, 7, 1, 5]\n",
    "pivot_index1 = partition(list1, 0, len(list1) - 1, 'list1')\n",
    "print(list1)\n",
    "print(pivot_index1)\n",
    "\n",
    "list2 = [6, 1, 2, 6, 3, 5, 4]\n",
    "pivot_index2 = partition(list2, 0, len(list2) - 1, 'list2')\n",
    "print(list2)\n",
    "print(pivot_index2)"
   ]
  },
  {
   "cell_type": "code",
   "execution_count": 69,
   "metadata": {},
   "outputs": [
    {
     "data": {
      "text/plain": [
       "'[1, 2, 3, 4, 6, 6, 5]'"
      ]
     },
     "execution_count": 69,
     "metadata": {},
     "output_type": "execute_result"
    }
   ],
   "source": [
    "f'{my_list}'"
   ]
  },
  {
   "cell_type": "code",
   "execution_count": 61,
   "metadata": {},
   "outputs": [
    {
     "data": {
      "text/plain": [
       "[4, 3, 6, 2, 7, 1, 5]"
      ]
     },
     "execution_count": 61,
     "metadata": {},
     "output_type": "execute_result"
    }
   ],
   "source": [
    "globals()['list1']"
   ]
  },
  {
   "cell_type": "code",
   "execution_count": 60,
   "metadata": {},
   "outputs": [
    {
     "data": {
      "text/plain": [
       "[1, 2, 3, 4, 6, 6, 5]"
      ]
     },
     "execution_count": 60,
     "metadata": {},
     "output_type": "execute_result"
    }
   ],
   "source": [
    "globals()['my_list']"
   ]
  },
  {
   "cell_type": "code",
   "execution_count": 33,
   "metadata": {},
   "outputs": [
    {
     "data": {
      "text/plain": [
       "[4, 3, 2, 1, 5, 6, 7]"
      ]
     },
     "execution_count": 33,
     "metadata": {},
     "output_type": "execute_result"
    }
   ],
   "source": [
    "list1 = [4, 3, 6, 2, 7, 1, 5]\n",
    "my_list = list1\n",
    "start = 0\n",
    "end = len(list1) - 1\n",
    "temp = my_list[end]\n",
    "temp1 = [i for i in my_list if i < temp]\n",
    "temp2 = [i for i in my_list if i > temp]\n",
    "my_list = temp1 + [temp] + temp2\n",
    "my_list"
   ]
  },
  {
   "cell_type": "code",
   "execution_count": 37,
   "metadata": {},
   "outputs": [
    {
     "name": "stdout",
     "output_type": "stream",
     "text": [
      "[4, 3, 2, 1, 5, 6, 7]\n",
      "4\n"
     ]
    }
   ],
   "source": [
    "def swap_elements(my_list, index1, index2):\n",
    "    temp = my_list[index1]\n",
    "    my_list[index1] = my_list[index2]\n",
    "    my_list[index2] = temp\n",
    "\n",
    "def partition(my_list, start, end):\n",
    "    i = start\n",
    "    b = start\n",
    "    p = end\n",
    "    while i < p:\n",
    "        if my_list[i] <= my_list[p]:\n",
    "            swap_elements(my_list, i, b)\n",
    "            b += 1\n",
    "        i += 1\n",
    "    swap_elements(my_list, b, p)\n",
    "    p = b\n",
    "    return p\n",
    "\n",
    "\n",
    "# 테스트 1\n",
    "list1 = [4, 3, 6, 2, 7, 1, 5]\n",
    "pivot_index1 = partition(list1, 0, len(list1) - 1)\n",
    "print(list1)\n",
    "print(pivot_index1)"
   ]
  },
  {
   "cell_type": "code",
   "execution_count": null,
   "metadata": {},
   "outputs": [],
   "source": []
  },
  {
   "cell_type": "code",
   "execution_count": 1,
   "metadata": {},
   "outputs": [
    {
     "ename": "NameError",
     "evalue": "name 'swap_elements' is not defined",
     "output_type": "error",
     "traceback": [
      "\u001b[1;31m---------------------------------------------------------------------------\u001b[0m",
      "\u001b[1;31mNameError\u001b[0m                                 Traceback (most recent call last)",
      "\u001b[1;32mc:\\Users\\Admin\\TIL\\코딩테스트 연습\\practice.ipynb 셀 26\u001b[0m in \u001b[0;36m<cell line: 9>\u001b[1;34m()\u001b[0m\n\u001b[0;32m      <a href='vscode-notebook-cell:/c%3A/Users/Admin/TIL/%EC%BD%94%EB%94%A9%ED%85%8C%EC%8A%A4%ED%8A%B8%20%EC%97%B0%EC%8A%B5/practice.ipynb#X34sZmlsZQ%3D%3D?line=8'>9</a>\u001b[0m \u001b[39mwhile\u001b[39;00m i \u001b[39m<\u001b[39m p:\n\u001b[0;32m     <a href='vscode-notebook-cell:/c%3A/Users/Admin/TIL/%EC%BD%94%EB%94%A9%ED%85%8C%EC%8A%A4%ED%8A%B8%20%EC%97%B0%EC%8A%B5/practice.ipynb#X34sZmlsZQ%3D%3D?line=9'>10</a>\u001b[0m     \u001b[39mif\u001b[39;00m my_list[i] \u001b[39m<\u001b[39m\u001b[39m=\u001b[39m my_list[p]:\n\u001b[1;32m---> <a href='vscode-notebook-cell:/c%3A/Users/Admin/TIL/%EC%BD%94%EB%94%A9%ED%85%8C%EC%8A%A4%ED%8A%B8%20%EC%97%B0%EC%8A%B5/practice.ipynb#X34sZmlsZQ%3D%3D?line=10'>11</a>\u001b[0m         swap_elements(my_list, i, b)\n\u001b[0;32m     <a href='vscode-notebook-cell:/c%3A/Users/Admin/TIL/%EC%BD%94%EB%94%A9%ED%85%8C%EC%8A%A4%ED%8A%B8%20%EC%97%B0%EC%8A%B5/practice.ipynb#X34sZmlsZQ%3D%3D?line=11'>12</a>\u001b[0m         \u001b[39mprint\u001b[39m(i, b, p, my_list)\n\u001b[0;32m     <a href='vscode-notebook-cell:/c%3A/Users/Admin/TIL/%EC%BD%94%EB%94%A9%ED%85%8C%EC%8A%A4%ED%8A%B8%20%EC%97%B0%EC%8A%B5/practice.ipynb#X34sZmlsZQ%3D%3D?line=12'>13</a>\u001b[0m         b \u001b[39m+\u001b[39m\u001b[39m=\u001b[39m \u001b[39m1\u001b[39m\n",
      "\u001b[1;31mNameError\u001b[0m: name 'swap_elements' is not defined"
     ]
    }
   ],
   "source": [
    "list1 = [4, 3, 6, 2, 7, 1, 5]\n",
    "my_list = list1\n",
    "start = 0\n",
    "end = len(list1) - 1\n",
    "\n",
    "i = start\n",
    "b = start\n",
    "p = end\n",
    "while i < p:\n",
    "    if my_list[i] <= my_list[p]:\n",
    "        swap_elements(my_list, i, b)\n",
    "        print(i, b, p, my_list)\n",
    "        b += 1\n",
    "    else :\n",
    "        print(i, b, p, my_list)\n",
    "    i += 1\n",
    "\n",
    "swap_elements(my_list, b, p)\n",
    "p = b\n",
    "print(p, my_list)"
   ]
  },
  {
   "cell_type": "code",
   "execution_count": 32,
   "metadata": {},
   "outputs": [
    {
     "name": "stdout",
     "output_type": "stream",
     "text": [
      "[4, 3, 2, 1, 5, 6, 7]\n",
      "4\n"
     ]
    }
   ],
   "source": [
    "# 두 요소의 위치를 바꿔주는 helper function\n",
    "def swap_elements(my_list, index1, index2):\n",
    "    temp = my_list[index1]\n",
    "    my_list[index1] = my_list[index2]\n",
    "    my_list[index2] = temp\n",
    "    \n",
    "def partition(my_list, start, end):\n",
    "    result = my_list[end]\n",
    "    for i in range(len(my_list)):\n",
    "        if my_list[i] <= my_list[end]:\n",
    "            swap_elements(my_list, i, start)\n",
    "            start += 1\n",
    "    return my_list.index(result)\n",
    "    \n",
    "list1 = [4, 3, 6, 2, 7, 1, 5]\n",
    "pivot_index1 = partition(list1, 0, len(list1) - 1)\n",
    "print(list1)\n",
    "print(pivot_index1)"
   ]
  },
  {
   "cell_type": "code",
   "execution_count": 31,
   "metadata": {},
   "outputs": [
    {
     "name": "stdout",
     "output_type": "stream",
     "text": [
      "0 1 [4, 3, 6, 2, 7, 1, 5]\n",
      "1 2 [4, 3, 6, 2, 7, 1, 5]\n",
      "2 2 [4, 3, 6, 2, 7, 1, 5]\n",
      "3 3 [4, 3, 2, 6, 7, 1, 5]\n",
      "4 3 [4, 3, 2, 6, 7, 1, 5]\n",
      "5 4 [4, 3, 2, 1, 7, 6, 5]\n",
      "6 5 [4, 3, 2, 1, 5, 6, 7]\n"
     ]
    },
    {
     "data": {
      "text/plain": [
       "4"
      ]
     },
     "execution_count": 31,
     "metadata": {},
     "output_type": "execute_result"
    }
   ],
   "source": [
    "list1 = [4, 3, 6, 2, 7, 1, 5]\n",
    "my_list = list1\n",
    "start = 0\n",
    "end = len(list1) - 1\n",
    "result = my_list[end]\n",
    "for i in range(end + 1):\n",
    "    if my_list[i] <= my_list[end]:\n",
    "        swap_elements(my_list, i, start)\n",
    "        start += 1\n",
    "    print(i, start, my_list)\n",
    "my_list.index(result)"
   ]
  },
  {
   "cell_type": "code",
   "execution_count": 40,
   "metadata": {},
   "outputs": [
    {
     "name": "stdout",
     "output_type": "stream",
     "text": [
      "[1, 2, 3, 4, 5, 6]\n",
      "[1, 2, 4, 5, 6]\n"
     ]
    }
   ],
   "source": [
    "list1 = [1, 2, 3, 4, 5, 6]\n",
    "\n",
    "def rem1(list2) :\n",
    "    list2.remove(3)\n",
    "    \n",
    "print(list1)\n",
    "rem1(list1)\n",
    "print(list1)"
   ]
  },
  {
   "cell_type": "code",
   "execution_count": 47,
   "metadata": {},
   "outputs": [
    {
     "name": "stdout",
     "output_type": "stream",
     "text": [
      "[1, 2, 3, 4, 5, 6]\n",
      "[1, 2, 3, 4, 5, 6]\n",
      "[1, 2, 4, 5, 6]\n"
     ]
    }
   ],
   "source": [
    "list1 = [1, 2, 3, 4, 5, 6]\n",
    "\n",
    "def rem1(list2) :\n",
    "    list3 = list2.copy()\n",
    "    list3.remove(3)\n",
    "    list2 = list3\n",
    "    return list3\n",
    "print(list1)\n",
    "list4 = rem1(list1)\n",
    "print(list1)\n",
    "print(list4)"
   ]
  },
  {
   "cell_type": "code",
   "execution_count": 81,
   "metadata": {},
   "outputs": [
    {
     "data": {
      "text/plain": [
       "('[1, 2, 3, 4, 5]', ' 변수명이랑 다름')"
      ]
     },
     "execution_count": 81,
     "metadata": {},
     "output_type": "execute_result"
    }
   ],
   "source": [
    "li2 = [1, 2, 3, 4, 5]\n",
    "str1 = ' 변수명이랑 다름'\n",
    "f'{li2}', f'{str1}'"
   ]
  },
  {
   "cell_type": "code",
   "execution_count": 2,
   "metadata": {},
   "outputs": [],
   "source": [
    "number='1924'\n",
    "k = 2"
   ]
  },
  {
   "cell_type": "code",
   "execution_count": 5,
   "metadata": {},
   "outputs": [
    {
     "data": {
      "text/plain": [
       "['1', '9', '2', '4']"
      ]
     },
     "execution_count": 5,
     "metadata": {},
     "output_type": "execute_result"
    }
   ],
   "source": [
    "list(number)"
   ]
  },
  {
   "cell_type": "code",
   "execution_count": 17,
   "metadata": {},
   "outputs": [
    {
     "name": "stdout",
     "output_type": "stream",
     "text": [
      "['9', '2', '4']\n"
     ]
    }
   ],
   "source": [
    "import numpy as np\n",
    "cnt_k = k\n",
    "max_idx = np.argmax(list(number)[:k+1])\n",
    "cnt_k -= max_idx\n",
    "if cnt_k != 0 :\n",
    "    for _ in range(cnt_k):\n",
    "        ans_list = list(number)[max_idx:len(list(number)) - cnt_k +1]\n",
    "        print(ans_list)"
   ]
  },
  {
   "cell_type": "code",
   "execution_count": 10,
   "metadata": {},
   "outputs": [
    {
     "data": {
      "text/plain": [
       "'192'"
      ]
     },
     "execution_count": 10,
     "metadata": {},
     "output_type": "execute_result"
    }
   ],
   "source": [
    "number[:k+1]"
   ]
  },
  {
   "cell_type": "code",
   "execution_count": 14,
   "metadata": {},
   "outputs": [
    {
     "data": {
      "text/plain": [
       "[1, 9, 2, 4]"
      ]
     },
     "execution_count": 14,
     "metadata": {},
     "output_type": "execute_result"
    }
   ],
   "source": [
    "number2 = list(map(int, number))\n",
    "number2\n",
    "now_index=  0\n",
    "\n",
    "# 배열길이 -k 만큼 돌고 남으면, 더이상 볼필요 없음\n",
    "for i in range(len(number)-k):\n",
    "    remains = number[now_index:now_index+k+1]\n",
    "    max_value = -1\n",
    "    max_index = 0 \n",
    "    # 해당 부분 확인하면서 ,가장 큰 값, index 확인\n",
    "    for j, v in  enumerate(remains):\n",
    "        if v > max_value :\n",
    "            max_value = v\n",
    "            max_index = j\n",
    "        # 단일자리에서 가장 큰 수는 9이기 때문에, 바로 break\n",
    "        if max_value == 9 : break\n",
    "    # now_index, k, answer 최신화\n",
    "    # 현재 보고있는 index에서\n",
    "    # max_index는 remains의 index 니까 (0부터 시작하기 때문에)\n",
    "    # nowd_index + max_index 그 다음꺼부터 보기 위해 +1 해줌\n",
    "    now_index += max_index + 1\n",
    "    k -= max_index\n",
    "    answer += str(max_value)\n",
    "return answer\n"
   ]
  },
  {
   "cell_type": "code",
   "execution_count": 18,
   "metadata": {},
   "outputs": [
    {
     "data": {
      "text/plain": [
       "[3, 0, 6, 1, 5]"
      ]
     },
     "execution_count": 18,
     "metadata": {},
     "output_type": "execute_result"
    }
   ],
   "source": [
    "citations = [3, 0, 6, 1, 5]\n",
    "citations"
   ]
  },
  {
   "cell_type": "code",
   "execution_count": 26,
   "metadata": {},
   "outputs": [
    {
     "data": {
      "text/plain": [
       "3"
      ]
     },
     "execution_count": 26,
     "metadata": {},
     "output_type": "execute_result"
    }
   ],
   "source": [
    "np.sum((list(map(lambda x : x >=3, citations))))"
   ]
  },
  {
   "cell_type": "code",
   "execution_count": 46,
   "metadata": {},
   "outputs": [
    {
     "name": "stdout",
     "output_type": "stream",
     "text": [
      "0 8 0\n",
      "1 7 1\n",
      "2 7 1\n",
      "3 6 2\n",
      "4 6 2\n",
      "5 5 3\n",
      "6 4 4\n",
      "7 3 5\n",
      "8 2 6\n"
     ]
    },
    {
     "data": {
      "text/plain": [
       "5"
      ]
     },
     "execution_count": 46,
     "metadata": {},
     "output_type": "execute_result"
    }
   ],
   "source": [
    "def solution(citations):\n",
    "    answer_list = []\n",
    "    import numpy as np\n",
    "    for nm in range(0, int(np.max(citations))+1):\n",
    "        nm_up = int(np.sum((list(map(lambda x : int(x) >= nm, citations)))))\n",
    "        nm_down = int(np.sum((list(map(lambda x : int(x) < nm, citations)))))\n",
    "        # print(nm, nm_up, nm_down)\n",
    "        if nm_up >= nm and ((nm_up + nm_down) >= len(citations)):\n",
    "            answer_list.append(nm)\n",
    "    # print(answer_list)\n",
    "    if not answer_list:\n",
    "        answer = 0\n",
    "    else :\n",
    "        answer = list(reversed(sorted(answer_list)))[0]\n",
    "    return answer"
   ]
  },
  {
   "cell_type": "code",
   "execution_count": 41,
   "metadata": {},
   "outputs": [],
   "source": [
    "def solution(citations):\n",
    "    answer_list = []\n",
    "    import numpy as np\n",
    "    for nm in range(np.min(citations), np.max(citations) + 1):\n",
    "        nm_up = np.sum((list(map(lambda x : x >= nm, citations))))\n",
    "        nm_down = np.sum((list(map(lambda x : x <= nm, citations))))\n",
    "        # print(nm, nm_up, nm_down)\n",
    "        if nm == nm_up == nm_down :\n",
    "            answer_list.append(nm)\n",
    "        else :\n",
    "            if answer_list :\n",
    "                break\n",
    "    answer = np.max(answer_list)\n",
    "    return answer"
   ]
  },
  {
   "cell_type": "code",
   "execution_count": 42,
   "metadata": {},
   "outputs": [
    {
     "data": {
      "text/plain": [
       "3"
      ]
     },
     "execution_count": 42,
     "metadata": {},
     "output_type": "execute_result"
    }
   ],
   "source": [
    "solution(citations)"
   ]
  },
  {
   "cell_type": "code",
   "execution_count": 36,
   "metadata": {},
   "outputs": [
    {
     "data": {
      "text/plain": [
       "0"
      ]
     },
     "execution_count": 36,
     "metadata": {},
     "output_type": "execute_result"
    }
   ],
   "source": [
    "np_ci = np.array(citations)\n",
    "np_ci.min()"
   ]
  },
  {
   "cell_type": "code",
   "execution_count": 40,
   "metadata": {},
   "outputs": [
    {
     "data": {
      "text/plain": [
       "2"
      ]
     },
     "execution_count": 40,
     "metadata": {},
     "output_type": "execute_result"
    }
   ],
   "source": [
    "np.array(list(map(lambda x : x >= nm, citations))).sum()"
   ]
  }
 ],
 "metadata": {
  "kernelspec": {
   "display_name": "Python 3 (ipykernel)",
   "language": "python",
   "name": "python3"
  },
  "language_info": {
   "codemirror_mode": {
    "name": "ipython",
    "version": 3
   },
   "file_extension": ".py",
   "mimetype": "text/x-python",
   "name": "python",
   "nbconvert_exporter": "python",
   "pygments_lexer": "ipython3",
   "version": "3.8.10 (tags/v3.8.10:3d8993a, May  3 2021, 11:48:03) [MSC v.1928 64 bit (AMD64)]"
  },
  "vscode": {
   "interpreter": {
    "hash": "e3ada8b426290dd76767ba6368ea690ca67a7a436b12c3cf567e5cb72f89ca03"
   }
  }
 },
 "nbformat": 4,
 "nbformat_minor": 2
}
