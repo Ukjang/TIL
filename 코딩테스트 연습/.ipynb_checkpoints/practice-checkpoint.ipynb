{
 "cells": [
  {
   "cell_type": "code",
   "execution_count": 1,
   "metadata": {},
   "outputs": [],
   "source": [
    "list1 = [4, 3, 2, 1]\n"
   ]
  },
  {
   "cell_type": "code",
   "execution_count": 17,
   "metadata": {},
   "outputs": [
    {
     "data": {
      "text/plain": [
       "True"
      ]
     },
     "execution_count": 17,
     "metadata": {},
     "output_type": "execute_result"
    }
   ],
   "source": [
    "s = 'abcd'\n",
    "'b' in (list(s))"
   ]
  },
  {
   "cell_type": "code",
   "execution_count": 6,
   "metadata": {},
   "outputs": [
    {
     "data": {
      "text/plain": [
       "[]"
      ]
     },
     "execution_count": 6,
     "metadata": {},
     "output_type": "execute_result"
    }
   ],
   "source": [
    "list1.remove(min(list1))\n",
    "list1"
   ]
  },
  {
   "cell_type": "code",
   "execution_count": 8,
   "metadata": {},
   "outputs": [
    {
     "data": {
      "text/plain": [
       "True"
      ]
     },
     "execution_count": 8,
     "metadata": {},
     "output_type": "execute_result"
    }
   ],
   "source": [
    "import numpy as np\n",
    "list1 == []"
   ]
  },
  {
   "cell_type": "code",
   "execution_count": 22,
   "metadata": {},
   "outputs": [
    {
     "name": "stdout",
     "output_type": "stream",
     "text": [
      "4\n",
      "2\n",
      "1\n",
      "01001\n",
      "10\n",
      "5\n",
      "2\n",
      "1\n",
      "10100\n",
      "14\n",
      "7\n",
      "3\n",
      "1\n",
      "11100\n",
      "9\n",
      "4\n",
      "2\n",
      "1\n",
      "10010\n",
      "5\n",
      "2\n",
      "1\n",
      "01011\n"
     ]
    },
    {
     "data": {
      "text/plain": [
       "['#####', '# # #', '### #', '#  ##', '#####']"
      ]
     },
     "execution_count": 22,
     "metadata": {},
     "output_type": "execute_result"
    }
   ],
   "source": [
    "n = 5\n",
    "arr1 = [9, 20, 28, 18, 11]\n",
    "arr2 = \t[30, 1, 21, 17, 28]\n",
    "answer = []\n",
    "for nm in range(n):\n",
    "    temp_arr1 = ''\n",
    "    temp1 = arr1[nm]\n",
    "    while True :\n",
    "        if temp1 // 2 == 0:\n",
    "            temp_arr1 = str(temp1) + temp_arr1\n",
    "            break\n",
    "        else :\n",
    "            temp_arr1 = str(temp1 % 2) + temp_arr1\n",
    "            temp1 = temp1 // 2\n",
    "        print(temp1)\n",
    "    temp_arr1 = '0'*(5-len(temp_arr1)) + temp_arr1\n",
    "    print(temp_arr1)\n",
    "\n",
    "    temp2 = arr2[nm]\n",
    "    temp_arr2 = ''\n",
    "    while True :\n",
    "        if temp2 // 2 == 0:\n",
    "            temp_arr2 = str(temp2) + temp_arr2\n",
    "            break\n",
    "        else :\n",
    "            temp_arr2 = str(temp2 % 2) + temp_arr2\n",
    "            temp2 = temp2 // 2\n",
    "    temp_arr2 = '0'*(5-len(temp_arr2)) + temp_arr2\n",
    "    \n",
    "    temp_result = ''\n",
    "    for i in range(n):\n",
    "        result_nm = str(int(temp_arr1[i]) + int(temp_arr2[i]))\n",
    "        if int(result_nm) == 0:\n",
    "            temp_result += ' '\n",
    "        else :\n",
    "            temp_result += '#'\n",
    "    answer.append(temp_result)\n",
    "answer"
   ]
  },
  {
   "cell_type": "code",
   "execution_count": 27,
   "metadata": {},
   "outputs": [
    {
     "name": "stdout",
     "output_type": "stream",
     "text": [
      "2\n",
      "[2, 4]\n",
      "[3]\n",
      "4\n",
      "[4]\n",
      "[]\n"
     ]
    },
    {
     "data": {
      "text/plain": [
       "4"
      ]
     },
     "execution_count": 27,
     "metadata": {},
     "output_type": "execute_result"
    }
   ],
   "source": [
    "lost = [2, 4]\n",
    "reserve = [3]\n",
    "\n",
    "answer = 0\n",
    "result_lo = lost.copy()\n",
    "result_re = reserve.copy()\n",
    "# lost 기준 -1, 0, +1 확인. -1 우선으로 빌려야함\n",
    "for lo in lost :\n",
    "    print(lo)\n",
    "    print(result_lo)\n",
    "    print(result_re)\n",
    "    if result_re != []:\n",
    "        if (lo-1) in reserve:\n",
    "            result_lo.remove(lo)\n",
    "            result_re.remove(lo-1)\n",
    "        elif lo in reserve:\n",
    "            result_lo.remove(lo)\n",
    "            result_re.remove(lo)\n",
    "        elif (lo + 1) in reserve :\n",
    "            result_lo.remove(lo)\n",
    "            result_re.remove(lo+1)\n",
    "# lost 남은 인원만큼 총원에서 빼주기\n",
    "answer = n - len(result_lo)\n",
    "answer"
   ]
  },
  {
   "cell_type": "code",
   "execution_count": 34,
   "metadata": {},
   "outputs": [
    {
     "name": "stdout",
     "output_type": "stream",
     "text": [
      "('1', 1)\n",
      "1\n"
     ]
    }
   ],
   "source": [
    "import operator\n",
    "print(max(dict1.items(), key = operator.itemgetter(1)))\n",
    "temp = max(dict1.items(), key = operator.itemgetter(1))[0]\n",
    "print(temp)\n",
    "del dict1[temp]"
   ]
  },
  {
   "cell_type": "code",
   "execution_count": 55,
   "metadata": {},
   "outputs": [],
   "source": [
    "dict1 = {\n",
    "    '1' : 1,\n",
    "    '2' : 2,\n",
    "    '3' : 100,\n",
    "    '4' : 100\n",
    "}\n",
    "N = 5\n",
    "stages = [2, 1, 2, 6, 2, 4, 3, 3]"
   ]
  },
  {
   "cell_type": "code",
   "execution_count": 56,
   "metadata": {},
   "outputs": [
    {
     "data": {
      "text/plain": [
       "[3, 4, 2, 1, 5]"
      ]
     },
     "execution_count": 56,
     "metadata": {},
     "output_type": "execute_result"
    }
   ],
   "source": [
    "answer = []\n",
    "stage_result_dict= {}\n",
    "for nm in range(1, N + 1):\n",
    "    # 스테이지 실패율 계산. 자기 수보다 큰 개수 개산 및 count.\n",
    "    cnt_pass = 0\n",
    "    cnt_fail = 0\n",
    "    for stage in stages :\n",
    "        if stage >= nm :\n",
    "            cnt_pass += 1\n",
    "        if stage == nm :\n",
    "            cnt_fail += 1\n",
    "    if cnt_pass == 0:\n",
    "        stage_result_dict[nm] = 0\n",
    "    else:\n",
    "        stage_result_dict[nm] = cnt_fail / cnt_pass\n",
    "    \n",
    "# 최대값 dict value 에서 가져와서 입력. 자동 오름차순 됨\n",
    "import operator\n",
    "for _ in range(N):\n",
    "    temp = max(stage_result_dict.items(), key = operator.itemgetter(1))[0]\n",
    "    answer.append(temp)\n",
    "    del stage_result_dict[temp]\n",
    "answer"
   ]
  },
  {
   "cell_type": "code",
   "execution_count": 54,
   "metadata": {},
   "outputs": [
    {
     "name": "stdout",
     "output_type": "stream",
     "text": [
      "{1: 0.125}\n",
      "{1: 0.125, 2: 0.42857142857142855}\n",
      "{1: 0.125, 2: 0.42857142857142855, 3: 0.5}\n",
      "{1: 0.125, 2: 0.42857142857142855, 3: 0.5, 4: 0.5}\n",
      "{1: 0.125, 2: 0.42857142857142855, 3: 0.5, 4: 0.5, 5: 0.0}\n",
      "{1: 0.125, 2: 0.42857142857142855, 3: 0.5, 4: 0.5, 5: 0.0}\n",
      "[3] dict_keys([1, 2, 3, 4, 5]) 3\n",
      "{1: 0.125, 2: 0.42857142857142855, 4: 0.5, 5: 0.0}\n",
      "[3, 4] dict_keys([1, 2, 4, 5]) 4\n",
      "{1: 0.125, 2: 0.42857142857142855, 5: 0.0}\n",
      "[3, 4, 2] dict_keys([1, 2, 5]) 2\n",
      "{1: 0.125, 5: 0.0}\n",
      "[3, 4, 2, 1] dict_keys([1, 5]) 1\n",
      "{5: 0.0}\n",
      "[3, 4, 2, 1, 5] dict_keys([5]) 5\n"
     ]
    },
    {
     "data": {
      "text/plain": [
       "[3, 4, 2, 1, 5]"
      ]
     },
     "execution_count": 54,
     "metadata": {},
     "output_type": "execute_result"
    }
   ],
   "source": [
    "answer = []\n",
    "stage_result_dict= {}\n",
    "for nm in range(1, N + 1):\n",
    "    # 스테이지 실패율 계산. 자기 수보다 큰 개수 개산 및 count.\n",
    "    cnt_pass = 0\n",
    "    cnt_fail = 0\n",
    "    for stage in stages :\n",
    "        if stage >= nm :\n",
    "            cnt_pass += 1\n",
    "        if stage == nm :\n",
    "            cnt_fail += 1\n",
    "        # print(nm, stage, cnt_pass)\n",
    "    stage_result_dict[nm] = cnt_fail / cnt_pass\n",
    "    # 최대값 dict value 에서 가져와서 입력. 자동 오름차순 됨\n",
    "    print(stage_result_dict)\n",
    "\n",
    "import operator\n",
    "for _ in range(N):\n",
    "    print(stage_result_dict)\n",
    "    temp = max(stage_result_dict.items(), key = operator.itemgetter(1))[0]\n",
    "    answer.append(temp)\n",
    "    print(answer, stage_result_dict.keys(), temp)\n",
    "    del stage_result_dict[temp]\n",
    "answer"
   ]
  },
  {
   "cell_type": "code",
   "execution_count": 62,
   "metadata": {},
   "outputs": [
    {
     "data": {
      "text/plain": [
       "3"
      ]
     },
     "execution_count": 62,
     "metadata": {},
     "output_type": "execute_result"
    }
   ],
   "source": [
    "ch_1 = 0\n",
    "i = 1\n",
    "temp = f'ch_{i}'\n",
    "globals()[f'ch_{i}'] += 3\n",
    "ch_1"
   ]
  },
  {
   "cell_type": "code",
   "execution_count": 5,
   "metadata": {},
   "outputs": [
    {
     "data": {
      "text/plain": [
       "'D'"
      ]
     },
     "execution_count": 5,
     "metadata": {},
     "output_type": "execute_result"
    }
   ],
   "source": [
    "str1 = 'abcd'\n",
    "str1[-1].upper()"
   ]
  },
  {
   "cell_type": "code",
   "execution_count": 1,
   "metadata": {},
   "outputs": [],
   "source": [
    "genres = [\"classic\", \"pop\", \"classic\", \"classic\", \"pop\"]\n",
    "plays = [500, 600, 150, 800, 2500]"
   ]
  },
  {
   "cell_type": "code",
   "execution_count": 2,
   "metadata": {},
   "outputs": [
    {
     "name": "stdout",
     "output_type": "stream",
     "text": [
      "{'500': '0', '600': '1', '150': '2', '800': '3', '2500': '4'}\n",
      "[('classic', 500), ('pop', 600), ('classic', 150), ('classic', 800), ('pop', 2500)]\n",
      "[('pop', 2500), ('classic', 800), ('pop', 600), ('classic', 500), ('classic', 150)]\n",
      "[('pop', 2500), ('pop', 600), ('classic', 800), ('classic', 500), ('classic', 150)]\n",
      "defaultdict(<class 'list'>, {'pop': [2500, 600], 'classic': [800, 500, 150]})\n",
      "3\n"
     ]
    },
    {
     "data": {
      "text/plain": [
       "[4, 1, 3, 0]"
      ]
     },
     "execution_count": 2,
     "metadata": {},
     "output_type": "execute_result"
    }
   ],
   "source": [
    "from collections import defaultdict as default \n",
    "\n",
    " \n",
    "p_index = {str(plays[i]): str(i) for i in range(len(plays))}\n",
    "print(p_index)\n",
    "tuple = [(genres[i], plays[i]) for i in range(len(genres))]       #키값에 중복값이 있으면 딕셔너리 만들어지지 않음\n",
    "print(tuple)\n",
    "\n",
    "sorted_tuple1 = sorted(tuple, key=lambda x: -x[1])\n",
    "print(sorted_tuple1)\n",
    "sorted_tuple2 = sorted(sorted_tuple1, key=lambda x: x[0], reverse = True)\n",
    "print(sorted_tuple2)\n",
    "\n",
    "dic = default(list)   \n",
    "for genre, play in sorted_tuple2:\n",
    "    dic[genre].append(play)\n",
    "print(dic)\n",
    "print(len(dic['classic']))\n",
    "\n",
    "result = []\n",
    "temp = ''\n",
    "for genre, play in sorted_tuple2:\n",
    "    if len(dic[genre]) > 2:\n",
    "        temp += p_index[str(play)]    #str로 키값을 받아야 인덱싱 할 수 있음\n",
    "        temp1 = list(temp)[:2]      #다시 리스트로 \n",
    "    else:\n",
    "        result.append(p_index[str(play)]) \n",
    "result.extend(temp1)\n",
    "answer = list(map(int, result))\n",
    "answer"
   ]
  }
 ],
 "metadata": {
  "kernelspec": {
   "display_name": "Python 3 (ipykernel)",
   "language": "python",
   "name": "python3"
  },
  "language_info": {
   "codemirror_mode": {
    "name": "ipython",
    "version": 3
   },
   "file_extension": ".py",
   "mimetype": "text/x-python",
   "name": "python",
   "nbconvert_exporter": "python",
   "pygments_lexer": "ipython3",
   "version": "3.9.12"
  },
  "vscode": {
   "interpreter": {
    "hash": "e3ada8b426290dd76767ba6368ea690ca67a7a436b12c3cf567e5cb72f89ca03"
   }
  }
 },
 "nbformat": 4,
 "nbformat_minor": 2
}
