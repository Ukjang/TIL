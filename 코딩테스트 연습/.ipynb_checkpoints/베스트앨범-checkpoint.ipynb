{
 "cells": [
  {
   "cell_type": "code",
   "execution_count": 1,
   "metadata": {},
   "outputs": [],
   "source": [
    "genres = [\"classic\", \"pop\", \"classic\", \"classic\", \"pop\"]\n",
    "plays = [500, 600, 150, 800, 2500]\t"
   ]
  },
  {
   "cell_type": "code",
   "execution_count": 3,
   "metadata": {},
   "outputs": [
    {
     "name": "stdout",
     "output_type": "stream",
     "text": [
      "{'classic': 1450, 'pop': 3100}\n",
      "{'classic': '0_2_3', 'pop': '1_4'}\n",
      "pop\n",
      "4\n",
      "1\n",
      "classic\n",
      "3\n",
      "0\n"
     ]
    },
    {
     "data": {
      "text/plain": [
       "[4, 1, 3, 0]"
      ]
     },
     "execution_count": 3,
     "metadata": {},
     "output_type": "execute_result"
    }
   ],
   "source": [
    "answer = []\n",
    "# 장르별 총합 딕트\n",
    "dict_sum = {}\n",
    "dict_index = {}\n",
    "for nm in range(len(genres)) :\n",
    "    if genres[nm] in dict_sum.keys() :\n",
    "        dict_sum[genres[nm]] = dict_sum[genres[nm]] + plays[nm]\n",
    "    else :\n",
    "        dict_sum[genres[nm]] = plays[nm]\n",
    "    # 장르별 인덱스 딕트\n",
    "    if genres[nm] in dict_index.keys():\n",
    "        dict_index[genres[nm]] = dict_index[genres[nm]] + '_' + str(nm)\n",
    "    else :\n",
    "        dict_index[genres[nm]] = str(nm)\n",
    "# 장르별 max 키값 도출 길이만큼 반복\n",
    "print(dict_sum)\n",
    "print(dict_index)\n",
    "import operator\n",
    "for _ in range(len(dict_sum.keys() )):\n",
    "    temp_genre = max(dict_sum.items(), key=operator.itemgetter(1))[0]\n",
    "    print(temp_genre)\n",
    "    del dict_sum[temp_genre]\n",
    "    genre_play = dict_index[temp_genre]\n",
    "    genre_play = genre_play.split('_')\n",
    "    # 장르안에 길이가 1 검증 + 최대 2개 추가\n",
    "    if len(genre_play) >= 2 :\n",
    "        # index, play값 dict 생성\n",
    "        pl_dict = {}\n",
    "        for gp in genre_play:\n",
    "            pl_dict[str(gp)] = plays[int(gp)]\n",
    "        for _ in range(2):\n",
    "            temp_play = max(pl_dict.items(), key=operator.itemgetter(1))[0]\n",
    "            del pl_dict[temp_play]\n",
    "            print(temp_play)\n",
    "            answer.append(int(temp_play))\n",
    "    else :\n",
    "        answer.append(int(genre_play[-1]))\n",
    "answer"
   ]
  },
  {
   "cell_type": "code",
   "execution_count": null,
   "metadata": {},
   "outputs": [],
   "source": [
    "print('안녕하세요')"
   ]
  }
 ],
 "metadata": {
  "kernelspec": {
   "display_name": "Python 3 (ipykernel)",
   "language": "python",
   "name": "python3"
  },
  "language_info": {
   "codemirror_mode": {
    "name": "ipython",
    "version": 3
   },
   "file_extension": ".py",
   "mimetype": "text/x-python",
   "name": "python",
   "nbconvert_exporter": "python",
   "pygments_lexer": "ipython3",
   "version": "3.9.12"
  },
  "vscode": {
   "interpreter": {
    "hash": "e3ada8b426290dd76767ba6368ea690ca67a7a436b12c3cf567e5cb72f89ca03"
   }
  }
 },
 "nbformat": 4,
 "nbformat_minor": 2
}
