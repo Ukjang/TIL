{
 "cells": [
  {
   "cell_type": "code",
   "execution_count": 11,
   "metadata": {},
   "outputs": [],
   "source": [
    "board = [[0,0,0,0,0],[0,0,1,0,3],[0,2,5,0,1],[4,2,4,4,2],[3,5,1,3,1]]\n",
    "moves = [1,5,3,5,1,2,1,4]"
   ]
  },
  {
   "cell_type": "code",
   "execution_count": 12,
   "metadata": {},
   "outputs": [
    {
     "name": "stdout",
     "output_type": "stream",
     "text": [
      "deque([4, 3]) 3 4\n",
      "deque([4, 3, 1]) 1 3\n",
      "deque([4, 3, 1, 1]) 1 1\n",
      "deque([4, 3, 3]) 3 3\n",
      "deque([4, 2]) 2 4\n",
      "deque([4, 2]) 2 4\n",
      "deque([4, 2, 4]) 4 2\n"
     ]
    },
    {
     "data": {
      "text/plain": [
       "4"
      ]
     },
     "execution_count": 12,
     "metadata": {},
     "output_type": "execute_result"
    }
   ],
   "source": [
    "answer = 0\n",
    "from collections import deque\n",
    "result_list = deque([])\n",
    "for move in moves :\n",
    "    idx = move - 1\n",
    "    for bd in board:\n",
    "        if bd[idx] != 0 :\n",
    "            result_list.append(bd[idx])\n",
    "            bd[idx] = 0\n",
    "            # print(result_list, bd, idx)\n",
    "            break\n",
    "    if len(result_list) >= 2:\n",
    "        print(result_list, result_list[-1], result_list[-2])\n",
    "        if result_list[-1] == result_list[-2] :\n",
    "            result_list.pop()\n",
    "            result_list.pop()\n",
    "            answer += 1\n",
    "answer * 2"
   ]
  },
  {
   "cell_type": "code",
   "execution_count": 3,
   "metadata": {},
   "outputs": [
    {
     "data": {
      "text/plain": [
       "deque([1, 2])"
      ]
     },
     "execution_count": 3,
     "metadata": {},
     "output_type": "execute_result"
    }
   ],
   "source": [
    "list1 = deque([1, 2, 3])\n",
    "list1.pop()\n",
    "list1"
   ]
  }
 ],
 "metadata": {
  "kernelspec": {
   "display_name": "Python 3.8.10 64-bit (microsoft store)",
   "language": "python",
   "name": "python3"
  },
  "language_info": {
   "codemirror_mode": {
    "name": "ipython",
    "version": 3
   },
   "file_extension": ".py",
   "mimetype": "text/x-python",
   "name": "python",
   "nbconvert_exporter": "python",
   "pygments_lexer": "ipython3",
   "version": "3.8.10"
  },
  "orig_nbformat": 4,
  "vscode": {
   "interpreter": {
    "hash": "e3ada8b426290dd76767ba6368ea690ca67a7a436b12c3cf567e5cb72f89ca03"
   }
  }
 },
 "nbformat": 4,
 "nbformat_minor": 2
}
