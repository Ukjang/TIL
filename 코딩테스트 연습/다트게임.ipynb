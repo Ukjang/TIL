{
 "cells": [
  {
   "cell_type": "code",
   "execution_count": 18,
   "metadata": {},
   "outputs": [],
   "source": [
    "dartResult = '1S2D*3T'\n",
    "answer = 37"
   ]
  },
  {
   "cell_type": "code",
   "execution_count": 9,
   "metadata": {},
   "outputs": [],
   "source": [
    "dartResult = '1D2S#10S'\t"
   ]
  },
  {
   "cell_type": "code",
   "execution_count": 19,
   "metadata": {},
   "outputs": [
    {
     "name": "stdout",
     "output_type": "stream",
     "text": [
      "0 0\n",
      "0 1\n",
      "1 0\n",
      "1 4\n",
      "1 8\n",
      "2 0\n",
      "2 27\n",
      "2 8 27\n"
     ]
    },
    {
     "data": {
      "text/plain": [
       "37"
      ]
     },
     "execution_count": 19,
     "metadata": {},
     "output_type": "execute_result"
    }
   ],
   "source": [
    "answer = 0\n",
    "# 다트는 총 세번의 기회. 3개 나눠서 나중에 합산\n",
    "ch_0 = 0\n",
    "ch_1 = 0\n",
    "ch_2 = 0\n",
    "# 싱글 더블 트리블은 제곱\n",
    "ch = -1\n",
    "temp = ''\n",
    "for dart in dartResult:\n",
    "    # 셋중 하나 나오는걸로 차시 구분\n",
    "    if dart in ['S', 'D', 'T']:\n",
    "        if dart == 'S':\n",
    "            globals()[f'ch_{ch}'] = int(temp) ** 1\n",
    "        elif dart == 'D':\n",
    "            globals()[f'ch_{ch}']  = int(temp) ** 2\n",
    "        elif dart == 'T':\n",
    "            globals()[f'ch_{ch}']  = int(temp) ** 3\n",
    "        temp = ''\n",
    "# 스타상인 이번 + 직전 점수 두배\n",
    "    elif dart == '*' :\n",
    "        if ch != 0:\n",
    "            globals()[f'ch_{ch}'] = globals()[f'ch_{ch}'] * 2\n",
    "            globals()[f'ch_{ch-1}'] = globals()[f'ch_{ch-1}'] * 2\n",
    "        else :\n",
    "            globals()[f'ch_{ch}'] = globals()[f'ch_{ch}'] * 2\n",
    "            # 아차상은 -점수\n",
    "    elif dart == '#' :\n",
    "        globals()[f'ch_{ch}'] = globals()[f'ch_{ch}'] * (-1)\n",
    "    else : \n",
    "        if temp == '':\n",
    "            ch += 1\n",
    "        temp += dart\n",
    "        \n",
    "    \n",
    "    print(ch, globals()[f'ch_{ch}'])\n",
    "print(ch_0, ch_1, ch_2)    \n",
    "answer = ch_0 + ch_1 + ch_2\n",
    "answer"
   ]
  },
  {
   "cell_type": "code",
   "execution_count": null,
   "metadata": {},
   "outputs": [],
   "source": []
  }
 ],
 "metadata": {
  "kernelspec": {
   "display_name": "Python 3.8.10 64-bit (microsoft store)",
   "language": "python",
   "name": "python3"
  },
  "language_info": {
   "codemirror_mode": {
    "name": "ipython",
    "version": 3
   },
   "file_extension": ".py",
   "mimetype": "text/x-python",
   "name": "python",
   "nbconvert_exporter": "python",
   "pygments_lexer": "ipython3",
   "version": "3.8.10"
  },
  "orig_nbformat": 4,
  "vscode": {
   "interpreter": {
    "hash": "e3ada8b426290dd76767ba6368ea690ca67a7a436b12c3cf567e5cb72f89ca03"
   }
  }
 },
 "nbformat": 4,
 "nbformat_minor": 2
}
