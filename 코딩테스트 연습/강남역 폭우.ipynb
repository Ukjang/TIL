{
 "cells": [
  {
   "cell_type": "markdown",
   "metadata": {},
   "source": [
    "실습과제\n",
    "강남역에 엄청난 폭우가 쏟아진다고 가정합시다. 정말 재난 영화에서나 나올 법한 양의 비가 내려서, 고층 건물이 비에 잠길 정도입니다.\n",
    "\n",
    "그렇게 되었을 때, 건물과 건물 사이에 얼마큼의 빗물이 담길 수 있는지 알고 싶은데요. 그것을 계산해 주는 함수 trapping_rain을 작성해 보려고 합니다.\n",
    "\n",
    "함수 trapping_rain은 건물 높이 정보를 보관하는 리스트 buildings를 파라미터로 받고, 담기는 빗물의 총량을 리턴해 줍니다.\n",
    "\n",
    "예를 들어서 파라미터 buildings로 [3, 0, 0, 2, 0, 4]가 들어왔다고 합시다. 그러면 0번 인덱스에 높이 33의 건물이, 3번 인덱스에 높이 22의 건물이, 5번 인덱스에 높이 44의 건물이 있다는 뜻입니다. 1번, 2번, 4번 인덱스에는 건물이 없습니다.\n",
    "\n",
    "그러면 아래의 사진에 따라 총 1010 만큼의 빗물이 담길 수 있습니다. 따라서 trapping_rain 함수는 10을 리턴하는 거죠.\n",
    "\n",
    "\n",
    "\n",
    "이번에는 파라미터 buildings로 [0, 1, 0, 2, 1, 0, 1, 3, 2, 1, 2, 1]가 들어왔다고 합시다. 그러면 아래의 사진에 따라 총 66 만큼의 빗물이 담길 수 있습니다. 따라서 trapping_rain 함수는 6을 리턴하는 거죠\n",
    "\n",
    "\n",
    "\n",
    "이 정보를 기반으로, trapping_rain 함수를 작성해 보세요!"
   ]
  },
  {
   "cell_type": "code",
   "execution_count": 16,
   "metadata": {},
   "outputs": [],
   "source": [
    "def trapping_rain(buildings):\n",
    "    answer = 0\n",
    "    temp = -1\n",
    "    temp_idx = 0\n",
    "    m_rain = 0\n",
    "    for b_nm in range(len(buildings)) :\n",
    "        # 빌딩 높이보다 작은 양은 빌딩의 빗물 차지 량. 나중에 -\n",
    "        if buildings[b_nm] < temp :\n",
    "            m_rain += buildings[b_nm]\n",
    "        else :\n",
    "            if temp == -1 :\n",
    "                temp = buildings[b_nm]\n",
    "                temp_idx = b_nm\n",
    "            else :\n",
    "                answer += (b_nm - temp_idx - 1) * min(temp, buildings[b_nm] ) - m_rain\n",
    "                temp_idx = 0\n",
    "        print(buildings[b_nm], temp, temp_idx, answer)\n",
    "    return answer"
   ]
  },
  {
   "cell_type": "code",
   "execution_count": 22,
   "metadata": {},
   "outputs": [
    {
     "name": "stdout",
     "output_type": "stream",
     "text": [
      "0 -1 0 1\n",
      "1 1 1 1\n",
      "0 1 1 1\n",
      "2 1 0 2\n",
      "1 1 0 5\n",
      "0 1 0 5\n",
      "1 1 0 10\n",
      "3 1 0 16\n",
      "2 1 0 23\n",
      "1 1 0 31\n",
      "2 1 0 40\n",
      "1 1 0 50\n"
     ]
    },
    {
     "data": {
      "text/plain": [
       "50"
      ]
     },
     "execution_count": 22,
     "metadata": {},
     "output_type": "execute_result"
    }
   ],
   "source": [
    "answer = 0\n",
    "temp = -1\n",
    "temp_idx = 0\n",
    "m_rain = 0\n",
    "buildings = [0, 1, 0, 2, 1, 0, 1, 3, 2, 1, 2, 1]\n",
    "for b_nm in range(len(buildings)) :\n",
    "    # 빌딩 높이보다 작은 양은 빌딩의 빗물 차지 량. 나중에 -\n",
    "    if not buildings[b_nm] :\n",
    "        m_rain += buildings[b_nm]\n",
    "    else :\n",
    "        if temp == -1 and buildings[b_nm] != 0:\n",
    "            temp = buildings[b_nm]\n",
    "            temp_idx = b_nm\n",
    "        elif :\n",
    "            answer += (b_nm - temp_idx - 1) * min(temp, buildings[b_nm] ) - m_rain\n",
    "            temp_idx = 0\n",
    "            m_rain = 0\n",
    "    print(buildings[b_nm], temp, temp_idx, answer)\n",
    "answer"
   ]
  },
  {
   "cell_type": "code",
   "execution_count": 32,
   "metadata": {},
   "outputs": [
    {
     "name": "stdout",
     "output_type": "stream",
     "text": [
      "0 0 0 2001 100\n",
      "1 1 1 1 100\n",
      "2 0 1 1 100\n",
      "3 2 1 1 102\n",
      "4 1 1 1 105\n",
      "5 0 1 1 105\n",
      "6 1 1 1 110\n",
      "7 3 1 1 116\n",
      "8 2 1 1 123\n",
      "9 1 1 1 131\n",
      "10 2 1 1 140\n",
      "11 1 1 1 150\n"
     ]
    },
    {
     "data": {
      "text/plain": [
       "150"
      ]
     },
     "execution_count": 32,
     "metadata": {},
     "output_type": "execute_result"
    }
   ],
   "source": [
    "# 첫번째 값 입력식\n",
    "# 입력값보다 크거나 같으면 빗물양 계산 작으면 더해서 나중에 빼줌\n",
    "buildings = [0, 1, 0, 2, 1, 0, 1, 3, 2, 1, 2, 1]\n",
    "temp_n = 2001\n",
    "temp = 0\n",
    "m_rain = 0\n",
    "f_value = True\n",
    "for b_nm in range(len(buildings)) :\n",
    "    # 첫번째 값 입력식\n",
    "    if f_value and buildings[b_nm]:\n",
    "        \n",
    "    else :\n",
    "        # 입력값보다 크거나 같으면 계산 후 빗물양 빼줌\n",
    "        if temp <= buildings[b_nm] :\n",
    "            answer += (b_nm - temp_idx - 1) * min(temp, buildings[b_nm] ) - m_rain\n",
    "        # 빌등부피 계산\n",
    "        else :\n",
    "            m_rain += buildings[b_nm]\n",
    "\n",
    "    print(b_nm, buildings[b_nm], temp, temp_n, answer)\n",
    "answer"
   ]
  },
  {
   "cell_type": "code",
   "execution_count": null,
   "metadata": {},
   "outputs": [],
   "source": [
    "# 첫번째 값 입력식\n",
    "# 입력값이 있으면 크거나 같으면 빗물양 계산 작으면 더해서 나중에 빼줌\n",
    "# 입력값이 없으면 작거나 같으면 \n",
    "buildings = [0, 1, 0, 2, 1, 0, 1, 3, 2, 1, 2, 1]\n",
    "m_rain = 0\n",
    "f_value = True\n",
    "for b_nm in range(len(buildings)) :\n",
    "    # 첫번째 값 입력식\n",
    "    if f_value and buildings[b_nm]:\n",
    "        temp = buildings[b_nm]\n",
    "        temp_idx = b_nm\n",
    "        f_value = False\n",
    "    else :\n",
    "        # 입력값보다 크거나 같으면 계산 후 빗물양 빼줌\n",
    "        if temp <= buildings[b_nm] :\n",
    "            answer += (b_nm - temp_idx - 1) * min(temp, buildings[b_nm] ) - m_rain\n",
    "        # 빌등부피 계산\n",
    "        else :\n",
    "            m_rain += buildings[b_nm]\n",
    "    print(b_nm, buildings[b_nm], temp, temp_n, answer)\n",
    "answer"
   ]
  },
  {
   "cell_type": "code",
   "execution_count": 23,
   "metadata": {},
   "outputs": [
    {
     "name": "stdout",
     "output_type": "stream",
     "text": [
      "2\n"
     ]
    }
   ],
   "source": [
    "if 0 :\n",
    "    print(1)\n",
    "else :\n",
    "    print(2)"
   ]
  },
  {
   "cell_type": "code",
   "execution_count": 17,
   "metadata": {},
   "outputs": [
    {
     "name": "stdout",
     "output_type": "stream",
     "text": [
      "3 3 0 0\n",
      "0 3 0 0\n",
      "0 3 0 0\n",
      "2 3 0 0\n",
      "0 3 0 0\n",
      "4 3 0 10\n",
      "10\n",
      "0 0 0 0\n",
      "1 0 0 0\n",
      "0 0 0 0\n",
      "2 0 0 0\n",
      "1 0 0 0\n",
      "0 0 0 0\n",
      "1 0 0 0\n",
      "3 0 0 0\n",
      "2 0 0 0\n",
      "1 0 0 0\n",
      "2 0 0 0\n",
      "1 0 0 0\n",
      "0\n"
     ]
    }
   ],
   "source": [
    "#예시\n",
    "# 테스트\n",
    "print(trapping_rain([3, 0, 0, 2, 0, 4]))\n",
    "print(trapping_rain([0, 1, 0, 2, 1, 0, 1, 3, 2, 1, 2, 1]))\n",
    "#10\n",
    "#6"
   ]
  },
  {
   "cell_type": "code",
   "execution_count": 2,
   "metadata": {},
   "outputs": [
    {
     "data": {
      "text/plain": [
       "[1, 2, 6, 4, 5, 3]"
      ]
     },
     "execution_count": 2,
     "metadata": {},
     "output_type": "execute_result"
    }
   ],
   "source": [
    "def swap_lements(my_list, index1, index2):\n",
    "    temp_1 = my_list[index1]\n",
    "    temp_2 = my_list[index2]\n",
    "    my_list[index1] = temp_2\n",
    "    my_list[index2] = temp_1\n",
    "    return my_list\n",
    "list1 = [1, 2, 3, 4, 5, 6]\n",
    "swap_lements(list1, 2, 5)"
   ]
  }
 ],
 "metadata": {
  "kernelspec": {
   "display_name": "Python 3.8.10 64-bit (microsoft store)",
   "language": "python",
   "name": "python3"
  },
  "language_info": {
   "codemirror_mode": {
    "name": "ipython",
    "version": 3
   },
   "file_extension": ".py",
   "mimetype": "text/x-python",
   "name": "python",
   "nbconvert_exporter": "python",
   "pygments_lexer": "ipython3",
   "version": "3.8.10"
  },
  "orig_nbformat": 4,
  "vscode": {
   "interpreter": {
    "hash": "e3ada8b426290dd76767ba6368ea690ca67a7a436b12c3cf567e5cb72f89ca03"
   }
  }
 },
 "nbformat": 4,
 "nbformat_minor": 2
}
