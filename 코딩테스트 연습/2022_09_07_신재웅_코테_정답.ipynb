{
 "cells": [
  {
   "cell_type": "code",
   "execution_count": null,
   "metadata": {},
   "outputs": [],
   "source": [
    "# Lv.1 폰켓몬\n",
    "def solution(nums):\n",
    "    answer = 0\n",
    "    if len(set(nums)) <= ( len(nums) / 2) :\n",
    "        answer = len(set(nums))\n",
    "    else :\n",
    "        answer = (len(nums) / 2)\n",
    "    \n",
    "    return answer"
   ]
  },
  {
   "cell_type": "code",
   "execution_count": null,
   "metadata": {},
   "outputs": [],
   "source": [
    "#Lv.1 직사각형 별찍기\n",
    "a, b = map(int, input().strip().split(' '))\n",
    "for height in range(b):\n",
    "        print('*' * a)"
   ]
  },
  {
   "cell_type": "code",
   "execution_count": null,
   "metadata": {},
   "outputs": [],
   "source": [
    "#Lv.2 오픈채팅방\n",
    "def solution(record):\n",
    "    answer = []\n",
    "\n",
    "    # 마지막 이름을 받은 것이 전체적으로 표시되도록 구성 -> 딕트 짜서 값 바꿔주기\n",
    "    # 마지막에 들어오고 나간거에 따라서 표시\n",
    "    nickname = {}\n",
    "    # 레코드에서 하나씩 받아서 빈칸 기준 split\n",
    "    for rec in record:\n",
    "        rec_list = rec.split(' ')\n",
    "    # 마지막 이름을 받은 것이 전체적으로 표시되도록 구성 -> 딕트 짜서 값 바꿔주기\n",
    "    # 들어오고 체인지 구분\n",
    "        if rec_list[0] == 'Enter':\n",
    "            nickname[rec_list[1]] = rec_list[2]\n",
    "        elif rec_list[0] == 'Change':\n",
    "            nickname[rec_list[1]] = rec_list[2]\n",
    "    for rec in record:\n",
    "        rec_list = rec.split(' ')\n",
    "        if rec_list[0] == 'Enter':\n",
    "            answer.append(f'{nickname[rec_list[1]]}님이 들어왔습니다.')\n",
    "        elif rec_list[0] == 'Leave':\n",
    "            answer.append(f'{nickname[rec_list[1]]}님이 나갔습니다.')\n",
    "    answer\n",
    "    return answer"
   ]
  },
  {
   "cell_type": "code",
   "execution_count": null,
   "metadata": {},
   "outputs": [],
   "source": [
    "#Lv.1 숫자 문자열과 영단어\n",
    "def solution(s):\n",
    "    answer = ''\n",
    "    nm_dict = {\n",
    "        'zero' : '0',\n",
    "        'one' : '1',\n",
    "        'two' : '2',\n",
    "        'three' : '3',\n",
    "        'four' : '4',\n",
    "        'five' : '5',\n",
    "        'six' : '6',\n",
    "        'seven' : '7',\n",
    "        'eight' : '8',\n",
    "        'nine' : '9'\n",
    "    }\n",
    "    str_tmp = ''\n",
    "    for number in list(s) :\n",
    "        # 정수 발견하면 딕트에서 값 찾고 정수 더 해줌\n",
    "        try :\n",
    "            tr_nm = int(number)\n",
    "            # 처음에 숫자오는 경우 검증\n",
    "            if str_tmp != '' :\n",
    "                answer += nm_dict[str_tmp]\n",
    "                str_tmp = ''\n",
    "            answer += number\n",
    "        except :\n",
    "            str_tmp += number\n",
    "        # 문자 추가후에 문자로 숫자 완성되는 경우 검증\n",
    "        if str_tmp in list(nm_dict.keys()):\n",
    "            answer += nm_dict[str_tmp]\n",
    "            str_tmp = ''\n",
    "    return int(answer)"
   ]
  }
 ],
 "metadata": {
  "kernelspec": {
   "display_name": "Python 3.8.10 64-bit (microsoft store)",
   "language": "python",
   "name": "python3"
  },
  "language_info": {
   "name": "python",
   "version": "3.8.10"
  },
  "orig_nbformat": 4,
  "vscode": {
   "interpreter": {
    "hash": "e3ada8b426290dd76767ba6368ea690ca67a7a436b12c3cf567e5cb72f89ca03"
   }
  }
 },
 "nbformat": 4,
 "nbformat_minor": 2
}
