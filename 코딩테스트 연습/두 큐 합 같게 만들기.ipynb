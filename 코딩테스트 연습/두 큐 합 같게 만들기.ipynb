{
 "cells": [
  {
   "cell_type": "code",
   "execution_count": 37,
   "metadata": {},
   "outputs": [
    {
     "data": {
      "text/plain": [
       "30"
      ]
     },
     "execution_count": 37,
     "metadata": {},
     "output_type": "execute_result"
    }
   ],
   "source": [
    "queue1 = [3, 2, 7, 2]\n",
    "queue2 = [4, 6, 5, 1]\n",
    "q1 = sum(queue1) \n",
    "q2 = sum(queue2)\n",
    "total = q1 + q2\n",
    "total \n"
   ]
  },
  {
   "cell_type": "code",
   "execution_count": 22,
   "metadata": {},
   "outputs": [
    {
     "data": {
      "text/plain": [
       "1.0"
      ]
     },
     "execution_count": 22,
     "metadata": {},
     "output_type": "execute_result"
    }
   ],
   "source": [
    "abs1 = abs(total/2 - q1)\n",
    "abs1"
   ]
  },
  {
   "cell_type": "code",
   "execution_count": 23,
   "metadata": {},
   "outputs": [
    {
     "name": "stdout",
     "output_type": "stream",
     "text": [
      "1\n"
     ]
    },
    {
     "data": {
      "text/plain": [
       "2"
      ]
     },
     "execution_count": 23,
     "metadata": {},
     "output_type": "execute_result"
    }
   ],
   "source": [
    "for queue in queue1:\n",
    "    if queue2.count(queue + abs1) != 0:\n",
    "        print(queue2.count(queue + abs1))\n",
    "        answer = 2\n",
    "        break\n",
    "answer"
   ]
  },
  {
   "cell_type": "code",
   "execution_count": 34,
   "metadata": {},
   "outputs": [
    {
     "data": {
      "text/plain": [
       "4.0"
      ]
     },
     "execution_count": 34,
     "metadata": {},
     "output_type": "execute_result"
    }
   ],
   "source": [
    "queue1 = [1, 2, 1, 2]\n",
    "queue2 = [1, 10, 1, 2]\n",
    "q1 = sum(queue1) \n",
    "q2 = sum(queue2)\n",
    "total = q1 + q2\n",
    "abs1 = abs(total/2 - q1)\n",
    "abs1"
   ]
  },
  {
   "cell_type": "code",
   "execution_count": 35,
   "metadata": {},
   "outputs": [
    {
     "data": {
      "text/plain": [
       "10.0"
      ]
     },
     "execution_count": 35,
     "metadata": {},
     "output_type": "execute_result"
    }
   ],
   "source": [
    "total_half"
   ]
  },
  {
   "cell_type": "code",
   "execution_count": 40,
   "metadata": {},
   "outputs": [
    {
     "name": "stdout",
     "output_type": "stream",
     "text": [
      "1 1 15\n",
      "1 2 21\n",
      "1 3 26\n",
      "1 4 27\n",
      "2 1 13\n",
      "2 2 19\n",
      "2 3 24\n",
      "2 4 25\n",
      "3 1 6\n",
      "3 2 12\n",
      "3 3 17\n",
      "3 4 18\n",
      "4 1 4\n",
      "4 2 10\n",
      "4 3 15\n",
      "4 4 16\n"
     ]
    },
    {
     "data": {
      "text/plain": [
       "2"
      ]
     },
     "execution_count": 40,
     "metadata": {},
     "output_type": "execute_result"
    }
   ],
   "source": [
    "from collections import deque\n",
    "answer_list = []\n",
    "total_half = (sum(queue1) + sum(queue2) )/ 2\n",
    "q1_de = deque(queue1)\n",
    "q2_de = deque(queue2)\n",
    "for q1 in range(1, len(queue1)+1):\n",
    "    for q2 in range(1, len(queue2)+1):\n",
    "        q1_de_an = q1_de.copy()\n",
    "        q2_de_an = q2_de.copy()\n",
    "        for _ in range(q1):\n",
    "            q1_pop = q1_de_an.popleft()\n",
    "            q2_de_an.append(q1_pop)\n",
    "        for _ in range(q2):\n",
    "            q2_pop = q2_de_an.popleft()\n",
    "            q1_de_an.append(q2_pop)\n",
    "        if sum(q1_de_an) == total_half:\n",
    "            answer_list.append(q1+q2)\n",
    "        print(q1, q2, sum(q1_de_an))\n",
    "answer = min(answer_list)\n",
    "answer\n"
   ]
  },
  {
   "cell_type": "code",
   "execution_count": 36,
   "metadata": {},
   "outputs": [
    {
     "name": "stdout",
     "output_type": "stream",
     "text": [
      "1 1 6\n",
      "1 2 16\n",
      "1 3 17\n",
      "1 4 19\n",
      "2 1 4\n",
      "2 2 14\n",
      "2 3 15\n",
      "2 4 17\n",
      "3 1 3\n",
      "3 2 13\n",
      "3 3 14\n",
      "3 4 16\n",
      "4 1 1\n",
      "4 2 11\n",
      "4 3 12\n",
      "4 4 14\n"
     ]
    },
    {
     "data": {
      "text/plain": [
       "[]"
      ]
     },
     "execution_count": 36,
     "metadata": {},
     "output_type": "execute_result"
    }
   ],
   "source": [
    "from collections import deque\n",
    "answer_list = []\n",
    "total_half = (sum(queue1) + sum(queue2) )/ 2\n",
    "q1_de = deque(queue1)\n",
    "q2_de = deque(queue2)\n",
    "for q1 in range(1, len(queue1)+1):\n",
    "    for q2 in range(1, len(queue2)+1):\n",
    "        q1_de_an = q1_de.copy()\n",
    "        q2_de_an = q2_de.copy()\n",
    "        for _ in range(q1):\n",
    "            q1_pop = q1_de_an.popleft()\n",
    "            q2_de_an.append(q1_pop)\n",
    "        for _ in range(q2):\n",
    "            q2_pop = q2_de_an.popleft()\n",
    "            q1_de_an.append(q2_pop)\n",
    "        if sum(q1_de_an) == total_half:\n",
    "            answer_list.append(q1+q2)\n",
    "        print(q1, q2, sum(q1_de_an))\n",
    "answer_list\n"
   ]
  },
  {
   "cell_type": "code",
   "execution_count": 27,
   "metadata": {},
   "outputs": [
    {
     "ename": "TypeError",
     "evalue": "'int' object is not iterable",
     "output_type": "error",
     "traceback": [
      "\u001b[1;31m---------------------------------------------------------------------------\u001b[0m",
      "\u001b[1;31mTypeError\u001b[0m                                 Traceback (most recent call last)",
      "\u001b[1;32mc:\\Users\\Admin\\TIL\\코딩테스트 연습\\두 큐 합 같게 만들기.ipynb 셀 6\u001b[0m in \u001b[0;36m<cell line: 3>\u001b[1;34m()\u001b[0m\n\u001b[0;32m      <a href='vscode-notebook-cell:/c%3A/Users/Admin/TIL/%EC%BD%94%EB%94%A9%ED%85%8C%EC%8A%A4%ED%8A%B8%20%EC%97%B0%EC%8A%B5/%EB%91%90%20%ED%81%90%20%ED%95%A9%20%EA%B0%99%EA%B2%8C%20%EB%A7%8C%EB%93%A4%EA%B8%B0.ipynb#X13sZmlsZQ%3D%3D?line=0'>1</a>\u001b[0m de1 \u001b[39m=\u001b[39m deque([\u001b[39m1\u001b[39m,\u001b[39m2\u001b[39m, \u001b[39m3\u001b[39m])\n\u001b[0;32m      <a href='vscode-notebook-cell:/c%3A/Users/Admin/TIL/%EC%BD%94%EB%94%A9%ED%85%8C%EC%8A%A4%ED%8A%B8%20%EC%97%B0%EC%8A%B5/%EB%91%90%20%ED%81%90%20%ED%95%A9%20%EA%B0%99%EA%B2%8C%20%EB%A7%8C%EB%93%A4%EA%B8%B0.ipynb#X13sZmlsZQ%3D%3D?line=1'>2</a>\u001b[0m de1\n\u001b[1;32m----> <a href='vscode-notebook-cell:/c%3A/Users/Admin/TIL/%EC%BD%94%EB%94%A9%ED%85%8C%EC%8A%A4%ED%8A%B8%20%EC%97%B0%EC%8A%B5/%EB%91%90%20%ED%81%90%20%ED%95%A9%20%EA%B0%99%EA%B2%8C%20%EB%A7%8C%EB%93%A4%EA%B8%B0.ipynb#X13sZmlsZQ%3D%3D?line=2'>3</a>\u001b[0m de1\u001b[39m.\u001b[39;49mextend(\u001b[39mint\u001b[39;49m(\u001b[39m2\u001b[39;49m))\n\u001b[0;32m      <a href='vscode-notebook-cell:/c%3A/Users/Admin/TIL/%EC%BD%94%EB%94%A9%ED%85%8C%EC%8A%A4%ED%8A%B8%20%EC%97%B0%EC%8A%B5/%EB%91%90%20%ED%81%90%20%ED%95%A9%20%EA%B0%99%EA%B2%8C%20%EB%A7%8C%EB%93%A4%EA%B8%B0.ipynb#X13sZmlsZQ%3D%3D?line=3'>4</a>\u001b[0m de1\n",
      "\u001b[1;31mTypeError\u001b[0m: 'int' object is not iterable"
     ]
    }
   ],
   "source": [
    "de1 = deque([1,2, 3])\n",
    "de1\n",
    "de1.extend(int(2))\n",
    "de1"
   ]
  },
  {
   "cell_type": "code",
   "execution_count": 13,
   "metadata": {},
   "outputs": [
    {
     "data": {
      "text/plain": [
       "1"
      ]
     },
     "execution_count": 13,
     "metadata": {},
     "output_type": "execute_result"
    }
   ],
   "source": [
    "q1_pop"
   ]
  },
  {
   "cell_type": "code",
   "execution_count": 31,
   "metadata": {},
   "outputs": [
    {
     "data": {
      "text/plain": [
       "(deque([1, 10, 1, 2]), deque([1, 2, 1, 2]))"
      ]
     },
     "execution_count": 31,
     "metadata": {},
     "output_type": "execute_result"
    }
   ],
   "source": [
    "q1_de_an, q2_de_an"
   ]
  },
  {
   "cell_type": "code",
   "execution_count": 27,
   "metadata": {},
   "outputs": [
    {
     "data": {
      "text/plain": [
       "-1"
      ]
     },
     "execution_count": 27,
     "metadata": {},
     "output_type": "execute_result"
    }
   ],
   "source": []
  },
  {
   "cell_type": "code",
   "execution_count": 30,
   "metadata": {},
   "outputs": [],
   "source": [
    "from collections import deque\n",
    "q1_de = deque(queue1)"
   ]
  },
  {
   "cell_type": "code",
   "execution_count": 38,
   "metadata": {},
   "outputs": [
    {
     "ename": "IndexError",
     "evalue": "pop from an empty deque",
     "output_type": "error",
     "traceback": [
      "\u001b[1;31m---------------------------------------------------------------------------\u001b[0m",
      "\u001b[1;31mIndexError\u001b[0m                                Traceback (most recent call last)",
      "\u001b[1;32mc:\\Users\\Admin\\TIL\\코딩테스트 연습\\두 큐 합 같게 만들기.ipynb 셀 8\u001b[0m in \u001b[0;36m<cell line: 1>\u001b[1;34m()\u001b[0m\n\u001b[1;32m----> <a href='vscode-notebook-cell:/c%3A/Users/Admin/TIL/%EC%BD%94%EB%94%A9%ED%85%8C%EC%8A%A4%ED%8A%B8%20%EC%97%B0%EC%8A%B5/%EB%91%90%20%ED%81%90%20%ED%95%A9%20%EA%B0%99%EA%B2%8C%20%EB%A7%8C%EB%93%A4%EA%B8%B0.ipynb#X10sZmlsZQ%3D%3D?line=0'>1</a>\u001b[0m q1_de\u001b[39m.\u001b[39;49mpopleft()\n",
      "\u001b[1;31mIndexError\u001b[0m: pop from an empty deque"
     ]
    }
   ],
   "source": [
    "q1_de.popleft()"
   ]
  }
 ],
 "metadata": {
  "kernelspec": {
   "display_name": "Python 3.8.10 64-bit (microsoft store)",
   "language": "python",
   "name": "python3"
  },
  "language_info": {
   "codemirror_mode": {
    "name": "ipython",
    "version": 3
   },
   "file_extension": ".py",
   "mimetype": "text/x-python",
   "name": "python",
   "nbconvert_exporter": "python",
   "pygments_lexer": "ipython3",
   "version": "3.8.10"
  },
  "orig_nbformat": 4,
  "vscode": {
   "interpreter": {
    "hash": "e3ada8b426290dd76767ba6368ea690ca67a7a436b12c3cf567e5cb72f89ca03"
   }
  }
 },
 "nbformat": 4,
 "nbformat_minor": 2
}
