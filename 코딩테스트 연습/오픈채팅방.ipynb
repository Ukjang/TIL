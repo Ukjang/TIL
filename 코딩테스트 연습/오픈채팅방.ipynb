{
 "cells": [
  {
   "cell_type": "code",
   "execution_count": 2,
   "metadata": {},
   "outputs": [],
   "source": [
    "record = [\"Enter uid1234 Muzi\", \"Enter uid4567 Prodo\",\"Leave uid1234\",\"Enter uid1234 Prodo\",\"Change uid4567 Ryan\"]\n",
    "result = [\"Prodo님이 들어왔습니다.\", \"Ryan님이 들어왔습니다.\", \"Prodo님이 나갔습니다.\", \"Prodo님이 들어왔습니다.\"]"
   ]
  },
  {
   "cell_type": "code",
   "execution_count": 12,
   "metadata": {},
   "outputs": [
    {
     "data": {
      "text/plain": [
       "['Prodo님이 들어왔습니다.', 'Ryan님이 들어왔습니다.', 'Prodo님이 나갔습니다.', 'Prodo님이 들어왔습니다.']"
      ]
     },
     "execution_count": 12,
     "metadata": {},
     "output_type": "execute_result"
    }
   ],
   "source": [
    "answer = []\n",
    "\n",
    "# 마지막 이름을 받은 것이 전체적으로 표시되도록 구성 -> 딕트 짜서 값 바꿔주기\n",
    "# 마지막에 들어오고 나간거에 따라서 표시\n",
    "nickname = {}\n",
    "# 레코드에서 하나씩 받아서 빈칸 기준 split\n",
    "for rec in record:\n",
    "    rec_list = rec.split(' ')\n",
    "# 마지막 이름을 받은 것이 전체적으로 표시되도록 구성 -> 딕트 짜서 값 바꿔주기\n",
    "# 들어오고 체인지 구분\n",
    "    if rec_list[0] == 'Enter':\n",
    "        nickname[rec_list[1]] = rec_list[2]\n",
    "    elif rec_list[0] == 'Change':\n",
    "        nickname[rec_list[1]] = rec_list[2]\n",
    "for rec in record:\n",
    "    rec_list = rec.split(' ')\n",
    "    if rec_list[0] == 'Enter':\n",
    "        answer.append(f'{nickname[rec_list[1]]}님이 들어왔습니다.')\n",
    "    elif rec_list[0] == 'Leave':\n",
    "        answer.append(f'{nickname[rec_list[1]]}님이 나갔습니다.')\n",
    "answer"
   ]
  },
  {
   "cell_type": "code",
   "execution_count": 10,
   "metadata": {},
   "outputs": [
    {
     "data": {
      "text/plain": [
       "{'uid1234': 'Prodo', 'uid4567': 'Ryan'}"
      ]
     },
     "execution_count": 10,
     "metadata": {},
     "output_type": "execute_result"
    }
   ],
   "source": [
    "nickname"
   ]
  },
  {
   "cell_type": "code",
   "execution_count": 5,
   "metadata": {},
   "outputs": [
    {
     "data": {
      "text/plain": [
       "['Change', 'uid4567', 'Ryan']"
      ]
     },
     "execution_count": 5,
     "metadata": {},
     "output_type": "execute_result"
    }
   ],
   "source": [
    "rec_list"
   ]
  },
  {
   "cell_type": "code",
   "execution_count": 9,
   "metadata": {},
   "outputs": [
    {
     "data": {
      "text/plain": [
       "True"
      ]
     },
     "execution_count": 9,
     "metadata": {},
     "output_type": "execute_result"
    }
   ],
   "source": [
    "'Enter uid1234 Muzi'.split(' ')[0] == 'Enter'"
   ]
  }
 ],
 "metadata": {
  "kernelspec": {
   "display_name": "Python 3.8.10 64-bit (microsoft store)",
   "language": "python",
   "name": "python3"
  },
  "language_info": {
   "codemirror_mode": {
    "name": "ipython",
    "version": 3
   },
   "file_extension": ".py",
   "mimetype": "text/x-python",
   "name": "python",
   "nbconvert_exporter": "python",
   "pygments_lexer": "ipython3",
   "version": "3.8.10"
  },
  "orig_nbformat": 4,
  "vscode": {
   "interpreter": {
    "hash": "e3ada8b426290dd76767ba6368ea690ca67a7a436b12c3cf567e5cb72f89ca03"
   }
  }
 },
 "nbformat": 4,
 "nbformat_minor": 2
}
