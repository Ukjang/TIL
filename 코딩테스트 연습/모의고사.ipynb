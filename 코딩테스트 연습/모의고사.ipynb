{
 "cells": [
  {
   "cell_type": "code",
   "execution_count": 31,
   "metadata": {},
   "outputs": [
    {
     "name": "stdout",
     "output_type": "stream",
     "text": [
      "[1, 2, 3, 4, 5] 0 1 1\n",
      "[1, 2, 3, 4, 5] 1 3 1\n",
      "[1, 2, 3, 4, 5] 2 2 1\n",
      "[1, 2, 3, 4, 5] 3 4 2\n",
      "[1, 2, 3, 4, 5] 4 2 2\n",
      "[2, 1, 2, 3, 2, 4, 2, 5] 0 1 0\n",
      "[2, 1, 2, 3, 2, 4, 2, 5] 1 3 0\n",
      "[2, 1, 2, 3, 2, 4, 2, 5] 2 2 1\n",
      "[2, 1, 2, 3, 2, 4, 2, 5] 3 4 1\n",
      "[2, 1, 2, 3, 2, 4, 2, 5] 4 2 2\n",
      "[3, 3, 1, 1, 2, 2, 4, 4, 5, 5] 0 1 0\n",
      "[3, 3, 1, 1, 2, 2, 4, 4, 5, 5] 1 3 1\n",
      "[3, 3, 1, 1, 2, 2, 4, 4, 5, 5] 2 2 1\n",
      "[3, 3, 1, 1, 2, 2, 4, 4, 5, 5] 3 4 1\n",
      "[3, 3, 1, 1, 2, 2, 4, 4, 5, 5] 4 2 2\n"
     ]
    },
    {
     "data": {
      "text/plain": [
       "[1, 2, 3]"
      ]
     },
     "execution_count": 31,
     "metadata": {},
     "output_type": "execute_result"
    }
   ],
   "source": [
    "answers =[1,3,2,4,2]\n",
    "answer = []\n",
    "import numpy as np\n",
    "# 패턴\n",
    "m1 = [1, 2, 3, 4, 5]\n",
    "m2 = [2, 1, 2, 3, 2, 4, 2, 5]\n",
    "m3 = [3, 3, 1, 1, 2, 2, 4, 4, 5, 5]\n",
    "player_list = [m1, m2, m3]\n",
    "answer_list = []\n",
    "\n",
    "# 정답검증\n",
    "for player in player_list:\n",
    "    answer_nm = 0\n",
    "    for ans in range(len(answers)):\n",
    "# 나머지가 0일 경우 마지막수 리턴\n",
    "        ans_le = (ans + 1) % len(player)\n",
    "        if  ans_le == 0 :\n",
    "            if player[-1] == answers[ans] :\n",
    "                answer_nm += 1\n",
    "# 각 배수의 나머지 -1 이랑 맞는지 확인\n",
    "        else :\n",
    "            if answers[ans] == player[ans_le-1]:\n",
    "                answer_nm += 1    \n",
    "        print(player, ans, answers[ans], answer_nm)\n",
    "    answer_list.append(answer_nm)\n",
    "if answer_list[0] == answer_list[1] == answer_list[2]:\n",
    "    answer = [1, 2, 3]\n",
    "else :\n",
    "    answer.append(int(np.array(answer_list).argmax()) + 1)\n",
    "answer"
   ]
  },
  {
   "cell_type": "markdown",
   "metadata": {},
   "source": [
    "## 문제 제한조건 뺴먹지 않기!"
   ]
  },
  {
   "cell_type": "code",
   "execution_count": null,
   "metadata": {},
   "outputs": [],
   "source": [
    "def solution(answers):\n",
    "    answer = []\n",
    "    import numpy as np\n",
    "    # 패턴\n",
    "    m1 = [1, 2, 3, 4, 5]\n",
    "    m2 = [2, 1, 2, 3, 2, 4, 2, 5]\n",
    "    m3 = [3, 3, 1, 1, 2, 2, 4, 4, 5, 5]\n",
    "    player_list = [m1, m2, m3]\n",
    "    answer_list = []\n",
    "\n",
    "    # 정답검증\n",
    "    for player in player_list:\n",
    "        answer_nm = 0\n",
    "        for ans in range(len(answers)):\n",
    "        # 배수 검증은 +1 하여 진행 (0부터 시작)\n",
    "        # 나머지가 0일 경우 마지막수 리턴\n",
    "            ans_le = (ans + 1) % len(player)\n",
    "            if  ans_le == 0 :\n",
    "                if player[-1] == answers[ans] :\n",
    "                    answer_nm += 1\n",
    "    # 각 배수의 나머지 -1 이랑 맞는지 확인\n",
    "            else :\n",
    "                if answers[ans] == player[ans_le-1]:\n",
    "                    answer_nm += 1    \n",
    "            # print(player, ans, answers[ans], answer_nm)\n",
    "        answer_list.append(answer_nm)\n",
    "    for nm in range(len(answer_list)) :\n",
    "        if answer_list[nm] == max(answer_list):\n",
    "            answer.append(nm + 1)\n",
    "    # 정렬\n",
    "    answer = sorted(answer)\n",
    "    return answer"
   ]
  },
  {
   "cell_type": "code",
   "execution_count": 34,
   "metadata": {},
   "outputs": [
    {
     "data": {
      "text/plain": [
       "array([2, 2, 2])"
      ]
     },
     "execution_count": 34,
     "metadata": {},
     "output_type": "execute_result"
    }
   ],
   "source": [
    "np.array(answer_list)"
   ]
  },
  {
   "cell_type": "code",
   "execution_count": 10,
   "metadata": {},
   "outputs": [
    {
     "data": {
      "text/plain": [
       "2"
      ]
     },
     "execution_count": 10,
     "metadata": {},
     "output_type": "execute_result"
    }
   ],
   "source": [
    "np.array([1, 3, 4]).argmax()"
   ]
  },
  {
   "cell_type": "code",
   "execution_count": 38,
   "metadata": {},
   "outputs": [
    {
     "data": {
      "text/plain": [
       "0"
      ]
     },
     "execution_count": 38,
     "metadata": {},
     "output_type": "execute_result"
    }
   ],
   "source": [
    "answer_list.index(2)"
   ]
  },
  {
   "cell_type": "code",
   "execution_count": 39,
   "metadata": {},
   "outputs": [
    {
     "data": {
      "text/plain": [
       "2"
      ]
     },
     "execution_count": 39,
     "metadata": {},
     "output_type": "execute_result"
    }
   ],
   "source": [
    "[1, 2, 3].index(3)"
   ]
  },
  {
   "cell_type": "code",
   "execution_count": 40,
   "metadata": {},
   "outputs": [
    {
     "data": {
      "text/plain": [
       "1"
      ]
     },
     "execution_count": 40,
     "metadata": {},
     "output_type": "execute_result"
    }
   ],
   "source": [
    "[\"Jane\", \"Kim\"].index('Kim')"
   ]
  },
  {
   "cell_type": "code",
   "execution_count": null,
   "metadata": {},
   "outputs": [],
   "source": [
    "answer = f'김서방은 {seoul.index('Kim')}에 있다.'"
   ]
  }
 ],
 "metadata": {
  "kernelspec": {
   "display_name": "Python 3.8.10 64-bit (microsoft store)",
   "language": "python",
   "name": "python3"
  },
  "language_info": {
   "codemirror_mode": {
    "name": "ipython",
    "version": 3
   },
   "file_extension": ".py",
   "mimetype": "text/x-python",
   "name": "python",
   "nbconvert_exporter": "python",
   "pygments_lexer": "ipython3",
   "version": "3.8.10"
  },
  "orig_nbformat": 4,
  "vscode": {
   "interpreter": {
    "hash": "e3ada8b426290dd76767ba6368ea690ca67a7a436b12c3cf567e5cb72f89ca03"
   }
  }
 },
 "nbformat": 4,
 "nbformat_minor": 2
}
