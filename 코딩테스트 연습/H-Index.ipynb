{
 "cells": [
  {
   "cell_type": "code",
   "execution_count": 1,
   "metadata": {},
   "outputs": [],
   "source": [
    "citations= [3, 0, 6, 1, 5]\n",
    "answer = 3"
   ]
  },
  {
   "cell_type": "code",
   "execution_count": 2,
   "metadata": {},
   "outputs": [],
   "source": [
    "def solution(citations):\n",
    "    answer_list = []\n",
    "    import numpy as np\n",
    "    for nm in range(0, int(np.max(citations))+1):\n",
    "        nm_up = int(np.sum((list(map(lambda x : int(x) >= nm, citations)))))\n",
    "        nm_down = int(np.sum((list(map(lambda x : int(x) < nm, citations)))))\n",
    "        # print(nm, nm_up, nm_down)\n",
    "        if nm_up >= nm and ((nm_up + nm_down) >= len(citations)):\n",
    "            answer_list.append(nm)\n",
    "    # print(answer_list)\n",
    "    if not answer_list:\n",
    "        answer = 0\n",
    "    else :\n",
    "        answer = list(reversed(sorted(answer_list)))[0]\n",
    "    return answer"
   ]
  },
  {
   "cell_type": "code",
   "execution_count": 3,
   "metadata": {},
   "outputs": [
    {
     "data": {
      "text/plain": [
       "3"
      ]
     },
     "execution_count": 3,
     "metadata": {},
     "output_type": "execute_result"
    }
   ],
   "source": [
    "solution(citations)"
   ]
  }
 ],
 "metadata": {
  "kernelspec": {
   "display_name": "Python 3",
   "language": "python",
   "name": "python3"
  },
  "language_info": {
   "codemirror_mode": {
    "name": "ipython",
    "version": 3
   },
   "file_extension": ".py",
   "mimetype": "text/x-python",
   "name": "python",
   "nbconvert_exporter": "python",
   "pygments_lexer": "ipython3",
   "version": "3.8.10"
  },
  "orig_nbformat": 4,
  "vscode": {
   "interpreter": {
    "hash": "e3ada8b426290dd76767ba6368ea690ca67a7a436b12c3cf567e5cb72f89ca03"
   }
  }
 },
 "nbformat": 4,
 "nbformat_minor": 2
}
