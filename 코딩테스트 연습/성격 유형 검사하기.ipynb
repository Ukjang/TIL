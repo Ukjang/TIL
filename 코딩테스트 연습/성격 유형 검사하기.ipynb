{
 "cells": [
  {
   "cell_type": "code",
   "execution_count": 18,
   "metadata": {},
   "outputs": [
    {
     "data": {
      "text/plain": [
       "['A', 'F']"
      ]
     },
     "execution_count": 18,
     "metadata": {},
     "output_type": "execute_result"
    }
   ],
   "source": [
    "list1 = [\"AN\", \"CF\", \"MJ\", \"RT\", \"NA\"]\n",
    "temp_list = sorted([list1[1][1], list1[0][0]])\n",
    "temp_list"
   ]
  },
  {
   "cell_type": "code",
   "execution_count": 20,
   "metadata": {},
   "outputs": [
    {
     "data": {
      "text/plain": [
       "0"
      ]
     },
     "execution_count": 20,
     "metadata": {},
     "output_type": "execute_result"
    }
   ],
   "source": [
    "tr_list = ['R', 'C', 'J', 'A']\n",
    "tr_list.index('R')"
   ]
  },
  {
   "cell_type": "code",
   "execution_count": 22,
   "metadata": {},
   "outputs": [],
   "source": [
    "def solution(survey, choices):\n",
    "    answer = ''\n",
    "    # 점수 계산 딕트\n",
    "    tr_dict = {\n",
    "        'R' : 0,\n",
    "        'C' : 0,\n",
    "        'J' : 0,\n",
    "        'A' : 0\n",
    "    }\n",
    "    # 각 질문이 성격의 질문인지 확인\n",
    "    for n in range(len(survey)) :\n",
    "        # 정렬하여 확인\n",
    "        temp_list = sorted([survey[n][1], survey[n][0]])\n",
    "        # 성격유형 , 역순인지 확인용 첫번쨰 문자\n",
    "        trait = [temp_list[0], survey[n][0]]\n",
    "    # 위치값에 따라 점수 변동 반영\n",
    "        if trait[0] == trait[1]:\n",
    "            p_m = 1\n",
    "        else :\n",
    "            p_m = -1\n",
    "    # 총점 계산\n",
    "        cal = tr_dict[trait[0]] + p_m * (4 - choices[n])\n",
    "        tr_dict[trait[0]] = cal\n",
    "    # 해당 질문 없으면 오름차순으로 값 리턴\n",
    "    if tr_dict['R'] >= 0 :\n",
    "        answer += 'R'\n",
    "    else : answer += 'T'\n",
    "    \n",
    "    if tr_dict['C'] >= 0 :\n",
    "        answer += 'C'\n",
    "    else : answer += 'F'\n",
    "    \n",
    "    if tr_dict['J'] >= 0 :\n",
    "        answer += 'J'\n",
    "    else : answer += 'M'\n",
    "    \n",
    "    if tr_dict['A'] >= 0 :\n",
    "        answer += 'A'\n",
    "    else : answer += 'N'\n",
    "    \n",
    "    return answer"
   ]
  },
  {
   "cell_type": "code",
   "execution_count": 23,
   "metadata": {},
   "outputs": [
    {
     "data": {
      "text/plain": [
       "'TCMA'"
      ]
     },
     "execution_count": 23,
     "metadata": {},
     "output_type": "execute_result"
    }
   ],
   "source": [
    "survey = [\"AN\", \"CF\", \"MJ\", \"RT\", \"NA\"]\n",
    "choices = [5, 3, 2, 7, 5]\n",
    "result = \"TCMA\"\n",
    "solution(survey, choices)"
   ]
  }
 ],
 "metadata": {
  "kernelspec": {
   "display_name": "Python 3.8.10 64-bit (windows store)",
   "language": "python",
   "name": "python3"
  },
  "language_info": {
   "codemirror_mode": {
    "name": "ipython",
    "version": 3
   },
   "file_extension": ".py",
   "mimetype": "text/x-python",
   "name": "python",
   "nbconvert_exporter": "python",
   "pygments_lexer": "ipython3",
   "version": "3.8.10"
  },
  "orig_nbformat": 4,
  "vscode": {
   "interpreter": {
    "hash": "e3ada8b426290dd76767ba6368ea690ca67a7a436b12c3cf567e5cb72f89ca03"
   }
  }
 },
 "nbformat": 4,
 "nbformat_minor": 2
}
