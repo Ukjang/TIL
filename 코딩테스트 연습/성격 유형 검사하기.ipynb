{
 "cells": [
  {
   "cell_type": "code",
   "execution_count": 1,
   "metadata": {},
   "outputs": [
    {
     "data": {
      "text/plain": [
       "['A', 'F']"
      ]
     },
     "execution_count": 1,
     "metadata": {},
     "output_type": "execute_result"
    }
   ],
   "source": [
    "list1 = [\"AN\", \"CF\", \"MJ\", \"RT\", \"NA\"]\n",
    "temp_list = sorted([list1[1][1], list1[0][0]])\n",
    "temp_list"
   ]
  },
  {
   "cell_type": "code",
   "execution_count": 20,
   "metadata": {},
   "outputs": [
    {
     "data": {
      "text/plain": [
       "0"
      ]
     },
     "execution_count": 20,
     "metadata": {},
     "output_type": "execute_result"
    }
   ],
   "source": [
    "tr_list = ['R', 'C', 'J', 'A']\n",
    "tr_list.index('R')"
   ]
  },
  {
   "cell_type": "code",
   "execution_count": 10,
   "metadata": {},
   "outputs": [],
   "source": [
    "def solution(survey, choices):\n",
    "    answer = ''\n",
    "    # 점수 계산 딕트\n",
    "    tr_dict = {\n",
    "        'R' : 0,\n",
    "        'C' : 0,\n",
    "        'J' : 0,\n",
    "        'A' : 0\n",
    "    }\n",
    "    # 각 질문이 성격의 질문인지 확인\n",
    "    for n in range(len(survey)) :\n",
    "        # 정렬하여 확인\n",
    "        temp_list = sorted([survey[n][1], survey[n][0]])\n",
    "        # 성격유형 , 역순인지 확인용 첫번쨰 문자\n",
    "        trait = [temp_list[0], survey[n][0]]\n",
    "    # 위치값에 따라 점수 변동 반영\n",
    "        if trait[0] == trait[1]:\n",
    "            p_m = 1\n",
    "        else :\n",
    "            p_m = -1\n",
    "    # 총점 계산\n",
    "        cal = tr_dict[trait[0]] + p_m * (4 - choices[n])\n",
    "        tr_dict[trait[0]] = cal\n",
    "    # 해당 질문 없으면 오름차순으로 값 리턴\n",
    "    if tr_dict['R'] >= 0 :\n",
    "        answer += 'R'\n",
    "    else : answer += 'T'\n",
    "    \n",
    "    if tr_dict['C'] >= 0 :\n",
    "        answer += 'C'\n",
    "    else : answer += 'F'\n",
    "    \n",
    "    if tr_dict['J'] >= 0 :\n",
    "        answer += 'J'\n",
    "    else : answer += 'M'\n",
    "    \n",
    "    if tr_dict['A'] >= 0 :\n",
    "        answer += 'A'\n",
    "    else : answer += 'N'\n",
    "    \n",
    "    return answer"
   ]
  },
  {
   "cell_type": "code",
   "execution_count": null,
   "metadata": {},
   "outputs": [],
   "source": [
    "def solution(survey, choices):\n",
    "    answer = ''\n",
    "    # 점수 계산 딕트\n",
    "    tr_dict = {\n",
    "        'R' : 0,\n",
    "        'C' : 0,\n",
    "        'J' : 0,\n",
    "        'A' : 0\n",
    "    }\n",
    "    # 각 질문이 성격의 질문인지 확인\n",
    "    for n in range(len(survey)) :\n",
    "        # 정렬하여 확인\n",
    "        temp_list = sorted([survey[n][1], survey[n][0]])\n",
    "        # 성격유형 , 역순인지 확인용 첫번쨰 문자\n",
    "        trait = [temp_list[0], survey[n][0]]\n",
    "    # 위치값에 따라 점수 변동 반영\n",
    "        if trait[0] == trait[1]:\n",
    "            p_m = 1\n",
    "        else :\n",
    "            p_m = -1\n",
    "    # 총점 계산\n",
    "        cal = tr_dict[trait[0]] + p_m * (4 - choices[n])\n",
    "        tr_dict[trait[0]] = cal\n",
    "    # 해당 질문 없으면 오름차순으로 값 리턴\n",
    "    if tr_dict['R'] >= 0 :\n",
    "        answer += 'R'\n",
    "    else : answer += 'T'\n",
    "    \n",
    "    if tr_dict['C'] >= 0 :\n",
    "        answer += 'C'\n",
    "    else : answer += 'F'\n",
    "    \n",
    "    if tr_dict['J'] >= 0 :\n",
    "        answer += 'J'\n",
    "    else : answer += 'M'\n",
    "    \n",
    "    if tr_dict['A'] >= 0 :\n",
    "        answer += 'A'\n",
    "    else : answer += 'N'\n",
    "    \n",
    "    return answer"
   ]
  },
  {
   "cell_type": "code",
   "execution_count": 9,
   "metadata": {},
   "outputs": [],
   "source": [
    "# 한아누나\n",
    "def solution(survey, choices):\n",
    "    dic = {\"RT\":0,\"CF\":0,\"JM\":0,\"AN\":0,\"TR\":0,\"FC\":0,\"MJ\":0,\"NA\":0}\n",
    "    for sur, choi in zip(survey,choices):\n",
    "        if sur in list(dic.keys())[:4]:\n",
    "            dic[sur] = 4 - choi\n",
    "        elif sur in list(dic.keys())[4:]:\n",
    "            dic[sur] = choi - 4\n",
    "    answer = \"\"\n",
    "    for trait in list(dic.keys())[:4]:\n",
    "        if dic[trait] + dic[trait[::-1]] >= 0:\n",
    "            answer += trait[0]\n",
    "        elif dic[trait] + dic[trait[::-1]] < 0:\n",
    "            answer += trait[1]\n",
    "    return answer"
   ]
  },
  {
   "cell_type": "code",
   "execution_count": null,
   "metadata": {},
   "outputs": [],
   "source": [
    "def solution(survey, choices):\n",
    "    dic = {\"RT\":0,\"CF\":0,\"JM\":0,\"AN\":0,\"TR\":0,\"FC\":0,\"MJ\":0,\"NA\":0}\n",
    "    for a, b in zip(survey,choices):\n",
    "        if a in list(dic.keys())[:4]:\n",
    "            dic[a] = 4 - b\n",
    "        elif a in list(dic.keys())[4:]:\n",
    "            dic[a] = b - 4\n",
    "    result = \"\"\n",
    "    for i in list(dic.keys())[:4]:\n",
    "        if dic[i] + dic[i[::-1]] >= 0:\n",
    "            result += i[0]\n",
    "        elif dic[i] + dic[i[::-1]] < 0:\n",
    "            result += i[1]\n",
    "    return result"
   ]
  },
  {
   "cell_type": "code",
   "execution_count": 12,
   "metadata": {},
   "outputs": [
    {
     "data": {
      "text/plain": [
       "'RCJA'"
      ]
     },
     "execution_count": 12,
     "metadata": {},
     "output_type": "execute_result"
    }
   ],
   "source": [
    "survey = [\"TR\", \"RT\", \"TR\",\"TR\", \"RT\", \"TR\",\"TR\", \"RT\", \"TR\",\"TR\", \"RT\", \"TR\",\"TR\", \"RT\", \"TR\"]\n",
    "choices = [7, 1, 3,7, 1, 3,7, 1, 3,7, 1, 3,7, 1, 3]\n",
    "solution(survey, choices)"
   ]
  },
  {
   "cell_type": "code",
   "execution_count": 10,
   "metadata": {},
   "outputs": [
    {
     "data": {
      "text/plain": [
       "'TCMA'"
      ]
     },
     "execution_count": 10,
     "metadata": {},
     "output_type": "execute_result"
    }
   ],
   "source": [
    "survey = [\"AN\", \"CF\", \"MJ\", \"RT\", \"NA\"]\n",
    "choices = [5, 3, 2, 7, 5]\n",
    "result = \"TCMA\"\n",
    "solution(survey, choices)"
   ]
  },
  {
   "cell_type": "code",
   "execution_count": 57,
   "metadata": {},
   "outputs": [
    {
     "name": "stdout",
     "output_type": "stream",
     "text": [
      "{'RT': -3, 'CF': 1, 'JM': 0, 'AN': -1, 'TR': 0, 'FC': 0, 'MJ': -2, 'NA': 1}\n"
     ]
    },
    {
     "data": {
      "text/plain": [
       "'TCMA'"
      ]
     },
     "execution_count": 57,
     "metadata": {},
     "output_type": "execute_result"
    }
   ],
   "source": [
    "\n",
    "# survey = [\"TR\", \"RT\", \"TR\"]\n",
    "# choices = [7, 1, 3]\n",
    "# result1 = \"RCJA\"\n",
    "survey = [\"AN\", \"CF\", \"MJ\", \"RT\", \"NA\"]\n",
    "choices = [5, 3, 2, 7, 5]\n",
    "result = \"TCMA\"\n",
    "dic1 = {\"RT\":0,\"CF\":0,\"JM\":0,\"AN\":0,\"TR\":0,\"FC\":0,\"MJ\":0,\"NA\":0}\n",
    "for le in range(len(survey)):\n",
    "    if survey[le] in list(dic1.keys())[:4] :\n",
    "        dic1[survey[le]] = 4 - choices[le]\n",
    "    elif survey[le] in list(dic1.keys())[4:] :\n",
    "        dic1[survey[le]] = choices[le] - 4\n",
    "result = \"\"\n",
    "\n",
    "for i in list(dic1.keys())[:4]:\n",
    "    if int (dic1[i] + dic1[i[::-1]]) >= 0:\n",
    "        result += i[0]\n",
    "    else :\n",
    "        result += i[1]\n",
    "print(dic1)\n",
    "result \n"
   ]
  },
  {
   "cell_type": "code",
   "execution_count": 56,
   "metadata": {},
   "outputs": [
    {
     "data": {
      "text/plain": [
       "{'RT': -3, 'CF': 1, 'JM': 0, 'AN': -1, 'TR': 0, 'FC': 0, 'MJ': -2, 'NA': 1}"
      ]
     },
     "execution_count": 56,
     "metadata": {},
     "output_type": "execute_result"
    }
   ],
   "source": [
    "dic1"
   ]
  },
  {
   "cell_type": "code",
   "execution_count": 29,
   "metadata": {},
   "outputs": [
    {
     "data": {
      "text/plain": [
       "'R'"
      ]
     },
     "execution_count": 29,
     "metadata": {},
     "output_type": "execute_result"
    }
   ],
   "source": [
    "keys[0][0]"
   ]
  },
  {
   "cell_type": "code",
   "execution_count": 6,
   "metadata": {},
   "outputs": [
    {
     "data": {
      "text/plain": [
       "['TR', 'FC', 'MJ', 'NA']"
      ]
     },
     "execution_count": 6,
     "metadata": {},
     "output_type": "execute_result"
    }
   ],
   "source": [
    "list(dic.keys())[4:]"
   ]
  }
 ],
 "metadata": {
  "kernelspec": {
   "display_name": "Python 3.8.10 64-bit (windows store)",
   "language": "python",
   "name": "python3"
  },
  "language_info": {
   "codemirror_mode": {
    "name": "ipython",
    "version": 3
   },
   "file_extension": ".py",
   "mimetype": "text/x-python",
   "name": "python",
   "nbconvert_exporter": "python",
   "pygments_lexer": "ipython3",
   "version": "3.8.10"
  },
  "orig_nbformat": 4,
  "vscode": {
   "interpreter": {
    "hash": "e3ada8b426290dd76767ba6368ea690ca67a7a436b12c3cf567e5cb72f89ca03"
   }
  }
 },
 "nbformat": 4,
 "nbformat_minor": 2
}
