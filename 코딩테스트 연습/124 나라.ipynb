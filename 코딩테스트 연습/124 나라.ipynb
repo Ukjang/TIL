{
 "cells": [
  {
   "cell_type": "code",
   "execution_count": null,
   "metadata": {},
   "outputs": [],
   "source": []
  },
  {
   "cell_type": "code",
   "execution_count": 13,
   "metadata": {},
   "outputs": [
    {
     "data": {
      "text/plain": [
       "'142'"
      ]
     },
     "execution_count": 13,
     "metadata": {},
     "output_type": "execute_result"
    }
   ],
   "source": [
    "n = 20\n",
    "ans_list = []\n",
    "list1 = [1, 2, 4]\n",
    "for nm in range(1, n+1):\n",
    "    if nm <= 3:\n",
    "        ans_list.append(list1[nm-1])\n",
    "    elif nm % 3 == 0:\n",
    "        temp = str(ans_list[(nm-1)//3 - 1]) + str(list1[2]) \n",
    "        ans_list.append(int(temp))\n",
    "    else :\n",
    "        temp = str(ans_list[nm//3 -1]) + str(list1[( nm % 3 -1)]) \n",
    "        ans_list.append(int(temp))\n",
    "ans_list\n",
    "str(ans_list[n-1])"
   ]
  },
  {
   "cell_type": "code",
   "execution_count": 37,
   "metadata": {},
   "outputs": [
    {
     "data": {
      "text/plain": [
       "'24'"
      ]
     },
     "execution_count": 37,
     "metadata": {},
     "output_type": "execute_result"
    }
   ],
   "source": [
    "n = 9\n",
    "ans_text = ''\n",
    "list1 = [1, 2, 4]\n",
    "n = n - 1\n",
    "while True :\n",
    "    n_rest = n % 3\n",
    "    n = n // 3\n",
    "    ans_text = str(n_rest) + ans_text\n",
    "    if n == 0 :\n",
    "        break\n",
    "    elif n <= 3 :\n",
    "        ans_text = str(n-1) + ans_text\n",
    "        break   \n",
    "answer = ''\n",
    "for st in ans_text:\n",
    "    answer += str(list1[int(st)])\n",
    "answer"
   ]
  },
  {
   "cell_type": "code",
   "execution_count": null,
   "metadata": {},
   "outputs": [],
   "source": [
    "def solution(n):\n",
    "    ans_list = []\n",
    "    list1 = [1, 2, 4]\n",
    "    for nm in range(1, n+1):\n",
    "        if nm <= 3:\n",
    "            ans_list.append(list1[nm-1])\n",
    "        elif nm % 3 == 0:\n",
    "            temp = str(ans_list[(nm-1)//3 - 1]) + str(list1[2]) \n",
    "            ans_list.append(int(temp))\n",
    "        else :\n",
    "            temp = str(ans_list[nm//3 -1]) + str(list1[( nm % 3 -1)]) \n",
    "            ans_list.append(int(temp))\n",
    "    ans_list\n",
    "    return str(ans_list[n-1])"
   ]
  },
  {
   "cell_type": "code",
   "execution_count": 33,
   "metadata": {},
   "outputs": [
    {
     "data": {
      "text/plain": [
       "0"
      ]
     },
     "execution_count": 33,
     "metadata": {},
     "output_type": "execute_result"
    }
   ],
   "source": [
    "n"
   ]
  },
  {
   "cell_type": "code",
   "execution_count": 28,
   "metadata": {},
   "outputs": [
    {
     "data": {
      "text/plain": [
       "2"
      ]
     },
     "execution_count": 28,
     "metadata": {},
     "output_type": "execute_result"
    }
   ],
   "source": [
    "n_rest"
   ]
  },
  {
   "cell_type": "code",
   "execution_count": 27,
   "metadata": {},
   "outputs": [
    {
     "data": {
      "text/plain": [
       "'-'"
      ]
     },
     "execution_count": 27,
     "metadata": {},
     "output_type": "execute_result"
    }
   ],
   "source": [
    "st"
   ]
  },
  {
   "cell_type": "code",
   "execution_count": 21,
   "metadata": {},
   "outputs": [
    {
     "data": {
      "text/plain": [
       "'-'"
      ]
     },
     "execution_count": 21,
     "metadata": {},
     "output_type": "execute_result"
    }
   ],
   "source": [
    "st"
   ]
  },
  {
   "cell_type": "code",
   "execution_count": 17,
   "metadata": {},
   "outputs": [],
   "source": [
    "def solution(n):\n",
    "    ans_text = ''\n",
    "    list1 = [1, 2, 4]\n",
    "    n = n - 1\n",
    "    while True :\n",
    "        n_rest = n % 3\n",
    "        n = n // 3\n",
    "        ans_text = str(n_rest) + ans_text\n",
    "        if n <= 3 :\n",
    "            ans_text = str(n-1) + ans_text\n",
    "            break\n",
    "    answer = ''\n",
    "    for st in ans_text:\n",
    "        answer += str(list1[int(st)])\n",
    "    return answer"
   ]
  },
  {
   "cell_type": "code",
   "execution_count": 19,
   "metadata": {},
   "outputs": [
    {
     "ename": "ValueError",
     "evalue": "invalid literal for int() with base 10: '-'",
     "output_type": "error",
     "traceback": [
      "\u001b[1;31m---------------------------------------------------------------------------\u001b[0m",
      "\u001b[1;31mValueError\u001b[0m                                Traceback (most recent call last)",
      "\u001b[1;32mc:\\Users\\Admin\\TIL\\코딩테스트 연습\\124 나라.ipynb 셀 5\u001b[0m in \u001b[0;36m<cell line: 1>\u001b[1;34m()\u001b[0m\n\u001b[1;32m----> <a href='vscode-notebook-cell:/c%3A/Users/Admin/TIL/%EC%BD%94%EB%94%A9%ED%85%8C%EC%8A%A4%ED%8A%B8%20%EC%97%B0%EC%8A%B5/124%20%EB%82%98%EB%9D%BC.ipynb#W5sZmlsZQ%3D%3D?line=0'>1</a>\u001b[0m solution(\u001b[39m3\u001b[39;49m)\n",
      "\u001b[1;32mc:\\Users\\Admin\\TIL\\코딩테스트 연습\\124 나라.ipynb 셀 5\u001b[0m in \u001b[0;36msolution\u001b[1;34m(n)\u001b[0m\n\u001b[0;32m     <a href='vscode-notebook-cell:/c%3A/Users/Admin/TIL/%EC%BD%94%EB%94%A9%ED%85%8C%EC%8A%A4%ED%8A%B8%20%EC%97%B0%EC%8A%B5/124%20%EB%82%98%EB%9D%BC.ipynb#W5sZmlsZQ%3D%3D?line=11'>12</a>\u001b[0m answer \u001b[39m=\u001b[39m \u001b[39m'\u001b[39m\u001b[39m'\u001b[39m\n\u001b[0;32m     <a href='vscode-notebook-cell:/c%3A/Users/Admin/TIL/%EC%BD%94%EB%94%A9%ED%85%8C%EC%8A%A4%ED%8A%B8%20%EC%97%B0%EC%8A%B5/124%20%EB%82%98%EB%9D%BC.ipynb#W5sZmlsZQ%3D%3D?line=12'>13</a>\u001b[0m \u001b[39mfor\u001b[39;00m st \u001b[39min\u001b[39;00m ans_text:\n\u001b[1;32m---> <a href='vscode-notebook-cell:/c%3A/Users/Admin/TIL/%EC%BD%94%EB%94%A9%ED%85%8C%EC%8A%A4%ED%8A%B8%20%EC%97%B0%EC%8A%B5/124%20%EB%82%98%EB%9D%BC.ipynb#W5sZmlsZQ%3D%3D?line=13'>14</a>\u001b[0m     answer \u001b[39m+\u001b[39m\u001b[39m=\u001b[39m \u001b[39mstr\u001b[39m(list1[\u001b[39mint\u001b[39;49m(st)])\n\u001b[0;32m     <a href='vscode-notebook-cell:/c%3A/Users/Admin/TIL/%EC%BD%94%EB%94%A9%ED%85%8C%EC%8A%A4%ED%8A%B8%20%EC%97%B0%EC%8A%B5/124%20%EB%82%98%EB%9D%BC.ipynb#W5sZmlsZQ%3D%3D?line=14'>15</a>\u001b[0m \u001b[39mreturn\u001b[39;00m answer\n",
      "\u001b[1;31mValueError\u001b[0m: invalid literal for int() with base 10: '-'"
     ]
    }
   ],
   "source": [
    "solution(3)"
   ]
  },
  {
   "cell_type": "code",
   "execution_count": 14,
   "metadata": {},
   "outputs": [
    {
     "data": {
      "text/plain": [
       "[1,\n",
       " 2,\n",
       " 4,\n",
       " 11,\n",
       " 12,\n",
       " 14,\n",
       " 21,\n",
       " 22,\n",
       " 24,\n",
       " 41,\n",
       " 42,\n",
       " 44,\n",
       " 111,\n",
       " 112,\n",
       " 114,\n",
       " 121,\n",
       " 122,\n",
       " 124,\n",
       " 141,\n",
       " 142]"
      ]
     },
     "execution_count": 14,
     "metadata": {},
     "output_type": "execute_result"
    }
   ],
   "source": [
    "ans_list"
   ]
  }
 ],
 "metadata": {
  "kernelspec": {
   "display_name": "pytorch",
   "language": "python",
   "name": "python3"
  },
  "language_info": {
   "codemirror_mode": {
    "name": "ipython",
    "version": 3
   },
   "file_extension": ".py",
   "mimetype": "text/x-python",
   "name": "python",
   "nbconvert_exporter": "python",
   "pygments_lexer": "ipython3",
   "version": "3.10.5"
  },
  "orig_nbformat": 4,
  "vscode": {
   "interpreter": {
    "hash": "334544a737ead5017040ac753f52220319955d2381f512ab105ce194db781c37"
   }
  }
 },
 "nbformat": 4,
 "nbformat_minor": 2
}
