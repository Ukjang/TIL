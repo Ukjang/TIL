{
 "cells": [
  {
   "cell_type": "code",
   "execution_count": 2,
   "metadata": {},
   "outputs": [],
   "source": [
    "new_id = \"...!@BaT#*..y.abcdefghijklm\"\n",
    "result = \"bat.y.abcdefghi\""
   ]
  },
  {
   "cell_type": "code",
   "execution_count": 8,
   "metadata": {
    "scrolled": true
   },
   "outputs": [
    {
     "name": "stdout",
     "output_type": "stream",
     "text": [
      "...BaT..y.abcdefghijklm\n"
     ]
    },
    {
     "data": {
      "text/plain": [
       "'bat.y.abcdefghi'"
      ]
     },
     "execution_count": 8,
     "metadata": {},
     "output_type": "execute_result"
    }
   ],
   "source": [
    "answer = ''\n",
    "up_dict = list('ABCDEFGHIJKLMNOPQRSTUVWXYZ')\n",
    "# 소문자 숫자 빼기 및줄 마침표 제외 모든 문자 제거\n",
    "import re\n",
    "new_id_re = re.sub('[^a-zA-Z0-9-_.]', '', new_id)\n",
    "print(new_id_re)\n",
    "if new_id_re != '':\n",
    "    for st in new_id_re :\n",
    "        if st == '.':\n",
    "            # .. 이 두번이상이면 하나로 치환\n",
    "            if len(answer) != 0:\n",
    "                if answer[-1] != '.':\n",
    "                    answer += st\n",
    "        # 대문자 다 소문자로\n",
    "        elif st in up_dict:\n",
    "            answer += st.lower()\n",
    "        else :\n",
    "            answer += st\n",
    "answer\n",
    "# .이 처음이나 끝이면 제거\n",
    "try :\n",
    "    if answer[0] == '.':\n",
    "        answer = answer[1:]\n",
    "except :\n",
    "    pass\n",
    "try :\n",
    "    if answer[-1] == '.':\n",
    "        answer = answer[:-1]\n",
    "except : \n",
    "    pass\n",
    "if answer == '.':\n",
    "    answer = ''\n",
    "# 빈 문자열이면 a대입\n",
    "if len(answer) == 0 :\n",
    "    answer += 'a'\n",
    "# new_id의 길이가 16자 이상이면 첫 15개 문자만 제거후 .이 마지막이면 제거\n",
    "if len(answer) >= 16:\n",
    "    answer = answer[:15]\n",
    "    if answer[-1] == '.':\n",
    "        answer = answer[:-1]\n",
    "    # new_id 길이 2자 이하면 마지막 문자 3글자 될때까지 반복\n",
    "if len(answer) <= 2 :\n",
    "    for _ in range(3-len(answer)):\n",
    "        answer += answer[-1]\n",
    "answer"
   ]
  }
 ],
 "metadata": {
  "kernelspec": {
   "display_name": "Python 3 (ipykernel)",
   "language": "python",
   "name": "python3"
  },
  "language_info": {
   "codemirror_mode": {
    "name": "ipython",
    "version": 3
   },
   "file_extension": ".py",
   "mimetype": "text/x-python",
   "name": "python",
   "nbconvert_exporter": "python",
   "pygments_lexer": "ipython3",
   "version": "3.9.12"
  },
  "vscode": {
   "interpreter": {
    "hash": "e3ada8b426290dd76767ba6368ea690ca67a7a436b12c3cf567e5cb72f89ca03"
   }
  }
 },
 "nbformat": 4,
 "nbformat_minor": 2
}
