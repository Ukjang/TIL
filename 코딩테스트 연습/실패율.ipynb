{
 "cells": [
  {
   "cell_type": "code",
   "execution_count": 1,
   "metadata": {},
   "outputs": [],
   "source": [
    "N = 5\n",
    "stages = [2, 1, 2, 6, 2, 4, 3, 3]"
   ]
  },
  {
   "cell_type": "code",
   "execution_count": 2,
   "metadata": {},
   "outputs": [
    {
     "data": {
      "text/plain": [
       "[3, 4, 2, 1, 5]"
      ]
     },
     "execution_count": 2,
     "metadata": {},
     "output_type": "execute_result"
    }
   ],
   "source": [
    "answer = []\n",
    "stage_result_dict= {}\n",
    "for nm in range(1, N + 1):\n",
    "    # 스테이지 실패율 계산. 자기 수보다 큰 개수 개산 및 count.\n",
    "    cnt_pass = 0\n",
    "    cnt_fail = 0\n",
    "    for stage in stages :\n",
    "        if stage >= nm :\n",
    "            cnt_pass += 1\n",
    "        if stage == nm :\n",
    "            cnt_fail += 1\n",
    "    if cnt_pass == 0:\n",
    "        stage_result_dict[nm] = 0\n",
    "    else:\n",
    "        stage_result_dict[nm] = cnt_fail / cnt_pass\n",
    "    \n",
    "# 최대값 dict value 에서 가져와서 입력. 자동 오름차순 됨\n",
    "import operator\n",
    "for _ in range(N):\n",
    "    temp = max(stage_result_dict.items(), key = operator.itemgetter(1))[0]\n",
    "    answer.append(temp)\n",
    "    del stage_result_dict[temp]\n",
    "answer"
   ]
  }
 ],
 "metadata": {
  "kernelspec": {
   "display_name": "Python 3.8.10 64-bit (microsoft store)",
   "language": "python",
   "name": "python3"
  },
  "language_info": {
   "codemirror_mode": {
    "name": "ipython",
    "version": 3
   },
   "file_extension": ".py",
   "mimetype": "text/x-python",
   "name": "python",
   "nbconvert_exporter": "python",
   "pygments_lexer": "ipython3",
   "version": "3.8.10"
  },
  "orig_nbformat": 4,
  "vscode": {
   "interpreter": {
    "hash": "e3ada8b426290dd76767ba6368ea690ca67a7a436b12c3cf567e5cb72f89ca03"
   }
  }
 },
 "nbformat": 4,
 "nbformat_minor": 2
}
