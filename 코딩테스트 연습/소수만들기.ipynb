{
 "cells": [
  {
   "cell_type": "code",
   "execution_count": 1,
   "metadata": {},
   "outputs": [
    {
     "name": "stdout",
     "output_type": "stream",
     "text": [
      "6\n",
      "7\n",
      "8\n",
      "9\n"
     ]
    },
    {
     "data": {
      "text/plain": [
       "1"
      ]
     },
     "execution_count": 1,
     "metadata": {},
     "output_type": "execute_result"
    }
   ],
   "source": [
    "nums = [1,2,3,4]\n",
    "\n",
    "def solution(nums):\n",
    "    answer = 0\n",
    "    var_list = []\n",
    "    le = len(nums)\n",
    "    for i in range(0, le-2) :\n",
    "        for j in range(i+1, le-1):\n",
    "            for t in range(j+1, le):\n",
    "                summ = nums[i] + nums[j] + nums[t] \n",
    "                cnt = 0\n",
    "                for nm in range(2, summ):\n",
    "                    if summ % nm == 0:\n",
    "                        cnt += 1\n",
    "                if cnt == 0:\n",
    "                    answer += 1\n",
    "\n",
    "    return answer"
   ]
  },
  {
   "cell_type": "code",
   "execution_count": 6,
   "metadata": {},
   "outputs": [
    {
     "data": {
      "text/plain": [
       "1"
      ]
     },
     "execution_count": 6,
     "metadata": {},
     "output_type": "execute_result"
    }
   ],
   "source": [
    "from itertools import combinations as cb \n",
    "answer = 0\n",
    "for a in cb(nums, 3) :\n",
    "    cand = sum(a)\n",
    "    for j in range(2, cand):\n",
    "        if cand % j == 0:\n",
    "            break\n",
    "    else :\n",
    "        answer += 1\n",
    "answer\n",
    "\n"
   ]
  }
 ],
 "metadata": {
  "kernelspec": {
   "display_name": "Python 3.8.10 64-bit (windows store)",
   "language": "python",
   "name": "python3"
  },
  "language_info": {
   "codemirror_mode": {
    "name": "ipython",
    "version": 3
   },
   "file_extension": ".py",
   "mimetype": "text/x-python",
   "name": "python",
   "nbconvert_exporter": "python",
   "pygments_lexer": "ipython3",
   "version": "3.8.10"
  },
  "orig_nbformat": 4,
  "vscode": {
   "interpreter": {
    "hash": "e3ada8b426290dd76767ba6368ea690ca67a7a436b12c3cf567e5cb72f89ca03"
   }
  }
 },
 "nbformat": 4,
 "nbformat_minor": 2
}
