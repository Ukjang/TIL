{
 "cells": [
  {
   "cell_type": "code",
   "execution_count": 54,
   "metadata": {},
   "outputs": [],
   "source": [
    "N = 8\n",
    "a = 4\n",
    "b= 7"
   ]
  },
  {
   "cell_type": "code",
   "execution_count": 56,
   "metadata": {},
   "outputs": [],
   "source": [
    "N = 64\n",
    "a = 1\n",
    "b= 64"
   ]
  },
  {
   "cell_type": "code",
   "execution_count": 57,
   "metadata": {},
   "outputs": [
    {
     "name": "stdout",
     "output_type": "stream",
     "text": [
      "1 0 63\n",
      "2 0 31\n",
      "3 0 15\n",
      "4 0 7\n",
      "5 0 3\n",
      "6 0 1\n"
     ]
    },
    {
     "data": {
      "text/plain": [
       "6"
      ]
     },
     "execution_count": 57,
     "metadata": {},
     "output_type": "execute_result"
    }
   ],
   "source": [
    "answer = 0\n",
    "# a, b 나누었을때 몫도 같고 나머지도 1차이나면 만남\n",
    "# 그때까지 2로 나누어서 배치하도록 while 문\n",
    "a = a - 1\n",
    "b = b - 1\n",
    "while True :\n",
    "        # a, b 나누었을때 몫도 같고 나머지도 1차이나면 만남\n",
    "    answer += 1\n",
    "    print (answer, a, b)\n",
    "    if a // 2 == b // 2:\n",
    "        break\n",
    "    else :\n",
    "        a = a // 2 \n",
    "        b = b // 2\n",
    "answer"
   ]
  },
  {
   "cell_type": "code",
   "execution_count": 50,
   "metadata": {},
   "outputs": [
    {
     "name": "stdout",
     "output_type": "stream",
     "text": [
      "2 3 2\n"
     ]
    },
    {
     "data": {
      "text/plain": [
       "2"
      ]
     },
     "execution_count": 50,
     "metadata": {},
     "output_type": "execute_result"
    }
   ],
   "source": [
    "answer = 1\n",
    "# a, b 나누었을때 몫도 같고 나머지도 1차이나면 만남\n",
    "# 그때까지 2로 나누어서 배치하도록 while 문\n",
    "while True :\n",
    "        # a, b 나누었을때 몫도 같고 나머지도 1차이나면 만남\n",
    "    answer += 1\n",
    "    print(a, b, answer)\n",
    "    if a // 2 == b // 2:\n",
    "        break\n",
    "    else :\n",
    "        if answer == 2:\n",
    "            # 번호가 1번부터인거 고려\n",
    "            a = a - 1\n",
    "            b = b - 1\n",
    "            a = a % 2 + a // 2 \n",
    "            b = b % 2 + b // 2 \n",
    "        else :\n",
    "            a = a % 2 + a // 2 \n",
    "            b = b % 2 + b // 2\n",
    "answer"
   ]
  }
 ],
 "metadata": {
  "kernelspec": {
   "display_name": "Python 3.8.10 64-bit (microsoft store)",
   "language": "python",
   "name": "python3"
  },
  "language_info": {
   "codemirror_mode": {
    "name": "ipython",
    "version": 3
   },
   "file_extension": ".py",
   "mimetype": "text/x-python",
   "name": "python",
   "nbconvert_exporter": "python",
   "pygments_lexer": "ipython3",
   "version": "3.8.10"
  },
  "orig_nbformat": 4,
  "vscode": {
   "interpreter": {
    "hash": "e3ada8b426290dd76767ba6368ea690ca67a7a436b12c3cf567e5cb72f89ca03"
   }
  }
 },
 "nbformat": 4,
 "nbformat_minor": 2
}
