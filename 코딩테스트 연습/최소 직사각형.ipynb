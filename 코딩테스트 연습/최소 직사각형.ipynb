{
 "cells": [
  {
   "cell_type": "code",
   "execution_count": 2,
   "metadata": {},
   "outputs": [
    {
     "data": {
      "text/plain": [
       "4000"
      ]
     },
     "execution_count": 2,
     "metadata": {},
     "output_type": "execute_result"
    }
   ],
   "source": [
    "sizes = [[60, 50], [30, 70], [60, 30], [80, 40]]\n",
    "answer = 0\n",
    "max_list = [0, 0]\n",
    "# 각각 최대 최소 비교해봄\n",
    "# 둘다 크면 그 값으로 바꿔줌\n",
    "# 한쪽이 크다면 반대로 바꿔서 비교. 그래도 크다면\n",
    "def solution(sizes):\n",
    "    answer = 0\n",
    "    max_list = [0, 0]\n",
    "    # 각각 최대 최소 비교해봄\n",
    "    # 둘다 크면 그 값으로 바꿔줌\n",
    "    # 한쪽이 크다면 반대로 바꿔서 비교. 그래도 크다면\n",
    "    for size in sizes:\n",
    "        for n in [0,1] :\n",
    "            if max(max_list) > max(size) and min(max_list) > min(size):\n",
    "                pass\n",
    "            elif max(max_list) < max(size) and min(max_list) < min(size):\n",
    "                max_list = size\n",
    "            else :\n",
    "                asc_list = list(reversed(sorted(max_list + size)))\n",
    "                # print(asc_list)\n",
    "                max_list = [asc_list[0], asc_list[2]]\n",
    "            # print(max_list)\n",
    "\n",
    "    answer = max_list[0] * max_list[1]\n",
    "    return answer\n",
    "solution(sizes)"
   ]
  },
  {
   "cell_type": "code",
   "execution_count": 20,
   "metadata": {},
   "outputs": [
    {
     "data": {
      "text/plain": [
       "<list_reverseiterator at 0x25baae72550>"
      ]
     },
     "execution_count": 20,
     "metadata": {},
     "output_type": "execute_result"
    }
   ],
   "source": [
    "reversed(sorted([max_list[0], max_list[1], size[0], size[1]]))"
   ]
  },
  {
   "cell_type": "code",
   "execution_count": 4,
   "metadata": {},
   "outputs": [
    {
     "data": {
      "text/plain": [
       "True"
      ]
     },
     "execution_count": 4,
     "metadata": {},
     "output_type": "execute_result"
    }
   ],
   "source": [
    "sizes[0][n] > max_list[0] and sizes[0][n] > max_list[1]"
   ]
  }
 ],
 "metadata": {
  "kernelspec": {
   "display_name": "Python 3.8.10 64-bit (windows store)",
   "language": "python",
   "name": "python3"
  },
  "language_info": {
   "codemirror_mode": {
    "name": "ipython",
    "version": 3
   },
   "file_extension": ".py",
   "mimetype": "text/x-python",
   "name": "python",
   "nbconvert_exporter": "python",
   "pygments_lexer": "ipython3",
   "version": "3.8.10"
  },
  "orig_nbformat": 4,
  "vscode": {
   "interpreter": {
    "hash": "e3ada8b426290dd76767ba6368ea690ca67a7a436b12c3cf567e5cb72f89ca03"
   }
  }
 },
 "nbformat": 4,
 "nbformat_minor": 2
}
