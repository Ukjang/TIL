{
 "cells": [
  {
   "cell_type": "code",
   "execution_count": 6,
   "metadata": {},
   "outputs": [
    {
     "data": {
      "text/plain": [
       "1"
      ]
     },
     "execution_count": 6,
     "metadata": {},
     "output_type": "execute_result"
    }
   ],
   "source": [
    "inputs = '''1 2 6\n",
    "1 4 4\n",
    "2 3 5\n",
    "2 4 3\n",
    "2 5 7\n",
    "2 6 8\n",
    "3 6 8 \n",
    "4 5 9\n",
    "5 6 11'''\n",
    "graph = [tuple(map(int, i.split())) for i in inputs.split('\\n')]\n",
    "N = 6\n",
    "parents =  [i for i in range(N+1)]\n",
    "node=1\n",
    "parents[node]"
   ]
  },
  {
   "cell_type": "code",
   "execution_count": null,
   "metadata": {},
   "outputs": [],
   "source": [
    "sorted(edges, key=lambda x:)"
   ]
  }
 ],
 "metadata": {
  "kernelspec": {
   "display_name": "Python 3",
   "language": "python",
   "name": "python3"
  },
  "language_info": {
   "codemirror_mode": {
    "name": "ipython",
    "version": 3
   },
   "file_extension": ".py",
   "mimetype": "text/x-python",
   "name": "python",
   "nbconvert_exporter": "python",
   "pygments_lexer": "ipython3",
   "version": "3.8.10 (tags/v3.8.10:3d8993a, May  3 2021, 11:48:03) [MSC v.1928 64 bit (AMD64)]"
  },
  "orig_nbformat": 4,
  "vscode": {
   "interpreter": {
    "hash": "e3ada8b426290dd76767ba6368ea690ca67a7a436b12c3cf567e5cb72f89ca03"
   }
  }
 },
 "nbformat": 4,
 "nbformat_minor": 2
}
