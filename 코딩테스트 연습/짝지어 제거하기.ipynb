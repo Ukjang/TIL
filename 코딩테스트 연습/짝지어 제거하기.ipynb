{
 "cells": [
  {
   "cell_type": "code",
   "execution_count": 10,
   "metadata": {},
   "outputs": [],
   "source": [
    "s = 'baabaa'"
   ]
  },
  {
   "cell_type": "code",
   "execution_count": 11,
   "metadata": {},
   "outputs": [
    {
     "data": {
      "text/plain": [
       "['b', 'a', 'a', 'b', 'a', 'a']"
      ]
     },
     "execution_count": 11,
     "metadata": {},
     "output_type": "execute_result"
    }
   ],
   "source": [
    "list(s)"
   ]
  },
  {
   "cell_type": "code",
   "execution_count": 13,
   "metadata": {},
   "outputs": [
    {
     "ename": "AttributeError",
     "evalue": "'str' object has no attribute 'remove'",
     "output_type": "error",
     "traceback": [
      "\u001b[1;31m---------------------------------------------------------------------------\u001b[0m",
      "\u001b[1;31mAttributeError\u001b[0m                            Traceback (most recent call last)",
      "\u001b[1;32mc:\\Users\\Admin\\TIL\\코딩테스트 연습\\짝지어 제거하기.ipynb 셀 3\u001b[0m in \u001b[0;36m<cell line: 1>\u001b[1;34m()\u001b[0m\n\u001b[1;32m----> <a href='vscode-notebook-cell:/c%3A/Users/Admin/TIL/%EC%BD%94%EB%94%A9%ED%85%8C%EC%8A%A4%ED%8A%B8%20%EC%97%B0%EC%8A%B5/%EC%A7%9D%EC%A7%80%EC%96%B4%20%EC%A0%9C%EA%B1%B0%ED%95%98%EA%B8%B0.ipynb#W5sZmlsZQ%3D%3D?line=0'>1</a>\u001b[0m s\u001b[39m.\u001b[39;49mremove(\u001b[39m2\u001b[39m)\n",
      "\u001b[1;31mAttributeError\u001b[0m: 'str' object has no attribute 'remove'"
     ]
    }
   ],
   "source": [
    "s.remove(2)"
   ]
  },
  {
   "cell_type": "code",
   "execution_count": 12,
   "metadata": {},
   "outputs": [
    {
     "data": {
      "text/plain": [
       "{'a', 'b'}"
      ]
     },
     "execution_count": 12,
     "metadata": {},
     "output_type": "execute_result"
    }
   ],
   "source": [
    "set(list(s))"
   ]
  },
  {
   "cell_type": "code",
   "execution_count": 14,
   "metadata": {},
   "outputs": [
    {
     "name": "stdout",
     "output_type": "stream",
     "text": [
      "0\n",
      "1\n",
      "2\n",
      "3\n",
      "4\n",
      "5\n"
     ]
    }
   ],
   "source": [
    "for i in range(10):\n",
    "    print(i)\n",
    "    if i == 5 :\n",
    "        break"
   ]
  },
  {
   "cell_type": "code",
   "execution_count": 58,
   "metadata": {},
   "outputs": [],
   "source": [
    "s = 'baabaa'"
   ]
  },
  {
   "cell_type": "code",
   "execution_count": 62,
   "metadata": {},
   "outputs": [
    {
     "name": "stdout",
     "output_type": "stream",
     "text": [
      "b ['b', 'a', 'a', 'b', 'a', 'a'] 0\n",
      "a ['b', 'a', 'a', 'b', 'a', 'a'] 1\n",
      "if문\n",
      "a ['b', 'a', 'a', 'b', 'a', 'a'] 1\n",
      "['b', 'b', 'a', 'a'] \n",
      "\n",
      "b ['b', 'b', 'a', 'a'] 1\n",
      "a ['b', 'b', 'a', 'a'] 2\n",
      "if문\n",
      "a ['b', 'b', 'a', 'a'] 2\n",
      "['b', 'b'] \n",
      "\n",
      "b ['b', 'b'] 0\n",
      "if문\n",
      "b ['b', 'b'] 0\n",
      "[] \n",
      "\n"
     ]
    },
    {
     "data": {
      "text/plain": [
       "0"
      ]
     },
     "execution_count": 62,
     "metadata": {},
     "output_type": "execute_result"
    }
   ],
   "source": [
    "s1 = list(s)\n",
    "s_nm = 0\n",
    "while True :\n",
    "    if s1 == [] :\n",
    "        answer = 0\n",
    "        break\n",
    "    elif s_nm + 1 >= len(s1):\n",
    "        if len(s1) == 1:\n",
    "            break\n",
    "        else :\n",
    "            nm = 0\n",
    "            for s1_nm in range(len(s1) - 1):\n",
    "                if s1[s1_nm] == s1[s1_nm +1] :\n",
    "                    nm += 1\n",
    "            if nm == 0 :\n",
    "                answer = -1\n",
    "                break\n",
    "            else :\n",
    "                s_nm = 0\n",
    "                continue\n",
    "    \n",
    "    print(s1[s_nm], s1, s_nm)\n",
    "    if s1[s_nm] == s1[s_nm+1] :\n",
    "        print('if문')\n",
    "        print(s1[s_nm], s1, s_nm)\n",
    "        del s1[s_nm]\n",
    "        del s1[s_nm]\n",
    "        print(s1 , '\\n')\n",
    "        continue\n",
    "    else : \n",
    "        s_nm += 1\n",
    "    \n",
    "answer"
   ]
  },
  {
   "cell_type": "code",
   "execution_count": 40,
   "metadata": {},
   "outputs": [
    {
     "data": {
      "text/plain": [
       "['b', 'b']"
      ]
     },
     "execution_count": 40,
     "metadata": {},
     "output_type": "execute_result"
    }
   ],
   "source": [
    "s2 = ['b', 'b', 'a', 'a']\n",
    "s_nm = 2\n",
    "if s2[s_nm] == s2[s_nm+1] :\n",
    "    del s2[s_nm]\n",
    "    del s2[s_nm]\n",
    "s2"
   ]
  },
  {
   "cell_type": "code",
   "execution_count": 39,
   "metadata": {},
   "outputs": [
    {
     "data": {
      "text/plain": [
       "['b', 'b']"
      ]
     },
     "execution_count": 39,
     "metadata": {},
     "output_type": "execute_result"
    }
   ],
   "source": [
    "s2 = ['b', 'b', 'a', 'a']\n",
    "del s2[2]\n",
    "del s2[2]\n",
    "s2"
   ]
  },
  {
   "cell_type": "code",
   "execution_count": 28,
   "metadata": {},
   "outputs": [
    {
     "data": {
      "text/plain": [
       "['b', 'b', 'a']"
      ]
     },
     "execution_count": 28,
     "metadata": {},
     "output_type": "execute_result"
    }
   ],
   "source": [
    "s1"
   ]
  },
  {
   "cell_type": "code",
   "execution_count": 23,
   "metadata": {},
   "outputs": [
    {
     "data": {
      "text/plain": [
       "3"
      ]
     },
     "execution_count": 23,
     "metadata": {},
     "output_type": "execute_result"
    }
   ],
   "source": [
    "s_nm"
   ]
  },
  {
   "cell_type": "code",
   "execution_count": 2,
   "metadata": {},
   "outputs": [
    {
     "data": {
      "text/plain": [
       "1"
      ]
     },
     "execution_count": 2,
     "metadata": {},
     "output_type": "execute_result"
    }
   ],
   "source": [
    "# 모든문자열 제거 하도록 반복문\n",
    "# 앞뒤로 같은 문자 찾으면 종료\n",
    "# 첫글자는 추가만 해줌\n",
    "# 찾은경우 뒷부분 문자열 붙이기\n",
    "# 같기 전까지 문자 저장\n",
    "# while 문 종료\n",
    "while True :\n",
    "    t_f = True\n",
    "    s_len = len(s)\n",
    "    if s_len == 0 :\n",
    "        answer = 1\n",
    "        break\n",
    "    else :\n",
    "        for s_nm in range(1, s_len) :\n",
    "            if s[s_nm-1] == s[s_nm] :\n",
    "                if s_nm == 1 :\n",
    "                    if s_len > 2 :\n",
    "                        temp = s[s_nm+1:]\n",
    "                    else :\n",
    "                        s = ''\n",
    "                        break\n",
    "                elif s_nm  == s_len :\n",
    "                    temp = s[:s_nm-1]\n",
    "                else :\n",
    "                    temp = s[:s_nm-1] + s[s_nm+1:]\n",
    "                    s = temp\n",
    "                    t_f = False\n",
    "                    break\n",
    "        else :\n",
    "            answer = 0\n",
    "            break\n",
    "        if t_f == False :\n",
    "            continue\n",
    "answer"
   ]
  }
 ],
 "metadata": {
  "kernelspec": {
   "display_name": "Python 3.8.10 64-bit (microsoft store)",
   "language": "python",
   "name": "python3"
  },
  "language_info": {
   "codemirror_mode": {
    "name": "ipython",
    "version": 3
   },
   "file_extension": ".py",
   "mimetype": "text/x-python",
   "name": "python",
   "nbconvert_exporter": "python",
   "pygments_lexer": "ipython3",
   "version": "3.8.10"
  },
  "orig_nbformat": 4,
  "vscode": {
   "interpreter": {
    "hash": "e3ada8b426290dd76767ba6368ea690ca67a7a436b12c3cf567e5cb72f89ca03"
   }
  }
 },
 "nbformat": 4,
 "nbformat_minor": 2
}
