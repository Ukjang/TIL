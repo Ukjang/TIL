{
 "cells": [
  {
   "cell_type": "code",
   "execution_count": 5,
   "metadata": {},
   "outputs": [],
   "source": [
    "s = \"one4seveneight\""
   ]
  },
  {
   "cell_type": "code",
   "execution_count": 25,
   "metadata": {},
   "outputs": [
    {
     "name": "stdout",
     "output_type": "stream",
     "text": [
      "o  o\n",
      "n  on\n",
      "e 1 \n",
      "4 14 \n",
      "s 14 s\n",
      "e 14 se\n",
      "v 14 sev\n",
      "e 14 seve\n",
      "n 147 \n",
      "e 147 e\n",
      "i 147 ei\n",
      "g 147 eig\n",
      "h 147 eigh\n",
      "t 1478 \n"
     ]
    },
    {
     "data": {
      "text/plain": [
       "'1478'"
      ]
     },
     "execution_count": 25,
     "metadata": {},
     "output_type": "execute_result"
    }
   ],
   "source": [
    "answer = ''\n",
    "nm_dict = {\n",
    "    'zero' : '0',\n",
    "    'one' : '1',\n",
    "    'two' : '2',\n",
    "    'three' : '3',\n",
    "    'four' : '4',\n",
    "    'five' : '5',\n",
    "    'six' : '6',\n",
    "    'seven' : '7',\n",
    "    'eight' : '8',\n",
    "    'nine' : '9'\n",
    "}\n",
    "str_tmp = ''\n",
    "for number in list(s) :\n",
    "    try :\n",
    "        tr_nm = int(number)\n",
    "        if str_tmp != '' :\n",
    "            answer += nm_dict[str_tmp]\n",
    "            str_tmp = ''\n",
    "        answer += number\n",
    "    except :\n",
    "        str_tmp += number\n",
    "    if str_tmp in list(nm_dict.keys()):\n",
    "        answer += nm_dict[str_tmp]\n",
    "        str_tmp = ''\n",
    "    print(number, answer, str_tmp)\n",
    "answer"
   ]
  },
  {
   "cell_type": "code",
   "execution_count": null,
   "metadata": {},
   "outputs": [],
   "source": [
    "# 정답코드\n",
    "def solution(s):\n",
    "    answer = ''\n",
    "    nm_dict = {\n",
    "        'zero' : '0',\n",
    "        'one' : '1',\n",
    "        'two' : '2',\n",
    "        'three' : '3',\n",
    "        'four' : '4',\n",
    "        'five' : '5',\n",
    "        'six' : '6',\n",
    "        'seven' : '7',\n",
    "        'eight' : '8',\n",
    "        'nine' : '9'\n",
    "    }\n",
    "    str_tmp = ''\n",
    "    for number in list(s) :\n",
    "        # 정수 발견하면 딕트에서 값 찾고 정수 더 해줌\n",
    "        try :\n",
    "            tr_nm = int(number)\n",
    "            # 처음에 숫자오는 경우 검증\n",
    "            if str_tmp != '' :\n",
    "                answer += nm_dict[str_tmp]\n",
    "                str_tmp = ''\n",
    "            answer += number\n",
    "        except :\n",
    "            str_tmp += number\n",
    "        # 문자 추가후에 문자로 숫자 완성되는 경우 검증\n",
    "        if str_tmp in list(nm_dict.keys()):\n",
    "            answer += nm_dict[str_tmp]\n",
    "            str_tmp = ''\n",
    "    return int(answer)"
   ]
  },
  {
   "cell_type": "code",
   "execution_count": 22,
   "metadata": {},
   "outputs": [
    {
     "data": {
      "text/plain": [
       "[0, 1, 2, 3, 4, 5, 6, 7, 8, 9]"
      ]
     },
     "execution_count": 22,
     "metadata": {},
     "output_type": "execute_result"
    }
   ],
   "source": [
    "list(nm_dict.values())"
   ]
  },
  {
   "cell_type": "code",
   "execution_count": 11,
   "metadata": {},
   "outputs": [
    {
     "data": {
      "text/plain": [
       "str"
      ]
     },
     "execution_count": 11,
     "metadata": {},
     "output_type": "execute_result"
    }
   ],
   "source": [
    "type('4')"
   ]
  },
  {
   "cell_type": "code",
   "execution_count": 7,
   "metadata": {},
   "outputs": [
    {
     "data": {
      "text/plain": [
       "['o', 'n', 'e', '4', 's', 'e', 'v', 'e', 'n', 'e', 'i', 'g', 'h', 't']"
      ]
     },
     "execution_count": 7,
     "metadata": {},
     "output_type": "execute_result"
    }
   ],
   "source": [
    "list(s)"
   ]
  }
 ],
 "metadata": {
  "kernelspec": {
   "display_name": "Python 3.8.10 64-bit (microsoft store)",
   "language": "python",
   "name": "python3"
  },
  "language_info": {
   "codemirror_mode": {
    "name": "ipython",
    "version": 3
   },
   "file_extension": ".py",
   "mimetype": "text/x-python",
   "name": "python",
   "nbconvert_exporter": "python",
   "pygments_lexer": "ipython3",
   "version": "3.8.10"
  },
  "orig_nbformat": 4,
  "vscode": {
   "interpreter": {
    "hash": "e3ada8b426290dd76767ba6368ea690ca67a7a436b12c3cf567e5cb72f89ca03"
   }
  }
 },
 "nbformat": 4,
 "nbformat_minor": 2
}
