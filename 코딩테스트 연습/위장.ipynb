{
 "cells": [
  {
   "cell_type": "code",
   "execution_count": 1,
   "metadata": {},
   "outputs": [],
   "source": [
    "clothes = [[\"yellow_hat\", \"headgear\"], [\"blue_sunglasses\", \"eyewear\"], [\"green_turban\", \"headgear\"]]"
   ]
  },
  {
   "cell_type": "code",
   "execution_count": 3,
   "metadata": {},
   "outputs": [],
   "source": [
    "clothes = [[\"yellow_hat\", \"headgear\"], [\"blue_sunglasses\", \"eyewear\"], [\"green_turban\", \"headgear\"], [\"crow_mask\", \"face\"], [\"blue_sunglasses\", \"face\"], [\"smoky_makeup\", \"face\"]]\n"
   ]
  },
  {
   "cell_type": "code",
   "execution_count": 6,
   "metadata": {},
   "outputs": [
    {
     "data": {
      "text/plain": [
       "8613616690947971664"
      ]
     },
     "execution_count": 6,
     "metadata": {},
     "output_type": "execute_result"
    }
   ],
   "source": [
    "hash(clothes[1][0])"
   ]
  },
  {
   "cell_type": "code",
   "execution_count": null,
   "metadata": {},
   "outputs": [],
   "source": [
    "hash_dict = {}\n",
    "for cloth in clothes:\n",
    "    if cloth in hash_dict.keys():\n",
    "        hash_dict[cloth[1]] = hash_dict[cloth[1]] + hash(cloth[0])\n",
    "    else :\n",
    "        hash_dict[cloth[1]] = hash(cloth[0])"
   ]
  },
  {
   "cell_type": "code",
   "execution_count": 2,
   "metadata": {},
   "outputs": [
    {
     "name": "stdout",
     "output_type": "stream",
     "text": [
      "yellow_hat\n",
      "{'headgear': 'yellow_hat'}\n",
      "blue_sunglasses\n",
      "{'headgear': 'yellow_hat', 'eyewear': 'blue_sunglasses'}\n",
      "yellow_hat green_turban\n",
      "{'headgear': 'yellow_hat green_turban', 'eyewear': 'blue_sunglasses'}\n"
     ]
    },
    {
     "data": {
      "text/plain": [
       "{'headgear': 'yellow_hat green_turban', 'eyewear': 'blue_sunglasses'}"
      ]
     },
     "execution_count": 2,
     "metadata": {},
     "output_type": "execute_result"
    }
   ],
   "source": [
    "dict1 = {}\n",
    "for cloth in clothes:\n",
    "    if cloth[1] in dict1.keys():\n",
    "        dict1[cloth[1]] = dict1[cloth[1]] + ' ' + cloth[0]\n",
    "    else :\n",
    "        dict1[cloth[1]] = cloth[0]\n",
    "    print(dict1[cloth[1]])\n",
    "    print(dict1)\n",
    "dict1"
   ]
  },
  {
   "cell_type": "code",
   "execution_count": 7,
   "metadata": {},
   "outputs": [
    {
     "data": {
      "text/plain": [
       "[['nan', 'yellow_hat', 'green_turban'], ['nan', 'blue_sunglasses']]"
      ]
     },
     "execution_count": 7,
     "metadata": {},
     "output_type": "execute_result"
    }
   ],
   "source": [
    "ans_list = []\n",
    "for key in dict1.keys():\n",
    "    ans_list.append(['nan'] + dict1[key].split(' '))\n",
    "ans_list\n",
    "    "
   ]
  },
  {
   "cell_type": "code",
   "execution_count": 8,
   "metadata": {},
   "outputs": [
    {
     "name": "stdout",
     "output_type": "stream",
     "text": [
      "nan nan\n",
      "nan blue_sunglasses\n",
      "yellow_hat nan\n",
      "yellow_hat blue_sunglasses\n",
      "green_turban nan\n",
      "green_turban blue_sunglasses\n"
     ]
    }
   ],
   "source": [
    "answer = []\n",
    "for cloth0 in ans_list[0]:\n",
    "    for cloth1 in ans_list[1]:\n",
    "        print(cloth0, cloth1)\n",
    "        answer.append(cloth0 + ',' + cloth1 )"
   ]
  },
  {
   "cell_type": "code",
   "execution_count": 28,
   "metadata": {},
   "outputs": [
    {
     "name": "stdout",
     "output_type": "stream",
     "text": [
      "1\n",
      "{'headgear': 1}\n",
      "1\n",
      "{'headgear': 1, 'eyewear': 1}\n",
      "2\n",
      "{'headgear': 2, 'eyewear': 1}\n",
      "1\n",
      "{'headgear': 2, 'eyewear': 1, 'face': 1}\n",
      "2\n",
      "{'headgear': 2, 'eyewear': 1, 'face': 2}\n",
      "3\n",
      "{'headgear': 2, 'eyewear': 1, 'face': 3}\n"
     ]
    },
    {
     "data": {
      "text/plain": [
       "{'headgear': 2, 'eyewear': 1, 'face': 3}"
      ]
     },
     "execution_count": 28,
     "metadata": {},
     "output_type": "execute_result"
    }
   ],
   "source": [
    "dict1 = {}\n",
    "for cloth in clothes:\n",
    "    if cloth[1] in dict1.keys():\n",
    "        dict1[cloth[1]] = dict1[cloth[1]] + 1\n",
    "    else :\n",
    "        dict1[cloth[1]] = 1\n",
    "    print(dict1[cloth[1]])\n",
    "    print(dict1)\n",
    "dict1"
   ]
  },
  {
   "cell_type": "code",
   "execution_count": 29,
   "metadata": {},
   "outputs": [
    {
     "data": {
      "text/plain": [
       "23"
      ]
     },
     "execution_count": 29,
     "metadata": {},
     "output_type": "execute_result"
    }
   ],
   "source": [
    "answer = 1\n",
    "for key in dict1.keys():\n",
    "    answer = answer * (dict1[key] +1 )\n",
    "answer -= 1\n",
    "answer\n",
    "\n"
   ]
  },
  {
   "cell_type": "code",
   "execution_count": 30,
   "metadata": {},
   "outputs": [
    {
     "name": "stdout",
     "output_type": "stream",
     "text": [
      "{'face', 'headgear'}\n",
      "{'yellow_hat': 'headgear', 'blue_sunglasses': 'face', 'green_turban': 'headgear', 'crow_mask': 'face', 'smoky_makeup': 'face'}\n",
      "{'face', 'headgear'} {'blue_sunglasses', 'smoky_makeup', 'yellow_hat', 'green_turban', 'crow_mask'}\n"
     ]
    },
    {
     "data": {
      "text/plain": [
       "7"
      ]
     },
     "execution_count": 30,
     "metadata": {},
     "output_type": "execute_result"
    }
   ],
   "source": [
    "\n",
    "dic = dict(clothes)\n",
    "print(set(dic.values()))\n",
    "print(dic)\n",
    "if len(set(dic.values())) == 1:\n",
    "    answer = len(dic.keys())\n",
    "else:\n",
    "    print(set(dic.values()), set(dic.keys()))\n",
    "    answer = len(set(dic.values()))+len(set(dic.keys()))    \n",
    "answer"
   ]
  },
  {
   "cell_type": "code",
   "execution_count": null,
   "metadata": {},
   "outputs": [],
   "source": []
  }
 ],
 "metadata": {
  "kernelspec": {
   "display_name": "Python 3 (ipykernel)",
   "language": "python",
   "name": "python3"
  },
  "language_info": {
   "codemirror_mode": {
    "name": "ipython",
    "version": 3
   },
   "file_extension": ".py",
   "mimetype": "text/x-python",
   "name": "python",
   "nbconvert_exporter": "python",
   "pygments_lexer": "ipython3",
   "version": "3.9.12"
  },
  "vscode": {
   "interpreter": {
    "hash": "e3ada8b426290dd76767ba6368ea690ca67a7a436b12c3cf567e5cb72f89ca03"
   }
  }
 },
 "nbformat": 4,
 "nbformat_minor": 2
}
