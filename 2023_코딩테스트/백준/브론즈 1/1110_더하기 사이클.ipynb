{
 "cells": [
  {
   "cell_type": "code",
   "execution_count": 8,
   "metadata": {},
   "outputs": [
    {
     "data": {
      "text/plain": [
       "12"
      ]
     },
     "execution_count": 8,
     "metadata": {},
     "output_type": "execute_result"
    }
   ],
   "source": [
    "number = '71'\n",
    "# 먼저 주어진 수가 10보다 작다면 앞에 0을 붙여 두 자리 수로 만들고\n",
    "cnt = 0\n",
    "temp_num = number\n",
    "while True :\n",
    "    if len(temp_num) == 1 :\n",
    "        temp_num = '0' + temp_num\n",
    "    temp_sum = sum(map(int,list(temp_num)))\n",
    "    temp_num = temp_num[-1] + str(temp_sum)[-1]\n",
    "    cnt += 1\n",
    "    if int(temp_num) == int(number) :\n",
    "        break\n",
    "cnt"
   ]
  },
  {
   "cell_type": "code",
   "execution_count": null,
   "metadata": {},
   "outputs": [],
   "source": [
    "\n",
    "import sys\n",
    "\n",
    "number = str(sys.stdin.readline().strip())\n",
    "\n",
    "cnt = 0\n",
    "temp_num = number\n",
    "while True :\n",
    "    if len(temp_num) == 1 :\n",
    "        temp_num = '0' + temp_num\n",
    "    temp_sum = sum(map(int,list(temp_num)))\n",
    "    temp_num = temp_num[-1] + str(temp_sum)[-1]\n",
    "    cnt += 1\n",
    "    if int(temp_num) == int(number) :\n",
    "        break\n",
    "print(cnt)"
   ]
  }
 ],
 "metadata": {
  "kernelspec": {
   "display_name": "Python 3",
   "language": "python",
   "name": "python3"
  },
  "language_info": {
   "codemirror_mode": {
    "name": "ipython",
    "version": 3
   },
   "file_extension": ".py",
   "mimetype": "text/x-python",
   "name": "python",
   "nbconvert_exporter": "python",
   "pygments_lexer": "ipython3",
   "version": "3.8.10"
  },
  "orig_nbformat": 4,
  "vscode": {
   "interpreter": {
    "hash": "e3ada8b426290dd76767ba6368ea690ca67a7a436b12c3cf567e5cb72f89ca03"
   }
  }
 },
 "nbformat": 4,
 "nbformat_minor": 2
}
