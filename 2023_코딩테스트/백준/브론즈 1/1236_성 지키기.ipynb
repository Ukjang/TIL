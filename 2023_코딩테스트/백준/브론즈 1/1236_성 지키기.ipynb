{
 "cells": [
  {
   "cell_type": "code",
   "execution_count": 16,
   "metadata": {},
   "outputs": [
    {
     "data": {
      "text/plain": [
       "0"
      ]
     },
     "execution_count": 16,
     "metadata": {},
     "output_type": "execute_result"
    }
   ],
   "source": [
    "# 행별로 필요한 경비 숫자 계산\n",
    "# 열별로 필요한 경비 숫자 계산\n",
    "# 해당 열에 경비가 필요한 행이 1개 이상이라면 경비숫자 -1\n",
    "hei, wid = map(int,'3 5'.split())\n",
    "input1 = '''XX...\n",
    ".XX..\n",
    "...XX'''\n",
    "castle_list = input1.split()\n",
    "\n",
    "# 행별로 필요한 경비 수 계산\n",
    "len_cnt = 0\n",
    "for idx, castle in enumerate(castle_list) :\n",
    "    if castle.count('X') == 0 :\n",
    "        len_cnt += 1\n",
    "\n",
    "wid_cnt = 0\n",
    "for i in range(wid) :\n",
    "    for j in range(hei) :\n",
    "        if castle_list[j][i] == 'X' :\n",
    "            break\n",
    "    else :\n",
    "        wid_cnt += 1\n",
    "# 그냥 최대값으로 처리,,,\n",
    "max(len_cnt, wid_cnt)"
   ]
  },
  {
   "cell_type": "code",
   "execution_count": null,
   "metadata": {},
   "outputs": [],
   "source": [
    "\n",
    "import sys\n",
    "\n",
    "hei, wid = map(int,sys.stdin.readline().split())\n",
    "castle_list = []\n",
    "for _ in range(hei) :\n",
    "    castle_list.append(sys.stdin.readline().strip())\n",
    "\n",
    "# 행별로 필요한 경비 수 계산\n",
    "len_cnt = 0\n",
    "for idx, castle in enumerate(castle_list) :\n",
    "    if castle.count('X') == 0 :\n",
    "        len_cnt += 1\n",
    "\n",
    "wid_cnt = 0\n",
    "for i in range(wid) :\n",
    "    for j in range(hei) :\n",
    "        if castle_list[j][i] == 'X' :\n",
    "            break\n",
    "    else :\n",
    "        wid_cnt += 1\n",
    "print(max(len_cnt, wid_cnt))"
   ]
  },
  {
   "cell_type": "code",
   "execution_count": 12,
   "metadata": {},
   "outputs": [
    {
     "data": {
      "text/plain": [
       "([1, 3, 4], [2])"
      ]
     },
     "execution_count": 12,
     "metadata": {},
     "output_type": "execute_result"
    }
   ],
   "source": [
    "len_list, wid_list"
   ]
  },
  {
   "cell_type": "code",
   "execution_count": 11,
   "metadata": {},
   "outputs": [
    {
     "data": {
      "text/plain": [
       "3"
      ]
     },
     "execution_count": 11,
     "metadata": {},
     "output_type": "execute_result"
    }
   ],
   "source": [
    "temp_minus"
   ]
  }
 ],
 "metadata": {
  "kernelspec": {
   "display_name": "Python 3",
   "language": "python",
   "name": "python3"
  },
  "language_info": {
   "codemirror_mode": {
    "name": "ipython",
    "version": 3
   },
   "file_extension": ".py",
   "mimetype": "text/x-python",
   "name": "python",
   "nbconvert_exporter": "python",
   "pygments_lexer": "ipython3",
   "version": "3.8.10"
  },
  "orig_nbformat": 4,
  "vscode": {
   "interpreter": {
    "hash": "e3ada8b426290dd76767ba6368ea690ca67a7a436b12c3cf567e5cb72f89ca03"
   }
  }
 },
 "nbformat": 4,
 "nbformat_minor": 2
}
