{
 "cells": [
  {
   "cell_type": "code",
   "execution_count": 11,
   "metadata": {},
   "outputs": [
    {
     "name": "stdout",
     "output_type": "stream",
     "text": [
      "15\n"
     ]
    }
   ],
   "source": [
    "input1 = '3 7'\n",
    "a, b = map(int, input1.split())\n",
    "result = []\n",
    "cnt = 1\n",
    "while True :\n",
    "    if len(result) >= b :\n",
    "        break\n",
    "    else :\n",
    "        result += [cnt] * cnt\n",
    "        cnt += 1\n",
    "print(sum(result[a-1 : b]))"
   ]
  },
  {
   "cell_type": "code",
   "execution_count": null,
   "metadata": {},
   "outputs": [],
   "source": [
    "import sys\n",
    "\n",
    "a, b = map(int, sys.stdin.readline().split())\n",
    "result = []\n",
    "cnt = 1\n",
    "while True :\n",
    "    if len(result) >= b :\n",
    "        break\n",
    "    else :\n",
    "        result += [cnt] * cnt\n",
    "        cnt += 1\n",
    "print(sum(result[a-1 : b]))"
   ]
  }
 ],
 "metadata": {
  "kernelspec": {
   "display_name": "pytorch",
   "language": "python",
   "name": "python3"
  },
  "language_info": {
   "codemirror_mode": {
    "name": "ipython",
    "version": 3
   },
   "file_extension": ".py",
   "mimetype": "text/x-python",
   "name": "python",
   "nbconvert_exporter": "python",
   "pygments_lexer": "ipython3",
   "version": "3.10.5"
  },
  "orig_nbformat": 4,
  "vscode": {
   "interpreter": {
    "hash": "334544a737ead5017040ac753f52220319955d2381f512ab105ce194db781c37"
   }
  }
 },
 "nbformat": 4,
 "nbformat_minor": 2
}
