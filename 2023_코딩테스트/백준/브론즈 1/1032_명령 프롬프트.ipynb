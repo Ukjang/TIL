{
 "cells": [
  {
   "cell_type": "code",
   "execution_count": 28,
   "metadata": {},
   "outputs": [],
   "source": [
    "text1 = '''\n",
    "3\n",
    "config.sys\n",
    "config.inf\n",
    "configures\n",
    "'''"
   ]
  },
  {
   "cell_type": "code",
   "execution_count": 29,
   "metadata": {},
   "outputs": [
    {
     "data": {
      "text/plain": [
       "['3', 'config.sys', 'config.inf', 'configures']"
      ]
     },
     "execution_count": 29,
     "metadata": {},
     "output_type": "execute_result"
    }
   ],
   "source": [
    "text1.split()"
   ]
  },
  {
   "cell_type": "code",
   "execution_count": 30,
   "metadata": {},
   "outputs": [
    {
     "data": {
      "text/plain": [
       "'config????'"
      ]
     },
     "execution_count": 30,
     "metadata": {},
     "output_type": "execute_result"
    }
   ],
   "source": [
    "input_list = text1.split()\n",
    "cnt = input_list[0]\n",
    "value_list = input_list[1:]\n",
    "\n",
    "answer = ''\n",
    "for i in range(len(value_list[0])) :\n",
    "    temp_set = set()\n",
    "    for value in value_list :\n",
    "        temp_set.add(value[i])\n",
    "    if len(temp_set) == 1:\n",
    "        answer += temp_set.pop()\n",
    "    else :\n",
    "        answer += '?'\n",
    "answer"
   ]
  },
  {
   "cell_type": "code",
   "execution_count": null,
   "metadata": {},
   "outputs": [],
   "source": [
    "cnt = int(input())\n",
    "value_list = []\n",
    "for _ in range(cnt) :\n",
    "    value_list.append(input())\n",
    "\n",
    "answer = ''\n",
    "for i in range(len(value_list[0])) :\n",
    "    temp_set = set()\n",
    "    for value in value_list :\n",
    "        temp_set.add(value[i])\n",
    "    if len(temp_set) == 1:\n",
    "        answer += temp_set.pop()\n",
    "    else :\n",
    "        answer += '?'\n",
    "print(answer)"
   ]
  }
 ],
 "metadata": {
  "kernelspec": {
   "display_name": "pytorch",
   "language": "python",
   "name": "python3"
  },
  "language_info": {
   "codemirror_mode": {
    "name": "ipython",
    "version": 3
   },
   "file_extension": ".py",
   "mimetype": "text/x-python",
   "name": "python",
   "nbconvert_exporter": "python",
   "pygments_lexer": "ipython3",
   "version": "3.10.5"
  },
  "orig_nbformat": 4,
  "vscode": {
   "interpreter": {
    "hash": "334544a737ead5017040ac753f52220319955d2381f512ab105ce194db781c37"
   }
  }
 },
 "nbformat": 4,
 "nbformat_minor": 2
}
