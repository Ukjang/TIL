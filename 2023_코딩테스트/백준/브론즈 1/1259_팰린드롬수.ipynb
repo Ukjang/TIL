{
 "cells": [
  {
   "cell_type": "code",
   "execution_count": 8,
   "metadata": {},
   "outputs": [
    {
     "data": {
      "text/plain": [
       "['yes', 'no', 'yes', 'yes']"
      ]
     },
     "execution_count": 8,
     "metadata": {},
     "output_type": "execute_result"
    }
   ],
   "source": [
    "input1 = '''\n",
    "121\n",
    "1231\n",
    "12421\n",
    "0'''\n",
    "number_list = input1.split()\n",
    "answer = []\n",
    "for number in number_list :\n",
    "    for i in range(len(number) // 2 + 1) :\n",
    "        if number[i] != number[-1-i] :\n",
    "            answer.append('no')\n",
    "            break\n",
    "    else :\n",
    "        answer.append('yes')\n",
    "answer"
   ]
  },
  {
   "cell_type": "code",
   "execution_count": null,
   "metadata": {},
   "outputs": [],
   "source": [
    "\n",
    "import sys\n",
    "\n",
    "while True :\n",
    "    number = sys.stdin.readline().strip()\n",
    "    if number == '0':\n",
    "        break\n",
    "    for i in range(len(number) // 2 + 1) :\n",
    "        if number[i] != number[-1-i] :\n",
    "            print('no')\n",
    "            break\n",
    "    else :\n",
    "        print('yes')"
   ]
  },
  {
   "cell_type": "code",
   "execution_count": 7,
   "metadata": {},
   "outputs": [
    {
     "data": {
      "text/plain": [
       "['121', '1231', '12421', '0']"
      ]
     },
     "execution_count": 7,
     "metadata": {},
     "output_type": "execute_result"
    }
   ],
   "source": [
    "number_list"
   ]
  }
 ],
 "metadata": {
  "kernelspec": {
   "display_name": "pytorch",
   "language": "python",
   "name": "python3"
  },
  "language_info": {
   "codemirror_mode": {
    "name": "ipython",
    "version": 3
   },
   "file_extension": ".py",
   "mimetype": "text/x-python",
   "name": "python",
   "nbconvert_exporter": "python",
   "pygments_lexer": "ipython3",
   "version": "3.10.5"
  },
  "orig_nbformat": 4,
  "vscode": {
   "interpreter": {
    "hash": "334544a737ead5017040ac753f52220319955d2381f512ab105ce194db781c37"
   }
  }
 },
 "nbformat": 4,
 "nbformat_minor": 2
}
