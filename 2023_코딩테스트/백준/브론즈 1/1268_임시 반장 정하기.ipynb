{
 "cells": [
  {
   "cell_type": "code",
   "execution_count": 1,
   "metadata": {},
   "outputs": [],
   "source": [
    "input1 = '''\n",
    "2 3 1 7 3\n",
    "4 1 9 6 8\n",
    "5 5 2 4 4\n",
    "6 5 2 6 7\n",
    "8 4 2 2 2\n",
    "'''"
   ]
  },
  {
   "cell_type": "code",
   "execution_count": 10,
   "metadata": {},
   "outputs": [
    {
     "data": {
      "text/plain": [
       "[['2', '3', '1', '7', '3'],\n",
       " ['4', '1', '9', '6', '8'],\n",
       " ['5', '5', '2', '4', '4'],\n",
       " ['6', '5', '2', '6', '7'],\n",
       " ['8', '4', '2', '2', '2']]"
      ]
     },
     "execution_count": 10,
     "metadata": {},
     "output_type": "execute_result"
    }
   ],
   "source": [
    "grade_list = ['2 3 1 7 3', '4 1 9 6 8', '5 5 2 4 4', '6 5 2 6 7', '8 4 2 2 2']\n",
    "grade_list = [gd.split() for gd in grade_list]\n",
    "grade_list"
   ]
  },
  {
   "cell_type": "code",
   "execution_count": 11,
   "metadata": {},
   "outputs": [
    {
     "data": {
      "text/plain": [
       "2"
      ]
     },
     "execution_count": 11,
     "metadata": {},
     "output_type": "execute_result"
    }
   ],
   "source": [
    "import numpy as np\n",
    "\n",
    "list1 = [2, 4, 6, 6, 3, 1]\n",
    "np.argmax(list1)"
   ]
  },
  {
   "cell_type": "code",
   "execution_count": 19,
   "metadata": {},
   "outputs": [
    {
     "name": "stdout",
     "output_type": "stream",
     "text": [
      "0 set()\n",
      "1 {3}\n",
      "2 {3, 4}\n",
      "3 {1, 2, 4}\n",
      "4 {2, 3}\n"
     ]
    },
    {
     "data": {
      "text/plain": [
       "4"
      ]
     },
     "execution_count": 19,
     "metadata": {},
     "output_type": "execute_result"
    }
   ],
   "source": [
    "import numpy as np\n",
    "\n",
    "answer = []\n",
    "# 학생 선택\n",
    "for i in range(5) :\n",
    "    temp_set = set()\n",
    "    # 학년 선택\n",
    "    for j in range(5) :\n",
    "        temp_value = grade_list[i][j]\n",
    "        # 다른 학생과 비교\n",
    "        for rem in range(5) :\n",
    "            if i == rem :\n",
    "                pass\n",
    "            else :\n",
    "                if grade_list[rem][j] == temp_value :\n",
    "                    temp_set.add(rem)\n",
    "    print(i, temp_set)\n",
    "    answer.append(len(temp_set))\n",
    "answer.index(max(answer))+ 1"
   ]
  },
  {
   "cell_type": "code",
   "execution_count": null,
   "metadata": {},
   "outputs": [],
   "source": [
    "import sys\n",
    "\n",
    "student_cnt = int(sys.stdin.readline())\n",
    "grade_list = []\n",
    "for _ in range(student_cnt) :\n",
    "    grade_list.append(sys.stdin.readline().split())\n",
    "\n",
    "answer = []\n",
    "# 학생 선택\n",
    "for i in range(student_cnt) :\n",
    "    temp_set = set()\n",
    "    # 학년 선택\n",
    "    for j in range(5) :\n",
    "        temp_value = grade_list[i][j]\n",
    "        # 다른 학생과 비교\n",
    "        for rem in range(student_cnt) :\n",
    "            if i == rem :\n",
    "                pass\n",
    "            else :\n",
    "                if grade_list[rem][j] == temp_value :\n",
    "                    temp_set.add(rem)\n",
    "    answer.append(len(temp_set))\n",
    "print(answer.index(max(answer)) + 1)"
   ]
  },
  {
   "cell_type": "code",
   "execution_count": 18,
   "metadata": {},
   "outputs": [
    {
     "data": {
      "text/plain": [
       "3"
      ]
     },
     "execution_count": 18,
     "metadata": {},
     "output_type": "execute_result"
    }
   ],
   "source": [
    "answer.index(max(answer))"
   ]
  },
  {
   "cell_type": "code",
   "execution_count": 13,
   "metadata": {},
   "outputs": [
    {
     "data": {
      "text/plain": [
       "[2, 0, 4, 2, 3]"
      ]
     },
     "execution_count": 13,
     "metadata": {},
     "output_type": "execute_result"
    }
   ],
   "source": [
    "answer"
   ]
  }
 ],
 "metadata": {
  "kernelspec": {
   "display_name": "pytorch",
   "language": "python",
   "name": "python3"
  },
  "language_info": {
   "codemirror_mode": {
    "name": "ipython",
    "version": 3
   },
   "file_extension": ".py",
   "mimetype": "text/x-python",
   "name": "python",
   "nbconvert_exporter": "python",
   "pygments_lexer": "ipython3",
   "version": "3.10.5"
  },
  "orig_nbformat": 4,
  "vscode": {
   "interpreter": {
    "hash": "334544a737ead5017040ac753f52220319955d2381f512ab105ce194db781c37"
   }
  }
 },
 "nbformat": 4,
 "nbformat_minor": 2
}
