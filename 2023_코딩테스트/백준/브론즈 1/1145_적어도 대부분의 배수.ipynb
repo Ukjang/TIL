{
 "cells": [
  {
   "cell_type": "code",
   "execution_count": 10,
   "metadata": {},
   "outputs": [
    {
     "data": {
      "text/plain": [
       "210"
      ]
     },
     "execution_count": 10,
     "metadata": {},
     "output_type": "execute_result"
    }
   ],
   "source": [
    "input1 = '30 42 70 35 90'\n",
    "number_list = list(map(int, input1.split()))\n",
    "number_list.sort()\n",
    "answer = number_list[2]\n",
    "while True :\n",
    "    cnt = 0\n",
    "    for number in number_list :\n",
    "        if answer % number == 0 :\n",
    "            cnt += 1\n",
    "        if cnt == 3:\n",
    "            break\n",
    "    if cnt == 3:\n",
    "            break\n",
    "    answer += 1\n",
    "answer"
   ]
  },
  {
   "cell_type": "code",
   "execution_count": null,
   "metadata": {},
   "outputs": [],
   "source": [
    "\n",
    "import sys\n",
    "\n",
    "number_list = list(map(int, sys.stdin.readline().split()))\n",
    "number_list.sort()\n",
    "answer = number_list[2]\n",
    "while True :\n",
    "    cnt = 0\n",
    "    for number in number_list :\n",
    "        if answer % number == 0 :\n",
    "            cnt += 1\n",
    "        if cnt == 3:\n",
    "            break\n",
    "    if cnt == 3:\n",
    "            break\n",
    "    answer += 1\n",
    "print(answer)"
   ]
  },
  {
   "cell_type": "code",
   "execution_count": 9,
   "metadata": {},
   "outputs": [
    {
     "data": {
      "text/plain": [
       "6845147"
      ]
     },
     "execution_count": 9,
     "metadata": {},
     "output_type": "execute_result"
    }
   ],
   "source": [
    "answer"
   ]
  }
 ],
 "metadata": {
  "kernelspec": {
   "display_name": "pytorch",
   "language": "python",
   "name": "python3"
  },
  "language_info": {
   "codemirror_mode": {
    "name": "ipython",
    "version": 3
   },
   "file_extension": ".py",
   "mimetype": "text/x-python",
   "name": "python",
   "nbconvert_exporter": "python",
   "pygments_lexer": "ipython3",
   "version": "3.10.5"
  },
  "orig_nbformat": 4,
  "vscode": {
   "interpreter": {
    "hash": "334544a737ead5017040ac753f52220319955d2381f512ab105ce194db781c37"
   }
  }
 },
 "nbformat": 4,
 "nbformat_minor": 2
}
