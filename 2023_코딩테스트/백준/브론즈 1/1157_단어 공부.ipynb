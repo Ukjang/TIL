{
 "cells": [
  {
   "cell_type": "code",
   "execution_count": 19,
   "metadata": {},
   "outputs": [
    {
     "name": "stdout",
     "output_type": "stream",
     "text": [
      "Z\n"
     ]
    }
   ],
   "source": [
    "# 첫째 줄에 이 단어에서 가장 많이 사용된 알파벳을 대문자로 출력한다. 단, 가장 많이 사용된 알파벳이 여러 개 존재하는 경우에는 ?를 출력한다.\n",
    "from collections import Counter\n",
    "input1 = 'zZa'.upper()\n",
    "sorted_list = sorted(Counter(input1).items(), key = lambda x : x[1], reverse = True)\n",
    "answer = ''\n",
    "temp_cnt = -1\n",
    "# 길이가 1이면 해당 문자 리턴\n",
    "if len(sorted_list) == 1 :\n",
    "    answer += sorted_list[0][0]\n",
    "else :\n",
    "    # 앞에 두 글자의 빈도가 다르면\n",
    "    if sorted_list[0][1] != sorted_list[1][1] :\n",
    "        answer += sorted_list[0][0]\n",
    "    # 최대 빈도 글자가 2개 이상이면\n",
    "    else :\n",
    "        answer = '?'\n",
    "print(answer)"
   ]
  },
  {
   "cell_type": "code",
   "execution_count": null,
   "metadata": {},
   "outputs": [],
   "source": [
    "\n",
    "import sys\n",
    "\n",
    "from collections import Counter\n",
    "input1 = str(sys.stdin.readline().strip()).upper()\n",
    "sorted_list = sorted(Counter(input1).items(), key = lambda x : x[1], reverse = True)\n",
    "answer = ''\n",
    "temp_cnt = -1\n",
    "# 길이가 1이면 해당 문자 리턴\n",
    "if len(sorted_list) == 1 :\n",
    "    answer += sorted_list[0][0]\n",
    "else :\n",
    "    # 앞에 두 글자의 빈도가 다르면\n",
    "    if sorted_list[0][1] != sorted_list[1][1] :\n",
    "        answer += sorted_list[0][0]\n",
    "    # 최대 빈도 글자가 2개 이상이면\n",
    "    else :\n",
    "        answer = '?'\n",
    "print(answer)"
   ]
  }
 ],
 "metadata": {
  "kernelspec": {
   "display_name": "pytorch",
   "language": "python",
   "name": "python3"
  },
  "language_info": {
   "codemirror_mode": {
    "name": "ipython",
    "version": 3
   },
   "file_extension": ".py",
   "mimetype": "text/x-python",
   "name": "python",
   "nbconvert_exporter": "python",
   "pygments_lexer": "ipython3",
   "version": "3.10.5"
  },
  "orig_nbformat": 4,
  "vscode": {
   "interpreter": {
    "hash": "334544a737ead5017040ac753f52220319955d2381f512ab105ce194db781c37"
   }
  }
 },
 "nbformat": 4,
 "nbformat_minor": 2
}
