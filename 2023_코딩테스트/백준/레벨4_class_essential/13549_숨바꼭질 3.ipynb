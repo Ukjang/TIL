{
 "cells": [
  {
   "cell_type": "code",
   "execution_count": 20,
   "metadata": {},
   "outputs": [],
   "source": [
    "n, k = 5, 17"
   ]
  },
  {
   "cell_type": "code",
   "execution_count": 26,
   "metadata": {},
   "outputs": [
    {
     "name": "stdout",
     "output_type": "stream",
     "text": [
      "2\n"
     ]
    }
   ],
   "source": [
    "from collections import deque\n",
    "max = 100001\n",
    "# 전체 수치 지정. 시작이 0이므로 -1로 설정\n",
    "result = [-1] * max\n",
    "queue = deque()\n",
    "queue.append(n)\n",
    "result[n] = 0\n",
    "while queue :\n",
    "    val = queue.popleft()\n",
    "    temp = result[val]\n",
    "    if val * 2 < max :\n",
    "        # 순간이동하는 경우 appendleft\n",
    "        if result[val*2] == -1 :\n",
    "            result[val*2] = temp\n",
    "            queue.appendleft(val*2)\n",
    "    if (val + 1) < max :\n",
    "        if result[val + 1] == -1 :\n",
    "            result[val + 1] = temp + 1\n",
    "            queue.append(val + 1)\n",
    "    if (val -1) >= 0 :\n",
    "        if result[val - 1] == -1 :\n",
    "            result[val - 1] = temp + 1\n",
    "            queue.append(val - 1)\n",
    "\n",
    "    if val == k :\n",
    "        print(temp)\n",
    "        break"
   ]
  },
  {
   "cell_type": "code",
   "execution_count": null,
   "metadata": {},
   "outputs": [],
   "source": [
    "import sys\n",
    "from collections import deque\n",
    "n, k = map(int, sys.stdin.readline().split())\n",
    "max = 100001\n",
    "result = [-1] * max\n",
    "queue = deque()\n",
    "queue.append(n)\n",
    "result[n] = 0\n",
    "while queue :\n",
    "    val = queue.popleft()\n",
    "    temp = result[val]\n",
    "    if val * 2 < max :\n",
    "        if result[val*2] == -1 :\n",
    "            result[val*2] = temp\n",
    "            queue.appendleft(val*2)\n",
    "    if (val + 1) < max :\n",
    "        if result[val + 1] == -1 :\n",
    "            result[val + 1] = temp + 1\n",
    "            queue.append(val + 1)\n",
    "    if (val -1) >= 0 :\n",
    "        if result[val - 1] == -1 :\n",
    "            result[val - 1] = temp + 1\n",
    "            queue.append(val - 1)\n",
    "\n",
    "    if val == k :\n",
    "        print(temp)\n",
    "        break\n",
    "\n"
   ]
  }
 ],
 "metadata": {
  "kernelspec": {
   "display_name": "Python 3",
   "language": "python",
   "name": "python3"
  },
  "language_info": {
   "codemirror_mode": {
    "name": "ipython",
    "version": 3
   },
   "file_extension": ".py",
   "mimetype": "text/x-python",
   "name": "python",
   "nbconvert_exporter": "python",
   "pygments_lexer": "ipython3",
   "version": "3.8.10"
  },
  "orig_nbformat": 4
 },
 "nbformat": 4,
 "nbformat_minor": 2
}
