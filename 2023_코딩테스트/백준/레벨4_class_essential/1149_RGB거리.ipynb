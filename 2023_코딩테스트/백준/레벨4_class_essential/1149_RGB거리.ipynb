{
 "cells": [
  {
   "cell_type": "code",
   "execution_count": 12,
   "metadata": {},
   "outputs": [
    {
     "data": {
      "text/plain": [
       "[[1, 100, 100], [200, 101, 101], [102, 201, 201]]"
      ]
     },
     "execution_count": 12,
     "metadata": {},
     "output_type": "execute_result"
    }
   ],
   "source": [
    "# 이전리스트의 최소값을 구해서 현재에 더하기!\n",
    "f = open('./1149_RGB거리.txt', 'r')\n",
    "cnt = int(f.readline())\n",
    "data = []\n",
    "for _ in range(cnt) :\n",
    "    temp = list(map(int, f.readline().split()))\n",
    "    data.append(temp)\n",
    "for i in range(1,len(data)) :\n",
    "    data[i][0] = min(data[i-1][1], data[i-1][2]) + data[i][0]\n",
    "    data[i][1] = min(data[i-1][0], data[i-1][2]) + data[i][1]\n",
    "    data[i][2] = min(data[i-1][0], data[i-1][1]) + data[i][2]\n",
    "data\n"
   ]
  },
  {
   "cell_type": "code",
   "execution_count": null,
   "metadata": {},
   "outputs": [],
   "source": [
    "import sys\n",
    "# 이전리스트의 최소값을 구해서 현재에 더하기!\n",
    "\n",
    "cnt = int(sys.stdin.readline())\n",
    "data = []\n",
    "for _ in range(cnt) :\n",
    "    temp = list(map(int, sys.stdin.readline().split()))\n",
    "    data.append(temp)\n",
    "for i in range(1,len(data)) :\n",
    "    data[i][0] = min(data[i-1][1], data[i-1][2]) + data[i][0]\n",
    "    data[i][1] = min(data[i-1][0], data[i-1][2]) + data[i][1]\n",
    "    data[i][2] = min(data[i-1][0], data[i-1][1]) + data[i][2]\n",
    "print(min(data[-1]))\n"
   ]
  }
 ],
 "metadata": {
  "kernelspec": {
   "display_name": "Python 3",
   "language": "python",
   "name": "python3"
  },
  "language_info": {
   "codemirror_mode": {
    "name": "ipython",
    "version": 3
   },
   "file_extension": ".py",
   "mimetype": "text/x-python",
   "name": "python",
   "nbconvert_exporter": "python",
   "pygments_lexer": "ipython3",
   "version": "3.8.10"
  },
  "orig_nbformat": 4
 },
 "nbformat": 4,
 "nbformat_minor": 2
}
