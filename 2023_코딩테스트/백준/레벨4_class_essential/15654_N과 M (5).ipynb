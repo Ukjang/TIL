{
 "cells": [
  {
   "cell_type": "code",
   "execution_count": 14,
   "metadata": {},
   "outputs": [
    {
     "name": "stdout",
     "output_type": "stream",
     "text": [
      "1231 1232 1233 1234\n",
      "1231 1232 1234 1233\n",
      "1231 1233 1232 1234\n",
      "1231 1233 1234 1232\n",
      "1231 1234 1232 1233\n",
      "1231 1234 1233 1232\n",
      "1232 1231 1233 1234\n",
      "1232 1231 1234 1233\n",
      "1232 1233 1231 1234\n",
      "1232 1233 1234 1231\n",
      "1232 1234 1231 1233\n",
      "1232 1234 1233 1231\n",
      "1233 1231 1232 1234\n",
      "1233 1231 1234 1232\n",
      "1233 1232 1231 1234\n",
      "1233 1232 1234 1231\n",
      "1233 1234 1231 1232\n",
      "1233 1234 1232 1231\n",
      "1234 1231 1232 1233\n",
      "1234 1231 1233 1232\n",
      "1234 1232 1231 1233\n",
      "1234 1232 1233 1231\n",
      "1234 1233 1231 1232\n",
      "1234 1233 1232 1231\n"
     ]
    }
   ],
   "source": [
    "f = open('./15654_N과 M (5).txt', 'r')\n",
    "n, m = map(int, f.readline().split())\n",
    "data = list(sorted(map(int, f.readline().split())))\n",
    "\n",
    "from itertools import permutations\n",
    "result = list(permutations(data, m))\n",
    "for res in result :\n",
    "    print(' '.join(map(str,res)))"
   ]
  },
  {
   "cell_type": "code",
   "execution_count": null,
   "metadata": {},
   "outputs": [],
   "source": [
    "import sys\n",
    "from itertools import permutations\n",
    "\n",
    "n, m = map(int, sys.stdin.readline().split())\n",
    "data = list(sorted(map(int, sys.stdin.readline().split())))\n",
    "\n",
    "result = list(permutations(data, m))\n",
    "for res in result :\n",
    "    print(' '.join(map(str,res)))"
   ]
  }
 ],
 "metadata": {
  "kernelspec": {
   "display_name": "Python 3",
   "language": "python",
   "name": "python3"
  },
  "language_info": {
   "codemirror_mode": {
    "name": "ipython",
    "version": 3
   },
   "file_extension": ".py",
   "mimetype": "text/x-python",
   "name": "python",
   "nbconvert_exporter": "python",
   "pygments_lexer": "ipython3",
   "version": "3.8.10"
  },
  "orig_nbformat": 4
 },
 "nbformat": 4,
 "nbformat_minor": 2
}
