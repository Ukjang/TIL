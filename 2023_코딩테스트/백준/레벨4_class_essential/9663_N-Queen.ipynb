{
 "cells": [
  {
   "cell_type": "code",
   "execution_count": 1,
   "metadata": {},
   "outputs": [
    {
     "name": "stdout",
     "output_type": "stream",
     "text": [
      "92\n"
     ]
    }
   ],
   "source": [
    "n = 8\n",
    "ans = 0\n",
    "row = [0] * n\n",
    "def is_promising(x) :\n",
    "    for i in range(x) :\n",
    "        if row[x] == row[i] or abs(row[x]-row[i]) == abs(x-i) :\n",
    "            return False\n",
    "    return True\n",
    "\n",
    "def n_queens(x) :\n",
    "    global ans \n",
    "    # 모든 퀸 배치되면 + 1\n",
    "    if x == n :\n",
    "        ans += 1\n",
    "\n",
    "    else :\n",
    "        for i in range(n) :\n",
    "            # [x, i]에 퀸을 놓겠다.\n",
    "            row[x] = i\n",
    "            if is_promising(x) :\n",
    "                n_queens(x+1)\n",
    "n_queens(0)\n",
    "print(ans)\n"
   ]
  },
  {
   "cell_type": "code",
   "execution_count": null,
   "metadata": {},
   "outputs": [],
   "source": [
    "# 탈출조건 먼저 설정\n",
    "# 퀸의 위치 값 for문으로 설정\n",
    "# 1차원배열 인덱스를 활용한 y축값 위치차이와 x축값 위치 차이 검정"
   ]
  },
  {
   "cell_type": "code",
   "execution_count": 3,
   "metadata": {},
   "outputs": [
    {
     "name": "stdout",
     "output_type": "stream",
     "text": [
      "92\n"
     ]
    }
   ],
   "source": [
    "n = 8\n",
    "ans = 0\n",
    "row = [0] * n\n",
    "\n",
    "def is_promising(x) :\n",
    "    for i in range(x) :\n",
    "        # y축값 검정\n",
    "        # x축값 검정은 for문 자체적으로 실행\n",
    "        if row[x] == row[i] or abs(row[x]-row[i]) == abs(x-i) :\n",
    "            # 리턴값 주고 끝\n",
    "            return False\n",
    "    return True\n",
    "\n",
    "def n_queens(x) :\n",
    "    global ans\n",
    "    # 모든 퀸 배치 끝나면\n",
    "    if x == n :\n",
    "        ans += 1\n",
    "    else :\n",
    "        for i in range(n) :\n",
    "            # [x,i] 에 배치하겠다.\n",
    "            row[x] = i\n",
    "            if is_promising(x) :\n",
    "                n_queens(x+1)\n",
    "n_queens(0)\n",
    "print(ans)"
   ]
  },
  {
   "cell_type": "code",
   "execution_count": 16,
   "metadata": {},
   "outputs": [
    {
     "name": "stdout",
     "output_type": "stream",
     "text": [
      "92\n"
     ]
    }
   ],
   "source": [
    "# 1. 탈출식 설정 (대각선 y축차이 절대값 고려)\n",
    "# 2. 모든 퀸 배치되면 끝나도록\n",
    "# 3. 1차원 배열 이용해서 x칸에 y 값 추가\n",
    "\n",
    "n = 8\n",
    "ans = 0\n",
    "row = [0] * n\n",
    "visited = [0] * n\n",
    "def is_promising(x) :\n",
    "    for i in range(x):\n",
    "        # 대각선 y축 고려\n",
    "        if row[i] == row[x] or abs(row[i]-row[x]) == abs(i-x) :\n",
    "            return False\n",
    "    return True\n",
    "\n",
    "def n_queens(x) :\n",
    "    global ans\n",
    "    # 모든 퀸 배치\n",
    "    if x == n :\n",
    "        ans += 1\n",
    "    else :\n",
    "        for i in range(n) :\n",
    "            if visited[i] :\n",
    "                continue\n",
    "\n",
    "            row[x] = i\n",
    "            if is_promising(x) :\n",
    "                visited[i] = True\n",
    "                n_queens(x+1)\n",
    "                visited[i] = False\n",
    "n_queens(0)\n",
    "print(ans)"
   ]
  },
  {
   "cell_type": "code",
   "execution_count": 15,
   "metadata": {},
   "outputs": [
    {
     "data": {
      "text/plain": [
       "[True, True, True, True, True, True, True, True]"
      ]
     },
     "execution_count": 15,
     "metadata": {},
     "output_type": "execute_result"
    }
   ],
   "source": [
    "visited"
   ]
  },
  {
   "cell_type": "code",
   "execution_count": null,
   "metadata": {},
   "outputs": [],
   "source": [
    "import sys\n",
    "n = int(sys.stdin.readline().rstrip())\n",
    "\n",
    "ans = 0\n",
    "row = [0] * n\n",
    "visited = [False] * n\n",
    "def is_promising(x) :\n",
    "    for i in range(x):\n",
    "        # 대각선 y축 고려\n",
    "        if row[i] == row[x] or abs(row[i]-row[x]) == abs(i-x) :\n",
    "            return False\n",
    "    return True\n",
    "\n",
    "def n_queens(x) :\n",
    "    global ans\n",
    "    # 모든 퀸 배치\n",
    "    if x == n :\n",
    "        ans += 1\n",
    "    else :\n",
    "        for i in range(n) :\n",
    "            if visited[i] :\n",
    "                continue\n",
    "\n",
    "            row[x] = i\n",
    "            if is_promising(x) :\n",
    "                visited[i] = True\n",
    "                n_queens(x+1)\n",
    "                visited[i] = False\n",
    "n_queens(0)\n",
    "print(ans)"
   ]
  },
  {
   "cell_type": "code",
   "execution_count": 7,
   "metadata": {},
   "outputs": [
    {
     "data": {
      "text/plain": [
       "[7, 7, 7, 7, 7, 7, 7, 7]"
      ]
     },
     "execution_count": 7,
     "metadata": {},
     "output_type": "execute_result"
    }
   ],
   "source": [
    "row"
   ]
  },
  {
   "cell_type": "code",
   "execution_count": 17,
   "metadata": {},
   "outputs": [
    {
     "data": {
      "text/plain": [
       "True"
      ]
     },
     "execution_count": 17,
     "metadata": {},
     "output_type": "execute_result"
    }
   ],
   "source": [
    "0 == False"
   ]
  }
 ],
 "metadata": {
  "kernelspec": {
   "display_name": "Python 3",
   "language": "python",
   "name": "python3"
  },
  "language_info": {
   "codemirror_mode": {
    "name": "ipython",
    "version": 3
   },
   "file_extension": ".py",
   "mimetype": "text/x-python",
   "name": "python",
   "nbconvert_exporter": "python",
   "pygments_lexer": "ipython3",
   "version": "3.8.10"
  },
  "orig_nbformat": 4
 },
 "nbformat": 4,
 "nbformat_minor": 2
}
