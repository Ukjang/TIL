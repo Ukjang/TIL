{
 "cells": [
  {
   "cell_type": "code",
   "execution_count": null,
   "metadata": {},
   "outputs": [],
   "source": [
    "import sys\n",
    "sys.setrecursionlimit(10**6)\n",
    "\n",
    "n = int(input())\n",
    "in_order = list(map(int, input().split()))\n",
    "post_order = list(map(int, input().split()))\n",
    "\n",
    "pos = [0]*(n+1)\n",
    "for i in range(n):\n",
    "    pos[in_order[i]] = i\n",
    "\n",
    "# 전위 순회\n",
    "def divide(in_start, in_end, p_start, p_end):\n",
    "\n",
    "    if(in_start > in_end) or (p_start > p_end):\n",
    "        return\n",
    "\n",
    "    parents = post_order[p_end]  # 후위순회에서 부모노드 찾기\n",
    "    print(parents, end=\" \")\n",
    "\n",
    "    left = pos[parents] - in_start  # 왼쪽인자 갯수\n",
    "    right = in_end - pos[parents]  # 오른쪽인자 갯수\n",
    "\n",
    "    divide(in_start, in_start+left-1, p_start, p_start+left-1)  # 왼쪽 노드\n",
    "    divide(in_end-right+1, in_end, p_end-right, p_end-1)  # 오른쪽 노드\n",
    "\n",
    "\n",
    "divide(0, n-1, 0, n-1)"
   ]
  }
 ],
 "metadata": {
  "language_info": {
   "name": "python"
  },
  "orig_nbformat": 4
 },
 "nbformat": 4,
 "nbformat_minor": 2
}
