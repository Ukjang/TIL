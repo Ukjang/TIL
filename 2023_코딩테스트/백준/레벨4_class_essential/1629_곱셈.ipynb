{
 "cells": [
  {
   "cell_type": "code",
   "execution_count": 3,
   "metadata": {},
   "outputs": [],
   "source": [
    "a, b, c = 10, 11, 12"
   ]
  },
  {
   "cell_type": "code",
   "execution_count": 4,
   "metadata": {},
   "outputs": [
    {
     "name": "stdout",
     "output_type": "stream",
     "text": [
      "4\n"
     ]
    }
   ],
   "source": [
    "def multi(a,n) :\n",
    "    if n == 1 :\n",
    "        return a %  c\n",
    "    else :\n",
    "        temp = multi(a, n//2)\n",
    "        if n % 2 == 0 :\n",
    "            return (temp*temp) % c\n",
    "        else :\n",
    "            return (temp*temp) % c\n",
    "print(multi(a,b))"
   ]
  },
  {
   "cell_type": "code",
   "execution_count": 5,
   "metadata": {},
   "outputs": [
    {
     "data": {
      "text/plain": [
       "4"
      ]
     },
     "execution_count": 5,
     "metadata": {},
     "output_type": "execute_result"
    }
   ],
   "source": [
    "def multi(a,n) :\n",
    "    if n == 1 :\n",
    "        return a % c\n",
    "    else :\n",
    "        temp = multi(a,n//2)\n",
    "        if n % 2 == 0:\n",
    "            return temp * temp % c\n",
    "        else :\n",
    "            return temp * temp * a % c\n",
    "multi(a,b)"
   ]
  },
  {
   "cell_type": "code",
   "execution_count": null,
   "metadata": {},
   "outputs": [],
   "source": [
    "import sys\n",
    "\n",
    "a, b , c = map(int, sys.stdin.readline().split())\n",
    "\n",
    "def multi(a,n) :\n",
    "    if n == 1 :\n",
    "        return a % c\n",
    "    else :\n",
    "        temp = multi(a,n//2)\n",
    "        if n % 2 == 0:\n",
    "            return temp * temp % c\n",
    "        else :\n",
    "            return temp * temp * a % c\n",
    "print(multi(a,b))"
   ]
  },
  {
   "cell_type": "code",
   "execution_count": null,
   "metadata": {},
   "outputs": [],
   "source": [
    "import sys\n",
    "\n",
    "A, B, C = map(int, sys.stdin.readline().split())\n",
    "\n",
    "temp = A\n",
    "for _ in range(1,B) :\n",
    "    temp = temp * A % C\n",
    "temp"
   ]
  }
 ],
 "metadata": {
  "kernelspec": {
   "display_name": "Python 3",
   "language": "python",
   "name": "python3"
  },
  "language_info": {
   "codemirror_mode": {
    "name": "ipython",
    "version": 3
   },
   "file_extension": ".py",
   "mimetype": "text/x-python",
   "name": "python",
   "nbconvert_exporter": "python",
   "pygments_lexer": "ipython3",
   "version": "3.8.10"
  },
  "orig_nbformat": 4
 },
 "nbformat": 4,
 "nbformat_minor": 2
}
