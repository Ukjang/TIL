{
 "cells": [
  {
   "cell_type": "code",
   "execution_count": 14,
   "metadata": {},
   "outputs": [
    {
     "name": "stdout",
     "output_type": "stream",
     "text": [
      "27\n",
      "6\n",
      "64\n"
     ]
    }
   ],
   "source": [
    "f = open('./11660_구간 합 구하기 5.txt', 'r')\n",
    "n, m = map(int, f.readline().split())\n",
    "data = []\n",
    "# 가중합 리스트 만들어서 따로 처리!\n",
    "sum_data = [[0] * (n+1) for _ in range(n+1)]\n",
    "for _ in range(n) :\n",
    "    data.append(list(map(int, f.readline().split())))\n",
    "\n",
    "for i in range(1, n+1) :\n",
    "    for j in range(1, n+1) :\n",
    "        # 가중합 식은 이전 두개 더해주고 공통된거 뺴주고 해당 값 더하기\n",
    "        sum_data[i][j] = sum_data[i-1][j] + sum_data[i][j-1] - sum_data[i-1][j-1] + data[i-1][j-1]\n",
    "\n",
    "for _ in range(m) :\n",
    "    x1, y1, x2, y2 = map(int, f.readline().split())\n",
    "    print(sum_data[x2][y2] - sum_data[x1-1][y2] - sum_data[x2][y1-1] + sum_data[x1-1][y1-1])\n"
   ]
  },
  {
   "cell_type": "code",
   "execution_count": null,
   "metadata": {},
   "outputs": [],
   "source": [
    "import sys \n",
    "n, m = map(int, sys.stdin.readline().split())\n",
    "data = []\n",
    "# 가중합 리스트 만들어서 따로 처리!\n",
    "sum_data = [[0] * (n+1) for _ in range(n+1)]\n",
    "for _ in range(n) :\n",
    "    data.append(list(map(int, sys.stdin.readline().split())))\n",
    "\n",
    "for i in range(1, n+1) :\n",
    "    for j in range(1, n+1) :\n",
    "        # 가중합 식은 이전 두개 더해주고 공통된거 뺴주고 해당 값 더하기\n",
    "        sum_data[i][j] = sum_data[i-1][j] + sum_data[i][j-1] - sum_data[i-1][j-1] + data[i-1][j-1]\n",
    "\n",
    "for _ in range(m) :\n",
    "    x1, y1, x2, y2 = map(int, sys.stdin.readline().split())\n",
    "    print(sum_data[x2][y2] - sum_data[x1-1][y2] - sum_data[x2][y1-1] + sum_data[x1-1][y1-1])\n",
    " "
   ]
  }
 ],
 "metadata": {
  "kernelspec": {
   "display_name": "Python 3",
   "language": "python",
   "name": "python3"
  },
  "language_info": {
   "codemirror_mode": {
    "name": "ipython",
    "version": 3
   },
   "file_extension": ".py",
   "mimetype": "text/x-python",
   "name": "python",
   "nbconvert_exporter": "python",
   "pygments_lexer": "ipython3",
   "version": "3.8.10"
  },
  "orig_nbformat": 4
 },
 "nbformat": 4,
 "nbformat_minor": 2
}
