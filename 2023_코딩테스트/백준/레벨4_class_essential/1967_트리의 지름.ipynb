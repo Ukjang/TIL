{
 "cells": [
  {
   "cell_type": "code",
   "execution_count": 11,
   "metadata": {},
   "outputs": [
    {
     "data": {
      "text/plain": [
       "[[],\n",
       " [[2, 3], [3, 2]],\n",
       " [[1, 3], [4, 5]],\n",
       " [[1, 2], [5, 11], [6, 9]],\n",
       " [[2, 5], [7, 1], [8, 7]],\n",
       " [[3, 11], [9, 15], [10, 4]],\n",
       " [[3, 9], [11, 6], [12, 10]],\n",
       " [[4, 1]],\n",
       " [[4, 7]],\n",
       " [[5, 15]],\n",
       " [[5, 4]],\n",
       " [[6, 6]],\n",
       " [[6, 10]]]"
      ]
     },
     "execution_count": 11,
     "metadata": {},
     "output_type": "execute_result"
    }
   ],
   "source": [
    "f = open('./1967_트리의 지름.txt', 'r')\n",
    "cnt = int(f.readline())\n",
    "data = [[] for _ in range(cnt + 1)]\n",
    "for _ in range(cnt-1) :\n",
    "    a, b, c = map(int, f.readline().split())\n",
    "    data[a].append([b, c])\n",
    "    data[b].append([a, c])\n",
    "data"
   ]
  },
  {
   "cell_type": "code",
   "execution_count": 16,
   "metadata": {},
   "outputs": [
    {
     "name": "stdout",
     "output_type": "stream",
     "text": [
      "45\n"
     ]
    }
   ],
   "source": [
    "dis = [-1] * (cnt + 1)\n",
    "# 시작지점의 거리 0으로 지정\n",
    "dis[1] = 0\n",
    "def dfs(x, wei) :\n",
    "    for i in data[x] :\n",
    "        a, b = i\n",
    "        # 방문하지 않은 노드라면\n",
    "        if dis[a] == -1 :\n",
    "            dis[a] = b + wei\n",
    "            # 재귀식으로 1에서 해당노드까지의 거리만큼 넣어줌\n",
    "            dfs(a, wei + b)\n",
    "dfs(1, 0)\n",
    "start = dis.index(max(dis))\n",
    "dis = [-1] * (cnt + 1)\n",
    "dis[start] = 0\n",
    "dfs(start, 0)\n",
    "print(max(dis))"
   ]
  },
  {
   "cell_type": "code",
   "execution_count": null,
   "metadata": {},
   "outputs": [],
   "source": [
    "import sys\n",
    "# 재귀 깊이 제한 따로 설정 안해주면 recursion error 발생\n",
    "sys.setrecursionlimit(10**9)\n",
    "cnt = int(sys.stdin.readline())\n",
    "data = [[] for _ in range(cnt + 1)]\n",
    "for _ in range(cnt-1) :\n",
    "    a, b, c = map(int, sys.stdin.readline().split())\n",
    "    data[a].append([b, c])\n",
    "    data[b].append([a, c])\n",
    "dis = [-1] * (cnt + 1)\n",
    "# 시작지점의 거리 0으로 지정\n",
    "dis[1] = 0\n",
    "def dfs(x, wei) :\n",
    "    for i in data[x] :\n",
    "        a, b = i\n",
    "        # 방문하지 않은 노드라면\n",
    "        if dis[a] == -1 :\n",
    "            dis[a] = b + wei\n",
    "            # 재귀식으로 1에서 해당노드까지의 거리만큼 넣어줌\n",
    "            dfs(a, wei + b)\n",
    "dfs(1, 0)\n",
    "start = dis.index(max(dis))\n",
    "dis = [-1] * (cnt + 1)\n",
    "dis[start] = 0\n",
    "dfs(start, 0)\n",
    "print(max(dis))"
   ]
  }
 ],
 "metadata": {
  "kernelspec": {
   "display_name": "Python 3",
   "language": "python",
   "name": "python3"
  },
  "language_info": {
   "codemirror_mode": {
    "name": "ipython",
    "version": 3
   },
   "file_extension": ".py",
   "mimetype": "text/x-python",
   "name": "python",
   "nbconvert_exporter": "python",
   "pygments_lexer": "ipython3",
   "version": "3.8.10"
  },
  "orig_nbformat": 4
 },
 "nbformat": 4,
 "nbformat_minor": 2
}
