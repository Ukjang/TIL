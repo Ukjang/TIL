{
 "cells": [
  {
   "cell_type": "code",
   "execution_count": 15,
   "metadata": {},
   "outputs": [
    {
     "name": "stdout",
     "output_type": "stream",
     "text": [
      "1\n",
      "2\n",
      "3\n"
     ]
    }
   ],
   "source": [
    "f = open('./15650_N과 M (2).txt', 'r')\n",
    "N, M = map(int, f.readline().split())\n",
    "from itertools import combinations\n",
    "number_list = list(range(1,N+1))\n",
    "result = list(combinations(number_list,M))\n",
    "for res in result :\n",
    "    print(' '.join(map(str,res)))"
   ]
  },
  {
   "cell_type": "code",
   "execution_count": null,
   "metadata": {},
   "outputs": [],
   "source": [
    "import sys\n",
    "from itertools import combinations\n",
    "\n",
    "N, M = map(int, sys.stdin.readline().split())\n",
    "number_list = list(range(1,N+1))\n",
    "result = list(combinations(number_list,M))\n",
    "for res in result :\n",
    "    print(' '.join(map(str,res)))"
   ]
  }
 ],
 "metadata": {
  "kernelspec": {
   "display_name": "Python 3",
   "language": "python",
   "name": "python3"
  },
  "language_info": {
   "codemirror_mode": {
    "name": "ipython",
    "version": 3
   },
   "file_extension": ".py",
   "mimetype": "text/x-python",
   "name": "python",
   "nbconvert_exporter": "python",
   "pygments_lexer": "ipython3",
   "version": "3.8.10"
  },
  "orig_nbformat": 4
 },
 "nbformat": 4,
 "nbformat_minor": 2
}
