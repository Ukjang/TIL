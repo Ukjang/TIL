{
 "cells": [
  {
   "cell_type": "code",
   "execution_count": 17,
   "metadata": {},
   "outputs": [
    {
     "data": {
      "text/plain": [
       "15"
      ]
     },
     "execution_count": 17,
     "metadata": {},
     "output_type": "execute_result"
    }
   ],
   "source": [
    "from collections import deque\n",
    "f = open('./2206_벽 부수고 이동하기.txt', 'r')\n",
    "n, m = map(int, f.readline().split())\n",
    "data = []\n",
    "for _ in range(n) :\n",
    "    data.append(list(map(int, f.readline().strip())))\n",
    "visited = [[[0] * 2 for _ in range(m)] for _ in range(n)]\n",
    "visited[0][0][0] = 1\n",
    "\n",
    "dx = [ 0, 0, 1, -1]\n",
    "dy = [ 1, -1, 0, 0]\n",
    "\n",
    "\n",
    "\n",
    "def bfs(x, y, z) :\n",
    "    queue = deque()\n",
    "    queue.append((x, y, z)) \n",
    "    while queue :\n",
    "        a, b, c = queue.popleft()\n",
    "        # 끝점에 도달\n",
    "        if a == n - 1 and b == m -1 :\n",
    "            return visited[a][b][c]\n",
    "        for i in range(4) :\n",
    "            nx = a + dx[i]\n",
    "            ny = b + dy[i]\n",
    "            if nx < 0 or nx >= n or ny < 0 or ny >= m :\n",
    "                continue\n",
    "            # 이동할 곳 이 벽이고 아직 벽 통과 x\n",
    "            if data[nx][ny] == 1 and c == 0 :\n",
    "                visited[nx][ny][1] = visited[a][b][0] + 1\n",
    "                queue.append((nx, ny, 1))\n",
    "            # 이동할 곳이 벽이 아니고 한번도 이동 안한곳\n",
    "            elif data[nx][ny] == 0 and visited[nx][ny][c] == 0 :\n",
    "                visited[nx][ny][c] = visited[a][b][c] + 1\n",
    "                queue.append((nx, ny, c))\n",
    "    return -1\n",
    "print(bfs(0,0,0))"
   ]
  },
  {
   "cell_type": "code",
   "execution_count": null,
   "metadata": {},
   "outputs": [],
   "source": [
    "from collections import deque\n",
    "import sys\n",
    "n, m = map(int, sys.stdin.readline().split())\n",
    "data = []\n",
    "for _ in range(n) :\n",
    "    data.append(list(map(int, sys.stdin.readline().strip())))\n",
    "visited = [[[0] * 2 for _ in range(m)] for _ in range(n)]\n",
    "visited[0][0][0] = 1\n",
    "\n",
    "dx = [ 0, 0, 1, -1]\n",
    "dy = [ 1, -1, 0, 0]\n",
    "\n",
    "\n",
    "\n",
    "def bfs(x, y, z) :\n",
    "    queue = deque()\n",
    "    queue.append((x, y, z)) \n",
    "    while queue :\n",
    "        a, b, c = queue.popleft()\n",
    "        # 끝점에 도달\n",
    "        if a == n - 1 and b == m -1 :\n",
    "            return visited[a][b][c]\n",
    "        for i in range(4) :\n",
    "            nx = a + dx[i]\n",
    "            ny = b + dy[i]\n",
    "            if nx < 0 or nx >= n or ny < 0 or ny >= m :\n",
    "                continue\n",
    "            # 이동할 곳 이 벽이고 아직 벽 통과 x\n",
    "            if data[nx][ny] == 1 and c == 0 :\n",
    "                visited[nx][ny][1] = visited[a][b][0] + 1\n",
    "                queue.append((nx, ny, 1))\n",
    "            # 이동할 곳이 벽이 아니고 한번도 이동 안한곳\n",
    "            elif data[nx][ny] == 0 and visited[nx][ny][c] == 0 :\n",
    "                visited[nx][ny][c] = visited[a][b][c] + 1\n",
    "                queue.append((nx, ny, c))\n",
    "    return -1\n",
    "print(bfs(0,0,0))"
   ]
  },
  {
   "cell_type": "code",
   "execution_count": 10,
   "metadata": {},
   "outputs": [
    {
     "name": "stdout",
     "output_type": "stream",
     "text": [
      "-1\n"
     ]
    }
   ],
   "source": [
    "def bfs(x, y, z):\n",
    "    queue = deque()\n",
    "    queue.append((x, y, z))\n",
    "\n",
    "    while queue:\n",
    "        a, b, c = queue.popleft()\n",
    "        # 끝 점에 도달하면 이동 횟수를 출력\n",
    "        if a == n - 1 and b == m - 1:\n",
    "            return visited[a][b][c]\n",
    "        for i in range(4):\n",
    "            nx = a + dx[i]\n",
    "            ny = b + dy[i]\n",
    "            if nx < 0 or nx >= n or ny < 0 or ny >= m:\n",
    "                continue\n",
    "            # 다음 이동할 곳이 벽이고, 벽파괴기회를 사용하지 않은 경우\n",
    "            if data[nx][ny] == 1 and c == 0 :\n",
    "                visited[nx][ny][1] = visited[a][b][0] + 1\n",
    "                queue.append((nx, ny, 1))\n",
    "            # 다음 이동할 곳이 벽이 아니고, 아직 한 번도 방문하지 않은 곳이면\n",
    "            elif data[nx][ny] == 0 and visited[nx][ny][c] == 0:\n",
    "                visited[nx][ny][c] = visited[a][b][c] + 1\n",
    "                queue.append((nx, ny, c))\n",
    "    return -1\n",
    "\n",
    "\n",
    "print(bfs(0, 0, 0))"
   ]
  }
 ],
 "metadata": {
  "kernelspec": {
   "display_name": "Python 3",
   "language": "python",
   "name": "python3"
  },
  "language_info": {
   "codemirror_mode": {
    "name": "ipython",
    "version": 3
   },
   "file_extension": ".py",
   "mimetype": "text/x-python",
   "name": "python",
   "nbconvert_exporter": "python",
   "pygments_lexer": "ipython3",
   "version": "3.8.10"
  },
  "orig_nbformat": 4
 },
 "nbformat": 4,
 "nbformat_minor": 2
}
