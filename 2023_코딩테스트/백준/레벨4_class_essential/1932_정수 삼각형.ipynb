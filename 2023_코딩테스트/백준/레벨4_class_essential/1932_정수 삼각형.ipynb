{
 "cells": [
  {
   "cell_type": "code",
   "execution_count": 20,
   "metadata": {},
   "outputs": [
    {
     "data": {
      "text/plain": [
       "[[7], [3, 8], [8, 1, 0], [2, 7, 4, 4], [4, 5, 2, 6, 5]]"
      ]
     },
     "execution_count": 20,
     "metadata": {},
     "output_type": "execute_result"
    }
   ],
   "source": [
    "f = open('./1932_정수 삼각형.txt', 'r')\n",
    "cnt = int(f.readline())\n",
    "data = []\n",
    "for _ in range(cnt) :\n",
    "    temp = list(map(int, f.readline().split()))\n",
    "    data.append(temp)\n",
    "data"
   ]
  },
  {
   "cell_type": "code",
   "execution_count": 21,
   "metadata": {},
   "outputs": [
    {
     "name": "stdout",
     "output_type": "stream",
     "text": [
      "30\n"
     ]
    }
   ],
   "source": [
    "# 이전단계 최대값 기준으로 더함\n",
    "# 처음과 끝 지점에 대한 이전 인덱스 지정\n",
    "for i in range(1, cnt) :\n",
    "    for j in range(len(data[i])) :\n",
    "        if j == 0 :\n",
    "            data[i][j] += data[i-1][j]\n",
    "        elif j == len(data[i-1]) :\n",
    "            data[i][j] += data[i-1][j-1]\n",
    "        else :\n",
    "            data[i][j] += max(data[i-1][j-1], data[i-1][j])\n",
    "print(max(data[cnt-1]))\n"
   ]
  },
  {
   "cell_type": "code",
   "execution_count": null,
   "metadata": {},
   "outputs": [],
   "source": [
    "import sys \n",
    "cnt = int(sys.stdin.readline())\n",
    "data = []\n",
    "for _ in range(cnt) :\n",
    "    temp = list(map(int, sys.stdin.readline().split()))\n",
    "    data.append(temp)\n",
    "\n",
    "for i in range(1, cnt) :\n",
    "    for j in range(len(data[i])) :\n",
    "        if j == 0 :\n",
    "            data[i][j] += data[i-1][j]\n",
    "        elif j == len(data[i-1]) :\n",
    "            data[i][j] += data[i-1][j-1]\n",
    "        else :\n",
    "            data[i][j] += max(data[i-1][j-1], data[i-1][j])\n",
    "print(max(data[cnt-1]))"
   ]
  },
  {
   "cell_type": "code",
   "execution_count": 22,
   "metadata": {},
   "outputs": [
    {
     "data": {
      "text/plain": [
       "[[7], [10, 15], [18, 16, 15], [20, 25, 20, 19], [24, 30, 27, 26, 24]]"
      ]
     },
     "execution_count": 22,
     "metadata": {},
     "output_type": "execute_result"
    }
   ],
   "source": [
    "data"
   ]
  }
 ],
 "metadata": {
  "kernelspec": {
   "display_name": "Python 3",
   "language": "python",
   "name": "python3"
  },
  "language_info": {
   "codemirror_mode": {
    "name": "ipython",
    "version": 3
   },
   "file_extension": ".py",
   "mimetype": "text/x-python",
   "name": "python",
   "nbconvert_exporter": "python",
   "pygments_lexer": "ipython3",
   "version": "3.8.10"
  },
  "orig_nbformat": 4
 },
 "nbformat": 4,
 "nbformat_minor": 2
}
