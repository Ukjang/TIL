{
 "cells": [
  {
   "cell_type": "code",
   "execution_count": 22,
   "metadata": {},
   "outputs": [
    {
     "name": "stdout",
     "output_type": "stream",
     "text": [
      "4\n"
     ]
    }
   ],
   "source": [
    "f = open('./11053_가장 긴 증가하는 부분 수열.txt', 'r')\n",
    "cnt = int(f.readline())\n",
    "result = [0] * cnt\n",
    "data = list(map(int, f.readline().split()))\n",
    "# 자기자신보다 값이 값중 최대 길이 + 1 하면 됨!\n",
    "# 그리디 풀떄 앞에서 부터 하기보다는 이미 있는것에서 +1 로직도 생각해보기!\n",
    "for i in range(len(data)) :\n",
    "    for j in range(i) :\n",
    "        if data[i] > data[j] and result[i] < result[j] :\n",
    "            result[i] = result[j]\n",
    "    result[i] += 1\n",
    "print(max(result))"
   ]
  },
  {
   "cell_type": "code",
   "execution_count": null,
   "metadata": {},
   "outputs": [],
   "source": [
    "import sys\n",
    "cnt = int(sys.stdin.readline())\n",
    "result = [0] * cnt\n",
    "data = list(map(int, sys.stdin.readline().split()))\n",
    "\n",
    "for i in range(len(data)) :\n",
    "    for j in range(i) :\n",
    "        if data[i] > data[j] and result[i] < result[j] :\n",
    "            result[i] = result[j]\n",
    "    result[i] += 1\n",
    "print(max(result))"
   ]
  }
 ],
 "metadata": {
  "kernelspec": {
   "display_name": "Python 3",
   "language": "python",
   "name": "python3"
  },
  "language_info": {
   "codemirror_mode": {
    "name": "ipython",
    "version": 3
   },
   "file_extension": ".py",
   "mimetype": "text/x-python",
   "name": "python",
   "nbconvert_exporter": "python",
   "pygments_lexer": "ipython3",
   "version": "3.8.10"
  },
  "orig_nbformat": 4
 },
 "nbformat": 4,
 "nbformat_minor": 2
}
