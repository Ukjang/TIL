{
 "cells": [
  {
   "cell_type": "code",
   "execution_count": 8,
   "metadata": {},
   "outputs": [],
   "source": [
    "f = open('./9465_스티커.txt', 'r')\n",
    "test_cnt = int(f.readline())"
   ]
  },
  {
   "cell_type": "code",
   "execution_count": 9,
   "metadata": {},
   "outputs": [
    {
     "name": "stdout",
     "output_type": "stream",
     "text": [
      "260\n",
      "290\n"
     ]
    }
   ],
   "source": [
    "# 해당 스티커의 이전 대각선 값 and 그 대각선 값의 왼쪽값의 max에 더해주면 됨\n",
    "for _ in range(test_cnt) :\n",
    "    stick_cnt = int(f.readline())\n",
    "    stick_line = []\n",
    "    stick_line.append(list(map(int, f.readline().split())))\n",
    "    stick_line.append(list(map(int, f.readline().split())))\n",
    "    for j in range(stick_cnt) :\n",
    "        for i in range(2) :\n",
    "            # 첫번쨰 줄인 경우\n",
    "            if j == 0:\n",
    "                pass\n",
    "            # 대각선값만 비교 가능\n",
    "            elif j == 1 :\n",
    "                stick_line[i][j] = stick_line[i-1][j-1] + stick_line[i][j] \n",
    "            # 이전이 두줄이상\n",
    "            else :\n",
    "                stick_line[i][j] = max(stick_line[i-1][j-1],stick_line[i-1][j-2]) + stick_line[i][j]\n",
    "    print(max((max(stick_line[0]), max(stick_line[1]))))"
   ]
  },
  {
   "cell_type": "code",
   "execution_count": null,
   "metadata": {},
   "outputs": [],
   "source": [
    "import sys\n",
    "test_cnt = int(sys.stdin.readline())\n",
    "# 해당 스티커의 이전 대각선 값 and 그 대각선 값의 왼쪽값의 max에 더해주면 됨\n",
    "for _ in range(test_cnt) :\n",
    "    stick_cnt = int(sys.stdin.readline())\n",
    "    stick_line = []\n",
    "    stick_line.append(list(map(int, sys.stdin.readline().split())))\n",
    "    stick_line.append(list(map(int, sys.stdin.readline().split())))\n",
    "    for j in range(stick_cnt) :\n",
    "        for i in range(2) :\n",
    "            # 첫번쨰 줄인 경우\n",
    "            if j == 0:\n",
    "                pass\n",
    "            # 대각선값만 비교 가능\n",
    "            elif j == 1 :\n",
    "                stick_line[i][j] = stick_line[i-1][j-1] + stick_line[i][j] \n",
    "            # 이전이 두줄이상\n",
    "            else :\n",
    "                stick_line[i][j] = max(stick_line[i-1][j-1],stick_line[i-1][j-2]) + stick_line[i][j]\n",
    "    print(max((max(stick_line[0]), max(stick_line[1]))))"
   ]
  }
 ],
 "metadata": {
  "kernelspec": {
   "display_name": "Python 3",
   "language": "python",
   "name": "python3"
  },
  "language_info": {
   "codemirror_mode": {
    "name": "ipython",
    "version": 3
   },
   "file_extension": ".py",
   "mimetype": "text/x-python",
   "name": "python",
   "nbconvert_exporter": "python",
   "pygments_lexer": "ipython3",
   "version": "3.8.10"
  },
  "orig_nbformat": 4
 },
 "nbformat": 4,
 "nbformat_minor": 2
}
