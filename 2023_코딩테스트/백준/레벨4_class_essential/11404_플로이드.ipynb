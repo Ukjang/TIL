{
 "cells": [
  {
   "cell_type": "code",
   "execution_count": 24,
   "metadata": {},
   "outputs": [],
   "source": [
    "f = open('./11404_플로이드.txt', 'r')"
   ]
  },
  {
   "cell_type": "code",
   "execution_count": 25,
   "metadata": {},
   "outputs": [
    {
     "data": {
      "text/plain": [
       "[[],\n",
       " [(2, 2), (3, 3), (1, 4), (10, 5), (2, 4)],\n",
       " [(2, 4)],\n",
       " [(1, 4), (1, 5), (10, 5), (8, 1), (2, 4)],\n",
       " [(3, 5)],\n",
       " [(7, 1), (4, 2)]]"
      ]
     },
     "execution_count": 25,
     "metadata": {},
     "output_type": "execute_result"
    }
   ],
   "source": [
    "city_num= int(f.readline())\n",
    "bus_num = int(f.readline())\n",
    "arr = [[]*(city_num+1) for _ in range(city_num+1)]\n",
    "for _ in range(bus_num) :\n",
    "    start, end, price = map(int, f.readline().split())\n",
    "    arr[start].append((price, end))\n",
    "arr"
   ]
  },
  {
   "cell_type": "code",
   "execution_count": 32,
   "metadata": {},
   "outputs": [
    {
     "name": "stdout",
     "output_type": "stream",
     "text": [
      "0 2 3 1 4\n",
      "12 0 15 2 5\n",
      "8 5 0 1 1\n",
      "10 7 13 0 3\n",
      "7 4 10 6 0\n"
     ]
    }
   ],
   "source": [
    "from collections import deque\n",
    "# 힙 이용하는거 잊지 말기!\n",
    "import heapq\n",
    "import sys\n",
    "for st in range(1, city_num+1) :\n",
    "    heap = []\n",
    "    heap.append((0,st))\n",
    "    INF = sys.maxsize\n",
    "    cost_list = [INF] * (city_num)\n",
    "    while heap :\n",
    "        price, city = heapq.heappop(heap)\n",
    "        # 시작도시와 도착도시 같은 경우 없음\n",
    "        if price > cost_list[city-1] :\n",
    "            continue\n",
    "        for p, next_city in arr[city] :\n",
    "            next_price = price + p\n",
    "            if next_price < cost_list[next_city-1] :\n",
    "                cost_list[next_city-1] = next_price\n",
    "                heapq.heappush(heap,(next_price, next_city))\n",
    "    # 시작도시 0으로 처리\n",
    "    cost_list[st-1] = 0\n",
    "    # 갈 수 없는 경우 0으로 변경\n",
    "    cost_list = [0 if cl == INF else cl for cl in cost_list]\n",
    "    print(' '.join(map(str,cost_list)))"
   ]
  },
  {
   "cell_type": "code",
   "execution_count": null,
   "metadata": {},
   "outputs": [],
   "source": [
    "from collections import deque\n",
    "import sys\n",
    "import heapq\n",
    "city_num= int(sys.stdin.readline())\n",
    "bus_num = int(sys.stdin.readline())\n",
    "arr = [[]*(city_num+1) for _ in range(city_num+1)]\n",
    "for _ in range(bus_num) :\n",
    "    start, end, price = map(int, sys.stdin.readline().split())\n",
    "    arr[start].append((price, end))\n",
    "\n",
    "for st in range(1, city_num+1) :\n",
    "    heap = []\n",
    "    heap.append((0,st))\n",
    "    INF = sys.maxsize\n",
    "    cost_list = [INF] * (city_num)\n",
    "    while heap :\n",
    "        price, city = heapq.heappop(heap)\n",
    "        # 시작도시와 도착도시 같은 경우 없음\n",
    "        if price > cost_list[city-1] :\n",
    "            continue\n",
    "        for p, next_city in arr[city] :\n",
    "            next_price = price + p\n",
    "            if next_price < cost_list[next_city-1] :\n",
    "                cost_list[next_city-1] = next_price\n",
    "                heapq.heappush(heap,(next_price, next_city))\n",
    "    cost_list[st-1] = 0\n",
    "    # 갈수 없는 경우 디버깅\n",
    "    cost_list = [0 if cl == INF else cl for cl in cost_list]\n",
    "    print(' '.join(map(str,cost_list)))"
   ]
  }
 ],
 "metadata": {
  "kernelspec": {
   "display_name": "Python 3",
   "language": "python",
   "name": "python3"
  },
  "language_info": {
   "codemirror_mode": {
    "name": "ipython",
    "version": 3
   },
   "file_extension": ".py",
   "mimetype": "text/x-python",
   "name": "python",
   "nbconvert_exporter": "python",
   "pygments_lexer": "ipython3",
   "version": "3.8.10"
  },
  "orig_nbformat": 4
 },
 "nbformat": 4,
 "nbformat_minor": 2
}
