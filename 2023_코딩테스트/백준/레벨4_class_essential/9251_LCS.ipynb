{
 "cells": [
  {
   "cell_type": "code",
   "execution_count": 4,
   "metadata": {},
   "outputs": [],
   "source": [
    "a, b = 'ACAYKP', 'CAPCAK'\n",
    "a_cnt, b_cnt = len(a), len(b)"
   ]
  },
  {
   "cell_type": "code",
   "execution_count": 17,
   "metadata": {},
   "outputs": [
    {
     "name": "stdout",
     "output_type": "stream",
     "text": [
      "4\n"
     ]
    }
   ],
   "source": [
    "arr = [[0]*(b_cnt+1) for _ in range(a_cnt+1)]\n",
    "for i in range(1,a_cnt+1) :\n",
    "    for j in range(1,b_cnt+1) :\n",
    "        if a[i-1] == b[j-1] :\n",
    "            # 글자 비교 전 값에 + 1\n",
    "            arr[i][j] = arr[i-1][j-1] + 1\n",
    "        else :\n",
    "            # 위 아래 최대값 + 1\n",
    "            arr[i][j] = max(arr[i][j-1], arr[i-1][j])\n",
    "print(arr[a_cnt][b_cnt])"
   ]
  },
  {
   "cell_type": "code",
   "execution_count": 18,
   "metadata": {},
   "outputs": [
    {
     "data": {
      "text/plain": [
       "[[0, 0, 0, 0, 0, 0, 0],\n",
       " [0, 0, 1, 1, 1, 1, 1],\n",
       " [0, 1, 1, 1, 2, 2, 2],\n",
       " [0, 1, 2, 2, 2, 3, 3],\n",
       " [0, 1, 2, 2, 2, 3, 3],\n",
       " [0, 1, 2, 2, 2, 3, 4],\n",
       " [0, 1, 2, 3, 3, 3, 4]]"
      ]
     },
     "execution_count": 18,
     "metadata": {},
     "output_type": "execute_result"
    }
   ],
   "source": [
    "arr"
   ]
  },
  {
   "cell_type": "code",
   "execution_count": null,
   "metadata": {},
   "outputs": [],
   "source": [
    "import sys\n",
    "\n",
    "a = str(sys.stdin.readline().strip())\n",
    "b = str(sys.stdin.readline().strip())\n",
    "a_cnt, b_cnt = len(a), len(b)\n",
    "\n",
    "# 이전에 0 값 에 더해줘야 하므로 첫행렬 0값으로 채워주기\n",
    "arr = [[0]*(b_cnt+1) for _ in range(a_cnt+1)]\n",
    "for i in range(1,a_cnt+1) :\n",
    "    for j in range(1,b_cnt+1) :\n",
    "        if a[i-1] == b[j-1] :\n",
    "            # 글자 비교 전 값에 + 1\n",
    "            arr[i][j] = arr[i-1][j-1] + 1\n",
    "        else :\n",
    "            # 위 아래 최대값 + 1\n",
    "            arr[i][j] = max(arr[i][j-1], arr[i-1][j])\n",
    "print(arr[a_cnt][b_cnt])"
   ]
  }
 ],
 "metadata": {
  "kernelspec": {
   "display_name": "Python 3",
   "language": "python",
   "name": "python3"
  },
  "language_info": {
   "codemirror_mode": {
    "name": "ipython",
    "version": 3
   },
   "file_extension": ".py",
   "mimetype": "text/x-python",
   "name": "python",
   "nbconvert_exporter": "python",
   "pygments_lexer": "ipython3",
   "version": "3.8.10"
  },
  "orig_nbformat": 4
 },
 "nbformat": 4,
 "nbformat_minor": 2
}
