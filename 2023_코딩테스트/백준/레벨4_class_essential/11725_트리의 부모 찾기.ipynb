{
 "cells": [
  {
   "cell_type": "code",
   "execution_count": 63,
   "metadata": {},
   "outputs": [],
   "source": [
    "f = open('./11725_트리의 부모 찾기.txt', 'r')\n",
    "cnt = int(f.readline())\n",
    "node_list = [[] for _ in range(cnt+1)]\n",
    "\n",
    "for _ in range(cnt-1) :\n",
    "    start, end = map(int, f.readline().split())\n",
    "    node_list[start].append(end)\n",
    "    node_list[end].append(start)"
   ]
  },
  {
   "cell_type": "code",
   "execution_count": 64,
   "metadata": {},
   "outputs": [
    {
     "data": {
      "text/plain": [
       "[[],\n",
       " [2, 3],\n",
       " [1, 4],\n",
       " [1, 5, 6],\n",
       " [2, 7, 8],\n",
       " [3, 9, 10],\n",
       " [3, 11, 12],\n",
       " [4],\n",
       " [4],\n",
       " [5],\n",
       " [5],\n",
       " [6],\n",
       " [6]]"
      ]
     },
     "execution_count": 64,
     "metadata": {},
     "output_type": "execute_result"
    }
   ],
   "source": [
    "node_list"
   ]
  },
  {
   "cell_type": "code",
   "execution_count": 68,
   "metadata": {},
   "outputs": [
    {
     "data": {
      "text/plain": [
       "[0, 2, 1, 1, 2, 3, 3, 4, 4, 5, 5, 6, 6]"
      ]
     },
     "execution_count": 68,
     "metadata": {},
     "output_type": "execute_result"
    }
   ],
   "source": [
    "queue = deque()\n",
    "queue.append(1)\n",
    "visit_list = [0]*(cnt + 1)\n",
    "while queue :\n",
    "    temp = queue.popleft()\n",
    "    for val in node_list[temp] :\n",
    "        if visit_list[val] == 0 :\n",
    "            visit_list[val] = temp \n",
    "            queue.append(val)\n",
    "visit_list"
   ]
  },
  {
   "cell_type": "code",
   "execution_count": null,
   "metadata": {},
   "outputs": [],
   "source": [
    "import sys\n",
    "cnt = int(sys.stdin.readline())\n",
    "node_list = [[] for _ in range(cnt+1)]\n",
    "\n",
    "for _ in range(cnt-1) :\n",
    "    start, end = map(int, sys.stdin.readline().split())\n",
    "    node_list[start].append(end)\n",
    "    node_list[end].append(start)\n",
    "    \n",
    "queue = deque()\n",
    "queue.append(1)\n",
    "visit_list = [0]*(cnt + 1)\n",
    "while queue :\n",
    "    temp = queue.popleft()\n",
    "    for val in node_list[temp] :\n",
    "        if visit_list[val] == 0 :\n",
    "            visit_list[val] = temp \n",
    "            queue.append(val)\n",
    "for i in range(2, cnt + 1) :\n",
    "    print(visit_list[i])"
   ]
  },
  {
   "cell_type": "code",
   "execution_count": 66,
   "metadata": {},
   "outputs": [
    {
     "name": "stdout",
     "output_type": "stream",
     "text": [
      "1\n",
      "1\n",
      "2\n",
      "3\n",
      "3\n",
      "4\n",
      "4\n",
      "5\n",
      "5\n",
      "6\n",
      "6\n"
     ]
    }
   ],
   "source": [
    "answer = [0] * (cnt + 1)\n",
    "\n",
    "for idx, node in enumerate(node_list) :\n",
    "    for nd in node :\n",
    "        if answer[nd] == 0 :\n",
    "            answer[nd] = idx\n",
    "        elif answer[idx] == 0 :\n",
    "            answer[idx] = nd\n",
    "for i in range(2, cnt + 1) :\n",
    "    print(answer[i])"
   ]
  },
  {
   "cell_type": "code",
   "execution_count": null,
   "metadata": {},
   "outputs": [],
   "source": [
    "import sys\n",
    "from collections import deque\n",
    "cnt = int(sys.stdin.readline())\n",
    "node_list = [[] for _ in range(cnt+1)]\n",
    "\n",
    "for _ in range(cnt-1) :\n",
    "    start, end = map(int, sys.stdin.readline().split())\n",
    "    node_list[start].append(end)\n",
    "    node_list[end].append(start)\n",
    "    \n",
    "queue = deque()\n",
    "queue.append(1)\n",
    "visit_list = [0]*(cnt + 1)\n",
    "while queue :\n",
    "    temp = queue.popleft()\n",
    "    for val in node_list[temp] :\n",
    "        if visit_list[val] == 0 :\n",
    "            visit_list[val] = temp \n",
    "            queue.append(val)\n",
    "for i in range(2, cnt + 1) :\n",
    "    print(visit_list[i])"
   ]
  },
  {
   "cell_type": "code",
   "execution_count": 67,
   "metadata": {},
   "outputs": [
    {
     "name": "stdout",
     "output_type": "stream",
     "text": [
      "1\n",
      "1\n",
      "2\n",
      "3\n",
      "3\n",
      "4\n",
      "4\n",
      "5\n",
      "5\n",
      "6\n",
      "6\n"
     ]
    }
   ],
   "source": [
    "# 1부터 시작해서 타고 내려와서 탐색 진행\n",
    "# 해당 되는 수 찾았을 때 직전 노드의 값을 print\n",
    "from collections import deque\n",
    "\n",
    "for i in range(2, cnt + 1) :\n",
    "    queue = deque()\n",
    "    queue.append(1)\n",
    "    visit_list = [0]*(cnt + 1)\n",
    "    while queue :\n",
    "        temp = queue.popleft()\n",
    "        if visit_list[temp] :\n",
    "            continue\n",
    "        visit_list[temp] = 1\n",
    "        \n",
    "        for val in node_list[temp] :\n",
    "            if val == i :\n",
    "                print(temp)\n",
    "                queue = False\n",
    "                break\n",
    "                \n",
    "            if visit_list[val] :\n",
    "                continue \n",
    "            queue.append(val)"
   ]
  },
  {
   "cell_type": "code",
   "execution_count": null,
   "metadata": {},
   "outputs": [],
   "source": [
    "import sys\n",
    "from collections import deque\n",
    "\n",
    "cnt = int(sys.stdin.readline())\n",
    "node_list = [[] for _ in range(cnt+1)]\n",
    "\n",
    "for _ in range(cnt-1) :\n",
    "    start, end = map(int, sys.stdin.readline().split())\n",
    "    node_list[start].append(end)\n",
    "    node_list[end].append(start)\n",
    "    \n",
    "# 1부터 시작해서 타고 내려와서 탐색 진행\n",
    "# 해당 되는 수 찾았을 때 직전 노드의 값을 print\n",
    "\n",
    "for i in range(2, cnt + 1) :\n",
    "    queue = deque()\n",
    "    queue.append(1)\n",
    "    visit_list = [0]*(cnt + 1)\n",
    "    while queue :\n",
    "        temp = queue.popleft()\n",
    "        if visit_list[temp] :\n",
    "            continue\n",
    "        visit_list[temp] = 1\n",
    "\n",
    "        for val in node_list[temp] :\n",
    "            if val == i :\n",
    "                print(temp)\n",
    "                queue = False\n",
    "                break\n",
    "            if visit_list[val] :\n",
    "                continue \n",
    "            queue.append(val)"
   ]
  }
 ],
 "metadata": {
  "kernelspec": {
   "display_name": "Python 3",
   "language": "python",
   "name": "python3"
  },
  "language_info": {
   "codemirror_mode": {
    "name": "ipython",
    "version": 3
   },
   "file_extension": ".py",
   "mimetype": "text/x-python",
   "name": "python",
   "nbconvert_exporter": "python",
   "pygments_lexer": "ipython3",
   "version": "3.8.10"
  },
  "orig_nbformat": 4
 },
 "nbformat": 4,
 "nbformat_minor": 2
}
