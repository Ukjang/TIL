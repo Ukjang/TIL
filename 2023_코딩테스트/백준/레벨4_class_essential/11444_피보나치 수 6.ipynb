{
 "cells": [
  {
   "cell_type": "code",
   "execution_count": 7,
   "metadata": {},
   "outputs": [],
   "source": [
    "n = 1000\n",
    "div = 1000000007"
   ]
  },
  {
   "cell_type": "code",
   "execution_count": 22,
   "metadata": {},
   "outputs": [
    {
     "name": "stdout",
     "output_type": "stream",
     "text": [
      "517691607\n"
     ]
    }
   ],
   "source": [
    "# 제곱을 구하는 분할정복\n",
    "def power(adj, n) :\n",
    "    if n == 1:\n",
    "        return adj\n",
    "    elif n % 2 :\n",
    "        return multi(power(adj, n-1), adj)\n",
    "    else :\n",
    "        return power(multi(adj, adj), n//2)\n",
    "# 행렬의 곱셈\n",
    "def multi(a, b) :\n",
    "    temp = [[0] * len(b[0]) for _ in range(2)]\n",
    "    for i in range(2) :\n",
    "        for j in range(len(b[0])) :\n",
    "            sum = 0\n",
    "            for k in range(2) :\n",
    "                sum += a[i][k] * b[k][j]\n",
    "            temp[i][j] = sum % div\n",
    "    return temp\n",
    "# 초기 행렬\n",
    "adj = [[1,1], [1,0]]\n",
    "# 피보나치 초기값\n",
    "start = [[1], [1]]\n",
    "if n < 3 :\n",
    "    print(1)\n",
    "else :\n",
    "    print(multi(power(adj,n-2), start)[0][0])"
   ]
  },
  {
   "cell_type": "code",
   "execution_count": 23,
   "metadata": {},
   "outputs": [
    {
     "data": {
      "text/plain": [
       "[[517691607], [589888339]]"
      ]
     },
     "execution_count": 23,
     "metadata": {},
     "output_type": "execute_result"
    }
   ],
   "source": [
    "multi(power(adj,n-2), start)"
   ]
  },
  {
   "cell_type": "code",
   "execution_count": 9,
   "metadata": {},
   "outputs": [
    {
     "name": "stdout",
     "output_type": "stream",
     "text": [
      "517691607\n"
     ]
    }
   ],
   "source": [
    "data = [0] * (n+1)\n",
    "for i in range(n+1) :\n",
    "    if i == 0 :\n",
    "        data[i] = 0\n",
    "    elif i == 1:\n",
    "        data[i] = 1\n",
    "    else :\n",
    "        data[i] = (data[i-1] + data[i-2]) % div\n",
    "else :\n",
    "    print(data[n])"
   ]
  },
  {
   "cell_type": "code",
   "execution_count": 21,
   "metadata": {},
   "outputs": [
    {
     "name": "stdout",
     "output_type": "stream",
     "text": [
      "517691607\n"
     ]
    }
   ],
   "source": [
    "n = 1000\n",
    "temp = 0\n",
    "for i in range(n+1) :\n",
    "    if i == 0 :\n",
    "        past1 = 0\n",
    "    elif i == 1:\n",
    "        past1 = 1\n",
    "        past2 = 0\n",
    "    else :\n",
    "        temp = past1 + past2\n",
    "        past2 = past1 % div\n",
    "        past1 = temp % div\n",
    "    # print(temp)\n",
    "else :\n",
    "    print(past1)"
   ]
  },
  {
   "cell_type": "code",
   "execution_count": null,
   "metadata": {},
   "outputs": [],
   "source": [
    "import sys\n",
    "\n",
    "n = int(sys.stdin.readline())\n",
    "div = 1000000007\n",
    "def power(adj, n) :\n",
    "    if n == 1:\n",
    "        return adj\n",
    "    elif n % 2 :\n",
    "        return multi(power(adj, n-1), adj)\n",
    "    else :\n",
    "        return power(multi(adj, adj), n//2)\n",
    "# 행렬의 곱셈\n",
    "def multi(a, b) :\n",
    "    temp = [[0] * len(b[0]) for _ in range(2)]\n",
    "    for i in range(2) :\n",
    "        for j in range(len(b[0])) :\n",
    "            sum = 0\n",
    "            for k in range(2) :\n",
    "                sum += a[i][k] * b[k][j]\n",
    "            temp[i][j] = sum % div\n",
    "    return temp\n",
    "# 초기 행렬\n",
    "adj = [[1,1], [1,0]]\n",
    "# 피보나치 초기값\n",
    "start = [[1], [1]]\n",
    "if n < 3 :\n",
    "    print(1)\n",
    "else :\n",
    "    print(multi(power(adj,n-2), start)[0][0])"
   ]
  }
 ],
 "metadata": {
  "kernelspec": {
   "display_name": "Python 3",
   "language": "python",
   "name": "python3"
  },
  "language_info": {
   "codemirror_mode": {
    "name": "ipython",
    "version": 3
   },
   "file_extension": ".py",
   "mimetype": "text/x-python",
   "name": "python",
   "nbconvert_exporter": "python",
   "pygments_lexer": "ipython3",
   "version": "3.8.5"
  },
  "orig_nbformat": 4
 },
 "nbformat": 4,
 "nbformat_minor": 2
}
