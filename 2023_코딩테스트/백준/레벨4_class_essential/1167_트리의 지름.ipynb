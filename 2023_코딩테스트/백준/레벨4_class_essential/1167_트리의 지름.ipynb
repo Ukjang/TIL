{
 "cells": [
  {
   "cell_type": "code",
   "execution_count": 13,
   "metadata": {},
   "outputs": [
    {
     "data": {
      "text/plain": [
       "[[], [(3, 2)], [(4, 4)], [(1, 2), (4, 3)], [(2, 4), (3, 3), (5, 6)], [(4, 6)]]"
      ]
     },
     "execution_count": 13,
     "metadata": {},
     "output_type": "execute_result"
    }
   ],
   "source": [
    "f = open('./1167_트리의 지름.txt', 'r')\n",
    "cnt = int(f.readline())\n",
    "data = [[] for _ in range(cnt+1)]\n",
    "for _ in range(cnt) :\n",
    "    temp_list = list(map(int, f.readline().split()))\n",
    "    for idx, val in enumerate(temp_list) :\n",
    "        if idx == 0 :\n",
    "            temp_node = val\n",
    "        else :\n",
    "            if val != -1 :\n",
    "                if idx % 2 == 1 :\n",
    "                    data[temp_node].append((val,temp_list[idx+1]))\n",
    "                else :\n",
    "                    pass\n",
    "            else :\n",
    "                break\n",
    "data"
   ]
  },
  {
   "attachments": {},
   "cell_type": "markdown",
   "metadata": {},
   "source": [
    "###dfs\n",
    "1. 모든 지점 방문 x. 임의의 두 지점 사이의 거리 최대값\n",
    "2. 모든 지점이 다 이어져 있는건 아님\n",
    "3. 각 노드에서 제일 먼 지점과의 거리 연산 !\n",
    "- > 어떻게....?\n",
    "1. 방문한 노드의 트루 폴스 계산 ?\n",
    "-> 최대값을 구하는 것이기에 의미 ??"
   ]
  },
  {
   "cell_type": "code",
   "execution_count": 20,
   "metadata": {},
   "outputs": [
    {
     "data": {
      "text/plain": [
       "11"
      ]
     },
     "execution_count": 20,
     "metadata": {},
     "output_type": "execute_result"
    }
   ],
   "source": [
    "# 1. 시작지점에서 가장 먼 거리의 지점 구하고\n",
    "# 해당 지점에서 가장 먼 지점 구하면 완료\n",
    "from collections import deque\n",
    "# -1로 리스트를 구성해야 반드시 맞음,,,\n",
    "def bfs(start) :\n",
    "    visit_list = [0]*(cnt+1)\n",
    "    queue = deque()\n",
    "    queue.append(start)\n",
    "    visit_list[start] = 0\n",
    "    temp_max = [0,0]\n",
    "    while queue : \n",
    "        temp = queue.popleft()\n",
    "        for idx, val in data[temp] :\n",
    "            if visit_list[idx] == 0 :\n",
    "                visit_list[idx] = visit_list[temp] + val\n",
    "                queue.append(idx)\n",
    "                if temp_max[0] < visit_list[idx] :\n",
    "                    temp_max = visit_list[idx], idx\n",
    "    return temp_max\n",
    "dis, node = bfs(1)\n",
    "dis, node = bfs(node)\n",
    "dis"
   ]
  },
  {
   "cell_type": "code",
   "execution_count": null,
   "metadata": {},
   "outputs": [],
   "source": [
    "from collections import deque\n",
    "import sys\n",
    "cnt = int(sys.stdin.readline())\n",
    "data = [[] for _ in range(cnt+1)]\n",
    "for _ in range(cnt) :\n",
    "    temp_list = list(map(int, sys.stdin.readline().split()))\n",
    "    for idx, val in enumerate(temp_list) :\n",
    "        if idx == 0 :\n",
    "            temp_node = val\n",
    "        else :\n",
    "            if val != -1 :\n",
    "                if idx % 2 == 1 :\n",
    "                    data[temp_node].append((val,temp_list[idx+1]))\n",
    "                else :\n",
    "                    pass\n",
    "            else :\n",
    "                break\n",
    "\n",
    "# -1로 리스트를 구성해야 반드시 맞음,,,\n",
    "def bfs(start) :\n",
    "    visit_list = [-1]*(cnt+1)\n",
    "    queue = deque()\n",
    "    queue.append(start)\n",
    "    visit_list[start] = 0\n",
    "    temp_max = [0,0]\n",
    "    while queue : \n",
    "        temp = queue.popleft()\n",
    "        for idx, val in data[temp] :\n",
    "            if visit_list[idx] == -1 :\n",
    "                visit_list[idx] = visit_list[temp] + val\n",
    "                queue.append(idx)\n",
    "                if temp_max[0] < visit_list[idx] :\n",
    "                    temp_max = visit_list[idx], idx\n",
    "    return temp_max\n",
    "dis, node = bfs(1)\n",
    "dis, node = bfs(node)\n",
    "print(dis)"
   ]
  }
 ],
 "metadata": {
  "kernelspec": {
   "display_name": "Python 3",
   "language": "python",
   "name": "python3"
  },
  "language_info": {
   "codemirror_mode": {
    "name": "ipython",
    "version": 3
   },
   "file_extension": ".py",
   "mimetype": "text/x-python",
   "name": "python",
   "nbconvert_exporter": "python",
   "pygments_lexer": "ipython3",
   "version": "3.8.10"
  },
  "orig_nbformat": 4
 },
 "nbformat": 4,
 "nbformat_minor": 2
}
