{
 "cells": [
  {
   "cell_type": "code",
   "execution_count": 1,
   "metadata": {},
   "outputs": [
    {
     "name": "stdout",
     "output_type": "stream",
     "text": [
      "14\n"
     ]
    }
   ],
   "source": [
    "f  = open('./12865_평범한 배낭.txt', 'r')\n",
    "N, W = map(int,f.readline().split())\n",
    "data = [[0]*(W+1) for _ in range(N+1)]\n",
    "arr = [(0,0)]\n",
    "for i in range(N) :\n",
    "    wei, val = map(int, f.readline().split())\n",
    "    arr.append((wei,val))\n",
    "for i in range(1,N+1) :\n",
    "    for j in range(1,W+1) :\n",
    "        wei, val = arr[i]\n",
    "        if j < wei :\n",
    "            data[i][j] = data[i-1][j]\n",
    "        else :\n",
    "            data[i][j] = max(data[i-1][j], val + data[i-1][j-wei])\n",
    "print(data[N][W])"
   ]
  },
  {
   "cell_type": "code",
   "execution_count": 2,
   "metadata": {},
   "outputs": [
    {
     "data": {
      "text/plain": [
       "[[0, 0, 0, 0, 0, 0, 0, 0],\n",
       " [0, 0, 0, 0, 0, 0, 13, 13],\n",
       " [0, 0, 0, 0, 8, 8, 13, 13],\n",
       " [0, 0, 0, 6, 8, 8, 13, 14],\n",
       " [0, 0, 0, 6, 8, 12, 13, 14]]"
      ]
     },
     "execution_count": 2,
     "metadata": {},
     "output_type": "execute_result"
    }
   ],
   "source": [
    "data"
   ]
  },
  {
   "cell_type": "code",
   "execution_count": 23,
   "metadata": {},
   "outputs": [
    {
     "data": {
      "text/plain": [
       "14"
      ]
     },
     "execution_count": 23,
     "metadata": {},
     "output_type": "execute_result"
    }
   ],
   "source": [
    "f  = open('./12865_평범한 배낭.txt', 'r')\n",
    "N, W = map(int,f.readline().split())\n",
    "data = [[0]*(W+1) for _ in range(N)]\n",
    "arr = []\n",
    "for _ in range(N) :\n",
    "    w, v = map(int, f.readline().split())\n",
    "    arr.append((w,v))\n",
    "\n",
    "for i in range(N) :\n",
    "    for j in range(1, W+1) :\n",
    "        wei, val = arr[i]\n",
    "        if j < wei :\n",
    "            data[i][j] = data[i-1][j]\n",
    "        else :\n",
    "            data[i][j] = max(data[i-1][j], val + data[i-1][j-wei])\n",
    "data[N-1][W]"
   ]
  },
  {
   "cell_type": "code",
   "execution_count": null,
   "metadata": {},
   "outputs": [],
   "source": [
    "import sys\n",
    "\n",
    "N, W = map(int,sys.stdin.readline().split())\n",
    "data = [[0]*(W+1) for _ in range(N+1)]\n",
    "arr = [(0,0)]\n",
    "for _ in range(N) :\n",
    "    w, v = map(int, sys.stdin.readline().split())\n",
    "    arr.append((w,v))\n",
    "    \n",
    "for i in range(1,N+1) :\n",
    "    for j in range(1,W+1) :\n",
    "        wei, val = arr[i]\n",
    "        if j < wei :\n",
    "            data[i][j] = data[i-1][j]\n",
    "        else :\n",
    "            # i-1값이 0이도록 첫줄을 만들어줌\n",
    "            data[i][j] = max(data[i-1][j], val + data[i-1][j-wei])\n",
    "print(data[N][W])"
   ]
  }
 ],
 "metadata": {
  "kernelspec": {
   "display_name": "Python 3",
   "language": "python",
   "name": "python3"
  },
  "language_info": {
   "codemirror_mode": {
    "name": "ipython",
    "version": 3
   },
   "file_extension": ".py",
   "mimetype": "text/x-python",
   "name": "python",
   "nbconvert_exporter": "python",
   "pygments_lexer": "ipython3",
   "version": "3.8.10"
  },
  "orig_nbformat": 4
 },
 "nbformat": 4,
 "nbformat_minor": 2
}
