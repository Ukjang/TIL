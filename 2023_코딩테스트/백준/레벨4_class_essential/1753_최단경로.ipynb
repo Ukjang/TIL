{
 "cells": [
  {
   "cell_type": "code",
   "execution_count": 25,
   "metadata": {},
   "outputs": [
    {
     "data": {
      "text/plain": [
       "[[], [(2, 2), (3, 3)], [(4, 3), (5, 4)], [(6, 4)], [], [(1, 1)]]"
      ]
     },
     "execution_count": 25,
     "metadata": {},
     "output_type": "execute_result"
    }
   ],
   "source": [
    "f = open('./1753_최단경로.txt', 'r')\n",
    "V, E = map(int,f.readline().split())\n",
    "start = int(f.readline())\n",
    "data = [[] for _ in range(V+1)]\n",
    "for _ in range(E) :\n",
    "    std, end, dis = map(int,f.readline().split())\n",
    "    data[std].append((dis,end))\n",
    "data"
   ]
  },
  {
   "cell_type": "code",
   "execution_count": 26,
   "metadata": {},
   "outputs": [
    {
     "name": "stdout",
     "output_type": "stream",
     "text": [
      "0\n",
      "2\n",
      "3\n",
      "7\n",
      "INF\n"
     ]
    }
   ],
   "source": [
    "from collections import deque\n",
    "import sys\n",
    "import heapq\n",
    "INF = sys.maxsize\n",
    "dp = [INF] * (V+1)\n",
    "heap = []\n",
    "def dis_calculate(x) :\n",
    "    dp[start] = 0\n",
    "    heapq.heappush(heap, (0,start))\n",
    "\n",
    "    while heap :\n",
    "        dis, node = heapq.heappop(heap)\n",
    "        \n",
    "        if dp[node] < dis :\n",
    "            continue\n",
    "        for w, next_node in data[node] :\n",
    "            next_wei = w + dis\n",
    "            if next_wei < dp[next_node] :\n",
    "                dp[next_node] = next_wei\n",
    "                heapq.heappush(heap, (next_wei, next_node))\n",
    "dis_calculate(start)\n",
    "for i in range(1, V+1) :\n",
    "    print('INF' if dp[i] == INF else dp[i])\n"
   ]
  },
  {
   "cell_type": "code",
   "execution_count": 6,
   "metadata": {},
   "outputs": [
    {
     "name": "stdout",
     "output_type": "stream",
     "text": [
      "0\n",
      "2\n",
      "3\n",
      "7\n",
      "INF\n"
     ]
    }
   ],
   "source": [
    "from collections import deque\n",
    "import sys\n",
    "import heapq\n",
    "f = open('./1753_최단경로.txt', 'r')\n",
    "V, E = map(int,f.readline().split())\n",
    "start = int(f.readline())\n",
    "data = [[] for _ in range(V+1)]\n",
    "for _ in range(E) :\n",
    "    std, end, dis = map(int,f.readline().split())\n",
    "    data[std].append((dis,end))\n",
    "\n",
    "heap = []\n",
    "INF = sys.maxsize\n",
    "dp = [INF] * (V+1)\n",
    "def cal1(start) :\n",
    "    dp[start] = 0\n",
    "    heapq.heappush(heap, (0,start))\n",
    "    while heap :\n",
    "        dis, node = heapq.heappop(heap)\n",
    "        if dp[node] < dis :\n",
    "            continue\n",
    "        for temp_dis, next_node in data[node] :\n",
    "            next_dis = dis + temp_dis\n",
    "            if next_dis < dp[next_node] :\n",
    "                dp[next_node] = next_dis\n",
    "                heapq.heappush(heap, (next_dis, next_node))\n",
    "cal1(start)\n",
    "for i in range(1, V+1) :\n",
    "    print('INF' if dp[i] == INF else dp[i])"
   ]
  },
  {
   "cell_type": "code",
   "execution_count": 5,
   "metadata": {},
   "outputs": [
    {
     "data": {
      "text/plain": [
       "[0,\n",
       " 9223372036854775807,\n",
       " 9223372036854775807,\n",
       " 9223372036854775807,\n",
       " 9223372036854775807,\n",
       " 9223372036854775807]"
      ]
     },
     "execution_count": 5,
     "metadata": {},
     "output_type": "execute_result"
    }
   ],
   "source": [
    "dp"
   ]
  },
  {
   "cell_type": "code",
   "execution_count": null,
   "metadata": {},
   "outputs": [],
   "source": [
    "from collections import deque\n",
    "import sys\n",
    "import heapq\n",
    "\n",
    "V, E = map(int,sys.stdin.readline().split())\n",
    "start = int(sys.stdin.readline())\n",
    "data = [[] for _ in range(V+1)]\n",
    "for _ in range(E) :\n",
    "    std, end, dis = map(int,sys.stdin.readline().split())\n",
    "    data[std].append((dis,end))"
   ]
  },
  {
   "cell_type": "code",
   "execution_count": 17,
   "metadata": {},
   "outputs": [
    {
     "data": {
      "text/plain": [
       "7"
      ]
     },
     "execution_count": 17,
     "metadata": {},
     "output_type": "execute_result"
    }
   ],
   "source": [
    "x = 4\n",
    "used_line = []\n",
    "queue = deque()\n",
    "queue.append(start) \n",
    "visited_list = [0] * (V+1)\n",
    "while queue :\n",
    "    node = queue.popleft()\n",
    "    for dt in data[node] :\n",
    "        next_node, dis = dt\n",
    "        if (next_node, dis) in used_line:\n",
    "            continue\n",
    "        queue.append(next_node)\n",
    "        if visited_list[next_node] :\n",
    "            visited_list[next_node] = min(visited_list[next_node],visited_list[node] + dis)\n",
    "        else :\n",
    "            visited_list[next_node] = visited_list[node] + dis\n",
    "if visited_list[x] == 0 :\n",
    "    if start == x :\n",
    "        answer = 0\n",
    "    else :\n",
    "        answer =  'INF'\n",
    "else :\n",
    "    answer =  visited_list[x]\n",
    "answer"
   ]
  },
  {
   "cell_type": "code",
   "execution_count": 16,
   "metadata": {},
   "outputs": [
    {
     "data": {
      "text/plain": [
       "[0, 0, 2, 3, 0, 0]"
      ]
     },
     "execution_count": 16,
     "metadata": {},
     "output_type": "execute_result"
    }
   ],
   "source": [
    "visited_list"
   ]
  },
  {
   "cell_type": "code",
   "execution_count": 2,
   "metadata": {},
   "outputs": [
    {
     "data": {
      "text/plain": [
       "5"
      ]
     },
     "execution_count": 2,
     "metadata": {},
     "output_type": "execute_result"
    }
   ],
   "source": [
    "std"
   ]
  },
  {
   "cell_type": "code",
   "execution_count": 3,
   "metadata": {},
   "outputs": [
    {
     "data": {
      "text/plain": [
       "5"
      ]
     },
     "execution_count": 3,
     "metadata": {},
     "output_type": "execute_result"
    }
   ],
   "source": [
    "V"
   ]
  }
 ],
 "metadata": {
  "kernelspec": {
   "display_name": "Python 3",
   "language": "python",
   "name": "python3"
  },
  "language_info": {
   "codemirror_mode": {
    "name": "ipython",
    "version": 3
   },
   "file_extension": ".py",
   "mimetype": "text/x-python",
   "name": "python",
   "nbconvert_exporter": "python",
   "pygments_lexer": "ipython3",
   "version": "3.8.10"
  },
  "orig_nbformat": 4
 },
 "nbformat": 4,
 "nbformat_minor": 2
}
