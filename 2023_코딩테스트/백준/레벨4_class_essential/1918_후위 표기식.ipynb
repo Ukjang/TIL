{
 "cells": [
  {
   "cell_type": "code",
   "execution_count": 4,
   "metadata": {},
   "outputs": [
    {
     "name": "stdout",
     "output_type": "stream",
     "text": [
      "A A []\n",
      "+ A ['+']\n",
      "B AB ['+']\n",
      "* AB ['+', '*']\n",
      "C ABC ['+', '*']\n",
      "- ABC*+ ['-']\n",
      "D ABC*+D ['-']\n",
      "/ ABC*+D ['-', '/']\n",
      "E ABC*+DE ['-', '/']\n",
      "ABC*+DE/-\n"
     ]
    }
   ],
   "source": [
    "'''\n",
    "1. () 확인\n",
    "2. */ 인지 확인하고 먼저 들어온 같은 우선순위의 */ 는 모두 문자열 결과에 추가\n",
    "3. 그리고 현재 문자 다시 스택에 추가\n",
    "4. +, -인지 확인하고 +,- 보다 낮은 우선순위 여선자가 없으므로 자신보다 우선위가 높은 모든것들 결과 문자열에 추가\n",
    "5. )를 발견하면 ()사이에 있는 모든 연산자들 문자열 결과에 추가하고 마지막으로 stack에 남은 결과 문자열에 추가\n",
    "'''\n",
    "data =  'A+B*C-D/E'\n",
    "stack = []\n",
    "res = ''\n",
    "for s in data :\n",
    "    # 알파벳은 다 더해줌\n",
    "    if s.isalpha() :\n",
    "        res += s\n",
    "    else :\n",
    "        if s == '(' :\n",
    "            stack.append(s)\n",
    "        elif s == '*' or s == '/' :\n",
    "            # 이전 스택에 연산자가 있고 곱셈이나 뺄셈인경우\n",
    "            while stack and (stack[-1] == '*'  or stack[-1] == '/') :\n",
    "                res += stack.pop() \n",
    "            stack.append(s)\n",
    "        # 우선순위가 제일 낮은거니 이전 연산자 모두 결과에 추가 () 만 고려\n",
    "        elif s == '+' or s == '-' :\n",
    "            # 스택에 값이 있고 덧셈이나 뺄셈보다 우선인 경우\n",
    "            while stack and stack[-1] != '(' :\n",
    "                res += stack.pop()\n",
    "            stack.append(s)\n",
    "        elif s == ')' :\n",
    "            while stack and stack[-1] != '(' :\n",
    "                res += stack.pop()\n",
    "            stack.pop()\n",
    "    print(s, res, stack)\n",
    "while stack :\n",
    "    res += stack.pop()\n",
    "print(res)"
   ]
  },
  {
   "cell_type": "code",
   "execution_count": null,
   "metadata": {},
   "outputs": [],
   "source": [
    "import sys\n",
    "data =  str(sys.stdin.readline())\n",
    "stack = []\n",
    "res = ''\n",
    "for s in data :\n",
    "    # 알파벳은 다 더해줌\n",
    "    if s.isalpha() :\n",
    "        res += s\n",
    "    else :\n",
    "        if s == '(' :\n",
    "            stack.append(s)\n",
    "        elif s == '*' or s == '/' :\n",
    "            # 이전 스택에 연산자가 있고 곱셈이나 뺄셈인경우\n",
    "            while stack and (stack[-1] == '*'  or stack[-1] == '/') :\n",
    "                res += stack.pop() \n",
    "            stack.append(s)\n",
    "        # 우선순위가 제일 낮은거니 이전 연산자 모두 결과에 추가 () 만 고려\n",
    "        elif s == '+' or s == '-' :\n",
    "            # 스택에 값이 있고 덧셈이나 뺄셈보다 우선인 경우\n",
    "            while stack and stack[-1] != '(' :\n",
    "                res += stack.pop()\n",
    "            stack.append(s)\n",
    "        elif s == ')' :\n",
    "            while stack and stack[-1] != '(' :\n",
    "                res += stack.pop()\n",
    "            stack.pop()\n",
    "while stack :\n",
    "    res += stack.pop()\n",
    "print(res)"
   ]
  }
 ],
 "metadata": {
  "kernelspec": {
   "display_name": "Python 3",
   "language": "python",
   "name": "python3"
  },
  "language_info": {
   "codemirror_mode": {
    "name": "ipython",
    "version": 3
   },
   "file_extension": ".py",
   "mimetype": "text/x-python",
   "name": "python",
   "nbconvert_exporter": "python",
   "pygments_lexer": "ipython3",
   "version": "3.8.10"
  },
  "orig_nbformat": 4
 },
 "nbformat": 4,
 "nbformat_minor": 2
}
