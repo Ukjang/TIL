{
 "cells": [
  {
   "cell_type": "code",
   "execution_count": 1,
   "metadata": {},
   "outputs": [
    {
     "name": "stdout",
     "output_type": "stream",
     "text": [
      "ABDCEFG\n",
      "DBAECFG\n",
      "DBEGFCA"
     ]
    }
   ],
   "source": [
    "f = open('./1991_트리 순회.txt', 'r')\n",
    "cnt = int(f.readline())\n",
    "tree = {}\n",
    "for _ in range(cnt) :\n",
    "    par_node, left, right = f.readline().split()\n",
    "    tree[par_node] = [left, right]\n",
    "\n",
    "def preorder(root) :\n",
    "    if root != '.' :\n",
    "        print(root, end='')\n",
    "        preorder(tree[root][0]) \n",
    "        preorder(tree[root][1])\n",
    "\n",
    "def inorder(root) :\n",
    "    if root != '.' :\n",
    "        inorder(tree[root][0])\n",
    "        print(root, end='')\n",
    "        inorder(tree[root][1])\n",
    "\n",
    "def postorder(root) :\n",
    "    if root != '.' :\n",
    "        postorder(tree[root][0])\n",
    "        postorder(tree[root][1])\n",
    "        print(root, end='')\n",
    "\n",
    "preorder('A')\n",
    "print()\n",
    "inorder('A')\n",
    "print()\n",
    "postorder('A')"
   ]
  },
  {
   "cell_type": "code",
   "execution_count": null,
   "metadata": {},
   "outputs": [],
   "source": [
    "import sys\n",
    "\n",
    "cnt = int(sys.stdin.readline())\n",
    "tree = {}\n",
    "for _ in range(cnt) :\n",
    "    par_node, left, right = sys.stdin.readline().split()\n",
    "    tree[par_node] = [left, right]\n",
    "\n",
    "def preorder(root) :\n",
    "    if root != '.' :\n",
    "        print(root, end='')\n",
    "        preorder(tree[root][0]) \n",
    "        preorder(tree[root][1])\n",
    "\n",
    "def inorder(root) :\n",
    "    if root != '.' :\n",
    "        inorder(tree[root][0])\n",
    "        print(root, end='')\n",
    "        inorder(tree[root][1])\n",
    "\n",
    "def postorder(root) :\n",
    "    if root != '.' :\n",
    "        postorder(tree[root][0])\n",
    "        postorder(tree[root][1])\n",
    "        print(root, end='')\n",
    "\n",
    "preorder('A')\n",
    "print()\n",
    "inorder('A')\n",
    "print()\n",
    "postorder('A')"
   ]
  }
 ],
 "metadata": {
  "kernelspec": {
   "display_name": "Python 3",
   "language": "python",
   "name": "python3"
  },
  "language_info": {
   "codemirror_mode": {
    "name": "ipython",
    "version": 3
   },
   "file_extension": ".py",
   "mimetype": "text/x-python",
   "name": "python",
   "nbconvert_exporter": "python",
   "pygments_lexer": "ipython3",
   "version": "3.8.10"
  },
  "orig_nbformat": 4
 },
 "nbformat": 4,
 "nbformat_minor": 2
}
