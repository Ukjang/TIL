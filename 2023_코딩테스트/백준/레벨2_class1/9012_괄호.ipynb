{
 "cells": [
  {
   "cell_type": "code",
   "execution_count": 5,
   "metadata": {},
   "outputs": [],
   "source": [
    "# 괄호 '('을 +1로 ')' 를 -1로 연산 합이 음수가 되면 바로 break\n",
    "# 끝나고 총합이 0이 아니면 no\n",
    "input1= '''\n",
    "((\n",
    "))\n",
    "())(()\n",
    "'''"
   ]
  },
  {
   "cell_type": "code",
   "execution_count": 6,
   "metadata": {},
   "outputs": [
    {
     "data": {
      "text/plain": [
       "['NO', 'NO', 'NO']"
      ]
     },
     "execution_count": 6,
     "metadata": {},
     "output_type": "execute_result"
    }
   ],
   "source": [
    "input_list = input1.split()\n",
    "answer = []\n",
    "for ip in input_list:\n",
    "    temp_sum = 0\n",
    "    for st in ip :\n",
    "        if st == '(' :\n",
    "            temp_sum += 1\n",
    "        elif st == ')' :\n",
    "            temp_sum -= 1\n",
    "        \n",
    "        if temp_sum < 0 :\n",
    "            answer.append('NO')\n",
    "            break\n",
    "    else :\n",
    "        if temp_sum == 0 :\n",
    "            answer.append('YES')\n",
    "        else :\n",
    "            answer.append('NO')\n",
    "answer"
   ]
  },
  {
   "cell_type": "code",
   "execution_count": null,
   "metadata": {},
   "outputs": [],
   "source": [
    "import sys\n",
    "cnt = int(sys.stdin.readline())\n",
    "input_list = []\n",
    "for _ in range(cnt) :\n",
    "    ip = sys.stdin.readline().strip()\n",
    "    temp_sum = 0\n",
    "    for st in ip :\n",
    "        if st == '(' :\n",
    "            temp_sum += 1\n",
    "        elif st == ')' :\n",
    "            temp_sum -= 1\n",
    "        \n",
    "        if temp_sum < 0 :\n",
    "            print('NO')\n",
    "            break\n",
    "    else :\n",
    "        if temp_sum == 0 :\n",
    "            print('YES')\n",
    "        else :\n",
    "            print('NO')"
   ]
  }
 ],
 "metadata": {
  "kernelspec": {
   "display_name": "pytorch",
   "language": "python",
   "name": "python3"
  },
  "language_info": {
   "codemirror_mode": {
    "name": "ipython",
    "version": 3
   },
   "file_extension": ".py",
   "mimetype": "text/x-python",
   "name": "python",
   "nbconvert_exporter": "python",
   "pygments_lexer": "ipython3",
   "version": "3.10.5"
  },
  "orig_nbformat": 4,
  "vscode": {
   "interpreter": {
    "hash": "334544a737ead5017040ac753f52220319955d2381f512ab105ce194db781c37"
   }
  }
 },
 "nbformat": 4,
 "nbformat_minor": 2
}
