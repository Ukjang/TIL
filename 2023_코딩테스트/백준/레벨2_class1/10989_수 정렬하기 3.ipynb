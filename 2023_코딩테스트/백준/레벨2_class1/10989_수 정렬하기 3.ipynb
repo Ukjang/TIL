{
 "cells": [
  {
   "cell_type": "code",
   "execution_count": 1,
   "metadata": {},
   "outputs": [],
   "source": [
    "input1 = '''\n",
    "5\n",
    "2\n",
    "3\n",
    "1\n",
    "4\n",
    "2\n",
    "3\n",
    "5\n",
    "1\n",
    "7'''"
   ]
  },
  {
   "cell_type": "code",
   "execution_count": 10,
   "metadata": {},
   "outputs": [
    {
     "data": {
      "text/plain": [
       "[1, 1, 2, 2, 4, 3, 3, 5, 5, 7]"
      ]
     },
     "execution_count": 10,
     "metadata": {},
     "output_type": "execute_result"
    }
   ],
   "source": [
    "import heapq\n",
    "queue = []\n",
    "number_list = list(map(int, input1.split()))\n",
    "for num in number_list :\n",
    "    heapq.heappush(queue,num)\n",
    "queue\n"
   ]
  },
  {
   "cell_type": "code",
   "execution_count": 12,
   "metadata": {},
   "outputs": [
    {
     "name": "stdout",
     "output_type": "stream",
     "text": [
      "1\n",
      "1\n",
      "2\n",
      "2\n",
      "3\n",
      "3\n",
      "4\n",
      "5\n",
      "5\n",
      "7\n"
     ]
    }
   ],
   "source": [
    "# 시간 복잡도 문제시 리스트 만들어서 값 바꾸는 형식으로 해결\n",
    "# append는 메모리 많이 잡아먹음\n",
    "result = [0]* 10000000\n",
    "for num in number_list :\n",
    "    result[num] += 1\n",
    "for idx, res in enumerate(result) :\n",
    "    if res != 0:\n",
    "        for _ in range(res) :\n",
    "            print(idx)"
   ]
  },
  {
   "cell_type": "code",
   "execution_count": null,
   "metadata": {},
   "outputs": [],
   "source": [
    "import sys\n",
    "\n",
    "cnt = int(sys.stdin.readline())\n",
    "result = [0]* 10001\n",
    "for _ in range(cnt) :\n",
    "    result[int(sys.stdin.readline())] += 1\n",
    "\n",
    "for res in range(len(result)) :\n",
    "    if result[res] != 0:\n",
    "        for _ in range(result[res]) :\n",
    "            print(res)"
   ]
  },
  {
   "cell_type": "code",
   "execution_count": null,
   "metadata": {},
   "outputs": [],
   "source": [
    "import sys\n",
    "import heapq\n",
    "\n",
    "cnt = int(sys.stdin.readline())\n",
    "number_list = []\n",
    "for _ in range(cnt) :\n",
    "    heapq.heappush(number_list,int(sys.stdin.readline()))\n",
    "for num in number_list :\n",
    "    print(num)\n"
   ]
  },
  {
   "cell_type": "code",
   "execution_count": null,
   "metadata": {},
   "outputs": [],
   "source": [
    "import sys\n",
    "\n",
    "cnt = int(sys.stdin.readline())\n",
    "number_list = []\n",
    "for _ in range(cnt) :\n",
    "    number_list.append(int(sys.stdin.readline()))\n",
    "number_list.sort()\n",
    "for num in number_list :\n",
    "    print(num)\n"
   ]
  }
 ],
 "metadata": {
  "kernelspec": {
   "display_name": "pytorch",
   "language": "python",
   "name": "python3"
  },
  "language_info": {
   "codemirror_mode": {
    "name": "ipython",
    "version": 3
   },
   "file_extension": ".py",
   "mimetype": "text/x-python",
   "name": "python",
   "nbconvert_exporter": "python",
   "pygments_lexer": "ipython3",
   "version": "3.10.5"
  },
  "orig_nbformat": 4,
  "vscode": {
   "interpreter": {
    "hash": "334544a737ead5017040ac753f52220319955d2381f512ab105ce194db781c37"
   }
  }
 },
 "nbformat": 4,
 "nbformat_minor": 2
}
