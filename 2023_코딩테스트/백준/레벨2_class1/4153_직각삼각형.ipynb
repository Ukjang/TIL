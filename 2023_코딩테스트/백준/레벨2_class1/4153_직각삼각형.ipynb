{
 "cells": [
  {
   "cell_type": "code",
   "execution_count": null,
   "metadata": {},
   "outputs": [],
   "source": [
    "\n",
    "import sys\n",
    "\n",
    "while True :\n",
    "    temp = list(map(int, sys.stdin.readline().split()))\n",
    "    if sum(temp) == 0 :\n",
    "        break\n",
    "    temp.sort()\n",
    "    if temp[2]**2 == (temp[0] ** 2 + temp[1] ** 2) :\n",
    "        print('right')\n",
    "    else :\n",
    "        print('wrong')"
   ]
  }
 ],
 "metadata": {
  "language_info": {
   "name": "python"
  },
  "orig_nbformat": 4
 },
 "nbformat": 4,
 "nbformat_minor": 2
}
