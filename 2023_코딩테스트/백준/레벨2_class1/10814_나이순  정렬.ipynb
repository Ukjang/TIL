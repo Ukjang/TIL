{
 "cells": [
  {
   "cell_type": "code",
   "execution_count": null,
   "metadata": {},
   "outputs": [],
   "source": [
    "import sys\n",
    "\n",
    "cnt = int(sys.stdin.readline())\n",
    "\n",
    "data = []\n",
    "for idx in range(cnt):\n",
    "    temp_list = sys.stdin.readline().split()\n",
    "    data.append([int(temp_list[0]), str(temp_list[1]), idx])\n",
    "    \n",
    "data.sort(key=lambda x : (x[0], x[2]))\n",
    "\n",
    "for dt in data :\n",
    "    temp_str = str(dt[0]) + ' ' + str(dt[1])\n",
    "    print(temp_str)"
   ]
  }
 ],
 "metadata": {
  "kernelspec": {
   "display_name": "pytorch",
   "language": "python",
   "name": "python3"
  },
  "language_info": {
   "name": "python",
   "version": "3.10.5"
  },
  "orig_nbformat": 4,
  "vscode": {
   "interpreter": {
    "hash": "334544a737ead5017040ac753f52220319955d2381f512ab105ce194db781c37"
   }
  }
 },
 "nbformat": 4,
 "nbformat_minor": 2
}
