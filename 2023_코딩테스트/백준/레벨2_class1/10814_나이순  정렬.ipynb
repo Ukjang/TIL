{
 "cells": [
  {
   "cell_type": "code",
   "execution_count": null,
   "metadata": {},
   "outputs": [],
   "source": [
    "import sys\n",
    "\n",
    "cnt = int(sys.stdin.readline())\n",
    "\n",
    "data = []\n",
    "for idx in range(cnt):\n",
    "    temp_list = sys.stdin.readline().split()\n",
    "    data.append([int(temp_list[0]), str(temp_list[1]), idx])\n",
    "    \n",
    "data.sort(key=lambda x : (x[0], x[2]))\n",
    "\n",
    "for dt in data :\n",
    "    temp_str = str(dt[0]) + ' ' + str(dt[1])\n",
    "    print(temp_str)"
   ]
  }
 ],
 "metadata": {
  "language_info": {
   "name": "python"
  },
  "orig_nbformat": 4
 },
 "nbformat": 4,
 "nbformat_minor": 2
}
