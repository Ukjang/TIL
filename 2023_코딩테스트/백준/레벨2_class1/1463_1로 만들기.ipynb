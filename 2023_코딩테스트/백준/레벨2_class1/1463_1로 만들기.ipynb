{
 "cells": [
  {
   "cell_type": "code",
   "execution_count": 12,
   "metadata": {},
   "outputs": [],
   "source": [
    "# 3으로 나누는게 우선시 되도록\n",
    "# 3으로 나누어 떨어지면 ok\n",
    "# 3으로 나누어서 나머지 1 남으면 1 뺌\n",
    "# 2로 나누고\n",
    "# 1뺌\n",
    "\n",
    "number = 16\n",
    "cnt = 0"
   ]
  },
  {
   "cell_type": "code",
   "execution_count": 14,
   "metadata": {},
   "outputs": [
    {
     "data": {
      "text/plain": [
       "4"
      ]
     },
     "execution_count": 14,
     "metadata": {},
     "output_type": "execute_result"
    }
   ],
   "source": [
    "# 시작값부터 연산하는 DP 구성!\n",
    "number_list = [0] * (number + 1)\n",
    "for i in range(2, number+1) :\n",
    "    number_list[i] = number_list[i-1] + 1\n",
    "    if i % 2 == 0:\n",
    "        number_list[i] = min(number_list[i], number_list[i//2] + 1)\n",
    "    if i % 3 == 0:\n",
    "        number_list[i] = min(number_list[i], number_list[i//3] + 1)\n",
    "number_list[number]"
   ]
  },
  {
   "cell_type": "code",
   "execution_count": null,
   "metadata": {},
   "outputs": [],
   "source": [
    "import sys\n",
    "number = int(sys.stdin.readline())\n",
    "number_list = [0] * (number + 1)\n",
    "for i in range(2, number+1) :\n",
    "    number_list[i] = number_list[i-1] + 1\n",
    "    if i % 2 == 0:\n",
    "        number_list[i] = min(number_list[i], number_list[i//2] + 1)\n",
    "    if i % 3 == 0:\n",
    "        number_list[i] = min(number_list[i], number_list[i//3] + 1)\n",
    "print(number_list[number])"
   ]
  },
  {
   "cell_type": "code",
   "execution_count": 15,
   "metadata": {},
   "outputs": [
    {
     "data": {
      "text/plain": [
       "[0, 0, 1, 1, 2, 3, 2, 3, 3, 2, 3, 4, 3, 4, 4, 4, 4]"
      ]
     },
     "execution_count": 15,
     "metadata": {},
     "output_type": "execute_result"
    }
   ],
   "source": [
    "number_list"
   ]
  },
  {
   "cell_type": "code",
   "execution_count": null,
   "metadata": {},
   "outputs": [],
   "source": [
    "8 4 2 1"
   ]
  },
  {
   "cell_type": "code",
   "execution_count": null,
   "metadata": {},
   "outputs": [],
   "source": [
    "22\n",
    "11\n",
    "10\n",
    "5\n",
    "4\n",
    "2\n",
    "1\n",
    "\n",
    "22\n",
    "21\n",
    "7\n",
    "6\n",
    "2\n",
    "1"
   ]
  },
  {
   "cell_type": "code",
   "execution_count": null,
   "metadata": {},
   "outputs": [],
   "source": [
    "3 2\n",
    "2 1\n",
    "+1 2 "
   ]
  },
  {
   "cell_type": "code",
   "execution_count": 5,
   "metadata": {},
   "outputs": [
    {
     "data": {
      "text/plain": [
       "3"
      ]
     },
     "execution_count": 5,
     "metadata": {},
     "output_type": "execute_result"
    }
   ],
   "source": [
    "cnt"
   ]
  },
  {
   "cell_type": "code",
   "execution_count": null,
   "metadata": {},
   "outputs": [],
   "source": [
    "import sys\n",
    "\n",
    "number = int(sys.stdin.readline())\n",
    "cnt = 0\n",
    "while True :\n",
    "    if number == 1 :\n",
    "        break\n",
    "    elif number % 3 == 0 :\n",
    "        number /= 3\n",
    "    elif number % 3 == 1:\n",
    "        number -= 1\n",
    "    elif number % 2 == 0:\n",
    "        number /= 2\n",
    "    else :\n",
    "        number -= 1\n",
    "    cnt += 1\n",
    "print(cnt)"
   ]
  }
 ],
 "metadata": {
  "kernelspec": {
   "display_name": "pytorch",
   "language": "python",
   "name": "python3"
  },
  "language_info": {
   "codemirror_mode": {
    "name": "ipython",
    "version": 3
   },
   "file_extension": ".py",
   "mimetype": "text/x-python",
   "name": "python",
   "nbconvert_exporter": "python",
   "pygments_lexer": "ipython3",
   "version": "3.10.5"
  },
  "orig_nbformat": 4,
  "vscode": {
   "interpreter": {
    "hash": "334544a737ead5017040ac753f52220319955d2381f512ab105ce194db781c37"
   }
  }
 },
 "nbformat": 4,
 "nbformat_minor": 2
}
