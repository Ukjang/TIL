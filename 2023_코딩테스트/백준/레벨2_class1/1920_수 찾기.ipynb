{
 "cells": [
  {
   "cell_type": "code",
   "execution_count": 1,
   "metadata": {},
   "outputs": [],
   "source": [
    "input1 = list(map(int,'4 1 5 2 3'.split()))\n",
    "input2 = list(map(int,'1 3 7 9 5'.split()))"
   ]
  },
  {
   "cell_type": "code",
   "execution_count": 5,
   "metadata": {},
   "outputs": [
    {
     "ename": "ValueError",
     "evalue": "7 is not in list",
     "output_type": "error",
     "traceback": [
      "\u001b[1;31m---------------------------------------------------------------------------\u001b[0m",
      "\u001b[1;31mValueError\u001b[0m                                Traceback (most recent call last)",
      "\u001b[1;32mc:\\Users\\Admin\\TIL\\2023_코딩테스트\\백준\\레벨2_class1\\1920_수 찾기.ipynb 셀 2\u001b[0m in \u001b[0;36m<cell line: 1>\u001b[1;34m()\u001b[0m\n\u001b[1;32m----> <a href='vscode-notebook-cell:/c%3A/Users/Admin/TIL/2023_%EC%BD%94%EB%94%A9%ED%85%8C%EC%8A%A4%ED%8A%B8/%EB%B0%B1%EC%A4%80/%EB%A0%88%EB%B2%A82_class1/1920_%EC%88%98%20%EC%B0%BE%EA%B8%B0.ipynb#W3sZmlsZQ%3D%3D?line=0'>1</a>\u001b[0m input1\u001b[39m.\u001b[39;49mindex(\u001b[39m7\u001b[39;49m)\n",
      "\u001b[1;31mValueError\u001b[0m: 7 is not in list"
     ]
    }
   ],
   "source": [
    "# set 활용해서 중복제거\n",
    "import sys\n",
    "\n",
    "cnt1 = int(sys.stdin.readline())\n",
    "data1 = set(map(int, sys.stdin.readline().split()))\n",
    "cnt2 = int(sys.stdin.readline())\n",
    "data2 = list(map(int, sys.stdin.readline().split()))\n",
    "\n",
    "for i in data2 :\n",
    "    if i in data1 :\n",
    "        print(1)\n",
    "    else :\n",
    "        print(0)"
   ]
  },
  {
   "cell_type": "code",
   "execution_count": 3,
   "metadata": {},
   "outputs": [
    {
     "name": "stdout",
     "output_type": "stream",
     "text": [
      "1\n",
      "1\n",
      "0\n",
      "0\n",
      "1\n"
     ]
    }
   ],
   "source": [
    "for i in input2 :\n",
    "    if input1.index(i) != :\n",
    "        print(1)\n",
    "    else :\n",
    "        print(0)"
   ]
  },
  {
   "cell_type": "code",
   "execution_count": 25,
   "metadata": {},
   "outputs": [
    {
     "name": "stdout",
     "output_type": "stream",
     "text": [
      "1\n",
      "1\n",
      "0\n",
      "0\n",
      "1\n"
     ]
    }
   ],
   "source": [
    "# 이진 탐색\n",
    "input1.sort()\n",
    "for i in input2 :\n",
    "    temp = len(input1) // 2 \n",
    "    while True :\n",
    "        temp_value = input1[temp]\n",
    "        if i == temp_value :\n",
    "            print(1)\n",
    "            break\n",
    "        elif i > temp_value :\n",
    "            temp += 1\n",
    "        elif i < temp_value :\n",
    "            temp -= 1\n",
    "\n",
    "        if temp < 0 or temp >= len(input1) :\n",
    "            print(0)\n",
    "            break"
   ]
  },
  {
   "cell_type": "code",
   "execution_count": null,
   "metadata": {},
   "outputs": [],
   "source": [
    "import sys\n",
    "\n",
    "cnt1 = int(sys.stdin.readline())\n",
    "data1 = list(map(int, sys.stdin.readline().split()))\n",
    "cnt2 = int(sys.stdin.readline())\n",
    "data2 = list(map(int, sys.stdin.readline().split()))\n",
    "\n",
    "for i in data2 :\n",
    "    if i in data1 :\n",
    "        print(1)\n",
    "    else :\n",
    "        print(0)"
   ]
  },
  {
   "cell_type": "code",
   "execution_count": 26,
   "metadata": {},
   "outputs": [],
   "source": [
    "import sys\n",
    "\n",
    "cnt1 = int(sys.stdin.readline())\n",
    "data1 = list(map(int, sys.stdin.readline().split()))\n",
    "cnt2 = int(sys.stdin.readline())\n",
    "data2 = list(map(int, sys.stdin.readline().split()))\n",
    "\n",
    "data1.sort()\n",
    "for i in data2 :\n",
    "    lt, rt = 0, len(data1) - 1\n",
    "    while True :\n",
    "        temp = (lt + rt) // 2\n",
    "        temp_value = data1[temp]\n",
    "        if i == temp_value :\n",
    "            print(1)\n",
    "            break\n",
    "        elif i > temp_value :\n",
    "            lt = temp + 1\n",
    "        elif i < temp_value :\n",
    "            rt = temp - 1\n",
    "        # 탐색이 끝났을때 구문\n",
    "        if lt > rt :\n",
    "            print(0)\n",
    "            break"
   ]
  }
 ],
 "metadata": {
  "kernelspec": {
   "display_name": "pytorch",
   "language": "python",
   "name": "python3"
  },
  "language_info": {
   "codemirror_mode": {
    "name": "ipython",
    "version": 3
   },
   "file_extension": ".py",
   "mimetype": "text/x-python",
   "name": "python",
   "nbconvert_exporter": "python",
   "pygments_lexer": "ipython3",
   "version": "3.10.5"
  },
  "orig_nbformat": 4,
  "vscode": {
   "interpreter": {
    "hash": "334544a737ead5017040ac753f52220319955d2381f512ab105ce194db781c37"
   }
  }
 },
 "nbformat": 4,
 "nbformat_minor": 2
}
