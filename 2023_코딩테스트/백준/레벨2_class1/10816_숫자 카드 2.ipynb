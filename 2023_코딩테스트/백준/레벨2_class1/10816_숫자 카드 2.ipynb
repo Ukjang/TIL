{
 "cells": [
  {
   "cell_type": "code",
   "execution_count": 1,
   "metadata": {},
   "outputs": [],
   "source": [
    "input1 = list(map(int, '6 3 2 10 10 10 -10 -10 7 3'.split()))\n",
    "input2 = list(map(int, '10 9 -5 2 3 4 5 -10'.split()))"
   ]
  },
  {
   "cell_type": "code",
   "execution_count": 5,
   "metadata": {},
   "outputs": [
    {
     "name": "stdout",
     "output_type": "stream",
     "text": [
      "3 0 0 1 2 0 0 2\n"
     ]
    }
   ],
   "source": [
    "from collections import Counter\n",
    "counter = Counter(input1)\n",
    "result = []\n",
    "for i in input2 :\n",
    "    if i in counter.keys() :\n",
    "        result.append(counter[i])\n",
    "    else :\n",
    "        result.append(0)\n",
    "print(' '.join(map(str,result)))"
   ]
  },
  {
   "cell_type": "code",
   "execution_count": null,
   "metadata": {},
   "outputs": [],
   "source": [
    "from collections import Counter\n",
    "import sys\n",
    "cnt1 = int(sys.stdin.readline())\n",
    "input1 = map(int, sys.stdin.readline().split())\n",
    "cnt2 = int(sys.stdin.readline())\n",
    "input2 = map(int, sys.stdin.readline().split())\n",
    "counter = Counter(input1)\n",
    "result = []\n",
    "for i in input2 :\n",
    "    if i in counter.keys() :\n",
    "        result.append(counter[i])\n",
    "    else :\n",
    "        result.append(0)\n",
    "print(' '.join(map(str,result)))\n"
   ]
  }
 ],
 "metadata": {
  "kernelspec": {
   "display_name": "pytorch",
   "language": "python",
   "name": "python3"
  },
  "language_info": {
   "codemirror_mode": {
    "name": "ipython",
    "version": 3
   },
   "file_extension": ".py",
   "mimetype": "text/x-python",
   "name": "python",
   "nbconvert_exporter": "python",
   "pygments_lexer": "ipython3",
   "version": "3.10.5"
  },
  "orig_nbformat": 4,
  "vscode": {
   "interpreter": {
    "hash": "334544a737ead5017040ac753f52220319955d2381f512ab105ce194db781c37"
   }
  }
 },
 "nbformat": 4,
 "nbformat_minor": 2
}
