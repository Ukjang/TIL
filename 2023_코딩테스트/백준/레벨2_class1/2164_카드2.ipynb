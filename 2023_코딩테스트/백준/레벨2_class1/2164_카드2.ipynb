{
 "cells": [
  {
   "cell_type": "code",
   "execution_count": 1,
   "metadata": {},
   "outputs": [],
   "source": [
    "n = 6"
   ]
  },
  {
   "cell_type": "code",
   "execution_count": 3,
   "metadata": {},
   "outputs": [
    {
     "data": {
      "text/plain": [
       "deque([1, 2, 3, 4, 5, 6])"
      ]
     },
     "execution_count": 3,
     "metadata": {},
     "output_type": "execute_result"
    }
   ],
   "source": [
    "from collections import deque\n",
    "number_list = deque(range(1,n+1))\n",
    "number_list"
   ]
  },
  {
   "cell_type": "code",
   "execution_count": 5,
   "metadata": {},
   "outputs": [
    {
     "name": "stdout",
     "output_type": "stream",
     "text": [
      "4\n"
     ]
    }
   ],
   "source": [
    "while True :\n",
    "    # 맨 앞장 버리기\n",
    "    number_list.popleft()\n",
    "    # 맨 앞장 밑으로 보내기\n",
    "    number_list.append(number_list.popleft())\n",
    "    #  한장남으면 종료\n",
    "    if len(number_list) == 1:\n",
    "        print(number_list[0])\n",
    "        break"
   ]
  },
  {
   "cell_type": "code",
   "execution_count": null,
   "metadata": {},
   "outputs": [],
   "source": [
    "from collections import deque\n",
    "import sys\n",
    "n = int(sys.stdin.readline())\n",
    "number_list = deque(range(1,n+1))\n",
    "number_list\n",
    "\n",
    "while True :\n",
    "    if len(number_list) == 1:\n",
    "        print(number_list[0])\n",
    "        break\n",
    "    # 맨 앞장 버리기\n",
    "    number_list.popleft()\n",
    "    # 맨 앞장 밑으로 보내기\n",
    "    number_list.append(number_list.popleft())\n",
    "    #  한장남으면 종료\n",
    "    "
   ]
  }
 ],
 "metadata": {
  "kernelspec": {
   "display_name": "pytorch",
   "language": "python",
   "name": "python3"
  },
  "language_info": {
   "codemirror_mode": {
    "name": "ipython",
    "version": 3
   },
   "file_extension": ".py",
   "mimetype": "text/x-python",
   "name": "python",
   "nbconvert_exporter": "python",
   "pygments_lexer": "ipython3",
   "version": "3.10.5"
  },
  "orig_nbformat": 4,
  "vscode": {
   "interpreter": {
    "hash": "334544a737ead5017040ac753f52220319955d2381f512ab105ce194db781c37"
   }
  }
 },
 "nbformat": 4,
 "nbformat_minor": 2
}
