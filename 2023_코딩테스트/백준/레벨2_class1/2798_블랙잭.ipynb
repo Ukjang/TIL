{
 "cells": [
  {
   "cell_type": "code",
   "execution_count": 8,
   "metadata": {},
   "outputs": [
    {
     "data": {
      "text/plain": [
       "497"
      ]
     },
     "execution_count": 8,
     "metadata": {},
     "output_type": "execute_result"
    }
   ],
   "source": [
    "number, total_sum = map(int,'10 500'.split())\n",
    "\n",
    "input1 = '93 181 245 214 315 36 185 138 216 295'\n",
    "\n",
    "number_list = input1.split()\n",
    "number_list\n",
    "from itertools import combinations\n",
    "result = set()\n",
    "for comb in combinations(number_list, 3) :\n",
    "    temp = sum(list(map(int, comb)))\n",
    "    if temp <= total_sum :\n",
    "        result.add(temp)\n",
    "max(result)"
   ]
  },
  {
   "cell_type": "code",
   "execution_count": null,
   "metadata": {},
   "outputs": [],
   "source": [
    "import sys\n",
    "number, total_sum = map(int,sys.stdin.readline().split())\n",
    "\n",
    "number_list = map(int,sys.stdin.readline().split())\n",
    "number_list\n",
    "from itertools import combinations\n",
    "result = set()\n",
    "for comb in combinations(number_list, 3) :\n",
    "    temp = sum(comb)\n",
    "    if temp <= total_sum :\n",
    "        result.add(temp)\n",
    "print(max(result))"
   ]
  }
 ],
 "metadata": {
  "kernelspec": {
   "display_name": "pytorch",
   "language": "python",
   "name": "python3"
  },
  "language_info": {
   "codemirror_mode": {
    "name": "ipython",
    "version": 3
   },
   "file_extension": ".py",
   "mimetype": "text/x-python",
   "name": "python",
   "nbconvert_exporter": "python",
   "pygments_lexer": "ipython3",
   "version": "3.10.5"
  },
  "orig_nbformat": 4,
  "vscode": {
   "interpreter": {
    "hash": "334544a737ead5017040ac753f52220319955d2381f512ab105ce194db781c37"
   }
  }
 },
 "nbformat": 4,
 "nbformat_minor": 2
}
