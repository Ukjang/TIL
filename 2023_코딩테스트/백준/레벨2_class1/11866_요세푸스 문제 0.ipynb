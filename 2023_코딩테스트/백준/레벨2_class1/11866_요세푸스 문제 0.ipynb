{
 "cells": [
  {
   "cell_type": "code",
   "execution_count": 1,
   "metadata": {},
   "outputs": [],
   "source": [
    "N = 7\n",
    "K = 3"
   ]
  },
  {
   "cell_type": "code",
   "execution_count": 13,
   "metadata": {},
   "outputs": [
    {
     "data": {
      "text/plain": [
       "'<3, 6, 2, 7, 5, 1, 4>'"
      ]
     },
     "execution_count": 13,
     "metadata": {},
     "output_type": "execute_result"
    }
   ],
   "source": [
    "number_list = [i for i in range(1, N+1)]\n",
    "result = []\n",
    "temp = K - 1\n",
    "for _ in range(N) :\n",
    "    temp_len = len(number_list)\n",
    "    temp = temp % temp_len\n",
    "    result.append(number_list.pop(temp))\n",
    "    temp += 2\n",
    "'<' + str(result)[1:-1] + '>'"
   ]
  },
  {
   "cell_type": "code",
   "execution_count": 12,
   "metadata": {},
   "outputs": [
    {
     "data": {
      "text/plain": [
       "'<3, 6, 2, 7, 5, 1, 4>'"
      ]
     },
     "execution_count": 12,
     "metadata": {},
     "output_type": "execute_result"
    }
   ],
   "source": [
    "'<' + str(result)[1:-1] + '>'"
   ]
  },
  {
   "cell_type": "code",
   "execution_count": null,
   "metadata": {},
   "outputs": [],
   "source": [
    "import sys\n",
    "\n",
    "N, K = map(int, sys.stdin.readline().split())\n",
    "number_list = [i for i in range(1, N+1)]\n",
    "result = []\n",
    "temp = K - 1\n",
    "for _ in range(N) :\n",
    "    temp_len = len(number_list)\n",
    "    temp = temp % temp_len\n",
    "    result.append(number_list.pop(temp))\n",
    "    temp += K-1\n",
    "print('<' + str(result)[1:-1] + '>')"
   ]
  }
 ],
 "metadata": {
  "kernelspec": {
   "display_name": "pytorch",
   "language": "python",
   "name": "python3"
  },
  "language_info": {
   "codemirror_mode": {
    "name": "ipython",
    "version": 3
   },
   "file_extension": ".py",
   "mimetype": "text/x-python",
   "name": "python",
   "nbconvert_exporter": "python",
   "pygments_lexer": "ipython3",
   "version": "3.10.5"
  },
  "orig_nbformat": 4,
  "vscode": {
   "interpreter": {
    "hash": "334544a737ead5017040ac753f52220319955d2381f512ab105ce194db781c37"
   }
  }
 },
 "nbformat": 4,
 "nbformat_minor": 2
}
