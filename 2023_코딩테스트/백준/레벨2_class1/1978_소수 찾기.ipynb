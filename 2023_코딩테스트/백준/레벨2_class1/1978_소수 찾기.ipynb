{
 "cells": [
  {
   "cell_type": "code",
   "execution_count": 2,
   "metadata": {},
   "outputs": [
    {
     "data": {
      "text/plain": [
       "3"
      ]
     },
     "execution_count": 2,
     "metadata": {},
     "output_type": "execute_result"
    }
   ],
   "source": [
    "input1 = '1 3 5 7'\n",
    "number_list = map(int, input1.split())\n",
    "answer = 0\n",
    "for number in number_list:\n",
    "    if number == 1 :\n",
    "        pass\n",
    "    elif number == 2:\n",
    "        answer += 1\n",
    "    else :\n",
    "        for i in range(2, int(number / 2) + 1) :\n",
    "            if number % i == 0:\n",
    "                break\n",
    "        else :\n",
    "            answer += 1\n",
    "answer"
   ]
  },
  {
   "cell_type": "code",
   "execution_count": null,
   "metadata": {},
   "outputs": [],
   "source": [
    "import sys\n",
    "\n",
    "number_cnt = int(sys.stdin.readline())\n",
    "number_list = map(int, sys.stdin.readline().split())\n",
    "answer = 0\n",
    "for number in number_list:\n",
    "    if number == 1 :\n",
    "        pass\n",
    "    elif number == 2:\n",
    "        answer += 1\n",
    "    else :\n",
    "        for i in range(2, int(number / 2) + 1) :\n",
    "            if number % i == 0:\n",
    "                break\n",
    "        else :\n",
    "            answer += 1\n",
    "print(answer)"
   ]
  }
 ],
 "metadata": {
  "kernelspec": {
   "display_name": "pytorch",
   "language": "python",
   "name": "python3"
  },
  "language_info": {
   "codemirror_mode": {
    "name": "ipython",
    "version": 3
   },
   "file_extension": ".py",
   "mimetype": "text/x-python",
   "name": "python",
   "nbconvert_exporter": "python",
   "pygments_lexer": "ipython3",
   "version": "3.10.5"
  },
  "orig_nbformat": 4,
  "vscode": {
   "interpreter": {
    "hash": "334544a737ead5017040ac753f52220319955d2381f512ab105ce194db781c37"
   }
  }
 },
 "nbformat": 4,
 "nbformat_minor": 2
}
