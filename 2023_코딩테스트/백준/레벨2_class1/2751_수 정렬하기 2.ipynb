{
 "cells": [
  {
   "cell_type": "code",
   "execution_count": null,
   "metadata": {},
   "outputs": [],
   "source": [
    "import sys\n",
    "result = []\n",
    "cnt = int(sys.stdin.readline())\n",
    "for _ in range(cnt) :\n",
    "    result.append(int(sys.stdin.readline()))\n",
    "result.sort()\n",
    "for res in result :\n",
    "    print(res)"
   ]
  }
 ],
 "metadata": {
  "language_info": {
   "name": "python"
  },
  "orig_nbformat": 4
 },
 "nbformat": 4,
 "nbformat_minor": 2
}
