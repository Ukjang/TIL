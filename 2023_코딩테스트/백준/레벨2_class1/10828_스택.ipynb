{
 "cells": [
  {
   "cell_type": "code",
   "execution_count": 5,
   "metadata": {},
   "outputs": [],
   "source": [
    "input1 = '''\n",
    "14\n",
    "push 1\n",
    "push 2\n",
    "top\n",
    "size\n",
    "empty\n",
    "pop\n",
    "pop\n",
    "pop\n",
    "size\n",
    "empty\n",
    "pop\n",
    "push 3\n",
    "empty\n",
    "top\n",
    "'''"
   ]
  },
  {
   "cell_type": "code",
   "execution_count": 7,
   "metadata": {},
   "outputs": [
    {
     "name": "stdout",
     "output_type": "stream",
     "text": [
      "2\n",
      "2\n",
      "0\n",
      "2\n",
      "1\n",
      "-1\n",
      "0\n",
      "1\n",
      "-1\n",
      "0\n",
      "3\n"
     ]
    }
   ],
   "source": [
    "input_list = ['push 1',\n",
    " 'push 2',\n",
    " 'top',\n",
    " 'size',\n",
    " 'empty',\n",
    " 'pop',\n",
    " 'pop',\n",
    " 'pop',\n",
    " 'size',\n",
    " 'empty',\n",
    " 'pop',\n",
    " 'push 3',\n",
    " 'empty',\n",
    " 'top']\n",
    "input_list\n",
    "temp = []\n",
    "for temp_input in input_list :\n",
    "    # push \n",
    "    if temp_input[:4] == 'push' :\n",
    "        temp.append(temp_input.split()[1])\n",
    "    # pop\n",
    "    if temp_input[:3] == 'pop' :\n",
    "        if temp:\n",
    "            print(temp.pop())\n",
    "        else :\n",
    "            print(-1)\n",
    "    # size :\n",
    "    if temp_input[:4] == 'size' :\n",
    "        print(len(temp))\n",
    "    # empty :\n",
    "    if temp_input[:5] == 'empty' :\n",
    "        if temp :\n",
    "            print(0)\n",
    "        else :\n",
    "            print(1)\n",
    "    # top :\n",
    "    if temp_input[:3] == 'top' : \n",
    "        if temp :\n",
    "            print(temp[-1])\n",
    "        else :\n",
    "            print(-1)"
   ]
  },
  {
   "cell_type": "code",
   "execution_count": null,
   "metadata": {},
   "outputs": [],
   "source": [
    "import sys\n",
    "\n",
    "cnt = int(sys.stdin.readline())\n",
    "temp = []\n",
    "for _ in range(cnt) :\n",
    "    temp_input = str(sys.stdin.readline().strip())\n",
    "    # push \n",
    "    if temp_input[:4] == 'push' :\n",
    "        temp.append(temp_input.split()[1])\n",
    "    # pop\n",
    "    if temp_input[:3] == 'pop' :\n",
    "        if temp:\n",
    "            print(temp.pop())\n",
    "        else :\n",
    "            print(-1)\n",
    "    # size :\n",
    "    if temp_input[:4] == 'size' :\n",
    "        print(len(temp))\n",
    "    # empty :\n",
    "    if temp_input[:5] == 'empty' :\n",
    "        if temp :\n",
    "            print(0)\n",
    "        else :\n",
    "            print(1)\n",
    "    # top :\n",
    "    if temp_input[:3] == 'top' : \n",
    "        if temp :\n",
    "            print(temp[-1])\n",
    "        else :\n",
    "            print(-1)"
   ]
  }
 ],
 "metadata": {
  "kernelspec": {
   "display_name": "pytorch",
   "language": "python",
   "name": "python3"
  },
  "language_info": {
   "codemirror_mode": {
    "name": "ipython",
    "version": 3
   },
   "file_extension": ".py",
   "mimetype": "text/x-python",
   "name": "python",
   "nbconvert_exporter": "python",
   "pygments_lexer": "ipython3",
   "version": "3.10.5"
  },
  "orig_nbformat": 4,
  "vscode": {
   "interpreter": {
    "hash": "334544a737ead5017040ac753f52220319955d2381f512ab105ce194db781c37"
   }
  }
 },
 "nbformat": 4,
 "nbformat_minor": 2
}
