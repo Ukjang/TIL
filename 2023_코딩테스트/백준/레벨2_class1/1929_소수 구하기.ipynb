{
 "cells": [
  {
   "cell_type": "code",
   "execution_count": 11,
   "metadata": {},
   "outputs": [],
   "source": [
    "start, end = map(int, '2 16'.split())"
   ]
  },
  {
   "cell_type": "code",
   "execution_count": 12,
   "metadata": {},
   "outputs": [
    {
     "name": "stdout",
     "output_type": "stream",
     "text": [
      "2\n",
      "3\n",
      "5\n",
      "7\n",
      "11\n",
      "13\n"
     ]
    }
   ],
   "source": [
    "for i in range(start, end+1):\n",
    "    # 소수 구하는 식\n",
    "    if i == 1 :\n",
    "        pass\n",
    "    else :\n",
    "        for j in range(2, int(i**(1/2)) + 1) :\n",
    "            if i % j == 0 :\n",
    "                break\n",
    "        else :\n",
    "            print(i)\n"
   ]
  },
  {
   "cell_type": "code",
   "execution_count": null,
   "metadata": {},
   "outputs": [],
   "source": [
    "import sys\n",
    "\n",
    "start, end = map(int, sys.stdin.readline().split())\n",
    "\n",
    "for i in range(start, end+1):\n",
    "    # 소수 구하는 식\n",
    "    if i == 1 :\n",
    "        pass\n",
    "    else :\n",
    "        for j in range(2, int(i**(1/2)) + 1) :\n",
    "            if i % j == 0 :\n",
    "                break\n",
    "        else :\n",
    "            print(i)"
   ]
  }
 ],
 "metadata": {
  "kernelspec": {
   "display_name": "pytorch",
   "language": "python",
   "name": "python3"
  },
  "language_info": {
   "codemirror_mode": {
    "name": "ipython",
    "version": 3
   },
   "file_extension": ".py",
   "mimetype": "text/x-python",
   "name": "python",
   "nbconvert_exporter": "python",
   "pygments_lexer": "ipython3",
   "version": "3.10.5"
  },
  "orig_nbformat": 4,
  "vscode": {
   "interpreter": {
    "hash": "334544a737ead5017040ac753f52220319955d2381f512ab105ce194db781c37"
   }
  }
 },
 "nbformat": 4,
 "nbformat_minor": 2
}
