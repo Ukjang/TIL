{
 "cells": [
  {
   "cell_type": "code",
   "execution_count": 26,
   "metadata": {},
   "outputs": [
    {
     "name": "stdout",
     "output_type": "stream",
     "text": [
      "260\n",
      "290\n"
     ]
    }
   ],
   "source": [
    "f = open('스티커_9245.txt', 'r')\n",
    "cnt = int(f.readline())\n",
    "for _ in range(cnt) :\n",
    "    lines = int(f.readline())\n",
    "    temp = []\n",
    "    for _ in range(2) :\n",
    "        temp.append(list(map(int, f.readline().split())))\n",
    "    for j in range(lines) :\n",
    "        for i in range(2) :\n",
    "            if j == 0 :\n",
    "                pass \n",
    "            # 대각선에서 값 더하기\n",
    "            elif j == 1 :\n",
    "                temp[i][j] = temp[i-1][j-1] + temp[i][j]\n",
    "            else :\n",
    "                temp[i][j] = max(temp[i-1][j-1], temp[i-1][j-2]) + temp[i][j]\n",
    "    print(temp[1][lines-1])"
   ]
  },
  {
   "cell_type": "code",
   "execution_count": 27,
   "metadata": {},
   "outputs": [
    {
     "data": {
      "text/plain": [
       "[[10, 50, 60, 130, 210, 210, 270], [20, 50, 80, 110, 190, 230, 290]]"
      ]
     },
     "execution_count": 27,
     "metadata": {},
     "output_type": "execute_result"
    }
   ],
   "source": [
    "temp"
   ]
  },
  {
   "cell_type": "code",
   "execution_count": null,
   "metadata": {},
   "outputs": [],
   "source": [
    "# 위 아래 좌우 스티커 사용 불가\n",
    "# 2개전의 스티커 값과 대각선 스티커 값 합한것 중 max\n",
    "\n",
    "# 첫번째열과 두번째열 if문\n",
    "# 그 이후부터는 2번째 전과 대각선 max() 후 더하기\n",
    "\n"
   ]
  },
  {
   "cell_type": "code",
   "execution_count": 12,
   "metadata": {},
   "outputs": [
    {
     "data": {
      "text/plain": [
       "[[50, 10, 100, 20, 40], [30, 50, 70, 10, 60]]"
      ]
     },
     "execution_count": 12,
     "metadata": {},
     "output_type": "execute_result"
    }
   ],
   "source": [
    "data[0]"
   ]
  }
 ],
 "metadata": {
  "kernelspec": {
   "display_name": "Python 3",
   "language": "python",
   "name": "python3"
  },
  "language_info": {
   "codemirror_mode": {
    "name": "ipython",
    "version": 3
   },
   "file_extension": ".py",
   "mimetype": "text/x-python",
   "name": "python",
   "nbconvert_exporter": "python",
   "pygments_lexer": "ipython3",
   "version": "3.8.10"
  },
  "orig_nbformat": 4
 },
 "nbformat": 4,
 "nbformat_minor": 2
}
