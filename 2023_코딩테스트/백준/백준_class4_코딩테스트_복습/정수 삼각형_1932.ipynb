{
 "cells": [
  {
   "cell_type": "code",
   "execution_count": 5,
   "metadata": {},
   "outputs": [
    {
     "data": {
      "text/plain": [
       "[[7], [3, 8], [8, 1, 0], [2, 7, 4, 4], [4, 5, 2, 6, 5]]"
      ]
     },
     "execution_count": 5,
     "metadata": {},
     "output_type": "execute_result"
    }
   ],
   "source": [
    "f = open('정수 삼각형_1932.txt')\n",
    "cnt = int(f.readline())\n",
    "data = []\n",
    "for _ in range(cnt) :\n",
    "    data.append(list(map(int, f.readline().split())))\n",
    "data"
   ]
  },
  {
   "cell_type": "code",
   "execution_count": 6,
   "metadata": {},
   "outputs": [
    {
     "name": "stdout",
     "output_type": "stream",
     "text": [
      "30\n"
     ]
    }
   ],
   "source": [
    "# 이전 근접한 최대값이 더해지도록 구성\n",
    "# 시작과 끝 지점에 대한 디버깅\n",
    "for i in range(1, cnt) :\n",
    "    for j in range(len(data[i])) :\n",
    "        # 시작 또는 끝인경우 :\n",
    "        if j == 0 :\n",
    "            data[i][j] += data[i-1][j]\\\n",
    "        # 끝인 경우\n",
    "        elif j == len(data[i]) - 1 :\n",
    "            data[i][j] += data[i-1][-1]\n",
    "        else :\n",
    "            data[i][j] += max(data[i-1][j-1], data[i-1][j])\n",
    "print(max(data[-1]))\n",
    "\n"
   ]
  },
  {
   "cell_type": "code",
   "execution_count": null,
   "metadata": {},
   "outputs": [],
   "source": [
    "import sys\n",
    "cnt = int(sys.stdin.readline())\n",
    "data = []\n",
    "for _ in range(cnt) :\n",
    "    data.append(list(map(int, sys.stdin.readline().split())))\n",
    "# 이전 근접한 최대값이 더해지도록 구성\n",
    "# 시작과 끝 지점에 대한 디버깅\n",
    "for i in range(1, cnt) :\n",
    "    for j in range(len(data[i])) :\n",
    "        # 시작 또는 끝인경우 :\n",
    "        if j == 0 :\n",
    "            data[i][j] += data[i-1][j]\\\n",
    "        # 끝인 경우\n",
    "        elif j == len(data[i]) - 1 :\n",
    "            data[i][j] += data[i-1][-1]\n",
    "        else :\n",
    "            data[i][j] += max(data[i-1][j-1], data[i-1][j])\n",
    "print(max(data[-1]))"
   ]
  },
  {
   "cell_type": "code",
   "execution_count": 7,
   "metadata": {},
   "outputs": [
    {
     "data": {
      "text/plain": [
       "[[7], [10, 15], [18, 16, 15], [20, 25, 20, 19], [24, 30, 27, 26, 24]]"
      ]
     },
     "execution_count": 7,
     "metadata": {},
     "output_type": "execute_result"
    }
   ],
   "source": [
    "data"
   ]
  }
 ],
 "metadata": {
  "kernelspec": {
   "display_name": "Python 3",
   "language": "python",
   "name": "python3"
  },
  "language_info": {
   "codemirror_mode": {
    "name": "ipython",
    "version": 3
   },
   "file_extension": ".py",
   "mimetype": "text/x-python",
   "name": "python",
   "nbconvert_exporter": "python",
   "pygments_lexer": "ipython3",
   "version": "3.8.10"
  },
  "orig_nbformat": 4
 },
 "nbformat": 4,
 "nbformat_minor": 2
}
