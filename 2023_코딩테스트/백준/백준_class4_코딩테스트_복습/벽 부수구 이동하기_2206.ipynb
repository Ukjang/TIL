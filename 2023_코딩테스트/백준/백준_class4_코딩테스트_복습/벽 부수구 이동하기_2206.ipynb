{
 "cells": [
  {
   "cell_type": "code",
   "execution_count": 2,
   "metadata": {},
   "outputs": [
    {
     "data": {
      "text/plain": [
       "[[0, 1, 0, 0],\n",
       " [1, 1, 1, 0],\n",
       " [1, 0, 0, 0],\n",
       " [0, 0, 0, 0],\n",
       " [0, 1, 1, 1],\n",
       " [0, 0, 0, 0]]"
      ]
     },
     "execution_count": 2,
     "metadata": {},
     "output_type": "execute_result"
    }
   ],
   "source": [
    "f = open('벽 부수구 이동하기_2206.txt', 'r')\n",
    "N, M = map(int, f.readline().split())\n",
    "data = []\n",
    "for _ in range(N):\n",
    "    data.append(list(map(int, list(f.readline().strip()))))\n",
    "data"
   ]
  },
  {
   "cell_type": "code",
   "execution_count": 65,
   "metadata": {},
   "outputs": [
    {
     "name": "stdout",
     "output_type": "stream",
     "text": [
      "15\n"
     ]
    }
   ],
   "source": [
    "f = open('벽 부수구 이동하기_2206.txt', 'r')\n",
    "n, m = map(int, f.readline().split())\n",
    "data = []\n",
    "for _ in range(n) :\n",
    "    data.append(list(map(int, f.readline().strip())))\n",
    "visited = [[[0] * 2 for _ in range(m)] for _ in range(n)]\n",
    "visited[0][0][0] = 1\n",
    "\n",
    "# dx = [ 0, 0, 1, -1]\n",
    "# dy = [ 1, -1, 0, 0]\n",
    "\n",
    "\n",
    "\n",
    "def bfs(x, y, z) :\n",
    "    queue = deque()\n",
    "    queue.append((x, y, z)) \n",
    "    while queue :\n",
    "        a, b, c = queue.popleft()\n",
    "        # 끝점에 도달\n",
    "        if a == n - 1 and b == m -1 :\n",
    "            return visited[a][b][c]\n",
    "        for i in range(4) :\n",
    "            nx = a + idx_list[i]\n",
    "            ny = b + col_list[i]\n",
    "            if nx < 0 or nx >= n or ny < 0 or ny >= m :\n",
    "                continue\n",
    "            # 이동할 곳 이 벽이고 아직 벽 통과 x\n",
    "            if data[nx][ny] == 1 and c == 0 :\n",
    "                visited[nx][ny][1] = visited[a][b][0] + 1\n",
    "                queue.append((nx, ny, 1))\n",
    "            # 이동할 곳이 벽이 아니고 한번도 이동 안한곳\n",
    "            elif data[nx][ny] == 0 and visited[nx][ny][c] == 0 :\n",
    "                visited[nx][ny][c] = visited[a][b][c] + 1\n",
    "                queue.append((nx, ny, c))\n",
    "    return -1\n",
    "print(bfs(0,0,0))"
   ]
  },
  {
   "cell_type": "code",
   "execution_count": 73,
   "metadata": {},
   "outputs": [
    {
     "data": {
      "text/plain": [
       "((6, 4, 2), (6, 4, 2))"
      ]
     },
     "execution_count": 73,
     "metadata": {},
     "output_type": "execute_result"
    }
   ],
   "source": [
    "import numpy as np\n",
    "np.array(visited).shape, np.array(result).shape"
   ]
  },
  {
   "cell_type": "code",
   "execution_count": 74,
   "metadata": {},
   "outputs": [
    {
     "data": {
      "text/plain": [
       "[[[1, 3], [0, 2], [0, 3], [0, 4]],\n",
       " [[0, 2], [0, 0], [0, 0], [0, 5]],\n",
       " [[0, 0], [0, 8], [0, 7], [0, 6]],\n",
       " [[0, 10], [0, 9], [0, 8], [0, 7]],\n",
       " [[0, 11], [0, 0], [0, 0], [0, 0]],\n",
       " [[0, 12], [0, 13], [0, 14], [0, 15]]]"
      ]
     },
     "execution_count": 74,
     "metadata": {},
     "output_type": "execute_result"
    }
   ],
   "source": [
    "visited"
   ]
  },
  {
   "cell_type": "code",
   "execution_count": 64,
   "metadata": {},
   "outputs": [
    {
     "data": {
      "text/plain": [
       "[[[0, 0], [0, 0], [0, 0], [0, 0]],\n",
       " [[0, 0], [0, 0], [0, 0], [0, 0]],\n",
       " [[0, 0], [0, 0], [0, 0], [0, 0]],\n",
       " [[0, 0], [0, 0], [0, 0], [0, 0]],\n",
       " [[0, 0], [0, 0], [0, 0], [0, 0]],\n",
       " [[0, 0], [0, 0], [0, 0], [0, 0]]]"
      ]
     },
     "execution_count": 64,
     "metadata": {},
     "output_type": "execute_result"
    }
   ],
   "source": [
    "result = [[[0]*2] * M for _ in range(N)]\n",
    "result"
   ]
  },
  {
   "cell_type": "code",
   "execution_count": 15,
   "metadata": {},
   "outputs": [
    {
     "data": {
      "text/plain": [
       "[[[1, 0], [0, 0], [0, 0], [0, 0]],\n",
       " [[0, 0], [0, 0], [0, 0], [0, 0]],\n",
       " [[0, 0], [0, 0], [0, 0], [0, 0]],\n",
       " [[0, 0], [0, 0], [0, 0], [0, 0]],\n",
       " [[0, 0], [0, 0], [0, 0], [0, 0]],\n",
       " [[0, 0], [0, 0], [0, 0], [0, 0]]]"
      ]
     },
     "execution_count": 15,
     "metadata": {},
     "output_type": "execute_result"
    }
   ],
   "source": [
    "visited = [[[0] * 2 for _ in range(M)] for _ in range(N)]\n",
    "visited[0][0][0] = 1\n",
    "visited"
   ]
  },
  {
   "cell_type": "code",
   "execution_count": 20,
   "metadata": {},
   "outputs": [
    {
     "data": {
      "text/plain": [
       "[[[1, 0], [1, 0], [1, 0], [1, 0]],\n",
       " [[0, 0], [0, 0], [0, 0], [0, 0]],\n",
       " [[0, 0], [0, 0], [0, 0], [0, 0]],\n",
       " [[0, 0], [0, 0], [0, 0], [0, 0]],\n",
       " [[0, 0], [0, 0], [0, 0], [0, 0]],\n",
       " [[0, 0], [0, 0], [0, 0], [0, 0]]]"
      ]
     },
     "execution_count": 20,
     "metadata": {},
     "output_type": "execute_result"
    }
   ],
   "source": [
    "result = [[[0]*2] * M for _ in range(N)]\n",
    "result[0][0][0] = 1\n",
    "result"
   ]
  },
  {
   "cell_type": "code",
   "execution_count": 18,
   "metadata": {},
   "outputs": [
    {
     "data": {
      "text/plain": [
       "[1, 0]"
      ]
     },
     "execution_count": 18,
     "metadata": {},
     "output_type": "execute_result"
    }
   ],
   "source": [
    "result[0][1]"
   ]
  },
  {
   "cell_type": "code",
   "execution_count": 8,
   "metadata": {},
   "outputs": [
    {
     "data": {
      "text/plain": [
       "1"
      ]
     },
     "execution_count": 8,
     "metadata": {},
     "output_type": "execute_result"
    }
   ],
   "source": [
    "result[0][0][0]"
   ]
  },
  {
   "cell_type": "code",
   "execution_count": 22,
   "metadata": {},
   "outputs": [
    {
     "data": {
      "text/plain": [
       "15"
      ]
     },
     "execution_count": 22,
     "metadata": {},
     "output_type": "execute_result"
    }
   ],
   "source": [
    "from collections import deque \n",
    "result = [[[0]*2 for _ in range(M)] for _ in range(N)]\n",
    "result[0][0][0] = 1\n",
    "\n",
    "\n",
    "dx = [ 0, 0, 1, -1]\n",
    "dy = [ 1, -1, 0, 0]\n",
    "\n",
    "\n",
    "def bfs(x, y, z) :\n",
    "    queue = deque()\n",
    "    queue.append((x, y, z))\n",
    "    while queue :\n",
    "        a, b, c = queue.popleft()\n",
    "        # 끝점에 도달한 경우\n",
    "        if a == N -1 and b == M -1 :\n",
    "            return result[a][b][c]\n",
    "        for i in range(4) :\n",
    "            nx = a + dx[i]\n",
    "            ny = b + dy[i]\n",
    "\n",
    "            # 박스 안에 있는 경우\n",
    "            if nx < 0 or nx >= N or ny < 0 or ny >= M :\n",
    "                continue \n",
    "            # 이동할 곳이 벽이 아니고 처음 방문인경우\n",
    "            if data[nx][ny] == 0 and result[nx][ny][c] == 0 :\n",
    "                result[nx][ny][c] = result[a][b][c] + 1\n",
    "                queue.append((nx, ny, c))\n",
    "            # 이동할 곳이 벽이고 아직 벽을 통과 안한 경우\n",
    "            elif data[nx][ny] == 1 and c == 0 :\n",
    "                result[nx][ny][1] = result[a][b][0] + 1\n",
    "                queue.append((nx, ny, 1))\n",
    "            # print(queue)\n",
    "    return -1\n",
    "bfs(0,0,0)"
   ]
  },
  {
   "cell_type": "code",
   "execution_count": 25,
   "metadata": {},
   "outputs": [
    {
     "data": {
      "text/plain": [
       "[[0, 0], [0, 0], [0, 0], [0, 0]]"
      ]
     },
     "execution_count": 25,
     "metadata": {},
     "output_type": "execute_result"
    }
   ],
   "source": [
    "list1 = [[0] * 2] * M\n",
    "list1"
   ]
  },
  {
   "cell_type": "code",
   "execution_count": 26,
   "metadata": {},
   "outputs": [
    {
     "data": {
      "text/plain": [
       "[[0, 1], [0, 1], [0, 1], [0, 1]]"
      ]
     },
     "execution_count": 26,
     "metadata": {},
     "output_type": "execute_result"
    }
   ],
   "source": [
    "list1[0][1] = 1\n",
    "list1"
   ]
  }
 ],
 "metadata": {
  "kernelspec": {
   "display_name": "Python 3",
   "language": "python",
   "name": "python3"
  },
  "language_info": {
   "codemirror_mode": {
    "name": "ipython",
    "version": 3
   },
   "file_extension": ".py",
   "mimetype": "text/x-python",
   "name": "python",
   "nbconvert_exporter": "python",
   "pygments_lexer": "ipython3",
   "version": "3.8.10"
  },
  "orig_nbformat": 4
 },
 "nbformat": 4,
 "nbformat_minor": 2
}
