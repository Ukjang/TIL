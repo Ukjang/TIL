{
 "cells": [
  {
   "cell_type": "code",
   "execution_count": 1,
   "metadata": {},
   "outputs": [
    {
     "data": {
      "text/plain": [
       "[[6, 13], [4, 8], [3, 6], [5, 12]]"
      ]
     },
     "execution_count": 1,
     "metadata": {},
     "output_type": "execute_result"
    }
   ],
   "source": [
    "f = open('평범한 배낭_12865.txt')\n",
    "N, K = map(int, f.readline().split())\n",
    "\n",
    "data = []\n",
    "\n",
    "for _ in range(N):\n",
    "    data.append(list(map(int, f.readline().split())))\n",
    "data"
   ]
  },
  {
   "cell_type": "code",
   "execution_count": 13,
   "metadata": {},
   "outputs": [
    {
     "data": {
      "text/plain": [
       "14"
      ]
     },
     "execution_count": 13,
     "metadata": {},
     "output_type": "execute_result"
    }
   ],
   "source": [
    "res = [[0] * (K+1) for _ in range(N+1)]\n",
    "for i in range(1, N+1) :\n",
    "    wei, val = data[i-1]\n",
    "    for j in range(1, K+1) :\n",
    "        if j < wei:\n",
    "            res[i][j] = res[i-1][j]\n",
    "        else :\n",
    "            res[i][j] = max(res[i-1][j], res[i-1][j-wei] + val)\n",
    "res[N][K]"
   ]
  }
 ],
 "metadata": {
  "kernelspec": {
   "display_name": "Python 3",
   "language": "python",
   "name": "python3"
  },
  "language_info": {
   "codemirror_mode": {
    "name": "ipython",
    "version": 3
   },
   "file_extension": ".py",
   "mimetype": "text/x-python",
   "name": "python",
   "nbconvert_exporter": "python",
   "pygments_lexer": "ipython3",
   "version": "3.8.10"
  },
  "orig_nbformat": 4
 },
 "nbformat": 4,
 "nbformat_minor": 2
}
