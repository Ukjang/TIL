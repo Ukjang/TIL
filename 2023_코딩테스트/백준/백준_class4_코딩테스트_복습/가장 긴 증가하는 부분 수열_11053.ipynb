{
 "cells": [
  {
   "cell_type": "code",
   "execution_count": 21,
   "metadata": {},
   "outputs": [
    {
     "data": {
      "text/plain": [
       "[10, 20, 10, 30, 20, 50]"
      ]
     },
     "execution_count": 21,
     "metadata": {},
     "output_type": "execute_result"
    }
   ],
   "source": [
    "f = open('가장 긴 증가하는 부분 수열_11053.txt')\n",
    "cnt = int(f.readline())\n",
    "data = list(map(int, f.readline().split()))\n",
    "data"
   ]
  },
  {
   "cell_type": "code",
   "execution_count": 24,
   "metadata": {},
   "outputs": [
    {
     "name": "stdout",
     "output_type": "stream",
     "text": [
      "4\n"
     ]
    }
   ],
   "source": [
    "# 해당 값보다 작은 수들 중에서 최대 카운트 더해주기\n",
    "# 카운트 리스트 따로 작성\n",
    "cnt_list = [0] * cnt\n",
    "for i in range(cnt) :\n",
    "    for j in range(i) :\n",
    "        if data[j] < data[i] and cnt_list[j] > cnt_list[i]:\n",
    "            cnt_list[i] = cnt_list[j] \n",
    "    # 자기자신 길이 더해주기\n",
    "    cnt_list[i] += 1\n",
    "print(max(cnt_list))"
   ]
  },
  {
   "cell_type": "code",
   "execution_count": 25,
   "metadata": {},
   "outputs": [
    {
     "data": {
      "text/plain": [
       "[1, 2, 1, 3, 2, 4]"
      ]
     },
     "execution_count": 25,
     "metadata": {},
     "output_type": "execute_result"
    }
   ],
   "source": [
    "cnt_list"
   ]
  },
  {
   "cell_type": "code",
   "execution_count": null,
   "metadata": {},
   "outputs": [],
   "source": [
    "import sys\n",
    "cnt = int(sys.stdin.readline())\n",
    "data = list(map(int, sys.stdin.readline().split()))\n",
    "# 해당 값보다 작은 수들 중에서 최대 카운트 더해주기\n",
    "# 카운트 리스트 따로 작성\n",
    "cnt_list = [1] * cnt\n",
    "for i in range(1, cnt) :\n",
    "    for j in range(i) :\n",
    "        if data[j] < data[i] and cnt_list[j] > cnt_list[i]:\n",
    "            cnt_list[i] += cnt_list[j]\n",
    "    else :\n",
    "        pass\n",
    "print(max(cnt_list))"
   ]
  }
 ],
 "metadata": {
  "kernelspec": {
   "display_name": "Python 3",
   "language": "python",
   "name": "python3"
  },
  "language_info": {
   "codemirror_mode": {
    "name": "ipython",
    "version": 3
   },
   "file_extension": ".py",
   "mimetype": "text/x-python",
   "name": "python",
   "nbconvert_exporter": "python",
   "pygments_lexer": "ipython3",
   "version": "3.8.10"
  },
  "orig_nbformat": 4
 },
 "nbformat": 4,
 "nbformat_minor": 2
}
