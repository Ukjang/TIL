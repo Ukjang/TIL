{
 "cells": [
  {
   "cell_type": "code",
   "execution_count": 15,
   "metadata": {},
   "outputs": [
    {
     "data": {
      "text/plain": [
       "[[1, 100, 100], [100, 1, 100], [100, 100, 1]]"
      ]
     },
     "execution_count": 15,
     "metadata": {},
     "output_type": "execute_result"
    }
   ],
   "source": [
    "f = open('RGB거리_1149.txt')\n",
    "cnt = int(f.readline() )\n",
    "data = []\n",
    "for _ in range(cnt) :\n",
    "    data.append(list(map(int, f.readline().split())))\n",
    "data"
   ]
  },
  {
   "cell_type": "code",
   "execution_count": 16,
   "metadata": {},
   "outputs": [
    {
     "name": "stdout",
     "output_type": "stream",
     "text": [
      "3\n"
     ]
    }
   ],
   "source": [
    "# 이전집의 색칠비용의 최소값을 더해줌\n",
    "# 급접한 집끼리는 같은 색깔 불가\n",
    "for i in range(1, cnt) :\n",
    "    for j in range(3) :\n",
    "        if j == 0 :\n",
    "            data[i][j] += min(data[i-1][1], data[i-1][2])\n",
    "        elif j == 1 :\n",
    "            data[i][j] += min(data[i-1][0], data[i-1][2])\n",
    "        elif j == 2 :\n",
    "            data[i][j] += min(data[i-1][0], data[i-1][1])\n",
    "print(min(data[-1]))"
   ]
  },
  {
   "cell_type": "code",
   "execution_count": 17,
   "metadata": {},
   "outputs": [
    {
     "data": {
      "text/plain": [
       "[[1, 100, 100], [200, 2, 101], [102, 201, 3]]"
      ]
     },
     "execution_count": 17,
     "metadata": {},
     "output_type": "execute_result"
    }
   ],
   "source": [
    "data"
   ]
  },
  {
   "cell_type": "code",
   "execution_count": null,
   "metadata": {},
   "outputs": [],
   "source": [
    "import sys\n",
    "\n",
    "cnt = int(sys.stdin.readline() )\n",
    "data = []\n",
    "for _ in range(cnt) :\n",
    "    data.append(list(map(int, sys.stdin.readline().split())))\n",
    "for i in range(1, cnt) :\n",
    "    for j in range(3) :\n",
    "        if j == 0 :\n",
    "            data[i][j] += min(data[i-1][1], data[i-1][2])\n",
    "        elif j == 1 :\n",
    "            data[i][j] += min(data[i-1][0], data[i-1][2])\n",
    "        elif j == 2 :\n",
    "            data[i][j] += min(data[i-1][0], data[i-1][1])\n",
    "print(min(data[-1]))"
   ]
  }
 ],
 "metadata": {
  "kernelspec": {
   "display_name": "Python 3",
   "language": "python",
   "name": "python3"
  },
  "language_info": {
   "codemirror_mode": {
    "name": "ipython",
    "version": 3
   },
   "file_extension": ".py",
   "mimetype": "text/x-python",
   "name": "python",
   "nbconvert_exporter": "python",
   "pygments_lexer": "ipython3",
   "version": "3.8.10"
  },
  "orig_nbformat": 4
 },
 "nbformat": 4,
 "nbformat_minor": 2
}
