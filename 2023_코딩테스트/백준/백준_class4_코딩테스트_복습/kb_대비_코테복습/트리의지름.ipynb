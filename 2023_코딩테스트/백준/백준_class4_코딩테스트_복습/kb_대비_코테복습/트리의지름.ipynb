{
 "cells": [
  {
   "cell_type": "code",
   "execution_count": 16,
   "metadata": {},
   "outputs": [
    {
     "data": {
      "text/plain": [
       "[[], [(3, 2)], [(4, 4)], [(1, 2), (4, 3)], [(2, 4), (3, 3), (5, 6)], [(4, 6)]]"
      ]
     },
     "execution_count": 16,
     "metadata": {},
     "output_type": "execute_result"
    }
   ],
   "source": [
    "f = open('./트리의지름.txt')\n",
    "cnt = int(f.readline())\n",
    "data = [[] for _ in range(cnt + 1)]\n",
    "for _ in range(cnt) :\n",
    "    temp = list(map(int, f.readline().split()))\n",
    "    for idx, char in enumerate(temp) :\n",
    "        if char == -1 :\n",
    "            continue\n",
    "        if idx == 0 :\n",
    "            start_node = char \n",
    "        else :\n",
    "            if idx % 2 == 1 :\n",
    "                data[start_node].append((char, temp[idx+1]))\n",
    "data"
   ]
  }
 ],
 "metadata": {
  "kernelspec": {
   "display_name": "Python 3",
   "language": "python",
   "name": "python3"
  },
  "language_info": {
   "codemirror_mode": {
    "name": "ipython",
    "version": 3
   },
   "file_extension": ".py",
   "mimetype": "text/x-python",
   "name": "python",
   "nbconvert_exporter": "python",
   "pygments_lexer": "ipython3",
   "version": "3.8.10"
  },
  "orig_nbformat": 4
 },
 "nbformat": 4,
 "nbformat_minor": 2
}
