{
 "cells": [
  {
   "cell_type": "code",
   "execution_count": 1,
   "metadata": {},
   "outputs": [
    {
     "data": {
      "text/plain": [
       "[[26, 40, 83], [49, 60, 57], [13, 89, 99]]"
      ]
     },
     "execution_count": 1,
     "metadata": {},
     "output_type": "execute_result"
    }
   ],
   "source": [
    "f = open('./RGB거리.txt')\n",
    "cnt = int(f.readline())\n",
    "data = []\n",
    "for _ in range(cnt) :\n",
    "    data.append(list(map(int, f.readline().split())))\n",
    "data"
   ]
  },
  {
   "cell_type": "code",
   "execution_count": 2,
   "metadata": {},
   "outputs": [
    {
     "data": {
      "text/plain": [
       "96"
      ]
     },
     "execution_count": 2,
     "metadata": {},
     "output_type": "execute_result"
    }
   ],
   "source": [
    "for i in range(1, cnt) :\n",
    "    for j in range(3) :\n",
    "        if j == 0 :\n",
    "            data[i][j] += min(data[i-1][1], data[i-1][2])\n",
    "        elif j == 1 :\n",
    "            data[i][j] += min(data[i-1][0], data[i-1][2])\n",
    "        elif j == 2 :\n",
    "            data[i][j] += min(data[i-1][0], data[i-1][1])\n",
    "min(data[-1])"
   ]
  },
  {
   "attachments": {},
   "cell_type": "markdown",
   "metadata": {},
   "source": []
  }
 ],
 "metadata": {
  "kernelspec": {
   "display_name": "Python 3",
   "language": "python",
   "name": "python3"
  },
  "language_info": {
   "codemirror_mode": {
    "name": "ipython",
    "version": 3
   },
   "file_extension": ".py",
   "mimetype": "text/x-python",
   "name": "python",
   "nbconvert_exporter": "python",
   "pygments_lexer": "ipython3",
   "version": "3.8.10"
  },
  "orig_nbformat": 4
 },
 "nbformat": 4,
 "nbformat_minor": 2
}
