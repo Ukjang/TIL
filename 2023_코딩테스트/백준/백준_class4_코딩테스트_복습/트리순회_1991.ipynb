{
 "cells": [
  {
   "cell_type": "code",
   "execution_count": 14,
   "metadata": {},
   "outputs": [
    {
     "data": {
      "text/plain": [
       "{'A': ['B', 'C'],\n",
       " 'B': ['D', '.'],\n",
       " 'C': ['E', 'F'],\n",
       " 'E': ['.', '.'],\n",
       " 'F': ['.', 'G'],\n",
       " 'D': ['.', '.'],\n",
       " 'G': ['.', '.']}"
      ]
     },
     "execution_count": 14,
     "metadata": {},
     "output_type": "execute_result"
    }
   ],
   "source": [
    "f = open('트리순회_1991.txt', 'r')\n",
    "cnt = int(f.readline())\n",
    "dict1 = {}\n",
    "for _ in range(cnt) :\n",
    "    a1, a2, a3 = f.readline().split()\n",
    "    dict1[a1] = [a2, a3]\n",
    "dict1"
   ]
  },
  {
   "cell_type": "code",
   "execution_count": 28,
   "metadata": {},
   "outputs": [
    {
     "name": "stdout",
     "output_type": "stream",
     "text": [
      "ABDCEFG"
     ]
    }
   ],
   "source": [
    "def frd(input) :\n",
    "    if input != '.' :\n",
    "        print(input, end='')\n",
    "        frd(dict1[input][0])\n",
    "        frd(dict1[input][1])\n",
    "frd('A')"
   ]
  },
  {
   "cell_type": "code",
   "execution_count": 29,
   "metadata": {},
   "outputs": [],
   "source": [
    "def mid(input) :\n",
    "    if input != '.' :\n",
    "        mid(dict1[input][0])\n",
    "        print(input, end = '')\n",
    "        mid(dict1[input][1])\n",
    "\n",
    "def aft(input) :\n",
    "    if input != '.' :\n",
    "        aft(dict1[input][0])\n",
    "        aft(dict1[input][1])\n",
    "        print(input, end = '')"
   ]
  },
  {
   "cell_type": "code",
   "execution_count": 31,
   "metadata": {},
   "outputs": [
    {
     "name": "stdout",
     "output_type": "stream",
     "text": [
      "DBAECFG"
     ]
    }
   ],
   "source": [
    "mid('A')"
   ]
  },
  {
   "cell_type": "code",
   "execution_count": 30,
   "metadata": {},
   "outputs": [
    {
     "name": "stdout",
     "output_type": "stream",
     "text": [
      "DBEGFCA"
     ]
    }
   ],
   "source": [
    "aft('A')"
   ]
  }
 ],
 "metadata": {
  "kernelspec": {
   "display_name": "Python 3",
   "language": "python",
   "name": "python3"
  },
  "language_info": {
   "codemirror_mode": {
    "name": "ipython",
    "version": 3
   },
   "file_extension": ".py",
   "mimetype": "text/x-python",
   "name": "python",
   "nbconvert_exporter": "python",
   "pygments_lexer": "ipython3",
   "version": "3.8.10"
  },
  "orig_nbformat": 4
 },
 "nbformat": 4,
 "nbformat_minor": 2
}
