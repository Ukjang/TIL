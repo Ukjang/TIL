{
 "cells": [
  {
   "cell_type": "code",
   "execution_count": null,
   "metadata": {},
   "outputs": [],
   "source": [
    "# 종료조건 및 검증 함수를 따로 작성\n",
    "# 1. 종료조건. for else 활용하여 True / False return\n",
    "# 각 줄마다 퀸은 하나밖에 없다는 점 활용 리스트 작성\n",
    "# 경우의수 더해주는 global ans 지정\n",
    "\n",
    "N = 8\n",
    "rows = [0] * N\n",
    "visited = [0] * N"
   ]
  }
 ],
 "metadata": {
  "kernelspec": {
   "display_name": "Python 3",
   "language": "python",
   "name": "python3"
  },
  "language_info": {
   "name": "python",
   "version": "3.8.10"
  },
  "orig_nbformat": 4
 },
 "nbformat": 4,
 "nbformat_minor": 2
}
