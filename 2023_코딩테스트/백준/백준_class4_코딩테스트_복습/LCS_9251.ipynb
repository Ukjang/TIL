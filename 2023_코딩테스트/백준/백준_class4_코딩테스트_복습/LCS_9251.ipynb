{
 "cells": [
  {
   "cell_type": "code",
   "execution_count": 3,
   "metadata": {},
   "outputs": [],
   "source": [
    "inp1 = 'ACAYKP'\n",
    "inp2 = 'CAPCAK'\n",
    "len1, len2 = len(inp1), len(inp2)"
   ]
  },
  {
   "cell_type": "code",
   "execution_count": 6,
   "metadata": {},
   "outputs": [
    {
     "data": {
      "text/plain": [
       "4"
      ]
     },
     "execution_count": 6,
     "metadata": {},
     "output_type": "execute_result"
    }
   ],
   "source": [
    "result = [[0]*(len2 + 1) for _ in range(len1 + 1)]\n",
    "\n",
    "for i in range(1, len1 + 1) : \n",
    "    for j in range(1, len2 + 1) :\n",
    "        # 비교값 이전에 + 1\n",
    "        if inp1[i-1] == inp2[j -1] :\n",
    "            result[i][j] = result[i-1][j-1] + 1\n",
    "        else :\n",
    "            # 각각 비교값 이전 중 max\n",
    "            result[i][j] = max(result[i][j-1], result[i-1][j])\n",
    "result[len1][len2]"
   ]
  },
  {
   "cell_type": "code",
   "execution_count": 7,
   "metadata": {},
   "outputs": [
    {
     "data": {
      "text/plain": [
       "[[0, 0, 0, 0, 0, 0, 0],\n",
       " [0, 0, 1, 1, 1, 1, 1],\n",
       " [0, 1, 1, 1, 2, 2, 2],\n",
       " [0, 1, 2, 2, 2, 3, 3],\n",
       " [0, 1, 2, 2, 2, 3, 3],\n",
       " [0, 1, 2, 2, 2, 3, 4],\n",
       " [0, 1, 2, 3, 3, 3, 4]]"
      ]
     },
     "execution_count": 7,
     "metadata": {},
     "output_type": "execute_result"
    }
   ],
   "source": [
    "result"
   ]
  }
 ],
 "metadata": {
  "kernelspec": {
   "display_name": "Python 3",
   "language": "python",
   "name": "python3"
  },
  "language_info": {
   "codemirror_mode": {
    "name": "ipython",
    "version": 3
   },
   "file_extension": ".py",
   "mimetype": "text/x-python",
   "name": "python",
   "nbconvert_exporter": "python",
   "pygments_lexer": "ipython3",
   "version": "3.8.10"
  },
  "orig_nbformat": 4
 },
 "nbformat": 4,
 "nbformat_minor": 2
}
