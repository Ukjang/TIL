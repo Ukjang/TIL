{
 "cells": [
  {
   "cell_type": "code",
   "execution_count": 10,
   "metadata": {},
   "outputs": [
    {
     "data": {
      "text/plain": [
       "[[], [[2, 2], [3, 3]], [[3, 4], [4, 5]], [[4, 6]], [], [[1, 1]]]"
      ]
     },
     "execution_count": 10,
     "metadata": {},
     "output_type": "execute_result"
    }
   ],
   "source": [
    "f  = open('최단경로_1753.txt')\n",
    "V, E = map(int, f.readline().split())\n",
    "start = int(f.readline())\n",
    "data = [[] for _ in range(V+1)]\n",
    "for _ in range(E) :\n",
    "    st, end, dis = map(int, f.readline().split())\n",
    "    data[st].append([end, dis])\n",
    "data"
   ]
  },
  {
   "cell_type": "code",
   "execution_count": 14,
   "metadata": {},
   "outputs": [
    {
     "name": "stdout",
     "output_type": "stream",
     "text": [
      "0\n",
      "2\n",
      "3\n",
      "7\n",
      "INF\n"
     ]
    }
   ],
   "source": [
    "import sys\n",
    "# 힙큐 사용해서 거리별로 정렬을 해줘야 시간복잡도 통과\n",
    "import heapq\n",
    "f  = open('최단경로_1753.txt')\n",
    "V, E = map(int, f.readline().split())\n",
    "start = int(f.readline())\n",
    "data = [[] for _ in range(V+1)]\n",
    "for _ in range(E) :\n",
    "    st, end, dis = map(int, f.readline().split())\n",
    "    data[st].append([dis, end])\n",
    "# queue 만들어서 시작지점에서 각 지점에 도달하는 최소값 구하기\n",
    "# 방향성 존재하며 못도달하면 INF\n",
    "\n",
    "inf = sys.maxsize\n",
    "dis_list = [inf] * (V + 1) \n",
    "dis_list[start] = 0\n",
    "queue = []\n",
    "heapq.heappush(queue, [0, start])\n",
    "\n",
    "while queue :\n",
    "    dis, temp = heapq.heappop(queue)\n",
    "    # 받은 위치가 최소거리보다 길 경우 종료. 기존에 추가된 값중 거리가 긴 값들 pass\n",
    "    if dis_list[temp] < dis :\n",
    "        continue\n",
    "    for next_dis, next_v in data[temp] :\n",
    "        if dis_list[next_v] > next_dis + dis :\n",
    "            dis_list[next_v] = next_dis + dis\n",
    "            heapq.heappush(queue, [next_dis + dis, next_v])\n",
    "for i in range(1, V+1) :\n",
    "    if dis_list[i] == inf :\n",
    "        print('INF')\n",
    "    else :\n",
    "        print(dis_list[i])\n"
   ]
  },
  {
   "cell_type": "code",
   "execution_count": null,
   "metadata": {},
   "outputs": [],
   "source": [
    "import sys\n",
    "import heapq\n",
    "V, E = map(int, sys.stdin.readline().split())\n",
    "start = int(sys.stdin.readline())\n",
    "data = [[] for _ in range(V+1)]\n",
    "for _ in range(E) :\n",
    "    st, end, dis = map(int, sys.stdin.readline().split())\n",
    "    data[st].append([dis, end])\n",
    "# queue 만들어서 시작지점에서 각 지점에 도달하는 최소값 구하기\n",
    "# 방향성 존재하며 못도달하면 INF\n",
    "\n",
    "inf = sys.maxsize\n",
    "dis_list = [inf] * (V + 1) \n",
    "dis_list[start] = 0\n",
    "queue = []\n",
    "heapq.heappush(queue, [start, 0])\n",
    "\n",
    "while queue :\n",
    "    dis, end = heapq.heappop(queue)\n",
    "    # 받은 위치가 최소거리보다 길 경우 종료\n",
    "    if dis_list[temp] < dis :\n",
    "        continue\n",
    "    for next_v, next_dis in data[temp] :\n",
    "        if dis_list[next_v] > next_dis + dis :\n",
    "            dis_list[next_v] = next_dis + dis\n",
    "            heapq.heappush(queue, [next_dis + dis, next_v])\n",
    "for i in range(1, V+1) :\n",
    "    if dis_list[i] == inf :\n",
    "        print('INF')\n",
    "    else :\n",
    "        print(dis_list[i])\n"
   ]
  }
 ],
 "metadata": {
  "kernelspec": {
   "display_name": "Python 3",
   "language": "python",
   "name": "python3"
  },
  "language_info": {
   "codemirror_mode": {
    "name": "ipython",
    "version": 3
   },
   "file_extension": ".py",
   "mimetype": "text/x-python",
   "name": "python",
   "nbconvert_exporter": "python",
   "pygments_lexer": "ipython3",
   "version": "3.8.10"
  },
  "orig_nbformat": 4
 },
 "nbformat": 4,
 "nbformat_minor": 2
}
