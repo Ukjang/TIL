{
 "cells": [
  {
   "cell_type": "code",
   "execution_count": 15,
   "metadata": {},
   "outputs": [],
   "source": [
    "f = open('트리의부모찾기_11725.txt', 'r')\n",
    "cnt = int(f.readline())\n",
    "data = [[] for _ in range(cnt+1)]\n",
    "for _ in range(cnt-1) :\n",
    "    node1, node2 = map(int, f.readline().split())\n",
    "    data[node1].append(node2)\n",
    "    data[node2].append(node1)\n",
    "result = [0] * (cnt+1)\n",
    "\n"
   ]
  },
  {
   "cell_type": "code",
   "execution_count": 16,
   "metadata": {},
   "outputs": [
    {
     "name": "stdout",
     "output_type": "stream",
     "text": [
      "1\n",
      "1\n",
      "2\n",
      "3\n",
      "3\n",
      "4\n",
      "4\n",
      "5\n",
      "5\n",
      "6\n",
      "6\n"
     ]
    }
   ],
   "source": [
    "from collections import deque \n",
    "queue = deque()\n",
    "queue.append(1)\n",
    "\n",
    "while queue : \n",
    "    temp = queue.popleft()\n",
    "    for node in data[temp] :\n",
    "        if result[node] == 0 :\n",
    "            result[node] = temp\n",
    "            queue.append(node)\n",
    "for i in range(2, cnt+1):\n",
    "    print(result[i])\n",
    "\n"
   ]
  },
  {
   "cell_type": "code",
   "execution_count": null,
   "metadata": {},
   "outputs": [],
   "source": [
    "import sys\n",
    "cnt = int(sys.stdin.readline())\n",
    "data = [[] for _ in range(cnt+1)]\n",
    "for _ in range(cnt-1) :\n",
    "    node1, node2 = map(int, sys.stdin.readline().split())\n",
    "    data[node1].append(node2)\n",
    "    data[node2].append(node1)\n",
    "result = [0] * (cnt+1)\n",
    "\n",
    "from collections import deque \n",
    "queue = deque()\n",
    "queue.append(1)\n",
    "\n",
    "while queue : \n",
    "    temp = queue.popleft()\n",
    "    for node in data[temp] :\n",
    "        if result[node] == 0 :\n",
    "            result[node] = temp\n",
    "            queue.append(node)\n",
    "for i in range(2, cnt+1):\n",
    "    print(result[i])\n",
    "\n"
   ]
  }
 ],
 "metadata": {
  "kernelspec": {
   "display_name": "Python 3",
   "language": "python",
   "name": "python3"
  },
  "language_info": {
   "codemirror_mode": {
    "name": "ipython",
    "version": 3
   },
   "file_extension": ".py",
   "mimetype": "text/x-python",
   "name": "python",
   "nbconvert_exporter": "python",
   "pygments_lexer": "ipython3",
   "version": "3.8.10"
  },
  "orig_nbformat": 4
 },
 "nbformat": 4,
 "nbformat_minor": 2
}
