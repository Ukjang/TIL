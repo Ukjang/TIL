{
 "cells": [
  {
   "cell_type": "code",
   "execution_count": 5,
   "metadata": {},
   "outputs": [],
   "source": [
    "# 8 * 8 크기보다 큰 경우 for문\n",
    "# 시작이 블랙인지 화이트인지에 따라 다르게 시행\n",
    "# 결과값중 가장 작은수\n",
    "input1 = [\n",
    "'BBBBBBBBWBWBW',\n",
    "'BBBBBBBBBWBWB',\n",
    "'BBBBBBBBWBWBW',\n",
    "'BBBBBBBBBWBWB',\n",
    "'BBBBBBBBWBWBW',\n",
    "'BBBBBBBBBWBWB',\n",
    "'BBBBBBBBWBWBW',\n",
    "'BBBBBBBBBWBWB',\n",
    "'WWWWWWWWWWBWB',\n",
    "'WWWWWWWWWWBWB'\n",
    "]"
   ]
  },
  {
   "cell_type": "code",
   "execution_count": 6,
   "metadata": {},
   "outputs": [
    {
     "data": {
      "text/plain": [
       "[['B', 'B', 'B', 'B', 'B', 'B', 'B', 'B', 'W', 'B', 'W', 'B', 'W'],\n",
       " ['B', 'B', 'B', 'B', 'B', 'B', 'B', 'B', 'B', 'W', 'B', 'W', 'B'],\n",
       " ['B', 'B', 'B', 'B', 'B', 'B', 'B', 'B', 'W', 'B', 'W', 'B', 'W'],\n",
       " ['B', 'B', 'B', 'B', 'B', 'B', 'B', 'B', 'B', 'W', 'B', 'W', 'B'],\n",
       " ['B', 'B', 'B', 'B', 'B', 'B', 'B', 'B', 'W', 'B', 'W', 'B', 'W'],\n",
       " ['B', 'B', 'B', 'B', 'B', 'B', 'B', 'B', 'B', 'W', 'B', 'W', 'B'],\n",
       " ['B', 'B', 'B', 'B', 'B', 'B', 'B', 'B', 'W', 'B', 'W', 'B', 'W'],\n",
       " ['B', 'B', 'B', 'B', 'B', 'B', 'B', 'B', 'B', 'W', 'B', 'W', 'B'],\n",
       " ['W', 'W', 'W', 'W', 'W', 'W', 'W', 'W', 'W', 'W', 'B', 'W', 'B'],\n",
       " ['W', 'W', 'W', 'W', 'W', 'W', 'W', 'W', 'W', 'W', 'B', 'W', 'B']]"
      ]
     },
     "execution_count": 6,
     "metadata": {},
     "output_type": "execute_result"
    }
   ],
   "source": [
    "input1 = [list(i) for i in input1]\n",
    "input1"
   ]
  },
  {
   "cell_type": "code",
   "execution_count": 13,
   "metadata": {},
   "outputs": [
    {
     "data": {
      "text/plain": [
       "[['B', 'W', 'W', 'B', 'W', 'W', 'B', 'W', 'W', 'B', 'W', 'W'],\n",
       " ['B', 'W', 'W', 'B', 'W', 'B', 'B', 'W', 'W', 'B', 'W', 'W'],\n",
       " ['W', 'B', 'W', 'W', 'B', 'W', 'B', 'B', 'W', 'W', 'B', 'W'],\n",
       " ['B', 'W', 'W', 'B', 'W', 'B', 'B', 'W', 'W', 'B', 'W', 'W'],\n",
       " ['W', 'B', 'W', 'W', 'B', 'W', 'B', 'B', 'W', 'W', 'B', 'W'],\n",
       " ['B', 'W', 'W', 'B', 'W', 'B', 'B', 'W', 'W', 'B', 'W', 'W'],\n",
       " ['W', 'B', 'W', 'W', 'B', 'W', 'B', 'B', 'W', 'W', 'B', 'W'],\n",
       " ['B', 'W', 'W', 'B', 'W', 'B', 'W', 'W', 'W', 'B', 'W', 'W'],\n",
       " ['W', 'B', 'W', 'W', 'B', 'W', 'B', 'B', 'W', 'W', 'B', 'W'],\n",
       " ['B', 'W', 'W', 'B', 'W', 'B', 'B', 'W', 'W', 'B', 'W', 'W'],\n",
       " ['W', 'B', 'W', 'W', 'B', 'W', 'B', 'B', 'W', 'W', 'B', 'W']]"
      ]
     },
     "execution_count": 13,
     "metadata": {},
     "output_type": "execute_result"
    }
   ],
   "source": [
    "input1 = [\n",
    "'BWWBWWBWWBWW',\n",
    "'BWWBWBBWWBWW',\n",
    "'WBWWBWBBWWBW',\n",
    "'BWWBWBBWWBWW',\n",
    "'WBWWBWBBWWBW',\n",
    "'BWWBWBBWWBWW',\n",
    "'WBWWBWBBWWBW',\n",
    "'BWWBWBWWWBWW',\n",
    "'WBWWBWBBWWBW',\n",
    "'BWWBWBBWWBWW',\n",
    "'WBWWBWBBWWBW'\n",
    "]\n",
    "input1 = [list(i) for i in input1]\n",
    "input1"
   ]
  },
  {
   "cell_type": "code",
   "execution_count": 16,
   "metadata": {},
   "outputs": [
    {
     "data": {
      "text/plain": [
       "[['B', 'B', 'B', 'B', 'B', 'B', 'B', 'B', 'B', 'B'],\n",
       " ['B', 'B', 'W', 'B', 'W', 'B', 'W', 'B', 'W', 'B'],\n",
       " ['B', 'W', 'B', 'W', 'B', 'W', 'B', 'W', 'B', 'B'],\n",
       " ['B', 'B', 'W', 'B', 'W', 'B', 'W', 'B', 'W', 'B'],\n",
       " ['B', 'W', 'B', 'W', 'B', 'W', 'B', 'W', 'B', 'B'],\n",
       " ['B', 'B', 'W', 'B', 'W', 'B', 'W', 'B', 'W', 'B'],\n",
       " ['B', 'W', 'B', 'W', 'B', 'W', 'B', 'W', 'B', 'B'],\n",
       " ['B', 'B', 'W', 'B', 'W', 'B', 'W', 'B', 'W', 'B'],\n",
       " ['B', 'W', 'B', 'W', 'B', 'W', 'B', 'W', 'B', 'B'],\n",
       " ['B', 'B', 'B', 'B', 'B', 'B', 'B', 'B', 'B', 'B']]"
      ]
     },
     "execution_count": 16,
     "metadata": {},
     "output_type": "execute_result"
    }
   ],
   "source": [
    "input1 = [\n",
    "'BBBBBBBBBB',\n",
    "'BBWBWBWBWB',\n",
    "'BWBWBWBWBB',\n",
    "'BBWBWBWBWB',\n",
    "'BWBWBWBWBB',\n",
    "'BBWBWBWBWB',\n",
    "'BWBWBWBWBB',\n",
    "'BBWBWBWBWB',\n",
    "'BWBWBWBWBB',\n",
    "'BBBBBBBBBB'\n",
    "]\n",
    "input1 = [list(i) for i in input1]\n",
    "input1"
   ]
  },
  {
   "cell_type": "code",
   "execution_count": 17,
   "metadata": {},
   "outputs": [
    {
     "data": {
      "text/plain": [
       "0"
      ]
     },
     "execution_count": 17,
     "metadata": {},
     "output_type": "execute_result"
    }
   ],
   "source": [
    "length = 10\n",
    "width = 10\n",
    "start = [0,1]\n",
    "color_list = ['B', 'W']\n",
    "result = []\n",
    "# 시작 색깔 정하고\n",
    "for st in start :\n",
    "    # 폭 변수\n",
    "    for w in range(width-7) :\n",
    "        # 길이 변수\n",
    "        for l in range(length-7) :\n",
    "            temp = 0\n",
    "            for w8 in range(8) :\n",
    "                for l8 in range(8):\n",
    "                    temp_color = color_list[(st+w8+l8) % 2]\n",
    "                    if temp_color != input1[l+l8][w+w8] :\n",
    "                        temp += 1\n",
    "            else :\n",
    "                result.append(temp)\n",
    "min(result)\n"
   ]
  },
  {
   "cell_type": "code",
   "execution_count": null,
   "metadata": {},
   "outputs": [],
   "source": [
    "import sys\n",
    "\n",
    "length, width = map(int, sys.stdin.readline().split())\n",
    "data = []\n",
    "for _ in range(length) :\n",
    "    data.append(list(str(sys.stdin.readline())))\n",
    "start = [0,1]\n",
    "color_list = ['B', 'W']\n",
    "result = []\n",
    "# 시작 색깔 정하고\n",
    "for st in start :\n",
    "    # 폭 변수\n",
    "    for w in range(width-7) :\n",
    "        # 길이 변수\n",
    "        for l in range(length-7) :\n",
    "            temp = 0\n",
    "            for w8 in range(8) :\n",
    "                for l8 in range(8):\n",
    "                    temp_color = color_list[(st+w8+l8) % 2]\n",
    "                    if temp_color != data[l+l8][w+w8] :\n",
    "                        temp += 1\n",
    "            else :\n",
    "                result.append(temp)\n",
    "print(min(result))\n"
   ]
  }
 ],
 "metadata": {
  "kernelspec": {
   "display_name": "pytorch",
   "language": "python",
   "name": "python3"
  },
  "language_info": {
   "codemirror_mode": {
    "name": "ipython",
    "version": 3
   },
   "file_extension": ".py",
   "mimetype": "text/x-python",
   "name": "python",
   "nbconvert_exporter": "python",
   "pygments_lexer": "ipython3",
   "version": "3.10.5"
  },
  "orig_nbformat": 4,
  "vscode": {
   "interpreter": {
    "hash": "334544a737ead5017040ac753f52220319955d2381f512ab105ce194db781c37"
   }
  }
 },
 "nbformat": 4,
 "nbformat_minor": 2
}
