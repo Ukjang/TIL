{
 "cells": [
  {
   "cell_type": "code",
   "execution_count": 26,
   "metadata": {},
   "outputs": [],
   "source": [
    "height, width, number = map(int, '6 12 6'.split())"
   ]
  },
  {
   "cell_type": "code",
   "execution_count": 28,
   "metadata": {},
   "outputs": [
    {
     "name": "stdout",
     "output_type": "stream",
     "text": [
      "601\n"
     ]
    }
   ],
   "source": [
    "# 각 배수에 해당하는 값 따로 처리\n",
    "# '나머지+1''몫'\n",
    "room_number = str(number // height + 1)\n",
    "floor_number = number % height\n",
    "if floor_number == 0 :\n",
    "    floor_number = height\n",
    "    room_number = str(number // height)\n",
    "floor_number = str(floor_number)\n",
    "if len(room_number) == 1 :\n",
    "    print(floor_number + '0' + room_number)\n",
    "else :\n",
    "    print(floor_number + room_number)"
   ]
  },
  {
   "cell_type": "code",
   "execution_count": null,
   "metadata": {},
   "outputs": [],
   "source": [
    "import sys\n",
    "\n",
    "cnt = int(sys.stdin.readline())\n",
    "\n",
    "for _ in range(cnt):\n",
    "    height, width, number = map(int, sys.stdin.readline().split())\n",
    "    room_number = str(number // height + 1)\n",
    "    floor_number = number % height\n",
    "    if floor_number == 0 :\n",
    "        floor_number = height\n",
    "        room_number = str(number // height)\n",
    "    floor_number = str(floor_number)\n",
    "    if len(room_number) == 1 :\n",
    "        print(floor_number + '0' + room_number)\n",
    "    else :\n",
    "        print(floor_number + room_number)"
   ]
  }
 ],
 "metadata": {
  "kernelspec": {
   "display_name": "pytorch",
   "language": "python",
   "name": "python3"
  },
  "language_info": {
   "codemirror_mode": {
    "name": "ipython",
    "version": 3
   },
   "file_extension": ".py",
   "mimetype": "text/x-python",
   "name": "python",
   "nbconvert_exporter": "python",
   "pygments_lexer": "ipython3",
   "version": "3.10.5"
  },
  "orig_nbformat": 4,
  "vscode": {
   "interpreter": {
    "hash": "334544a737ead5017040ac753f52220319955d2381f512ab105ce194db781c37"
   }
  }
 },
 "nbformat": 4,
 "nbformat_minor": 2
}
