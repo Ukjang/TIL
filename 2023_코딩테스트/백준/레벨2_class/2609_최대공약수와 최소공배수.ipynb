{
 "cells": [
  {
   "cell_type": "code",
   "execution_count": 6,
   "metadata": {},
   "outputs": [],
   "source": [
    "# 최대 공약수 먼저 구하고\n",
    "# 두수의 곱 / 최대공약수\n",
    "a,b = map(int, '24 18'.split())"
   ]
  },
  {
   "cell_type": "code",
   "execution_count": 7,
   "metadata": {},
   "outputs": [
    {
     "name": "stdout",
     "output_type": "stream",
     "text": [
      "6\n",
      "72\n"
     ]
    }
   ],
   "source": [
    "for i in range(1, min(a,b)) :\n",
    "    if a % i == 0 and b % i == 0 :\n",
    "        temp = i\n",
    "print(temp)\n",
    "print(int(a*b/temp))"
   ]
  },
  {
   "cell_type": "code",
   "execution_count": 8,
   "metadata": {},
   "outputs": [],
   "source": [
    "import sys\n",
    "\n",
    "a,b = map(int, sys.stdin.readline().split())\n",
    "temp = 1\n",
    "for i in range(1, min(a,b)+1) :\n",
    "    if a % i == 0 and b % i == 0 :\n",
    "        temp = i\n",
    "print(temp)\n",
    "print(int(a*b/temp))"
   ]
  }
 ],
 "metadata": {
  "kernelspec": {
   "display_name": "pytorch",
   "language": "python",
   "name": "python3"
  },
  "language_info": {
   "codemirror_mode": {
    "name": "ipython",
    "version": 3
   },
   "file_extension": ".py",
   "mimetype": "text/x-python",
   "name": "python",
   "nbconvert_exporter": "python",
   "pygments_lexer": "ipython3",
   "version": "3.10.5"
  },
  "orig_nbformat": 4,
  "vscode": {
   "interpreter": {
    "hash": "334544a737ead5017040ac753f52220319955d2381f512ab105ce194db781c37"
   }
  }
 },
 "nbformat": 4,
 "nbformat_minor": 2
}
