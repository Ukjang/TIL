{
 "cells": [
  {
   "cell_type": "code",
   "execution_count": 2,
   "metadata": {},
   "outputs": [],
   "source": [
    "f = open('./10866_덱.txt','r')"
   ]
  },
  {
   "cell_type": "code",
   "execution_count": 5,
   "metadata": {},
   "outputs": [
    {
     "name": "stdout",
     "output_type": "stream",
     "text": [
      "2\n",
      "1\n",
      "2\n",
      "0\n",
      "2\n",
      "1\n",
      "-1\n",
      "0\n",
      "1\n",
      "-1\n",
      "0\n",
      "3\n"
     ]
    }
   ],
   "source": [
    "\n",
    "from collections import deque\n",
    "\n",
    "data = deque()\n",
    "\n",
    "cnt = int(f.readline())\n",
    "\n",
    "for _ in range(cnt) :\n",
    "    temp = f.readline().split()\n",
    "    if temp[0] == 'push_front' :\n",
    "        data.appendleft(int(temp[1]))\n",
    "    elif temp[0] == 'push_back' :\n",
    "        data.append(int(temp[1]))\n",
    "    elif temp[0] == 'pop_front' :\n",
    "        if data :\n",
    "            print(data.popleft())\n",
    "        else :\n",
    "            print(-1)\n",
    "    elif temp[0] == 'pop_back' :\n",
    "        if data :\n",
    "            print(data.pop())\n",
    "        else :\n",
    "            print(-1) \n",
    "    elif temp[0] == 'size' :\n",
    "        print(len(data))\n",
    "    elif temp[0] == 'empty' :\n",
    "        if data :\n",
    "            print(0)\n",
    "        else :\n",
    "            print(1)\n",
    "    elif temp[0] == 'front' :\n",
    "        if data :\n",
    "            print(data[0])\n",
    "        else :\n",
    "            print(-1)\n",
    "    elif temp[0] == 'back' :\n",
    "        if data :\n",
    "            print(data[-1])\n",
    "        else :\n",
    "            print(-1)\n",
    "        "
   ]
  },
  {
   "cell_type": "code",
   "execution_count": null,
   "metadata": {},
   "outputs": [],
   "source": [
    "import sys\n",
    "from collections import deque\n",
    "\n",
    "data = deque()\n",
    "\n",
    "cnt = int(sys.stdin.readline())\n",
    "\n",
    "for _ in range(cnt) :\n",
    "    temp = sys.stdin.readline().split()\n",
    "    if temp[0] == 'push_front' :\n",
    "        data.appendleft(int(temp[1]))\n",
    "    elif temp[0] == 'push_back' :\n",
    "        data.append(int(temp[1]))\n",
    "    elif temp[0] == 'pop_front' :\n",
    "        if data :\n",
    "            print(data.popleft())\n",
    "        else :\n",
    "            print(-1)\n",
    "    elif temp[0] == 'pop_back' :\n",
    "        if data :\n",
    "            print(data.pop())\n",
    "        else :\n",
    "            print(-1) \n",
    "    elif temp[0] == 'size' :\n",
    "        print(len(data))\n",
    "    elif temp[0] == 'empty' :\n",
    "        if data :\n",
    "            print(0)\n",
    "        else :\n",
    "            print(1)\n",
    "    elif temp[0] == 'front' :\n",
    "        if data :\n",
    "            print(data[0])\n",
    "        else :\n",
    "            print(-1)\n",
    "    elif temp[0] == 'back' :\n",
    "        if data :\n",
    "            print(data[-1])\n",
    "        else :\n",
    "            print(-1)\n",
    "        "
   ]
  }
 ],
 "metadata": {
  "kernelspec": {
   "display_name": "pytorch",
   "language": "python",
   "name": "python3"
  },
  "language_info": {
   "codemirror_mode": {
    "name": "ipython",
    "version": 3
   },
   "file_extension": ".py",
   "mimetype": "text/x-python",
   "name": "python",
   "nbconvert_exporter": "python",
   "pygments_lexer": "ipython3",
   "version": "3.10.5"
  },
  "orig_nbformat": 4,
  "vscode": {
   "interpreter": {
    "hash": "334544a737ead5017040ac753f52220319955d2381f512ab105ce194db781c37"
   }
  }
 },
 "nbformat": 4,
 "nbformat_minor": 2
}
