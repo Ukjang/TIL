{
 "cells": [
  {
   "cell_type": "code",
   "execution_count": 7,
   "metadata": {},
   "outputs": [],
   "source": [
    "# 먼저 5키로 기준 최대 개수 구함\n",
    "# 5키로 1개씩 빼면서 3으로 나누어 떨어지는지 여부 파악\n",
    "# 제일 먼저 3으로 나누어 떨어지면 break\n",
    "# 상근이가 배달하는 봉지의 최소 개수를 출력한다. 만약, 정확하게 N킬로그램을 만들 수 없다면 -1을 출력한다.\n",
    "\n",
    "number = 11"
   ]
  },
  {
   "cell_type": "code",
   "execution_count": 8,
   "metadata": {},
   "outputs": [
    {
     "data": {
      "text/plain": [
       "3"
      ]
     },
     "execution_count": 8,
     "metadata": {},
     "output_type": "execute_result"
    }
   ],
   "source": [
    "div_5 = number // 5\n",
    "while True :\n",
    "    rest = number - (div_5 * 5)\n",
    "    if rest % 3 == 0:\n",
    "        answer = div_5 + (rest // 3)\n",
    "        break\n",
    "    else :\n",
    "        div_5 -= 1\n",
    "    # 종료 시점 선택\n",
    "    if div_5 == -1 :\n",
    "        answer = -1\n",
    "        break\n",
    "answer"
   ]
  },
  {
   "cell_type": "code",
   "execution_count": null,
   "metadata": {},
   "outputs": [],
   "source": [
    "import sys\n",
    "number = int(sys.stdin.readline())\n",
    "div_5 = number // 5\n",
    "while True :\n",
    "    rest = number - (div_5 * 5)\n",
    "    if rest % 3 == 0:\n",
    "        answer = div_5 + (rest // 3)\n",
    "        break\n",
    "    else :\n",
    "        div_5 -= 1\n",
    "    # 종료 시점 선택\n",
    "    if div_5 == -1 :\n",
    "        answer = -1\n",
    "        break\n",
    "print(answer)"
   ]
  }
 ],
 "metadata": {
  "kernelspec": {
   "display_name": "pytorch",
   "language": "python",
   "name": "python3"
  },
  "language_info": {
   "codemirror_mode": {
    "name": "ipython",
    "version": 3
   },
   "file_extension": ".py",
   "mimetype": "text/x-python",
   "name": "python",
   "nbconvert_exporter": "python",
   "pygments_lexer": "ipython3",
   "version": "3.10.5"
  },
  "orig_nbformat": 4,
  "vscode": {
   "interpreter": {
    "hash": "334544a737ead5017040ac753f52220319955d2381f512ab105ce194db781c37"
   }
  }
 },
 "nbformat": 4,
 "nbformat_minor": 2
}
