{
 "cells": [
  {
   "cell_type": "code",
   "execution_count": 3,
   "metadata": {},
   "outputs": [],
   "source": [
    "'''\n",
    "push X: 정수 X를 큐에 넣는 연산이다.\n",
    "pop: 큐에서 가장 앞에 있는 정수를 빼고, 그 수를 출력한다. 만약 큐에 들어있는 정수가 없는 경우에는 -1을 출력한다.\n",
    "size: 큐에 들어있는 정수의 개수를 출력한다.\n",
    "empty: 큐가 비어있으면 1, 아니면 0을 출력한다.\n",
    "front: 큐의 가장 앞에 있는 정수를 출력한다. 만약 큐에 들어있는 정수가 없는 경우에는 -1을 출력한다.\n",
    "back: 큐의 가장 뒤에 있는 정수를 출력한다. 만약 큐에 들어있는 정수가 없는 경우에는 -1을 출력한다.\n",
    "'''\n",
    "input1 = [\n",
    "'push 1',\n",
    "'push 2',\n",
    "'front',\n",
    "'back',\n",
    "'size',\n",
    "'empty',\n",
    "'pop',\n",
    "'pop',\n",
    "'pop',\n",
    "'size',\n",
    "'empty',\n",
    "'pop',\n",
    "'push 3',\n",
    "'empty',\n",
    "'front'\n",
    "]"
   ]
  },
  {
   "cell_type": "code",
   "execution_count": 12,
   "metadata": {},
   "outputs": [
    {
     "name": "stdout",
     "output_type": "stream",
     "text": [
      "1\n",
      "2\n",
      "2\n",
      "0\n",
      "1\n",
      "2\n",
      "-1\n",
      "0\n",
      "1\n",
      "-1\n",
      "0\n",
      "3\n"
     ]
    }
   ],
   "source": [
    "from collections import deque\n",
    "data = deque()\n",
    "for cmd in input1 :\n",
    "    temp_list = cmd.split()\n",
    "    if temp_list[0] == 'push' :\n",
    "        data.append(temp_list[1])\n",
    "    elif temp_list[0] == 'pop' :\n",
    "        if data :\n",
    "            print(data.popleft())\n",
    "        else :\n",
    "            print(-1)\n",
    "    elif temp_list[0] == 'size' :\n",
    "        print(len(data))\n",
    "    elif temp_list[0] == 'empty' :\n",
    "        if data :\n",
    "            print(0)\n",
    "        else :\n",
    "            print(1)\n",
    "    elif temp_list[0] == 'front' :\n",
    "        if data :\n",
    "            print(data[0])\n",
    "        else :\n",
    "            print(-1)\n",
    "    elif temp_list[0] == 'back' :\n",
    "        if data :\n",
    "            print(data[-1])\n",
    "        else :\n",
    "            print(-1)"
   ]
  },
  {
   "cell_type": "code",
   "execution_count": null,
   "metadata": {},
   "outputs": [],
   "source": [
    "from collections import deque\n",
    "import sys\n",
    "cnt = int(sys.stdin.readline())\n",
    "data = deque()\n",
    "for _ in range(cnt) :\n",
    "    temp_list = sys.stdin.readline().split()\n",
    "    if temp_list[0] == 'push' :\n",
    "        data.append(temp_list[1])\n",
    "    elif temp_list[0] == 'pop' :\n",
    "        if data :\n",
    "            print(data.popleft())\n",
    "        else :\n",
    "            print(-1)\n",
    "    elif temp_list[0] == 'size' :\n",
    "        print(len(data))\n",
    "    elif temp_list[0] == 'empty' :\n",
    "        if data :\n",
    "            print(0)\n",
    "        else :\n",
    "            print(1)\n",
    "    elif temp_list[0] == 'front' :\n",
    "        if data :\n",
    "            print(data[0])\n",
    "        else :\n",
    "            print(-1)\n",
    "    elif temp_list[0] == 'back' :\n",
    "        if data :\n",
    "            print(data[-1])\n",
    "        else :\n",
    "            print(-1)"
   ]
  }
 ],
 "metadata": {
  "kernelspec": {
   "display_name": "pytorch",
   "language": "python",
   "name": "python3"
  },
  "language_info": {
   "codemirror_mode": {
    "name": "ipython",
    "version": 3
   },
   "file_extension": ".py",
   "mimetype": "text/x-python",
   "name": "python",
   "nbconvert_exporter": "python",
   "pygments_lexer": "ipython3",
   "version": "3.10.5"
  },
  "orig_nbformat": 4,
  "vscode": {
   "interpreter": {
    "hash": "334544a737ead5017040ac753f52220319955d2381f512ab105ce194db781c37"
   }
  }
 },
 "nbformat": 4,
 "nbformat_minor": 2
}
