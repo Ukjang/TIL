{
 "cells": [
  {
   "cell_type": "code",
   "execution_count": null,
   "metadata": {},
   "outputs": [],
   "source": [
    "input1 = []\n",
    "(3 4)\n",
    "(1 1)\n",
    "(1 -1)\n",
    "2 2\n",
    "3 3]"
   ]
  },
  {
   "cell_type": "code",
   "execution_count": null,
   "metadata": {},
   "outputs": [],
   "source": [
    "\n",
    "import sys\n",
    "\n",
    "cnt = int(sys.stdin.readline())\n",
    "\n",
    "data = []\n",
    "for _ in range(cnt):\n",
    "    data.append(list(map(int, sys.stdin.readline().split())))\n",
    "data.sort(key=lambda x : (x[0],x[1]))\n",
    "for dt in data :\n",
    "    print(str(dt[0])+' '+str((dt[1])))"
   ]
  }
 ],
 "metadata": {
  "language_info": {
   "name": "python"
  },
  "orig_nbformat": 4
 },
 "nbformat": 4,
 "nbformat_minor": 2
}
