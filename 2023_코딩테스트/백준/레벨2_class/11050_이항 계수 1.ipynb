{
 "cells": [
  {
   "cell_type": "code",
   "execution_count": 3,
   "metadata": {},
   "outputs": [
    {
     "name": "stdout",
     "output_type": "stream",
     "text": [
      "10.0\n"
     ]
    }
   ],
   "source": [
    "# import sys\n",
    "\n",
    "# N, K = map(int, sys.stdin.readline().split())\n",
    "N =5\n",
    "K = 2\n",
    "temp = 1\n",
    "for i in range(N, N-K, -1) :\n",
    "    temp *= i\n",
    "for j in range(1, K+1) :\n",
    "    temp /= j\n",
    "print(temp)"
   ]
  },
  {
   "cell_type": "code",
   "execution_count": null,
   "metadata": {},
   "outputs": [],
   "source": [
    "import sys\n",
    "\n",
    "N, K = map(int, sys.stdin.readline().split())\n",
    "\n",
    "temp = 1\n",
    "for i in range(N, N-K, -1) :\n",
    "    temp *= i\n",
    "for j in range(1, K+1) :\n",
    "    temp /= j\n",
    "print(int(temp))"
   ]
  }
 ],
 "metadata": {
  "kernelspec": {
   "display_name": "pytorch",
   "language": "python",
   "name": "python3"
  },
  "language_info": {
   "codemirror_mode": {
    "name": "ipython",
    "version": 3
   },
   "file_extension": ".py",
   "mimetype": "text/x-python",
   "name": "python",
   "nbconvert_exporter": "python",
   "pygments_lexer": "ipython3",
   "version": "3.10.5"
  },
  "orig_nbformat": 4,
  "vscode": {
   "interpreter": {
    "hash": "334544a737ead5017040ac753f52220319955d2381f512ab105ce194db781c37"
   }
  }
 },
 "nbformat": 4,
 "nbformat_minor": 2
}
