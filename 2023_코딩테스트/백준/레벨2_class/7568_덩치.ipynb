{
 "cells": [
  {
   "cell_type": "code",
   "execution_count": 2,
   "metadata": {},
   "outputs": [],
   "source": [
    "input1 = [(55,185),\n",
    "(58, 183),\n",
    "(88, 186),\n",
    "(60, 175),\n",
    "(46, 155)]"
   ]
  },
  {
   "cell_type": "code",
   "execution_count": 6,
   "metadata": {},
   "outputs": [
    {
     "name": "stdout",
     "output_type": "stream",
     "text": [
      "2\n",
      "2\n",
      "1\n",
      "2\n",
      "5\n"
     ]
    }
   ],
   "source": [
    "for per1_w, per1_h in input1 :\n",
    "    temp = 0\n",
    "    for per2_w, per2_h in input1 :\n",
    "        if per2_w > per1_w and per2_h > per1_h :\n",
    "            temp += 1\n",
    "    print(temp+1)"
   ]
  },
  {
   "cell_type": "code",
   "execution_count": null,
   "metadata": {},
   "outputs": [],
   "source": [
    "import sys\n",
    "\n",
    "cnt = int(sys.stdin.readline())\n",
    "\n",
    "data_list = []\n",
    "for _ in range(cnt) :\n",
    "    data_list.append(list(map(int, sys.stdin.readline().split())))\n",
    "    \n",
    "for per1_w, per1_h in data_list :\n",
    "    temp = 0\n",
    "    for per2_w, per2_h in data_list :\n",
    "        if per2_w > per1_w and per2_h > per1_h :\n",
    "            temp += 1\n",
    "    print(temp+1)\n",
    "    "
   ]
  },
  {
   "cell_type": "code",
   "execution_count": null,
   "metadata": {},
   "outputs": [],
   "source": []
  }
 ],
 "metadata": {
  "kernelspec": {
   "display_name": "pytorch",
   "language": "python",
   "name": "python3"
  },
  "language_info": {
   "codemirror_mode": {
    "name": "ipython",
    "version": 3
   },
   "file_extension": ".py",
   "mimetype": "text/x-python",
   "name": "python",
   "nbconvert_exporter": "python",
   "pygments_lexer": "ipython3",
   "version": "3.10.5"
  },
  "orig_nbformat": 4,
  "vscode": {
   "interpreter": {
    "hash": "334544a737ead5017040ac753f52220319955d2381f512ab105ce194db781c37"
   }
  }
 },
 "nbformat": 4,
 "nbformat_minor": 2
}
