{
 "cells": [
  {
   "cell_type": "code",
   "execution_count": null,
   "metadata": {},
   "outputs": [],
   "source": [
    "4 1 6 21\n",
    "3 1 5 15\n",
    "2 1 4 10\n",
    "1 1 3 6\n",
    "0 1 2 3"
   ]
  },
  {
   "cell_type": "code",
   "execution_count": 20,
   "metadata": {},
   "outputs": [
    {
     "data": {
      "text/plain": [
       "10"
      ]
     },
     "execution_count": 20,
     "metadata": {},
     "output_type": "execute_result"
    }
   ],
   "source": [
    "k = 2\n",
    "n = 3\n",
    "# 이전값의 합을 구하는 반복 for 문\n",
    "result = [[0]*n for _ in range(k + 1)]\n",
    "for i in range(k+1) :\n",
    "    # 최초 값 \n",
    "    if i == 0:\n",
    "        result[0] = [j for j in range(1,n+1)]\n",
    "    else :\n",
    "        for nm in range(n) :\n",
    "            result[i][nm] = sum(result[i-1][:nm+1])\n",
    "result[k][n-1]"
   ]
  },
  {
   "cell_type": "code",
   "execution_count": 18,
   "metadata": {},
   "outputs": [
    {
     "data": {
      "text/plain": [
       "[[1, 2, 3], [1, 3, 6]]"
      ]
     },
     "execution_count": 18,
     "metadata": {},
     "output_type": "execute_result"
    }
   ],
   "source": [
    "result"
   ]
  },
  {
   "cell_type": "code",
   "execution_count": 13,
   "metadata": {},
   "outputs": [
    {
     "data": {
      "text/plain": [
       "3"
      ]
     },
     "execution_count": 13,
     "metadata": {},
     "output_type": "execute_result"
    }
   ],
   "source": [
    "n"
   ]
  },
  {
   "cell_type": "code",
   "execution_count": 10,
   "metadata": {},
   "outputs": [
    {
     "data": {
      "text/plain": [
       "[[1, 2, 3], [0, 0, 0]]"
      ]
     },
     "execution_count": 10,
     "metadata": {},
     "output_type": "execute_result"
    }
   ],
   "source": [
    "result"
   ]
  },
  {
   "cell_type": "code",
   "execution_count": null,
   "metadata": {},
   "outputs": [],
   "source": [
    "import sys\n",
    "\n",
    "cnt_nm = int(sys.stdin.readline())\n",
    "\n",
    "data_list = []\n",
    "temp_list = []\n",
    "for cnt in range(cnt_nm*2) :\n",
    "    temp = int(sys.stdin.readline())\n",
    "    temp_list.append(temp)\n",
    "    if cnt % 2 == 0 :\n",
    "        pass\n",
    "    else :\n",
    "        data_list.append(temp_list)\n",
    "        temp_list = []\n",
    "        \n",
    "for k, n in data_list :\n",
    "    # 이전값의 합을 구하는 반복 for 문\n",
    "    result = [[0]*n for _ in range(k + 1)]\n",
    "    for i in range(k+1) :\n",
    "        # 최초 값 \n",
    "        if i == 0:\n",
    "            result[0] = [j for j in range(1,n+1)]\n",
    "        else :\n",
    "            for nm in range(n) :\n",
    "                result[i][nm] = sum(result[i-1][:nm+1])\n",
    "    print(result[k][n-1])"
   ]
  }
 ],
 "metadata": {
  "kernelspec": {
   "display_name": "pytorch",
   "language": "python",
   "name": "python3"
  },
  "language_info": {
   "codemirror_mode": {
    "name": "ipython",
    "version": 3
   },
   "file_extension": ".py",
   "mimetype": "text/x-python",
   "name": "python",
   "nbconvert_exporter": "python",
   "pygments_lexer": "ipython3",
   "version": "3.10.5"
  },
  "orig_nbformat": 4,
  "vscode": {
   "interpreter": {
    "hash": "334544a737ead5017040ac753f52220319955d2381f512ab105ce194db781c37"
   }
  }
 },
 "nbformat": 4,
 "nbformat_minor": 2
}
