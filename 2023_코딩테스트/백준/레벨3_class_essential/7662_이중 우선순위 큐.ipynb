{
 "cells": [
  {
   "cell_type": "code",
   "execution_count": 20,
   "metadata": {},
   "outputs": [
    {
     "name": "stdout",
     "output_type": "stream",
     "text": [
      "[(-16, 0)] [(16, 0)]\n",
      "[(-16, 0), (5643, 1)] [(-5643, 1), (16, 0)]\n",
      "[(-123, 5)] [(16, 0), (123, 5)]\n",
      "EMPTY\n",
      "[(45, 0)] [(-45, 0)]\n",
      "[(-653, 1), (45, 0)] [(-45, 0), (653, 1)]\n",
      "[(45, 0), (642, 3)] [(-642, 3), (653, 1), (-45, 0)]\n",
      "[(-45, 4), (642, 3), (45, 0)] [(-642, 3), (45, 4), (-45, 0), (653, 1)]\n",
      "[(-97, 5), (-45, 4), (45, 0), (642, 3)] [(-642, 3), (45, 4), (-45, 0), (653, 1), (97, 5)]\n",
      "[(-333, 8), (-45, 4), (45, 0), (642, 3)] [(-45, 0), (45, 4), (97, 5), (653, 1), (333, 8)]\n",
      "333 -45\n"
     ]
    }
   ],
   "source": [
    "import heapq\n",
    "f = open('./7662_이중 우선순위 큐.txt', 'r')\n",
    "\n",
    "test_cnt = int(f.readline())\n",
    "# heappop이 최소값 기준으로 삭제되므로 최대값과 최소값 기호 바꿔줌!\n",
    "for _ in range(test_cnt) :\n",
    "    temp_cnt = int(f.readline())\n",
    "    max_queue, min_queue = [], []\n",
    "    removed_list = [0]*temp_cnt\n",
    "    for i in range(temp_cnt) :\n",
    "        temp = f.readline().split()\n",
    "        if temp[0] == 'I' :\n",
    "            temp_int = int(temp[1])\n",
    "            heapq.heappush(max_queue, (-temp_int, i))\n",
    "            heapq.heappush(min_queue, (temp_int, i))\n",
    "            print(max_queue, min_queue)\n",
    "            removed_list[i] = 1\n",
    "        if temp[0] == 'D':\n",
    "            if temp[1] == '-1' :\n",
    "                while min_queue and not removed_list[min_queue[0][1]] :\n",
    "                    heapq.heappop(min_queue)\n",
    "                if min_queue :\n",
    "                    removed_list[min_queue[0][1]] = 0\n",
    "                    heapq.heappop(min_queue)\n",
    "            else :\n",
    "                while max_queue and not removed_list[max_queue[0][1]] :\n",
    "                    heapq.heappop(max_queue)\n",
    "                if max_queue :\n",
    "                    removed_list[max_queue[0][1]] = 0\n",
    "                    heapq.heappop(max_queue)\n",
    "\n",
    "    else :\n",
    "        while min_queue and not removed_list[min_queue[0][1]] :\n",
    "                    heapq.heappop(min_queue)\n",
    "        while max_queue and not removed_list[max_queue[0][1]] :\n",
    "                    heapq.heappop(max_queue)\n",
    "        if min_queue :\n",
    "            print(-max_queue[0][0], min_queue[0][0])\n",
    "        else :\n",
    "            print('EMPTY')"
   ]
  },
  {
   "cell_type": "code",
   "execution_count": 23,
   "metadata": {},
   "outputs": [
    {
     "data": {
      "text/plain": [
       "[(-45, 4), (642, 3), (45, 0)]"
      ]
     },
     "execution_count": 23,
     "metadata": {},
     "output_type": "execute_result"
    }
   ],
   "source": [
    "max_queue"
   ]
  },
  {
   "cell_type": "code",
   "execution_count": null,
   "metadata": {},
   "outputs": [],
   "source": [
    "min_queue"
   ]
  },
  {
   "cell_type": "code",
   "execution_count": 24,
   "metadata": {},
   "outputs": [
    {
     "data": {
      "text/plain": [
       "[(45, 0), (642, 3)]"
      ]
     },
     "execution_count": 24,
     "metadata": {},
     "output_type": "execute_result"
    }
   ],
   "source": [
    "heapq.heappop(max_queue)\n",
    "max_queue"
   ]
  },
  {
   "cell_type": "code",
   "execution_count": null,
   "metadata": {},
   "outputs": [],
   "source": [
    "import heapq\n",
    "import sys\n",
    "\n",
    "test_cnt = int(sys.stdin.readline())\n",
    "# heappop이 최소값 기준으로 삭제되므로 최대값과 최소값 기호 바꿔줌!\n",
    "for _ in range(test_cnt) :\n",
    "    temp_cnt = int(sys.stdin.readline())\n",
    "    max_queue, min_queue = [], []\n",
    "    removed_list = [0]*temp_cnt\n",
    "    for i in range(temp_cnt) :\n",
    "        temp = sys.stdin.readline().split()\n",
    "        if temp[0] == 'I' :\n",
    "            temp_int = int(temp[1])\n",
    "            heapq.heappush(max_queue, (-temp_int, i))\n",
    "            heapq.heappush(min_queue, (temp_int, i))\n",
    "            removed_list[i] = 1\n",
    "        if temp[0] == 'D':\n",
    "            if temp[1] == '-1' :\n",
    "                while min_queue and not removed_list[min_queue[0][1]] :\n",
    "                    heapq.heappop(min_queue)\n",
    "                if min_queue :\n",
    "                    removed_list[min_queue[0][1]] = 0\n",
    "                    heapq.heappop(min_queue)\n",
    "            else :\n",
    "                while max_queue and not removed_list[max_queue[0][1]] :\n",
    "                    heapq.heappop(max_queue)\n",
    "                if max_queue :\n",
    "                    removed_list[max_queue[0][1]] = 0\n",
    "                    heapq.heappop(max_queue)\n",
    "\n",
    "    else :\n",
    "        while min_queue and not removed_list[min_queue[0][1]] :\n",
    "                    heapq.heappop(min_queue)\n",
    "        while max_queue and not removed_list[max_queue[0][1]] :\n",
    "                    heapq.heappop(max_queue)\n",
    "        if min_queue :\n",
    "            print(-max_queue[0][0], min_queue[0][0])\n",
    "        else :\n",
    "            print('EMPTY')"
   ]
  },
  {
   "cell_type": "code",
   "execution_count": 12,
   "metadata": {},
   "outputs": [
    {
     "data": {
      "text/plain": [
       "['-642', '45', '333']"
      ]
     },
     "execution_count": 12,
     "metadata": {},
     "output_type": "execute_result"
    }
   ],
   "source": [
    "data"
   ]
  },
  {
   "cell_type": "code",
   "execution_count": 7,
   "metadata": {},
   "outputs": [
    {
     "data": {
      "text/plain": [
       "1"
      ]
     },
     "execution_count": 7,
     "metadata": {},
     "output_type": "execute_result"
    }
   ],
   "source": [
    "list1 = [5,4,3,2,1]\n",
    "list1.pop()"
   ]
  }
 ],
 "metadata": {
  "kernelspec": {
   "display_name": "pytorch",
   "language": "python",
   "name": "python3"
  },
  "language_info": {
   "codemirror_mode": {
    "name": "ipython",
    "version": 3
   },
   "file_extension": ".py",
   "mimetype": "text/x-python",
   "name": "python",
   "nbconvert_exporter": "python",
   "pygments_lexer": "ipython3",
   "version": "3.10.5"
  },
  "orig_nbformat": 4,
  "vscode": {
   "interpreter": {
    "hash": "334544a737ead5017040ac753f52220319955d2381f512ab105ce194db781c37"
   }
  }
 },
 "nbformat": 4,
 "nbformat_minor": 2
}
