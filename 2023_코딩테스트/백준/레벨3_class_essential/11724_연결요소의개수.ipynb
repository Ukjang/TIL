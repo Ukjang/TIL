{
 "cells": [
  {
   "cell_type": "code",
   "execution_count": 8,
   "metadata": {},
   "outputs": [
    {
     "name": "stdout",
     "output_type": "stream",
     "text": [
      "1\n"
     ]
    }
   ],
   "source": [
    "f = open('./11724_연결요소의개수.txt', 'r')\n",
    "from collections import deque\n",
    "N, M = map(int,f.readline().split())\n",
    "node_list = [[]*(N+1) for _ in range(N+1)]\n",
    "used_list = [0]*(N+1)\n",
    "for _ in range(M) :\n",
    "    a, b = map(int, f.readline().split())\n",
    "    node_list[a].append(b)\n",
    "    node_list[b].append(a)\n",
    "answer = 0\n",
    "for i in range(1,N+1) :\n",
    "    # 아직 방문하지 않은 노드에 대해서\n",
    "    if used_list[i] == 0 :\n",
    "        queue = deque()\n",
    "        queue.append(i)\n",
    "        used_list[i] = 1\n",
    "        while queue :\n",
    "            temp_node = queue.popleft()\n",
    "            for temp_val in node_list[temp_node] :\n",
    "                if not used_list[temp_val] :\n",
    "                    queue.append(temp_val)\n",
    "                    used_list[temp_val] = 1\n",
    "        answer += 1\n",
    "print(answer)\n",
    "\n"
   ]
  },
  {
   "cell_type": "code",
   "execution_count": null,
   "metadata": {},
   "outputs": [],
   "source": [
    "import sys\n",
    "from collections import deque\n",
    "N, M = map(int,sys.stdin.readline().split())\n",
    "node_list = [[]*(N+1) for _ in range(N+1)]\n",
    "used_list = [0]*(N+1)\n",
    "for _ in range(M) :\n",
    "    a, b = map(int, sys.stdin.readline().split())\n",
    "    node_list[a].append(b)\n",
    "    node_list[b].append(a)\n",
    "answer = 0\n",
    "for i in range(1,N+1) :\n",
    "    # 아직 방문하지 않은 노드에 대해서\n",
    "    if used_list[i] == 0 :\n",
    "        queue = deque()\n",
    "        queue.append(i)\n",
    "        used_list[i] = 1\n",
    "        while queue :\n",
    "            temp_node = queue.popleft()\n",
    "            for temp_val in node_list[temp_node] :\n",
    "                if not used_list[temp_val] :\n",
    "                    queue.append(temp_val)\n",
    "                    used_list[temp_val] = 1\n",
    "        answer += 1\n",
    "print(answer)\n",
    "\n"
   ]
  }
 ],
 "metadata": {
  "kernelspec": {
   "display_name": "Python 3",
   "language": "python",
   "name": "python3"
  },
  "language_info": {
   "codemirror_mode": {
    "name": "ipython",
    "version": 3
   },
   "file_extension": ".py",
   "mimetype": "text/x-python",
   "name": "python",
   "nbconvert_exporter": "python",
   "pygments_lexer": "ipython3",
   "version": "3.8.10"
  },
  "orig_nbformat": 4,
  "vscode": {
   "interpreter": {
    "hash": "e3ada8b426290dd76767ba6368ea690ca67a7a436b12c3cf567e5cb72f89ca03"
   }
  }
 },
 "nbformat": 4,
 "nbformat_minor": 2
}
