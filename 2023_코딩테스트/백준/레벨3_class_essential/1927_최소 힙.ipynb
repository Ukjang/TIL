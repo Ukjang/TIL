{
 "cells": [
  {
   "cell_type": "code",
   "execution_count": 3,
   "metadata": {},
   "outputs": [
    {
     "name": "stdout",
     "output_type": "stream",
     "text": [
      "0\n",
      "1\n",
      "2\n",
      "12345678\n",
      "0\n"
     ]
    }
   ],
   "source": [
    "f = open('./1927_최소 힙.txt', 'r')\n",
    "import heapq\n",
    "data = []\n",
    "cnt = int(f.readline())\n",
    "for _ in range(cnt) :\n",
    "    temp = int(f.readline())\n",
    "    if temp == 0 :\n",
    "        if data :\n",
    "            print(heapq.heappop(data))\n",
    "        else :\n",
    "            print(0)\n",
    "    else :\n",
    "        heapq.heappush(data, temp)"
   ]
  },
  {
   "cell_type": "code",
   "execution_count": null,
   "metadata": {},
   "outputs": [],
   "source": [
    "import sys\n",
    "\n",
    "import heapq\n",
    "data = []\n",
    "cnt = int(sys.stdin.readline())\n",
    "for _ in range(cnt) :\n",
    "    temp = int(sys.stdin.readline())\n",
    "    if temp == 0 :\n",
    "        if data :\n",
    "            print(heapq.heappop(data))\n",
    "        else :\n",
    "            print(0)\n",
    "    else :\n",
    "        heapq.heappush(data, temp)"
   ]
  }
 ],
 "metadata": {
  "kernelspec": {
   "display_name": "pytorch",
   "language": "python",
   "name": "python3"
  },
  "language_info": {
   "codemirror_mode": {
    "name": "ipython",
    "version": 3
   },
   "file_extension": ".py",
   "mimetype": "text/x-python",
   "name": "python",
   "nbconvert_exporter": "python",
   "pygments_lexer": "ipython3",
   "version": "3.10.5"
  },
  "orig_nbformat": 4,
  "vscode": {
   "interpreter": {
    "hash": "334544a737ead5017040ac753f52220319955d2381f512ab105ce194db781c37"
   }
  }
 },
 "nbformat": 4,
 "nbformat_minor": 2
}
