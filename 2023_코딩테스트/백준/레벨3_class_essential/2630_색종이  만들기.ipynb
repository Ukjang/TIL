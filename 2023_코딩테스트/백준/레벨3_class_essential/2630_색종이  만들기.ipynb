{
 "cells": [
  {
   "cell_type": "code",
   "execution_count": 1,
   "metadata": {},
   "outputs": [
    {
     "data": {
      "text/plain": [
       "[[1, 1, 0, 0, 0, 0, 1, 1],\n",
       " [1, 1, 0, 0, 0, 0, 1, 1],\n",
       " [0, 0, 0, 0, 1, 1, 0, 0],\n",
       " [0, 0, 0, 0, 1, 1, 0, 0],\n",
       " [1, 0, 0, 0, 1, 1, 1, 1],\n",
       " [0, 1, 0, 0, 1, 1, 1, 1],\n",
       " [0, 0, 1, 1, 1, 1, 1, 1],\n",
       " [0, 0, 1, 1, 1, 1, 1, 1]]"
      ]
     },
     "execution_count": 1,
     "metadata": {},
     "output_type": "execute_result"
    }
   ],
   "source": [
    "f = open('./2630_색종이 만들기.txt', 'r')\n",
    "cnt = int(f.readline())\n",
    "data  = []\n",
    "for _ in range(cnt) :\n",
    "    temp = list(map(int, f.readline().split()))\n",
    "    data.append(temp)\n",
    "data"
   ]
  },
  {
   "cell_type": "code",
   "execution_count": 19,
   "metadata": {},
   "outputs": [
    {
     "name": "stdout",
     "output_type": "stream",
     "text": [
      "9\n",
      "7\n"
     ]
    }
   ],
   "source": [
    "global cnt_zero, cnt_one\n",
    "cnt_zero = 0\n",
    "cnt_one = 0\n",
    "def check_number(start_len, start_wid, length) :\n",
    "    global cnt_zero, cnt_one\n",
    "    cont_tf = True\n",
    "    temp = data[start_len][start_wid]\n",
    "    for i in range(start_len, start_len + length) :\n",
    "        for j in range(start_wid, start_wid + length) :\n",
    "            if data[i][j] != temp :\n",
    "                temp_len = length // 2\n",
    "                check_number(start_len, start_wid, temp_len)\n",
    "                check_number(start_len + temp_len, start_wid, temp_len)\n",
    "                check_number(start_len, start_wid + temp_len, temp_len)\n",
    "                check_number(start_len + temp_len, start_wid + temp_len, temp_len)\n",
    "                cont_tf = False\n",
    "                break\n",
    "        if cont_tf == False :\n",
    "            break\n",
    "    else :\n",
    "        # print(start_len, start_wid, temp, length)\n",
    "        if temp == 0 :\n",
    "            cnt_zero += 1\n",
    "        else :\n",
    "            cnt_one += 1\n",
    "check_number(0,0,cnt)\n",
    "print(cnt_zero)\n",
    "print(cnt_one)"
   ]
  },
  {
   "cell_type": "code",
   "execution_count": null,
   "metadata": {},
   "outputs": [],
   "source": [
    "import sys\n",
    "cnt = int(sys.stdin.readline())\n",
    "data  = []\n",
    "for _ in range(cnt) :\n",
    "    temp = list(map(int, sys.stdin.readline().split()))\n",
    "    data.append(temp)\n",
    "global cnt_zero, cnt_one\n",
    "cnt_zero = 0\n",
    "cnt_one = 0\n",
    "def check_number(start_len, start_wid, length) :\n",
    "    global cnt_zero, cnt_one\n",
    "    cont_tf = True\n",
    "    temp = data[start_len][start_wid]\n",
    "    for i in range(start_len, start_len + length) :\n",
    "        for j in range(start_wid, start_wid + length) :\n",
    "            if data[i][j] != temp :\n",
    "                temp_len = length // 2\n",
    "                check_number(start_len, start_wid, temp_len)\n",
    "                check_number(start_len + temp_len, start_wid, temp_len)\n",
    "                check_number(start_len, start_wid + temp_len, temp_len)\n",
    "                check_number(start_len + temp_len, start_wid + temp_len, temp_len)\n",
    "                cont_tf = False\n",
    "                break\n",
    "        if cont_tf == False :\n",
    "            break\n",
    "    else :\n",
    "        # print(start_len, start_wid, temp, length)\n",
    "        if temp == 0 :\n",
    "            cnt_zero += 1\n",
    "        else :\n",
    "            cnt_one += 1\n",
    "check_number(0,0,cnt)\n",
    "print(cnt_zero)\n",
    "print(cnt_one)"
   ]
  }
 ],
 "metadata": {
  "kernelspec": {
   "display_name": "pytorch",
   "language": "python",
   "name": "python3"
  },
  "language_info": {
   "codemirror_mode": {
    "name": "ipython",
    "version": 3
   },
   "file_extension": ".py",
   "mimetype": "text/x-python",
   "name": "python",
   "nbconvert_exporter": "python",
   "pygments_lexer": "ipython3",
   "version": "3.10.5"
  },
  "orig_nbformat": 4,
  "vscode": {
   "interpreter": {
    "hash": "334544a737ead5017040ac753f52220319955d2381f512ab105ce194db781c37"
   }
  }
 },
 "nbformat": 4,
 "nbformat_minor": 2
}
