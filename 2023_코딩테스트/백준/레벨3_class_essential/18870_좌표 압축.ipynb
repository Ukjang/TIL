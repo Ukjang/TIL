{
 "cells": [
  {
   "cell_type": "code",
   "execution_count": 34,
   "metadata": {},
   "outputs": [
    {
     "name": "stdout",
     "output_type": "stream",
     "text": [
      "2 3 0 3 1\n"
     ]
    }
   ],
   "source": [
    "cnt_list = list(set(number_list))\n",
    "cnt_list.sort()\n",
    "dict1 = {}\n",
    "for idx, i in enumerate(cnt_list) :\n",
    "    dict1[i] = idx\n",
    "result = []\n",
    "for num in number_list :\n",
    "    result.append(str(dict1[num]))\n",
    "print(' '.join(result))"
   ]
  },
  {
   "cell_type": "code",
   "execution_count": null,
   "metadata": {},
   "outputs": [],
   "source": [
    "import sys\n",
    "cnt = int(sys.stdin.readline())\n",
    "number_list =  list(map(int, sys.stdin.readline().split()))\n",
    "cnt_list = list(set(number_list))\n",
    "cnt_list.sort()\n",
    "dict1 = {}\n",
    "for idx, i in enumerate(cnt_list) :\n",
    "    dict1[i] = idx\n",
    "result = []\n",
    "for num in number_list :\n",
    "    result.append(str(dict1[num]))\n",
    "print(' '.join(result))"
   ]
  }
 ],
 "metadata": {
  "kernelspec": {
   "display_name": "pytorch",
   "language": "python",
   "name": "python3"
  },
  "language_info": {
   "codemirror_mode": {
    "name": "ipython",
    "version": 3
   },
   "file_extension": ".py",
   "mimetype": "text/x-python",
   "name": "python",
   "nbconvert_exporter": "python",
   "pygments_lexer": "ipython3",
   "version": "3.10.5"
  },
  "orig_nbformat": 4,
  "vscode": {
   "interpreter": {
    "hash": "334544a737ead5017040ac753f52220319955d2381f512ab105ce194db781c37"
   }
  }
 },
 "nbformat": 4,
 "nbformat_minor": 2
}
