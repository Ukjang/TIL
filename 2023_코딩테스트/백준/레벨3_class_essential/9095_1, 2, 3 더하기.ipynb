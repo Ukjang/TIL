{
 "cells": [
  {
   "cell_type": "code",
   "execution_count": null,
   "metadata": {},
   "outputs": [],
   "source": [
    "1 1개\n",
    "2 2개\n",
    "3 4개\n",
    "4 7개\n",
    "5 13개\n",
    "6 24개\n",
    "7 44\n",
    "8 81\n",
    "9 149\n",
    "10 274"
   ]
  },
  {
   "cell_type": "code",
   "execution_count": null,
   "metadata": {},
   "outputs": [],
   "source": [
    "# 앞선 수 3개 더하면 정답"
   ]
  },
  {
   "cell_type": "code",
   "execution_count": null,
   "metadata": {},
   "outputs": [],
   "source": [
    "import sys\n",
    "\n",
    "cnt = int(sys.stdin.readline())\n",
    "\n",
    "data = []\n",
    "for i in range(11) :\n",
    "    if i <= 3 :\n",
    "        data.append([0,1,2,4][i])\n",
    "    else :\n",
    "        data.append(sum(data[-3:]))\n",
    "for _ in range(cnt):\n",
    "    temp = int(sys.stdin.readline())\n",
    "    print(data[temp])\n",
    "    "
   ]
  }
 ],
 "metadata": {
  "language_info": {
   "name": "python"
  },
  "orig_nbformat": 4
 },
 "nbformat": 4,
 "nbformat_minor": 2
}
