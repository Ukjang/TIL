{
 "cells": [
  {
   "cell_type": "code",
   "execution_count": 4,
   "metadata": {},
   "outputs": [
    {
     "name": "stdout",
     "output_type": "stream",
     "text": [
      "1\n",
      "1\n",
      "0\n",
      "1\n",
      "0\n",
      "1\n",
      "0\n",
      "1\n",
      "0\n",
      "1\n",
      "1\n",
      "0\n",
      "0\n",
      "0\n",
      "1\n",
      "0\n"
     ]
    }
   ],
   "source": [
    "f = open('11723_집합.txt', 'r')\n",
    "cnt = int(f.readline())\n",
    "\n",
    "data = set()\n",
    "for _ in range(cnt) :\n",
    "    temp = f.readline().split()\n",
    "    if temp[0] == 'add' :\n",
    "        if int(temp[1]) in data :\n",
    "            pass\n",
    "        else :\n",
    "            data.add(int(temp[1]))\n",
    "    elif temp[0] == 'remove' :\n",
    "        if int(temp[1]) in data :\n",
    "            data.remove(int(temp[1]))\n",
    "        else :\n",
    "            pass\n",
    "    elif temp[0] == 'check' :\n",
    "        if int(temp[1]) in data :\n",
    "            print(1)\n",
    "        else :\n",
    "            print(0)\n",
    "    elif temp[0] == 'toggle' :\n",
    "        if int(temp[1]) in data :\n",
    "            data.remove(int(temp[1]))\n",
    "        else :\n",
    "            data.add(int(temp[1]))\n",
    "    elif temp[0] == 'all' :\n",
    "        data = set(range(1,21))\n",
    "    elif temp[0] == 'empty' :\n",
    "        data = set()\n"
   ]
  },
  {
   "cell_type": "code",
   "execution_count": null,
   "metadata": {},
   "outputs": [],
   "source": [
    "import sys\n",
    "\n",
    "cnt = int(sys.stdin.readline())\n",
    "\n",
    "data = set()\n",
    "for _ in range(cnt) :\n",
    "    temp = sys.stdin.readline().split()\n",
    "    if temp[0] == 'add' :\n",
    "        if int(temp[1]) in data :\n",
    "            pass\n",
    "        else :\n",
    "            data.add(int(temp[1]))\n",
    "    elif temp[0] == 'remove' :\n",
    "        if int(temp[1]) in data :\n",
    "            data.remove(int(temp[1]))\n",
    "        else :\n",
    "            pass\n",
    "    elif temp[0] == 'check' :\n",
    "        if int(temp[1]) in data :\n",
    "            print(1)\n",
    "        else :\n",
    "            print(0)\n",
    "    elif temp[0] == 'toggle' :\n",
    "        if int(temp[1]) in data :\n",
    "            data.remove(int(temp[1]))\n",
    "        else :\n",
    "            data.add(int(temp[1]))\n",
    "    elif temp[0] == 'all' :\n",
    "        data = set(range(1,21))\n",
    "    elif temp[0] == 'empty' :\n",
    "        data = set()\n"
   ]
  },
  {
   "cell_type": "code",
   "execution_count": 1,
   "metadata": {},
   "outputs": [
    {
     "data": {
      "text/plain": [
       "{1, 2, 3, 4, 5, 6, 7, 8, 9, 10, 11, 12, 13, 14, 15, 16, 17, 18, 19, 20}"
      ]
     },
     "execution_count": 1,
     "metadata": {},
     "output_type": "execute_result"
    }
   ],
   "source": [
    "set(range(1,21))"
   ]
  }
 ],
 "metadata": {
  "kernelspec": {
   "display_name": "pytorch",
   "language": "python",
   "name": "python3"
  },
  "language_info": {
   "codemirror_mode": {
    "name": "ipython",
    "version": 3
   },
   "file_extension": ".py",
   "mimetype": "text/x-python",
   "name": "python",
   "nbconvert_exporter": "python",
   "pygments_lexer": "ipython3",
   "version": "3.10.5"
  },
  "orig_nbformat": 4,
  "vscode": {
   "interpreter": {
    "hash": "334544a737ead5017040ac753f52220319955d2381f512ab105ce194db781c37"
   }
  }
 },
 "nbformat": 4,
 "nbformat_minor": 2
}
