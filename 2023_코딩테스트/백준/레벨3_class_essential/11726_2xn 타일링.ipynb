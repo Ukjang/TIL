{
 "cells": [
  {
   "cell_type": "code",
   "execution_count": null,
   "metadata": {},
   "outputs": [],
   "source": [
    "1 1 \n",
    "2 2\n",
    "3 3\n",
    "4 5\n",
    "5 8\n",
    "6 13\n",
    "7 21\n",
    "8 34\n",
    "9 55\n",
    "\n",
    "111\n",
    "12\n",
    "21\n",
    "\n",
    "1111\n",
    "112\n",
    "121\n",
    "211\n",
    "22\n",
    "\n",
    "11111\n",
    "1112\n",
    "1121\n",
    "1211\n",
    "2111\n",
    "122\n",
    "212\n",
    "221\n"
   ]
  },
  {
   "cell_type": "code",
   "execution_count": null,
   "metadata": {},
   "outputs": [],
   "source": [
    "# 피보나치 수열!\n",
    "import sys\n",
    "\n",
    "cnt = int(sys.stdin.readline())\n",
    "\n",
    "data = [0] * cnt\n",
    "\n",
    "for i in range(cnt) :\n",
    "    if i == 0 :\n",
    "        data[i] = 1\n",
    "    elif i == 1 :\n",
    "        data[i] = 2\n",
    "    else :\n",
    "        data[i] = data[i-1] + data[i-2]\n",
    "print(data[-1] % 10007)"
   ]
  }
 ],
 "metadata": {
  "kernelspec": {
   "display_name": "pytorch",
   "language": "python",
   "name": "python3"
  },
  "language_info": {
   "name": "python",
   "version": "3.10.5"
  },
  "orig_nbformat": 4,
  "vscode": {
   "interpreter": {
    "hash": "334544a737ead5017040ac753f52220319955d2381f512ab105ce194db781c37"
   }
  }
 },
 "nbformat": 4,
 "nbformat_minor": 2
}
