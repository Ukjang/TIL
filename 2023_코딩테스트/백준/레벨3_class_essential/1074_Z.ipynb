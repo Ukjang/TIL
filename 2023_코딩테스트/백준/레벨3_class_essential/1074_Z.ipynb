{
 "cells": [
  {
   "cell_type": "code",
   "execution_count": null,
   "metadata": {},
   "outputs": [],
   "source": [
    "# 4배 단위로 재귀 !\n",
    "\n",
    "N, r, c = map(int, input().split())\n",
    "\n",
    "def sol(N, r, c):\n",
    "\n",
    "\tif N == 0:\n",
    "\t\treturn 0\n",
    "        \n",
    "\treturn 2*(r%2)+(c%2) + 4*sol(N-1, int(r/2), int(c/2))\n",
    "\n",
    "print(sol(N, r, c))"
   ]
  }
 ],
 "metadata": {
  "language_info": {
   "name": "python"
  },
  "orig_nbformat": 4
 },
 "nbformat": 4,
 "nbformat_minor": 2
}
