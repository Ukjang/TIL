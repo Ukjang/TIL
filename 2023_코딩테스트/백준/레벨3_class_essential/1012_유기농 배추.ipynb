{
 "cells": [
  {
   "cell_type": "code",
   "execution_count": 1,
   "metadata": {},
   "outputs": [],
   "source": [
    "f = open('./1012_유기농 배추.txt', )"
   ]
  },
  {
   "cell_type": "code",
   "execution_count": 16,
   "metadata": {},
   "outputs": [
    {
     "name": "stdout",
     "output_type": "stream",
     "text": [
      "5\n",
      "1\n"
     ]
    }
   ],
   "source": [
    "from collections import deque\n",
    "f = open('./1012_유기농 배추.txt', )\n",
    "cnt = int(f.readline())\n",
    "for i in range(cnt) :\n",
    "    M, N, K = map(int,f.readline().strip().split())\n",
    "    number_list = [[0]*M for _ in range(N)]\n",
    "    used_list = [[0]*M for _ in range(N)]\n",
    "    for j in range(K) :\n",
    "        temp_M, temp_N = map(int, f.readline().strip().split())\n",
    "        number_list[temp_N][temp_M] = 1\n",
    "    # 시작포인트 설정\n",
    "    one_list = [(a,b) for a in range(N) for b in range(M) if number_list[a][b] == 1]\n",
    "    len_list = [-1,1,0,0]\n",
    "    wid_list = [0,0,1,-1]\n",
    "    answer = 0\n",
    "    for temp_N, temp_M in one_list :\n",
    "        # 탐색을 안한 경우에만\n",
    "        if used_list[temp_N][temp_M] == 0 :\n",
    "            queue = deque()\n",
    "            queue.append((temp_N, temp_M))\n",
    "            used_list[temp_N][temp_M] = 1\n",
    "            while queue :\n",
    "                length, width = queue.popleft()\n",
    "                for i in range(4) :\n",
    "                    sum_len = length + len_list[i]\n",
    "                    sum_wid = width + wid_list[i]\n",
    "                    # 구역을 벗어나는 경우\n",
    "                    if sum_len < 0 or sum_len >= N or sum_wid < 0 or sum_wid >= M :\n",
    "                        pass\n",
    "                    else :\n",
    "                        if number_list[sum_len][sum_wid] == 1 and used_list[sum_len][sum_wid] == 0 :\n",
    "                            queue.append((sum_len, sum_wid))\n",
    "                            used_list[sum_len][sum_wid] = 1\n",
    "            answer += 1\n",
    "    print(answer)\n"
   ]
  },
  {
   "cell_type": "code",
   "execution_count": null,
   "metadata": {},
   "outputs": [],
   "source": [
    "from collections import deque\n",
    "import sys\n",
    "\n",
    "cnt = int(sys.stdin.readline())\n",
    "for i in range(cnt) :\n",
    "    M, N, K = map(int,sys.stdin.readline().split())\n",
    "    number_list = [[0]*M for _ in range(N)]\n",
    "    used_list = [[0]*M for _ in range(N)]\n",
    "    for j in range(K) :\n",
    "        temp_M, temp_N = map(int, sys.stdin.readline().strip().split())\n",
    "        number_list[temp_N][temp_M] = 1\n",
    "    # 시작포인트 설정\n",
    "    one_list = [(a,b) for a in range(N) for b in range(M) if number_list[a][b] == 1]\n",
    "    len_list = [-1,1,0,0]\n",
    "    wid_list = [0,0,1,-1]\n",
    "    answer = 0\n",
    "    for temp_N, temp_M in one_list :\n",
    "        # 탐색을 안한 경우에만\n",
    "        if used_list[temp_N][temp_M] == 0 :\n",
    "            queue = deque()\n",
    "            queue.append((temp_N, temp_M))\n",
    "            used_list[temp_N][temp_M] = 1\n",
    "            while queue :\n",
    "                length, width = queue.popleft()\n",
    "                for i in range(4) :\n",
    "                    sum_len = length + len_list[i]\n",
    "                    sum_wid = width + wid_list[i]\n",
    "                    # 구역을 벗어나는 경우\n",
    "                    if sum_len < 0 or sum_len >= N or sum_wid < 0 or sum_wid >= M :\n",
    "                        pass\n",
    "                    else :\n",
    "                        if number_list[sum_len][sum_wid] == 1 and used_list[sum_len][sum_wid] == 0 :\n",
    "                            queue.append((sum_len, sum_wid))\n",
    "                            used_list[sum_len][sum_wid] = 1\n",
    "            answer += 1\n",
    "    print(answer)\n"
   ]
  }
 ],
 "metadata": {
  "kernelspec": {
   "display_name": "pytorch",
   "language": "python",
   "name": "python3"
  },
  "language_info": {
   "codemirror_mode": {
    "name": "ipython",
    "version": 3
   },
   "file_extension": ".py",
   "mimetype": "text/x-python",
   "name": "python",
   "nbconvert_exporter": "python",
   "pygments_lexer": "ipython3",
   "version": "3.10.5"
  },
  "orig_nbformat": 4,
  "vscode": {
   "interpreter": {
    "hash": "334544a737ead5017040ac753f52220319955d2381f512ab105ce194db781c37"
   }
  }
 },
 "nbformat": 4,
 "nbformat_minor": 2
}
