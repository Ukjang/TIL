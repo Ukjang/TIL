{
 "cells": [
  {
   "cell_type": "code",
   "execution_count": 1,
   "metadata": {},
   "outputs": [],
   "source": [
    "#  DP?\n",
    "# 1 근접해있는 0들 하루 주기로 1로 바꿔줌\n",
    "# -1에 둘러쌓여서 안바뀌는 토마토 계산해야함\n",
    "# 하루가 지났을때 바뀐 토마토가 없다 ? -> break\n",
    "# 0이 없으면 -1 해서 return / 0이 있으면 -1 return"
   ]
  },
  {
   "cell_type": "code",
   "execution_count": 66,
   "metadata": {},
   "outputs": [
    {
     "data": {
      "text/plain": [
       "[[-1, 1, 0, 0, 0],\n",
       " [0, -1, -1, -1, 0],\n",
       " [0, -1, -1, -1, 0],\n",
       " [0, -1, -1, -1, 0],\n",
       " [0, 0, 0, 0, 0]]"
      ]
     },
     "execution_count": 66,
     "metadata": {},
     "output_type": "execute_result"
    }
   ],
   "source": [
    "f = open('./7576_토마토.txt', 'r')\n",
    "M, N = map(int, f.readline().split())\n",
    "data = []\n",
    "for _ in range(N) :\n",
    "    data.append(list(map(int, f.readline().split())))\n",
    "data"
   ]
  },
  {
   "cell_type": "code",
   "execution_count": 67,
   "metadata": {},
   "outputs": [
    {
     "name": "stdout",
     "output_type": "stream",
     "text": [
      "14\n"
     ]
    }
   ],
   "source": [
    "from collections import deque\n",
    "wid_list = [0, 0, -1, 1]\n",
    "len_list = [1, -1, 0, 0]\n",
    "answer = 0\n",
    "# 1인점 위주로 시작\n",
    "temp_one = deque([(l,w) for l in range(N) for w in range(M) if data[l][w] == 1 ])\n",
    "while temp_one :\n",
    "    temp_l, temp_w = temp_one.popleft()\n",
    "    for i in range(4):\n",
    "        temp_wid = wid_list[i] + temp_w\n",
    "        temp_len = len_list[i] + temp_l\n",
    "        # 도형을 벗어나는 경우\n",
    "        if temp_len < 0 or temp_len >= N or temp_wid < 0 or temp_wid >= M :\n",
    "            pass\n",
    "        else :\n",
    "            if data[temp_len][temp_wid] == 0 :\n",
    "                data[temp_len][temp_wid] = data[temp_l][temp_w] + 1\n",
    "                temp_one.append((temp_len,temp_wid))\n",
    "for dt in data :\n",
    "    if 0 in dt :\n",
    "        print(-1)\n",
    "        break\n",
    "    else :\n",
    "        answer = max(answer, max(dt))\n",
    "else :\n",
    "    print(answer-1)\n"
   ]
  },
  {
   "cell_type": "code",
   "execution_count": null,
   "metadata": {},
   "outputs": [],
   "source": [
    "from collections import deque\n",
    "import sys\n",
    "M, N = map(int, sys.stdin.readline().split())\n",
    "data = []\n",
    "for _ in range(N) :\n",
    "    data.append(list(map(int, sys.stdin.readline().split())))\n",
    "    \n",
    "wid_list = [0, 0, -1, 1]\n",
    "len_list = [1, -1, 0, 0]\n",
    "answer = 0\n",
    "# 1인점 위주로 시작\n",
    "temp_one = deque([(l,w) for l in range(N) for w in range(M) if data[l][w] == 1 ])\n",
    "while temp_one :\n",
    "    temp_l, temp_w = temp_one.popleft()\n",
    "    for i in range(4):\n",
    "        temp_wid = wid_list[i] + temp_w\n",
    "        temp_len = len_list[i] + temp_l\n",
    "        # 도형을 벗어나는 경우\n",
    "        if temp_len < 0 or temp_len >= N or temp_wid < 0 or temp_wid >= M :\n",
    "            pass\n",
    "        else :\n",
    "            if data[temp_len][temp_wid] == 0 :\n",
    "                data[temp_len][temp_wid] = data[temp_l][temp_w] + 1\n",
    "                temp_one.append((temp_len,temp_wid))\n",
    "for dt in data :\n",
    "    if 0 in dt :\n",
    "        print(-1)\n",
    "        break\n",
    "    else :\n",
    "        answer = max(answer, max(dt))\n",
    "else :\n",
    "    print(answer-1)\n",
    "\n"
   ]
  },
  {
   "cell_type": "code",
   "execution_count": 39,
   "metadata": {},
   "outputs": [
    {
     "data": {
      "text/plain": [
       "[[1, 1, 1, 1, 1, 1],\n",
       " [1, 1, 1, 1, 1, 1],\n",
       " [1, 1, 1, 1, 1, 1],\n",
       " [1, 1, 1, 1, 1, 1]]"
      ]
     },
     "execution_count": 39,
     "metadata": {},
     "output_type": "execute_result"
    }
   ],
   "source": [
    "data"
   ]
  }
 ],
 "metadata": {
  "kernelspec": {
   "display_name": "pytorch",
   "language": "python",
   "name": "python3"
  },
  "language_info": {
   "codemirror_mode": {
    "name": "ipython",
    "version": 3
   },
   "file_extension": ".py",
   "mimetype": "text/x-python",
   "name": "python",
   "nbconvert_exporter": "python",
   "pygments_lexer": "ipython3",
   "version": "3.10.5"
  },
  "orig_nbformat": 4,
  "vscode": {
   "interpreter": {
    "hash": "334544a737ead5017040ac753f52220319955d2381f512ab105ce194db781c37"
   }
  }
 },
 "nbformat": 4,
 "nbformat_minor": 2
}
