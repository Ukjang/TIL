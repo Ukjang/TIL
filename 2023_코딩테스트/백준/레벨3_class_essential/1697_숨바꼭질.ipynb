{
 "cells": [
  {
   "cell_type": "code",
   "execution_count": 2,
   "metadata": {},
   "outputs": [],
   "source": [
    "a,b = 5, 17"
   ]
  },
  {
   "cell_type": "code",
   "execution_count": 3,
   "metadata": {},
   "outputs": [
    {
     "name": "stdout",
     "output_type": "stream",
     "text": [
      "4\n"
     ]
    },
    {
     "data": {
      "text/plain": [
       "[5, 4, 3, 2, 1, 2, 1, 2, 2, 2, 1, 2, 2, 3, 3, 4, 3, 4, 3, 3]"
      ]
     },
     "execution_count": 3,
     "metadata": {},
     "output_type": "execute_result"
    }
   ],
   "source": [
    "from collections import deque\n",
    "max_num = 100000\n",
    "number_list = [0] * (max_num)\n",
    "queue = deque()\n",
    "queue.append(a)\n",
    "while queue :\n",
    "    temp = queue.popleft()\n",
    "    if temp == b :\n",
    "        print(number_list[temp])\n",
    "        break\n",
    "    for i in [temp-1, temp+1, temp*2] :\n",
    "        if 0 <= i <= max_num and not number_list[i] :\n",
    "            queue.append(i)\n",
    "            number_list[i] = number_list[temp] + 1\n",
    "number_list[:20]\n"
   ]
  },
  {
   "cell_type": "code",
   "execution_count": 13,
   "metadata": {},
   "outputs": [],
   "source": [
    "from collections import deque\n",
    "import sys\n",
    "\n",
    "a, b = map(int,sys.stdin.readline().split())\n",
    "max_num = 100000\n",
    "number_list = [0] * (max_num+1)\n",
    "queue = deque()\n",
    "queue.append(a)\n",
    "while queue :\n",
    "    temp = queue.popleft()\n",
    "    if temp == b :\n",
    "        print(number_list[temp])\n",
    "        break\n",
    "    for i in [temp-1, temp+1, temp*2] :\n",
    "        if 0 <= i <= max_num :\n",
    "            if not number_list[i] :\n",
    "                queue.append(i)\n",
    "                number_list[i] = number_list[temp] + 1\n"
   ]
  }
 ],
 "metadata": {
  "kernelspec": {
   "display_name": "pytorch",
   "language": "python",
   "name": "python3"
  },
  "language_info": {
   "codemirror_mode": {
    "name": "ipython",
    "version": 3
   },
   "file_extension": ".py",
   "mimetype": "text/x-python",
   "name": "python",
   "nbconvert_exporter": "python",
   "pygments_lexer": "ipython3",
   "version": "3.10.5"
  },
  "orig_nbformat": 4,
  "vscode": {
   "interpreter": {
    "hash": "334544a737ead5017040ac753f52220319955d2381f512ab105ce194db781c37"
   }
  }
 },
 "nbformat": 4,
 "nbformat_minor": 2
}
