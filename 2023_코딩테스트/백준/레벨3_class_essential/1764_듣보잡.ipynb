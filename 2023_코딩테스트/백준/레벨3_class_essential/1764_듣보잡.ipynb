{
 "cells": [
  {
   "cell_type": "code",
   "execution_count": 5,
   "metadata": {},
   "outputs": [
    {
     "name": "stdout",
     "output_type": "stream",
     "text": [
      "2\n",
      "baesangwook\n",
      "ohhenrie\n"
     ]
    }
   ],
   "source": [
    "f = open('./1764_듣보잡.txt', 'r')\n",
    "N, M = map(int, f.readline().split() )\n",
    "unlisten_list = set()\n",
    "unseen_list = set()\n",
    "for _ in range(N) :\n",
    "    unlisten_list.add(f.readline().strip())\n",
    "for _ in range(M) :\n",
    "    unseen_list.add(f.readline().strip())\n",
    "co_list = list(unlisten_list & unseen_list)\n",
    "co_list.sort()\n",
    "print(len(co_list))\n",
    "for cl in co_list :\n",
    "    print(cl)"
   ]
  },
  {
   "cell_type": "code",
   "execution_count": null,
   "metadata": {},
   "outputs": [],
   "source": [
    "import sys\n",
    "\n",
    "N, M = map(int, sys.stdin.readline().split() )\n",
    "unlisten_list = set()\n",
    "unseen_list = set()\n",
    "for _ in range(N) :\n",
    "    unlisten_list.add(sys.stdin.readline().strip())\n",
    "for _ in range(M) :\n",
    "    unseen_list.add(sys.stdin.readline().strip())\n",
    "co_list = list(unlisten_list & unseen_list)\n",
    "co_list.sort()\n",
    "print(len(co_list))\n",
    "for cl in co_list :\n",
    "    print(cl)\n"
   ]
  }
 ],
 "metadata": {
  "kernelspec": {
   "display_name": "pytorch",
   "language": "python",
   "name": "python3"
  },
  "language_info": {
   "codemirror_mode": {
    "name": "ipython",
    "version": 3
   },
   "file_extension": ".py",
   "mimetype": "text/x-python",
   "name": "python",
   "nbconvert_exporter": "python",
   "pygments_lexer": "ipython3",
   "version": "3.10.5"
  },
  "orig_nbformat": 4,
  "vscode": {
   "interpreter": {
    "hash": "334544a737ead5017040ac753f52220319955d2381f512ab105ce194db781c37"
   }
  }
 },
 "nbformat": 4,
 "nbformat_minor": 2
}
