{
 "cells": [
  {
   "cell_type": "code",
   "execution_count": 19,
   "metadata": {},
   "outputs": [
    {
     "data": {
      "text/plain": [
       "[[0, 0, 0, 0, 0, 0, 0, 0],\n",
       " [0, 0, 1, 0, 0, 1, 0, 0],\n",
       " [0, 1, 0, 1, 0, 1, 0, 0],\n",
       " [0, 0, 1, 0, 0, 0, 0, 0],\n",
       " [0, 0, 0, 0, 0, 0, 0, 1],\n",
       " [0, 1, 1, 0, 0, 0, 1, 0],\n",
       " [0, 0, 0, 0, 0, 1, 0, 0],\n",
       " [0, 0, 0, 0, 1, 0, 0, 0]]"
      ]
     },
     "execution_count": 19,
     "metadata": {},
     "output_type": "execute_result"
    }
   ],
   "source": [
    "f = open('./2606_바이러스.txt', 'r')\n",
    "node_cnt = int(f.readline())\n",
    "line_cnt = int(f.readline())\n",
    "line_list = [list( map(int, f.readline().split()))for _ in range(line_cnt)]\n",
    "node_array = [[0]*(node_cnt+1) for _ in range(node_cnt+1)]\n",
    "number_list = [0]*(node_cnt + 1)\n",
    "number_list[1] = 1\n",
    "for line in line_list :\n",
    "    a, b = line\n",
    "    node_array[a][b] = 1\n",
    "    node_array[b][a] = 1\n",
    "node_array"
   ]
  },
  {
   "cell_type": "code",
   "execution_count": 20,
   "metadata": {},
   "outputs": [
    {
     "data": {
      "text/plain": [
       "4"
      ]
     },
     "execution_count": 20,
     "metadata": {},
     "output_type": "execute_result"
    }
   ],
   "source": [
    "from collections import deque\n",
    "queue = deque()\n",
    "queue.append(1)\n",
    "while queue :\n",
    "    temp = queue.popleft()\n",
    "    for i in range(1, node_cnt+1):\n",
    "        if node_array[temp][i] == 1 and number_list[i] == 0:\n",
    "            number_list[i] = 1\n",
    "            queue.append(i)\n",
    "sum(number_list) - 1"
   ]
  },
  {
   "cell_type": "code",
   "execution_count": null,
   "metadata": {},
   "outputs": [],
   "source": [
    "import sys\n",
    "from collections import deque\n",
    "\n",
    "\n",
    "node_cnt = int(sys.stdin.readline())\n",
    "line_cnt = int(sys.stdin.readline())\n",
    "line_list = [list( map(int, sys.stdin.readline().split()))for _ in range(line_cnt)]\n",
    "node_array = [[0]*(node_cnt+1) for _ in range(node_cnt+1)]\n",
    "number_list = [0]*(node_cnt + 1)\n",
    "number_list[1] = 1\n",
    "for line in line_list :\n",
    "    a, b = line\n",
    "    node_array[a][b] = 1\n",
    "    node_array[b][a] = 1\n",
    "    \n",
    "\n",
    "queue = deque()\n",
    "queue.append(1)\n",
    "while queue :\n",
    "    temp = queue.popleft()\n",
    "    for i in range(1, node_cnt+1):\n",
    "        if node_array[temp][i] == 1 and number_list[i] == 0:\n",
    "            number_list[i] = 1\n",
    "            queue.append(i)\n",
    "print(sum(number_list) - 1)"
   ]
  }
 ],
 "metadata": {
  "kernelspec": {
   "display_name": "pytorch",
   "language": "python",
   "name": "python3"
  },
  "language_info": {
   "codemirror_mode": {
    "name": "ipython",
    "version": 3
   },
   "file_extension": ".py",
   "mimetype": "text/x-python",
   "name": "python",
   "nbconvert_exporter": "python",
   "pygments_lexer": "ipython3",
   "version": "3.10.5"
  },
  "orig_nbformat": 4,
  "vscode": {
   "interpreter": {
    "hash": "334544a737ead5017040ac753f52220319955d2381f512ab105ce194db781c37"
   }
  }
 },
 "nbformat": 4,
 "nbformat_minor": 2
}
