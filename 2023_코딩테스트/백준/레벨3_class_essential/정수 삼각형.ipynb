{
 "cells": [
  {
   "cell_type": "code",
   "execution_count": 8,
   "metadata": {},
   "outputs": [],
   "source": [
    "triangle = [[7], [3, 8], [8, 1, 0], [2, 7, 4, 4], [4, 5, 2, 6, 5]]\n"
   ]
  },
  {
   "cell_type": "code",
   "execution_count": 86,
   "metadata": {},
   "outputs": [
    {
     "data": {
      "text/plain": [
       "30"
      ]
     },
     "execution_count": 86,
     "metadata": {},
     "output_type": "execute_result"
    }
   ],
   "source": [
    "# 절반은 한쪽 더하고 절반은 나머지 방향 더해서 합쳐줌\n",
    "# 최대값 구하면 끝\n",
    "result = []\n",
    "for i in range(len(triangle)) :\n",
    "    if i == 0 :\n",
    "        result.append(triangle[i])\n",
    "    else :\n",
    "        # 이전 리스트의 개수\n",
    "        temp = []\n",
    "        for j, v in enumerate(triangle[i]) :\n",
    "            # 시작지점과 끝 지점은 각각 하나의 값\n",
    "            if j == 0:\n",
    "                temp.append(result[i-1][j] + v)\n",
    "            elif j == len(triangle[i]) - 1 :\n",
    "                temp.append(result[i-1][j-1] + v)\n",
    "            else :\n",
    "                temp.append(max(result[i-1][j] + v, result[i-1][j-1] + v))\n",
    "            # 이전 행의 근접 인덱스 합중 최대값\n",
    "        result.append(temp)\n",
    "answer = 0\n",
    "for res in result :\n",
    "    answer = max(answer, max(res))\n",
    "answer"
   ]
  },
  {
   "cell_type": "code",
   "execution_count": 83,
   "metadata": {},
   "outputs": [
    {
     "data": {
      "text/plain": [
       "[[[7]],\n",
       " [[10, 15]],\n",
       " [[18, 11], [16, 15]],\n",
       " [[20, 25, 18, 23], [18, 15, 22, 19]],\n",
       " [[24, 25, 22, 23], [30, 27, 20, 17], [20, 24, 24, 28], [29, 28, 25, 24]]]"
      ]
     },
     "execution_count": 83,
     "metadata": {},
     "output_type": "execute_result"
    }
   ],
   "source": [
    "result"
   ]
  }
 ],
 "metadata": {
  "kernelspec": {
   "display_name": "pytorch",
   "language": "python",
   "name": "python3"
  },
  "language_info": {
   "codemirror_mode": {
    "name": "ipython",
    "version": 3
   },
   "file_extension": ".py",
   "mimetype": "text/x-python",
   "name": "python",
   "nbconvert_exporter": "python",
   "pygments_lexer": "ipython3",
   "version": "3.10.5"
  },
  "orig_nbformat": 4,
  "vscode": {
   "interpreter": {
    "hash": "334544a737ead5017040ac753f52220319955d2381f512ab105ce194db781c37"
   }
  }
 },
 "nbformat": 4,
 "nbformat_minor": 2
}
