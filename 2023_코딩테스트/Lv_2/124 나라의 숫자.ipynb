{
 "cells": [
  {
   "cell_type": "code",
   "execution_count": null,
   "metadata": {},
   "outputs": [],
   "source": [
    "def solution(n):\n",
    "    # n-1 의  3으로 나눈 몫에 해당되는 수에 추가\n",
    "    # 3의 배수에 대해서만 따로 디버깅\n",
    "    num_list = ['1', '2', '4']\n",
    "    answer = ''\n",
    "    n -= 1\n",
    "    while True :\n",
    "        n_div = n // 3 \n",
    "        n_rem = n % 3\n",
    "        answer += num_list[n_rem]\n",
    "        n = n_div - 1\n",
    "        if n_div == 0:\n",
    "            break\n",
    "    return answer"
   ]
  },
  {
   "cell_type": "code",
   "execution_count": 5,
   "metadata": {},
   "outputs": [
    {
     "name": "stdout",
     "output_type": "stream",
     "text": [
      "-1 1\n",
      "-1 2\n",
      "-1 4\n",
      "-1 11\n",
      "-1 12\n",
      "-1 14\n",
      "-1 21\n",
      "-1 22\n",
      "-1 24\n",
      "-1 41\n"
     ]
    }
   ],
   "source": [
    "n_num = 10\n",
    "# n-1 의  3으로 나눈 몫에 해당되는 수에 추가\n",
    "# 3의 배수에 대해서만 따로 디버깅\n",
    "num_list = ['1', '2', '4']\n",
    "for n in range(1, n_num+1) :\n",
    "    answer = ''\n",
    "    n -= 1\n",
    "    while True :\n",
    "        n_div = n // 3 \n",
    "        n_rem = n % 3\n",
    "        answer = num_list[n_rem] + answer\n",
    "        n = n_div - 1\n",
    "        if n_div == 0:\n",
    "            break\n",
    "    print(n, answer)"
   ]
  }
 ],
 "metadata": {
  "kernelspec": {
   "display_name": "Python 3",
   "language": "python",
   "name": "python3"
  },
  "language_info": {
   "codemirror_mode": {
    "name": "ipython",
    "version": 3
   },
   "file_extension": ".py",
   "mimetype": "text/x-python",
   "name": "python",
   "nbconvert_exporter": "python",
   "pygments_lexer": "ipython3",
   "version": "3.8.10"
  },
  "orig_nbformat": 4,
  "vscode": {
   "interpreter": {
    "hash": "e3ada8b426290dd76767ba6368ea690ca67a7a436b12c3cf567e5cb72f89ca03"
   }
  }
 },
 "nbformat": 4,
 "nbformat_minor": 2
}
