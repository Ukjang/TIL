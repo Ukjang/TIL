{
 "cells": [
  {
   "cell_type": "code",
   "execution_count": null,
   "metadata": {},
   "outputs": [],
   "source": [
    "def solution(A,B):\n",
    "    # 한쪽은 최소값 기준 정렬 반대쪽은 최대값 기준 정렬\n",
    "    A.sort()\n",
    "    B.sort(reverse=True)\n",
    "    answer = 0\n",
    "    for i in range(len(A)) :\n",
    "        answer += A[i] * B[i]\n",
    "    return answer"
   ]
  }
 ],
 "metadata": {
  "language_info": {
   "name": "python"
  },
  "orig_nbformat": 4
 },
 "nbformat": 4,
 "nbformat_minor": 2
}
