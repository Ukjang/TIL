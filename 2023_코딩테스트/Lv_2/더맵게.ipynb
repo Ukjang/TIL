{
 "cells": [
  {
   "cell_type": "code",
   "execution_count": 1,
   "metadata": {},
   "outputs": [],
   "source": [
    "from collections import deque\n",
    "def solution(scoville, K):\n",
    "    answer = 0\n",
    "    k_queue = deque(scoville)\n",
    "    while True :\n",
    "        k_queue = sorted(k_queue)\n",
    "        if len(k_queue) >=2 :\n",
    "            temp_min = k_queue.popleft()\n",
    "            temp_min2 = k_queue.popleft()\n",
    "            temp_sum = temp_min + (temp_min2 * 2)\n",
    "            answer += 1\n",
    "            if temp_sum >= K :\n",
    "                break\n",
    "        else :\n",
    "            temp_min = k_queue[0]\n",
    "            if temp_min < K :\n",
    "                answer = -1\n",
    "            else:\n",
    "                answer += 1\n",
    "                break\n",
    "            \n",
    "    return answer"
   ]
  },
  {
   "cell_type": "code",
   "execution_count": 5,
   "metadata": {},
   "outputs": [
    {
     "data": {
      "text/plain": [
       "2"
      ]
     },
     "execution_count": 5,
     "metadata": {},
     "output_type": "execute_result"
    }
   ],
   "source": [
    "scoville = [1, 2, 3, 9, 10, 12]\n",
    "answer = 0\n",
    "K = 7\n",
    "k_queue = deque(scoville)\n",
    "while True :\n",
    "    k_queue = deque(sorted(k_queue))\n",
    "    if len(k_queue) >=2 :\n",
    "        temp_min = k_queue.popleft()\n",
    "        temp_min2 = k_queue.popleft()\n",
    "        temp_sum = temp_min + (temp_min2 * 2)\n",
    "        answer += 1\n",
    "        if temp_sum >= K :\n",
    "            break\n",
    "    else :\n",
    "        temp_min = k_queue[0]\n",
    "        if temp_min < K :\n",
    "            answer = -1\n",
    "        else:\n",
    "            answer += 1\n",
    "            break\n",
    "        \n",
    "answer"
   ]
  },
  {
   "cell_type": "code",
   "execution_count": null,
   "metadata": {},
   "outputs": [],
   "source": [
    "from collections import deque\n",
    "def solution(scoville, K):\n",
    "    answer = 0\n",
    "    k_queue = deque(scoville)\n",
    "    while True :\n",
    "        k_queue = deque(sorted(k_queue))\n",
    "        if len(k_queue) >=2 :\n",
    "            temp_min = k_queue.popleft()\n",
    "            temp_min2 = k_queue.popleft()\n",
    "            temp_sum = temp_min + (temp_min2 * 2)\n",
    "            answer += 1\n",
    "            if temp_sum >= K :\n",
    "                break\n",
    "        else :\n",
    "            temp_min = k_queue[0]\n",
    "            if temp_min < K :\n",
    "                answer = -1\n",
    "                break\n",
    "            else:\n",
    "                answer += 1\n",
    "                break\n",
    "\n",
    "    return answer"
   ]
  }
 ],
 "metadata": {
  "kernelspec": {
   "display_name": "pytorch",
   "language": "python",
   "name": "python3"
  },
  "language_info": {
   "codemirror_mode": {
    "name": "ipython",
    "version": 3
   },
   "file_extension": ".py",
   "mimetype": "text/x-python",
   "name": "python",
   "nbconvert_exporter": "python",
   "pygments_lexer": "ipython3",
   "version": "3.10.5"
  },
  "orig_nbformat": 4,
  "vscode": {
   "interpreter": {
    "hash": "334544a737ead5017040ac753f52220319955d2381f512ab105ce194db781c37"
   }
  }
 },
 "nbformat": 4,
 "nbformat_minor": 2
}
