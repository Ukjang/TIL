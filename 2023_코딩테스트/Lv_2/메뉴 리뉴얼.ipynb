{
 "cells": [
  {
   "cell_type": "code",
   "execution_count": 3,
   "metadata": {},
   "outputs": [
    {
     "data": {
      "text/plain": [
       "['AB',\n",
       " 'AC',\n",
       " 'AF',\n",
       " 'AG',\n",
       " 'BC',\n",
       " 'BF',\n",
       " 'BG',\n",
       " 'CF',\n",
       " 'CG',\n",
       " 'FG',\n",
       " 'AC',\n",
       " 'CD',\n",
       " 'CE',\n",
       " 'DE',\n",
       " 'AC',\n",
       " 'AD',\n",
       " 'AE',\n",
       " 'CD',\n",
       " 'CE',\n",
       " 'DE',\n",
       " 'BC',\n",
       " 'BF',\n",
       " 'BG',\n",
       " 'CF',\n",
       " 'CG',\n",
       " 'FG',\n",
       " 'AC',\n",
       " 'AD',\n",
       " 'AE',\n",
       " 'AH',\n",
       " 'CD',\n",
       " 'CE',\n",
       " 'CH',\n",
       " 'DE',\n",
       " 'DH',\n",
       " 'EH',\n",
       " 'ABC',\n",
       " 'ABF',\n",
       " 'ABG',\n",
       " 'ACF',\n",
       " 'ACG',\n",
       " 'AFG',\n",
       " 'BCF',\n",
       " 'BCG',\n",
       " 'BFG',\n",
       " 'CFG',\n",
       " 'CDE',\n",
       " 'ACD',\n",
       " 'ACE',\n",
       " 'ADE',\n",
       " 'CDE',\n",
       " 'BCF',\n",
       " 'BCG',\n",
       " 'BFG',\n",
       " 'CFG',\n",
       " 'ACD',\n",
       " 'ACE',\n",
       " 'ACH',\n",
       " 'ADE',\n",
       " 'ADH',\n",
       " 'AEH',\n",
       " 'CDE',\n",
       " 'CDH',\n",
       " 'CEH',\n",
       " 'DEH',\n",
       " 'ABCF',\n",
       " 'ABCG',\n",
       " 'ABFG',\n",
       " 'ACFG',\n",
       " 'BCFG',\n",
       " 'ACDE',\n",
       " 'BCFG',\n",
       " 'ACDE',\n",
       " 'ACDH',\n",
       " 'ACEH',\n",
       " 'ADEH',\n",
       " 'CDEH']"
      ]
     },
     "execution_count": 3,
     "metadata": {},
     "output_type": "execute_result"
    }
   ],
   "source": [
    "from itertools import combinations\n",
    "\n",
    "orders = [\"ABCFG\", \"AC\", \"CDE\", \"ACDE\", \"BCFG\", \"ACDEH\"]\n",
    "course = [2, 3, 4]\n",
    "result = []\n",
    "for cs in course :\n",
    "    for order in orders :\n",
    "        if len(order) >= cs :\n",
    "            temp_combination = [''.join(comb) for comb in combinations(order, cs)]\n",
    "            result += temp_combination\n",
    "result"
   ]
  },
  {
   "cell_type": "code",
   "execution_count": 47,
   "metadata": {},
   "outputs": [
    {
     "data": {
      "text/plain": [
       "['WX', 'XY']"
      ]
     },
     "execution_count": 47,
     "metadata": {},
     "output_type": "execute_result"
    }
   ],
   "source": [
    "from collections import Counter\n",
    "orders = [\"ABCFG\", \"AC\", \"CDE\", \"ACDE\", \"BCFG\", \"ACDEH\"]\n",
    "course = [2, 3, 4]\n",
    "orders = [\"ABCDE\", \"AB\", \"CD\", \"ADE\", \"XYZ\", \"XYZ\", \"ACD\"]\n",
    "course = [2, 3, 5]\n",
    "result = []\n",
    "orders = [\"XYZ\", \"XWY\", \"WXA\"]\n",
    "course = [2]\n",
    "# 음식 조합식 생성 하고 리스트 추가\n",
    "orders = [''.join(sorted(list(order))) for order in orders]\n",
    "for cs in course :\n",
    "    for order in orders :\n",
    "        if len(order) >= cs :\n",
    "            temp_combination = [''.join(comb) for comb in combinations(order, cs)]\n",
    "            result += temp_combination\n",
    "# 음식 조합식 빈도수 측정\n",
    "cnt_dict = Counter(result)\n",
    "answer = []\n",
    "# 조합 길이에 따른 정렬\n",
    "sorted_list = sorted(cnt_dict.items(), key = lambda x : len(x[0]), reverse=True)\n",
    "for cs in course :\n",
    "    temp_total = [sl for sl in sorted_list if len(sl[0]) == cs]\n",
    "    if len(temp_total) != 0 :\n",
    "        len_max = max(temp_total, key=lambda x : x[1])[1]\n",
    "        if len_max >= 2 :\n",
    "            result_arr = [temp1[0] for temp1 in temp_total if temp1[1] == len_max]\n",
    "            answer += result_arr\n",
    "answer.sort()\n",
    "answer"
   ]
  },
  {
   "cell_type": "code",
   "execution_count": 46,
   "metadata": {},
   "outputs": [
    {
     "data": {
      "text/plain": [
       "['XY', 'XZ', 'YZ', 'XW', 'XY', 'WY', 'WX', 'WA', 'XA']"
      ]
     },
     "execution_count": 46,
     "metadata": {},
     "output_type": "execute_result"
    }
   ],
   "source": [
    "result"
   ]
  },
  {
   "cell_type": "code",
   "execution_count": 29,
   "metadata": {},
   "outputs": [
    {
     "data": {
      "text/plain": [
       "['AC']"
      ]
     },
     "execution_count": 29,
     "metadata": {},
     "output_type": "execute_result"
    }
   ],
   "source": [
    "temp_arr = [sl[1] for sl in sorted_list if len(sl[0]) == 2]\n",
    "len_max = max(temp_arr)\n",
    "result_arr = [tr[0] for tr in sorted_list if tr[1] == len_max]\n",
    "result_arr"
   ]
  },
  {
   "cell_type": "code",
   "execution_count": null,
   "metadata": {},
   "outputs": [],
   "source": [
    "from collections import Counter\n",
    "cnt_dict = Counter(result)\n",
    "answer = []\n",
    "sorted_list = sorted(cnt_dict.items(), key = lambda x : len(x[0]), reverse=True)\n",
    "for combi, cnt in sorted_list :\n",
    "    if cnt >= 2 :\n",
    "        answer.append(combi)\n",
    "answer.sort()\n",
    "answer"
   ]
  }
 ],
 "metadata": {
  "kernelspec": {
   "display_name": "Python 3",
   "language": "python",
   "name": "python3"
  },
  "language_info": {
   "codemirror_mode": {
    "name": "ipython",
    "version": 3
   },
   "file_extension": ".py",
   "mimetype": "text/x-python",
   "name": "python",
   "nbconvert_exporter": "python",
   "pygments_lexer": "ipython3",
   "version": "3.8.10"
  },
  "orig_nbformat": 4,
  "vscode": {
   "interpreter": {
    "hash": "e3ada8b426290dd76767ba6368ea690ca67a7a436b12c3cf567e5cb72f89ca03"
   }
  }
 },
 "nbformat": 4,
 "nbformat_minor": 2
}
