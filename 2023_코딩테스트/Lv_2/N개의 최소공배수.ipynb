{
 "cells": [
  {
   "cell_type": "code",
   "execution_count": null,
   "metadata": {},
   "outputs": [],
   "source": [
    "def solution(arr):\n",
    "    # 두 수의 최소 공배수 계속 구해서 반복\n",
    "    answer = 0\n",
    "    for i in range(len(arr)) :\n",
    "        # 첫번쨰 값 지정\n",
    "        if i == 0 :\n",
    "            answer += arr[i]\n",
    "        # 두 수중에 이미 최소공배수 있으면 해당 값 리턴\n",
    "        elif (answer != 0 ) & (max(answer, arr[i]) % min(answer, arr[i]) == 0):\n",
    "            answer = max(answer, arr[i])\n",
    "        # 최소 공배수 구하기\n",
    "        else :\n",
    "            min_arr = min(answer, arr[i])\n",
    "            answer_list = []\n",
    "            # 두수의 최대공약수 구하기\n",
    "            for j in range(1, int(min_arr + 1)) : \n",
    "                if (arr[i] % j == 0) & (answer % j == 0):\n",
    "                            answer_list.append(j)\n",
    "            # 두수의 곱 / 최대공약수는 최소공배수\n",
    "            answer = arr[i] * answer / max(answer_list) \n",
    "    return answer "
   ]
  },
  {
   "cell_type": "code",
   "execution_count": 3,
   "metadata": {},
   "outputs": [
    {
     "name": "stdout",
     "output_type": "stream",
     "text": [
      "2 2\n",
      "6 6\n",
      "8 24.0\n",
      "14 168.0\n"
     ]
    },
    {
     "data": {
      "text/plain": [
       "168.0"
      ]
     },
     "execution_count": 3,
     "metadata": {},
     "output_type": "execute_result"
    }
   ],
   "source": [
    "arr = [2,6,8,14]\n",
    "# 두 수의 최소 공배수 계속 구해서 반복\n",
    "answer = 0\n",
    "for i in range(len(arr)) :\n",
    "    if i == 0 :\n",
    "        answer += arr[i]\n",
    "    elif (answer != 0 ) & (max(answer, arr[i]) % min(answer, arr[i]) == 0):\n",
    "        answer = max(answer, arr[i])\n",
    "    else :\n",
    "        min_arr = min(answer, arr[i])\n",
    "        answer_list = []\n",
    "        for j in range(1, int(min_arr + 1)) : \n",
    "            if (arr[i] % j == 0) & (answer % j == 0):\n",
    "                        answer_list.append(j)\n",
    "        answer = arr[i] * answer / max(answer_list)\n",
    "    print(arr[i], answer)\n",
    "answer "
   ]
  }
 ],
 "metadata": {
  "kernelspec": {
   "display_name": "Python 3",
   "language": "python",
   "name": "python3"
  },
  "language_info": {
   "codemirror_mode": {
    "name": "ipython",
    "version": 3
   },
   "file_extension": ".py",
   "mimetype": "text/x-python",
   "name": "python",
   "nbconvert_exporter": "python",
   "pygments_lexer": "ipython3",
   "version": "3.8.10"
  },
  "orig_nbformat": 4,
  "vscode": {
   "interpreter": {
    "hash": "e3ada8b426290dd76767ba6368ea690ca67a7a436b12c3cf567e5cb72f89ca03"
   }
  }
 },
 "nbformat": 4,
 "nbformat_minor": 2
}
