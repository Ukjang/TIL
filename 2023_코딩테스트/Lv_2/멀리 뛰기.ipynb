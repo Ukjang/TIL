{
 "cells": [
  {
   "cell_type": "code",
   "execution_count": null,
   "metadata": {},
   "outputs": [],
   "source": [
    "def solution(n):\n",
    "    answer = []\n",
    "    for i in range(1, n+1) :\n",
    "        if i == 1 :\n",
    "            answer.append(1)\n",
    "        elif i == 2 :\n",
    "            answer.append(2)\n",
    "        else :\n",
    "            answer.append(answer[-2] + answer[-1])\n",
    "    #  여기에 1234567를 나눈 나머지를 리턴하는 함수\n",
    "    return answer[-1] % 1234567"
   ]
  }
 ],
 "metadata": {
  "language_info": {
   "name": "python"
  },
  "orig_nbformat": 4
 },
 "nbformat": 4,
 "nbformat_minor": 2
}
