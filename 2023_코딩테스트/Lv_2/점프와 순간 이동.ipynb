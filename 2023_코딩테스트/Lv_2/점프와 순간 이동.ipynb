{
 "cells": [
  {
   "cell_type": "code",
   "execution_count": null,
   "metadata": {},
   "outputs": [],
   "source": [
    "def solution(n):\n",
    "    # 2로 나눈 나머지들을 더해주면 소모량인듯..?\n",
    "    answer = 0\n",
    "    while True:\n",
    "        n_div = n // 2\n",
    "        n_rem = n % 2\n",
    "        answer += n_rem\n",
    "        if n_div == 0 :\n",
    "            break\n",
    "        n = n_div\n",
    "    return answer"
   ]
  }
 ],
 "metadata": {
  "language_info": {
   "name": "python"
  },
  "orig_nbformat": 4
 },
 "nbformat": 4,
 "nbformat_minor": 2
}
