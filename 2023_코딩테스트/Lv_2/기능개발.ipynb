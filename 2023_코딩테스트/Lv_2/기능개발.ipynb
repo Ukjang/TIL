{
 "cells": [
  {
   "cell_type": "code",
   "execution_count": null,
   "metadata": {},
   "outputs": [],
   "source": [
    "def solution(progresses, speeds):\n",
    "    # 각 작업별 완료 날짜를 계산\n",
    "    # 앞에 수보다 작으면 합쳐서 리스트에 추가\n",
    "    result = []\n",
    "    for i in range(len(progresses)) :\n",
    "        temp_progress = progresses[i]\n",
    "        temp_speed = speeds[i]\n",
    "        if (100-temp_progress) % temp_speed == 0:\n",
    "            day = (100-temp_progress) // temp_speed\n",
    "        else :\n",
    "            day = ((100-temp_progress) // temp_speed) + 1\n",
    "        result.append(day)\n",
    "    answer = []\n",
    "    for res in range(len(result)) :\n",
    "        # 시작 설정\n",
    "        if res == 0 :\n",
    "            res_before = result[res]\n",
    "            cnt = 1\n",
    "        # 직전 수보다 작으면 빈도 + 1\n",
    "        elif result[res] <= res_before:\n",
    "            cnt += 1\n",
    "        # 직전 수보다 크면 빈도 추가하고 다시 count\n",
    "        else :\n",
    "            res_before = result[res]\n",
    "            answer.append(cnt)\n",
    "            cnt = 1\n",
    "         # 끝 설정\n",
    "        if res == (len(result)-1) :\n",
    "            answer.append(cnt)\n",
    "    return answer"
   ]
  },
  {
   "cell_type": "code",
   "execution_count": 10,
   "metadata": {},
   "outputs": [
    {
     "name": "stdout",
     "output_type": "stream",
     "text": [
      "실행2! 2 2 9\n",
      "실행1! 2 1 9\n"
     ]
    },
    {
     "data": {
      "text/plain": [
       "[2, 1]"
      ]
     },
     "execution_count": 10,
     "metadata": {},
     "output_type": "execute_result"
    }
   ],
   "source": [
    "progresses = [93, 30, 55]\n",
    "speeds = [1, 30, 5]\n",
    "result = []\n",
    "for i in range(len(progresses)) :\n",
    "    temp_progress = progresses[i]\n",
    "    temp_speed = speeds[i]\n",
    "    if (100-temp_progress) % temp_speed == 0:\n",
    "        day = (100-temp_progress) // temp_speed\n",
    "    else :\n",
    "        day = ((100-temp_progress) // temp_speed) + 1\n",
    "    result.append(day)\n",
    "answer = []\n",
    "for res in range(len(result)) :\n",
    "    if res == 0 :\n",
    "        res_before = result[res]\n",
    "        cnt = 1\n",
    "    elif result[res] <= res_before:\n",
    "        cnt += 1\n",
    "    else :\n",
    "        res_before = result[res]\n",
    "        answer.append(cnt)\n",
    "        print('실행2!', res, cnt, result[res])\n",
    "        cnt = 1\n",
    "    \n",
    "    if res == (len(result)-1) :\n",
    "        answer.append(cnt)\n",
    "        print('실행1!', res, cnt, result[res])\n",
    "        \n",
    "answer"
   ]
  },
  {
   "cell_type": "code",
   "execution_count": 11,
   "metadata": {},
   "outputs": [
    {
     "data": {
      "text/plain": [
       "[7, 3, 9]"
      ]
     },
     "execution_count": 11,
     "metadata": {},
     "output_type": "execute_result"
    }
   ],
   "source": [
    "result"
   ]
  }
 ],
 "metadata": {
  "kernelspec": {
   "display_name": "pytorch",
   "language": "python",
   "name": "python3"
  },
  "language_info": {
   "codemirror_mode": {
    "name": "ipython",
    "version": 3
   },
   "file_extension": ".py",
   "mimetype": "text/x-python",
   "name": "python",
   "nbconvert_exporter": "python",
   "pygments_lexer": "ipython3",
   "version": "3.10.5"
  },
  "orig_nbformat": 4,
  "vscode": {
   "interpreter": {
    "hash": "334544a737ead5017040ac753f52220319955d2381f512ab105ce194db781c37"
   }
  }
 },
 "nbformat": 4,
 "nbformat_minor": 2
}
