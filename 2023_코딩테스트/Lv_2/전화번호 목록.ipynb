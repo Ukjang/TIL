{
 "cells": [
  {
   "cell_type": "code",
   "execution_count": 6,
   "metadata": {},
   "outputs": [
    {
     "data": {
      "text/plain": [
       "True"
      ]
     },
     "execution_count": 6,
     "metadata": {},
     "output_type": "execute_result"
    }
   ],
   "source": [
    "phone_book = [\"123\",\"456\",\"789\"]\n",
    "answer = True\n",
    "# 정렬하고 for문 in 돌리면 가능하지 않을까?\\\n",
    "phone_book.sort()\n",
    "for i in range(len(phone_book) - 1) :\n",
    "    for j in range(i+1, len(phone_book)) :\n",
    "        if phone_book[i] in phone_book[j] :\n",
    "            answer = False\n",
    "            print(phone_book[i], phone_book[j])\n",
    "            break\n",
    "answer"
   ]
  },
  {
   "cell_type": "code",
   "execution_count": null,
   "metadata": {},
   "outputs": [],
   "source": [
    "def solution(phone_book):\n",
    "    answer = True\n",
    "    # 문자정렬기에 접두어 전화번호라면 뒤에 수랑 비교만 하면 됨\n",
    "    phone_book.sort()\n",
    "    for i in range(len(phone_book)-1):\n",
    "        if phone_book[i] == phone_book[i+1][:len(phone_book[i])]:\n",
    "            answer = False\n",
    "            break\n",
    "    return answer"
   ]
  },
  {
   "cell_type": "code",
   "execution_count": null,
   "metadata": {},
   "outputs": [],
   "source": [
    "def solution(phone_book):\n",
    "    answer = True\n",
    "    # 길이에 따라 나눠서 리스트 만들고 set 처리 했을때 길이 변하면 끝?\n",
    "    # 같은 전화번호가 중복해서 들어있지 않습니다.\n",
    "    len_set = set([len(i) for i in phone_book])\n",
    "    phone_book.sort()\n",
    "    cont1 = True\n",
    "    for ls in len_set :\n",
    "        if cont1 == False :\n",
    "            break\n",
    "        before_list = [phone for phone in phone_book if len(phone) == ls ]\n",
    "        after_list = [phone[:ls] for phone in phone_book if len(phone) > ls ]\n",
    "        if after_list:\n",
    "            for bef in before_list :\n",
    "                if bef in after_list:\n",
    "                    answer = False\n",
    "                    cont1 = False\n",
    "                    break\n",
    "    return answer"
   ]
  },
  {
   "cell_type": "code",
   "execution_count": 12,
   "metadata": {},
   "outputs": [
    {
     "name": "stdout",
     "output_type": "stream",
     "text": [
      "['119', '114', '112', '123', '123']\n"
     ]
    },
    {
     "data": {
      "text/plain": [
       "False"
      ]
     },
     "execution_count": 12,
     "metadata": {},
     "output_type": "execute_result"
    }
   ],
   "source": [
    "phone_book = \t[\"119\", \"114\", \"112\", \"123223123\", \"1231231234\"]\n",
    "answer = True\n",
    "# 길이에 따라 나눠서 리스트 만들고 set 처리 했을때 길이 변하면 끝?\n",
    "len_set = set([len(i) for i in phone_book])\n",
    "for ls in len_set :\n",
    "    len_temp_set = [j[:ls] for j in phone_book]\n",
    "    if len(phone_book) != len(set(len_temp_set)) :\n",
    "        answer = False \n",
    "        print(len_temp_set)\n",
    "        break\n",
    "answer"
   ]
  },
  {
   "cell_type": "code",
   "execution_count": 6,
   "metadata": {},
   "outputs": [
    {
     "name": "stdout",
     "output_type": "stream",
     "text": [
      "1 {'12': 1, '123': 1, '1235': 1, '567': 1, '88': 1}\n",
      "12 {'12': 1, '123': 1, '1235': 1, '567': 1, '88': 1}\n",
      "1 {'12': 1, '123': 1, '1235': 1, '567': 1, '88': 1}\n",
      "12 {'12': 1, '123': 1, '1235': 1, '567': 1, '88': 1}\n"
     ]
    },
    {
     "data": {
      "text/plain": [
       "False"
      ]
     },
     "execution_count": 6,
     "metadata": {},
     "output_type": "execute_result"
    }
   ],
   "source": [
    "# 해시 풀이\n",
    "phone_book = [\"12\",\"123\",\"1235\",\"567\",\"88\"]\n",
    "answer = True\n",
    "fcont = True\n",
    "hash_map = {}\n",
    "for phone_number in phone_book:\n",
    "    hash_map[phone_number] = 1\n",
    "for phone_number in phone_book:\n",
    "    if fcont == False :\n",
    "        break\n",
    "    temp = \"\"\n",
    "    for number in phone_number:\n",
    "        temp += number\n",
    "        print(temp, hash_map)\n",
    "        if temp in hash_map and temp != phone_number:\n",
    "            answer = False\n",
    "            fcont = False\n",
    "            break\n",
    "answer"
   ]
  },
  {
   "cell_type": "code",
   "execution_count": 9,
   "metadata": {},
   "outputs": [
    {
     "data": {
      "text/plain": [
       "True"
      ]
     },
     "execution_count": 9,
     "metadata": {},
     "output_type": "execute_result"
    }
   ],
   "source": [
    "'123' in hash_map"
   ]
  }
 ],
 "metadata": {
  "kernelspec": {
   "display_name": "Python 3",
   "language": "python",
   "name": "python3"
  },
  "language_info": {
   "codemirror_mode": {
    "name": "ipython",
    "version": 3
   },
   "file_extension": ".py",
   "mimetype": "text/x-python",
   "name": "python",
   "nbconvert_exporter": "python",
   "pygments_lexer": "ipython3",
   "version": "3.8.10"
  },
  "orig_nbformat": 4,
  "vscode": {
   "interpreter": {
    "hash": "e3ada8b426290dd76767ba6368ea690ca67a7a436b12c3cf567e5cb72f89ca03"
   }
  }
 },
 "nbformat": 4,
 "nbformat_minor": 2
}
