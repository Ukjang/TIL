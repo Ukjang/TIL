{
 "cells": [
  {
   "cell_type": "code",
   "execution_count": null,
   "metadata": {},
   "outputs": [],
   "source": [
    "def solution(s):\n",
    "    # s가 1이 될때까지 계속 -> while 문\n",
    "    # 이진 변환\n",
    "    # 변환 횟수와 0의 개수\n",
    "    cnt_zero = 0\n",
    "    cnt_stage = 0\n",
    "    while True :\n",
    "        if s == '1' :\n",
    "            break\n",
    "        num_zero = s.count('0')\n",
    "        cnt_zero += num_zero\n",
    "        s = s.replace('0', '')\n",
    "        s_len = len(s)\n",
    "        result = ''\n",
    "        while True:\n",
    "            s_div = s_len // 2\n",
    "            s_rem = s_len % 2\n",
    "            result = str(s_rem) + result\n",
    "            if s_div == 0 :\n",
    "                break\n",
    "            s_len = s_div\n",
    "        s = result\n",
    "        cnt_stage += 1\n",
    "    return [cnt_stage, cnt_zero]"
   ]
  }
 ],
 "metadata": {
  "language_info": {
   "name": "python"
  },
  "orig_nbformat": 4
 },
 "nbformat": 4,
 "nbformat_minor": 2
}
