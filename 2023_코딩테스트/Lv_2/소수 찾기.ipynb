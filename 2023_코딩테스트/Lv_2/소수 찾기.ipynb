{
 "cells": [
  {
   "cell_type": "code",
   "execution_count": null,
   "metadata": {},
   "outputs": [],
   "source": [
    "from itertools import permutations\n",
    "def solution(numbers):\n",
    "    nm_list = list(numbers)\n",
    "    result = []\n",
    "    from itertools import permutations\n",
    "    for le in range(1, len(nm_list) + 1):\n",
    "        temp_len = le\n",
    "        per_list = permutations(nm_list,temp_len)\n",
    "        for li in per_list:\n",
    "            temp_str = ''\n",
    "            for i in range(temp_len):\n",
    "                temp_str += li[i]\n",
    "            result.append(str(int(temp_str)))\n",
    "    # 세트 처리\n",
    "    result = set(result)\n",
    "    # 소수 계산\n",
    "    answer = 0\n",
    "    for res in result :\n",
    "        res= int(res)\n",
    "        if res <= 1 : \n",
    "            pass\n",
    "        elif res == 2:\n",
    "            answer += 1\n",
    "        else :\n",
    "            for nm in range(2, int((res)//2) + 1) :\n",
    "                if res % nm == 0:\n",
    "                    break\n",
    "            else :\n",
    "                answer += 1\n",
    "    return answer"
   ]
  },
  {
   "cell_type": "code",
   "execution_count": 25,
   "metadata": {},
   "outputs": [
    {
     "data": {
      "text/plain": [
       "2"
      ]
     },
     "execution_count": 25,
     "metadata": {},
     "output_type": "execute_result"
    }
   ],
   "source": [
    "numbers = '17'\n",
    "numbers = '011'\n",
    "nm_list = list(numbers)\n",
    "result = []\n",
    "from itertools import permutations\n",
    "for le in range(1, len(nm_list) + 1):\n",
    "    temp_len = le\n",
    "    per_list = permutations(nm_list,temp_len)\n",
    "    for li in per_list:\n",
    "        temp_str = ''\n",
    "        for i in range(temp_len):\n",
    "            temp_str += li[i]\n",
    "        result.append(str(int(temp_str)))\n",
    "# 세트 처리\n",
    "result = set(result)\n",
    "# 소수 계산\n",
    "answer = 0\n",
    "for res in result :\n",
    "    res= int(res)\n",
    "    if res <= 1 : \n",
    "        pass\n",
    "    elif res == 2:\n",
    "        answer += 1\n",
    "    else :\n",
    "        for nm in range(2, int((res)//2) + 1) :\n",
    "            if res % nm == 0:\n",
    "                break\n",
    "        else :\n",
    "            answer += 1\n",
    "answer"
   ]
  }
 ],
 "metadata": {
  "kernelspec": {
   "display_name": "Python 3",
   "language": "python",
   "name": "python3"
  },
  "language_info": {
   "codemirror_mode": {
    "name": "ipython",
    "version": 3
   },
   "file_extension": ".py",
   "mimetype": "text/x-python",
   "name": "python",
   "nbconvert_exporter": "python",
   "pygments_lexer": "ipython3",
   "version": "3.8.10"
  },
  "orig_nbformat": 4,
  "vscode": {
   "interpreter": {
    "hash": "e3ada8b426290dd76767ba6368ea690ca67a7a436b12c3cf567e5cb72f89ca03"
   }
  }
 },
 "nbformat": 4,
 "nbformat_minor": 2
}
