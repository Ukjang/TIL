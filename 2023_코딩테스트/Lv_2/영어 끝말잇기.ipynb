{
 "cells": [
  {
   "cell_type": "code",
   "execution_count": null,
   "metadata": {},
   "outputs": [],
   "source": [
    "def solution(n, words):\n",
    "    # 마지막 사람이 단어를 말한 다음에는 다시 1번부터 시작합니다.\n",
    "    # 앞사람이 말한 단어의 마지막 문자로 시작하는 단어를 말해야 합니다.\n",
    "    # 이전에 등장했던 단어는 사용할 수 없습니다.\n",
    "    # 한 글자인 단어는 인정되지 않습니다 -> 단어의 길이는 2 이상 50 이하입니다.\n",
    "    # 인덱스 번호 받아서 순서 검증 및 n 으로 나머지 구하기\n",
    "    # 만약 주어진 단어들로 탈락자가 생기지 않는다면, [0, 0]을 return 해주세요.\n",
    "    word_list = []\n",
    "    str_last = '0'\n",
    "    for idx , word in enumerate(words) :\n",
    "        if (str_last == '0') or (word[0] == str_last) :\n",
    "            str_last = word[-1]\n",
    "            if word in word_list :\n",
    "                return (idx % n) + 1, (idx // n) + 1, \n",
    "            else :\n",
    "                word_list.append(word)\n",
    "        else :\n",
    "            return (idx % n) + 1 , (idx // n) + 1\n",
    "    else :\n",
    "        return [0,0]"
   ]
  }
 ],
 "metadata": {
  "language_info": {
   "name": "python"
  },
  "orig_nbformat": 4
 },
 "nbformat": 4,
 "nbformat_minor": 2
}
