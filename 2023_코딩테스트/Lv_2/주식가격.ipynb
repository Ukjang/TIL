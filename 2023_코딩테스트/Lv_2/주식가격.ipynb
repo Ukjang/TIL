{
 "cells": [
  {
   "cell_type": "code",
   "execution_count": null,
   "metadata": {},
   "outputs": [],
   "source": [
    "def solution(prices):\n",
    "    answer = [0] * len(prices)\n",
    "    for i in range(len(prices)) :\n",
    "        for j in range(i+1, len(prices)) :\n",
    "            if prices[i] <= prices[j] :\n",
    "                answer[i] += 1\n",
    "            else :\n",
    "                answer[i] += 1\n",
    "                break\n",
    "    return answer"
   ]
  }
 ],
 "metadata": {
  "language_info": {
   "name": "python"
  },
  "orig_nbformat": 4
 },
 "nbformat": 4,
 "nbformat_minor": 2
}
