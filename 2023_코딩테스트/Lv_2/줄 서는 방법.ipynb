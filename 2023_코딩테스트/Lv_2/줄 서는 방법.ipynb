{
 "cells": [
  {
   "cell_type": "code",
   "execution_count": 10,
   "metadata": {},
   "outputs": [
    {
     "data": {
      "text/plain": [
       "(3, 1, 2)"
      ]
     },
     "execution_count": 10,
     "metadata": {},
     "output_type": "execute_result"
    }
   ],
   "source": [
    "import math\n",
    "def solution(n, k):\n",
    "    # 해당되는 값의 개수는 factorial\n",
    "    # 하나씩 찾아가면 되고 사용한 숫자는 리스트에서 제거\n",
    "    answer = [i for i in range(1, n+1)]\n",
    "    stack = []\n",
    "    # 0번쨰 부터로 변경\n",
    "    k -= 1\n",
    "    # 모든 숫자 배치가 들어가야 함\n",
    "    while answer:\n",
    "        a = k // math.factorial(n-1)\n",
    "        stack.append(answer[a])\n",
    "        del answer[a]\n",
    "        \n",
    "        k = k % math.factorial(n-1)\n",
    "        n -= 1\n",
    "    return stack"
   ]
  }
 ],
 "metadata": {
  "kernelspec": {
   "display_name": "Python 3",
   "language": "python",
   "name": "python3"
  },
  "language_info": {
   "codemirror_mode": {
    "name": "ipython",
    "version": 3
   },
   "file_extension": ".py",
   "mimetype": "text/x-python",
   "name": "python",
   "nbconvert_exporter": "python",
   "pygments_lexer": "ipython3",
   "version": "3.8.10 (tags/v3.8.10:3d8993a, May  3 2021, 11:48:03) [MSC v.1928 64 bit (AMD64)]"
  },
  "orig_nbformat": 4,
  "vscode": {
   "interpreter": {
    "hash": "e3ada8b426290dd76767ba6368ea690ca67a7a436b12c3cf567e5cb72f89ca03"
   }
  }
 },
 "nbformat": 4,
 "nbformat_minor": 2
}
