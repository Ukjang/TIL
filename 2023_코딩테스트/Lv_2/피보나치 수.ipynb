{
 "cells": [
  {
   "cell_type": "code",
   "execution_count": null,
   "metadata": {},
   "outputs": [],
   "source": [
    "def solution(n):\n",
    "    # n번째 피보나치 수를 1234567으로 나눈 나머지를 리턴하는 함수\n",
    "    answer = []\n",
    "    for i in range(n+1):\n",
    "        if i == 0 :\n",
    "            answer.append(0)\n",
    "        elif i == 1 :\n",
    "            answer.append(1)\n",
    "        else :\n",
    "            answer.append((answer[-1] + answer[-2]) % 1234567)\n",
    "    return answer[-1]"
   ]
  }
 ],
 "metadata": {
  "language_info": {
   "name": "python"
  },
  "orig_nbformat": 4
 },
 "nbformat": 4,
 "nbformat_minor": 2
}
