{
 "cells": [
  {
   "cell_type": "code",
   "execution_count": 17,
   "metadata": {},
   "outputs": [
    {
     "data": {
      "text/plain": [
       "[2, 1, 3, 4]"
      ]
     },
     "execution_count": 17,
     "metadata": {},
     "output_type": "execute_result"
    }
   ],
   "source": [
    "s = \"{{4,2,3},{3},{2,3,4,1},{2,3}}\"\n",
    "s = \"{{1,2,3},{2,1},{1,2,4,3},{2}}\"\n",
    "s = '[' + s[1:-1] + ']'\n",
    "answer= []\n",
    "s_list = eval(s)\n",
    "s_list.sort()\n",
    "for st1 in s_list :\n",
    "    temp = list(st1)\n",
    "    for st2 in st1 :\n",
    "        if st2 not in answer :\n",
    "            answer.append(st2)\n",
    "answer"
   ]
  },
  {
   "cell_type": "code",
   "execution_count": 24,
   "metadata": {},
   "outputs": [
    {
     "data": {
      "text/plain": [
       "[3, 2, 4, 1]"
      ]
     },
     "execution_count": 24,
     "metadata": {},
     "output_type": "execute_result"
    }
   ],
   "source": [
    "import re\n",
    "from collections import Counter\n",
    "s = \"{{4,2,3},{3},{2,3,4,1},{2,3}}\"\n",
    "s = Counter(re.findall('\\d+', s))\n",
    "[int(k) for k, v in sorted(s.items(), key=lambda x : x[1], reverse=True)]"
   ]
  },
  {
   "cell_type": "code",
   "execution_count": 25,
   "metadata": {},
   "outputs": [
    {
     "data": {
      "text/plain": [
       "['4', '2', '3', '3', '2', '3', '4', '1', '2', '3']"
      ]
     },
     "execution_count": 25,
     "metadata": {},
     "output_type": "execute_result"
    }
   ],
   "source": [
    "s = \"{{4,2,3},{3},{2,3,4,1},{2,3}}\"\n",
    "re.findall('\\d+', s)"
   ]
  }
 ],
 "metadata": {
  "kernelspec": {
   "display_name": "Python 3",
   "language": "python",
   "name": "python3"
  },
  "language_info": {
   "codemirror_mode": {
    "name": "ipython",
    "version": 3
   },
   "file_extension": ".py",
   "mimetype": "text/x-python",
   "name": "python",
   "nbconvert_exporter": "python",
   "pygments_lexer": "ipython3",
   "version": "3.8.10"
  },
  "orig_nbformat": 4,
  "vscode": {
   "interpreter": {
    "hash": "e3ada8b426290dd76767ba6368ea690ca67a7a436b12c3cf567e5cb72f89ca03"
   }
  }
 },
 "nbformat": 4,
 "nbformat_minor": 2
}
