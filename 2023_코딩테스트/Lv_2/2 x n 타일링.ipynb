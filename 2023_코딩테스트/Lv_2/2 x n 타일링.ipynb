{
 "cells": [
  {
   "cell_type": "code",
   "execution_count": null,
   "metadata": {},
   "outputs": [],
   "source": [
    "def solution(n):\n",
    "    # 피보나치 수열인듯?\n",
    "    answer = []\n",
    "    for i in range(1, n+1) :\n",
    "        if i == 1 :\n",
    "            answer.append(1)\n",
    "        elif i == 2:\n",
    "            answer.append(2)\n",
    "        else :\n",
    "            answer.append((answer[-2] + answer[-1])% 1000000007)\n",
    "    # 경우의 수가 많아 질 수 있으므로, 경우의 수를 1,000,000,007으로 나눈 나머지를 return해주세요.\n",
    "    return answer[-1] "
   ]
  }
 ],
 "metadata": {
  "language_info": {
   "name": "python"
  },
  "orig_nbformat": 4
 },
 "nbformat": 4,
 "nbformat_minor": 2
}
