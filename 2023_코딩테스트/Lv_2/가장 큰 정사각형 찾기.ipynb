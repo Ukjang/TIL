{
 "cells": [
  {
   "cell_type": "code",
   "execution_count": null,
   "metadata": {},
   "outputs": [],
   "source": [
    "def solution(board):\n",
    "    # 동적 프로그래밍! 4칸기준으로 좌 우 좌상 최소값 +1 이 최대 정사각형 개수\n",
    "    # 첫쨰줄은 미리 값을 줘야함!\n",
    "    dp = [[0]*len(board[0]) for _ in range(len(board))]\n",
    "    dp[0] = board[0]\n",
    "    for i in range(1, len(board)):\n",
    "        dp[i][0] = board[i][0]\n",
    "    \n",
    "    for leng in range(1, len(board)):\n",
    "        for wid in range(1,len(board[0])) :\n",
    "            if board[leng][wid] == 1 :\n",
    "                dp[leng][wid] = min(dp[leng-1][wid], dp[leng-1][wid-1], dp[leng][wid-1]) + 1\n",
    "            \n",
    "    # 각 열별 최대값 검증\n",
    "    temp = 0\n",
    "    for leng2 in range(len(board)) :\n",
    "        temp = max(temp, max(dp[leng2]))\n",
    "    return temp ** 2"
   ]
  }
 ],
 "metadata": {
  "language_info": {
   "name": "python"
  },
  "orig_nbformat": 4
 },
 "nbformat": 4,
 "nbformat_minor": 2
}
