{
 "cells": [
  {
   "cell_type": "code",
   "execution_count": 10,
   "metadata": {},
   "outputs": [
    {
     "data": {
      "text/plain": [
       "2"
      ]
     },
     "execution_count": 10,
     "metadata": {},
     "output_type": "execute_result"
    }
   ],
   "source": [
    "n = 437674\n",
    "k = 3\n",
    "n = 110011\n",
    "k = 10\n",
    "answer = 0\n",
    "temp = ''\n",
    "while True :\n",
    "    n_div = n // k\n",
    "    n_rem = n % k\n",
    "    temp = str(n_rem) + temp\n",
    "    if n_div == 0 :\n",
    "        break\n",
    "    n = n_div\n",
    "temp\n",
    "\n",
    "nm_list = temp.split('0')\n",
    "nm_list = [nm for nm in nm_list if nm != '']\n",
    "for nm in nm_list :\n",
    "    nm = int(nm)\n",
    "    if nm == 1 :\n",
    "        pass\n",
    "    elif nm == 2:\n",
    "        answer += 1\n",
    "    else :\n",
    "        for i in range(2, int(nm **(1/2)) +1) :\n",
    "            if nm  % i == 0 :\n",
    "                break\n",
    "        else :\n",
    "            answer += 1\n",
    "answer"
   ]
  },
  {
   "cell_type": "code",
   "execution_count": null,
   "metadata": {},
   "outputs": [],
   "source": [
    "def solution(n, k):\n",
    "    answer = 0\n",
    "    temp = ''\n",
    "    # k진법 수 구하기\n",
    "    while True :\n",
    "        n_div = n // k\n",
    "        n_rem = n % k\n",
    "        temp = str(n_rem) + temp\n",
    "        if n_div == 0 :\n",
    "            break\n",
    "        n = n_div\n",
    "    # 0 기준으로 숫자 후보 산출\n",
    "    nm_list = temp.split('0')\n",
    "    # 0이 연속으로 나와 '' 경우 제거\n",
    "    nm_list = [nm for nm in nm_list if nm != '']\n",
    "    for nm in nm_list :\n",
    "        nm = int(nm)\n",
    "        if nm == 1 :\n",
    "            pass\n",
    "        elif nm == 2:\n",
    "            answer += 1\n",
    "        else :\n",
    "            for i in range(2, int(nm **(1/2)) +1) :\n",
    "                if nm  % i == 0 :\n",
    "                    break\n",
    "            else :\n",
    "                answer += 1\n",
    "    return answer"
   ]
  },
  {
   "cell_type": "code",
   "execution_count": 9,
   "metadata": {},
   "outputs": [
    {
     "data": {
      "text/plain": [
       "'110011'"
      ]
     },
     "execution_count": 9,
     "metadata": {},
     "output_type": "execute_result"
    }
   ],
   "source": [
    "temp"
   ]
  },
  {
   "cell_type": "code",
   "execution_count": 8,
   "metadata": {},
   "outputs": [
    {
     "data": {
      "text/plain": [
       "['11', '', '11']"
      ]
     },
     "execution_count": 8,
     "metadata": {},
     "output_type": "execute_result"
    }
   ],
   "source": [
    "nm_list"
   ]
  }
 ],
 "metadata": {
  "kernelspec": {
   "display_name": "pytorch",
   "language": "python",
   "name": "python3"
  },
  "language_info": {
   "codemirror_mode": {
    "name": "ipython",
    "version": 3
   },
   "file_extension": ".py",
   "mimetype": "text/x-python",
   "name": "python",
   "nbconvert_exporter": "python",
   "pygments_lexer": "ipython3",
   "version": "3.10.5"
  },
  "orig_nbformat": 4,
  "vscode": {
   "interpreter": {
    "hash": "334544a737ead5017040ac753f52220319955d2381f512ab105ce194db781c37"
   }
  }
 },
 "nbformat": 4,
 "nbformat_minor": 2
}
