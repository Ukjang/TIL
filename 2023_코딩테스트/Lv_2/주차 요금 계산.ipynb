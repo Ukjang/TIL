{
 "cells": [
  {
   "cell_type": "code",
   "execution_count": 27,
   "metadata": {},
   "outputs": [
    {
     "data": {
      "text/plain": [
       "[0, 591]"
      ]
     },
     "execution_count": 27,
     "metadata": {},
     "output_type": "execute_result"
    }
   ],
   "source": [
    "records = [\"05:34 5961 IN\", \"06:00 0000 IN\", \"06:34 0000 OUT\", \"07:59 5961 OUT\", \"07:59 0148 IN\", \"18:59 0000 IN\", \"19:09 0148 OUT\", \"22:59 5961 IN\", \"23:00 5961 OUT\"]\n",
    "fees = [180, 5000, 10, 600]\n",
    "records = [\"16:00 3961 IN\",\"16:00 0202 IN\",\"18:00 3961 OUT\",\"18:00 0202 OUT\",\"23:58 3961 IN\"]\n",
    "fees = [120, 0, 60, 591]\n",
    "# sort_records = sorted(records, key=lambda x : int(x.split(' ')[1]))\n",
    "import numpy as np\n",
    "base_time = fees[0]\n",
    "base_fee = fees[1]\n",
    "per_time = fees[2]\n",
    "per_fee =  fees[3]\n",
    "answer = {}\n",
    "record_dict = {}\n",
    "temp_number = ''\n",
    "temp_status = ''\n",
    "for nm, record in enumerate(records) :\n",
    "    time, car_number, status = record.split(' ')\n",
    "    time_list =  time.split(':')\n",
    "    # 시간 분 계산\n",
    "    time_sum = 60*(int(time_list[0])) + int(time_list[1])\n",
    "    # 입차된경우\n",
    "    if status == 'IN':\n",
    "        record_dict[car_number] = time_sum\n",
    "    # 출차된 경우\n",
    "    elif status == 'OUT':\n",
    "        fee_time = time_sum - record_dict[car_number]\n",
    "        try :\n",
    "            answer[car_number] = answer[car_number] + fee_time\n",
    "        except :\n",
    "            answer[car_number] = fee_time\n",
    "        # 계산한 차량번호 삭제\n",
    "        del record_dict[car_number]\n",
    "    \n",
    "# 남은 차량번호 시간 계산\n",
    "for rest_nm in record_dict.keys():\n",
    "    sum_fee = (60*23 + 59) - record_dict[rest_nm]\n",
    "    try :\n",
    "        answer[rest_nm] = answer[rest_nm] + sum_fee\n",
    "    except :\n",
    "        answer[rest_nm] = sum_fee\n",
    "result = []\n",
    "# 요금 계산\n",
    "fee_time_list = [val for _, val in sorted(answer.items(), key=lambda x : int(x[0]))]\n",
    "for ft in fee_time_list:\n",
    "    if ft > base_time :\n",
    "        temp_sum = base_fee + (np.ceil((ft-base_time) / per_time) * per_fee)\n",
    "    else :\n",
    "        temp_sum = base_fee\n",
    "    result.append(int(temp_sum))\n",
    "result   \n",
    "   \n"
   ]
  },
  {
   "cell_type": "code",
   "execution_count": 15,
   "metadata": {},
   "outputs": [
    {
     "data": {
      "text/plain": [
       "{'0000': 334, '5961': 146, '0148': 670}"
      ]
     },
     "execution_count": 15,
     "metadata": {},
     "output_type": "execute_result"
    }
   ],
   "source": [
    "answer"
   ]
  },
  {
   "cell_type": "code",
   "execution_count": 16,
   "metadata": {},
   "outputs": [
    {
     "data": {
      "text/plain": [
       "[334, 670, 146]"
      ]
     },
     "execution_count": 16,
     "metadata": {},
     "output_type": "execute_result"
    }
   ],
   "source": [
    "fee_time_list"
   ]
  }
 ],
 "metadata": {
  "kernelspec": {
   "display_name": "pytorch",
   "language": "python",
   "name": "python3"
  },
  "language_info": {
   "codemirror_mode": {
    "name": "ipython",
    "version": 3
   },
   "file_extension": ".py",
   "mimetype": "text/x-python",
   "name": "python",
   "nbconvert_exporter": "python",
   "pygments_lexer": "ipython3",
   "version": "3.10.5"
  },
  "orig_nbformat": 4,
  "vscode": {
   "interpreter": {
    "hash": "334544a737ead5017040ac753f52220319955d2381f512ab105ce194db781c37"
   }
  }
 },
 "nbformat": 4,
 "nbformat_minor": 2
}
