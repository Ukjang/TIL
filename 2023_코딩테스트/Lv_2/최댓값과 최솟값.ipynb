{
 "cells": [
  {
   "cell_type": "code",
   "execution_count": null,
   "metadata": {},
   "outputs": [],
   "source": [
    "def solution(s):\n",
    "    # 공백 기준으로 split\n",
    "    # 마이너스 인경우 -1 곱해줘서 리스트 만들고 최대 최소 산출\n",
    "    s_list = s.split(' ')\n",
    "    result = []\n",
    "    for st in s_list :\n",
    "        if st[0] == '-':\n",
    "            result.append(-1*(int(st[1:])))\n",
    "        else :\n",
    "            result.append(int(st))\n",
    "    return str(min(result)) + ' ' + str(max(result))"
   ]
  }
 ],
 "metadata": {
  "kernelspec": {
   "display_name": "Python 3",
   "language": "python",
   "name": "python3"
  },
  "language_info": {
   "codemirror_mode": {
    "name": "ipython",
    "version": 3
   },
   "file_extension": ".py",
   "mimetype": "text/x-python",
   "name": "python",
   "nbconvert_exporter": "python",
   "pygments_lexer": "ipython3",
   "version": "3.8.10"
  },
  "orig_nbformat": 4,
  "vscode": {
   "interpreter": {
    "hash": "e3ada8b426290dd76767ba6368ea690ca67a7a436b12c3cf567e5cb72f89ca03"
   }
  }
 },
 "nbformat": 4,
 "nbformat_minor": 2
}
