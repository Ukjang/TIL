{
 "cells": [
  {
   "cell_type": "code",
   "execution_count": null,
   "metadata": {},
   "outputs": [],
   "source": [
    "# 카운터 사용하는게 훨씬 빠름!\n",
    "from collections import Counter\n",
    "def solution(k, tangerine):\n",
    "    # 종류별 개수 개산하고 리스트 계산\n",
    "    # 리스트 내림차순 배열\n",
    "    count = Counter(tangerine)\n",
    "    s_count = sorted(list(count.values()), reverse=True)\n",
    "    temp_sum = 0\n",
    "    answer = 0\n",
    "    for res in s_count :\n",
    "        if (temp_sum + res) >= k :\n",
    "            answer += 1\n",
    "            break\n",
    "        elif (temp_sum + res) < k :\n",
    "            answer += 1\n",
    "            temp_sum += res\n",
    "\n",
    "    return answer"
   ]
  }
 ],
 "metadata": {
  "language_info": {
   "name": "python"
  },
  "orig_nbformat": 4
 },
 "nbformat": 4,
 "nbformat_minor": 2
}
