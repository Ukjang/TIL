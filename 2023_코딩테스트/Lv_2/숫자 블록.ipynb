{
 "cells": [
  {
   "cell_type": "code",
   "execution_count": 4,
   "metadata": {},
   "outputs": [],
   "source": [
    "def solution(begin, end):\n",
    "    answer = []\n",
    "    # end 지점의 //2 만큼 반복을 진행\n",
    "    # 약수중에 자신 빼고 가장 큰 약수 인듯...?\n",
    "    for i in range(begin, end + 1):\n",
    "        temp = 1\n",
    "        # 첫번째 블록 디버깅\n",
    "        if i == 1 :\n",
    "            temp = 0 \n",
    "        elif i <= 3:\n",
    "            pass\n",
    "        else :\n",
    "            for j in range(2, int(i **(1/2))+1) :\n",
    "                # 10,000,000번 블록까지 위의 규칙으로 모두 놓았습니다.\n",
    "                # 몫에 제한값을 줘야 제대로 나옴....\n",
    "                if i % j == 0 and i // j <= 10000000:\n",
    "                    temp = i // j\n",
    "                    break\n",
    "        # 두번째로 큰수 리턴\n",
    "        answer.append(temp)\n",
    "    return answer"
   ]
  }
 ],
 "metadata": {
  "kernelspec": {
   "display_name": "Python 3",
   "language": "python",
   "name": "python3"
  },
  "language_info": {
   "codemirror_mode": {
    "name": "ipython",
    "version": 3
   },
   "file_extension": ".py",
   "mimetype": "text/x-python",
   "name": "python",
   "nbconvert_exporter": "python",
   "pygments_lexer": "ipython3",
   "version": "3.8.10 (tags/v3.8.10:3d8993a, May  3 2021, 11:48:03) [MSC v.1928 64 bit (AMD64)]"
  },
  "orig_nbformat": 4,
  "vscode": {
   "interpreter": {
    "hash": "e3ada8b426290dd76767ba6368ea690ca67a7a436b12c3cf567e5cb72f89ca03"
   }
  }
 },
 "nbformat": 4,
 "nbformat_minor": 2
}
