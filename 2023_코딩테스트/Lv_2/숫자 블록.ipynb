{
 "cells": [
  {
   "cell_type": "code",
   "execution_count": 1,
   "metadata": {},
   "outputs": [],
   "source": [
    "list1 = [1, 2, 3, 4]"
   ]
  },
  {
   "cell_type": "code",
   "execution_count": 4,
   "metadata": {},
   "outputs": [],
   "source": [
    "def solution(begin, end):\n",
    "    answer = []\n",
    "    # end 지점의 //2 만큼 반복을 진행\n",
    "    # 약수중에 자신 빼고 가장 큰 약수 인듯...?\n",
    "    for i in range(begin, end + 1):\n",
    "        temp = 0\n",
    "        # 첫번째 블록 디버깅\n",
    "        if i == 1 :\n",
    "            answer.append(0)\n",
    "        elif i <= 3:\n",
    "            answer.append(1)\n",
    "        else :\n",
    "            for j in range(2, int(i **(1/2))+1) :\n",
    "                if i % j == 0:\n",
    "                    temp = j\n",
    "            else :\n",
    "                temp = 1\n",
    "        # 두번째로 큰수 리턴\n",
    "            answer.append(temp)\n",
    "    return answer"
   ]
  },
  {
   "cell_type": "code",
   "execution_count": 11,
   "metadata": {},
   "outputs": [
    {
     "name": "stdout",
     "output_type": "stream",
     "text": [
      "1 0 [0]\n",
      "2 0 [0, 1]\n",
      "3 0 [0, 1, 1]\n",
      "4 2 [0, 1, 1, 2]\n",
      "2 1 0\n",
      "5 1 [0, 1, 1, 2, 1]\n",
      "6 3 [0, 1, 1, 2, 1, 3]\n",
      "2 1 0\n",
      "7 1 [0, 1, 1, 2, 1, 3, 1]\n",
      "8 4 [0, 1, 1, 2, 1, 3, 1, 4]\n",
      "2 1 0\n",
      "9 3 [0, 1, 1, 2, 1, 3, 1, 4, 3]\n",
      "10 5 [0, 1, 1, 2, 1, 3, 1, 4, 3, 5]\n"
     ]
    },
    {
     "data": {
      "text/plain": [
       "[0, 1, 1, 2, 1, 3, 1, 4, 3, 5]"
      ]
     },
     "execution_count": 11,
     "metadata": {},
     "output_type": "execute_result"
    }
   ],
   "source": [
    "begin = 1 \n",
    "end = 10\n",
    "answer = []\n",
    "# end 지점의 //2 만큼 반복을 진행\n",
    "# 약수중에 자신 빼고 가장 큰 약수 인듯...?\n",
    "for i in range(begin, end + 1):\n",
    "    temp = 0\n",
    "    # 첫번째 블록 디버깅\n",
    "    if i == 1 :\n",
    "        answer.append(0)\n",
    "    elif i <= 3:\n",
    "        answer.append(1)\n",
    "    else :\n",
    "        for j in range(2, int(i **(1/2))+1) :\n",
    "            if i % j == 0:\n",
    "                temp = i // j\n",
    "                break\n",
    "            print(j, i%j, temp)\n",
    "        else :\n",
    "            temp = 1\n",
    "    # 두번째로 큰수 리턴\n",
    "        answer.append(temp)\n",
    "    print(i, temp, answer)\n",
    "answer"
   ]
  }
 ],
 "metadata": {
  "kernelspec": {
   "display_name": "Python 3",
   "language": "python",
   "name": "python3"
  },
  "language_info": {
   "codemirror_mode": {
    "name": "ipython",
    "version": 3
   },
   "file_extension": ".py",
   "mimetype": "text/x-python",
   "name": "python",
   "nbconvert_exporter": "python",
   "pygments_lexer": "ipython3",
   "version": "3.8.10"
  },
  "orig_nbformat": 4,
  "vscode": {
   "interpreter": {
    "hash": "e3ada8b426290dd76767ba6368ea690ca67a7a436b12c3cf567e5cb72f89ca03"
   }
  }
 },
 "nbformat": 4,
 "nbformat_minor": 2
}
