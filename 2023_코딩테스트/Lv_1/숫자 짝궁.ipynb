{
 "cells": [
  {
   "cell_type": "code",
   "execution_count": 1,
   "metadata": {},
   "outputs": [],
   "source": [
    "def solution(X, Y):\n",
    "    # 양쪽 해당숫자 카운트 해서 리턴\n",
    "    answer = ''\n",
    "    setx  = set([ stx for stx in X])\n",
    "    sety = set([ sty for sty in Y])\n",
    "    for i in setx:\n",
    "        if i in sety :\n",
    "        # 두개의 숫자중 작은거 리턴\n",
    "            cnt = min(X.count(i), Y.count(i))\n",
    "            if cnt != 0 :\n",
    "                answer += i * cnt\n",
    "    if answer == '':\n",
    "        return '-1'\n",
    "    # 리스트에 넣은다음 정렬해서 조인\n",
    "    else :\n",
    "        result = [st for st in answer]\n",
    "        result.sort(reverse=True)\n",
    "        return str(int(''.join(result)))"
   ]
  },
  {
   "cell_type": "code",
   "execution_count": null,
   "metadata": {},
   "outputs": [],
   "source": [
    "# 정답\n",
    "def solution(X, Y):\n",
    "    # 양쪽 해당숫자 카운트 해서 리턴\n",
    "    answer = ''\n",
    "    for i in range(9,-1,-1) :\n",
    "        # 두개의 숫자중 작은거 리턴\n",
    "        answer += str(i) * min(X.count(str(i)), Y.count(str(i)))\n",
    "    if answer == '':\n",
    "        return '-1'\n",
    "    # answer int, str 변환 말고 0에 대한 디버깅을 해야 시간복잡도 통과함\n",
    "    elif len(answer) == answer.count('0'):\n",
    "        return '0'\n",
    "    # 리스트에 넣은다음 정렬해서 조인\n",
    "    else :\n",
    "        return answer"
   ]
  },
  {
   "cell_type": "code",
   "execution_count": 11,
   "metadata": {},
   "outputs": [
    {
     "data": {
      "text/plain": [
       "'0'"
      ]
     },
     "execution_count": 11,
     "metadata": {},
     "output_type": "execute_result"
    }
   ],
   "source": [
    "X = \"100\"\n",
    "Y = \"203045\"\n",
    "answer = ''\n",
    "for i in set([ stx for stx in X]):\n",
    "    # 두개의 숫자중 작은거 리턴\n",
    "    cnt = min(X.count(i), Y.count(i))\n",
    "    if cnt != 0 :\n",
    "        answer += i * cnt\n",
    "if answer == '':\n",
    "    result =  '-1'\n",
    "# 리스트에 넣은다음 정렬해서 조인\n",
    "else :\n",
    "    result= ''.join(list(reversed([st for st in answer])))\n",
    "str(int(result))"
   ]
  },
  {
   "cell_type": "code",
   "execution_count": 8,
   "metadata": {},
   "outputs": [
    {
     "data": {
      "text/plain": [
       "['2', '1', '3']"
      ]
     },
     "execution_count": 8,
     "metadata": {},
     "output_type": "execute_result"
    }
   ],
   "source": [
    "[st for st in answer]"
   ]
  },
  {
   "cell_type": "code",
   "execution_count": 7,
   "metadata": {},
   "outputs": [
    {
     "data": {
      "text/plain": [
       "['3', '1', '2']"
      ]
     },
     "execution_count": 7,
     "metadata": {},
     "output_type": "execute_result"
    }
   ],
   "source": [
    "list(reversed([st for st in answer]))"
   ]
  },
  {
   "cell_type": "code",
   "execution_count": 5,
   "metadata": {},
   "outputs": [
    {
     "data": {
      "text/plain": [
       "'12321'"
      ]
     },
     "execution_count": 5,
     "metadata": {},
     "output_type": "execute_result"
    }
   ],
   "source": [
    "answer"
   ]
  }
 ],
 "metadata": {
  "kernelspec": {
   "display_name": "Python 3",
   "language": "python",
   "name": "python3"
  },
  "language_info": {
   "codemirror_mode": {
    "name": "ipython",
    "version": 3
   },
   "file_extension": ".py",
   "mimetype": "text/x-python",
   "name": "python",
   "nbconvert_exporter": "python",
   "pygments_lexer": "ipython3",
   "version": "3.8.10"
  },
  "orig_nbformat": 4,
  "vscode": {
   "interpreter": {
    "hash": "e3ada8b426290dd76767ba6368ea690ca67a7a436b12c3cf567e5cb72f89ca03"
   }
  }
 },
 "nbformat": 4,
 "nbformat_minor": 2
}
