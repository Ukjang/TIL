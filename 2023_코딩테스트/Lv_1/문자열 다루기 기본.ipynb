{
 "cells": [
  {
   "cell_type": "code",
   "execution_count": null,
   "metadata": {},
   "outputs": [],
   "source": [
    "def solution(s):\n",
    "    # 문자열 s의 길이가 4 혹은 6이고,\n",
    "    # 숫자로만 구성돼있는지 확인해주는 함수\n",
    "    if len(s) in [4, 6] :\n",
    "        try :\n",
    "            int(s)\n",
    "            return True\n",
    "        except :\n",
    "            return False\n",
    "    else :\n",
    "        return False"
   ]
  },
  {
   "cell_type": "code",
   "execution_count": null,
   "metadata": {},
   "outputs": [],
   "source": [
    "def solution(s):\n",
    "    # 문자열 s의 길이가 4 혹은 6이고,\n",
    "    # 숫자로만 구성돼있는지 확인해주는 함수\n",
    "    return s.isdigit() and len(s) in [4, 6]"
   ]
  }
 ],
 "metadata": {
  "language_info": {
   "name": "python"
  },
  "orig_nbformat": 4
 },
 "nbformat": 4,
 "nbformat_minor": 2
}
