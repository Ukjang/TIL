{
 "cells": [
  {
   "cell_type": "code",
   "execution_count": 1,
   "metadata": {},
   "outputs": [],
   "source": [
    "def solution(board, moves):\n",
    "    # for 문으로 해당 열의 앞순위 인형 가져와서 넣기\n",
    "    # 넣은 인형과 마지막 인형이 같으면 펑\n",
    "    answer = 0\n",
    "    result = []\n",
    "    for move in moves :\n",
    "        # for 문으로 해당 열의 앞순위 인형 가져와서 넣으면 break\n",
    "        for bd in board :\n",
    "            if bd[move - 1] != 0 :\n",
    "                temp = bd[move - 1]\n",
    "                bd[move - 1] = 0\n",
    "                result.append(temp)\n",
    "                break\n",
    "        # 길이가 1초과일때 마지막 같은지 검정\n",
    "        if len(result) > 1 :\n",
    "            if result[-1] == result[-2] :\n",
    "                answer += 1\n",
    "                result = result[:-2]\n",
    "    return answer * 2"
   ]
  }
 ],
 "metadata": {
  "kernelspec": {
   "display_name": "Python 3",
   "language": "python",
   "name": "python3"
  },
  "language_info": {
   "codemirror_mode": {
    "name": "ipython",
    "version": 3
   },
   "file_extension": ".py",
   "mimetype": "text/x-python",
   "name": "python",
   "nbconvert_exporter": "python",
   "pygments_lexer": "ipython3",
   "version": "3.8.10 (tags/v3.8.10:3d8993a, May  3 2021, 11:48:03) [MSC v.1928 64 bit (AMD64)]"
  },
  "orig_nbformat": 4,
  "vscode": {
   "interpreter": {
    "hash": "e3ada8b426290dd76767ba6368ea690ca67a7a436b12c3cf567e5cb72f89ca03"
   }
  }
 },
 "nbformat": 4,
 "nbformat_minor": 2
}
