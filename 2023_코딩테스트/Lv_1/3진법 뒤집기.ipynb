{
 "cells": [
  {
   "cell_type": "code",
   "execution_count": null,
   "metadata": {},
   "outputs": [],
   "source": [
    "def solution(n):\n",
    "    # 삼진법 표기\n",
    "    result = ''\n",
    "    while True :\n",
    "        quo = n // 3\n",
    "        rem = n % 3\n",
    "        if quo == 0:\n",
    "            result = str(rem) + result\n",
    "            break\n",
    "        result = str(rem) + result\n",
    "        n = quo\n",
    "    # 행렬기준 3진법 다시 연산\n",
    "    answer = 0\n",
    "    for res in range(len(result)) :\n",
    "        answer += 3**(res) * int(result[res])\n",
    "    return answer"
   ]
  }
 ],
 "metadata": {
  "language_info": {
   "name": "python"
  },
  "orig_nbformat": 4
 },
 "nbformat": 4,
 "nbformat_minor": 2
}
