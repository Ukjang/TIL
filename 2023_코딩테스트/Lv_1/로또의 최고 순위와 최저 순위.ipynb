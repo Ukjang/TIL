{
 "cells": [
  {
   "cell_type": "code",
   "execution_count": null,
   "metadata": {},
   "outputs": [],
   "source": [
    "def solution(lottos, win_nums):\n",
    "    # 합 7 에서 맞은 개수 빼면 순위\n",
    "    # 0이 아닌 수중 겹치는거 최소, 0개수 더하면 최대\n",
    "    cnt_zero = lottos.count(0)\n",
    "    cnt = 0\n",
    "    for i in lottos :\n",
    "        if i in win_nums :\n",
    "            cnt += 1\n",
    "    # 가장 낮은 순위가 6위\n",
    "    return [min(6,7-(cnt+cnt_zero)), min(6, 7-cnt)] \n",
    "    "
   ]
  }
 ],
 "metadata": {
  "kernelspec": {
   "display_name": "Python 3",
   "language": "python",
   "name": "python3"
  },
  "language_info": {
   "name": "python",
   "version": "3.8.10 (tags/v3.8.10:3d8993a, May  3 2021, 11:48:03) [MSC v.1928 64 bit (AMD64)]"
  },
  "orig_nbformat": 4,
  "vscode": {
   "interpreter": {
    "hash": "e3ada8b426290dd76767ba6368ea690ca67a7a436b12c3cf567e5cb72f89ca03"
   }
  }
 },
 "nbformat": 4,
 "nbformat_minor": 2
}
