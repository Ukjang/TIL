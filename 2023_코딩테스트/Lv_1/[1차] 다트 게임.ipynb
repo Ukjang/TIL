{
 "cells": [
  {
   "cell_type": "code",
   "execution_count": 2,
   "metadata": {},
   "outputs": [
    {
     "data": {
      "text/plain": [
       "[1, 2, 3, 4, 5, 6, 7, 8, 9, 10]"
      ]
     },
     "execution_count": 2,
     "metadata": {},
     "output_type": "execute_result"
    }
   ],
   "source": [
    "list(range(1, 11))"
   ]
  },
  {
   "cell_type": "code",
   "execution_count": 6,
   "metadata": {},
   "outputs": [
    {
     "data": {
      "text/plain": [
       "['1', 'D', '2', 'S', '#', '10', 'S']"
      ]
     },
     "execution_count": 6,
     "metadata": {},
     "output_type": "execute_result"
    }
   ],
   "source": [
    "dartResult = '1D2S#10S'\n",
    "dartResult = dartResult.replace('10', 'k')\n",
    "result = ['10' if i == 'k' else i for i in dartResult]\n",
    "result"
   ]
  },
  {
   "cell_type": "code",
   "execution_count": null,
   "metadata": {},
   "outputs": [],
   "source": [
    "def solution(dartResult):\n",
    "    # 10 숫자에 대한 따로 연산 처리 후 리스트 화\n",
    "    # 문자열 이 아닌 경우 answer 리스트에 추가\n",
    "    # 해당 문자열에 대한 연산\n",
    "    dartResult = dartResult.replace('10', 'k')\n",
    "    result = ['10' if i == 'k' else i for i in dartResult]\n",
    "    answer = []\n",
    "    idx = -1\n",
    "    sdt = ['S', 'D', 'T']\n",
    "    for st in result :\n",
    "        # 보너스\n",
    "        if st in sdt:\n",
    "            answer[idx] = answer[idx]  ** (sdt.index(st) + 1)\n",
    "        # 상\n",
    "        elif st in ['*', '#'] :\n",
    "            # 아차상\n",
    "            if st == '#':\n",
    "                answer[idx] = (-1) * answer[idx]\n",
    "            # 스타상\n",
    "            elif st == '*' :\n",
    "            # 맨앞에 나올때\n",
    "                if idx == 0 :\n",
    "                    answer[idx] = 2 * answer[idx]\n",
    "                else :\n",
    "                    answer[idx-1] =  2 * answer[idx-1]\n",
    "                    answer[idx] = 2 * answer[idx]\n",
    "        else :\n",
    "            answer.append(int(st))\n",
    "            idx += 1\n",
    "    return sum(answer)"
   ]
  }
 ],
 "metadata": {
  "kernelspec": {
   "display_name": "Python 3",
   "language": "python",
   "name": "python3"
  },
  "language_info": {
   "codemirror_mode": {
    "name": "ipython",
    "version": 3
   },
   "file_extension": ".py",
   "mimetype": "text/x-python",
   "name": "python",
   "nbconvert_exporter": "python",
   "pygments_lexer": "ipython3",
   "version": "3.8.10"
  },
  "orig_nbformat": 4,
  "vscode": {
   "interpreter": {
    "hash": "e3ada8b426290dd76767ba6368ea690ca67a7a436b12c3cf567e5cb72f89ca03"
   }
  }
 },
 "nbformat": 4,
 "nbformat_minor": 2
}
