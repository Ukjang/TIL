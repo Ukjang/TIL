{
 "cells": [
  {
   "cell_type": "code",
   "execution_count": null,
   "metadata": {},
   "outputs": [],
   "source": [
    "def solution(n, t, m, p):\n",
    "    answer = ''\n",
    "    # 10진법 이상 알파벳\n",
    "    alpha_list = ['A', 'B', 'C', 'D', 'E', 'F']\n",
    "    # 진법별 리스트 산출. 길이가 m*t + p 이상이면 stop\n",
    "    result = ''\n",
    "    # m명 t회차 만큼 반복 중간에 break\n",
    "    for nm in range(m*t) :\n",
    "        temp_result = ''\n",
    "        # n 진법 문자 치환\n",
    "        while True :\n",
    "            nm_div = nm // n\n",
    "            nm_rem = nm % n\n",
    "            if nm_rem >= 10 :\n",
    "                nm_rem = alpha_list[nm_rem%10]\n",
    "            temp_result = str(nm_rem) + temp_result\n",
    "            nm = nm_div\n",
    "            if nm_div == 0:\n",
    "                break\n",
    "        # 전체 문자에 합해줌\n",
    "        result += temp_result\n",
    "        # m명 t회차 p순서 길이를 넘어가면 stop\n",
    "        if len(result) >= (t*m + p) :\n",
    "            break\n",
    "    # 순서 1번부터니 p-1!\n",
    "    return ''.join([result[i] for i in range(p-1, t*m + p-1, m)])"
   ]
  }
 ],
 "metadata": {
  "kernelspec": {
   "display_name": "Python 3",
   "language": "python",
   "name": "python3"
  },
  "language_info": {
   "codemirror_mode": {
    "name": "ipython",
    "version": 3
   },
   "file_extension": ".py",
   "mimetype": "text/x-python",
   "name": "python",
   "nbconvert_exporter": "python",
   "pygments_lexer": "ipython3",
   "version": "3.8.10"
  },
  "orig_nbformat": 4,
  "vscode": {
   "interpreter": {
    "hash": "e3ada8b426290dd76767ba6368ea690ca67a7a436b12c3cf567e5cb72f89ca03"
   }
  }
 },
 "nbformat": 4,
 "nbformat_minor": 2
}
