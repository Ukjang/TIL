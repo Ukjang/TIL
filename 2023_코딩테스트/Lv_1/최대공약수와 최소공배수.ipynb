{
 "cells": [
  {
   "cell_type": "code",
   "execution_count": null,
   "metadata": {},
   "outputs": [],
   "source": [
    "def solution(n, m):\n",
    "    # 최대 공약수 구하는 식\n",
    "    # 최소 공배수 구하는 식\n",
    "    # -> 두수 곱해서 최대공약수로 나누기\n",
    "    n_list = []\n",
    "    m_list = []\n",
    "    # 1에 대한 디버깅\n",
    "    for i in range(1,n//2+2) :\n",
    "        if n % i == 0:\n",
    "            n_list.append(i)\n",
    "            n_list.append(n // i)\n",
    "\n",
    "    for j in range(1,m//2+2) :\n",
    "        if m % j == 0:\n",
    "            m_list.append(j)\n",
    "            m_list.append(m // j)\n",
    "    max_ind = max(set(n_list) & set(m_list))\n",
    "             \n",
    "    return [max_ind, n * m / max_ind]"
   ]
  },
  {
   "cell_type": "code",
   "execution_count": null,
   "metadata": {},
   "outputs": [],
   "source": []
  }
 ],
 "metadata": {
  "kernelspec": {
   "display_name": "Python 3",
   "language": "python",
   "name": "python3"
  },
  "language_info": {
   "codemirror_mode": {
    "name": "ipython",
    "version": 3
   },
   "file_extension": ".py",
   "mimetype": "text/x-python",
   "name": "python",
   "nbconvert_exporter": "python",
   "pygments_lexer": "ipython3",
   "version": "3.8.10"
  },
  "orig_nbformat": 4,
  "vscode": {
   "interpreter": {
    "hash": "e3ada8b426290dd76767ba6368ea690ca67a7a436b12c3cf567e5cb72f89ca03"
   }
  }
 },
 "nbformat": 4,
 "nbformat_minor": 2
}
