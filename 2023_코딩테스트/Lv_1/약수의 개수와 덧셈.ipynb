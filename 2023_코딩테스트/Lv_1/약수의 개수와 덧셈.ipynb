{
 "cells": [
  {
   "cell_type": "code",
   "execution_count": null,
   "metadata": {},
   "outputs": [],
   "source": [
    "def solution(left, right):\n",
    "    # 약수의 개수를 구하는 함수 식\n",
    "    # -> 절반까지 나눠보고 나머지 0이면 리스트에 추가서 set 길이 측정\n",
    "    # 연산식\n",
    "    answer = 0\n",
    "    for i in range(left, right + 1) :\n",
    "        # 약수의 개수를 구하는 함수 식\n",
    "        temp_list = [] \n",
    "        # i 가 1일때 문제\n",
    "        if i == 1 :\n",
    "            temp_list.append(1)\n",
    "        else :\n",
    "            for j in range(1, i//2 + 1 ):\n",
    "                if i % j == 0 :\n",
    "                    temp_list.append(j)\n",
    "                    temp_list.append(i // j)\n",
    "        if len(set(temp_list)) % 2 == 0:\n",
    "            answer += i\n",
    "        else :\n",
    "            answer -= i\n",
    "    return answer"
   ]
  },
  {
   "cell_type": "code",
   "execution_count": null,
   "metadata": {},
   "outputs": [],
   "source": [
    "def solution(left, right):\n",
    "    # 제곱수인 경우에만 약수의 개수가 홀수\n",
    "    answer = 0\n",
    "    for i in range(left, right + 1) :\n",
    "        if i ** (0.5) == int(i ** (0.5)):\n",
    "            answer -= i\n",
    "        else :\n",
    "            answer += i\n",
    "    return answer"
   ]
  }
 ],
 "metadata": {
  "language_info": {
   "name": "python"
  },
  "orig_nbformat": 4
 },
 "nbformat": 4,
 "nbformat_minor": 2
}
