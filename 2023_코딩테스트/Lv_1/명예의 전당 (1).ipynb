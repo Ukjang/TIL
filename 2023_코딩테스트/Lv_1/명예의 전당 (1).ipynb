{
 "cells": [
  {
   "cell_type": "code",
   "execution_count": null,
   "metadata": {},
   "outputs": [],
   "source": [
    "def solution(k, score):\n",
    "    # 정렬해서 상위 n개 자른 후\n",
    "    # 그 최소값 리스트에 추가\n",
    "    answer = []\n",
    "    for i in range(len(score)):\n",
    "        temp_score = score[:i+1]\n",
    "        temp_score.sort(reverse=True)\n",
    "        answer.append(min(temp_score[:k]))\n",
    "    return answer"
   ]
  }
 ],
 "metadata": {
  "kernelspec": {
   "display_name": "Python 3",
   "language": "python",
   "name": "python3"
  },
  "language_info": {
   "name": "python",
   "version": "3.8.10 (tags/v3.8.10:3d8993a, May  3 2021, 11:48:03) [MSC v.1928 64 bit (AMD64)]"
  },
  "orig_nbformat": 4,
  "vscode": {
   "interpreter": {
    "hash": "e3ada8b426290dd76767ba6368ea690ca67a7a436b12c3cf567e5cb72f89ca03"
   }
  }
 },
 "nbformat": 4,
 "nbformat_minor": 2
}
