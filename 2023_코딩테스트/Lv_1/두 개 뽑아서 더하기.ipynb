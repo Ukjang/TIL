{
 "cells": [
  {
   "cell_type": "code",
   "execution_count": null,
   "metadata": {},
   "outputs": [],
   "source": [
    "def solution(numbers):\n",
    "    answer = []\n",
    "    for i in range(len(numbers) - 1) :\n",
    "        for j in range(i+1, len(numbers)) :\n",
    "            if (numbers[i] + numbers[j]) not in answer :\n",
    "                answer.append((numbers[i] + numbers[j]))\n",
    "    answer = sorted(set(answer))\n",
    "    return answer"
   ]
  }
 ],
 "metadata": {
  "language_info": {
   "name": "python"
  },
  "orig_nbformat": 4
 },
 "nbformat": 4,
 "nbformat_minor": 2
}
