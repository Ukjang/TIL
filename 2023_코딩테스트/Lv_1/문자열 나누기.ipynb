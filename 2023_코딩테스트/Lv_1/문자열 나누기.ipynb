{
 "cells": [
  {
   "cell_type": "code",
   "execution_count": null,
   "metadata": {},
   "outputs": [],
   "source": [
    "def solution(s):\n",
    "    answer = 0\n",
    "    # 먼저 첫 글자를 읽습니다. 이 글자를 x라고 합시다.\n",
    "    # x와 x가 아닌 다른 글자들이 나온 횟수를 각각 셉니다. \n",
    "    # 처음으로 두 횟수가 같아지는 순간 멈추고, 지금까지 읽은 문자열을 분리합니다.\n",
    "    # 남은 부분이 없다면 종료합니다.\n",
    "    while True :\n",
    "        cnt = 0\n",
    "        cnt_else = 0\n",
    "        # 먼저 첫 글자를 읽습니다. 이 글자를 x라고 합시다.\n",
    "        x = s[0]\n",
    "        # x와 x가 아닌 다른 글자들이 나온 횟수를 각각 셉니다. \n",
    "        for i in s :\n",
    "            if i == x :\n",
    "                cnt += 1\n",
    "            else :\n",
    "                cnt_else += 1\n",
    "            # 처음으로 두 횟수가 같아지는 순간 멈추고\n",
    "            if cnt == cnt_else :\n",
    "                answer += 1\n",
    "                break\n",
    "        # 다 읽었는데 안같아지면 멈춤\n",
    "        else :\n",
    "            answer += 1\n",
    "            break\n",
    "        # 지금까지 읽은 문자열을 분리합니다.\n",
    "        s = s[cnt + cnt_else :]\n",
    "        # 다음에 더 읽을 문자열이 없다면\n",
    "        if len(s) == 0 :\n",
    "            break\n",
    "        elif len(s) == 1 :\n",
    "            answer += 1\n",
    "            break\n",
    "    return answer"
   ]
  },
  {
   "cell_type": "code",
   "execution_count": 5,
   "metadata": {},
   "outputs": [
    {
     "name": "stdout",
     "output_type": "stream",
     "text": [
      "a a 1\n",
      "r r 1\n",
      "c c 1\n",
      "d d 1\n",
      "b b 1\n"
     ]
    },
    {
     "data": {
      "text/plain": [
       "6"
      ]
     },
     "execution_count": 5,
     "metadata": {},
     "output_type": "execute_result"
    }
   ],
   "source": [
    "s = \"abracadabra\"\n",
    "\n",
    "\n",
    "answer = 0\n",
    "# 먼저 첫 글자를 읽습니다. 이 글자를 x라고 합시다.\n",
    "# x와 x가 아닌 다른 글자들이 나온 횟수를 각각 셉니다. \n",
    "# 처음으로 두 횟수가 같아지는 순간 멈추고, 지금까지 읽은 문자열을 분리합니다.\n",
    "# 남은 부분이 없다면 종료합니다.\n",
    "while True :\n",
    "    cnt = 0\n",
    "    cnt_else = 0\n",
    "    # 먼저 첫 글자를 읽습니다. 이 글자를 x라고 합시다.\n",
    "    x = s[0]\n",
    "    # x와 x가 아닌 다른 글자들이 나온 횟수를 각각 셉니다. \n",
    "    for i in s :\n",
    "        if i == x :\n",
    "            cnt += 1\n",
    "        else :\n",
    "            cnt_else += 1\n",
    "        # 처음으로 두 횟수가 같아지는 순간 멈추고\n",
    "        if cnt == cnt_else :\n",
    "            answer += 1\n",
    "            break\n",
    "        print(x, i, cnt)\n",
    "    # 다 읽었는데 안같아지면 멈춤\n",
    "    else :\n",
    "        answer += 1\n",
    "        break\n",
    "    # 지금까지 읽은 문자열을 분리합니다.\n",
    "    s = s[cnt + cnt_else :]\n",
    "    # 다음에 더 읽을 문자열이 없다면\n",
    "    if len(s) == 0 :\n",
    "        break\n",
    "    elif len(s) == 1 :\n",
    "        answer += 1\n",
    "        break\n",
    "answer"
   ]
  }
 ],
 "metadata": {
  "kernelspec": {
   "display_name": "Python 3",
   "language": "python",
   "name": "python3"
  },
  "language_info": {
   "codemirror_mode": {
    "name": "ipython",
    "version": 3
   },
   "file_extension": ".py",
   "mimetype": "text/x-python",
   "name": "python",
   "nbconvert_exporter": "python",
   "pygments_lexer": "ipython3",
   "version": "3.8.10 (tags/v3.8.10:3d8993a, May  3 2021, 11:48:03) [MSC v.1928 64 bit (AMD64)]"
  },
  "orig_nbformat": 4,
  "vscode": {
   "interpreter": {
    "hash": "e3ada8b426290dd76767ba6368ea690ca67a7a436b12c3cf567e5cb72f89ca03"
   }
  }
 },
 "nbformat": 4,
 "nbformat_minor": 2
}
