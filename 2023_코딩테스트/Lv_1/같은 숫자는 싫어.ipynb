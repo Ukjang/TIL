{
 "cells": [
  {
   "cell_type": "code",
   "execution_count": null,
   "metadata": {},
   "outputs": [],
   "source": [
    "def solution(arr):\n",
    "    # 이전 숫자랑 같으면 pass 다르면 추가\n",
    "    answer = []\n",
    "    temp = ''\n",
    "    for s in arr :\n",
    "        if s != temp :\n",
    "            answer.append(s)\n",
    "            temp = s\n",
    "    return answer"
   ]
  }
 ],
 "metadata": {
  "language_info": {
   "name": "python"
  },
  "orig_nbformat": 4
 },
 "nbformat": 4,
 "nbformat_minor": 2
}
