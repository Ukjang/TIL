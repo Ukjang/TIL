{
 "cells": [
  {
   "cell_type": "code",
   "execution_count": 1,
   "metadata": {},
   "outputs": [],
   "source": [
    "str1 = 'les,lrs,krere,'"
   ]
  },
  {
   "cell_type": "code",
   "execution_count": 2,
   "metadata": {},
   "outputs": [
    {
     "data": {
      "text/plain": [
       "['les', 'lrs', 'krere', '']"
      ]
     },
     "execution_count": 2,
     "metadata": {},
     "output_type": "execute_result"
    }
   ],
   "source": [
    "str1.split(',')"
   ]
  },
  {
   "cell_type": "code",
   "execution_count": null,
   "metadata": {},
   "outputs": [],
   "source": [
    "def solution(id_list, report, k):\n",
    "    # k번 이상 신고된 유저는 게시판 이용이 정지되며, \n",
    "    # 해당 유저를 신고한 모든 유저에게 정지 사실을 메일로 발송합니다.\n",
    "    # 한 유저를 여러 번 신고할 수도 있지만, 동일한 유저에 대한 신고 횟수는 1회로 처리됩니다.\n",
    "\n",
    "    # report dict 신고자 -> 신고 대상\n",
    "    dict_sue_log = {}\n",
    "    for idl in id_list :\n",
    "        dict_sue_log[idl] = ''\n",
    "    for rep in report :\n",
    "        rep_list = rep.split(' ')\n",
    "        suer = rep_list[0]\n",
    "        sued = rep_list[1]\n",
    "        dict_sue_log[suer] = dict_sue_log[suer] + sued + ','\n",
    "    # 각 유저별 신고 회수 검증\n",
    "    sued_cnt = {}\n",
    "    sued_list = []\n",
    "    for idl in id_list :\n",
    "        sued_cnt[idl] = 0\n",
    "    for val in dict_sue_log.values() :\n",
    "        if val != '' :\n",
    "            temp_split = val.split(',')\n",
    "            # 중복 신고 방지\n",
    "            sued_list += set(temp_split)\n",
    "    for sud in set(sued_list) :\n",
    "        if sud != '':\n",
    "            sued_cnt[sud] = sued_list.count(sud)\n",
    "    # 신고 당한 사람 명단 추출\n",
    "    sued_list = []\n",
    "    for user, cnt in sued_cnt.items():\n",
    "        if cnt >= k :\n",
    "            sued_list.append(user)\n",
    "    # 리포트 발송\n",
    "    answer = []\n",
    "    for suer, log in dict_sue_log.items() :\n",
    "        if log == '':\n",
    "            answer.append(0)\n",
    "        else :\n",
    "            cnt = 0\n",
    "            temp_log = log.split(',')\n",
    "            for sued in sued_list:\n",
    "                if sued in temp_log:\n",
    "                    cnt += 1\n",
    "            answer.append(cnt)\n",
    "    answer\n",
    "    return answer"
   ]
  }
 ],
 "metadata": {
  "kernelspec": {
   "display_name": "Python 3",
   "language": "python",
   "name": "python3"
  },
  "language_info": {
   "codemirror_mode": {
    "name": "ipython",
    "version": 3
   },
   "file_extension": ".py",
   "mimetype": "text/x-python",
   "name": "python",
   "nbconvert_exporter": "python",
   "pygments_lexer": "ipython3",
   "version": "3.8.10"
  },
  "orig_nbformat": 4,
  "vscode": {
   "interpreter": {
    "hash": "e3ada8b426290dd76767ba6368ea690ca67a7a436b12c3cf567e5cb72f89ca03"
   }
  }
 },
 "nbformat": 4,
 "nbformat_minor": 2
}
