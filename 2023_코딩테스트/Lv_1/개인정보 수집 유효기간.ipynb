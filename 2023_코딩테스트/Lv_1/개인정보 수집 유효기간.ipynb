{
 "cells": [
  {
   "cell_type": "code",
   "execution_count": null,
   "metadata": {},
   "outputs": [],
   "source": [
    "# 28일 일자로 다 변해서 계선하면 심플하게 잘 됨!\n",
    "def solution(today, terms, privacies):\n",
    "    # 일자별로 계산하면 모든게 해결...!\n",
    "    # 정책별 dict\n",
    "    dict_term = {}\n",
    "    for term in terms :\n",
    "        term_splt = term.split(' ')\n",
    "        term_name = term_splt[0]\n",
    "        term_month = int(term_splt[1])\n",
    "        dict_term[term_name] = term_month\n",
    "    # 한달 28일\n",
    "    answer = []\n",
    "    today_year, today_month, today_day = today.split('.')\n",
    "    for idx, privacy in enumerate(privacies) :\n",
    "        term_pr = privacy.split(' ')[1]\n",
    "        term_list = privacy.split(' ')[0]\n",
    "        t_year = int(term_list.split('.')[0])\n",
    "        t_month = int(term_list.split('.')[1])\n",
    "        t_day = int(term_list.split('.')[2])\n",
    "        if ((int(today_year) - t_year)*12 + int(today_month) - t_month - dict_term[term_pr]) * 28 + int(today_day) - t_day + 1 > 0 :\n",
    "            answer.append(idx + 1)\n",
    "    return answer"
   ]
  },
  {
   "cell_type": "code",
   "execution_count": 11,
   "metadata": {},
   "outputs": [
    {
     "name": "stdout",
     "output_type": "stream",
     "text": [
      "0 2019.01.01 D 5 20190528\n",
      "1 2019.11.15 Z 3 20200214\n",
      "2 2019.08.02 D 5 20200101\n",
      "3 2019.07.01 D 5 20191128\n",
      "4 2018.12.28 Z 3 20190327\n"
     ]
    },
    {
     "data": {
      "text/plain": [
       "[1, 4, 5]"
      ]
     },
     "execution_count": 11,
     "metadata": {},
     "output_type": "execute_result"
    }
   ],
   "source": [
    "today = \"2020.01.01\"\n",
    "terms = [\"Z 3\", \"D 5\"]\n",
    "privacies = [\"2019.01.01 D\", \"2019.11.15 Z\", \"2019.08.02 D\", \"2019.07.01 D\", \"2018.12.28 Z\"]\n",
    "\n",
    "# 모든 달은 28일까지 있다고 가정합니다\n",
    "# 유효기관 날짜 분리 + 해당 기간 값 더했을때 증감 문자열 기준으로 비교\n",
    "# 유효기간에 대한 dict 필요할듯\n",
    "answer = []\n",
    "dict_term = {}\n",
    "for term in terms :\n",
    "    term_splt =  term.split(' ')\n",
    "    term_name = term_splt[0]\n",
    "    term_month = term_splt[1]\n",
    "    dict_term[term_name] = int(term_month)\n",
    "today_str = ''.join(today.split('.'))\n",
    "for idx, privacy in enumerate(privacies) :\n",
    "    term_type = privacy.split(' ')[-1]\n",
    "    privacy_splt = privacy.split(' ')[0].split('.')\n",
    "    year = privacy_splt[0]\n",
    "    month = privacy_splt[1]\n",
    "    day = privacy_splt[2]\n",
    "    month = int(month) + dict_term[term_type]\n",
    "    # 월 -> 년 영향\n",
    "    if month > 12 :\n",
    "        month_div = month // 12\n",
    "        month = month % 12\n",
    "        year = int(year) + month_div\n",
    "        if month == 0 :\n",
    "            month = '12'\n",
    "    # 일의 일자 넘어가는 식\n",
    "    # 모든 달은 28일까지 있다고 가정합니다. 일 -> 월 -> 년 영향\n",
    "    day = int(day) - 1\n",
    "    if day == 0 :\n",
    "        day = '28'\n",
    "        month -= 1\n",
    "        if month == 0 :\n",
    "            year -= 1\n",
    "            month = 12\n",
    "    # 월 , 일 문자 처리\n",
    "\n",
    "    if len(str(month)) == 1:\n",
    "        month = '0' + str(month)\n",
    "    else :\n",
    "        month = str(month)\n",
    "    if len(str(day)) == 1:\n",
    "        day = '0' + str(day)\n",
    "    else :\n",
    "        day = str(day) \n",
    "\n",
    "    # 기간 하루 전까지 보관 가능\n",
    "    privacy_term = str(year) + month + day\n",
    "    if today_str > privacy_term :\n",
    "        answer.append(idx+1)\n",
    "    print(idx, privacy, dict_term[term_type], privacy_term)\n",
    "answer"
   ]
  }
 ],
 "metadata": {
  "kernelspec": {
   "display_name": "Python 3",
   "language": "python",
   "name": "python3"
  },
  "language_info": {
   "codemirror_mode": {
    "name": "ipython",
    "version": 3
   },
   "file_extension": ".py",
   "mimetype": "text/x-python",
   "name": "python",
   "nbconvert_exporter": "python",
   "pygments_lexer": "ipython3",
   "version": "3.8.10 (tags/v3.8.10:3d8993a, May  3 2021, 11:48:03) [MSC v.1928 64 bit (AMD64)]"
  },
  "orig_nbformat": 4,
  "vscode": {
   "interpreter": {
    "hash": "e3ada8b426290dd76767ba6368ea690ca67a7a436b12c3cf567e5cb72f89ca03"
   }
  }
 },
 "nbformat": 4,
 "nbformat_minor": 2
}
