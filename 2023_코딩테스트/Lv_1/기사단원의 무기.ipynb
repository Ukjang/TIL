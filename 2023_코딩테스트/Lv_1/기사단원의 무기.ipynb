{
 "cells": [
  {
   "cell_type": "code",
   "execution_count": null,
   "metadata": {},
   "outputs": [],
   "source": [
    "def solution(number, limit, power):\n",
    "    # 각 기사는 자신의 기사 번호의 약수 개수에 해당하는 공격력\n",
    "    # 제한수치보다 큰 공격력을 가진 무기를 구매해야 하는 기사는 협약기관에서 정한 공격력을 가지는 무기를 구매\n",
    "    # 무기의 공격력 1당 1kg의 철이 필요합니다.\n",
    "    answer = 0\n",
    "    for i in range(1, number + 1):\n",
    "        cnt_list = []\n",
    "        # 시간복잡도 고려하여 제곱근 + 1 까지 약수 검증\n",
    "        for dec in range(1, int(i**(1/2)) + 1):\n",
    "            if i % dec == 0:\n",
    "                cnt_list.append(dec)\n",
    "                cnt_list.append(i // dec)\n",
    "        wpower = len(set(cnt_list))\n",
    "        if wpower > limit :\n",
    "            wpower = power\n",
    "        answer += wpower\n",
    "    return answer"
   ]
  },
  {
   "cell_type": "code",
   "execution_count": null,
   "metadata": {},
   "outputs": [],
   "source": []
  }
 ],
 "metadata": {
  "kernelspec": {
   "display_name": "Python 3",
   "language": "python",
   "name": "python3"
  },
  "language_info": {
   "codemirror_mode": {
    "name": "ipython",
    "version": 3
   },
   "file_extension": ".py",
   "mimetype": "text/x-python",
   "name": "python",
   "nbconvert_exporter": "python",
   "pygments_lexer": "ipython3",
   "version": "3.8.10"
  },
  "orig_nbformat": 4,
  "vscode": {
   "interpreter": {
    "hash": "e3ada8b426290dd76767ba6368ea690ca67a7a436b12c3cf567e5cb72f89ca03"
   }
  }
 },
 "nbformat": 4,
 "nbformat_minor": 2
}
