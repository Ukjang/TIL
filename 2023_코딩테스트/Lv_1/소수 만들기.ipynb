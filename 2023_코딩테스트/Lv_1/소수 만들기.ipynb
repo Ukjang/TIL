{
 "cells": [
  {
   "cell_type": "code",
   "execution_count": null,
   "metadata": {},
   "outputs": [],
   "source": [
    "def solution(nums):\n",
    "    # 더한 값이 소수이면 +\n",
    "    from itertools import combinations\n",
    "    comb_list = list(combinations(nums, 3))\n",
    "    sum_list = [sum(i) for i in comb_list]\n",
    "    answer = 0\n",
    "    for pn in sum_list :\n",
    "        for pn_num in range(2,(pn // 2) + 1) :\n",
    "            if pn % pn_num == 0:\n",
    "                break\n",
    "        else :\n",
    "            answer += 1\n",
    "    return answer"
   ]
  }
 ],
 "metadata": {
  "language_info": {
   "name": "python"
  },
  "orig_nbformat": 4
 },
 "nbformat": 4,
 "nbformat_minor": 2
}
