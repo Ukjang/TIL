{
 "cells": [
  {
   "cell_type": "code",
   "execution_count": null,
   "metadata": {},
   "outputs": [],
   "source": [
    "def solution(s):\n",
    "    # 각 단어의 짝 홀 대문자 소문자\n",
    "    spt = s.split(' ')\n",
    "    answer = []\n",
    "    for i in spt :\n",
    "        temp = ''\n",
    "        for j in range(len(i)):\n",
    "            if j % 2 == 0:\n",
    "                temp += i[j].upper()\n",
    "            else :\n",
    "                temp += i[j].lower()\n",
    "        answer.append(temp)\n",
    "    return ' '.join(answer)"
   ]
  }
 ],
 "metadata": {
  "language_info": {
   "name": "python"
  },
  "orig_nbformat": 4
 },
 "nbformat": 4,
 "nbformat_minor": 2
}
