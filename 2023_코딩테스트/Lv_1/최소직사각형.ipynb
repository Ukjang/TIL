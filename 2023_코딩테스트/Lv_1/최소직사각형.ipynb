{
 "cells": [
  {
   "cell_type": "code",
   "execution_count": null,
   "metadata": {},
   "outputs": [],
   "source": [
    "def solution(sizes):\n",
    "    # 최소값 끼리의 max\n",
    "    # 최대값 끼리의 max\n",
    "    res_min = 0\n",
    "    res_max = 0\n",
    "    for size in sizes :\n",
    "        temp_min = min(size)\n",
    "        temp_max = max(size)\n",
    "        res_min = max(res_min, temp_min)\n",
    "        res_max = max(res_max, temp_max)\n",
    "    return res_min * res_max"
   ]
  }
 ],
 "metadata": {
  "language_info": {
   "name": "python"
  },
  "orig_nbformat": 4
 },
 "nbformat": 4,
 "nbformat_minor": 2
}
