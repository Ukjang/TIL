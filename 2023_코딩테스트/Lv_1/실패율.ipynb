{
 "cells": [
  {
   "cell_type": "code",
   "execution_count": 1,
   "metadata": {},
   "outputs": [],
   "source": [
    "def solution(N, stages):\n",
    "    dict1 = {}\n",
    "    tlen = len(stages)\n",
    "    for i in range(1, N+1):\n",
    "        # 딕트 형태로 해야 정렬 가능. \n",
    "        if tlen != 0 :\n",
    "            dict1[i] = stages.count(i) / tlen\n",
    "            tlen -= stages.count(i)\n",
    "        # 값 없는 경우에 대한 디버깅\n",
    "        else :\n",
    "            dict1[i] = 0\n",
    "    # sorted key 값 지정하여 딕트 정렬\n",
    "    return sorted(dict1, key = lambda x : dict1[x], reverse=True)"
   ]
  },
  {
   "cell_type": "code",
   "execution_count": 36,
   "metadata": {},
   "outputs": [
    {
     "data": {
      "text/plain": [
       "[3, 4, 2, 1, 5]"
      ]
     },
     "execution_count": 36,
     "metadata": {},
     "output_type": "execute_result"
    }
   ],
   "source": [
    "sorted(dict1, key = lambda x : dict1[x], reverse=True)"
   ]
  }
 ],
 "metadata": {
  "kernelspec": {
   "display_name": "Python 3",
   "language": "python",
   "name": "python3"
  },
  "language_info": {
   "codemirror_mode": {
    "name": "ipython",
    "version": 3
   },
   "file_extension": ".py",
   "mimetype": "text/x-python",
   "name": "python",
   "nbconvert_exporter": "python",
   "pygments_lexer": "ipython3",
   "version": "3.8.10"
  },
  "orig_nbformat": 4,
  "vscode": {
   "interpreter": {
    "hash": "e3ada8b426290dd76767ba6368ea690ca67a7a436b12c3cf567e5cb72f89ca03"
   }
  }
 },
 "nbformat": 4,
 "nbformat_minor": 2
}
