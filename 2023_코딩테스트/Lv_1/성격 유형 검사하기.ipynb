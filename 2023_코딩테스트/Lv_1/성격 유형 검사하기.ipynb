{
 "cells": [
  {
   "cell_type": "code",
   "execution_count": 1,
   "metadata": {},
   "outputs": [],
   "source": [
    "def solution(survey, choices):\n",
    "    # 조사지 매우 동의 매우 비동의 역순으로 주어지는 경우 있음\n",
    "    # 조사지 점수 1~7(비동의 ~ 동의)\n",
    "    # 순서에 따라 하나의 dict에 대한 점수 계산\n",
    "    # 0 점을경우 사전순으로 빠른 값 return. 사전순으로dict  구성\n",
    "    dict_score = {'R' : 0,\n",
    "                 'C' : 0,\n",
    "                 'J' : 0,\n",
    "                 'A' : 0}   \n",
    "    neg_list = ['T', 'F', 'M', 'N']\n",
    "    for i in range(len(survey)) :\n",
    "        # 질문지 역순 판단 + AN이면 점수가 높을수록 N 긍정!\n",
    "        sort_str = ''.join(sorted([j for j in survey[i]]))\n",
    "        if  sort_str == survey[i] :\n",
    "            pm = -1\n",
    "        else :\n",
    "            pm = 1\n",
    "        # 조사지 점수 1~7(비동의 ~ 동의)\n",
    "        dict_score[sort_str[0]] = dict_score[sort_str[0]] + (pm * (choices[i]-4))\n",
    "    answer = ''\n",
    "    # 점수가 0보다 작으면 다른값 return\n",
    "    for idx, key in enumerate(dict_score.keys()):\n",
    "        if dict_score[key] >= 0:\n",
    "            answer += key\n",
    "        else :\n",
    "            answer += neg_list[idx]\n",
    "    return answer"
   ]
  },
  {
   "cell_type": "code",
   "execution_count": 4,
   "metadata": {},
   "outputs": [
    {
     "name": "stdout",
     "output_type": "stream",
     "text": [
      "AN -1 {'R': 0, 'C': 0, 'J': 0, 'A': -1}\n",
      "CF 1 {'R': 0, 'C': 1, 'J': 0, 'A': -1}\n",
      "MJ -2 {'R': 0, 'C': 1, 'J': -2, 'A': -1}\n",
      "RT -3 {'R': -3, 'C': 1, 'J': -2, 'A': -1}\n",
      "NA 0 {'R': -3, 'C': 1, 'J': -2, 'A': 0}\n"
     ]
    },
    {
     "data": {
      "text/plain": [
       "'TCMA'"
      ]
     },
     "execution_count": 4,
     "metadata": {},
     "output_type": "execute_result"
    }
   ],
   "source": [
    "survey = [\"AN\", \"CF\", \"MJ\", \"RT\", \"NA\"]\n",
    "choices = \t[5, 3, 2, 7, 5]\n",
    "dict_score = {'R' : 0,\n",
    "                'C' : 0,\n",
    "                'J' : 0,\n",
    "                'A' : 0}   \n",
    "neg_list = ['T', 'F', 'M', 'N']\n",
    "for i in range(len(survey)) :\n",
    "    # 질문지 역순 판단\n",
    "    sort_str = ''.join(sorted([j for j in survey[i]]))\n",
    "    if  sort_str == survey[i] :\n",
    "        pm = -1\n",
    "    else :\n",
    "        pm = 1\n",
    "    dict_score[sort_str[0]] = dict_score[sort_str[0]] + (pm * (choices[i]-4))\n",
    "    print(survey[i], dict_score[sort_str[0]], dict_score)\n",
    "answer = ''\n",
    "for idx, key in enumerate(dict_score.keys()):\n",
    "    if dict_score[key] >= 0:\n",
    "        answer += key\n",
    "    else :\n",
    "        answer += neg_list[idx]\n",
    "answer"
   ]
  }
 ],
 "metadata": {
  "kernelspec": {
   "display_name": "Python 3",
   "language": "python",
   "name": "python3"
  },
  "language_info": {
   "codemirror_mode": {
    "name": "ipython",
    "version": 3
   },
   "file_extension": ".py",
   "mimetype": "text/x-python",
   "name": "python",
   "nbconvert_exporter": "python",
   "pygments_lexer": "ipython3",
   "version": "3.8.10"
  },
  "orig_nbformat": 4,
  "vscode": {
   "interpreter": {
    "hash": "e3ada8b426290dd76767ba6368ea690ca67a7a436b12c3cf567e5cb72f89ca03"
   }
  }
 },
 "nbformat": 4,
 "nbformat_minor": 2
}
