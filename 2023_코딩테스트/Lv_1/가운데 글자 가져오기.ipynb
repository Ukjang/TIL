{
 "cells": [
  {
   "cell_type": "code",
   "execution_count": null,
   "metadata": {},
   "outputs": [],
   "source": [
    "def solution(s):\n",
    "    # 길이가 홀수일때 짝수일때\n",
    "    ls = len(s)\n",
    "    if ls % 2 == 0:\n",
    "        return s[ls //2 -1 : ls // 2+1 ]\n",
    "    else :\n",
    "        return s[ls//2]\n",
    "    return answer"
   ]
  }
 ],
 "metadata": {
  "language_info": {
   "name": "python"
  },
  "orig_nbformat": 4
 },
 "nbformat": 4,
 "nbformat_minor": 2
}
