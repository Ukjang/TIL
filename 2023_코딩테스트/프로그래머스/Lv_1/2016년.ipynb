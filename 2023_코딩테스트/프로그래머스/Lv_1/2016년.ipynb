{
 "cells": [
  {
   "cell_type": "code",
   "execution_count": null,
   "metadata": {},
   "outputs": [],
   "source": [
    "def solution(a, b):\n",
    "    # 월별 일수 dict 구성\n",
    "    # 해당 dict 기반으로 날짜 차이 계산\n",
    "    # 요일 dict 구성\n",
    "    # 요일 리턴\n",
    "    dict_month = {\n",
    "        '1' : 31,\n",
    "        '2' : 29,\n",
    "        '3' : 31,\n",
    "        '4' : 30,\n",
    "        '5' : 31,\n",
    "        '6' : 30,\n",
    "        '7' : 31,\n",
    "        '8' : 31,\n",
    "        '9' : 30,\n",
    "        '10' : 31,\n",
    "        '11' : 30,\n",
    "        '12' : 31\n",
    "    }\n",
    "    month_list = ['THU','FRI','SAT','SUN','MON','TUE','WED']\n",
    "    day_cnt = 0\n",
    "    # 1월보다 큰지 작인지 검정\n",
    "    if a > 1 :\n",
    "        for i in range(1, a):\n",
    "            day_cnt += dict_month[str(i)]\n",
    "    else :\n",
    "        pass\n",
    "    weekday_cnt = (day_cnt + b) % 7\n",
    "    \n",
    "    return month_list[weekday_cnt]"
   ]
  },
  {
   "cell_type": "code",
   "execution_count": 6,
   "metadata": {},
   "outputs": [
    {
     "data": {
      "text/plain": [
       "'TUE'"
      ]
     },
     "execution_count": 6,
     "metadata": {},
     "output_type": "execute_result"
    }
   ],
   "source": [
    "def solution(a, b):\n",
    "    # 월별 일수 dict 구성\n",
    "    # 해당 dict 기반으로 날짜 차이 계산\n",
    "    # 요일 dict 구성\n",
    "    # 요일 리턴\n",
    "    month_list = [31,29,31,30,31,30,31,31,30,31,30,31]\n",
    "    weekday_list = ['THU','FRI','SAT','SUN','MON','TUE','WED']\n",
    "    return weekday_list[(sum(month_list[:a-1]) + b) % 7]\n",
    "solution(5,24)"
   ]
  }
 ],
 "metadata": {
  "kernelspec": {
   "display_name": "Python 3",
   "language": "python",
   "name": "python3"
  },
  "language_info": {
   "codemirror_mode": {
    "name": "ipython",
    "version": 3
   },
   "file_extension": ".py",
   "mimetype": "text/x-python",
   "name": "python",
   "nbconvert_exporter": "python",
   "pygments_lexer": "ipython3",
   "version": "3.8.10"
  },
  "orig_nbformat": 4,
  "vscode": {
   "interpreter": {
    "hash": "e3ada8b426290dd76767ba6368ea690ca67a7a436b12c3cf567e5cb72f89ca03"
   }
  }
 },
 "nbformat": 4,
 "nbformat_minor": 2
}
