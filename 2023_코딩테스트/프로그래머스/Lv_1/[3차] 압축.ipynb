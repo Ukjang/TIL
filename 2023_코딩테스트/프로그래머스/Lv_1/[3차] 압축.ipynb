{
 "cells": [
  {
   "cell_type": "code",
   "execution_count": 17,
   "metadata": {},
   "outputs": [],
   "source": [
    "from collections import deque\n",
    "def solution(msg):\n",
    "    answer = []\n",
    "    # 최대 길이에 대한 값이 dict에 있는지 검증이 필요함\n",
    "    max_len = 1\n",
    "    dict_len = 27\n",
    "    dict1 = {}\n",
    "    # 초기 사전 구성\n",
    "    alpah = 'ABCDEFGHIJKLMNOPQRSTUVWXYZ'\n",
    "    for alp in range(1, 27) :\n",
    "        dict1[alpah[alp-1]] = alp\n",
    "    queue = deque(list(msg))\n",
    "    while True :\n",
    "        # 최대 길이부터 하여 사전에 있는 값 리턴\n",
    "        temp_max_len = max_len\n",
    "        while True :\n",
    "            temp_str = ''.join(list(queue)[0:temp_max_len])\n",
    "            if temp_str in dict1:\n",
    "                break\n",
    "            else :\n",
    "                temp_max_len -= 1\n",
    "        temp_idx = dict1[temp_str]\n",
    "        # 출력되는 index 값 추가\n",
    "        answer.append(temp_idx)\n",
    "        # 입력한 글자 삭제\n",
    "        for _ in range(len(temp_str)):\n",
    "            queue.popleft()\n",
    "        # 남은 글자 없으면 stop\n",
    "        if len(queue) == 0:\n",
    "            break\n",
    "\n",
    "        next_str = temp_str + queue[0]\n",
    "        \n",
    "        # 사전에 추가하고 넘버링 증가\n",
    "        dict1[next_str] = dict_len\n",
    "        dict_len += 1\n",
    "        \n",
    "        # 글자 최대 길이가 늘어가면 증가시켜주기\n",
    "        if len(next_str) > max_len :\n",
    "            max_len = len(next_str)\n",
    "    \n",
    "    return answer"
   ]
  },
  {
   "cell_type": "code",
   "execution_count": 26,
   "metadata": {},
   "outputs": [
    {
     "name": "stdout",
     "output_type": "stream",
     "text": [
      "진행\n",
      "진행\n",
      "진행\n",
      "진행\n",
      "진행\n",
      "진행\n",
      "진행\n",
      "진행\n",
      "진행\n",
      "진행\n",
      "진행\n",
      "진행\n",
      "진행\n",
      "진행\n",
      "진행\n",
      "진행\n"
     ]
    },
    {
     "data": {
      "text/plain": [
       "[20, 15, 2, 5, 15, 18, 14, 15, 20, 27, 29, 31, 36, 30, 32, 34]"
      ]
     },
     "execution_count": 26,
     "metadata": {},
     "output_type": "execute_result"
    }
   ],
   "source": [
    "msg = 'TOBEORNOTTOBEORTOBEORNOT'\n",
    "\n",
    "\n",
    "answer = []\n",
    "# 최대 길이에 대한 값이 dict에 있는지 검증이 필요함\n",
    "max_len = 1\n",
    "dict_len = 27\n",
    "dict1 = {}\n",
    "# 초기 사전 구성\n",
    "alpah = 'ABCDEFGHIJKLMNOPQRSTUVWXYZ'\n",
    "for alp in range(1, 27) :\n",
    "    dict1[alpah[alp-1]] = alp\n",
    "queue = deque(list(msg))\n",
    "while True :\n",
    "    # 최대 길이부터 하여 사전에 있는 값 리턴\n",
    "    temp_max_len = max_len\n",
    "    while True :\n",
    "        temp_str = ''.join(list(queue)[0:temp_max_len])\n",
    "        if temp_str in dict1.keys():\n",
    "            print('진행')\n",
    "            break\n",
    "        else :\n",
    "            temp_max_len -= 1\n",
    "    temp_idx = dict1[temp_str]\n",
    "    # 출력되는 index 값 추가\n",
    "    answer.append(temp_idx)\n",
    "    # 입력한 글자 삭제\n",
    "    for _ in range(len(temp_str)):\n",
    "        queue.popleft()\n",
    "    # 남은 글자 없으면 stop\n",
    "    if len(queue) == 0:\n",
    "        break\n",
    "\n",
    "    next_str = temp_str + queue[0]\n",
    "    \n",
    "    dict1[next_str] = dict_len\n",
    "    dict_len += 1\n",
    "    if len(next_str) > max_len :\n",
    "        max_len = len(next_str)\n",
    "    \n",
    "answer"
   ]
  },
  {
   "cell_type": "code",
   "execution_count": 21,
   "metadata": {},
   "outputs": [
    {
     "data": {
      "text/plain": [
       "deque([])"
      ]
     },
     "execution_count": 21,
     "metadata": {},
     "output_type": "execute_result"
    }
   ],
   "source": [
    "queue"
   ]
  },
  {
   "cell_type": "code",
   "execution_count": 22,
   "metadata": {},
   "outputs": [
    {
     "data": {
      "text/plain": [
       "3"
      ]
     },
     "execution_count": 22,
     "metadata": {},
     "output_type": "execute_result"
    }
   ],
   "source": [
    "temp_max_len"
   ]
  },
  {
   "cell_type": "code",
   "execution_count": 10,
   "metadata": {},
   "outputs": [
    {
     "data": {
      "text/plain": [
       "[]"
      ]
     },
     "execution_count": 10,
     "metadata": {},
     "output_type": "execute_result"
    }
   ],
   "source": [
    "answer"
   ]
  },
  {
   "cell_type": "code",
   "execution_count": 7,
   "metadata": {},
   "outputs": [
    {
     "data": {
      "text/plain": [
       "['K', 'A', 'K', 'A', 'O']"
      ]
     },
     "execution_count": 7,
     "metadata": {},
     "output_type": "execute_result"
    }
   ],
   "source": [
    "list(queue)"
   ]
  }
 ],
 "metadata": {
  "kernelspec": {
   "display_name": "Python 3",
   "language": "python",
   "name": "python3"
  },
  "language_info": {
   "codemirror_mode": {
    "name": "ipython",
    "version": 3
   },
   "file_extension": ".py",
   "mimetype": "text/x-python",
   "name": "python",
   "nbconvert_exporter": "python",
   "pygments_lexer": "ipython3",
   "version": "3.8.10"
  },
  "orig_nbformat": 4,
  "vscode": {
   "interpreter": {
    "hash": "e3ada8b426290dd76767ba6368ea690ca67a7a436b12c3cf567e5cb72f89ca03"
   }
  }
 },
 "nbformat": 4,
 "nbformat_minor": 2
}
