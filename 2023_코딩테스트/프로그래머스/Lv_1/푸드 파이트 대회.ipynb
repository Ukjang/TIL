{
 "cells": [
  {
   "cell_type": "code",
   "execution_count": null,
   "metadata": {},
   "outputs": [],
   "source": [
    "def solution(food):\n",
    "    answer = ''\n",
    "    # 2의 배수단위로 음식이 배급. 2의 단위로 나눈 몫 * 해당 인덱스 값 \n",
    "    # + 0 배치하고 대칭하여 배열\n",
    "    for idx, value in enumerate(food) :\n",
    "        # 물이 아니여야 함\n",
    "        if idx != 0 :\n",
    "            answer += str(idx) * (value // 2)\n",
    "    answer = answer + '0' + answer[::-1]\n",
    "    return answer"
   ]
  }
 ],
 "metadata": {
  "language_info": {
   "name": "python"
  },
  "orig_nbformat": 4
 },
 "nbformat": 4,
 "nbformat_minor": 2
}
