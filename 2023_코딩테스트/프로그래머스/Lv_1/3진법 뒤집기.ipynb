{
 "cells": [
  {
   "cell_type": "code",
   "execution_count": null,
   "metadata": {},
   "outputs": [],
   "source": [
    "def solution(n):\n",
    "    # 삼진법 표기\n",
    "    result = ''\n",
    "    while True :\n",
    "        quo = n // 3\n",
    "        rem = n % 3\n",
    "        if quo == 0:\n",
    "            result = str(rem) + result\n",
    "            break\n",
    "        result = str(rem) + result\n",
    "        n = quo\n",
    "    # 행렬기준 3진법 다시 연산\n",
    "    answer = 0\n",
    "    for res in range(len(result)) :\n",
    "        answer += 3**(res) * int(result[res])\n",
    "    return answer"
   ]
  }
 ],
 "metadata": {
  "kernelspec": {
   "display_name": "Python 3",
   "language": "python",
   "name": "python3"
  },
  "language_info": {
   "codemirror_mode": {
    "name": "ipython",
    "version": 3
   },
   "file_extension": ".py",
   "mimetype": "text/x-python",
   "name": "python",
   "nbconvert_exporter": "python",
   "pygments_lexer": "ipython3",
   "version": "3.8.10"
  },
  "orig_nbformat": 4,
  "vscode": {
   "interpreter": {
    "hash": "e3ada8b426290dd76767ba6368ea690ca67a7a436b12c3cf567e5cb72f89ca03"
   }
  }
 },
 "nbformat": 4,
 "nbformat_minor": 2
}
