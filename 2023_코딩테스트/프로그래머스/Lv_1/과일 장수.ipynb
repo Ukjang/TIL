{
 "cells": [
  {
   "cell_type": "code",
   "execution_count": null,
   "metadata": {},
   "outputs": [],
   "source": [
    "def solution(k, m, score):\n",
    "    answer = 0\n",
    "    ans_dict = {}\n",
    "    # 리스트 내림차순 정렬 한 다음에 개수별로 짜름\n",
    "    # 최소값 기준으로 계산 후 더해주기\n",
    "    score.sort(reverse=True)\n",
    "    #이익이 발생하지 않는 경우에는 0을 return 해주세요.\n",
    "    #while 문은 너무 오래걸림\n",
    "    if len(score) < m :\n",
    "        answer = 0\n",
    "    else :\n",
    "        for i in range(len(score) // m ) :\n",
    "            answer += min(score[i * m : (i+1) * m]) * m\n",
    "    return answer"
   ]
  }
 ],
 "metadata": {
  "kernelspec": {
   "display_name": "Python 3",
   "language": "python",
   "name": "python3"
  },
  "language_info": {
   "name": "python",
   "version": "3.8.10 (tags/v3.8.10:3d8993a, May  3 2021, 11:48:03) [MSC v.1928 64 bit (AMD64)]"
  },
  "orig_nbformat": 4,
  "vscode": {
   "interpreter": {
    "hash": "e3ada8b426290dd76767ba6368ea690ca67a7a436b12c3cf567e5cb72f89ca03"
   }
  }
 },
 "nbformat": 4,
 "nbformat_minor": 2
}
