{
 "cells": [
  {
   "cell_type": "code",
   "execution_count": 1,
   "metadata": {},
   "outputs": [],
   "source": [
    "def solution(numbers, hand):\n",
    "    #왼쪽 열의 3개의 숫자 1, 4, 7을 입력할 때는 왼손 엄지손가락을 사용합니다.\n",
    "    left_list =  [1, 4, 7]\n",
    "    #오른쪽 열의 3개의 숫자 3, 6, 9를 입력할 때는 오른손 엄지손가락을 사용합니다.\n",
    "    right_list = [3, 6, 9]\n",
    "    # 2, 5, 8, 0을 입력할 때는 두 엄지손가락의 현재 키패드의 위치에서 더 가까운 엄지손가락을 사용합니다.\n",
    "    #  *과 # 위치 지정 및 0 디버깅\n",
    "    left_loc = 10\n",
    "    right_loc = 12\n",
    "    answer = ''\n",
    "    for number in numbers :\n",
    "        if number == 0 :\n",
    "            number = 11\n",
    "        if number in left_list :\n",
    "            answer += 'L'\n",
    "            left_loc = number\n",
    "        elif number in right_list:\n",
    "            answer += 'R'\n",
    "            right_loc = number\n",
    "        # 키패드간 거리는 목 + 너머지의 절대값의 차의 합\n",
    "        else :\n",
    "            r_dis = abs(((number-1) // 3) - ((right_loc-1) // 3)) + abs(((number-1) % 3) - ((right_loc-1) % 3))\n",
    "            l_dis = abs(((number-1) // 3) - ((left_loc-1) // 3)) + abs(((number-1) % 3) - ((left_loc-1) % 3))\n",
    "                #만약 두 엄지손가락의 거리가 같다면, 오른손잡이는 오른손 엄지손가락, 왼손잡이는 왼손 엄지손가락을 사용합니다.\n",
    "            if r_dis == l_dis :\n",
    "                if hand == 'right' :\n",
    "                    answer += 'R'\n",
    "                    right_loc = number\n",
    "                else :\n",
    "                    answer += 'L'\n",
    "                    left_loc = number\n",
    "            elif r_dis > l_dis :\n",
    "                answer += 'L'\n",
    "                left_loc = number\n",
    "            else :\n",
    "                answer += 'R'\n",
    "                right_loc = number\n",
    "    return answer"
   ]
  },
  {
   "cell_type": "code",
   "execution_count": 6,
   "metadata": {},
   "outputs": [
    {
     "name": "stdout",
     "output_type": "stream",
     "text": [
      "7 7 12\n",
      "11 7 11\n",
      "8 8 11\n",
      "2 2 11\n",
      "8 2 8\n",
      "3 2 3\n",
      "1 1 3\n",
      "5 5 3\n",
      "7 7 3\n",
      "6 7 6\n",
      "2 7 2\n"
     ]
    },
    {
     "data": {
      "text/plain": [
       "'LRLLRRLLLRR'"
      ]
     },
     "execution_count": 6,
     "metadata": {},
     "output_type": "execute_result"
    }
   ],
   "source": [
    "numbers = [7, 0, 8, 2, 8, 3, 1, 5, 7, 6, 2]\n",
    "hand = 'left'\n",
    "#왼쪽 열의 3개의 숫자 1, 4, 7을 입력할 때는 왼손 엄지손가락을 사용합니다.\n",
    "left_list =  [1, 4, 7]\n",
    "#오른쪽 열의 3개의 숫자 3, 6, 9를 입력할 때는 오른손 엄지손가락을 사용합니다.\n",
    "right_list = [3, 6, 9]\n",
    "# 2, 5, 8, 0을 입력할 때는 두 엄지손가락의 현재 키패드의 위치에서 더 가까운 엄지손가락을 사용합니다.\n",
    "#  *과 # 위치 지정 및 0 디버깅\n",
    "left_loc = 10\n",
    "right_loc = 12\n",
    "answer = ''\n",
    "for number in numbers :\n",
    "    if number == 0 :\n",
    "        number = 11\n",
    "    if number in left_list :\n",
    "        answer += 'L'\n",
    "        left_loc = number\n",
    "    elif number in right_list:\n",
    "        answer += 'R'\n",
    "        right_loc = number\n",
    "    # 키패드간 거리는 목 + 너머지의 절대값의 차의 합\n",
    "    else :\n",
    "        r_dis = abs(((number-1) // 3) - ((right_loc-1) // 3)) + abs(((number-1) % 3) - ((right_loc-1) % 3))\n",
    "        l_dis = abs(((number-1) // 3) - ((left_loc-1) // 3)) + abs(((number-1) % 3) - ((left_loc-1) % 3))\n",
    "            #만약 두 엄지손가락의 거리가 같다면, 오른손잡이는 오른손 엄지손가락, 왼손잡이는 왼손 엄지손가락을 사용합니다.\n",
    "        if r_dis == l_dis :\n",
    "            if hand == 'right' :\n",
    "                answer += 'R'\n",
    "                right_loc = number\n",
    "            else :\n",
    "                answer += 'L'\n",
    "                left_loc = number\n",
    "        elif r_dis > l_dis :\n",
    "            answer += 'L'\n",
    "            left_loc = number\n",
    "        else :\n",
    "            answer += 'R'\n",
    "            right_loc = number\n",
    "    print(number, left_loc, right_loc)\n",
    "answer"
   ]
  }
 ],
 "metadata": {
  "kernelspec": {
   "display_name": "Python 3",
   "language": "python",
   "name": "python3"
  },
  "language_info": {
   "codemirror_mode": {
    "name": "ipython",
    "version": 3
   },
   "file_extension": ".py",
   "mimetype": "text/x-python",
   "name": "python",
   "nbconvert_exporter": "python",
   "pygments_lexer": "ipython3",
   "version": "3.8.10 (tags/v3.8.10:3d8993a, May  3 2021, 11:48:03) [MSC v.1928 64 bit (AMD64)]"
  },
  "orig_nbformat": 4,
  "vscode": {
   "interpreter": {
    "hash": "e3ada8b426290dd76767ba6368ea690ca67a7a436b12c3cf567e5cb72f89ca03"
   }
  }
 },
 "nbformat": 4,
 "nbformat_minor": 2
}
