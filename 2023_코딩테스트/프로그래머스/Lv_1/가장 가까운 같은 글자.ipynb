{
 "cells": [
  {
   "cell_type": "code",
   "execution_count": null,
   "metadata": {},
   "outputs": [],
   "source": [
    "def solution(s):\n",
    "    answer = []\n",
    "    result = {}\n",
    "    # 각 문자열에 대한 반복\n",
    "    # 키값에 해당되는 value와 자신의 위치값으 차이로 정답 입력\n",
    "    for i in range(len(s)) :\n",
    "        # 언급된적이 없으면 -1\n",
    "        if s[i] not in result.keys() :\n",
    "            answer.append(-1)\n",
    "            result[s[i]] = i\n",
    "        else :\n",
    "            answer.append(i - result[s[i]])\n",
    "            result[s[i]] = i\n",
    "    return answer"
   ]
  }
 ],
 "metadata": {
  "language_info": {
   "name": "python"
  },
  "orig_nbformat": 4
 },
 "nbformat": 4,
 "nbformat_minor": 2
}
