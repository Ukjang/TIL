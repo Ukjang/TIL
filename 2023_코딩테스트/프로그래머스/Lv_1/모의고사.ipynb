{
 "cells": [
  {
   "cell_type": "code",
   "execution_count": null,
   "metadata": {},
   "outputs": [],
   "source": [
    "def solution(answers):\n",
    "    list1 = [1, 2, 3, 4, 5]\n",
    "    list2 = [2, 1, 2, 3, 2, 4, 2, 5]\n",
    "    list3 = [3, 3, 1, 1, 2, 2, 4, 4, 5, 5]\n",
    "    cnt1 = 0\n",
    "    cnt2 = 0\n",
    "    cnt3 = 0\n",
    "    # 가장 높은 점수를 받은 사람이 여럿일 경우, return하는 값을 오름차순 정렬해주세요.\n",
    "    for i in range(len(answers)) :\n",
    "        ans = answers[i]\n",
    "        ans1 = i % 5\n",
    "        ans2 = i % 8\n",
    "        ans3 = i % 10\n",
    "        if ans == list1[ans1] :\n",
    "            cnt1 += 1\n",
    "        if ans == list2[ans2] :\n",
    "            cnt2 += 1\n",
    "        if ans == list3[ans3] :\n",
    "            cnt3 += 1\n",
    "    answer = []\n",
    "    ans_max = max(cnt1, cnt2, cnt3)\n",
    "    if cnt1 == ans_max :\n",
    "        answer.append(1)\n",
    "    if cnt2 == ans_max :\n",
    "        answer.append(2)\n",
    "    if cnt3 == ans_max :\n",
    "        answer.append(3)\n",
    "    return answer"
   ]
  },
  {
   "cell_type": "code",
   "execution_count": null,
   "metadata": {},
   "outputs": [],
   "source": [
    "def solution(answers):\n",
    "    list1 = [1, 2, 3, 4, 5]\n",
    "    list2 = [2, 1, 2, 3, 2, 4, 2, 5]\n",
    "    list3 = [3, 3, 1, 1, 2, 2, 4, 4, 5, 5]\n",
    "    score = [0, 0, 0]\n",
    "    # 가장 높은 점수를 받은 사람이 여럿일 경우, return하는 값을 오름차순 정렬해주세요.\n",
    "    for i in range(len(answers)) :\n",
    "        ans = answers[i]\n",
    "        if ans == list1[i % 5] :\n",
    "            score[0] = score[0] + 1\n",
    "        if ans == list2[i % 8] :\n",
    "            score[1] = score[1] + 1\n",
    "        if ans == list3[ i % 10] :\n",
    "            score[2] = score[2] + 1\n",
    "    answer = []\n",
    "    for idx, val in enumerate(score) :\n",
    "        if val == max(score):\n",
    "            answer.append(idx+1)\n",
    "    return answer"
   ]
  },
  {
   "cell_type": "code",
   "execution_count": 2,
   "metadata": {},
   "outputs": [
    {
     "name": "stdout",
     "output_type": "stream",
     "text": [
      "1\n",
      "2\n",
      "3\n",
      "4\n",
      "5\n",
      "6\n",
      "7\n",
      "8\n",
      "9\n",
      "완료\n"
     ]
    }
   ],
   "source": [
    "for i in range(1, 10) :\n",
    "    print(i)\n",
    "else :\n",
    "    print('완료')"
   ]
  }
 ],
 "metadata": {
  "kernelspec": {
   "display_name": "Python 3",
   "language": "python",
   "name": "python3"
  },
  "language_info": {
   "codemirror_mode": {
    "name": "ipython",
    "version": 3
   },
   "file_extension": ".py",
   "mimetype": "text/x-python",
   "name": "python",
   "nbconvert_exporter": "python",
   "pygments_lexer": "ipython3",
   "version": "3.8.10"
  },
  "orig_nbformat": 4,
  "vscode": {
   "interpreter": {
    "hash": "e3ada8b426290dd76767ba6368ea690ca67a7a436b12c3cf567e5cb72f89ca03"
   }
  }
 },
 "nbformat": 4,
 "nbformat_minor": 2
}
