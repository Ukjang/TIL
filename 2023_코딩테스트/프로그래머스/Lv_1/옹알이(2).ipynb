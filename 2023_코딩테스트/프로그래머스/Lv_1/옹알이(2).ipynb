{
 "cells": [
  {
   "cell_type": "code",
   "execution_count": 7,
   "metadata": {},
   "outputs": [
    {
     "name": "stdout",
     "output_type": "stream",
     "text": [
      "01\n",
      "uuu\n",
      "11\n",
      "132\n",
      "00a\n"
     ]
    },
    {
     "data": {
      "text/plain": [
       "2"
      ]
     },
     "execution_count": 7,
     "metadata": {},
     "output_type": "execute_result"
    }
   ],
   "source": [
    "babbling = [\"ayaye\", \"uuu\", \"yeye\", \"yemawoo\", \"ayaayaa\"]\n",
    "\n",
    "# replace?\n",
    "# spilt?\n",
    "# in? count?\n",
    "answer = 0\n",
    "for ba in babbling :\n",
    "    for idx , value in enumerate([\"aya\", \"ye\", \"woo\", \"ma\"]) :\n",
    "        ba = ba.replace(value, str(idx))\n",
    "    print(ba)\n",
    "    if ba.isnumeric():\n",
    "        for st in range(len(ba)-1):\n",
    "            if ba[st] == ba[st+1]:\n",
    "                break \n",
    "        else :\n",
    "            answer += 1\n",
    "answer"
   ]
  },
  {
   "cell_type": "code",
   "execution_count": null,
   "metadata": {},
   "outputs": [],
   "source": [
    "def solution(babbling):\n",
    "    # 연속해서 발음 x \n",
    "    # 네가지 발음만으로 구성되어야 함\n",
    "    answer = 0\n",
    "    for ba in babbling :\n",
    "        # 숫자로 해당 발음 교체\n",
    "        for idx , value in enumerate([\"aya\", \"ye\", \"woo\", \"ma\"]) :\n",
    "            ba = ba.replace(value, str(idx))\n",
    "        # 다른 발음 남아 있으면 false\n",
    "        if ba.isnumeric():\n",
    "            # 연속된 발음 있는지 확인\n",
    "            for st in range(len(ba)-1):\n",
    "                if ba[st] == ba[st+1]:\n",
    "                    break \n",
    "            else :\n",
    "                answer += 1\n",
    "    return answer"
   ]
  },
  {
   "cell_type": "code",
   "execution_count": 3,
   "metadata": {},
   "outputs": [
    {
     "data": {
      "text/plain": [
       "False"
      ]
     },
     "execution_count": 3,
     "metadata": {},
     "output_type": "execute_result"
    }
   ],
   "source": [
    "str1.isnumeric()"
   ]
  }
 ],
 "metadata": {
  "kernelspec": {
   "display_name": "Python 3",
   "language": "python",
   "name": "python3"
  },
  "language_info": {
   "codemirror_mode": {
    "name": "ipython",
    "version": 3
   },
   "file_extension": ".py",
   "mimetype": "text/x-python",
   "name": "python",
   "nbconvert_exporter": "python",
   "pygments_lexer": "ipython3",
   "version": "3.8.10"
  },
  "orig_nbformat": 4,
  "vscode": {
   "interpreter": {
    "hash": "e3ada8b426290dd76767ba6368ea690ca67a7a436b12c3cf567e5cb72f89ca03"
   }
  }
 },
 "nbformat": 4,
 "nbformat_minor": 2
}
