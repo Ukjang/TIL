{
 "cells": [
  {
   "cell_type": "code",
   "execution_count": null,
   "metadata": {},
   "outputs": [],
   "source": [
    "def solution(num):\n",
    "    n = 0\n",
    "    while True :\n",
    "        if num == 1 :\n",
    "            break\n",
    "        elif n == 500 :\n",
    "            n = -1\n",
    "            break\n",
    "        elif num % 2 == 0 :\n",
    "            num /= 2\n",
    "        else :\n",
    "            num = num * 3 + 1\n",
    "        n += 1\n",
    "    return n"
   ]
  }
 ],
 "metadata": {
  "language_info": {
   "name": "python"
  },
  "orig_nbformat": 4
 },
 "nbformat": 4,
 "nbformat_minor": 2
}
