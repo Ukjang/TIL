{
 "cells": [
  {
   "cell_type": "code",
   "execution_count": 46,
   "metadata": {},
   "outputs": [],
   "source": [
    "def solution(ingredient):\n",
    "    answer = 0\n",
    "    # 1, 2, 3, 1 순서로 배열 되어 있으면 index 받아서 pop\n",
    "    # 순서에 대한 검정이 필요\n",
    "    # 짜르고 뒤애 재료 붙어서 되는 경우 존재 -> while 문\n",
    "    s = []\n",
    "    for i in ingredient :\n",
    "        s.append(i)\n",
    "        # 마지막 4글자 검정으로 while 문 사용 x\n",
    "        if s[-4:] == [1, 2, 3, 1] :\n",
    "            answer += 1\n",
    "            for _ in range(4):\n",
    "                # 오른쪽 원소 제거\n",
    "                s.pop()\n",
    "    return answer"
   ]
  }
 ],
 "metadata": {
  "kernelspec": {
   "display_name": "Python 3",
   "language": "python",
   "name": "python3"
  },
  "language_info": {
   "codemirror_mode": {
    "name": "ipython",
    "version": 3
   },
   "file_extension": ".py",
   "mimetype": "text/x-python",
   "name": "python",
   "nbconvert_exporter": "python",
   "pygments_lexer": "ipython3",
   "version": "3.8.10"
  },
  "orig_nbformat": 4,
  "vscode": {
   "interpreter": {
    "hash": "e3ada8b426290dd76767ba6368ea690ca67a7a436b12c3cf567e5cb72f89ca03"
   }
  }
 },
 "nbformat": 4,
 "nbformat_minor": 2
}
