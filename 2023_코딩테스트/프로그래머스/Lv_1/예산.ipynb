{
 "cells": [
  {
   "cell_type": "code",
   "execution_count": null,
   "metadata": {},
   "outputs": [],
   "source": [
    "def solution(d, budget):\n",
    "    # 오름차순 배열해서 갯구 구하면 될듯?\n",
    "    d.sort()\n",
    "    answer = 0\n",
    "    cnt = 0\n",
    "    for i in d :\n",
    "        if cnt + i <= budget :\n",
    "            answer += 1\n",
    "            cnt += i\n",
    "    return answer"
   ]
  }
 ],
 "metadata": {
  "language_info": {
   "name": "python"
  },
  "orig_nbformat": 4
 },
 "nbformat": 4,
 "nbformat_minor": 2
}
