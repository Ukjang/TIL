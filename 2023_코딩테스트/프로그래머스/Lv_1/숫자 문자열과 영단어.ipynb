{
 "cells": [
  {
   "cell_type": "code",
   "execution_count": 1,
   "metadata": {},
   "outputs": [],
   "source": [
    "def solution(s):\n",
    "    # 1. 딕트 영문자에 해당되는 숫자 정의\n",
    "    # 2. 영문과 숫자 판별 필요\n",
    "    # 3. 문자열 seven / eight 구분되어있을 따로 들어가도록 나눠주기\n",
    "    dict1 = {'zero' : '0',\n",
    "            'one' : '1',\n",
    "            'two' : '2',\n",
    "             'three' : '3',\n",
    "             'four' : '4',\n",
    "             'five' : '5',\n",
    "             'six' : '6',\n",
    "             'seven' : '7',\n",
    "             'eight' : '8',\n",
    "             'nine' : '9',\n",
    "            }\n",
    "    answer = ''\n",
    "    temp_str = ''\n",
    "    for i in s :\n",
    "        # 2. 영문과 숫자 판별 필요\n",
    "        try : \n",
    "            answer += str(int(i))\n",
    "        except :\n",
    "            temp_str += i\n",
    "        # 3. 문자열 seven / eight 구분되어있을 따로 들어가도록 나눠주기\n",
    "        if temp_str in dict1.keys() :\n",
    "            answer += dict1[temp_str]\n",
    "            temp_str = ''\n",
    "    return answer\n",
    "    \n",
    "    \n",
    "    "
   ]
  },
  {
   "cell_type": "code",
   "execution_count": 2,
   "metadata": {},
   "outputs": [
    {
     "data": {
      "text/plain": [
       "'1'"
      ]
     },
     "execution_count": 2,
     "metadata": {},
     "output_type": "execute_result"
    }
   ],
   "source": [
    "s = \"one4seveneight\"\n",
    "solution(s)"
   ]
  },
  {
   "cell_type": "code",
   "execution_count": 6,
   "metadata": {},
   "outputs": [
    {
     "name": "stdout",
     "output_type": "stream",
     "text": [
      "o  o\n",
      "n  on\n",
      "e 1 \n",
      "4 14 \n",
      "s 14 s\n",
      "e 14 se\n",
      "v 14 sev\n",
      "e 14 seve\n",
      "n 147 \n",
      "e 147 e\n",
      "i 147 ei\n",
      "g 147 eig\n",
      "h 147 eigh\n",
      "t 1478 \n"
     ]
    },
    {
     "data": {
      "text/plain": [
       "'1478'"
      ]
     },
     "execution_count": 6,
     "metadata": {},
     "output_type": "execute_result"
    }
   ],
   "source": [
    "# 1. 딕트 영문자에 해당되는 숫자 정의\n",
    "# 2. 영문과 숫자 판별 필요\n",
    "# 3. 문자열 seven / eight 구분되어있을 따로 들어가도록 나눠주기\n",
    "dict1 = {'zero' : '0',\n",
    "        'one' : '1',\n",
    "        'two' : '2',\n",
    "            'three' : '3',\n",
    "            'four' : '4',\n",
    "            'five' : '5',\n",
    "            'six' : '6',\n",
    "            'seven' : '7',\n",
    "            'eight' : '8',\n",
    "            'nine' : '9',\n",
    "        }\n",
    "answer = ''\n",
    "temp_str = ''\n",
    "for i in s :\n",
    "    # 2. 영문과 숫자 판별 필요\n",
    "    try : \n",
    "        answer += str(int(i))\n",
    "    except :\n",
    "        temp_str += i\n",
    "    # 3. 문자열 seven / eight 구분되어있을 따로 들어가도록 나눠주기\n",
    "    if temp_str in dict1.keys() :\n",
    "        answer += dict1[temp_str]\n",
    "        temp_str = ''\n",
    "    print(i, answer, temp_str)\n",
    "answer"
   ]
  },
  {
   "cell_type": "code",
   "execution_count": null,
   "metadata": {},
   "outputs": [],
   "source": [
    "# replace 이용하여 손쉽게 구현 !\n",
    "def solution(s):\n",
    "    # 1. 딕트 영문자에 해당되는 숫자 정의\n",
    "    # 2. 영문과 숫자 판별 필요\n",
    "    # 3. 문자열 seven / eight 구분되어있을 따로 들어가도록 나눠주기\n",
    "    dict1 = {'zero' : '0',\n",
    "            'one' : '1',\n",
    "            'two' : '2',\n",
    "             'three' : '3',\n",
    "             'four' : '4',\n",
    "             'five' : '5',\n",
    "             'six' : '6',\n",
    "             'seven' : '7',\n",
    "             'eight' : '8',\n",
    "             'nine' : '9',\n",
    "            }\n",
    "    answer = s\n",
    "    for key, value in dict1.items() :\n",
    "        answer = answer.replace(key, value)\n",
    "    return int(answer)\n",
    "    \n",
    "    \n",
    "    "
   ]
  }
 ],
 "metadata": {
  "kernelspec": {
   "display_name": "Python 3",
   "language": "python",
   "name": "python3"
  },
  "language_info": {
   "codemirror_mode": {
    "name": "ipython",
    "version": 3
   },
   "file_extension": ".py",
   "mimetype": "text/x-python",
   "name": "python",
   "nbconvert_exporter": "python",
   "pygments_lexer": "ipython3",
   "version": "3.8.10"
  },
  "orig_nbformat": 4,
  "vscode": {
   "interpreter": {
    "hash": "e3ada8b426290dd76767ba6368ea690ca67a7a436b12c3cf567e5cb72f89ca03"
   }
  }
 },
 "nbformat": 4,
 "nbformat_minor": 2
}
