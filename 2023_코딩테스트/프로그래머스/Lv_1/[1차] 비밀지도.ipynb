{
 "cells": [
  {
   "cell_type": "code",
   "execution_count": null,
   "metadata": {},
   "outputs": [],
   "source": [
    "def solution(n, arr1, arr2):\n",
    "    # 이진법 배열 진행 후\n",
    "    # 둘중 하나 벽이면 벽, 둘다 공백이면 공백\n",
    "    answer = []\n",
    "    for i in range(n) :\n",
    "        ans_temp = ['0']*n\n",
    "        for ar in [arr1, arr2] :\n",
    "            temp_arr = ar[i]\n",
    "            res_arr = ''\n",
    "            # 이진법 변환\n",
    "            while True :\n",
    "                quo = temp_arr // 2\n",
    "                rem = temp_arr % 2\n",
    "                if quo == 0  :\n",
    "                    res_arr = str(rem) + res_arr\n",
    "                    break\n",
    "                res_arr = str(rem) + res_arr\n",
    "                temp_arr = quo\n",
    "            # 앞에 빈 0값 채워주기\n",
    "            res_arr = '0'*(n-len(res_arr)) + res_arr\n",
    "            # 전체 합치기\n",
    "            for j in range(n) :\n",
    "                ans_temp[j] = str(int(ans_temp[j]) + int(res_arr[j]))\n",
    "        answer.append(''.join([' ' if nm == '0'  else '#' for nm in ans_temp]))\n",
    "    return answer"
   ]
  },
  {
   "cell_type": "code",
   "execution_count": 7,
   "metadata": {},
   "outputs": [
    {
     "data": {
      "text/plain": [
       "['######', '###  #', '##  ##', ' #### ', ' #####', '### # ']"
      ]
     },
     "execution_count": 7,
     "metadata": {},
     "output_type": "execute_result"
    }
   ],
   "source": [
    "n = 6\n",
    "arr1 = \t[46, 33, 33 ,22, 31, 50]\n",
    "arr2 = [27 ,56, 19, 14, 14, 10]\n",
    "# 이진법 배열 진행 후\n",
    "# 둘중 하나 벽이면 벽, 둘다 공백이면 공백\n",
    "answer = []\n",
    "for i in range(n) :\n",
    "    ans_temp = ['0']*n\n",
    "    for ar in [arr1, arr2] :\n",
    "        temp_arr = ar[i]\n",
    "        res_arr = ''\n",
    "        # 이진법 변환\n",
    "        while True :\n",
    "            quo = temp_arr // 2\n",
    "            rem = temp_arr % 2\n",
    "            if quo == 0  :\n",
    "                res_arr = str(rem) + res_arr\n",
    "                break\n",
    "            res_arr = str(rem) + res_arr\n",
    "            temp_arr = quo\n",
    "        # 앞에 빈 0값 채워주기\n",
    "        res_arr = '0'*(n-len(res_arr)) + res_arr\n",
    "        # 전체 합치기\n",
    "        for j in range(n) :\n",
    "            ans_temp[j] = str(int(ans_temp[j]) + int(res_arr[j]))\n",
    "    answer.append(''.join([' ' if nm == '0'  else '#' for nm in ans_temp]))\n",
    "        \n",
    "answer"
   ]
  }
 ],
 "metadata": {
  "kernelspec": {
   "display_name": "Python 3",
   "language": "python",
   "name": "python3"
  },
  "language_info": {
   "codemirror_mode": {
    "name": "ipython",
    "version": 3
   },
   "file_extension": ".py",
   "mimetype": "text/x-python",
   "name": "python",
   "nbconvert_exporter": "python",
   "pygments_lexer": "ipython3",
   "version": "3.8.10"
  },
  "orig_nbformat": 4,
  "vscode": {
   "interpreter": {
    "hash": "e3ada8b426290dd76767ba6368ea690ca67a7a436b12c3cf567e5cb72f89ca03"
   }
  }
 },
 "nbformat": 4,
 "nbformat_minor": 2
}
