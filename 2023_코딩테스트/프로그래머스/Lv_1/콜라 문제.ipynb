{
 "cells": [
  {
   "cell_type": "code",
   "execution_count": null,
   "metadata": {},
   "outputs": [],
   "source": [
    "def solution(a, b, n):\n",
    "    # a 개 단위로 나머지를 유지해서 계속 개산\n",
    "    # a 개 이하가 되면 종료\n",
    "    answer = 0\n",
    "    while True :\n",
    "        cola1 = n // a\n",
    "        pet1 = n % a\n",
    "        answer += (cola1 * b)\n",
    "        n = (cola1 * b) + pet1\n",
    "         # a 개 이하가 되면 종료\n",
    "        if n < a :\n",
    "            break\n",
    "    return answer"
   ]
  }
 ],
 "metadata": {
  "kernelspec": {
   "display_name": "Python 3",
   "language": "python",
   "name": "python3"
  },
  "language_info": {
   "name": "python",
   "version": "3.8.10 (tags/v3.8.10:3d8993a, May  3 2021, 11:48:03) [MSC v.1928 64 bit (AMD64)]"
  },
  "orig_nbformat": 4,
  "vscode": {
   "interpreter": {
    "hash": "e3ada8b426290dd76767ba6368ea690ca67a7a436b12c3cf567e5cb72f89ca03"
   }
  }
 },
 "nbformat": 4,
 "nbformat_minor": 2
}
