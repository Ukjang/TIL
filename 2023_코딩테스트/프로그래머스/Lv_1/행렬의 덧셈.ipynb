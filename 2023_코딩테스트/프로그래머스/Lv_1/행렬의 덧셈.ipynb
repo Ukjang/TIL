{
 "cells": [
  {
   "cell_type": "code",
   "execution_count": null,
   "metadata": {},
   "outputs": [],
   "source": [
    "def solution(arr1, arr2):\n",
    "    answer = []\n",
    "    for i in range(len(arr1)) :\n",
    "        temp = []\n",
    "        for j in range(len(arr1[i])) :\n",
    "            temp.append(arr1[i][j] + arr2[i][j])\n",
    "        answer.append(temp)\n",
    "    return answer"
   ]
  },
  {
   "cell_type": "code",
   "execution_count": null,
   "metadata": {},
   "outputs": [],
   "source": [
    "# zip 이용하면 훨씬 편함\n",
    "def solution(arr1, arr2):\n",
    "    return [[c + d for c, d in zip(a,b)] for a, b in zip(arr1, arr2)]"
   ]
  }
 ],
 "metadata": {
  "language_info": {
   "name": "python"
  },
  "orig_nbformat": 4
 },
 "nbformat": 4,
 "nbformat_minor": 2
}
