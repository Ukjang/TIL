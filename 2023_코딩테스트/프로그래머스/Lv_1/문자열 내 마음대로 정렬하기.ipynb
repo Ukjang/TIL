{
 "cells": [
  {
   "cell_type": "code",
   "execution_count": 8,
   "metadata": {},
   "outputs": [
    {
     "data": {
      "text/plain": [
       "['c_abce', 'c_abcd', 'x_cdx']"
      ]
     },
     "execution_count": 8,
     "metadata": {},
     "output_type": "execute_result"
    }
   ],
   "source": [
    "strings = [\"abce\", \"abcd\", \"cdx\"]\t\n",
    "n= 2\n",
    "answer = []\n",
    "# 그 글자의 index값을 문자 앞에 붙여주고 정렬\n",
    "n_strings = [str(string[n]) + '_'+ string for string in strings]\n",
    "n_strings"
   ]
  },
  {
   "cell_type": "code",
   "execution_count": 9,
   "metadata": {},
   "outputs": [
    {
     "data": {
      "text/plain": [
       "['c_abcd', 'c_abce', 'x_cdx']"
      ]
     },
     "execution_count": 9,
     "metadata": {},
     "output_type": "execute_result"
    }
   ],
   "source": [
    "# 문자는 앞에 부터 정렬해서 나옴 앞에 특정 문자 붙여서 정렬\n",
    "def solution(strings, n):\n",
    "    answer = []\n",
    "    # 그 글자의 index값을 문자 앞에 붙여주고 정렬\n",
    "    n_strings = [str(string[n]) + '_'+ string for string in strings]\n",
    "    # 글자로 정렬하면 10 이 1보다 큼\n",
    "    answer = [''.join(str.split('_')[1]) for str in sorted(n_strings)]\n",
    "    \n",
    "    return answer"
   ]
  }
 ],
 "metadata": {
  "kernelspec": {
   "display_name": "Python 3",
   "language": "python",
   "name": "python3"
  },
  "language_info": {
   "codemirror_mode": {
    "name": "ipython",
    "version": 3
   },
   "file_extension": ".py",
   "mimetype": "text/x-python",
   "name": "python",
   "nbconvert_exporter": "python",
   "pygments_lexer": "ipython3",
   "version": "3.8.10"
  },
  "orig_nbformat": 4,
  "vscode": {
   "interpreter": {
    "hash": "e3ada8b426290dd76767ba6368ea690ca67a7a436b12c3cf567e5cb72f89ca03"
   }
  }
 },
 "nbformat": 4,
 "nbformat_minor": 2
}
