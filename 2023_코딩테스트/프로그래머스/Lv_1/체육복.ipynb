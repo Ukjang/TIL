{
 "cells": [
  {
   "cell_type": "code",
   "execution_count": null,
   "metadata": {},
   "outputs": [],
   "source": [
    "def solution(n, lost, reserve):\n",
    "    # 본인이 도난당하고 여유분이 있는 경우 제거\n",
    "    re_lost = set(lost) - set(reserve)\n",
    "    re_reserve = set(reserve) - set(lost)\n",
    "    # -1. 앞번호 한테 우선적으로 빌려줌\n",
    "    answer = 0\n",
    "    for i in re_reserve:\n",
    "        if i-1 in re_lost:\n",
    "            answer += 1\n",
    "            re_lost.remove(i-1)\n",
    "        elif i + 1 in re_lost :\n",
    "            answer += 1\n",
    "            re_lost.remove(i+1)\n",
    "    # lost 남은 수 만큼 수만큼 빼주기\n",
    "    answer = n - len(re_lost)\n",
    "    return answer\n"
   ]
  }
 ],
 "metadata": {
  "kernelspec": {
   "display_name": "Python 3",
   "language": "python",
   "name": "python3"
  },
  "language_info": {
   "name": "python",
   "version": "3.8.10 (tags/v3.8.10:3d8993a, May  3 2021, 11:48:03) [MSC v.1928 64 bit (AMD64)]"
  },
  "orig_nbformat": 4,
  "vscode": {
   "interpreter": {
    "hash": "e3ada8b426290dd76767ba6368ea690ca67a7a436b12c3cf567e5cb72f89ca03"
   }
  }
 },
 "nbformat": 4,
 "nbformat_minor": 2
}
