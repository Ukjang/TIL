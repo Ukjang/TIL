{
 "cells": [
  {
   "cell_type": "code",
   "execution_count": null,
   "metadata": {},
   "outputs": [],
   "source": [
    "def solution(s, n):\n",
    "    alphabet_lo = 'abcdefghijklmnopqrstuvwxyz'\n",
    "    alpahbet_up = alphabet_lo.upper()\n",
    "    answer = ''\n",
    "    for i in s :\n",
    "        # 공백 구분\n",
    "        if i == ' ':\n",
    "            answer += i\n",
    "        else :\n",
    "        # 대소문자 구별\n",
    "            if i == i.upper():\n",
    "                answer += alpahbet_up[((alpahbet_up.index(i) + n) % len(alphabet_lo))]\n",
    "            else :\n",
    "                answer += alphabet_lo[((alphabet_lo.index(i) + n) % len(alphabet_lo))]\n",
    "    return answer\n"
   ]
  }
 ],
 "metadata": {
  "language_info": {
   "name": "python"
  },
  "orig_nbformat": 4
 },
 "nbformat": 4,
 "nbformat_minor": 2
}
