{
 "cells": [
  {
   "cell_type": "code",
   "execution_count": 34,
   "metadata": {},
   "outputs": [
    {
     "data": {
      "text/plain": [
       "[[0, 0, 0, 0, 0, 1, 1, 1, 1, 0, 0, 0, 0, 0],\n",
       " [1, 1, 1, 1, 1, 1, 0, 1, 1, 1, 1, 1, 1, 0],\n",
       " [1, 1, 0, 1, 1, 1, 0, 1, 1, 0, 1, 1, 1, 0],\n",
       " [1, 1, 0, 1, 1, 1, 0, 1, 1, 0, 0, 0, 0, 0],\n",
       " [1, 1, 0, 1, 1, 1, 1, 1, 1, 1, 1, 1, 1, 1],\n",
       " [1, 1, 0, 1, 1, 1, 1, 1, 1, 1, 1, 1, 0, 0],\n",
       " [1, 1, 0, 0, 0, 0, 0, 0, 0, 1, 1, 1, 1, 1],\n",
       " [0, 1, 1, 1, 1, 1, 1, 1, 1, 1, 1, 1, 1, 1],\n",
       " [0, 0, 0, 0, 0, 0, 0, 0, 0, 1, 1, 1, 1, 1],\n",
       " [0, 1, 1, 1, 1, 1, 1, 1, 1, 1, 1, 0, 0, 0],\n",
       " [0, 0, 0, 1, 1, 1, 1, 1, 1, 1, 1, 0, 0, 0],\n",
       " [0, 0, 0, 0, 0, 0, 0, 1, 1, 1, 1, 0, 0, 0],\n",
       " [1, 1, 1, 1, 1, 1, 1, 1, 1, 1, 0, 0, 1, 1],\n",
       " [1, 1, 1, 0, 0, 0, 1, 1, 1, 1, 1, 1, 1, 1],\n",
       " [1, 1, 1, 0, 0, 0, 1, 1, 1, 1, 1, 1, 1, 1]]"
      ]
     },
     "execution_count": 34,
     "metadata": {},
     "output_type": "execute_result"
    }
   ],
   "source": [
    "f = open('./음료수얼려먹기.txt', 'r')\n",
    "length, width = map(int, f.readline().split())\n",
    "data = []\n",
    "for _ in range(length) :\n",
    "    data.append(list(map(int, list(f.readline().strip()))))\n",
    "data"
   ]
  },
  {
   "cell_type": "code",
   "execution_count": 35,
   "metadata": {},
   "outputs": [
    {
     "data": {
      "text/plain": [
       "8"
      ]
     },
     "execution_count": 35,
     "metadata": {},
     "output_type": "execute_result"
    }
   ],
   "source": [
    "len_list = [0, 0, 1, -1]\n",
    "wid_list = [1, -1, 0, 0]\n",
    "# 방문한 공간 표시\n",
    "used_list = [[0]*width for _ in range(length)]\n",
    "answer = 0\n",
    "for l in range(length) :\n",
    "    for w in range(width) :\n",
    "        # 빈 공간의 경우 + 방문하지 않은 공간\n",
    "        if data[l][w] == 0 and used_list[l][w] == 0:\n",
    "            q = [(l,w)]\n",
    "            used_list[l][w] = 1\n",
    "            while q :\n",
    "                l, w = q.pop()\n",
    "                for i in range(4):\n",
    "                    temp_len = len_list[i]\n",
    "                    temp_wid = wid_list[i]\n",
    "                    temp_l = l + temp_len\n",
    "                    temp_w = w + temp_wid\n",
    "                    # 벗어난 경우\n",
    "                    if temp_l < 0 or temp_w < 0 or temp_l >= length or temp_w >= width :\n",
    "                        # print(temp_l, temp_w)\n",
    "                        pass \n",
    "                    else :\n",
    "                        # 0이고 방문하지 않는 경우 \n",
    "                        if data[temp_l][temp_w] == 0 and used_list[temp_l][temp_w] == 0:\n",
    "                            # 방문 표시 하고\n",
    "                            used_list[temp_l][temp_w] = 1\n",
    "                            # 시작위치로 추가\n",
    "                            q.append((temp_l, temp_w))\n",
    "            answer += 1\n",
    "answer\n"
   ]
  }
 ],
 "metadata": {
  "kernelspec": {
   "display_name": "pytorch",
   "language": "python",
   "name": "python3"
  },
  "language_info": {
   "codemirror_mode": {
    "name": "ipython",
    "version": 3
   },
   "file_extension": ".py",
   "mimetype": "text/x-python",
   "name": "python",
   "nbconvert_exporter": "python",
   "pygments_lexer": "ipython3",
   "version": "3.10.5"
  },
  "orig_nbformat": 4,
  "vscode": {
   "interpreter": {
    "hash": "334544a737ead5017040ac753f52220319955d2381f512ab105ce194db781c37"
   }
  }
 },
 "nbformat": 4,
 "nbformat_minor": 2
}
