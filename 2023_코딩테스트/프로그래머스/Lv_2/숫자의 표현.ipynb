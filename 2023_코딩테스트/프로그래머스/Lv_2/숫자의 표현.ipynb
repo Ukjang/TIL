{
 "cells": [
  {
   "cell_type": "code",
   "execution_count": null,
   "metadata": {},
   "outputs": [],
   "source": [
    "def solution(n):\n",
    "    # for 문으로 반복 n보다 크면 break\n",
    "    answer = 0\n",
    "    for i in range(1, n+1) :\n",
    "        jsum = 0\n",
    "        for j in range(i, n+1):\n",
    "            jsum += j\n",
    "            if jsum == n :\n",
    "                answer += 1\n",
    "                break\n",
    "            elif jsum > n :\n",
    "                break\n",
    "    return answer"
   ]
  }
 ],
 "metadata": {
  "language_info": {
   "name": "python"
  },
  "orig_nbformat": 4
 },
 "nbformat": 4,
 "nbformat_minor": 2
}
