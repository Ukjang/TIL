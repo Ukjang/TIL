{
 "cells": [
  {
   "cell_type": "code",
   "execution_count": 1,
   "metadata": {},
   "outputs": [],
   "source": [
    "def solution(citations):\n",
    "    answer_list = []\n",
    "    import numpy as np\n",
    "    for nm in range(0, int(np.max(citations))+1):\n",
    "        nm_up = int(np.sum((list(map(lambda x : int(x) >= nm, citations)))))\n",
    "        nm_down = int(np.sum((list(map(lambda x : int(x) < nm, citations)))))\n",
    "        # print(nm, nm_up, nm_down)\n",
    "        if nm_up >= nm and ((nm_up + nm_down) >= len(citations)):\n",
    "            answer_list.append(nm)\n",
    "    # print(answer_list)\n",
    "    if not answer_list:\n",
    "        answer = 0\n",
    "    else :\n",
    "        answer = list(reversed(sorted(answer_list)))[0]\n",
    "    return answer"
   ]
  },
  {
   "cell_type": "code",
   "execution_count": 9,
   "metadata": {},
   "outputs": [
    {
     "name": "stdout",
     "output_type": "stream",
     "text": [
      "3\n"
     ]
    }
   ],
   "source": [
    "citations = [25, 8, 5, 3, 3]\n",
    "# 논문 n편 중\n",
    "# h 번 이상 인용한 논문이 h편 이상\n",
    "# 나머지 논문이 h번 이하 인용\n",
    "# h번 이상 이하가 겹치므로 나누어서 구분 할 수 있음\n",
    "answer = 0\n",
    "for i in range(len(citations)+1) :\n",
    "    temp_sum = sum([1 if citation >= i else 0 for citation in citations])\n",
    "    # \n",
    "    if i <= temp_sum :\n",
    "        answer = i\n",
    "print(answer)"
   ]
  }
 ],
 "metadata": {
  "kernelspec": {
   "display_name": "pytorch",
   "language": "python",
   "name": "python3"
  },
  "language_info": {
   "codemirror_mode": {
    "name": "ipython",
    "version": 3
   },
   "file_extension": ".py",
   "mimetype": "text/x-python",
   "name": "python",
   "nbconvert_exporter": "python",
   "pygments_lexer": "ipython3",
   "version": "3.10.5"
  },
  "orig_nbformat": 4,
  "vscode": {
   "interpreter": {
    "hash": "334544a737ead5017040ac753f52220319955d2381f512ab105ce194db781c37"
   }
  }
 },
 "nbformat": 4,
 "nbformat_minor": 2
}
