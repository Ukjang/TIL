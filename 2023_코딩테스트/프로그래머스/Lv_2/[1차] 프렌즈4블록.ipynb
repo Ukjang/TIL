{
 "cells": [
  {
   "cell_type": "code",
   "execution_count": 2,
   "metadata": {},
   "outputs": [],
   "source": [
    "def solution(m, n, board):\n",
    "    bd_list = [list(bd1) for bd1 in board]\n",
    "    answer = 0\n",
    "    while True :\n",
    "        temp_remove = set()\n",
    "        # 행 검토\n",
    "        for i in range(m-1) :\n",
    "            # 열검토\n",
    "            for j in range(n-1) :\n",
    "                # 벗어나는 경우 제거\n",
    "                temp  = bd_list[i][j]\n",
    "                if temp != '0' :\n",
    "                    # 4각 원이 같다면 왼쪽 상단 블록 위치 파악\n",
    "                    if bd_list[i+1][j] == temp and bd_list[i][j+1] == temp and bd_list[i+1][j+1] == temp :\n",
    "                        temp_remove.add((i,j));temp_remove.add((i+1,j));temp_remove.add((i,j+1));temp_remove.add((i+1,j+1))\n",
    "        if temp_remove :\n",
    "            # 제거할 위치들 선택\n",
    "            for re_i, re_j in temp_remove:\n",
    "                bd_list[re_i][re_j] = '0'\n",
    "                answer += 1\n",
    "        else :\n",
    "            break\n",
    "        # 블록 내려오게 하기\n",
    "\n",
    "        # 열검토\n",
    "        while True :\n",
    "            moved = 0\n",
    "            for j in range(n) :\n",
    "                # 행검토\n",
    "                for i in range(m-1) :\n",
    "                    temp2 = bd_list[i][j]\n",
    "                    temp3 = bd_list[i+1][j]\n",
    "                    if temp2 != '0' and temp3 == '0' :\n",
    "                        bd_list[i+1][j] = temp2\n",
    "                        bd_list[i][j] = '0'\n",
    "                        moved += 1\n",
    "            if moved == 0:\n",
    "                break\n",
    "    return answer"
   ]
  },
  {
   "cell_type": "code",
   "execution_count": 16,
   "metadata": {},
   "outputs": [
    {
     "data": {
      "text/plain": [
       "15"
      ]
     },
     "execution_count": 16,
     "metadata": {},
     "output_type": "execute_result"
    }
   ],
   "source": [
    "# 블록 이동식에 문제가 있었음,,,\n",
    "m = 6\n",
    "n = 6\n",
    "board = [\"TTTANT\", \"RRFACC\", \"RRRFCC\", \"TRRRAA\", \"TTMMMF\", \"TMMTTJ\"]\n",
    "bd_list = [list(bd1) for bd1 in board]\n",
    "answer = 0\n",
    "while True :\n",
    "    temp_remove = set()\n",
    "    # 행 검토\n",
    "    for i in range(m-1) :\n",
    "        # 열검토\n",
    "        for j in range(n-1) :\n",
    "            # 벗어나는 경우 제거\n",
    "            temp  = bd_list[i][j]\n",
    "            if temp != '0' :\n",
    "                # 4각 원이 같다면 왼쪽 상단 블록 위치 파악\n",
    "                if bd_list[i+1][j] == temp and bd_list[i][j+1] == temp and bd_list[i+1][j+1] == temp :\n",
    "                    temp_remove.add((i,j));temp_remove.add((i+1,j));temp_remove.add((i,j+1));temp_remove.add((i+1,j+1))\n",
    "    if temp_remove :\n",
    "        # 제거할 위치들 선택\n",
    "        for re_i, re_j in temp_remove:\n",
    "            bd_list[re_i][re_j] = '0'\n",
    "            answer += 1\n",
    "    else :\n",
    "        break\n",
    "    # 블록 내려오게 하기\n",
    "\n",
    "    # 열검토\n",
    "    while True :\n",
    "        moved = 0\n",
    "        for j in range(n) :\n",
    "            # 행검토\n",
    "            for i in range(m-1) :\n",
    "                temp2 = bd_list[i][j]\n",
    "                temp3 = bd_list[i+1][j]\n",
    "                if temp2 != '0' and temp3 == '0' :\n",
    "                    bd_list[i+1][j] = temp2\n",
    "                    bd_list[i][j] = '0'\n",
    "                    moved += 1\n",
    "        if moved == 0:\n",
    "            break\n",
    "answer"
   ]
  }
 ],
 "metadata": {
  "kernelspec": {
   "display_name": "Python 3",
   "language": "python",
   "name": "python3"
  },
  "language_info": {
   "codemirror_mode": {
    "name": "ipython",
    "version": 3
   },
   "file_extension": ".py",
   "mimetype": "text/x-python",
   "name": "python",
   "nbconvert_exporter": "python",
   "pygments_lexer": "ipython3",
   "version": "3.8.10"
  },
  "orig_nbformat": 4,
  "vscode": {
   "interpreter": {
    "hash": "e3ada8b426290dd76767ba6368ea690ca67a7a436b12c3cf567e5cb72f89ca03"
   }
  }
 },
 "nbformat": 4,
 "nbformat_minor": 2
}
