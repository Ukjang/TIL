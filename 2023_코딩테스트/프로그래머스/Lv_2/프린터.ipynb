{
 "cells": [
  {
   "cell_type": "code",
   "execution_count": 1,
   "metadata": {},
   "outputs": [],
   "source": [
    "from collections import deque\n",
    "def solution(priorities, location):\n",
    "    # J안에 최대값 보다 작으면 뒤쪽으로 보냄\n",
    "    # 최대값이면 인쇄\n",
    "    seq_list = deque(list(range(len(priorities))))\n",
    "    priorities = deque(priorities)\n",
    "    result = []\n",
    "    while True :\n",
    "        if len(priorities) == 0:\n",
    "            break\n",
    "        temp_print = priorities[0]\n",
    "        temp_max = max(priorities)\n",
    "        if temp_print < temp_max :\n",
    "            temp_pop = priorities.popleft()\n",
    "            temp_seq = priorities.popleft()\n",
    "            priorities.append(temp_pop)\n",
    "            seq_list.append(temp_seq)\n",
    "        elif temp_print == temp_max :\n",
    "            priorities.popleft()\n",
    "            temp_seq = seq_list.popleft()\n",
    "            result.append(temp_seq)\n",
    "    return result.index(location)"
   ]
  },
  {
   "cell_type": "code",
   "execution_count": 14,
   "metadata": {},
   "outputs": [
    {
     "name": "stdout",
     "output_type": "stream",
     "text": [
      "deque([1, 1, 9, 1, 1, 1])\n",
      "1 9 deque([1, 9, 1, 1, 1, 1]) []\n",
      "1 9 deque([9, 1, 1, 1, 1, 1]) []\n",
      "9 9 deque([1, 1, 1, 1, 1]) [2]\n",
      "1 1 deque([1, 1, 1, 1]) [2, 3]\n",
      "1 1 deque([1, 1, 1]) [2, 3, 4]\n",
      "1 1 deque([1, 1]) [2, 3, 4, 5]\n",
      "1 1 deque([1]) [2, 3, 4, 5, 0]\n",
      "1 1 deque([]) [2, 3, 4, 5, 0, 1]\n"
     ]
    },
    {
     "data": {
      "text/plain": [
       "5"
      ]
     },
     "execution_count": 14,
     "metadata": {},
     "output_type": "execute_result"
    }
   ],
   "source": [
    "priorities=[2, 1, 3, 2]\n",
    "location = 2\n",
    "priorities = [1, 1, 9, 1, 1, 1]\n",
    "location = 0\n",
    "from collections import deque\n",
    "# J안에 최대값 보다 작으면 뒤쪽으로 보냄\n",
    "# 최대값이면 인쇄\n",
    "seq_list = deque(list(range(len(priorities))))\n",
    "priorities = deque(priorities)\n",
    "print(priorities)\n",
    "result = []\n",
    "while True :\n",
    "    if len(priorities) == 0:\n",
    "        break\n",
    "    temp_max = max(priorities)\n",
    "    temp_print = priorities.popleft()\n",
    "    temp_seq = seq_list.popleft()\n",
    "    if temp_print < temp_max :\n",
    "        priorities.append(temp_print)\n",
    "        seq_list.append(temp_seq)\n",
    "    elif temp_print == temp_max :\n",
    "        result.append(temp_seq)\n",
    "    print(temp_print, temp_max, priorities, result)\n",
    "result.index(location) + 1"
   ]
  }
 ],
 "metadata": {
  "kernelspec": {
   "display_name": "pytorch",
   "language": "python",
   "name": "python3"
  },
  "language_info": {
   "codemirror_mode": {
    "name": "ipython",
    "version": 3
   },
   "file_extension": ".py",
   "mimetype": "text/x-python",
   "name": "python",
   "nbconvert_exporter": "python",
   "pygments_lexer": "ipython3",
   "version": "3.10.5"
  },
  "orig_nbformat": 4,
  "vscode": {
   "interpreter": {
    "hash": "334544a737ead5017040ac753f52220319955d2381f512ab105ce194db781c37"
   }
  }
 },
 "nbformat": 4,
 "nbformat_minor": 2
}
