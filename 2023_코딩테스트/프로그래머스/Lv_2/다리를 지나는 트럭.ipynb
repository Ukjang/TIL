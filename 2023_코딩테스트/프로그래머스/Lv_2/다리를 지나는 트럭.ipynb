{
 "cells": [
  {
   "cell_type": "code",
   "execution_count": null,
   "metadata": {},
   "outputs": [],
   "source": [
    "from collections import deque\n",
    "def solution(bridge_length, weight, truck_weights):\n",
    "    answer = 0\n",
    "    # 일정 무게 전까지 queue를 채워줌\n",
    "    # 일정 시간마다 popleft 해줌\n",
    "    # 대기 트럭 큐\n",
    "    truck_queue = deque(truck_weights)\n",
    "    # 다리를 건너는 트럭 큐\n",
    "    bridge_queue = deque()\n",
    "    # 다리를 건너는 트럭의 시간 큐\n",
    "    btime_queue = deque()\n",
    "    # 시간\n",
    "    time = 1\n",
    "    while True :\n",
    "        # 트럭 다리에 올리기  (한번에 한 트럭)\n",
    "        if truck_queue :\n",
    "            if sum(bridge_queue) + truck_queue[0] <= weight:\n",
    "                bridge_queue.append(truck_queue.popleft())\n",
    "                btime_queue.append(time)\n",
    "        # 다음 시간 지났을때\n",
    "        time += 1\n",
    "        # 트럭이 도착했으면 큐에서 없에주기 (한번에 한 트럭만 내림)\n",
    "        if bridge_length :\n",
    "            if (time - btime_queue[0]) % bridge_length == 0:\n",
    "                bridge_queue.popleft()\n",
    "                btime_queue.popleft()      \n",
    "        # 모든 트럭 도착했다면\n",
    "        if len(bridge_queue) == 0 and len(truck_queue) == 0 :\n",
    "            break\n",
    "    return time"
   ]
  },
  {
   "cell_type": "code",
   "execution_count": 15,
   "metadata": {},
   "outputs": [
    {
     "name": "stdout",
     "output_type": "stream",
     "text": [
      "1 deque([7]) deque([4, 5, 6])\n",
      "2 deque([7]) deque([4, 5, 6])\n",
      "3 deque([4]) deque([5, 6])\n",
      "4 deque([4, 5]) deque([6])\n",
      "5 deque([5]) deque([6])\n",
      "6 deque([6]) deque([])\n",
      "7 deque([6]) deque([])\n"
     ]
    },
    {
     "data": {
      "text/plain": [
       "8"
      ]
     },
     "execution_count": 15,
     "metadata": {},
     "output_type": "execute_result"
    }
   ],
   "source": [
    "bridge_length = 2\n",
    "weight = 10\n",
    "truck_weights = [7,4,5,6]\n",
    "from collections import deque\n",
    "answer = 0\n",
    "# 일정 무게 전까지 queue를 채워줌\n",
    "# 일정 시간마다 popleft 해줌\n",
    "# 대기 트럭 큐\n",
    "truck_queue = deque(truck_weights)\n",
    "# 다리를 건너는 트럭 큐\n",
    "bridge_queue = deque()\n",
    "# 다리를 건너는 트럭의 시간 큐\n",
    "btime_queue = deque()\n",
    "# 시간\n",
    "time = 1\n",
    "while True :\n",
    "    # 다리를 건너는 큐 채우기\n",
    "    if len(bridge_queue) == 0 and len(truck_queue) == 0 :\n",
    "        break\n",
    "    if truck_queue :\n",
    "        if sum(bridge_queue) + truck_queue[0] <= weight:\n",
    "            bridge_queue.append(truck_queue.popleft())\n",
    "            btime_queue.append(time)\n",
    "    # 일정시간 지나 트럭 도착\n",
    "    print(time, bridge_queue, truck_queue)\n",
    "    time += 1\n",
    "    if bridge_length :\n",
    "        if (time - btime_queue[0]) % bridge_length == 0:\n",
    "            bridge_queue.popleft()\n",
    "            btime_queue.popleft()\n",
    "time"
   ]
  }
 ],
 "metadata": {
  "kernelspec": {
   "display_name": "Python 3",
   "language": "python",
   "name": "python3"
  },
  "language_info": {
   "codemirror_mode": {
    "name": "ipython",
    "version": 3
   },
   "file_extension": ".py",
   "mimetype": "text/x-python",
   "name": "python",
   "nbconvert_exporter": "python",
   "pygments_lexer": "ipython3",
   "version": "3.8.10"
  },
  "orig_nbformat": 4,
  "vscode": {
   "interpreter": {
    "hash": "e3ada8b426290dd76767ba6368ea690ca67a7a436b12c3cf567e5cb72f89ca03"
   }
  }
 },
 "nbformat": 4,
 "nbformat_minor": 2
}
