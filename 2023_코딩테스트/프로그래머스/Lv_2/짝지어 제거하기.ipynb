{
 "cells": [
  {
   "cell_type": "code",
   "execution_count": 1,
   "metadata": {},
   "outputs": [],
   "source": [
    "def solution(s):\n",
    "    # 문자열이 두개 같으면 pop\n",
    "    # 다르면 append\n",
    "    # 끝났을때 길이로 판별\n",
    "    s_list = []\n",
    "    for st in s :\n",
    "        if s_list == []:\n",
    "            s_list.append(st)\n",
    "        elif s_list[-1] == st:\n",
    "            s_list.pop()\n",
    "        else:\n",
    "            s_list.append(st)\n",
    "    if s_list :\n",
    "        return 0\n",
    "    else :\n",
    "        return 1\n"
   ]
  }
 ],
 "metadata": {
  "kernelspec": {
   "display_name": "Python 3",
   "language": "python",
   "name": "python3"
  },
  "language_info": {
   "codemirror_mode": {
    "name": "ipython",
    "version": 3
   },
   "file_extension": ".py",
   "mimetype": "text/x-python",
   "name": "python",
   "nbconvert_exporter": "python",
   "pygments_lexer": "ipython3",
   "version": "3.8.10 (tags/v3.8.10:3d8993a, May  3 2021, 11:48:03) [MSC v.1928 64 bit (AMD64)]"
  },
  "orig_nbformat": 4,
  "vscode": {
   "interpreter": {
    "hash": "e3ada8b426290dd76767ba6368ea690ca67a7a436b12c3cf567e5cb72f89ca03"
   }
  }
 },
 "nbformat": 4,
 "nbformat_minor": 2
}
