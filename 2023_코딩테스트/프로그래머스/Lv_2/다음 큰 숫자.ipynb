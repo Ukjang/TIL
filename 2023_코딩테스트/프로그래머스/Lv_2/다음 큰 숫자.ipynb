{
 "cells": [
  {
   "cell_type": "code",
   "execution_count": 2,
   "metadata": {},
   "outputs": [],
   "source": [
    "def solution(n):\n",
    "    # 조건 1. n의 다음 큰 숫자는 n보다 큰 자연수 입니다.\n",
    "    # n의 다음 큰 숫자와 n은 2진수로 변환했을 때 1의 갯수가 같습니다.\n",
    "    # n의 다음 큰 숫자는 조건 1, 2를 만족하는 수 중 가장 작은 수 입니다.\n",
    "    \n",
    "    # 이진변환 1의 개수 측정: \n",
    "    n_result = ''\n",
    "    nm = n + 1\n",
    "    while True:\n",
    "        n_div = n // 2\n",
    "        n_rem = n % 2\n",
    "        n_result = str(n_rem) + n_result\n",
    "        n = n_div\n",
    "        if n_div == 0:\n",
    "            break\n",
    "    one_cnt = n_result.count('1')\n",
    "    while True :\n",
    "        # 후보군 이진 변환\n",
    "        nm_result = ''\n",
    "        nm_tdiv = nm\n",
    "        while True :\n",
    "            nm_div = nm_tdiv // 2\n",
    "            nm_rem = nm_tdiv % 2\n",
    "            nm_result = str(nm_rem) + nm_result\n",
    "            nm_tdiv = nm_div\n",
    "            if nm_div == 0 :\n",
    "                break\n",
    "        one_nm = nm_result.count('1')\n",
    "        if one_nm == one_cnt :\n",
    "            break\n",
    "        else :\n",
    "            nm += 1\n",
    "    return nm"
   ]
  }
 ],
 "metadata": {
  "kernelspec": {
   "display_name": "Python 3",
   "language": "python",
   "name": "python3"
  },
  "language_info": {
   "codemirror_mode": {
    "name": "ipython",
    "version": 3
   },
   "file_extension": ".py",
   "mimetype": "text/x-python",
   "name": "python",
   "nbconvert_exporter": "python",
   "pygments_lexer": "ipython3",
   "version": "3.8.10"
  },
  "orig_nbformat": 4,
  "vscode": {
   "interpreter": {
    "hash": "e3ada8b426290dd76767ba6368ea690ca67a7a436b12c3cf567e5cb72f89ca03"
   }
  }
 },
 "nbformat": 4,
 "nbformat_minor": 2
}
