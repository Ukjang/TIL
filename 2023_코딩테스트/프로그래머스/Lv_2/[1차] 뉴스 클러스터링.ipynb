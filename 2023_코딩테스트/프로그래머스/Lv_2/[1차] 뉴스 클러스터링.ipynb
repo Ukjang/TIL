{
 "cells": [
  {
   "cell_type": "code",
   "execution_count": 1,
   "metadata": {},
   "outputs": [],
   "source": [
    "import re\n",
    "def solution(str1, str2):\n",
    "    # 다중집합 원소 사이를 비교할 때, 대문자와 소문자의 차이는 무시한다.\n",
    "    str1 = str1.lower()\n",
    "    str2 = str2.lower()\n",
    "    # 기타 공백이나 숫자, 특수 문자가 들어있는 경우는 그 글자 쌍을 버린다.\n",
    "    re_str1_list = [str1[i:i+2] for i in range(len(str1)-1) if str1[i:i+2].isalpha()]\n",
    "    re_str2_list = [str2[i:i+2] for i in range(len(str2)-1) if str2[i:i+2].isalpha()]\n",
    "    temp_re_str2 = re_str2_list.copy()\n",
    "    # 교집합 계산\n",
    "    int_cnt = 0\n",
    "    # 한쪽에 존재하는 숫자 확인 후 다른쪽 제거\n",
    "    for str1 in re_str1_list:\n",
    "        if str1 in temp_re_str2:\n",
    "            int_cnt += 1\n",
    "            temp_re_str2.remove(str1)\n",
    "    if re_str1_list and re_str2_list :\n",
    "        return int((int_cnt / (len(re_str1_list) + len(re_str2_list) - int_cnt)) * 65536)\n",
    "    else :\n",
    "        # 합집합은 존재하나 교집합이 0인경우\n",
    "        if (len(re_str1_list) + len(re_str2_list)) != 0 :\n",
    "            return 0\n",
    "        else :  \n",
    "            # 교집합 합집합 둘다 없는 경우\n",
    "            return 65536"
   ]
  },
  {
   "cell_type": "code",
   "execution_count": 45,
   "metadata": {},
   "outputs": [
    {
     "data": {
      "text/plain": [
       "65536"
      ]
     },
     "execution_count": 45,
     "metadata": {},
     "output_type": "execute_result"
    }
   ],
   "source": [
    "str1= 'FRANCE'\n",
    "str2 = \t'french'\n",
    "str1 = 'handshake'\n",
    "str2 = 'shake hands'\n",
    "str1 = 'aa1+aa2'\n",
    "str2 = 'AAAA12'\n",
    "str1 ='E=M*C^2'\n",
    "str2 = 'e=m*c^2'\n",
    "# 다중집합 원소 사이를 비교할 때, 대문자와 소문자의 차이는 무시한다.\n",
    "str1 = str1.lower()\n",
    "str2 = str2.lower()\n",
    "# 기타 공백이나 숫자, 특수 문자가 들어있는 경우는 그 글자 쌍을 버린다.\n",
    "re_str1_list = [str1[i:i+2] for i in range(len(str1)-1) if str1[i:i+2].isalpha()]\n",
    "re_str2_list = [str2[i:i+2] for i in range(len(str2)-1) if str2[i:i+2].isalpha()]\n",
    "temp_re_str2 = re_str2_list.copy()\n",
    "# 교집합 계산\n",
    "int_cnt = 0\n",
    "# 한쪽에 존재하는 숫자 확인 후 다른쪽 제거\n",
    "for str1 in re_str1_list:\n",
    "    if str1 in temp_re_str2:\n",
    "        int_cnt += 1\n",
    "        temp_re_str2.remove(str1)\n",
    "if re_str1_list and re_str2_list :\n",
    "    answer= int((int_cnt / (len(re_str1_list) + len(re_str2_list) - int_cnt)) * 65536)\n",
    "else :\n",
    "    # 합집합은 존재하나 교집합이 0인경우\n",
    "    if (len(re_str1_list) + len(re_str2_list)) != 0 :\n",
    "        answer =  0\n",
    "    else :  \n",
    "        # 교집합 합집합 둘다 없는 경우\n",
    "        answer= 65536\n",
    "answer"
   ]
  }
 ],
 "metadata": {
  "kernelspec": {
   "display_name": "pytorch",
   "language": "python",
   "name": "python3"
  },
  "language_info": {
   "codemirror_mode": {
    "name": "ipython",
    "version": 3
   },
   "file_extension": ".py",
   "mimetype": "text/x-python",
   "name": "python",
   "nbconvert_exporter": "python",
   "pygments_lexer": "ipython3",
   "version": "3.10.5"
  },
  "orig_nbformat": 4,
  "vscode": {
   "interpreter": {
    "hash": "334544a737ead5017040ac753f52220319955d2381f512ab105ce194db781c37"
   }
  }
 },
 "nbformat": 4,
 "nbformat_minor": 2
}
