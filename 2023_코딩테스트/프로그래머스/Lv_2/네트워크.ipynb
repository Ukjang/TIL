{
 "cells": [
  {
   "cell_type": "code",
   "execution_count": 23,
   "metadata": {},
   "outputs": [],
   "source": [
    "n = 3\n",
    "computers = [[1, 1, 0], [1, 1, 1], [0, 1, 1]]"
   ]
  },
  {
   "cell_type": "code",
   "execution_count": null,
   "metadata": {},
   "outputs": [],
   "source": [
    "from collections import deque\n",
    "def solution(n, computers):\n",
    "    used_list = [0] * n\n",
    "    answer = 0\n",
    "    for i in range(n) :\n",
    "        if used_list[i] == 0:\n",
    "            queue = deque()\n",
    "            queue.append(i)\n",
    "            while queue :\n",
    "                temp = queue.popleft()\n",
    "                for idx, temp_val in enumerate(computers[temp]) :\n",
    "                    if temp_val == 1 and used_list[idx] == 0:\n",
    "                        queue.append(idx)\n",
    "                        used_list[idx] = 1\n",
    "            answer += 1\n",
    "    return answer"
   ]
  },
  {
   "cell_type": "code",
   "execution_count": 32,
   "metadata": {},
   "outputs": [
    {
     "data": {
      "text/plain": [
       "1"
      ]
     },
     "execution_count": 32,
     "metadata": {},
     "output_type": "execute_result"
    }
   ],
   "source": [
    "used_list = [0] * n\n",
    "answer = 0\n",
    "for i in range(n) :\n",
    "    if used_list[i] == 0:\n",
    "        queue = deque()\n",
    "        queue.append(i)\n",
    "        while queue :\n",
    "            temp = queue.popleft()\n",
    "            # 선이 1일때 조건을 뺴먹음!\n",
    "            for idx, temp_val in enumerate(computers[temp]) :\n",
    "                if temp_val == 1 and used_list[idx] == 0:\n",
    "                    queue.append(idx)\n",
    "                    used_list[idx] = 1\n",
    "        answer += 1\n",
    "answer"
   ]
  }
 ],
 "metadata": {
  "kernelspec": {
   "display_name": "pytorch",
   "language": "python",
   "name": "python3"
  },
  "language_info": {
   "codemirror_mode": {
    "name": "ipython",
    "version": 3
   },
   "file_extension": ".py",
   "mimetype": "text/x-python",
   "name": "python",
   "nbconvert_exporter": "python",
   "pygments_lexer": "ipython3",
   "version": "3.10.5"
  },
  "orig_nbformat": 4,
  "vscode": {
   "interpreter": {
    "hash": "334544a737ead5017040ac753f52220319955d2381f512ab105ce194db781c37"
   }
  }
 },
 "nbformat": 4,
 "nbformat_minor": 2
}
