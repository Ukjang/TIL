{
 "cells": [
  {
   "cell_type": "code",
   "execution_count": null,
   "metadata": {},
   "outputs": [],
   "source": [
    "def solution(arr1, arr2):\n",
    "    # 첫번째 가로 행렬\n",
    "    # 두번째 세로 행렬\n",
    "    # 정답  list\n",
    "    answer = []\n",
    "    for ar1 in arr1 :\n",
    "        temp_result = []\n",
    "        for ar2 in range(len(arr2[0])):\n",
    "            temp = 0\n",
    "            for i in range(len(ar1)) :\n",
    "                temp += (ar1[i] * arr2[i][ar2])\n",
    "            temp_result.append(temp)\n",
    "        answer.append(temp_result)\n",
    "    return answer"
   ]
  }
 ],
 "metadata": {
  "language_info": {
   "name": "python"
  },
  "orig_nbformat": 4
 },
 "nbformat": 4,
 "nbformat_minor": 2
}
