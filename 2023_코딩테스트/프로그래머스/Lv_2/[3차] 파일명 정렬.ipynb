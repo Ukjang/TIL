{
 "cells": [
  {
   "cell_type": "code",
   "execution_count": 23,
   "metadata": {},
   "outputs": [
    {
     "data": {
      "text/plain": [
       "[['F-', '5 Freedom Fighter', '.F-5 Freedom Fighter', 0],\n",
       " ['B-', '50 Superfortress', '.B-50 Superfortress', 1],\n",
       " ['A-', '10 Thunderbolt II', '.A-10 Thunderbolt II', 2],\n",
       " ['F-', '14 Tomcat', '.F-14 Tomcat', 3]]"
      ]
     },
     "execution_count": 23,
     "metadata": {},
     "output_type": "execute_result"
    }
   ],
   "source": [
    "files =  [\"img12.png\", \"img10.png\", \"img02.png\", \"img1.png\", \"IMG01.GIF\", \"img2.JPG\"]\n",
    "files = [\"F-5 Freedom Fighter\", \"B-50 Superfortress\", \"A-10 Thunderbolt II\", \"F-14 Tomcat\"]\n",
    "# Tail . 기준으로 나누기\n",
    "# 헤드랑 넙버 .isnumeric으로 나누기\n",
    "result = []\n",
    "for idx, file in enumerate(files) :\n",
    "    temp_tail = '.' + file.split('.')[-1]\n",
    "    temp_hdnm = file.split('.')[0]\n",
    "    temp = ''\n",
    "    for i in range(len(temp_hdnm)) :\n",
    "        if temp_hdnm[i].isnumeric() :\n",
    "            temp_number = temp_hdnm[i:]\n",
    "            temp_head = temp_hdnm[:i]\n",
    "            break\n",
    "    result.append([temp_head, temp_number, temp_tail, idx])\n",
    "result"
   ]
  },
  {
   "cell_type": "code",
   "execution_count": 24,
   "metadata": {},
   "outputs": [
    {
     "ename": "ValueError",
     "evalue": "invalid literal for int() with base 10: '5 Freedom Fighter'",
     "output_type": "error",
     "traceback": [
      "\u001b[1;31m---------------------------------------------------------------------------\u001b[0m",
      "\u001b[1;31mValueError\u001b[0m                                Traceback (most recent call last)",
      "\u001b[1;32mc:\\Users\\Admin\\TIL\\2023_코딩테스트\\Lv_2\\[3차] 파일명 정렬.ipynb 셀 2\u001b[0m in \u001b[0;36m<cell line: 7>\u001b[1;34m()\u001b[0m\n\u001b[0;32m     <a href='vscode-notebook-cell:/c%3A/Users/Admin/TIL/2023_%EC%BD%94%EB%94%A9%ED%85%8C%EC%8A%A4%ED%8A%B8/Lv_2/%5B3%EC%B0%A8%5D%20%ED%8C%8C%EC%9D%BC%EB%AA%85%20%EC%A0%95%EB%A0%AC.ipynb#W2sZmlsZQ%3D%3D?line=13'>14</a>\u001b[0m temp_sorted \u001b[39m=\u001b[39m \u001b[39msorted\u001b[39m(temp_list, key\u001b[39m=\u001b[39m\u001b[39mlambda\u001b[39;00m x : x[\u001b[39m0\u001b[39m]\u001b[39m.\u001b[39mlower())\n\u001b[0;32m     <a href='vscode-notebook-cell:/c%3A/Users/Admin/TIL/2023_%EC%BD%94%EB%94%A9%ED%85%8C%EC%8A%A4%ED%8A%B8/Lv_2/%5B3%EC%B0%A8%5D%20%ED%8C%8C%EC%9D%BC%EB%AA%85%20%EC%A0%95%EB%A0%AC.ipynb#W2sZmlsZQ%3D%3D?line=14'>15</a>\u001b[0m \u001b[39mif\u001b[39;00m temp_list \u001b[39m==\u001b[39m temp_sorted :\n\u001b[0;32m     <a href='vscode-notebook-cell:/c%3A/Users/Admin/TIL/2023_%EC%BD%94%EB%94%A9%ED%85%8C%EC%8A%A4%ED%8A%B8/Lv_2/%5B3%EC%B0%A8%5D%20%ED%8C%8C%EC%9D%BC%EB%AA%85%20%EC%A0%95%EB%A0%AC.ipynb#W2sZmlsZQ%3D%3D?line=15'>16</a>\u001b[0m     \u001b[39m# 넘버 기준으로 정렬\u001b[39;00m\n\u001b[1;32m---> <a href='vscode-notebook-cell:/c%3A/Users/Admin/TIL/2023_%EC%BD%94%EB%94%A9%ED%85%8C%EC%8A%A4%ED%8A%B8/Lv_2/%5B3%EC%B0%A8%5D%20%ED%8C%8C%EC%9D%BC%EB%AA%85%20%EC%A0%95%EB%A0%AC.ipynb#W2sZmlsZQ%3D%3D?line=16'>17</a>\u001b[0m     temp_sorted \u001b[39m=\u001b[39m \u001b[39msorted\u001b[39;49m(temp_list, key\u001b[39m=\u001b[39;49m\u001b[39mlambda\u001b[39;49;00m x : \u001b[39mint\u001b[39;49m(x[\u001b[39m1\u001b[39;49m]))\n\u001b[0;32m     <a href='vscode-notebook-cell:/c%3A/Users/Admin/TIL/2023_%EC%BD%94%EB%94%A9%ED%85%8C%EC%8A%A4%ED%8A%B8/Lv_2/%5B3%EC%B0%A8%5D%20%ED%8C%8C%EC%9D%BC%EB%AA%85%20%EC%A0%95%EB%A0%AC.ipynb#W2sZmlsZQ%3D%3D?line=17'>18</a>\u001b[0m     \u001b[39mif\u001b[39;00m temp_list \u001b[39m==\u001b[39m temp_sorted :\n\u001b[0;32m     <a href='vscode-notebook-cell:/c%3A/Users/Admin/TIL/2023_%EC%BD%94%EB%94%A9%ED%85%8C%EC%8A%A4%ED%8A%B8/Lv_2/%5B3%EC%B0%A8%5D%20%ED%8C%8C%EC%9D%BC%EB%AA%85%20%EC%A0%95%EB%A0%AC.ipynb#W2sZmlsZQ%3D%3D?line=18'>19</a>\u001b[0m         \u001b[39m# 최초 입력열 기준으로 정렬\u001b[39;00m\n\u001b[0;32m     <a href='vscode-notebook-cell:/c%3A/Users/Admin/TIL/2023_%EC%BD%94%EB%94%A9%ED%85%8C%EC%8A%A4%ED%8A%B8/Lv_2/%5B3%EC%B0%A8%5D%20%ED%8C%8C%EC%9D%BC%EB%AA%85%20%EC%A0%95%EB%A0%AC.ipynb#W2sZmlsZQ%3D%3D?line=19'>20</a>\u001b[0m         temp_sorted \u001b[39m=\u001b[39m \u001b[39msorted\u001b[39m(temp_list, key\u001b[39m=\u001b[39m\u001b[39mlambda\u001b[39;00m x : \u001b[39mint\u001b[39m(x[\u001b[39m-\u001b[39m\u001b[39m1\u001b[39m]))\n",
      "\u001b[1;32mc:\\Users\\Admin\\TIL\\2023_코딩테스트\\Lv_2\\[3차] 파일명 정렬.ipynb 셀 2\u001b[0m in \u001b[0;36m<lambda>\u001b[1;34m(x)\u001b[0m\n\u001b[0;32m     <a href='vscode-notebook-cell:/c%3A/Users/Admin/TIL/2023_%EC%BD%94%EB%94%A9%ED%85%8C%EC%8A%A4%ED%8A%B8/Lv_2/%5B3%EC%B0%A8%5D%20%ED%8C%8C%EC%9D%BC%EB%AA%85%20%EC%A0%95%EB%A0%AC.ipynb#W2sZmlsZQ%3D%3D?line=13'>14</a>\u001b[0m temp_sorted \u001b[39m=\u001b[39m \u001b[39msorted\u001b[39m(temp_list, key\u001b[39m=\u001b[39m\u001b[39mlambda\u001b[39;00m x : x[\u001b[39m0\u001b[39m]\u001b[39m.\u001b[39mlower())\n\u001b[0;32m     <a href='vscode-notebook-cell:/c%3A/Users/Admin/TIL/2023_%EC%BD%94%EB%94%A9%ED%85%8C%EC%8A%A4%ED%8A%B8/Lv_2/%5B3%EC%B0%A8%5D%20%ED%8C%8C%EC%9D%BC%EB%AA%85%20%EC%A0%95%EB%A0%AC.ipynb#W2sZmlsZQ%3D%3D?line=14'>15</a>\u001b[0m \u001b[39mif\u001b[39;00m temp_list \u001b[39m==\u001b[39m temp_sorted :\n\u001b[0;32m     <a href='vscode-notebook-cell:/c%3A/Users/Admin/TIL/2023_%EC%BD%94%EB%94%A9%ED%85%8C%EC%8A%A4%ED%8A%B8/Lv_2/%5B3%EC%B0%A8%5D%20%ED%8C%8C%EC%9D%BC%EB%AA%85%20%EC%A0%95%EB%A0%AC.ipynb#W2sZmlsZQ%3D%3D?line=15'>16</a>\u001b[0m     \u001b[39m# 넘버 기준으로 정렬\u001b[39;00m\n\u001b[1;32m---> <a href='vscode-notebook-cell:/c%3A/Users/Admin/TIL/2023_%EC%BD%94%EB%94%A9%ED%85%8C%EC%8A%A4%ED%8A%B8/Lv_2/%5B3%EC%B0%A8%5D%20%ED%8C%8C%EC%9D%BC%EB%AA%85%20%EC%A0%95%EB%A0%AC.ipynb#W2sZmlsZQ%3D%3D?line=16'>17</a>\u001b[0m     temp_sorted \u001b[39m=\u001b[39m \u001b[39msorted\u001b[39m(temp_list, key\u001b[39m=\u001b[39m\u001b[39mlambda\u001b[39;00m x : \u001b[39mint\u001b[39;49m(x[\u001b[39m1\u001b[39;49m]))\n\u001b[0;32m     <a href='vscode-notebook-cell:/c%3A/Users/Admin/TIL/2023_%EC%BD%94%EB%94%A9%ED%85%8C%EC%8A%A4%ED%8A%B8/Lv_2/%5B3%EC%B0%A8%5D%20%ED%8C%8C%EC%9D%BC%EB%AA%85%20%EC%A0%95%EB%A0%AC.ipynb#W2sZmlsZQ%3D%3D?line=17'>18</a>\u001b[0m     \u001b[39mif\u001b[39;00m temp_list \u001b[39m==\u001b[39m temp_sorted :\n\u001b[0;32m     <a href='vscode-notebook-cell:/c%3A/Users/Admin/TIL/2023_%EC%BD%94%EB%94%A9%ED%85%8C%EC%8A%A4%ED%8A%B8/Lv_2/%5B3%EC%B0%A8%5D%20%ED%8C%8C%EC%9D%BC%EB%AA%85%20%EC%A0%95%EB%A0%AC.ipynb#W2sZmlsZQ%3D%3D?line=18'>19</a>\u001b[0m         \u001b[39m# 최초 입력열 기준으로 정렬\u001b[39;00m\n\u001b[0;32m     <a href='vscode-notebook-cell:/c%3A/Users/Admin/TIL/2023_%EC%BD%94%EB%94%A9%ED%85%8C%EC%8A%A4%ED%8A%B8/Lv_2/%5B3%EC%B0%A8%5D%20%ED%8C%8C%EC%9D%BC%EB%AA%85%20%EC%A0%95%EB%A0%AC.ipynb#W2sZmlsZQ%3D%3D?line=19'>20</a>\u001b[0m         temp_sorted \u001b[39m=\u001b[39m \u001b[39msorted\u001b[39m(temp_list, key\u001b[39m=\u001b[39m\u001b[39mlambda\u001b[39;00m x : \u001b[39mint\u001b[39m(x[\u001b[39m-\u001b[39m\u001b[39m1\u001b[39m]))\n",
      "\u001b[1;31mValueError\u001b[0m: invalid literal for int() with base 10: '5 Freedom Fighter'"
     ]
    }
   ],
   "source": [
    "# 1 헤드 문자열로 정렬\n",
    "# 2 순자 순으로 정렬\n",
    "# 원래 입력 주어진 순서 유지\n",
    "\n",
    "seq = 0\n",
    "while True :\n",
    "    seq += 1\n",
    "    cnt = 0\n",
    "    for res in range(len(result) - 1) :\n",
    "        temp_bef = result[res]\n",
    "        temp_after = result[res+1]\n",
    "        # 문자열 기준으로 정렬\n",
    "        temp_list = [temp_bef,temp_after]\n",
    "        temp_sorted = sorted(temp_list, key=lambda x : x[0].lower())\n",
    "        if temp_list == temp_sorted :\n",
    "            # 넘버 기준으로 정렬\n",
    "            temp_sorted = sorted(temp_list, key=lambda x : int(x[1]))\n",
    "            if temp_list == temp_sorted :\n",
    "                # 최초 입력열 기준으로 정렬\n",
    "                temp_sorted = sorted(temp_list, key=lambda x : int(x[-1]))\n",
    "                if temp_list == temp_sorted :\n",
    "                    pass\n",
    "                else :\n",
    "                    result[res:res+2] = temp_sorted\n",
    "                    cnt += 1\n",
    "            else :\n",
    "                result[res:res+2] = temp_sorted\n",
    "\n",
    "                cnt += 1\n",
    "        else :\n",
    "            result[res:res+2] = temp_sorted\n",
    "            cnt += 1\n",
    "    if cnt == 0 :\n",
    "        break\n",
    "    if seq == 10 :\n",
    "        break\n",
    "result\n",
    "            "
   ]
  },
  {
   "cell_type": "code",
   "execution_count": 29,
   "metadata": {},
   "outputs": [
    {
     "data": {
      "text/plain": [
       "['img1.png', 'IMG01.GIF', 'img02.png', 'img2.JPG', 'img10.png', 'img12.png']"
      ]
     },
     "execution_count": 29,
     "metadata": {},
     "output_type": "execute_result"
    },
    {
     "ename": "",
     "evalue": "",
     "output_type": "error",
     "traceback": [
      "\u001b[1;31m현재 셀 또는 이전 셀에서 코드를 실행하는 동안 Kernel이 충돌했습니다. 셀의 코드를 검토하여 오류의 가능한 원인을 식별하세요. 자세한 내용을 보려면 <a href='https://aka.ms/vscodeJupyterKernelCrash'> 여기 </a> 를 클릭하세요. 자세한 내용은 Jupyter <a href='command:jupyter.viewOutput'>로그</a>를 참조하세요."
     ]
    }
   ],
   "source": [
    "files =  [\"img12.png\", \"img10.png\", \"img02.png\", \"img1.png\", \"IMG01.GIF\", \"img2.JPG\"]\n",
    "# 글자 나오면 head\n",
    "# 숫자 나오면 number\n",
    "# 숫자이후 문자가 아닌 부호가 처음 나오면 tail\n",
    "result = []\n",
    "for file in files :\n",
    "    head, number, tail = '', '', ''\n",
    "    number_check = False\n",
    "    for i in range(len(file)) :\n",
    "        # isdigit도 숫자 인지 확인하는 함수\n",
    "        if file[i].isdigit() :\n",
    "            number += file[i]\n",
    "            number_check = True\n",
    "        # 헤드\n",
    "        elif not number_check:\n",
    "            head += file[i]\n",
    "        else :\n",
    "            tail = file[i:]\n",
    "            break\n",
    "    result.append([head, number, tail])\n",
    "    result.sort(key= lambda x : (x[0].lower(), int(x[1])))\n",
    "[''.join(res) for res in result]"
   ]
  },
  {
   "cell_type": "code",
   "execution_count": 15,
   "metadata": {},
   "outputs": [
    {
     "data": {
      "text/plain": [
       "[['IMG', '01', '.GIF', 4], ['IMG', '01', '.GIF', 4]]"
      ]
     },
     "execution_count": 15,
     "metadata": {},
     "output_type": "execute_result"
    }
   ],
   "source": [
    "temp_list"
   ]
  },
  {
   "cell_type": "code",
   "execution_count": 16,
   "metadata": {},
   "outputs": [
    {
     "data": {
      "text/plain": [
       "[['IMG', '01', '.GIF', 4], ['IMG', '01', '.GIF', 4]]"
      ]
     },
     "execution_count": 16,
     "metadata": {},
     "output_type": "execute_result"
    }
   ],
   "source": [
    "temp_sorted"
   ]
  },
  {
   "cell_type": "code",
   "execution_count": 9,
   "metadata": {},
   "outputs": [
    {
     "data": {
      "text/plain": [
       "[6, 7, 3, 4, 5]"
      ]
     },
     "execution_count": 9,
     "metadata": {},
     "output_type": "execute_result"
    }
   ],
   "source": [
    "list1 = [1,2,3,4,5]\n",
    "list1[:2] = [6,7]\n",
    "list1"
   ]
  }
 ],
 "metadata": {
  "kernelspec": {
   "display_name": "Python 3",
   "language": "python",
   "name": "python3"
  },
  "language_info": {
   "codemirror_mode": {
    "name": "ipython",
    "version": 3
   },
   "file_extension": ".py",
   "mimetype": "text/x-python",
   "name": "python",
   "nbconvert_exporter": "python",
   "pygments_lexer": "ipython3",
   "version": "3.8.10"
  },
  "orig_nbformat": 4,
  "vscode": {
   "interpreter": {
    "hash": "e3ada8b426290dd76767ba6368ea690ca67a7a436b12c3cf567e5cb72f89ca03"
   }
  }
 },
 "nbformat": 4,
 "nbformat_minor": 2
}
