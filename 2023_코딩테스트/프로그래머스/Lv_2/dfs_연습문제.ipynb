{
 "cells": [
  {
   "cell_type": "code",
   "execution_count": 2,
   "metadata": {},
   "outputs": [
    {
     "ename": "TypeError",
     "evalue": "append() takes exactly one argument (0 given)",
     "output_type": "error",
     "traceback": [
      "\u001b[1;31m---------------------------------------------------------------------------\u001b[0m",
      "\u001b[1;31mTypeError\u001b[0m                                 Traceback (most recent call last)",
      "\u001b[1;32mc:\\Users\\Admin\\TIL\\2023_코딩테스트\\Lv_2\\dfs_연습문제.ipynb 셀 1\u001b[0m in \u001b[0;36m<cell line: 10>\u001b[1;34m()\u001b[0m\n\u001b[0;32m     <a href='vscode-notebook-cell:/c%3A/Users/Admin/TIL/2023_%EC%BD%94%EB%94%A9%ED%85%8C%EC%8A%A4%ED%8A%B8/Lv_2/dfs_%EC%97%B0%EC%8A%B5%EB%AC%B8%EC%A0%9C.ipynb#W0sZmlsZQ%3D%3D?line=12'>13</a>\u001b[0m \u001b[39mfor\u001b[39;00m li \u001b[39min\u001b[39;00m line_list:\n\u001b[0;32m     <a href='vscode-notebook-cell:/c%3A/Users/Admin/TIL/2023_%EC%BD%94%EB%94%A9%ED%85%8C%EC%8A%A4%ED%8A%B8/Lv_2/dfs_%EC%97%B0%EC%8A%B5%EB%AC%B8%EC%A0%9C.ipynb#W0sZmlsZQ%3D%3D?line=13'>14</a>\u001b[0m     \u001b[39mif\u001b[39;00m loc \u001b[39min\u001b[39;00m li :\n\u001b[1;32m---> <a href='vscode-notebook-cell:/c%3A/Users/Admin/TIL/2023_%EC%BD%94%EB%94%A9%ED%85%8C%EC%8A%A4%ED%8A%B8/Lv_2/dfs_%EC%97%B0%EC%8A%B5%EB%AC%B8%EC%A0%9C.ipynb#W0sZmlsZQ%3D%3D?line=14'>15</a>\u001b[0m         temp\u001b[39m.\u001b[39;49mappend()\n",
      "\u001b[1;31mTypeError\u001b[0m: append() takes exactly one argument (0 given)"
     ]
    }
   ],
   "source": [
    "# 정점수, 간선수 필요\n",
    "# 번호간의 인접을 의미하는 맵 하나 반들어둠\n",
    "list1 = [1,2,1,3,2,4,2,5,4,6,5,6,6,7,3,7]\n",
    "str1 = '1 2 1 3 2 4 2 5 4 6 5 6 6 7 3 7'"
   ]
  },
  {
   "cell_type": "code",
   "execution_count": 3,
   "metadata": {},
   "outputs": [
    {
     "data": {
      "text/plain": [
       "[1, 2, 1, 3, 2, 4, 2, 5, 4, 6, 5, 6, 6, 7, 3, 7]"
      ]
     },
     "execution_count": 3,
     "metadata": {},
     "output_type": "execute_result"
    }
   ],
   "source": [
    "arr = list(map(int, str1.split()))\n",
    "arr"
   ]
  },
  {
   "cell_type": "code",
   "execution_count": 5,
   "metadata": {},
   "outputs": [
    {
     "name": "stdout",
     "output_type": "stream",
     "text": [
      "1 2\n",
      "1 3\n",
      "2 4\n",
      "2 5\n",
      "4 6\n",
      "5 6\n",
      "6 7\n",
      "3 7\n"
     ]
    },
    {
     "data": {
      "text/plain": [
       "[[0, 0, 0, 0, 0, 0, 0, 0],\n",
       " [0, 0, 1, 1, 0, 0, 0, 0],\n",
       " [0, 1, 0, 0, 1, 1, 0, 0],\n",
       " [0, 1, 0, 0, 0, 0, 0, 1],\n",
       " [0, 0, 1, 0, 0, 0, 1, 0],\n",
       " [0, 0, 1, 0, 0, 0, 1, 0],\n",
       " [0, 0, 0, 0, 1, 1, 0, 1],\n",
       " [0, 0, 0, 1, 0, 0, 1, 0]]"
      ]
     },
     "execution_count": 5,
     "metadata": {},
     "output_type": "execute_result"
    }
   ],
   "source": [
    "# 번호간의 인접을 의미하는 맵 하나 반들어둠\n",
    "adjM = [[0]*8 for _ in range(8)]\n",
    "for i in range(len(arr)//2):\n",
    "    v1, v2 = arr[i*2], arr[i*2+1]\n",
    "    adjM[v1][v2] = 1\n",
    "    adjM[v2][v1] = 1\n",
    "    print(v1, v2)\n",
    "adjM"
   ]
  },
  {
   "cell_type": "code",
   "execution_count": 23,
   "metadata": {},
   "outputs": [
    {
     "data": {
      "text/plain": [
       "[1, 2, 8, 3, 5, 4, 7]"
      ]
     },
     "execution_count": 23,
     "metadata": {},
     "output_type": "execute_result"
    }
   ],
   "source": [
    "str1 = '1 2 1 3 2 4 2 5 4 6 5 6 6 7 3 7'\n",
    "arr = list(map(int, str1.split()))\n",
    "adjM = [[0]*8 for _ in range(8)]\n",
    "for i in range(len(arr)//2):\n",
    "    v1, v2 = arr[i*2], arr[i*2+1]\n",
    "    adjM[v1][v2] = 1\n",
    "    adjM[v2][v1] = 1\n",
    "\n",
    "# 시작위치\n",
    "loc = 1\n",
    "past_route = []\n",
    "result = [[] for _ in range(7)]\n",
    "past_spot = [1] + [0]* 6\n",
    "cnt = 1\n",
    "result[0] = 1\n",
    "while True :\n",
    "    # 이동숫자\n",
    "    cnt += 1\n",
    "    # 현재 연결 상황 확인\n",
    "    temp_list = adjM[loc]\n",
    "    # 새로운 루트 탐색\n",
    "    for idx, li in enumerate(temp_list):\n",
    "        if li == 1 and past_spot[idx-1] == 0 :\n",
    "            # 이전 넘버 경로에 추가\n",
    "            past_route.append(loc)\n",
    "            # 최신 위치 업데이트\n",
    "            loc = idx\n",
    "            # 최초 방문 거리 결과에 추가\n",
    "            result[idx-1] = cnt\n",
    "            # 방문 여부 업데이트\n",
    "            past_spot[idx-1] = 1\n",
    "            break\n",
    "    # 새로운 루트가 없을 경우\n",
    "    else :\n",
    "        if len(past_route) == 0 :\n",
    "            break\n",
    "        else :\n",
    "            loc = past_route.pop()\n",
    "result"
   ]
  },
  {
   "cell_type": "code",
   "execution_count": 16,
   "metadata": {},
   "outputs": [
    {
     "data": {
      "text/plain": [
       "0"
      ]
     },
     "execution_count": 16,
     "metadata": {},
     "output_type": "execute_result"
    }
   ],
   "source": [
    "li"
   ]
  },
  {
   "cell_type": "code",
   "execution_count": 14,
   "metadata": {},
   "outputs": [
    {
     "data": {
      "text/plain": [
       "[1, 0, 0, 0, 0, 0, 0]"
      ]
     },
     "execution_count": 14,
     "metadata": {},
     "output_type": "execute_result"
    }
   ],
   "source": [
    "past_spot"
   ]
  },
  {
   "cell_type": "code",
   "execution_count": 13,
   "metadata": {},
   "outputs": [
    {
     "data": {
      "text/plain": [
       "[0, 0, 1, 1, 0, 0, 0, 0]"
      ]
     },
     "execution_count": 13,
     "metadata": {},
     "output_type": "execute_result"
    }
   ],
   "source": [
    "temp_list"
   ]
  }
 ],
 "metadata": {
  "kernelspec": {
   "display_name": "Python 3",
   "language": "python",
   "name": "python3"
  },
  "language_info": {
   "codemirror_mode": {
    "name": "ipython",
    "version": 3
   },
   "file_extension": ".py",
   "mimetype": "text/x-python",
   "name": "python",
   "nbconvert_exporter": "python",
   "pygments_lexer": "ipython3",
   "version": "3.8.10"
  },
  "orig_nbformat": 4,
  "vscode": {
   "interpreter": {
    "hash": "e3ada8b426290dd76767ba6368ea690ca67a7a436b12c3cf567e5cb72f89ca03"
   }
  }
 },
 "nbformat": 4,
 "nbformat_minor": 2
}
