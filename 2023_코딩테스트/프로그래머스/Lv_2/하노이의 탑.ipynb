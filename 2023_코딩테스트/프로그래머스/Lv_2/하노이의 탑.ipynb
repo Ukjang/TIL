{
 "cells": [
  {
   "cell_type": "code",
   "execution_count": 14,
   "metadata": {},
   "outputs": [],
   "source": [
    "def solution(n):\n",
    "    answer = []\n",
    "    \n",
    "    def hanoi(src, tgt, inter, n): # 인자 순서 넣어주는 게 좀 헷갈렸음.\n",
    "        if n == 1:\n",
    "            answer.append([src, tgt])\n",
    "        else:\n",
    "            hanoi(src,inter,tgt,n-1)\n",
    "            hanoi(src,tgt,inter,1)\n",
    "            hanoi(inter,tgt,src,n-1)\n",
    "        print(answer)\n",
    "        print('\\n')\n",
    "    hanoi(1,3,2,n)\n",
    "    \n",
    "    return answer"
   ]
  },
  {
   "cell_type": "code",
   "execution_count": 15,
   "metadata": {},
   "outputs": [
    {
     "name": "stdout",
     "output_type": "stream",
     "text": [
      "[[1, 3]]\n",
      "\n",
      "\n",
      "[[1, 3], [1, 2]]\n",
      "\n",
      "\n",
      "[[1, 3], [1, 2], [3, 2]]\n",
      "\n",
      "\n",
      "[[1, 3], [1, 2], [3, 2]]\n",
      "\n",
      "\n",
      "[[1, 3], [1, 2], [3, 2], [1, 3]]\n",
      "\n",
      "\n",
      "[[1, 3], [1, 2], [3, 2], [1, 3], [2, 1]]\n",
      "\n",
      "\n",
      "[[1, 3], [1, 2], [3, 2], [1, 3], [2, 1], [2, 3]]\n",
      "\n",
      "\n",
      "[[1, 3], [1, 2], [3, 2], [1, 3], [2, 1], [2, 3], [1, 3]]\n",
      "\n",
      "\n",
      "[[1, 3], [1, 2], [3, 2], [1, 3], [2, 1], [2, 3], [1, 3]]\n",
      "\n",
      "\n",
      "[[1, 3], [1, 2], [3, 2], [1, 3], [2, 1], [2, 3], [1, 3]]\n",
      "\n",
      "\n"
     ]
    },
    {
     "data": {
      "text/plain": [
       "[[1, 3], [1, 2], [3, 2], [1, 3], [2, 1], [2, 3], [1, 3]]"
      ]
     },
     "execution_count": 15,
     "metadata": {},
     "output_type": "execute_result"
    }
   ],
   "source": [
    "n= 3\n",
    "solution(3)"
   ]
  }
 ],
 "metadata": {
  "kernelspec": {
   "display_name": "pytorch",
   "language": "python",
   "name": "python3"
  },
  "language_info": {
   "codemirror_mode": {
    "name": "ipython",
    "version": 3
   },
   "file_extension": ".py",
   "mimetype": "text/x-python",
   "name": "python",
   "nbconvert_exporter": "python",
   "pygments_lexer": "ipython3",
   "version": "3.10.5"
  },
  "orig_nbformat": 4,
  "vscode": {
   "interpreter": {
    "hash": "334544a737ead5017040ac753f52220319955d2381f512ab105ce194db781c37"
   }
  }
 },
 "nbformat": 4,
 "nbformat_minor": 2
}
