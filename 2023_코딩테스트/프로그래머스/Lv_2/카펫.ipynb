{
 "cells": [
  {
   "cell_type": "code",
   "execution_count": null,
   "metadata": {},
   "outputs": [],
   "source": [
    "def solution(brown, yellow):\n",
    "    # 옐로우 약수  리스트 구함\n",
    "    # 각각 약수 +2 의 곱이 전체 개수랑 같으면 retrun\n",
    "    # 카펫의 가로 길이는 세로 길이와 같거나, 세로 길이보다 깁니다.\n",
    "    for i in range(1, int(yellow ** (1/2)) + 1) :\n",
    "        # 약수일때\n",
    "        if yellow % i == 0:\n",
    "            if (i + 2) * ((yellow//i) + 2) == (brown + yellow) :\n",
    "                return [max(i + 2, (yellow//i) + 2), min(i + 2, (yellow//i) + 2)]"
   ]
  }
 ],
 "metadata": {
  "language_info": {
   "name": "python"
  },
  "orig_nbformat": 4
 },
 "nbformat": 4,
 "nbformat_minor": 2
}
