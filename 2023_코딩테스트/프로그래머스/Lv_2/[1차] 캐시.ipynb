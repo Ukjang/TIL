{
 "cells": [
  {
   "cell_type": "code",
   "execution_count": null,
   "metadata": {},
   "outputs": [],
   "source": [
    "def solution(cacheSize, cities):\n",
    "    answer = 0\n",
    "    cache = []\n",
    "    # 캐시크기가 0인 경우\n",
    "    if cacheSize == 0 :\n",
    "        answer = len(cities) * 5\n",
    "    else :\n",
    "        for city in cities :\n",
    "            # 대문자로 통일\n",
    "            city = city.upper()\n",
    "            # 캐시가 비어 있으면\n",
    "            if len(cache) == 0 :\n",
    "                cache.append(city)\n",
    "                answer += 5\n",
    "            # 캐시 안에 있다면\n",
    "            elif city in cache :\n",
    "                answer += 1\n",
    "                # 위치 초기화\n",
    "                cache.remove(city)\n",
    "                cache.append(city)\n",
    "            else :\n",
    "                # 캐시가 가득 차있으면\n",
    "                if len(cache) == cacheSize:\n",
    "                    cache.pop(0)\n",
    "                    cache.append(city)\n",
    "                else :\n",
    "                    cache.append(city)\n",
    "                answer += 5\n",
    "                    \n",
    "    return answer"
   ]
  }
 ],
 "metadata": {
  "language_info": {
   "name": "python"
  },
  "orig_nbformat": 4
 },
 "nbformat": 4,
 "nbformat_minor": 2
}
