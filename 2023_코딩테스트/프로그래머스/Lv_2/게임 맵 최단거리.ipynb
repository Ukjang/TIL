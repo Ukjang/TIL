{
 "cells": [
  {
   "cell_type": "code",
   "execution_count": 12,
   "metadata": {},
   "outputs": [
    {
     "name": "stdout",
     "output_type": "stream",
     "text": [
      "0 1 0 2 deque([(1, 0)])\n",
      "1 0 0 3 deque([(0, 0)])\n",
      "1 2 0 3 deque([(0, 0), (2, 0)])\n",
      "3 3 0 4 deque([(3, 0)])\n",
      "4 3 1 5 deque([(3, 1)])\n",
      "5 3 2 6 deque([(3, 2)])\n",
      "6 2 2 7 deque([(2, 2)])\n",
      "7 1 2 8 deque([(1, 2)])\n",
      "7 2 3 8 deque([(1, 2), (2, 3)])\n",
      "8 0 2 9 deque([(2, 3), (0, 2)])\n",
      "9 2 4 9 deque([(0, 2), (2, 4)])\n",
      "10 0 3 10 deque([(2, 4), (0, 3)])\n",
      "11 1 4 10 deque([(0, 3), (1, 4)])\n",
      "11 3 4 10 deque([(0, 3), (1, 4), (3, 4)])\n",
      "12 0 4 11 deque([(1, 4), (3, 4), (0, 4)])\n",
      "14 4 4 11 deque([(0, 4), (4, 4)])\n"
     ]
    },
    {
     "data": {
      "text/plain": [
       "[[3, 0, 9, 10, 11],\n",
       " [2, 0, 8, 0, 10],\n",
       " [3, 0, 7, 8, 9],\n",
       " [4, 5, 6, 0, 10],\n",
       " [0, 0, 0, 0, 11]]"
      ]
     },
     "execution_count": 12,
     "metadata": {},
     "output_type": "execute_result"
    }
   ],
   "source": [
    "from collections import deque\n",
    "maps = [[1,0,1,1,1],[1,0,1,0,1],[1,0,1,1,1],[1,1,1,0,1],[0,0,0,0,1]]\n",
    "\n",
    "# 상하\n",
    "dx = [-1, 1, 0, 0]\n",
    "# 좌우\n",
    "dy = [0, 0, -1, 1]\n",
    "def bfs(x,y) : \n",
    "    queue = deque()\n",
    "    queue.append((x,y))\n",
    "    cnt = 0  \n",
    "    while queue :\n",
    "        # 시작시 queue에서 방문하지 않은 지점 꺼내기\n",
    "        x, y = queue.popleft()\n",
    "        for i in range(4) :\n",
    "            nx = x + dx[i]\n",
    "            ny = y + dy[i]\n",
    "\n",
    "            # 맵 밖을 벗어나면 countinue\n",
    "            if nx < 0 or ny < 0 or nx >= len(maps) or ny >= len(maps[0]) : continue\n",
    "            \n",
    "            # 벽이면  continue\n",
    "            if maps[nx][ny] == 0 : continue\n",
    "\n",
    "            # 처음지나가는 길이면 길이 더해줌, 방문한 위치면 1이 아님\n",
    "            if maps[nx][ny] == 1:\n",
    "                maps[nx][ny] = maps[x][y] + 1\n",
    "                # 방분하지 않은 위치 값 queue에 더해주기\n",
    "                queue.append((nx,ny))\n",
    "                print(cnt, nx,ny, maps[nx][ny], queue)\n",
    "        cnt += 1\n",
    "    return maps\n",
    "map1 = bfs(0,0)\n",
    "map1\n"
   ]
  },
  {
   "cell_type": "code",
   "execution_count": null,
   "metadata": {},
   "outputs": [],
   "source": [
    "from collections import deque\n",
    "def solution(maps):\n",
    "    # DFS / BFS 와 deque 이용\n",
    "    def bfs(x, y) :\n",
    "        queue = deque()\n",
    "        # 상하\n",
    "        dx = [-1, 1, 0, 0]\n",
    "        # 좌우\n",
    "        dy = [0, 0, -1, 1]\n",
    "        queue.append((x,y))\n",
    "        # 처음 방문할 포인트가 없을 때 까지 반복\n",
    "        while queue :\n",
    "            x, y = queue.popleft()\n",
    "            # 동서남북으로 이동 가능\n",
    "            for i in range(4) :\n",
    "                nx = x + dx[i]\n",
    "                ny = y + dy[i]\n",
    "                \n",
    "                # 맵 벗어난 경우\n",
    "                if nx < 0 or nx >= len(maps) or ny < 0 or ny >= len(maps[0]) : continue\n",
    "                \n",
    "                # 벽인 경우\n",
    "                if maps[nx][ny] == 0 : continue\n",
    "                \n",
    "                # 처음 방문한 지점인 경우만 1, 재방문은 1보다 큰 수\n",
    "                if maps[nx][ny] == 1:\n",
    "                    # 지금까지 걸린 거리 + 1 해줘서 거리 값 입력\n",
    "                    maps[nx][ny] = maps[x][y] + 1\n",
    "                    # 최초 방문 포인트 queue 에 추가\n",
    "                    queue.append((nx,ny))\n",
    "        return maps[-1][-1]\n",
    "    answer = bfs(0,0)\n",
    "    if answer == 1 :\n",
    "        answer = -1\n",
    "    return answer"
   ]
  },
  {
   "cell_type": "code",
   "execution_count": 17,
   "metadata": {},
   "outputs": [
    {
     "data": {
      "text/plain": [
       "deque([4, 5, 6])"
      ]
     },
     "execution_count": 17,
     "metadata": {},
     "output_type": "execute_result"
    }
   ],
   "source": [
    "list1 = [7,4,5,6]\n",
    "dlist1 = deque(list1)\n",
    "dlist1.popleft()\n",
    "dlist1"
   ]
  },
  {
   "cell_type": "code",
   "execution_count": 18,
   "metadata": {},
   "outputs": [
    {
     "data": {
      "text/plain": [
       "4"
      ]
     },
     "execution_count": 18,
     "metadata": {},
     "output_type": "execute_result"
    }
   ],
   "source": [
    "dlist1[0]"
   ]
  },
  {
   "cell_type": "code",
   "execution_count": null,
   "metadata": {},
   "outputs": [],
   "source": []
  },
  {
   "cell_type": "code",
   "execution_count": null,
   "metadata": {},
   "outputs": [],
   "source": []
  }
 ],
 "metadata": {
  "kernelspec": {
   "display_name": "Python 3",
   "language": "python",
   "name": "python3"
  },
  "language_info": {
   "codemirror_mode": {
    "name": "ipython",
    "version": 3
   },
   "file_extension": ".py",
   "mimetype": "text/x-python",
   "name": "python",
   "nbconvert_exporter": "python",
   "pygments_lexer": "ipython3",
   "version": "3.8.10"
  },
  "orig_nbformat": 4,
  "vscode": {
   "interpreter": {
    "hash": "e3ada8b426290dd76767ba6368ea690ca67a7a436b12c3cf567e5cb72f89ca03"
   }
  }
 },
 "nbformat": 4,
 "nbformat_minor": 2
}
