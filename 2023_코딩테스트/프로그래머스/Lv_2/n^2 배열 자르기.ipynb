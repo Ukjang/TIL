{
 "cells": [
  {
   "cell_type": "code",
   "execution_count": 1,
   "metadata": {},
   "outputs": [],
   "source": [
    "n = 3\n",
    "left = 2\n",
    "right = 5"
   ]
  },
  {
   "cell_type": "code",
   "execution_count": 2,
   "metadata": {},
   "outputs": [],
   "source": [
    "def solution(n, left, right):\n",
    "    answer = []\n",
    "    nm_list = list(range(1, n+1))\n",
    "    for i in range(left//n , right//n + 1):\n",
    "        temp = nm_list[i:]\n",
    "        if len(temp) <= 1 :\n",
    "            answer += temp[0:1] * (i+1)\n",
    "        else :\n",
    "            answer += temp[0:1] * (i+1) \n",
    "            answer +=  temp[1:]\n",
    "    return list(answer[left%n:(right-(left//n * n) + 1)])"
   ]
  },
  {
   "cell_type": "code",
   "execution_count": 44,
   "metadata": {},
   "outputs": [
    {
     "data": {
      "text/plain": [
       "[3, 2, 2, 3]"
      ]
     },
     "execution_count": 44,
     "metadata": {},
     "output_type": "execute_result"
    }
   ],
   "source": [
    "n = 3\n",
    "left = 2\n",
    "right = 5\n",
    "# n= 4\n",
    "# left=7\n",
    "# right=14\n",
    "# 1234 2234 3334 4444\n",
    "# 123 223 333\n",
    "answer = []\n",
    "nm_list = list(range(1, n+1))\n",
    "for i in range(left//n , right//n + 1):\n",
    "    temp = nm_list[i:]\n",
    "    if len(temp) <= 1 :\n",
    "        answer += temp[0:1] * (i+1)\n",
    "    else :\n",
    "        answer += temp[0:1] * (i+1) \n",
    "        answer +=  temp[1:]\n",
    "list(answer[left%n:(right-(left//n * n) + 1)])"
   ]
  }
 ],
 "metadata": {
  "kernelspec": {
   "display_name": "Python 3",
   "language": "python",
   "name": "python3"
  },
  "language_info": {
   "codemirror_mode": {
    "name": "ipython",
    "version": 3
   },
   "file_extension": ".py",
   "mimetype": "text/x-python",
   "name": "python",
   "nbconvert_exporter": "python",
   "pygments_lexer": "ipython3",
   "version": "3.8.10"
  },
  "orig_nbformat": 4,
  "vscode": {
   "interpreter": {
    "hash": "e3ada8b426290dd76767ba6368ea690ca67a7a436b12c3cf567e5cb72f89ca03"
   }
  }
 },
 "nbformat": 4,
 "nbformat_minor": 2
}
