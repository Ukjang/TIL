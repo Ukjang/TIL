{
 "cells": [
  {
   "cell_type": "code",
   "execution_count": 6,
   "metadata": {},
   "outputs": [
    {
     "data": {
      "text/plain": [
       "[2, 3, 2, 2, 2, 2]"
      ]
     },
     "execution_count": 6,
     "metadata": {},
     "output_type": "execute_result"
    }
   ],
   "source": [
    "k = 80\n",
    "dungeons = \t[[80,20],[50,40],[30,10]]\t\n",
    "result = []\n",
    "from itertools import permutations\n",
    "\n",
    "per_list = list(permutations(list(range(len(dungeons)))))\n",
    "for per in per_list :\n",
    "    temp_num = 0\n",
    "    temp_k = k\n",
    "    for nm in per :\n",
    "        temp_dungeon = dungeons[nm]\n",
    "        min_need, use_need = temp_dungeon\n",
    "        if min_need <= temp_k :\n",
    "            temp_k -= use_need\n",
    "            temp_num += 1\n",
    "        else :\n",
    "            pass\n",
    "    result.append(temp_num)\n",
    "max(result)\n"
   ]
  },
  {
   "cell_type": "code",
   "execution_count": null,
   "metadata": {},
   "outputs": [],
   "source": [
    "from itertools import permutations\n",
    "def solution(k, dungeons):\n",
    "    result = []\n",
    "    per_list = list(permutations(list(range(len(dungeons)))))\n",
    "    for per in per_list :\n",
    "        temp_num = 0\n",
    "        temp_k = k\n",
    "        for nm in per :\n",
    "            temp_dungeon = dungeons[nm]\n",
    "            min_need, use_need = temp_dungeon\n",
    "            if min_need <= temp_k :\n",
    "                temp_k -= use_need\n",
    "                temp_num += 1\n",
    "            else :\n",
    "                pass\n",
    "        result.append(temp_num)\n",
    "    return max(result)"
   ]
  }
 ],
 "metadata": {
  "kernelspec": {
   "display_name": "pytorch",
   "language": "python",
   "name": "python3"
  },
  "language_info": {
   "codemirror_mode": {
    "name": "ipython",
    "version": 3
   },
   "file_extension": ".py",
   "mimetype": "text/x-python",
   "name": "python",
   "nbconvert_exporter": "python",
   "pygments_lexer": "ipython3",
   "version": "3.10.5"
  },
  "orig_nbformat": 4,
  "vscode": {
   "interpreter": {
    "hash": "334544a737ead5017040ac753f52220319955d2381f512ab105ce194db781c37"
   }
  }
 },
 "nbformat": 4,
 "nbformat_minor": 2
}
