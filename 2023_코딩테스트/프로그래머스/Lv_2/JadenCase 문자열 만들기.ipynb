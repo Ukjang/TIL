{
 "cells": [
  {
   "cell_type": "code",
   "execution_count": null,
   "metadata": {},
   "outputs": [],
   "source": [
    "def solution(s):\n",
    "    # 첫글자만 대문자 나머지 소문자\n",
    "    # 공백단위로 단위 split\n",
    "    # 공백문자가 연속해서 나올 수 있습니다.\n",
    "    # 빈 리스트여도 join ''하면 공백 생김\n",
    "    s_list = s.split(' ')\n",
    "    answer = []\n",
    "    for word in s_list :\n",
    "        if word == '':\n",
    "            answer.append(word)\n",
    "        else :\n",
    "            word = word[0].upper() + word[1:].lower()\n",
    "            answer.append(word)\n",
    "    return ' '.join(answer)"
   ]
  }
 ],
 "metadata": {
  "kernelspec": {
   "display_name": "Python 3",
   "language": "python",
   "name": "python3"
  },
  "language_info": {
   "codemirror_mode": {
    "name": "ipython",
    "version": 3
   },
   "file_extension": ".py",
   "mimetype": "text/x-python",
   "name": "python",
   "nbconvert_exporter": "python",
   "pygments_lexer": "ipython3",
   "version": "3.8.10"
  },
  "orig_nbformat": 4,
  "vscode": {
   "interpreter": {
    "hash": "e3ada8b426290dd76767ba6368ea690ca67a7a436b12c3cf567e5cb72f89ca03"
   }
  }
 },
 "nbformat": 4,
 "nbformat_minor": 2
}
