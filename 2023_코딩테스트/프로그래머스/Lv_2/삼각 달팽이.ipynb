{
 "cells": [
  {
   "cell_type": "code",
   "execution_count": 4,
   "metadata": {},
   "outputs": [
    {
     "data": {
      "text/plain": [
       "[1, 2, 9, 3, 10, 8, 4, 5, 6, 7]"
      ]
     },
     "execution_count": 4,
     "metadata": {},
     "output_type": "execute_result"
    },
    {
     "ename": "",
     "evalue": "",
     "output_type": "error",
     "traceback": [
      "\u001b[1;31m현재 셀 또는 이전 셀에서 코드를 실행하는 동안 Kernel이 충돌했습니다. 셀의 코드를 검토하여 오류의 가능한 원인을 식별하세요. 자세한 내용을 보려면 <a href='https://aka.ms/vscodeJupyterKernelCrash'> 여기 </a> 를 클릭하세요. 자세한 내용은 Jupyter <a href='command:jupyter.viewOutput'>로그</a>를 참조하세요."
     ]
    }
   ],
   "source": [
    "n = 4\n",
    "# 한번에 채워야 하는 수 n - i 개\n",
    "# i 값에 따라서 3가지 방향\n",
    "arr1 = [[0]*i for i in range(1,n+1)]\n",
    "start = (-1,0)\n",
    "x,y = start\n",
    "num = 1\n",
    "for i in range(n) :\n",
    "    for j in range(i,n) :\n",
    "        # 아래 방향\n",
    "        if i % 3 == 0:\n",
    "            x += 1 \n",
    "        # 오른쪽 방향\n",
    "        elif i % 3 == 1 :\n",
    "            y += 1\n",
    "        # 위 방향\n",
    "        else :\n",
    "            x -= 1\n",
    "            y -= 1\n",
    "        arr1[x][y] = num\n",
    "        num+=1\n",
    "# 리스트 끼리의 덧셈!\n",
    "sum(arr1, [])"
   ]
  }
 ],
 "metadata": {
  "kernelspec": {
   "display_name": "Python 3",
   "language": "python",
   "name": "python3"
  },
  "language_info": {
   "codemirror_mode": {
    "name": "ipython",
    "version": 3
   },
   "file_extension": ".py",
   "mimetype": "text/x-python",
   "name": "python",
   "nbconvert_exporter": "python",
   "pygments_lexer": "ipython3",
   "version": "3.8.10"
  },
  "orig_nbformat": 4,
  "vscode": {
   "interpreter": {
    "hash": "e3ada8b426290dd76767ba6368ea690ca67a7a436b12c3cf567e5cb72f89ca03"
   }
  }
 },
 "nbformat": 4,
 "nbformat_minor": 2
}
