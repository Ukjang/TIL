{
 "cells": [
  {
   "cell_type": "code",
   "execution_count": 2,
   "metadata": {},
   "outputs": [],
   "source": [
    "from collections import Counter\n",
    "def solution(want, number, discount):\n",
    "    answer = 0\n",
    "    want_list = []\n",
    "    # 물품 딕트 만들기\n",
    "    for i in range(len(want)):\n",
    "        want_list.append((want[i] , number[i]))\n",
    "    for nm in range(0,len(discount)-9) :\n",
    "        temp_dis = discount[nm:nm+10]\n",
    "        cnt_list = list(Counter(temp_dis).items())\n",
    "        for wt in want_list:\n",
    "            if wt not in cnt_list:\n",
    "                break\n",
    "        else :\n",
    "            answer+=1\n",
    "            \n",
    "    return answer"
   ]
  },
  {
   "cell_type": "code",
   "execution_count": 9,
   "metadata": {},
   "outputs": [
    {
     "data": {
      "text/plain": [
       "3"
      ]
     },
     "execution_count": 9,
     "metadata": {},
     "output_type": "execute_result"
    }
   ],
   "source": [
    "want = [\"banana\", \"apple\", \"rice\", \"pork\", \"pot\"]\n",
    "number = [3, 2, 2, 2, 1]\n",
    "discount = [\"chicken\", \"apple\", \"apple\", \"banana\", \"rice\", \"apple\", \"pork\", \"banana\", \"pork\", \"rice\", \"pot\", \"banana\", \"apple\", \"banana\"]\n",
    "answer = 0\n",
    "want_list = []\n",
    "# 물품 딕트 만들기\n",
    "for i in range(len(want)):\n",
    "    want_list.append((want[i] , number[i]))\n",
    "for nm in range(0,len(discount)-9) :\n",
    "    temp_dis = discount[nm:nm+10]\n",
    "    cnt_list = list(Counter(temp_dis).items())\n",
    "    for wt in want_list:\n",
    "        if wt not in cnt_list:\n",
    "            break\n",
    "    else :\n",
    "        answer+=1\n",
    "\n",
    "answer"
   ]
  },
  {
   "cell_type": "code",
   "execution_count": 7,
   "metadata": {},
   "outputs": [
    {
     "data": {
      "text/plain": [
       "dict_items([('rice', 2), ('apple', 2), ('pork', 2), ('banana', 3), ('pot', 1)])"
      ]
     },
     "execution_count": 7,
     "metadata": {},
     "output_type": "execute_result"
    }
   ],
   "source": [
    "Counter(temp_dis).items()"
   ]
  },
  {
   "cell_type": "code",
   "execution_count": 5,
   "metadata": {},
   "outputs": [
    {
     "data": {
      "text/plain": [
       "['rice',\n",
       " 'apple',\n",
       " 'pork',\n",
       " 'banana',\n",
       " 'pork',\n",
       " 'rice',\n",
       " 'pot',\n",
       " 'banana',\n",
       " 'apple',\n",
       " 'banana']"
      ]
     },
     "execution_count": 5,
     "metadata": {},
     "output_type": "execute_result"
    }
   ],
   "source": [
    "temp_dis"
   ]
  }
 ],
 "metadata": {
  "kernelspec": {
   "display_name": "pytorch",
   "language": "python",
   "name": "python3"
  },
  "language_info": {
   "codemirror_mode": {
    "name": "ipython",
    "version": 3
   },
   "file_extension": ".py",
   "mimetype": "text/x-python",
   "name": "python",
   "nbconvert_exporter": "python",
   "pygments_lexer": "ipython3",
   "version": "3.10.5"
  },
  "orig_nbformat": 4,
  "vscode": {
   "interpreter": {
    "hash": "334544a737ead5017040ac753f52220319955d2381f512ab105ce194db781c37"
   }
  }
 },
 "nbformat": 4,
 "nbformat_minor": 2
}
