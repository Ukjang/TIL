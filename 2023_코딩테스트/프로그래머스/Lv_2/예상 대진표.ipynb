{
 "cells": [
  {
   "cell_type": "code",
   "execution_count": null,
   "metadata": {},
   "outputs": [],
   "source": [
    "def solution(n,a,b):\n",
    "    # 2로 나누었을 때 두 수의 몫이 같아지면 붙는거\\\n",
    "    # 1부터 시작이므로 처음에 1을 빼줌\n",
    "    a -= 1\n",
    "    b -= 1\n",
    "    answer = 1\n",
    "    while True :\n",
    "        if (a // 2) == (b // 2):\n",
    "            break\n",
    "        a = a // 2\n",
    "        b = b // 2\n",
    "        answer += 1\n",
    "    return answer"
   ]
  }
 ],
 "metadata": {
  "language_info": {
   "name": "python"
  },
  "orig_nbformat": 4
 },
 "nbformat": 4,
 "nbformat_minor": 2
}
