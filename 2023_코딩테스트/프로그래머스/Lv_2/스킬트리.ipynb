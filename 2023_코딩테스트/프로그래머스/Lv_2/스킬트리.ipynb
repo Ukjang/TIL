{
 "cells": [
  {
   "cell_type": "code",
   "execution_count": 1,
   "metadata": {},
   "outputs": [],
   "source": [
    "def solution(skill, skill_trees):\n",
    "    answer = 0\n",
    "    skill_list = list(skill)\n",
    "    for skill_tree in skill_trees:\n",
    "        temp_skill = ''\n",
    "        for st in skill_tree:\n",
    "            # 스킬트리 있는 스킬이면\n",
    "            if st in skill_list:\n",
    "                # 이전 스킬 확인\n",
    "                temp_idx = skill_list.index(st)\n",
    "                if temp_idx == 0:\n",
    "                    temp_skill += st\n",
    "                elif skill[temp_idx-1] in temp_skill :\n",
    "                        temp_skill += st\n",
    "                else:   \n",
    "                    break\n",
    "        else :\n",
    "            answer += 1\n",
    "    return answer"
   ]
  },
  {
   "cell_type": "code",
   "execution_count": 22,
   "metadata": {},
   "outputs": [
    {
     "name": "stdout",
     "output_type": "stream",
     "text": [
      "B BACDE\n",
      "C CBADF\n",
      "C 템프 C\n",
      "B CBADF\n",
      "B 템프 CB\n",
      "D CBADF\n",
      "D 템프 CBD\n",
      "C AECB\n",
      "C 템프 C\n",
      "B AECB\n",
      "B 템프 CB\n",
      "B BDA\n"
     ]
    },
    {
     "data": {
      "text/plain": [
       "2"
      ]
     },
     "execution_count": 22,
     "metadata": {},
     "output_type": "execute_result"
    }
   ],
   "source": [
    "skill = 'CBD'\n",
    "skill_trees = \t[\"BACDE\", \"CBADF\", \"AECB\", \"BDA\"]\n",
    "# 문자열 하나 만들어서 선행 문자가 있는지 확인\n",
    "answer = 0\n",
    "skill_list = list(skill)\n",
    "for skill_tree in skill_trees:\n",
    "    temp_skill = ''\n",
    "    for st in skill_tree:\n",
    "        # 스킬트리 있는 스킬이면\n",
    "        if st in skill_list:\n",
    "            print(st, skill_tree)\n",
    "            # 이전 스킬 확인\n",
    "            temp_idx = skill_list.index(st)\n",
    "            if temp_idx == 0:\n",
    "                temp_skill += st\n",
    "            elif skill[temp_idx-1] in temp_skill :\n",
    "                    temp_skill += st\n",
    "            else:   \n",
    "                break\n",
    "            print(st, '템프', temp_skill)\n",
    "    else :\n",
    "        answer += 1\n",
    "answer"
   ]
  },
  {
   "cell_type": "code",
   "execution_count": 17,
   "metadata": {},
   "outputs": [
    {
     "data": {
      "text/plain": [
       "'C'"
      ]
     },
     "execution_count": 17,
     "metadata": {},
     "output_type": "execute_result"
    }
   ],
   "source": [
    "st"
   ]
  },
  {
   "cell_type": "code",
   "execution_count": 18,
   "metadata": {},
   "outputs": [
    {
     "data": {
      "text/plain": [
       "0"
      ]
     },
     "execution_count": 18,
     "metadata": {},
     "output_type": "execute_result"
    }
   ],
   "source": [
    "temp_idx = skill_list.index(st)\n",
    "temp_idx"
   ]
  },
  {
   "cell_type": "code",
   "execution_count": 19,
   "metadata": {},
   "outputs": [
    {
     "data": {
      "text/plain": [
       "'D'"
      ]
     },
     "execution_count": 19,
     "metadata": {},
     "output_type": "execute_result"
    }
   ],
   "source": [
    "skill[temp_idx-1]"
   ]
  },
  {
   "cell_type": "code",
   "execution_count": 20,
   "metadata": {},
   "outputs": [
    {
     "data": {
      "text/plain": [
       "''"
      ]
     },
     "execution_count": 20,
     "metadata": {},
     "output_type": "execute_result"
    }
   ],
   "source": [
    "temp_skill"
   ]
  },
  {
   "cell_type": "code",
   "execution_count": 4,
   "metadata": {},
   "outputs": [
    {
     "data": {
      "text/plain": [
       "'BDA'"
      ]
     },
     "execution_count": 4,
     "metadata": {},
     "output_type": "execute_result"
    }
   ],
   "source": [
    "skill_tree"
   ]
  }
 ],
 "metadata": {
  "kernelspec": {
   "display_name": "pytorch",
   "language": "python",
   "name": "python3"
  },
  "language_info": {
   "codemirror_mode": {
    "name": "ipython",
    "version": 3
   },
   "file_extension": ".py",
   "mimetype": "text/x-python",
   "name": "python",
   "nbconvert_exporter": "python",
   "pygments_lexer": "ipython3",
   "version": "3.10.5"
  },
  "orig_nbformat": 4,
  "vscode": {
   "interpreter": {
    "hash": "334544a737ead5017040ac753f52220319955d2381f512ab105ce194db781c37"
   }
  }
 },
 "nbformat": 4,
 "nbformat_minor": 2
}
