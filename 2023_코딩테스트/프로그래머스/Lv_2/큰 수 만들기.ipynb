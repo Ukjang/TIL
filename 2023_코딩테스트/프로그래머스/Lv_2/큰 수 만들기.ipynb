{
 "cells": [
  {
   "cell_type": "code",
   "execution_count": 34,
   "metadata": {},
   "outputs": [
    {
     "name": "stdout",
     "output_type": "stream",
     "text": [
      "1 9  2 924\n",
      "2 2 9 1 24\n",
      "2 4 9 1 24\n"
     ]
    },
    {
     "data": {
      "text/plain": [
       "'94'"
      ]
     },
     "execution_count": 34,
     "metadata": {},
     "output_type": "execute_result"
    }
   ],
   "source": [
    "number = \"1924\"\n",
    "k = 2\n",
    "# number = \"1231234\"\n",
    "# k = 3\n",
    "# number = \"4177252841\"\n",
    "# k = 4\n",
    "\n",
    "\n",
    "temp_idx = 0\n",
    "answer = ''\n",
    "while True :\n",
    "    # 다음 수부터 판별\n",
    "    temp_idx += 1\n",
    "    temp_value = 0\n",
    "    for idx, temp in enumerate(number[temp_idx : len(number) + k+1]) :\n",
    "        print(temp_idx, temp, answer, k, number[temp_idx : len(number) + k+1])\n",
    "        temp = int(temp)\n",
    "        # 최대값의 위치 및 위치값 리턴\n",
    "        if temp > temp_value :\n",
    "            temp_idx = idx + temp_idx\n",
    "            temp_value = temp\n",
    "            # 9라면 최대값이므로 break\n",
    "            if temp == 9 :\n",
    "                k -= 1\n",
    "                answer += str(temp_value)\n",
    "                break\n",
    "    # 최대값 산출후 리턴\n",
    "    else :\n",
    "        k -= 1\n",
    "        answer += str(temp_value)\n",
    "    if k == 0 :\n",
    "        break\n",
    "answer\n",
    "    "
   ]
  },
  {
   "cell_type": "code",
   "execution_count": 49,
   "metadata": {},
   "outputs": [
    {
     "data": {
      "text/plain": [
       "'94'"
      ]
     },
     "execution_count": 49,
     "metadata": {},
     "output_type": "execute_result"
    }
   ],
   "source": [
    "number = \"1924\"\n",
    "k = 2\n",
    "# number =  \"1231234\"\n",
    "# k= 3\n",
    "now_idx = 0\n",
    "answer = ''\n",
    "for i in range(len(number) - k) :\n",
    "    remains = number[now_idx : now_idx + k + 1]\n",
    "    temp_value = -1\n",
    "    temp_idx = 0\n",
    "    for idx, val in enumerate(remains) :\n",
    "        val = int(val)\n",
    "        if val > temp_value :\n",
    "            temp_idx = idx\n",
    "            temp_value = val\n",
    "            if val == 9 :\n",
    "                break\n",
    "    k -= temp_idx\n",
    "    now_idx += temp_idx + 1\n",
    "    # 제거한 숫자개수 최신화\n",
    "    answer += str(temp_value)\n",
    "answer"
   ]
  },
  {
   "cell_type": "code",
   "execution_count": 47,
   "metadata": {},
   "outputs": [
    {
     "data": {
      "text/plain": [
       "1"
      ]
     },
     "execution_count": 47,
     "metadata": {},
     "output_type": "execute_result"
    }
   ],
   "source": [
    "now_idx"
   ]
  },
  {
   "cell_type": "code",
   "execution_count": 46,
   "metadata": {},
   "outputs": [
    {
     "data": {
      "text/plain": [
       "'2'"
      ]
     },
     "execution_count": 46,
     "metadata": {},
     "output_type": "execute_result"
    }
   ],
   "source": [
    "remains"
   ]
  }
 ],
 "metadata": {
  "kernelspec": {
   "display_name": "Python 3",
   "language": "python",
   "name": "python3"
  },
  "language_info": {
   "codemirror_mode": {
    "name": "ipython",
    "version": 3
   },
   "file_extension": ".py",
   "mimetype": "text/x-python",
   "name": "python",
   "nbconvert_exporter": "python",
   "pygments_lexer": "ipython3",
   "version": "3.8.10"
  },
  "orig_nbformat": 4,
  "vscode": {
   "interpreter": {
    "hash": "e3ada8b426290dd76767ba6368ea690ca67a7a436b12c3cf567e5cb72f89ca03"
   }
  }
 },
 "nbformat": 4,
 "nbformat_minor": 2
}
