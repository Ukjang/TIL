{
 "cells": [
  {
   "cell_type": "code",
   "execution_count": null,
   "metadata": {},
   "outputs": [],
   "source": [
    "def solution(s):\n",
    "    # '(' 와 ')'의 쌍의 개수가 맞아야 함\n",
    "    # '(' 개수가 무조건 ')'보다 많아야 함\n",
    "    if s.count('(') != s.count (')') :\n",
    "        return False\n",
    "    open_num = 0\n",
    "    close_num = 0\n",
    "    for st in s :\n",
    "        if st == '(' :\n",
    "            open_num += 1\n",
    "        else : \n",
    "            close_num += 1\n",
    "         # '(' 개수가 무조건 ')'보다 많아야 함\n",
    "        if open_num < close_num :\n",
    "            answer = False\n",
    "            break\n",
    "    else :\n",
    "        answer = True\n",
    "    return answer"
   ]
  }
 ],
 "metadata": {
  "language_info": {
   "name": "python"
  },
  "orig_nbformat": 4
 },
 "nbformat": 4,
 "nbformat_minor": 2
}
