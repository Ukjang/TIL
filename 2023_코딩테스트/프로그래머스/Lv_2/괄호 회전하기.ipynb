{
 "cells": [
  {
   "cell_type": "code",
   "execution_count": 1,
   "metadata": {},
   "outputs": [],
   "source": [
    "def solution(s):\n",
    "    # (){}[] 각 개수가 먼저 나오는지 확인\n",
    "    # ({[는 먼저 나와도 ok 반대쪽이 먼저 나오면 fail\n",
    "    sm_pair = 0\n",
    "    med_pair = 0\n",
    "    lar_pair = 0\n",
    "    answer = 0\n",
    "    cnt = True\n",
    "    for i in range(len(s)) :\n",
    "        s_temp = s[i:] + s[:i]\n",
    "        for str1 in s_temp :\n",
    "            if str1 in ['(', ')'] :\n",
    "                if str1 == '(' :\n",
    "                    sm_pair += 1\n",
    "                elif str1 == ')' :\n",
    "                    sm_pair -= 1\n",
    "                    if sm_pair < 0 :\n",
    "                        cnt =  False\n",
    "                        break\n",
    "            elif str1 in ['{', '}'] :\n",
    "                if str1 == '{' :\n",
    "                    med_pair += 1\n",
    "                elif str1 == '}':\n",
    "                    med_pair -= 1\n",
    "                    if med_pair < 0 :\n",
    "                        cnt = False\n",
    "                        break\n",
    "\n",
    "            elif str1 in ['[', ']'] :\n",
    "                if str1 == '[' :\n",
    "                    lar_pair += 1\n",
    "                elif str1 == ']':\n",
    "                    lar_pair -= 1\n",
    "                    if lar_pair < 0 :\n",
    "                        cnt = False\n",
    "                        break\n",
    "        if cnt == False :\n",
    "            pass\n",
    "        elif (sm_pair != 0) or (med_pair != 0) or (lar_pair != 0) :\n",
    "            pass\n",
    "        else :\n",
    "            answer += 1\n",
    "    \n",
    "    return answer"
   ]
  },
  {
   "cell_type": "code",
   "execution_count": 11,
   "metadata": {},
   "outputs": [
    {
     "name": "stdout",
     "output_type": "stream",
     "text": [
      "[] }\n",
      "[']', '['] [\n",
      "[] ]\n",
      "[')', '('] (\n",
      "[] )\n",
      "['}', '{'] {\n"
     ]
    },
    {
     "data": {
      "text/plain": [
       "3"
      ]
     },
     "execution_count": 11,
     "metadata": {},
     "output_type": "execute_result"
    }
   ],
   "source": [
    "s = \"[](){}\"\n",
    "temp = list(s)\n",
    "answer = 0\n",
    "for _ in range(len(s)) :\n",
    "    list1 = []\n",
    "    for i in range(len(temp)):\n",
    "        if len(list1) > 0:\n",
    "            if list1[-1] == '[' and temp[i] == ']' :\n",
    "                list1.pop()\n",
    "            elif list1[-1] == '{' and temp[i] == '}' :\n",
    "                list1.pop()\n",
    "            elif list1[-1] == '(' and temp[i] == ')' :\n",
    "                list1.pop()\n",
    "            else :\n",
    "                list1.append(temp[i])\n",
    "        else :\n",
    "            list1.append(temp[i])\n",
    "    print(list1, temp[i])\n",
    "    if len(list1) == 0:\n",
    "        answer += 1\n",
    "\n",
    "    # 회전시켜주는 식\n",
    "    temp.append(temp.pop(0))\n",
    "\n",
    "answer\n"
   ]
  },
  {
   "cell_type": "code",
   "execution_count": 10,
   "metadata": {},
   "outputs": [
    {
     "data": {
      "text/plain": [
       "3"
      ]
     },
     "execution_count": 10,
     "metadata": {},
     "output_type": "execute_result"
    }
   ],
   "source": [
    "answer = 0\n",
    "s = \"[](){}\"\n",
    "temp = list(s)\n",
    "\n",
    "for _ in range(len(s)):\n",
    "\n",
    "    st = []\n",
    "    for i in range(len(temp)):\n",
    "        if len(st) > 0:\n",
    "            if st[-1] == '[' and temp[i] == ']':\n",
    "                st.pop()\n",
    "            elif st[-1] == '(' and temp[i] == ')':\n",
    "                st.pop()\n",
    "            elif st[-1] == '{' and temp[i] == '}':\n",
    "                st.pop()\n",
    "            else:\n",
    "                st.append(temp[i])\n",
    "        else:\n",
    "            st.append(temp[i])\n",
    "    if len(st) == 0:\n",
    "        answer += 1\n",
    "    temp.append(temp.pop(0))\n",
    "\n",
    "answer"
   ]
  },
  {
   "cell_type": "code",
   "execution_count": 4,
   "metadata": {},
   "outputs": [
    {
     "name": "stdout",
     "output_type": "stream",
     "text": [
      "[](){} 0 True 0 0 0\n",
      "](){}[ 1 False 0 0 -1\n",
      "(){}[] 2 True 0 0 0\n",
      "){}[]( 3 False -1 0 0\n",
      "{}[]() 4 True 0 0 0\n",
      "}[](){ 5 False 0 -1 0\n"
     ]
    },
    {
     "data": {
      "text/plain": [
       "3"
      ]
     },
     "execution_count": 4,
     "metadata": {},
     "output_type": "execute_result"
    }
   ],
   "source": [
    "s = \"[](){}\"\n",
    "# (){}[] 각 개수가 먼저 나오는지 확인\n",
    "# ({[는 먼저 나와도 ok 반대쪽이 먼저 나오면 fail\n",
    "answer = 0\n",
    "\n",
    "for i in range(len(s)) :\n",
    "    cnt = True\n",
    "    sm_pair = 0\n",
    "    med_pair = 0\n",
    "    lar_pair = 0\n",
    "    s_temp = s[i:] + s[:i]\n",
    "    for str1 in s_temp :\n",
    "        if str1 in ['(', ')'] :\n",
    "            if str1 == '(' :\n",
    "                sm_pair += 1\n",
    "            elif str1 == ')' :\n",
    "                sm_pair -= 1\n",
    "                if sm_pair < 0 :\n",
    "                    cnt =  False\n",
    "                    break\n",
    "        elif str1 in ['{', '}'] :\n",
    "            if str1 == '{' :\n",
    "                med_pair += 1\n",
    "            elif str1 == '}':\n",
    "                med_pair -= 1\n",
    "                if med_pair < 0 :\n",
    "                    cnt = False\n",
    "                    break\n",
    "\n",
    "        elif str1 in ['[', ']'] :\n",
    "            if str1 == '[' :\n",
    "                lar_pair += 1\n",
    "            elif str1 == ']':\n",
    "                lar_pair -= 1\n",
    "                if lar_pair < 0 :\n",
    "                    cnt = False\n",
    "                    break\n",
    "    print(s_temp, i, cnt, sm_pair, med_pair, lar_pair)\n",
    "    if cnt == False :\n",
    "        pass\n",
    "    elif (sm_pair != 0) or (med_pair != 0) or (lar_pair != 0) :\n",
    "        pass\n",
    "    else :\n",
    "        answer += 1\n",
    "    \n",
    "answer"
   ]
  }
 ],
 "metadata": {
  "kernelspec": {
   "display_name": "Python 3",
   "language": "python",
   "name": "python3"
  },
  "language_info": {
   "codemirror_mode": {
    "name": "ipython",
    "version": 3
   },
   "file_extension": ".py",
   "mimetype": "text/x-python",
   "name": "python",
   "nbconvert_exporter": "python",
   "pygments_lexer": "ipython3",
   "version": "3.8.10"
  },
  "orig_nbformat": 4,
  "vscode": {
   "interpreter": {
    "hash": "e3ada8b426290dd76767ba6368ea690ca67a7a436b12c3cf567e5cb72f89ca03"
   }
  }
 },
 "nbformat": 4,
 "nbformat_minor": 2
}
