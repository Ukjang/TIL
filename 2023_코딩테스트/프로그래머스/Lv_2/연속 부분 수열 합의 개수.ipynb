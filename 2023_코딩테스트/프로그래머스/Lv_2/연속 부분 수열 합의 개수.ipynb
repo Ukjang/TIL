{
 "cells": [
  {
   "cell_type": "code",
   "execution_count": 2,
   "metadata": {},
   "outputs": [],
   "source": [
    "def solution(elements):\n",
    "    # 길이만큼 연속수열 구함\n",
    "    # 해당 길이 이상일 경우 앞에서 충당\n",
    "    answer = []\n",
    "    # i 는 길이\n",
    "    for i in range(1, len(elements)+1) :\n",
    "        # j 는 시작 요소 위치\n",
    "        temp_result = []\n",
    "        for j in range(len(elements)) :\n",
    "            if (i + j) > len(elements) :\n",
    "                temp_dev = (i+j) - len(elements)\n",
    "                temp_list = elements[:temp_dev] + elements[j:]\n",
    "                temp_sum = sum(temp_list)\n",
    "            else :\n",
    "                temp_sum = sum(elements[j:j+i])\n",
    "            temp_result.append(temp_sum)\n",
    "        answer.append(temp_result)\n",
    "    return len(set(answer))"
   ]
  },
  {
   "cell_type": "code",
   "execution_count": 5,
   "metadata": {},
   "outputs": [
    {
     "data": {
      "text/plain": [
       "18"
      ]
     },
     "execution_count": 5,
     "metadata": {},
     "output_type": "execute_result"
    }
   ],
   "source": [
    "elements = [7, 9, 1, 1,4]\n",
    "# 길이만큼 연속수열 구함\n",
    "# 해당 길이 이상일 경우 앞에서 충당\n",
    "answer = []\n",
    "# i 는 길이\n",
    "for i in range(1, len(elements)+1) :\n",
    "    # j 는 시작 요소 위치\n",
    "    temp_result = []\n",
    "    for j in range(len(elements)) :\n",
    "        if (i + j) > len(elements) :\n",
    "            temp_dev = (i+j) - len(elements)\n",
    "            temp_list = elements[:temp_dev] + elements[j:]\n",
    "            temp_sum = sum(temp_list)\n",
    "        else :\n",
    "            temp_sum = sum(elements[j:j+i])\n",
    "        temp_result.append(temp_sum)\n",
    "    answer += temp_result\n",
    "len(set(answer))"
   ]
  },
  {
   "cell_type": "code",
   "execution_count": 4,
   "metadata": {},
   "outputs": [
    {
     "data": {
      "text/plain": [
       "[[7, 9, 1, 1, 4],\n",
       " [16, 10, 2, 5, 11],\n",
       " [17, 11, 6, 12, 20],\n",
       " [18, 15, 13, 21, 21],\n",
       " [22, 22, 22, 22, 22]]"
      ]
     },
     "execution_count": 4,
     "metadata": {},
     "output_type": "execute_result"
    }
   ],
   "source": [
    "answer"
   ]
  },
  {
   "cell_type": "code",
   "execution_count": 8,
   "metadata": {},
   "outputs": [
    {
     "name": "stdout",
     "output_type": "stream",
     "text": [
      "[7, 9, 1, 1, 4]\n",
      "[16, 10, 2, 5, 11]\n",
      "[17, 11, 6, 12, 20]\n",
      "[18, 15, 13, 21, 21]\n",
      "[22, 22, 22, 22, 22]\n"
     ]
    },
    {
     "data": {
      "text/plain": [
       "18"
      ]
     },
     "execution_count": 8,
     "metadata": {},
     "output_type": "execute_result"
    }
   ],
   "source": [
    "answer = []\n",
    "d_elements = elements * 2\n",
    "# i 는 길이\n",
    "for i in range(1, len(elements)+1) :\n",
    "    # j 는 시작 요소 위치\n",
    "    temp_result = []\n",
    "    for j in range(len(elements)) :\n",
    "        temp_result.append(sum(d_elements[j: j+i]))\n",
    "    answer += temp_result\n",
    "    print(temp_result)\n",
    "len(set(answer))"
   ]
  }
 ],
 "metadata": {
  "kernelspec": {
   "display_name": "pytorch",
   "language": "python",
   "name": "python3"
  },
  "language_info": {
   "codemirror_mode": {
    "name": "ipython",
    "version": 3
   },
   "file_extension": ".py",
   "mimetype": "text/x-python",
   "name": "python",
   "nbconvert_exporter": "python",
   "pygments_lexer": "ipython3",
   "version": "3.10.5"
  },
  "orig_nbformat": 4,
  "vscode": {
   "interpreter": {
    "hash": "334544a737ead5017040ac753f52220319955d2381f512ab105ce194db781c37"
   }
  }
 },
 "nbformat": 4,
 "nbformat_minor": 2
}
