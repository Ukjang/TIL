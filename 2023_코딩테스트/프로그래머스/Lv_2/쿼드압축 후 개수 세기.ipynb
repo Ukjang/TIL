{
 "cells": [
  {
   "cell_type": "code",
   "execution_count": 10,
   "metadata": {},
   "outputs": [
    {
     "data": {
      "text/plain": [
       "[10, 15]"
      ]
     },
     "execution_count": 10,
     "metadata": {},
     "output_type": "execute_result"
    }
   ],
   "source": [
    "arr = [[1,1,1,1,1,1,1,1],[0,1,1,1,1,1,1,1],[0,0,0,0,1,1,1,1],[0,1,0,0,1,1,1,1],[0,0,0,0,0,0,1,1],[0,0,0,0,0,0,0,1],[0,0,0,0,1,0,0,1],[0,0,0,0,1,1,1,1]]\n",
    "# 각 위치값별 카운팅\n",
    "result = [0,0]\n",
    "length = len(arr)\n",
    "\n",
    "def compression(a,b,l) :\n",
    "    start = arr[a][b]\n",
    "    for i in range(a,a+l) :\n",
    "        for j in range(b, b+l) :\n",
    "            if arr[i][j] != start:\n",
    "                l = l // 2\n",
    "                compression(a,b,l)\n",
    "                compression(a+l,b,l)\n",
    "                compression(a,b+l,l)\n",
    "                compression(a+l,b+l,l)\n",
    "                return \n",
    "    # 다 돌면 +1\n",
    "    result[start] += 1\n",
    "compression(0,0,length)\n",
    "result"
   ]
  },
  {
   "cell_type": "code",
   "execution_count": 6,
   "metadata": {},
   "outputs": [
    {
     "data": {
      "text/plain": [
       "[10, 15]"
      ]
     },
     "execution_count": 6,
     "metadata": {},
     "output_type": "execute_result"
    }
   ],
   "source": [
    "result=[0,0]\n",
    "length=len(arr)\n",
    "\n",
    "def compression(a,b,l):\n",
    "    start=arr[a][b]\n",
    "    for i in range(a,a+l):\n",
    "        for j in range(b,b+l):\n",
    "            if arr[i][j]!=start:\n",
    "                l=l//2\n",
    "                compression(a,b,l)\n",
    "                compression(a,b+l,l)\n",
    "                compression(a+l,b,l)\n",
    "                compression(a+l,b+l,l)\n",
    "                return\n",
    "            \n",
    "    result[start]+=1\n",
    "    \n",
    "compression(0,0,length)\n",
    "\n",
    "(result)"
   ]
  }
 ],
 "metadata": {
  "kernelspec": {
   "display_name": "pytorch",
   "language": "python",
   "name": "python3"
  },
  "language_info": {
   "codemirror_mode": {
    "name": "ipython",
    "version": 3
   },
   "file_extension": ".py",
   "mimetype": "text/x-python",
   "name": "python",
   "nbconvert_exporter": "python",
   "pygments_lexer": "ipython3",
   "version": "3.10.5"
  },
  "orig_nbformat": 4,
  "vscode": {
   "interpreter": {
    "hash": "334544a737ead5017040ac753f52220319955d2381f512ab105ce194db781c37"
   }
  }
 },
 "nbformat": 4,
 "nbformat_minor": 2
}
