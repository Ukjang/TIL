{
 "cells": [
  {
   "cell_type": "code",
   "execution_count": null,
   "metadata": {},
   "outputs": [],
   "source": [
    "def solution(land):\n",
    "    # 이전열의 최대값을 해당 열에 더해줌\n",
    "    # 같은 열을 연속해서 밟을 수 없는 특수 규칙이 있습니다. 다만 본인 열에 해당되는 값 x\n",
    "    for i in range(1, len(land)):\n",
    "        for j in range(len(land[0])) :\n",
    "            land[i][j] = max(land[i-1][:j] + land[i-1][j+1:])\n",
    "    return max(land[len(land)-1])"
   ]
  },
  {
   "cell_type": "code",
   "execution_count": 4,
   "metadata": {},
   "outputs": [
    {
     "name": "stdout",
     "output_type": "stream",
     "text": [
      "1 0 [[1, 2, 3, 5], [10, 6, 7, 8], [4, 3, 2, 1]]\n",
      "1 1 [[1, 2, 3, 5], [10, 11, 7, 8], [4, 3, 2, 1]]\n",
      "1 2 [[1, 2, 3, 5], [10, 11, 12, 8], [4, 3, 2, 1]]\n",
      "1 3 [[1, 2, 3, 5], [10, 11, 12, 11], [4, 3, 2, 1]]\n",
      "2 0 [[1, 2, 3, 5], [10, 11, 12, 11], [16, 3, 2, 1]]\n",
      "2 1 [[1, 2, 3, 5], [10, 11, 12, 11], [16, 15, 2, 1]]\n",
      "2 2 [[1, 2, 3, 5], [10, 11, 12, 11], [16, 15, 13, 1]]\n",
      "2 3 [[1, 2, 3, 5], [10, 11, 12, 11], [16, 15, 13, 13]]\n"
     ]
    },
    {
     "data": {
      "text/plain": [
       "16"
      ]
     },
     "execution_count": 4,
     "metadata": {},
     "output_type": "execute_result"
    }
   ],
   "source": [
    "land = [[1,2,3,5],[5,6,7,8],[4,3,2,1]]\n",
    "# 이전열의 최대값을 해당 열에 더해줌\n",
    "# 같은 열을 연속해서 밟을 수 없는 특수 규칙이 있습니다. 다만 본인 열에 해당되는 값 x\n",
    "for i in range(1, len(land)):\n",
    "    for j in range(len(land[0])) :\n",
    "        land[i][j] += max(land[i-1][:j] + land[i-1][j+1:])\n",
    "        print(i, j, land)\n",
    "max(land[len(land)-1])"
   ]
  }
 ],
 "metadata": {
  "kernelspec": {
   "display_name": "Python 3",
   "language": "python",
   "name": "python3"
  },
  "language_info": {
   "codemirror_mode": {
    "name": "ipython",
    "version": 3
   },
   "file_extension": ".py",
   "mimetype": "text/x-python",
   "name": "python",
   "nbconvert_exporter": "python",
   "pygments_lexer": "ipython3",
   "version": "3.8.10"
  },
  "orig_nbformat": 4,
  "vscode": {
   "interpreter": {
    "hash": "e3ada8b426290dd76767ba6368ea690ca67a7a436b12c3cf567e5cb72f89ca03"
   }
  }
 },
 "nbformat": 4,
 "nbformat_minor": 2
}
