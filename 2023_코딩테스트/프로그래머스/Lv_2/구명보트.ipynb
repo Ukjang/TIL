{
 "cells": [
  {
   "cell_type": "code",
   "execution_count": null,
   "metadata": {},
   "outputs": [],
   "source": [
    "def solution(people, limit):\n",
    "    # 구명보트는 작아서 한 번에 최대 2명씩 밖에 탈 수 없고, 무게 제한도 있습니다.\n",
    "    # 무게순서대로 정렬해서 두명 더했을때 리밋 이하면 pass\n",
    "    # 뒤에 사람이랑 더해서 리밋보다 크고 길이가 2이면 초과 x 가벼운 사람 + 무거운 사람 검증식이 필요\n",
    "    a = 0\n",
    "    b = len(people) - 1\n",
    "    people.sort()\n",
    "    # 2명이서 같이 탄 배의 개수\n",
    "    answer = 0\n",
    "    while a < b :\n",
    "        # 제일 가벼운 사람 + 제일 무거운 사람 검증\n",
    "        if people[a] + people[b] <= limit :\n",
    "            a += 1\n",
    "            answer += 1\n",
    "        # 그 다음으로 무거운 사람으로 반복\n",
    "        b -= 1\n",
    "    return len(people) - answer\n"
   ]
  }
 ],
 "metadata": {
  "kernelspec": {
   "display_name": "Python 3",
   "language": "python",
   "name": "python3"
  },
  "language_info": {
   "codemirror_mode": {
    "name": "ipython",
    "version": 3
   },
   "file_extension": ".py",
   "mimetype": "text/x-python",
   "name": "python",
   "nbconvert_exporter": "python",
   "pygments_lexer": "ipython3",
   "version": "3.8.10"
  },
  "orig_nbformat": 4,
  "vscode": {
   "interpreter": {
    "hash": "e3ada8b426290dd76767ba6368ea690ca67a7a436b12c3cf567e5cb72f89ca03"
   }
  }
 },
 "nbformat": 4,
 "nbformat_minor": 2
}
