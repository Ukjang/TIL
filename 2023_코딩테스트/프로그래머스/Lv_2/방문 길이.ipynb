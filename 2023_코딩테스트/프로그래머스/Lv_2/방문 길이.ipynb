{
 "cells": [
  {
   "cell_type": "code",
   "execution_count": 16,
   "metadata": {},
   "outputs": [],
   "source": [
    "def solution(dirs):\n",
    "    # 이미 걸어본길 여부는 좌표 여부 정렬 후 과거 로그에 추가\n",
    "    loc = [0,0]\n",
    "    answer = 0\n",
    "    wid_list = [0,0,1,-1]\n",
    "    len_list = [1,-1,0,0]\n",
    "    dir_dict = {'U' : [0,0],\n",
    "                'D' : [1,1],\n",
    "                'R' : [2,2],\n",
    "                'L' : [3,3]\n",
    "                }\n",
    "    route = []\n",
    "    for dr in dirs :\n",
    "        move = True\n",
    "        temp_wid, temp_len = dir_dict[dr]\n",
    "        temp_wid = wid_list[temp_wid]\n",
    "        temp_len = len_list[temp_len]\n",
    "        loc_wid, loc_len = loc\n",
    "        # 가로 좌표를 벗어나면\n",
    "        if (loc_wid + temp_wid) > 5 or (loc_wid + temp_wid) < - 5 :\n",
    "            post_wid = loc_wid\n",
    "            move = False\n",
    "            pass\n",
    "        else :\n",
    "            post_wid = loc_wid + temp_wid\n",
    "        # 세로 좌표를 멋어나면\n",
    "        if (loc_len + temp_len) > 5 or (loc_len + temp_len) < - 5 :\n",
    "            post_len = loc_len\n",
    "            move = False\n",
    "        else :\n",
    "            post_len = loc_len + temp_len\n",
    "        # 움직였으면\n",
    "        if move :\n",
    "            temp_route = [str(post_wid) + str(post_len), str(loc_wid) + str(loc_len)]\n",
    "            temp_route.sort()\n",
    "            if temp_route in route :\n",
    "                pass\n",
    "            else :\n",
    "                answer += 1\n",
    "                route.append(temp_route)\n",
    "        # 위치 변경\n",
    "        loc = [post_wid,post_len]\n",
    "    return answer"
   ]
  },
  {
   "cell_type": "code",
   "execution_count": 27,
   "metadata": {},
   "outputs": [
    {
     "name": "stdout",
     "output_type": "stream",
     "text": [
      "[0, 0] [-1, 0] True [['-10', '00']] 1\n",
      "[-1, 0] [-1, 1] True [['-10', '00'], ['-10', '-11']] 2\n",
      "[-1, 1] [-2, 1] True [['-10', '00'], ['-10', '-11'], ['-11', '-21']] 3\n",
      "[-2, 1] [-3, 1] True [['-10', '00'], ['-10', '-11'], ['-11', '-21'], ['-21', '-31']] 4\n",
      "[-3, 1] [-4, 1] True [['-10', '00'], ['-10', '-11'], ['-11', '-21'], ['-21', '-31'], ['-31', '-41']] 5\n",
      "[-4, 1] [-5, 1] True [['-10', '00'], ['-10', '-11'], ['-11', '-21'], ['-21', '-31'], ['-31', '-41'], ['-41', '-51']] 6\n",
      "[-5, 1] [-5, 1] False [['-10', '00'], ['-10', '-11'], ['-11', '-21'], ['-21', '-31'], ['-31', '-41'], ['-41', '-51']] 6\n",
      "[-5, 1] [-5, 1] False [['-10', '00'], ['-10', '-11'], ['-11', '-21'], ['-21', '-31'], ['-31', '-41'], ['-41', '-51']] 6\n",
      "[-5, 1] [-5, 2] True [['-10', '00'], ['-10', '-11'], ['-11', '-21'], ['-21', '-31'], ['-31', '-41'], ['-41', '-51'], ['-51', '-52']] 7\n",
      "[-5, 2] [-5, 1] True [['-10', '00'], ['-10', '-11'], ['-11', '-21'], ['-21', '-31'], ['-31', '-41'], ['-41', '-51'], ['-51', '-52']] 7\n"
     ]
    },
    {
     "data": {
      "text/plain": [
       "7"
      ]
     },
     "execution_count": 27,
     "metadata": {},
     "output_type": "execute_result"
    }
   ],
   "source": [
    "dirs = \"ULURRDLLU\"\n",
    "dirs = \"LULLLLLLUD\"\n",
    "# 이미 걸어본길 여부는 좌표 여부 정렬 후 과거 로그에 추가\n",
    "loc = [0,0]\n",
    "answer = 0\n",
    "wid_list = [0,0,1,-1]\n",
    "len_list = [1,-1,0,0]\n",
    "dir_dict = {'U' : [0,0],\n",
    "            'D' : [1,1],\n",
    "            'R' : [2,2],\n",
    "            'L' : [3,3]\n",
    "            }\n",
    "route = []\n",
    "for dr in dirs :\n",
    "    move = True\n",
    "    temp_wid, temp_len = dir_dict[dr]\n",
    "    temp_wid = wid_list[temp_wid]\n",
    "    temp_len = len_list[temp_len]\n",
    "    loc_wid, loc_len = loc\n",
    "    # 가로 좌표를 벗어나면\n",
    "    if (loc_wid + temp_wid) > 5 or (loc_wid + temp_wid) < - 5 :\n",
    "        post_wid = loc_wid\n",
    "        move = False\n",
    "        pass\n",
    "    else :\n",
    "        post_wid = loc_wid + temp_wid\n",
    "    # 세로 좌표를 멋어나면\n",
    "    if (loc_len + temp_len) > 5 or (loc_len + temp_len) < - 5 :\n",
    "        post_len = loc_len\n",
    "        move = False\n",
    "    else :\n",
    "        post_len = loc_len + temp_len\n",
    "    # 움직였으면\n",
    "    if move :\n",
    "        temp_route = [str(post_wid) + str(post_len), str(loc_wid) + str(loc_len)]\n",
    "        temp_route.sort()\n",
    "        if temp_route in route :\n",
    "            pass\n",
    "        else :\n",
    "            answer += 1\n",
    "            route.append(temp_route)\n",
    "    print(loc,[post_wid,post_len], move, route, answer)\n",
    "    # 위치 변경\n",
    "    loc = [post_wid,post_len]\n",
    "answer"
   ]
  }
 ],
 "metadata": {
  "kernelspec": {
   "display_name": "Python 3",
   "language": "python",
   "name": "python3"
  },
  "language_info": {
   "codemirror_mode": {
    "name": "ipython",
    "version": 3
   },
   "file_extension": ".py",
   "mimetype": "text/x-python",
   "name": "python",
   "nbconvert_exporter": "python",
   "pygments_lexer": "ipython3",
   "version": "3.8.10"
  },
  "orig_nbformat": 4,
  "vscode": {
   "interpreter": {
    "hash": "e3ada8b426290dd76767ba6368ea690ca67a7a436b12c3cf567e5cb72f89ca03"
   }
  }
 },
 "nbformat": 4,
 "nbformat_minor": 2
}
