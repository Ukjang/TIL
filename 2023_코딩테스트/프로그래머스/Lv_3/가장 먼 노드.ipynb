{
 "cells": [
  {
   "cell_type": "code",
   "execution_count": 1,
   "metadata": {},
   "outputs": [],
   "source": [
    "n = 6\n",
    "vertex = [[3, 6], [4, 3], [3, 2], [1, 3], [1, 2], [2, 4], [5, 2]]"
   ]
  },
  {
   "cell_type": "code",
   "execution_count": 14,
   "metadata": {},
   "outputs": [
    {
     "data": {
      "text/plain": [
       "3"
      ]
     },
     "execution_count": 14,
     "metadata": {},
     "output_type": "execute_result"
    }
   ],
   "source": [
    "# 그래프 리스트를 만들기 보다는 이어진 노드를 빈 리스트에 추가해주면 시간 단축됨\n",
    "vertex.sort()\n",
    "number_list = [[] for _ in range(n+1)]\n",
    "used_list = [0]*(n+1)\n",
    "used_list[1] = 1\n",
    "for ver in vertex :\n",
    "    a, b = ver\n",
    "    number_list[a].append(b)\n",
    "    number_list[b].append(a)\n",
    "from collections import deque, Counter\n",
    "queue = deque()\n",
    "queue.append(1)\n",
    "while queue :\n",
    "    temp = queue.popleft()\n",
    "    for i in number_list[temp] :\n",
    "        if used_list[i] == 0:\n",
    "            used_list[i] = used_list[temp] + 1\n",
    "            queue.append(i)\n",
    "temp_max = max(used_list)\n",
    "answer = 0\n",
    "for ls in used_list :\n",
    "    if temp_max == ls :\n",
    "        answer += 1\n",
    "answer"
   ]
  },
  {
   "cell_type": "code",
   "execution_count": 11,
   "metadata": {},
   "outputs": [
    {
     "data": {
      "text/plain": [
       "[0, 1, 2, 2, 3, 3, 3]"
      ]
     },
     "execution_count": 11,
     "metadata": {},
     "output_type": "execute_result"
    }
   ],
   "source": [
    "used_list"
   ]
  }
 ],
 "metadata": {
  "kernelspec": {
   "display_name": "pytorch",
   "language": "python",
   "name": "python3"
  },
  "language_info": {
   "codemirror_mode": {
    "name": "ipython",
    "version": 3
   },
   "file_extension": ".py",
   "mimetype": "text/x-python",
   "name": "python",
   "nbconvert_exporter": "python",
   "pygments_lexer": "ipython3",
   "version": "3.10.5"
  },
  "orig_nbformat": 4,
  "vscode": {
   "interpreter": {
    "hash": "334544a737ead5017040ac753f52220319955d2381f512ab105ce194db781c37"
   }
  }
 },
 "nbformat": 4,
 "nbformat_minor": 2
}
