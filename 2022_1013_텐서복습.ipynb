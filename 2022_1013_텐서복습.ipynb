{
  "nbformat": 4,
  "nbformat_minor": 0,
  "metadata": {
    "colab": {
      "provenance": [],
      "collapsed_sections": [
        "eHSKNu9Sy6YZ"
      ]
    },
    "kernelspec": {
      "name": "python3",
      "display_name": "Python 3"
    },
    "language_info": {
      "name": "python"
    },
    "accelerator": "GPU"
  },
  "cells": [
    {
      "cell_type": "code",
      "execution_count": null,
      "metadata": {
        "id": "qOD6QkYYselb"
      },
      "outputs": [],
      "source": [
        "import numpy as np\n",
        "import pandas as pd\n",
        "import matplotlib.pyplot as plt"
      ]
    },
    {
      "cell_type": "code",
      "source": [
        "from sklearn.datasets import load_breast_cancer\n",
        "cancer = load_breast_cancer()"
      ],
      "metadata": {
        "id": "nXOzPjRWswjU"
      },
      "execution_count": null,
      "outputs": []
    },
    {
      "cell_type": "code",
      "source": [
        "df = pd.DataFrame(cancer.data, columns = cancer.feature_names)\n",
        "df['target'] = cancer.target\n",
        "df.head()"
      ],
      "metadata": {
        "colab": {
          "base_uri": "https://localhost:8080/",
          "height": 334
        },
        "id": "l8ADOjCqs1D7",
        "outputId": "230b5b6b-2eaa-4912-ec71-a85b5fab58ee"
      },
      "execution_count": null,
      "outputs": [
        {
          "output_type": "execute_result",
          "data": {
            "text/plain": [
              "   mean radius  mean texture  mean perimeter  mean area  mean smoothness  \\\n",
              "0        17.99         10.38          122.80     1001.0          0.11840   \n",
              "1        20.57         17.77          132.90     1326.0          0.08474   \n",
              "2        19.69         21.25          130.00     1203.0          0.10960   \n",
              "3        11.42         20.38           77.58      386.1          0.14250   \n",
              "4        20.29         14.34          135.10     1297.0          0.10030   \n",
              "\n",
              "   mean compactness  mean concavity  mean concave points  mean symmetry  \\\n",
              "0           0.27760          0.3001              0.14710         0.2419   \n",
              "1           0.07864          0.0869              0.07017         0.1812   \n",
              "2           0.15990          0.1974              0.12790         0.2069   \n",
              "3           0.28390          0.2414              0.10520         0.2597   \n",
              "4           0.13280          0.1980              0.10430         0.1809   \n",
              "\n",
              "   mean fractal dimension  ...  worst texture  worst perimeter  worst area  \\\n",
              "0                 0.07871  ...          17.33           184.60      2019.0   \n",
              "1                 0.05667  ...          23.41           158.80      1956.0   \n",
              "2                 0.05999  ...          25.53           152.50      1709.0   \n",
              "3                 0.09744  ...          26.50            98.87       567.7   \n",
              "4                 0.05883  ...          16.67           152.20      1575.0   \n",
              "\n",
              "   worst smoothness  worst compactness  worst concavity  worst concave points  \\\n",
              "0            0.1622             0.6656           0.7119                0.2654   \n",
              "1            0.1238             0.1866           0.2416                0.1860   \n",
              "2            0.1444             0.4245           0.4504                0.2430   \n",
              "3            0.2098             0.8663           0.6869                0.2575   \n",
              "4            0.1374             0.2050           0.4000                0.1625   \n",
              "\n",
              "   worst symmetry  worst fractal dimension  target  \n",
              "0          0.4601                  0.11890       0  \n",
              "1          0.2750                  0.08902       0  \n",
              "2          0.3613                  0.08758       0  \n",
              "3          0.6638                  0.17300       0  \n",
              "4          0.2364                  0.07678       0  \n",
              "\n",
              "[5 rows x 31 columns]"
            ],
            "text/html": [
              "\n",
              "  <div id=\"df-28e7e1ee-07ea-4e25-b30b-e554c5e427c8\">\n",
              "    <div class=\"colab-df-container\">\n",
              "      <div>\n",
              "<style scoped>\n",
              "    .dataframe tbody tr th:only-of-type {\n",
              "        vertical-align: middle;\n",
              "    }\n",
              "\n",
              "    .dataframe tbody tr th {\n",
              "        vertical-align: top;\n",
              "    }\n",
              "\n",
              "    .dataframe thead th {\n",
              "        text-align: right;\n",
              "    }\n",
              "</style>\n",
              "<table border=\"1\" class=\"dataframe\">\n",
              "  <thead>\n",
              "    <tr style=\"text-align: right;\">\n",
              "      <th></th>\n",
              "      <th>mean radius</th>\n",
              "      <th>mean texture</th>\n",
              "      <th>mean perimeter</th>\n",
              "      <th>mean area</th>\n",
              "      <th>mean smoothness</th>\n",
              "      <th>mean compactness</th>\n",
              "      <th>mean concavity</th>\n",
              "      <th>mean concave points</th>\n",
              "      <th>mean symmetry</th>\n",
              "      <th>mean fractal dimension</th>\n",
              "      <th>...</th>\n",
              "      <th>worst texture</th>\n",
              "      <th>worst perimeter</th>\n",
              "      <th>worst area</th>\n",
              "      <th>worst smoothness</th>\n",
              "      <th>worst compactness</th>\n",
              "      <th>worst concavity</th>\n",
              "      <th>worst concave points</th>\n",
              "      <th>worst symmetry</th>\n",
              "      <th>worst fractal dimension</th>\n",
              "      <th>target</th>\n",
              "    </tr>\n",
              "  </thead>\n",
              "  <tbody>\n",
              "    <tr>\n",
              "      <th>0</th>\n",
              "      <td>17.99</td>\n",
              "      <td>10.38</td>\n",
              "      <td>122.80</td>\n",
              "      <td>1001.0</td>\n",
              "      <td>0.11840</td>\n",
              "      <td>0.27760</td>\n",
              "      <td>0.3001</td>\n",
              "      <td>0.14710</td>\n",
              "      <td>0.2419</td>\n",
              "      <td>0.07871</td>\n",
              "      <td>...</td>\n",
              "      <td>17.33</td>\n",
              "      <td>184.60</td>\n",
              "      <td>2019.0</td>\n",
              "      <td>0.1622</td>\n",
              "      <td>0.6656</td>\n",
              "      <td>0.7119</td>\n",
              "      <td>0.2654</td>\n",
              "      <td>0.4601</td>\n",
              "      <td>0.11890</td>\n",
              "      <td>0</td>\n",
              "    </tr>\n",
              "    <tr>\n",
              "      <th>1</th>\n",
              "      <td>20.57</td>\n",
              "      <td>17.77</td>\n",
              "      <td>132.90</td>\n",
              "      <td>1326.0</td>\n",
              "      <td>0.08474</td>\n",
              "      <td>0.07864</td>\n",
              "      <td>0.0869</td>\n",
              "      <td>0.07017</td>\n",
              "      <td>0.1812</td>\n",
              "      <td>0.05667</td>\n",
              "      <td>...</td>\n",
              "      <td>23.41</td>\n",
              "      <td>158.80</td>\n",
              "      <td>1956.0</td>\n",
              "      <td>0.1238</td>\n",
              "      <td>0.1866</td>\n",
              "      <td>0.2416</td>\n",
              "      <td>0.1860</td>\n",
              "      <td>0.2750</td>\n",
              "      <td>0.08902</td>\n",
              "      <td>0</td>\n",
              "    </tr>\n",
              "    <tr>\n",
              "      <th>2</th>\n",
              "      <td>19.69</td>\n",
              "      <td>21.25</td>\n",
              "      <td>130.00</td>\n",
              "      <td>1203.0</td>\n",
              "      <td>0.10960</td>\n",
              "      <td>0.15990</td>\n",
              "      <td>0.1974</td>\n",
              "      <td>0.12790</td>\n",
              "      <td>0.2069</td>\n",
              "      <td>0.05999</td>\n",
              "      <td>...</td>\n",
              "      <td>25.53</td>\n",
              "      <td>152.50</td>\n",
              "      <td>1709.0</td>\n",
              "      <td>0.1444</td>\n",
              "      <td>0.4245</td>\n",
              "      <td>0.4504</td>\n",
              "      <td>0.2430</td>\n",
              "      <td>0.3613</td>\n",
              "      <td>0.08758</td>\n",
              "      <td>0</td>\n",
              "    </tr>\n",
              "    <tr>\n",
              "      <th>3</th>\n",
              "      <td>11.42</td>\n",
              "      <td>20.38</td>\n",
              "      <td>77.58</td>\n",
              "      <td>386.1</td>\n",
              "      <td>0.14250</td>\n",
              "      <td>0.28390</td>\n",
              "      <td>0.2414</td>\n",
              "      <td>0.10520</td>\n",
              "      <td>0.2597</td>\n",
              "      <td>0.09744</td>\n",
              "      <td>...</td>\n",
              "      <td>26.50</td>\n",
              "      <td>98.87</td>\n",
              "      <td>567.7</td>\n",
              "      <td>0.2098</td>\n",
              "      <td>0.8663</td>\n",
              "      <td>0.6869</td>\n",
              "      <td>0.2575</td>\n",
              "      <td>0.6638</td>\n",
              "      <td>0.17300</td>\n",
              "      <td>0</td>\n",
              "    </tr>\n",
              "    <tr>\n",
              "      <th>4</th>\n",
              "      <td>20.29</td>\n",
              "      <td>14.34</td>\n",
              "      <td>135.10</td>\n",
              "      <td>1297.0</td>\n",
              "      <td>0.10030</td>\n",
              "      <td>0.13280</td>\n",
              "      <td>0.1980</td>\n",
              "      <td>0.10430</td>\n",
              "      <td>0.1809</td>\n",
              "      <td>0.05883</td>\n",
              "      <td>...</td>\n",
              "      <td>16.67</td>\n",
              "      <td>152.20</td>\n",
              "      <td>1575.0</td>\n",
              "      <td>0.1374</td>\n",
              "      <td>0.2050</td>\n",
              "      <td>0.4000</td>\n",
              "      <td>0.1625</td>\n",
              "      <td>0.2364</td>\n",
              "      <td>0.07678</td>\n",
              "      <td>0</td>\n",
              "    </tr>\n",
              "  </tbody>\n",
              "</table>\n",
              "<p>5 rows × 31 columns</p>\n",
              "</div>\n",
              "      <button class=\"colab-df-convert\" onclick=\"convertToInteractive('df-28e7e1ee-07ea-4e25-b30b-e554c5e427c8')\"\n",
              "              title=\"Convert this dataframe to an interactive table.\"\n",
              "              style=\"display:none;\">\n",
              "        \n",
              "  <svg xmlns=\"http://www.w3.org/2000/svg\" height=\"24px\"viewBox=\"0 0 24 24\"\n",
              "       width=\"24px\">\n",
              "    <path d=\"M0 0h24v24H0V0z\" fill=\"none\"/>\n",
              "    <path d=\"M18.56 5.44l.94 2.06.94-2.06 2.06-.94-2.06-.94-.94-2.06-.94 2.06-2.06.94zm-11 1L8.5 8.5l.94-2.06 2.06-.94-2.06-.94L8.5 2.5l-.94 2.06-2.06.94zm10 10l.94 2.06.94-2.06 2.06-.94-2.06-.94-.94-2.06-.94 2.06-2.06.94z\"/><path d=\"M17.41 7.96l-1.37-1.37c-.4-.4-.92-.59-1.43-.59-.52 0-1.04.2-1.43.59L10.3 9.45l-7.72 7.72c-.78.78-.78 2.05 0 2.83L4 21.41c.39.39.9.59 1.41.59.51 0 1.02-.2 1.41-.59l7.78-7.78 2.81-2.81c.8-.78.8-2.07 0-2.86zM5.41 20L4 18.59l7.72-7.72 1.47 1.35L5.41 20z\"/>\n",
              "  </svg>\n",
              "      </button>\n",
              "      \n",
              "  <style>\n",
              "    .colab-df-container {\n",
              "      display:flex;\n",
              "      flex-wrap:wrap;\n",
              "      gap: 12px;\n",
              "    }\n",
              "\n",
              "    .colab-df-convert {\n",
              "      background-color: #E8F0FE;\n",
              "      border: none;\n",
              "      border-radius: 50%;\n",
              "      cursor: pointer;\n",
              "      display: none;\n",
              "      fill: #1967D2;\n",
              "      height: 32px;\n",
              "      padding: 0 0 0 0;\n",
              "      width: 32px;\n",
              "    }\n",
              "\n",
              "    .colab-df-convert:hover {\n",
              "      background-color: #E2EBFA;\n",
              "      box-shadow: 0px 1px 2px rgba(60, 64, 67, 0.3), 0px 1px 3px 1px rgba(60, 64, 67, 0.15);\n",
              "      fill: #174EA6;\n",
              "    }\n",
              "\n",
              "    [theme=dark] .colab-df-convert {\n",
              "      background-color: #3B4455;\n",
              "      fill: #D2E3FC;\n",
              "    }\n",
              "\n",
              "    [theme=dark] .colab-df-convert:hover {\n",
              "      background-color: #434B5C;\n",
              "      box-shadow: 0px 1px 3px 1px rgba(0, 0, 0, 0.15);\n",
              "      filter: drop-shadow(0px 1px 2px rgba(0, 0, 0, 0.3));\n",
              "      fill: #FFFFFF;\n",
              "    }\n",
              "  </style>\n",
              "\n",
              "      <script>\n",
              "        const buttonEl =\n",
              "          document.querySelector('#df-28e7e1ee-07ea-4e25-b30b-e554c5e427c8 button.colab-df-convert');\n",
              "        buttonEl.style.display =\n",
              "          google.colab.kernel.accessAllowed ? 'block' : 'none';\n",
              "\n",
              "        async function convertToInteractive(key) {\n",
              "          const element = document.querySelector('#df-28e7e1ee-07ea-4e25-b30b-e554c5e427c8');\n",
              "          const dataTable =\n",
              "            await google.colab.kernel.invokeFunction('convertToInteractive',\n",
              "                                                     [key], {});\n",
              "          if (!dataTable) return;\n",
              "\n",
              "          const docLinkHtml = 'Like what you see? Visit the ' +\n",
              "            '<a target=\"_blank\" href=https://colab.research.google.com/notebooks/data_table.ipynb>data table notebook</a>'\n",
              "            + ' to learn more about interactive tables.';\n",
              "          element.innerHTML = '';\n",
              "          dataTable['output_type'] = 'display_data';\n",
              "          await google.colab.output.renderOutput(dataTable, element);\n",
              "          const docLink = document.createElement('div');\n",
              "          docLink.innerHTML = docLinkHtml;\n",
              "          element.appendChild(docLink);\n",
              "        }\n",
              "      </script>\n",
              "    </div>\n",
              "  </div>\n",
              "  "
            ]
          },
          "metadata": {},
          "execution_count": 3
        }
      ]
    },
    {
      "cell_type": "code",
      "source": [
        "df.shape"
      ],
      "metadata": {
        "colab": {
          "base_uri": "https://localhost:8080/"
        },
        "id": "cUX1kz9Ns8Sx",
        "outputId": "9ea123ed-1a35-4058-a943-e221a33ac03b"
      },
      "execution_count": null,
      "outputs": [
        {
          "output_type": "execute_result",
          "data": {
            "text/plain": [
              "(569, 31)"
            ]
          },
          "metadata": {},
          "execution_count": 4
        }
      ]
    },
    {
      "cell_type": "code",
      "source": [
        "from sklearn.model_selection import train_test_split\n",
        "X_train, X_test, y_train, y_test = train_test_split(\n",
        "    cancer.data, cancer.target, test_size=0.2, random_state=2022, stratify = cancer.target\n",
        ")\n",
        "X_train.shape, X_test.shape, y_train.shape, y_test.shape "
      ],
      "metadata": {
        "colab": {
          "base_uri": "https://localhost:8080/"
        },
        "id": "XtbfPofdtBDq",
        "outputId": "86a93313-3cf2-40c7-853d-ad3cea33c413"
      },
      "execution_count": null,
      "outputs": [
        {
          "output_type": "execute_result",
          "data": {
            "text/plain": [
              "((455, 30), (114, 30), (455,), (114,))"
            ]
          },
          "metadata": {},
          "execution_count": 5
        }
      ]
    },
    {
      "cell_type": "code",
      "source": [
        "from tensorflow.keras.models import Sequential\n",
        "from tensorflow.keras.layers import Dense"
      ],
      "metadata": {
        "id": "FfEQt_mLtZdb"
      },
      "execution_count": null,
      "outputs": []
    },
    {
      "cell_type": "code",
      "source": [
        "model = Sequential([\n",
        "    Dense(100, input_shape=(30,), activation='relu'),\n",
        "    Dense(24, activation='relu'),\n",
        "    Dense(1, activation='sigmoid')\n",
        "])\n",
        "model.summary()"
      ],
      "metadata": {
        "colab": {
          "base_uri": "https://localhost:8080/"
        },
        "id": "XnyweOf3tgiK",
        "outputId": "f603f4f8-3d8b-4f6a-a9e0-168eef965eed"
      },
      "execution_count": null,
      "outputs": [
        {
          "output_type": "stream",
          "name": "stdout",
          "text": [
            "Model: \"sequential\"\n",
            "_________________________________________________________________\n",
            " Layer (type)                Output Shape              Param #   \n",
            "=================================================================\n",
            " dense (Dense)               (None, 100)               3100      \n",
            "                                                                 \n",
            " dense_1 (Dense)             (None, 24)                2424      \n",
            "                                                                 \n",
            " dense_2 (Dense)             (None, 1)                 25        \n",
            "                                                                 \n",
            "=================================================================\n",
            "Total params: 5,549\n",
            "Trainable params: 5,549\n",
            "Non-trainable params: 0\n",
            "_________________________________________________________________\n"
          ]
        }
      ]
    },
    {
      "cell_type": "code",
      "source": [
        "model.compile('adam', 'binary_crossentropy', ['accuracy'])"
      ],
      "metadata": {
        "id": "3umMtBo0tvRD"
      },
      "execution_count": null,
      "outputs": []
    },
    {
      "cell_type": "code",
      "source": [
        "history = model.fit(X_train, y_train, validation_split=0.2,\n",
        "                    epochs= 500, batch_size=100)"
      ],
      "metadata": {
        "colab": {
          "base_uri": "https://localhost:8080/"
        },
        "id": "XXv11mh8t2nB",
        "outputId": "fcde3407-e85d-4a8a-a950-da927bfc93aa"
      },
      "execution_count": null,
      "outputs": [
        {
          "output_type": "stream",
          "name": "stdout",
          "text": [
            "Epoch 1/500\n",
            "4/4 [==============================] - 4s 154ms/step - loss: 17.5215 - accuracy: 0.4176 - val_loss: 4.9075 - val_accuracy: 0.6923\n",
            "Epoch 2/500\n",
            "4/4 [==============================] - 0s 20ms/step - loss: 6.5751 - accuracy: 0.6566 - val_loss: 1.3056 - val_accuracy: 0.8462\n",
            "Epoch 3/500\n",
            "4/4 [==============================] - 0s 13ms/step - loss: 1.6097 - accuracy: 0.7225 - val_loss: 3.6616 - val_accuracy: 0.4176\n",
            "Epoch 4/500\n",
            "4/4 [==============================] - 0s 18ms/step - loss: 2.3649 - accuracy: 0.5907 - val_loss: 0.6110 - val_accuracy: 0.9231\n",
            "Epoch 5/500\n",
            "4/4 [==============================] - 0s 13ms/step - loss: 1.5289 - accuracy: 0.8626 - val_loss: 1.3484 - val_accuracy: 0.8462\n",
            "Epoch 6/500\n",
            "4/4 [==============================] - 0s 25ms/step - loss: 0.9553 - accuracy: 0.8819 - val_loss: 0.5854 - val_accuracy: 0.8571\n",
            "Epoch 7/500\n",
            "4/4 [==============================] - 0s 13ms/step - loss: 1.0299 - accuracy: 0.7527 - val_loss: 0.7887 - val_accuracy: 0.8022\n",
            "Epoch 8/500\n",
            "4/4 [==============================] - 0s 13ms/step - loss: 0.6337 - accuracy: 0.8599 - val_loss: 0.5905 - val_accuracy: 0.9231\n",
            "Epoch 9/500\n",
            "4/4 [==============================] - 0s 23ms/step - loss: 0.6545 - accuracy: 0.8874 - val_loss: 0.4704 - val_accuracy: 0.9121\n",
            "Epoch 10/500\n",
            "4/4 [==============================] - 0s 15ms/step - loss: 0.4162 - accuracy: 0.8956 - val_loss: 0.6219 - val_accuracy: 0.8132\n",
            "Epoch 11/500\n",
            "4/4 [==============================] - 0s 16ms/step - loss: 0.4439 - accuracy: 0.8736 - val_loss: 0.4649 - val_accuracy: 0.9121\n",
            "Epoch 12/500\n",
            "4/4 [==============================] - 0s 18ms/step - loss: 0.3984 - accuracy: 0.9093 - val_loss: 0.4500 - val_accuracy: 0.9121\n",
            "Epoch 13/500\n",
            "4/4 [==============================] - 0s 40ms/step - loss: 0.3283 - accuracy: 0.9011 - val_loss: 0.4639 - val_accuracy: 0.8901\n",
            "Epoch 14/500\n",
            "4/4 [==============================] - 0s 37ms/step - loss: 0.3309 - accuracy: 0.8901 - val_loss: 0.4376 - val_accuracy: 0.9121\n",
            "Epoch 15/500\n",
            "4/4 [==============================] - 0s 19ms/step - loss: 0.3111 - accuracy: 0.9121 - val_loss: 0.4049 - val_accuracy: 0.9121\n",
            "Epoch 16/500\n",
            "4/4 [==============================] - 0s 15ms/step - loss: 0.2967 - accuracy: 0.9038 - val_loss: 0.4043 - val_accuracy: 0.9121\n",
            "Epoch 17/500\n",
            "4/4 [==============================] - 0s 15ms/step - loss: 0.2760 - accuracy: 0.9121 - val_loss: 0.4291 - val_accuracy: 0.9121\n",
            "Epoch 18/500\n",
            "4/4 [==============================] - 0s 27ms/step - loss: 0.2812 - accuracy: 0.9258 - val_loss: 0.4023 - val_accuracy: 0.9121\n",
            "Epoch 19/500\n",
            "4/4 [==============================] - 0s 20ms/step - loss: 0.2828 - accuracy: 0.9011 - val_loss: 0.4003 - val_accuracy: 0.9231\n",
            "Epoch 20/500\n",
            "4/4 [==============================] - 0s 14ms/step - loss: 0.2771 - accuracy: 0.9176 - val_loss: 0.3916 - val_accuracy: 0.9121\n",
            "Epoch 21/500\n",
            "4/4 [==============================] - 0s 21ms/step - loss: 0.2538 - accuracy: 0.9203 - val_loss: 0.3856 - val_accuracy: 0.9121\n",
            "Epoch 22/500\n",
            "4/4 [==============================] - 0s 21ms/step - loss: 0.2510 - accuracy: 0.9148 - val_loss: 0.3799 - val_accuracy: 0.9121\n",
            "Epoch 23/500\n",
            "4/4 [==============================] - 0s 10ms/step - loss: 0.2543 - accuracy: 0.9203 - val_loss: 0.3742 - val_accuracy: 0.9121\n",
            "Epoch 24/500\n",
            "4/4 [==============================] - 0s 9ms/step - loss: 0.2534 - accuracy: 0.9121 - val_loss: 0.3717 - val_accuracy: 0.9121\n",
            "Epoch 25/500\n",
            "4/4 [==============================] - 0s 9ms/step - loss: 0.2416 - accuracy: 0.9203 - val_loss: 0.3686 - val_accuracy: 0.9231\n",
            "Epoch 26/500\n",
            "4/4 [==============================] - 0s 9ms/step - loss: 0.2394 - accuracy: 0.9258 - val_loss: 0.3747 - val_accuracy: 0.9121\n",
            "Epoch 27/500\n",
            "4/4 [==============================] - 0s 9ms/step - loss: 0.2447 - accuracy: 0.9258 - val_loss: 0.3629 - val_accuracy: 0.9231\n",
            "Epoch 28/500\n",
            "4/4 [==============================] - 0s 10ms/step - loss: 0.2390 - accuracy: 0.9203 - val_loss: 0.3573 - val_accuracy: 0.9121\n",
            "Epoch 29/500\n",
            "4/4 [==============================] - 0s 9ms/step - loss: 0.2238 - accuracy: 0.9258 - val_loss: 0.3536 - val_accuracy: 0.9231\n",
            "Epoch 30/500\n",
            "4/4 [==============================] - 0s 9ms/step - loss: 0.2434 - accuracy: 0.9203 - val_loss: 0.3600 - val_accuracy: 0.9121\n",
            "Epoch 31/500\n",
            "4/4 [==============================] - 0s 10ms/step - loss: 0.2449 - accuracy: 0.9258 - val_loss: 0.3469 - val_accuracy: 0.9231\n",
            "Epoch 32/500\n",
            "4/4 [==============================] - 0s 9ms/step - loss: 0.2380 - accuracy: 0.9203 - val_loss: 0.3459 - val_accuracy: 0.9231\n",
            "Epoch 33/500\n",
            "4/4 [==============================] - 0s 9ms/step - loss: 0.2120 - accuracy: 0.9313 - val_loss: 0.3506 - val_accuracy: 0.9121\n",
            "Epoch 34/500\n",
            "4/4 [==============================] - 0s 10ms/step - loss: 0.2284 - accuracy: 0.9231 - val_loss: 0.3410 - val_accuracy: 0.9231\n",
            "Epoch 35/500\n",
            "4/4 [==============================] - 0s 9ms/step - loss: 0.2081 - accuracy: 0.9258 - val_loss: 0.3452 - val_accuracy: 0.9121\n",
            "Epoch 36/500\n",
            "4/4 [==============================] - 0s 9ms/step - loss: 0.2286 - accuracy: 0.9341 - val_loss: 0.3308 - val_accuracy: 0.9231\n",
            "Epoch 37/500\n",
            "4/4 [==============================] - 0s 10ms/step - loss: 0.2072 - accuracy: 0.9258 - val_loss: 0.3273 - val_accuracy: 0.9231\n",
            "Epoch 38/500\n",
            "4/4 [==============================] - 0s 9ms/step - loss: 0.2051 - accuracy: 0.9258 - val_loss: 0.3229 - val_accuracy: 0.9231\n",
            "Epoch 39/500\n",
            "4/4 [==============================] - 0s 9ms/step - loss: 0.2117 - accuracy: 0.9231 - val_loss: 0.3200 - val_accuracy: 0.9231\n",
            "Epoch 40/500\n",
            "4/4 [==============================] - 0s 9ms/step - loss: 0.2117 - accuracy: 0.9258 - val_loss: 0.3168 - val_accuracy: 0.9011\n",
            "Epoch 41/500\n",
            "4/4 [==============================] - 0s 13ms/step - loss: 0.2072 - accuracy: 0.9258 - val_loss: 0.3131 - val_accuracy: 0.9011\n",
            "Epoch 42/500\n",
            "4/4 [==============================] - 0s 9ms/step - loss: 0.2045 - accuracy: 0.9341 - val_loss: 0.3350 - val_accuracy: 0.9231\n",
            "Epoch 43/500\n",
            "4/4 [==============================] - 0s 9ms/step - loss: 0.2242 - accuracy: 0.9203 - val_loss: 0.3211 - val_accuracy: 0.9121\n",
            "Epoch 44/500\n",
            "4/4 [==============================] - 0s 9ms/step - loss: 0.2321 - accuracy: 0.9258 - val_loss: 0.3452 - val_accuracy: 0.9121\n",
            "Epoch 45/500\n",
            "4/4 [==============================] - 0s 9ms/step - loss: 0.2224 - accuracy: 0.9121 - val_loss: 0.3038 - val_accuracy: 0.9011\n",
            "Epoch 46/500\n",
            "4/4 [==============================] - 0s 9ms/step - loss: 0.2271 - accuracy: 0.9313 - val_loss: 0.3085 - val_accuracy: 0.9231\n",
            "Epoch 47/500\n",
            "4/4 [==============================] - 0s 9ms/step - loss: 0.1836 - accuracy: 0.9313 - val_loss: 0.3185 - val_accuracy: 0.9121\n",
            "Epoch 48/500\n",
            "4/4 [==============================] - 0s 10ms/step - loss: 0.2130 - accuracy: 0.9258 - val_loss: 0.3024 - val_accuracy: 0.9231\n",
            "Epoch 49/500\n",
            "4/4 [==============================] - 0s 10ms/step - loss: 0.1866 - accuracy: 0.9341 - val_loss: 0.2931 - val_accuracy: 0.9121\n",
            "Epoch 50/500\n",
            "4/4 [==============================] - 0s 9ms/step - loss: 0.1946 - accuracy: 0.9396 - val_loss: 0.3365 - val_accuracy: 0.9121\n",
            "Epoch 51/500\n",
            "4/4 [==============================] - 0s 11ms/step - loss: 0.2014 - accuracy: 0.9176 - val_loss: 0.2902 - val_accuracy: 0.9121\n",
            "Epoch 52/500\n",
            "4/4 [==============================] - 0s 10ms/step - loss: 0.1830 - accuracy: 0.9368 - val_loss: 0.3110 - val_accuracy: 0.9231\n",
            "Epoch 53/500\n",
            "4/4 [==============================] - 0s 10ms/step - loss: 0.1744 - accuracy: 0.9286 - val_loss: 0.3133 - val_accuracy: 0.9011\n",
            "Epoch 54/500\n",
            "4/4 [==============================] - 0s 9ms/step - loss: 0.2069 - accuracy: 0.9341 - val_loss: 0.4412 - val_accuracy: 0.8571\n",
            "Epoch 55/500\n",
            "4/4 [==============================] - 0s 9ms/step - loss: 0.2873 - accuracy: 0.8929 - val_loss: 0.3534 - val_accuracy: 0.9011\n",
            "Epoch 56/500\n",
            "4/4 [==============================] - 0s 9ms/step - loss: 0.2377 - accuracy: 0.9176 - val_loss: 0.3453 - val_accuracy: 0.9011\n",
            "Epoch 57/500\n",
            "4/4 [==============================] - 0s 9ms/step - loss: 0.1807 - accuracy: 0.9313 - val_loss: 0.3107 - val_accuracy: 0.9121\n",
            "Epoch 58/500\n",
            "4/4 [==============================] - 0s 10ms/step - loss: 0.1981 - accuracy: 0.9368 - val_loss: 0.3251 - val_accuracy: 0.9011\n",
            "Epoch 59/500\n",
            "4/4 [==============================] - 0s 10ms/step - loss: 0.2283 - accuracy: 0.9231 - val_loss: 0.2935 - val_accuracy: 0.9121\n",
            "Epoch 60/500\n",
            "4/4 [==============================] - 0s 9ms/step - loss: 0.1822 - accuracy: 0.9423 - val_loss: 0.3414 - val_accuracy: 0.9011\n",
            "Epoch 61/500\n",
            "4/4 [==============================] - 0s 11ms/step - loss: 0.2092 - accuracy: 0.9176 - val_loss: 0.2625 - val_accuracy: 0.9121\n",
            "Epoch 62/500\n",
            "4/4 [==============================] - 0s 9ms/step - loss: 0.1746 - accuracy: 0.9313 - val_loss: 0.2596 - val_accuracy: 0.9121\n",
            "Epoch 63/500\n",
            "4/4 [==============================] - 0s 10ms/step - loss: 0.1732 - accuracy: 0.9423 - val_loss: 0.2573 - val_accuracy: 0.9121\n",
            "Epoch 64/500\n",
            "4/4 [==============================] - 0s 10ms/step - loss: 0.1620 - accuracy: 0.9451 - val_loss: 0.2551 - val_accuracy: 0.9121\n",
            "Epoch 65/500\n",
            "4/4 [==============================] - 0s 9ms/step - loss: 0.1684 - accuracy: 0.9423 - val_loss: 0.2669 - val_accuracy: 0.9231\n",
            "Epoch 66/500\n",
            "4/4 [==============================] - 0s 11ms/step - loss: 0.1630 - accuracy: 0.9423 - val_loss: 0.2605 - val_accuracy: 0.9231\n",
            "Epoch 67/500\n",
            "4/4 [==============================] - 0s 9ms/step - loss: 0.1624 - accuracy: 0.9478 - val_loss: 0.2516 - val_accuracy: 0.9121\n",
            "Epoch 68/500\n",
            "4/4 [==============================] - 0s 9ms/step - loss: 0.1558 - accuracy: 0.9478 - val_loss: 0.2582 - val_accuracy: 0.9231\n",
            "Epoch 69/500\n",
            "4/4 [==============================] - 0s 9ms/step - loss: 0.1638 - accuracy: 0.9341 - val_loss: 0.2458 - val_accuracy: 0.9121\n",
            "Epoch 70/500\n",
            "4/4 [==============================] - 0s 10ms/step - loss: 0.2054 - accuracy: 0.9368 - val_loss: 0.3715 - val_accuracy: 0.8901\n",
            "Epoch 71/500\n",
            "4/4 [==============================] - 0s 9ms/step - loss: 0.2399 - accuracy: 0.9038 - val_loss: 0.3125 - val_accuracy: 0.9121\n",
            "Epoch 72/500\n",
            "4/4 [==============================] - 0s 9ms/step - loss: 0.2042 - accuracy: 0.9231 - val_loss: 0.2522 - val_accuracy: 0.9231\n",
            "Epoch 73/500\n",
            "4/4 [==============================] - 0s 9ms/step - loss: 0.2088 - accuracy: 0.9286 - val_loss: 0.2788 - val_accuracy: 0.9231\n",
            "Epoch 74/500\n",
            "4/4 [==============================] - 0s 10ms/step - loss: 0.2048 - accuracy: 0.9176 - val_loss: 0.3039 - val_accuracy: 0.9011\n",
            "Epoch 75/500\n",
            "4/4 [==============================] - 0s 10ms/step - loss: 0.2294 - accuracy: 0.9148 - val_loss: 0.3589 - val_accuracy: 0.8901\n",
            "Epoch 76/500\n",
            "4/4 [==============================] - 0s 11ms/step - loss: 0.2270 - accuracy: 0.9231 - val_loss: 0.2524 - val_accuracy: 0.9121\n",
            "Epoch 77/500\n",
            "4/4 [==============================] - 0s 10ms/step - loss: 0.1887 - accuracy: 0.9258 - val_loss: 0.2256 - val_accuracy: 0.9121\n",
            "Epoch 78/500\n",
            "4/4 [==============================] - 0s 10ms/step - loss: 0.1607 - accuracy: 0.9478 - val_loss: 0.2301 - val_accuracy: 0.9231\n",
            "Epoch 79/500\n",
            "4/4 [==============================] - 0s 9ms/step - loss: 0.1501 - accuracy: 0.9396 - val_loss: 0.2228 - val_accuracy: 0.9121\n",
            "Epoch 80/500\n",
            "4/4 [==============================] - 0s 10ms/step - loss: 0.1539 - accuracy: 0.9478 - val_loss: 0.2395 - val_accuracy: 0.9231\n",
            "Epoch 81/500\n",
            "4/4 [==============================] - 0s 16ms/step - loss: 0.1582 - accuracy: 0.9423 - val_loss: 0.2244 - val_accuracy: 0.9121\n",
            "Epoch 82/500\n",
            "4/4 [==============================] - 0s 10ms/step - loss: 0.1437 - accuracy: 0.9423 - val_loss: 0.2280 - val_accuracy: 0.9121\n",
            "Epoch 83/500\n",
            "4/4 [==============================] - 0s 9ms/step - loss: 0.1403 - accuracy: 0.9451 - val_loss: 0.2228 - val_accuracy: 0.9121\n",
            "Epoch 84/500\n",
            "4/4 [==============================] - 0s 9ms/step - loss: 0.1408 - accuracy: 0.9560 - val_loss: 0.2354 - val_accuracy: 0.9231\n",
            "Epoch 85/500\n",
            "4/4 [==============================] - 0s 11ms/step - loss: 0.1380 - accuracy: 0.9451 - val_loss: 0.2198 - val_accuracy: 0.9121\n",
            "Epoch 86/500\n",
            "4/4 [==============================] - 0s 9ms/step - loss: 0.1425 - accuracy: 0.9505 - val_loss: 0.2504 - val_accuracy: 0.9231\n",
            "Epoch 87/500\n",
            "4/4 [==============================] - 0s 9ms/step - loss: 0.1481 - accuracy: 0.9423 - val_loss: 0.2166 - val_accuracy: 0.9121\n",
            "Epoch 88/500\n",
            "4/4 [==============================] - 0s 10ms/step - loss: 0.1448 - accuracy: 0.9533 - val_loss: 0.3108 - val_accuracy: 0.8791\n",
            "Epoch 89/500\n",
            "4/4 [==============================] - 0s 10ms/step - loss: 0.1706 - accuracy: 0.9396 - val_loss: 0.2074 - val_accuracy: 0.9121\n",
            "Epoch 90/500\n",
            "4/4 [==============================] - 0s 11ms/step - loss: 0.1601 - accuracy: 0.9368 - val_loss: 0.2096 - val_accuracy: 0.9231\n",
            "Epoch 91/500\n",
            "4/4 [==============================] - 0s 11ms/step - loss: 0.1480 - accuracy: 0.9505 - val_loss: 0.3349 - val_accuracy: 0.8901\n",
            "Epoch 92/500\n",
            "4/4 [==============================] - 0s 9ms/step - loss: 0.2324 - accuracy: 0.9203 - val_loss: 0.2011 - val_accuracy: 0.9121\n",
            "Epoch 93/500\n",
            "4/4 [==============================] - 0s 16ms/step - loss: 0.1644 - accuracy: 0.9396 - val_loss: 0.2048 - val_accuracy: 0.9121\n",
            "Epoch 94/500\n",
            "4/4 [==============================] - 0s 9ms/step - loss: 0.1518 - accuracy: 0.9533 - val_loss: 0.2521 - val_accuracy: 0.9231\n",
            "Epoch 95/500\n",
            "4/4 [==============================] - 0s 13ms/step - loss: 0.1572 - accuracy: 0.9423 - val_loss: 0.2471 - val_accuracy: 0.9231\n",
            "Epoch 96/500\n",
            "4/4 [==============================] - 0s 16ms/step - loss: 0.1951 - accuracy: 0.9286 - val_loss: 0.2443 - val_accuracy: 0.9231\n",
            "Epoch 97/500\n",
            "4/4 [==============================] - 0s 10ms/step - loss: 0.1752 - accuracy: 0.9423 - val_loss: 0.1981 - val_accuracy: 0.9121\n",
            "Epoch 98/500\n",
            "4/4 [==============================] - 0s 9ms/step - loss: 0.1746 - accuracy: 0.9313 - val_loss: 0.2706 - val_accuracy: 0.9341\n",
            "Epoch 99/500\n",
            "4/4 [==============================] - 0s 10ms/step - loss: 0.3017 - accuracy: 0.9038 - val_loss: 0.3024 - val_accuracy: 0.9011\n",
            "Epoch 100/500\n",
            "4/4 [==============================] - 0s 9ms/step - loss: 0.1884 - accuracy: 0.9286 - val_loss: 0.2027 - val_accuracy: 0.9121\n",
            "Epoch 101/500\n",
            "4/4 [==============================] - 0s 10ms/step - loss: 0.1440 - accuracy: 0.9478 - val_loss: 0.2072 - val_accuracy: 0.9121\n",
            "Epoch 102/500\n",
            "4/4 [==============================] - 0s 10ms/step - loss: 0.1744 - accuracy: 0.9478 - val_loss: 0.3452 - val_accuracy: 0.8901\n",
            "Epoch 103/500\n",
            "4/4 [==============================] - 0s 9ms/step - loss: 0.2158 - accuracy: 0.9231 - val_loss: 0.2000 - val_accuracy: 0.9121\n",
            "Epoch 104/500\n",
            "4/4 [==============================] - 0s 11ms/step - loss: 0.1409 - accuracy: 0.9533 - val_loss: 0.1978 - val_accuracy: 0.9121\n",
            "Epoch 105/500\n",
            "4/4 [==============================] - 0s 10ms/step - loss: 0.1669 - accuracy: 0.9505 - val_loss: 0.2281 - val_accuracy: 0.9231\n",
            "Epoch 106/500\n",
            "4/4 [==============================] - 0s 10ms/step - loss: 0.1359 - accuracy: 0.9478 - val_loss: 0.1972 - val_accuracy: 0.9121\n",
            "Epoch 107/500\n",
            "4/4 [==============================] - 0s 9ms/step - loss: 0.1285 - accuracy: 0.9478 - val_loss: 0.2377 - val_accuracy: 0.9231\n",
            "Epoch 108/500\n",
            "4/4 [==============================] - 0s 9ms/step - loss: 0.1363 - accuracy: 0.9451 - val_loss: 0.2030 - val_accuracy: 0.9121\n",
            "Epoch 109/500\n",
            "4/4 [==============================] - 0s 10ms/step - loss: 0.1416 - accuracy: 0.9478 - val_loss: 0.2111 - val_accuracy: 0.9231\n",
            "Epoch 110/500\n",
            "4/4 [==============================] - 0s 9ms/step - loss: 0.1291 - accuracy: 0.9533 - val_loss: 0.1973 - val_accuracy: 0.9121\n",
            "Epoch 111/500\n",
            "4/4 [==============================] - 0s 11ms/step - loss: 0.1245 - accuracy: 0.9560 - val_loss: 0.2175 - val_accuracy: 0.9231\n",
            "Epoch 112/500\n",
            "4/4 [==============================] - 0s 10ms/step - loss: 0.1280 - accuracy: 0.9560 - val_loss: 0.1964 - val_accuracy: 0.9121\n",
            "Epoch 113/500\n",
            "4/4 [==============================] - 0s 11ms/step - loss: 0.1309 - accuracy: 0.9560 - val_loss: 0.3214 - val_accuracy: 0.9011\n",
            "Epoch 114/500\n",
            "4/4 [==============================] - 0s 10ms/step - loss: 0.1685 - accuracy: 0.9505 - val_loss: 0.1884 - val_accuracy: 0.9121\n",
            "Epoch 115/500\n",
            "4/4 [==============================] - 0s 10ms/step - loss: 0.1397 - accuracy: 0.9313 - val_loss: 0.1840 - val_accuracy: 0.9121\n",
            "Epoch 116/500\n",
            "4/4 [==============================] - 0s 10ms/step - loss: 0.1619 - accuracy: 0.9451 - val_loss: 0.3054 - val_accuracy: 0.9011\n",
            "Epoch 117/500\n",
            "4/4 [==============================] - 0s 9ms/step - loss: 0.1735 - accuracy: 0.9286 - val_loss: 0.2258 - val_accuracy: 0.9341\n",
            "Epoch 118/500\n",
            "4/4 [==============================] - 0s 10ms/step - loss: 0.1479 - accuracy: 0.9423 - val_loss: 0.2199 - val_accuracy: 0.9231\n",
            "Epoch 119/500\n",
            "4/4 [==============================] - 0s 9ms/step - loss: 0.1333 - accuracy: 0.9560 - val_loss: 0.1795 - val_accuracy: 0.9121\n",
            "Epoch 120/500\n",
            "4/4 [==============================] - 0s 9ms/step - loss: 0.1559 - accuracy: 0.9286 - val_loss: 0.1939 - val_accuracy: 0.9341\n",
            "Epoch 121/500\n",
            "4/4 [==============================] - 0s 10ms/step - loss: 0.1724 - accuracy: 0.9423 - val_loss: 0.2421 - val_accuracy: 0.9231\n",
            "Epoch 122/500\n",
            "4/4 [==============================] - 0s 9ms/step - loss: 0.1493 - accuracy: 0.9423 - val_loss: 0.1816 - val_accuracy: 0.9121\n",
            "Epoch 123/500\n",
            "4/4 [==============================] - 0s 11ms/step - loss: 0.1635 - accuracy: 0.9368 - val_loss: 0.2036 - val_accuracy: 0.9341\n",
            "Epoch 124/500\n",
            "4/4 [==============================] - 0s 9ms/step - loss: 0.1690 - accuracy: 0.9423 - val_loss: 0.1831 - val_accuracy: 0.9231\n",
            "Epoch 125/500\n",
            "4/4 [==============================] - 0s 9ms/step - loss: 0.1404 - accuracy: 0.9533 - val_loss: 0.2188 - val_accuracy: 0.9231\n",
            "Epoch 126/500\n",
            "4/4 [==============================] - 0s 9ms/step - loss: 0.1457 - accuracy: 0.9396 - val_loss: 0.2262 - val_accuracy: 0.9341\n",
            "Epoch 127/500\n",
            "4/4 [==============================] - 0s 9ms/step - loss: 0.1510 - accuracy: 0.9533 - val_loss: 0.2690 - val_accuracy: 0.9121\n",
            "Epoch 128/500\n",
            "4/4 [==============================] - 0s 11ms/step - loss: 0.1256 - accuracy: 0.9560 - val_loss: 0.1856 - val_accuracy: 0.9231\n",
            "Epoch 129/500\n",
            "4/4 [==============================] - 0s 11ms/step - loss: 0.1877 - accuracy: 0.9286 - val_loss: 0.1930 - val_accuracy: 0.9341\n",
            "Epoch 130/500\n",
            "4/4 [==============================] - 0s 10ms/step - loss: 0.1490 - accuracy: 0.9533 - val_loss: 0.3693 - val_accuracy: 0.8462\n",
            "Epoch 131/500\n",
            "4/4 [==============================] - 0s 11ms/step - loss: 0.2376 - accuracy: 0.9176 - val_loss: 0.2221 - val_accuracy: 0.9341\n",
            "Epoch 132/500\n",
            "4/4 [==============================] - 0s 16ms/step - loss: 0.1619 - accuracy: 0.9396 - val_loss: 0.1911 - val_accuracy: 0.9231\n",
            "Epoch 133/500\n",
            "4/4 [==============================] - 0s 10ms/step - loss: 0.1660 - accuracy: 0.9505 - val_loss: 0.2194 - val_accuracy: 0.9341\n",
            "Epoch 134/500\n",
            "4/4 [==============================] - 0s 10ms/step - loss: 0.1467 - accuracy: 0.9423 - val_loss: 0.1837 - val_accuracy: 0.9121\n",
            "Epoch 135/500\n",
            "4/4 [==============================] - 0s 10ms/step - loss: 0.1436 - accuracy: 0.9368 - val_loss: 0.1888 - val_accuracy: 0.9121\n",
            "Epoch 136/500\n",
            "4/4 [==============================] - 0s 11ms/step - loss: 0.1274 - accuracy: 0.9505 - val_loss: 0.2237 - val_accuracy: 0.9341\n",
            "Epoch 137/500\n",
            "4/4 [==============================] - 0s 9ms/step - loss: 0.1232 - accuracy: 0.9588 - val_loss: 0.1903 - val_accuracy: 0.9121\n",
            "Epoch 138/500\n",
            "4/4 [==============================] - 0s 10ms/step - loss: 0.1122 - accuracy: 0.9560 - val_loss: 0.2275 - val_accuracy: 0.9341\n",
            "Epoch 139/500\n",
            "4/4 [==============================] - 0s 10ms/step - loss: 0.1270 - accuracy: 0.9423 - val_loss: 0.1911 - val_accuracy: 0.9231\n",
            "Epoch 140/500\n",
            "4/4 [==============================] - 0s 10ms/step - loss: 0.1293 - accuracy: 0.9505 - val_loss: 0.2034 - val_accuracy: 0.9231\n",
            "Epoch 141/500\n",
            "4/4 [==============================] - 0s 11ms/step - loss: 0.1122 - accuracy: 0.9533 - val_loss: 0.1810 - val_accuracy: 0.9121\n",
            "Epoch 142/500\n",
            "4/4 [==============================] - 0s 10ms/step - loss: 0.1098 - accuracy: 0.9588 - val_loss: 0.2432 - val_accuracy: 0.9341\n",
            "Epoch 143/500\n",
            "4/4 [==============================] - 0s 10ms/step - loss: 0.1332 - accuracy: 0.9451 - val_loss: 0.1794 - val_accuracy: 0.9121\n",
            "Epoch 144/500\n",
            "4/4 [==============================] - 0s 16ms/step - loss: 0.1502 - accuracy: 0.9341 - val_loss: 0.1971 - val_accuracy: 0.9341\n",
            "Epoch 145/500\n",
            "4/4 [==============================] - 0s 10ms/step - loss: 0.1909 - accuracy: 0.9423 - val_loss: 0.3539 - val_accuracy: 0.8791\n",
            "Epoch 146/500\n",
            "4/4 [==============================] - 0s 9ms/step - loss: 0.1727 - accuracy: 0.9368 - val_loss: 0.1782 - val_accuracy: 0.9231\n",
            "Epoch 147/500\n",
            "4/4 [==============================] - 0s 10ms/step - loss: 0.1307 - accuracy: 0.9451 - val_loss: 0.1744 - val_accuracy: 0.9121\n",
            "Epoch 148/500\n",
            "4/4 [==============================] - 0s 10ms/step - loss: 0.1377 - accuracy: 0.9560 - val_loss: 0.2922 - val_accuracy: 0.9121\n",
            "Epoch 149/500\n",
            "4/4 [==============================] - 0s 9ms/step - loss: 0.1526 - accuracy: 0.9396 - val_loss: 0.1728 - val_accuracy: 0.9121\n",
            "Epoch 150/500\n",
            "4/4 [==============================] - 0s 10ms/step - loss: 0.1456 - accuracy: 0.9423 - val_loss: 0.1851 - val_accuracy: 0.9231\n",
            "Epoch 151/500\n",
            "4/4 [==============================] - 0s 9ms/step - loss: 0.1691 - accuracy: 0.9313 - val_loss: 0.1906 - val_accuracy: 0.9231\n",
            "Epoch 152/500\n",
            "4/4 [==============================] - 0s 9ms/step - loss: 0.1677 - accuracy: 0.9341 - val_loss: 0.3121 - val_accuracy: 0.9011\n",
            "Epoch 153/500\n",
            "4/4 [==============================] - 0s 9ms/step - loss: 0.1948 - accuracy: 0.9203 - val_loss: 0.4255 - val_accuracy: 0.8791\n",
            "Epoch 154/500\n",
            "4/4 [==============================] - 0s 9ms/step - loss: 0.2202 - accuracy: 0.9121 - val_loss: 0.3504 - val_accuracy: 0.8901\n",
            "Epoch 155/500\n",
            "4/4 [==============================] - 0s 9ms/step - loss: 0.1861 - accuracy: 0.9231 - val_loss: 0.1754 - val_accuracy: 0.9121\n",
            "Epoch 156/500\n",
            "4/4 [==============================] - 0s 9ms/step - loss: 0.2188 - accuracy: 0.9148 - val_loss: 0.2658 - val_accuracy: 0.9341\n",
            "Epoch 157/500\n",
            "4/4 [==============================] - 0s 10ms/step - loss: 0.1868 - accuracy: 0.9423 - val_loss: 0.4518 - val_accuracy: 0.8462\n",
            "Epoch 158/500\n",
            "4/4 [==============================] - 0s 9ms/step - loss: 0.1883 - accuracy: 0.9341 - val_loss: 0.1999 - val_accuracy: 0.9341\n",
            "Epoch 159/500\n",
            "4/4 [==============================] - 0s 10ms/step - loss: 0.1372 - accuracy: 0.9451 - val_loss: 0.1917 - val_accuracy: 0.9231\n",
            "Epoch 160/500\n",
            "4/4 [==============================] - 0s 15ms/step - loss: 0.1675 - accuracy: 0.9505 - val_loss: 0.3199 - val_accuracy: 0.9121\n",
            "Epoch 161/500\n",
            "4/4 [==============================] - 0s 9ms/step - loss: 0.1560 - accuracy: 0.9478 - val_loss: 0.2159 - val_accuracy: 0.9341\n",
            "Epoch 162/500\n",
            "4/4 [==============================] - 0s 12ms/step - loss: 0.1331 - accuracy: 0.9533 - val_loss: 0.2532 - val_accuracy: 0.9341\n",
            "Epoch 163/500\n",
            "4/4 [==============================] - 0s 9ms/step - loss: 0.1425 - accuracy: 0.9505 - val_loss: 0.1876 - val_accuracy: 0.9121\n",
            "Epoch 164/500\n",
            "4/4 [==============================] - 0s 10ms/step - loss: 0.1400 - accuracy: 0.9423 - val_loss: 0.1890 - val_accuracy: 0.9231\n",
            "Epoch 165/500\n",
            "4/4 [==============================] - 0s 9ms/step - loss: 0.1276 - accuracy: 0.9505 - val_loss: 0.2027 - val_accuracy: 0.9341\n",
            "Epoch 166/500\n",
            "4/4 [==============================] - 0s 10ms/step - loss: 0.1228 - accuracy: 0.9478 - val_loss: 0.2047 - val_accuracy: 0.9341\n",
            "Epoch 167/500\n",
            "4/4 [==============================] - 0s 10ms/step - loss: 0.1175 - accuracy: 0.9533 - val_loss: 0.1823 - val_accuracy: 0.9121\n",
            "Epoch 168/500\n",
            "4/4 [==============================] - 0s 9ms/step - loss: 0.1342 - accuracy: 0.9560 - val_loss: 0.2758 - val_accuracy: 0.9121\n",
            "Epoch 169/500\n",
            "4/4 [==============================] - 0s 9ms/step - loss: 0.2016 - accuracy: 0.9148 - val_loss: 0.2143 - val_accuracy: 0.9341\n",
            "Epoch 170/500\n",
            "4/4 [==============================] - 0s 10ms/step - loss: 0.1495 - accuracy: 0.9451 - val_loss: 0.1907 - val_accuracy: 0.9341\n",
            "Epoch 171/500\n",
            "4/4 [==============================] - 0s 10ms/step - loss: 0.1292 - accuracy: 0.9478 - val_loss: 0.2050 - val_accuracy: 0.9231\n",
            "Epoch 172/500\n",
            "4/4 [==============================] - 0s 12ms/step - loss: 0.1150 - accuracy: 0.9478 - val_loss: 0.1848 - val_accuracy: 0.9231\n",
            "Epoch 173/500\n",
            "4/4 [==============================] - 0s 11ms/step - loss: 0.1743 - accuracy: 0.9396 - val_loss: 0.4424 - val_accuracy: 0.8571\n",
            "Epoch 174/500\n",
            "4/4 [==============================] - 0s 10ms/step - loss: 0.1665 - accuracy: 0.9231 - val_loss: 0.2303 - val_accuracy: 0.9451\n",
            "Epoch 175/500\n",
            "4/4 [==============================] - 0s 10ms/step - loss: 0.1774 - accuracy: 0.9341 - val_loss: 0.1860 - val_accuracy: 0.9341\n",
            "Epoch 176/500\n",
            "4/4 [==============================] - 0s 11ms/step - loss: 0.1993 - accuracy: 0.9396 - val_loss: 0.2549 - val_accuracy: 0.9341\n",
            "Epoch 177/500\n",
            "4/4 [==============================] - 0s 10ms/step - loss: 0.1845 - accuracy: 0.9258 - val_loss: 0.2238 - val_accuracy: 0.9341\n",
            "Epoch 178/500\n",
            "4/4 [==============================] - 0s 9ms/step - loss: 0.1284 - accuracy: 0.9478 - val_loss: 0.3573 - val_accuracy: 0.8901\n",
            "Epoch 179/500\n",
            "4/4 [==============================] - 0s 10ms/step - loss: 0.1620 - accuracy: 0.9341 - val_loss: 0.2029 - val_accuracy: 0.9121\n",
            "Epoch 180/500\n",
            "4/4 [==============================] - 0s 10ms/step - loss: 0.1932 - accuracy: 0.9313 - val_loss: 0.2811 - val_accuracy: 0.9451\n",
            "Epoch 181/500\n",
            "4/4 [==============================] - 0s 10ms/step - loss: 0.1816 - accuracy: 0.9368 - val_loss: 0.3241 - val_accuracy: 0.9231\n",
            "Epoch 182/500\n",
            "4/4 [==============================] - 0s 10ms/step - loss: 0.1611 - accuracy: 0.9396 - val_loss: 0.2498 - val_accuracy: 0.9341\n",
            "Epoch 183/500\n",
            "4/4 [==============================] - 0s 12ms/step - loss: 0.1850 - accuracy: 0.9286 - val_loss: 0.2468 - val_accuracy: 0.9341\n",
            "Epoch 184/500\n",
            "4/4 [==============================] - 0s 10ms/step - loss: 0.1398 - accuracy: 0.9533 - val_loss: 0.1946 - val_accuracy: 0.9121\n",
            "Epoch 185/500\n",
            "4/4 [==============================] - 0s 10ms/step - loss: 0.1452 - accuracy: 0.9313 - val_loss: 0.2011 - val_accuracy: 0.9231\n",
            "Epoch 186/500\n",
            "4/4 [==============================] - 0s 10ms/step - loss: 0.2101 - accuracy: 0.9341 - val_loss: 0.3897 - val_accuracy: 0.8791\n",
            "Epoch 187/500\n",
            "4/4 [==============================] - 0s 10ms/step - loss: 0.1688 - accuracy: 0.9341 - val_loss: 0.2078 - val_accuracy: 0.9231\n",
            "Epoch 188/500\n",
            "4/4 [==============================] - 0s 10ms/step - loss: 0.1731 - accuracy: 0.9478 - val_loss: 0.2026 - val_accuracy: 0.9231\n",
            "Epoch 189/500\n",
            "4/4 [==============================] - 0s 10ms/step - loss: 0.1479 - accuracy: 0.9451 - val_loss: 0.2914 - val_accuracy: 0.9121\n",
            "Epoch 190/500\n",
            "4/4 [==============================] - 0s 10ms/step - loss: 0.1315 - accuracy: 0.9478 - val_loss: 0.1947 - val_accuracy: 0.9231\n",
            "Epoch 191/500\n",
            "4/4 [==============================] - 0s 11ms/step - loss: 0.1034 - accuracy: 0.9533 - val_loss: 0.1951 - val_accuracy: 0.9341\n",
            "Epoch 192/500\n",
            "4/4 [==============================] - 0s 10ms/step - loss: 0.1008 - accuracy: 0.9588 - val_loss: 0.2022 - val_accuracy: 0.9231\n",
            "Epoch 193/500\n",
            "4/4 [==============================] - 0s 11ms/step - loss: 0.1013 - accuracy: 0.9588 - val_loss: 0.1982 - val_accuracy: 0.9231\n",
            "Epoch 194/500\n",
            "4/4 [==============================] - 0s 10ms/step - loss: 0.1074 - accuracy: 0.9478 - val_loss: 0.2019 - val_accuracy: 0.9231\n",
            "Epoch 195/500\n",
            "4/4 [==============================] - 0s 10ms/step - loss: 0.1136 - accuracy: 0.9478 - val_loss: 0.2017 - val_accuracy: 0.9231\n",
            "Epoch 196/500\n",
            "4/4 [==============================] - 0s 10ms/step - loss: 0.1228 - accuracy: 0.9615 - val_loss: 0.2892 - val_accuracy: 0.9121\n",
            "Epoch 197/500\n",
            "4/4 [==============================] - 0s 10ms/step - loss: 0.1313 - accuracy: 0.9505 - val_loss: 0.1747 - val_accuracy: 0.9231\n",
            "Epoch 198/500\n",
            "4/4 [==============================] - 0s 11ms/step - loss: 0.1000 - accuracy: 0.9588 - val_loss: 0.1755 - val_accuracy: 0.9231\n",
            "Epoch 199/500\n",
            "4/4 [==============================] - 0s 11ms/step - loss: 0.1036 - accuracy: 0.9560 - val_loss: 0.2145 - val_accuracy: 0.9341\n",
            "Epoch 200/500\n",
            "4/4 [==============================] - 0s 10ms/step - loss: 0.1017 - accuracy: 0.9560 - val_loss: 0.1772 - val_accuracy: 0.9231\n",
            "Epoch 201/500\n",
            "4/4 [==============================] - 0s 11ms/step - loss: 0.1121 - accuracy: 0.9560 - val_loss: 0.2140 - val_accuracy: 0.9341\n",
            "Epoch 202/500\n",
            "4/4 [==============================] - 0s 11ms/step - loss: 0.1065 - accuracy: 0.9560 - val_loss: 0.2215 - val_accuracy: 0.9341\n",
            "Epoch 203/500\n",
            "4/4 [==============================] - 0s 11ms/step - loss: 0.1027 - accuracy: 0.9588 - val_loss: 0.1789 - val_accuracy: 0.9231\n",
            "Epoch 204/500\n",
            "4/4 [==============================] - 0s 10ms/step - loss: 0.1020 - accuracy: 0.9588 - val_loss: 0.1956 - val_accuracy: 0.9341\n",
            "Epoch 205/500\n",
            "4/4 [==============================] - 0s 10ms/step - loss: 0.0959 - accuracy: 0.9615 - val_loss: 0.1706 - val_accuracy: 0.9231\n",
            "Epoch 206/500\n",
            "4/4 [==============================] - 0s 11ms/step - loss: 0.0991 - accuracy: 0.9560 - val_loss: 0.1799 - val_accuracy: 0.9231\n",
            "Epoch 207/500\n",
            "4/4 [==============================] - 0s 11ms/step - loss: 0.0920 - accuracy: 0.9588 - val_loss: 0.1767 - val_accuracy: 0.9231\n",
            "Epoch 208/500\n",
            "4/4 [==============================] - 0s 10ms/step - loss: 0.1118 - accuracy: 0.9505 - val_loss: 0.3035 - val_accuracy: 0.8901\n",
            "Epoch 209/500\n",
            "4/4 [==============================] - 0s 11ms/step - loss: 0.1145 - accuracy: 0.9588 - val_loss: 0.1737 - val_accuracy: 0.9231\n",
            "Epoch 210/500\n",
            "4/4 [==============================] - 0s 11ms/step - loss: 0.1252 - accuracy: 0.9478 - val_loss: 0.1723 - val_accuracy: 0.9231\n",
            "Epoch 211/500\n",
            "4/4 [==============================] - 0s 10ms/step - loss: 0.1051 - accuracy: 0.9533 - val_loss: 0.1897 - val_accuracy: 0.9231\n",
            "Epoch 212/500\n",
            "4/4 [==============================] - 0s 10ms/step - loss: 0.0926 - accuracy: 0.9615 - val_loss: 0.1746 - val_accuracy: 0.9341\n",
            "Epoch 213/500\n",
            "4/4 [==============================] - 0s 11ms/step - loss: 0.0964 - accuracy: 0.9615 - val_loss: 0.2302 - val_accuracy: 0.9341\n",
            "Epoch 214/500\n",
            "4/4 [==============================] - 0s 10ms/step - loss: 0.1206 - accuracy: 0.9588 - val_loss: 0.1995 - val_accuracy: 0.9341\n",
            "Epoch 215/500\n",
            "4/4 [==============================] - 0s 10ms/step - loss: 0.1088 - accuracy: 0.9560 - val_loss: 0.1707 - val_accuracy: 0.9231\n",
            "Epoch 216/500\n",
            "4/4 [==============================] - 0s 10ms/step - loss: 0.1024 - accuracy: 0.9615 - val_loss: 0.1682 - val_accuracy: 0.9341\n",
            "Epoch 217/500\n",
            "4/4 [==============================] - 0s 12ms/step - loss: 0.1125 - accuracy: 0.9588 - val_loss: 0.2166 - val_accuracy: 0.9341\n",
            "Epoch 218/500\n",
            "4/4 [==============================] - 0s 10ms/step - loss: 0.1217 - accuracy: 0.9560 - val_loss: 0.2002 - val_accuracy: 0.9341\n",
            "Epoch 219/500\n",
            "4/4 [==============================] - 0s 11ms/step - loss: 0.0984 - accuracy: 0.9588 - val_loss: 0.1673 - val_accuracy: 0.9341\n",
            "Epoch 220/500\n",
            "4/4 [==============================] - 0s 9ms/step - loss: 0.0943 - accuracy: 0.9698 - val_loss: 0.2284 - val_accuracy: 0.9341\n",
            "Epoch 221/500\n",
            "4/4 [==============================] - 0s 10ms/step - loss: 0.1108 - accuracy: 0.9533 - val_loss: 0.2017 - val_accuracy: 0.9341\n",
            "Epoch 222/500\n",
            "4/4 [==============================] - 0s 10ms/step - loss: 0.0939 - accuracy: 0.9643 - val_loss: 0.1728 - val_accuracy: 0.9341\n",
            "Epoch 223/500\n",
            "4/4 [==============================] - 0s 10ms/step - loss: 0.1051 - accuracy: 0.9615 - val_loss: 0.1861 - val_accuracy: 0.9231\n",
            "Epoch 224/500\n",
            "4/4 [==============================] - 0s 10ms/step - loss: 0.0875 - accuracy: 0.9615 - val_loss: 0.1666 - val_accuracy: 0.9341\n",
            "Epoch 225/500\n",
            "4/4 [==============================] - 0s 11ms/step - loss: 0.1123 - accuracy: 0.9505 - val_loss: 0.1840 - val_accuracy: 0.9231\n",
            "Epoch 226/500\n",
            "4/4 [==============================] - 0s 10ms/step - loss: 0.1021 - accuracy: 0.9588 - val_loss: 0.1996 - val_accuracy: 0.9341\n",
            "Epoch 227/500\n",
            "4/4 [==============================] - 0s 11ms/step - loss: 0.1107 - accuracy: 0.9505 - val_loss: 0.2567 - val_accuracy: 0.9451\n",
            "Epoch 228/500\n",
            "4/4 [==============================] - 0s 12ms/step - loss: 0.2096 - accuracy: 0.9203 - val_loss: 0.1624 - val_accuracy: 0.9341\n",
            "Epoch 229/500\n",
            "4/4 [==============================] - 0s 10ms/step - loss: 0.1354 - accuracy: 0.9533 - val_loss: 0.2114 - val_accuracy: 0.9341\n",
            "Epoch 230/500\n",
            "4/4 [==============================] - 0s 11ms/step - loss: 0.0990 - accuracy: 0.9533 - val_loss: 0.1695 - val_accuracy: 0.9341\n",
            "Epoch 231/500\n",
            "4/4 [==============================] - 0s 10ms/step - loss: 0.1081 - accuracy: 0.9588 - val_loss: 0.2037 - val_accuracy: 0.9341\n",
            "Epoch 232/500\n",
            "4/4 [==============================] - 0s 10ms/step - loss: 0.1067 - accuracy: 0.9560 - val_loss: 0.2091 - val_accuracy: 0.9341\n",
            "Epoch 233/500\n",
            "4/4 [==============================] - 0s 10ms/step - loss: 0.0985 - accuracy: 0.9533 - val_loss: 0.1794 - val_accuracy: 0.9341\n",
            "Epoch 234/500\n",
            "4/4 [==============================] - 0s 10ms/step - loss: 0.0936 - accuracy: 0.9615 - val_loss: 0.2217 - val_accuracy: 0.9341\n",
            "Epoch 235/500\n",
            "4/4 [==============================] - 0s 10ms/step - loss: 0.1052 - accuracy: 0.9505 - val_loss: 0.2348 - val_accuracy: 0.9341\n",
            "Epoch 236/500\n",
            "4/4 [==============================] - 0s 10ms/step - loss: 0.1278 - accuracy: 0.9478 - val_loss: 0.1888 - val_accuracy: 0.9231\n",
            "Epoch 237/500\n",
            "4/4 [==============================] - 0s 11ms/step - loss: 0.1223 - accuracy: 0.9423 - val_loss: 0.2206 - val_accuracy: 0.9341\n",
            "Epoch 238/500\n",
            "4/4 [==============================] - 0s 10ms/step - loss: 0.1631 - accuracy: 0.9286 - val_loss: 0.1895 - val_accuracy: 0.9231\n",
            "Epoch 239/500\n",
            "4/4 [==============================] - 0s 11ms/step - loss: 0.1111 - accuracy: 0.9533 - val_loss: 0.2032 - val_accuracy: 0.9231\n",
            "Epoch 240/500\n",
            "4/4 [==============================] - 0s 10ms/step - loss: 0.0922 - accuracy: 0.9588 - val_loss: 0.1729 - val_accuracy: 0.9341\n",
            "Epoch 241/500\n",
            "4/4 [==============================] - 0s 10ms/step - loss: 0.0979 - accuracy: 0.9560 - val_loss: 0.1770 - val_accuracy: 0.9121\n",
            "Epoch 242/500\n",
            "4/4 [==============================] - 0s 10ms/step - loss: 0.0937 - accuracy: 0.9615 - val_loss: 0.1678 - val_accuracy: 0.9341\n",
            "Epoch 243/500\n",
            "4/4 [==============================] - 0s 10ms/step - loss: 0.0909 - accuracy: 0.9670 - val_loss: 0.2061 - val_accuracy: 0.9341\n",
            "Epoch 244/500\n",
            "4/4 [==============================] - 0s 10ms/step - loss: 0.0962 - accuracy: 0.9588 - val_loss: 0.1677 - val_accuracy: 0.9341\n",
            "Epoch 245/500\n",
            "4/4 [==============================] - 0s 10ms/step - loss: 0.0943 - accuracy: 0.9615 - val_loss: 0.2115 - val_accuracy: 0.9341\n",
            "Epoch 246/500\n",
            "4/4 [==============================] - 0s 11ms/step - loss: 0.1121 - accuracy: 0.9588 - val_loss: 0.1762 - val_accuracy: 0.9231\n",
            "Epoch 247/500\n",
            "4/4 [==============================] - 0s 11ms/step - loss: 0.1005 - accuracy: 0.9533 - val_loss: 0.1718 - val_accuracy: 0.9341\n",
            "Epoch 248/500\n",
            "4/4 [==============================] - 0s 10ms/step - loss: 0.1123 - accuracy: 0.9588 - val_loss: 0.1602 - val_accuracy: 0.9231\n",
            "Epoch 249/500\n",
            "4/4 [==============================] - 0s 10ms/step - loss: 0.1140 - accuracy: 0.9478 - val_loss: 0.2327 - val_accuracy: 0.9341\n",
            "Epoch 250/500\n",
            "4/4 [==============================] - 0s 12ms/step - loss: 0.1002 - accuracy: 0.9588 - val_loss: 0.1708 - val_accuracy: 0.9341\n",
            "Epoch 251/500\n",
            "4/4 [==============================] - 0s 11ms/step - loss: 0.1198 - accuracy: 0.9505 - val_loss: 0.1657 - val_accuracy: 0.9231\n",
            "Epoch 252/500\n",
            "4/4 [==============================] - 0s 10ms/step - loss: 0.0899 - accuracy: 0.9670 - val_loss: 0.2094 - val_accuracy: 0.9341\n",
            "Epoch 253/500\n",
            "4/4 [==============================] - 0s 12ms/step - loss: 0.0927 - accuracy: 0.9670 - val_loss: 0.1903 - val_accuracy: 0.9451\n",
            "Epoch 254/500\n",
            "4/4 [==============================] - 0s 10ms/step - loss: 0.1535 - accuracy: 0.9423 - val_loss: 0.2576 - val_accuracy: 0.9231\n",
            "Epoch 255/500\n",
            "4/4 [==============================] - 0s 11ms/step - loss: 0.1228 - accuracy: 0.9560 - val_loss: 0.1653 - val_accuracy: 0.9231\n",
            "Epoch 256/500\n",
            "4/4 [==============================] - 0s 10ms/step - loss: 0.1067 - accuracy: 0.9533 - val_loss: 0.1615 - val_accuracy: 0.9341\n",
            "Epoch 257/500\n",
            "4/4 [==============================] - 0s 10ms/step - loss: 0.1059 - accuracy: 0.9560 - val_loss: 0.1952 - val_accuracy: 0.9231\n",
            "Epoch 258/500\n",
            "4/4 [==============================] - 0s 10ms/step - loss: 0.0857 - accuracy: 0.9698 - val_loss: 0.1786 - val_accuracy: 0.9341\n",
            "Epoch 259/500\n",
            "4/4 [==============================] - 0s 9ms/step - loss: 0.0901 - accuracy: 0.9670 - val_loss: 0.3330 - val_accuracy: 0.9011\n",
            "Epoch 260/500\n",
            "4/4 [==============================] - 0s 10ms/step - loss: 0.1206 - accuracy: 0.9505 - val_loss: 0.2061 - val_accuracy: 0.9231\n",
            "Epoch 261/500\n",
            "4/4 [==============================] - 0s 10ms/step - loss: 0.1221 - accuracy: 0.9505 - val_loss: 0.1938 - val_accuracy: 0.9231\n",
            "Epoch 262/500\n",
            "4/4 [==============================] - 0s 10ms/step - loss: 0.0882 - accuracy: 0.9643 - val_loss: 0.2143 - val_accuracy: 0.9341\n",
            "Epoch 263/500\n",
            "4/4 [==============================] - 0s 10ms/step - loss: 0.0925 - accuracy: 0.9588 - val_loss: 0.1915 - val_accuracy: 0.9341\n",
            "Epoch 264/500\n",
            "4/4 [==============================] - 0s 10ms/step - loss: 0.1302 - accuracy: 0.9396 - val_loss: 0.2233 - val_accuracy: 0.9341\n",
            "Epoch 265/500\n",
            "4/4 [==============================] - 0s 10ms/step - loss: 0.1313 - accuracy: 0.9560 - val_loss: 0.1944 - val_accuracy: 0.9231\n",
            "Epoch 266/500\n",
            "4/4 [==============================] - 0s 11ms/step - loss: 0.1042 - accuracy: 0.9560 - val_loss: 0.1668 - val_accuracy: 0.9341\n",
            "Epoch 267/500\n",
            "4/4 [==============================] - 0s 10ms/step - loss: 0.1024 - accuracy: 0.9615 - val_loss: 0.2043 - val_accuracy: 0.9341\n",
            "Epoch 268/500\n",
            "4/4 [==============================] - 0s 11ms/step - loss: 0.1105 - accuracy: 0.9588 - val_loss: 0.1853 - val_accuracy: 0.9231\n",
            "Epoch 269/500\n",
            "4/4 [==============================] - 0s 11ms/step - loss: 0.1023 - accuracy: 0.9588 - val_loss: 0.1678 - val_accuracy: 0.9341\n",
            "Epoch 270/500\n",
            "4/4 [==============================] - 0s 11ms/step - loss: 0.1020 - accuracy: 0.9533 - val_loss: 0.1907 - val_accuracy: 0.9341\n",
            "Epoch 271/500\n",
            "4/4 [==============================] - 0s 10ms/step - loss: 0.0969 - accuracy: 0.9588 - val_loss: 0.2577 - val_accuracy: 0.9341\n",
            "Epoch 272/500\n",
            "4/4 [==============================] - 0s 14ms/step - loss: 0.1088 - accuracy: 0.9615 - val_loss: 0.1838 - val_accuracy: 0.9231\n",
            "Epoch 273/500\n",
            "4/4 [==============================] - 0s 10ms/step - loss: 0.0929 - accuracy: 0.9615 - val_loss: 0.1865 - val_accuracy: 0.9341\n",
            "Epoch 274/500\n",
            "4/4 [==============================] - 0s 10ms/step - loss: 0.1177 - accuracy: 0.9615 - val_loss: 0.2914 - val_accuracy: 0.9011\n",
            "Epoch 275/500\n",
            "4/4 [==============================] - 0s 11ms/step - loss: 0.1309 - accuracy: 0.9478 - val_loss: 0.1946 - val_accuracy: 0.9341\n",
            "Epoch 276/500\n",
            "4/4 [==============================] - 0s 10ms/step - loss: 0.1033 - accuracy: 0.9505 - val_loss: 0.1671 - val_accuracy: 0.9341\n",
            "Epoch 277/500\n",
            "4/4 [==============================] - 0s 11ms/step - loss: 0.0844 - accuracy: 0.9670 - val_loss: 0.1777 - val_accuracy: 0.9121\n",
            "Epoch 278/500\n",
            "4/4 [==============================] - 0s 10ms/step - loss: 0.0922 - accuracy: 0.9615 - val_loss: 0.1998 - val_accuracy: 0.9341\n",
            "Epoch 279/500\n",
            "4/4 [==============================] - 0s 11ms/step - loss: 0.1061 - accuracy: 0.9615 - val_loss: 0.1685 - val_accuracy: 0.9341\n",
            "Epoch 280/500\n",
            "4/4 [==============================] - 0s 11ms/step - loss: 0.0998 - accuracy: 0.9505 - val_loss: 0.1697 - val_accuracy: 0.9341\n",
            "Epoch 281/500\n",
            "4/4 [==============================] - 0s 11ms/step - loss: 0.1079 - accuracy: 0.9560 - val_loss: 0.2263 - val_accuracy: 0.9341\n",
            "Epoch 282/500\n",
            "4/4 [==============================] - 0s 12ms/step - loss: 0.0843 - accuracy: 0.9643 - val_loss: 0.1830 - val_accuracy: 0.9341\n",
            "Epoch 283/500\n",
            "4/4 [==============================] - 0s 11ms/step - loss: 0.1149 - accuracy: 0.9533 - val_loss: 0.2984 - val_accuracy: 0.8901\n",
            "Epoch 284/500\n",
            "4/4 [==============================] - 0s 11ms/step - loss: 0.1492 - accuracy: 0.9423 - val_loss: 0.2005 - val_accuracy: 0.9341\n",
            "Epoch 285/500\n",
            "4/4 [==============================] - 0s 11ms/step - loss: 0.1299 - accuracy: 0.9588 - val_loss: 0.2114 - val_accuracy: 0.9341\n",
            "Epoch 286/500\n",
            "4/4 [==============================] - 0s 10ms/step - loss: 0.1551 - accuracy: 0.9478 - val_loss: 0.1879 - val_accuracy: 0.9341\n",
            "Epoch 287/500\n",
            "4/4 [==============================] - 0s 10ms/step - loss: 0.1154 - accuracy: 0.9560 - val_loss: 0.2820 - val_accuracy: 0.9341\n",
            "Epoch 288/500\n",
            "4/4 [==============================] - 0s 11ms/step - loss: 0.0970 - accuracy: 0.9588 - val_loss: 0.2074 - val_accuracy: 0.9231\n",
            "Epoch 289/500\n",
            "4/4 [==============================] - 0s 11ms/step - loss: 0.1317 - accuracy: 0.9560 - val_loss: 0.2013 - val_accuracy: 0.9231\n",
            "Epoch 290/500\n",
            "4/4 [==============================] - 0s 11ms/step - loss: 0.0875 - accuracy: 0.9643 - val_loss: 0.1770 - val_accuracy: 0.9231\n",
            "Epoch 291/500\n",
            "4/4 [==============================] - 0s 10ms/step - loss: 0.0830 - accuracy: 0.9615 - val_loss: 0.1598 - val_accuracy: 0.9341\n",
            "Epoch 292/500\n",
            "4/4 [==============================] - 0s 12ms/step - loss: 0.0887 - accuracy: 0.9533 - val_loss: 0.1622 - val_accuracy: 0.9341\n",
            "Epoch 293/500\n",
            "4/4 [==============================] - 0s 14ms/step - loss: 0.1181 - accuracy: 0.9588 - val_loss: 0.4404 - val_accuracy: 0.8681\n",
            "Epoch 294/500\n",
            "4/4 [==============================] - 0s 10ms/step - loss: 0.1691 - accuracy: 0.9368 - val_loss: 0.2646 - val_accuracy: 0.9231\n",
            "Epoch 295/500\n",
            "4/4 [==============================] - 0s 10ms/step - loss: 0.2513 - accuracy: 0.8956 - val_loss: 0.1465 - val_accuracy: 0.9451\n",
            "Epoch 296/500\n",
            "4/4 [==============================] - 0s 10ms/step - loss: 0.1270 - accuracy: 0.9588 - val_loss: 0.2736 - val_accuracy: 0.9341\n",
            "Epoch 297/500\n",
            "4/4 [==============================] - 0s 10ms/step - loss: 0.1189 - accuracy: 0.9505 - val_loss: 0.1460 - val_accuracy: 0.9341\n",
            "Epoch 298/500\n",
            "4/4 [==============================] - 0s 11ms/step - loss: 0.1433 - accuracy: 0.9341 - val_loss: 0.2015 - val_accuracy: 0.9451\n",
            "Epoch 299/500\n",
            "4/4 [==============================] - 0s 11ms/step - loss: 0.1577 - accuracy: 0.9478 - val_loss: 0.4572 - val_accuracy: 0.8681\n",
            "Epoch 300/500\n",
            "4/4 [==============================] - 0s 11ms/step - loss: 0.1534 - accuracy: 0.9286 - val_loss: 0.1679 - val_accuracy: 0.9341\n",
            "Epoch 301/500\n",
            "4/4 [==============================] - 0s 11ms/step - loss: 0.1230 - accuracy: 0.9423 - val_loss: 0.1894 - val_accuracy: 0.9341\n",
            "Epoch 302/500\n",
            "4/4 [==============================] - 0s 11ms/step - loss: 0.2203 - accuracy: 0.9203 - val_loss: 0.7735 - val_accuracy: 0.7912\n",
            "Epoch 303/500\n",
            "4/4 [==============================] - 0s 12ms/step - loss: 0.3226 - accuracy: 0.8984 - val_loss: 0.2781 - val_accuracy: 0.9451\n",
            "Epoch 304/500\n",
            "4/4 [==============================] - 0s 11ms/step - loss: 0.2241 - accuracy: 0.9203 - val_loss: 0.2147 - val_accuracy: 0.9341\n",
            "Epoch 305/500\n",
            "4/4 [==============================] - 0s 11ms/step - loss: 0.2051 - accuracy: 0.9478 - val_loss: 0.2403 - val_accuracy: 0.9231\n",
            "Epoch 306/500\n",
            "4/4 [==============================] - 0s 11ms/step - loss: 0.1806 - accuracy: 0.9396 - val_loss: 0.2394 - val_accuracy: 0.9231\n",
            "Epoch 307/500\n",
            "4/4 [==============================] - 0s 12ms/step - loss: 0.1729 - accuracy: 0.9423 - val_loss: 0.2606 - val_accuracy: 0.9341\n",
            "Epoch 308/500\n",
            "4/4 [==============================] - 0s 10ms/step - loss: 0.1047 - accuracy: 0.9560 - val_loss: 0.2305 - val_accuracy: 0.9341\n",
            "Epoch 309/500\n",
            "4/4 [==============================] - 0s 10ms/step - loss: 0.1003 - accuracy: 0.9670 - val_loss: 0.2892 - val_accuracy: 0.9341\n",
            "Epoch 310/500\n",
            "4/4 [==============================] - 0s 10ms/step - loss: 0.1119 - accuracy: 0.9533 - val_loss: 0.2394 - val_accuracy: 0.9231\n",
            "Epoch 311/500\n",
            "4/4 [==============================] - 0s 10ms/step - loss: 0.0985 - accuracy: 0.9615 - val_loss: 0.2140 - val_accuracy: 0.9231\n",
            "Epoch 312/500\n",
            "4/4 [==============================] - 0s 13ms/step - loss: 0.1148 - accuracy: 0.9533 - val_loss: 0.3257 - val_accuracy: 0.9121\n",
            "Epoch 313/500\n",
            "4/4 [==============================] - 0s 11ms/step - loss: 0.1363 - accuracy: 0.9478 - val_loss: 0.2039 - val_accuracy: 0.9341\n",
            "Epoch 314/500\n",
            "4/4 [==============================] - 0s 12ms/step - loss: 0.1330 - accuracy: 0.9396 - val_loss: 0.2013 - val_accuracy: 0.9341\n",
            "Epoch 315/500\n",
            "4/4 [==============================] - 0s 11ms/step - loss: 0.1720 - accuracy: 0.9368 - val_loss: 0.3547 - val_accuracy: 0.9121\n",
            "Epoch 316/500\n",
            "4/4 [==============================] - 0s 11ms/step - loss: 0.1430 - accuracy: 0.9396 - val_loss: 0.2429 - val_accuracy: 0.9560\n",
            "Epoch 317/500\n",
            "4/4 [==============================] - 0s 11ms/step - loss: 0.1548 - accuracy: 0.9396 - val_loss: 0.3115 - val_accuracy: 0.9341\n",
            "Epoch 318/500\n",
            "4/4 [==============================] - 0s 11ms/step - loss: 0.1023 - accuracy: 0.9588 - val_loss: 0.1933 - val_accuracy: 0.9341\n",
            "Epoch 319/500\n",
            "4/4 [==============================] - 0s 12ms/step - loss: 0.1121 - accuracy: 0.9478 - val_loss: 0.2114 - val_accuracy: 0.9231\n",
            "Epoch 320/500\n",
            "4/4 [==============================] - 0s 11ms/step - loss: 0.0997 - accuracy: 0.9615 - val_loss: 0.1986 - val_accuracy: 0.9231\n",
            "Epoch 321/500\n",
            "4/4 [==============================] - 0s 13ms/step - loss: 0.0984 - accuracy: 0.9560 - val_loss: 0.2124 - val_accuracy: 0.9121\n",
            "Epoch 322/500\n",
            "4/4 [==============================] - 0s 11ms/step - loss: 0.0808 - accuracy: 0.9643 - val_loss: 0.1934 - val_accuracy: 0.9341\n",
            "Epoch 323/500\n",
            "4/4 [==============================] - 0s 11ms/step - loss: 0.0877 - accuracy: 0.9615 - val_loss: 0.1831 - val_accuracy: 0.9341\n",
            "Epoch 324/500\n",
            "4/4 [==============================] - 0s 11ms/step - loss: 0.0897 - accuracy: 0.9643 - val_loss: 0.1738 - val_accuracy: 0.9231\n",
            "Epoch 325/500\n",
            "4/4 [==============================] - 0s 11ms/step - loss: 0.0841 - accuracy: 0.9615 - val_loss: 0.1838 - val_accuracy: 0.9231\n",
            "Epoch 326/500\n",
            "4/4 [==============================] - 0s 11ms/step - loss: 0.0824 - accuracy: 0.9698 - val_loss: 0.1976 - val_accuracy: 0.9341\n",
            "Epoch 327/500\n",
            "4/4 [==============================] - 0s 11ms/step - loss: 0.0889 - accuracy: 0.9588 - val_loss: 0.1663 - val_accuracy: 0.9341\n",
            "Epoch 328/500\n",
            "4/4 [==============================] - 0s 10ms/step - loss: 0.1188 - accuracy: 0.9478 - val_loss: 0.1986 - val_accuracy: 0.9560\n",
            "Epoch 329/500\n",
            "4/4 [==============================] - 0s 11ms/step - loss: 0.1466 - accuracy: 0.9368 - val_loss: 0.1810 - val_accuracy: 0.9341\n",
            "Epoch 330/500\n",
            "4/4 [==============================] - 0s 12ms/step - loss: 0.1083 - accuracy: 0.9643 - val_loss: 0.1887 - val_accuracy: 0.9341\n",
            "Epoch 331/500\n",
            "4/4 [==============================] - 0s 11ms/step - loss: 0.0790 - accuracy: 0.9643 - val_loss: 0.1583 - val_accuracy: 0.9341\n",
            "Epoch 332/500\n",
            "4/4 [==============================] - 0s 11ms/step - loss: 0.0906 - accuracy: 0.9643 - val_loss: 0.1787 - val_accuracy: 0.9341\n",
            "Epoch 333/500\n",
            "4/4 [==============================] - 0s 11ms/step - loss: 0.0869 - accuracy: 0.9643 - val_loss: 0.1946 - val_accuracy: 0.9341\n",
            "Epoch 334/500\n",
            "4/4 [==============================] - 0s 14ms/step - loss: 0.1058 - accuracy: 0.9478 - val_loss: 0.1980 - val_accuracy: 0.9560\n",
            "Epoch 335/500\n",
            "4/4 [==============================] - 0s 11ms/step - loss: 0.1043 - accuracy: 0.9615 - val_loss: 0.2337 - val_accuracy: 0.9341\n",
            "Epoch 336/500\n",
            "4/4 [==============================] - 0s 10ms/step - loss: 0.1221 - accuracy: 0.9560 - val_loss: 0.1467 - val_accuracy: 0.9231\n",
            "Epoch 337/500\n",
            "4/4 [==============================] - 0s 11ms/step - loss: 0.1008 - accuracy: 0.9560 - val_loss: 0.1496 - val_accuracy: 0.9341\n",
            "Epoch 338/500\n",
            "4/4 [==============================] - 0s 12ms/step - loss: 0.0890 - accuracy: 0.9698 - val_loss: 0.1903 - val_accuracy: 0.9341\n",
            "Epoch 339/500\n",
            "4/4 [==============================] - 0s 11ms/step - loss: 0.0914 - accuracy: 0.9643 - val_loss: 0.1972 - val_accuracy: 0.9341\n",
            "Epoch 340/500\n",
            "4/4 [==============================] - 0s 11ms/step - loss: 0.1019 - accuracy: 0.9615 - val_loss: 0.1695 - val_accuracy: 0.9341\n",
            "Epoch 341/500\n",
            "4/4 [==============================] - 0s 11ms/step - loss: 0.1029 - accuracy: 0.9643 - val_loss: 0.1599 - val_accuracy: 0.9341\n",
            "Epoch 342/500\n",
            "4/4 [==============================] - 0s 11ms/step - loss: 0.0904 - accuracy: 0.9588 - val_loss: 0.3070 - val_accuracy: 0.9011\n",
            "Epoch 343/500\n",
            "4/4 [==============================] - 0s 11ms/step - loss: 0.1562 - accuracy: 0.9423 - val_loss: 0.1592 - val_accuracy: 0.9231\n",
            "Epoch 344/500\n",
            "4/4 [==============================] - 0s 12ms/step - loss: 0.1264 - accuracy: 0.9505 - val_loss: 0.2178 - val_accuracy: 0.9560\n",
            "Epoch 345/500\n",
            "4/4 [==============================] - 0s 11ms/step - loss: 0.1396 - accuracy: 0.9560 - val_loss: 0.3734 - val_accuracy: 0.8791\n",
            "Epoch 346/500\n",
            "4/4 [==============================] - 0s 11ms/step - loss: 0.1510 - accuracy: 0.9451 - val_loss: 0.2156 - val_accuracy: 0.9560\n",
            "Epoch 347/500\n",
            "4/4 [==============================] - 0s 11ms/step - loss: 0.1485 - accuracy: 0.9396 - val_loss: 0.1616 - val_accuracy: 0.9341\n",
            "Epoch 348/500\n",
            "4/4 [==============================] - 0s 12ms/step - loss: 0.2639 - accuracy: 0.9258 - val_loss: 0.4879 - val_accuracy: 0.8681\n",
            "Epoch 349/500\n",
            "4/4 [==============================] - 0s 12ms/step - loss: 0.2057 - accuracy: 0.9286 - val_loss: 0.2090 - val_accuracy: 0.9341\n",
            "Epoch 350/500\n",
            "4/4 [==============================] - 0s 12ms/step - loss: 0.1294 - accuracy: 0.9478 - val_loss: 0.2084 - val_accuracy: 0.9341\n",
            "Epoch 351/500\n",
            "4/4 [==============================] - 0s 13ms/step - loss: 0.1560 - accuracy: 0.9505 - val_loss: 0.3812 - val_accuracy: 0.8901\n",
            "Epoch 352/500\n",
            "4/4 [==============================] - 0s 17ms/step - loss: 0.2557 - accuracy: 0.9011 - val_loss: 0.2962 - val_accuracy: 0.9451\n",
            "Epoch 353/500\n",
            "4/4 [==============================] - 0s 12ms/step - loss: 0.2071 - accuracy: 0.9396 - val_loss: 0.2588 - val_accuracy: 0.9341\n",
            "Epoch 354/500\n",
            "4/4 [==============================] - 0s 13ms/step - loss: 0.1509 - accuracy: 0.9505 - val_loss: 0.1980 - val_accuracy: 0.9231\n",
            "Epoch 355/500\n",
            "4/4 [==============================] - 0s 11ms/step - loss: 0.1061 - accuracy: 0.9423 - val_loss: 0.2085 - val_accuracy: 0.9231\n",
            "Epoch 356/500\n",
            "4/4 [==============================] - 0s 10ms/step - loss: 0.1055 - accuracy: 0.9615 - val_loss: 0.2319 - val_accuracy: 0.9341\n",
            "Epoch 357/500\n",
            "4/4 [==============================] - 0s 10ms/step - loss: 0.0938 - accuracy: 0.9615 - val_loss: 0.1974 - val_accuracy: 0.9341\n",
            "Epoch 358/500\n",
            "4/4 [==============================] - 0s 11ms/step - loss: 0.0884 - accuracy: 0.9698 - val_loss: 0.2329 - val_accuracy: 0.9341\n",
            "Epoch 359/500\n",
            "4/4 [==============================] - 0s 12ms/step - loss: 0.0751 - accuracy: 0.9643 - val_loss: 0.1699 - val_accuracy: 0.9341\n",
            "Epoch 360/500\n",
            "4/4 [==============================] - 0s 10ms/step - loss: 0.0996 - accuracy: 0.9615 - val_loss: 0.1638 - val_accuracy: 0.9231\n",
            "Epoch 361/500\n",
            "4/4 [==============================] - 0s 10ms/step - loss: 0.0982 - accuracy: 0.9615 - val_loss: 0.2075 - val_accuracy: 0.9341\n",
            "Epoch 362/500\n",
            "4/4 [==============================] - 0s 15ms/step - loss: 0.0837 - accuracy: 0.9698 - val_loss: 0.1675 - val_accuracy: 0.9231\n",
            "Epoch 363/500\n",
            "4/4 [==============================] - 0s 11ms/step - loss: 0.0964 - accuracy: 0.9560 - val_loss: 0.1850 - val_accuracy: 0.9451\n",
            "Epoch 364/500\n",
            "4/4 [==============================] - 0s 11ms/step - loss: 0.0914 - accuracy: 0.9698 - val_loss: 0.2974 - val_accuracy: 0.9011\n",
            "Epoch 365/500\n",
            "4/4 [==============================] - 0s 11ms/step - loss: 0.1245 - accuracy: 0.9451 - val_loss: 0.1721 - val_accuracy: 0.9121\n",
            "Epoch 366/500\n",
            "4/4 [==============================] - 0s 10ms/step - loss: 0.0920 - accuracy: 0.9505 - val_loss: 0.1812 - val_accuracy: 0.9560\n",
            "Epoch 367/500\n",
            "4/4 [==============================] - 0s 10ms/step - loss: 0.1198 - accuracy: 0.9478 - val_loss: 0.2133 - val_accuracy: 0.9341\n",
            "Epoch 368/500\n",
            "4/4 [==============================] - 0s 10ms/step - loss: 0.1002 - accuracy: 0.9643 - val_loss: 0.1558 - val_accuracy: 0.9231\n",
            "Epoch 369/500\n",
            "4/4 [==============================] - 0s 11ms/step - loss: 0.0777 - accuracy: 0.9670 - val_loss: 0.1560 - val_accuracy: 0.9231\n",
            "Epoch 370/500\n",
            "4/4 [==============================] - 0s 11ms/step - loss: 0.0824 - accuracy: 0.9670 - val_loss: 0.2104 - val_accuracy: 0.9341\n",
            "Epoch 371/500\n",
            "4/4 [==============================] - 0s 11ms/step - loss: 0.0836 - accuracy: 0.9698 - val_loss: 0.1557 - val_accuracy: 0.9231\n",
            "Epoch 372/500\n",
            "4/4 [==============================] - 0s 10ms/step - loss: 0.0773 - accuracy: 0.9615 - val_loss: 0.1643 - val_accuracy: 0.9231\n",
            "Epoch 373/500\n",
            "4/4 [==============================] - 0s 11ms/step - loss: 0.0739 - accuracy: 0.9670 - val_loss: 0.1783 - val_accuracy: 0.9341\n",
            "Epoch 374/500\n",
            "4/4 [==============================] - 0s 11ms/step - loss: 0.0710 - accuracy: 0.9615 - val_loss: 0.1602 - val_accuracy: 0.9231\n",
            "Epoch 375/500\n",
            "4/4 [==============================] - 0s 13ms/step - loss: 0.0750 - accuracy: 0.9670 - val_loss: 0.2056 - val_accuracy: 0.9341\n",
            "Epoch 376/500\n",
            "4/4 [==============================] - 0s 10ms/step - loss: 0.0821 - accuracy: 0.9698 - val_loss: 0.1650 - val_accuracy: 0.9341\n",
            "Epoch 377/500\n",
            "4/4 [==============================] - 0s 12ms/step - loss: 0.0728 - accuracy: 0.9725 - val_loss: 0.2164 - val_accuracy: 0.9341\n",
            "Epoch 378/500\n",
            "4/4 [==============================] - 0s 11ms/step - loss: 0.1001 - accuracy: 0.9560 - val_loss: 0.2280 - val_accuracy: 0.9341\n",
            "Epoch 379/500\n",
            "4/4 [==============================] - 0s 11ms/step - loss: 0.1191 - accuracy: 0.9478 - val_loss: 0.1847 - val_accuracy: 0.9560\n",
            "Epoch 380/500\n",
            "4/4 [==============================] - 0s 10ms/step - loss: 0.1380 - accuracy: 0.9313 - val_loss: 0.1560 - val_accuracy: 0.9341\n",
            "Epoch 381/500\n",
            "4/4 [==============================] - 0s 10ms/step - loss: 0.1373 - accuracy: 0.9533 - val_loss: 0.3908 - val_accuracy: 0.8791\n",
            "Epoch 382/500\n",
            "4/4 [==============================] - 0s 11ms/step - loss: 0.1584 - accuracy: 0.9313 - val_loss: 0.1806 - val_accuracy: 0.9560\n",
            "Epoch 383/500\n",
            "4/4 [==============================] - 0s 11ms/step - loss: 0.1428 - accuracy: 0.9368 - val_loss: 0.1477 - val_accuracy: 0.9341\n",
            "Epoch 384/500\n",
            "4/4 [==============================] - 0s 12ms/step - loss: 0.1245 - accuracy: 0.9505 - val_loss: 0.2548 - val_accuracy: 0.9231\n",
            "Epoch 385/500\n",
            "4/4 [==============================] - 0s 11ms/step - loss: 0.0956 - accuracy: 0.9560 - val_loss: 0.1555 - val_accuracy: 0.9341\n",
            "Epoch 386/500\n",
            "4/4 [==============================] - 0s 11ms/step - loss: 0.1051 - accuracy: 0.9588 - val_loss: 0.1726 - val_accuracy: 0.9341\n",
            "Epoch 387/500\n",
            "4/4 [==============================] - 0s 12ms/step - loss: 0.1136 - accuracy: 0.9560 - val_loss: 0.2037 - val_accuracy: 0.9341\n",
            "Epoch 388/500\n",
            "4/4 [==============================] - 0s 11ms/step - loss: 0.0931 - accuracy: 0.9588 - val_loss: 0.2096 - val_accuracy: 0.9341\n",
            "Epoch 389/500\n",
            "4/4 [==============================] - 0s 11ms/step - loss: 0.0766 - accuracy: 0.9615 - val_loss: 0.1829 - val_accuracy: 0.9341\n",
            "Epoch 390/500\n",
            "4/4 [==============================] - 0s 11ms/step - loss: 0.0750 - accuracy: 0.9615 - val_loss: 0.1565 - val_accuracy: 0.9341\n",
            "Epoch 391/500\n",
            "4/4 [==============================] - 0s 10ms/step - loss: 0.0753 - accuracy: 0.9698 - val_loss: 0.1712 - val_accuracy: 0.9231\n",
            "Epoch 392/500\n",
            "4/4 [==============================] - 0s 11ms/step - loss: 0.0675 - accuracy: 0.9725 - val_loss: 0.1526 - val_accuracy: 0.9341\n",
            "Epoch 393/500\n",
            "4/4 [==============================] - 0s 10ms/step - loss: 0.0756 - accuracy: 0.9698 - val_loss: 0.2018 - val_accuracy: 0.9341\n",
            "Epoch 394/500\n",
            "4/4 [==============================] - 0s 12ms/step - loss: 0.0678 - accuracy: 0.9725 - val_loss: 0.1644 - val_accuracy: 0.9451\n",
            "Epoch 395/500\n",
            "4/4 [==============================] - 0s 12ms/step - loss: 0.0777 - accuracy: 0.9588 - val_loss: 0.2418 - val_accuracy: 0.9231\n",
            "Epoch 396/500\n",
            "4/4 [==============================] - 0s 10ms/step - loss: 0.0912 - accuracy: 0.9560 - val_loss: 0.1644 - val_accuracy: 0.9231\n",
            "Epoch 397/500\n",
            "4/4 [==============================] - 0s 11ms/step - loss: 0.0722 - accuracy: 0.9670 - val_loss: 0.1628 - val_accuracy: 0.9231\n",
            "Epoch 398/500\n",
            "4/4 [==============================] - 0s 12ms/step - loss: 0.0826 - accuracy: 0.9615 - val_loss: 0.1803 - val_accuracy: 0.9451\n",
            "Epoch 399/500\n",
            "4/4 [==============================] - 0s 10ms/step - loss: 0.0667 - accuracy: 0.9753 - val_loss: 0.1603 - val_accuracy: 0.9341\n",
            "Epoch 400/500\n",
            "4/4 [==============================] - 0s 12ms/step - loss: 0.0780 - accuracy: 0.9643 - val_loss: 0.1787 - val_accuracy: 0.9451\n",
            "Epoch 401/500\n",
            "4/4 [==============================] - 0s 10ms/step - loss: 0.0897 - accuracy: 0.9588 - val_loss: 0.2701 - val_accuracy: 0.9011\n",
            "Epoch 402/500\n",
            "4/4 [==============================] - 0s 11ms/step - loss: 0.1270 - accuracy: 0.9423 - val_loss: 0.1530 - val_accuracy: 0.9341\n",
            "Epoch 403/500\n",
            "4/4 [==============================] - 0s 11ms/step - loss: 0.0911 - accuracy: 0.9588 - val_loss: 0.1781 - val_accuracy: 0.9560\n",
            "Epoch 404/500\n",
            "4/4 [==============================] - 0s 11ms/step - loss: 0.1064 - accuracy: 0.9615 - val_loss: 0.2415 - val_accuracy: 0.9121\n",
            "Epoch 405/500\n",
            "4/4 [==============================] - 0s 11ms/step - loss: 0.0814 - accuracy: 0.9698 - val_loss: 0.1491 - val_accuracy: 0.9341\n",
            "Epoch 406/500\n",
            "4/4 [==============================] - 0s 10ms/step - loss: 0.0692 - accuracy: 0.9643 - val_loss: 0.1948 - val_accuracy: 0.9341\n",
            "Epoch 407/500\n",
            "4/4 [==============================] - 0s 11ms/step - loss: 0.1113 - accuracy: 0.9588 - val_loss: 0.2999 - val_accuracy: 0.8791\n",
            "Epoch 408/500\n",
            "4/4 [==============================] - 0s 11ms/step - loss: 0.0953 - accuracy: 0.9698 - val_loss: 0.2591 - val_accuracy: 0.9560\n",
            "Epoch 409/500\n",
            "4/4 [==============================] - 0s 11ms/step - loss: 0.1581 - accuracy: 0.9368 - val_loss: 0.1487 - val_accuracy: 0.9341\n",
            "Epoch 410/500\n",
            "4/4 [==============================] - 0s 11ms/step - loss: 0.1588 - accuracy: 0.9478 - val_loss: 0.2960 - val_accuracy: 0.9231\n",
            "Epoch 411/500\n",
            "4/4 [==============================] - 0s 11ms/step - loss: 0.1373 - accuracy: 0.9451 - val_loss: 0.1928 - val_accuracy: 0.9560\n",
            "Epoch 412/500\n",
            "4/4 [==============================] - 0s 11ms/step - loss: 0.1093 - accuracy: 0.9615 - val_loss: 0.1512 - val_accuracy: 0.9231\n",
            "Epoch 413/500\n",
            "4/4 [==============================] - 0s 12ms/step - loss: 0.1034 - accuracy: 0.9643 - val_loss: 0.2103 - val_accuracy: 0.9341\n",
            "Epoch 414/500\n",
            "4/4 [==============================] - 0s 11ms/step - loss: 0.1613 - accuracy: 0.9396 - val_loss: 0.3373 - val_accuracy: 0.9231\n",
            "Epoch 415/500\n",
            "4/4 [==============================] - 0s 11ms/step - loss: 0.1623 - accuracy: 0.9451 - val_loss: 0.2445 - val_accuracy: 0.9451\n",
            "Epoch 416/500\n",
            "4/4 [==============================] - 0s 13ms/step - loss: 0.1255 - accuracy: 0.9505 - val_loss: 0.1642 - val_accuracy: 0.9231\n",
            "Epoch 417/500\n",
            "4/4 [==============================] - 0s 11ms/step - loss: 0.1610 - accuracy: 0.9341 - val_loss: 0.2961 - val_accuracy: 0.9560\n",
            "Epoch 418/500\n",
            "4/4 [==============================] - 0s 10ms/step - loss: 0.1787 - accuracy: 0.9368 - val_loss: 0.8166 - val_accuracy: 0.8022\n",
            "Epoch 419/500\n",
            "4/4 [==============================] - 0s 11ms/step - loss: 0.2982 - accuracy: 0.9093 - val_loss: 0.2637 - val_accuracy: 0.9560\n",
            "Epoch 420/500\n",
            "4/4 [==============================] - 0s 12ms/step - loss: 0.1647 - accuracy: 0.9423 - val_loss: 0.3187 - val_accuracy: 0.9231\n",
            "Epoch 421/500\n",
            "4/4 [==============================] - 0s 10ms/step - loss: 0.1279 - accuracy: 0.9588 - val_loss: 0.1972 - val_accuracy: 0.9341\n",
            "Epoch 422/500\n",
            "4/4 [==============================] - 0s 10ms/step - loss: 0.1088 - accuracy: 0.9643 - val_loss: 0.2216 - val_accuracy: 0.9231\n",
            "Epoch 423/500\n",
            "4/4 [==============================] - 0s 11ms/step - loss: 0.1299 - accuracy: 0.9588 - val_loss: 0.2545 - val_accuracy: 0.9341\n",
            "Epoch 424/500\n",
            "4/4 [==============================] - 0s 10ms/step - loss: 0.1309 - accuracy: 0.9505 - val_loss: 0.1882 - val_accuracy: 0.9341\n",
            "Epoch 425/500\n",
            "4/4 [==============================] - 0s 11ms/step - loss: 0.0965 - accuracy: 0.9670 - val_loss: 0.2638 - val_accuracy: 0.9341\n",
            "Epoch 426/500\n",
            "4/4 [==============================] - 0s 12ms/step - loss: 0.0912 - accuracy: 0.9533 - val_loss: 0.2046 - val_accuracy: 0.9341\n",
            "Epoch 427/500\n",
            "4/4 [==============================] - 0s 11ms/step - loss: 0.0858 - accuracy: 0.9670 - val_loss: 0.3685 - val_accuracy: 0.8901\n",
            "Epoch 428/500\n",
            "4/4 [==============================] - 0s 10ms/step - loss: 0.1467 - accuracy: 0.9423 - val_loss: 0.1866 - val_accuracy: 0.9231\n",
            "Epoch 429/500\n",
            "4/4 [==============================] - 0s 11ms/step - loss: 0.0937 - accuracy: 0.9588 - val_loss: 0.1835 - val_accuracy: 0.9231\n",
            "Epoch 430/500\n",
            "4/4 [==============================] - 0s 10ms/step - loss: 0.0677 - accuracy: 0.9698 - val_loss: 0.1847 - val_accuracy: 0.9231\n",
            "Epoch 431/500\n",
            "4/4 [==============================] - 0s 10ms/step - loss: 0.0725 - accuracy: 0.9698 - val_loss: 0.2276 - val_accuracy: 0.9341\n",
            "Epoch 432/500\n",
            "4/4 [==============================] - 0s 13ms/step - loss: 0.0772 - accuracy: 0.9670 - val_loss: 0.1776 - val_accuracy: 0.9341\n",
            "Epoch 433/500\n",
            "4/4 [==============================] - 0s 11ms/step - loss: 0.0646 - accuracy: 0.9725 - val_loss: 0.1670 - val_accuracy: 0.9341\n",
            "Epoch 434/500\n",
            "4/4 [==============================] - 0s 11ms/step - loss: 0.0670 - accuracy: 0.9670 - val_loss: 0.1702 - val_accuracy: 0.9341\n",
            "Epoch 435/500\n",
            "4/4 [==============================] - 0s 12ms/step - loss: 0.0675 - accuracy: 0.9670 - val_loss: 0.1551 - val_accuracy: 0.9231\n",
            "Epoch 436/500\n",
            "4/4 [==============================] - 0s 12ms/step - loss: 0.0638 - accuracy: 0.9753 - val_loss: 0.1906 - val_accuracy: 0.9341\n",
            "Epoch 437/500\n",
            "4/4 [==============================] - 0s 13ms/step - loss: 0.0686 - accuracy: 0.9615 - val_loss: 0.1635 - val_accuracy: 0.9341\n",
            "Epoch 438/500\n",
            "4/4 [==============================] - 0s 10ms/step - loss: 0.0691 - accuracy: 0.9698 - val_loss: 0.2284 - val_accuracy: 0.9121\n",
            "Epoch 439/500\n",
            "4/4 [==============================] - 0s 12ms/step - loss: 0.0638 - accuracy: 0.9753 - val_loss: 0.1629 - val_accuracy: 0.9341\n",
            "Epoch 440/500\n",
            "4/4 [==============================] - 0s 10ms/step - loss: 0.0783 - accuracy: 0.9753 - val_loss: 0.2372 - val_accuracy: 0.9231\n",
            "Epoch 441/500\n",
            "4/4 [==============================] - 0s 11ms/step - loss: 0.0665 - accuracy: 0.9698 - val_loss: 0.1743 - val_accuracy: 0.9560\n",
            "Epoch 442/500\n",
            "4/4 [==============================] - 0s 11ms/step - loss: 0.0853 - accuracy: 0.9643 - val_loss: 0.1751 - val_accuracy: 0.9341\n",
            "Epoch 443/500\n",
            "4/4 [==============================] - 0s 11ms/step - loss: 0.0877 - accuracy: 0.9698 - val_loss: 0.2091 - val_accuracy: 0.9231\n",
            "Epoch 444/500\n",
            "4/4 [==============================] - 0s 11ms/step - loss: 0.0905 - accuracy: 0.9670 - val_loss: 0.1592 - val_accuracy: 0.9341\n",
            "Epoch 445/500\n",
            "4/4 [==============================] - 0s 11ms/step - loss: 0.0884 - accuracy: 0.9588 - val_loss: 0.1532 - val_accuracy: 0.9231\n",
            "Epoch 446/500\n",
            "4/4 [==============================] - 0s 12ms/step - loss: 0.0689 - accuracy: 0.9670 - val_loss: 0.1536 - val_accuracy: 0.9231\n",
            "Epoch 447/500\n",
            "4/4 [==============================] - 0s 11ms/step - loss: 0.0760 - accuracy: 0.9615 - val_loss: 0.1919 - val_accuracy: 0.9560\n",
            "Epoch 448/500\n",
            "4/4 [==============================] - 0s 11ms/step - loss: 0.0944 - accuracy: 0.9670 - val_loss: 0.2427 - val_accuracy: 0.9121\n",
            "Epoch 449/500\n",
            "4/4 [==============================] - 0s 15ms/step - loss: 0.0718 - accuracy: 0.9725 - val_loss: 0.1616 - val_accuracy: 0.9341\n",
            "Epoch 450/500\n",
            "4/4 [==============================] - 0s 11ms/step - loss: 0.0817 - accuracy: 0.9698 - val_loss: 0.1537 - val_accuracy: 0.9341\n",
            "Epoch 451/500\n",
            "4/4 [==============================] - 0s 10ms/step - loss: 0.0817 - accuracy: 0.9698 - val_loss: 0.1888 - val_accuracy: 0.9231\n",
            "Epoch 452/500\n",
            "4/4 [==============================] - 0s 13ms/step - loss: 0.0704 - accuracy: 0.9725 - val_loss: 0.1541 - val_accuracy: 0.9231\n",
            "Epoch 453/500\n",
            "4/4 [==============================] - 0s 10ms/step - loss: 0.0943 - accuracy: 0.9560 - val_loss: 0.1738 - val_accuracy: 0.9341\n",
            "Epoch 454/500\n",
            "4/4 [==============================] - 0s 10ms/step - loss: 0.0876 - accuracy: 0.9615 - val_loss: 0.1680 - val_accuracy: 0.9231\n",
            "Epoch 455/500\n",
            "4/4 [==============================] - 0s 12ms/step - loss: 0.0758 - accuracy: 0.9698 - val_loss: 0.1820 - val_accuracy: 0.9451\n",
            "Epoch 456/500\n",
            "4/4 [==============================] - 0s 12ms/step - loss: 0.0794 - accuracy: 0.9698 - val_loss: 0.2082 - val_accuracy: 0.9560\n",
            "Epoch 457/500\n",
            "4/4 [==============================] - 0s 13ms/step - loss: 0.1147 - accuracy: 0.9588 - val_loss: 0.1966 - val_accuracy: 0.9231\n",
            "Epoch 458/500\n",
            "4/4 [==============================] - 0s 12ms/step - loss: 0.0655 - accuracy: 0.9808 - val_loss: 0.1503 - val_accuracy: 0.9341\n",
            "Epoch 459/500\n",
            "4/4 [==============================] - 0s 11ms/step - loss: 0.0719 - accuracy: 0.9698 - val_loss: 0.1587 - val_accuracy: 0.9231\n",
            "Epoch 460/500\n",
            "4/4 [==============================] - 0s 11ms/step - loss: 0.0629 - accuracy: 0.9780 - val_loss: 0.1686 - val_accuracy: 0.9231\n",
            "Epoch 461/500\n",
            "4/4 [==============================] - 0s 12ms/step - loss: 0.0667 - accuracy: 0.9725 - val_loss: 0.1674 - val_accuracy: 0.9341\n",
            "Epoch 462/500\n",
            "4/4 [==============================] - 0s 12ms/step - loss: 0.0844 - accuracy: 0.9670 - val_loss: 0.2816 - val_accuracy: 0.9121\n",
            "Epoch 463/500\n",
            "4/4 [==============================] - 0s 11ms/step - loss: 0.1167 - accuracy: 0.9615 - val_loss: 0.1661 - val_accuracy: 0.9341\n",
            "Epoch 464/500\n",
            "4/4 [==============================] - 0s 11ms/step - loss: 0.0762 - accuracy: 0.9725 - val_loss: 0.1635 - val_accuracy: 0.9341\n",
            "Epoch 465/500\n",
            "4/4 [==============================] - 0s 12ms/step - loss: 0.0801 - accuracy: 0.9725 - val_loss: 0.2465 - val_accuracy: 0.9121\n",
            "Epoch 466/500\n",
            "4/4 [==============================] - 0s 11ms/step - loss: 0.0873 - accuracy: 0.9725 - val_loss: 0.1637 - val_accuracy: 0.9341\n",
            "Epoch 467/500\n",
            "4/4 [==============================] - 0s 11ms/step - loss: 0.0845 - accuracy: 0.9670 - val_loss: 0.1719 - val_accuracy: 0.9341\n",
            "Epoch 468/500\n",
            "4/4 [==============================] - 0s 17ms/step - loss: 0.0813 - accuracy: 0.9643 - val_loss: 0.1875 - val_accuracy: 0.9231\n",
            "Epoch 469/500\n",
            "4/4 [==============================] - 0s 17ms/step - loss: 0.0678 - accuracy: 0.9725 - val_loss: 0.2316 - val_accuracy: 0.9231\n",
            "Epoch 470/500\n",
            "4/4 [==============================] - 0s 11ms/step - loss: 0.0773 - accuracy: 0.9698 - val_loss: 0.2107 - val_accuracy: 0.9451\n",
            "Epoch 471/500\n",
            "4/4 [==============================] - 0s 16ms/step - loss: 0.0940 - accuracy: 0.9615 - val_loss: 0.2034 - val_accuracy: 0.9231\n",
            "Epoch 472/500\n",
            "4/4 [==============================] - 0s 12ms/step - loss: 0.0821 - accuracy: 0.9643 - val_loss: 0.1835 - val_accuracy: 0.9121\n",
            "Epoch 473/500\n",
            "4/4 [==============================] - 0s 11ms/step - loss: 0.0967 - accuracy: 0.9588 - val_loss: 0.1733 - val_accuracy: 0.9341\n",
            "Epoch 474/500\n",
            "4/4 [==============================] - 0s 12ms/step - loss: 0.0773 - accuracy: 0.9698 - val_loss: 0.2221 - val_accuracy: 0.9231\n",
            "Epoch 475/500\n",
            "4/4 [==============================] - 0s 10ms/step - loss: 0.0867 - accuracy: 0.9643 - val_loss: 0.2116 - val_accuracy: 0.9231\n",
            "Epoch 476/500\n",
            "4/4 [==============================] - 0s 13ms/step - loss: 0.1077 - accuracy: 0.9643 - val_loss: 0.1900 - val_accuracy: 0.9341\n",
            "Epoch 477/500\n",
            "4/4 [==============================] - 0s 11ms/step - loss: 0.1201 - accuracy: 0.9560 - val_loss: 0.2848 - val_accuracy: 0.9341\n",
            "Epoch 478/500\n",
            "4/4 [==============================] - 0s 11ms/step - loss: 0.1662 - accuracy: 0.9341 - val_loss: 0.4270 - val_accuracy: 0.8681\n",
            "Epoch 479/500\n",
            "4/4 [==============================] - 0s 11ms/step - loss: 0.1825 - accuracy: 0.9396 - val_loss: 0.1715 - val_accuracy: 0.9341\n",
            "Epoch 480/500\n",
            "4/4 [==============================] - 0s 11ms/step - loss: 0.1729 - accuracy: 0.9258 - val_loss: 0.2231 - val_accuracy: 0.9560\n",
            "Epoch 481/500\n",
            "4/4 [==============================] - 0s 12ms/step - loss: 0.1521 - accuracy: 0.9505 - val_loss: 0.6436 - val_accuracy: 0.8462\n",
            "Epoch 482/500\n",
            "4/4 [==============================] - 0s 11ms/step - loss: 0.1609 - accuracy: 0.9478 - val_loss: 0.3647 - val_accuracy: 0.9231\n",
            "Epoch 483/500\n",
            "4/4 [==============================] - 0s 11ms/step - loss: 0.1881 - accuracy: 0.9368 - val_loss: 0.3207 - val_accuracy: 0.9231\n",
            "Epoch 484/500\n",
            "4/4 [==============================] - 0s 10ms/step - loss: 0.1118 - accuracy: 0.9560 - val_loss: 0.2005 - val_accuracy: 0.9341\n",
            "Epoch 485/500\n",
            "4/4 [==============================] - 0s 10ms/step - loss: 0.1002 - accuracy: 0.9533 - val_loss: 0.2376 - val_accuracy: 0.9341\n",
            "Epoch 486/500\n",
            "4/4 [==============================] - 0s 10ms/step - loss: 0.1110 - accuracy: 0.9533 - val_loss: 0.2226 - val_accuracy: 0.9231\n",
            "Epoch 487/500\n",
            "4/4 [==============================] - 0s 11ms/step - loss: 0.1355 - accuracy: 0.9396 - val_loss: 0.2659 - val_accuracy: 0.9560\n",
            "Epoch 488/500\n",
            "4/4 [==============================] - 0s 12ms/step - loss: 0.1566 - accuracy: 0.9505 - val_loss: 0.4220 - val_accuracy: 0.8901\n",
            "Epoch 489/500\n",
            "4/4 [==============================] - 0s 11ms/step - loss: 0.1317 - accuracy: 0.9505 - val_loss: 0.3039 - val_accuracy: 0.9560\n",
            "Epoch 490/500\n",
            "4/4 [==============================] - 0s 11ms/step - loss: 0.1746 - accuracy: 0.9533 - val_loss: 0.4850 - val_accuracy: 0.8571\n",
            "Epoch 491/500\n",
            "4/4 [==============================] - 0s 15ms/step - loss: 0.1552 - accuracy: 0.9478 - val_loss: 0.2229 - val_accuracy: 0.9560\n",
            "Epoch 492/500\n",
            "4/4 [==============================] - 0s 11ms/step - loss: 0.0713 - accuracy: 0.9725 - val_loss: 0.3751 - val_accuracy: 0.9121\n",
            "Epoch 493/500\n",
            "4/4 [==============================] - 0s 11ms/step - loss: 0.1008 - accuracy: 0.9560 - val_loss: 0.2028 - val_accuracy: 0.9341\n",
            "Epoch 494/500\n",
            "4/4 [==============================] - 0s 12ms/step - loss: 0.0828 - accuracy: 0.9698 - val_loss: 0.2776 - val_accuracy: 0.9231\n",
            "Epoch 495/500\n",
            "4/4 [==============================] - 0s 12ms/step - loss: 0.0729 - accuracy: 0.9698 - val_loss: 0.2107 - val_accuracy: 0.9341\n",
            "Epoch 496/500\n",
            "4/4 [==============================] - 0s 13ms/step - loss: 0.0956 - accuracy: 0.9698 - val_loss: 0.2122 - val_accuracy: 0.9231\n",
            "Epoch 497/500\n",
            "4/4 [==============================] - 0s 12ms/step - loss: 0.0593 - accuracy: 0.9780 - val_loss: 0.1773 - val_accuracy: 0.9231\n",
            "Epoch 498/500\n",
            "4/4 [==============================] - 0s 10ms/step - loss: 0.0718 - accuracy: 0.9615 - val_loss: 0.1666 - val_accuracy: 0.9231\n",
            "Epoch 499/500\n",
            "4/4 [==============================] - 0s 11ms/step - loss: 0.0630 - accuracy: 0.9698 - val_loss: 0.1906 - val_accuracy: 0.9231\n",
            "Epoch 500/500\n",
            "4/4 [==============================] - 0s 11ms/step - loss: 0.0683 - accuracy: 0.9643 - val_loss: 0.1596 - val_accuracy: 0.9231\n"
          ]
        }
      ]
    },
    {
      "cell_type": "code",
      "source": [
        "history"
      ],
      "metadata": {
        "colab": {
          "base_uri": "https://localhost:8080/"
        },
        "id": "M1ah8nMBuRA2",
        "outputId": "31e08043-51c6-49f2-da02-29ef74e08213"
      },
      "execution_count": null,
      "outputs": [
        {
          "output_type": "execute_result",
          "data": {
            "text/plain": [
              "<keras.callbacks.History at 0x7f48806bd510>"
            ]
          },
          "metadata": {},
          "execution_count": 11
        }
      ]
    },
    {
      "cell_type": "code",
      "source": [
        "model.evaluate(X_test, y_test)"
      ],
      "metadata": {
        "colab": {
          "base_uri": "https://localhost:8080/"
        },
        "id": "VvPzhAeBuRhy",
        "outputId": "f737045d-3b33-4752-d11b-02bc2ff822dd"
      },
      "execution_count": null,
      "outputs": [
        {
          "output_type": "stream",
          "name": "stdout",
          "text": [
            "4/4 [==============================] - 0s 4ms/step - loss: 0.2086 - accuracy: 0.9298\n"
          ]
        },
        {
          "output_type": "execute_result",
          "data": {
            "text/plain": [
              "[0.2085944563150406, 0.9298245906829834]"
            ]
          },
          "metadata": {},
          "execution_count": 12
        }
      ]
    },
    {
      "cell_type": "code",
      "source": [
        "y_acc = history.history['accuracy']\n",
        "y_vloss = history.history['val_loss']\n",
        "xs = np.arange(1, len(y_acc) + 1)"
      ],
      "metadata": {
        "id": "LHImyyIAuWMS"
      },
      "execution_count": null,
      "outputs": []
    },
    {
      "cell_type": "code",
      "source": [
        "plt.figure(figsize=(12,8))\n",
        "plt.plot(xs, y_acc, label='train.accuracy')\n",
        "plt.plot(xs, y_vloss, label = 'validation_loss')\n",
        "plt.legend(), plt.grid()\n",
        "plt.ylim([0,1])\n",
        "plt.xlabel('Epoch')\n",
        "plt.title('No feature transform')\n",
        "plt.show()"
      ],
      "metadata": {
        "colab": {
          "base_uri": "https://localhost:8080/",
          "height": 513
        },
        "id": "q9Od-a5huly5",
        "outputId": "326a19cd-e1e8-431b-f95c-d5e2a59b40db"
      },
      "execution_count": null,
      "outputs": [
        {
          "output_type": "display_data",
          "data": {
            "text/plain": [
              "<Figure size 864x576 with 1 Axes>"
            ],
            "image/png": "[encoded data removed]"
          },
          "metadata": {
            "needs_background": "light"
          }
        }
      ]
    },
    {
      "cell_type": "markdown",
      "source": [
        "2. 데이터를 정규 / 표준화 한 경우"
      ],
      "metadata": {
        "id": "cN8D8cs_u840"
      }
    },
    {
      "cell_type": "code",
      "source": [
        "from sklearn.preprocessing import StandardScaler\n",
        "cancer_std = StandardScaler().fit_transform(cancer.data)\n",
        "X_train_sc , X_test_sc , y_train, y_test = train_test_split(\n",
        "    cancer_std, cancer.target, test_size=0.2, stratify=cancer.target, random_state=2022\n",
        ")"
      ],
      "metadata": {
        "id": "ZmkkRX5nvBrD"
      },
      "execution_count": null,
      "outputs": []
    },
    {
      "cell_type": "code",
      "source": [
        "model2 = Sequential()\n",
        "model2.add(Dense(100, input_dim=30, activation='relu'))\n",
        "model2.add(Dense(24, activation='relu'))\n",
        "model2.add(Dense(1, activation='sigmoid'))\n",
        "model2.summary()"
      ],
      "metadata": {
        "colab": {
          "base_uri": "https://localhost:8080/"
        },
        "id": "vGHNyKszveNU",
        "outputId": "47d486aa-41d3-44a2-bb9e-bd617d9c6e82"
      },
      "execution_count": null,
      "outputs": [
        {
          "output_type": "stream",
          "name": "stdout",
          "text": [
            "Model: \"sequential_1\"\n",
            "_________________________________________________________________\n",
            " Layer (type)                Output Shape              Param #   \n",
            "=================================================================\n",
            " dense_3 (Dense)             (None, 100)               3100      \n",
            "                                                                 \n",
            " dense_4 (Dense)             (None, 24)                2424      \n",
            "                                                                 \n",
            " dense_5 (Dense)             (None, 1)                 25        \n",
            "                                                                 \n",
            "=================================================================\n",
            "Total params: 5,549\n",
            "Trainable params: 5,549\n",
            "Non-trainable params: 0\n",
            "_________________________________________________________________\n"
          ]
        }
      ]
    },
    {
      "cell_type": "code",
      "source": [
        "model2.compile('adam', 'binary_crossentropy', ['accuracy'])"
      ],
      "metadata": {
        "id": "L3SUlh5Wvqp6"
      },
      "execution_count": null,
      "outputs": []
    },
    {
      "cell_type": "code",
      "source": [
        "history2 = model2.fit(X_train_sc, y_train, validation_split=0.2,\n",
        "                     epochs=100, batch_size=100)"
      ],
      "metadata": {
        "colab": {
          "base_uri": "https://localhost:8080/"
        },
        "id": "Q7Np4QRMvvzK",
        "outputId": "a6dfc431-77d7-4d2b-b034-fb678fd865b4"
      },
      "execution_count": null,
      "outputs": [
        {
          "output_type": "stream",
          "name": "stdout",
          "text": [
            "Epoch 1/100\n",
            "4/4 [==============================] - 0s 18ms/step - loss: 0.0047 - accuracy: 1.0000 - val_loss: 0.1879 - val_accuracy: 0.9451\n",
            "Epoch 2/100\n",
            "4/4 [==============================] - 0s 10ms/step - loss: 0.0047 - accuracy: 1.0000 - val_loss: 0.1892 - val_accuracy: 0.9451\n",
            "Epoch 3/100\n",
            "4/4 [==============================] - 0s 9ms/step - loss: 0.0045 - accuracy: 1.0000 - val_loss: 0.1899 - val_accuracy: 0.9451\n",
            "Epoch 4/100\n",
            "4/4 [==============================] - 0s 12ms/step - loss: 0.0044 - accuracy: 1.0000 - val_loss: 0.1906 - val_accuracy: 0.9451\n",
            "Epoch 5/100\n",
            "4/4 [==============================] - 0s 9ms/step - loss: 0.0043 - accuracy: 1.0000 - val_loss: 0.1912 - val_accuracy: 0.9451\n",
            "Epoch 6/100\n",
            "4/4 [==============================] - 0s 10ms/step - loss: 0.0042 - accuracy: 1.0000 - val_loss: 0.1914 - val_accuracy: 0.9451\n",
            "Epoch 7/100\n",
            "4/4 [==============================] - 0s 11ms/step - loss: 0.0041 - accuracy: 1.0000 - val_loss: 0.1922 - val_accuracy: 0.9451\n",
            "Epoch 8/100\n",
            "4/4 [==============================] - 0s 10ms/step - loss: 0.0040 - accuracy: 1.0000 - val_loss: 0.1927 - val_accuracy: 0.9451\n",
            "Epoch 9/100\n",
            "4/4 [==============================] - 0s 9ms/step - loss: 0.0039 - accuracy: 1.0000 - val_loss: 0.1933 - val_accuracy: 0.9451\n",
            "Epoch 10/100\n",
            "4/4 [==============================] - 0s 10ms/step - loss: 0.0038 - accuracy: 1.0000 - val_loss: 0.1940 - val_accuracy: 0.9451\n",
            "Epoch 11/100\n",
            "4/4 [==============================] - 0s 9ms/step - loss: 0.0037 - accuracy: 1.0000 - val_loss: 0.1946 - val_accuracy: 0.9451\n",
            "Epoch 12/100\n",
            "4/4 [==============================] - 0s 9ms/step - loss: 0.0036 - accuracy: 1.0000 - val_loss: 0.1950 - val_accuracy: 0.9451\n",
            "Epoch 13/100\n",
            "4/4 [==============================] - 0s 9ms/step - loss: 0.0036 - accuracy: 1.0000 - val_loss: 0.1953 - val_accuracy: 0.9451\n",
            "Epoch 14/100\n",
            "4/4 [==============================] - 0s 9ms/step - loss: 0.0035 - accuracy: 1.0000 - val_loss: 0.1958 - val_accuracy: 0.9451\n",
            "Epoch 15/100\n",
            "4/4 [==============================] - 0s 9ms/step - loss: 0.0034 - accuracy: 1.0000 - val_loss: 0.1961 - val_accuracy: 0.9451\n",
            "Epoch 16/100\n",
            "4/4 [==============================] - 0s 10ms/step - loss: 0.0033 - accuracy: 1.0000 - val_loss: 0.1967 - val_accuracy: 0.9451\n",
            "Epoch 17/100\n",
            "4/4 [==============================] - 0s 9ms/step - loss: 0.0033 - accuracy: 1.0000 - val_loss: 0.1973 - val_accuracy: 0.9451\n",
            "Epoch 18/100\n",
            "4/4 [==============================] - 0s 14ms/step - loss: 0.0032 - accuracy: 1.0000 - val_loss: 0.1979 - val_accuracy: 0.9451\n",
            "Epoch 19/100\n",
            "4/4 [==============================] - 0s 10ms/step - loss: 0.0031 - accuracy: 1.0000 - val_loss: 0.1995 - val_accuracy: 0.9451\n",
            "Epoch 20/100\n",
            "4/4 [==============================] - 0s 11ms/step - loss: 0.0031 - accuracy: 1.0000 - val_loss: 0.1998 - val_accuracy: 0.9451\n",
            "Epoch 21/100\n",
            "4/4 [==============================] - 0s 10ms/step - loss: 0.0030 - accuracy: 1.0000 - val_loss: 0.1998 - val_accuracy: 0.9451\n",
            "Epoch 22/100\n",
            "4/4 [==============================] - 0s 10ms/step - loss: 0.0029 - accuracy: 1.0000 - val_loss: 0.2008 - val_accuracy: 0.9451\n",
            "Epoch 23/100\n",
            "4/4 [==============================] - 0s 9ms/step - loss: 0.0028 - accuracy: 1.0000 - val_loss: 0.2016 - val_accuracy: 0.9451\n",
            "Epoch 24/100\n",
            "4/4 [==============================] - 0s 9ms/step - loss: 0.0028 - accuracy: 1.0000 - val_loss: 0.2019 - val_accuracy: 0.9451\n",
            "Epoch 25/100\n",
            "4/4 [==============================] - 0s 9ms/step - loss: 0.0027 - accuracy: 1.0000 - val_loss: 0.2026 - val_accuracy: 0.9451\n",
            "Epoch 26/100\n",
            "4/4 [==============================] - 0s 9ms/step - loss: 0.0027 - accuracy: 1.0000 - val_loss: 0.2028 - val_accuracy: 0.9451\n",
            "Epoch 27/100\n",
            "4/4 [==============================] - 0s 9ms/step - loss: 0.0026 - accuracy: 1.0000 - val_loss: 0.2028 - val_accuracy: 0.9451\n",
            "Epoch 28/100\n",
            "4/4 [==============================] - 0s 13ms/step - loss: 0.0026 - accuracy: 1.0000 - val_loss: 0.2028 - val_accuracy: 0.9451\n",
            "Epoch 29/100\n",
            "4/4 [==============================] - 0s 9ms/step - loss: 0.0025 - accuracy: 1.0000 - val_loss: 0.2028 - val_accuracy: 0.9451\n",
            "Epoch 30/100\n",
            "4/4 [==============================] - 0s 9ms/step - loss: 0.0025 - accuracy: 1.0000 - val_loss: 0.2035 - val_accuracy: 0.9451\n",
            "Epoch 31/100\n",
            "4/4 [==============================] - 0s 9ms/step - loss: 0.0024 - accuracy: 1.0000 - val_loss: 0.2047 - val_accuracy: 0.9451\n",
            "Epoch 32/100\n",
            "4/4 [==============================] - 0s 9ms/step - loss: 0.0024 - accuracy: 1.0000 - val_loss: 0.2054 - val_accuracy: 0.9451\n",
            "Epoch 33/100\n",
            "4/4 [==============================] - 0s 10ms/step - loss: 0.0023 - accuracy: 1.0000 - val_loss: 0.2060 - val_accuracy: 0.9451\n",
            "Epoch 34/100\n",
            "4/4 [==============================] - 0s 10ms/step - loss: 0.0023 - accuracy: 1.0000 - val_loss: 0.2067 - val_accuracy: 0.9451\n",
            "Epoch 35/100\n",
            "4/4 [==============================] - 0s 10ms/step - loss: 0.0022 - accuracy: 1.0000 - val_loss: 0.2073 - val_accuracy: 0.9451\n",
            "Epoch 36/100\n",
            "4/4 [==============================] - 0s 10ms/step - loss: 0.0022 - accuracy: 1.0000 - val_loss: 0.2085 - val_accuracy: 0.9451\n",
            "Epoch 37/100\n",
            "4/4 [==============================] - 0s 9ms/step - loss: 0.0021 - accuracy: 1.0000 - val_loss: 0.2090 - val_accuracy: 0.9451\n",
            "Epoch 38/100\n",
            "4/4 [==============================] - 0s 9ms/step - loss: 0.0021 - accuracy: 1.0000 - val_loss: 0.2094 - val_accuracy: 0.9451\n",
            "Epoch 39/100\n",
            "4/4 [==============================] - 0s 11ms/step - loss: 0.0020 - accuracy: 1.0000 - val_loss: 0.2104 - val_accuracy: 0.9451\n",
            "Epoch 40/100\n",
            "4/4 [==============================] - 0s 10ms/step - loss: 0.0020 - accuracy: 1.0000 - val_loss: 0.2118 - val_accuracy: 0.9451\n",
            "Epoch 41/100\n",
            "4/4 [==============================] - 0s 10ms/step - loss: 0.0020 - accuracy: 1.0000 - val_loss: 0.2124 - val_accuracy: 0.9451\n",
            "Epoch 42/100\n",
            "4/4 [==============================] - 0s 10ms/step - loss: 0.0019 - accuracy: 1.0000 - val_loss: 0.2125 - val_accuracy: 0.9451\n",
            "Epoch 43/100\n",
            "4/4 [==============================] - 0s 10ms/step - loss: 0.0019 - accuracy: 1.0000 - val_loss: 0.2131 - val_accuracy: 0.9451\n",
            "Epoch 44/100\n",
            "4/4 [==============================] - 0s 16ms/step - loss: 0.0019 - accuracy: 1.0000 - val_loss: 0.2143 - val_accuracy: 0.9451\n",
            "Epoch 45/100\n",
            "4/4 [==============================] - 0s 9ms/step - loss: 0.0018 - accuracy: 1.0000 - val_loss: 0.2147 - val_accuracy: 0.9451\n",
            "Epoch 46/100\n",
            "4/4 [==============================] - 0s 16ms/step - loss: 0.0018 - accuracy: 1.0000 - val_loss: 0.2153 - val_accuracy: 0.9451\n",
            "Epoch 47/100\n",
            "4/4 [==============================] - 0s 10ms/step - loss: 0.0018 - accuracy: 1.0000 - val_loss: 0.2156 - val_accuracy: 0.9451\n",
            "Epoch 48/100\n",
            "4/4 [==============================] - 0s 9ms/step - loss: 0.0017 - accuracy: 1.0000 - val_loss: 0.2156 - val_accuracy: 0.9451\n",
            "Epoch 49/100\n",
            "4/4 [==============================] - 0s 11ms/step - loss: 0.0017 - accuracy: 1.0000 - val_loss: 0.2161 - val_accuracy: 0.9451\n",
            "Epoch 50/100\n",
            "4/4 [==============================] - 0s 9ms/step - loss: 0.0017 - accuracy: 1.0000 - val_loss: 0.2168 - val_accuracy: 0.9451\n",
            "Epoch 51/100\n",
            "4/4 [==============================] - 0s 10ms/step - loss: 0.0017 - accuracy: 1.0000 - val_loss: 0.2169 - val_accuracy: 0.9451\n",
            "Epoch 52/100\n",
            "4/4 [==============================] - 0s 11ms/step - loss: 0.0016 - accuracy: 1.0000 - val_loss: 0.2178 - val_accuracy: 0.9451\n",
            "Epoch 53/100\n",
            "4/4 [==============================] - 0s 11ms/step - loss: 0.0016 - accuracy: 1.0000 - val_loss: 0.2185 - val_accuracy: 0.9451\n",
            "Epoch 54/100\n",
            "4/4 [==============================] - 0s 10ms/step - loss: 0.0016 - accuracy: 1.0000 - val_loss: 0.2191 - val_accuracy: 0.9451\n",
            "Epoch 55/100\n",
            "4/4 [==============================] - 0s 10ms/step - loss: 0.0015 - accuracy: 1.0000 - val_loss: 0.2196 - val_accuracy: 0.9451\n",
            "Epoch 56/100\n",
            "4/4 [==============================] - 0s 9ms/step - loss: 0.0015 - accuracy: 1.0000 - val_loss: 0.2204 - val_accuracy: 0.9451\n",
            "Epoch 57/100\n",
            "4/4 [==============================] - 0s 9ms/step - loss: 0.0015 - accuracy: 1.0000 - val_loss: 0.2209 - val_accuracy: 0.9451\n",
            "Epoch 58/100\n",
            "4/4 [==============================] - 0s 9ms/step - loss: 0.0015 - accuracy: 1.0000 - val_loss: 0.2213 - val_accuracy: 0.9451\n",
            "Epoch 59/100\n",
            "4/4 [==============================] - 0s 9ms/step - loss: 0.0014 - accuracy: 1.0000 - val_loss: 0.2217 - val_accuracy: 0.9451\n",
            "Epoch 60/100\n",
            "4/4 [==============================] - 0s 9ms/step - loss: 0.0014 - accuracy: 1.0000 - val_loss: 0.2223 - val_accuracy: 0.9451\n",
            "Epoch 61/100\n",
            "4/4 [==============================] - 0s 10ms/step - loss: 0.0014 - accuracy: 1.0000 - val_loss: 0.2231 - val_accuracy: 0.9451\n",
            "Epoch 62/100\n",
            "4/4 [==============================] - 0s 11ms/step - loss: 0.0014 - accuracy: 1.0000 - val_loss: 0.2235 - val_accuracy: 0.9451\n",
            "Epoch 63/100\n",
            "4/4 [==============================] - 0s 10ms/step - loss: 0.0014 - accuracy: 1.0000 - val_loss: 0.2242 - val_accuracy: 0.9451\n",
            "Epoch 64/100\n",
            "4/4 [==============================] - 0s 11ms/step - loss: 0.0013 - accuracy: 1.0000 - val_loss: 0.2250 - val_accuracy: 0.9451\n",
            "Epoch 65/100\n",
            "4/4 [==============================] - 0s 11ms/step - loss: 0.0013 - accuracy: 1.0000 - val_loss: 0.2257 - val_accuracy: 0.9451\n",
            "Epoch 66/100\n",
            "4/4 [==============================] - 0s 10ms/step - loss: 0.0013 - accuracy: 1.0000 - val_loss: 0.2265 - val_accuracy: 0.9451\n",
            "Epoch 67/100\n",
            "4/4 [==============================] - 0s 10ms/step - loss: 0.0013 - accuracy: 1.0000 - val_loss: 0.2273 - val_accuracy: 0.9451\n",
            "Epoch 68/100\n",
            "4/4 [==============================] - 0s 9ms/step - loss: 0.0013 - accuracy: 1.0000 - val_loss: 0.2274 - val_accuracy: 0.9451\n",
            "Epoch 69/100\n",
            "4/4 [==============================] - 0s 10ms/step - loss: 0.0012 - accuracy: 1.0000 - val_loss: 0.2278 - val_accuracy: 0.9451\n",
            "Epoch 70/100\n",
            "4/4 [==============================] - 0s 10ms/step - loss: 0.0012 - accuracy: 1.0000 - val_loss: 0.2285 - val_accuracy: 0.9451\n",
            "Epoch 71/100\n",
            "4/4 [==============================] - 0s 10ms/step - loss: 0.0012 - accuracy: 1.0000 - val_loss: 0.2292 - val_accuracy: 0.9451\n",
            "Epoch 72/100\n",
            "4/4 [==============================] - 0s 11ms/step - loss: 0.0012 - accuracy: 1.0000 - val_loss: 0.2296 - val_accuracy: 0.9451\n",
            "Epoch 73/100\n",
            "4/4 [==============================] - 0s 9ms/step - loss: 0.0012 - accuracy: 1.0000 - val_loss: 0.2303 - val_accuracy: 0.9451\n",
            "Epoch 74/100\n",
            "4/4 [==============================] - 0s 10ms/step - loss: 0.0011 - accuracy: 1.0000 - val_loss: 0.2312 - val_accuracy: 0.9451\n",
            "Epoch 75/100\n",
            "4/4 [==============================] - 0s 9ms/step - loss: 0.0011 - accuracy: 1.0000 - val_loss: 0.2319 - val_accuracy: 0.9451\n",
            "Epoch 76/100\n",
            "4/4 [==============================] - 0s 14ms/step - loss: 0.0011 - accuracy: 1.0000 - val_loss: 0.2326 - val_accuracy: 0.9451\n",
            "Epoch 77/100\n",
            "4/4 [==============================] - 0s 10ms/step - loss: 0.0011 - accuracy: 1.0000 - val_loss: 0.2332 - val_accuracy: 0.9451\n",
            "Epoch 78/100\n",
            "4/4 [==============================] - 0s 11ms/step - loss: 0.0011 - accuracy: 1.0000 - val_loss: 0.2335 - val_accuracy: 0.9451\n",
            "Epoch 79/100\n",
            "4/4 [==============================] - 0s 10ms/step - loss: 0.0011 - accuracy: 1.0000 - val_loss: 0.2339 - val_accuracy: 0.9451\n",
            "Epoch 80/100\n",
            "4/4 [==============================] - 0s 10ms/step - loss: 0.0010 - accuracy: 1.0000 - val_loss: 0.2340 - val_accuracy: 0.9451\n",
            "Epoch 81/100\n",
            "4/4 [==============================] - 0s 10ms/step - loss: 0.0010 - accuracy: 1.0000 - val_loss: 0.2344 - val_accuracy: 0.9451\n",
            "Epoch 82/100\n",
            "4/4 [==============================] - 0s 12ms/step - loss: 0.0010 - accuracy: 1.0000 - val_loss: 0.2354 - val_accuracy: 0.9451\n",
            "Epoch 83/100\n",
            "4/4 [==============================] - 0s 10ms/step - loss: 9.9781e-04 - accuracy: 1.0000 - val_loss: 0.2360 - val_accuracy: 0.9451\n",
            "Epoch 84/100\n",
            "4/4 [==============================] - 0s 9ms/step - loss: 9.8334e-04 - accuracy: 1.0000 - val_loss: 0.2364 - val_accuracy: 0.9451\n",
            "Epoch 85/100\n",
            "4/4 [==============================] - 0s 9ms/step - loss: 9.6871e-04 - accuracy: 1.0000 - val_loss: 0.2369 - val_accuracy: 0.9451\n",
            "Epoch 86/100\n",
            "4/4 [==============================] - 0s 11ms/step - loss: 9.5297e-04 - accuracy: 1.0000 - val_loss: 0.2371 - val_accuracy: 0.9451\n",
            "Epoch 87/100\n",
            "4/4 [==============================] - 0s 9ms/step - loss: 9.4114e-04 - accuracy: 1.0000 - val_loss: 0.2377 - val_accuracy: 0.9451\n",
            "Epoch 88/100\n",
            "4/4 [==============================] - 0s 9ms/step - loss: 9.2926e-04 - accuracy: 1.0000 - val_loss: 0.2384 - val_accuracy: 0.9451\n",
            "Epoch 89/100\n",
            "4/4 [==============================] - 0s 10ms/step - loss: 9.1776e-04 - accuracy: 1.0000 - val_loss: 0.2391 - val_accuracy: 0.9451\n",
            "Epoch 90/100\n",
            "4/4 [==============================] - 0s 11ms/step - loss: 9.0532e-04 - accuracy: 1.0000 - val_loss: 0.2397 - val_accuracy: 0.9451\n",
            "Epoch 91/100\n",
            "4/4 [==============================] - 0s 10ms/step - loss: 8.9310e-04 - accuracy: 1.0000 - val_loss: 0.2409 - val_accuracy: 0.9451\n",
            "Epoch 92/100\n",
            "4/4 [==============================] - 0s 10ms/step - loss: 8.7879e-04 - accuracy: 1.0000 - val_loss: 0.2410 - val_accuracy: 0.9451\n",
            "Epoch 93/100\n",
            "4/4 [==============================] - 0s 11ms/step - loss: 8.6740e-04 - accuracy: 1.0000 - val_loss: 0.2407 - val_accuracy: 0.9451\n",
            "Epoch 94/100\n",
            "4/4 [==============================] - 0s 10ms/step - loss: 8.5622e-04 - accuracy: 1.0000 - val_loss: 0.2407 - val_accuracy: 0.9451\n",
            "Epoch 95/100\n",
            "4/4 [==============================] - 0s 10ms/step - loss: 8.4383e-04 - accuracy: 1.0000 - val_loss: 0.2411 - val_accuracy: 0.9451\n",
            "Epoch 96/100\n",
            "4/4 [==============================] - 0s 10ms/step - loss: 8.3477e-04 - accuracy: 1.0000 - val_loss: 0.2419 - val_accuracy: 0.9451\n",
            "Epoch 97/100\n",
            "4/4 [==============================] - 0s 11ms/step - loss: 8.2134e-04 - accuracy: 1.0000 - val_loss: 0.2423 - val_accuracy: 0.9451\n",
            "Epoch 98/100\n",
            "4/4 [==============================] - 0s 9ms/step - loss: 8.1191e-04 - accuracy: 1.0000 - val_loss: 0.2425 - val_accuracy: 0.9451\n",
            "Epoch 99/100\n",
            "4/4 [==============================] - 0s 11ms/step - loss: 8.0285e-04 - accuracy: 1.0000 - val_loss: 0.2435 - val_accuracy: 0.9451\n",
            "Epoch 100/100\n",
            "4/4 [==============================] - 0s 9ms/step - loss: 7.9042e-04 - accuracy: 1.0000 - val_loss: 0.2442 - val_accuracy: 0.9451\n"
          ]
        }
      ]
    },
    {
      "cell_type": "code",
      "source": [
        "model2.evaluate(X_test_sc, y_test)"
      ],
      "metadata": {
        "colab": {
          "base_uri": "https://localhost:8080/"
        },
        "id": "MG_-OzItv2hx",
        "outputId": "ced54a5d-4c2e-4018-bbac-6e692f858059"
      },
      "execution_count": null,
      "outputs": [
        {
          "output_type": "stream",
          "name": "stdout",
          "text": [
            "4/4 [==============================] - 0s 5ms/step - loss: 0.0400 - accuracy: 0.9912\n"
          ]
        },
        {
          "output_type": "execute_result",
          "data": {
            "text/plain": [
              "[0.04002845659852028, 0.9912280440330505]"
            ]
          },
          "metadata": {},
          "execution_count": 21
        }
      ]
    },
    {
      "cell_type": "code",
      "source": [
        "y_acc_sc = history.history['accuracy']\n",
        "y_vloss_sc = history.history['val_loss']\n",
        "xs = np.arange(1, len(y_acc_sc) + 1)\n",
        "plt.figure(figsize=(12,8))\n",
        "plt.plot(xs, y_acc_sc, label='train.accuracy_sc')\n",
        "plt.plot(xs, y_vloss_sc, label = 'validation_loss_sc')\n",
        "plt.legend(), plt.grid()\n",
        "plt.ylim([0,1])\n",
        "plt.xlabel('Epoch')\n",
        "plt.title('No feature transform')\n",
        "plt.show()"
      ],
      "metadata": {
        "colab": {
          "base_uri": "https://localhost:8080/",
          "height": 513
        },
        "id": "O8ULh19iv9BL",
        "outputId": "b98fd199-6c19-414c-e2b3-613156daa17f"
      },
      "execution_count": null,
      "outputs": [
        {
          "output_type": "display_data",
          "data": {
            "text/plain": [
              "<Figure size 864x576 with 1 Axes>"
            ],
            "image/png": "[encoded data removed]"
          },
          "metadata": {
            "needs_background": "light"
          }
        }
      ]
    },
    {
      "cell_type": "markdown",
      "source": [
        "# 다중분류"
      ],
      "metadata": {
        "id": "eHSKNu9Sy6YZ"
      }
    },
    {
      "cell_type": "code",
      "source": [
        "import numpy as np\n",
        "import pandas as pd\n",
        "import matplotlib.pyplot as plt\n",
        "import tensorflow as tf\n",
        "from sklearn.model_selection import train_test_split\n",
        "seed = 2022\n",
        "np.random.seed(seed)\n",
        "tf.random.set_seed(seed)"
      ],
      "metadata": {
        "id": "61k0rmtEy6av"
      },
      "execution_count": null,
      "outputs": []
    },
    {
      "cell_type": "code",
      "source": [
        "from sklearn.datasets import load_wine\n",
        "wine = load_wine()\n",
        "wine.data.shape"
      ],
      "metadata": {
        "colab": {
          "base_uri": "https://localhost:8080/"
        },
        "id": "u7CxYlTsy6dB",
        "outputId": "10f4f374-62c2-4386-efd2-383353d40f53"
      },
      "execution_count": null,
      "outputs": [
        {
          "output_type": "execute_result",
          "data": {
            "text/plain": [
              "(178, 13)"
            ]
          },
          "metadata": {},
          "execution_count": 15
        }
      ]
    },
    {
      "cell_type": "code",
      "source": [
        "from sklearn.preprocessing import StandardScaler\n",
        "wine_std = StandardScaler().fit_transform(wine.data)"
      ],
      "metadata": {
        "id": "fQ8_Y15K09_p"
      },
      "execution_count": null,
      "outputs": []
    },
    {
      "cell_type": "code",
      "source": [
        "from tensorflow.keras.utils import to_categorical\n",
        "Y = to_categorical(wine.target)"
      ],
      "metadata": {
        "id": "gdY7fdOo1EkJ"
      },
      "execution_count": null,
      "outputs": []
    },
    {
      "cell_type": "code",
      "source": [
        "Y[:5]"
      ],
      "metadata": {
        "colab": {
          "base_uri": "https://localhost:8080/"
        },
        "id": "O_HH7_mn1Pi5",
        "outputId": "859c4cea-0585-42fc-c269-a6b0bb500792"
      },
      "execution_count": null,
      "outputs": [
        {
          "output_type": "execute_result",
          "data": {
            "text/plain": [
              "array([[1., 0., 0.],\n",
              "       [1., 0., 0.],\n",
              "       [1., 0., 0.],\n",
              "       [1., 0., 0.],\n",
              "       [1., 0., 0.]], dtype=float32)"
            ]
          },
          "metadata": {},
          "execution_count": 18
        }
      ]
    },
    {
      "cell_type": "code",
      "source": [
        "X_train, X_test, y_train, y_test= train_test_split(\n",
        "    wine_std, Y, random_state=2022, stratify= Y, test_size=0.2\n",
        ")\n",
        "X_train.shape, X_test.shape, y_train.shape, y_test.shape"
      ],
      "metadata": {
        "colab": {
          "base_uri": "https://localhost:8080/"
        },
        "id": "iQkbNU711QFR",
        "outputId": "5458749b-f766-4a8a-9300-f333d9f0315d"
      },
      "execution_count": null,
      "outputs": [
        {
          "output_type": "execute_result",
          "data": {
            "text/plain": [
              "((142, 13), (36, 13), (142, 3), (36, 3))"
            ]
          },
          "metadata": {},
          "execution_count": 19
        }
      ]
    },
    {
      "cell_type": "code",
      "source": [
        "from tensorflow.keras.models import Sequential\n",
        "from tensorflow.keras.layers import Dense\n",
        "model = Sequential([\n",
        "    Dense(30, input_dim=13, activation='relu',),\n",
        "    Dense(12, activation='relu'),\n",
        "    Dense(3, activation='softmax')\n",
        "])\n",
        "\n",
        "model.summary()"
      ],
      "metadata": {
        "colab": {
          "base_uri": "https://localhost:8080/"
        },
        "id": "7DlEN_OY4UfY",
        "outputId": "e44b6f55-dd65-4fcd-b111-7a5585588b4b"
      },
      "execution_count": null,
      "outputs": [
        {
          "output_type": "stream",
          "name": "stdout",
          "text": [
            "Model: \"sequential\"\n",
            "_________________________________________________________________\n",
            " Layer (type)                Output Shape              Param #   \n",
            "=================================================================\n",
            " dense (Dense)               (None, 30)                420       \n",
            "                                                                 \n",
            " dense_1 (Dense)             (None, 12)                372       \n",
            "                                                                 \n",
            " dense_2 (Dense)             (None, 3)                 39        \n",
            "                                                                 \n",
            "=================================================================\n",
            "Total params: 831\n",
            "Trainable params: 831\n",
            "Non-trainable params: 0\n",
            "_________________________________________________________________\n"
          ]
        }
      ]
    },
    {
      "cell_type": "code",
      "source": [
        "# 다중분류\n",
        "\n",
        "model.compile('adam', 'categorical_crossentropy', ['accuracy'])"
      ],
      "metadata": {
        "id": "zQ2-ljSC7WRY"
      },
      "execution_count": null,
      "outputs": []
    },
    {
      "cell_type": "code",
      "source": [
        "hist1 = model.fit(X_train, y_train, validation_split=0.2,\n",
        "                epochs=100, batch_size=100, verbose=0)"
      ],
      "metadata": {
        "id": "1Bjoj59p7rQg"
      },
      "execution_count": null,
      "outputs": []
    },
    {
      "cell_type": "code",
      "source": [
        "model.evaluate(X_test, y_test)"
      ],
      "metadata": {
        "colab": {
          "base_uri": "https://localhost:8080/"
        },
        "id": "TwnetS0G70DQ",
        "outputId": "47f8ae99-84a1-45d0-cf98-a05527c15511"
      },
      "execution_count": null,
      "outputs": [
        {
          "output_type": "stream",
          "name": "stdout",
          "text": [
            "2/2 [==============================] - 0s 6ms/step - loss: 0.1301 - accuracy: 0.9722\n"
          ]
        },
        {
          "output_type": "execute_result",
          "data": {
            "text/plain": [
              "[0.1300567239522934, 0.9722222089767456]"
            ]
          },
          "metadata": {},
          "execution_count": 47
        }
      ]
    },
    {
      "cell_type": "code",
      "source": [
        "y_acc = hist1.history['accuracy']\n",
        "y_vloss = hist1.history['val_loss']\n",
        "xs = np.arange(1, len(y_acc) + 1)\n",
        "plt.figure(figsize=(12,8))\n",
        "plt.plot(xs, y_acc, label='train.accuracy_sc')\n",
        "plt.plot(xs, y_vloss, label = 'validation_loss_sc')\n",
        "plt.legend(), plt.grid()\n",
        "plt.ylim([0,1])\n",
        "plt.xlabel('Epoch')\n",
        "plt.title('No feature transform')\n",
        "plt.show()"
      ],
      "metadata": {
        "colab": {
          "base_uri": "https://localhost:8080/",
          "height": 513
        },
        "id": "f5h5fn6v76SR",
        "outputId": "3d52f7ce-a3b9-411c-a8eb-545781961fa0"
      },
      "execution_count": null,
      "outputs": [
        {
          "output_type": "display_data",
          "data": {
            "text/plain": [
              "<Figure size 864x576 with 1 Axes>"
            ],
            "image/png": "[encoded data removed]"
          },
          "metadata": {
            "needs_background": "light"
          }
        }
      ]
    },
    {
      "cell_type": "code",
      "source": [
        "model2 = Sequential([\n",
        "    Dense(30, input_dim=13, activation='relu'),\n",
        "    Dense(12, activation='relu'),\n",
        "    Dense(3, activation='softmax')\n",
        "])\n",
        "\n",
        "model2.summary()"
      ],
      "metadata": {
        "colab": {
          "base_uri": "https://localhost:8080/"
        },
        "id": "37RISonDGB54",
        "outputId": "1e03df83-edb3-4120-cf65-8103501bb0a4"
      },
      "execution_count": null,
      "outputs": [
        {
          "output_type": "stream",
          "name": "stdout",
          "text": [
            "Model: \"sequential_1\"\n",
            "_________________________________________________________________\n",
            " Layer (type)                Output Shape              Param #   \n",
            "=================================================================\n",
            " dense_3 (Dense)             (None, 30)                420       \n",
            "                                                                 \n",
            " dense_4 (Dense)             (None, 12)                372       \n",
            "                                                                 \n",
            " dense_5 (Dense)             (None, 3)                 39        \n",
            "                                                                 \n",
            "=================================================================\n",
            "Total params: 831\n",
            "Trainable params: 831\n",
            "Non-trainable params: 0\n",
            "_________________________________________________________________\n"
          ]
        }
      ]
    },
    {
      "cell_type": "code",
      "source": [
        "model2.compile('adam', 'categorical_crossentropy', ['accuracy'])"
      ],
      "metadata": {
        "id": "S1ZOO4QdG4VX"
      },
      "execution_count": null,
      "outputs": []
    },
    {
      "cell_type": "code",
      "source": [
        "hist2 = model2.fit(X_train, y_train, validation_split=0.2,\n",
        "                   epochs=500, batch_size=100, verbose=0)"
      ],
      "metadata": {
        "id": "R2-xQEigGSOa"
      },
      "execution_count": null,
      "outputs": []
    },
    {
      "cell_type": "code",
      "source": [
        "y_acc12 = hist2.history['accuracy']\n",
        "y_vloss12 = hist2.history['val_loss']\n",
        "xs = np.arange(1, len(y_acc12) + 1)\n",
        "plt.figure(figsize=(12, 8))\n",
        "plt.plot(xs, y_acc12, label='train.accuracy')\n",
        "plt.plot(xs, y_vloss12, label='validation loss')\n",
        "plt.legend(), plt.grid()\n",
        "plt.ylim([0,1.2])\n",
        "plt.xlabel('Epoch')\n",
        "plt.title('No feature transform')\n",
        "plt.show()"
      ],
      "metadata": {
        "colab": {
          "base_uri": "https://localhost:8080/",
          "height": 513
        },
        "id": "w1kjIdzRGriI",
        "outputId": "039c9f70-dfec-49f7-bb06-38a814f0f703"
      },
      "execution_count": null,
      "outputs": [
        {
          "output_type": "display_data",
          "data": {
            "text/plain": [
              "<Figure size 864x576 with 1 Axes>"
            ],
            "image/png": "[encoded data removed]"
          },
          "metadata": {
            "needs_background": "light"
          }
        }
      ]
    },
    {
      "cell_type": "code",
      "source": [
        "model2.save('wind.h5')"
      ],
      "metadata": {
        "id": "_gJzOk-XHg-Q"
      },
      "execution_count": null,
      "outputs": []
    },
    {
      "cell_type": "code",
      "source": [
        "!ls -l"
      ],
      "metadata": {
        "colab": {
          "base_uri": "https://localhost:8080/"
        },
        "id": "YATIpb7lHiuR",
        "outputId": "34ca9fc1-ebae-4f72-8afa-72317349d7d3"
      },
      "execution_count": null,
      "outputs": [
        {
          "output_type": "stream",
          "name": "stdout",
          "text": [
            "total 48\n",
            "drwxr-xr-x 1 root root  4096 Oct  7 13:35 sample_data\n",
            "-rw-r--r-- 1 root root 43704 Oct 13 02:13 wind.h5\n"
          ]
        }
      ]
    },
    {
      "cell_type": "code",
      "source": [
        "from tensorflow.keras.models import load_model\n",
        "my_model = load_model('wind.h5')"
      ],
      "metadata": {
        "id": "7E2kWgQDHjbO"
      },
      "execution_count": null,
      "outputs": []
    },
    {
      "cell_type": "code",
      "source": [
        "my_model.evaluate(X_test, y_test)"
      ],
      "metadata": {
        "colab": {
          "base_uri": "https://localhost:8080/"
        },
        "id": "dXK1lhw1Ho3X",
        "outputId": "48f0b19a-b1f1-450e-ff45-5b15ad8fc2df"
      },
      "execution_count": null,
      "outputs": [
        {
          "output_type": "stream",
          "name": "stdout",
          "text": [
            "2/2 [==============================] - 0s 7ms/step - loss: 0.0019 - accuracy: 1.0000\n"
          ]
        },
        {
          "output_type": "execute_result",
          "data": {
            "text/plain": [
              "[0.0018801080295816064, 1.0]"
            ]
          },
          "metadata": {},
          "execution_count": 29
        }
      ]
    },
    {
      "cell_type": "code",
      "source": [
        "wine_std[100], Y[100]"
      ],
      "metadata": {
        "colab": {
          "base_uri": "https://localhost:8080/"
        },
        "id": "yeobq_UgHvie",
        "outputId": "4e32fd25-fcc0-4e5c-e46a-31211c27cbe1"
      },
      "execution_count": null,
      "outputs": [
        {
          "output_type": "execute_result",
          "data": {
            "text/plain": [
              "(array([-1.13720713, -0.23011443, -2.43634632, -0.59905169, -0.192495  ,\n",
              "        -0.10433159,  0.14128858, -0.82071924, -0.33447089, -0.76049691,\n",
              "         1.37126518,  0.49197446, -0.11748635]),\n",
              " array([0., 1., 0.], dtype=float32))"
            ]
          },
          "metadata": {},
          "execution_count": 31
        }
      ]
    },
    {
      "cell_type": "code",
      "source": [
        "my_model.evaluate(wine_std[100].reshape(1, -1), Y[100].reshape(1, -1))"
      ],
      "metadata": {
        "colab": {
          "base_uri": "https://localhost:8080/"
        },
        "id": "NloQ9k4ZHyhH",
        "outputId": "bd9365a9-a8c5-4673-b50b-6396c5da198d"
      },
      "execution_count": null,
      "outputs": [
        {
          "output_type": "stream",
          "name": "stdout",
          "text": [
            "1/1 [==============================] - 0s 23ms/step - loss: 2.5153e-05 - accuracy: 1.0000\n"
          ]
        },
        {
          "output_type": "execute_result",
          "data": {
            "text/plain": [
              "[2.5152843591058627e-05, 1.0]"
            ]
          },
          "metadata": {},
          "execution_count": 32
        }
      ]
    },
    {
      "cell_type": "markdown",
      "source": [
        "# 캘리포니아 하우징"
      ],
      "metadata": {
        "id": "bfn0J5EdMgxf"
      }
    },
    {
      "cell_type": "code",
      "source": [
        "import numpy as np\n",
        "import pandas as pd\n",
        "import matplotlib.pyplot as plt\n",
        "import tensorflow as tf\n",
        "seed = 2022\n",
        "np.random.seed(seed)\n",
        "tf.random.set_seed(seed)"
      ],
      "metadata": {
        "id": "XgWNGStEI9H5"
      },
      "execution_count": null,
      "outputs": []
    },
    {
      "cell_type": "code",
      "source": [
        "from sklearn.datasets import fetch_california_housing\n",
        "house = fetch_california_housing()"
      ],
      "metadata": {
        "id": "k9ngXkG6I9KD"
      },
      "execution_count": null,
      "outputs": []
    },
    {
      "cell_type": "code",
      "source": [
        "df = pd.DataFrame(house.data, columns = house.feature_names)\n",
        "df['target'] = house.target\n",
        "df.head()"
      ],
      "metadata": {
        "colab": {
          "base_uri": "https://localhost:8080/",
          "height": 206
        },
        "id": "RjgzKUcxI9Me",
        "outputId": "b805ff69-1e57-467e-e7dd-51bd183cf8f7"
      },
      "execution_count": null,
      "outputs": [
        {
          "output_type": "execute_result",
          "data": {
            "text/plain": [
              "   MedInc  HouseAge  AveRooms  AveBedrms  Population  AveOccup  Latitude  \\\n",
              "0  8.3252      41.0  6.984127   1.023810       322.0  2.555556     37.88   \n",
              "1  8.3014      21.0  6.238137   0.971880      2401.0  2.109842     37.86   \n",
              "2  7.2574      52.0  8.288136   1.073446       496.0  2.802260     37.85   \n",
              "3  5.6431      52.0  5.817352   1.073059       558.0  2.547945     37.85   \n",
              "4  3.8462      52.0  6.281853   1.081081       565.0  2.181467     37.85   \n",
              "\n",
              "   Longitude  target  \n",
              "0    -122.23   4.526  \n",
              "1    -122.22   3.585  \n",
              "2    -122.24   3.521  \n",
              "3    -122.25   3.413  \n",
              "4    -122.25   3.422  "
            ],
            "text/html": [
              "\n",
              "  <div id=\"df-07fc17a5-4160-400b-a73d-c9f517de0ad9\">\n",
              "    <div class=\"colab-df-container\">\n",
              "      <div>\n",
              "<style scoped>\n",
              "    .dataframe tbody tr th:only-of-type {\n",
              "        vertical-align: middle;\n",
              "    }\n",
              "\n",
              "    .dataframe tbody tr th {\n",
              "        vertical-align: top;\n",
              "    }\n",
              "\n",
              "    .dataframe thead th {\n",
              "        text-align: right;\n",
              "    }\n",
              "</style>\n",
              "<table border=\"1\" class=\"dataframe\">\n",
              "  <thead>\n",
              "    <tr style=\"text-align: right;\">\n",
              "      <th></th>\n",
              "      <th>MedInc</th>\n",
              "      <th>HouseAge</th>\n",
              "      <th>AveRooms</th>\n",
              "      <th>AveBedrms</th>\n",
              "      <th>Population</th>\n",
              "      <th>AveOccup</th>\n",
              "      <th>Latitude</th>\n",
              "      <th>Longitude</th>\n",
              "      <th>target</th>\n",
              "    </tr>\n",
              "  </thead>\n",
              "  <tbody>\n",
              "    <tr>\n",
              "      <th>0</th>\n",
              "      <td>8.3252</td>\n",
              "      <td>41.0</td>\n",
              "      <td>6.984127</td>\n",
              "      <td>1.023810</td>\n",
              "      <td>322.0</td>\n",
              "      <td>2.555556</td>\n",
              "      <td>37.88</td>\n",
              "      <td>-122.23</td>\n",
              "      <td>4.526</td>\n",
              "    </tr>\n",
              "    <tr>\n",
              "      <th>1</th>\n",
              "      <td>8.3014</td>\n",
              "      <td>21.0</td>\n",
              "      <td>6.238137</td>\n",
              "      <td>0.971880</td>\n",
              "      <td>2401.0</td>\n",
              "      <td>2.109842</td>\n",
              "      <td>37.86</td>\n",
              "      <td>-122.22</td>\n",
              "      <td>3.585</td>\n",
              "    </tr>\n",
              "    <tr>\n",
              "      <th>2</th>\n",
              "      <td>7.2574</td>\n",
              "      <td>52.0</td>\n",
              "      <td>8.288136</td>\n",
              "      <td>1.073446</td>\n",
              "      <td>496.0</td>\n",
              "      <td>2.802260</td>\n",
              "      <td>37.85</td>\n",
              "      <td>-122.24</td>\n",
              "      <td>3.521</td>\n",
              "    </tr>\n",
              "    <tr>\n",
              "      <th>3</th>\n",
              "      <td>5.6431</td>\n",
              "      <td>52.0</td>\n",
              "      <td>5.817352</td>\n",
              "      <td>1.073059</td>\n",
              "      <td>558.0</td>\n",
              "      <td>2.547945</td>\n",
              "      <td>37.85</td>\n",
              "      <td>-122.25</td>\n",
              "      <td>3.413</td>\n",
              "    </tr>\n",
              "    <tr>\n",
              "      <th>4</th>\n",
              "      <td>3.8462</td>\n",
              "      <td>52.0</td>\n",
              "      <td>6.281853</td>\n",
              "      <td>1.081081</td>\n",
              "      <td>565.0</td>\n",
              "      <td>2.181467</td>\n",
              "      <td>37.85</td>\n",
              "      <td>-122.25</td>\n",
              "      <td>3.422</td>\n",
              "    </tr>\n",
              "  </tbody>\n",
              "</table>\n",
              "</div>\n",
              "      <button class=\"colab-df-convert\" onclick=\"convertToInteractive('df-07fc17a5-4160-400b-a73d-c9f517de0ad9')\"\n",
              "              title=\"Convert this dataframe to an interactive table.\"\n",
              "              style=\"display:none;\">\n",
              "        \n",
              "  <svg xmlns=\"http://www.w3.org/2000/svg\" height=\"24px\"viewBox=\"0 0 24 24\"\n",
              "       width=\"24px\">\n",
              "    <path d=\"M0 0h24v24H0V0z\" fill=\"none\"/>\n",
              "    <path d=\"M18.56 5.44l.94 2.06.94-2.06 2.06-.94-2.06-.94-.94-2.06-.94 2.06-2.06.94zm-11 1L8.5 8.5l.94-2.06 2.06-.94-2.06-.94L8.5 2.5l-.94 2.06-2.06.94zm10 10l.94 2.06.94-2.06 2.06-.94-2.06-.94-.94-2.06-.94 2.06-2.06.94z\"/><path d=\"M17.41 7.96l-1.37-1.37c-.4-.4-.92-.59-1.43-.59-.52 0-1.04.2-1.43.59L10.3 9.45l-7.72 7.72c-.78.78-.78 2.05 0 2.83L4 21.41c.39.39.9.59 1.41.59.51 0 1.02-.2 1.41-.59l7.78-7.78 2.81-2.81c.8-.78.8-2.07 0-2.86zM5.41 20L4 18.59l7.72-7.72 1.47 1.35L5.41 20z\"/>\n",
              "  </svg>\n",
              "      </button>\n",
              "      \n",
              "  <style>\n",
              "    .colab-df-container {\n",
              "      display:flex;\n",
              "      flex-wrap:wrap;\n",
              "      gap: 12px;\n",
              "    }\n",
              "\n",
              "    .colab-df-convert {\n",
              "      background-color: #E8F0FE;\n",
              "      border: none;\n",
              "      border-radius: 50%;\n",
              "      cursor: pointer;\n",
              "      display: none;\n",
              "      fill: #1967D2;\n",
              "      height: 32px;\n",
              "      padding: 0 0 0 0;\n",
              "      width: 32px;\n",
              "    }\n",
              "\n",
              "    .colab-df-convert:hover {\n",
              "      background-color: #E2EBFA;\n",
              "      box-shadow: 0px 1px 2px rgba(60, 64, 67, 0.3), 0px 1px 3px 1px rgba(60, 64, 67, 0.15);\n",
              "      fill: #174EA6;\n",
              "    }\n",
              "\n",
              "    [theme=dark] .colab-df-convert {\n",
              "      background-color: #3B4455;\n",
              "      fill: #D2E3FC;\n",
              "    }\n",
              "\n",
              "    [theme=dark] .colab-df-convert:hover {\n",
              "      background-color: #434B5C;\n",
              "      box-shadow: 0px 1px 3px 1px rgba(0, 0, 0, 0.15);\n",
              "      filter: drop-shadow(0px 1px 2px rgba(0, 0, 0, 0.3));\n",
              "      fill: #FFFFFF;\n",
              "    }\n",
              "  </style>\n",
              "\n",
              "      <script>\n",
              "        const buttonEl =\n",
              "          document.querySelector('#df-07fc17a5-4160-400b-a73d-c9f517de0ad9 button.colab-df-convert');\n",
              "        buttonEl.style.display =\n",
              "          google.colab.kernel.accessAllowed ? 'block' : 'none';\n",
              "\n",
              "        async function convertToInteractive(key) {\n",
              "          const element = document.querySelector('#df-07fc17a5-4160-400b-a73d-c9f517de0ad9');\n",
              "          const dataTable =\n",
              "            await google.colab.kernel.invokeFunction('convertToInteractive',\n",
              "                                                     [key], {});\n",
              "          if (!dataTable) return;\n",
              "\n",
              "          const docLinkHtml = 'Like what you see? Visit the ' +\n",
              "            '<a target=\"_blank\" href=https://colab.research.google.com/notebooks/data_table.ipynb>data table notebook</a>'\n",
              "            + ' to learn more about interactive tables.';\n",
              "          element.innerHTML = '';\n",
              "          dataTable['output_type'] = 'display_data';\n",
              "          await google.colab.output.renderOutput(dataTable, element);\n",
              "          const docLink = document.createElement('div');\n",
              "          docLink.innerHTML = docLinkHtml;\n",
              "          element.appendChild(docLink);\n",
              "        }\n",
              "      </script>\n",
              "    </div>\n",
              "  </div>\n",
              "  "
            ]
          },
          "metadata": {},
          "execution_count": 57
        }
      ]
    },
    {
      "cell_type": "code",
      "source": [
        "df.shape"
      ],
      "metadata": {
        "colab": {
          "base_uri": "https://localhost:8080/"
        },
        "id": "yAYWEmV5I9Q4",
        "outputId": "bf53421a-3ab6-48b4-dd65-65a88c185ff0"
      },
      "execution_count": null,
      "outputs": [
        {
          "output_type": "execute_result",
          "data": {
            "text/plain": [
              "(20640, 9)"
            ]
          },
          "metadata": {},
          "execution_count": 58
        }
      ]
    },
    {
      "cell_type": "code",
      "source": [
        "X_train, X_test, y_train, y_test = train_test_split(\n",
        "    house.data, house.target, test_size=0.1, random_state=seed\n",
        ")"
      ],
      "metadata": {
        "id": "LWtwzS4PK_6-"
      },
      "execution_count": null,
      "outputs": []
    },
    {
      "cell_type": "code",
      "source": [
        "del model"
      ],
      "metadata": {
        "id": "CEfZRdlEMqNY"
      },
      "execution_count": null,
      "outputs": []
    },
    {
      "cell_type": "code",
      "source": [
        "from tensorflow.keras.models import Sequential\n",
        "from tensorflow.keras.layers import Dense\n",
        "\n",
        "model = Sequential([\n",
        "    Dense(20,input_dim = 8, activation='relu'),\n",
        "    Dense(8, activation='relu'),\n",
        "    Dense(1) # 회귀에서는 출력층에 활성화 함수 사용 X\n",
        "])"
      ],
      "metadata": {
        "id": "5H58CYyULGoW"
      },
      "execution_count": null,
      "outputs": []
    },
    {
      "cell_type": "code",
      "source": [
        "model.compile('adam', 'mean_squared_error') # 회귀에서는 메트릭스 정의 X"
      ],
      "metadata": {
        "id": "5rxeiukPLXFO"
      },
      "execution_count": null,
      "outputs": []
    },
    {
      "cell_type": "code",
      "source": [
        "hist1 = model.fit(X_train, y_train, validation_split = 0.1,\n",
        "                  epochs=100, batch_size=256, verbose=0)"
      ],
      "metadata": {
        "id": "i-xaHBOELiLu"
      },
      "execution_count": null,
      "outputs": []
    },
    {
      "cell_type": "code",
      "source": [
        "model.evaluate(X_test, y_test)"
      ],
      "metadata": {
        "colab": {
          "base_uri": "https://localhost:8080/"
        },
        "id": "SMgfoLo5Lpgn",
        "outputId": "f69ae696-29a4-4c0d-8024-09867c5f71fb"
      },
      "execution_count": null,
      "outputs": [
        {
          "output_type": "stream",
          "name": "stdout",
          "text": [
            "65/65 [==============================] - 0s 2ms/step - loss: 0.6362\n"
          ]
        },
        {
          "output_type": "execute_result",
          "data": {
            "text/plain": [
              "0.6361977458000183"
            ]
          },
          "metadata": {},
          "execution_count": 68
        }
      ]
    },
    {
      "cell_type": "code",
      "source": [
        "y_loss = hist1.history['loss']\n",
        "y_vloss = hist1.history['val_loss']\n",
        "xs = np.arange(1, len(y_loss) + 1)\n",
        "plt.figure(figsize=(12, 8))\n",
        "plt.plot(xs, y_loss, label='loss')\n",
        "plt.plot(xs, y_vloss, label='validation loss')\n",
        "plt.legend(), plt.grid()\n",
        "# plt.ylim([0,1.2])\n",
        "plt.xlabel('Epoch')\n",
        "plt.title('No feature transform')\n",
        "plt.show()"
      ],
      "metadata": {
        "colab": {
          "base_uri": "https://localhost:8080/",
          "height": 513
        },
        "id": "ItoXKF_NL1x-",
        "outputId": "dd9df845-c95e-46a3-a444-6ef881c9ae0a"
      },
      "execution_count": null,
      "outputs": [
        {
          "output_type": "display_data",
          "data": {
            "text/plain": [
              "<Figure size 864x576 with 1 Axes>"
            ],
            "image/png": "[encoded data removed]"
          },
          "metadata": {
            "needs_background": "light"
          }
        }
      ]
    },
    {
      "cell_type": "code",
      "source": [
        "pred = model.predict(X_test)\n",
        "from sklearn.metrics import r2_score\n",
        "r2_score(y_test, pred)"
      ],
      "metadata": {
        "colab": {
          "base_uri": "https://localhost:8080/"
        },
        "id": "Hl4M_10pL4ch",
        "outputId": "92191575-d4a2-45ea-fc6e-d8fc02944b77"
      },
      "execution_count": null,
      "outputs": [
        {
          "output_type": "stream",
          "name": "stdout",
          "text": [
            "65/65 [==============================] - 0s 1ms/step\n"
          ]
        },
        {
          "output_type": "execute_result",
          "data": {
            "text/plain": [
              "0.504295298577242"
            ]
          },
          "metadata": {},
          "execution_count": 70
        }
      ]
    },
    {
      "cell_type": "code",
      "source": [
        "from sklearn.metrics import r2_score, mean_squared_error\n",
        "mean_squared_error(y_test, pred)"
      ],
      "metadata": {
        "colab": {
          "base_uri": "https://localhost:8080/"
        },
        "id": "7B6TmvvzMBVd",
        "outputId": "a7dbfab1-6050-4b72-f766-6c01dd002edc"
      },
      "execution_count": null,
      "outputs": [
        {
          "output_type": "execute_result",
          "data": {
            "text/plain": [
              "0.6361976667520474"
            ]
          },
          "metadata": {},
          "execution_count": 71
        }
      ]
    },
    {
      "cell_type": "code",
      "source": [
        "dft = pd.DataFrame({'y_test' : y_test, 'pred': pred.reshape(-1)})\n",
        "dft.head()"
      ],
      "metadata": {
        "colab": {
          "base_uri": "https://localhost:8080/",
          "height": 206
        },
        "id": "P4RVK5jgNLT-",
        "outputId": "68a02482-a9c3-4529-8305-0f03263eba21"
      },
      "execution_count": null,
      "outputs": [
        {
          "output_type": "execute_result",
          "data": {
            "text/plain": [
              "   y_test      pred\n",
              "0   4.771  4.383294\n",
              "1   1.371  1.487298\n",
              "2   1.233  1.716851\n",
              "3   0.938  1.554040\n",
              "4   3.260  3.083520"
            ],
            "text/html": [
              "\n",
              "  <div id=\"df-b212998f-a8ad-4bf7-b2e1-9688370f76bf\">\n",
              "    <div class=\"colab-df-container\">\n",
              "      <div>\n",
              "<style scoped>\n",
              "    .dataframe tbody tr th:only-of-type {\n",
              "        vertical-align: middle;\n",
              "    }\n",
              "\n",
              "    .dataframe tbody tr th {\n",
              "        vertical-align: top;\n",
              "    }\n",
              "\n",
              "    .dataframe thead th {\n",
              "        text-align: right;\n",
              "    }\n",
              "</style>\n",
              "<table border=\"1\" class=\"dataframe\">\n",
              "  <thead>\n",
              "    <tr style=\"text-align: right;\">\n",
              "      <th></th>\n",
              "      <th>y_test</th>\n",
              "      <th>pred</th>\n",
              "    </tr>\n",
              "  </thead>\n",
              "  <tbody>\n",
              "    <tr>\n",
              "      <th>0</th>\n",
              "      <td>4.771</td>\n",
              "      <td>4.383294</td>\n",
              "    </tr>\n",
              "    <tr>\n",
              "      <th>1</th>\n",
              "      <td>1.371</td>\n",
              "      <td>1.487298</td>\n",
              "    </tr>\n",
              "    <tr>\n",
              "      <th>2</th>\n",
              "      <td>1.233</td>\n",
              "      <td>1.716851</td>\n",
              "    </tr>\n",
              "    <tr>\n",
              "      <th>3</th>\n",
              "      <td>0.938</td>\n",
              "      <td>1.554040</td>\n",
              "    </tr>\n",
              "    <tr>\n",
              "      <th>4</th>\n",
              "      <td>3.260</td>\n",
              "      <td>3.083520</td>\n",
              "    </tr>\n",
              "  </tbody>\n",
              "</table>\n",
              "</div>\n",
              "      <button class=\"colab-df-convert\" onclick=\"convertToInteractive('df-b212998f-a8ad-4bf7-b2e1-9688370f76bf')\"\n",
              "              title=\"Convert this dataframe to an interactive table.\"\n",
              "              style=\"display:none;\">\n",
              "        \n",
              "  <svg xmlns=\"http://www.w3.org/2000/svg\" height=\"24px\"viewBox=\"0 0 24 24\"\n",
              "       width=\"24px\">\n",
              "    <path d=\"M0 0h24v24H0V0z\" fill=\"none\"/>\n",
              "    <path d=\"M18.56 5.44l.94 2.06.94-2.06 2.06-.94-2.06-.94-.94-2.06-.94 2.06-2.06.94zm-11 1L8.5 8.5l.94-2.06 2.06-.94-2.06-.94L8.5 2.5l-.94 2.06-2.06.94zm10 10l.94 2.06.94-2.06 2.06-.94-2.06-.94-.94-2.06-.94 2.06-2.06.94z\"/><path d=\"M17.41 7.96l-1.37-1.37c-.4-.4-.92-.59-1.43-.59-.52 0-1.04.2-1.43.59L10.3 9.45l-7.72 7.72c-.78.78-.78 2.05 0 2.83L4 21.41c.39.39.9.59 1.41.59.51 0 1.02-.2 1.41-.59l7.78-7.78 2.81-2.81c.8-.78.8-2.07 0-2.86zM5.41 20L4 18.59l7.72-7.72 1.47 1.35L5.41 20z\"/>\n",
              "  </svg>\n",
              "      </button>\n",
              "      \n",
              "  <style>\n",
              "    .colab-df-container {\n",
              "      display:flex;\n",
              "      flex-wrap:wrap;\n",
              "      gap: 12px;\n",
              "    }\n",
              "\n",
              "    .colab-df-convert {\n",
              "      background-color: #E8F0FE;\n",
              "      border: none;\n",
              "      border-radius: 50%;\n",
              "      cursor: pointer;\n",
              "      display: none;\n",
              "      fill: #1967D2;\n",
              "      height: 32px;\n",
              "      padding: 0 0 0 0;\n",
              "      width: 32px;\n",
              "    }\n",
              "\n",
              "    .colab-df-convert:hover {\n",
              "      background-color: #E2EBFA;\n",
              "      box-shadow: 0px 1px 2px rgba(60, 64, 67, 0.3), 0px 1px 3px 1px rgba(60, 64, 67, 0.15);\n",
              "      fill: #174EA6;\n",
              "    }\n",
              "\n",
              "    [theme=dark] .colab-df-convert {\n",
              "      background-color: #3B4455;\n",
              "      fill: #D2E3FC;\n",
              "    }\n",
              "\n",
              "    [theme=dark] .colab-df-convert:hover {\n",
              "      background-color: #434B5C;\n",
              "      box-shadow: 0px 1px 3px 1px rgba(0, 0, 0, 0.15);\n",
              "      filter: drop-shadow(0px 1px 2px rgba(0, 0, 0, 0.3));\n",
              "      fill: #FFFFFF;\n",
              "    }\n",
              "  </style>\n",
              "\n",
              "      <script>\n",
              "        const buttonEl =\n",
              "          document.querySelector('#df-b212998f-a8ad-4bf7-b2e1-9688370f76bf button.colab-df-convert');\n",
              "        buttonEl.style.display =\n",
              "          google.colab.kernel.accessAllowed ? 'block' : 'none';\n",
              "\n",
              "        async function convertToInteractive(key) {\n",
              "          const element = document.querySelector('#df-b212998f-a8ad-4bf7-b2e1-9688370f76bf');\n",
              "          const dataTable =\n",
              "            await google.colab.kernel.invokeFunction('convertToInteractive',\n",
              "                                                     [key], {});\n",
              "          if (!dataTable) return;\n",
              "\n",
              "          const docLinkHtml = 'Like what you see? Visit the ' +\n",
              "            '<a target=\"_blank\" href=https://colab.research.google.com/notebooks/data_table.ipynb>data table notebook</a>'\n",
              "            + ' to learn more about interactive tables.';\n",
              "          element.innerHTML = '';\n",
              "          dataTable['output_type'] = 'display_data';\n",
              "          await google.colab.output.renderOutput(dataTable, element);\n",
              "          const docLink = document.createElement('div');\n",
              "          docLink.innerHTML = docLinkHtml;\n",
              "          element.appendChild(docLink);\n",
              "        }\n",
              "      </script>\n",
              "    </div>\n",
              "  </div>\n",
              "  "
            ]
          },
          "metadata": {},
          "execution_count": 72
        }
      ]
    },
    {
      "cell_type": "markdown",
      "source": [
        "# 과적합 피하기"
      ],
      "metadata": {
        "id": "aZqJtAE8N4rc"
      }
    },
    {
      "cell_type": "code",
      "source": [
        "from google.colab import files\n",
        "up = files.upload()"
      ],
      "metadata": {
        "colab": {
          "base_uri": "https://localhost:8080/",
          "height": 73
        },
        "id": "gwtMw9plOC_Z",
        "outputId": "5c979334-5d0b-4655-e98e-7099fa497405"
      },
      "execution_count": null,
      "outputs": [
        {
          "output_type": "display_data",
          "data": {
            "text/plain": [
              "<IPython.core.display.HTML object>"
            ],
            "text/html": [
              "\n",
              "     <input type=\"file\" id=\"files-edefdc49-7622-4fb5-a226-8cb0c10bb2c2\" name=\"files[]\" multiple disabled\n",
              "        style=\"border:none\" />\n",
              "     <output id=\"result-edefdc49-7622-4fb5-a226-8cb0c10bb2c2\">\n",
              "      Upload widget is only available when the cell has been executed in the\n",
              "      current browser session. Please rerun this cell to enable.\n",
              "      </output>\n",
              "      <script>// Copyright 2017 Google LLC\n",
              "//\n",
              "// Licensed under the Apache License, Version 2.0 (the \"License\");\n",
              "// you may not use this file except in compliance with the License.\n",
              "// You may obtain a copy of the License at\n",
              "//\n",
              "//      http://www.apache.org/licenses/LICENSE-2.0\n",
              "//\n",
              "// Unless required by applicable law or agreed to in writing, software\n",
              "// distributed under the License is distributed on an \"AS IS\" BASIS,\n",
              "// WITHOUT WARRANTIES OR CONDITIONS OF ANY KIND, either express or implied.\n",
              "// See the License for the specific language governing permissions and\n",
              "// limitations under the License.\n",
              "\n",
              "/**\n",
              " * @fileoverview Helpers for google.colab Python module.\n",
              " */\n",
              "(function(scope) {\n",
              "function span(text, styleAttributes = {}) {\n",
              "  const element = document.createElement('span');\n",
              "  element.textContent = text;\n",
              "  for (const key of Object.keys(styleAttributes)) {\n",
              "    element.style[key] = styleAttributes[key];\n",
              "  }\n",
              "  return element;\n",
              "}\n",
              "\n",
              "// Max number of bytes which will be uploaded at a time.\n",
              "const MAX_PAYLOAD_SIZE = 100 * 1024;\n",
              "\n",
              "function _uploadFiles(inputId, outputId) {\n",
              "  const steps = uploadFilesStep(inputId, outputId);\n",
              "  const outputElement = document.getElementById(outputId);\n",
              "  // Cache steps on the outputElement to make it available for the next call\n",
              "  // to uploadFilesContinue from Python.\n",
              "  outputElement.steps = steps;\n",
              "\n",
              "  return _uploadFilesContinue(outputId);\n",
              "}\n",
              "\n",
              "// This is roughly an async generator (not supported in the browser yet),\n",
              "// where there are multiple asynchronous steps and the Python side is going\n",
              "// to poll for completion of each step.\n",
              "// This uses a Promise to block the python side on completion of each step,\n",
              "// then passes the result of the previous step as the input to the next step.\n",
              "function _uploadFilesContinue(outputId) {\n",
              "  const outputElement = document.getElementById(outputId);\n",
              "  const steps = outputElement.steps;\n",
              "\n",
              "  const next = steps.next(outputElement.lastPromiseValue);\n",
              "  return Promise.resolve(next.value.promise).then((value) => {\n",
              "    // Cache the last promise value to make it available to the next\n",
              "    // step of the generator.\n",
              "    outputElement.lastPromiseValue = value;\n",
              "    return next.value.response;\n",
              "  });\n",
              "}\n",
              "\n",
              "/**\n",
              " * Generator function which is called between each async step of the upload\n",
              " * process.\n",
              " * @param {string} inputId Element ID of the input file picker element.\n",
              " * @param {string} outputId Element ID of the output display.\n",
              " * @return {!Iterable<!Object>} Iterable of next steps.\n",
              " */\n",
              "function* uploadFilesStep(inputId, outputId) {\n",
              "  const inputElement = document.getElementById(inputId);\n",
              "  inputElement.disabled = false;\n",
              "\n",
              "  const outputElement = document.getElementById(outputId);\n",
              "  outputElement.innerHTML = '';\n",
              "\n",
              "  const pickedPromise = new Promise((resolve) => {\n",
              "    inputElement.addEventListener('change', (e) => {\n",
              "      resolve(e.target.files);\n",
              "    });\n",
              "  });\n",
              "\n",
              "  const cancel = document.createElement('button');\n",
              "  inputElement.parentElement.appendChild(cancel);\n",
              "  cancel.textContent = 'Cancel upload';\n",
              "  const cancelPromise = new Promise((resolve) => {\n",
              "    cancel.onclick = () => {\n",
              "      resolve(null);\n",
              "    };\n",
              "  });\n",
              "\n",
              "  // Wait for the user to pick the files.\n",
              "  const files = yield {\n",
              "    promise: Promise.race([pickedPromise, cancelPromise]),\n",
              "    response: {\n",
              "      action: 'starting',\n",
              "    }\n",
              "  };\n",
              "\n",
              "  cancel.remove();\n",
              "\n",
              "  // Disable the input element since further picks are not allowed.\n",
              "  inputElement.disabled = true;\n",
              "\n",
              "  if (!files) {\n",
              "    return {\n",
              "      response: {\n",
              "        action: 'complete',\n",
              "      }\n",
              "    };\n",
              "  }\n",
              "\n",
              "  for (const file of files) {\n",
              "    const li = document.createElement('li');\n",
              "    li.append(span(file.name, {fontWeight: 'bold'}));\n",
              "    li.append(span(\n",
              "        `(${file.type || 'n/a'}) - ${file.size} bytes, ` +\n",
              "        `last modified: ${\n",
              "            file.lastModifiedDate ? file.lastModifiedDate.toLocaleDateString() :\n",
              "                                    'n/a'} - `));\n",
              "    const percent = span('0% done');\n",
              "    li.appendChild(percent);\n",
              "\n",
              "    outputElement.appendChild(li);\n",
              "\n",
              "    const fileDataPromise = new Promise((resolve) => {\n",
              "      const reader = new FileReader();\n",
              "      reader.onload = (e) => {\n",
              "        resolve(e.target.result);\n",
              "      };\n",
              "      reader.readAsArrayBuffer(file);\n",
              "    });\n",
              "    // Wait for the data to be ready.\n",
              "    let fileData = yield {\n",
              "      promise: fileDataPromise,\n",
              "      response: {\n",
              "        action: 'continue',\n",
              "      }\n",
              "    };\n",
              "\n",
              "    // Use a chunked sending to avoid message size limits. See b/62115660.\n",
              "    let position = 0;\n",
              "    do {\n",
              "      const length = Math.min(fileData.byteLength - position, MAX_PAYLOAD_SIZE);\n",
              "      const chunk = new Uint8Array(fileData, position, length);\n",
              "      position += length;\n",
              "\n",
              "      const base64 = btoa(String.fromCharCode.apply(null, chunk));\n",
              "      yield {\n",
              "        response: {\n",
              "          action: 'append',\n",
              "          file: file.name,\n",
              "          data: base64,\n",
              "        },\n",
              "      };\n",
              "\n",
              "      let percentDone = fileData.byteLength === 0 ?\n",
              "          100 :\n",
              "          Math.round((position / fileData.byteLength) * 100);\n",
              "      percent.textContent = `${percentDone}% done`;\n",
              "\n",
              "    } while (position < fileData.byteLength);\n",
              "  }\n",
              "\n",
              "  // All done.\n",
              "  yield {\n",
              "    response: {\n",
              "      action: 'complete',\n",
              "    }\n",
              "  };\n",
              "}\n",
              "\n",
              "scope.google = scope.google || {};\n",
              "scope.google.colab = scope.google.colab || {};\n",
              "scope.google.colab._files = {\n",
              "  _uploadFiles,\n",
              "  _uploadFilesContinue,\n",
              "};\n",
              "})(self);\n",
              "</script> "
            ]
          },
          "metadata": {}
        },
        {
          "output_type": "stream",
          "name": "stdout",
          "text": [
            "Saving sonar_csv.csv to sonar_csv.csv\n"
          ]
        }
      ]
    },
    {
      "cell_type": "code",
      "source": [
        "df = pd.read_csv('sonar_csv.csv')\n",
        "df.columns = range(0,61)\n",
        "df.head()"
      ],
      "metadata": {
        "colab": {
          "base_uri": "https://localhost:8080/",
          "height": 299
        },
        "id": "bHYu_SBVPgOn",
        "outputId": "17032a87-8743-4b7e-8754-a71a8deef593"
      },
      "execution_count": null,
      "outputs": [
        {
          "output_type": "execute_result",
          "data": {
            "text/plain": [
              "       0       1       2       3       4       5       6       7       8   \\\n",
              "0  0.0200  0.0371  0.0428  0.0207  0.0954  0.0986  0.1539  0.1601  0.3109   \n",
              "1  0.0453  0.0523  0.0843  0.0689  0.1183  0.2583  0.2156  0.3481  0.3337   \n",
              "2  0.0262  0.0582  0.1099  0.1083  0.0974  0.2280  0.2431  0.3771  0.5598   \n",
              "3  0.0100  0.0171  0.0623  0.0205  0.0205  0.0368  0.1098  0.1276  0.0598   \n",
              "4  0.0762  0.0666  0.0481  0.0394  0.0590  0.0649  0.1209  0.2467  0.3564   \n",
              "\n",
              "       9   ...      51      52      53      54      55      56      57  \\\n",
              "0  0.2111  ...  0.0027  0.0065  0.0159  0.0072  0.0167  0.0180  0.0084   \n",
              "1  0.2872  ...  0.0084  0.0089  0.0048  0.0094  0.0191  0.0140  0.0049   \n",
              "2  0.6194  ...  0.0232  0.0166  0.0095  0.0180  0.0244  0.0316  0.0164   \n",
              "3  0.1264  ...  0.0121  0.0036  0.0150  0.0085  0.0073  0.0050  0.0044   \n",
              "4  0.4459  ...  0.0031  0.0054  0.0105  0.0110  0.0015  0.0072  0.0048   \n",
              "\n",
              "       58      59    60  \n",
              "0  0.0090  0.0032  Rock  \n",
              "1  0.0052  0.0044  Rock  \n",
              "2  0.0095  0.0078  Rock  \n",
              "3  0.0040  0.0117  Rock  \n",
              "4  0.0107  0.0094  Rock  \n",
              "\n",
              "[5 rows x 61 columns]"
            ],
            "text/html": [
              "\n",
              "  <div id=\"df-cb039fdf-1bce-4075-9da9-036068845626\">\n",
              "    <div class=\"colab-df-container\">\n",
              "      <div>\n",
              "<style scoped>\n",
              "    .dataframe tbody tr th:only-of-type {\n",
              "        vertical-align: middle;\n",
              "    }\n",
              "\n",
              "    .dataframe tbody tr th {\n",
              "        vertical-align: top;\n",
              "    }\n",
              "\n",
              "    .dataframe thead th {\n",
              "        text-align: right;\n",
              "    }\n",
              "</style>\n",
              "<table border=\"1\" class=\"dataframe\">\n",
              "  <thead>\n",
              "    <tr style=\"text-align: right;\">\n",
              "      <th></th>\n",
              "      <th>0</th>\n",
              "      <th>1</th>\n",
              "      <th>2</th>\n",
              "      <th>3</th>\n",
              "      <th>4</th>\n",
              "      <th>5</th>\n",
              "      <th>6</th>\n",
              "      <th>7</th>\n",
              "      <th>8</th>\n",
              "      <th>9</th>\n",
              "      <th>...</th>\n",
              "      <th>51</th>\n",
              "      <th>52</th>\n",
              "      <th>53</th>\n",
              "      <th>54</th>\n",
              "      <th>55</th>\n",
              "      <th>56</th>\n",
              "      <th>57</th>\n",
              "      <th>58</th>\n",
              "      <th>59</th>\n",
              "      <th>60</th>\n",
              "    </tr>\n",
              "  </thead>\n",
              "  <tbody>\n",
              "    <tr>\n",
              "      <th>0</th>\n",
              "      <td>0.0200</td>\n",
              "      <td>0.0371</td>\n",
              "      <td>0.0428</td>\n",
              "      <td>0.0207</td>\n",
              "      <td>0.0954</td>\n",
              "      <td>0.0986</td>\n",
              "      <td>0.1539</td>\n",
              "      <td>0.1601</td>\n",
              "      <td>0.3109</td>\n",
              "      <td>0.2111</td>\n",
              "      <td>...</td>\n",
              "      <td>0.0027</td>\n",
              "      <td>0.0065</td>\n",
              "      <td>0.0159</td>\n",
              "      <td>0.0072</td>\n",
              "      <td>0.0167</td>\n",
              "      <td>0.0180</td>\n",
              "      <td>0.0084</td>\n",
              "      <td>0.0090</td>\n",
              "      <td>0.0032</td>\n",
              "      <td>Rock</td>\n",
              "    </tr>\n",
              "    <tr>\n",
              "      <th>1</th>\n",
              "      <td>0.0453</td>\n",
              "      <td>0.0523</td>\n",
              "      <td>0.0843</td>\n",
              "      <td>0.0689</td>\n",
              "      <td>0.1183</td>\n",
              "      <td>0.2583</td>\n",
              "      <td>0.2156</td>\n",
              "      <td>0.3481</td>\n",
              "      <td>0.3337</td>\n",
              "      <td>0.2872</td>\n",
              "      <td>...</td>\n",
              "      <td>0.0084</td>\n",
              "      <td>0.0089</td>\n",
              "      <td>0.0048</td>\n",
              "      <td>0.0094</td>\n",
              "      <td>0.0191</td>\n",
              "      <td>0.0140</td>\n",
              "      <td>0.0049</td>\n",
              "      <td>0.0052</td>\n",
              "      <td>0.0044</td>\n",
              "      <td>Rock</td>\n",
              "    </tr>\n",
              "    <tr>\n",
              "      <th>2</th>\n",
              "      <td>0.0262</td>\n",
              "      <td>0.0582</td>\n",
              "      <td>0.1099</td>\n",
              "      <td>0.1083</td>\n",
              "      <td>0.0974</td>\n",
              "      <td>0.2280</td>\n",
              "      <td>0.2431</td>\n",
              "      <td>0.3771</td>\n",
              "      <td>0.5598</td>\n",
              "      <td>0.6194</td>\n",
              "      <td>...</td>\n",
              "      <td>0.0232</td>\n",
              "      <td>0.0166</td>\n",
              "      <td>0.0095</td>\n",
              "      <td>0.0180</td>\n",
              "      <td>0.0244</td>\n",
              "      <td>0.0316</td>\n",
              "      <td>0.0164</td>\n",
              "      <td>0.0095</td>\n",
              "      <td>0.0078</td>\n",
              "      <td>Rock</td>\n",
              "    </tr>\n",
              "    <tr>\n",
              "      <th>3</th>\n",
              "      <td>0.0100</td>\n",
              "      <td>0.0171</td>\n",
              "      <td>0.0623</td>\n",
              "      <td>0.0205</td>\n",
              "      <td>0.0205</td>\n",
              "      <td>0.0368</td>\n",
              "      <td>0.1098</td>\n",
              "      <td>0.1276</td>\n",
              "      <td>0.0598</td>\n",
              "      <td>0.1264</td>\n",
              "      <td>...</td>\n",
              "      <td>0.0121</td>\n",
              "      <td>0.0036</td>\n",
              "      <td>0.0150</td>\n",
              "      <td>0.0085</td>\n",
              "      <td>0.0073</td>\n",
              "      <td>0.0050</td>\n",
              "      <td>0.0044</td>\n",
              "      <td>0.0040</td>\n",
              "      <td>0.0117</td>\n",
              "      <td>Rock</td>\n",
              "    </tr>\n",
              "    <tr>\n",
              "      <th>4</th>\n",
              "      <td>0.0762</td>\n",
              "      <td>0.0666</td>\n",
              "      <td>0.0481</td>\n",
              "      <td>0.0394</td>\n",
              "      <td>0.0590</td>\n",
              "      <td>0.0649</td>\n",
              "      <td>0.1209</td>\n",
              "      <td>0.2467</td>\n",
              "      <td>0.3564</td>\n",
              "      <td>0.4459</td>\n",
              "      <td>...</td>\n",
              "      <td>0.0031</td>\n",
              "      <td>0.0054</td>\n",
              "      <td>0.0105</td>\n",
              "      <td>0.0110</td>\n",
              "      <td>0.0015</td>\n",
              "      <td>0.0072</td>\n",
              "      <td>0.0048</td>\n",
              "      <td>0.0107</td>\n",
              "      <td>0.0094</td>\n",
              "      <td>Rock</td>\n",
              "    </tr>\n",
              "  </tbody>\n",
              "</table>\n",
              "<p>5 rows × 61 columns</p>\n",
              "</div>\n",
              "      <button class=\"colab-df-convert\" onclick=\"convertToInteractive('df-cb039fdf-1bce-4075-9da9-036068845626')\"\n",
              "              title=\"Convert this dataframe to an interactive table.\"\n",
              "              style=\"display:none;\">\n",
              "        \n",
              "  <svg xmlns=\"http://www.w3.org/2000/svg\" height=\"24px\"viewBox=\"0 0 24 24\"\n",
              "       width=\"24px\">\n",
              "    <path d=\"M0 0h24v24H0V0z\" fill=\"none\"/>\n",
              "    <path d=\"M18.56 5.44l.94 2.06.94-2.06 2.06-.94-2.06-.94-.94-2.06-.94 2.06-2.06.94zm-11 1L8.5 8.5l.94-2.06 2.06-.94-2.06-.94L8.5 2.5l-.94 2.06-2.06.94zm10 10l.94 2.06.94-2.06 2.06-.94-2.06-.94-.94-2.06-.94 2.06-2.06.94z\"/><path d=\"M17.41 7.96l-1.37-1.37c-.4-.4-.92-.59-1.43-.59-.52 0-1.04.2-1.43.59L10.3 9.45l-7.72 7.72c-.78.78-.78 2.05 0 2.83L4 21.41c.39.39.9.59 1.41.59.51 0 1.02-.2 1.41-.59l7.78-7.78 2.81-2.81c.8-.78.8-2.07 0-2.86zM5.41 20L4 18.59l7.72-7.72 1.47 1.35L5.41 20z\"/>\n",
              "  </svg>\n",
              "      </button>\n",
              "      \n",
              "  <style>\n",
              "    .colab-df-container {\n",
              "      display:flex;\n",
              "      flex-wrap:wrap;\n",
              "      gap: 12px;\n",
              "    }\n",
              "\n",
              "    .colab-df-convert {\n",
              "      background-color: #E8F0FE;\n",
              "      border: none;\n",
              "      border-radius: 50%;\n",
              "      cursor: pointer;\n",
              "      display: none;\n",
              "      fill: #1967D2;\n",
              "      height: 32px;\n",
              "      padding: 0 0 0 0;\n",
              "      width: 32px;\n",
              "    }\n",
              "\n",
              "    .colab-df-convert:hover {\n",
              "      background-color: #E2EBFA;\n",
              "      box-shadow: 0px 1px 2px rgba(60, 64, 67, 0.3), 0px 1px 3px 1px rgba(60, 64, 67, 0.15);\n",
              "      fill: #174EA6;\n",
              "    }\n",
              "\n",
              "    [theme=dark] .colab-df-convert {\n",
              "      background-color: #3B4455;\n",
              "      fill: #D2E3FC;\n",
              "    }\n",
              "\n",
              "    [theme=dark] .colab-df-convert:hover {\n",
              "      background-color: #434B5C;\n",
              "      box-shadow: 0px 1px 3px 1px rgba(0, 0, 0, 0.15);\n",
              "      filter: drop-shadow(0px 1px 2px rgba(0, 0, 0, 0.3));\n",
              "      fill: #FFFFFF;\n",
              "    }\n",
              "  </style>\n",
              "\n",
              "      <script>\n",
              "        const buttonEl =\n",
              "          document.querySelector('#df-cb039fdf-1bce-4075-9da9-036068845626 button.colab-df-convert');\n",
              "        buttonEl.style.display =\n",
              "          google.colab.kernel.accessAllowed ? 'block' : 'none';\n",
              "\n",
              "        async function convertToInteractive(key) {\n",
              "          const element = document.querySelector('#df-cb039fdf-1bce-4075-9da9-036068845626');\n",
              "          const dataTable =\n",
              "            await google.colab.kernel.invokeFunction('convertToInteractive',\n",
              "                                                     [key], {});\n",
              "          if (!dataTable) return;\n",
              "\n",
              "          const docLinkHtml = 'Like what you see? Visit the ' +\n",
              "            '<a target=\"_blank\" href=https://colab.research.google.com/notebooks/data_table.ipynb>data table notebook</a>'\n",
              "            + ' to learn more about interactive tables.';\n",
              "          element.innerHTML = '';\n",
              "          dataTable['output_type'] = 'display_data';\n",
              "          await google.colab.output.renderOutput(dataTable, element);\n",
              "          const docLink = document.createElement('div');\n",
              "          docLink.innerHTML = docLinkHtml;\n",
              "          element.appendChild(docLink);\n",
              "        }\n",
              "      </script>\n",
              "    </div>\n",
              "  </div>\n",
              "  "
            ]
          },
          "metadata": {},
          "execution_count": 78
        }
      ]
    },
    {
      "cell_type": "code",
      "source": [
        "df[60].value_counts()"
      ],
      "metadata": {
        "colab": {
          "base_uri": "https://localhost:8080/"
        },
        "id": "atHpdoAvPtEr",
        "outputId": "9f0c32a2-b7c1-41e3-d788-fba93414e425"
      },
      "execution_count": null,
      "outputs": [
        {
          "output_type": "execute_result",
          "data": {
            "text/plain": [
              "Mine    111\n",
              "Rock     97\n",
              "Name: 60, dtype: int64"
            ]
          },
          "metadata": {},
          "execution_count": 80
        }
      ]
    },
    {
      "cell_type": "code",
      "source": [
        "from sklearn.preprocessing import StandardScaler\n",
        "X_scaled = StandardScaler().fit_transform(df[df.columns[:-1]].values)"
      ],
      "metadata": {
        "id": "B_gmdqTOP5jN"
      },
      "execution_count": null,
      "outputs": []
    },
    {
      "cell_type": "code",
      "source": [
        "from sklearn.preprocessing import LabelEncoder\n",
        "y_labeled = LabelEncoder().fit_transform(df[60].values)"
      ],
      "metadata": {
        "id": "UWdOARm5QGYZ"
      },
      "execution_count": null,
      "outputs": []
    },
    {
      "cell_type": "code",
      "source": [
        "X_train, X_test, y_train, y_test = train_test_split(\n",
        "    X_scaled, y_labeled, test_size=0.2, stratify= y_labeled, random_state=seed\n",
        ")"
      ],
      "metadata": {
        "id": "zXgTDjFmQcHN"
      },
      "execution_count": null,
      "outputs": []
    },
    {
      "cell_type": "code",
      "source": [
        "del moodel"
      ],
      "metadata": {
        "colab": {
          "base_uri": "https://localhost:8080/",
          "height": 166
        },
        "id": "uVZnMsy_UOjt",
        "outputId": "2247985e-5e66-467d-81cb-13f67e832123"
      },
      "execution_count": null,
      "outputs": [
        {
          "output_type": "error",
          "ename": "NameError",
          "evalue": "ignored",
          "traceback": [
            "\u001b[0;31m---------------------------------------------------------------------------\u001b[0m",
            "\u001b[0;31mNameError\u001b[0m                                 Traceback (most recent call last)",
            "\u001b[0;32m<ipython-input-124-631732527e66>\u001b[0m in \u001b[0;36m<module>\u001b[0;34m\u001b[0m\n\u001b[0;32m----> 1\u001b[0;31m \u001b[0;32mdel\u001b[0m \u001b[0mmoodel\u001b[0m\u001b[0;34m\u001b[0m\u001b[0;34m\u001b[0m\u001b[0m\n\u001b[0m",
            "\u001b[0;31mNameError\u001b[0m: name 'moodel' is not defined"
          ]
        }
      ]
    },
    {
      "cell_type": "code",
      "source": [
        "model = Sequential([\n",
        "    Dense(80, input_dim = 60, activation='relu'),\n",
        "    Dense(12, activation='relu'),\n",
        "    Dense(1, activation='sigmoid')\n",
        "])"
      ],
      "metadata": {
        "id": "QT1v3O1XTlZn"
      },
      "execution_count": null,
      "outputs": []
    },
    {
      "cell_type": "code",
      "source": [
        "model.summary()"
      ],
      "metadata": {
        "colab": {
          "base_uri": "https://localhost:8080/"
        },
        "id": "yWzSQpXUTxQU",
        "outputId": "f2337116-122f-4c55-ee92-5feb3fe51111"
      },
      "execution_count": null,
      "outputs": [
        {
          "output_type": "stream",
          "name": "stdout",
          "text": [
            "Model: \"sequential_7\"\n",
            "_________________________________________________________________\n",
            " Layer (type)                Output Shape              Param #   \n",
            "=================================================================\n",
            " dense_21 (Dense)            (None, 80)                4880      \n",
            "                                                                 \n",
            " dense_22 (Dense)            (None, 12)                972       \n",
            "                                                                 \n",
            " dense_23 (Dense)            (None, 1)                 13        \n",
            "                                                                 \n",
            "=================================================================\n",
            "Total params: 5,865\n",
            "Trainable params: 5,865\n",
            "Non-trainable params: 0\n",
            "_________________________________________________________________\n"
          ]
        }
      ]
    },
    {
      "cell_type": "code",
      "source": [
        "model.compile('adam', 'binary_crossentropy', ['accuracy'])"
      ],
      "metadata": {
        "id": "TV566N-kT0Et"
      },
      "execution_count": null,
      "outputs": []
    },
    {
      "cell_type": "code",
      "source": [
        "hist1 = model.fit(X_train, y_train, validation_split=0.2,\n",
        "          epochs=200, batch_size = 100, verbose=0)"
      ],
      "metadata": {
        "id": "PLdJHisFUEWo"
      },
      "execution_count": null,
      "outputs": []
    },
    {
      "cell_type": "code",
      "source": [
        "model.evaluate(X_test, y_test)"
      ],
      "metadata": {
        "colab": {
          "base_uri": "https://localhost:8080/"
        },
        "id": "Mzc-4h4XT6KG",
        "outputId": "ec3896b3-982a-440f-8714-9700b4b2a7f1"
      },
      "execution_count": null,
      "outputs": [
        {
          "output_type": "stream",
          "name": "stdout",
          "text": [
            "2/2 [==============================] - 0s 7ms/step - loss: 0.3491 - accuracy: 0.8810\n"
          ]
        },
        {
          "output_type": "execute_result",
          "data": {
            "text/plain": [
              "[0.3490704894065857, 0.8809523582458496]"
            ]
          },
          "metadata": {},
          "execution_count": 128
        }
      ]
    },
    {
      "cell_type": "code",
      "source": [
        "params1, acc1 = 5865, 0.8809"
      ],
      "metadata": {
        "id": "FE5GF61tT-Kl"
      },
      "execution_count": null,
      "outputs": []
    },
    {
      "cell_type": "code",
      "source": [
        "model2 = Sequential([\n",
        "    Dense(128, input_dim=60, activation='relu'),\n",
        "    Dense(64, activation='relu'),\n",
        "    Dense(32, activation='relu'),\n",
        "    Dense(8, activation='relu'),\n",
        "    Dense(1, activation='sigmoid'),\n",
        "])"
      ],
      "metadata": {
        "id": "zkSjW1LgUZ-j"
      },
      "execution_count": null,
      "outputs": []
    },
    {
      "cell_type": "code",
      "source": [
        "model2.summary()"
      ],
      "metadata": {
        "colab": {
          "base_uri": "https://localhost:8080/"
        },
        "id": "HGsCgmz-UoKe",
        "outputId": "cf31ad91-694e-4f23-e547-ca7975812955"
      },
      "execution_count": null,
      "outputs": [
        {
          "output_type": "stream",
          "name": "stdout",
          "text": [
            "Model: \"sequential_10\"\n",
            "_________________________________________________________________\n",
            " Layer (type)                Output Shape              Param #   \n",
            "=================================================================\n",
            " dense_34 (Dense)            (None, 128)               7808      \n",
            "                                                                 \n",
            " dense_35 (Dense)            (None, 64)                8256      \n",
            "                                                                 \n",
            " dense_36 (Dense)            (None, 32)                2080      \n",
            "                                                                 \n",
            " dense_37 (Dense)            (None, 8)                 264       \n",
            "                                                                 \n",
            " dense_38 (Dense)            (None, 1)                 9         \n",
            "                                                                 \n",
            "=================================================================\n",
            "Total params: 18,417\n",
            "Trainable params: 18,417\n",
            "Non-trainable params: 0\n",
            "_________________________________________________________________\n"
          ]
        }
      ]
    },
    {
      "cell_type": "code",
      "source": [
        "model2.compile('adam', 'binary_crossentropy', ['accuracy'])"
      ],
      "metadata": {
        "id": "eQt79owbUpIW"
      },
      "execution_count": null,
      "outputs": []
    },
    {
      "cell_type": "code",
      "source": [
        "hist2 = model2.fit(X_train, y_train, validation_split=0.2,\n",
        "                   epochs=200, batch_size=100, verbose=0)"
      ],
      "metadata": {
        "id": "Kx_bN1q1UyHs"
      },
      "execution_count": null,
      "outputs": []
    },
    {
      "cell_type": "code",
      "source": [
        "model2.evaluate(X_test, y_test)"
      ],
      "metadata": {
        "colab": {
          "base_uri": "https://localhost:8080/"
        },
        "id": "iRTJq_C5U5N-",
        "outputId": "714cd813-fac6-4bec-b6ad-fb91f07eabbc"
      },
      "execution_count": null,
      "outputs": [
        {
          "output_type": "stream",
          "name": "stdout",
          "text": [
            "2/2 [==============================] - 0s 6ms/step - loss: 0.4050 - accuracy: 0.8810\n"
          ]
        },
        {
          "output_type": "execute_result",
          "data": {
            "text/plain": [
              "[0.4049522280693054, 0.8809523582458496]"
            ]
          },
          "metadata": {},
          "execution_count": 111
        }
      ]
    },
    {
      "cell_type": "code",
      "source": [
        "params2, acc2 = 18417, 0.8809"
      ],
      "metadata": {
        "id": "iwrmeZO3U-Pd"
      },
      "execution_count": null,
      "outputs": []
    },
    {
      "cell_type": "code",
      "source": [
        "model3 = Sequential([\n",
        "    Dense(80, input_dim=60, activation='relu'),\n",
        "    Dense(64, activation='relu'),\n",
        "    Dense(40, activation='relu'),        \n",
        "    Dense(24, activation='relu'),\n",
        "    Dense(10, activation='relu'),\n",
        "    Dense(4, activation='relu'),\n",
        "    Dense(1, activation='sigmoid'),  \n",
        "])"
      ],
      "metadata": {
        "id": "G7AJCv9sVCf5"
      },
      "execution_count": null,
      "outputs": []
    },
    {
      "cell_type": "code",
      "source": [
        "model3.summary()"
      ],
      "metadata": {
        "colab": {
          "base_uri": "https://localhost:8080/"
        },
        "id": "fr7wzquCVEL8",
        "outputId": "d2163d94-66c7-4cc9-be79-18bbb6534e0a"
      },
      "execution_count": null,
      "outputs": [
        {
          "output_type": "stream",
          "name": "stdout",
          "text": [
            "Model: \"sequential_11\"\n",
            "_________________________________________________________________\n",
            " Layer (type)                Output Shape              Param #   \n",
            "=================================================================\n",
            " dense_39 (Dense)            (None, 80)                4880      \n",
            "                                                                 \n",
            " dense_40 (Dense)            (None, 64)                5184      \n",
            "                                                                 \n",
            " dense_41 (Dense)            (None, 40)                2600      \n",
            "                                                                 \n",
            " dense_42 (Dense)            (None, 24)                984       \n",
            "                                                                 \n",
            " dense_43 (Dense)            (None, 10)                250       \n",
            "                                                                 \n",
            " dense_44 (Dense)            (None, 4)                 44        \n",
            "                                                                 \n",
            " dense_45 (Dense)            (None, 1)                 5         \n",
            "                                                                 \n",
            "=================================================================\n",
            "Total params: 13,947\n",
            "Trainable params: 13,947\n",
            "Non-trainable params: 0\n",
            "_________________________________________________________________\n"
          ]
        }
      ]
    },
    {
      "cell_type": "code",
      "source": [
        "model3.compile('adam', 'binary_crossentropy', ['accuracy'])\n",
        "hist3 = model3.fit(X_train, y_train, validation_split=0.2,\n",
        "          epochs=200, batch_size=100, verbose=0)"
      ],
      "metadata": {
        "id": "GuriZbC2VE39"
      },
      "execution_count": null,
      "outputs": []
    },
    {
      "cell_type": "code",
      "source": [
        "model3.evaluate(X_test, y_test)"
      ],
      "metadata": {
        "colab": {
          "base_uri": "https://localhost:8080/"
        },
        "id": "DuunaWNKVHV8",
        "outputId": "44467a9c-653e-4e99-f151-21910e248e25"
      },
      "execution_count": null,
      "outputs": [
        {
          "output_type": "stream",
          "name": "stdout",
          "text": [
            "2/2 [==============================] - 0s 8ms/step - loss: 0.9165 - accuracy: 0.8095\n"
          ]
        },
        {
          "output_type": "execute_result",
          "data": {
            "text/plain": [
              "[0.9164716005325317, 0.8095238208770752]"
            ]
          },
          "metadata": {},
          "execution_count": 116
        }
      ]
    },
    {
      "cell_type": "code",
      "source": [
        "params3, acc3 = 13947, 0.8095"
      ],
      "metadata": {
        "id": "2SGPTmzNVIVN"
      },
      "execution_count": null,
      "outputs": []
    },
    {
      "cell_type": "code",
      "source": [
        "model4 = Sequential([\n",
        "    Dense(80, input_dim=60, activation='relu'),\n",
        "    Dense(64, activation='relu'),\n",
        "    Dense(48, activation='relu'),    \n",
        "    Dense(36, activation='relu'),        \n",
        "    Dense(28, activation='relu'),\n",
        "    Dense(16, activation='relu'),\n",
        "    Dense(4, activation='relu'),\n",
        "    Dense(1, activation='sigmoid'),  \n",
        "])\n",
        "model4.summary()"
      ],
      "metadata": {
        "colab": {
          "base_uri": "https://localhost:8080/"
        },
        "id": "UugbbDinVKpv",
        "outputId": "a8b3b5e3-9f23-411a-b875-6f44fe79f92a"
      },
      "execution_count": null,
      "outputs": [
        {
          "output_type": "stream",
          "name": "stdout",
          "text": [
            "Model: \"sequential_12\"\n",
            "_________________________________________________________________\n",
            " Layer (type)                Output Shape              Param #   \n",
            "=================================================================\n",
            " dense_46 (Dense)            (None, 80)                4880      \n",
            "                                                                 \n",
            " dense_47 (Dense)            (None, 64)                5184      \n",
            "                                                                 \n",
            " dense_48 (Dense)            (None, 48)                3120      \n",
            "                                                                 \n",
            " dense_49 (Dense)            (None, 36)                1764      \n",
            "                                                                 \n",
            " dense_50 (Dense)            (None, 28)                1036      \n",
            "                                                                 \n",
            " dense_51 (Dense)            (None, 16)                464       \n",
            "                                                                 \n",
            " dense_52 (Dense)            (None, 4)                 68        \n",
            "                                                                 \n",
            " dense_53 (Dense)            (None, 1)                 5         \n",
            "                                                                 \n",
            "=================================================================\n",
            "Total params: 16,521\n",
            "Trainable params: 16,521\n",
            "Non-trainable params: 0\n",
            "_________________________________________________________________\n"
          ]
        }
      ]
    },
    {
      "cell_type": "code",
      "source": [
        "model4.compile('adam', 'binary_crossentropy', ['accuracy'])\n",
        "hist4 = model4.fit(X_train, y_train, validation_split=0.2,\n",
        "          epochs=200, batch_size=100, verbose=0)"
      ],
      "metadata": {
        "id": "UCVAZU4UVLuc"
      },
      "execution_count": null,
      "outputs": []
    },
    {
      "cell_type": "code",
      "source": [
        "model4.evaluate(X_test, y_test)"
      ],
      "metadata": {
        "colab": {
          "base_uri": "https://localhost:8080/"
        },
        "id": "xMBr4cr3VM9o",
        "outputId": "2faa0792-fba4-4eb4-c55e-c87c1a7bb491"
      },
      "execution_count": null,
      "outputs": [
        {
          "output_type": "stream",
          "name": "stdout",
          "text": [
            "2/2 [==============================] - 0s 7ms/step - loss: 0.9614 - accuracy: 0.8333\n"
          ]
        },
        {
          "output_type": "execute_result",
          "data": {
            "text/plain": [
              "[0.9613779187202454, 0.8333333134651184]"
            ]
          },
          "metadata": {},
          "execution_count": 120
        }
      ]
    },
    {
      "cell_type": "code",
      "source": [
        "params3, acc3 = 16521, 0.8333"
      ],
      "metadata": {
        "id": "0sUJE9T_VN8i"
      },
      "execution_count": null,
      "outputs": []
    },
    {
      "cell_type": "code",
      "source": [
        "y_acc1 = hist1.history['accuracy']\n",
        "y_acc2 = hist2.history['accuracy']\n",
        "y_acc3 = hist3.history['accuracy']\n",
        "y_acc4 = hist4.history['accuracy']\n",
        "y_vloss1 = hist1.history['val_loss']\n",
        "y_vloss2 = hist2.history['val_loss']\n",
        "y_vloss3 = hist3.history['val_loss']\n",
        "y_vloss4 = hist4.history['val_loss']\n",
        "xs = np.arange(1, len(y_acc1) + 1)"
      ],
      "metadata": {
        "id": "8tF6hxPtVR9W"
      },
      "execution_count": null,
      "outputs": []
    },
    {
      "cell_type": "code",
      "source": [
        "plt.figure(figsize=(12, 8))\n",
        "\n",
        "plt.plot(xs, y_acc1, label='case1')\n",
        "\n",
        "\n",
        "\n",
        "plt.plot(xs, y_acc2, label='case2')\n",
        "\n",
        "\n",
        "\n",
        "plt.plot(xs, y_acc3, label='case3')\n",
        "\n",
        "plt.legend(), plt.grid()\n",
        "\n",
        "\n",
        "plt.plot(xs, y_acc4, label='case4')\n",
        "\n",
        "plt.legend(), plt.grid()\n",
        "\n",
        "plt.ylim([0,1.2])\n",
        "plt.xlabel('Epoch')\n",
        "plt.title('acc')\n",
        "\n",
        "\n",
        "\n",
        "plt.show()"
      ],
      "metadata": {
        "colab": {
          "base_uri": "https://localhost:8080/",
          "height": 513
        },
        "id": "yvGJ0WeAVT8V",
        "outputId": "00700b7f-7033-4ce8-a7c9-556b2b48d02d"
      },
      "execution_count": null,
      "outputs": [
        {
          "output_type": "display_data",
          "data": {
            "text/plain": [
              "<Figure size 864x576 with 1 Axes>"
            ],
            "image/png": "[encoded data removed]"
          },
          "metadata": {
            "needs_background": "light"
          }
        }
      ]
    },
    {
      "cell_type": "code",
      "source": [
        "plt.figure(figsize=(12, 8))\n",
        "\n",
        "\n",
        "plt.plot(xs, y_vloss1, label='case1')\n",
        "\n",
        "\n",
        "\n",
        "plt.plot(xs, y_vloss2, label='case2')\n",
        "\n",
        "\n",
        "\n",
        "plt.plot(xs, y_vloss3, label='case3')\n",
        "plt.legend(), plt.grid()\n",
        "\n",
        "\n",
        "\n",
        "plt.plot(xs, y_vloss4, label='case4')\n",
        "plt.legend(), plt.grid()\n",
        "\n",
        "plt.ylim([0,1.2])\n",
        "plt.xlabel('Epoch')\n",
        "plt.title('vloss')\n",
        "\n",
        "\n",
        "\n",
        "plt.show()"
      ],
      "metadata": {
        "colab": {
          "base_uri": "https://localhost:8080/",
          "height": 513
        },
        "id": "SvD3eOIzVhoq",
        "outputId": "fd644dbf-4502-49ed-d008-cae7a84033e6"
      },
      "execution_count": null,
      "outputs": [
        {
          "output_type": "display_data",
          "data": {
            "text/plain": [
              "<Figure size 864x576 with 1 Axes>"
            ],
            "image/png": "[encoded data removed]"
          },
          "metadata": {
            "needs_background": "light"
          }
        }
      ]
    },
    {
      "cell_type": "code",
      "source": [
        "model = Sequential([\n",
        "    Dense(80, input_dim=60, activation='relu'),\n",
        "    Dense(48, activation='relu'),\n",
        "    Dense(20, activation='relu'),\n",
        "    Dense(8, activation='relu'),\n",
        "    Dense(1, activation='sigmoid'),  \n",
        "])"
      ],
      "metadata": {
        "id": "rgBBwDMaVq_9"
      },
      "execution_count": null,
      "outputs": []
    },
    {
      "cell_type": "code",
      "source": [
        "model.compile('adam', 'binary_crossentropy', ['accuracy'])"
      ],
      "metadata": {
        "id": "-KpaM13UVrCE"
      },
      "execution_count": null,
      "outputs": []
    },
    {
      "cell_type": "code",
      "source": [
        "from tensorflow.keras.callbacks import ModelCheckpoint\n",
        "mc = ModelCheckpoint('sonar_best.h5', monitor='val_loss',\n",
        "                     verbose=1, save_best_only = True)"
      ],
      "metadata": {
        "id": "oMiMEUBZVrEU"
      },
      "execution_count": null,
      "outputs": []
    },
    {
      "cell_type": "code",
      "source": [
        "hist =  model.fit(X_train, y_train, validation_split=0.2,\n",
        "                  epochs=200, batch_size=100, verbose=0,\n",
        "                  callbacks=[mc])"
      ],
      "metadata": {
        "colab": {
          "base_uri": "https://localhost:8080/"
        },
        "id": "kxb0BemPV625",
        "outputId": "ee574e96-46d4-4fb8-e32d-d37782782641"
      },
      "execution_count": null,
      "outputs": [
        {
          "output_type": "stream",
          "name": "stdout",
          "text": [
            "\n",
            "Epoch 1: val_loss improved from inf to 0.68726, saving model to sonar_best.h5\n",
            "\n",
            "Epoch 2: val_loss improved from 0.68726 to 0.66609, saving model to sonar_best.h5\n",
            "\n",
            "Epoch 3: val_loss improved from 0.66609 to 0.64972, saving model to sonar_best.h5\n",
            "\n",
            "Epoch 4: val_loss improved from 0.64972 to 0.63728, saving model to sonar_best.h5\n",
            "\n",
            "Epoch 5: val_loss improved from 0.63728 to 0.62613, saving model to sonar_best.h5\n",
            "\n",
            "Epoch 6: val_loss improved from 0.62613 to 0.61564, saving model to sonar_best.h5\n",
            "\n",
            "Epoch 7: val_loss improved from 0.61564 to 0.60500, saving model to sonar_best.h5\n",
            "\n",
            "Epoch 8: val_loss improved from 0.60500 to 0.59313, saving model to sonar_best.h5\n",
            "\n",
            "Epoch 9: val_loss improved from 0.59313 to 0.58010, saving model to sonar_best.h5\n",
            "\n",
            "Epoch 10: val_loss improved from 0.58010 to 0.56719, saving model to sonar_best.h5\n",
            "\n",
            "Epoch 11: val_loss improved from 0.56719 to 0.55504, saving model to sonar_best.h5\n",
            "\n",
            "Epoch 12: val_loss improved from 0.55504 to 0.54255, saving model to sonar_best.h5\n",
            "\n",
            "Epoch 13: val_loss improved from 0.54255 to 0.52862, saving model to sonar_best.h5\n",
            "\n",
            "Epoch 14: val_loss improved from 0.52862 to 0.51451, saving model to sonar_best.h5\n",
            "\n",
            "Epoch 15: val_loss improved from 0.51451 to 0.50043, saving model to sonar_best.h5\n",
            "\n",
            "Epoch 16: val_loss improved from 0.50043 to 0.48398, saving model to sonar_best.h5\n",
            "\n",
            "Epoch 17: val_loss improved from 0.48398 to 0.46744, saving model to sonar_best.h5\n",
            "\n",
            "Epoch 18: val_loss improved from 0.46744 to 0.45232, saving model to sonar_best.h5\n",
            "\n",
            "Epoch 19: val_loss improved from 0.45232 to 0.43759, saving model to sonar_best.h5\n",
            "\n",
            "Epoch 20: val_loss improved from 0.43759 to 0.42308, saving model to sonar_best.h5\n",
            "\n",
            "Epoch 21: val_loss improved from 0.42308 to 0.40750, saving model to sonar_best.h5\n",
            "\n",
            "Epoch 22: val_loss improved from 0.40750 to 0.39232, saving model to sonar_best.h5\n",
            "\n",
            "Epoch 23: val_loss improved from 0.39232 to 0.37770, saving model to sonar_best.h5\n",
            "\n",
            "Epoch 24: val_loss improved from 0.37770 to 0.36401, saving model to sonar_best.h5\n",
            "\n",
            "Epoch 25: val_loss improved from 0.36401 to 0.35360, saving model to sonar_best.h5\n",
            "\n",
            "Epoch 26: val_loss improved from 0.35360 to 0.34630, saving model to sonar_best.h5\n",
            "\n",
            "Epoch 27: val_loss improved from 0.34630 to 0.34361, saving model to sonar_best.h5\n",
            "\n",
            "Epoch 28: val_loss improved from 0.34361 to 0.34074, saving model to sonar_best.h5\n",
            "\n",
            "Epoch 29: val_loss improved from 0.34074 to 0.33514, saving model to sonar_best.h5\n",
            "\n",
            "Epoch 30: val_loss improved from 0.33514 to 0.32719, saving model to sonar_best.h5\n",
            "\n",
            "Epoch 31: val_loss improved from 0.32719 to 0.31892, saving model to sonar_best.h5\n",
            "\n",
            "Epoch 32: val_loss improved from 0.31892 to 0.31378, saving model to sonar_best.h5\n",
            "\n",
            "Epoch 33: val_loss improved from 0.31378 to 0.30943, saving model to sonar_best.h5\n",
            "\n",
            "Epoch 34: val_loss improved from 0.30943 to 0.30842, saving model to sonar_best.h5\n",
            "\n",
            "Epoch 35: val_loss improved from 0.30842 to 0.30645, saving model to sonar_best.h5\n",
            "\n",
            "Epoch 36: val_loss improved from 0.30645 to 0.30263, saving model to sonar_best.h5\n",
            "\n",
            "Epoch 37: val_loss improved from 0.30263 to 0.29432, saving model to sonar_best.h5\n",
            "\n",
            "Epoch 38: val_loss improved from 0.29432 to 0.28500, saving model to sonar_best.h5\n",
            "\n",
            "Epoch 39: val_loss improved from 0.28500 to 0.27754, saving model to sonar_best.h5\n",
            "\n",
            "Epoch 40: val_loss improved from 0.27754 to 0.27295, saving model to sonar_best.h5\n",
            "\n",
            "Epoch 41: val_loss improved from 0.27295 to 0.27106, saving model to sonar_best.h5\n",
            "\n",
            "Epoch 42: val_loss improved from 0.27106 to 0.27057, saving model to sonar_best.h5\n",
            "\n",
            "Epoch 43: val_loss did not improve from 0.27057\n",
            "\n",
            "Epoch 44: val_loss did not improve from 0.27057\n",
            "\n",
            "Epoch 45: val_loss did not improve from 0.27057\n",
            "\n",
            "Epoch 46: val_loss did not improve from 0.27057\n",
            "\n",
            "Epoch 47: val_loss did not improve from 0.27057\n",
            "\n",
            "Epoch 48: val_loss did not improve from 0.27057\n",
            "\n",
            "Epoch 49: val_loss did not improve from 0.27057\n",
            "\n",
            "Epoch 50: val_loss did not improve from 0.27057\n",
            "\n",
            "Epoch 51: val_loss did not improve from 0.27057\n",
            "\n",
            "Epoch 52: val_loss did not improve from 0.27057\n",
            "\n",
            "Epoch 53: val_loss did not improve from 0.27057\n",
            "\n",
            "Epoch 54: val_loss did not improve from 0.27057\n",
            "\n",
            "Epoch 55: val_loss did not improve from 0.27057\n",
            "\n",
            "Epoch 56: val_loss did not improve from 0.27057\n",
            "\n",
            "Epoch 57: val_loss did not improve from 0.27057\n",
            "\n",
            "Epoch 58: val_loss did not improve from 0.27057\n",
            "\n",
            "Epoch 59: val_loss did not improve from 0.27057\n",
            "\n",
            "Epoch 60: val_loss did not improve from 0.27057\n",
            "\n",
            "Epoch 61: val_loss did not improve from 0.27057\n",
            "\n",
            "Epoch 62: val_loss did not improve from 0.27057\n",
            "\n",
            "Epoch 63: val_loss did not improve from 0.27057\n",
            "\n",
            "Epoch 64: val_loss did not improve from 0.27057\n",
            "\n",
            "Epoch 65: val_loss improved from 0.27057 to 0.27036, saving model to sonar_best.h5\n",
            "\n",
            "Epoch 66: val_loss improved from 0.27036 to 0.27007, saving model to sonar_best.h5\n",
            "\n",
            "Epoch 67: val_loss did not improve from 0.27007\n",
            "\n",
            "Epoch 68: val_loss did not improve from 0.27007\n",
            "\n",
            "Epoch 69: val_loss did not improve from 0.27007\n",
            "\n",
            "Epoch 70: val_loss did not improve from 0.27007\n",
            "\n",
            "Epoch 71: val_loss did not improve from 0.27007\n",
            "\n",
            "Epoch 72: val_loss did not improve from 0.27007\n",
            "\n",
            "Epoch 73: val_loss did not improve from 0.27007\n",
            "\n",
            "Epoch 74: val_loss did not improve from 0.27007\n",
            "\n",
            "Epoch 75: val_loss did not improve from 0.27007\n",
            "\n",
            "Epoch 76: val_loss did not improve from 0.27007\n",
            "\n",
            "Epoch 77: val_loss did not improve from 0.27007\n",
            "\n",
            "Epoch 78: val_loss did not improve from 0.27007\n",
            "\n",
            "Epoch 79: val_loss did not improve from 0.27007\n",
            "\n",
            "Epoch 80: val_loss did not improve from 0.27007\n",
            "\n",
            "Epoch 81: val_loss did not improve from 0.27007\n",
            "\n",
            "Epoch 82: val_loss did not improve from 0.27007\n",
            "\n",
            "Epoch 83: val_loss did not improve from 0.27007\n",
            "\n",
            "Epoch 84: val_loss did not improve from 0.27007\n",
            "\n",
            "Epoch 85: val_loss did not improve from 0.27007\n",
            "\n",
            "Epoch 86: val_loss did not improve from 0.27007\n",
            "\n",
            "Epoch 87: val_loss did not improve from 0.27007\n",
            "\n",
            "Epoch 88: val_loss did not improve from 0.27007\n",
            "\n",
            "Epoch 89: val_loss did not improve from 0.27007\n",
            "\n",
            "Epoch 90: val_loss did not improve from 0.27007\n",
            "\n",
            "Epoch 91: val_loss did not improve from 0.27007\n",
            "\n",
            "Epoch 92: val_loss did not improve from 0.27007\n",
            "\n",
            "Epoch 93: val_loss did not improve from 0.27007\n",
            "\n",
            "Epoch 94: val_loss did not improve from 0.27007\n",
            "\n",
            "Epoch 95: val_loss did not improve from 0.27007\n",
            "\n",
            "Epoch 96: val_loss did not improve from 0.27007\n",
            "\n",
            "Epoch 97: val_loss did not improve from 0.27007\n",
            "\n",
            "Epoch 98: val_loss did not improve from 0.27007\n",
            "\n",
            "Epoch 99: val_loss did not improve from 0.27007\n",
            "\n",
            "Epoch 100: val_loss did not improve from 0.27007\n",
            "\n",
            "Epoch 101: val_loss did not improve from 0.27007\n",
            "\n",
            "Epoch 102: val_loss did not improve from 0.27007\n",
            "\n",
            "Epoch 103: val_loss did not improve from 0.27007\n",
            "\n",
            "Epoch 104: val_loss did not improve from 0.27007\n",
            "\n",
            "Epoch 105: val_loss did not improve from 0.27007\n",
            "\n",
            "Epoch 106: val_loss did not improve from 0.27007\n",
            "\n",
            "Epoch 107: val_loss did not improve from 0.27007\n",
            "\n",
            "Epoch 108: val_loss did not improve from 0.27007\n",
            "\n",
            "Epoch 109: val_loss did not improve from 0.27007\n",
            "\n",
            "Epoch 110: val_loss did not improve from 0.27007\n",
            "\n",
            "Epoch 111: val_loss did not improve from 0.27007\n",
            "\n",
            "Epoch 112: val_loss did not improve from 0.27007\n",
            "\n",
            "Epoch 113: val_loss did not improve from 0.27007\n",
            "\n",
            "Epoch 114: val_loss did not improve from 0.27007\n",
            "\n",
            "Epoch 115: val_loss did not improve from 0.27007\n",
            "\n",
            "Epoch 116: val_loss did not improve from 0.27007\n",
            "\n",
            "Epoch 117: val_loss did not improve from 0.27007\n",
            "\n",
            "Epoch 118: val_loss did not improve from 0.27007\n",
            "\n",
            "Epoch 119: val_loss did not improve from 0.27007\n",
            "\n",
            "Epoch 120: val_loss did not improve from 0.27007\n",
            "\n",
            "Epoch 121: val_loss did not improve from 0.27007\n",
            "\n",
            "Epoch 122: val_loss did not improve from 0.27007\n",
            "\n",
            "Epoch 123: val_loss did not improve from 0.27007\n",
            "\n",
            "Epoch 124: val_loss did not improve from 0.27007\n",
            "\n",
            "Epoch 125: val_loss did not improve from 0.27007\n",
            "\n",
            "Epoch 126: val_loss did not improve from 0.27007\n",
            "\n",
            "Epoch 127: val_loss did not improve from 0.27007\n",
            "\n",
            "Epoch 128: val_loss did not improve from 0.27007\n",
            "\n",
            "Epoch 129: val_loss did not improve from 0.27007\n",
            "\n",
            "Epoch 130: val_loss did not improve from 0.27007\n",
            "\n",
            "Epoch 131: val_loss did not improve from 0.27007\n",
            "\n",
            "Epoch 132: val_loss did not improve from 0.27007\n",
            "\n",
            "Epoch 133: val_loss did not improve from 0.27007\n",
            "\n",
            "Epoch 134: val_loss did not improve from 0.27007\n",
            "\n",
            "Epoch 135: val_loss did not improve from 0.27007\n",
            "\n",
            "Epoch 136: val_loss did not improve from 0.27007\n",
            "\n",
            "Epoch 137: val_loss did not improve from 0.27007\n",
            "\n",
            "Epoch 138: val_loss did not improve from 0.27007\n",
            "\n",
            "Epoch 139: val_loss did not improve from 0.27007\n",
            "\n",
            "Epoch 140: val_loss did not improve from 0.27007\n",
            "\n",
            "Epoch 141: val_loss did not improve from 0.27007\n",
            "\n",
            "Epoch 142: val_loss did not improve from 0.27007\n",
            "\n",
            "Epoch 143: val_loss did not improve from 0.27007\n",
            "\n",
            "Epoch 144: val_loss did not improve from 0.27007\n",
            "\n",
            "Epoch 145: val_loss did not improve from 0.27007\n",
            "\n",
            "Epoch 146: val_loss did not improve from 0.27007\n",
            "\n",
            "Epoch 147: val_loss did not improve from 0.27007\n",
            "\n",
            "Epoch 148: val_loss did not improve from 0.27007\n",
            "\n",
            "Epoch 149: val_loss did not improve from 0.27007\n",
            "\n",
            "Epoch 150: val_loss did not improve from 0.27007\n",
            "\n",
            "Epoch 151: val_loss did not improve from 0.27007\n",
            "\n",
            "Epoch 152: val_loss did not improve from 0.27007\n",
            "\n",
            "Epoch 153: val_loss did not improve from 0.27007\n",
            "\n",
            "Epoch 154: val_loss did not improve from 0.27007\n",
            "\n",
            "Epoch 155: val_loss did not improve from 0.27007\n",
            "\n",
            "Epoch 156: val_loss did not improve from 0.27007\n",
            "\n",
            "Epoch 157: val_loss did not improve from 0.27007\n",
            "\n",
            "Epoch 158: val_loss did not improve from 0.27007\n",
            "\n",
            "Epoch 159: val_loss did not improve from 0.27007\n",
            "\n",
            "Epoch 160: val_loss did not improve from 0.27007\n",
            "\n",
            "Epoch 161: val_loss did not improve from 0.27007\n",
            "\n",
            "Epoch 162: val_loss did not improve from 0.27007\n",
            "\n",
            "Epoch 163: val_loss did not improve from 0.27007\n",
            "\n",
            "Epoch 164: val_loss did not improve from 0.27007\n",
            "\n",
            "Epoch 165: val_loss did not improve from 0.27007\n",
            "\n",
            "Epoch 166: val_loss did not improve from 0.27007\n",
            "\n",
            "Epoch 167: val_loss did not improve from 0.27007\n",
            "\n",
            "Epoch 168: val_loss did not improve from 0.27007\n",
            "\n",
            "Epoch 169: val_loss did not improve from 0.27007\n",
            "\n",
            "Epoch 170: val_loss did not improve from 0.27007\n",
            "\n",
            "Epoch 171: val_loss did not improve from 0.27007\n",
            "\n",
            "Epoch 172: val_loss did not improve from 0.27007\n",
            "\n",
            "Epoch 173: val_loss did not improve from 0.27007\n",
            "\n",
            "Epoch 174: val_loss did not improve from 0.27007\n",
            "\n",
            "Epoch 175: val_loss did not improve from 0.27007\n",
            "\n",
            "Epoch 176: val_loss did not improve from 0.27007\n",
            "\n",
            "Epoch 177: val_loss did not improve from 0.27007\n",
            "\n",
            "Epoch 178: val_loss did not improve from 0.27007\n",
            "\n",
            "Epoch 179: val_loss did not improve from 0.27007\n",
            "\n",
            "Epoch 180: val_loss did not improve from 0.27007\n",
            "\n",
            "Epoch 181: val_loss did not improve from 0.27007\n",
            "\n",
            "Epoch 182: val_loss did not improve from 0.27007\n",
            "\n",
            "Epoch 183: val_loss did not improve from 0.27007\n",
            "\n",
            "Epoch 184: val_loss did not improve from 0.27007\n",
            "\n",
            "Epoch 185: val_loss did not improve from 0.27007\n",
            "\n",
            "Epoch 186: val_loss did not improve from 0.27007\n",
            "\n",
            "Epoch 187: val_loss did not improve from 0.27007\n",
            "\n",
            "Epoch 188: val_loss did not improve from 0.27007\n",
            "\n",
            "Epoch 189: val_loss did not improve from 0.27007\n",
            "\n",
            "Epoch 190: val_loss did not improve from 0.27007\n",
            "\n",
            "Epoch 191: val_loss did not improve from 0.27007\n",
            "\n",
            "Epoch 192: val_loss did not improve from 0.27007\n",
            "\n",
            "Epoch 193: val_loss did not improve from 0.27007\n",
            "\n",
            "Epoch 194: val_loss did not improve from 0.27007\n",
            "\n",
            "Epoch 195: val_loss did not improve from 0.27007\n",
            "\n",
            "Epoch 196: val_loss did not improve from 0.27007\n",
            "\n",
            "Epoch 197: val_loss did not improve from 0.27007\n",
            "\n",
            "Epoch 198: val_loss did not improve from 0.27007\n",
            "\n",
            "Epoch 199: val_loss did not improve from 0.27007\n",
            "\n",
            "Epoch 200: val_loss did not improve from 0.27007\n"
          ]
        }
      ]
    },
    {
      "cell_type": "code",
      "source": [
        "from tensorflow.keras.models import load_model\n",
        "\n",
        "best_model = load_model('sonar_best.h5')\n",
        "\n",
        "best_model.evaluate(X_test, y_test)"
      ],
      "metadata": {
        "colab": {
          "base_uri": "https://localhost:8080/"
        },
        "id": "vSa-gbQIWDl9",
        "outputId": "6a84e15d-a2ef-4e24-8df5-151748286b9a"
      },
      "execution_count": null,
      "outputs": [
        {
          "output_type": "stream",
          "name": "stdout",
          "text": [
            "2/2 [==============================] - 0s 8ms/step - loss: 0.6192 - accuracy: 0.8095\n"
          ]
        },
        {
          "output_type": "execute_result",
          "data": {
            "text/plain": [
              "[0.6192482709884644, 0.8095238208770752]"
            ]
          },
          "metadata": {},
          "execution_count": 137
        }
      ]
    },
    {
      "cell_type": "code",
      "source": [
        "y_acc = hist.history['accuracy']\n",
        "y_vloss = hist.history['val_loss']\n",
        "xs = np.arange(1, len(y_acc) + 1)"
      ],
      "metadata": {
        "id": "YXO8-DSsWV8d"
      },
      "execution_count": null,
      "outputs": []
    },
    {
      "cell_type": "code",
      "source": [
        "plt.figure(figsize=(12, 8))\n",
        "plt.plot(xs, y_acc, label='train.accuracy')\n",
        "plt.plot(xs, y_vloss, label='validation loss')\n",
        "plt.legend(), plt.grid()\n",
        "plt.ylim([0,1.2])\n",
        "plt.xlabel('Epoch')\n",
        "plt.title('No feature transform')\n",
        "plt.show()"
      ],
      "metadata": {
        "colab": {
          "base_uri": "https://localhost:8080/",
          "height": 513
        },
        "id": "_eOoQpIWWXhs",
        "outputId": "90a1cd56-cc7d-46f9-83c4-478f5d0cbbad"
      },
      "execution_count": null,
      "outputs": [
        {
          "output_type": "display_data",
          "data": {
            "text/plain": [
              "<Figure size 864x576 with 1 Axes>"
            ],
            "image/png": "[encoded data removed]"
          },
          "metadata": {
            "needs_background": "light"
          }
        }
      ]
    },
    {
      "cell_type": "code",
      "source": [
        "model = Sequential([\n",
        "    Dense(80, input_dim=60, activation='relu'),\n",
        "    Dense(48, activation='relu'),\n",
        "    Dense(20, activation='relu'),\n",
        "    Dense(8, activation='relu'),\n",
        "    Dense(1, activation='sigmoid'),  \n",
        "])"
      ],
      "metadata": {
        "id": "Eh_SkPxzWXrs"
      },
      "execution_count": null,
      "outputs": []
    },
    {
      "cell_type": "code",
      "source": [
        "model.compile('adam', 'binary_crossentropy', ['accuracy'])"
      ],
      "metadata": {
        "id": "3rAlr9jcWaMq"
      },
      "execution_count": null,
      "outputs": []
    },
    {
      "cell_type": "code",
      "source": [
        "from tensorflow.keras.callbacks import ModelCheckpoint, EarlyStopping\n",
        "mc = ModelCheckpoint('sonar_best.h5', monitor='val_loss',\n",
        "                     verbose=1, save_best_only = True)\n",
        "es = EarlyStopping(patience= 20)"
      ],
      "metadata": {
        "id": "kDSysf5fWbFU"
      },
      "execution_count": null,
      "outputs": []
    },
    {
      "cell_type": "code",
      "source": [
        "hist = model.fit(X_train, y_train, validation_split=0.2,\n",
        "          epochs=200, batch_size=100, verbose=1,\n",
        "          callbacks=[mc, es])"
      ],
      "metadata": {
        "id": "sAs3sWOLWqut",
        "outputId": "b4775518-d67b-42f5-b21b-91398570765a",
        "colab": {
          "base_uri": "https://localhost:8080/"
        }
      },
      "execution_count": null,
      "outputs": [
        {
          "output_type": "stream",
          "name": "stdout",
          "text": [
            "Epoch 1/200\n",
            "1/2 [==============>...............] - ETA: 0s - loss: 0.7025 - accuracy: 0.5300\n",
            "Epoch 1: val_loss improved from inf to 0.67586, saving model to sonar_best.h5\n",
            "2/2 [==============================] - 1s 292ms/step - loss: 0.7081 - accuracy: 0.5227 - val_loss: 0.6759 - val_accuracy: 0.6471\n",
            "Epoch 2/200\n",
            "1/2 [==============>...............] - ETA: 0s - loss: 0.6753 - accuracy: 0.6000\n",
            "Epoch 2: val_loss improved from 0.67586 to 0.65614, saving model to sonar_best.h5\n",
            "2/2 [==============================] - 0s 88ms/step - loss: 0.6728 - accuracy: 0.6136 - val_loss: 0.6561 - val_accuracy: 0.7059\n",
            "Epoch 3/200\n",
            "1/2 [==============>...............] - ETA: 0s - loss: 0.6559 - accuracy: 0.6500\n",
            "Epoch 3: val_loss improved from 0.65614 to 0.64004, saving model to sonar_best.h5\n",
            "2/2 [==============================] - 0s 62ms/step - loss: 0.6484 - accuracy: 0.6742 - val_loss: 0.6400 - val_accuracy: 0.7353\n",
            "Epoch 4/200\n",
            "1/2 [==============>...............] - ETA: 0s - loss: 0.6384 - accuracy: 0.6900\n",
            "Epoch 4: val_loss improved from 0.64004 to 0.62673, saving model to sonar_best.h5\n",
            "2/2 [==============================] - 0s 51ms/step - loss: 0.6278 - accuracy: 0.7197 - val_loss: 0.6267 - val_accuracy: 0.7941\n",
            "Epoch 5/200\n",
            "1/2 [==============>...............] - ETA: 0s - loss: 0.6279 - accuracy: 0.7400\n",
            "Epoch 5: val_loss improved from 0.62673 to 0.61412, saving model to sonar_best.h5\n",
            "2/2 [==============================] - 0s 52ms/step - loss: 0.6098 - accuracy: 0.7803 - val_loss: 0.6141 - val_accuracy: 0.7941\n",
            "Epoch 6/200\n",
            "1/2 [==============>...............] - ETA: 0s - loss: 0.6036 - accuracy: 0.7700\n",
            "Epoch 6: val_loss improved from 0.61412 to 0.60025, saving model to sonar_best.h5\n",
            "2/2 [==============================] - 0s 53ms/step - loss: 0.5918 - accuracy: 0.7879 - val_loss: 0.6003 - val_accuracy: 0.7941\n",
            "Epoch 7/200\n",
            "1/2 [==============>...............] - ETA: 0s - loss: 0.5819 - accuracy: 0.8100\n",
            "Epoch 7: val_loss improved from 0.60025 to 0.58519, saving model to sonar_best.h5\n",
            "2/2 [==============================] - 0s 51ms/step - loss: 0.5725 - accuracy: 0.8182 - val_loss: 0.5852 - val_accuracy: 0.7941\n",
            "Epoch 8/200\n",
            "1/2 [==============>...............] - ETA: 0s - loss: 0.5459 - accuracy: 0.8700\n",
            "Epoch 8: val_loss improved from 0.58519 to 0.56902, saving model to sonar_best.h5\n",
            "2/2 [==============================] - 0s 76ms/step - loss: 0.5529 - accuracy: 0.8333 - val_loss: 0.5690 - val_accuracy: 0.7647\n",
            "Epoch 9/200\n",
            "1/2 [==============>...............] - ETA: 0s - loss: 0.5353 - accuracy: 0.8600\n",
            "Epoch 9: val_loss improved from 0.56902 to 0.55162, saving model to sonar_best.h5\n",
            "2/2 [==============================] - 0s 53ms/step - loss: 0.5314 - accuracy: 0.8788 - val_loss: 0.5516 - val_accuracy: 0.7941\n",
            "Epoch 10/200\n",
            "1/2 [==============>...............] - ETA: 0s - loss: 0.5110 - accuracy: 0.9000\n",
            "Epoch 10: val_loss improved from 0.55162 to 0.53428, saving model to sonar_best.h5\n",
            "2/2 [==============================] - 0s 51ms/step - loss: 0.5101 - accuracy: 0.8864 - val_loss: 0.5343 - val_accuracy: 0.7941\n",
            "Epoch 11/200\n",
            "1/2 [==============>...............] - ETA: 0s - loss: 0.4990 - accuracy: 0.8600\n",
            "Epoch 11: val_loss improved from 0.53428 to 0.51821, saving model to sonar_best.h5\n",
            "2/2 [==============================] - 0s 50ms/step - loss: 0.4864 - accuracy: 0.8864 - val_loss: 0.5182 - val_accuracy: 0.7941\n",
            "Epoch 12/200\n",
            "1/2 [==============>...............] - ETA: 0s - loss: 0.4783 - accuracy: 0.8800\n",
            "Epoch 12: val_loss improved from 0.51821 to 0.50278, saving model to sonar_best.h5\n",
            "2/2 [==============================] - 0s 51ms/step - loss: 0.4628 - accuracy: 0.8939 - val_loss: 0.5028 - val_accuracy: 0.7941\n",
            "Epoch 13/200\n",
            "1/2 [==============>...............] - ETA: 0s - loss: 0.4495 - accuracy: 0.8800\n",
            "Epoch 13: val_loss improved from 0.50278 to 0.48604, saving model to sonar_best.h5\n",
            "2/2 [==============================] - 0s 53ms/step - loss: 0.4391 - accuracy: 0.9015 - val_loss: 0.4860 - val_accuracy: 0.7941\n",
            "Epoch 14/200\n",
            "1/2 [==============>...............] - ETA: 0s - loss: 0.4270 - accuracy: 0.8800\n",
            "Epoch 14: val_loss improved from 0.48604 to 0.46892, saving model to sonar_best.h5\n",
            "2/2 [==============================] - 0s 55ms/step - loss: 0.4143 - accuracy: 0.9091 - val_loss: 0.4689 - val_accuracy: 0.7941\n",
            "Epoch 15/200\n",
            "1/2 [==============>...............] - ETA: 0s - loss: 0.3809 - accuracy: 0.9100\n",
            "Epoch 15: val_loss improved from 0.46892 to 0.45050, saving model to sonar_best.h5\n",
            "2/2 [==============================] - 0s 56ms/step - loss: 0.3903 - accuracy: 0.9015 - val_loss: 0.4505 - val_accuracy: 0.7941\n",
            "Epoch 16/200\n",
            "1/2 [==============>...............] - ETA: 0s - loss: 0.3680 - accuracy: 0.9000\n",
            "Epoch 16: val_loss improved from 0.45050 to 0.43120, saving model to sonar_best.h5\n",
            "2/2 [==============================] - 0s 53ms/step - loss: 0.3655 - accuracy: 0.9091 - val_loss: 0.4312 - val_accuracy: 0.8235\n",
            "Epoch 17/200\n",
            "1/2 [==============>...............] - ETA: 0s - loss: 0.3493 - accuracy: 0.9100\n",
            "Epoch 17: val_loss improved from 0.43120 to 0.41333, saving model to sonar_best.h5\n",
            "2/2 [==============================] - 0s 50ms/step - loss: 0.3412 - accuracy: 0.9167 - val_loss: 0.4133 - val_accuracy: 0.7941\n",
            "Epoch 18/200\n",
            "1/2 [==============>...............] - ETA: 0s - loss: 0.3186 - accuracy: 0.9300\n",
            "Epoch 18: val_loss improved from 0.41333 to 0.39807, saving model to sonar_best.h5\n",
            "2/2 [==============================] - 0s 56ms/step - loss: 0.3180 - accuracy: 0.9167 - val_loss: 0.3981 - val_accuracy: 0.7941\n",
            "Epoch 19/200\n",
            "1/2 [==============>...............] - ETA: 0s - loss: 0.3050 - accuracy: 0.9200\n",
            "Epoch 19: val_loss improved from 0.39807 to 0.38451, saving model to sonar_best.h5\n",
            "2/2 [==============================] - 0s 50ms/step - loss: 0.2953 - accuracy: 0.9242 - val_loss: 0.3845 - val_accuracy: 0.7941\n",
            "Epoch 20/200\n",
            "1/2 [==============>...............] - ETA: 0s - loss: 0.2600 - accuracy: 0.9600\n",
            "Epoch 20: val_loss improved from 0.38451 to 0.37130, saving model to sonar_best.h5\n",
            "2/2 [==============================] - 0s 51ms/step - loss: 0.2729 - accuracy: 0.9394 - val_loss: 0.3713 - val_accuracy: 0.7941\n",
            "Epoch 21/200\n",
            "1/2 [==============>...............] - ETA: 0s - loss: 0.2691 - accuracy: 0.9400\n",
            "Epoch 21: val_loss improved from 0.37130 to 0.35832, saving model to sonar_best.h5\n",
            "2/2 [==============================] - 0s 54ms/step - loss: 0.2523 - accuracy: 0.9394 - val_loss: 0.3583 - val_accuracy: 0.7941\n",
            "Epoch 22/200\n",
            "1/2 [==============>...............] - ETA: 0s - loss: 0.2169 - accuracy: 0.9400\n",
            "Epoch 22: val_loss improved from 0.35832 to 0.34537, saving model to sonar_best.h5\n",
            "2/2 [==============================] - 0s 49ms/step - loss: 0.2327 - accuracy: 0.9318 - val_loss: 0.3454 - val_accuracy: 0.8235\n",
            "Epoch 23/200\n",
            "1/2 [==============>...............] - ETA: 0s - loss: 0.2071 - accuracy: 0.9300\n",
            "Epoch 23: val_loss improved from 0.34537 to 0.33246, saving model to sonar_best.h5\n",
            "2/2 [==============================] - 0s 48ms/step - loss: 0.2145 - accuracy: 0.9318 - val_loss: 0.3325 - val_accuracy: 0.8235\n",
            "Epoch 24/200\n",
            "1/2 [==============>...............] - ETA: 0s - loss: 0.2001 - accuracy: 0.9400\n",
            "Epoch 24: val_loss improved from 0.33246 to 0.32117, saving model to sonar_best.h5\n",
            "2/2 [==============================] - 0s 50ms/step - loss: 0.1966 - accuracy: 0.9470 - val_loss: 0.3212 - val_accuracy: 0.8235\n",
            "Epoch 25/200\n",
            "1/2 [==============>...............] - ETA: 0s - loss: 0.1949 - accuracy: 0.9600\n",
            "Epoch 25: val_loss improved from 0.32117 to 0.31153, saving model to sonar_best.h5\n",
            "2/2 [==============================] - 0s 52ms/step - loss: 0.1814 - accuracy: 0.9621 - val_loss: 0.3115 - val_accuracy: 0.8235\n",
            "Epoch 26/200\n",
            "1/2 [==============>...............] - ETA: 0s - loss: 0.1735 - accuracy: 0.9700\n",
            "Epoch 26: val_loss improved from 0.31153 to 0.30382, saving model to sonar_best.h5\n",
            "2/2 [==============================] - 0s 51ms/step - loss: 0.1661 - accuracy: 0.9773 - val_loss: 0.3038 - val_accuracy: 0.8235\n",
            "Epoch 27/200\n",
            "1/2 [==============>...............] - ETA: 0s - loss: 0.1588 - accuracy: 0.9700\n",
            "Epoch 27: val_loss improved from 0.30382 to 0.29755, saving model to sonar_best.h5\n",
            "2/2 [==============================] - 0s 49ms/step - loss: 0.1515 - accuracy: 0.9773 - val_loss: 0.2975 - val_accuracy: 0.8235\n",
            "Epoch 28/200\n",
            "1/2 [==============>...............] - ETA: 0s - loss: 0.1405 - accuracy: 0.9900\n",
            "Epoch 28: val_loss improved from 0.29755 to 0.29314, saving model to sonar_best.h5\n",
            "2/2 [==============================] - 0s 51ms/step - loss: 0.1384 - accuracy: 0.9924 - val_loss: 0.2931 - val_accuracy: 0.8529\n",
            "Epoch 29/200\n",
            "1/2 [==============>...............] - ETA: 0s - loss: 0.1411 - accuracy: 0.9900\n",
            "Epoch 29: val_loss improved from 0.29314 to 0.28789, saving model to sonar_best.h5\n",
            "2/2 [==============================] - 0s 51ms/step - loss: 0.1274 - accuracy: 0.9924 - val_loss: 0.2879 - val_accuracy: 0.8529\n",
            "Epoch 30/200\n",
            "1/2 [==============>...............] - ETA: 0s - loss: 0.1049 - accuracy: 1.0000\n",
            "Epoch 30: val_loss improved from 0.28789 to 0.28102, saving model to sonar_best.h5\n",
            "2/2 [==============================] - 0s 54ms/step - loss: 0.1172 - accuracy: 0.9924 - val_loss: 0.2810 - val_accuracy: 0.8529\n",
            "Epoch 31/200\n",
            "1/2 [==============>...............] - ETA: 0s - loss: 0.1114 - accuracy: 0.9900\n",
            "Epoch 31: val_loss improved from 0.28102 to 0.27485, saving model to sonar_best.h5\n",
            "2/2 [==============================] - 0s 51ms/step - loss: 0.1077 - accuracy: 0.9924 - val_loss: 0.2749 - val_accuracy: 0.8529\n",
            "Epoch 32/200\n",
            "1/2 [==============>...............] - ETA: 0s - loss: 0.1084 - accuracy: 0.9900\n",
            "Epoch 32: val_loss improved from 0.27485 to 0.27053, saving model to sonar_best.h5\n",
            "2/2 [==============================] - 0s 53ms/step - loss: 0.0986 - accuracy: 0.9924 - val_loss: 0.2705 - val_accuracy: 0.8529\n",
            "Epoch 33/200\n",
            "1/2 [==============>...............] - ETA: 0s - loss: 0.0766 - accuracy: 1.0000\n",
            "Epoch 33: val_loss improved from 0.27053 to 0.26731, saving model to sonar_best.h5\n",
            "2/2 [==============================] - 0s 50ms/step - loss: 0.0894 - accuracy: 1.0000 - val_loss: 0.2673 - val_accuracy: 0.8235\n",
            "Epoch 34/200\n",
            "1/2 [==============>...............] - ETA: 0s - loss: 0.0718 - accuracy: 1.0000\n",
            "Epoch 34: val_loss improved from 0.26731 to 0.26456, saving model to sonar_best.h5\n",
            "2/2 [==============================] - 0s 54ms/step - loss: 0.0817 - accuracy: 1.0000 - val_loss: 0.2646 - val_accuracy: 0.8235\n",
            "Epoch 35/200\n",
            "1/2 [==============>...............] - ETA: 0s - loss: 0.0702 - accuracy: 1.0000\n",
            "Epoch 35: val_loss improved from 0.26456 to 0.26170, saving model to sonar_best.h5\n",
            "2/2 [==============================] - 0s 50ms/step - loss: 0.0741 - accuracy: 1.0000 - val_loss: 0.2617 - val_accuracy: 0.8235\n",
            "Epoch 36/200\n",
            "1/2 [==============>...............] - ETA: 0s - loss: 0.0718 - accuracy: 1.0000\n",
            "Epoch 36: val_loss improved from 0.26170 to 0.25845, saving model to sonar_best.h5\n",
            "2/2 [==============================] - 0s 53ms/step - loss: 0.0673 - accuracy: 1.0000 - val_loss: 0.2585 - val_accuracy: 0.8235\n",
            "Epoch 37/200\n",
            "1/2 [==============>...............] - ETA: 0s - loss: 0.0565 - accuracy: 1.0000\n",
            "Epoch 37: val_loss improved from 0.25845 to 0.25353, saving model to sonar_best.h5\n",
            "2/2 [==============================] - 0s 50ms/step - loss: 0.0606 - accuracy: 1.0000 - val_loss: 0.2535 - val_accuracy: 0.8235\n",
            "Epoch 38/200\n",
            "1/2 [==============>...............] - ETA: 0s - loss: 0.0583 - accuracy: 1.0000\n",
            "Epoch 38: val_loss improved from 0.25353 to 0.24920, saving model to sonar_best.h5\n",
            "2/2 [==============================] - 0s 51ms/step - loss: 0.0546 - accuracy: 1.0000 - val_loss: 0.2492 - val_accuracy: 0.8235\n",
            "Epoch 39/200\n",
            "1/2 [==============>...............] - ETA: 0s - loss: 0.0503 - accuracy: 1.0000\n",
            "Epoch 39: val_loss improved from 0.24920 to 0.24580, saving model to sonar_best.h5\n",
            "2/2 [==============================] - 0s 59ms/step - loss: 0.0489 - accuracy: 1.0000 - val_loss: 0.2458 - val_accuracy: 0.8235\n",
            "Epoch 40/200\n",
            "1/2 [==============>...............] - ETA: 0s - loss: 0.0461 - accuracy: 1.0000\n",
            "Epoch 40: val_loss improved from 0.24580 to 0.24308, saving model to sonar_best.h5\n",
            "2/2 [==============================] - 0s 52ms/step - loss: 0.0440 - accuracy: 1.0000 - val_loss: 0.2431 - val_accuracy: 0.8235\n",
            "Epoch 41/200\n",
            "1/2 [==============>...............] - ETA: 0s - loss: 0.0444 - accuracy: 1.0000\n",
            "Epoch 41: val_loss improved from 0.24308 to 0.24142, saving model to sonar_best.h5\n",
            "2/2 [==============================] - 0s 51ms/step - loss: 0.0399 - accuracy: 1.0000 - val_loss: 0.2414 - val_accuracy: 0.8235\n",
            "Epoch 42/200\n",
            "1/2 [==============>...............] - ETA: 0s - loss: 0.0411 - accuracy: 1.0000\n",
            "Epoch 42: val_loss improved from 0.24142 to 0.24028, saving model to sonar_best.h5\n",
            "2/2 [==============================] - 0s 50ms/step - loss: 0.0363 - accuracy: 1.0000 - val_loss: 0.2403 - val_accuracy: 0.8529\n",
            "Epoch 43/200\n",
            "1/2 [==============>...............] - ETA: 0s - loss: 0.0345 - accuracy: 1.0000\n",
            "Epoch 43: val_loss improved from 0.24028 to 0.23955, saving model to sonar_best.h5\n",
            "2/2 [==============================] - 0s 49ms/step - loss: 0.0328 - accuracy: 1.0000 - val_loss: 0.2395 - val_accuracy: 0.8529\n",
            "Epoch 44/200\n",
            "1/2 [==============>...............] - ETA: 0s - loss: 0.0318 - accuracy: 1.0000\n",
            "Epoch 44: val_loss did not improve from 0.23955\n",
            "2/2 [==============================] - 0s 27ms/step - loss: 0.0297 - accuracy: 1.0000 - val_loss: 0.2399 - val_accuracy: 0.8529\n",
            "Epoch 45/200\n",
            "1/2 [==============>...............] - ETA: 0s - loss: 0.0268 - accuracy: 1.0000\n",
            "Epoch 45: val_loss did not improve from 0.23955\n",
            "2/2 [==============================] - 0s 24ms/step - loss: 0.0268 - accuracy: 1.0000 - val_loss: 0.2406 - val_accuracy: 0.8235\n",
            "Epoch 46/200\n",
            "1/2 [==============>...............] - ETA: 0s - loss: 0.0261 - accuracy: 1.0000\n",
            "Epoch 46: val_loss did not improve from 0.23955\n",
            "2/2 [==============================] - 0s 26ms/step - loss: 0.0243 - accuracy: 1.0000 - val_loss: 0.2410 - val_accuracy: 0.8235\n",
            "Epoch 47/200\n",
            "1/2 [==============>...............] - ETA: 0s - loss: 0.0258 - accuracy: 1.0000\n",
            "Epoch 47: val_loss did not improve from 0.23955\n",
            "2/2 [==============================] - 0s 24ms/step - loss: 0.0221 - accuracy: 1.0000 - val_loss: 0.2418 - val_accuracy: 0.8235\n",
            "Epoch 48/200\n",
            "1/2 [==============>...............] - ETA: 0s - loss: 0.0168 - accuracy: 1.0000\n",
            "Epoch 48: val_loss did not improve from 0.23955\n",
            "2/2 [==============================] - 0s 24ms/step - loss: 0.0199 - accuracy: 1.0000 - val_loss: 0.2419 - val_accuracy: 0.8235\n",
            "Epoch 49/200\n",
            "1/2 [==============>...............] - ETA: 0s - loss: 0.0202 - accuracy: 1.0000\n",
            "Epoch 49: val_loss did not improve from 0.23955\n",
            "2/2 [==============================] - 0s 25ms/step - loss: 0.0184 - accuracy: 1.0000 - val_loss: 0.2408 - val_accuracy: 0.8235\n",
            "Epoch 50/200\n",
            "1/2 [==============>...............] - ETA: 0s - loss: 0.0180 - accuracy: 1.0000\n",
            "Epoch 50: val_loss did not improve from 0.23955\n",
            "2/2 [==============================] - 0s 30ms/step - loss: 0.0168 - accuracy: 1.0000 - val_loss: 0.2396 - val_accuracy: 0.8235\n",
            "Epoch 51/200\n",
            "1/2 [==============>...............] - ETA: 0s - loss: 0.0157 - accuracy: 1.0000\n",
            "Epoch 51: val_loss improved from 0.23955 to 0.23832, saving model to sonar_best.h5\n",
            "2/2 [==============================] - 0s 55ms/step - loss: 0.0154 - accuracy: 1.0000 - val_loss: 0.2383 - val_accuracy: 0.8235\n",
            "Epoch 52/200\n",
            "1/2 [==============>...............] - ETA: 0s - loss: 0.0128 - accuracy: 1.0000\n",
            "Epoch 52: val_loss improved from 0.23832 to 0.23634, saving model to sonar_best.h5\n",
            "2/2 [==============================] - 0s 55ms/step - loss: 0.0141 - accuracy: 1.0000 - val_loss: 0.2363 - val_accuracy: 0.8235\n",
            "Epoch 53/200\n",
            "1/2 [==============>...............] - ETA: 0s - loss: 0.0117 - accuracy: 1.0000\n",
            "Epoch 53: val_loss improved from 0.23634 to 0.23425, saving model to sonar_best.h5\n",
            "2/2 [==============================] - 0s 51ms/step - loss: 0.0129 - accuracy: 1.0000 - val_loss: 0.2343 - val_accuracy: 0.8235\n",
            "Epoch 54/200\n",
            "1/2 [==============>...............] - ETA: 0s - loss: 0.0105 - accuracy: 1.0000\n",
            "Epoch 54: val_loss improved from 0.23425 to 0.23213, saving model to sonar_best.h5\n",
            "2/2 [==============================] - 0s 52ms/step - loss: 0.0119 - accuracy: 1.0000 - val_loss: 0.2321 - val_accuracy: 0.8235\n",
            "Epoch 55/200\n",
            "1/2 [==============>...............] - ETA: 0s - loss: 0.0117 - accuracy: 1.0000\n",
            "Epoch 55: val_loss improved from 0.23213 to 0.23071, saving model to sonar_best.h5\n",
            "2/2 [==============================] - 0s 55ms/step - loss: 0.0110 - accuracy: 1.0000 - val_loss: 0.2307 - val_accuracy: 0.8235\n",
            "Epoch 56/200\n",
            "1/2 [==============>...............] - ETA: 0s - loss: 0.0101 - accuracy: 1.0000\n",
            "Epoch 56: val_loss improved from 0.23071 to 0.23006, saving model to sonar_best.h5\n",
            "2/2 [==============================] - 0s 51ms/step - loss: 0.0101 - accuracy: 1.0000 - val_loss: 0.2301 - val_accuracy: 0.8235\n",
            "Epoch 57/200\n",
            "1/2 [==============>...............] - ETA: 0s - loss: 0.0081 - accuracy: 1.0000\n",
            "Epoch 57: val_loss improved from 0.23006 to 0.22973, saving model to sonar_best.h5\n",
            "2/2 [==============================] - 0s 50ms/step - loss: 0.0093 - accuracy: 1.0000 - val_loss: 0.2297 - val_accuracy: 0.8235\n",
            "Epoch 58/200\n",
            "1/2 [==============>...............] - ETA: 0s - loss: 0.0086 - accuracy: 1.0000\n",
            "Epoch 58: val_loss did not improve from 0.22973\n",
            "2/2 [==============================] - 0s 27ms/step - loss: 0.0087 - accuracy: 1.0000 - val_loss: 0.2298 - val_accuracy: 0.8235\n",
            "Epoch 59/200\n",
            "1/2 [==============>...............] - ETA: 0s - loss: 0.0084 - accuracy: 1.0000\n",
            "Epoch 59: val_loss did not improve from 0.22973\n",
            "2/2 [==============================] - 0s 29ms/step - loss: 0.0080 - accuracy: 1.0000 - val_loss: 0.2300 - val_accuracy: 0.8235\n",
            "Epoch 60/200\n",
            "1/2 [==============>...............] - ETA: 0s - loss: 0.0078 - accuracy: 1.0000\n",
            "Epoch 60: val_loss did not improve from 0.22973\n",
            "2/2 [==============================] - 0s 26ms/step - loss: 0.0075 - accuracy: 1.0000 - val_loss: 0.2304 - val_accuracy: 0.8235\n",
            "Epoch 61/200\n",
            "1/2 [==============>...............] - ETA: 0s - loss: 0.0068 - accuracy: 1.0000\n",
            "Epoch 61: val_loss did not improve from 0.22973\n",
            "2/2 [==============================] - 0s 24ms/step - loss: 0.0070 - accuracy: 1.0000 - val_loss: 0.2301 - val_accuracy: 0.8235\n",
            "Epoch 62/200\n",
            "1/2 [==============>...............] - ETA: 0s - loss: 0.0068 - accuracy: 1.0000\n",
            "Epoch 62: val_loss improved from 0.22973 to 0.22861, saving model to sonar_best.h5\n",
            "2/2 [==============================] - 0s 55ms/step - loss: 0.0065 - accuracy: 1.0000 - val_loss: 0.2286 - val_accuracy: 0.8235\n",
            "Epoch 63/200\n",
            "1/2 [==============>...............] - ETA: 0s - loss: 0.0060 - accuracy: 1.0000\n",
            "Epoch 63: val_loss improved from 0.22861 to 0.22682, saving model to sonar_best.h5\n",
            "2/2 [==============================] - 0s 53ms/step - loss: 0.0061 - accuracy: 1.0000 - val_loss: 0.2268 - val_accuracy: 0.8235\n",
            "Epoch 64/200\n",
            "1/2 [==============>...............] - ETA: 0s - loss: 0.0064 - accuracy: 1.0000\n",
            "Epoch 64: val_loss improved from 0.22682 to 0.22518, saving model to sonar_best.h5\n",
            "2/2 [==============================] - 0s 51ms/step - loss: 0.0057 - accuracy: 1.0000 - val_loss: 0.2252 - val_accuracy: 0.8235\n",
            "Epoch 65/200\n",
            "1/2 [==============>...............] - ETA: 0s - loss: 0.0053 - accuracy: 1.0000\n",
            "Epoch 65: val_loss improved from 0.22518 to 0.22399, saving model to sonar_best.h5\n",
            "2/2 [==============================] - 0s 52ms/step - loss: 0.0054 - accuracy: 1.0000 - val_loss: 0.2240 - val_accuracy: 0.8235\n",
            "Epoch 66/200\n",
            "1/2 [==============>...............] - ETA: 0s - loss: 0.0057 - accuracy: 1.0000\n",
            "Epoch 66: val_loss improved from 0.22399 to 0.22334, saving model to sonar_best.h5\n",
            "2/2 [==============================] - 0s 51ms/step - loss: 0.0051 - accuracy: 1.0000 - val_loss: 0.2233 - val_accuracy: 0.8235\n",
            "Epoch 67/200\n",
            "1/2 [==============>...............] - ETA: 0s - loss: 0.0044 - accuracy: 1.0000\n",
            "Epoch 67: val_loss improved from 0.22334 to 0.22304, saving model to sonar_best.h5\n",
            "2/2 [==============================] - 0s 51ms/step - loss: 0.0048 - accuracy: 1.0000 - val_loss: 0.2230 - val_accuracy: 0.8235\n",
            "Epoch 68/200\n",
            "1/2 [==============>...............] - ETA: 0s - loss: 0.0045 - accuracy: 1.0000\n",
            "Epoch 68: val_loss did not improve from 0.22304\n",
            "2/2 [==============================] - 0s 25ms/step - loss: 0.0045 - accuracy: 1.0000 - val_loss: 0.2231 - val_accuracy: 0.8235\n",
            "Epoch 69/200\n",
            "1/2 [==============>...............] - ETA: 0s - loss: 0.0041 - accuracy: 1.0000\n",
            "Epoch 69: val_loss did not improve from 0.22304\n",
            "2/2 [==============================] - 0s 24ms/step - loss: 0.0043 - accuracy: 1.0000 - val_loss: 0.2233 - val_accuracy: 0.8235\n",
            "Epoch 70/200\n",
            "1/2 [==============>...............] - ETA: 0s - loss: 0.0043 - accuracy: 1.0000\n",
            "Epoch 70: val_loss did not improve from 0.22304\n",
            "2/2 [==============================] - 0s 24ms/step - loss: 0.0041 - accuracy: 1.0000 - val_loss: 0.2232 - val_accuracy: 0.8235\n",
            "Epoch 71/200\n",
            "1/2 [==============>...............] - ETA: 0s - loss: 0.0038 - accuracy: 1.0000\n",
            "Epoch 71: val_loss improved from 0.22304 to 0.22302, saving model to sonar_best.h5\n",
            "2/2 [==============================] - 0s 56ms/step - loss: 0.0039 - accuracy: 1.0000 - val_loss: 0.2230 - val_accuracy: 0.8235\n",
            "Epoch 72/200\n",
            "1/2 [==============>...............] - ETA: 0s - loss: 0.0037 - accuracy: 1.0000\n",
            "Epoch 72: val_loss improved from 0.22302 to 0.22275, saving model to sonar_best.h5\n",
            "2/2 [==============================] - 0s 61ms/step - loss: 0.0037 - accuracy: 1.0000 - val_loss: 0.2227 - val_accuracy: 0.8235\n",
            "Epoch 73/200\n",
            "1/2 [==============>...............] - ETA: 0s - loss: 0.0039 - accuracy: 1.0000\n",
            "Epoch 73: val_loss improved from 0.22275 to 0.22250, saving model to sonar_best.h5\n",
            "2/2 [==============================] - 0s 51ms/step - loss: 0.0035 - accuracy: 1.0000 - val_loss: 0.2225 - val_accuracy: 0.8235\n",
            "Epoch 74/200\n",
            "1/2 [==============>...............] - ETA: 0s - loss: 0.0034 - accuracy: 1.0000\n",
            "Epoch 74: val_loss did not improve from 0.22250\n",
            "2/2 [==============================] - 0s 25ms/step - loss: 0.0034 - accuracy: 1.0000 - val_loss: 0.2226 - val_accuracy: 0.8235\n",
            "Epoch 75/200\n",
            "1/2 [==============>...............] - ETA: 0s - loss: 0.0033 - accuracy: 1.0000\n",
            "Epoch 75: val_loss improved from 0.22250 to 0.22248, saving model to sonar_best.h5\n",
            "2/2 [==============================] - 0s 52ms/step - loss: 0.0032 - accuracy: 1.0000 - val_loss: 0.2225 - val_accuracy: 0.8529\n",
            "Epoch 76/200\n",
            "1/2 [==============>...............] - ETA: 0s - loss: 0.0030 - accuracy: 1.0000\n",
            "Epoch 76: val_loss did not improve from 0.22248\n",
            "2/2 [==============================] - 0s 25ms/step - loss: 0.0031 - accuracy: 1.0000 - val_loss: 0.2225 - val_accuracy: 0.8529\n",
            "Epoch 77/200\n",
            "1/2 [==============>...............] - ETA: 0s - loss: 0.0028 - accuracy: 1.0000\n",
            "Epoch 77: val_loss improved from 0.22248 to 0.22238, saving model to sonar_best.h5\n",
            "2/2 [==============================] - 0s 56ms/step - loss: 0.0030 - accuracy: 1.0000 - val_loss: 0.2224 - val_accuracy: 0.8529\n",
            "Epoch 78/200\n",
            "1/2 [==============>...............] - ETA: 0s - loss: 0.0032 - accuracy: 1.0000\n",
            "Epoch 78: val_loss improved from 0.22238 to 0.22205, saving model to sonar_best.h5\n",
            "2/2 [==============================] - 0s 53ms/step - loss: 0.0029 - accuracy: 1.0000 - val_loss: 0.2220 - val_accuracy: 0.8529\n",
            "Epoch 79/200\n",
            "1/2 [==============>...............] - ETA: 0s - loss: 0.0026 - accuracy: 1.0000\n",
            "Epoch 79: val_loss improved from 0.22205 to 0.22183, saving model to sonar_best.h5\n",
            "2/2 [==============================] - 0s 51ms/step - loss: 0.0027 - accuracy: 1.0000 - val_loss: 0.2218 - val_accuracy: 0.8529\n",
            "Epoch 80/200\n",
            "1/2 [==============>...............] - ETA: 0s - loss: 0.0028 - accuracy: 1.0000\n",
            "Epoch 80: val_loss improved from 0.22183 to 0.22172, saving model to sonar_best.h5\n",
            "2/2 [==============================] - 0s 56ms/step - loss: 0.0026 - accuracy: 1.0000 - val_loss: 0.2217 - val_accuracy: 0.8529\n",
            "Epoch 81/200\n",
            "1/2 [==============>...............] - ETA: 0s - loss: 0.0027 - accuracy: 1.0000\n",
            "Epoch 81: val_loss improved from 0.22172 to 0.22156, saving model to sonar_best.h5\n",
            "2/2 [==============================] - 0s 53ms/step - loss: 0.0025 - accuracy: 1.0000 - val_loss: 0.2216 - val_accuracy: 0.8529\n",
            "Epoch 82/200\n",
            "1/2 [==============>...............] - ETA: 0s - loss: 0.0023 - accuracy: 1.0000\n",
            "Epoch 82: val_loss improved from 0.22156 to 0.22147, saving model to sonar_best.h5\n",
            "2/2 [==============================] - 0s 58ms/step - loss: 0.0024 - accuracy: 1.0000 - val_loss: 0.2215 - val_accuracy: 0.8529\n",
            "Epoch 83/200\n",
            "1/2 [==============>...............] - ETA: 0s - loss: 0.0025 - accuracy: 1.0000\n",
            "Epoch 83: val_loss improved from 0.22147 to 0.22126, saving model to sonar_best.h5\n",
            "2/2 [==============================] - 0s 54ms/step - loss: 0.0024 - accuracy: 1.0000 - val_loss: 0.2213 - val_accuracy: 0.8824\n",
            "Epoch 84/200\n",
            "1/2 [==============>...............] - ETA: 0s - loss: 0.0024 - accuracy: 1.0000\n",
            "Epoch 84: val_loss improved from 0.22126 to 0.22108, saving model to sonar_best.h5\n",
            "2/2 [==============================] - 0s 55ms/step - loss: 0.0023 - accuracy: 1.0000 - val_loss: 0.2211 - val_accuracy: 0.8824\n",
            "Epoch 85/200\n",
            "1/2 [==============>...............] - ETA: 0s - loss: 0.0019 - accuracy: 1.0000\n",
            "Epoch 85: val_loss improved from 0.22108 to 0.22084, saving model to sonar_best.h5\n",
            "2/2 [==============================] - 0s 51ms/step - loss: 0.0022 - accuracy: 1.0000 - val_loss: 0.2208 - val_accuracy: 0.8824\n",
            "Epoch 86/200\n",
            "1/2 [==============>...............] - ETA: 0s - loss: 0.0022 - accuracy: 1.0000\n",
            "Epoch 86: val_loss improved from 0.22084 to 0.22035, saving model to sonar_best.h5\n",
            "2/2 [==============================] - 0s 52ms/step - loss: 0.0021 - accuracy: 1.0000 - val_loss: 0.2204 - val_accuracy: 0.8824\n",
            "Epoch 87/200\n",
            "1/2 [==============>...............] - ETA: 0s - loss: 0.0022 - accuracy: 1.0000\n",
            "Epoch 87: val_loss improved from 0.22035 to 0.21984, saving model to sonar_best.h5\n",
            "2/2 [==============================] - 0s 58ms/step - loss: 0.0021 - accuracy: 1.0000 - val_loss: 0.2198 - val_accuracy: 0.8824\n",
            "Epoch 88/200\n",
            "1/2 [==============>...............] - ETA: 0s - loss: 0.0021 - accuracy: 1.0000\n",
            "Epoch 88: val_loss improved from 0.21984 to 0.21907, saving model to sonar_best.h5\n",
            "2/2 [==============================] - 0s 50ms/step - loss: 0.0020 - accuracy: 1.0000 - val_loss: 0.2191 - val_accuracy: 0.8824\n",
            "Epoch 89/200\n",
            "1/2 [==============>...............] - ETA: 0s - loss: 0.0019 - accuracy: 1.0000\n",
            "Epoch 89: val_loss improved from 0.21907 to 0.21860, saving model to sonar_best.h5\n",
            "2/2 [==============================] - 0s 52ms/step - loss: 0.0019 - accuracy: 1.0000 - val_loss: 0.2186 - val_accuracy: 0.8824\n",
            "Epoch 90/200\n",
            "1/2 [==============>...............] - ETA: 0s - loss: 0.0019 - accuracy: 1.0000\n",
            "Epoch 90: val_loss did not improve from 0.21860\n",
            "2/2 [==============================] - 0s 29ms/step - loss: 0.0019 - accuracy: 1.0000 - val_loss: 0.2186 - val_accuracy: 0.8824\n",
            "Epoch 91/200\n",
            "1/2 [==============>...............] - ETA: 0s - loss: 0.0019 - accuracy: 1.0000\n",
            "Epoch 91: val_loss did not improve from 0.21860\n",
            "2/2 [==============================] - 0s 29ms/step - loss: 0.0018 - accuracy: 1.0000 - val_loss: 0.2188 - val_accuracy: 0.8824\n",
            "Epoch 92/200\n",
            "1/2 [==============>...............] - ETA: 0s - loss: 0.0017 - accuracy: 1.0000\n",
            "Epoch 92: val_loss did not improve from 0.21860\n",
            "2/2 [==============================] - 0s 24ms/step - loss: 0.0018 - accuracy: 1.0000 - val_loss: 0.2188 - val_accuracy: 0.8824\n",
            "Epoch 93/200\n",
            "1/2 [==============>...............] - ETA: 0s - loss: 0.0013 - accuracy: 1.0000\n",
            "Epoch 93: val_loss improved from 0.21860 to 0.21858, saving model to sonar_best.h5\n",
            "2/2 [==============================] - 0s 52ms/step - loss: 0.0017 - accuracy: 1.0000 - val_loss: 0.2186 - val_accuracy: 0.8824\n",
            "Epoch 94/200\n",
            "1/2 [==============>...............] - ETA: 0s - loss: 0.0015 - accuracy: 1.0000\n",
            "Epoch 94: val_loss improved from 0.21858 to 0.21815, saving model to sonar_best.h5\n",
            "2/2 [==============================] - 0s 53ms/step - loss: 0.0017 - accuracy: 1.0000 - val_loss: 0.2181 - val_accuracy: 0.8824\n",
            "Epoch 95/200\n",
            "1/2 [==============>...............] - ETA: 0s - loss: 0.0017 - accuracy: 1.0000\n",
            "Epoch 95: val_loss improved from 0.21815 to 0.21809, saving model to sonar_best.h5\n",
            "2/2 [==============================] - 0s 56ms/step - loss: 0.0016 - accuracy: 1.0000 - val_loss: 0.2181 - val_accuracy: 0.8824\n",
            "Epoch 96/200\n",
            "1/2 [==============>...............] - ETA: 0s - loss: 0.0016 - accuracy: 1.0000\n",
            "Epoch 96: val_loss did not improve from 0.21809\n",
            "2/2 [==============================] - 0s 25ms/step - loss: 0.0016 - accuracy: 1.0000 - val_loss: 0.2182 - val_accuracy: 0.8824\n",
            "Epoch 97/200\n",
            "1/2 [==============>...............] - ETA: 0s - loss: 0.0016 - accuracy: 1.0000\n",
            "Epoch 97: val_loss did not improve from 0.21809\n",
            "2/2 [==============================] - 0s 27ms/step - loss: 0.0015 - accuracy: 1.0000 - val_loss: 0.2184 - val_accuracy: 0.8824\n",
            "Epoch 98/200\n",
            "1/2 [==============>...............] - ETA: 0s - loss: 0.0015 - accuracy: 1.0000\n",
            "Epoch 98: val_loss did not improve from 0.21809\n",
            "2/2 [==============================] - 0s 28ms/step - loss: 0.0015 - accuracy: 1.0000 - val_loss: 0.2187 - val_accuracy: 0.8824\n",
            "Epoch 99/200\n",
            "1/2 [==============>...............] - ETA: 0s - loss: 0.0016 - accuracy: 1.0000\n",
            "Epoch 99: val_loss did not improve from 0.21809\n",
            "2/2 [==============================] - 0s 27ms/step - loss: 0.0015 - accuracy: 1.0000 - val_loss: 0.2188 - val_accuracy: 0.8824\n",
            "Epoch 100/200\n",
            "1/2 [==============>...............] - ETA: 0s - loss: 0.0014 - accuracy: 1.0000\n",
            "Epoch 100: val_loss did not improve from 0.21809\n",
            "2/2 [==============================] - 0s 25ms/step - loss: 0.0014 - accuracy: 1.0000 - val_loss: 0.2189 - val_accuracy: 0.8824\n",
            "Epoch 101/200\n",
            "1/2 [==============>...............] - ETA: 0s - loss: 0.0011 - accuracy: 1.0000\n",
            "Epoch 101: val_loss did not improve from 0.21809\n",
            "2/2 [==============================] - 0s 25ms/step - loss: 0.0014 - accuracy: 1.0000 - val_loss: 0.2190 - val_accuracy: 0.8824\n",
            "Epoch 102/200\n",
            "1/2 [==============>...............] - ETA: 0s - loss: 0.0012 - accuracy: 1.0000\n",
            "Epoch 102: val_loss did not improve from 0.21809\n",
            "2/2 [==============================] - 0s 55ms/step - loss: 0.0013 - accuracy: 1.0000 - val_loss: 0.2191 - val_accuracy: 0.8824\n",
            "Epoch 103/200\n",
            "1/2 [==============>...............] - ETA: 0s - loss: 0.0013 - accuracy: 1.0000\n",
            "Epoch 103: val_loss did not improve from 0.21809\n",
            "2/2 [==============================] - 0s 69ms/step - loss: 0.0013 - accuracy: 1.0000 - val_loss: 0.2193 - val_accuracy: 0.8824\n",
            "Epoch 104/200\n",
            "1/2 [==============>...............] - ETA: 0s - loss: 0.0014 - accuracy: 1.0000\n",
            "Epoch 104: val_loss did not improve from 0.21809\n",
            "2/2 [==============================] - 0s 51ms/step - loss: 0.0013 - accuracy: 1.0000 - val_loss: 0.2195 - val_accuracy: 0.8824\n",
            "Epoch 105/200\n",
            "1/2 [==============>...............] - ETA: 0s - loss: 0.0012 - accuracy: 1.0000\n",
            "Epoch 105: val_loss did not improve from 0.21809\n",
            "2/2 [==============================] - 0s 53ms/step - loss: 0.0012 - accuracy: 1.0000 - val_loss: 0.2197 - val_accuracy: 0.8824\n",
            "Epoch 106/200\n",
            "1/2 [==============>...............] - ETA: 0s - loss: 0.0013 - accuracy: 1.0000\n",
            "Epoch 106: val_loss did not improve from 0.21809\n",
            "2/2 [==============================] - 0s 41ms/step - loss: 0.0012 - accuracy: 1.0000 - val_loss: 0.2196 - val_accuracy: 0.8824\n",
            "Epoch 107/200\n",
            "1/2 [==============>...............] - ETA: 0s - loss: 0.0011 - accuracy: 1.0000\n",
            "Epoch 107: val_loss did not improve from 0.21809\n",
            "2/2 [==============================] - 0s 49ms/step - loss: 0.0012 - accuracy: 1.0000 - val_loss: 0.2196 - val_accuracy: 0.8824\n",
            "Epoch 108/200\n",
            "1/2 [==============>...............] - ETA: 0s - loss: 0.0012 - accuracy: 1.0000\n",
            "Epoch 108: val_loss did not improve from 0.21809\n",
            "2/2 [==============================] - 0s 43ms/step - loss: 0.0012 - accuracy: 1.0000 - val_loss: 0.2196 - val_accuracy: 0.8824\n",
            "Epoch 109/200\n",
            "1/2 [==============>...............] - ETA: 0s - loss: 0.0011 - accuracy: 1.0000\n",
            "Epoch 109: val_loss did not improve from 0.21809\n",
            "2/2 [==============================] - 0s 34ms/step - loss: 0.0011 - accuracy: 1.0000 - val_loss: 0.2197 - val_accuracy: 0.8824\n",
            "Epoch 110/200\n",
            "1/2 [==============>...............] - ETA: 0s - loss: 0.0010 - accuracy: 1.0000\n",
            "Epoch 110: val_loss did not improve from 0.21809\n",
            "2/2 [==============================] - 0s 47ms/step - loss: 0.0011 - accuracy: 1.0000 - val_loss: 0.2197 - val_accuracy: 0.8824\n",
            "Epoch 111/200\n",
            "1/2 [==============>...............] - ETA: 0s - loss: 0.0011 - accuracy: 1.0000\n",
            "Epoch 111: val_loss did not improve from 0.21809\n",
            "2/2 [==============================] - 0s 39ms/step - loss: 0.0011 - accuracy: 1.0000 - val_loss: 0.2198 - val_accuracy: 0.8824\n",
            "Epoch 112/200\n",
            "1/2 [==============>...............] - ETA: 0s - loss: 0.0011 - accuracy: 1.0000\n",
            "Epoch 112: val_loss did not improve from 0.21809\n",
            "2/2 [==============================] - 0s 37ms/step - loss: 0.0011 - accuracy: 1.0000 - val_loss: 0.2200 - val_accuracy: 0.8824\n",
            "Epoch 113/200\n",
            "1/2 [==============>...............] - ETA: 0s - loss: 0.0011 - accuracy: 1.0000\n",
            "Epoch 113: val_loss did not improve from 0.21809\n",
            "2/2 [==============================] - 0s 54ms/step - loss: 0.0010 - accuracy: 1.0000 - val_loss: 0.2204 - val_accuracy: 0.8824\n",
            "Epoch 114/200\n",
            "1/2 [==============>...............] - ETA: 0s - loss: 0.0010 - accuracy: 1.0000\n",
            "Epoch 114: val_loss did not improve from 0.21809\n",
            "2/2 [==============================] - 0s 25ms/step - loss: 0.0010 - accuracy: 1.0000 - val_loss: 0.2207 - val_accuracy: 0.8824\n",
            "Epoch 115/200\n",
            "1/2 [==============>...............] - ETA: 0s - loss: 9.2381e-04 - accuracy: 1.0000\n",
            "Epoch 115: val_loss did not improve from 0.21809\n",
            "2/2 [==============================] - 0s 26ms/step - loss: 9.8676e-04 - accuracy: 1.0000 - val_loss: 0.2211 - val_accuracy: 0.9118\n"
          ]
        }
      ]
    },
    {
      "cell_type": "code",
      "source": [
        "from tensorflow.keras.models import load_model\n",
        "\n",
        "best_model = load_model('sonar_best.h5')\n",
        "\n",
        "best_model.evaluate(X_test, y_test)"
      ],
      "metadata": {
        "id": "W0RE4ls2WsKF",
        "outputId": "e269efd3-c9fd-445c-a4aa-87a0fe5ce8a4",
        "colab": {
          "base_uri": "https://localhost:8080/"
        }
      },
      "execution_count": null,
      "outputs": [
        {
          "output_type": "stream",
          "name": "stdout",
          "text": [
            "2/2 [==============================] - 0s 10ms/step - loss: 0.5698 - accuracy: 0.8810\n"
          ]
        },
        {
          "output_type": "execute_result",
          "data": {
            "text/plain": [
              "[0.5698437690734863, 0.8809523582458496]"
            ]
          },
          "metadata": {},
          "execution_count": 144
        }
      ]
    },
    {
      "cell_type": "code",
      "source": [
        "y_acc = hist.history['accuracy']\n",
        "y_vloss = hist.history['val_loss']\n",
        "xs = np.arange(1, len(y_acc) + 1)\n",
        "\n",
        "\n",
        "plt.figure(figsize=(12, 8))\n",
        "plt.plot(xs, y_acc, label='train.accuracy')\n",
        "plt.plot(xs, y_vloss, label='validation loss')\n",
        "plt.legend(), plt.grid()\n",
        "plt.ylim([0,1.2])\n",
        "plt.xlabel('Epoch')\n",
        "plt.title('No feature transform')\n",
        "plt.show()"
      ],
      "metadata": {
        "id": "OkyybTf2WuEc",
        "outputId": "1bd4963f-5a6d-4604-f348-66424d16d0d7",
        "colab": {
          "base_uri": "https://localhost:8080/",
          "height": 513
        }
      },
      "execution_count": null,
      "outputs": [
        {
          "output_type": "display_data",
          "data": {
            "text/plain": [
              "<Figure size 864x576 with 1 Axes>"
            ],
            "image/png": "[encoded data removed]"
          },
          "metadata": {
            "needs_background": "light"
          }
        }
      ]
    },
    {
      "cell_type": "markdown",
      "source": [
        "# 다중분류\n"
      ],
      "metadata": {
        "id": "5__-G8UiWvLE"
      }
    },
    {
      "cell_type": "code",
      "source": [
        "from sklearn.datasets import load_iris\n",
        "iris = load_iris()\n",
        "\n",
        "\n",
        "from sklearn.preprocessing import StandardScaler\n",
        "iris_std = StandardScaler().fit_transform(iris.data)"
      ],
      "metadata": {
        "id": "kqBj4f7OqgOI"
      },
      "execution_count": 146,
      "outputs": []
    },
    {
      "cell_type": "code",
      "source": [
        "iris.target"
      ],
      "metadata": {
        "colab": {
          "base_uri": "https://localhost:8080/"
        },
        "id": "YfzYclMJq1U6",
        "outputId": "200db08f-d63b-4239-dc73-6598fc13a5e0"
      },
      "execution_count": 148,
      "outputs": [
        {
          "output_type": "execute_result",
          "data": {
            "text/plain": [
              "array([0, 0, 0, 0, 0, 0, 0, 0, 0, 0, 0, 0, 0, 0, 0, 0, 0, 0, 0, 0, 0, 0,\n",
              "       0, 0, 0, 0, 0, 0, 0, 0, 0, 0, 0, 0, 0, 0, 0, 0, 0, 0, 0, 0, 0, 0,\n",
              "       0, 0, 0, 0, 0, 0, 1, 1, 1, 1, 1, 1, 1, 1, 1, 1, 1, 1, 1, 1, 1, 1,\n",
              "       1, 1, 1, 1, 1, 1, 1, 1, 1, 1, 1, 1, 1, 1, 1, 1, 1, 1, 1, 1, 1, 1,\n",
              "       1, 1, 1, 1, 1, 1, 1, 1, 1, 1, 1, 1, 2, 2, 2, 2, 2, 2, 2, 2, 2, 2,\n",
              "       2, 2, 2, 2, 2, 2, 2, 2, 2, 2, 2, 2, 2, 2, 2, 2, 2, 2, 2, 2, 2, 2,\n",
              "       2, 2, 2, 2, 2, 2, 2, 2, 2, 2, 2, 2, 2, 2, 2, 2, 2, 2])"
            ]
          },
          "metadata": {},
          "execution_count": 148
        }
      ]
    },
    {
      "cell_type": "code",
      "source": [
        "from tensorflow.keras.utils import to_categorical\n",
        "Y = to_categorical(iris.target)"
      ],
      "metadata": {
        "id": "3vuV7gw7qwdb"
      },
      "execution_count": 147,
      "outputs": []
    },
    {
      "cell_type": "code",
      "source": [
        "X_train, X_test, y_train, y_test = train_test_split(\n",
        "    iris_std, Y, stratify = Y, test_size=0.2,\n",
        "    random_state=2022\n",
        ")"
      ],
      "metadata": {
        "id": "99QXhrvHq0zB"
      },
      "execution_count": 149,
      "outputs": []
    },
    {
      "cell_type": "code",
      "source": [
        "from tensorflow.keras.models import Sequential, load_model\n",
        "from tensorflow.keras.layers import Dense\n",
        "from tensorflow.keras.callbacks import EarlyStopping, ModelCheckpoint"
      ],
      "metadata": {
        "id": "k0D1VDPurCIq"
      },
      "execution_count": 151,
      "outputs": []
    },
    {
      "cell_type": "code",
      "source": [
        "iris.data.shape"
      ],
      "metadata": {
        "colab": {
          "base_uri": "https://localhost:8080/"
        },
        "id": "tfwnJCarrbSc",
        "outputId": "65f732b0-c9ed-42b5-d367-fed9b06e93d2"
      },
      "execution_count": 152,
      "outputs": [
        {
          "output_type": "execute_result",
          "data": {
            "text/plain": [
              "(150, 4)"
            ]
          },
          "metadata": {},
          "execution_count": 152
        }
      ]
    },
    {
      "cell_type": "code",
      "source": [
        "np.unique(iris.target)"
      ],
      "metadata": {
        "colab": {
          "base_uri": "https://localhost:8080/"
        },
        "id": "X04xkpvJrnpZ",
        "outputId": "9de65dd1-8a4e-49fd-d99f-4b7421419fce"
      },
      "execution_count": 153,
      "outputs": [
        {
          "output_type": "execute_result",
          "data": {
            "text/plain": [
              "array([0, 1, 2])"
            ]
          },
          "metadata": {},
          "execution_count": 153
        }
      ]
    },
    {
      "cell_type": "code",
      "source": [
        "model = Sequential([\n",
        "    Dense(32, input_dim=4, activation='relu'),\n",
        "    Dense(16, activation='relu'),\n",
        "    Dense(8, activation='relu'),\n",
        "    Dense(3, activation='softmax')\n",
        "])\n",
        "\n",
        "model.summary()"
      ],
      "metadata": {
        "colab": {
          "base_uri": "https://localhost:8080/"
        },
        "id": "q-05TO-truaC",
        "outputId": "236cbb7a-440e-49d4-e773-2cbb92297429"
      },
      "execution_count": 155,
      "outputs": [
        {
          "output_type": "stream",
          "name": "stdout",
          "text": [
            "Model: \"sequential_15\"\n",
            "_________________________________________________________________\n",
            " Layer (type)                Output Shape              Param #   \n",
            "=================================================================\n",
            " dense_64 (Dense)            (None, 32)                160       \n",
            "                                                                 \n",
            " dense_65 (Dense)            (None, 16)                528       \n",
            "                                                                 \n",
            " dense_66 (Dense)            (None, 8)                 136       \n",
            "                                                                 \n",
            " dense_67 (Dense)            (None, 3)                 27        \n",
            "                                                                 \n",
            "=================================================================\n",
            "Total params: 851\n",
            "Trainable params: 851\n",
            "Non-trainable params: 0\n",
            "_________________________________________________________________\n"
          ]
        }
      ]
    },
    {
      "cell_type": "code",
      "source": [
        "model.compile('adam', 'categorical_crossentropy', ['accuracy'])"
      ],
      "metadata": {
        "id": "BuHO0WlTr8fR"
      },
      "execution_count": 156,
      "outputs": []
    },
    {
      "cell_type": "code",
      "source": [
        "mc = ModelCheckpoint('iris_best.h5', monitor='val_loss', verbose=1, save_best_only=True)\n",
        "es = EarlyStopping(patience=30)"
      ],
      "metadata": {
        "id": "rRRZ5qjfsRhj"
      },
      "execution_count": 157,
      "outputs": []
    },
    {
      "cell_type": "code",
      "source": [
        "hist = model.fit(X_train, y_train, validation_split=0.2,\n",
        "                 epochs=10000, batch_size=100, verbose=0,\n",
        "                 callbacks=[es,mc])"
      ],
      "metadata": {
        "colab": {
          "base_uri": "https://localhost:8080/"
        },
        "id": "v6st-RpAsF4h",
        "outputId": "8ca59de4-1737-499b-d8d9-92926da1db40"
      },
      "execution_count": 158,
      "outputs": [
        {
          "output_type": "stream",
          "name": "stdout",
          "text": [
            "\n",
            "Epoch 1: val_loss improved from inf to 1.18666, saving model to iris_best.h5\n",
            "\n",
            "Epoch 2: val_loss improved from 1.18666 to 1.16920, saving model to iris_best.h5\n",
            "\n",
            "Epoch 3: val_loss improved from 1.16920 to 1.15269, saving model to iris_best.h5\n",
            "\n",
            "Epoch 4: val_loss improved from 1.15269 to 1.13696, saving model to iris_best.h5\n",
            "\n",
            "Epoch 5: val_loss improved from 1.13696 to 1.12199, saving model to iris_best.h5\n",
            "\n",
            "Epoch 6: val_loss improved from 1.12199 to 1.10760, saving model to iris_best.h5\n",
            "\n",
            "Epoch 7: val_loss improved from 1.10760 to 1.09324, saving model to iris_best.h5\n",
            "\n",
            "Epoch 8: val_loss improved from 1.09324 to 1.07942, saving model to iris_best.h5\n",
            "\n",
            "Epoch 9: val_loss improved from 1.07942 to 1.06636, saving model to iris_best.h5\n",
            "\n",
            "Epoch 10: val_loss improved from 1.06636 to 1.05439, saving model to iris_best.h5\n",
            "\n",
            "Epoch 11: val_loss improved from 1.05439 to 1.04347, saving model to iris_best.h5\n",
            "\n",
            "Epoch 12: val_loss improved from 1.04347 to 1.03243, saving model to iris_best.h5\n",
            "\n",
            "Epoch 13: val_loss improved from 1.03243 to 1.02131, saving model to iris_best.h5\n",
            "\n",
            "Epoch 14: val_loss improved from 1.02131 to 1.01044, saving model to iris_best.h5\n",
            "\n",
            "Epoch 15: val_loss improved from 1.01044 to 1.00003, saving model to iris_best.h5\n",
            "\n",
            "Epoch 16: val_loss improved from 1.00003 to 0.98980, saving model to iris_best.h5\n",
            "\n",
            "Epoch 17: val_loss improved from 0.98980 to 0.98005, saving model to iris_best.h5\n",
            "\n",
            "Epoch 18: val_loss improved from 0.98005 to 0.97064, saving model to iris_best.h5\n",
            "\n",
            "Epoch 19: val_loss improved from 0.97064 to 0.96129, saving model to iris_best.h5\n",
            "\n",
            "Epoch 20: val_loss improved from 0.96129 to 0.95211, saving model to iris_best.h5\n",
            "\n",
            "Epoch 21: val_loss improved from 0.95211 to 0.94325, saving model to iris_best.h5\n",
            "\n",
            "Epoch 22: val_loss improved from 0.94325 to 0.93443, saving model to iris_best.h5\n",
            "\n",
            "Epoch 23: val_loss improved from 0.93443 to 0.92571, saving model to iris_best.h5\n",
            "\n",
            "Epoch 24: val_loss improved from 0.92571 to 0.91733, saving model to iris_best.h5\n",
            "\n",
            "Epoch 25: val_loss improved from 0.91733 to 0.90908, saving model to iris_best.h5\n",
            "\n",
            "Epoch 26: val_loss improved from 0.90908 to 0.90106, saving model to iris_best.h5\n",
            "\n",
            "Epoch 27: val_loss improved from 0.90106 to 0.89300, saving model to iris_best.h5\n",
            "\n",
            "Epoch 28: val_loss improved from 0.89300 to 0.88518, saving model to iris_best.h5\n",
            "\n",
            "Epoch 29: val_loss improved from 0.88518 to 0.87745, saving model to iris_best.h5\n",
            "\n",
            "Epoch 30: val_loss improved from 0.87745 to 0.86994, saving model to iris_best.h5\n",
            "\n",
            "Epoch 31: val_loss improved from 0.86994 to 0.86254, saving model to iris_best.h5\n",
            "\n",
            "Epoch 32: val_loss improved from 0.86254 to 0.85525, saving model to iris_best.h5\n",
            "\n",
            "Epoch 33: val_loss improved from 0.85525 to 0.84789, saving model to iris_best.h5\n",
            "\n",
            "Epoch 34: val_loss improved from 0.84789 to 0.84045, saving model to iris_best.h5\n",
            "\n",
            "Epoch 35: val_loss improved from 0.84045 to 0.83294, saving model to iris_best.h5\n",
            "\n",
            "Epoch 36: val_loss improved from 0.83294 to 0.82550, saving model to iris_best.h5\n",
            "\n",
            "Epoch 37: val_loss improved from 0.82550 to 0.81804, saving model to iris_best.h5\n",
            "\n",
            "Epoch 38: val_loss improved from 0.81804 to 0.81059, saving model to iris_best.h5\n",
            "\n",
            "Epoch 39: val_loss improved from 0.81059 to 0.80314, saving model to iris_best.h5\n",
            "\n",
            "Epoch 40: val_loss improved from 0.80314 to 0.79572, saving model to iris_best.h5\n",
            "\n",
            "Epoch 41: val_loss improved from 0.79572 to 0.78823, saving model to iris_best.h5\n",
            "\n",
            "Epoch 42: val_loss improved from 0.78823 to 0.78060, saving model to iris_best.h5\n",
            "\n",
            "Epoch 43: val_loss improved from 0.78060 to 0.77297, saving model to iris_best.h5\n",
            "\n",
            "Epoch 44: val_loss improved from 0.77297 to 0.76537, saving model to iris_best.h5\n",
            "\n",
            "Epoch 45: val_loss improved from 0.76537 to 0.75775, saving model to iris_best.h5\n",
            "\n",
            "Epoch 46: val_loss improved from 0.75775 to 0.75016, saving model to iris_best.h5\n",
            "\n",
            "Epoch 47: val_loss improved from 0.75016 to 0.74256, saving model to iris_best.h5\n",
            "\n",
            "Epoch 48: val_loss improved from 0.74256 to 0.73495, saving model to iris_best.h5\n",
            "\n",
            "Epoch 49: val_loss improved from 0.73495 to 0.72740, saving model to iris_best.h5\n",
            "\n",
            "Epoch 50: val_loss improved from 0.72740 to 0.72000, saving model to iris_best.h5\n",
            "\n",
            "Epoch 51: val_loss improved from 0.72000 to 0.71271, saving model to iris_best.h5\n",
            "\n",
            "Epoch 52: val_loss improved from 0.71271 to 0.70556, saving model to iris_best.h5\n",
            "\n",
            "Epoch 53: val_loss improved from 0.70556 to 0.69857, saving model to iris_best.h5\n",
            "\n",
            "Epoch 54: val_loss improved from 0.69857 to 0.69180, saving model to iris_best.h5\n",
            "\n",
            "Epoch 55: val_loss improved from 0.69180 to 0.68511, saving model to iris_best.h5\n",
            "\n",
            "Epoch 56: val_loss improved from 0.68511 to 0.67852, saving model to iris_best.h5\n",
            "\n",
            "Epoch 57: val_loss improved from 0.67852 to 0.67205, saving model to iris_best.h5\n",
            "\n",
            "Epoch 58: val_loss improved from 0.67205 to 0.66541, saving model to iris_best.h5\n",
            "\n",
            "Epoch 59: val_loss improved from 0.66541 to 0.65819, saving model to iris_best.h5\n",
            "\n",
            "Epoch 60: val_loss improved from 0.65819 to 0.65116, saving model to iris_best.h5\n",
            "\n",
            "Epoch 61: val_loss improved from 0.65116 to 0.64425, saving model to iris_best.h5\n",
            "\n",
            "Epoch 62: val_loss improved from 0.64425 to 0.63684, saving model to iris_best.h5\n",
            "\n",
            "Epoch 63: val_loss improved from 0.63684 to 0.62957, saving model to iris_best.h5\n",
            "\n",
            "Epoch 64: val_loss improved from 0.62957 to 0.62236, saving model to iris_best.h5\n",
            "\n",
            "Epoch 65: val_loss improved from 0.62236 to 0.61525, saving model to iris_best.h5\n",
            "\n",
            "Epoch 66: val_loss improved from 0.61525 to 0.60830, saving model to iris_best.h5\n",
            "\n",
            "Epoch 67: val_loss improved from 0.60830 to 0.60153, saving model to iris_best.h5\n",
            "\n",
            "Epoch 68: val_loss improved from 0.60153 to 0.59497, saving model to iris_best.h5\n",
            "\n",
            "Epoch 69: val_loss improved from 0.59497 to 0.58858, saving model to iris_best.h5\n",
            "\n",
            "Epoch 70: val_loss improved from 0.58858 to 0.58231, saving model to iris_best.h5\n",
            "\n",
            "Epoch 71: val_loss improved from 0.58231 to 0.57614, saving model to iris_best.h5\n",
            "\n",
            "Epoch 72: val_loss improved from 0.57614 to 0.57007, saving model to iris_best.h5\n",
            "\n",
            "Epoch 73: val_loss improved from 0.57007 to 0.56413, saving model to iris_best.h5\n",
            "\n",
            "Epoch 74: val_loss improved from 0.56413 to 0.55828, saving model to iris_best.h5\n",
            "\n",
            "Epoch 75: val_loss improved from 0.55828 to 0.55247, saving model to iris_best.h5\n",
            "\n",
            "Epoch 76: val_loss improved from 0.55247 to 0.54670, saving model to iris_best.h5\n",
            "\n",
            "Epoch 77: val_loss improved from 0.54670 to 0.54098, saving model to iris_best.h5\n",
            "\n",
            "Epoch 78: val_loss improved from 0.54098 to 0.53534, saving model to iris_best.h5\n",
            "\n",
            "Epoch 79: val_loss improved from 0.53534 to 0.52980, saving model to iris_best.h5\n",
            "\n",
            "Epoch 80: val_loss improved from 0.52980 to 0.52438, saving model to iris_best.h5\n",
            "\n",
            "Epoch 81: val_loss improved from 0.52438 to 0.51908, saving model to iris_best.h5\n",
            "\n",
            "Epoch 82: val_loss improved from 0.51908 to 0.51389, saving model to iris_best.h5\n",
            "\n",
            "Epoch 83: val_loss improved from 0.51389 to 0.50882, saving model to iris_best.h5\n",
            "\n",
            "Epoch 84: val_loss improved from 0.50882 to 0.50386, saving model to iris_best.h5\n",
            "\n",
            "Epoch 85: val_loss improved from 0.50386 to 0.49902, saving model to iris_best.h5\n",
            "\n",
            "Epoch 86: val_loss improved from 0.49902 to 0.49430, saving model to iris_best.h5\n",
            "\n",
            "Epoch 87: val_loss improved from 0.49430 to 0.48965, saving model to iris_best.h5\n",
            "\n",
            "Epoch 88: val_loss improved from 0.48965 to 0.48511, saving model to iris_best.h5\n",
            "\n",
            "Epoch 89: val_loss improved from 0.48511 to 0.48067, saving model to iris_best.h5\n",
            "\n",
            "Epoch 90: val_loss improved from 0.48067 to 0.47633, saving model to iris_best.h5\n",
            "\n",
            "Epoch 91: val_loss improved from 0.47633 to 0.47207, saving model to iris_best.h5\n",
            "\n",
            "Epoch 92: val_loss improved from 0.47207 to 0.46790, saving model to iris_best.h5\n",
            "\n",
            "Epoch 93: val_loss improved from 0.46790 to 0.46382, saving model to iris_best.h5\n",
            "\n",
            "Epoch 94: val_loss improved from 0.46382 to 0.45984, saving model to iris_best.h5\n",
            "\n",
            "Epoch 95: val_loss improved from 0.45984 to 0.45595, saving model to iris_best.h5\n",
            "\n",
            "Epoch 96: val_loss improved from 0.45595 to 0.45217, saving model to iris_best.h5\n",
            "\n",
            "Epoch 97: val_loss improved from 0.45217 to 0.44848, saving model to iris_best.h5\n",
            "\n",
            "Epoch 98: val_loss improved from 0.44848 to 0.44489, saving model to iris_best.h5\n",
            "\n",
            "Epoch 99: val_loss improved from 0.44489 to 0.44138, saving model to iris_best.h5\n",
            "\n",
            "Epoch 100: val_loss improved from 0.44138 to 0.43795, saving model to iris_best.h5\n",
            "\n",
            "Epoch 101: val_loss improved from 0.43795 to 0.43463, saving model to iris_best.h5\n",
            "\n",
            "Epoch 102: val_loss improved from 0.43463 to 0.43140, saving model to iris_best.h5\n",
            "\n",
            "Epoch 103: val_loss improved from 0.43140 to 0.42823, saving model to iris_best.h5\n",
            "\n",
            "Epoch 104: val_loss improved from 0.42823 to 0.42514, saving model to iris_best.h5\n",
            "\n",
            "Epoch 105: val_loss improved from 0.42514 to 0.42213, saving model to iris_best.h5\n",
            "\n",
            "Epoch 106: val_loss improved from 0.42213 to 0.41917, saving model to iris_best.h5\n",
            "\n",
            "Epoch 107: val_loss improved from 0.41917 to 0.41629, saving model to iris_best.h5\n",
            "\n",
            "Epoch 108: val_loss improved from 0.41629 to 0.41348, saving model to iris_best.h5\n",
            "\n",
            "Epoch 109: val_loss improved from 0.41348 to 0.41075, saving model to iris_best.h5\n",
            "\n",
            "Epoch 110: val_loss improved from 0.41075 to 0.40810, saving model to iris_best.h5\n",
            "\n",
            "Epoch 111: val_loss improved from 0.40810 to 0.40552, saving model to iris_best.h5\n",
            "\n",
            "Epoch 112: val_loss improved from 0.40552 to 0.40300, saving model to iris_best.h5\n",
            "\n",
            "Epoch 113: val_loss improved from 0.40300 to 0.40053, saving model to iris_best.h5\n",
            "\n",
            "Epoch 114: val_loss improved from 0.40053 to 0.39805, saving model to iris_best.h5\n",
            "\n",
            "Epoch 115: val_loss improved from 0.39805 to 0.39556, saving model to iris_best.h5\n",
            "\n",
            "Epoch 116: val_loss improved from 0.39556 to 0.39309, saving model to iris_best.h5\n",
            "\n",
            "Epoch 117: val_loss improved from 0.39309 to 0.39064, saving model to iris_best.h5\n",
            "\n",
            "Epoch 118: val_loss improved from 0.39064 to 0.38820, saving model to iris_best.h5\n",
            "\n",
            "Epoch 119: val_loss improved from 0.38820 to 0.38577, saving model to iris_best.h5\n",
            "\n",
            "Epoch 120: val_loss improved from 0.38577 to 0.38335, saving model to iris_best.h5\n",
            "\n",
            "Epoch 121: val_loss improved from 0.38335 to 0.38096, saving model to iris_best.h5\n",
            "\n",
            "Epoch 122: val_loss improved from 0.38096 to 0.37860, saving model to iris_best.h5\n",
            "\n",
            "Epoch 123: val_loss improved from 0.37860 to 0.37626, saving model to iris_best.h5\n",
            "\n",
            "Epoch 124: val_loss improved from 0.37626 to 0.37395, saving model to iris_best.h5\n",
            "\n",
            "Epoch 125: val_loss improved from 0.37395 to 0.37165, saving model to iris_best.h5\n",
            "\n",
            "Epoch 126: val_loss improved from 0.37165 to 0.36940, saving model to iris_best.h5\n",
            "\n",
            "Epoch 127: val_loss improved from 0.36940 to 0.36719, saving model to iris_best.h5\n",
            "\n",
            "Epoch 128: val_loss improved from 0.36719 to 0.36503, saving model to iris_best.h5\n",
            "\n",
            "Epoch 129: val_loss improved from 0.36503 to 0.36292, saving model to iris_best.h5\n",
            "\n",
            "Epoch 130: val_loss improved from 0.36292 to 0.36082, saving model to iris_best.h5\n",
            "\n",
            "Epoch 131: val_loss improved from 0.36082 to 0.35872, saving model to iris_best.h5\n",
            "\n",
            "Epoch 132: val_loss improved from 0.35872 to 0.35661, saving model to iris_best.h5\n",
            "\n",
            "Epoch 133: val_loss improved from 0.35661 to 0.35450, saving model to iris_best.h5\n",
            "\n",
            "Epoch 134: val_loss improved from 0.35450 to 0.35240, saving model to iris_best.h5\n",
            "\n",
            "Epoch 135: val_loss improved from 0.35240 to 0.35029, saving model to iris_best.h5\n",
            "\n",
            "Epoch 136: val_loss improved from 0.35029 to 0.34817, saving model to iris_best.h5\n",
            "\n",
            "Epoch 137: val_loss improved from 0.34817 to 0.34603, saving model to iris_best.h5\n",
            "\n",
            "Epoch 138: val_loss improved from 0.34603 to 0.34386, saving model to iris_best.h5\n",
            "\n",
            "Epoch 139: val_loss improved from 0.34386 to 0.34166, saving model to iris_best.h5\n",
            "\n",
            "Epoch 140: val_loss improved from 0.34166 to 0.33944, saving model to iris_best.h5\n",
            "\n",
            "Epoch 141: val_loss improved from 0.33944 to 0.33715, saving model to iris_best.h5\n",
            "\n",
            "Epoch 142: val_loss improved from 0.33715 to 0.33481, saving model to iris_best.h5\n",
            "\n",
            "Epoch 143: val_loss improved from 0.33481 to 0.33246, saving model to iris_best.h5\n",
            "\n",
            "Epoch 144: val_loss improved from 0.33246 to 0.33015, saving model to iris_best.h5\n",
            "\n",
            "Epoch 145: val_loss improved from 0.33015 to 0.32786, saving model to iris_best.h5\n",
            "\n",
            "Epoch 146: val_loss improved from 0.32786 to 0.32559, saving model to iris_best.h5\n",
            "\n",
            "Epoch 147: val_loss improved from 0.32559 to 0.32335, saving model to iris_best.h5\n",
            "\n",
            "Epoch 148: val_loss improved from 0.32335 to 0.32115, saving model to iris_best.h5\n",
            "\n",
            "Epoch 149: val_loss improved from 0.32115 to 0.31898, saving model to iris_best.h5\n",
            "\n",
            "Epoch 150: val_loss improved from 0.31898 to 0.31675, saving model to iris_best.h5\n",
            "\n",
            "Epoch 151: val_loss improved from 0.31675 to 0.31441, saving model to iris_best.h5\n",
            "\n",
            "Epoch 152: val_loss improved from 0.31441 to 0.31200, saving model to iris_best.h5\n",
            "\n",
            "Epoch 153: val_loss improved from 0.31200 to 0.30955, saving model to iris_best.h5\n",
            "\n",
            "Epoch 154: val_loss improved from 0.30955 to 0.30702, saving model to iris_best.h5\n",
            "\n",
            "Epoch 155: val_loss improved from 0.30702 to 0.30448, saving model to iris_best.h5\n",
            "\n",
            "Epoch 156: val_loss improved from 0.30448 to 0.30194, saving model to iris_best.h5\n",
            "\n",
            "Epoch 157: val_loss improved from 0.30194 to 0.29945, saving model to iris_best.h5\n",
            "\n",
            "Epoch 158: val_loss improved from 0.29945 to 0.29701, saving model to iris_best.h5\n",
            "\n",
            "Epoch 159: val_loss improved from 0.29701 to 0.29459, saving model to iris_best.h5\n",
            "\n",
            "Epoch 160: val_loss improved from 0.29459 to 0.29222, saving model to iris_best.h5\n",
            "\n",
            "Epoch 161: val_loss improved from 0.29222 to 0.28988, saving model to iris_best.h5\n",
            "\n",
            "Epoch 162: val_loss improved from 0.28988 to 0.28756, saving model to iris_best.h5\n",
            "\n",
            "Epoch 163: val_loss improved from 0.28756 to 0.28526, saving model to iris_best.h5\n",
            "\n",
            "Epoch 164: val_loss improved from 0.28526 to 0.28298, saving model to iris_best.h5\n",
            "\n",
            "Epoch 165: val_loss improved from 0.28298 to 0.28072, saving model to iris_best.h5\n",
            "\n",
            "Epoch 166: val_loss improved from 0.28072 to 0.27845, saving model to iris_best.h5\n",
            "\n",
            "Epoch 167: val_loss improved from 0.27845 to 0.27616, saving model to iris_best.h5\n",
            "\n",
            "Epoch 168: val_loss improved from 0.27616 to 0.27388, saving model to iris_best.h5\n",
            "\n",
            "Epoch 169: val_loss improved from 0.27388 to 0.27160, saving model to iris_best.h5\n",
            "\n",
            "Epoch 170: val_loss improved from 0.27160 to 0.26928, saving model to iris_best.h5\n",
            "\n",
            "Epoch 171: val_loss improved from 0.26928 to 0.26694, saving model to iris_best.h5\n",
            "\n",
            "Epoch 172: val_loss improved from 0.26694 to 0.26473, saving model to iris_best.h5\n",
            "\n",
            "Epoch 173: val_loss improved from 0.26473 to 0.26261, saving model to iris_best.h5\n",
            "\n",
            "Epoch 174: val_loss improved from 0.26261 to 0.26055, saving model to iris_best.h5\n",
            "\n",
            "Epoch 175: val_loss improved from 0.26055 to 0.25851, saving model to iris_best.h5\n",
            "\n",
            "Epoch 176: val_loss improved from 0.25851 to 0.25645, saving model to iris_best.h5\n",
            "\n",
            "Epoch 177: val_loss improved from 0.25645 to 0.25434, saving model to iris_best.h5\n",
            "\n",
            "Epoch 178: val_loss improved from 0.25434 to 0.25220, saving model to iris_best.h5\n",
            "\n",
            "Epoch 179: val_loss improved from 0.25220 to 0.25002, saving model to iris_best.h5\n",
            "\n",
            "Epoch 180: val_loss improved from 0.25002 to 0.24784, saving model to iris_best.h5\n",
            "\n",
            "Epoch 181: val_loss improved from 0.24784 to 0.24566, saving model to iris_best.h5\n",
            "\n",
            "Epoch 182: val_loss improved from 0.24566 to 0.24331, saving model to iris_best.h5\n",
            "\n",
            "Epoch 183: val_loss improved from 0.24331 to 0.24093, saving model to iris_best.h5\n",
            "\n",
            "Epoch 184: val_loss improved from 0.24093 to 0.23854, saving model to iris_best.h5\n",
            "\n",
            "Epoch 185: val_loss improved from 0.23854 to 0.23615, saving model to iris_best.h5\n",
            "\n",
            "Epoch 186: val_loss improved from 0.23615 to 0.23374, saving model to iris_best.h5\n",
            "\n",
            "Epoch 187: val_loss improved from 0.23374 to 0.23131, saving model to iris_best.h5\n",
            "\n",
            "Epoch 188: val_loss improved from 0.23131 to 0.22886, saving model to iris_best.h5\n",
            "\n",
            "Epoch 189: val_loss improved from 0.22886 to 0.22642, saving model to iris_best.h5\n",
            "\n",
            "Epoch 190: val_loss improved from 0.22642 to 0.22400, saving model to iris_best.h5\n",
            "\n",
            "Epoch 191: val_loss improved from 0.22400 to 0.22160, saving model to iris_best.h5\n",
            "\n",
            "Epoch 192: val_loss improved from 0.22160 to 0.21920, saving model to iris_best.h5\n",
            "\n",
            "Epoch 193: val_loss improved from 0.21920 to 0.21680, saving model to iris_best.h5\n",
            "\n",
            "Epoch 194: val_loss improved from 0.21680 to 0.21441, saving model to iris_best.h5\n",
            "\n",
            "Epoch 195: val_loss improved from 0.21441 to 0.21205, saving model to iris_best.h5\n",
            "\n",
            "Epoch 196: val_loss improved from 0.21205 to 0.20972, saving model to iris_best.h5\n",
            "\n",
            "Epoch 197: val_loss improved from 0.20972 to 0.20742, saving model to iris_best.h5\n",
            "\n",
            "Epoch 198: val_loss improved from 0.20742 to 0.20514, saving model to iris_best.h5\n",
            "\n",
            "Epoch 199: val_loss improved from 0.20514 to 0.20289, saving model to iris_best.h5\n",
            "\n",
            "Epoch 200: val_loss improved from 0.20289 to 0.20065, saving model to iris_best.h5\n",
            "\n",
            "Epoch 201: val_loss improved from 0.20065 to 0.19843, saving model to iris_best.h5\n",
            "\n",
            "Epoch 202: val_loss improved from 0.19843 to 0.19621, saving model to iris_best.h5\n",
            "\n",
            "Epoch 203: val_loss improved from 0.19621 to 0.19404, saving model to iris_best.h5\n",
            "\n",
            "Epoch 204: val_loss improved from 0.19404 to 0.19186, saving model to iris_best.h5\n",
            "\n",
            "Epoch 205: val_loss improved from 0.19186 to 0.18968, saving model to iris_best.h5\n",
            "\n",
            "Epoch 206: val_loss improved from 0.18968 to 0.18751, saving model to iris_best.h5\n",
            "\n",
            "Epoch 207: val_loss improved from 0.18751 to 0.18534, saving model to iris_best.h5\n",
            "\n",
            "Epoch 208: val_loss improved from 0.18534 to 0.18317, saving model to iris_best.h5\n",
            "\n",
            "Epoch 209: val_loss improved from 0.18317 to 0.18103, saving model to iris_best.h5\n",
            "\n",
            "Epoch 210: val_loss improved from 0.18103 to 0.17892, saving model to iris_best.h5\n",
            "\n",
            "Epoch 211: val_loss improved from 0.17892 to 0.17684, saving model to iris_best.h5\n",
            "\n",
            "Epoch 212: val_loss improved from 0.17684 to 0.17477, saving model to iris_best.h5\n",
            "\n",
            "Epoch 213: val_loss improved from 0.17477 to 0.17272, saving model to iris_best.h5\n",
            "\n",
            "Epoch 214: val_loss improved from 0.17272 to 0.17069, saving model to iris_best.h5\n",
            "\n",
            "Epoch 215: val_loss improved from 0.17069 to 0.16866, saving model to iris_best.h5\n",
            "\n",
            "Epoch 216: val_loss improved from 0.16866 to 0.16663, saving model to iris_best.h5\n",
            "\n",
            "Epoch 217: val_loss improved from 0.16663 to 0.16461, saving model to iris_best.h5\n",
            "\n",
            "Epoch 218: val_loss improved from 0.16461 to 0.16260, saving model to iris_best.h5\n",
            "\n",
            "Epoch 219: val_loss improved from 0.16260 to 0.16062, saving model to iris_best.h5\n",
            "\n",
            "Epoch 220: val_loss improved from 0.16062 to 0.15866, saving model to iris_best.h5\n",
            "\n",
            "Epoch 221: val_loss improved from 0.15866 to 0.15672, saving model to iris_best.h5\n",
            "\n",
            "Epoch 222: val_loss improved from 0.15672 to 0.15482, saving model to iris_best.h5\n",
            "\n",
            "Epoch 223: val_loss improved from 0.15482 to 0.15294, saving model to iris_best.h5\n",
            "\n",
            "Epoch 224: val_loss improved from 0.15294 to 0.15109, saving model to iris_best.h5\n",
            "\n",
            "Epoch 225: val_loss improved from 0.15109 to 0.14929, saving model to iris_best.h5\n",
            "\n",
            "Epoch 226: val_loss improved from 0.14929 to 0.14754, saving model to iris_best.h5\n",
            "\n",
            "Epoch 227: val_loss improved from 0.14754 to 0.14582, saving model to iris_best.h5\n",
            "\n",
            "Epoch 228: val_loss improved from 0.14582 to 0.14414, saving model to iris_best.h5\n",
            "\n",
            "Epoch 229: val_loss improved from 0.14414 to 0.14249, saving model to iris_best.h5\n",
            "\n",
            "Epoch 230: val_loss improved from 0.14249 to 0.14086, saving model to iris_best.h5\n",
            "\n",
            "Epoch 231: val_loss improved from 0.14086 to 0.13926, saving model to iris_best.h5\n",
            "\n",
            "Epoch 232: val_loss improved from 0.13926 to 0.13769, saving model to iris_best.h5\n",
            "\n",
            "Epoch 233: val_loss improved from 0.13769 to 0.13614, saving model to iris_best.h5\n",
            "\n",
            "Epoch 234: val_loss improved from 0.13614 to 0.13461, saving model to iris_best.h5\n",
            "\n",
            "Epoch 235: val_loss improved from 0.13461 to 0.13309, saving model to iris_best.h5\n",
            "\n",
            "Epoch 236: val_loss improved from 0.13309 to 0.13158, saving model to iris_best.h5\n",
            "\n",
            "Epoch 237: val_loss improved from 0.13158 to 0.13011, saving model to iris_best.h5\n",
            "\n",
            "Epoch 238: val_loss improved from 0.13011 to 0.12868, saving model to iris_best.h5\n",
            "\n",
            "Epoch 239: val_loss improved from 0.12868 to 0.12732, saving model to iris_best.h5\n",
            "\n",
            "Epoch 240: val_loss improved from 0.12732 to 0.12601, saving model to iris_best.h5\n",
            "\n",
            "Epoch 241: val_loss improved from 0.12601 to 0.12476, saving model to iris_best.h5\n",
            "\n",
            "Epoch 242: val_loss improved from 0.12476 to 0.12356, saving model to iris_best.h5\n",
            "\n",
            "Epoch 243: val_loss improved from 0.12356 to 0.12241, saving model to iris_best.h5\n",
            "\n",
            "Epoch 244: val_loss improved from 0.12241 to 0.12131, saving model to iris_best.h5\n",
            "\n",
            "Epoch 245: val_loss improved from 0.12131 to 0.12026, saving model to iris_best.h5\n",
            "\n",
            "Epoch 246: val_loss improved from 0.12026 to 0.11926, saving model to iris_best.h5\n",
            "\n",
            "Epoch 247: val_loss improved from 0.11926 to 0.11827, saving model to iris_best.h5\n",
            "\n",
            "Epoch 248: val_loss improved from 0.11827 to 0.11731, saving model to iris_best.h5\n",
            "\n",
            "Epoch 249: val_loss improved from 0.11731 to 0.11636, saving model to iris_best.h5\n",
            "\n",
            "Epoch 250: val_loss improved from 0.11636 to 0.11542, saving model to iris_best.h5\n",
            "\n",
            "Epoch 251: val_loss improved from 0.11542 to 0.11448, saving model to iris_best.h5\n",
            "\n",
            "Epoch 252: val_loss improved from 0.11448 to 0.11355, saving model to iris_best.h5\n",
            "\n",
            "Epoch 253: val_loss improved from 0.11355 to 0.11264, saving model to iris_best.h5\n",
            "\n",
            "Epoch 254: val_loss improved from 0.11264 to 0.11174, saving model to iris_best.h5\n",
            "\n",
            "Epoch 255: val_loss improved from 0.11174 to 0.11092, saving model to iris_best.h5\n",
            "\n",
            "Epoch 256: val_loss improved from 0.11092 to 0.11012, saving model to iris_best.h5\n",
            "\n",
            "Epoch 257: val_loss improved from 0.11012 to 0.10933, saving model to iris_best.h5\n",
            "\n",
            "Epoch 258: val_loss improved from 0.10933 to 0.10857, saving model to iris_best.h5\n",
            "\n",
            "Epoch 259: val_loss improved from 0.10857 to 0.10784, saving model to iris_best.h5\n",
            "\n",
            "Epoch 260: val_loss improved from 0.10784 to 0.10711, saving model to iris_best.h5\n",
            "\n",
            "Epoch 261: val_loss improved from 0.10711 to 0.10640, saving model to iris_best.h5\n",
            "\n",
            "Epoch 262: val_loss improved from 0.10640 to 0.10568, saving model to iris_best.h5\n",
            "\n",
            "Epoch 263: val_loss improved from 0.10568 to 0.10496, saving model to iris_best.h5\n",
            "\n",
            "Epoch 264: val_loss improved from 0.10496 to 0.10424, saving model to iris_best.h5\n",
            "\n",
            "Epoch 265: val_loss improved from 0.10424 to 0.10351, saving model to iris_best.h5\n",
            "\n",
            "Epoch 266: val_loss improved from 0.10351 to 0.10278, saving model to iris_best.h5\n",
            "\n",
            "Epoch 267: val_loss improved from 0.10278 to 0.10205, saving model to iris_best.h5\n",
            "\n",
            "Epoch 268: val_loss improved from 0.10205 to 0.10132, saving model to iris_best.h5\n",
            "\n",
            "Epoch 269: val_loss improved from 0.10132 to 0.10060, saving model to iris_best.h5\n",
            "\n",
            "Epoch 270: val_loss improved from 0.10060 to 0.09990, saving model to iris_best.h5\n",
            "\n",
            "Epoch 271: val_loss improved from 0.09990 to 0.09922, saving model to iris_best.h5\n",
            "\n",
            "Epoch 272: val_loss improved from 0.09922 to 0.09857, saving model to iris_best.h5\n",
            "\n",
            "Epoch 273: val_loss improved from 0.09857 to 0.09794, saving model to iris_best.h5\n",
            "\n",
            "Epoch 274: val_loss improved from 0.09794 to 0.09734, saving model to iris_best.h5\n",
            "\n",
            "Epoch 275: val_loss improved from 0.09734 to 0.09675, saving model to iris_best.h5\n",
            "\n",
            "Epoch 276: val_loss improved from 0.09675 to 0.09619, saving model to iris_best.h5\n",
            "\n",
            "Epoch 277: val_loss improved from 0.09619 to 0.09563, saving model to iris_best.h5\n",
            "\n",
            "Epoch 278: val_loss improved from 0.09563 to 0.09509, saving model to iris_best.h5\n",
            "\n",
            "Epoch 279: val_loss improved from 0.09509 to 0.09454, saving model to iris_best.h5\n",
            "\n",
            "Epoch 280: val_loss improved from 0.09454 to 0.09399, saving model to iris_best.h5\n",
            "\n",
            "Epoch 281: val_loss improved from 0.09399 to 0.09346, saving model to iris_best.h5\n",
            "\n",
            "Epoch 282: val_loss improved from 0.09346 to 0.09293, saving model to iris_best.h5\n",
            "\n",
            "Epoch 283: val_loss improved from 0.09293 to 0.09241, saving model to iris_best.h5\n",
            "\n",
            "Epoch 284: val_loss improved from 0.09241 to 0.09191, saving model to iris_best.h5\n",
            "\n",
            "Epoch 285: val_loss improved from 0.09191 to 0.09142, saving model to iris_best.h5\n",
            "\n",
            "Epoch 286: val_loss improved from 0.09142 to 0.09095, saving model to iris_best.h5\n",
            "\n",
            "Epoch 287: val_loss improved from 0.09095 to 0.09049, saving model to iris_best.h5\n",
            "\n",
            "Epoch 288: val_loss improved from 0.09049 to 0.09005, saving model to iris_best.h5\n",
            "\n",
            "Epoch 289: val_loss improved from 0.09005 to 0.08963, saving model to iris_best.h5\n",
            "\n",
            "Epoch 290: val_loss improved from 0.08963 to 0.08923, saving model to iris_best.h5\n",
            "\n",
            "Epoch 291: val_loss improved from 0.08923 to 0.08883, saving model to iris_best.h5\n",
            "\n",
            "Epoch 292: val_loss improved from 0.08883 to 0.08844, saving model to iris_best.h5\n",
            "\n",
            "Epoch 293: val_loss improved from 0.08844 to 0.08804, saving model to iris_best.h5\n",
            "\n",
            "Epoch 294: val_loss improved from 0.08804 to 0.08764, saving model to iris_best.h5\n",
            "\n",
            "Epoch 295: val_loss improved from 0.08764 to 0.08723, saving model to iris_best.h5\n",
            "\n",
            "Epoch 296: val_loss improved from 0.08723 to 0.08681, saving model to iris_best.h5\n",
            "\n",
            "Epoch 297: val_loss improved from 0.08681 to 0.08639, saving model to iris_best.h5\n",
            "\n",
            "Epoch 298: val_loss improved from 0.08639 to 0.08595, saving model to iris_best.h5\n",
            "\n",
            "Epoch 299: val_loss improved from 0.08595 to 0.08552, saving model to iris_best.h5\n",
            "\n",
            "Epoch 300: val_loss improved from 0.08552 to 0.08508, saving model to iris_best.h5\n",
            "\n",
            "Epoch 301: val_loss improved from 0.08508 to 0.08465, saving model to iris_best.h5\n",
            "\n",
            "Epoch 302: val_loss improved from 0.08465 to 0.08422, saving model to iris_best.h5\n",
            "\n",
            "Epoch 303: val_loss improved from 0.08422 to 0.08381, saving model to iris_best.h5\n",
            "\n",
            "Epoch 304: val_loss improved from 0.08381 to 0.08340, saving model to iris_best.h5\n",
            "\n",
            "Epoch 305: val_loss improved from 0.08340 to 0.08300, saving model to iris_best.h5\n",
            "\n",
            "Epoch 306: val_loss improved from 0.08300 to 0.08262, saving model to iris_best.h5\n",
            "\n",
            "Epoch 307: val_loss improved from 0.08262 to 0.08224, saving model to iris_best.h5\n",
            "\n",
            "Epoch 308: val_loss improved from 0.08224 to 0.08188, saving model to iris_best.h5\n",
            "\n",
            "Epoch 309: val_loss improved from 0.08188 to 0.08153, saving model to iris_best.h5\n",
            "\n",
            "Epoch 310: val_loss improved from 0.08153 to 0.08118, saving model to iris_best.h5\n",
            "\n",
            "Epoch 311: val_loss improved from 0.08118 to 0.08085, saving model to iris_best.h5\n",
            "\n",
            "Epoch 312: val_loss improved from 0.08085 to 0.08052, saving model to iris_best.h5\n",
            "\n",
            "Epoch 313: val_loss improved from 0.08052 to 0.08019, saving model to iris_best.h5\n",
            "\n",
            "Epoch 314: val_loss improved from 0.08019 to 0.07987, saving model to iris_best.h5\n",
            "\n",
            "Epoch 315: val_loss improved from 0.07987 to 0.07956, saving model to iris_best.h5\n",
            "\n",
            "Epoch 316: val_loss improved from 0.07956 to 0.07924, saving model to iris_best.h5\n",
            "\n",
            "Epoch 317: val_loss improved from 0.07924 to 0.07893, saving model to iris_best.h5\n",
            "\n",
            "Epoch 318: val_loss improved from 0.07893 to 0.07862, saving model to iris_best.h5\n",
            "\n",
            "Epoch 319: val_loss improved from 0.07862 to 0.07832, saving model to iris_best.h5\n",
            "\n",
            "Epoch 320: val_loss improved from 0.07832 to 0.07802, saving model to iris_best.h5\n",
            "\n",
            "Epoch 321: val_loss improved from 0.07802 to 0.07773, saving model to iris_best.h5\n",
            "\n",
            "Epoch 322: val_loss improved from 0.07773 to 0.07744, saving model to iris_best.h5\n",
            "\n",
            "Epoch 323: val_loss improved from 0.07744 to 0.07715, saving model to iris_best.h5\n",
            "\n",
            "Epoch 324: val_loss improved from 0.07715 to 0.07686, saving model to iris_best.h5\n",
            "\n",
            "Epoch 325: val_loss improved from 0.07686 to 0.07658, saving model to iris_best.h5\n",
            "\n",
            "Epoch 326: val_loss improved from 0.07658 to 0.07629, saving model to iris_best.h5\n",
            "\n",
            "Epoch 327: val_loss improved from 0.07629 to 0.07601, saving model to iris_best.h5\n",
            "\n",
            "Epoch 328: val_loss improved from 0.07601 to 0.07572, saving model to iris_best.h5\n",
            "\n",
            "Epoch 329: val_loss improved from 0.07572 to 0.07542, saving model to iris_best.h5\n",
            "\n",
            "Epoch 330: val_loss improved from 0.07542 to 0.07511, saving model to iris_best.h5\n",
            "\n",
            "Epoch 331: val_loss improved from 0.07511 to 0.07479, saving model to iris_best.h5\n",
            "\n",
            "Epoch 332: val_loss improved from 0.07479 to 0.07446, saving model to iris_best.h5\n",
            "\n",
            "Epoch 333: val_loss improved from 0.07446 to 0.07413, saving model to iris_best.h5\n",
            "\n",
            "Epoch 334: val_loss improved from 0.07413 to 0.07380, saving model to iris_best.h5\n",
            "\n",
            "Epoch 335: val_loss improved from 0.07380 to 0.07348, saving model to iris_best.h5\n",
            "\n",
            "Epoch 336: val_loss improved from 0.07348 to 0.07315, saving model to iris_best.h5\n",
            "\n",
            "Epoch 337: val_loss improved from 0.07315 to 0.07282, saving model to iris_best.h5\n",
            "\n",
            "Epoch 338: val_loss improved from 0.07282 to 0.07250, saving model to iris_best.h5\n",
            "\n",
            "Epoch 339: val_loss improved from 0.07250 to 0.07218, saving model to iris_best.h5\n",
            "\n",
            "Epoch 340: val_loss improved from 0.07218 to 0.07186, saving model to iris_best.h5\n",
            "\n",
            "Epoch 341: val_loss improved from 0.07186 to 0.07153, saving model to iris_best.h5\n",
            "\n",
            "Epoch 342: val_loss improved from 0.07153 to 0.07121, saving model to iris_best.h5\n",
            "\n",
            "Epoch 343: val_loss improved from 0.07121 to 0.07087, saving model to iris_best.h5\n",
            "\n",
            "Epoch 344: val_loss improved from 0.07087 to 0.07054, saving model to iris_best.h5\n",
            "\n",
            "Epoch 345: val_loss improved from 0.07054 to 0.07021, saving model to iris_best.h5\n",
            "\n",
            "Epoch 346: val_loss improved from 0.07021 to 0.06987, saving model to iris_best.h5\n",
            "\n",
            "Epoch 347: val_loss improved from 0.06987 to 0.06952, saving model to iris_best.h5\n",
            "\n",
            "Epoch 348: val_loss improved from 0.06952 to 0.06917, saving model to iris_best.h5\n",
            "\n",
            "Epoch 349: val_loss improved from 0.06917 to 0.06882, saving model to iris_best.h5\n",
            "\n",
            "Epoch 350: val_loss improved from 0.06882 to 0.06847, saving model to iris_best.h5\n",
            "\n",
            "Epoch 351: val_loss improved from 0.06847 to 0.06812, saving model to iris_best.h5\n",
            "\n",
            "Epoch 352: val_loss improved from 0.06812 to 0.06778, saving model to iris_best.h5\n",
            "\n",
            "Epoch 353: val_loss improved from 0.06778 to 0.06744, saving model to iris_best.h5\n",
            "\n",
            "Epoch 354: val_loss improved from 0.06744 to 0.06711, saving model to iris_best.h5\n",
            "\n",
            "Epoch 355: val_loss improved from 0.06711 to 0.06678, saving model to iris_best.h5\n",
            "\n",
            "Epoch 356: val_loss improved from 0.06678 to 0.06646, saving model to iris_best.h5\n",
            "\n",
            "Epoch 357: val_loss improved from 0.06646 to 0.06614, saving model to iris_best.h5\n",
            "\n",
            "Epoch 358: val_loss improved from 0.06614 to 0.06583, saving model to iris_best.h5\n",
            "\n",
            "Epoch 359: val_loss improved from 0.06583 to 0.06552, saving model to iris_best.h5\n",
            "\n",
            "Epoch 360: val_loss improved from 0.06552 to 0.06522, saving model to iris_best.h5\n",
            "\n",
            "Epoch 361: val_loss improved from 0.06522 to 0.06492, saving model to iris_best.h5\n",
            "\n",
            "Epoch 362: val_loss improved from 0.06492 to 0.06462, saving model to iris_best.h5\n",
            "\n",
            "Epoch 363: val_loss improved from 0.06462 to 0.06433, saving model to iris_best.h5\n",
            "\n",
            "Epoch 364: val_loss improved from 0.06433 to 0.06404, saving model to iris_best.h5\n",
            "\n",
            "Epoch 365: val_loss improved from 0.06404 to 0.06376, saving model to iris_best.h5\n",
            "\n",
            "Epoch 366: val_loss improved from 0.06376 to 0.06348, saving model to iris_best.h5\n",
            "\n",
            "Epoch 367: val_loss improved from 0.06348 to 0.06320, saving model to iris_best.h5\n",
            "\n",
            "Epoch 368: val_loss improved from 0.06320 to 0.06292, saving model to iris_best.h5\n",
            "\n",
            "Epoch 369: val_loss improved from 0.06292 to 0.06266, saving model to iris_best.h5\n",
            "\n",
            "Epoch 370: val_loss improved from 0.06266 to 0.06240, saving model to iris_best.h5\n",
            "\n",
            "Epoch 371: val_loss improved from 0.06240 to 0.06215, saving model to iris_best.h5\n",
            "\n",
            "Epoch 372: val_loss improved from 0.06215 to 0.06189, saving model to iris_best.h5\n",
            "\n",
            "Epoch 373: val_loss improved from 0.06189 to 0.06163, saving model to iris_best.h5\n",
            "\n",
            "Epoch 374: val_loss improved from 0.06163 to 0.06138, saving model to iris_best.h5\n",
            "\n",
            "Epoch 375: val_loss improved from 0.06138 to 0.06112, saving model to iris_best.h5\n",
            "\n",
            "Epoch 376: val_loss improved from 0.06112 to 0.06087, saving model to iris_best.h5\n",
            "\n",
            "Epoch 377: val_loss improved from 0.06087 to 0.06061, saving model to iris_best.h5\n",
            "\n",
            "Epoch 378: val_loss improved from 0.06061 to 0.06036, saving model to iris_best.h5\n",
            "\n",
            "Epoch 379: val_loss improved from 0.06036 to 0.06011, saving model to iris_best.h5\n",
            "\n",
            "Epoch 380: val_loss improved from 0.06011 to 0.05986, saving model to iris_best.h5\n",
            "\n",
            "Epoch 381: val_loss improved from 0.05986 to 0.05962, saving model to iris_best.h5\n",
            "\n",
            "Epoch 382: val_loss improved from 0.05962 to 0.05938, saving model to iris_best.h5\n",
            "\n",
            "Epoch 383: val_loss improved from 0.05938 to 0.05914, saving model to iris_best.h5\n",
            "\n",
            "Epoch 384: val_loss improved from 0.05914 to 0.05891, saving model to iris_best.h5\n",
            "\n",
            "Epoch 385: val_loss improved from 0.05891 to 0.05868, saving model to iris_best.h5\n",
            "\n",
            "Epoch 386: val_loss improved from 0.05868 to 0.05845, saving model to iris_best.h5\n",
            "\n",
            "Epoch 387: val_loss improved from 0.05845 to 0.05822, saving model to iris_best.h5\n",
            "\n",
            "Epoch 388: val_loss improved from 0.05822 to 0.05799, saving model to iris_best.h5\n",
            "\n",
            "Epoch 389: val_loss improved from 0.05799 to 0.05776, saving model to iris_best.h5\n",
            "\n",
            "Epoch 390: val_loss improved from 0.05776 to 0.05754, saving model to iris_best.h5\n",
            "\n",
            "Epoch 391: val_loss improved from 0.05754 to 0.05732, saving model to iris_best.h5\n",
            "\n",
            "Epoch 392: val_loss improved from 0.05732 to 0.05711, saving model to iris_best.h5\n",
            "\n",
            "Epoch 393: val_loss improved from 0.05711 to 0.05689, saving model to iris_best.h5\n",
            "\n",
            "Epoch 394: val_loss improved from 0.05689 to 0.05669, saving model to iris_best.h5\n",
            "\n",
            "Epoch 395: val_loss improved from 0.05669 to 0.05649, saving model to iris_best.h5\n",
            "\n",
            "Epoch 396: val_loss improved from 0.05649 to 0.05629, saving model to iris_best.h5\n",
            "\n",
            "Epoch 397: val_loss improved from 0.05629 to 0.05609, saving model to iris_best.h5\n",
            "\n",
            "Epoch 398: val_loss improved from 0.05609 to 0.05589, saving model to iris_best.h5\n",
            "\n",
            "Epoch 399: val_loss improved from 0.05589 to 0.05570, saving model to iris_best.h5\n",
            "\n",
            "Epoch 400: val_loss improved from 0.05570 to 0.05552, saving model to iris_best.h5\n",
            "\n",
            "Epoch 401: val_loss improved from 0.05552 to 0.05533, saving model to iris_best.h5\n",
            "\n",
            "Epoch 402: val_loss improved from 0.05533 to 0.05514, saving model to iris_best.h5\n",
            "\n",
            "Epoch 403: val_loss improved from 0.05514 to 0.05496, saving model to iris_best.h5\n",
            "\n",
            "Epoch 404: val_loss improved from 0.05496 to 0.05477, saving model to iris_best.h5\n",
            "\n",
            "Epoch 405: val_loss improved from 0.05477 to 0.05459, saving model to iris_best.h5\n",
            "\n",
            "Epoch 406: val_loss improved from 0.05459 to 0.05440, saving model to iris_best.h5\n",
            "\n",
            "Epoch 407: val_loss improved from 0.05440 to 0.05421, saving model to iris_best.h5\n",
            "\n",
            "Epoch 408: val_loss improved from 0.05421 to 0.05402, saving model to iris_best.h5\n",
            "\n",
            "Epoch 409: val_loss improved from 0.05402 to 0.05384, saving model to iris_best.h5\n",
            "\n",
            "Epoch 410: val_loss improved from 0.05384 to 0.05366, saving model to iris_best.h5\n",
            "\n",
            "Epoch 411: val_loss improved from 0.05366 to 0.05348, saving model to iris_best.h5\n",
            "\n",
            "Epoch 412: val_loss improved from 0.05348 to 0.05331, saving model to iris_best.h5\n",
            "\n",
            "Epoch 413: val_loss improved from 0.05331 to 0.05314, saving model to iris_best.h5\n",
            "\n",
            "Epoch 414: val_loss improved from 0.05314 to 0.05297, saving model to iris_best.h5\n",
            "\n",
            "Epoch 415: val_loss improved from 0.05297 to 0.05280, saving model to iris_best.h5\n",
            "\n",
            "Epoch 416: val_loss improved from 0.05280 to 0.05263, saving model to iris_best.h5\n",
            "\n",
            "Epoch 417: val_loss improved from 0.05263 to 0.05246, saving model to iris_best.h5\n",
            "\n",
            "Epoch 418: val_loss improved from 0.05246 to 0.05230, saving model to iris_best.h5\n",
            "\n",
            "Epoch 419: val_loss improved from 0.05230 to 0.05214, saving model to iris_best.h5\n",
            "\n",
            "Epoch 420: val_loss improved from 0.05214 to 0.05198, saving model to iris_best.h5\n",
            "\n",
            "Epoch 421: val_loss improved from 0.05198 to 0.05183, saving model to iris_best.h5\n",
            "\n",
            "Epoch 422: val_loss improved from 0.05183 to 0.05167, saving model to iris_best.h5\n",
            "\n",
            "Epoch 423: val_loss improved from 0.05167 to 0.05151, saving model to iris_best.h5\n",
            "\n",
            "Epoch 424: val_loss improved from 0.05151 to 0.05136, saving model to iris_best.h5\n",
            "\n",
            "Epoch 425: val_loss improved from 0.05136 to 0.05122, saving model to iris_best.h5\n",
            "\n",
            "Epoch 426: val_loss improved from 0.05122 to 0.05107, saving model to iris_best.h5\n",
            "\n",
            "Epoch 427: val_loss improved from 0.05107 to 0.05093, saving model to iris_best.h5\n",
            "\n",
            "Epoch 428: val_loss improved from 0.05093 to 0.05078, saving model to iris_best.h5\n",
            "\n",
            "Epoch 429: val_loss improved from 0.05078 to 0.05065, saving model to iris_best.h5\n",
            "\n",
            "Epoch 430: val_loss improved from 0.05065 to 0.05052, saving model to iris_best.h5\n",
            "\n",
            "Epoch 431: val_loss improved from 0.05052 to 0.05038, saving model to iris_best.h5\n",
            "\n",
            "Epoch 432: val_loss improved from 0.05038 to 0.05025, saving model to iris_best.h5\n",
            "\n",
            "Epoch 433: val_loss improved from 0.05025 to 0.05011, saving model to iris_best.h5\n",
            "\n",
            "Epoch 434: val_loss improved from 0.05011 to 0.04999, saving model to iris_best.h5\n",
            "\n",
            "Epoch 435: val_loss improved from 0.04999 to 0.04987, saving model to iris_best.h5\n",
            "\n",
            "Epoch 436: val_loss improved from 0.04987 to 0.04976, saving model to iris_best.h5\n",
            "\n",
            "Epoch 437: val_loss improved from 0.04976 to 0.04965, saving model to iris_best.h5\n",
            "\n",
            "Epoch 438: val_loss improved from 0.04965 to 0.04953, saving model to iris_best.h5\n",
            "\n",
            "Epoch 439: val_loss improved from 0.04953 to 0.04942, saving model to iris_best.h5\n",
            "\n",
            "Epoch 440: val_loss improved from 0.04942 to 0.04931, saving model to iris_best.h5\n",
            "\n",
            "Epoch 441: val_loss improved from 0.04931 to 0.04920, saving model to iris_best.h5\n",
            "\n",
            "Epoch 442: val_loss improved from 0.04920 to 0.04909, saving model to iris_best.h5\n",
            "\n",
            "Epoch 443: val_loss improved from 0.04909 to 0.04899, saving model to iris_best.h5\n",
            "\n",
            "Epoch 444: val_loss improved from 0.04899 to 0.04888, saving model to iris_best.h5\n",
            "\n",
            "Epoch 445: val_loss improved from 0.04888 to 0.04878, saving model to iris_best.h5\n",
            "\n",
            "Epoch 446: val_loss improved from 0.04878 to 0.04867, saving model to iris_best.h5\n",
            "\n",
            "Epoch 447: val_loss improved from 0.04867 to 0.04857, saving model to iris_best.h5\n",
            "\n",
            "Epoch 448: val_loss improved from 0.04857 to 0.04846, saving model to iris_best.h5\n",
            "\n",
            "Epoch 449: val_loss improved from 0.04846 to 0.04835, saving model to iris_best.h5\n",
            "\n",
            "Epoch 450: val_loss improved from 0.04835 to 0.04825, saving model to iris_best.h5\n",
            "\n",
            "Epoch 451: val_loss improved from 0.04825 to 0.04815, saving model to iris_best.h5\n",
            "\n",
            "Epoch 452: val_loss improved from 0.04815 to 0.04804, saving model to iris_best.h5\n",
            "\n",
            "Epoch 453: val_loss improved from 0.04804 to 0.04793, saving model to iris_best.h5\n",
            "\n",
            "Epoch 454: val_loss improved from 0.04793 to 0.04783, saving model to iris_best.h5\n",
            "\n",
            "Epoch 455: val_loss improved from 0.04783 to 0.04774, saving model to iris_best.h5\n",
            "\n",
            "Epoch 456: val_loss improved from 0.04774 to 0.04763, saving model to iris_best.h5\n",
            "\n",
            "Epoch 457: val_loss improved from 0.04763 to 0.04753, saving model to iris_best.h5\n",
            "\n",
            "Epoch 458: val_loss improved from 0.04753 to 0.04742, saving model to iris_best.h5\n",
            "\n",
            "Epoch 459: val_loss improved from 0.04742 to 0.04731, saving model to iris_best.h5\n",
            "\n",
            "Epoch 460: val_loss improved from 0.04731 to 0.04721, saving model to iris_best.h5\n",
            "\n",
            "Epoch 461: val_loss improved from 0.04721 to 0.04711, saving model to iris_best.h5\n",
            "\n",
            "Epoch 462: val_loss improved from 0.04711 to 0.04701, saving model to iris_best.h5\n",
            "\n",
            "Epoch 463: val_loss improved from 0.04701 to 0.04691, saving model to iris_best.h5\n",
            "\n",
            "Epoch 464: val_loss improved from 0.04691 to 0.04680, saving model to iris_best.h5\n",
            "\n",
            "Epoch 465: val_loss improved from 0.04680 to 0.04670, saving model to iris_best.h5\n",
            "\n",
            "Epoch 466: val_loss improved from 0.04670 to 0.04660, saving model to iris_best.h5\n",
            "\n",
            "Epoch 467: val_loss improved from 0.04660 to 0.04650, saving model to iris_best.h5\n",
            "\n",
            "Epoch 468: val_loss improved from 0.04650 to 0.04641, saving model to iris_best.h5\n",
            "\n",
            "Epoch 469: val_loss improved from 0.04641 to 0.04632, saving model to iris_best.h5\n",
            "\n",
            "Epoch 470: val_loss improved from 0.04632 to 0.04622, saving model to iris_best.h5\n",
            "\n",
            "Epoch 471: val_loss improved from 0.04622 to 0.04612, saving model to iris_best.h5\n",
            "\n",
            "Epoch 472: val_loss improved from 0.04612 to 0.04603, saving model to iris_best.h5\n",
            "\n",
            "Epoch 473: val_loss improved from 0.04603 to 0.04594, saving model to iris_best.h5\n",
            "\n",
            "Epoch 474: val_loss improved from 0.04594 to 0.04586, saving model to iris_best.h5\n",
            "\n",
            "Epoch 475: val_loss improved from 0.04586 to 0.04578, saving model to iris_best.h5\n",
            "\n",
            "Epoch 476: val_loss improved from 0.04578 to 0.04569, saving model to iris_best.h5\n",
            "\n",
            "Epoch 477: val_loss improved from 0.04569 to 0.04559, saving model to iris_best.h5\n",
            "\n",
            "Epoch 478: val_loss improved from 0.04559 to 0.04549, saving model to iris_best.h5\n",
            "\n",
            "Epoch 479: val_loss improved from 0.04549 to 0.04540, saving model to iris_best.h5\n",
            "\n",
            "Epoch 480: val_loss improved from 0.04540 to 0.04531, saving model to iris_best.h5\n",
            "\n",
            "Epoch 481: val_loss improved from 0.04531 to 0.04522, saving model to iris_best.h5\n",
            "\n",
            "Epoch 482: val_loss improved from 0.04522 to 0.04513, saving model to iris_best.h5\n",
            "\n",
            "Epoch 483: val_loss improved from 0.04513 to 0.04504, saving model to iris_best.h5\n",
            "\n",
            "Epoch 484: val_loss improved from 0.04504 to 0.04495, saving model to iris_best.h5\n",
            "\n",
            "Epoch 485: val_loss improved from 0.04495 to 0.04486, saving model to iris_best.h5\n",
            "\n",
            "Epoch 486: val_loss improved from 0.04486 to 0.04478, saving model to iris_best.h5\n",
            "\n",
            "Epoch 487: val_loss improved from 0.04478 to 0.04470, saving model to iris_best.h5\n",
            "\n",
            "Epoch 488: val_loss improved from 0.04470 to 0.04462, saving model to iris_best.h5\n",
            "\n",
            "Epoch 489: val_loss improved from 0.04462 to 0.04454, saving model to iris_best.h5\n",
            "\n",
            "Epoch 490: val_loss improved from 0.04454 to 0.04445, saving model to iris_best.h5\n",
            "\n",
            "Epoch 491: val_loss improved from 0.04445 to 0.04436, saving model to iris_best.h5\n",
            "\n",
            "Epoch 492: val_loss improved from 0.04436 to 0.04428, saving model to iris_best.h5\n",
            "\n",
            "Epoch 493: val_loss improved from 0.04428 to 0.04419, saving model to iris_best.h5\n",
            "\n",
            "Epoch 494: val_loss improved from 0.04419 to 0.04411, saving model to iris_best.h5\n",
            "\n",
            "Epoch 495: val_loss improved from 0.04411 to 0.04403, saving model to iris_best.h5\n",
            "\n",
            "Epoch 496: val_loss improved from 0.04403 to 0.04394, saving model to iris_best.h5\n",
            "\n",
            "Epoch 497: val_loss improved from 0.04394 to 0.04386, saving model to iris_best.h5\n",
            "\n",
            "Epoch 498: val_loss improved from 0.04386 to 0.04378, saving model to iris_best.h5\n",
            "\n",
            "Epoch 499: val_loss improved from 0.04378 to 0.04369, saving model to iris_best.h5\n",
            "\n",
            "Epoch 500: val_loss improved from 0.04369 to 0.04360, saving model to iris_best.h5\n",
            "\n",
            "Epoch 501: val_loss improved from 0.04360 to 0.04350, saving model to iris_best.h5\n",
            "\n",
            "Epoch 502: val_loss improved from 0.04350 to 0.04341, saving model to iris_best.h5\n",
            "\n",
            "Epoch 503: val_loss improved from 0.04341 to 0.04333, saving model to iris_best.h5\n",
            "\n",
            "Epoch 504: val_loss improved from 0.04333 to 0.04324, saving model to iris_best.h5\n",
            "\n",
            "Epoch 505: val_loss improved from 0.04324 to 0.04316, saving model to iris_best.h5\n",
            "\n",
            "Epoch 506: val_loss improved from 0.04316 to 0.04307, saving model to iris_best.h5\n",
            "\n",
            "Epoch 507: val_loss improved from 0.04307 to 0.04298, saving model to iris_best.h5\n",
            "\n",
            "Epoch 508: val_loss improved from 0.04298 to 0.04290, saving model to iris_best.h5\n",
            "\n",
            "Epoch 509: val_loss improved from 0.04290 to 0.04281, saving model to iris_best.h5\n",
            "\n",
            "Epoch 510: val_loss improved from 0.04281 to 0.04273, saving model to iris_best.h5\n",
            "\n",
            "Epoch 511: val_loss improved from 0.04273 to 0.04264, saving model to iris_best.h5\n",
            "\n",
            "Epoch 512: val_loss improved from 0.04264 to 0.04256, saving model to iris_best.h5\n",
            "\n",
            "Epoch 513: val_loss improved from 0.04256 to 0.04249, saving model to iris_best.h5\n",
            "\n",
            "Epoch 514: val_loss improved from 0.04249 to 0.04241, saving model to iris_best.h5\n",
            "\n",
            "Epoch 515: val_loss improved from 0.04241 to 0.04233, saving model to iris_best.h5\n",
            "\n",
            "Epoch 516: val_loss improved from 0.04233 to 0.04224, saving model to iris_best.h5\n",
            "\n",
            "Epoch 517: val_loss improved from 0.04224 to 0.04217, saving model to iris_best.h5\n",
            "\n",
            "Epoch 518: val_loss improved from 0.04217 to 0.04209, saving model to iris_best.h5\n",
            "\n",
            "Epoch 519: val_loss improved from 0.04209 to 0.04202, saving model to iris_best.h5\n",
            "\n",
            "Epoch 520: val_loss improved from 0.04202 to 0.04195, saving model to iris_best.h5\n",
            "\n",
            "Epoch 521: val_loss improved from 0.04195 to 0.04188, saving model to iris_best.h5\n",
            "\n",
            "Epoch 522: val_loss improved from 0.04188 to 0.04180, saving model to iris_best.h5\n",
            "\n",
            "Epoch 523: val_loss improved from 0.04180 to 0.04172, saving model to iris_best.h5\n",
            "\n",
            "Epoch 524: val_loss improved from 0.04172 to 0.04164, saving model to iris_best.h5\n",
            "\n",
            "Epoch 525: val_loss improved from 0.04164 to 0.04157, saving model to iris_best.h5\n",
            "\n",
            "Epoch 526: val_loss improved from 0.04157 to 0.04150, saving model to iris_best.h5\n",
            "\n",
            "Epoch 527: val_loss improved from 0.04150 to 0.04144, saving model to iris_best.h5\n",
            "\n",
            "Epoch 528: val_loss improved from 0.04144 to 0.04139, saving model to iris_best.h5\n",
            "\n",
            "Epoch 529: val_loss improved from 0.04139 to 0.04133, saving model to iris_best.h5\n",
            "\n",
            "Epoch 530: val_loss improved from 0.04133 to 0.04126, saving model to iris_best.h5\n",
            "\n",
            "Epoch 531: val_loss improved from 0.04126 to 0.04119, saving model to iris_best.h5\n",
            "\n",
            "Epoch 532: val_loss improved from 0.04119 to 0.04113, saving model to iris_best.h5\n",
            "\n",
            "Epoch 533: val_loss improved from 0.04113 to 0.04106, saving model to iris_best.h5\n",
            "\n",
            "Epoch 534: val_loss improved from 0.04106 to 0.04100, saving model to iris_best.h5\n",
            "\n",
            "Epoch 535: val_loss improved from 0.04100 to 0.04094, saving model to iris_best.h5\n",
            "\n",
            "Epoch 536: val_loss improved from 0.04094 to 0.04087, saving model to iris_best.h5\n",
            "\n",
            "Epoch 537: val_loss improved from 0.04087 to 0.04081, saving model to iris_best.h5\n",
            "\n",
            "Epoch 538: val_loss improved from 0.04081 to 0.04075, saving model to iris_best.h5\n",
            "\n",
            "Epoch 539: val_loss improved from 0.04075 to 0.04069, saving model to iris_best.h5\n",
            "\n",
            "Epoch 540: val_loss improved from 0.04069 to 0.04064, saving model to iris_best.h5\n",
            "\n",
            "Epoch 541: val_loss improved from 0.04064 to 0.04058, saving model to iris_best.h5\n",
            "\n",
            "Epoch 542: val_loss improved from 0.04058 to 0.04052, saving model to iris_best.h5\n",
            "\n",
            "Epoch 543: val_loss improved from 0.04052 to 0.04046, saving model to iris_best.h5\n",
            "\n",
            "Epoch 544: val_loss improved from 0.04046 to 0.04040, saving model to iris_best.h5\n",
            "\n",
            "Epoch 545: val_loss improved from 0.04040 to 0.04034, saving model to iris_best.h5\n",
            "\n",
            "Epoch 546: val_loss improved from 0.04034 to 0.04029, saving model to iris_best.h5\n",
            "\n",
            "Epoch 547: val_loss improved from 0.04029 to 0.04023, saving model to iris_best.h5\n",
            "\n",
            "Epoch 548: val_loss improved from 0.04023 to 0.04017, saving model to iris_best.h5\n",
            "\n",
            "Epoch 549: val_loss improved from 0.04017 to 0.04011, saving model to iris_best.h5\n",
            "\n",
            "Epoch 550: val_loss improved from 0.04011 to 0.04006, saving model to iris_best.h5\n",
            "\n",
            "Epoch 551: val_loss improved from 0.04006 to 0.04000, saving model to iris_best.h5\n",
            "\n",
            "Epoch 552: val_loss improved from 0.04000 to 0.03995, saving model to iris_best.h5\n",
            "\n",
            "Epoch 553: val_loss improved from 0.03995 to 0.03989, saving model to iris_best.h5\n",
            "\n",
            "Epoch 554: val_loss improved from 0.03989 to 0.03982, saving model to iris_best.h5\n",
            "\n",
            "Epoch 555: val_loss improved from 0.03982 to 0.03976, saving model to iris_best.h5\n",
            "\n",
            "Epoch 556: val_loss improved from 0.03976 to 0.03970, saving model to iris_best.h5\n",
            "\n",
            "Epoch 557: val_loss improved from 0.03970 to 0.03964, saving model to iris_best.h5\n",
            "\n",
            "Epoch 558: val_loss improved from 0.03964 to 0.03959, saving model to iris_best.h5\n",
            "\n",
            "Epoch 559: val_loss improved from 0.03959 to 0.03954, saving model to iris_best.h5\n",
            "\n",
            "Epoch 560: val_loss improved from 0.03954 to 0.03949, saving model to iris_best.h5\n",
            "\n",
            "Epoch 561: val_loss improved from 0.03949 to 0.03944, saving model to iris_best.h5\n",
            "\n",
            "Epoch 562: val_loss improved from 0.03944 to 0.03939, saving model to iris_best.h5\n",
            "\n",
            "Epoch 563: val_loss improved from 0.03939 to 0.03933, saving model to iris_best.h5\n",
            "\n",
            "Epoch 564: val_loss improved from 0.03933 to 0.03928, saving model to iris_best.h5\n",
            "\n",
            "Epoch 565: val_loss improved from 0.03928 to 0.03923, saving model to iris_best.h5\n",
            "\n",
            "Epoch 566: val_loss improved from 0.03923 to 0.03918, saving model to iris_best.h5\n",
            "\n",
            "Epoch 567: val_loss improved from 0.03918 to 0.03912, saving model to iris_best.h5\n",
            "\n",
            "Epoch 568: val_loss improved from 0.03912 to 0.03907, saving model to iris_best.h5\n",
            "\n",
            "Epoch 569: val_loss improved from 0.03907 to 0.03902, saving model to iris_best.h5\n",
            "\n",
            "Epoch 570: val_loss improved from 0.03902 to 0.03898, saving model to iris_best.h5\n",
            "\n",
            "Epoch 571: val_loss improved from 0.03898 to 0.03894, saving model to iris_best.h5\n",
            "\n",
            "Epoch 572: val_loss improved from 0.03894 to 0.03889, saving model to iris_best.h5\n",
            "\n",
            "Epoch 573: val_loss improved from 0.03889 to 0.03884, saving model to iris_best.h5\n",
            "\n",
            "Epoch 574: val_loss improved from 0.03884 to 0.03880, saving model to iris_best.h5\n",
            "\n",
            "Epoch 575: val_loss improved from 0.03880 to 0.03874, saving model to iris_best.h5\n",
            "\n",
            "Epoch 576: val_loss improved from 0.03874 to 0.03869, saving model to iris_best.h5\n",
            "\n",
            "Epoch 577: val_loss improved from 0.03869 to 0.03864, saving model to iris_best.h5\n",
            "\n",
            "Epoch 578: val_loss improved from 0.03864 to 0.03860, saving model to iris_best.h5\n",
            "\n",
            "Epoch 579: val_loss improved from 0.03860 to 0.03856, saving model to iris_best.h5\n",
            "\n",
            "Epoch 580: val_loss improved from 0.03856 to 0.03852, saving model to iris_best.h5\n",
            "\n",
            "Epoch 581: val_loss improved from 0.03852 to 0.03848, saving model to iris_best.h5\n",
            "\n",
            "Epoch 582: val_loss improved from 0.03848 to 0.03843, saving model to iris_best.h5\n",
            "\n",
            "Epoch 583: val_loss improved from 0.03843 to 0.03838, saving model to iris_best.h5\n",
            "\n",
            "Epoch 584: val_loss improved from 0.03838 to 0.03834, saving model to iris_best.h5\n",
            "\n",
            "Epoch 585: val_loss improved from 0.03834 to 0.03829, saving model to iris_best.h5\n",
            "\n",
            "Epoch 586: val_loss improved from 0.03829 to 0.03825, saving model to iris_best.h5\n",
            "\n",
            "Epoch 587: val_loss improved from 0.03825 to 0.03821, saving model to iris_best.h5\n",
            "\n",
            "Epoch 588: val_loss improved from 0.03821 to 0.03817, saving model to iris_best.h5\n",
            "\n",
            "Epoch 589: val_loss improved from 0.03817 to 0.03813, saving model to iris_best.h5\n",
            "\n",
            "Epoch 590: val_loss improved from 0.03813 to 0.03809, saving model to iris_best.h5\n",
            "\n",
            "Epoch 591: val_loss improved from 0.03809 to 0.03805, saving model to iris_best.h5\n",
            "\n",
            "Epoch 592: val_loss improved from 0.03805 to 0.03801, saving model to iris_best.h5\n",
            "\n",
            "Epoch 593: val_loss improved from 0.03801 to 0.03797, saving model to iris_best.h5\n",
            "\n",
            "Epoch 594: val_loss improved from 0.03797 to 0.03793, saving model to iris_best.h5\n",
            "\n",
            "Epoch 595: val_loss improved from 0.03793 to 0.03789, saving model to iris_best.h5\n",
            "\n",
            "Epoch 596: val_loss improved from 0.03789 to 0.03785, saving model to iris_best.h5\n",
            "\n",
            "Epoch 597: val_loss improved from 0.03785 to 0.03781, saving model to iris_best.h5\n",
            "\n",
            "Epoch 598: val_loss improved from 0.03781 to 0.03778, saving model to iris_best.h5\n",
            "\n",
            "Epoch 599: val_loss improved from 0.03778 to 0.03774, saving model to iris_best.h5\n",
            "\n",
            "Epoch 600: val_loss improved from 0.03774 to 0.03771, saving model to iris_best.h5\n",
            "\n",
            "Epoch 601: val_loss improved from 0.03771 to 0.03768, saving model to iris_best.h5\n",
            "\n",
            "Epoch 602: val_loss improved from 0.03768 to 0.03764, saving model to iris_best.h5\n",
            "\n",
            "Epoch 603: val_loss improved from 0.03764 to 0.03760, saving model to iris_best.h5\n",
            "\n",
            "Epoch 604: val_loss improved from 0.03760 to 0.03757, saving model to iris_best.h5\n",
            "\n",
            "Epoch 605: val_loss improved from 0.03757 to 0.03753, saving model to iris_best.h5\n",
            "\n",
            "Epoch 606: val_loss improved from 0.03753 to 0.03749, saving model to iris_best.h5\n",
            "\n",
            "Epoch 607: val_loss improved from 0.03749 to 0.03746, saving model to iris_best.h5\n",
            "\n",
            "Epoch 608: val_loss improved from 0.03746 to 0.03743, saving model to iris_best.h5\n",
            "\n",
            "Epoch 609: val_loss improved from 0.03743 to 0.03740, saving model to iris_best.h5\n",
            "\n",
            "Epoch 610: val_loss improved from 0.03740 to 0.03737, saving model to iris_best.h5\n",
            "\n",
            "Epoch 611: val_loss improved from 0.03737 to 0.03733, saving model to iris_best.h5\n",
            "\n",
            "Epoch 612: val_loss improved from 0.03733 to 0.03730, saving model to iris_best.h5\n",
            "\n",
            "Epoch 613: val_loss improved from 0.03730 to 0.03727, saving model to iris_best.h5\n",
            "\n",
            "Epoch 614: val_loss improved from 0.03727 to 0.03723, saving model to iris_best.h5\n",
            "\n",
            "Epoch 615: val_loss improved from 0.03723 to 0.03719, saving model to iris_best.h5\n",
            "\n",
            "Epoch 616: val_loss improved from 0.03719 to 0.03716, saving model to iris_best.h5\n",
            "\n",
            "Epoch 617: val_loss improved from 0.03716 to 0.03714, saving model to iris_best.h5\n",
            "\n",
            "Epoch 618: val_loss improved from 0.03714 to 0.03711, saving model to iris_best.h5\n",
            "\n",
            "Epoch 619: val_loss improved from 0.03711 to 0.03709, saving model to iris_best.h5\n",
            "\n",
            "Epoch 620: val_loss improved from 0.03709 to 0.03707, saving model to iris_best.h5\n",
            "\n",
            "Epoch 621: val_loss improved from 0.03707 to 0.03704, saving model to iris_best.h5\n",
            "\n",
            "Epoch 622: val_loss improved from 0.03704 to 0.03702, saving model to iris_best.h5\n",
            "\n",
            "Epoch 623: val_loss improved from 0.03702 to 0.03699, saving model to iris_best.h5\n",
            "\n",
            "Epoch 624: val_loss improved from 0.03699 to 0.03697, saving model to iris_best.h5\n",
            "\n",
            "Epoch 625: val_loss improved from 0.03697 to 0.03694, saving model to iris_best.h5\n",
            "\n",
            "Epoch 626: val_loss improved from 0.03694 to 0.03693, saving model to iris_best.h5\n",
            "\n",
            "Epoch 627: val_loss improved from 0.03693 to 0.03691, saving model to iris_best.h5\n",
            "\n",
            "Epoch 628: val_loss improved from 0.03691 to 0.03689, saving model to iris_best.h5\n",
            "\n",
            "Epoch 629: val_loss improved from 0.03689 to 0.03687, saving model to iris_best.h5\n",
            "\n",
            "Epoch 630: val_loss improved from 0.03687 to 0.03685, saving model to iris_best.h5\n",
            "\n",
            "Epoch 631: val_loss improved from 0.03685 to 0.03684, saving model to iris_best.h5\n",
            "\n",
            "Epoch 632: val_loss improved from 0.03684 to 0.03682, saving model to iris_best.h5\n",
            "\n",
            "Epoch 633: val_loss improved from 0.03682 to 0.03680, saving model to iris_best.h5\n",
            "\n",
            "Epoch 634: val_loss improved from 0.03680 to 0.03678, saving model to iris_best.h5\n",
            "\n",
            "Epoch 635: val_loss improved from 0.03678 to 0.03676, saving model to iris_best.h5\n",
            "\n",
            "Epoch 636: val_loss improved from 0.03676 to 0.03674, saving model to iris_best.h5\n",
            "\n",
            "Epoch 637: val_loss improved from 0.03674 to 0.03672, saving model to iris_best.h5\n",
            "\n",
            "Epoch 638: val_loss improved from 0.03672 to 0.03671, saving model to iris_best.h5\n",
            "\n",
            "Epoch 639: val_loss improved from 0.03671 to 0.03669, saving model to iris_best.h5\n",
            "\n",
            "Epoch 640: val_loss improved from 0.03669 to 0.03668, saving model to iris_best.h5\n",
            "\n",
            "Epoch 641: val_loss improved from 0.03668 to 0.03666, saving model to iris_best.h5\n",
            "\n",
            "Epoch 642: val_loss improved from 0.03666 to 0.03665, saving model to iris_best.h5\n",
            "\n",
            "Epoch 643: val_loss improved from 0.03665 to 0.03663, saving model to iris_best.h5\n",
            "\n",
            "Epoch 644: val_loss improved from 0.03663 to 0.03662, saving model to iris_best.h5\n",
            "\n",
            "Epoch 645: val_loss improved from 0.03662 to 0.03660, saving model to iris_best.h5\n",
            "\n",
            "Epoch 646: val_loss improved from 0.03660 to 0.03658, saving model to iris_best.h5\n",
            "\n",
            "Epoch 647: val_loss improved from 0.03658 to 0.03657, saving model to iris_best.h5\n",
            "\n",
            "Epoch 648: val_loss improved from 0.03657 to 0.03655, saving model to iris_best.h5\n",
            "\n",
            "Epoch 649: val_loss improved from 0.03655 to 0.03654, saving model to iris_best.h5\n",
            "\n",
            "Epoch 650: val_loss improved from 0.03654 to 0.03653, saving model to iris_best.h5\n",
            "\n",
            "Epoch 651: val_loss improved from 0.03653 to 0.03652, saving model to iris_best.h5\n",
            "\n",
            "Epoch 652: val_loss improved from 0.03652 to 0.03650, saving model to iris_best.h5\n",
            "\n",
            "Epoch 653: val_loss improved from 0.03650 to 0.03649, saving model to iris_best.h5\n",
            "\n",
            "Epoch 654: val_loss improved from 0.03649 to 0.03648, saving model to iris_best.h5\n",
            "\n",
            "Epoch 655: val_loss improved from 0.03648 to 0.03647, saving model to iris_best.h5\n",
            "\n",
            "Epoch 656: val_loss improved from 0.03647 to 0.03645, saving model to iris_best.h5\n",
            "\n",
            "Epoch 657: val_loss improved from 0.03645 to 0.03643, saving model to iris_best.h5\n",
            "\n",
            "Epoch 658: val_loss improved from 0.03643 to 0.03643, saving model to iris_best.h5\n",
            "\n",
            "Epoch 659: val_loss improved from 0.03643 to 0.03642, saving model to iris_best.h5\n",
            "\n",
            "Epoch 660: val_loss improved from 0.03642 to 0.03640, saving model to iris_best.h5\n",
            "\n",
            "Epoch 661: val_loss improved from 0.03640 to 0.03639, saving model to iris_best.h5\n",
            "\n",
            "Epoch 662: val_loss improved from 0.03639 to 0.03638, saving model to iris_best.h5\n",
            "\n",
            "Epoch 663: val_loss improved from 0.03638 to 0.03637, saving model to iris_best.h5\n",
            "\n",
            "Epoch 664: val_loss improved from 0.03637 to 0.03636, saving model to iris_best.h5\n",
            "\n",
            "Epoch 665: val_loss improved from 0.03636 to 0.03635, saving model to iris_best.h5\n",
            "\n",
            "Epoch 666: val_loss improved from 0.03635 to 0.03634, saving model to iris_best.h5\n",
            "\n",
            "Epoch 667: val_loss improved from 0.03634 to 0.03633, saving model to iris_best.h5\n",
            "\n",
            "Epoch 668: val_loss improved from 0.03633 to 0.03632, saving model to iris_best.h5\n",
            "\n",
            "Epoch 669: val_loss improved from 0.03632 to 0.03630, saving model to iris_best.h5\n",
            "\n",
            "Epoch 670: val_loss improved from 0.03630 to 0.03629, saving model to iris_best.h5\n",
            "\n",
            "Epoch 671: val_loss improved from 0.03629 to 0.03628, saving model to iris_best.h5\n",
            "\n",
            "Epoch 672: val_loss improved from 0.03628 to 0.03627, saving model to iris_best.h5\n",
            "\n",
            "Epoch 673: val_loss improved from 0.03627 to 0.03626, saving model to iris_best.h5\n",
            "\n",
            "Epoch 674: val_loss improved from 0.03626 to 0.03624, saving model to iris_best.h5\n",
            "\n",
            "Epoch 675: val_loss improved from 0.03624 to 0.03623, saving model to iris_best.h5\n",
            "\n",
            "Epoch 676: val_loss improved from 0.03623 to 0.03622, saving model to iris_best.h5\n",
            "\n",
            "Epoch 677: val_loss improved from 0.03622 to 0.03622, saving model to iris_best.h5\n",
            "\n",
            "Epoch 678: val_loss improved from 0.03622 to 0.03622, saving model to iris_best.h5\n",
            "\n",
            "Epoch 679: val_loss improved from 0.03622 to 0.03621, saving model to iris_best.h5\n",
            "\n",
            "Epoch 680: val_loss improved from 0.03621 to 0.03620, saving model to iris_best.h5\n",
            "\n",
            "Epoch 681: val_loss improved from 0.03620 to 0.03619, saving model to iris_best.h5\n",
            "\n",
            "Epoch 682: val_loss improved from 0.03619 to 0.03618, saving model to iris_best.h5\n",
            "\n",
            "Epoch 683: val_loss improved from 0.03618 to 0.03617, saving model to iris_best.h5\n",
            "\n",
            "Epoch 684: val_loss improved from 0.03617 to 0.03616, saving model to iris_best.h5\n",
            "\n",
            "Epoch 685: val_loss improved from 0.03616 to 0.03615, saving model to iris_best.h5\n",
            "\n",
            "Epoch 686: val_loss improved from 0.03615 to 0.03613, saving model to iris_best.h5\n",
            "\n",
            "Epoch 687: val_loss improved from 0.03613 to 0.03612, saving model to iris_best.h5\n",
            "\n",
            "Epoch 688: val_loss improved from 0.03612 to 0.03610, saving model to iris_best.h5\n",
            "\n",
            "Epoch 689: val_loss improved from 0.03610 to 0.03609, saving model to iris_best.h5\n",
            "\n",
            "Epoch 690: val_loss improved from 0.03609 to 0.03608, saving model to iris_best.h5\n",
            "\n",
            "Epoch 691: val_loss improved from 0.03608 to 0.03607, saving model to iris_best.h5\n",
            "\n",
            "Epoch 692: val_loss improved from 0.03607 to 0.03607, saving model to iris_best.h5\n",
            "\n",
            "Epoch 693: val_loss improved from 0.03607 to 0.03606, saving model to iris_best.h5\n",
            "\n",
            "Epoch 694: val_loss improved from 0.03606 to 0.03606, saving model to iris_best.h5\n",
            "\n",
            "Epoch 695: val_loss improved from 0.03606 to 0.03605, saving model to iris_best.h5\n",
            "\n",
            "Epoch 696: val_loss improved from 0.03605 to 0.03604, saving model to iris_best.h5\n",
            "\n",
            "Epoch 697: val_loss improved from 0.03604 to 0.03603, saving model to iris_best.h5\n",
            "\n",
            "Epoch 698: val_loss improved from 0.03603 to 0.03602, saving model to iris_best.h5\n",
            "\n",
            "Epoch 699: val_loss improved from 0.03602 to 0.03601, saving model to iris_best.h5\n",
            "\n",
            "Epoch 700: val_loss improved from 0.03601 to 0.03600, saving model to iris_best.h5\n",
            "\n",
            "Epoch 701: val_loss improved from 0.03600 to 0.03599, saving model to iris_best.h5\n",
            "\n",
            "Epoch 702: val_loss improved from 0.03599 to 0.03598, saving model to iris_best.h5\n",
            "\n",
            "Epoch 703: val_loss improved from 0.03598 to 0.03597, saving model to iris_best.h5\n",
            "\n",
            "Epoch 704: val_loss improved from 0.03597 to 0.03597, saving model to iris_best.h5\n",
            "\n",
            "Epoch 705: val_loss improved from 0.03597 to 0.03596, saving model to iris_best.h5\n",
            "\n",
            "Epoch 706: val_loss improved from 0.03596 to 0.03595, saving model to iris_best.h5\n",
            "\n",
            "Epoch 707: val_loss improved from 0.03595 to 0.03595, saving model to iris_best.h5\n",
            "\n",
            "Epoch 708: val_loss improved from 0.03595 to 0.03594, saving model to iris_best.h5\n",
            "\n",
            "Epoch 709: val_loss improved from 0.03594 to 0.03593, saving model to iris_best.h5\n",
            "\n",
            "Epoch 710: val_loss improved from 0.03593 to 0.03592, saving model to iris_best.h5\n",
            "\n",
            "Epoch 711: val_loss improved from 0.03592 to 0.03591, saving model to iris_best.h5\n",
            "\n",
            "Epoch 712: val_loss improved from 0.03591 to 0.03590, saving model to iris_best.h5\n",
            "\n",
            "Epoch 713: val_loss improved from 0.03590 to 0.03589, saving model to iris_best.h5\n",
            "\n",
            "Epoch 714: val_loss improved from 0.03589 to 0.03588, saving model to iris_best.h5\n",
            "\n",
            "Epoch 715: val_loss improved from 0.03588 to 0.03587, saving model to iris_best.h5\n",
            "\n",
            "Epoch 716: val_loss improved from 0.03587 to 0.03587, saving model to iris_best.h5\n",
            "\n",
            "Epoch 717: val_loss improved from 0.03587 to 0.03586, saving model to iris_best.h5\n",
            "\n",
            "Epoch 718: val_loss improved from 0.03586 to 0.03585, saving model to iris_best.h5\n",
            "\n",
            "Epoch 719: val_loss improved from 0.03585 to 0.03584, saving model to iris_best.h5\n",
            "\n",
            "Epoch 720: val_loss improved from 0.03584 to 0.03584, saving model to iris_best.h5\n",
            "\n",
            "Epoch 721: val_loss improved from 0.03584 to 0.03583, saving model to iris_best.h5\n",
            "\n",
            "Epoch 722: val_loss improved from 0.03583 to 0.03583, saving model to iris_best.h5\n",
            "\n",
            "Epoch 723: val_loss improved from 0.03583 to 0.03582, saving model to iris_best.h5\n",
            "\n",
            "Epoch 724: val_loss improved from 0.03582 to 0.03581, saving model to iris_best.h5\n",
            "\n",
            "Epoch 725: val_loss improved from 0.03581 to 0.03580, saving model to iris_best.h5\n",
            "\n",
            "Epoch 726: val_loss improved from 0.03580 to 0.03578, saving model to iris_best.h5\n",
            "\n",
            "Epoch 727: val_loss improved from 0.03578 to 0.03578, saving model to iris_best.h5\n",
            "\n",
            "Epoch 728: val_loss improved from 0.03578 to 0.03577, saving model to iris_best.h5\n",
            "\n",
            "Epoch 729: val_loss improved from 0.03577 to 0.03577, saving model to iris_best.h5\n",
            "\n",
            "Epoch 730: val_loss improved from 0.03577 to 0.03577, saving model to iris_best.h5\n",
            "\n",
            "Epoch 731: val_loss improved from 0.03577 to 0.03576, saving model to iris_best.h5\n",
            "\n",
            "Epoch 732: val_loss improved from 0.03576 to 0.03576, saving model to iris_best.h5\n",
            "\n",
            "Epoch 733: val_loss improved from 0.03576 to 0.03575, saving model to iris_best.h5\n",
            "\n",
            "Epoch 734: val_loss improved from 0.03575 to 0.03575, saving model to iris_best.h5\n",
            "\n",
            "Epoch 735: val_loss improved from 0.03575 to 0.03574, saving model to iris_best.h5\n",
            "\n",
            "Epoch 736: val_loss improved from 0.03574 to 0.03573, saving model to iris_best.h5\n",
            "\n",
            "Epoch 737: val_loss improved from 0.03573 to 0.03572, saving model to iris_best.h5\n",
            "\n",
            "Epoch 738: val_loss improved from 0.03572 to 0.03571, saving model to iris_best.h5\n",
            "\n",
            "Epoch 739: val_loss improved from 0.03571 to 0.03571, saving model to iris_best.h5\n",
            "\n",
            "Epoch 740: val_loss did not improve from 0.03571\n",
            "\n",
            "Epoch 741: val_loss did not improve from 0.03571\n",
            "\n",
            "Epoch 742: val_loss improved from 0.03571 to 0.03571, saving model to iris_best.h5\n",
            "\n",
            "Epoch 743: val_loss improved from 0.03571 to 0.03570, saving model to iris_best.h5\n",
            "\n",
            "Epoch 744: val_loss improved from 0.03570 to 0.03570, saving model to iris_best.h5\n",
            "\n",
            "Epoch 745: val_loss improved from 0.03570 to 0.03569, saving model to iris_best.h5\n",
            "\n",
            "Epoch 746: val_loss improved from 0.03569 to 0.03568, saving model to iris_best.h5\n",
            "\n",
            "Epoch 747: val_loss improved from 0.03568 to 0.03568, saving model to iris_best.h5\n",
            "\n",
            "Epoch 748: val_loss improved from 0.03568 to 0.03567, saving model to iris_best.h5\n",
            "\n",
            "Epoch 749: val_loss improved from 0.03567 to 0.03567, saving model to iris_best.h5\n",
            "\n",
            "Epoch 750: val_loss improved from 0.03567 to 0.03566, saving model to iris_best.h5\n",
            "\n",
            "Epoch 751: val_loss improved from 0.03566 to 0.03566, saving model to iris_best.h5\n",
            "\n",
            "Epoch 752: val_loss improved from 0.03566 to 0.03565, saving model to iris_best.h5\n",
            "\n",
            "Epoch 753: val_loss improved from 0.03565 to 0.03565, saving model to iris_best.h5\n",
            "\n",
            "Epoch 754: val_loss improved from 0.03565 to 0.03564, saving model to iris_best.h5\n",
            "\n",
            "Epoch 755: val_loss improved from 0.03564 to 0.03564, saving model to iris_best.h5\n",
            "\n",
            "Epoch 756: val_loss improved from 0.03564 to 0.03564, saving model to iris_best.h5\n",
            "\n",
            "Epoch 757: val_loss did not improve from 0.03564\n",
            "\n",
            "Epoch 758: val_loss did not improve from 0.03564\n",
            "\n",
            "Epoch 759: val_loss improved from 0.03564 to 0.03564, saving model to iris_best.h5\n",
            "\n",
            "Epoch 760: val_loss improved from 0.03564 to 0.03563, saving model to iris_best.h5\n",
            "\n",
            "Epoch 761: val_loss improved from 0.03563 to 0.03563, saving model to iris_best.h5\n",
            "\n",
            "Epoch 762: val_loss improved from 0.03563 to 0.03562, saving model to iris_best.h5\n",
            "\n",
            "Epoch 763: val_loss improved from 0.03562 to 0.03562, saving model to iris_best.h5\n",
            "\n",
            "Epoch 764: val_loss improved from 0.03562 to 0.03561, saving model to iris_best.h5\n",
            "\n",
            "Epoch 765: val_loss improved from 0.03561 to 0.03561, saving model to iris_best.h5\n",
            "\n",
            "Epoch 766: val_loss improved from 0.03561 to 0.03561, saving model to iris_best.h5\n",
            "\n",
            "Epoch 767: val_loss improved from 0.03561 to 0.03560, saving model to iris_best.h5\n",
            "\n",
            "Epoch 768: val_loss improved from 0.03560 to 0.03560, saving model to iris_best.h5\n",
            "\n",
            "Epoch 769: val_loss did not improve from 0.03560\n",
            "\n",
            "Epoch 770: val_loss did not improve from 0.03560\n",
            "\n",
            "Epoch 771: val_loss did not improve from 0.03560\n",
            "\n",
            "Epoch 772: val_loss improved from 0.03560 to 0.03560, saving model to iris_best.h5\n",
            "\n",
            "Epoch 773: val_loss improved from 0.03560 to 0.03559, saving model to iris_best.h5\n",
            "\n",
            "Epoch 774: val_loss improved from 0.03559 to 0.03558, saving model to iris_best.h5\n",
            "\n",
            "Epoch 775: val_loss improved from 0.03558 to 0.03558, saving model to iris_best.h5\n",
            "\n",
            "Epoch 776: val_loss improved from 0.03558 to 0.03557, saving model to iris_best.h5\n",
            "\n",
            "Epoch 777: val_loss improved from 0.03557 to 0.03556, saving model to iris_best.h5\n",
            "\n",
            "Epoch 778: val_loss did not improve from 0.03556\n",
            "\n",
            "Epoch 779: val_loss did not improve from 0.03556\n",
            "\n",
            "Epoch 780: val_loss did not improve from 0.03556\n",
            "\n",
            "Epoch 781: val_loss did not improve from 0.03556\n",
            "\n",
            "Epoch 782: val_loss did not improve from 0.03556\n",
            "\n",
            "Epoch 783: val_loss did not improve from 0.03556\n",
            "\n",
            "Epoch 784: val_loss did not improve from 0.03556\n",
            "\n",
            "Epoch 785: val_loss improved from 0.03556 to 0.03556, saving model to iris_best.h5\n",
            "\n",
            "Epoch 786: val_loss improved from 0.03556 to 0.03556, saving model to iris_best.h5\n",
            "\n",
            "Epoch 787: val_loss improved from 0.03556 to 0.03555, saving model to iris_best.h5\n",
            "\n",
            "Epoch 788: val_loss improved from 0.03555 to 0.03555, saving model to iris_best.h5\n",
            "\n",
            "Epoch 789: val_loss improved from 0.03555 to 0.03555, saving model to iris_best.h5\n",
            "\n",
            "Epoch 790: val_loss did not improve from 0.03555\n",
            "\n",
            "Epoch 791: val_loss did not improve from 0.03555\n",
            "\n",
            "Epoch 792: val_loss did not improve from 0.03555\n",
            "\n",
            "Epoch 793: val_loss did not improve from 0.03555\n",
            "\n",
            "Epoch 794: val_loss did not improve from 0.03555\n",
            "\n",
            "Epoch 795: val_loss did not improve from 0.03555\n",
            "\n",
            "Epoch 796: val_loss did not improve from 0.03555\n",
            "\n",
            "Epoch 797: val_loss improved from 0.03555 to 0.03554, saving model to iris_best.h5\n",
            "\n",
            "Epoch 798: val_loss improved from 0.03554 to 0.03552, saving model to iris_best.h5\n",
            "\n",
            "Epoch 799: val_loss improved from 0.03552 to 0.03550, saving model to iris_best.h5\n",
            "\n",
            "Epoch 800: val_loss improved from 0.03550 to 0.03548, saving model to iris_best.h5\n",
            "\n",
            "Epoch 801: val_loss improved from 0.03548 to 0.03545, saving model to iris_best.h5\n",
            "\n",
            "Epoch 802: val_loss improved from 0.03545 to 0.03544, saving model to iris_best.h5\n",
            "\n",
            "Epoch 803: val_loss improved from 0.03544 to 0.03543, saving model to iris_best.h5\n",
            "\n",
            "Epoch 804: val_loss improved from 0.03543 to 0.03542, saving model to iris_best.h5\n",
            "\n",
            "Epoch 805: val_loss improved from 0.03542 to 0.03542, saving model to iris_best.h5\n",
            "\n",
            "Epoch 806: val_loss improved from 0.03542 to 0.03542, saving model to iris_best.h5\n",
            "\n",
            "Epoch 807: val_loss improved from 0.03542 to 0.03541, saving model to iris_best.h5\n",
            "\n",
            "Epoch 808: val_loss improved from 0.03541 to 0.03541, saving model to iris_best.h5\n",
            "\n",
            "Epoch 809: val_loss improved from 0.03541 to 0.03541, saving model to iris_best.h5\n",
            "\n",
            "Epoch 810: val_loss did not improve from 0.03541\n",
            "\n",
            "Epoch 811: val_loss did not improve from 0.03541\n",
            "\n",
            "Epoch 812: val_loss did not improve from 0.03541\n",
            "\n",
            "Epoch 813: val_loss did not improve from 0.03541\n",
            "\n",
            "Epoch 814: val_loss did not improve from 0.03541\n",
            "\n",
            "Epoch 815: val_loss did not improve from 0.03541\n",
            "\n",
            "Epoch 816: val_loss improved from 0.03541 to 0.03541, saving model to iris_best.h5\n",
            "\n",
            "Epoch 817: val_loss improved from 0.03541 to 0.03540, saving model to iris_best.h5\n",
            "\n",
            "Epoch 818: val_loss improved from 0.03540 to 0.03540, saving model to iris_best.h5\n",
            "\n",
            "Epoch 819: val_loss improved from 0.03540 to 0.03539, saving model to iris_best.h5\n",
            "\n",
            "Epoch 820: val_loss improved from 0.03539 to 0.03539, saving model to iris_best.h5\n",
            "\n",
            "Epoch 821: val_loss did not improve from 0.03539\n",
            "\n",
            "Epoch 822: val_loss did not improve from 0.03539\n",
            "\n",
            "Epoch 823: val_loss did not improve from 0.03539\n",
            "\n",
            "Epoch 824: val_loss improved from 0.03539 to 0.03539, saving model to iris_best.h5\n",
            "\n",
            "Epoch 825: val_loss improved from 0.03539 to 0.03539, saving model to iris_best.h5\n",
            "\n",
            "Epoch 826: val_loss improved from 0.03539 to 0.03539, saving model to iris_best.h5\n",
            "\n",
            "Epoch 827: val_loss improved from 0.03539 to 0.03539, saving model to iris_best.h5\n",
            "\n",
            "Epoch 828: val_loss did not improve from 0.03539\n",
            "\n",
            "Epoch 829: val_loss did not improve from 0.03539\n",
            "\n",
            "Epoch 830: val_loss did not improve from 0.03539\n",
            "\n",
            "Epoch 831: val_loss did not improve from 0.03539\n",
            "\n",
            "Epoch 832: val_loss did not improve from 0.03539\n",
            "\n",
            "Epoch 833: val_loss did not improve from 0.03539\n",
            "\n",
            "Epoch 834: val_loss did not improve from 0.03539\n",
            "\n",
            "Epoch 835: val_loss did not improve from 0.03539\n",
            "\n",
            "Epoch 836: val_loss did not improve from 0.03539\n",
            "\n",
            "Epoch 837: val_loss did not improve from 0.03539\n",
            "\n",
            "Epoch 838: val_loss did not improve from 0.03539\n",
            "\n",
            "Epoch 839: val_loss did not improve from 0.03539\n",
            "\n",
            "Epoch 840: val_loss did not improve from 0.03539\n",
            "\n",
            "Epoch 841: val_loss did not improve from 0.03539\n",
            "\n",
            "Epoch 842: val_loss did not improve from 0.03539\n",
            "\n",
            "Epoch 843: val_loss did not improve from 0.03539\n",
            "\n",
            "Epoch 844: val_loss did not improve from 0.03539\n",
            "\n",
            "Epoch 845: val_loss did not improve from 0.03539\n",
            "\n",
            "Epoch 846: val_loss did not improve from 0.03539\n",
            "\n",
            "Epoch 847: val_loss did not improve from 0.03539\n",
            "\n",
            "Epoch 848: val_loss did not improve from 0.03539\n",
            "\n",
            "Epoch 849: val_loss did not improve from 0.03539\n",
            "\n",
            "Epoch 850: val_loss did not improve from 0.03539\n",
            "\n",
            "Epoch 851: val_loss did not improve from 0.03539\n",
            "\n",
            "Epoch 852: val_loss did not improve from 0.03539\n",
            "\n",
            "Epoch 853: val_loss did not improve from 0.03539\n",
            "\n",
            "Epoch 854: val_loss did not improve from 0.03539\n",
            "\n",
            "Epoch 855: val_loss did not improve from 0.03539\n",
            "\n",
            "Epoch 856: val_loss did not improve from 0.03539\n",
            "\n",
            "Epoch 857: val_loss did not improve from 0.03539\n"
          ]
        }
      ]
    },
    {
      "cell_type": "code",
      "source": [
        "best_model = load_model('iris_best.h5')\n",
        "best_model.evaluate(X_test, y_test)"
      ],
      "metadata": {
        "colab": {
          "base_uri": "https://localhost:8080/"
        },
        "id": "yPeGtnPesa8g",
        "outputId": "11bb3be1-994c-475d-9804-c7c5309c979c"
      },
      "execution_count": 159,
      "outputs": [
        {
          "output_type": "stream",
          "name": "stdout",
          "text": [
            "1/1 [==============================] - 0s 116ms/step - loss: 0.2280 - accuracy: 0.9000\n"
          ]
        },
        {
          "output_type": "execute_result",
          "data": {
            "text/plain": [
              "[0.2279573231935501, 0.8999999761581421]"
            ]
          },
          "metadata": {},
          "execution_count": 159
        }
      ]
    },
    {
      "cell_type": "code",
      "source": [
        "y_acc = hist.history['accuracy']\n",
        "y_vloss = hist.history['val_loss']\n",
        "xs = np.arange(1, len(y_acc) + 1)\n",
        "\n",
        "\n",
        "plt.figure(figsize=(12, 8))\n",
        "plt.plot(xs, y_acc, label='train.accuracy')\n",
        "plt.plot(xs, y_vloss, label='validation loss')\n",
        "plt.legend(), plt.grid()\n",
        "plt.ylim([0,1.2])\n",
        "plt.xlabel('Epoch')\n",
        "plt.title('No feature transform')\n",
        "plt.show()"
      ],
      "metadata": {
        "colab": {
          "base_uri": "https://localhost:8080/",
          "height": 513
        },
        "id": "U01QKFdwsjc5",
        "outputId": "205ea5e7-a1eb-4a1d-a58f-66a81912993c"
      },
      "execution_count": 162,
      "outputs": [
        {
          "output_type": "display_data",
          "data": {
            "text/plain": [
              "<Figure size 864x576 with 1 Axes>"
            ],
            "image/png": "[encoded data removed]"
          },
          "metadata": {
            "needs_background": "light"
          }
        }
      ]
    },
    {
      "cell_type": "markdown",
      "source": [
        "#MNIST 손글씨 분류 - 신경망"
      ],
      "metadata": {
        "id": "0I8A2jbLstDG"
      }
    },
    {
      "cell_type": "code",
      "source": [
        "from tensorflow.keras.datasets import mnist\n",
        "(X_train, y_train), (X_test, y_test) = mnist.load_data()\n",
        "X_train.shape"
      ],
      "metadata": {
        "colab": {
          "base_uri": "https://localhost:8080/"
        },
        "id": "5cYUiRWOs9Ak",
        "outputId": "379c0a60-73d2-49ca-d68e-ca96a8bdb4bf"
      },
      "execution_count": 164,
      "outputs": [
        {
          "output_type": "stream",
          "name": "stdout",
          "text": [
            "Downloading data from https://storage.googleapis.com/tensorflow/tf-keras-datasets/mnist.npz\n",
            "11490434/11490434 [==============================] - 0s 0us/step\n"
          ]
        },
        {
          "output_type": "execute_result",
          "data": {
            "text/plain": [
              "(60000, 28, 28)"
            ]
          },
          "metadata": {},
          "execution_count": 164
        }
      ]
    },
    {
      "cell_type": "code",
      "source": [
        "plt.imshow(X_train[0], cmap='Greys')"
      ],
      "metadata": {
        "colab": {
          "base_uri": "https://localhost:8080/",
          "height": 282
        },
        "id": "kB7R4jQ1tIHy",
        "outputId": "94b2b894-4417-40bd-86e5-4125c87f0432"
      },
      "execution_count": 166,
      "outputs": [
        {
          "output_type": "execute_result",
          "data": {
            "text/plain": [
              "<matplotlib.image.AxesImage at 0x7f89417c1250>"
            ]
          },
          "metadata": {},
          "execution_count": 166
        },
        {
          "output_type": "display_data",
          "data": {
            "text/plain": [
              "<Figure size 432x288 with 1 Axes>"
            ],
            "image/png": "[encoded data removed]"
          },
          "metadata": {
            "needs_background": "light"
          }
        }
      ]
    },
    {
      "cell_type": "code",
      "source": [
        "import sys\n",
        "\n",
        "for row in X_train[0]:\n",
        "    for x in row:\n",
        "        sys.stdout.write(f'{x:3d}')\n",
        "    sys.stdout.write('\\n')"
      ],
      "metadata": {
        "colab": {
          "base_uri": "https://localhost:8080/"
        },
        "id": "g4rQZJy6tNEB",
        "outputId": "fa944fbb-4e41-4150-997d-e97c7f064918"
      },
      "execution_count": 167,
      "outputs": [
        {
          "output_type": "stream",
          "name": "stdout",
          "text": [
            "  0  0  0  0  0  0  0  0  0  0  0  0  0  0  0  0  0  0  0  0  0  0  0  0  0  0  0  0\n",
            "  0  0  0  0  0  0  0  0  0  0  0  0  0  0  0  0  0  0  0  0  0  0  0  0  0  0  0  0\n",
            "  0  0  0  0  0  0  0  0  0  0  0  0  0  0  0  0  0  0  0  0  0  0  0  0  0  0  0  0\n",
            "  0  0  0  0  0  0  0  0  0  0  0  0  0  0  0  0  0  0  0  0  0  0  0  0  0  0  0  0\n",
            "  0  0  0  0  0  0  0  0  0  0  0  0  0  0  0  0  0  0  0  0  0  0  0  0  0  0  0  0\n",
            "  0  0  0  0  0  0  0  0  0  0  0  0  3 18 18 18126136175 26166255247127  0  0  0  0\n",
            "  0  0  0  0  0  0  0  0 30 36 94154170253253253253253225172253242195 64  0  0  0  0\n",
            "  0  0  0  0  0  0  0 49238253253253253253253253253251 93 82 82 56 39  0  0  0  0  0\n",
            "  0  0  0  0  0  0  0 18219253253253253253198182247241  0  0  0  0  0  0  0  0  0  0\n",
            "  0  0  0  0  0  0  0  0 80156107253253205 11  0 43154  0  0  0  0  0  0  0  0  0  0\n",
            "  0  0  0  0  0  0  0  0  0 14  1154253 90  0  0  0  0  0  0  0  0  0  0  0  0  0  0\n",
            "  0  0  0  0  0  0  0  0  0  0  0139253190  2  0  0  0  0  0  0  0  0  0  0  0  0  0\n",
            "  0  0  0  0  0  0  0  0  0  0  0 11190253 70  0  0  0  0  0  0  0  0  0  0  0  0  0\n",
            "  0  0  0  0  0  0  0  0  0  0  0  0 35241225160108  1  0  0  0  0  0  0  0  0  0  0\n",
            "  0  0  0  0  0  0  0  0  0  0  0  0  0 81240253253119 25  0  0  0  0  0  0  0  0  0\n",
            "  0  0  0  0  0  0  0  0  0  0  0  0  0  0 45186253253150 27  0  0  0  0  0  0  0  0\n",
            "  0  0  0  0  0  0  0  0  0  0  0  0  0  0  0 16 93252253187  0  0  0  0  0  0  0  0\n",
            "  0  0  0  0  0  0  0  0  0  0  0  0  0  0  0  0  0249253249 64  0  0  0  0  0  0  0\n",
            "  0  0  0  0  0  0  0  0  0  0  0  0  0  0 46130183253253207  2  0  0  0  0  0  0  0\n",
            "  0  0  0  0  0  0  0  0  0  0  0  0 39148229253253253250182  0  0  0  0  0  0  0  0\n",
            "  0  0  0  0  0  0  0  0  0  0 24114221253253253253201 78  0  0  0  0  0  0  0  0  0\n",
            "  0  0  0  0  0  0  0  0 23 66213253253253253198 81  2  0  0  0  0  0  0  0  0  0  0\n",
            "  0  0  0  0  0  0 18171219253253253253195 80  9  0  0  0  0  0  0  0  0  0  0  0  0\n",
            "  0  0  0  0 55172226253253253253244133 11  0  0  0  0  0  0  0  0  0  0  0  0  0  0\n",
            "  0  0  0  0136253253253212135132 16  0  0  0  0  0  0  0  0  0  0  0  0  0  0  0  0\n",
            "  0  0  0  0  0  0  0  0  0  0  0  0  0  0  0  0  0  0  0  0  0  0  0  0  0  0  0  0\n",
            "  0  0  0  0  0  0  0  0  0  0  0  0  0  0  0  0  0  0  0  0  0  0  0  0  0  0  0  0\n",
            "  0  0  0  0  0  0  0  0  0  0  0  0  0  0  0  0  0  0  0  0  0  0  0  0  0  0  0  0\n"
          ]
        }
      ]
    },
    {
      "cell_type": "code",
      "source": [
        "X_train = X_train / 255.\n",
        "X_test = X_test / 255."
      ],
      "metadata": {
        "id": "-xRilpUatYoi"
      },
      "execution_count": 168,
      "outputs": []
    },
    {
      "cell_type": "code",
      "source": [
        "X_train = X_train.reshape(60000, -1)\n",
        "X_test = X_test.reshape(-1, 28 * 28)\n",
        "X_train.shape, X_test.shape"
      ],
      "metadata": {
        "colab": {
          "base_uri": "https://localhost:8080/"
        },
        "id": "X0256KyMthu4",
        "outputId": "8cafe0ff-1146-4e29-9dae-99821c75744e"
      },
      "execution_count": 170,
      "outputs": [
        {
          "output_type": "execute_result",
          "data": {
            "text/plain": [
              "((60000, 784), (10000, 784))"
            ]
          },
          "metadata": {},
          "execution_count": 170
        }
      ]
    },
    {
      "cell_type": "code",
      "source": [
        "np.unique(y_train, return_counts=True)"
      ],
      "metadata": {
        "colab": {
          "base_uri": "https://localhost:8080/"
        },
        "id": "ooV-vVgptupT",
        "outputId": "9005e0d0-a6a1-42ea-b1f9-cfb3bd02efc2"
      },
      "execution_count": 171,
      "outputs": [
        {
          "output_type": "execute_result",
          "data": {
            "text/plain": [
              "(array([0, 1, 2, 3, 4, 5, 6, 7, 8, 9], dtype=uint8),\n",
              " array([5923, 6742, 5958, 6131, 5842, 5421, 5918, 6265, 5851, 5949]))"
            ]
          },
          "metadata": {},
          "execution_count": 171
        }
      ]
    },
    {
      "cell_type": "code",
      "source": [
        "from tensorflow.keras.utils import to_categorical\n",
        "y_train = to_categorical(y_train)\n",
        "y_test = to_categorical(y_test)"
      ],
      "metadata": {
        "id": "S0B64k1It4Fx"
      },
      "execution_count": 172,
      "outputs": []
    },
    {
      "cell_type": "code",
      "source": [
        "y_train.shape"
      ],
      "metadata": {
        "colab": {
          "base_uri": "https://localhost:8080/"
        },
        "id": "qnr7_zdSuB7E",
        "outputId": "b8199c75-a258-4577-fa7c-3983be08e8b9"
      },
      "execution_count": 173,
      "outputs": [
        {
          "output_type": "execute_result",
          "data": {
            "text/plain": [
              "(60000, 10)"
            ]
          },
          "metadata": {},
          "execution_count": 173
        }
      ]
    },
    {
      "cell_type": "code",
      "source": [
        "from tensorflow.keras.models import load_model, Sequential \n",
        "from tensorflow.keras.layers import Dense, Dropout\n",
        "from tensorflow.keras.callbacks import ModelCheckpoint, EarlyStopping\n"
      ],
      "metadata": {
        "id": "mWnxD-PjuDap"
      },
      "execution_count": 175,
      "outputs": []
    },
    {
      "cell_type": "code",
      "source": [
        "del model"
      ],
      "metadata": {
        "id": "pOnozhnGv3wQ"
      },
      "execution_count": 187,
      "outputs": []
    },
    {
      "cell_type": "code",
      "source": [
        "model1 = Sequential([\n",
        "    Dense(1024, input_dim=784, activation='relu'),\n",
        "    Dropout(0.25),\n",
        "    Dense(256, activation='relu'),\n",
        "    Dense(48, activation='relu'),\n",
        "    Dense(10, activation='softmax')\n",
        "])"
      ],
      "metadata": {
        "id": "Yq0LSWukuQHi"
      },
      "execution_count": 188,
      "outputs": []
    },
    {
      "cell_type": "code",
      "source": [
        "model1.summary()"
      ],
      "metadata": {
        "colab": {
          "base_uri": "https://localhost:8080/"
        },
        "id": "9WKHWC58unO7",
        "outputId": "a121cfac-97c8-4793-fd58-0381a7d26208"
      },
      "execution_count": 189,
      "outputs": [
        {
          "output_type": "stream",
          "name": "stdout",
          "text": [
            "Model: \"sequential_18\"\n",
            "_________________________________________________________________\n",
            " Layer (type)                Output Shape              Param #   \n",
            "=================================================================\n",
            " dense_76 (Dense)            (None, 1024)              803840    \n",
            "                                                                 \n",
            " dropout_2 (Dropout)         (None, 1024)              0         \n",
            "                                                                 \n",
            " dense_77 (Dense)            (None, 256)               262400    \n",
            "                                                                 \n",
            " dense_78 (Dense)            (None, 48)                12336     \n",
            "                                                                 \n",
            " dense_79 (Dense)            (None, 10)                490       \n",
            "                                                                 \n",
            "=================================================================\n",
            "Total params: 1,079,066\n",
            "Trainable params: 1,079,066\n",
            "Non-trainable params: 0\n",
            "_________________________________________________________________\n"
          ]
        }
      ]
    },
    {
      "cell_type": "code",
      "source": [
        "model1.compile('adam', 'categorical_crossentropy', ['accuracy'])"
      ],
      "metadata": {
        "id": "xgZYCmk7uo2B"
      },
      "execution_count": 190,
      "outputs": []
    },
    {
      "cell_type": "code",
      "source": [
        "mc = ModelCheckpoint('mnist_best.h5', monitor='val_loss',\n",
        "                     verbose=1, save_best_only=True)\n",
        "es = EarlyStopping(patience=30)"
      ],
      "metadata": {
        "id": "WN2aJ1SPu2Tp"
      },
      "execution_count": 191,
      "outputs": []
    },
    {
      "cell_type": "code",
      "source": [
        "hist = model1.fit(X_train, y_train, validation_split=0.2,\n",
        "                    epochs=2000, batch_size= 100, \n",
        "                    callbacks=[mc, es])"
      ],
      "metadata": {
        "colab": {
          "base_uri": "https://localhost:8080/"
        },
        "id": "95lBEKtsuutB",
        "outputId": "d9f05f18-aaeb-4e2f-c2ea-ff06f5648360"
      },
      "execution_count": 192,
      "outputs": [
        {
          "output_type": "stream",
          "name": "stdout",
          "text": [
            "Epoch 1/2000\n",
            "478/480 [============================>.] - ETA: 0s - loss: 0.2576 - accuracy: 0.9220\n",
            "Epoch 1: val_loss improved from inf to 0.10961, saving model to mnist_best.h5\n",
            "480/480 [==============================] - 2s 4ms/step - loss: 0.2572 - accuracy: 0.9221 - val_loss: 0.1096 - val_accuracy: 0.9673\n",
            "Epoch 2/2000\n",
            "464/480 [============================>.] - ETA: 0s - loss: 0.1064 - accuracy: 0.9672\n",
            "Epoch 2: val_loss improved from 0.10961 to 0.09646, saving model to mnist_best.h5\n",
            "480/480 [==============================] - 2s 4ms/step - loss: 0.1058 - accuracy: 0.9674 - val_loss: 0.0965 - val_accuracy: 0.9692\n",
            "Epoch 3/2000\n",
            "468/480 [============================>.] - ETA: 0s - loss: 0.0746 - accuracy: 0.9765\n",
            "Epoch 3: val_loss improved from 0.09646 to 0.08569, saving model to mnist_best.h5\n",
            "480/480 [==============================] - 2s 4ms/step - loss: 0.0745 - accuracy: 0.9765 - val_loss: 0.0857 - val_accuracy: 0.9736\n",
            "Epoch 4/2000\n",
            "478/480 [============================>.] - ETA: 0s - loss: 0.0555 - accuracy: 0.9824\n",
            "Epoch 4: val_loss improved from 0.08569 to 0.08482, saving model to mnist_best.h5\n",
            "480/480 [==============================] - 2s 4ms/step - loss: 0.0555 - accuracy: 0.9824 - val_loss: 0.0848 - val_accuracy: 0.9747\n",
            "Epoch 5/2000\n",
            "473/480 [============================>.] - ETA: 0s - loss: 0.0509 - accuracy: 0.9836\n",
            "Epoch 5: val_loss did not improve from 0.08482\n",
            "480/480 [==============================] - 2s 4ms/step - loss: 0.0511 - accuracy: 0.9835 - val_loss: 0.0921 - val_accuracy: 0.9748\n",
            "Epoch 6/2000\n",
            "469/480 [============================>.] - ETA: 0s - loss: 0.0407 - accuracy: 0.9868\n",
            "Epoch 6: val_loss improved from 0.08482 to 0.08273, saving model to mnist_best.h5\n",
            "480/480 [==============================] - 2s 3ms/step - loss: 0.0410 - accuracy: 0.9866 - val_loss: 0.0827 - val_accuracy: 0.9766\n",
            "Epoch 7/2000\n",
            "479/480 [============================>.] - ETA: 0s - loss: 0.0342 - accuracy: 0.9887\n",
            "Epoch 7: val_loss did not improve from 0.08273\n",
            "480/480 [==============================] - 2s 4ms/step - loss: 0.0342 - accuracy: 0.9887 - val_loss: 0.1157 - val_accuracy: 0.9708\n",
            "Epoch 8/2000\n",
            "472/480 [============================>.] - ETA: 0s - loss: 0.0327 - accuracy: 0.9890\n",
            "Epoch 8: val_loss did not improve from 0.08273\n",
            "480/480 [==============================] - 2s 3ms/step - loss: 0.0328 - accuracy: 0.9890 - val_loss: 0.0950 - val_accuracy: 0.9763\n",
            "Epoch 9/2000\n",
            "463/480 [===========================>..] - ETA: 0s - loss: 0.0273 - accuracy: 0.9910\n",
            "Epoch 9: val_loss did not improve from 0.08273\n",
            "480/480 [==============================] - 2s 3ms/step - loss: 0.0277 - accuracy: 0.9908 - val_loss: 0.0964 - val_accuracy: 0.9748\n",
            "Epoch 10/2000\n",
            "466/480 [============================>.] - ETA: 0s - loss: 0.0306 - accuracy: 0.9903\n",
            "Epoch 10: val_loss did not improve from 0.08273\n",
            "480/480 [==============================] - 2s 4ms/step - loss: 0.0308 - accuracy: 0.9902 - val_loss: 0.0859 - val_accuracy: 0.9786\n",
            "Epoch 11/2000\n",
            "469/480 [============================>.] - ETA: 0s - loss: 0.0247 - accuracy: 0.9920\n",
            "Epoch 11: val_loss did not improve from 0.08273\n",
            "480/480 [==============================] - 2s 3ms/step - loss: 0.0251 - accuracy: 0.9920 - val_loss: 0.0893 - val_accuracy: 0.9780\n",
            "Epoch 12/2000\n",
            "477/480 [============================>.] - ETA: 0s - loss: 0.0221 - accuracy: 0.9925\n",
            "Epoch 12: val_loss did not improve from 0.08273\n",
            "480/480 [==============================] - 2s 3ms/step - loss: 0.0223 - accuracy: 0.9925 - val_loss: 0.0915 - val_accuracy: 0.9788\n",
            "Epoch 13/2000\n",
            "469/480 [============================>.] - ETA: 0s - loss: 0.0234 - accuracy: 0.9925\n",
            "Epoch 13: val_loss did not improve from 0.08273\n",
            "480/480 [==============================] - 2s 3ms/step - loss: 0.0235 - accuracy: 0.9925 - val_loss: 0.0827 - val_accuracy: 0.9818\n",
            "Epoch 14/2000\n",
            "468/480 [============================>.] - ETA: 0s - loss: 0.0200 - accuracy: 0.9931\n",
            "Epoch 14: val_loss did not improve from 0.08273\n",
            "480/480 [==============================] - 2s 3ms/step - loss: 0.0201 - accuracy: 0.9930 - val_loss: 0.1024 - val_accuracy: 0.9772\n",
            "Epoch 15/2000\n",
            "473/480 [============================>.] - ETA: 0s - loss: 0.0198 - accuracy: 0.9936\n",
            "Epoch 15: val_loss did not improve from 0.08273\n",
            "480/480 [==============================] - 2s 3ms/step - loss: 0.0198 - accuracy: 0.9936 - val_loss: 0.1065 - val_accuracy: 0.9786\n",
            "Epoch 16/2000\n",
            "468/480 [============================>.] - ETA: 0s - loss: 0.0194 - accuracy: 0.9937\n",
            "Epoch 16: val_loss did not improve from 0.08273\n",
            "480/480 [==============================] - 2s 4ms/step - loss: 0.0193 - accuracy: 0.9937 - val_loss: 0.0924 - val_accuracy: 0.9813\n",
            "Epoch 17/2000\n",
            "467/480 [============================>.] - ETA: 0s - loss: 0.0162 - accuracy: 0.9950\n",
            "Epoch 17: val_loss did not improve from 0.08273\n",
            "480/480 [==============================] - 2s 4ms/step - loss: 0.0161 - accuracy: 0.9951 - val_loss: 0.0963 - val_accuracy: 0.9800\n",
            "Epoch 18/2000\n",
            "463/480 [===========================>..] - ETA: 0s - loss: 0.0180 - accuracy: 0.9939\n",
            "Epoch 18: val_loss did not improve from 0.08273\n",
            "480/480 [==============================] - 2s 4ms/step - loss: 0.0183 - accuracy: 0.9938 - val_loss: 0.0967 - val_accuracy: 0.9791\n",
            "Epoch 19/2000\n",
            "466/480 [============================>.] - ETA: 0s - loss: 0.0177 - accuracy: 0.9943\n",
            "Epoch 19: val_loss did not improve from 0.08273\n",
            "480/480 [==============================] - 2s 4ms/step - loss: 0.0175 - accuracy: 0.9944 - val_loss: 0.0886 - val_accuracy: 0.9791\n",
            "Epoch 20/2000\n",
            "479/480 [============================>.] - ETA: 0s - loss: 0.0164 - accuracy: 0.9952\n",
            "Epoch 20: val_loss did not improve from 0.08273\n",
            "480/480 [==============================] - 2s 4ms/step - loss: 0.0164 - accuracy: 0.9952 - val_loss: 0.0978 - val_accuracy: 0.9799\n",
            "Epoch 21/2000\n",
            "480/480 [==============================] - ETA: 0s - loss: 0.0156 - accuracy: 0.9953\n",
            "Epoch 21: val_loss did not improve from 0.08273\n",
            "480/480 [==============================] - 2s 3ms/step - loss: 0.0156 - accuracy: 0.9953 - val_loss: 0.0899 - val_accuracy: 0.9804\n",
            "Epoch 22/2000\n",
            "479/480 [============================>.] - ETA: 0s - loss: 0.0132 - accuracy: 0.9957\n",
            "Epoch 22: val_loss did not improve from 0.08273\n",
            "480/480 [==============================] - 2s 4ms/step - loss: 0.0132 - accuracy: 0.9956 - val_loss: 0.0880 - val_accuracy: 0.9811\n",
            "Epoch 23/2000\n",
            "479/480 [============================>.] - ETA: 0s - loss: 0.0142 - accuracy: 0.9955\n",
            "Epoch 23: val_loss did not improve from 0.08273\n",
            "480/480 [==============================] - 2s 3ms/step - loss: 0.0141 - accuracy: 0.9955 - val_loss: 0.0992 - val_accuracy: 0.9808\n",
            "Epoch 24/2000\n",
            "479/480 [============================>.] - ETA: 0s - loss: 0.0127 - accuracy: 0.9959\n",
            "Epoch 24: val_loss did not improve from 0.08273\n",
            "480/480 [==============================] - 2s 3ms/step - loss: 0.0127 - accuracy: 0.9959 - val_loss: 0.0901 - val_accuracy: 0.9831\n",
            "Epoch 25/2000\n",
            "466/480 [============================>.] - ETA: 0s - loss: 0.0146 - accuracy: 0.9952\n",
            "Epoch 25: val_loss did not improve from 0.08273\n",
            "480/480 [==============================] - 2s 4ms/step - loss: 0.0145 - accuracy: 0.9953 - val_loss: 0.0965 - val_accuracy: 0.9806\n",
            "Epoch 26/2000\n",
            "480/480 [==============================] - ETA: 0s - loss: 0.0133 - accuracy: 0.9960\n",
            "Epoch 26: val_loss did not improve from 0.08273\n",
            "480/480 [==============================] - 2s 3ms/step - loss: 0.0133 - accuracy: 0.9960 - val_loss: 0.1030 - val_accuracy: 0.9797\n",
            "Epoch 27/2000\n",
            "475/480 [============================>.] - ETA: 0s - loss: 0.0106 - accuracy: 0.9965\n",
            "Epoch 27: val_loss did not improve from 0.08273\n",
            "480/480 [==============================] - 2s 4ms/step - loss: 0.0106 - accuracy: 0.9965 - val_loss: 0.1001 - val_accuracy: 0.9811\n",
            "Epoch 28/2000\n",
            "466/480 [============================>.] - ETA: 0s - loss: 0.0149 - accuracy: 0.9960\n",
            "Epoch 28: val_loss did not improve from 0.08273\n",
            "480/480 [==============================] - 2s 3ms/step - loss: 0.0148 - accuracy: 0.9960 - val_loss: 0.0993 - val_accuracy: 0.9809\n",
            "Epoch 29/2000\n",
            "472/480 [============================>.] - ETA: 0s - loss: 0.0103 - accuracy: 0.9970\n",
            "Epoch 29: val_loss did not improve from 0.08273\n",
            "480/480 [==============================] - 2s 4ms/step - loss: 0.0102 - accuracy: 0.9970 - val_loss: 0.0929 - val_accuracy: 0.9829\n",
            "Epoch 30/2000\n",
            "468/480 [============================>.] - ETA: 0s - loss: 0.0135 - accuracy: 0.9960\n",
            "Epoch 30: val_loss did not improve from 0.08273\n",
            "480/480 [==============================] - 2s 3ms/step - loss: 0.0134 - accuracy: 0.9960 - val_loss: 0.1012 - val_accuracy: 0.9806\n",
            "Epoch 31/2000\n",
            "478/480 [============================>.] - ETA: 0s - loss: 0.0115 - accuracy: 0.9966\n",
            "Epoch 31: val_loss did not improve from 0.08273\n",
            "480/480 [==============================] - 2s 3ms/step - loss: 0.0115 - accuracy: 0.9966 - val_loss: 0.0919 - val_accuracy: 0.9818\n",
            "Epoch 32/2000\n",
            "464/480 [============================>.] - ETA: 0s - loss: 0.0105 - accuracy: 0.9967\n",
            "Epoch 32: val_loss did not improve from 0.08273\n",
            "480/480 [==============================] - 2s 4ms/step - loss: 0.0103 - accuracy: 0.9968 - val_loss: 0.0991 - val_accuracy: 0.9810\n",
            "Epoch 33/2000\n",
            "474/480 [============================>.] - ETA: 0s - loss: 0.0098 - accuracy: 0.9967\n",
            "Epoch 33: val_loss did not improve from 0.08273\n",
            "480/480 [==============================] - 2s 4ms/step - loss: 0.0098 - accuracy: 0.9967 - val_loss: 0.1019 - val_accuracy: 0.9808\n",
            "Epoch 34/2000\n",
            "473/480 [============================>.] - ETA: 0s - loss: 0.0109 - accuracy: 0.9967\n",
            "Epoch 34: val_loss did not improve from 0.08273\n",
            "480/480 [==============================] - 2s 4ms/step - loss: 0.0109 - accuracy: 0.9967 - val_loss: 0.1013 - val_accuracy: 0.9818\n",
            "Epoch 35/2000\n",
            "474/480 [============================>.] - ETA: 0s - loss: 0.0122 - accuracy: 0.9965\n",
            "Epoch 35: val_loss did not improve from 0.08273\n",
            "480/480 [==============================] - 2s 3ms/step - loss: 0.0124 - accuracy: 0.9964 - val_loss: 0.1017 - val_accuracy: 0.9822\n",
            "Epoch 36/2000\n",
            "468/480 [============================>.] - ETA: 0s - loss: 0.0105 - accuracy: 0.9969\n",
            "Epoch 36: val_loss did not improve from 0.08273\n",
            "480/480 [==============================] - 2s 4ms/step - loss: 0.0107 - accuracy: 0.9969 - val_loss: 0.0976 - val_accuracy: 0.9826\n"
          ]
        }
      ]
    },
    {
      "cell_type": "code",
      "source": [
        "best_model = load_model('mnist_best.h5')\n",
        "best_model.evaluate(X_test, y_test)"
      ],
      "metadata": {
        "colab": {
          "base_uri": "https://localhost:8080/"
        },
        "id": "9pHrUoKwvHp5",
        "outputId": "1dd5df6a-ee39-499e-f781-67bcb4677b3a"
      },
      "execution_count": 193,
      "outputs": [
        {
          "output_type": "stream",
          "name": "stdout",
          "text": [
            "313/313 [==============================] - 1s 3ms/step - loss: 0.0699 - accuracy: 0.9786\n"
          ]
        },
        {
          "output_type": "execute_result",
          "data": {
            "text/plain": [
              "[0.06991623342037201, 0.978600025177002]"
            ]
          },
          "metadata": {},
          "execution_count": 193
        }
      ]
    },
    {
      "cell_type": "code",
      "source": [
        "del model2"
      ],
      "metadata": {
        "id": "Wy9kSRh6xBbc"
      },
      "execution_count": 199,
      "outputs": []
    },
    {
      "cell_type": "code",
      "source": [
        "model2 = Sequential([\n",
        "    Dense(1024, input_dim=28*28, activation='relu'),\n",
        "    Dropout(0.25),\n",
        "    Dense(256, activation='relu'),\n",
        "    Dropout(0.25),\n",
        "    Dense(48, activation='relu'),\n",
        "    Dropout(0.25),\n",
        "    Dense(10, activation='softmax')\n",
        "])\n",
        "model2.summary()"
      ],
      "metadata": {
        "colab": {
          "base_uri": "https://localhost:8080/"
        },
        "id": "kd6ilfWHvU46",
        "outputId": "ae75536e-1ec0-41c0-d928-b919fbe41f09"
      },
      "execution_count": 200,
      "outputs": [
        {
          "output_type": "stream",
          "name": "stdout",
          "text": [
            "Model: \"sequential_20\"\n",
            "_________________________________________________________________\n",
            " Layer (type)                Output Shape              Param #   \n",
            "=================================================================\n",
            " dense_84 (Dense)            (None, 1024)              803840    \n",
            "                                                                 \n",
            " dropout_6 (Dropout)         (None, 1024)              0         \n",
            "                                                                 \n",
            " dense_85 (Dense)            (None, 256)               262400    \n",
            "                                                                 \n",
            " dropout_7 (Dropout)         (None, 256)               0         \n",
            "                                                                 \n",
            " dense_86 (Dense)            (None, 48)                12336     \n",
            "                                                                 \n",
            " dropout_8 (Dropout)         (None, 48)                0         \n",
            "                                                                 \n",
            " dense_87 (Dense)            (None, 10)                490       \n",
            "                                                                 \n",
            "=================================================================\n",
            "Total params: 1,079,066\n",
            "Trainable params: 1,079,066\n",
            "Non-trainable params: 0\n",
            "_________________________________________________________________\n"
          ]
        }
      ]
    },
    {
      "cell_type": "code",
      "source": [
        "model2.compile('adam', 'categorical_crossentropy', ['accuracy'])"
      ],
      "metadata": {
        "id": "XY_FD4_Gwf1J"
      },
      "execution_count": 201,
      "outputs": []
    },
    {
      "cell_type": "code",
      "source": [
        "es= EarlyStopping(patience=30)\n",
        "mc = ModelCheckpoint('iris_best_2.h5', monitor='val_loss', verbose=1, save_best_only=True)"
      ],
      "metadata": {
        "id": "wqPEabQBwvHZ"
      },
      "execution_count": 202,
      "outputs": []
    },
    {
      "cell_type": "code",
      "source": [
        "hist2 = model2.fit(X_train, y_train, validation_split=0.2,\n",
        "                   epochs=1000, batch_size=100, verbose=0,\n",
        "                   callbacks=[mc, es])"
      ],
      "metadata": {
        "colab": {
          "base_uri": "https://localhost:8080/"
        },
        "id": "sQcyihkFwnw4",
        "outputId": "9592832d-bbdd-4ceb-e030-89eb9fc65281"
      },
      "execution_count": 203,
      "outputs": [
        {
          "output_type": "stream",
          "name": "stdout",
          "text": [
            "\n",
            "Epoch 1: val_loss improved from inf to 0.12469, saving model to iris_best_2.h5\n",
            "\n",
            "Epoch 2: val_loss improved from 0.12469 to 0.10193, saving model to iris_best_2.h5\n",
            "\n",
            "Epoch 3: val_loss improved from 0.10193 to 0.09149, saving model to iris_best_2.h5\n",
            "\n",
            "Epoch 4: val_loss improved from 0.09149 to 0.08378, saving model to iris_best_2.h5\n",
            "\n",
            "Epoch 5: val_loss did not improve from 0.08378\n",
            "\n",
            "Epoch 6: val_loss did not improve from 0.08378\n",
            "\n",
            "Epoch 7: val_loss did not improve from 0.08378\n",
            "\n",
            "Epoch 8: val_loss did not improve from 0.08378\n",
            "\n",
            "Epoch 9: val_loss did not improve from 0.08378\n",
            "\n",
            "Epoch 10: val_loss did not improve from 0.08378\n",
            "\n",
            "Epoch 11: val_loss did not improve from 0.08378\n",
            "\n",
            "Epoch 12: val_loss did not improve from 0.08378\n",
            "\n",
            "Epoch 13: val_loss did not improve from 0.08378\n",
            "\n",
            "Epoch 14: val_loss did not improve from 0.08378\n",
            "\n",
            "Epoch 15: val_loss did not improve from 0.08378\n",
            "\n",
            "Epoch 16: val_loss did not improve from 0.08378\n",
            "\n",
            "Epoch 17: val_loss did not improve from 0.08378\n",
            "\n",
            "Epoch 18: val_loss did not improve from 0.08378\n",
            "\n",
            "Epoch 19: val_loss did not improve from 0.08378\n",
            "\n",
            "Epoch 20: val_loss did not improve from 0.08378\n",
            "\n",
            "Epoch 21: val_loss did not improve from 0.08378\n",
            "\n",
            "Epoch 22: val_loss did not improve from 0.08378\n",
            "\n",
            "Epoch 23: val_loss did not improve from 0.08378\n",
            "\n",
            "Epoch 24: val_loss did not improve from 0.08378\n",
            "\n",
            "Epoch 25: val_loss did not improve from 0.08378\n",
            "\n",
            "Epoch 26: val_loss did not improve from 0.08378\n",
            "\n",
            "Epoch 27: val_loss did not improve from 0.08378\n",
            "\n",
            "Epoch 28: val_loss did not improve from 0.08378\n",
            "\n",
            "Epoch 29: val_loss did not improve from 0.08378\n",
            "\n",
            "Epoch 30: val_loss did not improve from 0.08378\n",
            "\n",
            "Epoch 31: val_loss did not improve from 0.08378\n",
            "\n",
            "Epoch 32: val_loss did not improve from 0.08378\n",
            "\n",
            "Epoch 33: val_loss did not improve from 0.08378\n",
            "\n",
            "Epoch 34: val_loss did not improve from 0.08378\n"
          ]
        }
      ]
    },
    {
      "cell_type": "code",
      "source": [
        "best_model2 = load_model('iris_best_2.h5')\n",
        "best_model2.evaluate(X_test, y_test)"
      ],
      "metadata": {
        "colab": {
          "base_uri": "https://localhost:8080/"
        },
        "id": "d_6hY2sFw89E",
        "outputId": "036db6bc-b765-4bae-97eb-72dcdee7a31f"
      },
      "execution_count": 204,
      "outputs": [
        {
          "output_type": "stream",
          "name": "stdout",
          "text": [
            "313/313 [==============================] - 1s 2ms/step - loss: 0.0749 - accuracy: 0.9795\n"
          ]
        },
        {
          "output_type": "execute_result",
          "data": {
            "text/plain": [
              "[0.07490858435630798, 0.9794999957084656]"
            ]
          },
          "metadata": {},
          "execution_count": 204
        }
      ]
    },
    {
      "cell_type": "code",
      "source": [
        "y_acc1 = hist1.history['accuracy']\n",
        "y_vloss1 = hist1.history['val_loss']\n",
        "xs1 = np.arange(1, len(y_acc1) + 1)\n",
        "\n",
        "y_acc2 = hist2.history['accuracy']\n",
        "y_vloss2 = hist2.history['val_loss']\n",
        "xs2 = np.arange(1, len(y_acc2) + 1)"
      ],
      "metadata": {
        "id": "q8uYqa_GxJ1w"
      },
      "execution_count": 205,
      "outputs": []
    },
    {
      "cell_type": "code",
      "source": [
        "plt.figure(figsize=(20, 8))\n",
        "\n",
        "plt.subplot(121)\n",
        "plt.plot(xs1, y_acc1, label='train.accuracy')\n",
        "plt.plot(xs1, y_vloss1, label='validation loss')\n",
        "plt.legend(), plt.grid()\n",
        "plt.ylim([0,1.2])\n",
        "plt.xlabel('Epoch')\n",
        "plt.title('Without Dropout')\n",
        "\n",
        "plt.subplot(122)\n",
        "plt.plot(xs2, y_acc2, label='train.accuracy')\n",
        "plt.plot(xs2, y_vloss2, label='validation loss')\n",
        "plt.legend(), plt.grid()\n",
        "plt.ylim([0,1.2])\n",
        "plt.xlabel('Epoch')\n",
        "plt.title('Without Dropout')"
      ],
      "metadata": {
        "colab": {
          "base_uri": "https://localhost:8080/",
          "height": 441
        },
        "id": "MbnjFL3pxPAB",
        "outputId": "c548b712-2d44-4c6b-a5ee-7da344913a29"
      },
      "execution_count": 206,
      "outputs": [
        {
          "output_type": "execute_result",
          "data": {
            "text/plain": [
              "Text(0.5, 1.0, 'Without Dropout')"
            ]
          },
          "metadata": {},
          "execution_count": 206
        },
        {
          "output_type": "display_data",
          "data": {
            "text/plain": [
              "<Figure size 1440x576 with 2 Axes>"
            ],
            "image/png": "[encoded data removed]"
          },
          "metadata": {
            "needs_background": "light"
          }
        }
      ]
    },
    {
      "cell_type": "markdown",
      "source": [
        "# MNIST 손글씨 - CNN v1"
      ],
      "metadata": {
        "id": "1uVGoOZvxQWP"
      }
    },
    {
      "cell_type": "code",
      "source": [
        "(X_train, y_train), (X_test, y_test) = mnist.load_data()\n",
        "X_train.shape"
      ],
      "metadata": {
        "colab": {
          "base_uri": "https://localhost:8080/"
        },
        "id": "OK24L0IK3nWh",
        "outputId": "739fd4c6-3d92-497f-aa8b-c6ec8cd3edf6"
      },
      "execution_count": 209,
      "outputs": [
        {
          "output_type": "execute_result",
          "data": {
            "text/plain": [
              "(60000, 28, 28)"
            ]
          },
          "metadata": {},
          "execution_count": 209
        }
      ]
    },
    {
      "cell_type": "code",
      "source": [
        "X_train = X_train.reshape(-1, 28, 28, 1) / 255.\n",
        "X_test = X_test.reshape(-1, 28, 28, 1) / 255.\n",
        "X_train.shape, X_test.shape"
      ],
      "metadata": {
        "colab": {
          "base_uri": "https://localhost:8080/"
        },
        "id": "HH6Yhnhp3pyH",
        "outputId": "96d328d7-dca7-4a81-9c73-3c7cc2fb5edb"
      },
      "execution_count": 211,
      "outputs": [
        {
          "output_type": "execute_result",
          "data": {
            "text/plain": [
              "((60000, 28, 28, 1), (10000, 28, 28, 1))"
            ]
          },
          "metadata": {},
          "execution_count": 211
        }
      ]
    },
    {
      "cell_type": "code",
      "source": [
        "from tensorflow.keras.utils import to_categorical\n",
        "Y_train = to_categorical(y_train)\n",
        "Y_test = to_categorical(y_test)\n",
        "Y_train.shape, Y_test.shape"
      ],
      "metadata": {
        "colab": {
          "base_uri": "https://localhost:8080/"
        },
        "id": "_qT34Fi64AZ4",
        "outputId": "81302a52-12d6-4290-9a18-bd0ffd51c5c4"
      },
      "execution_count": 213,
      "outputs": [
        {
          "output_type": "execute_result",
          "data": {
            "text/plain": [
              "((60000, 10), (10000, 10))"
            ]
          },
          "metadata": {},
          "execution_count": 213
        }
      ]
    },
    {
      "cell_type": "code",
      "source": [
        "from tensorflow.keras.models import Sequential, load_model\n",
        "from tensorflow.keras.layers import Dense, Conv2D, Flatten, Dropout\n",
        "from tensorflow.keras.callbacks import ModelCheckpoint, EarlyStopping"
      ],
      "metadata": {
        "id": "2GDHI-3e4NzA"
      },
      "execution_count": 214,
      "outputs": []
    },
    {
      "cell_type": "code",
      "source": [
        "del model"
      ],
      "metadata": {
        "id": "ulM554Fw7jW5"
      },
      "execution_count": 225,
      "outputs": []
    },
    {
      "cell_type": "code",
      "source": [
        "model = Sequential([\n",
        "    Conv2D(32, kernel_size=(3,3), input_shape=(28, 28, 1), activation='relu'),\n",
        "    Conv2D(64, (3, 3), activation='relu'),\n",
        "    Flatten(),\n",
        "    Dense(512, activation='relu'),\n",
        "    Dense(10, activation='softmax')\n",
        "])\n",
        "\n",
        "model.summary()"
      ],
      "metadata": {
        "colab": {
          "base_uri": "https://localhost:8080/"
        },
        "id": "nZZTH3i44mta",
        "outputId": "5eeea1d7-468a-4974-a757-30c8d92a5c02"
      },
      "execution_count": 226,
      "outputs": [
        {
          "output_type": "stream",
          "name": "stdout",
          "text": [
            "Model: \"sequential_22\"\n",
            "_________________________________________________________________\n",
            " Layer (type)                Output Shape              Param #   \n",
            "=================================================================\n",
            " conv2d_4 (Conv2D)           (None, 26, 26, 32)        320       \n",
            "                                                                 \n",
            " conv2d_5 (Conv2D)           (None, 24, 24, 64)        18496     \n",
            "                                                                 \n",
            " flatten_2 (Flatten)         (None, 36864)             0         \n",
            "                                                                 \n",
            " dense_91 (Dense)            (None, 512)               18874880  \n",
            "                                                                 \n",
            " dense_92 (Dense)            (None, 10)                5130      \n",
            "                                                                 \n",
            "=================================================================\n",
            "Total params: 18,898,826\n",
            "Trainable params: 18,898,826\n",
            "Non-trainable params: 0\n",
            "_________________________________________________________________\n"
          ]
        }
      ]
    },
    {
      "cell_type": "code",
      "source": [
        "model.compile('adam', 'categorical_crossentropy', ['accuracy'])"
      ],
      "metadata": {
        "id": "XvPGr2nl6WQB"
      },
      "execution_count": 227,
      "outputs": []
    },
    {
      "cell_type": "code",
      "source": [
        "model_path = 'best_mnist_cnn_v1.h5'\n",
        "mc = ModelCheckpoint(model_path,  verbose=1, save_best_only=True)\n",
        "es = EarlyStopping(patience = 10)"
      ],
      "metadata": {
        "id": "VFxsCtzS6jAJ"
      },
      "execution_count": 228,
      "outputs": []
    },
    {
      "cell_type": "code",
      "source": [
        "hist1 = model.fit(X_train, Y_train , validation_split=0.2,\n",
        "                  epochs=1000, batch_size=200, verbose=0,\n",
        "                  callbacks = [mc, es])"
      ],
      "metadata": {
        "colab": {
          "base_uri": "https://localhost:8080/"
        },
        "id": "8V1NPSYM6xZv",
        "outputId": "ae4605d4-c993-4fcd-aa35-00d280cdbc3d"
      },
      "execution_count": 229,
      "outputs": [
        {
          "output_type": "stream",
          "name": "stdout",
          "text": [
            "\n",
            "Epoch 1: val_loss improved from inf to 0.29142, saving model to best_mnist_cnn_v1.h5\n",
            "\n",
            "Epoch 2: val_loss improved from 0.29142 to 0.19637, saving model to best_mnist_cnn_v1.h5\n",
            "\n",
            "Epoch 3: val_loss improved from 0.19637 to 0.16768, saving model to best_mnist_cnn_v1.h5\n",
            "\n",
            "Epoch 4: val_loss improved from 0.16768 to 0.12859, saving model to best_mnist_cnn_v1.h5\n",
            "\n",
            "Epoch 5: val_loss improved from 0.12859 to 0.11760, saving model to best_mnist_cnn_v1.h5\n",
            "\n",
            "Epoch 6: val_loss improved from 0.11760 to 0.09669, saving model to best_mnist_cnn_v1.h5\n",
            "\n",
            "Epoch 7: val_loss improved from 0.09669 to 0.09447, saving model to best_mnist_cnn_v1.h5\n",
            "\n",
            "Epoch 8: val_loss improved from 0.09447 to 0.09372, saving model to best_mnist_cnn_v1.h5\n",
            "\n",
            "Epoch 9: val_loss did not improve from 0.09372\n",
            "\n",
            "Epoch 10: val_loss did not improve from 0.09372\n",
            "\n",
            "Epoch 11: val_loss did not improve from 0.09372\n",
            "\n",
            "Epoch 12: val_loss improved from 0.09372 to 0.09159, saving model to best_mnist_cnn_v1.h5\n",
            "\n",
            "Epoch 13: val_loss did not improve from 0.09159\n",
            "\n",
            "Epoch 14: val_loss improved from 0.09159 to 0.08875, saving model to best_mnist_cnn_v1.h5\n",
            "\n",
            "Epoch 15: val_loss did not improve from 0.08875\n",
            "\n",
            "Epoch 16: val_loss improved from 0.08875 to 0.08646, saving model to best_mnist_cnn_v1.h5\n",
            "\n",
            "Epoch 17: val_loss did not improve from 0.08646\n",
            "\n",
            "Epoch 18: val_loss did not improve from 0.08646\n",
            "\n",
            "Epoch 19: val_loss did not improve from 0.08646\n",
            "\n",
            "Epoch 20: val_loss did not improve from 0.08646\n",
            "\n",
            "Epoch 21: val_loss did not improve from 0.08646\n",
            "\n",
            "Epoch 22: val_loss did not improve from 0.08646\n",
            "\n",
            "Epoch 23: val_loss did not improve from 0.08646\n",
            "\n",
            "Epoch 24: val_loss did not improve from 0.08646\n",
            "\n",
            "Epoch 25: val_loss did not improve from 0.08646\n",
            "\n",
            "Epoch 26: val_loss did not improve from 0.08646\n"
          ]
        }
      ]
    },
    {
      "cell_type": "code",
      "source": [
        "best_model = load_model(model_path)\n",
        "best_model.evaluate(X_test,  Y_test)"
      ],
      "metadata": {
        "colab": {
          "base_uri": "https://localhost:8080/"
        },
        "id": "L5Kfqzgs67aY",
        "outputId": "f7ab74a8-d12f-48ef-85fc-4c2cdbeea7b7"
      },
      "execution_count": 232,
      "outputs": [
        {
          "output_type": "stream",
          "name": "stdout",
          "text": [
            "313/313 [==============================] - 1s 4ms/step - loss: 0.0795 - accuracy: 0.9789\n"
          ]
        },
        {
          "output_type": "execute_result",
          "data": {
            "text/plain": [
              "[0.0794997289776802, 0.9789000153541565]"
            ]
          },
          "metadata": {},
          "execution_count": 232
        }
      ]
    },
    {
      "cell_type": "code",
      "source": [
        "y_acc1 = hist1.history['accuracy']\n",
        "y_vloss1 = hist1.history['val_loss']\n",
        "xs1 = np.arange(1, len(y_acc1) + 1)\n",
        "plt.figure(figsize=(20, 8))\n",
        "plt.plot(xs1, y_acc1, label='train.accuracy')\n",
        "plt.plot(xs1, y_vloss1, label='validation loss')\n",
        "plt.legend(), plt.grid()\n",
        "plt.ylim([0,1.2])\n",
        "plt.xlabel('Epoch')\n",
        "plt.show()"
      ],
      "metadata": {
        "colab": {
          "base_uri": "https://localhost:8080/",
          "height": 414
        },
        "id": "yfhWHXUh7tb-",
        "outputId": "73f3f78b-6dc6-4647-d57b-2c2cb3de79c9"
      },
      "execution_count": 233,
      "outputs": [
        {
          "output_type": "display_data",
          "data": {
            "text/plain": [
              "<Figure size 1440x576 with 1 Axes>"
            ],
            "image/png": "[encoded data removed]"
          },
          "metadata": {
            "needs_background": "light"
          }
        }
      ]
    },
    {
      "cell_type": "markdown",
      "source": [
        "# MNIST v1까지 완료!"
      ],
      "metadata": {
        "id": "rny-lmovKaFA"
      }
    },
    {
      "cell_type": "code",
      "source": [],
      "metadata": {
        "id": "z6VRd7YoKmem"
      },
      "execution_count": null,
      "outputs": []
    }
  ]
}