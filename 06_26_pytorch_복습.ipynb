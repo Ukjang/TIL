{
  "nbformat": 4,
  "nbformat_minor": 0,
  "metadata": {
    "colab": {
      "name": "06_26_pytorch 복습.ipynb",
      "provenance": []
    },
    "kernelspec": {
      "name": "python3",
      "display_name": "Python 3"
    },
    "language_info": {
      "name": "python"
    }
  },
  "cells": [
    {
      "cell_type": "code",
      "execution_count": 115,
      "metadata": {
        "id": "6QOjkWAcBcJF"
      },
      "outputs": [],
      "source": [
        "import torch"
      ]
    },
    {
      "cell_type": "code",
      "source": [
        "from torch.utils.data import Dataset, DataLoader"
      ],
      "metadata": {
        "id": "QUGYe5EfBvCT"
      },
      "execution_count": 116,
      "outputs": []
    },
    {
      "cell_type": "code",
      "source": [
        "import torchvision.transforms as transforms\n",
        "from torchvision import datasets"
      ],
      "metadata": {
        "id": "ggNOPiK8B1EW"
      },
      "execution_count": 117,
      "outputs": []
    },
    {
      "cell_type": "code",
      "source": [
        "mnist_transform = transforms.Compose([transforms.ToTensor(),\n",
        "                                      transforms.Normalize(mean=(0.5,), std=(1.0))])"
      ],
      "metadata": {
        "id": "dKkkZ3nmB6g7"
      },
      "execution_count": 118,
      "outputs": []
    },
    {
      "cell_type": "code",
      "source": [
        "trainset = datasets.MNIST(root='/content/',\n",
        "                          train=True, download=True,\n",
        "                          transform=mnist_transform)\n",
        "testset = datasets.MNIST(root='/contnet/',\n",
        "                         train=False, download=True,\n",
        "                         transform=mnist_transform)"
      ],
      "metadata": {
        "id": "avsFkIYqCIvu"
      },
      "execution_count": 119,
      "outputs": []
    },
    {
      "cell_type": "code",
      "source": [
        "# num_workers는 사용하는 코어의 수 정도로 생각. 일반적으로 최대 코어의 절반\n",
        "train_loader = DataLoader(trainset, batch_size=8, shuffle=True, num_workers=2)\n",
        "test_loader = DataLoader(testset, batch_size=8, shuffle=False, num_workers=12)"
      ],
      "metadata": {
        "colab": {
          "base_uri": "https://localhost:8080/"
        },
        "id": "Q9fxxRmYCYxq",
        "outputId": "20c53207-fa64-49a5-a803-336ce5d34e7d"
      },
      "execution_count": 120,
      "outputs": [
        {
          "output_type": "stream",
          "name": "stderr",
          "text": [
            "/usr/local/lib/python3.7/dist-packages/torch/utils/data/dataloader.py:490: UserWarning: This DataLoader will create 12 worker processes in total. Our suggested max number of worker in current system is 2, which is smaller than what this DataLoader is going to create. Please be aware that excessive worker creation might get DataLoader running slow or even freeze, lower the worker number to avoid potential slowness/freeze if necessary.\n",
            "  cpuset_checked))\n"
          ]
        }
      ]
    },
    {
      "cell_type": "code",
      "source": [
        "dataiter = iter(train_loader)\n",
        "images, labels = dataiter.next()\n",
        "images.shape, labels.shape"
      ],
      "metadata": {
        "colab": {
          "base_uri": "https://localhost:8080/"
        },
        "id": "FEsRly7aC_Ga",
        "outputId": "fc6b6f60-51de-4b91-fe3a-1008bcecc8b1"
      },
      "execution_count": 121,
      "outputs": [
        {
          "output_type": "execute_result",
          "data": {
            "text/plain": [
              "(torch.Size([8, 1, 28, 28]), torch.Size([8]))"
            ]
          },
          "metadata": {},
          "execution_count": 121
        }
      ]
    },
    {
      "cell_type": "code",
      "source": [
        "import torch.nn as nn"
      ],
      "metadata": {
        "id": "t4mM2nB0DCtx"
      },
      "execution_count": 122,
      "outputs": []
    },
    {
      "cell_type": "code",
      "source": [
        "input = torch.randn(20, 16, 50, 100)\n",
        "print(input.size())\n"
      ],
      "metadata": {
        "colab": {
          "base_uri": "https://localhost:8080/"
        },
        "id": "lU2CfLKhDJQx",
        "outputId": "5eab358d-e123-4ea2-dd16-5ad23f040102"
      },
      "execution_count": 123,
      "outputs": [
        {
          "output_type": "stream",
          "name": "stdout",
          "text": [
            "torch.Size([20, 16, 50, 100])\n"
          ]
        }
      ]
    },
    {
      "cell_type": "code",
      "source": [
        "# dilation\n",
        "# https://zzsza.github.io/data/2018/02/23/introduction-convolution/\n",
        "m = nn.Conv2d(16, 33, 3, stride=2)\n",
        "m = nn.Conv2d(16, 33, (3,5), stride=(2,1), padding=(4,2))\n",
        "m = nn.Conv2d(16, 33, (3,5), stride=(2,1), padding=(4,2), dilation=(3,1))"
      ],
      "metadata": {
        "id": "Gac4kUFnDObd"
      },
      "execution_count": 124,
      "outputs": []
    },
    {
      "cell_type": "code",
      "source": [
        "output = m(input)\n",
        "print(output.size())"
      ],
      "metadata": {
        "colab": {
          "base_uri": "https://localhost:8080/"
        },
        "id": "FKZhFfG0EZLH",
        "outputId": "64a46353-0f2a-41fc-98ae-67cc71205ed8"
      },
      "execution_count": 125,
      "outputs": [
        {
          "output_type": "stream",
          "name": "stdout",
          "text": [
            "torch.Size([20, 33, 26, 100])\n"
          ]
        }
      ]
    },
    {
      "cell_type": "code",
      "source": [
        "nn.Conv2d(in_channels=1, out_channels=20, kernel_size=5, stride=1)"
      ],
      "metadata": {
        "colab": {
          "base_uri": "https://localhost:8080/"
        },
        "id": "U7Uoy1BOEceL",
        "outputId": "ee0fd475-27ee-401c-b184-d7b8662a0a6d"
      },
      "execution_count": 126,
      "outputs": [
        {
          "output_type": "execute_result",
          "data": {
            "text/plain": [
              "Conv2d(1, 20, kernel_size=(5, 5), stride=(1, 1))"
            ]
          },
          "metadata": {},
          "execution_count": 126
        }
      ]
    },
    {
      "cell_type": "code",
      "source": [
        "layer = nn.Conv2d(1, 20, 5, 1).to(torch.device('cpu'))\n",
        "layer"
      ],
      "metadata": {
        "colab": {
          "base_uri": "https://localhost:8080/"
        },
        "id": "7iFwumkhEtUI",
        "outputId": "7b8b7335-00f3-4307-8bfd-970310766231"
      },
      "execution_count": 127,
      "outputs": [
        {
          "output_type": "execute_result",
          "data": {
            "text/plain": [
              "Conv2d(1, 20, kernel_size=(5, 5), stride=(1, 1))"
            ]
          },
          "metadata": {},
          "execution_count": 127
        }
      ]
    },
    {
      "cell_type": "code",
      "source": [
        "weight = layer.weight\n",
        "weight.shape"
      ],
      "metadata": {
        "colab": {
          "base_uri": "https://localhost:8080/"
        },
        "id": "2TMLPcDjExk8",
        "outputId": "c4882446-922f-4aa8-fad4-711bd0c64407"
      },
      "execution_count": 128,
      "outputs": [
        {
          "output_type": "execute_result",
          "data": {
            "text/plain": [
              "torch.Size([20, 1, 5, 5])"
            ]
          },
          "metadata": {},
          "execution_count": 128
        }
      ]
    },
    {
      "cell_type": "code",
      "source": [
        "input_data = torch.unsqueeze(images[0], dim=0)\n",
        "print(input_data.size())\n",
        "output_data = layer(input_data)\n",
        "output = output_data.data\n",
        "output_arr = output.numpy()\n",
        "output_arr.shape"
      ],
      "metadata": {
        "colab": {
          "base_uri": "https://localhost:8080/"
        },
        "id": "8_oaAlrtFLPr",
        "outputId": "b74b7815-e193-4e6b-bd79-b9b87c6b2ed4"
      },
      "execution_count": 129,
      "outputs": [
        {
          "output_type": "stream",
          "name": "stdout",
          "text": [
            "torch.Size([1, 1, 28, 28])\n"
          ]
        },
        {
          "output_type": "execute_result",
          "data": {
            "text/plain": [
              "(1, 20, 24, 24)"
            ]
          },
          "metadata": {},
          "execution_count": 129
        }
      ]
    },
    {
      "cell_type": "code",
      "source": [
        "import torch.nn.functional as F\n",
        "pool = F.max_pool2d(output, 2, 2)"
      ],
      "metadata": {
        "id": "XE058qZOE94L"
      },
      "execution_count": 130,
      "outputs": []
    },
    {
      "cell_type": "code",
      "source": [
        "pool_arr = pool.numpy()\n",
        "pool_arr.shape"
      ],
      "metadata": {
        "colab": {
          "base_uri": "https://localhost:8080/"
        },
        "id": "v1ll0f9YFkGY",
        "outputId": "6e2eb0e5-b835-46b0-afc6-2e9a5117829c"
      },
      "execution_count": 131,
      "outputs": [
        {
          "output_type": "execute_result",
          "data": {
            "text/plain": [
              "(1, 20, 12, 12)"
            ]
          },
          "metadata": {},
          "execution_count": 131
        }
      ]
    },
    {
      "cell_type": "code",
      "source": [
        "input_image = torch.squeeze(images[0])\n",
        "flatten = input_image.view(1, 28*28)\n",
        "flatten.shape"
      ],
      "metadata": {
        "colab": {
          "base_uri": "https://localhost:8080/"
        },
        "id": "zCEXythJFnUA",
        "outputId": "3e7f2648-0b90-4aae-a591-9bb3a56899e9"
      },
      "execution_count": 132,
      "outputs": [
        {
          "output_type": "execute_result",
          "data": {
            "text/plain": [
              "torch.Size([1, 784])"
            ]
          },
          "metadata": {},
          "execution_count": 132
        }
      ]
    },
    {
      "cell_type": "code",
      "source": [
        "lin = nn.Linear(784, 10)(flatten)\n",
        "lin.shape"
      ],
      "metadata": {
        "colab": {
          "base_uri": "https://localhost:8080/"
        },
        "id": "ObTA7igSFskM",
        "outputId": "60108568-5b2b-4b50-fa71-d866f4bf4eec"
      },
      "execution_count": 133,
      "outputs": [
        {
          "output_type": "execute_result",
          "data": {
            "text/plain": [
              "torch.Size([1, 10])"
            ]
          },
          "metadata": {},
          "execution_count": 133
        }
      ]
    },
    {
      "cell_type": "code",
      "source": [
        "lin"
      ],
      "metadata": {
        "colab": {
          "base_uri": "https://localhost:8080/"
        },
        "id": "glemgrmgF_7Y",
        "outputId": "2807a133-5243-4684-bd37-c3ab83eb00ef"
      },
      "execution_count": 134,
      "outputs": [
        {
          "output_type": "execute_result",
          "data": {
            "text/plain": [
              "tensor([[ 0.0812,  0.4804,  0.0150,  0.0322,  0.3545, -0.1267,  0.4493,  0.3788,\n",
              "         -0.6019, -0.1572]], grad_fn=<AddmmBackward0>)"
            ]
          },
          "metadata": {},
          "execution_count": 134
        }
      ]
    },
    {
      "cell_type": "code",
      "source": [
        "import matplotlib.pyplot as plt\n",
        "plt.imshow(lin.detach().numpy(), 'jet')\n",
        "plt.colorbar()\n",
        "plt.show()"
      ],
      "metadata": {
        "colab": {
          "base_uri": "https://localhost:8080/",
          "height": 254
        },
        "id": "pYx8DJUwGAT8",
        "outputId": "d2408831-13ca-4670-8603-f6a54f014ffe"
      },
      "execution_count": 135,
      "outputs": [
        {
          "output_type": "display_data",
          "data": {
            "text/plain": [
              "<Figure size 432x288 with 2 Axes>"
            ],
            "image/png": "[encoded data removed]"
          },
          "metadata": {
            "needs_background": "light"
          }
        }
      ]
    },
    {
      "cell_type": "code",
      "source": [
        "with torch.no_grad():\n",
        "    flatten = input_image.view(1, 28*28)\n",
        "    lin = nn.Linear(784, 10)(flatten)\n",
        "    softmax = F.softmax(lin, dim=1)\n",
        "softmax"
      ],
      "metadata": {
        "colab": {
          "base_uri": "https://localhost:8080/"
        },
        "id": "4A8vXKveGFHi",
        "outputId": "5423a167-46b8-4517-a57c-42bd1ad09d39"
      },
      "execution_count": 136,
      "outputs": [
        {
          "output_type": "execute_result",
          "data": {
            "text/plain": [
              "tensor([[0.0837, 0.1374, 0.0611, 0.0832, 0.1256, 0.0840, 0.1190, 0.0956, 0.1266,\n",
              "         0.0838]])"
            ]
          },
          "metadata": {},
          "execution_count": 136
        }
      ]
    },
    {
      "cell_type": "code",
      "source": [
        "import numpy as np\n",
        "np.sum(softmax.numpy())"
      ],
      "metadata": {
        "colab": {
          "base_uri": "https://localhost:8080/"
        },
        "id": "T_rDFNdvGUw0",
        "outputId": "c0511518-40db-414d-c4b9-2f776ab6243e"
      },
      "execution_count": 137,
      "outputs": [
        {
          "output_type": "execute_result",
          "data": {
            "text/plain": [
              "0.9999999"
            ]
          },
          "metadata": {},
          "execution_count": 137
        }
      ]
    },
    {
      "cell_type": "code",
      "source": [
        "device = torch.device('cuda' if torch.cuda.is_available() else 'cpu')\n",
        "inputs = torch.randn(4, 3, 28, 28).to(device)\n",
        "inputs.shape"
      ],
      "metadata": {
        "colab": {
          "base_uri": "https://localhost:8080/"
        },
        "id": "tqWiXx8YGW4y",
        "outputId": "26ca22a3-6da4-47e3-c674-e3e94db10e1c"
      },
      "execution_count": 138,
      "outputs": [
        {
          "output_type": "execute_result",
          "data": {
            "text/plain": [
              "torch.Size([4, 3, 28, 28])"
            ]
          },
          "metadata": {},
          "execution_count": 138
        }
      ]
    },
    {
      "cell_type": "code",
      "source": [
        "layer = nn.Conv2d(3, 20, 5, 1).to(device)\n",
        "output = F.relu(layer(inputs))\n",
        "output.shape"
      ],
      "metadata": {
        "colab": {
          "base_uri": "https://localhost:8080/"
        },
        "id": "WyGiWb8PGu_Y",
        "outputId": "b185a954-b705-4373-8661-1e52eaf5b496"
      },
      "execution_count": 139,
      "outputs": [
        {
          "output_type": "execute_result",
          "data": {
            "text/plain": [
              "torch.Size([4, 20, 24, 24])"
            ]
          },
          "metadata": {},
          "execution_count": 139
        }
      ]
    },
    {
      "cell_type": "code",
      "source": [
        "class Model(nn.Module):\n",
        "    def __init__(self, inputs):\n",
        "        super(Model, self).__init__()\n",
        "        self.layer = nn.Linear(inputs, 1)\n",
        "        self.activation = nn.Sigmoid()\n",
        "        # 정의 부분에서 F.sigmoid는 input 오류가 나옴\n",
        "\n",
        "    def forward(self, x):\n",
        "        x = self.layer(x)\n",
        "        x = self.activation(x)\n",
        "        return x"
      ],
      "metadata": {
        "id": "HHoTtO8eG9xA"
      },
      "execution_count": 140,
      "outputs": []
    },
    {
      "cell_type": "code",
      "source": [
        "model = Model(1)\n",
        "print(list(model.children()))\n",
        "print(list(model.modules()))"
      ],
      "metadata": {
        "colab": {
          "base_uri": "https://localhost:8080/"
        },
        "id": "LZnn_j0sHke6",
        "outputId": "e74d8d64-1770-4a78-c5a0-72fade97fef9"
      },
      "execution_count": 141,
      "outputs": [
        {
          "output_type": "stream",
          "name": "stdout",
          "text": [
            "[Linear(in_features=1, out_features=1, bias=True), Sigmoid()]\n",
            "[Model(\n",
            "  (layer): Linear(in_features=1, out_features=1, bias=True)\n",
            "  (activation): Sigmoid()\n",
            "), Linear(in_features=1, out_features=1, bias=True), Sigmoid()]\n"
          ]
        }
      ]
    },
    {
      "cell_type": "code",
      "source": [
        "class Model(nn.Module):\n",
        "    def __init__(self):\n",
        "        super(Model, self).__init__()\n",
        "        self.layer1 = nn.Sequential(\n",
        "            nn.Conv2d(3, 64, 5),\n",
        "            nn.ReLU(inplace=True),\n",
        "            nn.MaxPool2d(2)\n",
        "        )\n",
        "\n",
        "        self.layer2 = nn.Sequential(\n",
        "            nn.Conv2d(64, 30, 5),\n",
        "            nn.ReLU(inplace=True),\n",
        "            nn.MaxPool2d(2)\n",
        "            )\n",
        "        \n",
        "        self.layer3 = nn.Sequential(\n",
        "            nn.Linear(30*5*5, 10, bias=True),\n",
        "            nn.ReLU(inplace=True)\n",
        "        )\n",
        "        \n",
        "        def forward(self, x):\n",
        "            x = self.layer1(x)\n",
        "            x = self.layer2(x)\n",
        "            x = x.view(x.shape[0], -1)\n",
        "            x = self.layer3(x)\n",
        "            return x"
      ],
      "metadata": {
        "id": "_JsY1-tdHpWt"
      },
      "execution_count": 142,
      "outputs": []
    },
    {
      "cell_type": "code",
      "source": [
        "model = Model()\n",
        "print(list(model.children()))\n",
        "print(list(model.modules()))"
      ],
      "metadata": {
        "colab": {
          "base_uri": "https://localhost:8080/"
        },
        "id": "XbR5E6VbJJVn",
        "outputId": "a88673b8-3a46-4ca0-cd6c-0c8d3b59faff"
      },
      "execution_count": 143,
      "outputs": [
        {
          "output_type": "stream",
          "name": "stdout",
          "text": [
            "[Sequential(\n",
            "  (0): Conv2d(3, 64, kernel_size=(5, 5), stride=(1, 1))\n",
            "  (1): ReLU(inplace=True)\n",
            "  (2): MaxPool2d(kernel_size=2, stride=2, padding=0, dilation=1, ceil_mode=False)\n",
            "), Sequential(\n",
            "  (0): Conv2d(64, 30, kernel_size=(5, 5), stride=(1, 1))\n",
            "  (1): ReLU(inplace=True)\n",
            "  (2): MaxPool2d(kernel_size=2, stride=2, padding=0, dilation=1, ceil_mode=False)\n",
            "), Sequential(\n",
            "  (0): Linear(in_features=750, out_features=10, bias=True)\n",
            "  (1): ReLU(inplace=True)\n",
            ")]\n",
            "[Model(\n",
            "  (layer1): Sequential(\n",
            "    (0): Conv2d(3, 64, kernel_size=(5, 5), stride=(1, 1))\n",
            "    (1): ReLU(inplace=True)\n",
            "    (2): MaxPool2d(kernel_size=2, stride=2, padding=0, dilation=1, ceil_mode=False)\n",
            "  )\n",
            "  (layer2): Sequential(\n",
            "    (0): Conv2d(64, 30, kernel_size=(5, 5), stride=(1, 1))\n",
            "    (1): ReLU(inplace=True)\n",
            "    (2): MaxPool2d(kernel_size=2, stride=2, padding=0, dilation=1, ceil_mode=False)\n",
            "  )\n",
            "  (layer3): Sequential(\n",
            "    (0): Linear(in_features=750, out_features=10, bias=True)\n",
            "    (1): ReLU(inplace=True)\n",
            "  )\n",
            "), Sequential(\n",
            "  (0): Conv2d(3, 64, kernel_size=(5, 5), stride=(1, 1))\n",
            "  (1): ReLU(inplace=True)\n",
            "  (2): MaxPool2d(kernel_size=2, stride=2, padding=0, dilation=1, ceil_mode=False)\n",
            "), Conv2d(3, 64, kernel_size=(5, 5), stride=(1, 1)), ReLU(inplace=True), MaxPool2d(kernel_size=2, stride=2, padding=0, dilation=1, ceil_mode=False), Sequential(\n",
            "  (0): Conv2d(64, 30, kernel_size=(5, 5), stride=(1, 1))\n",
            "  (1): ReLU(inplace=True)\n",
            "  (2): MaxPool2d(kernel_size=2, stride=2, padding=0, dilation=1, ceil_mode=False)\n",
            "), Conv2d(64, 30, kernel_size=(5, 5), stride=(1, 1)), ReLU(inplace=True), MaxPool2d(kernel_size=2, stride=2, padding=0, dilation=1, ceil_mode=False), Sequential(\n",
            "  (0): Linear(in_features=750, out_features=10, bias=True)\n",
            "  (1): ReLU(inplace=True)\n",
            "), Linear(in_features=750, out_features=10, bias=True), ReLU(inplace=True)]\n"
          ]
        }
      ]
    },
    {
      "cell_type": "code",
      "source": [
        "criterion = nn.MSELoss()\n",
        "criterion = nn.CrossEntropyLoss()"
      ],
      "metadata": {
        "id": "GvfBGNg4JQRj"
      },
      "execution_count": 144,
      "outputs": []
    },
    {
      "cell_type": "code",
      "source": [
        "!pip install torchmetrics"
      ],
      "metadata": {
        "colab": {
          "base_uri": "https://localhost:8080/"
        },
        "id": "Te2uX3fwJfMZ",
        "outputId": "6339f620-b52d-45fa-b6a8-bad6dc3e28de"
      },
      "execution_count": 145,
      "outputs": [
        {
          "output_type": "stream",
          "name": "stdout",
          "text": [
            "Looking in indexes: https://pypi.org/simple, https://us-python.pkg.dev/colab-wheels/public/simple/\n",
            "Requirement already satisfied: torchmetrics in /usr/local/lib/python3.7/dist-packages (0.9.1)\n",
            "Requirement already satisfied: typing-extensions in /usr/local/lib/python3.7/dist-packages (from torchmetrics) (4.1.1)\n",
            "Requirement already satisfied: torch>=1.3.1 in /usr/local/lib/python3.7/dist-packages (from torchmetrics) (1.11.0+cu113)\n",
            "Requirement already satisfied: numpy>=1.17.2 in /usr/local/lib/python3.7/dist-packages (from torchmetrics) (1.21.6)\n",
            "Requirement already satisfied: packaging in /usr/local/lib/python3.7/dist-packages (from torchmetrics) (21.3)\n",
            "Requirement already satisfied: pyparsing!=3.0.5,>=2.0.2 in /usr/local/lib/python3.7/dist-packages (from packaging->torchmetrics) (3.0.9)\n"
          ]
        }
      ]
    },
    {
      "cell_type": "code",
      "source": [
        "X = torch.randn(200, 1) * 10\n",
        "y = X + 3 * torch.randn(200, 1)\n",
        "plt.scatter(X.numpy(), y.numpy())\n",
        "plt.xlabel('X')\n",
        "plt.ylabel('y')\n",
        "plt.show()"
      ],
      "metadata": {
        "colab": {
          "base_uri": "https://localhost:8080/",
          "height": 279
        },
        "id": "NZ_KROX_Jjo_",
        "outputId": "effc71c8-9e85-456b-8eda-2530c498bf23"
      },
      "execution_count": 146,
      "outputs": [
        {
          "output_type": "display_data",
          "data": {
            "text/plain": [
              "<Figure size 432x288 with 1 Axes>"
            ],
            "image/png": "[encoded data removed]"
          },
          "metadata": {
            "needs_background": "light"
          }
        }
      ]
    },
    {
      "cell_type": "code",
      "source": [
        "class LinearRegressionModel(nn.Module):\n",
        "    def __init__(self):\n",
        "        super(LinearRegressionModel, self).__init__()\n",
        "        self.linear = nn.Linear(1,1)\n",
        "    \n",
        "    def forward(self, x):\n",
        "        pred = self.linear(x)\n",
        "        return pred"
      ],
      "metadata": {
        "id": "r1cjkclfJ2b0"
      },
      "execution_count": 147,
      "outputs": []
    },
    {
      "cell_type": "code",
      "source": [
        "model = LinearRegressionModel()\n",
        "print(model)\n",
        "print(list(model.parameters()))"
      ],
      "metadata": {
        "colab": {
          "base_uri": "https://localhost:8080/"
        },
        "id": "jzdc_uxgKNAv",
        "outputId": "f4bb75ea-5128-415a-e8e2-437fe9cc71cc"
      },
      "execution_count": 148,
      "outputs": [
        {
          "output_type": "stream",
          "name": "stdout",
          "text": [
            "LinearRegressionModel(\n",
            "  (linear): Linear(in_features=1, out_features=1, bias=True)\n",
            ")\n",
            "[Parameter containing:\n",
            "tensor([[-0.5758]], requires_grad=True), Parameter containing:\n",
            "tensor([-0.5267], requires_grad=True)]\n"
          ]
        }
      ]
    },
    {
      "cell_type": "code",
      "source": [
        "import torch.optim as optim\n",
        "\n",
        "criterion= nn.MSELoss()\n",
        "optimizer = optim.SGD(model.parameters(), lr = 0.001)"
      ],
      "metadata": {
        "id": "QSPtJ-RwKO2G"
      },
      "execution_count": 149,
      "outputs": []
    },
    {
      "cell_type": "code",
      "source": [
        "epochs = 100\n",
        "losses = []\n",
        "\n",
        "for epoch in range(epochs):\n",
        "    optimizer.zero_grad()\n",
        "\n",
        "    y_pred = model(X)\n",
        "    loss = criterion(y_pred, y)\n",
        "    losses.append(loss.item())\n",
        "    loss.backward()\n",
        "\n",
        "    optimizer.step()"
      ],
      "metadata": {
        "id": "ZkBFXq1JKYAC"
      },
      "execution_count": 150,
      "outputs": []
    },
    {
      "cell_type": "code",
      "source": [
        "plt.plot(range(epochs), losses)\n",
        "plt.ylabel('Loss')\n",
        "plt.xlabel('Epoch')\n",
        "plt.show()"
      ],
      "metadata": {
        "colab": {
          "base_uri": "https://localhost:8080/",
          "height": 279
        },
        "id": "ZiJ5Nv73Kp2L",
        "outputId": "1c827bfe-bf2f-4402-a72a-16a49836c28b"
      },
      "execution_count": 151,
      "outputs": [
        {
          "output_type": "display_data",
          "data": {
            "text/plain": [
              "<Figure size 432x288 with 1 Axes>"
            ],
            "image/png": "[encoded data removed]"
          },
          "metadata": {
            "needs_background": "light"
          }
        }
      ]
    },
    {
      "cell_type": "code",
      "source": [
        "transform = transforms.Compose([transforms.ToTensor(),\n",
        "                               transforms.Normalize((0.5,), (0.5,))])"
      ],
      "metadata": {
        "id": "jXJxwRPhK1-s"
      },
      "execution_count": 152,
      "outputs": []
    },
    {
      "cell_type": "code",
      "source": [
        "trainset = datasets.FashionMNIST(root='/content/',\n",
        "                                 train=True, download=True,\n",
        "                                 transform=transform)\n",
        "testset = datasets.FashionMNIST(root='/content/',\n",
        "                                train=False, download=True,\n",
        "                                transform=transform)"
      ],
      "metadata": {
        "id": "ep3h21d5Lbcn"
      },
      "execution_count": 153,
      "outputs": []
    },
    {
      "cell_type": "code",
      "source": [
        "train_loader = DataLoader(trainset, batch_size=128, shuffle=True, num_workers=2)\n",
        "teset_loader = DataLoader(testset, batch_size=128, shuffle=False, num_workers=2)\n"
      ],
      "metadata": {
        "id": "rsS6SY3vL0Tp"
      },
      "execution_count": 154,
      "outputs": []
    },
    {
      "cell_type": "code",
      "source": [
        "images , labels = next(iter(train_loader))\n",
        "images.shape, labels.shape"
      ],
      "metadata": {
        "colab": {
          "base_uri": "https://localhost:8080/"
        },
        "id": "56qtYjXKMNk5",
        "outputId": "8b598ea9-212f-4efd-e039-e5a57b42856b"
      },
      "execution_count": 155,
      "outputs": [
        {
          "output_type": "execute_result",
          "data": {
            "text/plain": [
              "(torch.Size([128, 1, 28, 28]), torch.Size([128]))"
            ]
          },
          "metadata": {},
          "execution_count": 155
        }
      ]
    },
    {
      "cell_type": "code",
      "source": [
        "labels_map = {\n",
        "    0: 'T-Shirt',\n",
        "    1: 'Trouser',\n",
        "    2: 'Pullover',\n",
        "    3: 'Dress',\n",
        "    4: 'Coat',\n",
        "    5: 'Sandal',\n",
        "    6: 'Shirt',\n",
        "    7: 'Sneaker',\n",
        "    8: 'Bag',\n",
        "    9: 'Ankle Boot'\n",
        "}\n",
        "\n",
        "figure = plt.figure(figsize=(12, 12))\n",
        "cols, rows = 4, 4\n",
        "for i in range(1, cols * rows + 1):\n",
        "    image = images[i].squeeze()\n",
        "    label_idx = labels[i].item()\n",
        "    label = labels_map[label_idx]\n",
        "\n",
        "    figure.add_subplot(rows, cols, i)\n",
        "    plt.title(label)\n",
        "    plt.axis('off')\n",
        "    plt.imshow(image, cmap='gray')\n",
        "\n",
        "plt.show()"
      ],
      "metadata": {
        "colab": {
          "base_uri": "https://localhost:8080/",
          "height": 699
        },
        "id": "aVntmhjKMSSx",
        "outputId": "2e51a84a-7073-4045-ee90-acb037b9e8fc"
      },
      "execution_count": 156,
      "outputs": [
        {
          "output_type": "display_data",
          "data": {
            "text/plain": [
              "<Figure size 864x864 with 16 Axes>"
            ],
            "image/png": "[encoded data removed]"
          },
          "metadata": {
            "needs_background": "light"
          }
        }
      ]
    },
    {
      "cell_type": "code",
      "source": [
        "class NeuralNet(nn.Module):\n",
        "    def __init__(self):\n",
        "        super(NeuralNet, self).__init__()\n",
        "        \n",
        "        self.conv1 = nn.Conv2d(1, 6, 3)\n",
        "        self.conv2 = nn.Conv2d(6, 16, 3)\n",
        "        self.fc1 = nn.Linear(16*5*5, 120)\n",
        "        self.fc2 = nn.Linear(120, 84)\n",
        "        self.fc3 = nn.Linear(84, 10)\n",
        "\n",
        "    def forward(self, x):\n",
        "        x = F.max_pool2d(F.relu(self.conv1(x)), (2, 2))\n",
        "        x = F.max_pool2d(F.relu(self.conv2(x)), 2)\n",
        "        x = x.view(-1, self.num_flat_features(x))\n",
        "        x = F.relu(self.fc1(x))\n",
        "        x = F.relu(self.fc2(x))\n",
        "        x = self.fc3(x)\n",
        "        return x\n",
        "\n",
        "    def num_flat_features(self,x):\n",
        "        size = x.size()[1:]\n",
        "        num_features=1\n",
        "        for s in size:\n",
        "            num_features *= s\n",
        "        return num_features\n",
        "\n",
        "net = NeuralNet()\n",
        "print(net)"
      ],
      "metadata": {
        "colab": {
          "base_uri": "https://localhost:8080/"
        },
        "id": "4zAczz-JMT3c",
        "outputId": "aeee07b2-bdb9-430d-86c4-6516b5580b0e"
      },
      "execution_count": 157,
      "outputs": [
        {
          "output_type": "stream",
          "name": "stdout",
          "text": [
            "NeuralNet(\n",
            "  (conv1): Conv2d(1, 6, kernel_size=(3, 3), stride=(1, 1))\n",
            "  (conv2): Conv2d(6, 16, kernel_size=(3, 3), stride=(1, 1))\n",
            "  (fc1): Linear(in_features=400, out_features=120, bias=True)\n",
            "  (fc2): Linear(in_features=120, out_features=84, bias=True)\n",
            "  (fc3): Linear(in_features=84, out_features=10, bias=True)\n",
            ")\n"
          ]
        }
      ]
    },
    {
      "cell_type": "code",
      "source": [
        "params = list(net.parameters())\n",
        "print(len(params))\n",
        "print(params[0].size())"
      ],
      "metadata": {
        "colab": {
          "base_uri": "https://localhost:8080/"
        },
        "id": "PW9RnpojOBI0",
        "outputId": "fdfa0e3e-7823-4984-e56a-bfd9572a3e85"
      },
      "execution_count": 158,
      "outputs": [
        {
          "output_type": "stream",
          "name": "stdout",
          "text": [
            "10\n",
            "torch.Size([6, 1, 3, 3])\n"
          ]
        }
      ]
    },
    {
      "cell_type": "code",
      "source": [
        "input = torch.randn(1, 1, 28, 28)\n",
        "out = net(input)\n",
        "print(out)"
      ],
      "metadata": {
        "colab": {
          "base_uri": "https://localhost:8080/"
        },
        "id": "aLXZG96VOHws",
        "outputId": "863c0a3d-9e84-42d1-ea12-6e64404e4e17"
      },
      "execution_count": 159,
      "outputs": [
        {
          "output_type": "stream",
          "name": "stdout",
          "text": [
            "tensor([[-0.1314,  0.0029,  0.0582, -0.0371, -0.0884,  0.0517,  0.0186,  0.0327,\n",
            "         -0.0333, -0.0893]], grad_fn=<AddmmBackward0>)\n"
          ]
        }
      ]
    },
    {
      "cell_type": "code",
      "source": [
        "criterion = nn.CrossEntropyLoss()\n",
        "optimizer = optim.SGD(net.parameters(), lr=0.001, momentum=0.9)"
      ],
      "metadata": {
        "id": "_l-MAz2QOL9t"
      },
      "execution_count": 160,
      "outputs": []
    },
    {
      "cell_type": "code",
      "source": [
        "total_batch = len(train_loader)\n",
        "print(total_batch)"
      ],
      "metadata": {
        "colab": {
          "base_uri": "https://localhost:8080/"
        },
        "id": "dW4ouDosOezI",
        "outputId": "0805e379-9459-4e14-847e-39164676e230"
      },
      "execution_count": 161,
      "outputs": [
        {
          "output_type": "stream",
          "name": "stdout",
          "text": [
            "469\n"
          ]
        }
      ]
    },
    {
      "cell_type": "code",
      "source": [
        "for epoch in range(10):\n",
        "\n",
        "    running_loss = 0.0\n",
        "\n",
        "    for i, data in enumerate(train_loader):\n",
        "        inputs, labels = data\n",
        "\n",
        "        optimizer.zero_grad()\n",
        "\n",
        "        outputs = net(inputs)\n",
        "        loss = criterion(outputs, labels)\n",
        "        loss.backward()\n",
        "\n",
        "        optimizer.step()\n",
        "\n",
        "        running_loss += loss.item()\n",
        "\n",
        "        if i % 100 == 99 :\n",
        "            print('Epoch: {}, iter: {}, Loss: {}'.format(epoch+1, i+1, running_loss/2000))\n",
        "            running_loss = 0.0"
      ],
      "metadata": {
        "colab": {
          "base_uri": "https://localhost:8080/"
        },
        "id": "LLTSEZneOivj",
        "outputId": "fc5b9f64-f9c5-4d92-c015-6c05c27aa3a2"
      },
      "execution_count": 162,
      "outputs": [
        {
          "output_type": "stream",
          "name": "stdout",
          "text": [
            "Epoch: 1, iter: 100, Loss: 0.11496016693115234\n",
            "Epoch: 1, iter: 200, Loss: 0.1142671365737915\n",
            "Epoch: 1, iter: 300, Loss: 0.11323138737678527\n",
            "Epoch: 1, iter: 400, Loss: 0.11053645801544189\n",
            "Epoch: 2, iter: 100, Loss: 0.08184862458705902\n",
            "Epoch: 2, iter: 200, Loss: 0.05326987683773041\n",
            "Epoch: 2, iter: 300, Loss: 0.04272576215863228\n",
            "Epoch: 2, iter: 400, Loss: 0.03881329444050789\n",
            "Epoch: 3, iter: 100, Loss: 0.034447748154401776\n",
            "Epoch: 3, iter: 200, Loss: 0.034125894293189046\n",
            "Epoch: 3, iter: 300, Loss: 0.03316303415596485\n",
            "Epoch: 3, iter: 400, Loss: 0.03219652181863785\n",
            "Epoch: 4, iter: 100, Loss: 0.03043183434009552\n",
            "Epoch: 4, iter: 200, Loss: 0.030575245320796966\n",
            "Epoch: 4, iter: 300, Loss: 0.029575518652796746\n",
            "Epoch: 4, iter: 400, Loss: 0.029287735104560852\n",
            "Epoch: 5, iter: 100, Loss: 0.028898251980543136\n",
            "Epoch: 5, iter: 200, Loss: 0.028199090152978896\n",
            "Epoch: 5, iter: 300, Loss: 0.027432025983929634\n",
            "Epoch: 5, iter: 400, Loss: 0.02765471662580967\n",
            "Epoch: 6, iter: 100, Loss: 0.02722943465411663\n",
            "Epoch: 6, iter: 200, Loss: 0.0270000422000885\n",
            "Epoch: 6, iter: 300, Loss: 0.02606714291870594\n",
            "Epoch: 6, iter: 400, Loss: 0.02615506775677204\n",
            "Epoch: 7, iter: 100, Loss: 0.025831828504800796\n",
            "Epoch: 7, iter: 200, Loss: 0.024943703934550285\n",
            "Epoch: 7, iter: 300, Loss: 0.02557347500324249\n",
            "Epoch: 7, iter: 400, Loss: 0.02457303361594677\n",
            "Epoch: 8, iter: 100, Loss: 0.024584381014108658\n",
            "Epoch: 8, iter: 200, Loss: 0.024677421286702157\n",
            "Epoch: 8, iter: 300, Loss: 0.024211149603128434\n",
            "Epoch: 8, iter: 400, Loss: 0.02354133941233158\n",
            "Epoch: 9, iter: 100, Loss: 0.023138514459133147\n",
            "Epoch: 9, iter: 200, Loss: 0.02340380197763443\n",
            "Epoch: 9, iter: 300, Loss: 0.022899937957525252\n",
            "Epoch: 9, iter: 400, Loss: 0.02348498249053955\n",
            "Epoch: 10, iter: 100, Loss: 0.02298369236290455\n",
            "Epoch: 10, iter: 200, Loss: 0.022369064927101136\n",
            "Epoch: 10, iter: 300, Loss: 0.023032754987478258\n",
            "Epoch: 10, iter: 400, Loss: 0.021563257798552515\n"
          ]
        }
      ]
    },
    {
      "cell_type": "code",
      "source": [
        ""
      ],
      "metadata": {
        "id": "lDgq1ayePDVk"
      },
      "execution_count": null,
      "outputs": []
    }
  ]
}